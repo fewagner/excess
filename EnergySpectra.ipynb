{
 "cells": [
  {
   "cell_type": "markdown",
   "metadata": {},
   "source": [
    "****\n",
    "# Excess Workshop Data Visualization\n",
    "****"
   ]
  },
  {
   "cell_type": "markdown",
   "metadata": {},
   "source": [
    "*Please forward correspondence regarding this notebook and repository to: felix.wagner@oeaw.ac.at, margarita.kaznacheeva@tum.de*"
   ]
  },
  {
   "cell_type": "markdown",
   "metadata": {},
   "source": [
    "In this notebook, we visualize data that was provided by a set of rare event search collaborations for the EXCESS workshop.\n"
   ]
  },
  {
   "cell_type": "markdown",
   "metadata": {},
   "source": [
    "## Introduction"
   ]
  },
  {
   "cell_type": "markdown",
   "metadata": {},
   "source": [
    "Multiple rare event search experiments observe an exponentially rising count rate at low energies. This phenomenon is yet unexplained and the comparision, description and discussion of the experimental observations is the objective of the EXCESS workshop (https://indico.cern.ch/event/1013203/). The following collaborations have provided data for the workshop and/or are represented within the advisory board (alphabetical list):  \n",
    "\n",
    "CONNIE/Skipper-CCD  \n",
    "CRESST  \n",
    "DAMIC  \n",
    "EDELWEISS  \n",
    "MINER  \n",
    "NEWS-G  \n",
    "NUCLEUS  \n",
    "PhyStat-DM  \n",
    "RICOCHET  \n",
    "SENSEI  \n",
    "SuperCDMS  \n",
    "\n",
    "For futher information, please find the workshops presentations attached to the time table and a compact summary in the top level directory of the data repository."
   ]
  },
  {
   "cell_type": "markdown",
   "metadata": {},
   "source": [
    "In this notebook, we will import the provided data and plot an interactive histogram. For this, we use only standard Python 3 libraries. In case you have not installed all libraries or run this notebook in Docker, the following cell will do the installation."
   ]
  },
  {
   "cell_type": "code",
   "execution_count": null,
   "metadata": {
    "ExecuteTime": {
     "end_time": "2021-06-15T14:28:47.790363Z",
     "start_time": "2021-06-15T14:28:45.534104Z"
    }
   },
   "outputs": [],
   "source": [
    "!pip install numpy matplotlib ipywidgets"
   ]
  },
  {
   "cell_type": "markdown",
   "metadata": {},
   "source": [
    "Now we import all libraries and with that are ready for the the data import."
   ]
  },
  {
   "cell_type": "code",
   "execution_count": null,
   "metadata": {
    "ExecuteTime": {
     "end_time": "2021-06-15T14:28:48.376934Z",
     "start_time": "2021-06-15T14:28:47.796105Z"
    }
   },
   "outputs": [],
   "source": [
    "import numpy as np\n",
    "import matplotlib.pyplot as plt\n",
    "import matplotlib as mpl\n",
    "import ipywidgets as widgets\n",
    "from ipywidgets import interact\n",
    "%config InlineBackend.figure_formats = ['svg']  # this is needed for the plots in a jupyter notebook"
   ]
  },
  {
   "cell_type": "markdown",
   "metadata": {},
   "source": [
    "## Import Data"
   ]
  },
  {
   "cell_type": "markdown",
   "metadata": {},
   "source": [
    "First we need to define the paths to the data and the names of the experiments. All four lists (path, path for the efficiency curve, path for the exposure and a name) have to have the same length. The order of the experiments has to be the same in all four lists. There are individual lists for the experiments with unbinned and binned data.\n",
    "\n",
    "The unbinned data files are *.txt files containing unbinned energy values in keV, seperated by linebreaks.\n",
    "\n",
    "The binned data files are *.txt files containing binned energy values in keV, seperated by linebreaks:\n",
    "\n",
    "    first_energy_left_bin_edge       first_energy_right_bin_edge       counts_in_first_bin\n",
    "    second_energy_left_bin_edge      second_energy_right_bin_edge      counts_in_second_bin\n",
    "    ...\n",
    "\n",
    "The efficiency files are *.txt files with the binned, energy dependent survival probability values in the format:\n",
    "\n",
    "    first_energy_bin_center       first_survival_probability\n",
    "    second_energy_bin_center      second_survival_probability\n",
    "    ...\n",
    "\n",
    "The exposure files can have one of two formats: They can either contain just one value, in case the exposure is energy-independent. Otherwise, they can have the same binned format as the efficiency files:\n",
    "\n",
    "    first_energy_bin_center       exposure\n",
    "    second_energy_bin_center      exposure\n",
    "    ...\n",
    "    \n",
    "In case you use a binned, energy-dependent expose, the data files also have to be binned, with the same bin edges."
   ]
  },
  {
   "cell_type": "code",
   "execution_count": null,
   "metadata": {
    "ExecuteTime": {
     "end_time": "2021-06-16T10:59:25.793961Z",
     "start_time": "2021-06-16T10:59:25.785667Z"
    }
   },
   "outputs": [],
   "source": [
    "paths_data_unbinned = [\n",
    "    'data/converted_data/Nucleus/Nucleus_all.txt',\n",
    "    'data/converted_data/SuperCDMS/CPD/CPD.txt',\n",
    "    'data/converted_data/CRESST/CRESST.txt',\n",
    "    'data/converted_data/DAMIC/DAMIC.txt',\n",
    "]\n",
    "paths_efficiencies_unbinned = [\n",
    "    'data/converted_data/Nucleus/Nucleus_all_eff.txt',\n",
    "    'data/converted_data/SuperCDMS/CPD/CPD_eff.txt',\n",
    "    'data/converted_data/CRESST/CRESST_eff.txt',\n",
    "    'data/converted_data/DAMIC/DAMIC_eff.txt',\n",
    "]\n",
    "paths_exposures_unbinned = [\n",
    "    'data/converted_data/Nucleus/Nucleus_all_exposure.txt',\n",
    "    'data/converted_data/SuperCDMS/CPD/CPD_exposure.txt',\n",
    "    'data/converted_data/CRESST/CRESST_exposure.txt',\n",
    "    'data/converted_data/DAMIC/DAMIC_exposure.txt',\n",
    "]\n",
    "names_unbinned = [\n",
    "    'Nucleus',\n",
    "    'SuperCDMS-CPD',\n",
    "    'CRESST-III',\n",
    "    'DAMIC',\n",
    "]\n",
    "\n",
    "paths_data_binned = [\n",
    "    'data/converted_data/Edelweiss/RED20.txt',\n",
    "    'data/converted_data/Edelweiss/RED30.txt',\n",
    "    'data/converted_data/SENSEI/SENSEI.txt',\n",
    "    'data/converted_data/DAMIC/DAMIC_nobck.txt',\n",
    "]\n",
    "paths_efficiencies_binned = [\n",
    "    'data/converted_data/Edelweiss/RED20_eff.txt',\n",
    "    'data/converted_data/Edelweiss/RED30_eff.txt',\n",
    "    'data/converted_data/SENSEI/SENSEI_eff.txt',\n",
    "    'data/converted_data/DAMIC/DAMIC_eff.txt',\n",
    "]\n",
    "paths_exposures_binned = [\n",
    "    'data/converted_data/Edelweiss/RED20_exposure.txt',\n",
    "    'data/converted_data/Edelweiss/RED30_exposure.txt',\n",
    "    'data/converted_data/SENSEI/SENSEI_exposure.txt',\n",
    "    'data/converted_data/DAMIC/DAMIC_exposure.txt',\n",
    "]\n",
    "names_binned = [\n",
    "    'Edelweiss-RED20',\n",
    "    'Edelweiss-RED30',\n",
    "    'SENSEI',\n",
    "    'DAMIC_bck_subtracted',\n",
    "]\n",
    "\n",
    "assert len(paths_data_unbinned) == len(paths_efficiencies_unbinned) == len(paths_exposures_unbinned) == len(names_unbinned), \"Please put for each data path a corresponding efficiency and exposure path and name of the experiment (unbinned data)!\"\n",
    "assert len(paths_data_binned) == len(paths_efficiencies_binned) == len(paths_exposures_binned) == len(names_binned), \"Please put for each data path a corresponding efficiency and exposure path and name of the experiment (binned data)!\""
   ]
  },
  {
   "cell_type": "markdown",
   "metadata": {},
   "source": [
    "The following cell imports the energy values, efficiency curves and exposures."
   ]
  },
  {
   "cell_type": "code",
   "execution_count": null,
   "metadata": {
    "ExecuteTime": {
     "end_time": "2021-06-16T10:59:27.113968Z",
     "start_time": "2021-06-16T10:59:26.655940Z"
    }
   },
   "outputs": [],
   "source": [
    "data = {n: np.loadtxt(p) for n, p in zip(names_unbinned, paths_data_unbinned)}\n",
    "efficiencies = {n: np.loadtxt(p) for n, p in zip(names_unbinned, paths_efficiencies_unbinned)}\n",
    "exposures = {n: np.loadtxt(p) for n, p in zip(names_unbinned, paths_exposures_unbinned)}\n",
    "\n",
    "for n, p, eff, exp in zip(names_binned, paths_data_binned, paths_efficiencies_binned, paths_exposures_binned):\n",
    "    data[n] = np.loadtxt(p)\n",
    "    efficiencies[n] = np.loadtxt(eff)\n",
    "    exposures[n] = np.loadtxt(exp)\n",
    "    if len(exposures[n].shape) > 0:\n",
    "        exposures[n] = exposures[n][:,1]"
   ]
  },
  {
   "cell_type": "markdown",
   "metadata": {},
   "source": [
    "With the data imported, we can proceed with the plot."
   ]
  },
  {
   "cell_type": "markdown",
   "metadata": {},
   "source": [
    "## Interactive Histogram"
   ]
  },
  {
   "cell_type": "markdown",
   "metadata": {},
   "source": [
    "For comparing the signals, we use an interactive histogram. We need to define the interactive control widgets for the plotting function first. Default values, ranges and options can be adapted in the kwargs dictionary below, if needed."
   ]
  },
  {
   "cell_type": "code",
   "execution_count": null,
   "metadata": {
    "ExecuteTime": {
     "end_time": "2021-06-16T10:59:28.585912Z",
     "start_time": "2021-06-16T10:59:28.375994Z"
    }
   },
   "outputs": [],
   "source": [
    "style = {'description_width': 'initial'}\n",
    "\n",
    "kwargs = {'bins': widgets.IntSlider(value=100,min=50,max=500, style=style),\n",
    "          'x_range': widgets.FloatRangeSlider(value=[0,1],min=0,max=15, style=style),\n",
    "          'y_range': widgets.FloatRangeSlider(value=[5e-1,1e11],min=1e-3,max=1e12, style=style),\n",
    "          'auto_y': widgets.Checkbox(value=True, description='Automatic y-axis scaling', style=style),\n",
    "          'scale_drop': widgets.Dropdown(options=['linear', 'log'], value='log', description='Scale: ', style=style),\n",
    "          'check_eff': widgets.Checkbox(value=True, description='Correct Efficiency', style=style),\n",
    "          'grid': widgets.Checkbox(value=True, description='Grid', style=style),\n",
    "          'figsize': widgets.FloatSlider(value=5,min=1.5,max=8, style=style),\n",
    "          'fontsize': widgets.FloatSlider(value=14,min=7,max=22, style=style),\n",
    "          'linew': widgets.FloatSlider(value=2,min=1,max=3, style=style),\n",
    "          'alpha': widgets.FloatSlider(value=1,min=0,max=1, style=style),\n",
    "         }\n",
    "for name in names_unbinned:\n",
    "    kwargs['check_' + name] = widgets.Checkbox(value=True, description='Plot ' + name, style=style)\n",
    "    kwargs['shift_' + name] = widgets.FloatSlider(value=0,min=-20,max=20, style=style)\n",
    "    kwargs['scale_' + name] = widgets.FloatLogSlider(value=1,min=-10,max=10, style=style)\n",
    "    kwargs['offset_' + name] = widgets.FloatSlider(value=0,min=-1000,max=1000, style=style)\n",
    "for name in names_binned:\n",
    "    kwargs['check_' + name] = widgets.Checkbox(value=True, description='Plot ' + name, style=style)\n",
    "    kwargs['shift_' + name] = widgets.IntSlider(value=0,min=-200,max=200, style=style)\n",
    "    kwargs['scale_' + name] = widgets.FloatLogSlider(value=1,min=-10,max=10, style=style)\n",
    "    kwargs['offset_' + name] = widgets.FloatLogSlider(value=0,min=-4,max=4, style=style)\n",
    "    \n",
    "kwargs_static = {key: kwargs[key].value for key in list(kwargs.keys())}"
   ]
  },
  {
   "cell_type": "markdown",
   "metadata": {},
   "source": [
    "The energy spectra of all measurements are plotted into a common histogram, the plot function is defined here. "
   ]
  },
  {
   "cell_type": "code",
   "execution_count": null,
   "metadata": {
    "ExecuteTime": {
     "end_time": "2021-06-16T10:59:29.215521Z",
     "start_time": "2021-06-16T10:59:29.193669Z"
    }
   },
   "outputs": [],
   "source": [
    "def plot_energy_spectra(bins=100, \n",
    "             x_range=(0,1), \n",
    "             y_range=(5e-1, 1e11), \n",
    "             auto_y=True,\n",
    "             scale_drop='log',\n",
    "             check_eff=True,\n",
    "             grid=True,\n",
    "             figsize=5,\n",
    "             fontsize=14,\n",
    "             linew=1.5,\n",
    "             alpha=1,\n",
    "             **kwargs,\n",
    "            ):\n",
    "    \n",
    "    x_size = figsize*16/9\n",
    "    y_size = figsize\n",
    "    \n",
    "    mpl.rcParams['xtick.labelsize'] = fontsize\n",
    "    mpl.rcParams['ytick.labelsize'] = fontsize\n",
    "    mpl.rcParams['font.size'] = fontsize\n",
    "    mpl.rcParams['figure.figsize'] = (x_size, y_size)\n",
    "    mpl.rcParams['axes.titlesize'] = fontsize\n",
    "    mpl.rcParams['axes.labelsize'] = fontsize\n",
    "    mpl.rcParams['lines.linewidth'] = linew\n",
    "    mpl.rcParams['lines.markersize'] = 6\n",
    "    mpl.rcParams['legend.fontsize'] = fontsize\n",
    "    mpl.rcParams['mathtext.fontset'] = 'stix'\n",
    "    mpl.rcParams['font.family'] = 'STIXGeneral'\n",
    "    \n",
    "    bin_width = (x_range[1] - x_range[0])/bins \n",
    "    print('Bin width: {} eV'.format(bin_width*1000))\n",
    "\n",
    "    for i, n in enumerate(names_unbinned):\n",
    "        if kwargs['check_' + n]:\n",
    "            energy_data = data[n] + kwargs['shift_' + n]\n",
    "            counts, bin_edges = np.histogram(energy_data, bins, range=x_range)\n",
    "            if check_eff:\n",
    "                eff = np.interp(bin_edges[:-1], efficiencies[n][:,0], efficiencies[n][:,1])\n",
    "                counts = counts / eff\n",
    "                counts[eff < 1e-4] = 0\n",
    "            weights = kwargs['scale_' + n]*counts/exposures[n] + kwargs['offset_' + n]\n",
    "            weights[weights < 0] = 0\n",
    "            weights = weights / bin_width  # convert to keV kg days\n",
    "            plt.hist(bin_edges[:-1], bin_edges, weights=weights, histtype='step', label=n, color='C'+str(i), linewidth=linew, alpha=alpha)\n",
    "\n",
    "    for i, n in enumerate(names_binned):\n",
    "        if kwargs['check_' + n]:\n",
    "            counts = data[n][:, 2]\n",
    "            bin_edges = np.concatenate((data[n][:, 0], [data[n][-1, 1]]))\n",
    "            counts = np.pad(counts, (0, np.abs(kwargs['shift_' + n])), 'constant', constant_values=(0, 0))\n",
    "            counts = np.roll(counts, kwargs['shift_' + n])\n",
    "            counts = counts[:len(bin_edges) - 1]\n",
    "            if check_eff:\n",
    "                eff = np.interp(bin_edges[:-1], efficiencies[n][:,0], efficiencies[n][:,1])\n",
    "                counts = counts / eff\n",
    "                counts[eff < 1e-4] = 0\n",
    "            weights = kwargs['scale_' + n]*counts/exposures[n] + kwargs['offset_' + n]\n",
    "            weights[weights < 0] = 0\n",
    "            plt.hist(bin_edges[:-1], bin_edges, weights=weights, histtype='step', label=n, color='C'+str(i + len(names_unbinned)), linewidth=linew, alpha=alpha)\n",
    "            \n",
    "    if grid:\n",
    "        plt.grid(b=True, which='major', color='gray', alpha=0.6, linestyle='dashdot', lw=1.5)\n",
    "        plt.minorticks_on()\n",
    "        plt.grid(b=True, which='minor', color='beige', alpha=0.8, ls='-', lw=1)\n",
    "    plt.xlabel('Energy (keV)')\n",
    "    plt.ylabel(f'Counts / (keV kg days)')\n",
    "    plt.legend(bbox_to_anchor=(1, 0.7))\n",
    "    plt.xlim(x_range)\n",
    "    if not auto_y:\n",
    "        plt.ylim(y_range)\n",
    "    plt.yscale(scale_drop)\n",
    "    plt.show()"
   ]
  },
  {
   "cell_type": "markdown",
   "metadata": {},
   "source": [
    "For comparing the data in a meaningful way, we list here which experiments measure total energy and which measure electron equivalents. \n",
    "\n",
    "    CRESST-III: Total energy deposition.   \n",
    "    Nucleus: Total energy deposition.  \n",
    "    DAMIC: Electron equivalent energy.  \n",
    "    SuperCDMS-CPD: Total energy deposition.  \n",
    "    Edelweiss-RED20: Total energy deposition.  \n",
    "    Edelweiss-RED30: Total energy deposition, converted from electron equivalent.  \n",
    "    SENSEI: Electron equivalent energy, converted from electron-hole pairs.    \n",
    "\n",
    "We start now with a static plot of the low energy excess region, which can be seen on GitHub directly. "
   ]
  },
  {
   "cell_type": "code",
   "execution_count": null,
   "metadata": {
    "ExecuteTime": {
     "end_time": "2021-06-16T10:59:30.578831Z",
     "start_time": "2021-06-16T10:59:30.197250Z"
    }
   },
   "outputs": [],
   "source": [
    "plot_energy_spectra(**kwargs_static)"
   ]
  },
  {
   "cell_type": "markdown",
   "metadata": {},
   "source": [
    "For better visibility, we also do an interactive plot. Adaptable parameters of the plot are the number of bins, the energy range, the scaling, the efficiency correction, as well as the figure and font size, linewidth and grid. The signal of each experiment can be scaled, shifted and offset w.r.t. the other signals, to account for different backgrounds and shieldings."
   ]
  },
  {
   "cell_type": "code",
   "execution_count": null,
   "metadata": {
    "ExecuteTime": {
     "end_time": "2021-06-16T10:59:49.004580Z",
     "start_time": "2021-06-16T10:59:48.554978Z"
    },
    "scrolled": false
   },
   "outputs": [],
   "source": [
    "_ = interact(plot_energy_spectra, **kwargs)"
   ]
  },
  {
   "cell_type": "markdown",
   "metadata": {},
   "source": [
    "## Open Data Access"
   ]
  },
  {
   "cell_type": "markdown",
   "metadata": {},
   "source": [
    "In the GitHub data repository of the EXCESS workshop (github.com/fewagner/excess), the folder `data/` contains all data provided by the collaborations. The original data is in the directories `data/original_data/<EXPERIMENT_NAME>/`, while a preprocessed and uniformly formatted version is in the directories `data/converted_data/<EXPERIMENT_NAME>`.\n",
    "\n",
    "The data is subject to the CC BY 4.0 license (https://creativecommons.org/licenses/by/4.0/). If you want to use the here available data in your own work, please reference the corresponding or a suitable publication of the data providing collaboration, as they are listed in the references of this notebook.\n",
    "\n",
    "This notebook and the code contained in the GitHub repository is subject to the MIT license (https://choosealicense.com/licenses/mit/). If you want to reference the EXCESS workshop or this notebook and repository explicitely, please cite: \n",
    "\n",
    "    @misc{excess_workshop_2021,\n",
    "        author       = {EXCESS Workshop},\n",
    "        title        = {{Data Repository}},\n",
    "        month        = june,\n",
    "        year         = 2021,\n",
    "        url          = {https://github.com/fewagner/excess}\n",
    "        urldate = {2021-06-16}\n",
    "        }"
   ]
  },
  {
   "cell_type": "markdown",
   "metadata": {},
   "source": [
    "## References"
   ]
  },
  {
   "cell_type": "markdown",
   "metadata": {},
   "source": [
    "TODO: add one reference to each collaboration or a paper"
   ]
  }
 ],
 "metadata": {
  "kernelspec": {
   "display_name": "Python 3",
   "language": "python",
   "name": "python3"
  },
  "language_info": {
   "codemirror_mode": {
    "name": "ipython",
    "version": 3
   },
   "file_extension": ".py",
   "mimetype": "text/x-python",
   "name": "python",
   "nbconvert_exporter": "python",
   "pygments_lexer": "ipython3",
   "version": "3.8.6"
  },
  "varInspector": {
   "cols": {
    "lenName": 16,
    "lenType": 16,
    "lenVar": 40
   },
   "kernels_config": {
    "python": {
     "delete_cmd_postfix": "",
     "delete_cmd_prefix": "del ",
     "library": "var_list.py",
     "varRefreshCmd": "print(var_dic_list())"
    },
    "r": {
     "delete_cmd_postfix": ") ",
     "delete_cmd_prefix": "rm(",
     "library": "var_list.r",
     "varRefreshCmd": "cat(var_dic_list()) "
    }
   },
   "types_to_exclude": [
    "module",
    "function",
    "builtin_function_or_method",
    "instance",
    "_Feature"
   ],
   "window_display": false
  }
 },
 "nbformat": 4,
 "nbformat_minor": 4
}
