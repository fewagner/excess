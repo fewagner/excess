{
 "cells": [
  {
   "cell_type": "markdown",
   "metadata": {},
   "source": [
    "****\n",
    "# Excess Workshop Data Visualization\n",
    "****"
   ]
  },
  {
   "cell_type": "markdown",
   "metadata": {},
   "source": [
    "Contact Information"
   ]
  },
  {
   "cell_type": "markdown",
   "metadata": {},
   "source": [
    "... Abstract ..."
   ]
  },
  {
   "cell_type": "markdown",
   "metadata": {},
   "source": [
    "## Introduction"
   ]
  },
  {
   "cell_type": "markdown",
   "metadata": {},
   "source": [
    "... introduction about the excess workshop ..."
   ]
  },
  {
   "cell_type": "markdown",
   "metadata": {},
   "source": [
    "In case you have not installed all libraries, the following cell will do the installation."
   ]
  },
  {
   "cell_type": "code",
   "execution_count": 1,
   "metadata": {
    "ExecuteTime": {
     "end_time": "2021-06-09T07:59:14.282721Z",
     "start_time": "2021-06-09T07:59:14.279947Z"
    }
   },
   "outputs": [],
   "source": [
    "!pip install numpy matplotlib ipywidgets"
   ]
  },
  {
   "cell_type": "markdown",
   "metadata": {},
   "source": [
    "Import all libraries."
   ]
  },
  {
   "cell_type": "code",
   "execution_count": 2,
   "metadata": {
    "ExecuteTime": {
     "end_time": "2021-06-09T07:59:14.702161Z",
     "start_time": "2021-06-09T07:59:14.292095Z"
    }
   },
   "outputs": [],
   "source": [
    "import numpy as np\n",
    "import matplotlib.pyplot as plt\n",
    "import ipywidgets as widgets\n",
    "from ipywidgets import interact\n",
    "%config InlineBackend.figure_formats = ['svg']"
   ]
  },
  {
   "cell_type": "markdown",
   "metadata": {},
   "source": [
    "## Import Data"
   ]
  },
  {
   "cell_type": "code",
   "execution_count": 3,
   "metadata": {
    "ExecuteTime": {
     "end_time": "2021-06-09T07:59:14.727379Z",
     "start_time": "2021-06-09T07:59:14.704673Z"
    }
   },
   "outputs": [],
   "source": [
    "# generate test data\n",
    "\n",
    "exp_A = np.concatenate((np.random.exponential(scale=1, size=100000), \n",
    "                        np.random.normal(loc=5,scale=0.2, size=100000)))\n",
    "exp_B = np.concatenate((np.random.exponential(scale=0.5, size=50000), \n",
    "                        np.random.uniform(low=0,high=15, size=20000)))\n",
    "exp_C = np.concatenate((np.random.exponential(scale=2, size=150000), \n",
    "                        np.random.normal(loc=10,scale=2, size=150000)))"
   ]
  },
  {
   "cell_type": "markdown",
   "metadata": {},
   "source": [
    "## Plot"
   ]
  },
  {
   "cell_type": "code",
   "execution_count": 4,
   "metadata": {
    "ExecuteTime": {
     "end_time": "2021-06-09T07:59:14.733750Z",
     "start_time": "2021-06-09T07:59:14.731070Z"
    }
   },
   "outputs": [],
   "source": [
    "# exposure in kg days\n",
    "\n",
    "exposure_A = 1\n",
    "exposure_B = 0.2\n",
    "exposure_C = 15"
   ]
  },
  {
   "cell_type": "code",
   "execution_count": 5,
   "metadata": {
    "ExecuteTime": {
     "end_time": "2021-06-09T07:59:15.005398Z",
     "start_time": "2021-06-09T07:59:14.737493Z"
    }
   },
   "outputs": [
    {
     "data": {
      "application/vnd.jupyter.widget-view+json": {
       "model_id": "9b356e0aa972417eacb2e329b8cad3b2",
       "version_major": 2,
       "version_minor": 0
      },
      "text/plain": [
       "interactive(children=(IntSlider(value=500, description='bins', max=2000, min=20), FloatRangeSlider(value=(0.0,…"
      ]
     },
     "metadata": {},
     "output_type": "display_data"
    }
   ],
   "source": [
    "# the interactive plotting function\n",
    "\n",
    "@interact(bins = widgets.IntSlider(value=500,min=20,max=2000),\n",
    "          x_range = widgets.FloatRangeSlider(value=[0,20],min=0,max=20),\n",
    "          y_max = widgets.FloatLogSlider(value=10000,min=-1,max=5),\n",
    "          check_A = widgets.Checkbox(value=True, description='Plot Experiment A'),\n",
    "          check_B = widgets.Checkbox(value=True, description='Plot Experiment B'),\n",
    "          check_C = widgets.Checkbox(value=True, description='Plot Experiment C'),\n",
    "          scale_drop = widgets.Dropdown(options=['linear', 'log'], value='linear', description='Scale: ',),\n",
    "         )\n",
    "def plot_all(bins, \n",
    "             x_range, \n",
    "             y_max, \n",
    "             check_A, \n",
    "             check_B, \n",
    "             check_C, \n",
    "             scale_drop,\n",
    "            ):\n",
    "\n",
    "    # make histograms\n",
    "\n",
    "    hist_A, bins_A = np.histogram(exp_A, bins, range=x_range)\n",
    "    hist_B, bins_B = np.histogram(exp_B, bins, range=x_range)\n",
    "    hist_C, bins_C = np.histogram(exp_C, bins, range=x_range)\n",
    "\n",
    "    # plot - comment the lines of experiments to not show them\n",
    "\n",
    "    if check_A:\n",
    "        plt.hist(bins_A[:-1], bins_A, weights=hist_A/exposure_A, histtype='step', label='Experiment A', color='C0')\n",
    "    if check_B:\n",
    "        plt.hist(bins_B[:-1], bins_B, weights=hist_B/exposure_B, histtype='step', label='Experiment B', color='C1')\n",
    "    if check_C:\n",
    "        plt.hist(bins_C[:-1], bins_C, weights=hist_C/exposure_C, histtype='step', label='Experiment C', color='C2')\n",
    "    plt.xlabel('Energy (keV)')\n",
    "    plt.ylabel(f'Counts / ({1000*(x_range[1] - x_range[0])/bins:.1f} eV kg days)')\n",
    "    plt.legend()\n",
    "    plt.xlim(x_range)\n",
    "    plt.ylim((0.5, y_max))\n",
    "    plt.yscale(scale_drop)\n",
    "    plt.show()"
   ]
  },
  {
   "cell_type": "markdown",
   "metadata": {},
   "source": [
    "## Download Data"
   ]
  },
  {
   "cell_type": "markdown",
   "metadata": {},
   "source": [
    "Coming soon..."
   ]
  }
 ],
 "metadata": {
  "kernelspec": {
   "display_name": "Python 3",
   "language": "python",
   "name": "python3"
  },
  "language_info": {
   "codemirror_mode": {
    "name": "ipython",
    "version": 3
   },
   "file_extension": ".py",
   "mimetype": "text/x-python",
   "name": "python",
   "nbconvert_exporter": "python",
   "pygments_lexer": "ipython3",
   "version": "3.8.6"
  },
  "varInspector": {
   "cols": {
    "lenName": 16,
    "lenType": 16,
    "lenVar": 40
   },
   "kernels_config": {
    "python": {
     "delete_cmd_postfix": "",
     "delete_cmd_prefix": "del ",
     "library": "var_list.py",
     "varRefreshCmd": "print(var_dic_list())"
    },
    "r": {
     "delete_cmd_postfix": ") ",
     "delete_cmd_prefix": "rm(",
     "library": "var_list.r",
     "varRefreshCmd": "cat(var_dic_list()) "
    }
   },
   "types_to_exclude": [
    "module",
    "function",
    "builtin_function_or_method",
    "instance",
    "_Feature"
   ],
   "window_display": false
  },
  "widgets": {
   "application/vnd.jupyter.widget-state+json": {
    "state": {
     "0a183b0a523b49ee97e18fa89b673a18": {
      "model_module": "@jupyter-widgets/controls",
      "model_module_version": "1.5.0",
      "model_name": "FloatRangeSliderModel",
      "state": {
       "_model_name": "FloatRangeSliderModel",
       "_view_name": "FloatRangeSliderView",
       "description": "x_range",
       "layout": "IPY_MODEL_10f7f3d4c1aa46a1a0fea37742e20253",
       "max": 20,
       "step": 0.1,
       "style": "IPY_MODEL_788a484fe6034eac8b90706c9481bf67",
       "value": [
        0,
        20
       ]
      }
     },
     "0bcae1ba163d4bd995980576e36d37de": {
      "model_module": "@jupyter-widgets/controls",
      "model_module_version": "1.5.0",
      "model_name": "DescriptionStyleModel",
      "state": {
       "description_width": ""
      }
     },
     "10f7f3d4c1aa46a1a0fea37742e20253": {
      "model_module": "@jupyter-widgets/base",
      "model_module_version": "1.2.0",
      "model_name": "LayoutModel",
      "state": {}
     },
     "17af4716f7274595b7e7ff753aa9b4b8": {
      "model_module": "@jupyter-widgets/base",
      "model_module_version": "1.2.0",
      "model_name": "LayoutModel",
      "state": {}
     },
     "2ed35cd7fb994fe1a228f0a77e9f8e15": {
      "model_module": "@jupyter-widgets/controls",
      "model_module_version": "1.5.0",
      "model_name": "DescriptionStyleModel",
      "state": {
       "description_width": ""
      }
     },
     "2f30a2da80b448a699c54bd812eac580": {
      "model_module": "@jupyter-widgets/base",
      "model_module_version": "1.2.0",
      "model_name": "LayoutModel",
      "state": {}
     },
     "36b33c7208b7441196bf29adcadce009": {
      "model_module": "@jupyter-widgets/controls",
      "model_module_version": "1.5.0",
      "model_name": "CheckboxModel",
      "state": {
       "description": "Plot Experiment A",
       "disabled": false,
       "layout": "IPY_MODEL_be030f5c436740d68ebe124aea7583d4",
       "style": "IPY_MODEL_ae9207822501404088f99234860e9c54",
       "value": true
      }
     },
     "45ed73f36c5b4984a2100494ee2b98a1": {
      "model_module": "@jupyter-widgets/base",
      "model_module_version": "1.2.0",
      "model_name": "LayoutModel",
      "state": {}
     },
     "4c11d808a6024926abcdd34cd952c30e": {
      "model_module": "@jupyter-widgets/controls",
      "model_module_version": "1.5.0",
      "model_name": "CheckboxModel",
      "state": {
       "description": "Plot Experiment B",
       "disabled": false,
       "layout": "IPY_MODEL_524d37c0aa004d3cbd6246fa161a16f4",
       "style": "IPY_MODEL_0bcae1ba163d4bd995980576e36d37de",
       "value": true
      }
     },
     "524d37c0aa004d3cbd6246fa161a16f4": {
      "model_module": "@jupyter-widgets/base",
      "model_module_version": "1.2.0",
      "model_name": "LayoutModel",
      "state": {}
     },
     "5d965930b2f243649ef9a6ba59438eaa": {
      "model_module": "@jupyter-widgets/controls",
      "model_module_version": "1.5.0",
      "model_name": "FloatLogSliderModel",
      "state": {
       "description": "y_max",
       "layout": "IPY_MODEL_17af4716f7274595b7e7ff753aa9b4b8",
       "max": 5,
       "min": -1,
       "style": "IPY_MODEL_f2856a867cc94765b288716801c79fb5",
       "value": 10000
      }
     },
     "5e22e8e2e16541bd85c4869ffd3b9c00": {
      "model_module": "@jupyter-widgets/controls",
      "model_module_version": "1.5.0",
      "model_name": "IntSliderModel",
      "state": {
       "description": "bins",
       "layout": "IPY_MODEL_45ed73f36c5b4984a2100494ee2b98a1",
       "max": 2000,
       "min": 20,
       "style": "IPY_MODEL_84d02148e7ba4fb5bea8342c148bf7f3",
       "value": 500
      }
     },
     "788a484fe6034eac8b90706c9481bf67": {
      "model_module": "@jupyter-widgets/controls",
      "model_module_version": "1.5.0",
      "model_name": "SliderStyleModel",
      "state": {
       "description_width": ""
      }
     },
     "84d02148e7ba4fb5bea8342c148bf7f3": {
      "model_module": "@jupyter-widgets/controls",
      "model_module_version": "1.5.0",
      "model_name": "SliderStyleModel",
      "state": {
       "description_width": ""
      }
     },
     "9b356e0aa972417eacb2e329b8cad3b2": {
      "model_module": "@jupyter-widgets/controls",
      "model_module_version": "1.5.0",
      "model_name": "VBoxModel",
      "state": {
       "_dom_classes": [
        "widget-interact"
       ],
       "children": [
        "IPY_MODEL_5e22e8e2e16541bd85c4869ffd3b9c00",
        "IPY_MODEL_0a183b0a523b49ee97e18fa89b673a18",
        "IPY_MODEL_5d965930b2f243649ef9a6ba59438eaa",
        "IPY_MODEL_36b33c7208b7441196bf29adcadce009",
        "IPY_MODEL_4c11d808a6024926abcdd34cd952c30e",
        "IPY_MODEL_dbf3398de83449a68e242167f528afff",
        "IPY_MODEL_c46d5ecf0d804e17bce765055bb5173a",
        "IPY_MODEL_d9783ee911a24564a00fe45d6fffacdd"
       ],
       "layout": "IPY_MODEL_e8f5464f9efb4bba83407fd60c3ee008"
      }
     },
     "ae9207822501404088f99234860e9c54": {
      "model_module": "@jupyter-widgets/controls",
      "model_module_version": "1.5.0",
      "model_name": "DescriptionStyleModel",
      "state": {
       "description_width": ""
      }
     },
     "be030f5c436740d68ebe124aea7583d4": {
      "model_module": "@jupyter-widgets/base",
      "model_module_version": "1.2.0",
      "model_name": "LayoutModel",
      "state": {}
     },
     "c46d5ecf0d804e17bce765055bb5173a": {
      "model_module": "@jupyter-widgets/controls",
      "model_module_version": "1.5.0",
      "model_name": "DropdownModel",
      "state": {
       "_options_labels": [
        "linear",
        "log"
       ],
       "description": "Scale: ",
       "index": 0,
       "layout": "IPY_MODEL_d38afceebf5d40378e8a3e60030bd62b",
       "style": "IPY_MODEL_2ed35cd7fb994fe1a228f0a77e9f8e15"
      }
     },
     "d06f3db877a7454286c587de0324fb69": {
      "model_module": "@jupyter-widgets/base",
      "model_module_version": "1.2.0",
      "model_name": "LayoutModel",
      "state": {}
     },
     "d38afceebf5d40378e8a3e60030bd62b": {
      "model_module": "@jupyter-widgets/base",
      "model_module_version": "1.2.0",
      "model_name": "LayoutModel",
      "state": {}
     },
     "d9783ee911a24564a00fe45d6fffacdd": {
      "model_module": "@jupyter-widgets/output",
      "model_module_version": "1.0.0",
      "model_name": "OutputModel",
      "state": {
       "layout": "IPY_MODEL_2f30a2da80b448a699c54bd812eac580",
       "outputs": [
        {
         "data": {
          "image/svg+xml": "<?xml version=\"1.0\" encoding=\"utf-8\" standalone=\"no\"?>\n<!DOCTYPE svg PUBLIC \"-//W3C//DTD SVG 1.1//EN\"\n  \"http://www.w3.org/Graphics/SVG/1.1/DTD/svg11.dtd\">\n<!-- Created with matplotlib (https://matplotlib.org/) -->\n<svg height=\"265.995469pt\" version=\"1.1\" viewBox=\"0 0 412.823438 265.995469\" width=\"412.823438pt\" xmlns=\"http://www.w3.org/2000/svg\" xmlns:xlink=\"http://www.w3.org/1999/xlink\">\n <metadata>\n  <rdf:RDF xmlns:cc=\"http://creativecommons.org/ns#\" xmlns:dc=\"http://purl.org/dc/elements/1.1/\" xmlns:rdf=\"http://www.w3.org/1999/02/22-rdf-syntax-ns#\">\n   <cc:Work>\n    <dc:type rdf:resource=\"http://purl.org/dc/dcmitype/StillImage\"/>\n    <dc:date>2021-06-09T09:59:14.945315</dc:date>\n    <dc:format>image/svg+xml</dc:format>\n    <dc:creator>\n     <cc:Agent>\n      <dc:title>Matplotlib v3.3.3, https://matplotlib.org/</dc:title>\n     </cc:Agent>\n    </dc:creator>\n   </cc:Work>\n  </rdf:RDF>\n </metadata>\n <defs>\n  <style type=\"text/css\">*{stroke-linecap:butt;stroke-linejoin:round;}</style>\n </defs>\n <g id=\"figure_1\">\n  <g id=\"patch_1\">\n   <path d=\"M 0 265.995469 \nL 412.823438 265.995469 \nL 412.823438 0 \nL 0 0 \nz\n\" style=\"fill:none;\"/>\n  </g>\n  <g id=\"axes_1\">\n   <g id=\"patch_2\">\n    <path d=\"M 59.690625 228.439219 \nL 394.490625 228.439219 \nL 394.490625 10.999219 \nL 59.690625 10.999219 \nz\n\" style=\"fill:#ffffff;\"/>\n   </g>\n   <g id=\"matplotlib.axis_1\">\n    <g id=\"xtick_1\">\n     <g id=\"line2d_1\">\n      <defs>\n       <path d=\"M 0 0 \nL 0 3.5 \n\" id=\"m48fb52cd53\" style=\"stroke:#000000;stroke-width:0.8;\"/>\n      </defs>\n      <g>\n       <use style=\"stroke:#000000;stroke-width:0.8;\" x=\"59.690625\" xlink:href=\"#m48fb52cd53\" y=\"228.439219\"/>\n      </g>\n     </g>\n     <g id=\"text_1\">\n      <!-- 0.0 -->\n      <g transform=\"translate(51.739063 243.037656)scale(0.1 -0.1)\">\n       <defs>\n        <path d=\"M 31.78125 66.40625 \nQ 24.171875 66.40625 20.328125 58.90625 \nQ 16.5 51.421875 16.5 36.375 \nQ 16.5 21.390625 20.328125 13.890625 \nQ 24.171875 6.390625 31.78125 6.390625 \nQ 39.453125 6.390625 43.28125 13.890625 \nQ 47.125 21.390625 47.125 36.375 \nQ 47.125 51.421875 43.28125 58.90625 \nQ 39.453125 66.40625 31.78125 66.40625 \nz\nM 31.78125 74.21875 \nQ 44.046875 74.21875 50.515625 64.515625 \nQ 56.984375 54.828125 56.984375 36.375 \nQ 56.984375 17.96875 50.515625 8.265625 \nQ 44.046875 -1.421875 31.78125 -1.421875 \nQ 19.53125 -1.421875 13.0625 8.265625 \nQ 6.59375 17.96875 6.59375 36.375 \nQ 6.59375 54.828125 13.0625 64.515625 \nQ 19.53125 74.21875 31.78125 74.21875 \nz\n\" id=\"DejaVuSans-48\"/>\n        <path d=\"M 10.6875 12.40625 \nL 21 12.40625 \nL 21 0 \nL 10.6875 0 \nz\n\" id=\"DejaVuSans-46\"/>\n       </defs>\n       <use xlink:href=\"#DejaVuSans-48\"/>\n       <use x=\"63.623047\" xlink:href=\"#DejaVuSans-46\"/>\n       <use x=\"95.410156\" xlink:href=\"#DejaVuSans-48\"/>\n      </g>\n     </g>\n    </g>\n    <g id=\"xtick_2\">\n     <g id=\"line2d_2\">\n      <g>\n       <use style=\"stroke:#000000;stroke-width:0.8;\" x=\"101.540625\" xlink:href=\"#m48fb52cd53\" y=\"228.439219\"/>\n      </g>\n     </g>\n     <g id=\"text_2\">\n      <!-- 2.5 -->\n      <g transform=\"translate(93.589063 243.037656)scale(0.1 -0.1)\">\n       <defs>\n        <path d=\"M 19.1875 8.296875 \nL 53.609375 8.296875 \nL 53.609375 0 \nL 7.328125 0 \nL 7.328125 8.296875 \nQ 12.9375 14.109375 22.625 23.890625 \nQ 32.328125 33.6875 34.8125 36.53125 \nQ 39.546875 41.84375 41.421875 45.53125 \nQ 43.3125 49.21875 43.3125 52.78125 \nQ 43.3125 58.59375 39.234375 62.25 \nQ 35.15625 65.921875 28.609375 65.921875 \nQ 23.96875 65.921875 18.8125 64.3125 \nQ 13.671875 62.703125 7.8125 59.421875 \nL 7.8125 69.390625 \nQ 13.765625 71.78125 18.9375 73 \nQ 24.125 74.21875 28.421875 74.21875 \nQ 39.75 74.21875 46.484375 68.546875 \nQ 53.21875 62.890625 53.21875 53.421875 \nQ 53.21875 48.921875 51.53125 44.890625 \nQ 49.859375 40.875 45.40625 35.40625 \nQ 44.1875 33.984375 37.640625 27.21875 \nQ 31.109375 20.453125 19.1875 8.296875 \nz\n\" id=\"DejaVuSans-50\"/>\n        <path d=\"M 10.796875 72.90625 \nL 49.515625 72.90625 \nL 49.515625 64.59375 \nL 19.828125 64.59375 \nL 19.828125 46.734375 \nQ 21.96875 47.46875 24.109375 47.828125 \nQ 26.265625 48.1875 28.421875 48.1875 \nQ 40.625 48.1875 47.75 41.5 \nQ 54.890625 34.8125 54.890625 23.390625 \nQ 54.890625 11.625 47.5625 5.09375 \nQ 40.234375 -1.421875 26.90625 -1.421875 \nQ 22.3125 -1.421875 17.546875 -0.640625 \nQ 12.796875 0.140625 7.71875 1.703125 \nL 7.71875 11.625 \nQ 12.109375 9.234375 16.796875 8.0625 \nQ 21.484375 6.890625 26.703125 6.890625 \nQ 35.15625 6.890625 40.078125 11.328125 \nQ 45.015625 15.765625 45.015625 23.390625 \nQ 45.015625 31 40.078125 35.4375 \nQ 35.15625 39.890625 26.703125 39.890625 \nQ 22.75 39.890625 18.8125 39.015625 \nQ 14.890625 38.140625 10.796875 36.28125 \nz\n\" id=\"DejaVuSans-53\"/>\n       </defs>\n       <use xlink:href=\"#DejaVuSans-50\"/>\n       <use x=\"63.623047\" xlink:href=\"#DejaVuSans-46\"/>\n       <use x=\"95.410156\" xlink:href=\"#DejaVuSans-53\"/>\n      </g>\n     </g>\n    </g>\n    <g id=\"xtick_3\">\n     <g id=\"line2d_3\">\n      <g>\n       <use style=\"stroke:#000000;stroke-width:0.8;\" x=\"143.390625\" xlink:href=\"#m48fb52cd53\" y=\"228.439219\"/>\n      </g>\n     </g>\n     <g id=\"text_3\">\n      <!-- 5.0 -->\n      <g transform=\"translate(135.439063 243.037656)scale(0.1 -0.1)\">\n       <use xlink:href=\"#DejaVuSans-53\"/>\n       <use x=\"63.623047\" xlink:href=\"#DejaVuSans-46\"/>\n       <use x=\"95.410156\" xlink:href=\"#DejaVuSans-48\"/>\n      </g>\n     </g>\n    </g>\n    <g id=\"xtick_4\">\n     <g id=\"line2d_4\">\n      <g>\n       <use style=\"stroke:#000000;stroke-width:0.8;\" x=\"185.240625\" xlink:href=\"#m48fb52cd53\" y=\"228.439219\"/>\n      </g>\n     </g>\n     <g id=\"text_4\">\n      <!-- 7.5 -->\n      <g transform=\"translate(177.289063 243.037656)scale(0.1 -0.1)\">\n       <defs>\n        <path d=\"M 8.203125 72.90625 \nL 55.078125 72.90625 \nL 55.078125 68.703125 \nL 28.609375 0 \nL 18.3125 0 \nL 43.21875 64.59375 \nL 8.203125 64.59375 \nz\n\" id=\"DejaVuSans-55\"/>\n       </defs>\n       <use xlink:href=\"#DejaVuSans-55\"/>\n       <use x=\"63.623047\" xlink:href=\"#DejaVuSans-46\"/>\n       <use x=\"95.410156\" xlink:href=\"#DejaVuSans-53\"/>\n      </g>\n     </g>\n    </g>\n    <g id=\"xtick_5\">\n     <g id=\"line2d_5\">\n      <g>\n       <use style=\"stroke:#000000;stroke-width:0.8;\" x=\"227.090625\" xlink:href=\"#m48fb52cd53\" y=\"228.439219\"/>\n      </g>\n     </g>\n     <g id=\"text_5\">\n      <!-- 10.0 -->\n      <g transform=\"translate(215.957813 243.037656)scale(0.1 -0.1)\">\n       <defs>\n        <path d=\"M 12.40625 8.296875 \nL 28.515625 8.296875 \nL 28.515625 63.921875 \nL 10.984375 60.40625 \nL 10.984375 69.390625 \nL 28.421875 72.90625 \nL 38.28125 72.90625 \nL 38.28125 8.296875 \nL 54.390625 8.296875 \nL 54.390625 0 \nL 12.40625 0 \nz\n\" id=\"DejaVuSans-49\"/>\n       </defs>\n       <use xlink:href=\"#DejaVuSans-49\"/>\n       <use x=\"63.623047\" xlink:href=\"#DejaVuSans-48\"/>\n       <use x=\"127.246094\" xlink:href=\"#DejaVuSans-46\"/>\n       <use x=\"159.033203\" xlink:href=\"#DejaVuSans-48\"/>\n      </g>\n     </g>\n    </g>\n    <g id=\"xtick_6\">\n     <g id=\"line2d_6\">\n      <g>\n       <use style=\"stroke:#000000;stroke-width:0.8;\" x=\"268.940625\" xlink:href=\"#m48fb52cd53\" y=\"228.439219\"/>\n      </g>\n     </g>\n     <g id=\"text_6\">\n      <!-- 12.5 -->\n      <g transform=\"translate(257.807813 243.037656)scale(0.1 -0.1)\">\n       <use xlink:href=\"#DejaVuSans-49\"/>\n       <use x=\"63.623047\" xlink:href=\"#DejaVuSans-50\"/>\n       <use x=\"127.246094\" xlink:href=\"#DejaVuSans-46\"/>\n       <use x=\"159.033203\" xlink:href=\"#DejaVuSans-53\"/>\n      </g>\n     </g>\n    </g>\n    <g id=\"xtick_7\">\n     <g id=\"line2d_7\">\n      <g>\n       <use style=\"stroke:#000000;stroke-width:0.8;\" x=\"310.790625\" xlink:href=\"#m48fb52cd53\" y=\"228.439219\"/>\n      </g>\n     </g>\n     <g id=\"text_7\">\n      <!-- 15.0 -->\n      <g transform=\"translate(299.657813 243.037656)scale(0.1 -0.1)\">\n       <use xlink:href=\"#DejaVuSans-49\"/>\n       <use x=\"63.623047\" xlink:href=\"#DejaVuSans-53\"/>\n       <use x=\"127.246094\" xlink:href=\"#DejaVuSans-46\"/>\n       <use x=\"159.033203\" xlink:href=\"#DejaVuSans-48\"/>\n      </g>\n     </g>\n    </g>\n    <g id=\"xtick_8\">\n     <g id=\"line2d_8\">\n      <g>\n       <use style=\"stroke:#000000;stroke-width:0.8;\" x=\"352.640625\" xlink:href=\"#m48fb52cd53\" y=\"228.439219\"/>\n      </g>\n     </g>\n     <g id=\"text_8\">\n      <!-- 17.5 -->\n      <g transform=\"translate(341.507813 243.037656)scale(0.1 -0.1)\">\n       <use xlink:href=\"#DejaVuSans-49\"/>\n       <use x=\"63.623047\" xlink:href=\"#DejaVuSans-55\"/>\n       <use x=\"127.246094\" xlink:href=\"#DejaVuSans-46\"/>\n       <use x=\"159.033203\" xlink:href=\"#DejaVuSans-53\"/>\n      </g>\n     </g>\n    </g>\n    <g id=\"xtick_9\">\n     <g id=\"line2d_9\">\n      <g>\n       <use style=\"stroke:#000000;stroke-width:0.8;\" x=\"394.490625\" xlink:href=\"#m48fb52cd53\" y=\"228.439219\"/>\n      </g>\n     </g>\n     <g id=\"text_9\">\n      <!-- 20.0 -->\n      <g transform=\"translate(383.357813 243.037656)scale(0.1 -0.1)\">\n       <use xlink:href=\"#DejaVuSans-50\"/>\n       <use x=\"63.623047\" xlink:href=\"#DejaVuSans-48\"/>\n       <use x=\"127.246094\" xlink:href=\"#DejaVuSans-46\"/>\n       <use x=\"159.033203\" xlink:href=\"#DejaVuSans-48\"/>\n      </g>\n     </g>\n    </g>\n    <g id=\"text_10\">\n     <!-- Energy (keV) -->\n     <g transform=\"translate(194.882812 256.715781)scale(0.1 -0.1)\">\n      <defs>\n       <path d=\"M 9.8125 72.90625 \nL 55.90625 72.90625 \nL 55.90625 64.59375 \nL 19.671875 64.59375 \nL 19.671875 43.015625 \nL 54.390625 43.015625 \nL 54.390625 34.71875 \nL 19.671875 34.71875 \nL 19.671875 8.296875 \nL 56.78125 8.296875 \nL 56.78125 0 \nL 9.8125 0 \nz\n\" id=\"DejaVuSans-69\"/>\n       <path d=\"M 54.890625 33.015625 \nL 54.890625 0 \nL 45.90625 0 \nL 45.90625 32.71875 \nQ 45.90625 40.484375 42.875 44.328125 \nQ 39.84375 48.1875 33.796875 48.1875 \nQ 26.515625 48.1875 22.3125 43.546875 \nQ 18.109375 38.921875 18.109375 30.90625 \nL 18.109375 0 \nL 9.078125 0 \nL 9.078125 54.6875 \nL 18.109375 54.6875 \nL 18.109375 46.1875 \nQ 21.34375 51.125 25.703125 53.5625 \nQ 30.078125 56 35.796875 56 \nQ 45.21875 56 50.046875 50.171875 \nQ 54.890625 44.34375 54.890625 33.015625 \nz\n\" id=\"DejaVuSans-110\"/>\n       <path d=\"M 56.203125 29.59375 \nL 56.203125 25.203125 \nL 14.890625 25.203125 \nQ 15.484375 15.921875 20.484375 11.0625 \nQ 25.484375 6.203125 34.421875 6.203125 \nQ 39.59375 6.203125 44.453125 7.46875 \nQ 49.3125 8.734375 54.109375 11.28125 \nL 54.109375 2.78125 \nQ 49.265625 0.734375 44.1875 -0.34375 \nQ 39.109375 -1.421875 33.890625 -1.421875 \nQ 20.796875 -1.421875 13.15625 6.1875 \nQ 5.515625 13.8125 5.515625 26.8125 \nQ 5.515625 40.234375 12.765625 48.109375 \nQ 20.015625 56 32.328125 56 \nQ 43.359375 56 49.78125 48.890625 \nQ 56.203125 41.796875 56.203125 29.59375 \nz\nM 47.21875 32.234375 \nQ 47.125 39.59375 43.09375 43.984375 \nQ 39.0625 48.390625 32.421875 48.390625 \nQ 24.90625 48.390625 20.390625 44.140625 \nQ 15.875 39.890625 15.1875 32.171875 \nz\n\" id=\"DejaVuSans-101\"/>\n       <path d=\"M 41.109375 46.296875 \nQ 39.59375 47.171875 37.8125 47.578125 \nQ 36.03125 48 33.890625 48 \nQ 26.265625 48 22.1875 43.046875 \nQ 18.109375 38.09375 18.109375 28.8125 \nL 18.109375 0 \nL 9.078125 0 \nL 9.078125 54.6875 \nL 18.109375 54.6875 \nL 18.109375 46.1875 \nQ 20.953125 51.171875 25.484375 53.578125 \nQ 30.03125 56 36.53125 56 \nQ 37.453125 56 38.578125 55.875 \nQ 39.703125 55.765625 41.0625 55.515625 \nz\n\" id=\"DejaVuSans-114\"/>\n       <path d=\"M 45.40625 27.984375 \nQ 45.40625 37.75 41.375 43.109375 \nQ 37.359375 48.484375 30.078125 48.484375 \nQ 22.859375 48.484375 18.828125 43.109375 \nQ 14.796875 37.75 14.796875 27.984375 \nQ 14.796875 18.265625 18.828125 12.890625 \nQ 22.859375 7.515625 30.078125 7.515625 \nQ 37.359375 7.515625 41.375 12.890625 \nQ 45.40625 18.265625 45.40625 27.984375 \nz\nM 54.390625 6.78125 \nQ 54.390625 -7.171875 48.1875 -13.984375 \nQ 42 -20.796875 29.203125 -20.796875 \nQ 24.46875 -20.796875 20.265625 -20.09375 \nQ 16.0625 -19.390625 12.109375 -17.921875 \nL 12.109375 -9.1875 \nQ 16.0625 -11.328125 19.921875 -12.34375 \nQ 23.78125 -13.375 27.78125 -13.375 \nQ 36.625 -13.375 41.015625 -8.765625 \nQ 45.40625 -4.15625 45.40625 5.171875 \nL 45.40625 9.625 \nQ 42.625 4.78125 38.28125 2.390625 \nQ 33.9375 0 27.875 0 \nQ 17.828125 0 11.671875 7.65625 \nQ 5.515625 15.328125 5.515625 27.984375 \nQ 5.515625 40.671875 11.671875 48.328125 \nQ 17.828125 56 27.875 56 \nQ 33.9375 56 38.28125 53.609375 \nQ 42.625 51.21875 45.40625 46.390625 \nL 45.40625 54.6875 \nL 54.390625 54.6875 \nz\n\" id=\"DejaVuSans-103\"/>\n       <path d=\"M 32.171875 -5.078125 \nQ 28.375 -14.84375 24.75 -17.8125 \nQ 21.140625 -20.796875 15.09375 -20.796875 \nL 7.90625 -20.796875 \nL 7.90625 -13.28125 \nL 13.1875 -13.28125 \nQ 16.890625 -13.28125 18.9375 -11.515625 \nQ 21 -9.765625 23.484375 -3.21875 \nL 25.09375 0.875 \nL 2.984375 54.6875 \nL 12.5 54.6875 \nL 29.59375 11.921875 \nL 46.6875 54.6875 \nL 56.203125 54.6875 \nz\n\" id=\"DejaVuSans-121\"/>\n       <path id=\"DejaVuSans-32\"/>\n       <path d=\"M 31 75.875 \nQ 24.46875 64.65625 21.28125 53.65625 \nQ 18.109375 42.671875 18.109375 31.390625 \nQ 18.109375 20.125 21.3125 9.0625 \nQ 24.515625 -2 31 -13.1875 \nL 23.1875 -13.1875 \nQ 15.875 -1.703125 12.234375 9.375 \nQ 8.59375 20.453125 8.59375 31.390625 \nQ 8.59375 42.28125 12.203125 53.3125 \nQ 15.828125 64.359375 23.1875 75.875 \nz\n\" id=\"DejaVuSans-40\"/>\n       <path d=\"M 9.078125 75.984375 \nL 18.109375 75.984375 \nL 18.109375 31.109375 \nL 44.921875 54.6875 \nL 56.390625 54.6875 \nL 27.390625 29.109375 \nL 57.625 0 \nL 45.90625 0 \nL 18.109375 26.703125 \nL 18.109375 0 \nL 9.078125 0 \nz\n\" id=\"DejaVuSans-107\"/>\n       <path d=\"M 28.609375 0 \nL 0.78125 72.90625 \nL 11.078125 72.90625 \nL 34.1875 11.53125 \nL 57.328125 72.90625 \nL 67.578125 72.90625 \nL 39.796875 0 \nz\n\" id=\"DejaVuSans-86\"/>\n       <path d=\"M 8.015625 75.875 \nL 15.828125 75.875 \nQ 23.140625 64.359375 26.78125 53.3125 \nQ 30.421875 42.28125 30.421875 31.390625 \nQ 30.421875 20.453125 26.78125 9.375 \nQ 23.140625 -1.703125 15.828125 -13.1875 \nL 8.015625 -13.1875 \nQ 14.5 -2 17.703125 9.0625 \nQ 20.90625 20.125 20.90625 31.390625 \nQ 20.90625 42.671875 17.703125 53.65625 \nQ 14.5 64.65625 8.015625 75.875 \nz\n\" id=\"DejaVuSans-41\"/>\n      </defs>\n      <use xlink:href=\"#DejaVuSans-69\"/>\n      <use x=\"63.183594\" xlink:href=\"#DejaVuSans-110\"/>\n      <use x=\"126.5625\" xlink:href=\"#DejaVuSans-101\"/>\n      <use x=\"188.085938\" xlink:href=\"#DejaVuSans-114\"/>\n      <use x=\"227.449219\" xlink:href=\"#DejaVuSans-103\"/>\n      <use x=\"290.925781\" xlink:href=\"#DejaVuSans-121\"/>\n      <use x=\"350.105469\" xlink:href=\"#DejaVuSans-32\"/>\n      <use x=\"381.892578\" xlink:href=\"#DejaVuSans-40\"/>\n      <use x=\"420.90625\" xlink:href=\"#DejaVuSans-107\"/>\n      <use x=\"475.191406\" xlink:href=\"#DejaVuSans-101\"/>\n      <use x=\"536.714844\" xlink:href=\"#DejaVuSans-86\"/>\n      <use x=\"605.123047\" xlink:href=\"#DejaVuSans-41\"/>\n     </g>\n    </g>\n   </g>\n   <g id=\"matplotlib.axis_2\">\n    <g id=\"ytick_1\">\n     <g id=\"line2d_10\">\n      <defs>\n       <path d=\"M 0 0 \nL -3.5 0 \n\" id=\"m9b668affe6\" style=\"stroke:#000000;stroke-width:0.8;\"/>\n      </defs>\n      <g>\n       <use style=\"stroke:#000000;stroke-width:0.8;\" x=\"59.690625\" xlink:href=\"#m9b668affe6\" y=\"184.959917\"/>\n      </g>\n     </g>\n     <g id=\"text_11\">\n      <!-- 2000 -->\n      <g transform=\"translate(27.240625 188.759136)scale(0.1 -0.1)\">\n       <use xlink:href=\"#DejaVuSans-50\"/>\n       <use x=\"63.623047\" xlink:href=\"#DejaVuSans-48\"/>\n       <use x=\"127.246094\" xlink:href=\"#DejaVuSans-48\"/>\n       <use x=\"190.869141\" xlink:href=\"#DejaVuSans-48\"/>\n      </g>\n     </g>\n    </g>\n    <g id=\"ytick_2\">\n     <g id=\"line2d_11\">\n      <g>\n       <use style=\"stroke:#000000;stroke-width:0.8;\" x=\"59.690625\" xlink:href=\"#m9b668affe6\" y=\"141.469742\"/>\n      </g>\n     </g>\n     <g id=\"text_12\">\n      <!-- 4000 -->\n      <g transform=\"translate(27.240625 145.268961)scale(0.1 -0.1)\">\n       <defs>\n        <path d=\"M 37.796875 64.3125 \nL 12.890625 25.390625 \nL 37.796875 25.390625 \nz\nM 35.203125 72.90625 \nL 47.609375 72.90625 \nL 47.609375 25.390625 \nL 58.015625 25.390625 \nL 58.015625 17.1875 \nL 47.609375 17.1875 \nL 47.609375 0 \nL 37.796875 0 \nL 37.796875 17.1875 \nL 4.890625 17.1875 \nL 4.890625 26.703125 \nz\n\" id=\"DejaVuSans-52\"/>\n       </defs>\n       <use xlink:href=\"#DejaVuSans-52\"/>\n       <use x=\"63.623047\" xlink:href=\"#DejaVuSans-48\"/>\n       <use x=\"127.246094\" xlink:href=\"#DejaVuSans-48\"/>\n       <use x=\"190.869141\" xlink:href=\"#DejaVuSans-48\"/>\n      </g>\n     </g>\n    </g>\n    <g id=\"ytick_3\">\n     <g id=\"line2d_12\">\n      <g>\n       <use style=\"stroke:#000000;stroke-width:0.8;\" x=\"59.690625\" xlink:href=\"#m9b668affe6\" y=\"97.979568\"/>\n      </g>\n     </g>\n     <g id=\"text_13\">\n      <!-- 6000 -->\n      <g transform=\"translate(27.240625 101.778787)scale(0.1 -0.1)\">\n       <defs>\n        <path d=\"M 33.015625 40.375 \nQ 26.375 40.375 22.484375 35.828125 \nQ 18.609375 31.296875 18.609375 23.390625 \nQ 18.609375 15.53125 22.484375 10.953125 \nQ 26.375 6.390625 33.015625 6.390625 \nQ 39.65625 6.390625 43.53125 10.953125 \nQ 47.40625 15.53125 47.40625 23.390625 \nQ 47.40625 31.296875 43.53125 35.828125 \nQ 39.65625 40.375 33.015625 40.375 \nz\nM 52.59375 71.296875 \nL 52.59375 62.3125 \nQ 48.875 64.0625 45.09375 64.984375 \nQ 41.3125 65.921875 37.59375 65.921875 \nQ 27.828125 65.921875 22.671875 59.328125 \nQ 17.53125 52.734375 16.796875 39.40625 \nQ 19.671875 43.65625 24.015625 45.921875 \nQ 28.375 48.1875 33.59375 48.1875 \nQ 44.578125 48.1875 50.953125 41.515625 \nQ 57.328125 34.859375 57.328125 23.390625 \nQ 57.328125 12.15625 50.6875 5.359375 \nQ 44.046875 -1.421875 33.015625 -1.421875 \nQ 20.359375 -1.421875 13.671875 8.265625 \nQ 6.984375 17.96875 6.984375 36.375 \nQ 6.984375 53.65625 15.1875 63.9375 \nQ 23.390625 74.21875 37.203125 74.21875 \nQ 40.921875 74.21875 44.703125 73.484375 \nQ 48.484375 72.75 52.59375 71.296875 \nz\n\" id=\"DejaVuSans-54\"/>\n       </defs>\n       <use xlink:href=\"#DejaVuSans-54\"/>\n       <use x=\"63.623047\" xlink:href=\"#DejaVuSans-48\"/>\n       <use x=\"127.246094\" xlink:href=\"#DejaVuSans-48\"/>\n       <use x=\"190.869141\" xlink:href=\"#DejaVuSans-48\"/>\n      </g>\n     </g>\n    </g>\n    <g id=\"ytick_4\">\n     <g id=\"line2d_13\">\n      <g>\n       <use style=\"stroke:#000000;stroke-width:0.8;\" x=\"59.690625\" xlink:href=\"#m9b668affe6\" y=\"54.489393\"/>\n      </g>\n     </g>\n     <g id=\"text_14\">\n      <!-- 8000 -->\n      <g transform=\"translate(27.240625 58.288612)scale(0.1 -0.1)\">\n       <defs>\n        <path d=\"M 31.78125 34.625 \nQ 24.75 34.625 20.71875 30.859375 \nQ 16.703125 27.09375 16.703125 20.515625 \nQ 16.703125 13.921875 20.71875 10.15625 \nQ 24.75 6.390625 31.78125 6.390625 \nQ 38.8125 6.390625 42.859375 10.171875 \nQ 46.921875 13.96875 46.921875 20.515625 \nQ 46.921875 27.09375 42.890625 30.859375 \nQ 38.875 34.625 31.78125 34.625 \nz\nM 21.921875 38.8125 \nQ 15.578125 40.375 12.03125 44.71875 \nQ 8.5 49.078125 8.5 55.328125 \nQ 8.5 64.0625 14.71875 69.140625 \nQ 20.953125 74.21875 31.78125 74.21875 \nQ 42.671875 74.21875 48.875 69.140625 \nQ 55.078125 64.0625 55.078125 55.328125 \nQ 55.078125 49.078125 51.53125 44.71875 \nQ 48 40.375 41.703125 38.8125 \nQ 48.828125 37.15625 52.796875 32.3125 \nQ 56.78125 27.484375 56.78125 20.515625 \nQ 56.78125 9.90625 50.3125 4.234375 \nQ 43.84375 -1.421875 31.78125 -1.421875 \nQ 19.734375 -1.421875 13.25 4.234375 \nQ 6.78125 9.90625 6.78125 20.515625 \nQ 6.78125 27.484375 10.78125 32.3125 \nQ 14.796875 37.15625 21.921875 38.8125 \nz\nM 18.3125 54.390625 \nQ 18.3125 48.734375 21.84375 45.5625 \nQ 25.390625 42.390625 31.78125 42.390625 \nQ 38.140625 42.390625 41.71875 45.5625 \nQ 45.3125 48.734375 45.3125 54.390625 \nQ 45.3125 60.0625 41.71875 63.234375 \nQ 38.140625 66.40625 31.78125 66.40625 \nQ 25.390625 66.40625 21.84375 63.234375 \nQ 18.3125 60.0625 18.3125 54.390625 \nz\n\" id=\"DejaVuSans-56\"/>\n       </defs>\n       <use xlink:href=\"#DejaVuSans-56\"/>\n       <use x=\"63.623047\" xlink:href=\"#DejaVuSans-48\"/>\n       <use x=\"127.246094\" xlink:href=\"#DejaVuSans-48\"/>\n       <use x=\"190.869141\" xlink:href=\"#DejaVuSans-48\"/>\n      </g>\n     </g>\n    </g>\n    <g id=\"ytick_5\">\n     <g id=\"line2d_14\">\n      <g>\n       <use style=\"stroke:#000000;stroke-width:0.8;\" x=\"59.690625\" xlink:href=\"#m9b668affe6\" y=\"10.999219\"/>\n      </g>\n     </g>\n     <g id=\"text_15\">\n      <!-- 10000 -->\n      <g transform=\"translate(20.878125 14.798437)scale(0.1 -0.1)\">\n       <use xlink:href=\"#DejaVuSans-49\"/>\n       <use x=\"63.623047\" xlink:href=\"#DejaVuSans-48\"/>\n       <use x=\"127.246094\" xlink:href=\"#DejaVuSans-48\"/>\n       <use x=\"190.869141\" xlink:href=\"#DejaVuSans-48\"/>\n       <use x=\"254.492188\" xlink:href=\"#DejaVuSans-48\"/>\n      </g>\n     </g>\n    </g>\n    <g id=\"text_16\">\n     <!-- Counts / (40.0 eV kg days) -->\n     <g transform=\"translate(14.798438 186.205156)rotate(-90)scale(0.1 -0.1)\">\n      <defs>\n       <path d=\"M 64.40625 67.28125 \nL 64.40625 56.890625 \nQ 59.421875 61.53125 53.78125 63.8125 \nQ 48.140625 66.109375 41.796875 66.109375 \nQ 29.296875 66.109375 22.65625 58.46875 \nQ 16.015625 50.828125 16.015625 36.375 \nQ 16.015625 21.96875 22.65625 14.328125 \nQ 29.296875 6.6875 41.796875 6.6875 \nQ 48.140625 6.6875 53.78125 8.984375 \nQ 59.421875 11.28125 64.40625 15.921875 \nL 64.40625 5.609375 \nQ 59.234375 2.09375 53.4375 0.328125 \nQ 47.65625 -1.421875 41.21875 -1.421875 \nQ 24.65625 -1.421875 15.125 8.703125 \nQ 5.609375 18.84375 5.609375 36.375 \nQ 5.609375 53.953125 15.125 64.078125 \nQ 24.65625 74.21875 41.21875 74.21875 \nQ 47.75 74.21875 53.53125 72.484375 \nQ 59.328125 70.75 64.40625 67.28125 \nz\n\" id=\"DejaVuSans-67\"/>\n       <path d=\"M 30.609375 48.390625 \nQ 23.390625 48.390625 19.1875 42.75 \nQ 14.984375 37.109375 14.984375 27.296875 \nQ 14.984375 17.484375 19.15625 11.84375 \nQ 23.34375 6.203125 30.609375 6.203125 \nQ 37.796875 6.203125 41.984375 11.859375 \nQ 46.1875 17.53125 46.1875 27.296875 \nQ 46.1875 37.015625 41.984375 42.703125 \nQ 37.796875 48.390625 30.609375 48.390625 \nz\nM 30.609375 56 \nQ 42.328125 56 49.015625 48.375 \nQ 55.71875 40.765625 55.71875 27.296875 \nQ 55.71875 13.875 49.015625 6.21875 \nQ 42.328125 -1.421875 30.609375 -1.421875 \nQ 18.84375 -1.421875 12.171875 6.21875 \nQ 5.515625 13.875 5.515625 27.296875 \nQ 5.515625 40.765625 12.171875 48.375 \nQ 18.84375 56 30.609375 56 \nz\n\" id=\"DejaVuSans-111\"/>\n       <path d=\"M 8.5 21.578125 \nL 8.5 54.6875 \nL 17.484375 54.6875 \nL 17.484375 21.921875 \nQ 17.484375 14.15625 20.5 10.265625 \nQ 23.53125 6.390625 29.59375 6.390625 \nQ 36.859375 6.390625 41.078125 11.03125 \nQ 45.3125 15.671875 45.3125 23.6875 \nL 45.3125 54.6875 \nL 54.296875 54.6875 \nL 54.296875 0 \nL 45.3125 0 \nL 45.3125 8.40625 \nQ 42.046875 3.421875 37.71875 1 \nQ 33.40625 -1.421875 27.6875 -1.421875 \nQ 18.265625 -1.421875 13.375 4.4375 \nQ 8.5 10.296875 8.5 21.578125 \nz\nM 31.109375 56 \nz\n\" id=\"DejaVuSans-117\"/>\n       <path d=\"M 18.3125 70.21875 \nL 18.3125 54.6875 \nL 36.8125 54.6875 \nL 36.8125 47.703125 \nL 18.3125 47.703125 \nL 18.3125 18.015625 \nQ 18.3125 11.328125 20.140625 9.421875 \nQ 21.96875 7.515625 27.59375 7.515625 \nL 36.8125 7.515625 \nL 36.8125 0 \nL 27.59375 0 \nQ 17.1875 0 13.234375 3.875 \nQ 9.28125 7.765625 9.28125 18.015625 \nL 9.28125 47.703125 \nL 2.6875 47.703125 \nL 2.6875 54.6875 \nL 9.28125 54.6875 \nL 9.28125 70.21875 \nz\n\" id=\"DejaVuSans-116\"/>\n       <path d=\"M 44.28125 53.078125 \nL 44.28125 44.578125 \nQ 40.484375 46.53125 36.375 47.5 \nQ 32.28125 48.484375 27.875 48.484375 \nQ 21.1875 48.484375 17.84375 46.4375 \nQ 14.5 44.390625 14.5 40.28125 \nQ 14.5 37.15625 16.890625 35.375 \nQ 19.28125 33.59375 26.515625 31.984375 \nL 29.59375 31.296875 \nQ 39.15625 29.25 43.1875 25.515625 \nQ 47.21875 21.78125 47.21875 15.09375 \nQ 47.21875 7.46875 41.1875 3.015625 \nQ 35.15625 -1.421875 24.609375 -1.421875 \nQ 20.21875 -1.421875 15.453125 -0.5625 \nQ 10.6875 0.296875 5.421875 2 \nL 5.421875 11.28125 \nQ 10.40625 8.6875 15.234375 7.390625 \nQ 20.0625 6.109375 24.8125 6.109375 \nQ 31.15625 6.109375 34.5625 8.28125 \nQ 37.984375 10.453125 37.984375 14.40625 \nQ 37.984375 18.0625 35.515625 20.015625 \nQ 33.0625 21.96875 24.703125 23.78125 \nL 21.578125 24.515625 \nQ 13.234375 26.265625 9.515625 29.90625 \nQ 5.8125 33.546875 5.8125 39.890625 \nQ 5.8125 47.609375 11.28125 51.796875 \nQ 16.75 56 26.8125 56 \nQ 31.78125 56 36.171875 55.265625 \nQ 40.578125 54.546875 44.28125 53.078125 \nz\n\" id=\"DejaVuSans-115\"/>\n       <path d=\"M 25.390625 72.90625 \nL 33.6875 72.90625 \nL 8.296875 -9.28125 \nL 0 -9.28125 \nz\n\" id=\"DejaVuSans-47\"/>\n       <path d=\"M 45.40625 46.390625 \nL 45.40625 75.984375 \nL 54.390625 75.984375 \nL 54.390625 0 \nL 45.40625 0 \nL 45.40625 8.203125 \nQ 42.578125 3.328125 38.25 0.953125 \nQ 33.9375 -1.421875 27.875 -1.421875 \nQ 17.96875 -1.421875 11.734375 6.484375 \nQ 5.515625 14.40625 5.515625 27.296875 \nQ 5.515625 40.1875 11.734375 48.09375 \nQ 17.96875 56 27.875 56 \nQ 33.9375 56 38.25 53.625 \nQ 42.578125 51.265625 45.40625 46.390625 \nz\nM 14.796875 27.296875 \nQ 14.796875 17.390625 18.875 11.75 \nQ 22.953125 6.109375 30.078125 6.109375 \nQ 37.203125 6.109375 41.296875 11.75 \nQ 45.40625 17.390625 45.40625 27.296875 \nQ 45.40625 37.203125 41.296875 42.84375 \nQ 37.203125 48.484375 30.078125 48.484375 \nQ 22.953125 48.484375 18.875 42.84375 \nQ 14.796875 37.203125 14.796875 27.296875 \nz\n\" id=\"DejaVuSans-100\"/>\n       <path d=\"M 34.28125 27.484375 \nQ 23.390625 27.484375 19.1875 25 \nQ 14.984375 22.515625 14.984375 16.5 \nQ 14.984375 11.71875 18.140625 8.90625 \nQ 21.296875 6.109375 26.703125 6.109375 \nQ 34.1875 6.109375 38.703125 11.40625 \nQ 43.21875 16.703125 43.21875 25.484375 \nL 43.21875 27.484375 \nz\nM 52.203125 31.203125 \nL 52.203125 0 \nL 43.21875 0 \nL 43.21875 8.296875 \nQ 40.140625 3.328125 35.546875 0.953125 \nQ 30.953125 -1.421875 24.3125 -1.421875 \nQ 15.921875 -1.421875 10.953125 3.296875 \nQ 6 8.015625 6 15.921875 \nQ 6 25.140625 12.171875 29.828125 \nQ 18.359375 34.515625 30.609375 34.515625 \nL 43.21875 34.515625 \nL 43.21875 35.40625 \nQ 43.21875 41.609375 39.140625 45 \nQ 35.0625 48.390625 27.6875 48.390625 \nQ 23 48.390625 18.546875 47.265625 \nQ 14.109375 46.140625 10.015625 43.890625 \nL 10.015625 52.203125 \nQ 14.9375 54.109375 19.578125 55.046875 \nQ 24.21875 56 28.609375 56 \nQ 40.484375 56 46.34375 49.84375 \nQ 52.203125 43.703125 52.203125 31.203125 \nz\n\" id=\"DejaVuSans-97\"/>\n      </defs>\n      <use xlink:href=\"#DejaVuSans-67\"/>\n      <use x=\"69.824219\" xlink:href=\"#DejaVuSans-111\"/>\n      <use x=\"131.005859\" xlink:href=\"#DejaVuSans-117\"/>\n      <use x=\"194.384766\" xlink:href=\"#DejaVuSans-110\"/>\n      <use x=\"257.763672\" xlink:href=\"#DejaVuSans-116\"/>\n      <use x=\"296.972656\" xlink:href=\"#DejaVuSans-115\"/>\n      <use x=\"349.072266\" xlink:href=\"#DejaVuSans-32\"/>\n      <use x=\"380.859375\" xlink:href=\"#DejaVuSans-47\"/>\n      <use x=\"414.550781\" xlink:href=\"#DejaVuSans-32\"/>\n      <use x=\"446.337891\" xlink:href=\"#DejaVuSans-40\"/>\n      <use x=\"485.351562\" xlink:href=\"#DejaVuSans-52\"/>\n      <use x=\"548.974609\" xlink:href=\"#DejaVuSans-48\"/>\n      <use x=\"612.597656\" xlink:href=\"#DejaVuSans-46\"/>\n      <use x=\"644.384766\" xlink:href=\"#DejaVuSans-48\"/>\n      <use x=\"708.007812\" xlink:href=\"#DejaVuSans-32\"/>\n      <use x=\"739.794922\" xlink:href=\"#DejaVuSans-101\"/>\n      <use x=\"801.318359\" xlink:href=\"#DejaVuSans-86\"/>\n      <use x=\"869.726562\" xlink:href=\"#DejaVuSans-32\"/>\n      <use x=\"901.513672\" xlink:href=\"#DejaVuSans-107\"/>\n      <use x=\"959.423828\" xlink:href=\"#DejaVuSans-103\"/>\n      <use x=\"1022.900391\" xlink:href=\"#DejaVuSans-32\"/>\n      <use x=\"1054.6875\" xlink:href=\"#DejaVuSans-100\"/>\n      <use x=\"1118.164062\" xlink:href=\"#DejaVuSans-97\"/>\n      <use x=\"1179.443359\" xlink:href=\"#DejaVuSans-121\"/>\n      <use x=\"1238.623047\" xlink:href=\"#DejaVuSans-115\"/>\n      <use x=\"1290.722656\" xlink:href=\"#DejaVuSans-41\"/>\n     </g>\n    </g>\n   </g>\n   <g id=\"patch_3\">\n    <path clip-path=\"url(#p6b5291c939)\" d=\"M 59.690625 228.450091 \nL 59.690625 141.882899 \nL 60.360225 141.882899 \nL 60.360225 147.710582 \nL 61.029825 147.710582 \nL 61.029825 149.798111 \nL 61.699425 149.798111 \nL 61.699425 151.124561 \nL 62.369025 151.124561 \nL 62.369025 156.495598 \nL 63.038625 156.495598 \nL 63.038625 157.561107 \nL 63.708225 157.561107 \nL 63.708225 158.974538 \nL 64.377825 158.974538 \nL 64.377825 164.650005 \nL 65.047425 164.650005 \nL 65.047425 167.542102 \nL 65.717025 167.542102 \nL 65.717025 167.15069 \nL 66.386625 167.15069 \nL 66.386625 171.608433 \nL 67.056225 171.608433 \nL 67.056225 173.282805 \nL 67.725825 173.282805 \nL 67.725825 176.566313 \nL 68.395425 176.566313 \nL 68.395425 178.740822 \nL 69.065025 178.740822 \nL 69.065025 181.154527 \nL 69.734625 181.154527 \nL 69.734625 181.567683 \nL 70.404225 181.567683 \nL 70.404225 183.024604 \nL 71.073825 183.024604 \nL 71.073825 185.481799 \nL 71.743425 185.481799 \nL 71.743425 185.764485 \nL 72.413025 185.764485 \nL 72.413025 188.460876 \nL 73.082625 188.460876 \nL 73.082625 191.179012 \nL 74.421825 191.135522 \nL 74.421825 192.701168 \nL 75.091425 192.701168 \nL 75.091425 195.332323 \nL 75.761025 195.332323 \nL 75.761025 194.658226 \nL 76.430625 194.658226 \nL 76.430625 197.941734 \nL 77.100225 197.941734 \nL 77.100225 198.13744 \nL 77.769825 198.13744 \nL 77.769825 198.855028 \nL 78.439425 198.855028 \nL 78.439425 199.985772 \nL 79.109025 199.985772 \nL 79.109025 201.551418 \nL 79.778625 201.551418 \nL 79.778625 201.399203 \nL 80.448225 201.399203 \nL 80.448225 204.269554 \nL 81.117825 204.269554 \nL 81.117825 205.79171 \nL 81.787425 205.79171 \nL 81.787425 205.61775 \nL 82.457025 205.61775 \nL 82.457025 207.379102 \nL 83.126625 207.379102 \nL 83.126625 206.98769 \nL 83.796225 206.98769 \nL 83.796225 208.640317 \nL 84.465825 208.640317 \nL 84.465825 208.814278 \nL 85.135425 208.814278 \nL 85.135425 210.140728 \nL 85.805025 210.140728 \nL 85.805025 211.380198 \nL 86.474625 211.380198 \nL 86.474625 210.771335 \nL 87.144225 210.771335 \nL 87.144225 211.641139 \nL 87.813825 211.641139 \nL 87.813825 212.532687 \nL 88.483425 212.532687 \nL 88.483425 212.837119 \nL 89.153025 212.837119 \nL 89.153025 212.554433 \nL 89.822625 212.554433 \nL 89.822625 214.446255 \nL 90.492225 214.446255 \nL 90.492225 215.772705 \nL 91.161825 215.772705 \nL 91.161825 215.229078 \nL 91.831425 215.229078 \nL 91.831425 215.66398 \nL 92.501025 215.66398 \nL 92.501025 217.794999 \nL 93.170625 217.794999 \nL 93.170625 217.294862 \nL 93.840225 217.294862 \nL 93.840225 217.664528 \nL 94.509825 217.664528 \nL 94.509825 217.947214 \nL 95.849025 217.838489 \nL 95.849025 218.643057 \nL 97.188225 218.664802 \nL 97.188225 219.882527 \nL 97.857825 219.882527 \nL 97.857825 220.57837 \nL 98.527425 220.57837 \nL 98.527425 219.42588 \nL 99.197025 219.42588 \nL 99.197025 220.817566 \nL 100.536225 220.730585 \nL 100.536225 221.665624 \nL 101.205825 221.665624 \nL 101.205825 221.295958 \nL 101.875425 221.295958 \nL 101.875425 221.752604 \nL 103.214625 221.643879 \nL 103.214625 222.252741 \nL 103.884225 222.252741 \nL 103.884225 222.622408 \nL 104.553825 222.622408 \nL 104.553825 222.752878 \nL 105.223425 222.752878 \nL 105.223425 222.317977 \nL 105.893025 222.317977 \nL 105.893025 223.274761 \nL 106.562625 223.274761 \nL 106.562625 223.513956 \nL 107.232225 223.513956 \nL 107.232225 223.731407 \nL 107.901825 223.731407 \nL 107.901825 224.014093 \nL 108.571425 224.014093 \nL 108.571425 224.209799 \nL 109.241025 224.209799 \nL 109.241025 224.601211 \nL 109.910625 224.601211 \nL 109.910625 224.231544 \nL 110.580225 224.231544 \nL 110.580225 224.42725 \nL 111.249825 224.42725 \nL 111.249825 224.796917 \nL 111.919425 224.796917 \nL 111.919425 224.448995 \nL 112.589025 224.448995 \nL 112.589025 225.014368 \nL 114.597825 225.123093 \nL 114.597825 225.318799 \nL 115.267425 225.318799 \nL 115.267425 225.818936 \nL 115.937025 225.818936 \nL 115.937025 224.927387 \nL 116.606625 224.927387 \nL 116.606625 225.318799 \nL 117.276225 225.318799 \nL 117.276225 225.492759 \nL 117.945825 225.492759 \nL 117.945825 225.818936 \nL 119.285025 225.840681 \nL 119.285025 226.297328 \nL 119.954625 226.297328 \nL 119.954625 226.036387 \nL 120.624225 226.036387 \nL 120.624225 226.340818 \nL 121.293825 226.340818 \nL 121.293825 226.036387 \nL 121.963425 226.036387 \nL 121.963425 226.275583 \nL 122.633025 226.275583 \nL 122.633025 226.797465 \nL 123.302625 226.797465 \nL 123.302625 226.493033 \nL 123.972225 226.493033 \nL 123.972225 226.319073 \nL 124.641825 226.319073 \nL 124.641825 226.623504 \nL 125.311425 226.623504 \nL 125.311425 226.232092 \nL 125.981025 226.232092 \nL 125.981025 226.514779 \nL 127.320225 226.580014 \nL 127.320225 226.927935 \nL 127.989825 226.927935 \nL 127.989825 226.797465 \nL 128.659425 226.797465 \nL 128.659425 227.188876 \nL 129.329025 227.188876 \nL 129.329025 227.036661 \nL 130.668225 227.101896 \nL 130.668225 227.319347 \nL 131.337825 227.319347 \nL 131.337825 226.90619 \nL 132.007425 226.90619 \nL 132.007425 226.427798 \nL 133.346625 226.319073 \nL 133.346625 224.666446 \nL 134.016225 224.666446 \nL 134.016225 222.992074 \nL 134.685825 222.992074 \nL 134.685825 219.556351 \nL 135.355425 219.556351 \nL 135.355425 215.207333 \nL 136.025025 215.207333 \nL 136.025025 208.248905 \nL 136.694625 208.248905 \nL 136.694625 198.681067 \nL 137.364225 198.681067 \nL 137.364225 187.06919 \nL 138.033825 187.06919 \nL 138.033825 170.956081 \nL 138.703425 170.956081 \nL 138.703425 155.73452 \nL 139.373025 155.73452 \nL 139.373025 132.22808 \nL 140.042625 132.22808 \nL 140.042625 110.178562 \nL 140.712225 110.178562 \nL 140.712225 90.781944 \nL 141.381825 90.781944 \nL 141.381825 76.647637 \nL 142.051425 76.647637 \nL 142.051425 67.123289 \nL 142.721025 67.123289 \nL 142.721025 51.879983 \nL 144.060225 51.901728 \nL 144.060225 62.861252 \nL 144.729825 62.861252 \nL 144.729825 75.386422 \nL 145.399425 75.386422 \nL 145.399425 90.847179 \nL 146.069025 90.847179 \nL 146.069025 112.744482 \nL 146.738625 112.744482 \nL 146.738625 134.728765 \nL 147.408225 134.728765 \nL 147.408225 152.885913 \nL 148.077825 152.885913 \nL 148.077825 173.478511 \nL 148.747425 173.478511 \nL 148.747425 186.89523 \nL 149.417025 186.89523 \nL 149.417025 198.615832 \nL 150.086625 198.615832 \nL 150.086625 208.31414 \nL 150.756225 208.31414 \nL 150.756225 215.424784 \nL 151.425825 215.424784 \nL 151.425825 220.62186 \nL 152.095425 220.62186 \nL 152.095425 223.970603 \nL 152.765025 223.970603 \nL 152.765025 225.66672 \nL 153.434625 225.66672 \nL 153.434625 226.90619 \nL 154.104225 226.90619 \nL 154.104225 227.362837 \nL 154.773825 227.362837 \nL 154.773825 227.862974 \nL 156.113025 227.797739 \nL 156.113025 228.05868 \nL 159.461025 228.14566 \nL 159.461025 228.254386 \nL 161.469825 228.276131 \nL 161.469825 228.123915 \nL 162.139425 228.123915 \nL 162.139425 228.276131 \nL 170.844225 228.319621 \nL 170.844225 228.406601 \nL 172.183425 228.319621 \nL 172.183425 228.276131 \nL 173.522625 228.319621 \nL 173.522625 228.450091 \nL 175.531425 228.406601 \nL 175.531425 228.276131 \nL 176.870625 228.363111 \nL 176.870625 228.450091 \nL 394.490625 228.450091 \nL 394.490625 228.450091 \n\" style=\"fill:none;stroke:#1f77b4;stroke-linejoin:miter;\"/>\n   </g>\n   <g id=\"patch_4\">\n    <path clip-path=\"url(#p6b5291c939)\" d=\"M 59.690625 228.450091 \nL 59.690625 -1 \nM 65.047425 -1 \nL 65.047425 5.671672 \nL 65.717025 5.671672 \nL 65.717025 22.306664 \nL 66.386625 22.306664 \nL 66.386625 28.395289 \nL 67.056225 28.395289 \nL 67.056225 48.183318 \nL 67.725825 48.183318 \nL 67.725825 67.971347 \nL 68.395425 67.971347 \nL 68.395425 71.01566 \nL 69.065025 71.01566 \nL 69.065025 86.237221 \nL 69.734625 86.237221 \nL 69.734625 95.152706 \nL 70.404225 95.152706 \nL 70.404225 105.590348 \nL 71.073825 105.590348 \nL 71.073825 112.983678 \nL 71.743425 112.983678 \nL 71.743425 129.183768 \nL 72.413025 129.183768 \nL 72.413025 129.509944 \nL 73.082625 129.509944 \nL 73.082625 133.532785 \nL 73.752225 133.532785 \nL 73.752225 140.926115 \nL 74.421825 140.926115 \nL 74.421825 151.689933 \nL 75.091425 151.689933 \nL 75.091425 160.061792 \nL 75.761025 160.061792 \nL 75.761025 162.345026 \nL 76.430625 162.345026 \nL 76.430625 164.736986 \nL 77.100225 164.736986 \nL 77.100225 170.064532 \nL 77.769825 170.064532 \nL 77.769825 173.869922 \nL 78.439425 173.869922 \nL 78.439425 178.21894 \nL 79.109025 178.21894 \nL 79.109025 181.806879 \nL 79.778625 181.806879 \nL 79.778625 182.241781 \nL 80.448225 182.241781 \nL 80.448225 189.200209 \nL 81.117825 189.200209 \nL 81.117825 190.070012 \nL 81.787425 190.070012 \nL 81.787425 195.941186 \nL 82.457025 195.941186 \nL 82.457025 194.636481 \nL 83.126625 194.636481 \nL 83.126625 196.702264 \nL 83.796225 196.702264 \nL 83.796225 198.006969 \nL 84.465825 198.006969 \nL 84.465825 200.181478 \nL 85.135425 200.181478 \nL 85.135425 202.682163 \nL 85.805025 202.682163 \nL 85.805025 204.530495 \nL 86.474625 204.530495 \nL 86.474625 207.574808 \nL 87.144225 207.574808 \nL 87.144225 206.161377 \nL 87.813825 206.161377 \nL 87.813825 208.444611 \nL 88.483425 208.444611 \nL 88.483425 210.945296 \nL 89.153025 210.945296 \nL 89.153025 209.966767 \nL 89.822625 209.966767 \nL 89.822625 213.011079 \nL 90.492225 213.011079 \nL 90.492225 211.380198 \nL 91.161825 211.380198 \nL 91.161825 213.445981 \nL 91.831425 213.445981 \nL 91.831425 215.076863 \nL 92.501025 215.076863 \nL 92.501025 214.098334 \nL 93.170625 214.098334 \nL 93.170625 213.554707 \nL 93.840225 213.554707 \nL 93.840225 214.968137 \nL 94.509825 214.968137 \nL 94.509825 214.641961 \nL 95.179425 214.641961 \nL 95.179425 218.121175 \nL 95.849025 218.121175 \nL 95.849025 218.447351 \nL 96.518625 218.447351 \nL 96.518625 218.882253 \nL 97.188225 218.882253 \nL 97.188225 217.794999 \nL 97.857825 217.794999 \nL 97.857825 217.251371 \nL 98.527425 217.251371 \nL 98.527425 220.404409 \nL 99.197025 220.404409 \nL 99.197025 218.556077 \nL 99.866625 218.556077 \nL 99.866625 221.274212 \nL 100.536225 221.274212 \nL 100.536225 219.099704 \nL 101.205825 219.099704 \nL 101.205825 219.969507 \nL 101.875425 219.969507 \nL 101.875425 221.165487 \nL 102.545025 221.165487 \nL 102.545025 220.948036 \nL 103.214625 220.948036 \nL 103.214625 219.752056 \nL 103.884225 219.752056 \nL 103.884225 220.513134 \nL 105.223425 220.62186 \nL 105.223425 220.948036 \nL 105.893025 220.948036 \nL 105.893025 220.513134 \nL 106.562625 220.513134 \nL 106.562625 221.926565 \nL 107.232225 221.926565 \nL 107.232225 221.165487 \nL 107.901825 221.165487 \nL 107.901825 222.252741 \nL 108.571425 222.252741 \nL 108.571425 221.274212 \nL 109.241025 221.274212 \nL 109.241025 220.404409 \nL 110.580225 220.513134 \nL 110.580225 222.578918 \nL 111.249825 222.578918 \nL 111.249825 221.81784 \nL 112.589025 221.709114 \nL 112.589025 221.491663 \nL 113.258625 221.491663 \nL 113.258625 220.839311 \nL 114.597825 220.730585 \nL 114.597825 222.470192 \nL 115.267425 222.470192 \nL 115.267425 222.687643 \nL 115.937025 222.687643 \nL 115.937025 221.274212 \nL 116.606625 221.274212 \nL 116.606625 223.23127 \nL 117.276225 223.23127 \nL 117.276225 220.839311 \nL 117.945825 220.839311 \nL 117.945825 223.013819 \nL 118.615425 223.013819 \nL 118.615425 222.144016 \nL 119.285025 222.144016 \nL 119.285025 222.470192 \nL 119.954625 222.470192 \nL 119.954625 224.862152 \nL 120.624225 224.862152 \nL 120.624225 222.687643 \nL 121.293825 222.687643 \nL 121.293825 223.23127 \nL 121.963425 223.23127 \nL 121.963425 222.687643 \nL 123.302625 222.796369 \nL 123.302625 223.013819 \nL 124.641825 223.013819 \nL 124.641825 222.470192 \nL 125.981025 222.361467 \nL 125.981025 221.709114 \nL 127.320225 221.600389 \nL 127.320225 223.122545 \nL 127.989825 223.122545 \nL 127.989825 221.382938 \nL 128.659425 221.382938 \nL 128.659425 221.056762 \nL 129.329025 221.056762 \nL 129.329025 219.534606 \nL 129.998625 219.534606 \nL 129.998625 221.926565 \nL 131.337825 221.926565 \nL 131.337825 224.209799 \nL 132.007425 224.209799 \nL 132.007425 221.600389 \nL 132.677025 221.600389 \nL 132.677025 222.578918 \nL 133.346625 222.578918 \nL 133.346625 222.252741 \nL 134.685825 222.144016 \nL 134.685825 221.926565 \nL 136.025025 221.81784 \nL 136.025025 223.448721 \nL 136.694625 223.448721 \nL 136.694625 222.252741 \nL 137.364225 222.252741 \nL 137.364225 223.013819 \nL 138.033825 223.013819 \nL 138.033825 223.23127 \nL 139.373025 223.23127 \nL 139.373025 222.252741 \nL 140.042625 222.252741 \nL 140.042625 222.905094 \nL 140.712225 222.905094 \nL 140.712225 223.448721 \nL 141.381825 223.448721 \nL 141.381825 222.905094 \nL 142.051425 222.905094 \nL 142.051425 222.361467 \nL 142.721025 222.361467 \nL 142.721025 223.339996 \nL 143.390625 223.339996 \nL 143.390625 223.122545 \nL 144.060225 223.122545 \nL 144.060225 221.81784 \nL 144.729825 221.81784 \nL 144.729825 222.687643 \nL 145.399425 222.687643 \nL 145.399425 222.252741 \nL 146.069025 222.252741 \nL 146.069025 221.709114 \nL 146.738625 221.709114 \nL 146.738625 222.796369 \nL 148.077825 222.687643 \nL 148.077825 223.013819 \nL 148.747425 223.013819 \nL 148.747425 222.796369 \nL 149.417025 222.796369 \nL 149.417025 222.252741 \nL 150.086625 222.252741 \nL 150.086625 223.557447 \nL 150.756225 223.557447 \nL 150.756225 222.905094 \nL 151.425825 222.905094 \nL 151.425825 221.709114 \nL 152.095425 221.709114 \nL 152.095425 222.796369 \nL 153.434625 222.687643 \nL 153.434625 223.883623 \nL 154.104225 223.883623 \nL 154.104225 222.252741 \nL 154.773825 222.252741 \nL 154.773825 223.013819 \nL 155.443425 223.013819 \nL 155.443425 222.361467 \nL 156.113025 222.361467 \nL 156.113025 221.81784 \nL 156.782625 221.81784 \nL 156.782625 222.796369 \nL 157.452225 222.796369 \nL 157.452225 223.23127 \nL 158.121825 223.23127 \nL 158.121825 223.992348 \nL 158.791425 223.992348 \nL 158.791425 222.361467 \nL 159.461025 222.361467 \nL 159.461025 222.144016 \nL 160.130625 222.144016 \nL 160.130625 223.122545 \nL 160.800225 223.122545 \nL 160.800225 223.339996 \nL 161.469825 223.339996 \nL 161.469825 222.905094 \nL 162.139425 222.905094 \nL 162.139425 223.774898 \nL 162.809025 223.774898 \nL 162.809025 221.81784 \nL 163.478625 221.81784 \nL 163.478625 223.23127 \nL 164.148225 223.23127 \nL 164.148225 222.470192 \nL 164.817825 222.470192 \nL 164.817825 223.23127 \nL 165.487425 223.23127 \nL 165.487425 223.013819 \nL 166.157025 223.013819 \nL 166.157025 223.448721 \nL 166.826625 223.448721 \nL 166.826625 222.578918 \nL 167.496225 222.578918 \nL 167.496225 222.252741 \nL 168.165825 222.252741 \nL 168.165825 221.926565 \nL 169.505025 222.035291 \nL 169.505025 222.905094 \nL 170.174625 222.905094 \nL 170.174625 221.165487 \nL 170.844225 221.165487 \nL 170.844225 223.992348 \nL 171.513825 223.992348 \nL 171.513825 223.23127 \nL 172.183425 223.23127 \nL 172.183425 222.252741 \nL 172.853025 222.252741 \nL 172.853025 223.122545 \nL 173.522625 223.122545 \nL 173.522625 223.339996 \nL 174.192225 223.339996 \nL 174.192225 222.470192 \nL 174.861825 222.470192 \nL 174.861825 223.666172 \nL 175.531425 223.666172 \nL 175.531425 221.926565 \nL 176.201025 221.926565 \nL 176.201025 223.23127 \nL 177.540225 223.23127 \nL 177.540225 222.796369 \nL 178.209825 222.796369 \nL 178.209825 222.035291 \nL 178.879425 222.035291 \nL 178.879425 221.274212 \nL 179.549025 221.274212 \nL 179.549025 220.730585 \nL 180.218625 220.730585 \nL 180.218625 223.883623 \nL 180.888225 223.883623 \nL 180.888225 223.122545 \nL 181.557825 223.122545 \nL 181.557825 222.578918 \nL 182.227425 222.578918 \nL 182.227425 221.926565 \nL 182.897025 221.926565 \nL 182.897025 222.687643 \nL 183.566625 222.687643 \nL 183.566625 221.709114 \nL 184.236225 221.709114 \nL 184.236225 222.905094 \nL 185.575425 222.905094 \nL 185.575425 223.122545 \nL 186.914625 223.23127 \nL 186.914625 222.796369 \nL 188.253825 222.687643 \nL 188.253825 223.122545 \nL 190.262625 223.23127 \nL 190.262625 221.709114 \nL 191.601825 221.709114 \nL 191.601825 222.361467 \nL 192.271425 222.361467 \nL 192.271425 222.687643 \nL 192.941025 222.687643 \nL 192.941025 222.905094 \nL 193.610625 222.905094 \nL 193.610625 223.122545 \nL 194.280225 223.122545 \nL 194.280225 221.926565 \nL 194.949825 221.926565 \nL 194.949825 223.339996 \nL 195.619425 223.339996 \nL 195.619425 222.252741 \nL 196.289025 222.252741 \nL 196.289025 222.035291 \nL 196.958625 222.035291 \nL 196.958625 223.122545 \nL 197.628225 223.122545 \nL 197.628225 223.774898 \nL 198.297825 223.774898 \nL 198.297825 222.905094 \nL 198.967425 222.905094 \nL 198.967425 223.339996 \nL 199.637025 223.339996 \nL 199.637025 221.81784 \nL 200.306625 221.81784 \nL 200.306625 224.101074 \nL 200.976225 224.101074 \nL 200.976225 222.144016 \nL 201.645825 222.144016 \nL 201.645825 222.687643 \nL 202.315425 222.687643 \nL 202.315425 221.926565 \nL 202.985025 221.926565 \nL 202.985025 223.013819 \nL 203.654625 223.013819 \nL 203.654625 222.687643 \nL 204.324225 222.687643 \nL 204.324225 223.339996 \nL 204.993825 223.339996 \nL 204.993825 223.557447 \nL 205.663425 223.557447 \nL 205.663425 224.101074 \nL 206.333025 224.101074 \nL 206.333025 223.774898 \nL 207.002625 223.774898 \nL 207.002625 223.992348 \nL 207.672225 223.992348 \nL 207.672225 221.382938 \nL 208.341825 221.382938 \nL 208.341825 223.448721 \nL 209.011425 223.448721 \nL 209.011425 221.926565 \nL 209.681025 221.926565 \nL 209.681025 222.796369 \nL 210.350625 222.796369 \nL 210.350625 223.23127 \nL 211.020225 223.23127 \nL 211.020225 224.644701 \nL 211.689825 224.644701 \nL 211.689825 222.144016 \nL 212.359425 222.144016 \nL 212.359425 222.578918 \nL 213.029025 222.578918 \nL 213.029025 223.448721 \nL 213.698625 223.448721 \nL 213.698625 221.382938 \nL 214.368225 221.382938 \nL 214.368225 222.796369 \nL 215.707425 222.687643 \nL 215.707425 224.753426 \nL 216.377025 224.753426 \nL 216.377025 223.666172 \nL 217.046625 223.666172 \nL 217.046625 223.122545 \nL 217.716225 223.122545 \nL 217.716225 222.687643 \nL 218.385825 222.687643 \nL 218.385825 223.448721 \nL 219.055425 223.448721 \nL 219.055425 221.382938 \nL 219.725025 221.382938 \nL 219.725025 222.687643 \nL 220.394625 222.687643 \nL 220.394625 223.774898 \nL 221.064225 223.774898 \nL 221.064225 223.013819 \nL 221.733825 223.013819 \nL 221.733825 223.23127 \nL 222.403425 223.23127 \nL 222.403425 222.035291 \nL 223.073025 222.035291 \nL 223.073025 222.578918 \nL 223.742625 222.578918 \nL 223.742625 221.382938 \nL 224.412225 221.382938 \nL 224.412225 221.056762 \nL 225.081825 221.056762 \nL 225.081825 222.796369 \nL 225.751425 222.796369 \nL 225.751425 222.470192 \nL 226.421025 222.470192 \nL 226.421025 223.23127 \nL 227.090625 223.23127 \nL 227.090625 222.361467 \nL 228.429825 222.361467 \nL 228.429825 223.122545 \nL 229.099425 223.122545 \nL 229.099425 223.339996 \nL 229.769025 223.339996 \nL 229.769025 222.035291 \nL 230.438625 222.035291 \nL 230.438625 222.578918 \nL 231.108225 222.578918 \nL 231.108225 223.013819 \nL 231.777825 223.013819 \nL 231.777825 222.578918 \nL 232.447425 222.578918 \nL 232.447425 223.666172 \nL 233.117025 223.666172 \nL 233.117025 222.470192 \nL 233.786625 222.470192 \nL 233.786625 222.035291 \nL 234.456225 222.035291 \nL 234.456225 223.122545 \nL 235.125825 223.122545 \nL 235.125825 221.709114 \nL 235.795425 221.709114 \nL 235.795425 222.578918 \nL 236.465025 222.578918 \nL 236.465025 223.883623 \nL 237.134625 223.883623 \nL 237.134625 222.905094 \nL 238.473825 223.013819 \nL 238.473825 220.948036 \nL 239.143425 220.948036 \nL 239.143425 222.687643 \nL 240.482625 222.578918 \nL 240.482625 221.491663 \nL 241.152225 221.491663 \nL 241.152225 223.339996 \nL 241.821825 223.339996 \nL 241.821825 222.578918 \nL 242.491425 222.578918 \nL 242.491425 223.013819 \nL 243.161025 223.013819 \nL 243.161025 223.774898 \nL 243.830625 223.774898 \nL 243.830625 224.101074 \nL 244.500225 224.101074 \nL 244.500225 221.491663 \nL 245.169825 221.491663 \nL 245.169825 223.013819 \nL 246.509025 222.905094 \nL 246.509025 222.796369 \nL 247.178625 222.796369 \nL 247.178625 221.709114 \nL 247.848225 221.709114 \nL 247.848225 222.035291 \nL 249.187425 222.035291 \nL 249.187425 221.709114 \nL 249.857025 221.709114 \nL 249.857025 223.23127 \nL 250.526625 223.23127 \nL 250.526625 222.144016 \nL 251.196225 222.144016 \nL 251.196225 223.013819 \nL 251.865825 223.013819 \nL 251.865825 222.796369 \nL 252.535425 222.796369 \nL 252.535425 223.339996 \nL 253.874625 223.339996 \nL 253.874625 222.687643 \nL 254.544225 222.687643 \nL 254.544225 221.709114 \nL 255.213825 221.709114 \nL 255.213825 223.557447 \nL 255.883425 223.557447 \nL 255.883425 222.687643 \nL 256.553025 222.687643 \nL 256.553025 223.122545 \nL 257.222625 223.122545 \nL 257.222625 223.883623 \nL 257.892225 223.883623 \nL 257.892225 223.013819 \nL 259.901025 223.013819 \nL 259.901025 223.666172 \nL 260.570625 223.666172 \nL 260.570625 222.687643 \nL 261.240225 222.687643 \nL 261.240225 223.013819 \nL 261.909825 223.013819 \nL 261.909825 223.557447 \nL 262.579425 223.557447 \nL 262.579425 222.578918 \nL 263.249025 222.578918 \nL 263.249025 223.23127 \nL 264.588225 223.23127 \nL 264.588225 222.796369 \nL 265.927425 222.687643 \nL 265.927425 221.491663 \nL 266.597025 221.491663 \nL 266.597025 222.905094 \nL 267.266625 222.905094 \nL 267.266625 223.23127 \nL 267.936225 223.23127 \nL 267.936225 220.839311 \nL 268.605825 220.839311 \nL 268.605825 221.600389 \nL 269.275425 221.600389 \nL 269.275425 222.905094 \nL 269.945025 222.905094 \nL 269.945025 223.883623 \nL 270.614625 223.883623 \nL 270.614625 221.600389 \nL 271.284225 221.600389 \nL 271.284225 221.81784 \nL 272.623425 221.926565 \nL 272.623425 222.035291 \nL 273.962625 221.926565 \nL 273.962625 222.905094 \nL 274.632225 222.905094 \nL 274.632225 223.122545 \nL 275.971425 223.23127 \nL 275.971425 221.600389 \nL 276.641025 221.600389 \nL 276.641025 222.144016 \nL 277.310625 222.144016 \nL 277.310625 223.557447 \nL 277.980225 223.557447 \nL 277.980225 221.81784 \nL 278.649825 221.81784 \nL 278.649825 222.687643 \nL 279.319425 222.687643 \nL 279.319425 221.709114 \nL 279.989025 221.709114 \nL 279.989025 221.165487 \nL 280.658625 221.165487 \nL 280.658625 222.578918 \nL 281.997825 222.687643 \nL 281.997825 221.926565 \nL 282.667425 221.926565 \nL 282.667425 222.252741 \nL 283.337025 222.252741 \nL 283.337025 221.382938 \nL 284.006625 221.382938 \nL 284.006625 222.578918 \nL 284.676225 222.578918 \nL 284.676225 222.252741 \nL 286.015425 222.144016 \nL 286.015425 221.709114 \nL 286.685025 221.709114 \nL 286.685025 222.144016 \nL 287.354625 222.144016 \nL 287.354625 223.23127 \nL 288.693825 223.122545 \nL 288.693825 222.578918 \nL 289.363425 222.578918 \nL 289.363425 222.252741 \nL 290.033025 222.252741 \nL 290.033025 221.709114 \nL 291.372225 221.81784 \nL 291.372225 223.013819 \nL 292.041825 223.013819 \nL 292.041825 224.101074 \nL 292.711425 224.101074 \nL 292.711425 223.774898 \nL 293.381025 223.774898 \nL 293.381025 222.144016 \nL 294.050625 222.144016 \nL 294.050625 223.23127 \nL 294.720225 223.23127 \nL 294.720225 222.035291 \nL 295.389825 222.035291 \nL 295.389825 223.992348 \nL 296.059425 223.992348 \nL 296.059425 221.600389 \nL 296.729025 221.600389 \nL 296.729025 222.470192 \nL 298.068225 222.578918 \nL 298.068225 222.144016 \nL 299.407425 222.035291 \nL 299.407425 223.666172 \nL 300.077025 223.666172 \nL 300.077025 221.382938 \nL 300.746625 221.382938 \nL 300.746625 222.687643 \nL 302.085825 222.796369 \nL 302.085825 222.144016 \nL 303.425025 222.252741 \nL 303.425025 221.274212 \nL 304.094625 221.274212 \nL 304.094625 222.252741 \nL 304.764225 222.252741 \nL 304.764225 223.557447 \nL 305.433825 223.557447 \nL 305.433825 222.252741 \nL 306.773025 222.144016 \nL 306.773025 221.81784 \nL 307.442625 221.81784 \nL 307.442625 223.339996 \nL 308.781825 223.448721 \nL 308.781825 222.035291 \nL 309.451425 222.035291 \nL 309.451425 222.687643 \nL 310.121025 222.687643 \nL 310.121025 223.448721 \nL 310.790625 223.448721 \nL 310.790625 228.450091 \nL 394.490625 228.450091 \nL 394.490625 228.450091 \n\" style=\"fill:none;stroke:#ff7f0e;stroke-linejoin:miter;\"/>\n   </g>\n   <g id=\"patch_5\">\n    <path clip-path=\"url(#p6b5291c939)\" d=\"M 59.690625 228.450091 \nL 59.690625 224.112671 \nL 61.029825 224.156161 \nL 61.029825 224.34027 \nL 63.038625 224.431599 \nL 63.038625 224.676594 \nL 65.717025 224.69399 \nL 65.717025 224.892595 \nL 67.056225 224.933186 \nL 67.056225 225.085401 \nL 69.065025 225.111496 \nL 69.065025 225.233268 \nL 71.073825 225.284007 \nL 71.073825 225.540599 \nL 74.421825 225.627579 \nL 74.421825 225.723257 \nL 77.100225 225.704412 \nL 77.100225 225.840681 \nL 77.769825 225.840681 \nL 77.769825 226.013192 \nL 80.448225 226.050883 \nL 80.448225 226.190052 \nL 83.796225 226.297328 \nL 83.796225 226.335019 \nL 84.465825 226.335019 \nL 84.465825 226.485785 \nL 88.483425 226.585812 \nL 88.483425 226.629303 \nL 90.492225 226.662645 \nL 90.492225 226.796015 \nL 93.170625 226.836606 \nL 93.170625 226.940982 \nL 97.188225 227.026513 \nL 97.188225 227.098997 \nL 100.536225 227.154084 \nL 100.536225 227.235266 \nL 104.553825 227.322246 \nL 104.553825 227.346891 \nL 108.571425 227.407777 \nL 108.571425 227.490408 \nL 112.589025 227.577388 \nL 112.589025 227.631026 \nL 120.624225 227.683215 \nL 120.624225 227.74845 \nL 125.981025 227.813685 \nL 125.981025 227.861524 \nL 133.346625 227.918061 \nL 133.346625 227.978948 \nL 150.756225 228.041284 \nL 150.756225 228.109418 \nL 157.452225 228.01374 \nL 157.452225 227.996344 \nL 167.496225 227.900665 \nL 167.496225 227.855726 \nL 175.531425 227.780343 \nL 175.531425 227.733953 \nL 181.557825 227.631026 \nL 181.557825 227.622328 \nL 184.236225 227.678866 \nL 184.236225 227.509254 \nL 190.262625 227.43822 \nL 190.262625 227.381683 \nL 192.941025 227.401978 \nL 192.941025 227.230917 \nL 199.637025 227.239615 \nL 199.637025 227.119292 \nL 204.324225 227.012016 \nL 204.324225 226.956929 \nL 211.689825 226.933734 \nL 211.689825 226.827908 \nL 212.359425 226.827908 \nL 212.359425 226.958378 \nL 213.698625 226.868499 \nL 213.698625 226.726431 \nL 216.377025 226.735129 \nL 216.377025 226.852552 \nL 218.385825 226.759773 \nL 218.385825 226.704686 \nL 226.421025 226.675692 \nL 226.421025 226.588712 \nL 227.760225 226.680041 \nL 227.760225 226.753974 \nL 240.482625 226.843854 \nL 240.482625 226.932284 \nL 249.187425 226.988821 \nL 249.187425 227.112044 \nL 255.213825 227.193225 \nL 255.213825 227.25991 \nL 259.231425 227.281655 \nL 259.231425 227.486059 \nL 260.570625 227.430972 \nL 260.570625 227.357038 \nL 263.918625 227.413575 \nL 263.918625 227.538247 \nL 266.597025 227.533898 \nL 266.597025 227.673067 \nL 271.953825 227.697711 \nL 271.953825 227.864424 \nL 273.293025 227.781792 \nL 273.293025 227.733953 \nL 275.301825 227.841229 \nL 275.301825 227.864424 \nL 283.337025 227.971699 \nL 283.337025 228.036935 \nL 289.363425 228.129714 \nL 289.363425 228.167405 \nL 298.737825 228.271782 \nL 298.737825 228.28048 \nL 314.808225 228.379057 \nL 314.808225 228.397903 \nL 394.490625 228.450091 \nL 394.490625 228.450091 \n\" style=\"fill:none;stroke:#2ca02c;stroke-linejoin:miter;\"/>\n   </g>\n   <g id=\"patch_6\">\n    <path d=\"M 59.690625 228.439219 \nL 59.690625 10.999219 \n\" style=\"fill:none;stroke:#000000;stroke-linecap:square;stroke-linejoin:miter;stroke-width:0.8;\"/>\n   </g>\n   <g id=\"patch_7\">\n    <path d=\"M 394.490625 228.439219 \nL 394.490625 10.999219 \n\" style=\"fill:none;stroke:#000000;stroke-linecap:square;stroke-linejoin:miter;stroke-width:0.8;\"/>\n   </g>\n   <g id=\"patch_8\">\n    <path d=\"M 59.690625 228.439219 \nL 394.490625 228.439219 \n\" style=\"fill:none;stroke:#000000;stroke-linecap:square;stroke-linejoin:miter;stroke-width:0.8;\"/>\n   </g>\n   <g id=\"patch_9\">\n    <path d=\"M 59.690625 10.999219 \nL 394.490625 10.999219 \n\" style=\"fill:none;stroke:#000000;stroke-linecap:square;stroke-linejoin:miter;stroke-width:0.8;\"/>\n   </g>\n   <g id=\"legend_1\">\n    <g id=\"patch_10\">\n     <path d=\"M 287.55 63.033594 \nL 387.490625 63.033594 \nQ 389.490625 63.033594 389.490625 61.033594 \nL 389.490625 17.999219 \nQ 389.490625 15.999219 387.490625 15.999219 \nL 287.55 15.999219 \nQ 285.55 15.999219 285.55 17.999219 \nL 285.55 61.033594 \nQ 285.55 63.033594 287.55 63.033594 \nz\n\" style=\"fill:#ffffff;opacity:0.8;stroke:#cccccc;stroke-linejoin:miter;\"/>\n    </g>\n    <g id=\"patch_11\">\n     <path d=\"M 289.55 27.597656 \nL 309.55 27.597656 \nL 309.55 20.597656 \nL 289.55 20.597656 \nz\n\" style=\"fill:none;stroke:#1f77b4;stroke-linejoin:miter;\"/>\n    </g>\n    <g id=\"text_17\">\n     <!-- Experiment A -->\n     <g transform=\"translate(317.55 27.597656)scale(0.1 -0.1)\">\n      <defs>\n       <path d=\"M 54.890625 54.6875 \nL 35.109375 28.078125 \nL 55.90625 0 \nL 45.3125 0 \nL 29.390625 21.484375 \nL 13.484375 0 \nL 2.875 0 \nL 24.125 28.609375 \nL 4.6875 54.6875 \nL 15.28125 54.6875 \nL 29.78125 35.203125 \nL 44.28125 54.6875 \nz\n\" id=\"DejaVuSans-120\"/>\n       <path d=\"M 18.109375 8.203125 \nL 18.109375 -20.796875 \nL 9.078125 -20.796875 \nL 9.078125 54.6875 \nL 18.109375 54.6875 \nL 18.109375 46.390625 \nQ 20.953125 51.265625 25.265625 53.625 \nQ 29.59375 56 35.59375 56 \nQ 45.5625 56 51.78125 48.09375 \nQ 58.015625 40.1875 58.015625 27.296875 \nQ 58.015625 14.40625 51.78125 6.484375 \nQ 45.5625 -1.421875 35.59375 -1.421875 \nQ 29.59375 -1.421875 25.265625 0.953125 \nQ 20.953125 3.328125 18.109375 8.203125 \nz\nM 48.6875 27.296875 \nQ 48.6875 37.203125 44.609375 42.84375 \nQ 40.53125 48.484375 33.40625 48.484375 \nQ 26.265625 48.484375 22.1875 42.84375 \nQ 18.109375 37.203125 18.109375 27.296875 \nQ 18.109375 17.390625 22.1875 11.75 \nQ 26.265625 6.109375 33.40625 6.109375 \nQ 40.53125 6.109375 44.609375 11.75 \nQ 48.6875 17.390625 48.6875 27.296875 \nz\n\" id=\"DejaVuSans-112\"/>\n       <path d=\"M 9.421875 54.6875 \nL 18.40625 54.6875 \nL 18.40625 0 \nL 9.421875 0 \nz\nM 9.421875 75.984375 \nL 18.40625 75.984375 \nL 18.40625 64.59375 \nL 9.421875 64.59375 \nz\n\" id=\"DejaVuSans-105\"/>\n       <path d=\"M 52 44.1875 \nQ 55.375 50.25 60.0625 53.125 \nQ 64.75 56 71.09375 56 \nQ 79.640625 56 84.28125 50.015625 \nQ 88.921875 44.046875 88.921875 33.015625 \nL 88.921875 0 \nL 79.890625 0 \nL 79.890625 32.71875 \nQ 79.890625 40.578125 77.09375 44.375 \nQ 74.3125 48.1875 68.609375 48.1875 \nQ 61.625 48.1875 57.5625 43.546875 \nQ 53.515625 38.921875 53.515625 30.90625 \nL 53.515625 0 \nL 44.484375 0 \nL 44.484375 32.71875 \nQ 44.484375 40.625 41.703125 44.40625 \nQ 38.921875 48.1875 33.109375 48.1875 \nQ 26.21875 48.1875 22.15625 43.53125 \nQ 18.109375 38.875 18.109375 30.90625 \nL 18.109375 0 \nL 9.078125 0 \nL 9.078125 54.6875 \nL 18.109375 54.6875 \nL 18.109375 46.1875 \nQ 21.1875 51.21875 25.484375 53.609375 \nQ 29.78125 56 35.6875 56 \nQ 41.65625 56 45.828125 52.96875 \nQ 50 49.953125 52 44.1875 \nz\n\" id=\"DejaVuSans-109\"/>\n       <path d=\"M 34.1875 63.1875 \nL 20.796875 26.90625 \nL 47.609375 26.90625 \nz\nM 28.609375 72.90625 \nL 39.796875 72.90625 \nL 67.578125 0 \nL 57.328125 0 \nL 50.6875 18.703125 \nL 17.828125 18.703125 \nL 11.1875 0 \nL 0.78125 0 \nz\n\" id=\"DejaVuSans-65\"/>\n      </defs>\n      <use xlink:href=\"#DejaVuSans-69\"/>\n      <use x=\"63.183594\" xlink:href=\"#DejaVuSans-120\"/>\n      <use x=\"122.363281\" xlink:href=\"#DejaVuSans-112\"/>\n      <use x=\"185.839844\" xlink:href=\"#DejaVuSans-101\"/>\n      <use x=\"247.363281\" xlink:href=\"#DejaVuSans-114\"/>\n      <use x=\"288.476562\" xlink:href=\"#DejaVuSans-105\"/>\n      <use x=\"316.259766\" xlink:href=\"#DejaVuSans-109\"/>\n      <use x=\"413.671875\" xlink:href=\"#DejaVuSans-101\"/>\n      <use x=\"475.195312\" xlink:href=\"#DejaVuSans-110\"/>\n      <use x=\"538.574219\" xlink:href=\"#DejaVuSans-116\"/>\n      <use x=\"577.783203\" xlink:href=\"#DejaVuSans-32\"/>\n      <use x=\"609.570312\" xlink:href=\"#DejaVuSans-65\"/>\n     </g>\n    </g>\n    <g id=\"patch_12\">\n     <path d=\"M 289.55 42.275781 \nL 309.55 42.275781 \nL 309.55 35.275781 \nL 289.55 35.275781 \nz\n\" style=\"fill:none;stroke:#ff7f0e;stroke-linejoin:miter;\"/>\n    </g>\n    <g id=\"text_18\">\n     <!-- Experiment B -->\n     <g transform=\"translate(317.55 42.275781)scale(0.1 -0.1)\">\n      <defs>\n       <path d=\"M 19.671875 34.8125 \nL 19.671875 8.109375 \nL 35.5 8.109375 \nQ 43.453125 8.109375 47.28125 11.40625 \nQ 51.125 14.703125 51.125 21.484375 \nQ 51.125 28.328125 47.28125 31.5625 \nQ 43.453125 34.8125 35.5 34.8125 \nz\nM 19.671875 64.796875 \nL 19.671875 42.828125 \nL 34.28125 42.828125 \nQ 41.5 42.828125 45.03125 45.53125 \nQ 48.578125 48.25 48.578125 53.8125 \nQ 48.578125 59.328125 45.03125 62.0625 \nQ 41.5 64.796875 34.28125 64.796875 \nz\nM 9.8125 72.90625 \nL 35.015625 72.90625 \nQ 46.296875 72.90625 52.390625 68.21875 \nQ 58.5 63.53125 58.5 54.890625 \nQ 58.5 48.1875 55.375 44.234375 \nQ 52.25 40.28125 46.1875 39.3125 \nQ 53.46875 37.75 57.5 32.78125 \nQ 61.53125 27.828125 61.53125 20.40625 \nQ 61.53125 10.640625 54.890625 5.3125 \nQ 48.25 0 35.984375 0 \nL 9.8125 0 \nz\n\" id=\"DejaVuSans-66\"/>\n      </defs>\n      <use xlink:href=\"#DejaVuSans-69\"/>\n      <use x=\"63.183594\" xlink:href=\"#DejaVuSans-120\"/>\n      <use x=\"122.363281\" xlink:href=\"#DejaVuSans-112\"/>\n      <use x=\"185.839844\" xlink:href=\"#DejaVuSans-101\"/>\n      <use x=\"247.363281\" xlink:href=\"#DejaVuSans-114\"/>\n      <use x=\"288.476562\" xlink:href=\"#DejaVuSans-105\"/>\n      <use x=\"316.259766\" xlink:href=\"#DejaVuSans-109\"/>\n      <use x=\"413.671875\" xlink:href=\"#DejaVuSans-101\"/>\n      <use x=\"475.195312\" xlink:href=\"#DejaVuSans-110\"/>\n      <use x=\"538.574219\" xlink:href=\"#DejaVuSans-116\"/>\n      <use x=\"577.783203\" xlink:href=\"#DejaVuSans-32\"/>\n      <use x=\"609.570312\" xlink:href=\"#DejaVuSans-66\"/>\n     </g>\n    </g>\n    <g id=\"patch_13\">\n     <path d=\"M 289.55 56.953906 \nL 309.55 56.953906 \nL 309.55 49.953906 \nL 289.55 49.953906 \nz\n\" style=\"fill:none;stroke:#2ca02c;stroke-linejoin:miter;\"/>\n    </g>\n    <g id=\"text_19\">\n     <!-- Experiment C -->\n     <g transform=\"translate(317.55 56.953906)scale(0.1 -0.1)\">\n      <use xlink:href=\"#DejaVuSans-69\"/>\n      <use x=\"63.183594\" xlink:href=\"#DejaVuSans-120\"/>\n      <use x=\"122.363281\" xlink:href=\"#DejaVuSans-112\"/>\n      <use x=\"185.839844\" xlink:href=\"#DejaVuSans-101\"/>\n      <use x=\"247.363281\" xlink:href=\"#DejaVuSans-114\"/>\n      <use x=\"288.476562\" xlink:href=\"#DejaVuSans-105\"/>\n      <use x=\"316.259766\" xlink:href=\"#DejaVuSans-109\"/>\n      <use x=\"413.671875\" xlink:href=\"#DejaVuSans-101\"/>\n      <use x=\"475.195312\" xlink:href=\"#DejaVuSans-110\"/>\n      <use x=\"538.574219\" xlink:href=\"#DejaVuSans-116\"/>\n      <use x=\"577.783203\" xlink:href=\"#DejaVuSans-32\"/>\n      <use x=\"609.570312\" xlink:href=\"#DejaVuSans-67\"/>\n     </g>\n    </g>\n   </g>\n  </g>\n </g>\n <defs>\n  <clipPath id=\"p6b5291c939\">\n   <rect height=\"217.44\" width=\"334.8\" x=\"59.690625\" y=\"10.999219\"/>\n  </clipPath>\n </defs>\n</svg>\n",
          "text/plain": "<Figure size 432x288 with 1 Axes>"
         },
         "metadata": {
          "needs_background": "light"
         },
         "output_type": "display_data"
        }
       ]
      }
     },
     "dbf3398de83449a68e242167f528afff": {
      "model_module": "@jupyter-widgets/controls",
      "model_module_version": "1.5.0",
      "model_name": "CheckboxModel",
      "state": {
       "description": "Plot Experiment C",
       "disabled": false,
       "layout": "IPY_MODEL_d06f3db877a7454286c587de0324fb69",
       "style": "IPY_MODEL_f784d2a1b16847d3836c2d2d45342a1d",
       "value": true
      }
     },
     "e8f5464f9efb4bba83407fd60c3ee008": {
      "model_module": "@jupyter-widgets/base",
      "model_module_version": "1.2.0",
      "model_name": "LayoutModel",
      "state": {}
     },
     "f2856a867cc94765b288716801c79fb5": {
      "model_module": "@jupyter-widgets/controls",
      "model_module_version": "1.5.0",
      "model_name": "SliderStyleModel",
      "state": {
       "description_width": ""
      }
     },
     "f784d2a1b16847d3836c2d2d45342a1d": {
      "model_module": "@jupyter-widgets/controls",
      "model_module_version": "1.5.0",
      "model_name": "DescriptionStyleModel",
      "state": {
       "description_width": ""
      }
     }
    },
    "version_major": 2,
    "version_minor": 0
   }
  }
 },
 "nbformat": 4,
 "nbformat_minor": 4
}
