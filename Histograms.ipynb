{
 "cells": [
  {
   "cell_type": "markdown",
   "metadata": {},
   "source": [
    "****\n",
    "# Excess Workshop Data Visualization\n",
    "****"
   ]
  },
  {
   "cell_type": "markdown",
   "metadata": {},
   "source": [
    "Contact Information"
   ]
  },
  {
   "cell_type": "markdown",
   "metadata": {},
   "source": [
    "... Abstract ..."
   ]
  },
  {
   "cell_type": "markdown",
   "metadata": {},
   "source": [
    "## Introduction"
   ]
  },
  {
   "cell_type": "markdown",
   "metadata": {},
   "source": [
    "... introduction about the excess workshop ..."
   ]
  },
  {
   "cell_type": "markdown",
   "metadata": {},
   "source": [
    "In case you have not installed all libraries, the following cell will do the installation."
   ]
  },
  {
   "cell_type": "code",
   "execution_count": 1,
   "metadata": {
    "ExecuteTime": {
     "end_time": "2021-06-11T11:11:58.834405Z",
     "start_time": "2021-06-11T11:11:57.086910Z"
    }
   },
   "outputs": [
    {
     "name": "stdout",
     "output_type": "stream",
     "text": [
      "Requirement already satisfied: numpy in /Users/felix/.pyenv/versions/3.8.6/lib/python3.8/site-packages (1.19.4)\n",
      "Requirement already satisfied: matplotlib in /Users/felix/.pyenv/versions/3.8.6/lib/python3.8/site-packages (3.3.3)\n",
      "Requirement already satisfied: ipywidgets in /Users/felix/.pyenv/versions/3.8.6/lib/python3.8/site-packages (7.5.1)\n",
      "Requirement already satisfied: ipykernel>=4.5.1 in /Users/felix/.pyenv/versions/3.8.6/lib/python3.8/site-packages (from ipywidgets) (5.4.2)\n",
      "Requirement already satisfied: nbformat>=4.2.0 in /Users/felix/.pyenv/versions/3.8.6/lib/python3.8/site-packages (from ipywidgets) (5.0.8)\n",
      "Requirement already satisfied: traitlets>=4.3.1 in /Users/felix/.pyenv/versions/3.8.6/lib/python3.8/site-packages (from ipywidgets) (5.0.5)\n",
      "Requirement already satisfied: ipython>=4.0.0 in /Users/felix/.pyenv/versions/3.8.6/lib/python3.8/site-packages (from ipywidgets) (7.19.0)\n",
      "Requirement already satisfied: widgetsnbextension~=3.5.0 in /Users/felix/.pyenv/versions/3.8.6/lib/python3.8/site-packages (from ipywidgets) (3.5.1)\n",
      "Requirement already satisfied: jupyter-client in /Users/felix/.pyenv/versions/3.8.6/lib/python3.8/site-packages (from ipykernel>=4.5.1->ipywidgets) (6.1.7)\n",
      "Requirement already satisfied: appnope in /Users/felix/.pyenv/versions/3.8.6/lib/python3.8/site-packages (from ipykernel>=4.5.1->ipywidgets) (0.1.0)\n",
      "Requirement already satisfied: tornado>=4.2 in /Users/felix/.pyenv/versions/3.8.6/lib/python3.8/site-packages (from ipykernel>=4.5.1->ipywidgets) (6.1)\n",
      "Requirement already satisfied: prompt-toolkit!=3.0.0,!=3.0.1,<3.1.0,>=2.0.0 in /Users/felix/.pyenv/versions/3.8.6/lib/python3.8/site-packages (from ipython>=4.0.0->ipywidgets) (3.0.8)\n",
      "Requirement already satisfied: decorator in /Users/felix/.pyenv/versions/3.8.6/lib/python3.8/site-packages (from ipython>=4.0.0->ipywidgets) (4.4.2)\n",
      "Requirement already satisfied: pexpect>4.3 in /Users/felix/.pyenv/versions/3.8.6/lib/python3.8/site-packages (from ipython>=4.0.0->ipywidgets) (4.8.0)\n",
      "Requirement already satisfied: setuptools>=18.5 in /Users/felix/.pyenv/versions/3.8.6/lib/python3.8/site-packages (from ipython>=4.0.0->ipywidgets) (50.3.2)\n",
      "Requirement already satisfied: backcall in /Users/felix/.pyenv/versions/3.8.6/lib/python3.8/site-packages (from ipython>=4.0.0->ipywidgets) (0.2.0)\n",
      "Requirement already satisfied: pickleshare in /Users/felix/.pyenv/versions/3.8.6/lib/python3.8/site-packages (from ipython>=4.0.0->ipywidgets) (0.7.5)\n",
      "Requirement already satisfied: jedi>=0.10 in /Users/felix/.pyenv/versions/3.8.6/lib/python3.8/site-packages (from ipython>=4.0.0->ipywidgets) (0.17.2)\n",
      "Requirement already satisfied: pygments in /Users/felix/.pyenv/versions/3.8.6/lib/python3.8/site-packages (from ipython>=4.0.0->ipywidgets) (2.7.2)\n",
      "Requirement already satisfied: parso<0.8.0,>=0.7.0 in /Users/felix/.pyenv/versions/3.8.6/lib/python3.8/site-packages (from jedi>=0.10->ipython>=4.0.0->ipywidgets) (0.7.1)\n",
      "Requirement already satisfied: jsonschema!=2.5.0,>=2.4 in /Users/felix/.pyenv/versions/3.8.6/lib/python3.8/site-packages (from nbformat>=4.2.0->ipywidgets) (3.2.0)\n",
      "Requirement already satisfied: jupyter-core in /Users/felix/.pyenv/versions/3.8.6/lib/python3.8/site-packages (from nbformat>=4.2.0->ipywidgets) (4.7.0)\n",
      "Requirement already satisfied: ipython-genutils in /Users/felix/.pyenv/versions/3.8.6/lib/python3.8/site-packages (from nbformat>=4.2.0->ipywidgets) (0.2.0)\n",
      "Requirement already satisfied: attrs>=17.4.0 in /Users/felix/.pyenv/versions/3.8.6/lib/python3.8/site-packages (from jsonschema!=2.5.0,>=2.4->nbformat>=4.2.0->ipywidgets) (20.3.0)\n",
      "Requirement already satisfied: pyrsistent>=0.14.0 in /Users/felix/.pyenv/versions/3.8.6/lib/python3.8/site-packages (from jsonschema!=2.5.0,>=2.4->nbformat>=4.2.0->ipywidgets) (0.17.3)\n",
      "Requirement already satisfied: six>=1.11.0 in /Users/felix/.pyenv/versions/3.8.6/lib/python3.8/site-packages (from jsonschema!=2.5.0,>=2.4->nbformat>=4.2.0->ipywidgets) (1.15.0)\n",
      "Requirement already satisfied: ptyprocess>=0.5 in /Users/felix/.pyenv/versions/3.8.6/lib/python3.8/site-packages (from pexpect>4.3->ipython>=4.0.0->ipywidgets) (0.6.0)\n",
      "Requirement already satisfied: wcwidth in /Users/felix/.pyenv/versions/3.8.6/lib/python3.8/site-packages (from prompt-toolkit!=3.0.0,!=3.0.1,<3.1.0,>=2.0.0->ipython>=4.0.0->ipywidgets) (0.2.5)\n",
      "Requirement already satisfied: notebook>=4.4.1 in /Users/felix/.pyenv/versions/3.8.6/lib/python3.8/site-packages (from widgetsnbextension~=3.5.0->ipywidgets) (6.1.5)\n",
      "Requirement already satisfied: pyzmq>=17 in /Users/felix/.pyenv/versions/3.8.6/lib/python3.8/site-packages (from notebook>=4.4.1->widgetsnbextension~=3.5.0->ipywidgets) (20.0.0)\n",
      "Requirement already satisfied: argon2-cffi in /Users/felix/.pyenv/versions/3.8.6/lib/python3.8/site-packages (from notebook>=4.4.1->widgetsnbextension~=3.5.0->ipywidgets) (20.1.0)\n",
      "Requirement already satisfied: nbconvert in /Users/felix/.pyenv/versions/3.8.6/lib/python3.8/site-packages (from notebook>=4.4.1->widgetsnbextension~=3.5.0->ipywidgets) (6.0.7)\n",
      "Requirement already satisfied: Send2Trash in /Users/felix/.pyenv/versions/3.8.6/lib/python3.8/site-packages (from notebook>=4.4.1->widgetsnbextension~=3.5.0->ipywidgets) (1.5.0)\n",
      "Requirement already satisfied: jinja2 in /Users/felix/.pyenv/versions/3.8.6/lib/python3.8/site-packages (from notebook>=4.4.1->widgetsnbextension~=3.5.0->ipywidgets) (2.11.2)\n",
      "Requirement already satisfied: prometheus-client in /Users/felix/.pyenv/versions/3.8.6/lib/python3.8/site-packages (from notebook>=4.4.1->widgetsnbextension~=3.5.0->ipywidgets) (0.9.0)\n",
      "Requirement already satisfied: terminado>=0.8.3 in /Users/felix/.pyenv/versions/3.8.6/lib/python3.8/site-packages (from notebook>=4.4.1->widgetsnbextension~=3.5.0->ipywidgets) (0.9.1)\n",
      "Requirement already satisfied: python-dateutil>=2.1 in /Users/felix/.pyenv/versions/3.8.6/lib/python3.8/site-packages (from jupyter-client->ipykernel>=4.5.1->ipywidgets) (2.8.1)\n",
      "Requirement already satisfied: cycler>=0.10 in /Users/felix/.pyenv/versions/3.8.6/lib/python3.8/site-packages (from matplotlib) (0.10.0)\n",
      "Requirement already satisfied: kiwisolver>=1.0.1 in /Users/felix/.pyenv/versions/3.8.6/lib/python3.8/site-packages (from matplotlib) (1.3.1)\n",
      "Requirement already satisfied: pyparsing!=2.0.4,!=2.1.2,!=2.1.6,>=2.0.3 in /Users/felix/.pyenv/versions/3.8.6/lib/python3.8/site-packages (from matplotlib) (2.4.7)\n",
      "Requirement already satisfied: pillow>=6.2.0 in /Users/felix/.pyenv/versions/3.8.6/lib/python3.8/site-packages (from matplotlib) (7.2.0)\n",
      "Requirement already satisfied: cffi>=1.0.0 in /Users/felix/.pyenv/versions/3.8.6/lib/python3.8/site-packages (from argon2-cffi->notebook>=4.4.1->widgetsnbextension~=3.5.0->ipywidgets) (1.14.4)\n",
      "Requirement already satisfied: pycparser in /Users/felix/.pyenv/versions/3.8.6/lib/python3.8/site-packages (from cffi>=1.0.0->argon2-cffi->notebook>=4.4.1->widgetsnbextension~=3.5.0->ipywidgets) (2.20)\n",
      "Requirement already satisfied: MarkupSafe>=0.23 in /Users/felix/.pyenv/versions/3.8.6/lib/python3.8/site-packages (from jinja2->notebook>=4.4.1->widgetsnbextension~=3.5.0->ipywidgets) (1.1.1)\n",
      "Requirement already satisfied: nbclient<0.6.0,>=0.5.0 in /Users/felix/.pyenv/versions/3.8.6/lib/python3.8/site-packages (from nbconvert->notebook>=4.4.1->widgetsnbextension~=3.5.0->ipywidgets) (0.5.1)\n",
      "Requirement already satisfied: mistune<2,>=0.8.1 in /Users/felix/.pyenv/versions/3.8.6/lib/python3.8/site-packages (from nbconvert->notebook>=4.4.1->widgetsnbextension~=3.5.0->ipywidgets) (0.8.4)\n",
      "Requirement already satisfied: bleach in /Users/felix/.pyenv/versions/3.8.6/lib/python3.8/site-packages (from nbconvert->notebook>=4.4.1->widgetsnbextension~=3.5.0->ipywidgets) (3.2.1)\n",
      "Requirement already satisfied: pandocfilters>=1.4.1 in /Users/felix/.pyenv/versions/3.8.6/lib/python3.8/site-packages (from nbconvert->notebook>=4.4.1->widgetsnbextension~=3.5.0->ipywidgets) (1.4.3)\n",
      "Requirement already satisfied: testpath in /Users/felix/.pyenv/versions/3.8.6/lib/python3.8/site-packages (from nbconvert->notebook>=4.4.1->widgetsnbextension~=3.5.0->ipywidgets) (0.4.4)\n",
      "Requirement already satisfied: jupyterlab-pygments in /Users/felix/.pyenv/versions/3.8.6/lib/python3.8/site-packages (from nbconvert->notebook>=4.4.1->widgetsnbextension~=3.5.0->ipywidgets) (0.1.2)\n",
      "Requirement already satisfied: entrypoints>=0.2.2 in /Users/felix/.pyenv/versions/3.8.6/lib/python3.8/site-packages (from nbconvert->notebook>=4.4.1->widgetsnbextension~=3.5.0->ipywidgets) (0.3)\n",
      "Requirement already satisfied: defusedxml in /Users/felix/.pyenv/versions/3.8.6/lib/python3.8/site-packages (from nbconvert->notebook>=4.4.1->widgetsnbextension~=3.5.0->ipywidgets) (0.6.0)\n"
     ]
    },
    {
     "name": "stdout",
     "output_type": "stream",
     "text": [
      "Requirement already satisfied: async-generator in /Users/felix/.pyenv/versions/3.8.6/lib/python3.8/site-packages (from nbclient<0.6.0,>=0.5.0->nbconvert->notebook>=4.4.1->widgetsnbextension~=3.5.0->ipywidgets) (1.10)\n",
      "Requirement already satisfied: nest-asyncio in /Users/felix/.pyenv/versions/3.8.6/lib/python3.8/site-packages (from nbclient<0.6.0,>=0.5.0->nbconvert->notebook>=4.4.1->widgetsnbextension~=3.5.0->ipywidgets) (1.4.3)\n",
      "Requirement already satisfied: webencodings in /Users/felix/.pyenv/versions/3.8.6/lib/python3.8/site-packages (from bleach->nbconvert->notebook>=4.4.1->widgetsnbextension~=3.5.0->ipywidgets) (0.5.1)\n",
      "Requirement already satisfied: packaging in /Users/felix/.pyenv/versions/3.8.6/lib/python3.8/site-packages (from bleach->nbconvert->notebook>=4.4.1->widgetsnbextension~=3.5.0->ipywidgets) (20.4)\n",
      "\u001b[33mWARNING: You are using pip version 21.0.1; however, version 21.1.2 is available.\n",
      "You should consider upgrading via the '/Users/felix/.pyenv/versions/3.8.6/bin/python3.8 -m pip install --upgrade pip' command.\u001b[0m\n"
     ]
    }
   ],
   "source": [
    "!pip install numpy matplotlib ipywidgets"
   ]
  },
  {
   "cell_type": "markdown",
   "metadata": {},
   "source": [
    "Import all libraries."
   ]
  },
  {
   "cell_type": "code",
   "execution_count": 2,
   "metadata": {
    "ExecuteTime": {
     "end_time": "2021-06-11T11:11:59.235376Z",
     "start_time": "2021-06-11T11:11:58.842195Z"
    }
   },
   "outputs": [],
   "source": [
    "import numpy as np\n",
    "import matplotlib.pyplot as plt\n",
    "import ipywidgets as widgets\n",
    "from ipywidgets import interact\n",
    "%config InlineBackend.figure_formats = ['svg']"
   ]
  },
  {
   "cell_type": "markdown",
   "metadata": {},
   "source": [
    "## Import Data"
   ]
  },
  {
   "cell_type": "markdown",
   "metadata": {},
   "source": [
    "Import the energy values."
   ]
  },
  {
   "cell_type": "code",
   "execution_count": 3,
   "metadata": {
    "ExecuteTime": {
     "end_time": "2021-06-11T11:12:01.032697Z",
     "start_time": "2021-06-11T11:11:59.237889Z"
    }
   },
   "outputs": [],
   "source": [
    "exp_A = np.loadtxt('test_data/experiment_A.txt')\n",
    "exp_B = np.loadtxt('test_data/experiment_B.txt')\n",
    "exp_C = np.loadtxt('test_data/experiment_C.txt')"
   ]
  },
  {
   "cell_type": "markdown",
   "metadata": {},
   "source": [
    "Import the efficiency curves."
   ]
  },
  {
   "cell_type": "code",
   "execution_count": 4,
   "metadata": {
    "ExecuteTime": {
     "end_time": "2021-06-11T11:12:01.250197Z",
     "start_time": "2021-06-11T11:12:01.035158Z"
    }
   },
   "outputs": [],
   "source": [
    "eff_A = np.loadtxt('test_data/experiment_A_eff.txt')\n",
    "eff_B = np.loadtxt('test_data/experiment_B_eff.txt')\n",
    "eff_C = np.loadtxt('test_data/experiment_C_eff.txt')"
   ]
  },
  {
   "cell_type": "markdown",
   "metadata": {},
   "source": [
    "Define the exposure of all experiments."
   ]
  },
  {
   "cell_type": "code",
   "execution_count": 5,
   "metadata": {
    "ExecuteTime": {
     "end_time": "2021-06-11T11:12:01.254622Z",
     "start_time": "2021-06-11T11:12:01.252295Z"
    }
   },
   "outputs": [],
   "source": [
    "exposure_A = 1\n",
    "exposure_B = 0.2\n",
    "exposure_C = 15"
   ]
  },
  {
   "cell_type": "markdown",
   "metadata": {},
   "source": [
    "## Plot"
   ]
  },
  {
   "cell_type": "markdown",
   "metadata": {},
   "source": [
    "Here we do the interactive plot."
   ]
  },
  {
   "cell_type": "code",
   "execution_count": 6,
   "metadata": {
    "ExecuteTime": {
     "end_time": "2021-06-11T11:12:01.608766Z",
     "start_time": "2021-06-11T11:12:01.257048Z"
    }
   },
   "outputs": [
    {
     "data": {
      "application/vnd.jupyter.widget-view+json": {
       "model_id": "ebe9e11111e2408cbc317dbff60b9e67",
       "version_major": 2,
       "version_minor": 0
      },
      "text/plain": [
       "interactive(children=(IntSlider(value=500, description='bins', max=2000, min=20), FloatRangeSlider(value=(0.0,…"
      ]
     },
     "metadata": {},
     "output_type": "display_data"
    }
   ],
   "source": [
    "@interact(bins = widgets.IntSlider(value=500,min=20,max=2000),\n",
    "          x_range = widgets.FloatRangeSlider(value=[0,20],min=0,max=20),\n",
    "          y_max = widgets.FloatLogSlider(value=10000,min=-1,max=5),\n",
    "          check_A = widgets.Checkbox(value=True, description='Plot Experiment A'),\n",
    "          check_B = widgets.Checkbox(value=True, description='Plot Experiment B'),\n",
    "          check_C = widgets.Checkbox(value=True, description='Plot Experiment C'),\n",
    "          scale_drop = widgets.Dropdown(options=['linear', 'log'], value='linear', description='Scale: ',),\n",
    "          shift_A = widgets.FloatSlider(value=0,min=-20,max=20),\n",
    "          shift_B = widgets.FloatSlider(value=0,min=-20,max=20),\n",
    "          shift_C = widgets.FloatSlider(value=0,min=-20,max=20),\n",
    "          scale_A = widgets.FloatLogSlider(value=1,min=-10,max=10),\n",
    "          scale_B = widgets.FloatLogSlider(value=1,min=-10,max=10),\n",
    "          scale_C = widgets.FloatLogSlider(value=1,min=-10,max=10),\n",
    "          offset_A = widgets.FloatSlider(value=0,min=-10000,max=10000),\n",
    "          offset_B = widgets.FloatSlider(value=0,min=-10000,max=10000),\n",
    "          offset_C = widgets.FloatSlider(value=0,min=-10000,max=10000),\n",
    "          check_eff = widgets.Checkbox(value=True, description='Correct Efficiency'),\n",
    "         )\n",
    "def plot_all(bins, \n",
    "             x_range, \n",
    "             y_max, \n",
    "             check_A, \n",
    "             check_B, \n",
    "             check_C, \n",
    "             scale_drop,\n",
    "             shift_A,\n",
    "             shift_B,\n",
    "             shift_C,\n",
    "             scale_A,\n",
    "             scale_B,\n",
    "             scale_C,\n",
    "             offset_A,\n",
    "             offset_B,\n",
    "             offset_C,\n",
    "             check_eff,\n",
    "            ):\n",
    "    \n",
    "    # shift and scale values\n",
    "    experiment_A = exp_A + shift_A\n",
    "    experiment_B = exp_B + shift_B\n",
    "    experiment_C = exp_C + shift_C\n",
    "\n",
    "    # make histograms\n",
    "\n",
    "    hist_A, bins_A = np.histogram(experiment_A, bins, range=x_range)\n",
    "    hist_B, bins_B = np.histogram(experiment_B, bins, range=x_range)\n",
    "    hist_C, bins_C = np.histogram(experiment_C, bins, range=x_range)\n",
    "    \n",
    "    # reweight with efficiencies\n",
    "\n",
    "    if check_eff:\n",
    "        hist_A = hist_A / np.interp(bins_A[:-1], eff_A[:,0], eff_A[:,1])\n",
    "        hist_B = hist_B / np.interp(bins_B[:-1], eff_B[:,0], eff_B[:,1])\n",
    "        hist_C = hist_C / np.interp(bins_C[:-1], eff_C[:,0], eff_C[:,1])\n",
    "    \n",
    "    # define the weights\n",
    "    \n",
    "    weights_A = scale_A*hist_A/exposure_A + offset_A\n",
    "    weights_B = scale_B*hist_B/exposure_B + offset_B\n",
    "    weights_C = scale_C*hist_C/exposure_C + offset_C\n",
    "    \n",
    "    # all negative weights are zero\n",
    "    \n",
    "    weights_A[weights_A < 0] = 0\n",
    "    weights_B[weights_B < 0] = 0\n",
    "    weights_C[weights_C < 0] = 0\n",
    "\n",
    "    # plot - comment the lines of experiments to not show them\n",
    "\n",
    "    if check_A:\n",
    "        plt.hist(bins_A[:-1], bins_A, weights=weights_A, histtype='step', label='Experiment A', color='C0')\n",
    "    if check_B:\n",
    "        plt.hist(bins_B[:-1], bins_B, weights=weights_B, histtype='step', label='Experiment B', color='C1')\n",
    "    if check_C:\n",
    "        plt.hist(bins_C[:-1], bins_C, weights=weights_C, histtype='step', label='Experiment C', color='C2')\n",
    "    plt.xlabel('Energy (keV)')\n",
    "    plt.ylabel(f'Counts / ({1000*(x_range[1] - x_range[0])/bins:.1f} eV kg days)')\n",
    "    plt.legend()\n",
    "    plt.xlim(x_range)\n",
    "    plt.ylim((0.5, y_max))\n",
    "    plt.yscale(scale_drop)\n",
    "    plt.show()"
   ]
  },
  {
   "cell_type": "markdown",
   "metadata": {},
   "source": [
    "## Download Data"
   ]
  },
  {
   "cell_type": "markdown",
   "metadata": {},
   "source": [
    "Coming soon..."
   ]
  }
 ],
 "metadata": {
  "kernelspec": {
   "display_name": "Python 3",
   "language": "python",
   "name": "python3"
  },
  "language_info": {
   "codemirror_mode": {
    "name": "ipython",
    "version": 3
   },
   "file_extension": ".py",
   "mimetype": "text/x-python",
   "name": "python",
   "nbconvert_exporter": "python",
   "pygments_lexer": "ipython3",
   "version": "3.8.6"
  },
  "varInspector": {
   "cols": {
    "lenName": 16,
    "lenType": 16,
    "lenVar": 40
   },
   "kernels_config": {
    "python": {
     "delete_cmd_postfix": "",
     "delete_cmd_prefix": "del ",
     "library": "var_list.py",
     "varRefreshCmd": "print(var_dic_list())"
    },
    "r": {
     "delete_cmd_postfix": ") ",
     "delete_cmd_prefix": "rm(",
     "library": "var_list.r",
     "varRefreshCmd": "cat(var_dic_list()) "
    }
   },
   "types_to_exclude": [
    "module",
    "function",
    "builtin_function_or_method",
    "instance",
    "_Feature"
   ],
   "window_display": false
  },
  "widgets": {
   "application/vnd.jupyter.widget-state+json": {
    "state": {
     "0002a8034e854341aaff0d0f4e7ba7a9": {
      "model_module": "@jupyter-widgets/controls",
      "model_module_version": "1.5.0",
      "model_name": "CheckboxModel",
      "state": {
       "description": "Plot Experiment A",
       "disabled": false,
       "layout": "IPY_MODEL_e37f459225ea4d428d3910db258edad5",
       "style": "IPY_MODEL_9432b6263dc04ca795871654fe61a75e",
       "value": true
      }
     },
     "00cfcb00de1f4f818dfaffde5d9761e7": {
      "model_module": "@jupyter-widgets/controls",
      "model_module_version": "1.5.0",
      "model_name": "DescriptionStyleModel",
      "state": {
       "description_width": ""
      }
     },
     "0172792598a741e384e6d3093c9e4316": {
      "model_module": "@jupyter-widgets/controls",
      "model_module_version": "1.5.0",
      "model_name": "SliderStyleModel",
      "state": {
       "description_width": ""
      }
     },
     "04458c07fcca48bbadea511b8c0a8aaf": {
      "model_module": "@jupyter-widgets/controls",
      "model_module_version": "1.5.0",
      "model_name": "DescriptionStyleModel",
      "state": {
       "description_width": ""
      }
     },
     "05454b83a80e4ee8a06bb402580b0d96": {
      "model_module": "@jupyter-widgets/controls",
      "model_module_version": "1.5.0",
      "model_name": "SliderStyleModel",
      "state": {
       "description_width": ""
      }
     },
     "0545c84f099248baba86e9b1bc6a8500": {
      "model_module": "@jupyter-widgets/controls",
      "model_module_version": "1.5.0",
      "model_name": "FloatSliderModel",
      "state": {
       "description": "shift_A",
       "layout": "IPY_MODEL_e0a4a348a0a649769951443c3936cf81",
       "max": 20,
       "min": -20,
       "step": 0.1,
       "style": "IPY_MODEL_8fc2ef2f8fa6440a960b728091353a21"
      }
     },
     "06257eab08514fe09c52d66999a50695": {
      "model_module": "@jupyter-widgets/controls",
      "model_module_version": "1.5.0",
      "model_name": "FloatLogSliderModel",
      "state": {
       "description": "scale_B",
       "layout": "IPY_MODEL_bcb9cd08d3d84d8baca97fe3b96cece4",
       "max": 10,
       "min": -10,
       "style": "IPY_MODEL_3404532997704e8280092bf97b8d8054",
       "value": 0.07943282347242814
      }
     },
     "07a59ecf84564014bc2f41ce7a8f1d99": {
      "model_module": "@jupyter-widgets/controls",
      "model_module_version": "1.5.0",
      "model_name": "CheckboxModel",
      "state": {
       "description": "Plot Experiment C",
       "disabled": false,
       "layout": "IPY_MODEL_4e39ed8ddf34482885f558de0bb2e27b",
       "style": "IPY_MODEL_bf981b18665f4c6a9b5412fc6638711c",
       "value": true
      }
     },
     "08662b1241004543996b8f8c2dc532e2": {
      "model_module": "@jupyter-widgets/base",
      "model_module_version": "1.2.0",
      "model_name": "LayoutModel",
      "state": {}
     },
     "087801d439d24cbcaba3e02b6f281d19": {
      "model_module": "@jupyter-widgets/base",
      "model_module_version": "1.2.0",
      "model_name": "LayoutModel",
      "state": {}
     },
     "0882550e337d4561af55838266cd7812": {
      "model_module": "@jupyter-widgets/controls",
      "model_module_version": "1.5.0",
      "model_name": "DescriptionStyleModel",
      "state": {
       "description_width": ""
      }
     },
     "0a183b0a523b49ee97e18fa89b673a18": {
      "model_module": "@jupyter-widgets/controls",
      "model_module_version": "1.5.0",
      "model_name": "FloatRangeSliderModel",
      "state": {
       "_model_name": "FloatRangeSliderModel",
       "_view_name": "FloatRangeSliderView",
       "description": "x_range",
       "layout": "IPY_MODEL_10f7f3d4c1aa46a1a0fea37742e20253",
       "max": 20,
       "step": 0.1,
       "style": "IPY_MODEL_788a484fe6034eac8b90706c9481bf67",
       "value": [
        0,
        20
       ]
      }
     },
     "0b69c3c9d2e149cc8a3cfc0a5e56ea07": {
      "model_module": "@jupyter-widgets/controls",
      "model_module_version": "1.5.0",
      "model_name": "DropdownModel",
      "state": {
       "_options_labels": [
        "linear",
        "log"
       ],
       "description": "Scale: ",
       "index": 0,
       "layout": "IPY_MODEL_7229f2ca6a66457c9412018b67485158",
       "style": "IPY_MODEL_9f2649f00ddd4d2fa6e90d7a86ad84ef"
      }
     },
     "0bcae1ba163d4bd995980576e36d37de": {
      "model_module": "@jupyter-widgets/controls",
      "model_module_version": "1.5.0",
      "model_name": "DescriptionStyleModel",
      "state": {
       "description_width": ""
      }
     },
     "0ca7e100bb37489a91b1d9a2269d979f": {
      "model_module": "@jupyter-widgets/controls",
      "model_module_version": "1.5.0",
      "model_name": "DropdownModel",
      "state": {
       "_options_labels": [
        "linear",
        "log"
       ],
       "description": "Scale: ",
       "index": 1,
       "layout": "IPY_MODEL_ea94a5cb8c924b7bbf2714cf955d623f",
       "style": "IPY_MODEL_ea4aa8457ed64ed0bae4c187314df3fd"
      }
     },
     "0cd7503c5a1844ce8ebbce101e827ff8": {
      "model_module": "@jupyter-widgets/controls",
      "model_module_version": "1.5.0",
      "model_name": "SliderStyleModel",
      "state": {
       "description_width": ""
      }
     },
     "10f7f3d4c1aa46a1a0fea37742e20253": {
      "model_module": "@jupyter-widgets/base",
      "model_module_version": "1.2.0",
      "model_name": "LayoutModel",
      "state": {}
     },
     "114e8908618b4c4780c49d34d2b78324": {
      "model_module": "@jupyter-widgets/base",
      "model_module_version": "1.2.0",
      "model_name": "LayoutModel",
      "state": {}
     },
     "1370c5627c344bbf9ddbdbd25b2183c0": {
      "model_module": "@jupyter-widgets/base",
      "model_module_version": "1.2.0",
      "model_name": "LayoutModel",
      "state": {}
     },
     "13789f93529e4329a5d52323654dd630": {
      "model_module": "@jupyter-widgets/base",
      "model_module_version": "1.2.0",
      "model_name": "LayoutModel",
      "state": {}
     },
     "13c4a71d493147e4b14c210751726964": {
      "model_module": "@jupyter-widgets/controls",
      "model_module_version": "1.5.0",
      "model_name": "FloatLogSliderModel",
      "state": {
       "description": "scale_A",
       "layout": "IPY_MODEL_8a49ecb4e56a4c858ae3aed5c925a859",
       "max": 10,
       "min": -10,
       "style": "IPY_MODEL_1cff7337d7464099a96766f9a985adfd"
      }
     },
     "17a0c5d147b34a358acbff73a3639ebb": {
      "model_module": "@jupyter-widgets/controls",
      "model_module_version": "1.5.0",
      "model_name": "SliderStyleModel",
      "state": {
       "description_width": ""
      }
     },
     "17af4716f7274595b7e7ff753aa9b4b8": {
      "model_module": "@jupyter-widgets/base",
      "model_module_version": "1.2.0",
      "model_name": "LayoutModel",
      "state": {}
     },
     "183b3d1813a14abf9b7773fa11a7f9a6": {
      "model_module": "@jupyter-widgets/controls",
      "model_module_version": "1.5.0",
      "model_name": "SliderStyleModel",
      "state": {
       "description_width": ""
      }
     },
     "18bb46db057c445c8460007ea0eaeeb5": {
      "model_module": "@jupyter-widgets/base",
      "model_module_version": "1.2.0",
      "model_name": "LayoutModel",
      "state": {}
     },
     "19bcad42d3bb4decaef79419d060435f": {
      "model_module": "@jupyter-widgets/controls",
      "model_module_version": "1.5.0",
      "model_name": "IntSliderModel",
      "state": {
       "description": "bins",
       "layout": "IPY_MODEL_c8d55cd9988f4501a9464f7269bf0c4d",
       "max": 2000,
       "min": 20,
       "style": "IPY_MODEL_418a36f148d54a2bbbc90444345a0931",
       "value": 500
      }
     },
     "1c7ee994209d4974907edd9b00ee407b": {
      "model_module": "@jupyter-widgets/controls",
      "model_module_version": "1.5.0",
      "model_name": "FloatLogSliderModel",
      "state": {
       "description": "y_max",
       "layout": "IPY_MODEL_874601ade5b9453ebe1bbea5bdbb16d2",
       "max": 5,
       "min": -1,
       "style": "IPY_MODEL_dedb50c533eb42c08e478b095b40b912",
       "value": 100000
      }
     },
     "1cb68f2511b24c2fa87e99ed7d4f0fc5": {
      "model_module": "@jupyter-widgets/output",
      "model_module_version": "1.0.0",
      "model_name": "OutputModel",
      "state": {
       "layout": "IPY_MODEL_1370c5627c344bbf9ddbdbd25b2183c0",
       "outputs": [
        {
         "ename": "UnboundLocalError",
         "evalue": "local variable 'exp_A' referenced before assignment",
         "output_type": "error",
         "traceback": [
          "\u001b[0;31m---------------------------------------------------------------------------\u001b[0m",
          "\u001b[0;31mUnboundLocalError\u001b[0m                         Traceback (most recent call last)",
          "\u001b[0;32m~/.pyenv/versions/3.8.6/lib/python3.8/site-packages/ipywidgets/widgets/interaction.py\u001b[0m in \u001b[0;36mupdate\u001b[0;34m(self, *args)\u001b[0m\n\u001b[1;32m    254\u001b[0m                     \u001b[0mvalue\u001b[0m \u001b[0;34m=\u001b[0m \u001b[0mwidget\u001b[0m\u001b[0;34m.\u001b[0m\u001b[0mget_interact_value\u001b[0m\u001b[0;34m(\u001b[0m\u001b[0;34m)\u001b[0m\u001b[0;34m\u001b[0m\u001b[0;34m\u001b[0m\u001b[0m\n\u001b[1;32m    255\u001b[0m                     \u001b[0mself\u001b[0m\u001b[0;34m.\u001b[0m\u001b[0mkwargs\u001b[0m\u001b[0;34m[\u001b[0m\u001b[0mwidget\u001b[0m\u001b[0;34m.\u001b[0m\u001b[0m_kwarg\u001b[0m\u001b[0;34m]\u001b[0m \u001b[0;34m=\u001b[0m \u001b[0mvalue\u001b[0m\u001b[0;34m\u001b[0m\u001b[0;34m\u001b[0m\u001b[0m\n\u001b[0;32m--> 256\u001b[0;31m                 \u001b[0mself\u001b[0m\u001b[0;34m.\u001b[0m\u001b[0mresult\u001b[0m \u001b[0;34m=\u001b[0m \u001b[0mself\u001b[0m\u001b[0;34m.\u001b[0m\u001b[0mf\u001b[0m\u001b[0;34m(\u001b[0m\u001b[0;34m**\u001b[0m\u001b[0mself\u001b[0m\u001b[0;34m.\u001b[0m\u001b[0mkwargs\u001b[0m\u001b[0;34m)\u001b[0m\u001b[0;34m\u001b[0m\u001b[0;34m\u001b[0m\u001b[0m\n\u001b[0m\u001b[1;32m    257\u001b[0m                 \u001b[0mshow_inline_matplotlib_plots\u001b[0m\u001b[0;34m(\u001b[0m\u001b[0;34m)\u001b[0m\u001b[0;34m\u001b[0m\u001b[0;34m\u001b[0m\u001b[0m\n\u001b[1;32m    258\u001b[0m                 \u001b[0;32mif\u001b[0m \u001b[0mself\u001b[0m\u001b[0;34m.\u001b[0m\u001b[0mauto_display\u001b[0m \u001b[0;32mand\u001b[0m \u001b[0mself\u001b[0m\u001b[0;34m.\u001b[0m\u001b[0mresult\u001b[0m \u001b[0;32mis\u001b[0m \u001b[0;32mnot\u001b[0m \u001b[0;32mNone\u001b[0m\u001b[0;34m:\u001b[0m\u001b[0;34m\u001b[0m\u001b[0;34m\u001b[0m\u001b[0m\n",
          "\u001b[0;32m<ipython-input-5-174540f427e8>\u001b[0m in \u001b[0;36mplot_all\u001b[0;34m(bins, x_range, y_max, check_A, check_B, check_C, scale_drop, shift_A, shift_B, shift_C, scale_A, scale_B, scale_C)\u001b[0m\n\u001b[1;32m     31\u001b[0m \u001b[0;34m\u001b[0m\u001b[0m\n\u001b[1;32m     32\u001b[0m     \u001b[0;31m# shift and scale values\u001b[0m\u001b[0;34m\u001b[0m\u001b[0;34m\u001b[0m\u001b[0;34m\u001b[0m\u001b[0m\n\u001b[0;32m---> 33\u001b[0;31m     \u001b[0mexp_A\u001b[0m \u001b[0;34m=\u001b[0m \u001b[0mexp_A\u001b[0m \u001b[0;34m+\u001b[0m \u001b[0mshift_A\u001b[0m\u001b[0;34m\u001b[0m\u001b[0;34m\u001b[0m\u001b[0m\n\u001b[0m\u001b[1;32m     34\u001b[0m     \u001b[0mexp_B\u001b[0m \u001b[0;34m=\u001b[0m \u001b[0mexp_B\u001b[0m \u001b[0;34m+\u001b[0m \u001b[0mshift_B\u001b[0m\u001b[0;34m\u001b[0m\u001b[0;34m\u001b[0m\u001b[0m\n\u001b[1;32m     35\u001b[0m     \u001b[0mexp_C\u001b[0m \u001b[0;34m=\u001b[0m \u001b[0mexp_C\u001b[0m \u001b[0;34m+\u001b[0m \u001b[0mshift_C\u001b[0m\u001b[0;34m\u001b[0m\u001b[0;34m\u001b[0m\u001b[0m\n",
          "\u001b[0;31mUnboundLocalError\u001b[0m: local variable 'exp_A' referenced before assignment"
         ]
        }
       ]
      }
     },
     "1cff7337d7464099a96766f9a985adfd": {
      "model_module": "@jupyter-widgets/controls",
      "model_module_version": "1.5.0",
      "model_name": "SliderStyleModel",
      "state": {
       "description_width": ""
      }
     },
     "1d95ceb438d2460fbc0b917764330d13": {
      "model_module": "@jupyter-widgets/controls",
      "model_module_version": "1.5.0",
      "model_name": "CheckboxModel",
      "state": {
       "description": "Plot Experiment C",
       "disabled": false,
       "layout": "IPY_MODEL_7ff51641d47c44928a34e721b99f5f50",
       "style": "IPY_MODEL_b826af6e328f4d2ab077516984cc03ab",
       "value": true
      }
     },
     "1fc7dba5c997430ebd738a1caa7daf53": {
      "model_module": "@jupyter-widgets/controls",
      "model_module_version": "1.5.0",
      "model_name": "DescriptionStyleModel",
      "state": {
       "description_width": ""
      }
     },
     "20577b7a4abf4341a90b433169c2c1f1": {
      "model_module": "@jupyter-widgets/base",
      "model_module_version": "1.2.0",
      "model_name": "LayoutModel",
      "state": {}
     },
     "21ca4bda02f749ddb21cd5f412d1d5e8": {
      "model_module": "@jupyter-widgets/base",
      "model_module_version": "1.2.0",
      "model_name": "LayoutModel",
      "state": {}
     },
     "223f61eb22b249468ee8d9181ee7bcf2": {
      "model_module": "@jupyter-widgets/base",
      "model_module_version": "1.2.0",
      "model_name": "LayoutModel",
      "state": {}
     },
     "23129f5680a04a609949948031b3aa37": {
      "model_module": "@jupyter-widgets/base",
      "model_module_version": "1.2.0",
      "model_name": "LayoutModel",
      "state": {}
     },
     "252170d3c96f4fd0ae259b5a514cf075": {
      "model_module": "@jupyter-widgets/controls",
      "model_module_version": "1.5.0",
      "model_name": "SliderStyleModel",
      "state": {
       "description_width": ""
      }
     },
     "25bcbe07253d4a0ca49a8ae049b7e693": {
      "model_module": "@jupyter-widgets/controls",
      "model_module_version": "1.5.0",
      "model_name": "FloatSliderModel",
      "state": {
       "description": "shift_A",
       "layout": "IPY_MODEL_c17fa96aaa4b442d98e4f59a6e6fadff",
       "max": 20,
       "min": -20,
       "step": 0.1,
       "style": "IPY_MODEL_dd704a89bbd440cab27e292d046be225"
      }
     },
     "28c3fd85f0bb4cacb8ec29087a70e03d": {
      "model_module": "@jupyter-widgets/controls",
      "model_module_version": "1.5.0",
      "model_name": "IntSliderModel",
      "state": {
       "description": "bins",
       "layout": "IPY_MODEL_cdb7d2cb817d400cad74e46637ba46f0",
       "max": 2000,
       "min": 20,
       "style": "IPY_MODEL_449c7314285a484e9d66c2ab81804d30",
       "value": 355
      }
     },
     "2ebb3dd099fc4ac68be2610e6d65b515": {
      "model_module": "@jupyter-widgets/controls",
      "model_module_version": "1.5.0",
      "model_name": "SliderStyleModel",
      "state": {
       "description_width": ""
      }
     },
     "2ece47efb7034309bd5efff186d544dd": {
      "model_module": "@jupyter-widgets/base",
      "model_module_version": "1.2.0",
      "model_name": "LayoutModel",
      "state": {}
     },
     "2ed35cd7fb994fe1a228f0a77e9f8e15": {
      "model_module": "@jupyter-widgets/controls",
      "model_module_version": "1.5.0",
      "model_name": "DescriptionStyleModel",
      "state": {
       "description_width": ""
      }
     },
     "2f30a2da80b448a699c54bd812eac580": {
      "model_module": "@jupyter-widgets/base",
      "model_module_version": "1.2.0",
      "model_name": "LayoutModel",
      "state": {}
     },
     "30e9a2465abe4b7b999378ed4aab826c": {
      "model_module": "@jupyter-widgets/controls",
      "model_module_version": "1.5.0",
      "model_name": "FloatLogSliderModel",
      "state": {
       "description": "y_max",
       "layout": "IPY_MODEL_69f41a6f807c4c18bdce104d3b07ff76",
       "max": 5,
       "min": -1,
       "style": "IPY_MODEL_d432fcd6fbf040fb8bba9c3f6f8377d1",
       "value": 7943.282347242814
      }
     },
     "3404532997704e8280092bf97b8d8054": {
      "model_module": "@jupyter-widgets/controls",
      "model_module_version": "1.5.0",
      "model_name": "SliderStyleModel",
      "state": {
       "description_width": ""
      }
     },
     "34859ce2ab2f47a9b1119e96de6c22e7": {
      "model_module": "@jupyter-widgets/controls",
      "model_module_version": "1.5.0",
      "model_name": "FloatLogSliderModel",
      "state": {
       "description": "y_max",
       "layout": "IPY_MODEL_a585228bb21c46b9bb7ef464710f7539",
       "max": 5,
       "min": -1,
       "style": "IPY_MODEL_39a2776cb31f4198891b95f332c314be",
       "value": 10000
      }
     },
     "3524d039025d4ad1890a7e609ef3324a": {
      "model_module": "@jupyter-widgets/controls",
      "model_module_version": "1.5.0",
      "model_name": "FloatSliderModel",
      "state": {
       "description": "shift_A",
       "layout": "IPY_MODEL_e40290f36a0341658d6da7b54be90920",
       "max": 20,
       "min": -20,
       "step": 0.1,
       "style": "IPY_MODEL_8bdf1d95734043c1832f5a5c90a95d72",
       "value": 5.8
      }
     },
     "365fd8d259374e6ba89429d3a915f901": {
      "model_module": "@jupyter-widgets/controls",
      "model_module_version": "1.5.0",
      "model_name": "CheckboxModel",
      "state": {
       "description": "Plot Experiment B",
       "disabled": false,
       "layout": "IPY_MODEL_38359fe0649e4a159f7e919c60ef9290",
       "style": "IPY_MODEL_a659d9d831964f7fae50c1644178d780",
       "value": true
      }
     },
     "36b33c7208b7441196bf29adcadce009": {
      "model_module": "@jupyter-widgets/controls",
      "model_module_version": "1.5.0",
      "model_name": "CheckboxModel",
      "state": {
       "description": "Plot Experiment A",
       "disabled": false,
       "layout": "IPY_MODEL_be030f5c436740d68ebe124aea7583d4",
       "style": "IPY_MODEL_ae9207822501404088f99234860e9c54",
       "value": true
      }
     },
     "36d35d515fd6462bba85c4fa47a394f2": {
      "model_module": "@jupyter-widgets/base",
      "model_module_version": "1.2.0",
      "model_name": "LayoutModel",
      "state": {}
     },
     "374814309c494eaab6e7d40bf79fd743": {
      "model_module": "@jupyter-widgets/controls",
      "model_module_version": "1.5.0",
      "model_name": "DescriptionStyleModel",
      "state": {
       "description_width": ""
      }
     },
     "378661a3f38a4e17ae4af708e6f6b048": {
      "model_module": "@jupyter-widgets/base",
      "model_module_version": "1.2.0",
      "model_name": "LayoutModel",
      "state": {}
     },
     "382a568f60ec45c785f45e4c6441106b": {
      "model_module": "@jupyter-widgets/controls",
      "model_module_version": "1.5.0",
      "model_name": "DescriptionStyleModel",
      "state": {
       "description_width": ""
      }
     },
     "38359fe0649e4a159f7e919c60ef9290": {
      "model_module": "@jupyter-widgets/base",
      "model_module_version": "1.2.0",
      "model_name": "LayoutModel",
      "state": {}
     },
     "39a2776cb31f4198891b95f332c314be": {
      "model_module": "@jupyter-widgets/controls",
      "model_module_version": "1.5.0",
      "model_name": "SliderStyleModel",
      "state": {
       "description_width": ""
      }
     },
     "3a0d2ed077a246468100ab4ecc9d8224": {
      "model_module": "@jupyter-widgets/base",
      "model_module_version": "1.2.0",
      "model_name": "LayoutModel",
      "state": {}
     },
     "3a766bd970aa469a982ff4976eba0f7a": {
      "model_module": "@jupyter-widgets/base",
      "model_module_version": "1.2.0",
      "model_name": "LayoutModel",
      "state": {}
     },
     "3aa8f79f28534d388b0e5354b52dbb01": {
      "model_module": "@jupyter-widgets/controls",
      "model_module_version": "1.5.0",
      "model_name": "VBoxModel",
      "state": {
       "_dom_classes": [
        "widget-interact"
       ],
       "children": [
        "IPY_MODEL_19bcad42d3bb4decaef79419d060435f",
        "IPY_MODEL_42c66bb157694a179fd4bfaa3926d325",
        "IPY_MODEL_6dda0c085b8c40f6a3eeb933e100ce24",
        "IPY_MODEL_0002a8034e854341aaff0d0f4e7ba7a9",
        "IPY_MODEL_e2514e6e32834e3f903c2592ffe4fe89",
        "IPY_MODEL_6143deba0f054112a74f69469d416b33",
        "IPY_MODEL_837fe92d84d345f89161ecbd5446aef1",
        "IPY_MODEL_5b7be88c93594054a70cef923e5dd03b"
       ],
       "layout": "IPY_MODEL_e5dc03fb07334637b984ddbce4796d9c"
      }
     },
     "3ac4f9d6c19e4ef2af4dfa5b121895c6": {
      "model_module": "@jupyter-widgets/controls",
      "model_module_version": "1.5.0",
      "model_name": "SliderStyleModel",
      "state": {
       "description_width": ""
      }
     },
     "3da7835c0b3f4a4b888932dd5bfbb97e": {
      "model_module": "@jupyter-widgets/base",
      "model_module_version": "1.2.0",
      "model_name": "LayoutModel",
      "state": {}
     },
     "3e2f072f2a62469d9c4ccd7ea0d8e83a": {
      "model_module": "@jupyter-widgets/base",
      "model_module_version": "1.2.0",
      "model_name": "LayoutModel",
      "state": {}
     },
     "3ea14e5d56664e1fa84ed821ea7c456e": {
      "model_module": "@jupyter-widgets/controls",
      "model_module_version": "1.5.0",
      "model_name": "FloatLogSliderModel",
      "state": {
       "description": "scale_A",
       "layout": "IPY_MODEL_b088c52f6c3b40a6b3e93a6a4ee8c57a",
       "max": 10,
       "min": -10,
       "style": "IPY_MODEL_c982c54545384a2287b0670fdc006198"
      }
     },
     "3f3db6ca4f154ef29c3cf1fb0946d794": {
      "model_module": "@jupyter-widgets/controls",
      "model_module_version": "1.5.0",
      "model_name": "SliderStyleModel",
      "state": {
       "description_width": ""
      }
     },
     "3fbb6b69e16f479a8f475290ff540f36": {
      "model_module": "@jupyter-widgets/controls",
      "model_module_version": "1.5.0",
      "model_name": "FloatSliderModel",
      "state": {
       "description": "shift_A",
       "layout": "IPY_MODEL_cce8b95521b149fd9ca1a68d062506c5",
       "max": 20,
       "min": -20,
       "step": 0.1,
       "style": "IPY_MODEL_aa8345f23b1543808bbb4ce9b0de67be",
       "value": 13.1
      }
     },
     "40d3b546c75a4ed897f5691db2662190": {
      "model_module": "@jupyter-widgets/base",
      "model_module_version": "1.2.0",
      "model_name": "LayoutModel",
      "state": {}
     },
     "418a36f148d54a2bbbc90444345a0931": {
      "model_module": "@jupyter-widgets/controls",
      "model_module_version": "1.5.0",
      "model_name": "SliderStyleModel",
      "state": {
       "description_width": ""
      }
     },
     "41b5e43e2f8f42a6b54d8b896ddb022f": {
      "model_module": "@jupyter-widgets/base",
      "model_module_version": "1.2.0",
      "model_name": "LayoutModel",
      "state": {}
     },
     "42c66bb157694a179fd4bfaa3926d325": {
      "model_module": "@jupyter-widgets/controls",
      "model_module_version": "1.5.0",
      "model_name": "FloatRangeSliderModel",
      "state": {
       "_model_name": "FloatRangeSliderModel",
       "_view_name": "FloatRangeSliderView",
       "description": "x_range",
       "layout": "IPY_MODEL_5f430cc2d007487ea58e563727d69b55",
       "max": 20,
       "step": 0.1,
       "style": "IPY_MODEL_ab2a0a3d0ff246b9a6b92c6d46ae5f59",
       "value": [
        0,
        20
       ]
      }
     },
     "43f0e2021a54427eac9fced282110529": {
      "model_module": "@jupyter-widgets/base",
      "model_module_version": "1.2.0",
      "model_name": "LayoutModel",
      "state": {}
     },
     "449c7314285a484e9d66c2ab81804d30": {
      "model_module": "@jupyter-widgets/controls",
      "model_module_version": "1.5.0",
      "model_name": "SliderStyleModel",
      "state": {
       "description_width": ""
      }
     },
     "45ed73f36c5b4984a2100494ee2b98a1": {
      "model_module": "@jupyter-widgets/base",
      "model_module_version": "1.2.0",
      "model_name": "LayoutModel",
      "state": {}
     },
     "48352a6e9cd24bde9ac5ae080bc4a2d9": {
      "model_module": "@jupyter-widgets/base",
      "model_module_version": "1.2.0",
      "model_name": "LayoutModel",
      "state": {}
     },
     "48f57d01d64647aab6dade722cc5adbc": {
      "model_module": "@jupyter-widgets/base",
      "model_module_version": "1.2.0",
      "model_name": "LayoutModel",
      "state": {}
     },
     "4a7288c3e5154918bac45da44e480a59": {
      "model_module": "@jupyter-widgets/controls",
      "model_module_version": "1.5.0",
      "model_name": "SliderStyleModel",
      "state": {
       "description_width": ""
      }
     },
     "4c11d808a6024926abcdd34cd952c30e": {
      "model_module": "@jupyter-widgets/controls",
      "model_module_version": "1.5.0",
      "model_name": "CheckboxModel",
      "state": {
       "description": "Plot Experiment B",
       "disabled": false,
       "layout": "IPY_MODEL_524d37c0aa004d3cbd6246fa161a16f4",
       "style": "IPY_MODEL_0bcae1ba163d4bd995980576e36d37de",
       "value": true
      }
     },
     "4e39ed8ddf34482885f558de0bb2e27b": {
      "model_module": "@jupyter-widgets/base",
      "model_module_version": "1.2.0",
      "model_name": "LayoutModel",
      "state": {}
     },
     "4f0c288bdf6244c589a0e1ee69caa49e": {
      "model_module": "@jupyter-widgets/base",
      "model_module_version": "1.2.0",
      "model_name": "LayoutModel",
      "state": {}
     },
     "4fcdbc6404a244b584d65fc8e83c4511": {
      "model_module": "@jupyter-widgets/controls",
      "model_module_version": "1.5.0",
      "model_name": "FloatSliderModel",
      "state": {
       "description": "shift_B",
       "layout": "IPY_MODEL_3a0d2ed077a246468100ab4ecc9d8224",
       "max": 20,
       "min": -20,
       "step": 0.1,
       "style": "IPY_MODEL_6377b3c6e20c4e18988dfb48d117b04d"
      }
     },
     "524d37c0aa004d3cbd6246fa161a16f4": {
      "model_module": "@jupyter-widgets/base",
      "model_module_version": "1.2.0",
      "model_name": "LayoutModel",
      "state": {}
     },
     "52ed5e32fa0d4154a687195b29b8d500": {
      "model_module": "@jupyter-widgets/controls",
      "model_module_version": "1.5.0",
      "model_name": "SliderStyleModel",
      "state": {
       "description_width": ""
      }
     },
     "538e7a9be8434cd39140fac462b48408": {
      "model_module": "@jupyter-widgets/controls",
      "model_module_version": "1.5.0",
      "model_name": "SliderStyleModel",
      "state": {
       "description_width": ""
      }
     },
     "54fbae8acfa24956a2d6a013ed75fffd": {
      "model_module": "@jupyter-widgets/controls",
      "model_module_version": "1.5.0",
      "model_name": "DescriptionStyleModel",
      "state": {
       "description_width": ""
      }
     },
     "5549f3dd9d264d34b6c40a82d82dec8e": {
      "model_module": "@jupyter-widgets/base",
      "model_module_version": "1.2.0",
      "model_name": "LayoutModel",
      "state": {}
     },
     "5768b8149b2041e6b3dccda32f839476": {
      "model_module": "@jupyter-widgets/controls",
      "model_module_version": "1.5.0",
      "model_name": "FloatLogSliderModel",
      "state": {
       "description": "scale_B",
       "layout": "IPY_MODEL_868a8f06602a42b6a34380841eef9cd5",
       "max": 10,
       "min": -10,
       "style": "IPY_MODEL_c5786ad7da1c4d86824989bdf082c4b4"
      }
     },
     "599ec3b5b19249a09970eaa711467585": {
      "model_module": "@jupyter-widgets/controls",
      "model_module_version": "1.5.0",
      "model_name": "IntSliderModel",
      "state": {
       "description": "bins",
       "layout": "IPY_MODEL_2ece47efb7034309bd5efff186d544dd",
       "max": 2000,
       "min": 20,
       "style": "IPY_MODEL_5be289bc7b974040885eb80050af6e4b",
       "value": 500
      }
     },
     "5aa4a47ab107442a82e3631654e97b23": {
      "model_module": "@jupyter-widgets/controls",
      "model_module_version": "1.5.0",
      "model_name": "DescriptionStyleModel",
      "state": {
       "description_width": ""
      }
     },
     "5ab1ebd6ff6c43dcbe3a1e7d95ff2490": {
      "model_module": "@jupyter-widgets/controls",
      "model_module_version": "1.5.0",
      "model_name": "FloatSliderModel",
      "state": {
       "description": "shift_C",
       "layout": "IPY_MODEL_b0cbdcf8de5a4fbc8e94a3960b9ff30d",
       "max": 20,
       "min": -20,
       "step": 0.1,
       "style": "IPY_MODEL_ff0350eb3fed46ee970e42879eba7cff"
      }
     },
     "5b7be88c93594054a70cef923e5dd03b": {
      "model_module": "@jupyter-widgets/output",
      "model_module_version": "1.0.0",
      "model_name": "OutputModel",
      "state": {
       "layout": "IPY_MODEL_a6aa209ad609424ca2d151a9ae494fd7",
       "outputs": [
        {
         "data": {
          "image/svg+xml": "<?xml version=\"1.0\" encoding=\"utf-8\" standalone=\"no\"?>\n<!DOCTYPE svg PUBLIC \"-//W3C//DTD SVG 1.1//EN\"\n  \"http://www.w3.org/Graphics/SVG/1.1/DTD/svg11.dtd\">\n<!-- Created with matplotlib (https://matplotlib.org/) -->\n<svg height=\"265.995469pt\" version=\"1.1\" viewBox=\"0 0 412.823438 265.995469\" width=\"412.823438pt\" xmlns=\"http://www.w3.org/2000/svg\" xmlns:xlink=\"http://www.w3.org/1999/xlink\">\n <metadata>\n  <rdf:RDF xmlns:cc=\"http://creativecommons.org/ns#\" xmlns:dc=\"http://purl.org/dc/elements/1.1/\" xmlns:rdf=\"http://www.w3.org/1999/02/22-rdf-syntax-ns#\">\n   <cc:Work>\n    <dc:type rdf:resource=\"http://purl.org/dc/dcmitype/StillImage\"/>\n    <dc:date>2021-06-11T03:33:27.356561</dc:date>\n    <dc:format>image/svg+xml</dc:format>\n    <dc:creator>\n     <cc:Agent>\n      <dc:title>Matplotlib v3.3.3, https://matplotlib.org/</dc:title>\n     </cc:Agent>\n    </dc:creator>\n   </cc:Work>\n  </rdf:RDF>\n </metadata>\n <defs>\n  <style type=\"text/css\">*{stroke-linecap:butt;stroke-linejoin:round;}</style>\n </defs>\n <g id=\"figure_1\">\n  <g id=\"patch_1\">\n   <path d=\"M 0 265.995469 \nL 412.823438 265.995469 \nL 412.823438 0 \nL 0 0 \nz\n\" style=\"fill:none;\"/>\n  </g>\n  <g id=\"axes_1\">\n   <g id=\"patch_2\">\n    <path d=\"M 59.690625 228.439219 \nL 394.490625 228.439219 \nL 394.490625 10.999219 \nL 59.690625 10.999219 \nz\n\" style=\"fill:#ffffff;\"/>\n   </g>\n   <g id=\"matplotlib.axis_1\">\n    <g id=\"xtick_1\">\n     <g id=\"line2d_1\">\n      <defs>\n       <path d=\"M 0 0 \nL 0 3.5 \n\" id=\"ma8ca5d0ce0\" style=\"stroke:#000000;stroke-width:0.8;\"/>\n      </defs>\n      <g>\n       <use style=\"stroke:#000000;stroke-width:0.8;\" x=\"59.690625\" xlink:href=\"#ma8ca5d0ce0\" y=\"228.439219\"/>\n      </g>\n     </g>\n     <g id=\"text_1\">\n      <!-- 0.0 -->\n      <g transform=\"translate(51.739063 243.037656)scale(0.1 -0.1)\">\n       <defs>\n        <path d=\"M 31.78125 66.40625 \nQ 24.171875 66.40625 20.328125 58.90625 \nQ 16.5 51.421875 16.5 36.375 \nQ 16.5 21.390625 20.328125 13.890625 \nQ 24.171875 6.390625 31.78125 6.390625 \nQ 39.453125 6.390625 43.28125 13.890625 \nQ 47.125 21.390625 47.125 36.375 \nQ 47.125 51.421875 43.28125 58.90625 \nQ 39.453125 66.40625 31.78125 66.40625 \nz\nM 31.78125 74.21875 \nQ 44.046875 74.21875 50.515625 64.515625 \nQ 56.984375 54.828125 56.984375 36.375 \nQ 56.984375 17.96875 50.515625 8.265625 \nQ 44.046875 -1.421875 31.78125 -1.421875 \nQ 19.53125 -1.421875 13.0625 8.265625 \nQ 6.59375 17.96875 6.59375 36.375 \nQ 6.59375 54.828125 13.0625 64.515625 \nQ 19.53125 74.21875 31.78125 74.21875 \nz\n\" id=\"DejaVuSans-48\"/>\n        <path d=\"M 10.6875 12.40625 \nL 21 12.40625 \nL 21 0 \nL 10.6875 0 \nz\n\" id=\"DejaVuSans-46\"/>\n       </defs>\n       <use xlink:href=\"#DejaVuSans-48\"/>\n       <use x=\"63.623047\" xlink:href=\"#DejaVuSans-46\"/>\n       <use x=\"95.410156\" xlink:href=\"#DejaVuSans-48\"/>\n      </g>\n     </g>\n    </g>\n    <g id=\"xtick_2\">\n     <g id=\"line2d_2\">\n      <g>\n       <use style=\"stroke:#000000;stroke-width:0.8;\" x=\"101.540625\" xlink:href=\"#ma8ca5d0ce0\" y=\"228.439219\"/>\n      </g>\n     </g>\n     <g id=\"text_2\">\n      <!-- 2.5 -->\n      <g transform=\"translate(93.589063 243.037656)scale(0.1 -0.1)\">\n       <defs>\n        <path d=\"M 19.1875 8.296875 \nL 53.609375 8.296875 \nL 53.609375 0 \nL 7.328125 0 \nL 7.328125 8.296875 \nQ 12.9375 14.109375 22.625 23.890625 \nQ 32.328125 33.6875 34.8125 36.53125 \nQ 39.546875 41.84375 41.421875 45.53125 \nQ 43.3125 49.21875 43.3125 52.78125 \nQ 43.3125 58.59375 39.234375 62.25 \nQ 35.15625 65.921875 28.609375 65.921875 \nQ 23.96875 65.921875 18.8125 64.3125 \nQ 13.671875 62.703125 7.8125 59.421875 \nL 7.8125 69.390625 \nQ 13.765625 71.78125 18.9375 73 \nQ 24.125 74.21875 28.421875 74.21875 \nQ 39.75 74.21875 46.484375 68.546875 \nQ 53.21875 62.890625 53.21875 53.421875 \nQ 53.21875 48.921875 51.53125 44.890625 \nQ 49.859375 40.875 45.40625 35.40625 \nQ 44.1875 33.984375 37.640625 27.21875 \nQ 31.109375 20.453125 19.1875 8.296875 \nz\n\" id=\"DejaVuSans-50\"/>\n        <path d=\"M 10.796875 72.90625 \nL 49.515625 72.90625 \nL 49.515625 64.59375 \nL 19.828125 64.59375 \nL 19.828125 46.734375 \nQ 21.96875 47.46875 24.109375 47.828125 \nQ 26.265625 48.1875 28.421875 48.1875 \nQ 40.625 48.1875 47.75 41.5 \nQ 54.890625 34.8125 54.890625 23.390625 \nQ 54.890625 11.625 47.5625 5.09375 \nQ 40.234375 -1.421875 26.90625 -1.421875 \nQ 22.3125 -1.421875 17.546875 -0.640625 \nQ 12.796875 0.140625 7.71875 1.703125 \nL 7.71875 11.625 \nQ 12.109375 9.234375 16.796875 8.0625 \nQ 21.484375 6.890625 26.703125 6.890625 \nQ 35.15625 6.890625 40.078125 11.328125 \nQ 45.015625 15.765625 45.015625 23.390625 \nQ 45.015625 31 40.078125 35.4375 \nQ 35.15625 39.890625 26.703125 39.890625 \nQ 22.75 39.890625 18.8125 39.015625 \nQ 14.890625 38.140625 10.796875 36.28125 \nz\n\" id=\"DejaVuSans-53\"/>\n       </defs>\n       <use xlink:href=\"#DejaVuSans-50\"/>\n       <use x=\"63.623047\" xlink:href=\"#DejaVuSans-46\"/>\n       <use x=\"95.410156\" xlink:href=\"#DejaVuSans-53\"/>\n      </g>\n     </g>\n    </g>\n    <g id=\"xtick_3\">\n     <g id=\"line2d_3\">\n      <g>\n       <use style=\"stroke:#000000;stroke-width:0.8;\" x=\"143.390625\" xlink:href=\"#ma8ca5d0ce0\" y=\"228.439219\"/>\n      </g>\n     </g>\n     <g id=\"text_3\">\n      <!-- 5.0 -->\n      <g transform=\"translate(135.439063 243.037656)scale(0.1 -0.1)\">\n       <use xlink:href=\"#DejaVuSans-53\"/>\n       <use x=\"63.623047\" xlink:href=\"#DejaVuSans-46\"/>\n       <use x=\"95.410156\" xlink:href=\"#DejaVuSans-48\"/>\n      </g>\n     </g>\n    </g>\n    <g id=\"xtick_4\">\n     <g id=\"line2d_4\">\n      <g>\n       <use style=\"stroke:#000000;stroke-width:0.8;\" x=\"185.240625\" xlink:href=\"#ma8ca5d0ce0\" y=\"228.439219\"/>\n      </g>\n     </g>\n     <g id=\"text_4\">\n      <!-- 7.5 -->\n      <g transform=\"translate(177.289063 243.037656)scale(0.1 -0.1)\">\n       <defs>\n        <path d=\"M 8.203125 72.90625 \nL 55.078125 72.90625 \nL 55.078125 68.703125 \nL 28.609375 0 \nL 18.3125 0 \nL 43.21875 64.59375 \nL 8.203125 64.59375 \nz\n\" id=\"DejaVuSans-55\"/>\n       </defs>\n       <use xlink:href=\"#DejaVuSans-55\"/>\n       <use x=\"63.623047\" xlink:href=\"#DejaVuSans-46\"/>\n       <use x=\"95.410156\" xlink:href=\"#DejaVuSans-53\"/>\n      </g>\n     </g>\n    </g>\n    <g id=\"xtick_5\">\n     <g id=\"line2d_5\">\n      <g>\n       <use style=\"stroke:#000000;stroke-width:0.8;\" x=\"227.090625\" xlink:href=\"#ma8ca5d0ce0\" y=\"228.439219\"/>\n      </g>\n     </g>\n     <g id=\"text_5\">\n      <!-- 10.0 -->\n      <g transform=\"translate(215.957813 243.037656)scale(0.1 -0.1)\">\n       <defs>\n        <path d=\"M 12.40625 8.296875 \nL 28.515625 8.296875 \nL 28.515625 63.921875 \nL 10.984375 60.40625 \nL 10.984375 69.390625 \nL 28.421875 72.90625 \nL 38.28125 72.90625 \nL 38.28125 8.296875 \nL 54.390625 8.296875 \nL 54.390625 0 \nL 12.40625 0 \nz\n\" id=\"DejaVuSans-49\"/>\n       </defs>\n       <use xlink:href=\"#DejaVuSans-49\"/>\n       <use x=\"63.623047\" xlink:href=\"#DejaVuSans-48\"/>\n       <use x=\"127.246094\" xlink:href=\"#DejaVuSans-46\"/>\n       <use x=\"159.033203\" xlink:href=\"#DejaVuSans-48\"/>\n      </g>\n     </g>\n    </g>\n    <g id=\"xtick_6\">\n     <g id=\"line2d_6\">\n      <g>\n       <use style=\"stroke:#000000;stroke-width:0.8;\" x=\"268.940625\" xlink:href=\"#ma8ca5d0ce0\" y=\"228.439219\"/>\n      </g>\n     </g>\n     <g id=\"text_6\">\n      <!-- 12.5 -->\n      <g transform=\"translate(257.807813 243.037656)scale(0.1 -0.1)\">\n       <use xlink:href=\"#DejaVuSans-49\"/>\n       <use x=\"63.623047\" xlink:href=\"#DejaVuSans-50\"/>\n       <use x=\"127.246094\" xlink:href=\"#DejaVuSans-46\"/>\n       <use x=\"159.033203\" xlink:href=\"#DejaVuSans-53\"/>\n      </g>\n     </g>\n    </g>\n    <g id=\"xtick_7\">\n     <g id=\"line2d_7\">\n      <g>\n       <use style=\"stroke:#000000;stroke-width:0.8;\" x=\"310.790625\" xlink:href=\"#ma8ca5d0ce0\" y=\"228.439219\"/>\n      </g>\n     </g>\n     <g id=\"text_7\">\n      <!-- 15.0 -->\n      <g transform=\"translate(299.657813 243.037656)scale(0.1 -0.1)\">\n       <use xlink:href=\"#DejaVuSans-49\"/>\n       <use x=\"63.623047\" xlink:href=\"#DejaVuSans-53\"/>\n       <use x=\"127.246094\" xlink:href=\"#DejaVuSans-46\"/>\n       <use x=\"159.033203\" xlink:href=\"#DejaVuSans-48\"/>\n      </g>\n     </g>\n    </g>\n    <g id=\"xtick_8\">\n     <g id=\"line2d_8\">\n      <g>\n       <use style=\"stroke:#000000;stroke-width:0.8;\" x=\"352.640625\" xlink:href=\"#ma8ca5d0ce0\" y=\"228.439219\"/>\n      </g>\n     </g>\n     <g id=\"text_8\">\n      <!-- 17.5 -->\n      <g transform=\"translate(341.507813 243.037656)scale(0.1 -0.1)\">\n       <use xlink:href=\"#DejaVuSans-49\"/>\n       <use x=\"63.623047\" xlink:href=\"#DejaVuSans-55\"/>\n       <use x=\"127.246094\" xlink:href=\"#DejaVuSans-46\"/>\n       <use x=\"159.033203\" xlink:href=\"#DejaVuSans-53\"/>\n      </g>\n     </g>\n    </g>\n    <g id=\"xtick_9\">\n     <g id=\"line2d_9\">\n      <g>\n       <use style=\"stroke:#000000;stroke-width:0.8;\" x=\"394.490625\" xlink:href=\"#ma8ca5d0ce0\" y=\"228.439219\"/>\n      </g>\n     </g>\n     <g id=\"text_9\">\n      <!-- 20.0 -->\n      <g transform=\"translate(383.357813 243.037656)scale(0.1 -0.1)\">\n       <use xlink:href=\"#DejaVuSans-50\"/>\n       <use x=\"63.623047\" xlink:href=\"#DejaVuSans-48\"/>\n       <use x=\"127.246094\" xlink:href=\"#DejaVuSans-46\"/>\n       <use x=\"159.033203\" xlink:href=\"#DejaVuSans-48\"/>\n      </g>\n     </g>\n    </g>\n    <g id=\"text_10\">\n     <!-- Energy (keV) -->\n     <g transform=\"translate(194.882812 256.715781)scale(0.1 -0.1)\">\n      <defs>\n       <path d=\"M 9.8125 72.90625 \nL 55.90625 72.90625 \nL 55.90625 64.59375 \nL 19.671875 64.59375 \nL 19.671875 43.015625 \nL 54.390625 43.015625 \nL 54.390625 34.71875 \nL 19.671875 34.71875 \nL 19.671875 8.296875 \nL 56.78125 8.296875 \nL 56.78125 0 \nL 9.8125 0 \nz\n\" id=\"DejaVuSans-69\"/>\n       <path d=\"M 54.890625 33.015625 \nL 54.890625 0 \nL 45.90625 0 \nL 45.90625 32.71875 \nQ 45.90625 40.484375 42.875 44.328125 \nQ 39.84375 48.1875 33.796875 48.1875 \nQ 26.515625 48.1875 22.3125 43.546875 \nQ 18.109375 38.921875 18.109375 30.90625 \nL 18.109375 0 \nL 9.078125 0 \nL 9.078125 54.6875 \nL 18.109375 54.6875 \nL 18.109375 46.1875 \nQ 21.34375 51.125 25.703125 53.5625 \nQ 30.078125 56 35.796875 56 \nQ 45.21875 56 50.046875 50.171875 \nQ 54.890625 44.34375 54.890625 33.015625 \nz\n\" id=\"DejaVuSans-110\"/>\n       <path d=\"M 56.203125 29.59375 \nL 56.203125 25.203125 \nL 14.890625 25.203125 \nQ 15.484375 15.921875 20.484375 11.0625 \nQ 25.484375 6.203125 34.421875 6.203125 \nQ 39.59375 6.203125 44.453125 7.46875 \nQ 49.3125 8.734375 54.109375 11.28125 \nL 54.109375 2.78125 \nQ 49.265625 0.734375 44.1875 -0.34375 \nQ 39.109375 -1.421875 33.890625 -1.421875 \nQ 20.796875 -1.421875 13.15625 6.1875 \nQ 5.515625 13.8125 5.515625 26.8125 \nQ 5.515625 40.234375 12.765625 48.109375 \nQ 20.015625 56 32.328125 56 \nQ 43.359375 56 49.78125 48.890625 \nQ 56.203125 41.796875 56.203125 29.59375 \nz\nM 47.21875 32.234375 \nQ 47.125 39.59375 43.09375 43.984375 \nQ 39.0625 48.390625 32.421875 48.390625 \nQ 24.90625 48.390625 20.390625 44.140625 \nQ 15.875 39.890625 15.1875 32.171875 \nz\n\" id=\"DejaVuSans-101\"/>\n       <path d=\"M 41.109375 46.296875 \nQ 39.59375 47.171875 37.8125 47.578125 \nQ 36.03125 48 33.890625 48 \nQ 26.265625 48 22.1875 43.046875 \nQ 18.109375 38.09375 18.109375 28.8125 \nL 18.109375 0 \nL 9.078125 0 \nL 9.078125 54.6875 \nL 18.109375 54.6875 \nL 18.109375 46.1875 \nQ 20.953125 51.171875 25.484375 53.578125 \nQ 30.03125 56 36.53125 56 \nQ 37.453125 56 38.578125 55.875 \nQ 39.703125 55.765625 41.0625 55.515625 \nz\n\" id=\"DejaVuSans-114\"/>\n       <path d=\"M 45.40625 27.984375 \nQ 45.40625 37.75 41.375 43.109375 \nQ 37.359375 48.484375 30.078125 48.484375 \nQ 22.859375 48.484375 18.828125 43.109375 \nQ 14.796875 37.75 14.796875 27.984375 \nQ 14.796875 18.265625 18.828125 12.890625 \nQ 22.859375 7.515625 30.078125 7.515625 \nQ 37.359375 7.515625 41.375 12.890625 \nQ 45.40625 18.265625 45.40625 27.984375 \nz\nM 54.390625 6.78125 \nQ 54.390625 -7.171875 48.1875 -13.984375 \nQ 42 -20.796875 29.203125 -20.796875 \nQ 24.46875 -20.796875 20.265625 -20.09375 \nQ 16.0625 -19.390625 12.109375 -17.921875 \nL 12.109375 -9.1875 \nQ 16.0625 -11.328125 19.921875 -12.34375 \nQ 23.78125 -13.375 27.78125 -13.375 \nQ 36.625 -13.375 41.015625 -8.765625 \nQ 45.40625 -4.15625 45.40625 5.171875 \nL 45.40625 9.625 \nQ 42.625 4.78125 38.28125 2.390625 \nQ 33.9375 0 27.875 0 \nQ 17.828125 0 11.671875 7.65625 \nQ 5.515625 15.328125 5.515625 27.984375 \nQ 5.515625 40.671875 11.671875 48.328125 \nQ 17.828125 56 27.875 56 \nQ 33.9375 56 38.28125 53.609375 \nQ 42.625 51.21875 45.40625 46.390625 \nL 45.40625 54.6875 \nL 54.390625 54.6875 \nz\n\" id=\"DejaVuSans-103\"/>\n       <path d=\"M 32.171875 -5.078125 \nQ 28.375 -14.84375 24.75 -17.8125 \nQ 21.140625 -20.796875 15.09375 -20.796875 \nL 7.90625 -20.796875 \nL 7.90625 -13.28125 \nL 13.1875 -13.28125 \nQ 16.890625 -13.28125 18.9375 -11.515625 \nQ 21 -9.765625 23.484375 -3.21875 \nL 25.09375 0.875 \nL 2.984375 54.6875 \nL 12.5 54.6875 \nL 29.59375 11.921875 \nL 46.6875 54.6875 \nL 56.203125 54.6875 \nz\n\" id=\"DejaVuSans-121\"/>\n       <path id=\"DejaVuSans-32\"/>\n       <path d=\"M 31 75.875 \nQ 24.46875 64.65625 21.28125 53.65625 \nQ 18.109375 42.671875 18.109375 31.390625 \nQ 18.109375 20.125 21.3125 9.0625 \nQ 24.515625 -2 31 -13.1875 \nL 23.1875 -13.1875 \nQ 15.875 -1.703125 12.234375 9.375 \nQ 8.59375 20.453125 8.59375 31.390625 \nQ 8.59375 42.28125 12.203125 53.3125 \nQ 15.828125 64.359375 23.1875 75.875 \nz\n\" id=\"DejaVuSans-40\"/>\n       <path d=\"M 9.078125 75.984375 \nL 18.109375 75.984375 \nL 18.109375 31.109375 \nL 44.921875 54.6875 \nL 56.390625 54.6875 \nL 27.390625 29.109375 \nL 57.625 0 \nL 45.90625 0 \nL 18.109375 26.703125 \nL 18.109375 0 \nL 9.078125 0 \nz\n\" id=\"DejaVuSans-107\"/>\n       <path d=\"M 28.609375 0 \nL 0.78125 72.90625 \nL 11.078125 72.90625 \nL 34.1875 11.53125 \nL 57.328125 72.90625 \nL 67.578125 72.90625 \nL 39.796875 0 \nz\n\" id=\"DejaVuSans-86\"/>\n       <path d=\"M 8.015625 75.875 \nL 15.828125 75.875 \nQ 23.140625 64.359375 26.78125 53.3125 \nQ 30.421875 42.28125 30.421875 31.390625 \nQ 30.421875 20.453125 26.78125 9.375 \nQ 23.140625 -1.703125 15.828125 -13.1875 \nL 8.015625 -13.1875 \nQ 14.5 -2 17.703125 9.0625 \nQ 20.90625 20.125 20.90625 31.390625 \nQ 20.90625 42.671875 17.703125 53.65625 \nQ 14.5 64.65625 8.015625 75.875 \nz\n\" id=\"DejaVuSans-41\"/>\n      </defs>\n      <use xlink:href=\"#DejaVuSans-69\"/>\n      <use x=\"63.183594\" xlink:href=\"#DejaVuSans-110\"/>\n      <use x=\"126.5625\" xlink:href=\"#DejaVuSans-101\"/>\n      <use x=\"188.085938\" xlink:href=\"#DejaVuSans-114\"/>\n      <use x=\"227.449219\" xlink:href=\"#DejaVuSans-103\"/>\n      <use x=\"290.925781\" xlink:href=\"#DejaVuSans-121\"/>\n      <use x=\"350.105469\" xlink:href=\"#DejaVuSans-32\"/>\n      <use x=\"381.892578\" xlink:href=\"#DejaVuSans-40\"/>\n      <use x=\"420.90625\" xlink:href=\"#DejaVuSans-107\"/>\n      <use x=\"475.191406\" xlink:href=\"#DejaVuSans-101\"/>\n      <use x=\"536.714844\" xlink:href=\"#DejaVuSans-86\"/>\n      <use x=\"605.123047\" xlink:href=\"#DejaVuSans-41\"/>\n     </g>\n    </g>\n   </g>\n   <g id=\"matplotlib.axis_2\">\n    <g id=\"ytick_1\">\n     <g id=\"line2d_10\">\n      <defs>\n       <path d=\"M 0 0 \nL -3.5 0 \n\" id=\"m05680c3d8c\" style=\"stroke:#000000;stroke-width:0.8;\"/>\n      </defs>\n      <g>\n       <use style=\"stroke:#000000;stroke-width:0.8;\" x=\"59.690625\" xlink:href=\"#m05680c3d8c\" y=\"184.959917\"/>\n      </g>\n     </g>\n     <g id=\"text_11\">\n      <!-- 2000 -->\n      <g transform=\"translate(27.240625 188.759136)scale(0.1 -0.1)\">\n       <use xlink:href=\"#DejaVuSans-50\"/>\n       <use x=\"63.623047\" xlink:href=\"#DejaVuSans-48\"/>\n       <use x=\"127.246094\" xlink:href=\"#DejaVuSans-48\"/>\n       <use x=\"190.869141\" xlink:href=\"#DejaVuSans-48\"/>\n      </g>\n     </g>\n    </g>\n    <g id=\"ytick_2\">\n     <g id=\"line2d_11\">\n      <g>\n       <use style=\"stroke:#000000;stroke-width:0.8;\" x=\"59.690625\" xlink:href=\"#m05680c3d8c\" y=\"141.469742\"/>\n      </g>\n     </g>\n     <g id=\"text_12\">\n      <!-- 4000 -->\n      <g transform=\"translate(27.240625 145.268961)scale(0.1 -0.1)\">\n       <defs>\n        <path d=\"M 37.796875 64.3125 \nL 12.890625 25.390625 \nL 37.796875 25.390625 \nz\nM 35.203125 72.90625 \nL 47.609375 72.90625 \nL 47.609375 25.390625 \nL 58.015625 25.390625 \nL 58.015625 17.1875 \nL 47.609375 17.1875 \nL 47.609375 0 \nL 37.796875 0 \nL 37.796875 17.1875 \nL 4.890625 17.1875 \nL 4.890625 26.703125 \nz\n\" id=\"DejaVuSans-52\"/>\n       </defs>\n       <use xlink:href=\"#DejaVuSans-52\"/>\n       <use x=\"63.623047\" xlink:href=\"#DejaVuSans-48\"/>\n       <use x=\"127.246094\" xlink:href=\"#DejaVuSans-48\"/>\n       <use x=\"190.869141\" xlink:href=\"#DejaVuSans-48\"/>\n      </g>\n     </g>\n    </g>\n    <g id=\"ytick_3\">\n     <g id=\"line2d_12\">\n      <g>\n       <use style=\"stroke:#000000;stroke-width:0.8;\" x=\"59.690625\" xlink:href=\"#m05680c3d8c\" y=\"97.979568\"/>\n      </g>\n     </g>\n     <g id=\"text_13\">\n      <!-- 6000 -->\n      <g transform=\"translate(27.240625 101.778787)scale(0.1 -0.1)\">\n       <defs>\n        <path d=\"M 33.015625 40.375 \nQ 26.375 40.375 22.484375 35.828125 \nQ 18.609375 31.296875 18.609375 23.390625 \nQ 18.609375 15.53125 22.484375 10.953125 \nQ 26.375 6.390625 33.015625 6.390625 \nQ 39.65625 6.390625 43.53125 10.953125 \nQ 47.40625 15.53125 47.40625 23.390625 \nQ 47.40625 31.296875 43.53125 35.828125 \nQ 39.65625 40.375 33.015625 40.375 \nz\nM 52.59375 71.296875 \nL 52.59375 62.3125 \nQ 48.875 64.0625 45.09375 64.984375 \nQ 41.3125 65.921875 37.59375 65.921875 \nQ 27.828125 65.921875 22.671875 59.328125 \nQ 17.53125 52.734375 16.796875 39.40625 \nQ 19.671875 43.65625 24.015625 45.921875 \nQ 28.375 48.1875 33.59375 48.1875 \nQ 44.578125 48.1875 50.953125 41.515625 \nQ 57.328125 34.859375 57.328125 23.390625 \nQ 57.328125 12.15625 50.6875 5.359375 \nQ 44.046875 -1.421875 33.015625 -1.421875 \nQ 20.359375 -1.421875 13.671875 8.265625 \nQ 6.984375 17.96875 6.984375 36.375 \nQ 6.984375 53.65625 15.1875 63.9375 \nQ 23.390625 74.21875 37.203125 74.21875 \nQ 40.921875 74.21875 44.703125 73.484375 \nQ 48.484375 72.75 52.59375 71.296875 \nz\n\" id=\"DejaVuSans-54\"/>\n       </defs>\n       <use xlink:href=\"#DejaVuSans-54\"/>\n       <use x=\"63.623047\" xlink:href=\"#DejaVuSans-48\"/>\n       <use x=\"127.246094\" xlink:href=\"#DejaVuSans-48\"/>\n       <use x=\"190.869141\" xlink:href=\"#DejaVuSans-48\"/>\n      </g>\n     </g>\n    </g>\n    <g id=\"ytick_4\">\n     <g id=\"line2d_13\">\n      <g>\n       <use style=\"stroke:#000000;stroke-width:0.8;\" x=\"59.690625\" xlink:href=\"#m05680c3d8c\" y=\"54.489393\"/>\n      </g>\n     </g>\n     <g id=\"text_14\">\n      <!-- 8000 -->\n      <g transform=\"translate(27.240625 58.288612)scale(0.1 -0.1)\">\n       <defs>\n        <path d=\"M 31.78125 34.625 \nQ 24.75 34.625 20.71875 30.859375 \nQ 16.703125 27.09375 16.703125 20.515625 \nQ 16.703125 13.921875 20.71875 10.15625 \nQ 24.75 6.390625 31.78125 6.390625 \nQ 38.8125 6.390625 42.859375 10.171875 \nQ 46.921875 13.96875 46.921875 20.515625 \nQ 46.921875 27.09375 42.890625 30.859375 \nQ 38.875 34.625 31.78125 34.625 \nz\nM 21.921875 38.8125 \nQ 15.578125 40.375 12.03125 44.71875 \nQ 8.5 49.078125 8.5 55.328125 \nQ 8.5 64.0625 14.71875 69.140625 \nQ 20.953125 74.21875 31.78125 74.21875 \nQ 42.671875 74.21875 48.875 69.140625 \nQ 55.078125 64.0625 55.078125 55.328125 \nQ 55.078125 49.078125 51.53125 44.71875 \nQ 48 40.375 41.703125 38.8125 \nQ 48.828125 37.15625 52.796875 32.3125 \nQ 56.78125 27.484375 56.78125 20.515625 \nQ 56.78125 9.90625 50.3125 4.234375 \nQ 43.84375 -1.421875 31.78125 -1.421875 \nQ 19.734375 -1.421875 13.25 4.234375 \nQ 6.78125 9.90625 6.78125 20.515625 \nQ 6.78125 27.484375 10.78125 32.3125 \nQ 14.796875 37.15625 21.921875 38.8125 \nz\nM 18.3125 54.390625 \nQ 18.3125 48.734375 21.84375 45.5625 \nQ 25.390625 42.390625 31.78125 42.390625 \nQ 38.140625 42.390625 41.71875 45.5625 \nQ 45.3125 48.734375 45.3125 54.390625 \nQ 45.3125 60.0625 41.71875 63.234375 \nQ 38.140625 66.40625 31.78125 66.40625 \nQ 25.390625 66.40625 21.84375 63.234375 \nQ 18.3125 60.0625 18.3125 54.390625 \nz\n\" id=\"DejaVuSans-56\"/>\n       </defs>\n       <use xlink:href=\"#DejaVuSans-56\"/>\n       <use x=\"63.623047\" xlink:href=\"#DejaVuSans-48\"/>\n       <use x=\"127.246094\" xlink:href=\"#DejaVuSans-48\"/>\n       <use x=\"190.869141\" xlink:href=\"#DejaVuSans-48\"/>\n      </g>\n     </g>\n    </g>\n    <g id=\"ytick_5\">\n     <g id=\"line2d_14\">\n      <g>\n       <use style=\"stroke:#000000;stroke-width:0.8;\" x=\"59.690625\" xlink:href=\"#m05680c3d8c\" y=\"10.999219\"/>\n      </g>\n     </g>\n     <g id=\"text_15\">\n      <!-- 10000 -->\n      <g transform=\"translate(20.878125 14.798437)scale(0.1 -0.1)\">\n       <use xlink:href=\"#DejaVuSans-49\"/>\n       <use x=\"63.623047\" xlink:href=\"#DejaVuSans-48\"/>\n       <use x=\"127.246094\" xlink:href=\"#DejaVuSans-48\"/>\n       <use x=\"190.869141\" xlink:href=\"#DejaVuSans-48\"/>\n       <use x=\"254.492188\" xlink:href=\"#DejaVuSans-48\"/>\n      </g>\n     </g>\n    </g>\n    <g id=\"text_16\">\n     <!-- Counts / (40.0 eV kg days) -->\n     <g transform=\"translate(14.798438 186.205156)rotate(-90)scale(0.1 -0.1)\">\n      <defs>\n       <path d=\"M 64.40625 67.28125 \nL 64.40625 56.890625 \nQ 59.421875 61.53125 53.78125 63.8125 \nQ 48.140625 66.109375 41.796875 66.109375 \nQ 29.296875 66.109375 22.65625 58.46875 \nQ 16.015625 50.828125 16.015625 36.375 \nQ 16.015625 21.96875 22.65625 14.328125 \nQ 29.296875 6.6875 41.796875 6.6875 \nQ 48.140625 6.6875 53.78125 8.984375 \nQ 59.421875 11.28125 64.40625 15.921875 \nL 64.40625 5.609375 \nQ 59.234375 2.09375 53.4375 0.328125 \nQ 47.65625 -1.421875 41.21875 -1.421875 \nQ 24.65625 -1.421875 15.125 8.703125 \nQ 5.609375 18.84375 5.609375 36.375 \nQ 5.609375 53.953125 15.125 64.078125 \nQ 24.65625 74.21875 41.21875 74.21875 \nQ 47.75 74.21875 53.53125 72.484375 \nQ 59.328125 70.75 64.40625 67.28125 \nz\n\" id=\"DejaVuSans-67\"/>\n       <path d=\"M 30.609375 48.390625 \nQ 23.390625 48.390625 19.1875 42.75 \nQ 14.984375 37.109375 14.984375 27.296875 \nQ 14.984375 17.484375 19.15625 11.84375 \nQ 23.34375 6.203125 30.609375 6.203125 \nQ 37.796875 6.203125 41.984375 11.859375 \nQ 46.1875 17.53125 46.1875 27.296875 \nQ 46.1875 37.015625 41.984375 42.703125 \nQ 37.796875 48.390625 30.609375 48.390625 \nz\nM 30.609375 56 \nQ 42.328125 56 49.015625 48.375 \nQ 55.71875 40.765625 55.71875 27.296875 \nQ 55.71875 13.875 49.015625 6.21875 \nQ 42.328125 -1.421875 30.609375 -1.421875 \nQ 18.84375 -1.421875 12.171875 6.21875 \nQ 5.515625 13.875 5.515625 27.296875 \nQ 5.515625 40.765625 12.171875 48.375 \nQ 18.84375 56 30.609375 56 \nz\n\" id=\"DejaVuSans-111\"/>\n       <path d=\"M 8.5 21.578125 \nL 8.5 54.6875 \nL 17.484375 54.6875 \nL 17.484375 21.921875 \nQ 17.484375 14.15625 20.5 10.265625 \nQ 23.53125 6.390625 29.59375 6.390625 \nQ 36.859375 6.390625 41.078125 11.03125 \nQ 45.3125 15.671875 45.3125 23.6875 \nL 45.3125 54.6875 \nL 54.296875 54.6875 \nL 54.296875 0 \nL 45.3125 0 \nL 45.3125 8.40625 \nQ 42.046875 3.421875 37.71875 1 \nQ 33.40625 -1.421875 27.6875 -1.421875 \nQ 18.265625 -1.421875 13.375 4.4375 \nQ 8.5 10.296875 8.5 21.578125 \nz\nM 31.109375 56 \nz\n\" id=\"DejaVuSans-117\"/>\n       <path d=\"M 18.3125 70.21875 \nL 18.3125 54.6875 \nL 36.8125 54.6875 \nL 36.8125 47.703125 \nL 18.3125 47.703125 \nL 18.3125 18.015625 \nQ 18.3125 11.328125 20.140625 9.421875 \nQ 21.96875 7.515625 27.59375 7.515625 \nL 36.8125 7.515625 \nL 36.8125 0 \nL 27.59375 0 \nQ 17.1875 0 13.234375 3.875 \nQ 9.28125 7.765625 9.28125 18.015625 \nL 9.28125 47.703125 \nL 2.6875 47.703125 \nL 2.6875 54.6875 \nL 9.28125 54.6875 \nL 9.28125 70.21875 \nz\n\" id=\"DejaVuSans-116\"/>\n       <path d=\"M 44.28125 53.078125 \nL 44.28125 44.578125 \nQ 40.484375 46.53125 36.375 47.5 \nQ 32.28125 48.484375 27.875 48.484375 \nQ 21.1875 48.484375 17.84375 46.4375 \nQ 14.5 44.390625 14.5 40.28125 \nQ 14.5 37.15625 16.890625 35.375 \nQ 19.28125 33.59375 26.515625 31.984375 \nL 29.59375 31.296875 \nQ 39.15625 29.25 43.1875 25.515625 \nQ 47.21875 21.78125 47.21875 15.09375 \nQ 47.21875 7.46875 41.1875 3.015625 \nQ 35.15625 -1.421875 24.609375 -1.421875 \nQ 20.21875 -1.421875 15.453125 -0.5625 \nQ 10.6875 0.296875 5.421875 2 \nL 5.421875 11.28125 \nQ 10.40625 8.6875 15.234375 7.390625 \nQ 20.0625 6.109375 24.8125 6.109375 \nQ 31.15625 6.109375 34.5625 8.28125 \nQ 37.984375 10.453125 37.984375 14.40625 \nQ 37.984375 18.0625 35.515625 20.015625 \nQ 33.0625 21.96875 24.703125 23.78125 \nL 21.578125 24.515625 \nQ 13.234375 26.265625 9.515625 29.90625 \nQ 5.8125 33.546875 5.8125 39.890625 \nQ 5.8125 47.609375 11.28125 51.796875 \nQ 16.75 56 26.8125 56 \nQ 31.78125 56 36.171875 55.265625 \nQ 40.578125 54.546875 44.28125 53.078125 \nz\n\" id=\"DejaVuSans-115\"/>\n       <path d=\"M 25.390625 72.90625 \nL 33.6875 72.90625 \nL 8.296875 -9.28125 \nL 0 -9.28125 \nz\n\" id=\"DejaVuSans-47\"/>\n       <path d=\"M 45.40625 46.390625 \nL 45.40625 75.984375 \nL 54.390625 75.984375 \nL 54.390625 0 \nL 45.40625 0 \nL 45.40625 8.203125 \nQ 42.578125 3.328125 38.25 0.953125 \nQ 33.9375 -1.421875 27.875 -1.421875 \nQ 17.96875 -1.421875 11.734375 6.484375 \nQ 5.515625 14.40625 5.515625 27.296875 \nQ 5.515625 40.1875 11.734375 48.09375 \nQ 17.96875 56 27.875 56 \nQ 33.9375 56 38.25 53.625 \nQ 42.578125 51.265625 45.40625 46.390625 \nz\nM 14.796875 27.296875 \nQ 14.796875 17.390625 18.875 11.75 \nQ 22.953125 6.109375 30.078125 6.109375 \nQ 37.203125 6.109375 41.296875 11.75 \nQ 45.40625 17.390625 45.40625 27.296875 \nQ 45.40625 37.203125 41.296875 42.84375 \nQ 37.203125 48.484375 30.078125 48.484375 \nQ 22.953125 48.484375 18.875 42.84375 \nQ 14.796875 37.203125 14.796875 27.296875 \nz\n\" id=\"DejaVuSans-100\"/>\n       <path d=\"M 34.28125 27.484375 \nQ 23.390625 27.484375 19.1875 25 \nQ 14.984375 22.515625 14.984375 16.5 \nQ 14.984375 11.71875 18.140625 8.90625 \nQ 21.296875 6.109375 26.703125 6.109375 \nQ 34.1875 6.109375 38.703125 11.40625 \nQ 43.21875 16.703125 43.21875 25.484375 \nL 43.21875 27.484375 \nz\nM 52.203125 31.203125 \nL 52.203125 0 \nL 43.21875 0 \nL 43.21875 8.296875 \nQ 40.140625 3.328125 35.546875 0.953125 \nQ 30.953125 -1.421875 24.3125 -1.421875 \nQ 15.921875 -1.421875 10.953125 3.296875 \nQ 6 8.015625 6 15.921875 \nQ 6 25.140625 12.171875 29.828125 \nQ 18.359375 34.515625 30.609375 34.515625 \nL 43.21875 34.515625 \nL 43.21875 35.40625 \nQ 43.21875 41.609375 39.140625 45 \nQ 35.0625 48.390625 27.6875 48.390625 \nQ 23 48.390625 18.546875 47.265625 \nQ 14.109375 46.140625 10.015625 43.890625 \nL 10.015625 52.203125 \nQ 14.9375 54.109375 19.578125 55.046875 \nQ 24.21875 56 28.609375 56 \nQ 40.484375 56 46.34375 49.84375 \nQ 52.203125 43.703125 52.203125 31.203125 \nz\n\" id=\"DejaVuSans-97\"/>\n      </defs>\n      <use xlink:href=\"#DejaVuSans-67\"/>\n      <use x=\"69.824219\" xlink:href=\"#DejaVuSans-111\"/>\n      <use x=\"131.005859\" xlink:href=\"#DejaVuSans-117\"/>\n      <use x=\"194.384766\" xlink:href=\"#DejaVuSans-110\"/>\n      <use x=\"257.763672\" xlink:href=\"#DejaVuSans-116\"/>\n      <use x=\"296.972656\" xlink:href=\"#DejaVuSans-115\"/>\n      <use x=\"349.072266\" xlink:href=\"#DejaVuSans-32\"/>\n      <use x=\"380.859375\" xlink:href=\"#DejaVuSans-47\"/>\n      <use x=\"414.550781\" xlink:href=\"#DejaVuSans-32\"/>\n      <use x=\"446.337891\" xlink:href=\"#DejaVuSans-40\"/>\n      <use x=\"485.351562\" xlink:href=\"#DejaVuSans-52\"/>\n      <use x=\"548.974609\" xlink:href=\"#DejaVuSans-48\"/>\n      <use x=\"612.597656\" xlink:href=\"#DejaVuSans-46\"/>\n      <use x=\"644.384766\" xlink:href=\"#DejaVuSans-48\"/>\n      <use x=\"708.007812\" xlink:href=\"#DejaVuSans-32\"/>\n      <use x=\"739.794922\" xlink:href=\"#DejaVuSans-101\"/>\n      <use x=\"801.318359\" xlink:href=\"#DejaVuSans-86\"/>\n      <use x=\"869.726562\" xlink:href=\"#DejaVuSans-32\"/>\n      <use x=\"901.513672\" xlink:href=\"#DejaVuSans-107\"/>\n      <use x=\"959.423828\" xlink:href=\"#DejaVuSans-103\"/>\n      <use x=\"1022.900391\" xlink:href=\"#DejaVuSans-32\"/>\n      <use x=\"1054.6875\" xlink:href=\"#DejaVuSans-100\"/>\n      <use x=\"1118.164062\" xlink:href=\"#DejaVuSans-97\"/>\n      <use x=\"1179.443359\" xlink:href=\"#DejaVuSans-121\"/>\n      <use x=\"1238.623047\" xlink:href=\"#DejaVuSans-115\"/>\n      <use x=\"1290.722656\" xlink:href=\"#DejaVuSans-41\"/>\n     </g>\n    </g>\n   </g>\n   <g id=\"patch_3\">\n    <path clip-path=\"url(#pf6020c366d)\" d=\"M 59.690625 228.450091 \nL 59.690625 140.317253 \nL 60.360225 140.317253 \nL 60.360225 147.1887 \nL 61.029825 147.1887 \nL 61.029825 151.385502 \nL 61.699425 151.385502 \nL 61.699425 150.77664 \nL 62.369025 150.77664 \nL 62.369025 156.887009 \nL 63.038625 156.887009 \nL 63.038625 161.409987 \nL 63.708225 161.409987 \nL 63.708225 162.10583 \nL 64.377825 162.10583 \nL 64.377825 162.649457 \nL 65.047425 162.649457 \nL 65.047425 166.520083 \nL 65.717025 166.520083 \nL 65.717025 170.129767 \nL 66.386625 170.129767 \nL 66.386625 170.499434 \nL 67.056225 170.499434 \nL 67.056225 172.195551 \nL 67.725825 172.195551 \nL 67.725825 175.000667 \nL 68.395425 175.000667 \nL 68.395425 178.632096 \nL 69.065025 178.632096 \nL 69.065025 179.523645 \nL 69.734625 179.523645 \nL 69.734625 180.589154 \nL 70.404225 180.589154 \nL 70.404225 182.372251 \nL 71.073825 182.372251 \nL 71.073825 184.959917 \nL 71.743425 184.959917 \nL 71.743425 187.569327 \nL 72.413025 187.569327 \nL 72.413025 190.113502 \nL 73.082625 190.113502 \nL 73.082625 190.896326 \nL 73.752225 190.896326 \nL 73.752225 192.570697 \nL 74.421825 192.570697 \nL 74.421825 193.157815 \nL 75.091425 193.157815 \nL 75.091425 193.918893 \nL 75.761025 193.918893 \nL 75.761025 196.463068 \nL 77.100225 196.571793 \nL 77.100225 199.485635 \nL 78.439425 199.37691 \nL 78.439425 200.224968 \nL 79.109025 200.224968 \nL 79.109025 201.138262 \nL 79.778625 201.138262 \nL 79.778625 202.116791 \nL 80.448225 202.116791 \nL 80.448225 203.965123 \nL 81.117825 203.965123 \nL 81.117825 204.726201 \nL 81.787425 204.726201 \nL 81.787425 205.639495 \nL 82.457025 205.639495 \nL 82.457025 206.291847 \nL 83.126625 206.291847 \nL 83.126625 208.22716 \nL 83.796225 208.22716 \nL 83.796225 208.727297 \nL 84.465825 208.727297 \nL 84.465825 209.37965 \nL 85.135425 209.37965 \nL 85.135425 208.836023 \nL 85.805025 208.836023 \nL 85.805025 209.727571 \nL 86.474625 209.727571 \nL 86.474625 211.967315 \nL 87.144225 211.967315 \nL 87.144225 211.314963 \nL 87.813825 211.314963 \nL 87.813825 212.271746 \nL 88.483425 212.271746 \nL 88.483425 212.706648 \nL 89.153025 212.706648 \nL 89.153025 214.489745 \nL 89.822625 214.489745 \nL 89.822625 215.011627 \nL 90.492225 215.011627 \nL 90.492225 214.033098 \nL 91.161825 214.033098 \nL 91.161825 215.163843 \nL 91.831425 215.163843 \nL 91.831425 216.229352 \nL 92.501025 216.229352 \nL 92.501025 216.468548 \nL 93.170625 216.468548 \nL 93.170625 216.772979 \nL 93.840225 216.772979 \nL 93.840225 217.555803 \nL 95.179425 217.468822 \nL 95.179425 217.381842 \nL 95.849025 217.381842 \nL 95.849025 218.990978 \nL 96.518625 218.990978 \nL 96.518625 219.164939 \nL 97.188225 219.164939 \nL 97.188225 218.751782 \nL 97.857825 218.751782 \nL 97.857825 218.969233 \nL 98.527425 218.969233 \nL 98.527425 220.339174 \nL 99.866625 220.339174 \nL 99.866625 221.143742 \nL 100.536225 221.143742 \nL 100.536225 220.643605 \nL 101.205825 220.643605 \nL 101.205825 221.491663 \nL 103.214625 221.600389 \nL 103.214625 222.296232 \nL 104.553825 222.383212 \nL 104.553825 221.643879 \nL 105.223425 221.643879 \nL 105.223425 222.600663 \nL 105.893025 222.600663 \nL 105.893025 223.253015 \nL 106.562625 223.253015 \nL 106.562625 223.013819 \nL 107.232225 223.013819 \nL 107.232225 223.426976 \nL 108.571425 223.470466 \nL 108.571425 223.861878 \nL 109.241025 223.861878 \nL 109.241025 224.209799 \nL 109.910625 224.209799 \nL 109.910625 224.753426 \nL 111.249825 224.644701 \nL 111.249825 225.275309 \nL 111.919425 225.275309 \nL 111.919425 224.862152 \nL 113.258625 224.818662 \nL 113.258625 225.275309 \nL 114.597825 225.188328 \nL 114.597825 225.601485 \nL 115.267425 225.601485 \nL 115.267425 224.970877 \nL 115.937025 224.970877 \nL 115.937025 225.884171 \nL 116.606625 225.884171 \nL 116.606625 225.471014 \nL 117.945825 225.405779 \nL 117.945825 225.927661 \nL 118.615425 225.927661 \nL 118.615425 226.275583 \nL 119.285025 226.275583 \nL 119.285025 226.036387 \nL 119.954625 226.036387 \nL 119.954625 226.188602 \nL 120.624225 226.188602 \nL 120.624225 226.427798 \nL 123.972225 226.514779 \nL 123.972225 226.797465 \nL 127.320225 226.753974 \nL 127.320225 227.341092 \nL 127.989825 227.341092 \nL 127.989825 227.123641 \nL 129.329025 227.080151 \nL 129.329025 227.254111 \nL 130.668225 227.210621 \nL 130.668225 226.94968 \nL 132.007425 226.840955 \nL 132.007425 226.623504 \nL 132.677025 226.623504 \nL 132.677025 226.145112 \nL 133.346625 226.145112 \nL 133.346625 225.166583 \nL 134.016225 225.166583 \nL 134.016225 223.535702 \nL 134.685825 223.535702 \nL 134.685825 219.882527 \nL 135.355425 219.882527 \nL 135.355425 214.707196 \nL 136.025025 214.707196 \nL 136.025025 209.009983 \nL 136.694625 209.009983 \nL 136.694625 197.919989 \nL 137.364225 197.919989 \nL 137.364225 185.568779 \nL 138.033825 185.568779 \nL 138.033825 170.956081 \nL 138.703425 170.956081 \nL 138.703425 152.581482 \nL 139.373025 152.581482 \nL 139.373025 134.728765 \nL 140.042625 134.728765 \nL 140.042625 111.135346 \nL 140.712225 111.135346 \nL 140.712225 90.238317 \nL 141.381825 90.238317 \nL 141.381825 76.582402 \nL 142.051425 76.582402 \nL 142.051425 59.882175 \nL 142.721025 59.882175 \nL 142.721025 56.381216 \nL 143.390625 56.381216 \nL 143.390625 57.251019 \nL 144.060225 57.251019 \nL 144.060225 61.752252 \nL 144.729825 61.752252 \nL 144.729825 74.081717 \nL 145.399425 74.081717 \nL 145.399425 89.259788 \nL 146.069025 89.259788 \nL 146.069025 112.527031 \nL 146.738625 112.527031 \nL 146.738625 134.446079 \nL 147.408225 134.446079 \nL 147.408225 154.755991 \nL 148.077825 154.755991 \nL 148.077825 173.174079 \nL 148.747425 173.174079 \nL 148.747425 186.699524 \nL 149.417025 186.699524 \nL 149.417025 198.681067 \nL 150.086625 198.681067 \nL 150.086625 209.357905 \nL 150.756225 209.357905 \nL 150.756225 215.359549 \nL 151.425825 215.359549 \nL 151.425825 220.66535 \nL 152.095425 220.66535 \nL 152.095425 224.209799 \nL 152.765025 224.209799 \nL 152.765025 225.318799 \nL 153.434625 225.318799 \nL 153.434625 226.710484 \nL 154.104225 226.710484 \nL 154.104225 227.602033 \nL 155.443425 227.645523 \nL 155.443425 227.971699 \nL 157.452225 227.928209 \nL 157.452225 228.167405 \nL 158.121825 228.167405 \nL 158.121825 228.319621 \nL 158.791425 228.319621 \nL 158.791425 228.036935 \nL 160.130625 228.14566 \nL 160.130625 228.210895 \nL 163.478625 228.297876 \nL 163.478625 228.428346 \nL 164.148225 228.428346 \nL 164.148225 228.297876 \nL 174.192225 228.384856 \nL 174.192225 228.450091 \nL 175.531425 228.363111 \nL 175.531425 228.297876 \nL 178.209825 228.384856 \nL 178.209825 228.428346 \nL 394.490625 228.450091 \nL 394.490625 228.450091 \n\" style=\"fill:none;stroke:#1f77b4;stroke-linejoin:miter;\"/>\n   </g>\n   <g id=\"patch_4\">\n    <path clip-path=\"url(#pf6020c366d)\" d=\"M 59.690625 228.450091 \nL 59.690625 -1 \nM 65.047425 -1 \nL 65.047425 11.977748 \nL 65.717025 11.977748 \nL 65.717025 21.110684 \nL 66.386625 21.110684 \nL 66.386625 27.41676 \nL 67.056225 27.41676 \nL 67.056225 47.965867 \nL 67.725825 47.965867 \nL 67.725825 66.992818 \nL 68.395425 66.992818 \nL 68.395425 69.710954 \nL 69.065025 69.710954 \nL 69.065025 86.237221 \nL 69.734625 86.237221 \nL 69.734625 97.001039 \nL 70.404225 97.001039 \nL 70.404225 107.764857 \nL 71.073825 107.764857 \nL 71.073825 109.83064 \nL 71.743425 109.83064 \nL 71.743425 126.248181 \nL 72.413025 126.248181 \nL 72.413025 128.42269 \nL 73.082625 128.42269 \nL 73.082625 133.315335 \nL 73.752225 133.315335 \nL 73.752225 147.993268 \nL 74.421825 147.993268 \nL 74.421825 150.059052 \nL 75.091425 150.059052 \nL 75.091425 157.996009 \nL 75.761025 157.996009 \nL 75.761025 161.692673 \nL 76.430625 161.692673 \nL 76.430625 167.455122 \nL 77.100225 167.455122 \nL 77.100225 171.695414 \nL 77.769825 171.695414 \nL 77.769825 176.044431 \nL 78.439425 176.044431 \nL 78.439425 175.718255 \nL 79.109025 175.718255 \nL 79.109025 186.155897 \nL 79.778625 186.155897 \nL 79.778625 185.068642 \nL 80.448225 185.068642 \nL 80.448225 187.134426 \nL 81.117825 187.134426 \nL 81.117825 190.070012 \nL 81.787425 190.070012 \nL 81.787425 192.570697 \nL 82.457025 192.570697 \nL 82.457025 195.397559 \nL 83.126625 195.397559 \nL 83.126625 196.593538 \nL 83.796225 196.593538 \nL 83.796225 197.02844 \nL 84.465825 197.02844 \nL 84.465825 199.746576 \nL 85.135425 199.746576 \nL 85.135425 202.02981 \nL 85.805025 202.02981 \nL 85.805025 205.726475 \nL 86.474625 205.726475 \nL 86.474625 208.553336 \nL 87.144225 208.553336 \nL 87.144225 206.922455 \nL 87.813825 206.922455 \nL 87.813825 206.705004 \nL 88.483425 206.705004 \nL 88.483425 209.42314 \nL 89.153025 209.42314 \nL 89.153025 209.749316 \nL 89.822625 209.749316 \nL 89.822625 209.966767 \nL 90.492225 209.966767 \nL 90.492225 213.119805 \nL 91.161825 213.119805 \nL 91.161825 212.250001 \nL 91.831425 212.250001 \nL 91.831425 213.22853 \nL 92.501025 213.22853 \nL 92.501025 214.750686 \nL 93.170625 214.750686 \nL 93.170625 215.076863 \nL 93.840225 215.076863 \nL 93.840225 213.989608 \nL 94.509825 213.989608 \nL 94.509825 216.490293 \nL 95.179425 216.490293 \nL 95.179425 217.360097 \nL 95.849025 217.360097 \nL 95.849025 218.556077 \nL 97.188225 218.664802 \nL 97.188225 218.990978 \nL 97.857825 218.990978 \nL 97.857825 218.773527 \nL 98.527425 218.773527 \nL 98.527425 217.686273 \nL 99.197025 217.686273 \nL 99.197025 217.251371 \nL 99.866625 217.251371 \nL 99.866625 221.056762 \nL 100.536225 221.056762 \nL 100.536225 218.990978 \nL 101.875425 218.882253 \nL 101.875425 220.078233 \nL 102.545025 220.078233 \nL 102.545025 219.643331 \nL 103.214625 219.643331 \nL 103.214625 219.099704 \nL 103.884225 219.099704 \nL 103.884225 221.81784 \nL 104.553825 221.81784 \nL 104.553825 220.730585 \nL 105.223425 220.730585 \nL 105.223425 221.600389 \nL 105.893025 221.600389 \nL 105.893025 221.81784 \nL 106.562625 221.81784 \nL 106.562625 220.730585 \nL 107.901825 220.730585 \nL 107.901825 221.382938 \nL 108.571425 221.382938 \nL 108.571425 221.926565 \nL 109.241025 221.926565 \nL 109.241025 221.600389 \nL 109.910625 221.600389 \nL 109.910625 221.382938 \nL 110.580225 221.382938 \nL 110.580225 221.056762 \nL 111.249825 221.056762 \nL 111.249825 219.752056 \nL 111.919425 219.752056 \nL 111.919425 222.687643 \nL 112.589025 222.687643 \nL 112.589025 221.382938 \nL 113.258625 221.382938 \nL 113.258625 221.709114 \nL 113.928225 221.709114 \nL 113.928225 221.274212 \nL 114.597825 221.274212 \nL 114.597825 221.926565 \nL 115.937025 222.035291 \nL 115.937025 223.122545 \nL 117.276225 223.23127 \nL 117.276225 221.926565 \nL 117.945825 221.926565 \nL 117.945825 221.274212 \nL 118.615425 221.274212 \nL 118.615425 221.709114 \nL 119.285025 221.709114 \nL 119.285025 222.144016 \nL 119.954625 222.144016 \nL 119.954625 221.81784 \nL 120.624225 221.81784 \nL 120.624225 222.144016 \nL 121.293825 222.144016 \nL 121.293825 223.339996 \nL 121.963425 223.339996 \nL 121.963425 221.709114 \nL 122.633025 221.709114 \nL 122.633025 222.578918 \nL 123.302625 222.578918 \nL 123.302625 221.926565 \nL 123.972225 221.926565 \nL 123.972225 224.101074 \nL 124.641825 224.101074 \nL 124.641825 223.122545 \nL 125.311425 223.122545 \nL 125.311425 223.339996 \nL 125.981025 223.339996 \nL 125.981025 223.013819 \nL 126.650625 223.013819 \nL 126.650625 221.600389 \nL 127.320225 221.600389 \nL 127.320225 223.122545 \nL 127.989825 223.122545 \nL 127.989825 222.361467 \nL 128.659425 222.361467 \nL 128.659425 222.687643 \nL 129.329025 222.687643 \nL 129.329025 222.252741 \nL 129.998625 222.252741 \nL 129.998625 221.81784 \nL 130.668225 221.81784 \nL 130.668225 223.122545 \nL 131.337825 223.122545 \nL 131.337825 223.774898 \nL 132.007425 223.774898 \nL 132.007425 222.578918 \nL 134.016225 222.578918 \nL 134.016225 221.600389 \nL 135.355425 221.600389 \nL 135.355425 221.382938 \nL 136.025025 221.382938 \nL 136.025025 221.926565 \nL 136.694625 221.926565 \nL 136.694625 222.361467 \nL 137.364225 222.361467 \nL 137.364225 221.600389 \nL 138.033825 221.600389 \nL 138.033825 221.81784 \nL 138.703425 221.81784 \nL 138.703425 222.687643 \nL 139.373025 222.687643 \nL 139.373025 222.905094 \nL 140.042625 222.905094 \nL 140.042625 222.578918 \nL 140.712225 222.578918 \nL 140.712225 223.774898 \nL 141.381825 223.774898 \nL 141.381825 223.448721 \nL 142.051425 223.448721 \nL 142.051425 222.578918 \nL 142.721025 222.578918 \nL 142.721025 222.144016 \nL 143.390625 222.144016 \nL 143.390625 223.666172 \nL 144.060225 223.666172 \nL 144.060225 223.339996 \nL 144.729825 223.339996 \nL 144.729825 224.101074 \nL 146.069025 224.209799 \nL 146.069025 221.491663 \nL 146.738625 221.491663 \nL 146.738625 222.578918 \nL 147.408225 222.578918 \nL 147.408225 222.144016 \nL 148.077825 222.144016 \nL 148.077825 223.774898 \nL 148.747425 223.774898 \nL 148.747425 222.687643 \nL 149.417025 222.687643 \nL 149.417025 221.165487 \nL 150.086625 221.165487 \nL 150.086625 223.122545 \nL 151.425825 223.122545 \nL 151.425825 223.448721 \nL 152.095425 223.448721 \nL 152.095425 223.23127 \nL 152.765025 223.23127 \nL 152.765025 222.252741 \nL 153.434625 222.252741 \nL 153.434625 222.578918 \nL 154.104225 222.578918 \nL 154.104225 223.122545 \nL 156.113025 223.23127 \nL 156.113025 222.035291 \nL 156.782625 222.035291 \nL 156.782625 222.252741 \nL 157.452225 222.252741 \nL 157.452225 223.666172 \nL 158.121825 223.666172 \nL 158.121825 223.339996 \nL 159.461025 223.448721 \nL 159.461025 222.578918 \nL 160.130625 222.578918 \nL 160.130625 223.122545 \nL 160.800225 223.122545 \nL 160.800225 222.035291 \nL 162.139425 221.926565 \nL 162.139425 223.448721 \nL 162.809025 223.448721 \nL 162.809025 223.013819 \nL 163.478625 223.013819 \nL 163.478625 223.883623 \nL 164.148225 223.883623 \nL 164.148225 222.578918 \nL 164.817825 222.578918 \nL 164.817825 223.122545 \nL 165.487425 223.122545 \nL 165.487425 223.448721 \nL 166.157025 223.448721 \nL 166.157025 222.252741 \nL 166.826625 222.252741 \nL 166.826625 222.687643 \nL 168.165825 222.796369 \nL 168.165825 220.839311 \nL 169.505025 220.948036 \nL 169.505025 221.709114 \nL 170.174625 221.709114 \nL 170.174625 222.687643 \nL 170.844225 222.687643 \nL 170.844225 223.883623 \nL 171.513825 223.883623 \nL 171.513825 221.274212 \nL 172.853025 221.382938 \nL 172.853025 222.252741 \nL 173.522625 222.252741 \nL 173.522625 223.23127 \nL 174.192225 223.23127 \nL 174.192225 222.796369 \nL 174.861825 222.796369 \nL 174.861825 221.491663 \nL 175.531425 221.491663 \nL 175.531425 221.926565 \nL 176.870625 221.81784 \nL 176.870625 223.013819 \nL 177.540225 223.013819 \nL 177.540225 221.274212 \nL 178.209825 221.274212 \nL 178.209825 221.81784 \nL 178.879425 221.81784 \nL 178.879425 222.361467 \nL 180.218625 222.361467 \nL 180.218625 222.578918 \nL 180.888225 222.578918 \nL 180.888225 223.23127 \nL 181.557825 223.23127 \nL 181.557825 222.035291 \nL 182.227425 222.035291 \nL 182.227425 223.557447 \nL 182.897025 223.557447 \nL 182.897025 224.753426 \nL 183.566625 224.753426 \nL 183.566625 223.557447 \nL 184.236225 223.557447 \nL 184.236225 221.81784 \nL 184.905825 221.81784 \nL 184.905825 221.491663 \nL 185.575425 221.491663 \nL 185.575425 223.557447 \nL 186.245025 223.557447 \nL 186.245025 222.035291 \nL 186.914625 222.035291 \nL 186.914625 221.600389 \nL 187.584225 221.600389 \nL 187.584225 222.796369 \nL 188.253825 222.796369 \nL 188.253825 223.122545 \nL 188.923425 223.122545 \nL 188.923425 222.905094 \nL 189.593025 222.905094 \nL 189.593025 224.862152 \nL 190.262625 224.862152 \nL 190.262625 222.144016 \nL 190.932225 222.144016 \nL 190.932225 221.382938 \nL 191.601825 221.382938 \nL 191.601825 222.905094 \nL 192.271425 222.905094 \nL 192.271425 222.361467 \nL 192.941025 222.361467 \nL 192.941025 221.382938 \nL 193.610625 221.382938 \nL 193.610625 222.361467 \nL 194.280225 222.361467 \nL 194.280225 221.926565 \nL 194.949825 221.926565 \nL 194.949825 224.42725 \nL 195.619425 224.42725 \nL 195.619425 221.926565 \nL 196.289025 221.926565 \nL 196.289025 222.578918 \nL 196.958625 222.578918 \nL 196.958625 223.013819 \nL 197.628225 223.013819 \nL 197.628225 224.209799 \nL 198.297825 224.209799 \nL 198.297825 223.013819 \nL 199.637025 223.013819 \nL 199.637025 221.600389 \nL 200.306625 221.600389 \nL 200.306625 222.035291 \nL 200.976225 222.035291 \nL 200.976225 223.557447 \nL 201.645825 223.557447 \nL 201.645825 222.687643 \nL 202.315425 222.687643 \nL 202.315425 221.382938 \nL 202.985025 221.382938 \nL 202.985025 223.339996 \nL 203.654625 223.339996 \nL 203.654625 223.122545 \nL 204.993825 223.013819 \nL 204.993825 222.578918 \nL 205.663425 222.578918 \nL 205.663425 223.122545 \nL 206.333025 223.122545 \nL 206.333025 221.491663 \nL 207.002625 221.491663 \nL 207.002625 223.23127 \nL 207.672225 223.23127 \nL 207.672225 223.557447 \nL 208.341825 223.557447 \nL 208.341825 223.339996 \nL 209.011425 223.339996 \nL 209.011425 221.81784 \nL 209.681025 221.81784 \nL 209.681025 222.361467 \nL 210.350625 222.361467 \nL 210.350625 222.035291 \nL 211.020225 222.035291 \nL 211.020225 222.796369 \nL 211.689825 222.796369 \nL 211.689825 222.578918 \nL 212.359425 222.578918 \nL 212.359425 222.252741 \nL 213.029025 222.252741 \nL 213.029025 223.557447 \nL 213.698625 223.557447 \nL 213.698625 222.252741 \nL 214.368225 222.252741 \nL 214.368225 223.339996 \nL 215.037825 223.339996 \nL 215.037825 223.883623 \nL 215.707425 223.883623 \nL 215.707425 222.470192 \nL 216.377025 222.470192 \nL 216.377025 222.796369 \nL 217.046625 222.796369 \nL 217.046625 223.122545 \nL 217.716225 223.122545 \nL 217.716225 223.883623 \nL 218.385825 223.883623 \nL 218.385825 222.144016 \nL 219.055425 222.144016 \nL 219.055425 223.23127 \nL 220.394625 223.122545 \nL 220.394625 222.687643 \nL 221.064225 222.687643 \nL 221.064225 223.23127 \nL 221.733825 223.23127 \nL 221.733825 222.470192 \nL 222.403425 222.470192 \nL 222.403425 221.165487 \nL 223.073025 221.165487 \nL 223.073025 223.992348 \nL 224.412225 223.883623 \nL 224.412225 223.122545 \nL 225.081825 223.122545 \nL 225.081825 222.687643 \nL 225.751425 222.687643 \nL 225.751425 222.361467 \nL 227.090625 222.252741 \nL 227.090625 222.144016 \nL 227.760225 222.144016 \nL 227.760225 223.339996 \nL 229.099425 223.448721 \nL 229.099425 223.013819 \nL 229.769025 223.013819 \nL 229.769025 223.883623 \nL 230.438625 223.883623 \nL 230.438625 222.035291 \nL 231.108225 222.035291 \nL 231.108225 223.557447 \nL 231.777825 223.557447 \nL 231.777825 222.144016 \nL 232.447425 222.144016 \nL 232.447425 222.578918 \nL 233.117025 222.578918 \nL 233.117025 222.796369 \nL 233.786625 222.796369 \nL 233.786625 223.557447 \nL 234.456225 223.557447 \nL 234.456225 221.709114 \nL 235.125825 221.709114 \nL 235.125825 223.448721 \nL 235.795425 223.448721 \nL 235.795425 223.774898 \nL 236.465025 223.774898 \nL 236.465025 222.687643 \nL 237.804225 222.578918 \nL 237.804225 221.491663 \nL 238.473825 221.491663 \nL 238.473825 223.339996 \nL 239.143425 223.339996 \nL 239.143425 222.578918 \nL 240.482625 222.687643 \nL 240.482625 221.600389 \nL 241.152225 221.600389 \nL 241.152225 222.144016 \nL 241.821825 222.144016 \nL 241.821825 222.905094 \nL 242.491425 222.905094 \nL 242.491425 221.600389 \nL 243.161025 221.600389 \nL 243.161025 222.144016 \nL 243.830625 222.144016 \nL 243.830625 221.709114 \nL 244.500225 221.709114 \nL 244.500225 222.035291 \nL 245.169825 222.035291 \nL 245.169825 223.557447 \nL 245.839425 223.557447 \nL 245.839425 220.839311 \nL 246.509025 220.839311 \nL 246.509025 222.144016 \nL 247.178625 222.144016 \nL 247.178625 223.23127 \nL 247.848225 223.23127 \nL 247.848225 223.883623 \nL 248.517825 223.883623 \nL 248.517825 223.339996 \nL 249.187425 223.339996 \nL 249.187425 222.035291 \nL 249.857025 222.035291 \nL 249.857025 221.709114 \nL 250.526625 221.709114 \nL 250.526625 221.926565 \nL 251.196225 221.926565 \nL 251.196225 222.578918 \nL 251.865825 222.578918 \nL 251.865825 222.796369 \nL 252.535425 222.796369 \nL 252.535425 223.122545 \nL 253.205025 223.122545 \nL 253.205025 224.101074 \nL 253.874625 224.101074 \nL 253.874625 222.144016 \nL 254.544225 222.144016 \nL 254.544225 223.339996 \nL 255.213825 223.339996 \nL 255.213825 223.013819 \nL 255.883425 223.013819 \nL 255.883425 221.926565 \nL 257.222625 222.035291 \nL 257.222625 222.361467 \nL 257.892225 222.361467 \nL 257.892225 222.905094 \nL 259.231425 222.796369 \nL 259.231425 222.687643 \nL 260.570625 222.687643 \nL 260.570625 221.382938 \nL 261.240225 221.382938 \nL 261.240225 221.926565 \nL 261.909825 221.926565 \nL 261.909825 222.578918 \nL 262.579425 222.578918 \nL 262.579425 220.948036 \nL 263.249025 220.948036 \nL 263.249025 223.666172 \nL 263.918625 223.666172 \nL 263.918625 223.013819 \nL 264.588225 223.013819 \nL 264.588225 220.62186 \nL 265.257825 220.62186 \nL 265.257825 222.796369 \nL 265.927425 222.796369 \nL 265.927425 222.361467 \nL 266.597025 222.361467 \nL 266.597025 223.992348 \nL 267.266625 223.992348 \nL 267.266625 222.252741 \nL 267.936225 222.252741 \nL 267.936225 222.796369 \nL 268.605825 222.796369 \nL 268.605825 222.578918 \nL 270.614625 222.470192 \nL 270.614625 222.252741 \nL 271.284225 222.252741 \nL 271.284225 224.535976 \nL 271.953825 224.535976 \nL 271.953825 222.252741 \nL 272.623425 222.252741 \nL 272.623425 223.013819 \nL 273.293025 223.013819 \nL 273.293025 221.709114 \nL 273.962625 221.709114 \nL 273.962625 223.666172 \nL 274.632225 223.666172 \nL 274.632225 223.883623 \nL 275.301825 223.883623 \nL 275.301825 222.687643 \nL 275.971425 222.687643 \nL 275.971425 222.905094 \nL 277.310625 222.905094 \nL 277.310625 220.730585 \nL 277.980225 220.730585 \nL 277.980225 223.774898 \nL 278.649825 223.774898 \nL 278.649825 221.600389 \nL 279.319425 221.600389 \nL 279.319425 222.687643 \nL 279.989025 222.687643 \nL 279.989025 223.013819 \nL 280.658625 223.013819 \nL 280.658625 222.361467 \nL 281.328225 222.361467 \nL 281.328225 222.578918 \nL 281.997825 222.578918 \nL 281.997825 223.122545 \nL 282.667425 223.122545 \nL 282.667425 222.035291 \nL 283.337025 222.035291 \nL 283.337025 221.600389 \nL 284.006625 221.600389 \nL 284.006625 223.122545 \nL 284.676225 223.122545 \nL 284.676225 222.687643 \nL 285.345825 222.687643 \nL 285.345825 220.513134 \nL 286.015425 220.513134 \nL 286.015425 221.600389 \nL 286.685025 221.600389 \nL 286.685025 222.144016 \nL 287.354625 222.144016 \nL 287.354625 222.578918 \nL 288.024225 222.578918 \nL 288.024225 221.926565 \nL 288.693825 221.926565 \nL 288.693825 222.144016 \nL 289.363425 222.144016 \nL 289.363425 223.339996 \nL 290.033025 223.339996 \nL 290.033025 222.578918 \nL 290.702625 222.578918 \nL 290.702625 222.796369 \nL 291.372225 222.796369 \nL 291.372225 221.382938 \nL 292.041825 221.382938 \nL 292.041825 222.361467 \nL 292.711425 222.361467 \nL 292.711425 223.448721 \nL 294.050625 223.557447 \nL 294.050625 221.926565 \nL 294.720225 221.926565 \nL 294.720225 223.23127 \nL 296.059425 223.122545 \nL 296.059425 221.926565 \nL 296.729025 221.926565 \nL 296.729025 221.165487 \nL 297.398625 221.165487 \nL 297.398625 222.905094 \nL 298.068225 222.905094 \nL 298.068225 222.144016 \nL 298.737825 222.144016 \nL 298.737825 221.709114 \nL 299.407425 221.709114 \nL 299.407425 222.252741 \nL 300.746625 222.252741 \nL 300.746625 223.122545 \nL 302.085825 223.23127 \nL 302.085825 222.361467 \nL 302.755425 222.361467 \nL 302.755425 223.339996 \nL 303.425025 223.339996 \nL 303.425025 222.470192 \nL 304.094625 222.470192 \nL 304.094625 222.035291 \nL 304.764225 222.035291 \nL 304.764225 222.905094 \nL 305.433825 222.905094 \nL 305.433825 223.448721 \nL 306.103425 223.448721 \nL 306.103425 222.578918 \nL 306.773025 222.578918 \nL 306.773025 222.361467 \nL 307.442625 222.361467 \nL 307.442625 222.578918 \nL 308.112225 222.578918 \nL 308.112225 223.557447 \nL 308.781825 223.557447 \nL 308.781825 223.122545 \nL 309.451425 223.122545 \nL 309.451425 222.252741 \nL 310.121025 222.252741 \nL 310.121025 221.491663 \nL 310.790625 221.491663 \nL 310.790625 228.450091 \nL 394.490625 228.450091 \nL 394.490625 228.450091 \n\" style=\"fill:none;stroke:#ff7f0e;stroke-linejoin:miter;\"/>\n   </g>\n   <g id=\"patch_5\">\n    <path clip-path=\"url(#pf6020c366d)\" d=\"M 59.690625 228.450091 \nL 59.690625 224.045986 \nL 60.360225 224.045986 \nL 60.360225 224.175007 \nL 61.029825 224.175007 \nL 61.029825 224.433049 \nL 61.699425 224.433049 \nL 61.699425 224.311276 \nL 62.369025 224.311276 \nL 62.369025 224.492485 \nL 64.377825 224.598312 \nL 64.377825 224.686742 \nL 65.047425 224.686742 \nL 65.047425 224.828809 \nL 67.056225 224.751977 \nL 67.056225 225.081052 \nL 68.395425 225.054958 \nL 68.395425 225.221671 \nL 71.073825 225.331846 \nL 71.073825 225.385484 \nL 73.082625 225.381135 \nL 73.082625 225.604384 \nL 73.752225 225.604384 \nL 73.752225 225.729056 \nL 74.421825 225.729056 \nL 74.421825 225.566693 \nL 75.091425 225.566693 \nL 75.091425 225.778345 \nL 77.100225 225.765298 \nL 77.100225 225.93201 \nL 78.439425 225.966802 \nL 78.439425 226.046534 \nL 81.787425 225.985648 \nL 81.787425 226.229193 \nL 83.126625 226.327771 \nL 83.126625 226.395905 \nL 85.135425 226.416201 \nL 85.135425 226.523477 \nL 89.153025 226.522027 \nL 89.153025 226.665544 \nL 92.501025 226.756874 \nL 92.501025 226.827908 \nL 95.849025 226.936633 \nL 95.849025 227.054057 \nL 99.866625 227.12799 \nL 99.866625 227.180178 \nL 103.884225 227.257011 \nL 103.884225 227.342542 \nL 107.232225 227.384582 \nL 107.232225 227.475911 \nL 113.928225 227.520851 \nL 113.928225 227.612181 \nL 119.285025 227.649872 \nL 119.285025 227.725255 \nL 124.641825 227.796289 \nL 124.641825 227.852826 \nL 134.685825 227.961552 \nL 134.685825 227.96735 \nL 147.408225 228.038384 \nL 147.408225 228.084774 \nL 159.461025 227.978948 \nL 159.461025 227.965901 \nL 172.183425 227.874571 \nL 172.183425 227.815135 \nL 179.549025 227.718007 \nL 179.549025 227.693362 \nL 183.566625 227.599134 \nL 183.566625 227.574489 \nL 187.584225 227.530999 \nL 187.584225 227.435321 \nL 190.262625 227.522301 \nL 190.262625 227.3063 \nL 195.619425 227.21642 \nL 195.619425 227.154084 \nL 203.654625 227.087399 \nL 203.654625 227.012016 \nL 207.002625 226.977224 \nL 207.002625 226.878646 \nL 213.029025 226.839505 \nL 213.029025 226.711934 \nL 239.813025 226.724981 \nL 239.813025 226.829357 \nL 242.491425 226.849653 \nL 242.491425 226.974325 \nL 243.830625 226.901841 \nL 243.830625 226.822109 \nL 245.169825 226.838055 \nL 245.169825 226.943882 \nL 247.178625 227.004768 \nL 247.178625 227.058406 \nL 252.535425 227.165681 \nL 252.535425 227.178729 \nL 255.883425 227.162782 \nL 255.883425 227.290353 \nL 261.240225 227.370085 \nL 261.240225 227.410676 \nL 265.257825 227.488958 \nL 265.257825 227.548395 \nL 269.275425 227.642624 \nL 269.275425 227.661469 \nL 271.953825 227.722356 \nL 271.953825 227.804987 \nL 278.649825 227.896316 \nL 278.649825 227.945605 \nL 285.345825 228.006492 \nL 285.345825 228.10217 \nL 292.041825 228.167405 \nL 292.041825 228.222493 \nL 303.425025 228.286278 \nL 303.425025 228.334117 \nL 340.922625 228.441393 \nL 340.922625 228.447192 \nL 394.490625 228.450091 \nL 394.490625 228.450091 \n\" style=\"fill:none;stroke:#2ca02c;stroke-linejoin:miter;\"/>\n   </g>\n   <g id=\"patch_6\">\n    <path d=\"M 59.690625 228.439219 \nL 59.690625 10.999219 \n\" style=\"fill:none;stroke:#000000;stroke-linecap:square;stroke-linejoin:miter;stroke-width:0.8;\"/>\n   </g>\n   <g id=\"patch_7\">\n    <path d=\"M 394.490625 228.439219 \nL 394.490625 10.999219 \n\" style=\"fill:none;stroke:#000000;stroke-linecap:square;stroke-linejoin:miter;stroke-width:0.8;\"/>\n   </g>\n   <g id=\"patch_8\">\n    <path d=\"M 59.690625 228.439219 \nL 394.490625 228.439219 \n\" style=\"fill:none;stroke:#000000;stroke-linecap:square;stroke-linejoin:miter;stroke-width:0.8;\"/>\n   </g>\n   <g id=\"patch_9\">\n    <path d=\"M 59.690625 10.999219 \nL 394.490625 10.999219 \n\" style=\"fill:none;stroke:#000000;stroke-linecap:square;stroke-linejoin:miter;stroke-width:0.8;\"/>\n   </g>\n   <g id=\"legend_1\">\n    <g id=\"patch_10\">\n     <path d=\"M 287.55 63.033594 \nL 387.490625 63.033594 \nQ 389.490625 63.033594 389.490625 61.033594 \nL 389.490625 17.999219 \nQ 389.490625 15.999219 387.490625 15.999219 \nL 287.55 15.999219 \nQ 285.55 15.999219 285.55 17.999219 \nL 285.55 61.033594 \nQ 285.55 63.033594 287.55 63.033594 \nz\n\" style=\"fill:#ffffff;opacity:0.8;stroke:#cccccc;stroke-linejoin:miter;\"/>\n    </g>\n    <g id=\"patch_11\">\n     <path d=\"M 289.55 27.597656 \nL 309.55 27.597656 \nL 309.55 20.597656 \nL 289.55 20.597656 \nz\n\" style=\"fill:none;stroke:#1f77b4;stroke-linejoin:miter;\"/>\n    </g>\n    <g id=\"text_17\">\n     <!-- Experiment A -->\n     <g transform=\"translate(317.55 27.597656)scale(0.1 -0.1)\">\n      <defs>\n       <path d=\"M 54.890625 54.6875 \nL 35.109375 28.078125 \nL 55.90625 0 \nL 45.3125 0 \nL 29.390625 21.484375 \nL 13.484375 0 \nL 2.875 0 \nL 24.125 28.609375 \nL 4.6875 54.6875 \nL 15.28125 54.6875 \nL 29.78125 35.203125 \nL 44.28125 54.6875 \nz\n\" id=\"DejaVuSans-120\"/>\n       <path d=\"M 18.109375 8.203125 \nL 18.109375 -20.796875 \nL 9.078125 -20.796875 \nL 9.078125 54.6875 \nL 18.109375 54.6875 \nL 18.109375 46.390625 \nQ 20.953125 51.265625 25.265625 53.625 \nQ 29.59375 56 35.59375 56 \nQ 45.5625 56 51.78125 48.09375 \nQ 58.015625 40.1875 58.015625 27.296875 \nQ 58.015625 14.40625 51.78125 6.484375 \nQ 45.5625 -1.421875 35.59375 -1.421875 \nQ 29.59375 -1.421875 25.265625 0.953125 \nQ 20.953125 3.328125 18.109375 8.203125 \nz\nM 48.6875 27.296875 \nQ 48.6875 37.203125 44.609375 42.84375 \nQ 40.53125 48.484375 33.40625 48.484375 \nQ 26.265625 48.484375 22.1875 42.84375 \nQ 18.109375 37.203125 18.109375 27.296875 \nQ 18.109375 17.390625 22.1875 11.75 \nQ 26.265625 6.109375 33.40625 6.109375 \nQ 40.53125 6.109375 44.609375 11.75 \nQ 48.6875 17.390625 48.6875 27.296875 \nz\n\" id=\"DejaVuSans-112\"/>\n       <path d=\"M 9.421875 54.6875 \nL 18.40625 54.6875 \nL 18.40625 0 \nL 9.421875 0 \nz\nM 9.421875 75.984375 \nL 18.40625 75.984375 \nL 18.40625 64.59375 \nL 9.421875 64.59375 \nz\n\" id=\"DejaVuSans-105\"/>\n       <path d=\"M 52 44.1875 \nQ 55.375 50.25 60.0625 53.125 \nQ 64.75 56 71.09375 56 \nQ 79.640625 56 84.28125 50.015625 \nQ 88.921875 44.046875 88.921875 33.015625 \nL 88.921875 0 \nL 79.890625 0 \nL 79.890625 32.71875 \nQ 79.890625 40.578125 77.09375 44.375 \nQ 74.3125 48.1875 68.609375 48.1875 \nQ 61.625 48.1875 57.5625 43.546875 \nQ 53.515625 38.921875 53.515625 30.90625 \nL 53.515625 0 \nL 44.484375 0 \nL 44.484375 32.71875 \nQ 44.484375 40.625 41.703125 44.40625 \nQ 38.921875 48.1875 33.109375 48.1875 \nQ 26.21875 48.1875 22.15625 43.53125 \nQ 18.109375 38.875 18.109375 30.90625 \nL 18.109375 0 \nL 9.078125 0 \nL 9.078125 54.6875 \nL 18.109375 54.6875 \nL 18.109375 46.1875 \nQ 21.1875 51.21875 25.484375 53.609375 \nQ 29.78125 56 35.6875 56 \nQ 41.65625 56 45.828125 52.96875 \nQ 50 49.953125 52 44.1875 \nz\n\" id=\"DejaVuSans-109\"/>\n       <path d=\"M 34.1875 63.1875 \nL 20.796875 26.90625 \nL 47.609375 26.90625 \nz\nM 28.609375 72.90625 \nL 39.796875 72.90625 \nL 67.578125 0 \nL 57.328125 0 \nL 50.6875 18.703125 \nL 17.828125 18.703125 \nL 11.1875 0 \nL 0.78125 0 \nz\n\" id=\"DejaVuSans-65\"/>\n      </defs>\n      <use xlink:href=\"#DejaVuSans-69\"/>\n      <use x=\"63.183594\" xlink:href=\"#DejaVuSans-120\"/>\n      <use x=\"122.363281\" xlink:href=\"#DejaVuSans-112\"/>\n      <use x=\"185.839844\" xlink:href=\"#DejaVuSans-101\"/>\n      <use x=\"247.363281\" xlink:href=\"#DejaVuSans-114\"/>\n      <use x=\"288.476562\" xlink:href=\"#DejaVuSans-105\"/>\n      <use x=\"316.259766\" xlink:href=\"#DejaVuSans-109\"/>\n      <use x=\"413.671875\" xlink:href=\"#DejaVuSans-101\"/>\n      <use x=\"475.195312\" xlink:href=\"#DejaVuSans-110\"/>\n      <use x=\"538.574219\" xlink:href=\"#DejaVuSans-116\"/>\n      <use x=\"577.783203\" xlink:href=\"#DejaVuSans-32\"/>\n      <use x=\"609.570312\" xlink:href=\"#DejaVuSans-65\"/>\n     </g>\n    </g>\n    <g id=\"patch_12\">\n     <path d=\"M 289.55 42.275781 \nL 309.55 42.275781 \nL 309.55 35.275781 \nL 289.55 35.275781 \nz\n\" style=\"fill:none;stroke:#ff7f0e;stroke-linejoin:miter;\"/>\n    </g>\n    <g id=\"text_18\">\n     <!-- Experiment B -->\n     <g transform=\"translate(317.55 42.275781)scale(0.1 -0.1)\">\n      <defs>\n       <path d=\"M 19.671875 34.8125 \nL 19.671875 8.109375 \nL 35.5 8.109375 \nQ 43.453125 8.109375 47.28125 11.40625 \nQ 51.125 14.703125 51.125 21.484375 \nQ 51.125 28.328125 47.28125 31.5625 \nQ 43.453125 34.8125 35.5 34.8125 \nz\nM 19.671875 64.796875 \nL 19.671875 42.828125 \nL 34.28125 42.828125 \nQ 41.5 42.828125 45.03125 45.53125 \nQ 48.578125 48.25 48.578125 53.8125 \nQ 48.578125 59.328125 45.03125 62.0625 \nQ 41.5 64.796875 34.28125 64.796875 \nz\nM 9.8125 72.90625 \nL 35.015625 72.90625 \nQ 46.296875 72.90625 52.390625 68.21875 \nQ 58.5 63.53125 58.5 54.890625 \nQ 58.5 48.1875 55.375 44.234375 \nQ 52.25 40.28125 46.1875 39.3125 \nQ 53.46875 37.75 57.5 32.78125 \nQ 61.53125 27.828125 61.53125 20.40625 \nQ 61.53125 10.640625 54.890625 5.3125 \nQ 48.25 0 35.984375 0 \nL 9.8125 0 \nz\n\" id=\"DejaVuSans-66\"/>\n      </defs>\n      <use xlink:href=\"#DejaVuSans-69\"/>\n      <use x=\"63.183594\" xlink:href=\"#DejaVuSans-120\"/>\n      <use x=\"122.363281\" xlink:href=\"#DejaVuSans-112\"/>\n      <use x=\"185.839844\" xlink:href=\"#DejaVuSans-101\"/>\n      <use x=\"247.363281\" xlink:href=\"#DejaVuSans-114\"/>\n      <use x=\"288.476562\" xlink:href=\"#DejaVuSans-105\"/>\n      <use x=\"316.259766\" xlink:href=\"#DejaVuSans-109\"/>\n      <use x=\"413.671875\" xlink:href=\"#DejaVuSans-101\"/>\n      <use x=\"475.195312\" xlink:href=\"#DejaVuSans-110\"/>\n      <use x=\"538.574219\" xlink:href=\"#DejaVuSans-116\"/>\n      <use x=\"577.783203\" xlink:href=\"#DejaVuSans-32\"/>\n      <use x=\"609.570312\" xlink:href=\"#DejaVuSans-66\"/>\n     </g>\n    </g>\n    <g id=\"patch_13\">\n     <path d=\"M 289.55 56.953906 \nL 309.55 56.953906 \nL 309.55 49.953906 \nL 289.55 49.953906 \nz\n\" style=\"fill:none;stroke:#2ca02c;stroke-linejoin:miter;\"/>\n    </g>\n    <g id=\"text_19\">\n     <!-- Experiment C -->\n     <g transform=\"translate(317.55 56.953906)scale(0.1 -0.1)\">\n      <use xlink:href=\"#DejaVuSans-69\"/>\n      <use x=\"63.183594\" xlink:href=\"#DejaVuSans-120\"/>\n      <use x=\"122.363281\" xlink:href=\"#DejaVuSans-112\"/>\n      <use x=\"185.839844\" xlink:href=\"#DejaVuSans-101\"/>\n      <use x=\"247.363281\" xlink:href=\"#DejaVuSans-114\"/>\n      <use x=\"288.476562\" xlink:href=\"#DejaVuSans-105\"/>\n      <use x=\"316.259766\" xlink:href=\"#DejaVuSans-109\"/>\n      <use x=\"413.671875\" xlink:href=\"#DejaVuSans-101\"/>\n      <use x=\"475.195312\" xlink:href=\"#DejaVuSans-110\"/>\n      <use x=\"538.574219\" xlink:href=\"#DejaVuSans-116\"/>\n      <use x=\"577.783203\" xlink:href=\"#DejaVuSans-32\"/>\n      <use x=\"609.570312\" xlink:href=\"#DejaVuSans-67\"/>\n     </g>\n    </g>\n   </g>\n  </g>\n </g>\n <defs>\n  <clipPath id=\"pf6020c366d\">\n   <rect height=\"217.44\" width=\"334.8\" x=\"59.690625\" y=\"10.999219\"/>\n  </clipPath>\n </defs>\n</svg>\n",
          "text/plain": "<Figure size 432x288 with 1 Axes>"
         },
         "metadata": {
          "needs_background": "light"
         },
         "output_type": "display_data"
        }
       ]
      }
     },
     "5be289bc7b974040885eb80050af6e4b": {
      "model_module": "@jupyter-widgets/controls",
      "model_module_version": "1.5.0",
      "model_name": "SliderStyleModel",
      "state": {
       "description_width": ""
      }
     },
     "5cef5715111543babe0455e7ccd4b4f1": {
      "model_module": "@jupyter-widgets/controls",
      "model_module_version": "1.5.0",
      "model_name": "VBoxModel",
      "state": {
       "_dom_classes": [
        "widget-interact"
       ],
       "children": [
        "IPY_MODEL_28c3fd85f0bb4cacb8ec29087a70e03d",
        "IPY_MODEL_8f241efd6bb74d2980f38bfc45b70d2c",
        "IPY_MODEL_30e9a2465abe4b7b999378ed4aab826c",
        "IPY_MODEL_951ea8db173e46b6bb59a2a1f7a653f6",
        "IPY_MODEL_e12aa7d66d424a30a15495e7975b287c",
        "IPY_MODEL_1d95ceb438d2460fbc0b917764330d13",
        "IPY_MODEL_fcaf75fdfdfd4b93bd58c26caf6af80f",
        "IPY_MODEL_3524d039025d4ad1890a7e609ef3324a",
        "IPY_MODEL_7214bbfbab7649e5a757c56c037388a0",
        "IPY_MODEL_9ac06720d7164b2f9cecf8c509615472",
        "IPY_MODEL_aa0a5e472d564415b3e5ccd83d6bf346",
        "IPY_MODEL_f934b963fe14429d87a4e4ddbd51e930",
        "IPY_MODEL_d9b3e2b3643e461ba3df3b4391268b9c",
        "IPY_MODEL_ca308c2718d846bb83ee3b0b4477fb9f"
       ],
       "layout": "IPY_MODEL_5549f3dd9d264d34b6c40a82d82dec8e"
      }
     },
     "5d55e2911fb942c2808a26c7117338aa": {
      "model_module": "@jupyter-widgets/controls",
      "model_module_version": "1.5.0",
      "model_name": "DescriptionStyleModel",
      "state": {
       "description_width": ""
      }
     },
     "5d965930b2f243649ef9a6ba59438eaa": {
      "model_module": "@jupyter-widgets/controls",
      "model_module_version": "1.5.0",
      "model_name": "FloatLogSliderModel",
      "state": {
       "description": "y_max",
       "layout": "IPY_MODEL_17af4716f7274595b7e7ff753aa9b4b8",
       "max": 5,
       "min": -1,
       "style": "IPY_MODEL_f2856a867cc94765b288716801c79fb5",
       "value": 10000
      }
     },
     "5e22e8e2e16541bd85c4869ffd3b9c00": {
      "model_module": "@jupyter-widgets/controls",
      "model_module_version": "1.5.0",
      "model_name": "IntSliderModel",
      "state": {
       "description": "bins",
       "layout": "IPY_MODEL_45ed73f36c5b4984a2100494ee2b98a1",
       "max": 2000,
       "min": 20,
       "style": "IPY_MODEL_84d02148e7ba4fb5bea8342c148bf7f3",
       "value": 500
      }
     },
     "5e43dca66235492fb53c9269ae11593b": {
      "model_module": "@jupyter-widgets/controls",
      "model_module_version": "1.5.0",
      "model_name": "SliderStyleModel",
      "state": {
       "description_width": ""
      }
     },
     "5e4d52348168455483937dccf4fb9d44": {
      "model_module": "@jupyter-widgets/base",
      "model_module_version": "1.2.0",
      "model_name": "LayoutModel",
      "state": {}
     },
     "5f430cc2d007487ea58e563727d69b55": {
      "model_module": "@jupyter-widgets/base",
      "model_module_version": "1.2.0",
      "model_name": "LayoutModel",
      "state": {}
     },
     "5f9589d0226042b8a4ffd5fad7e60926": {
      "model_module": "@jupyter-widgets/controls",
      "model_module_version": "1.5.0",
      "model_name": "FloatSliderModel",
      "state": {
       "description": "shift_B",
       "layout": "IPY_MODEL_f63d1c897c4b449590a84b69501bc179",
       "max": 20,
       "min": -20,
       "step": 0.1,
       "style": "IPY_MODEL_69b3d955d50e486ab7bcb4161e9d7f31"
      }
     },
     "60121187de4e4b9da886eac37868ddca": {
      "model_module": "@jupyter-widgets/base",
      "model_module_version": "1.2.0",
      "model_name": "LayoutModel",
      "state": {}
     },
     "6062bdfccf0246e899a1956ea0d34e66": {
      "model_module": "@jupyter-widgets/controls",
      "model_module_version": "1.5.0",
      "model_name": "VBoxModel",
      "state": {
       "_dom_classes": [
        "widget-interact"
       ],
       "children": [
        "IPY_MODEL_f87e334ab3334d0387ab24d166769b64",
        "IPY_MODEL_f9079fd483404c74a0b80c1c277f71b1",
        "IPY_MODEL_6c05e7b906af4d5a879e167da265f196",
        "IPY_MODEL_e2f0fd98c4e347f78fcdd27aec960466",
        "IPY_MODEL_afe2c7a3e27f4f30b3487340b27c3d61",
        "IPY_MODEL_07a59ecf84564014bc2f41ce7a8f1d99",
        "IPY_MODEL_b3c2ddfc5fb14bdcb5141e5b96b46a60",
        "IPY_MODEL_bad72fb1444f43f080f149bdef85e510",
        "IPY_MODEL_4fcdbc6404a244b584d65fc8e83c4511",
        "IPY_MODEL_614a150e153b414c9f2cf2a70a6d6734",
        "IPY_MODEL_3ea14e5d56664e1fa84ed821ea7c456e",
        "IPY_MODEL_700b2b54fa2b46c18290ee30ad9ba0fd",
        "IPY_MODEL_778523304c7d48fda3864c735ce408ae",
        "IPY_MODEL_8597ed529e50497c8d3e616d0953d5f3"
       ],
       "layout": "IPY_MODEL_08662b1241004543996b8f8c2dc532e2"
      }
     },
     "60785100913541deb32eb52768073e0f": {
      "model_module": "@jupyter-widgets/controls",
      "model_module_version": "1.5.0",
      "model_name": "CheckboxModel",
      "state": {
       "description": "Plot Experiment C",
       "disabled": false,
       "layout": "IPY_MODEL_48f57d01d64647aab6dade722cc5adbc",
       "style": "IPY_MODEL_54fbae8acfa24956a2d6a013ed75fffd",
       "value": true
      }
     },
     "6124311b2b7a44e687c53061c40e93dd": {
      "model_module": "@jupyter-widgets/controls",
      "model_module_version": "1.5.0",
      "model_name": "SliderStyleModel",
      "state": {
       "description_width": ""
      }
     },
     "6143deba0f054112a74f69469d416b33": {
      "model_module": "@jupyter-widgets/controls",
      "model_module_version": "1.5.0",
      "model_name": "CheckboxModel",
      "state": {
       "description": "Plot Experiment C",
       "disabled": false,
       "layout": "IPY_MODEL_23129f5680a04a609949948031b3aa37",
       "style": "IPY_MODEL_bb9f43c621a84f6f9832237b04f73c74",
       "value": true
      }
     },
     "614a150e153b414c9f2cf2a70a6d6734": {
      "model_module": "@jupyter-widgets/controls",
      "model_module_version": "1.5.0",
      "model_name": "FloatSliderModel",
      "state": {
       "description": "shift_C",
       "layout": "IPY_MODEL_48352a6e9cd24bde9ac5ae080bc4a2d9",
       "max": 20,
       "min": -20,
       "step": 0.1,
       "style": "IPY_MODEL_0172792598a741e384e6d3093c9e4316"
      }
     },
     "6377b3c6e20c4e18988dfb48d117b04d": {
      "model_module": "@jupyter-widgets/controls",
      "model_module_version": "1.5.0",
      "model_name": "SliderStyleModel",
      "state": {
       "description_width": ""
      }
     },
     "64bdab1bfa674d958b1a11d35881a3da": {
      "model_module": "@jupyter-widgets/base",
      "model_module_version": "1.2.0",
      "model_name": "LayoutModel",
      "state": {}
     },
     "650ec155b4e440819693fc69f7eb5a74": {
      "model_module": "@jupyter-widgets/controls",
      "model_module_version": "1.5.0",
      "model_name": "CheckboxModel",
      "state": {
       "description": "Plot Experiment B",
       "disabled": false,
       "layout": "IPY_MODEL_9d97d096dc974cfda62cd736b21a2161",
       "style": "IPY_MODEL_c45292c489e542749ba648802bc52e8e",
       "value": true
      }
     },
     "6582ce939dec4b90bde43913a4a61530": {
      "model_module": "@jupyter-widgets/controls",
      "model_module_version": "1.5.0",
      "model_name": "FloatRangeSliderModel",
      "state": {
       "_model_name": "FloatRangeSliderModel",
       "_view_name": "FloatRangeSliderView",
       "description": "x_range",
       "layout": "IPY_MODEL_c2fd07a6860340ea9379c33fc8d6a1b3",
       "max": 20,
       "step": 0.1,
       "style": "IPY_MODEL_05454b83a80e4ee8a06bb402580b0d96",
       "value": [
        0,
        20
       ]
      }
     },
     "661aeb689ba34938be8b0d579861853b": {
      "model_module": "@jupyter-widgets/controls",
      "model_module_version": "1.5.0",
      "model_name": "FloatLogSliderModel",
      "state": {
       "description": "scale_C",
       "layout": "IPY_MODEL_7ccb1413e56b4c65845c8355f689ed3e",
       "max": 10,
       "min": -10,
       "style": "IPY_MODEL_b2aa680ed77549b6b9f5b819d5fd6d50"
      }
     },
     "6678c184d6d446778cc2796f906f674e": {
      "model_module": "@jupyter-widgets/controls",
      "model_module_version": "1.5.0",
      "model_name": "FloatSliderModel",
      "state": {
       "description": "shift_C",
       "layout": "IPY_MODEL_21ca4bda02f749ddb21cd5f412d1d5e8",
       "max": 20,
       "min": -20,
       "step": 0.1,
       "style": "IPY_MODEL_52ed5e32fa0d4154a687195b29b8d500"
      }
     },
     "69b3d955d50e486ab7bcb4161e9d7f31": {
      "model_module": "@jupyter-widgets/controls",
      "model_module_version": "1.5.0",
      "model_name": "SliderStyleModel",
      "state": {
       "description_width": ""
      }
     },
     "69f41a6f807c4c18bdce104d3b07ff76": {
      "model_module": "@jupyter-widgets/base",
      "model_module_version": "1.2.0",
      "model_name": "LayoutModel",
      "state": {}
     },
     "6c05e7b906af4d5a879e167da265f196": {
      "model_module": "@jupyter-widgets/controls",
      "model_module_version": "1.5.0",
      "model_name": "FloatLogSliderModel",
      "state": {
       "description": "y_max",
       "layout": "IPY_MODEL_dbbbed27609b4c1d93df4e44920b9675",
       "max": 5,
       "min": -1,
       "style": "IPY_MODEL_3ac4f9d6c19e4ef2af4dfa5b121895c6",
       "value": 10000
      }
     },
     "6dda0c085b8c40f6a3eeb933e100ce24": {
      "model_module": "@jupyter-widgets/controls",
      "model_module_version": "1.5.0",
      "model_name": "FloatLogSliderModel",
      "state": {
       "description": "y_max",
       "layout": "IPY_MODEL_ca01fe5fafa844f5beb48b0a3325d693",
       "max": 5,
       "min": -1,
       "style": "IPY_MODEL_c9e124d556dd45a2ae485d5a853cfa5f",
       "value": 10000
      }
     },
     "6ee953e64eab430988eeb03f442991ea": {
      "model_module": "@jupyter-widgets/controls",
      "model_module_version": "1.5.0",
      "model_name": "CheckboxModel",
      "state": {
       "description": "Plot Experiment A",
       "disabled": false,
       "layout": "IPY_MODEL_13789f93529e4329a5d52323654dd630",
       "style": "IPY_MODEL_fc76aada00b54c0ab5adb7659d82ba19",
       "value": true
      }
     },
     "6f4f32b9760c44c6806aebb2d5e19e90": {
      "model_module": "@jupyter-widgets/base",
      "model_module_version": "1.2.0",
      "model_name": "LayoutModel",
      "state": {}
     },
     "700b2b54fa2b46c18290ee30ad9ba0fd": {
      "model_module": "@jupyter-widgets/controls",
      "model_module_version": "1.5.0",
      "model_name": "FloatLogSliderModel",
      "state": {
       "description": "scale_B",
       "layout": "IPY_MODEL_fa74114bf7ed40adb381d75bb194cffb",
       "max": 10,
       "min": -10,
       "style": "IPY_MODEL_f96385ba3ae44a818ff3d12fe107e9de"
      }
     },
     "71bdcc4eb01546fda398e5596e0cafa4": {
      "model_module": "@jupyter-widgets/controls",
      "model_module_version": "1.5.0",
      "model_name": "DropdownModel",
      "state": {
       "_options_labels": [
        "linear",
        "log"
       ],
       "description": "Scale: ",
       "index": 0,
       "layout": "IPY_MODEL_4f0c288bdf6244c589a0e1ee69caa49e",
       "style": "IPY_MODEL_be96e3d2ff354049a00355af1923d693"
      }
     },
     "7214bbfbab7649e5a757c56c037388a0": {
      "model_module": "@jupyter-widgets/controls",
      "model_module_version": "1.5.0",
      "model_name": "FloatSliderModel",
      "state": {
       "description": "shift_B",
       "layout": "IPY_MODEL_a744b5445f4343c4a48e20904fe0b18e",
       "max": 20,
       "min": -20,
       "step": 0.1,
       "style": "IPY_MODEL_a39a8d8d565f4b14939799c367d267a4",
       "value": 1.9
      }
     },
     "7229f2ca6a66457c9412018b67485158": {
      "model_module": "@jupyter-widgets/base",
      "model_module_version": "1.2.0",
      "model_name": "LayoutModel",
      "state": {}
     },
     "7549ec7460154dbca9e4f086b63eba44": {
      "model_module": "@jupyter-widgets/controls",
      "model_module_version": "1.5.0",
      "model_name": "CheckboxModel",
      "state": {
       "description": "Plot Experiment C",
       "disabled": false,
       "layout": "IPY_MODEL_c15b77d641cb409fa6efdeed6cc65dc5",
       "style": "IPY_MODEL_00cfcb00de1f4f818dfaffde5d9761e7",
       "value": true
      }
     },
     "7619e7eba1b540e8a950a2e2805a1b70": {
      "model_module": "@jupyter-widgets/controls",
      "model_module_version": "1.5.0",
      "model_name": "CheckboxModel",
      "state": {
       "description": "Plot Experiment C",
       "disabled": false,
       "layout": "IPY_MODEL_087801d439d24cbcaba3e02b6f281d19",
       "style": "IPY_MODEL_db24cd2c7bbb400a9f81249fa872df0c",
       "value": true
      }
     },
     "778523304c7d48fda3864c735ce408ae": {
      "model_module": "@jupyter-widgets/controls",
      "model_module_version": "1.5.0",
      "model_name": "FloatLogSliderModel",
      "state": {
       "description": "scale_C",
       "layout": "IPY_MODEL_3e2f072f2a62469d9c4ccd7ea0d8e83a",
       "max": 10,
       "min": -10,
       "style": "IPY_MODEL_0cd7503c5a1844ce8ebbce101e827ff8"
      }
     },
     "788a484fe6034eac8b90706c9481bf67": {
      "model_module": "@jupyter-widgets/controls",
      "model_module_version": "1.5.0",
      "model_name": "SliderStyleModel",
      "state": {
       "description_width": ""
      }
     },
     "7b645e76facc4ad19d0148bd60162cf6": {
      "model_module": "@jupyter-widgets/controls",
      "model_module_version": "1.5.0",
      "model_name": "SliderStyleModel",
      "state": {
       "description_width": ""
      }
     },
     "7ccb1413e56b4c65845c8355f689ed3e": {
      "model_module": "@jupyter-widgets/base",
      "model_module_version": "1.2.0",
      "model_name": "LayoutModel",
      "state": {}
     },
     "7d8f502f9ce14a058a491bdbea76144c": {
      "model_module": "@jupyter-widgets/controls",
      "model_module_version": "1.5.0",
      "model_name": "SliderStyleModel",
      "state": {
       "description_width": ""
      }
     },
     "7da22db3097345e3a0877f8ba92801e0": {
      "model_module": "@jupyter-widgets/controls",
      "model_module_version": "1.5.0",
      "model_name": "DescriptionStyleModel",
      "state": {
       "description_width": ""
      }
     },
     "7ef7b31fe44647b9a2521b1f6e30288f": {
      "model_module": "@jupyter-widgets/controls",
      "model_module_version": "1.5.0",
      "model_name": "FloatRangeSliderModel",
      "state": {
       "_model_name": "FloatRangeSliderModel",
       "_view_name": "FloatRangeSliderView",
       "description": "x_range",
       "layout": "IPY_MODEL_9e13af9711ef48158bee76c48beb3d47",
       "max": 20,
       "step": 0.1,
       "style": "IPY_MODEL_538e7a9be8434cd39140fac462b48408",
       "value": [
        0,
        20
       ]
      }
     },
     "7f9447cade6044f6899acd8963c01ba2": {
      "model_module": "@jupyter-widgets/controls",
      "model_module_version": "1.5.0",
      "model_name": "SliderStyleModel",
      "state": {
       "description_width": ""
      }
     },
     "7ff51641d47c44928a34e721b99f5f50": {
      "model_module": "@jupyter-widgets/base",
      "model_module_version": "1.2.0",
      "model_name": "LayoutModel",
      "state": {}
     },
     "816a7f8a4d844e26939def70449b0db1": {
      "model_module": "@jupyter-widgets/base",
      "model_module_version": "1.2.0",
      "model_name": "LayoutModel",
      "state": {}
     },
     "824258357bb04d9ebac5072afcbf3c57": {
      "model_module": "@jupyter-widgets/controls",
      "model_module_version": "1.5.0",
      "model_name": "IntSliderModel",
      "state": {
       "description": "bins",
       "layout": "IPY_MODEL_9dd47e6506904d3ca73ad7043772a697",
       "max": 2000,
       "min": 20,
       "style": "IPY_MODEL_ea792bc5af6d4889a53854c4a8090b0c",
       "value": 500
      }
     },
     "824f7c42eec44e4fb2fc141d26c3b235": {
      "model_module": "@jupyter-widgets/base",
      "model_module_version": "1.2.0",
      "model_name": "LayoutModel",
      "state": {}
     },
     "837fe92d84d345f89161ecbd5446aef1": {
      "model_module": "@jupyter-widgets/controls",
      "model_module_version": "1.5.0",
      "model_name": "DropdownModel",
      "state": {
       "_options_labels": [
        "linear",
        "log"
       ],
       "description": "Scale: ",
       "index": 0,
       "layout": "IPY_MODEL_64bdab1bfa674d958b1a11d35881a3da",
       "style": "IPY_MODEL_04458c07fcca48bbadea511b8c0a8aaf"
      }
     },
     "84d02148e7ba4fb5bea8342c148bf7f3": {
      "model_module": "@jupyter-widgets/controls",
      "model_module_version": "1.5.0",
      "model_name": "SliderStyleModel",
      "state": {
       "description_width": ""
      }
     },
     "8597ed529e50497c8d3e616d0953d5f3": {
      "model_module": "@jupyter-widgets/output",
      "model_module_version": "1.0.0",
      "model_name": "OutputModel",
      "state": {
       "layout": "IPY_MODEL_40d3b546c75a4ed897f5691db2662190",
       "outputs": [
        {
         "ename": "UnboundLocalError",
         "evalue": "local variable 'exp_A' referenced before assignment",
         "output_type": "error",
         "traceback": [
          "\u001b[0;31m---------------------------------------------------------------------------\u001b[0m",
          "\u001b[0;31mUnboundLocalError\u001b[0m                         Traceback (most recent call last)",
          "\u001b[0;32m~/.pyenv/versions/3.8.6/lib/python3.8/site-packages/ipywidgets/widgets/interaction.py\u001b[0m in \u001b[0;36mupdate\u001b[0;34m(self, *args)\u001b[0m\n\u001b[1;32m    254\u001b[0m                     \u001b[0mvalue\u001b[0m \u001b[0;34m=\u001b[0m \u001b[0mwidget\u001b[0m\u001b[0;34m.\u001b[0m\u001b[0mget_interact_value\u001b[0m\u001b[0;34m(\u001b[0m\u001b[0;34m)\u001b[0m\u001b[0;34m\u001b[0m\u001b[0;34m\u001b[0m\u001b[0m\n\u001b[1;32m    255\u001b[0m                     \u001b[0mself\u001b[0m\u001b[0;34m.\u001b[0m\u001b[0mkwargs\u001b[0m\u001b[0;34m[\u001b[0m\u001b[0mwidget\u001b[0m\u001b[0;34m.\u001b[0m\u001b[0m_kwarg\u001b[0m\u001b[0;34m]\u001b[0m \u001b[0;34m=\u001b[0m \u001b[0mvalue\u001b[0m\u001b[0;34m\u001b[0m\u001b[0;34m\u001b[0m\u001b[0m\n\u001b[0;32m--> 256\u001b[0;31m                 \u001b[0mself\u001b[0m\u001b[0;34m.\u001b[0m\u001b[0mresult\u001b[0m \u001b[0;34m=\u001b[0m \u001b[0mself\u001b[0m\u001b[0;34m.\u001b[0m\u001b[0mf\u001b[0m\u001b[0;34m(\u001b[0m\u001b[0;34m**\u001b[0m\u001b[0mself\u001b[0m\u001b[0;34m.\u001b[0m\u001b[0mkwargs\u001b[0m\u001b[0;34m)\u001b[0m\u001b[0;34m\u001b[0m\u001b[0;34m\u001b[0m\u001b[0m\n\u001b[0m\u001b[1;32m    257\u001b[0m                 \u001b[0mshow_inline_matplotlib_plots\u001b[0m\u001b[0;34m(\u001b[0m\u001b[0;34m)\u001b[0m\u001b[0;34m\u001b[0m\u001b[0;34m\u001b[0m\u001b[0m\n\u001b[1;32m    258\u001b[0m                 \u001b[0;32mif\u001b[0m \u001b[0mself\u001b[0m\u001b[0;34m.\u001b[0m\u001b[0mauto_display\u001b[0m \u001b[0;32mand\u001b[0m \u001b[0mself\u001b[0m\u001b[0;34m.\u001b[0m\u001b[0mresult\u001b[0m \u001b[0;32mis\u001b[0m \u001b[0;32mnot\u001b[0m \u001b[0;32mNone\u001b[0m\u001b[0;34m:\u001b[0m\u001b[0;34m\u001b[0m\u001b[0;34m\u001b[0m\u001b[0m\n",
          "\u001b[0;32m<ipython-input-5-c6ddedc90e31>\u001b[0m in \u001b[0;36mplot_all\u001b[0;34m(bins, x_range, y_max, check_A, check_B, check_C, scale_drop, shift_A, shift_B, shift_C, scale_A, scale_B, scale_C)\u001b[0m\n\u001b[1;32m     31\u001b[0m \u001b[0;34m\u001b[0m\u001b[0m\n\u001b[1;32m     32\u001b[0m     \u001b[0;31m# shift and scale values\u001b[0m\u001b[0;34m\u001b[0m\u001b[0;34m\u001b[0m\u001b[0;34m\u001b[0m\u001b[0m\n\u001b[0;32m---> 33\u001b[0;31m     \u001b[0mexp_A\u001b[0m \u001b[0;34m+=\u001b[0m \u001b[0mshift_A\u001b[0m\u001b[0;34m\u001b[0m\u001b[0;34m\u001b[0m\u001b[0m\n\u001b[0m\u001b[1;32m     34\u001b[0m     \u001b[0mexp_B\u001b[0m \u001b[0;34m+=\u001b[0m \u001b[0mshift_B\u001b[0m\u001b[0;34m\u001b[0m\u001b[0;34m\u001b[0m\u001b[0m\n\u001b[1;32m     35\u001b[0m     \u001b[0mexp_C\u001b[0m \u001b[0;34m+=\u001b[0m \u001b[0mshift_C\u001b[0m\u001b[0;34m\u001b[0m\u001b[0;34m\u001b[0m\u001b[0m\n",
          "\u001b[0;31mUnboundLocalError\u001b[0m: local variable 'exp_A' referenced before assignment"
         ]
        }
       ]
      }
     },
     "868a8f06602a42b6a34380841eef9cd5": {
      "model_module": "@jupyter-widgets/base",
      "model_module_version": "1.2.0",
      "model_name": "LayoutModel",
      "state": {}
     },
     "874601ade5b9453ebe1bbea5bdbb16d2": {
      "model_module": "@jupyter-widgets/base",
      "model_module_version": "1.2.0",
      "model_name": "LayoutModel",
      "state": {}
     },
     "887517610c8a41e9bd256e522d72ec43": {
      "model_module": "@jupyter-widgets/base",
      "model_module_version": "1.2.0",
      "model_name": "LayoutModel",
      "state": {}
     },
     "8a49ecb4e56a4c858ae3aed5c925a859": {
      "model_module": "@jupyter-widgets/base",
      "model_module_version": "1.2.0",
      "model_name": "LayoutModel",
      "state": {}
     },
     "8b33853df13c4842951dc0f7ab00d73c": {
      "model_module": "@jupyter-widgets/controls",
      "model_module_version": "1.5.0",
      "model_name": "VBoxModel",
      "state": {
       "_dom_classes": [
        "widget-interact"
       ],
       "children": [
        "IPY_MODEL_824258357bb04d9ebac5072afcbf3c57",
        "IPY_MODEL_df7229751359481baa6dbc2cefbb161e",
        "IPY_MODEL_34859ce2ab2f47a9b1119e96de6c22e7",
        "IPY_MODEL_9ace3076171a442ab71e9c43687d453f",
        "IPY_MODEL_d97af70c6a6c4cabb8aca75404d20b37",
        "IPY_MODEL_7549ec7460154dbca9e4f086b63eba44",
        "IPY_MODEL_0b69c3c9d2e149cc8a3cfc0a5e56ea07",
        "IPY_MODEL_25bcbe07253d4a0ca49a8ae049b7e693",
        "IPY_MODEL_5f9589d0226042b8a4ffd5fad7e60926",
        "IPY_MODEL_5ab1ebd6ff6c43dcbe3a1e7d95ff2490",
        "IPY_MODEL_13c4a71d493147e4b14c210751726964",
        "IPY_MODEL_5768b8149b2041e6b3dccda32f839476",
        "IPY_MODEL_661aeb689ba34938be8b0d579861853b",
        "IPY_MODEL_cf56d536c6fb43f58e3f24983729f8c6"
       ],
       "layout": "IPY_MODEL_f919a0c2917942c58f8e207cbaee4e43"
      }
     },
     "8bdf1d95734043c1832f5a5c90a95d72": {
      "model_module": "@jupyter-widgets/controls",
      "model_module_version": "1.5.0",
      "model_name": "SliderStyleModel",
      "state": {
       "description_width": ""
      }
     },
     "8dc64f5c6832446f9ba58faed5dc823e": {
      "model_module": "@jupyter-widgets/controls",
      "model_module_version": "1.5.0",
      "model_name": "SliderStyleModel",
      "state": {
       "description_width": ""
      }
     },
     "8dcb4ca8fdf942f7a82a00164c465255": {
      "model_module": "@jupyter-widgets/controls",
      "model_module_version": "1.5.0",
      "model_name": "FloatLogSliderModel",
      "state": {
       "description": "y_max",
       "layout": "IPY_MODEL_6f4f32b9760c44c6806aebb2d5e19e90",
       "max": 5,
       "min": -1,
       "style": "IPY_MODEL_183b3d1813a14abf9b7773fa11a7f9a6",
       "value": 10000
      }
     },
     "8deb40257a3b490685046698d1f3a12d": {
      "model_module": "@jupyter-widgets/controls",
      "model_module_version": "1.5.0",
      "model_name": "FloatLogSliderModel",
      "state": {
       "description": "scale_A",
       "layout": "IPY_MODEL_cec5355297ec461a8c2a38553647da41",
       "max": 10,
       "min": -10,
       "style": "IPY_MODEL_252170d3c96f4fd0ae259b5a514cf075"
      }
     },
     "8f241efd6bb74d2980f38bfc45b70d2c": {
      "model_module": "@jupyter-widgets/controls",
      "model_module_version": "1.5.0",
      "model_name": "FloatRangeSliderModel",
      "state": {
       "_model_name": "FloatRangeSliderModel",
       "_view_name": "FloatRangeSliderView",
       "description": "x_range",
       "layout": "IPY_MODEL_c73a4895ee0b4fe8bd8a568c493274de",
       "max": 20,
       "step": 0.1,
       "style": "IPY_MODEL_99f7a56d78094bcb8f45109a6b67ae6a",
       "value": [
        0,
        20
       ]
      }
     },
     "8f45e63c825243678e30f37ecc44bd03": {
      "model_module": "@jupyter-widgets/controls",
      "model_module_version": "1.5.0",
      "model_name": "SliderStyleModel",
      "state": {
       "description_width": ""
      }
     },
     "8fc2ef2f8fa6440a960b728091353a21": {
      "model_module": "@jupyter-widgets/controls",
      "model_module_version": "1.5.0",
      "model_name": "SliderStyleModel",
      "state": {
       "description_width": ""
      }
     },
     "90882e85002b48c08446d21070a7b244": {
      "model_module": "@jupyter-widgets/base",
      "model_module_version": "1.2.0",
      "model_name": "LayoutModel",
      "state": {}
     },
     "90f1e7174cb149ac88647cd0b19da417": {
      "model_module": "@jupyter-widgets/controls",
      "model_module_version": "1.5.0",
      "model_name": "FloatLogSliderModel",
      "state": {
       "description": "scale_C",
       "layout": "IPY_MODEL_c1ba88e920144a08916358c16f810bd1",
       "max": 10,
       "min": -10,
       "style": "IPY_MODEL_3f3db6ca4f154ef29c3cf1fb0946d794",
       "value": 1584.893192461114
      }
     },
     "94320c7affd54468987aa500ecb1e55e": {
      "model_module": "@jupyter-widgets/controls",
      "model_module_version": "1.5.0",
      "model_name": "DescriptionStyleModel",
      "state": {
       "description_width": ""
      }
     },
     "9432b6263dc04ca795871654fe61a75e": {
      "model_module": "@jupyter-widgets/controls",
      "model_module_version": "1.5.0",
      "model_name": "DescriptionStyleModel",
      "state": {
       "description_width": ""
      }
     },
     "951ea8db173e46b6bb59a2a1f7a653f6": {
      "model_module": "@jupyter-widgets/controls",
      "model_module_version": "1.5.0",
      "model_name": "CheckboxModel",
      "state": {
       "description": "Plot Experiment A",
       "disabled": false,
       "layout": "IPY_MODEL_fe84c05434e24918a6033942521593d2",
       "style": "IPY_MODEL_5aa4a47ab107442a82e3631654e97b23",
       "value": true
      }
     },
     "996758aabc4c48c880dd24f74f161ff1": {
      "model_module": "@jupyter-widgets/controls",
      "model_module_version": "1.5.0",
      "model_name": "IntSliderModel",
      "state": {
       "description": "bins",
       "layout": "IPY_MODEL_3a766bd970aa469a982ff4976eba0f7a",
       "max": 2000,
       "min": 20,
       "style": "IPY_MODEL_c3773b95535a4089a2c6da79f361c3f7",
       "value": 500
      }
     },
     "99f7a56d78094bcb8f45109a6b67ae6a": {
      "model_module": "@jupyter-widgets/controls",
      "model_module_version": "1.5.0",
      "model_name": "SliderStyleModel",
      "state": {
       "description_width": ""
      }
     },
     "9ac06720d7164b2f9cecf8c509615472": {
      "model_module": "@jupyter-widgets/controls",
      "model_module_version": "1.5.0",
      "model_name": "FloatSliderModel",
      "state": {
       "description": "shift_C",
       "layout": "IPY_MODEL_a602336b4f5342a791ccf6a7a321bbbb",
       "max": 20,
       "min": -20,
       "step": 0.1,
       "style": "IPY_MODEL_7f9447cade6044f6899acd8963c01ba2",
       "value": 2.6
      }
     },
     "9ace3076171a442ab71e9c43687d453f": {
      "model_module": "@jupyter-widgets/controls",
      "model_module_version": "1.5.0",
      "model_name": "CheckboxModel",
      "state": {
       "description": "Plot Experiment A",
       "disabled": false,
       "layout": "IPY_MODEL_a4437bbab63145a1918f93f1b1c3a699",
       "style": "IPY_MODEL_374814309c494eaab6e7d40bf79fd743",
       "value": true
      }
     },
     "9b356e0aa972417eacb2e329b8cad3b2": {
      "model_module": "@jupyter-widgets/controls",
      "model_module_version": "1.5.0",
      "model_name": "VBoxModel",
      "state": {
       "_dom_classes": [
        "widget-interact"
       ],
       "children": [
        "IPY_MODEL_5e22e8e2e16541bd85c4869ffd3b9c00",
        "IPY_MODEL_0a183b0a523b49ee97e18fa89b673a18",
        "IPY_MODEL_5d965930b2f243649ef9a6ba59438eaa",
        "IPY_MODEL_36b33c7208b7441196bf29adcadce009",
        "IPY_MODEL_4c11d808a6024926abcdd34cd952c30e",
        "IPY_MODEL_dbf3398de83449a68e242167f528afff",
        "IPY_MODEL_c46d5ecf0d804e17bce765055bb5173a",
        "IPY_MODEL_d9783ee911a24564a00fe45d6fffacdd"
       ],
       "layout": "IPY_MODEL_e8f5464f9efb4bba83407fd60c3ee008"
      }
     },
     "9d23a5f07e1442f6af97ac5dbf9e0759": {
      "model_module": "@jupyter-widgets/controls",
      "model_module_version": "1.5.0",
      "model_name": "FloatLogSliderModel",
      "state": {
       "description": "scale_A",
       "layout": "IPY_MODEL_c3d2c665e5234cec9bfc010ccced3b46",
       "max": 10,
       "min": -10,
       "style": "IPY_MODEL_edccd115f53e437788d9c163f138a127",
       "value": 50.11872336272722
      }
     },
     "9d97d096dc974cfda62cd736b21a2161": {
      "model_module": "@jupyter-widgets/base",
      "model_module_version": "1.2.0",
      "model_name": "LayoutModel",
      "state": {}
     },
     "9dd47e6506904d3ca73ad7043772a697": {
      "model_module": "@jupyter-widgets/base",
      "model_module_version": "1.2.0",
      "model_name": "LayoutModel",
      "state": {}
     },
     "9e13af9711ef48158bee76c48beb3d47": {
      "model_module": "@jupyter-widgets/base",
      "model_module_version": "1.2.0",
      "model_name": "LayoutModel",
      "state": {}
     },
     "9f2649f00ddd4d2fa6e90d7a86ad84ef": {
      "model_module": "@jupyter-widgets/controls",
      "model_module_version": "1.5.0",
      "model_name": "DescriptionStyleModel",
      "state": {
       "description_width": ""
      }
     },
     "a1940e640b0f4aaa9c9ade6a12a496cf": {
      "model_module": "@jupyter-widgets/base",
      "model_module_version": "1.2.0",
      "model_name": "LayoutModel",
      "state": {}
     },
     "a24c67e289ef43769d256afb676fdfcc": {
      "model_module": "@jupyter-widgets/controls",
      "model_module_version": "1.5.0",
      "model_name": "DescriptionStyleModel",
      "state": {
       "description_width": ""
      }
     },
     "a39a8d8d565f4b14939799c367d267a4": {
      "model_module": "@jupyter-widgets/controls",
      "model_module_version": "1.5.0",
      "model_name": "SliderStyleModel",
      "state": {
       "description_width": ""
      }
     },
     "a4437bbab63145a1918f93f1b1c3a699": {
      "model_module": "@jupyter-widgets/base",
      "model_module_version": "1.2.0",
      "model_name": "LayoutModel",
      "state": {}
     },
     "a52d91fd846149ec9ca205c3b3a12190": {
      "model_module": "@jupyter-widgets/base",
      "model_module_version": "1.2.0",
      "model_name": "LayoutModel",
      "state": {}
     },
     "a585228bb21c46b9bb7ef464710f7539": {
      "model_module": "@jupyter-widgets/base",
      "model_module_version": "1.2.0",
      "model_name": "LayoutModel",
      "state": {}
     },
     "a602336b4f5342a791ccf6a7a321bbbb": {
      "model_module": "@jupyter-widgets/base",
      "model_module_version": "1.2.0",
      "model_name": "LayoutModel",
      "state": {}
     },
     "a631d467c41c40359ce2077ee5f4b9f7": {
      "model_module": "@jupyter-widgets/controls",
      "model_module_version": "1.5.0",
      "model_name": "FloatSliderModel",
      "state": {
       "description": "shift_B",
       "layout": "IPY_MODEL_d7bd51ef28494bc6892db14d974be554",
       "max": 20,
       "min": -20,
       "step": 0.1,
       "style": "IPY_MODEL_7b645e76facc4ad19d0148bd60162cf6",
       "value": -8.3
      }
     },
     "a659d9d831964f7fae50c1644178d780": {
      "model_module": "@jupyter-widgets/controls",
      "model_module_version": "1.5.0",
      "model_name": "DescriptionStyleModel",
      "state": {
       "description_width": ""
      }
     },
     "a6aa209ad609424ca2d151a9ae494fd7": {
      "model_module": "@jupyter-widgets/base",
      "model_module_version": "1.2.0",
      "model_name": "LayoutModel",
      "state": {}
     },
     "a744b5445f4343c4a48e20904fe0b18e": {
      "model_module": "@jupyter-widgets/base",
      "model_module_version": "1.2.0",
      "model_name": "LayoutModel",
      "state": {}
     },
     "a99e5e12757740e4a56c25af1f6f3c3a": {
      "model_module": "@jupyter-widgets/base",
      "model_module_version": "1.2.0",
      "model_name": "LayoutModel",
      "state": {}
     },
     "aa0a5e472d564415b3e5ccd83d6bf346": {
      "model_module": "@jupyter-widgets/controls",
      "model_module_version": "1.5.0",
      "model_name": "FloatLogSliderModel",
      "state": {
       "description": "scale_A",
       "layout": "IPY_MODEL_af0a11170db846be84c89bf1b140a950",
       "max": 10,
       "min": -10,
       "style": "IPY_MODEL_8dc64f5c6832446f9ba58faed5dc823e",
       "value": 0.31622776601683794
      }
     },
     "aa8345f23b1543808bbb4ce9b0de67be": {
      "model_module": "@jupyter-widgets/controls",
      "model_module_version": "1.5.0",
      "model_name": "SliderStyleModel",
      "state": {
       "description_width": ""
      }
     },
     "ab2a0a3d0ff246b9a6b92c6d46ae5f59": {
      "model_module": "@jupyter-widgets/controls",
      "model_module_version": "1.5.0",
      "model_name": "SliderStyleModel",
      "state": {
       "description_width": ""
      }
     },
     "ad8cb4ed89af4810972c49c06d81ba11": {
      "model_module": "@jupyter-widgets/base",
      "model_module_version": "1.2.0",
      "model_name": "LayoutModel",
      "state": {}
     },
     "ae9207822501404088f99234860e9c54": {
      "model_module": "@jupyter-widgets/controls",
      "model_module_version": "1.5.0",
      "model_name": "DescriptionStyleModel",
      "state": {
       "description_width": ""
      }
     },
     "af0a11170db846be84c89bf1b140a950": {
      "model_module": "@jupyter-widgets/base",
      "model_module_version": "1.2.0",
      "model_name": "LayoutModel",
      "state": {}
     },
     "afa0a5e076d1453b8674077e05ec64ab": {
      "model_module": "@jupyter-widgets/controls",
      "model_module_version": "1.5.0",
      "model_name": "FloatLogSliderModel",
      "state": {
       "description": "scale_C",
       "layout": "IPY_MODEL_60121187de4e4b9da886eac37868ddca",
       "max": 10,
       "min": -10,
       "style": "IPY_MODEL_8f45e63c825243678e30f37ecc44bd03"
      }
     },
     "afe2c7a3e27f4f30b3487340b27c3d61": {
      "model_module": "@jupyter-widgets/controls",
      "model_module_version": "1.5.0",
      "model_name": "CheckboxModel",
      "state": {
       "description": "Plot Experiment B",
       "disabled": false,
       "layout": "IPY_MODEL_90882e85002b48c08446d21070a7b244",
       "style": "IPY_MODEL_1fc7dba5c997430ebd738a1caa7daf53",
       "value": true
      }
     },
     "b088c52f6c3b40a6b3e93a6a4ee8c57a": {
      "model_module": "@jupyter-widgets/base",
      "model_module_version": "1.2.0",
      "model_name": "LayoutModel",
      "state": {}
     },
     "b0cbdcf8de5a4fbc8e94a3960b9ff30d": {
      "model_module": "@jupyter-widgets/base",
      "model_module_version": "1.2.0",
      "model_name": "LayoutModel",
      "state": {}
     },
     "b27cc7a0f0b24519b6e365d707561c2f": {
      "model_module": "@jupyter-widgets/controls",
      "model_module_version": "1.5.0",
      "model_name": "DescriptionStyleModel",
      "state": {
       "description_width": ""
      }
     },
     "b2aa680ed77549b6b9f5b819d5fd6d50": {
      "model_module": "@jupyter-widgets/controls",
      "model_module_version": "1.5.0",
      "model_name": "SliderStyleModel",
      "state": {
       "description_width": ""
      }
     },
     "b3c2ddfc5fb14bdcb5141e5b96b46a60": {
      "model_module": "@jupyter-widgets/controls",
      "model_module_version": "1.5.0",
      "model_name": "DropdownModel",
      "state": {
       "_options_labels": [
        "linear",
        "log"
       ],
       "description": "Scale: ",
       "index": 0,
       "layout": "IPY_MODEL_887517610c8a41e9bd256e522d72ec43",
       "style": "IPY_MODEL_0882550e337d4561af55838266cd7812"
      }
     },
     "b5486e7367e646889cbfeb8e87b0f9c6": {
      "model_module": "@jupyter-widgets/base",
      "model_module_version": "1.2.0",
      "model_name": "LayoutModel",
      "state": {}
     },
     "b826af6e328f4d2ab077516984cc03ab": {
      "model_module": "@jupyter-widgets/controls",
      "model_module_version": "1.5.0",
      "model_name": "DescriptionStyleModel",
      "state": {
       "description_width": ""
      }
     },
     "bad72fb1444f43f080f149bdef85e510": {
      "model_module": "@jupyter-widgets/controls",
      "model_module_version": "1.5.0",
      "model_name": "FloatSliderModel",
      "state": {
       "description": "shift_A",
       "layout": "IPY_MODEL_41b5e43e2f8f42a6b54d8b896ddb022f",
       "max": 20,
       "min": -20,
       "step": 0.1,
       "style": "IPY_MODEL_caca0c9d825d44c8909966215a3f695b"
      }
     },
     "bb9f43c621a84f6f9832237b04f73c74": {
      "model_module": "@jupyter-widgets/controls",
      "model_module_version": "1.5.0",
      "model_name": "DescriptionStyleModel",
      "state": {
       "description_width": ""
      }
     },
     "bcb9cd08d3d84d8baca97fe3b96cece4": {
      "model_module": "@jupyter-widgets/base",
      "model_module_version": "1.2.0",
      "model_name": "LayoutModel",
      "state": {}
     },
     "be030f5c436740d68ebe124aea7583d4": {
      "model_module": "@jupyter-widgets/base",
      "model_module_version": "1.2.0",
      "model_name": "LayoutModel",
      "state": {}
     },
     "be96e3d2ff354049a00355af1923d693": {
      "model_module": "@jupyter-widgets/controls",
      "model_module_version": "1.5.0",
      "model_name": "DescriptionStyleModel",
      "state": {
       "description_width": ""
      }
     },
     "bf981b18665f4c6a9b5412fc6638711c": {
      "model_module": "@jupyter-widgets/controls",
      "model_module_version": "1.5.0",
      "model_name": "DescriptionStyleModel",
      "state": {
       "description_width": ""
      }
     },
     "c15b77d641cb409fa6efdeed6cc65dc5": {
      "model_module": "@jupyter-widgets/base",
      "model_module_version": "1.2.0",
      "model_name": "LayoutModel",
      "state": {}
     },
     "c17fa96aaa4b442d98e4f59a6e6fadff": {
      "model_module": "@jupyter-widgets/base",
      "model_module_version": "1.2.0",
      "model_name": "LayoutModel",
      "state": {}
     },
     "c1ba88e920144a08916358c16f810bd1": {
      "model_module": "@jupyter-widgets/base",
      "model_module_version": "1.2.0",
      "model_name": "LayoutModel",
      "state": {}
     },
     "c2fd07a6860340ea9379c33fc8d6a1b3": {
      "model_module": "@jupyter-widgets/base",
      "model_module_version": "1.2.0",
      "model_name": "LayoutModel",
      "state": {}
     },
     "c3773b95535a4089a2c6da79f361c3f7": {
      "model_module": "@jupyter-widgets/controls",
      "model_module_version": "1.5.0",
      "model_name": "SliderStyleModel",
      "state": {
       "description_width": ""
      }
     },
     "c3a83823457a4756b54e5cd3667f41b2": {
      "model_module": "@jupyter-widgets/controls",
      "model_module_version": "1.5.0",
      "model_name": "SliderStyleModel",
      "state": {
       "description_width": ""
      }
     },
     "c3d2c665e5234cec9bfc010ccced3b46": {
      "model_module": "@jupyter-widgets/base",
      "model_module_version": "1.2.0",
      "model_name": "LayoutModel",
      "state": {}
     },
     "c45292c489e542749ba648802bc52e8e": {
      "model_module": "@jupyter-widgets/controls",
      "model_module_version": "1.5.0",
      "model_name": "DescriptionStyleModel",
      "state": {
       "description_width": ""
      }
     },
     "c46d5ecf0d804e17bce765055bb5173a": {
      "model_module": "@jupyter-widgets/controls",
      "model_module_version": "1.5.0",
      "model_name": "DropdownModel",
      "state": {
       "_options_labels": [
        "linear",
        "log"
       ],
       "description": "Scale: ",
       "index": 0,
       "layout": "IPY_MODEL_d38afceebf5d40378e8a3e60030bd62b",
       "style": "IPY_MODEL_2ed35cd7fb994fe1a228f0a77e9f8e15"
      }
     },
     "c5786ad7da1c4d86824989bdf082c4b4": {
      "model_module": "@jupyter-widgets/controls",
      "model_module_version": "1.5.0",
      "model_name": "SliderStyleModel",
      "state": {
       "description_width": ""
      }
     },
     "c73a4895ee0b4fe8bd8a568c493274de": {
      "model_module": "@jupyter-widgets/base",
      "model_module_version": "1.2.0",
      "model_name": "LayoutModel",
      "state": {}
     },
     "c8d55cd9988f4501a9464f7269bf0c4d": {
      "model_module": "@jupyter-widgets/base",
      "model_module_version": "1.2.0",
      "model_name": "LayoutModel",
      "state": {}
     },
     "c982c54545384a2287b0670fdc006198": {
      "model_module": "@jupyter-widgets/controls",
      "model_module_version": "1.5.0",
      "model_name": "SliderStyleModel",
      "state": {
       "description_width": ""
      }
     },
     "c9e124d556dd45a2ae485d5a853cfa5f": {
      "model_module": "@jupyter-widgets/controls",
      "model_module_version": "1.5.0",
      "model_name": "SliderStyleModel",
      "state": {
       "description_width": ""
      }
     },
     "ca01fe5fafa844f5beb48b0a3325d693": {
      "model_module": "@jupyter-widgets/base",
      "model_module_version": "1.2.0",
      "model_name": "LayoutModel",
      "state": {}
     },
     "ca308c2718d846bb83ee3b0b4477fb9f": {
      "model_module": "@jupyter-widgets/output",
      "model_module_version": "1.0.0",
      "model_name": "OutputModel",
      "state": {
       "layout": "IPY_MODEL_ad8cb4ed89af4810972c49c06d81ba11",
       "outputs": [
        {
         "data": {
          "image/svg+xml": "<?xml version=\"1.0\" encoding=\"utf-8\" standalone=\"no\"?>\n<!DOCTYPE svg PUBLIC \"-//W3C//DTD SVG 1.1//EN\"\n  \"http://www.w3.org/Graphics/SVG/1.1/DTD/svg11.dtd\">\n<!-- Created with matplotlib (https://matplotlib.org/) -->\n<svg height=\"262.19625pt\" version=\"1.1\" viewBox=\"0 0 406.460938 262.19625\" width=\"406.460938pt\" xmlns=\"http://www.w3.org/2000/svg\" xmlns:xlink=\"http://www.w3.org/1999/xlink\">\n <metadata>\n  <rdf:RDF xmlns:cc=\"http://creativecommons.org/ns#\" xmlns:dc=\"http://purl.org/dc/elements/1.1/\" xmlns:rdf=\"http://www.w3.org/1999/02/22-rdf-syntax-ns#\">\n   <cc:Work>\n    <dc:type rdf:resource=\"http://purl.org/dc/dcmitype/StillImage\"/>\n    <dc:date>2021-06-11T10:41:19.310920</dc:date>\n    <dc:format>image/svg+xml</dc:format>\n    <dc:creator>\n     <cc:Agent>\n      <dc:title>Matplotlib v3.3.3, https://matplotlib.org/</dc:title>\n     </cc:Agent>\n    </dc:creator>\n   </cc:Work>\n  </rdf:RDF>\n </metadata>\n <defs>\n  <style type=\"text/css\">*{stroke-linecap:butt;stroke-linejoin:round;}</style>\n </defs>\n <g id=\"figure_1\">\n  <g id=\"patch_1\">\n   <path d=\"M 0 262.19625 \nL 406.460938 262.19625 \nL 406.460938 0 \nL 0 0 \nz\n\" style=\"fill:none;\"/>\n  </g>\n  <g id=\"axes_1\">\n   <g id=\"patch_2\">\n    <path d=\"M 53.328125 224.64 \nL 388.128125 224.64 \nL 388.128125 7.2 \nL 53.328125 7.2 \nz\n\" style=\"fill:#ffffff;\"/>\n   </g>\n   <g id=\"matplotlib.axis_1\">\n    <g id=\"xtick_1\">\n     <g id=\"line2d_1\">\n      <defs>\n       <path d=\"M 0 0 \nL 0 3.5 \n\" id=\"m6985ed25af\" style=\"stroke:#000000;stroke-width:0.8;\"/>\n      </defs>\n      <g>\n       <use style=\"stroke:#000000;stroke-width:0.8;\" x=\"53.328125\" xlink:href=\"#m6985ed25af\" y=\"224.64\"/>\n      </g>\n     </g>\n     <g id=\"text_1\">\n      <!-- 0.0 -->\n      <g transform=\"translate(45.376563 239.238437)scale(0.1 -0.1)\">\n       <defs>\n        <path d=\"M 31.78125 66.40625 \nQ 24.171875 66.40625 20.328125 58.90625 \nQ 16.5 51.421875 16.5 36.375 \nQ 16.5 21.390625 20.328125 13.890625 \nQ 24.171875 6.390625 31.78125 6.390625 \nQ 39.453125 6.390625 43.28125 13.890625 \nQ 47.125 21.390625 47.125 36.375 \nQ 47.125 51.421875 43.28125 58.90625 \nQ 39.453125 66.40625 31.78125 66.40625 \nz\nM 31.78125 74.21875 \nQ 44.046875 74.21875 50.515625 64.515625 \nQ 56.984375 54.828125 56.984375 36.375 \nQ 56.984375 17.96875 50.515625 8.265625 \nQ 44.046875 -1.421875 31.78125 -1.421875 \nQ 19.53125 -1.421875 13.0625 8.265625 \nQ 6.59375 17.96875 6.59375 36.375 \nQ 6.59375 54.828125 13.0625 64.515625 \nQ 19.53125 74.21875 31.78125 74.21875 \nz\n\" id=\"DejaVuSans-48\"/>\n        <path d=\"M 10.6875 12.40625 \nL 21 12.40625 \nL 21 0 \nL 10.6875 0 \nz\n\" id=\"DejaVuSans-46\"/>\n       </defs>\n       <use xlink:href=\"#DejaVuSans-48\"/>\n       <use x=\"63.623047\" xlink:href=\"#DejaVuSans-46\"/>\n       <use x=\"95.410156\" xlink:href=\"#DejaVuSans-48\"/>\n      </g>\n     </g>\n    </g>\n    <g id=\"xtick_2\">\n     <g id=\"line2d_2\">\n      <g>\n       <use style=\"stroke:#000000;stroke-width:0.8;\" x=\"95.178125\" xlink:href=\"#m6985ed25af\" y=\"224.64\"/>\n      </g>\n     </g>\n     <g id=\"text_2\">\n      <!-- 2.5 -->\n      <g transform=\"translate(87.226563 239.238437)scale(0.1 -0.1)\">\n       <defs>\n        <path d=\"M 19.1875 8.296875 \nL 53.609375 8.296875 \nL 53.609375 0 \nL 7.328125 0 \nL 7.328125 8.296875 \nQ 12.9375 14.109375 22.625 23.890625 \nQ 32.328125 33.6875 34.8125 36.53125 \nQ 39.546875 41.84375 41.421875 45.53125 \nQ 43.3125 49.21875 43.3125 52.78125 \nQ 43.3125 58.59375 39.234375 62.25 \nQ 35.15625 65.921875 28.609375 65.921875 \nQ 23.96875 65.921875 18.8125 64.3125 \nQ 13.671875 62.703125 7.8125 59.421875 \nL 7.8125 69.390625 \nQ 13.765625 71.78125 18.9375 73 \nQ 24.125 74.21875 28.421875 74.21875 \nQ 39.75 74.21875 46.484375 68.546875 \nQ 53.21875 62.890625 53.21875 53.421875 \nQ 53.21875 48.921875 51.53125 44.890625 \nQ 49.859375 40.875 45.40625 35.40625 \nQ 44.1875 33.984375 37.640625 27.21875 \nQ 31.109375 20.453125 19.1875 8.296875 \nz\n\" id=\"DejaVuSans-50\"/>\n        <path d=\"M 10.796875 72.90625 \nL 49.515625 72.90625 \nL 49.515625 64.59375 \nL 19.828125 64.59375 \nL 19.828125 46.734375 \nQ 21.96875 47.46875 24.109375 47.828125 \nQ 26.265625 48.1875 28.421875 48.1875 \nQ 40.625 48.1875 47.75 41.5 \nQ 54.890625 34.8125 54.890625 23.390625 \nQ 54.890625 11.625 47.5625 5.09375 \nQ 40.234375 -1.421875 26.90625 -1.421875 \nQ 22.3125 -1.421875 17.546875 -0.640625 \nQ 12.796875 0.140625 7.71875 1.703125 \nL 7.71875 11.625 \nQ 12.109375 9.234375 16.796875 8.0625 \nQ 21.484375 6.890625 26.703125 6.890625 \nQ 35.15625 6.890625 40.078125 11.328125 \nQ 45.015625 15.765625 45.015625 23.390625 \nQ 45.015625 31 40.078125 35.4375 \nQ 35.15625 39.890625 26.703125 39.890625 \nQ 22.75 39.890625 18.8125 39.015625 \nQ 14.890625 38.140625 10.796875 36.28125 \nz\n\" id=\"DejaVuSans-53\"/>\n       </defs>\n       <use xlink:href=\"#DejaVuSans-50\"/>\n       <use x=\"63.623047\" xlink:href=\"#DejaVuSans-46\"/>\n       <use x=\"95.410156\" xlink:href=\"#DejaVuSans-53\"/>\n      </g>\n     </g>\n    </g>\n    <g id=\"xtick_3\">\n     <g id=\"line2d_3\">\n      <g>\n       <use style=\"stroke:#000000;stroke-width:0.8;\" x=\"137.028125\" xlink:href=\"#m6985ed25af\" y=\"224.64\"/>\n      </g>\n     </g>\n     <g id=\"text_3\">\n      <!-- 5.0 -->\n      <g transform=\"translate(129.076563 239.238437)scale(0.1 -0.1)\">\n       <use xlink:href=\"#DejaVuSans-53\"/>\n       <use x=\"63.623047\" xlink:href=\"#DejaVuSans-46\"/>\n       <use x=\"95.410156\" xlink:href=\"#DejaVuSans-48\"/>\n      </g>\n     </g>\n    </g>\n    <g id=\"xtick_4\">\n     <g id=\"line2d_4\">\n      <g>\n       <use style=\"stroke:#000000;stroke-width:0.8;\" x=\"178.878125\" xlink:href=\"#m6985ed25af\" y=\"224.64\"/>\n      </g>\n     </g>\n     <g id=\"text_4\">\n      <!-- 7.5 -->\n      <g transform=\"translate(170.926563 239.238437)scale(0.1 -0.1)\">\n       <defs>\n        <path d=\"M 8.203125 72.90625 \nL 55.078125 72.90625 \nL 55.078125 68.703125 \nL 28.609375 0 \nL 18.3125 0 \nL 43.21875 64.59375 \nL 8.203125 64.59375 \nz\n\" id=\"DejaVuSans-55\"/>\n       </defs>\n       <use xlink:href=\"#DejaVuSans-55\"/>\n       <use x=\"63.623047\" xlink:href=\"#DejaVuSans-46\"/>\n       <use x=\"95.410156\" xlink:href=\"#DejaVuSans-53\"/>\n      </g>\n     </g>\n    </g>\n    <g id=\"xtick_5\">\n     <g id=\"line2d_5\">\n      <g>\n       <use style=\"stroke:#000000;stroke-width:0.8;\" x=\"220.728125\" xlink:href=\"#m6985ed25af\" y=\"224.64\"/>\n      </g>\n     </g>\n     <g id=\"text_5\">\n      <!-- 10.0 -->\n      <g transform=\"translate(209.595313 239.238437)scale(0.1 -0.1)\">\n       <defs>\n        <path d=\"M 12.40625 8.296875 \nL 28.515625 8.296875 \nL 28.515625 63.921875 \nL 10.984375 60.40625 \nL 10.984375 69.390625 \nL 28.421875 72.90625 \nL 38.28125 72.90625 \nL 38.28125 8.296875 \nL 54.390625 8.296875 \nL 54.390625 0 \nL 12.40625 0 \nz\n\" id=\"DejaVuSans-49\"/>\n       </defs>\n       <use xlink:href=\"#DejaVuSans-49\"/>\n       <use x=\"63.623047\" xlink:href=\"#DejaVuSans-48\"/>\n       <use x=\"127.246094\" xlink:href=\"#DejaVuSans-46\"/>\n       <use x=\"159.033203\" xlink:href=\"#DejaVuSans-48\"/>\n      </g>\n     </g>\n    </g>\n    <g id=\"xtick_6\">\n     <g id=\"line2d_6\">\n      <g>\n       <use style=\"stroke:#000000;stroke-width:0.8;\" x=\"262.578125\" xlink:href=\"#m6985ed25af\" y=\"224.64\"/>\n      </g>\n     </g>\n     <g id=\"text_6\">\n      <!-- 12.5 -->\n      <g transform=\"translate(251.445313 239.238437)scale(0.1 -0.1)\">\n       <use xlink:href=\"#DejaVuSans-49\"/>\n       <use x=\"63.623047\" xlink:href=\"#DejaVuSans-50\"/>\n       <use x=\"127.246094\" xlink:href=\"#DejaVuSans-46\"/>\n       <use x=\"159.033203\" xlink:href=\"#DejaVuSans-53\"/>\n      </g>\n     </g>\n    </g>\n    <g id=\"xtick_7\">\n     <g id=\"line2d_7\">\n      <g>\n       <use style=\"stroke:#000000;stroke-width:0.8;\" x=\"304.428125\" xlink:href=\"#m6985ed25af\" y=\"224.64\"/>\n      </g>\n     </g>\n     <g id=\"text_7\">\n      <!-- 15.0 -->\n      <g transform=\"translate(293.295313 239.238437)scale(0.1 -0.1)\">\n       <use xlink:href=\"#DejaVuSans-49\"/>\n       <use x=\"63.623047\" xlink:href=\"#DejaVuSans-53\"/>\n       <use x=\"127.246094\" xlink:href=\"#DejaVuSans-46\"/>\n       <use x=\"159.033203\" xlink:href=\"#DejaVuSans-48\"/>\n      </g>\n     </g>\n    </g>\n    <g id=\"xtick_8\">\n     <g id=\"line2d_8\">\n      <g>\n       <use style=\"stroke:#000000;stroke-width:0.8;\" x=\"346.278125\" xlink:href=\"#m6985ed25af\" y=\"224.64\"/>\n      </g>\n     </g>\n     <g id=\"text_8\">\n      <!-- 17.5 -->\n      <g transform=\"translate(335.145313 239.238437)scale(0.1 -0.1)\">\n       <use xlink:href=\"#DejaVuSans-49\"/>\n       <use x=\"63.623047\" xlink:href=\"#DejaVuSans-55\"/>\n       <use x=\"127.246094\" xlink:href=\"#DejaVuSans-46\"/>\n       <use x=\"159.033203\" xlink:href=\"#DejaVuSans-53\"/>\n      </g>\n     </g>\n    </g>\n    <g id=\"xtick_9\">\n     <g id=\"line2d_9\">\n      <g>\n       <use style=\"stroke:#000000;stroke-width:0.8;\" x=\"388.128125\" xlink:href=\"#m6985ed25af\" y=\"224.64\"/>\n      </g>\n     </g>\n     <g id=\"text_9\">\n      <!-- 20.0 -->\n      <g transform=\"translate(376.995313 239.238437)scale(0.1 -0.1)\">\n       <use xlink:href=\"#DejaVuSans-50\"/>\n       <use x=\"63.623047\" xlink:href=\"#DejaVuSans-48\"/>\n       <use x=\"127.246094\" xlink:href=\"#DejaVuSans-46\"/>\n       <use x=\"159.033203\" xlink:href=\"#DejaVuSans-48\"/>\n      </g>\n     </g>\n    </g>\n    <g id=\"text_10\">\n     <!-- Energy (keV) -->\n     <g transform=\"translate(188.520312 252.916562)scale(0.1 -0.1)\">\n      <defs>\n       <path d=\"M 9.8125 72.90625 \nL 55.90625 72.90625 \nL 55.90625 64.59375 \nL 19.671875 64.59375 \nL 19.671875 43.015625 \nL 54.390625 43.015625 \nL 54.390625 34.71875 \nL 19.671875 34.71875 \nL 19.671875 8.296875 \nL 56.78125 8.296875 \nL 56.78125 0 \nL 9.8125 0 \nz\n\" id=\"DejaVuSans-69\"/>\n       <path d=\"M 54.890625 33.015625 \nL 54.890625 0 \nL 45.90625 0 \nL 45.90625 32.71875 \nQ 45.90625 40.484375 42.875 44.328125 \nQ 39.84375 48.1875 33.796875 48.1875 \nQ 26.515625 48.1875 22.3125 43.546875 \nQ 18.109375 38.921875 18.109375 30.90625 \nL 18.109375 0 \nL 9.078125 0 \nL 9.078125 54.6875 \nL 18.109375 54.6875 \nL 18.109375 46.1875 \nQ 21.34375 51.125 25.703125 53.5625 \nQ 30.078125 56 35.796875 56 \nQ 45.21875 56 50.046875 50.171875 \nQ 54.890625 44.34375 54.890625 33.015625 \nz\n\" id=\"DejaVuSans-110\"/>\n       <path d=\"M 56.203125 29.59375 \nL 56.203125 25.203125 \nL 14.890625 25.203125 \nQ 15.484375 15.921875 20.484375 11.0625 \nQ 25.484375 6.203125 34.421875 6.203125 \nQ 39.59375 6.203125 44.453125 7.46875 \nQ 49.3125 8.734375 54.109375 11.28125 \nL 54.109375 2.78125 \nQ 49.265625 0.734375 44.1875 -0.34375 \nQ 39.109375 -1.421875 33.890625 -1.421875 \nQ 20.796875 -1.421875 13.15625 6.1875 \nQ 5.515625 13.8125 5.515625 26.8125 \nQ 5.515625 40.234375 12.765625 48.109375 \nQ 20.015625 56 32.328125 56 \nQ 43.359375 56 49.78125 48.890625 \nQ 56.203125 41.796875 56.203125 29.59375 \nz\nM 47.21875 32.234375 \nQ 47.125 39.59375 43.09375 43.984375 \nQ 39.0625 48.390625 32.421875 48.390625 \nQ 24.90625 48.390625 20.390625 44.140625 \nQ 15.875 39.890625 15.1875 32.171875 \nz\n\" id=\"DejaVuSans-101\"/>\n       <path d=\"M 41.109375 46.296875 \nQ 39.59375 47.171875 37.8125 47.578125 \nQ 36.03125 48 33.890625 48 \nQ 26.265625 48 22.1875 43.046875 \nQ 18.109375 38.09375 18.109375 28.8125 \nL 18.109375 0 \nL 9.078125 0 \nL 9.078125 54.6875 \nL 18.109375 54.6875 \nL 18.109375 46.1875 \nQ 20.953125 51.171875 25.484375 53.578125 \nQ 30.03125 56 36.53125 56 \nQ 37.453125 56 38.578125 55.875 \nQ 39.703125 55.765625 41.0625 55.515625 \nz\n\" id=\"DejaVuSans-114\"/>\n       <path d=\"M 45.40625 27.984375 \nQ 45.40625 37.75 41.375 43.109375 \nQ 37.359375 48.484375 30.078125 48.484375 \nQ 22.859375 48.484375 18.828125 43.109375 \nQ 14.796875 37.75 14.796875 27.984375 \nQ 14.796875 18.265625 18.828125 12.890625 \nQ 22.859375 7.515625 30.078125 7.515625 \nQ 37.359375 7.515625 41.375 12.890625 \nQ 45.40625 18.265625 45.40625 27.984375 \nz\nM 54.390625 6.78125 \nQ 54.390625 -7.171875 48.1875 -13.984375 \nQ 42 -20.796875 29.203125 -20.796875 \nQ 24.46875 -20.796875 20.265625 -20.09375 \nQ 16.0625 -19.390625 12.109375 -17.921875 \nL 12.109375 -9.1875 \nQ 16.0625 -11.328125 19.921875 -12.34375 \nQ 23.78125 -13.375 27.78125 -13.375 \nQ 36.625 -13.375 41.015625 -8.765625 \nQ 45.40625 -4.15625 45.40625 5.171875 \nL 45.40625 9.625 \nQ 42.625 4.78125 38.28125 2.390625 \nQ 33.9375 0 27.875 0 \nQ 17.828125 0 11.671875 7.65625 \nQ 5.515625 15.328125 5.515625 27.984375 \nQ 5.515625 40.671875 11.671875 48.328125 \nQ 17.828125 56 27.875 56 \nQ 33.9375 56 38.28125 53.609375 \nQ 42.625 51.21875 45.40625 46.390625 \nL 45.40625 54.6875 \nL 54.390625 54.6875 \nz\n\" id=\"DejaVuSans-103\"/>\n       <path d=\"M 32.171875 -5.078125 \nQ 28.375 -14.84375 24.75 -17.8125 \nQ 21.140625 -20.796875 15.09375 -20.796875 \nL 7.90625 -20.796875 \nL 7.90625 -13.28125 \nL 13.1875 -13.28125 \nQ 16.890625 -13.28125 18.9375 -11.515625 \nQ 21 -9.765625 23.484375 -3.21875 \nL 25.09375 0.875 \nL 2.984375 54.6875 \nL 12.5 54.6875 \nL 29.59375 11.921875 \nL 46.6875 54.6875 \nL 56.203125 54.6875 \nz\n\" id=\"DejaVuSans-121\"/>\n       <path id=\"DejaVuSans-32\"/>\n       <path d=\"M 31 75.875 \nQ 24.46875 64.65625 21.28125 53.65625 \nQ 18.109375 42.671875 18.109375 31.390625 \nQ 18.109375 20.125 21.3125 9.0625 \nQ 24.515625 -2 31 -13.1875 \nL 23.1875 -13.1875 \nQ 15.875 -1.703125 12.234375 9.375 \nQ 8.59375 20.453125 8.59375 31.390625 \nQ 8.59375 42.28125 12.203125 53.3125 \nQ 15.828125 64.359375 23.1875 75.875 \nz\n\" id=\"DejaVuSans-40\"/>\n       <path d=\"M 9.078125 75.984375 \nL 18.109375 75.984375 \nL 18.109375 31.109375 \nL 44.921875 54.6875 \nL 56.390625 54.6875 \nL 27.390625 29.109375 \nL 57.625 0 \nL 45.90625 0 \nL 18.109375 26.703125 \nL 18.109375 0 \nL 9.078125 0 \nz\n\" id=\"DejaVuSans-107\"/>\n       <path d=\"M 28.609375 0 \nL 0.78125 72.90625 \nL 11.078125 72.90625 \nL 34.1875 11.53125 \nL 57.328125 72.90625 \nL 67.578125 72.90625 \nL 39.796875 0 \nz\n\" id=\"DejaVuSans-86\"/>\n       <path d=\"M 8.015625 75.875 \nL 15.828125 75.875 \nQ 23.140625 64.359375 26.78125 53.3125 \nQ 30.421875 42.28125 30.421875 31.390625 \nQ 30.421875 20.453125 26.78125 9.375 \nQ 23.140625 -1.703125 15.828125 -13.1875 \nL 8.015625 -13.1875 \nQ 14.5 -2 17.703125 9.0625 \nQ 20.90625 20.125 20.90625 31.390625 \nQ 20.90625 42.671875 17.703125 53.65625 \nQ 14.5 64.65625 8.015625 75.875 \nz\n\" id=\"DejaVuSans-41\"/>\n      </defs>\n      <use xlink:href=\"#DejaVuSans-69\"/>\n      <use x=\"63.183594\" xlink:href=\"#DejaVuSans-110\"/>\n      <use x=\"126.5625\" xlink:href=\"#DejaVuSans-101\"/>\n      <use x=\"188.085938\" xlink:href=\"#DejaVuSans-114\"/>\n      <use x=\"227.449219\" xlink:href=\"#DejaVuSans-103\"/>\n      <use x=\"290.925781\" xlink:href=\"#DejaVuSans-121\"/>\n      <use x=\"350.105469\" xlink:href=\"#DejaVuSans-32\"/>\n      <use x=\"381.892578\" xlink:href=\"#DejaVuSans-40\"/>\n      <use x=\"420.90625\" xlink:href=\"#DejaVuSans-107\"/>\n      <use x=\"475.191406\" xlink:href=\"#DejaVuSans-101\"/>\n      <use x=\"536.714844\" xlink:href=\"#DejaVuSans-86\"/>\n      <use x=\"605.123047\" xlink:href=\"#DejaVuSans-41\"/>\n     </g>\n    </g>\n   </g>\n   <g id=\"matplotlib.axis_2\">\n    <g id=\"ytick_1\">\n     <g id=\"line2d_10\">\n      <defs>\n       <path d=\"M 0 0 \nL -3.5 0 \n\" id=\"m8cba396fed\" style=\"stroke:#000000;stroke-width:0.8;\"/>\n      </defs>\n      <g>\n       <use style=\"stroke:#000000;stroke-width:0.8;\" x=\"53.328125\" xlink:href=\"#m8cba396fed\" y=\"197.277891\"/>\n      </g>\n     </g>\n     <g id=\"text_11\">\n      <!-- 1000 -->\n      <g transform=\"translate(20.878125 201.077109)scale(0.1 -0.1)\">\n       <use xlink:href=\"#DejaVuSans-49\"/>\n       <use x=\"63.623047\" xlink:href=\"#DejaVuSans-48\"/>\n       <use x=\"127.246094\" xlink:href=\"#DejaVuSans-48\"/>\n       <use x=\"190.869141\" xlink:href=\"#DejaVuSans-48\"/>\n      </g>\n     </g>\n    </g>\n    <g id=\"ytick_2\">\n     <g id=\"line2d_11\">\n      <g>\n       <use style=\"stroke:#000000;stroke-width:0.8;\" x=\"53.328125\" xlink:href=\"#m8cba396fed\" y=\"169.902093\"/>\n      </g>\n     </g>\n     <g id=\"text_12\">\n      <!-- 2000 -->\n      <g transform=\"translate(20.878125 173.701312)scale(0.1 -0.1)\">\n       <use xlink:href=\"#DejaVuSans-50\"/>\n       <use x=\"63.623047\" xlink:href=\"#DejaVuSans-48\"/>\n       <use x=\"127.246094\" xlink:href=\"#DejaVuSans-48\"/>\n       <use x=\"190.869141\" xlink:href=\"#DejaVuSans-48\"/>\n      </g>\n     </g>\n    </g>\n    <g id=\"ytick_3\">\n     <g id=\"line2d_12\">\n      <g>\n       <use style=\"stroke:#000000;stroke-width:0.8;\" x=\"53.328125\" xlink:href=\"#m8cba396fed\" y=\"142.526296\"/>\n      </g>\n     </g>\n     <g id=\"text_13\">\n      <!-- 3000 -->\n      <g transform=\"translate(20.878125 146.325515)scale(0.1 -0.1)\">\n       <defs>\n        <path d=\"M 40.578125 39.3125 \nQ 47.65625 37.796875 51.625 33 \nQ 55.609375 28.21875 55.609375 21.1875 \nQ 55.609375 10.40625 48.1875 4.484375 \nQ 40.765625 -1.421875 27.09375 -1.421875 \nQ 22.515625 -1.421875 17.65625 -0.515625 \nQ 12.796875 0.390625 7.625 2.203125 \nL 7.625 11.71875 \nQ 11.71875 9.328125 16.59375 8.109375 \nQ 21.484375 6.890625 26.8125 6.890625 \nQ 36.078125 6.890625 40.9375 10.546875 \nQ 45.796875 14.203125 45.796875 21.1875 \nQ 45.796875 27.640625 41.28125 31.265625 \nQ 36.765625 34.90625 28.71875 34.90625 \nL 20.21875 34.90625 \nL 20.21875 43.015625 \nL 29.109375 43.015625 \nQ 36.375 43.015625 40.234375 45.921875 \nQ 44.09375 48.828125 44.09375 54.296875 \nQ 44.09375 59.90625 40.109375 62.90625 \nQ 36.140625 65.921875 28.71875 65.921875 \nQ 24.65625 65.921875 20.015625 65.03125 \nQ 15.375 64.15625 9.8125 62.3125 \nL 9.8125 71.09375 \nQ 15.4375 72.65625 20.34375 73.4375 \nQ 25.25 74.21875 29.59375 74.21875 \nQ 40.828125 74.21875 47.359375 69.109375 \nQ 53.90625 64.015625 53.90625 55.328125 \nQ 53.90625 49.265625 50.4375 45.09375 \nQ 46.96875 40.921875 40.578125 39.3125 \nz\n\" id=\"DejaVuSans-51\"/>\n       </defs>\n       <use xlink:href=\"#DejaVuSans-51\"/>\n       <use x=\"63.623047\" xlink:href=\"#DejaVuSans-48\"/>\n       <use x=\"127.246094\" xlink:href=\"#DejaVuSans-48\"/>\n       <use x=\"190.869141\" xlink:href=\"#DejaVuSans-48\"/>\n      </g>\n     </g>\n    </g>\n    <g id=\"ytick_4\">\n     <g id=\"line2d_13\">\n      <g>\n       <use style=\"stroke:#000000;stroke-width:0.8;\" x=\"53.328125\" xlink:href=\"#m8cba396fed\" y=\"115.150498\"/>\n      </g>\n     </g>\n     <g id=\"text_14\">\n      <!-- 4000 -->\n      <g transform=\"translate(20.878125 118.949717)scale(0.1 -0.1)\">\n       <defs>\n        <path d=\"M 37.796875 64.3125 \nL 12.890625 25.390625 \nL 37.796875 25.390625 \nz\nM 35.203125 72.90625 \nL 47.609375 72.90625 \nL 47.609375 25.390625 \nL 58.015625 25.390625 \nL 58.015625 17.1875 \nL 47.609375 17.1875 \nL 47.609375 0 \nL 37.796875 0 \nL 37.796875 17.1875 \nL 4.890625 17.1875 \nL 4.890625 26.703125 \nz\n\" id=\"DejaVuSans-52\"/>\n       </defs>\n       <use xlink:href=\"#DejaVuSans-52\"/>\n       <use x=\"63.623047\" xlink:href=\"#DejaVuSans-48\"/>\n       <use x=\"127.246094\" xlink:href=\"#DejaVuSans-48\"/>\n       <use x=\"190.869141\" xlink:href=\"#DejaVuSans-48\"/>\n      </g>\n     </g>\n    </g>\n    <g id=\"ytick_5\">\n     <g id=\"line2d_14\">\n      <g>\n       <use style=\"stroke:#000000;stroke-width:0.8;\" x=\"53.328125\" xlink:href=\"#m8cba396fed\" y=\"87.774701\"/>\n      </g>\n     </g>\n     <g id=\"text_15\">\n      <!-- 5000 -->\n      <g transform=\"translate(20.878125 91.57392)scale(0.1 -0.1)\">\n       <use xlink:href=\"#DejaVuSans-53\"/>\n       <use x=\"63.623047\" xlink:href=\"#DejaVuSans-48\"/>\n       <use x=\"127.246094\" xlink:href=\"#DejaVuSans-48\"/>\n       <use x=\"190.869141\" xlink:href=\"#DejaVuSans-48\"/>\n      </g>\n     </g>\n    </g>\n    <g id=\"ytick_6\">\n     <g id=\"line2d_15\">\n      <g>\n       <use style=\"stroke:#000000;stroke-width:0.8;\" x=\"53.328125\" xlink:href=\"#m8cba396fed\" y=\"60.398904\"/>\n      </g>\n     </g>\n     <g id=\"text_16\">\n      <!-- 6000 -->\n      <g transform=\"translate(20.878125 64.198122)scale(0.1 -0.1)\">\n       <defs>\n        <path d=\"M 33.015625 40.375 \nQ 26.375 40.375 22.484375 35.828125 \nQ 18.609375 31.296875 18.609375 23.390625 \nQ 18.609375 15.53125 22.484375 10.953125 \nQ 26.375 6.390625 33.015625 6.390625 \nQ 39.65625 6.390625 43.53125 10.953125 \nQ 47.40625 15.53125 47.40625 23.390625 \nQ 47.40625 31.296875 43.53125 35.828125 \nQ 39.65625 40.375 33.015625 40.375 \nz\nM 52.59375 71.296875 \nL 52.59375 62.3125 \nQ 48.875 64.0625 45.09375 64.984375 \nQ 41.3125 65.921875 37.59375 65.921875 \nQ 27.828125 65.921875 22.671875 59.328125 \nQ 17.53125 52.734375 16.796875 39.40625 \nQ 19.671875 43.65625 24.015625 45.921875 \nQ 28.375 48.1875 33.59375 48.1875 \nQ 44.578125 48.1875 50.953125 41.515625 \nQ 57.328125 34.859375 57.328125 23.390625 \nQ 57.328125 12.15625 50.6875 5.359375 \nQ 44.046875 -1.421875 33.015625 -1.421875 \nQ 20.359375 -1.421875 13.671875 8.265625 \nQ 6.984375 17.96875 6.984375 36.375 \nQ 6.984375 53.65625 15.1875 63.9375 \nQ 23.390625 74.21875 37.203125 74.21875 \nQ 40.921875 74.21875 44.703125 73.484375 \nQ 48.484375 72.75 52.59375 71.296875 \nz\n\" id=\"DejaVuSans-54\"/>\n       </defs>\n       <use xlink:href=\"#DejaVuSans-54\"/>\n       <use x=\"63.623047\" xlink:href=\"#DejaVuSans-48\"/>\n       <use x=\"127.246094\" xlink:href=\"#DejaVuSans-48\"/>\n       <use x=\"190.869141\" xlink:href=\"#DejaVuSans-48\"/>\n      </g>\n     </g>\n    </g>\n    <g id=\"ytick_7\">\n     <g id=\"line2d_16\">\n      <g>\n       <use style=\"stroke:#000000;stroke-width:0.8;\" x=\"53.328125\" xlink:href=\"#m8cba396fed\" y=\"33.023106\"/>\n      </g>\n     </g>\n     <g id=\"text_17\">\n      <!-- 7000 -->\n      <g transform=\"translate(20.878125 36.822325)scale(0.1 -0.1)\">\n       <use xlink:href=\"#DejaVuSans-55\"/>\n       <use x=\"63.623047\" xlink:href=\"#DejaVuSans-48\"/>\n       <use x=\"127.246094\" xlink:href=\"#DejaVuSans-48\"/>\n       <use x=\"190.869141\" xlink:href=\"#DejaVuSans-48\"/>\n      </g>\n     </g>\n    </g>\n    <g id=\"text_18\">\n     <!-- Counts / (56.3 eV kg days) -->\n     <g transform=\"translate(14.798438 182.405937)rotate(-90)scale(0.1 -0.1)\">\n      <defs>\n       <path d=\"M 64.40625 67.28125 \nL 64.40625 56.890625 \nQ 59.421875 61.53125 53.78125 63.8125 \nQ 48.140625 66.109375 41.796875 66.109375 \nQ 29.296875 66.109375 22.65625 58.46875 \nQ 16.015625 50.828125 16.015625 36.375 \nQ 16.015625 21.96875 22.65625 14.328125 \nQ 29.296875 6.6875 41.796875 6.6875 \nQ 48.140625 6.6875 53.78125 8.984375 \nQ 59.421875 11.28125 64.40625 15.921875 \nL 64.40625 5.609375 \nQ 59.234375 2.09375 53.4375 0.328125 \nQ 47.65625 -1.421875 41.21875 -1.421875 \nQ 24.65625 -1.421875 15.125 8.703125 \nQ 5.609375 18.84375 5.609375 36.375 \nQ 5.609375 53.953125 15.125 64.078125 \nQ 24.65625 74.21875 41.21875 74.21875 \nQ 47.75 74.21875 53.53125 72.484375 \nQ 59.328125 70.75 64.40625 67.28125 \nz\n\" id=\"DejaVuSans-67\"/>\n       <path d=\"M 30.609375 48.390625 \nQ 23.390625 48.390625 19.1875 42.75 \nQ 14.984375 37.109375 14.984375 27.296875 \nQ 14.984375 17.484375 19.15625 11.84375 \nQ 23.34375 6.203125 30.609375 6.203125 \nQ 37.796875 6.203125 41.984375 11.859375 \nQ 46.1875 17.53125 46.1875 27.296875 \nQ 46.1875 37.015625 41.984375 42.703125 \nQ 37.796875 48.390625 30.609375 48.390625 \nz\nM 30.609375 56 \nQ 42.328125 56 49.015625 48.375 \nQ 55.71875 40.765625 55.71875 27.296875 \nQ 55.71875 13.875 49.015625 6.21875 \nQ 42.328125 -1.421875 30.609375 -1.421875 \nQ 18.84375 -1.421875 12.171875 6.21875 \nQ 5.515625 13.875 5.515625 27.296875 \nQ 5.515625 40.765625 12.171875 48.375 \nQ 18.84375 56 30.609375 56 \nz\n\" id=\"DejaVuSans-111\"/>\n       <path d=\"M 8.5 21.578125 \nL 8.5 54.6875 \nL 17.484375 54.6875 \nL 17.484375 21.921875 \nQ 17.484375 14.15625 20.5 10.265625 \nQ 23.53125 6.390625 29.59375 6.390625 \nQ 36.859375 6.390625 41.078125 11.03125 \nQ 45.3125 15.671875 45.3125 23.6875 \nL 45.3125 54.6875 \nL 54.296875 54.6875 \nL 54.296875 0 \nL 45.3125 0 \nL 45.3125 8.40625 \nQ 42.046875 3.421875 37.71875 1 \nQ 33.40625 -1.421875 27.6875 -1.421875 \nQ 18.265625 -1.421875 13.375 4.4375 \nQ 8.5 10.296875 8.5 21.578125 \nz\nM 31.109375 56 \nz\n\" id=\"DejaVuSans-117\"/>\n       <path d=\"M 18.3125 70.21875 \nL 18.3125 54.6875 \nL 36.8125 54.6875 \nL 36.8125 47.703125 \nL 18.3125 47.703125 \nL 18.3125 18.015625 \nQ 18.3125 11.328125 20.140625 9.421875 \nQ 21.96875 7.515625 27.59375 7.515625 \nL 36.8125 7.515625 \nL 36.8125 0 \nL 27.59375 0 \nQ 17.1875 0 13.234375 3.875 \nQ 9.28125 7.765625 9.28125 18.015625 \nL 9.28125 47.703125 \nL 2.6875 47.703125 \nL 2.6875 54.6875 \nL 9.28125 54.6875 \nL 9.28125 70.21875 \nz\n\" id=\"DejaVuSans-116\"/>\n       <path d=\"M 44.28125 53.078125 \nL 44.28125 44.578125 \nQ 40.484375 46.53125 36.375 47.5 \nQ 32.28125 48.484375 27.875 48.484375 \nQ 21.1875 48.484375 17.84375 46.4375 \nQ 14.5 44.390625 14.5 40.28125 \nQ 14.5 37.15625 16.890625 35.375 \nQ 19.28125 33.59375 26.515625 31.984375 \nL 29.59375 31.296875 \nQ 39.15625 29.25 43.1875 25.515625 \nQ 47.21875 21.78125 47.21875 15.09375 \nQ 47.21875 7.46875 41.1875 3.015625 \nQ 35.15625 -1.421875 24.609375 -1.421875 \nQ 20.21875 -1.421875 15.453125 -0.5625 \nQ 10.6875 0.296875 5.421875 2 \nL 5.421875 11.28125 \nQ 10.40625 8.6875 15.234375 7.390625 \nQ 20.0625 6.109375 24.8125 6.109375 \nQ 31.15625 6.109375 34.5625 8.28125 \nQ 37.984375 10.453125 37.984375 14.40625 \nQ 37.984375 18.0625 35.515625 20.015625 \nQ 33.0625 21.96875 24.703125 23.78125 \nL 21.578125 24.515625 \nQ 13.234375 26.265625 9.515625 29.90625 \nQ 5.8125 33.546875 5.8125 39.890625 \nQ 5.8125 47.609375 11.28125 51.796875 \nQ 16.75 56 26.8125 56 \nQ 31.78125 56 36.171875 55.265625 \nQ 40.578125 54.546875 44.28125 53.078125 \nz\n\" id=\"DejaVuSans-115\"/>\n       <path d=\"M 25.390625 72.90625 \nL 33.6875 72.90625 \nL 8.296875 -9.28125 \nL 0 -9.28125 \nz\n\" id=\"DejaVuSans-47\"/>\n       <path d=\"M 45.40625 46.390625 \nL 45.40625 75.984375 \nL 54.390625 75.984375 \nL 54.390625 0 \nL 45.40625 0 \nL 45.40625 8.203125 \nQ 42.578125 3.328125 38.25 0.953125 \nQ 33.9375 -1.421875 27.875 -1.421875 \nQ 17.96875 -1.421875 11.734375 6.484375 \nQ 5.515625 14.40625 5.515625 27.296875 \nQ 5.515625 40.1875 11.734375 48.09375 \nQ 17.96875 56 27.875 56 \nQ 33.9375 56 38.25 53.625 \nQ 42.578125 51.265625 45.40625 46.390625 \nz\nM 14.796875 27.296875 \nQ 14.796875 17.390625 18.875 11.75 \nQ 22.953125 6.109375 30.078125 6.109375 \nQ 37.203125 6.109375 41.296875 11.75 \nQ 45.40625 17.390625 45.40625 27.296875 \nQ 45.40625 37.203125 41.296875 42.84375 \nQ 37.203125 48.484375 30.078125 48.484375 \nQ 22.953125 48.484375 18.875 42.84375 \nQ 14.796875 37.203125 14.796875 27.296875 \nz\n\" id=\"DejaVuSans-100\"/>\n       <path d=\"M 34.28125 27.484375 \nQ 23.390625 27.484375 19.1875 25 \nQ 14.984375 22.515625 14.984375 16.5 \nQ 14.984375 11.71875 18.140625 8.90625 \nQ 21.296875 6.109375 26.703125 6.109375 \nQ 34.1875 6.109375 38.703125 11.40625 \nQ 43.21875 16.703125 43.21875 25.484375 \nL 43.21875 27.484375 \nz\nM 52.203125 31.203125 \nL 52.203125 0 \nL 43.21875 0 \nL 43.21875 8.296875 \nQ 40.140625 3.328125 35.546875 0.953125 \nQ 30.953125 -1.421875 24.3125 -1.421875 \nQ 15.921875 -1.421875 10.953125 3.296875 \nQ 6 8.015625 6 15.921875 \nQ 6 25.140625 12.171875 29.828125 \nQ 18.359375 34.515625 30.609375 34.515625 \nL 43.21875 34.515625 \nL 43.21875 35.40625 \nQ 43.21875 41.609375 39.140625 45 \nQ 35.0625 48.390625 27.6875 48.390625 \nQ 23 48.390625 18.546875 47.265625 \nQ 14.109375 46.140625 10.015625 43.890625 \nL 10.015625 52.203125 \nQ 14.9375 54.109375 19.578125 55.046875 \nQ 24.21875 56 28.609375 56 \nQ 40.484375 56 46.34375 49.84375 \nQ 52.203125 43.703125 52.203125 31.203125 \nz\n\" id=\"DejaVuSans-97\"/>\n      </defs>\n      <use xlink:href=\"#DejaVuSans-67\"/>\n      <use x=\"69.824219\" xlink:href=\"#DejaVuSans-111\"/>\n      <use x=\"131.005859\" xlink:href=\"#DejaVuSans-117\"/>\n      <use x=\"194.384766\" xlink:href=\"#DejaVuSans-110\"/>\n      <use x=\"257.763672\" xlink:href=\"#DejaVuSans-116\"/>\n      <use x=\"296.972656\" xlink:href=\"#DejaVuSans-115\"/>\n      <use x=\"349.072266\" xlink:href=\"#DejaVuSans-32\"/>\n      <use x=\"380.859375\" xlink:href=\"#DejaVuSans-47\"/>\n      <use x=\"414.550781\" xlink:href=\"#DejaVuSans-32\"/>\n      <use x=\"446.337891\" xlink:href=\"#DejaVuSans-40\"/>\n      <use x=\"485.351562\" xlink:href=\"#DejaVuSans-53\"/>\n      <use x=\"548.974609\" xlink:href=\"#DejaVuSans-54\"/>\n      <use x=\"612.597656\" xlink:href=\"#DejaVuSans-46\"/>\n      <use x=\"644.384766\" xlink:href=\"#DejaVuSans-51\"/>\n      <use x=\"708.007812\" xlink:href=\"#DejaVuSans-32\"/>\n      <use x=\"739.794922\" xlink:href=\"#DejaVuSans-101\"/>\n      <use x=\"801.318359\" xlink:href=\"#DejaVuSans-86\"/>\n      <use x=\"869.726562\" xlink:href=\"#DejaVuSans-32\"/>\n      <use x=\"901.513672\" xlink:href=\"#DejaVuSans-107\"/>\n      <use x=\"959.423828\" xlink:href=\"#DejaVuSans-103\"/>\n      <use x=\"1022.900391\" xlink:href=\"#DejaVuSans-32\"/>\n      <use x=\"1054.6875\" xlink:href=\"#DejaVuSans-100\"/>\n      <use x=\"1118.164062\" xlink:href=\"#DejaVuSans-97\"/>\n      <use x=\"1179.443359\" xlink:href=\"#DejaVuSans-121\"/>\n      <use x=\"1238.623047\" xlink:href=\"#DejaVuSans-115\"/>\n      <use x=\"1290.722656\" xlink:href=\"#DejaVuSans-41\"/>\n     </g>\n    </g>\n   </g>\n   <g id=\"patch_3\">\n    <path clip-path=\"url(#p968512283f)\" d=\"M 53.328125 224.653688 \nL 149.524181 224.653688 \nL 149.524181 222.17779 \nL 150.46728 222.17779 \nL 150.46728 175.542599 \nL 151.410379 175.542599 \nL 151.410379 179.568098 \nL 152.353477 179.568098 \nL 152.353477 182.624015 \nL 153.296576 182.624015 \nL 153.296576 185.091256 \nL 154.239674 185.091256 \nL 154.239674 187.445957 \nL 155.182773 187.445957 \nL 155.182773 189.437064 \nL 156.125871 189.437064 \nL 156.125871 191.168461 \nL 157.06897 191.168461 \nL 157.06897 193.072998 \nL 158.012069 193.072998 \nL 158.012069 194.890966 \nL 158.955167 194.890966 \nL 158.955167 195.566211 \nL 159.898266 195.566211 \nL 159.898266 197.358207 \nL 160.841364 197.358207 \nL 160.841364 199.323343 \nL 161.784463 199.323343 \nL 161.784463 200.734432 \nL 162.727562 200.734432 \nL 162.727562 201.002799 \nL 163.67066 201.002799 \nL 163.67066 203.478697 \nL 164.613759 203.478697 \nL 164.613759 203.773035 \nL 165.556857 203.773035 \nL 165.556857 205.383234 \nL 166.499956 205.383234 \nL 166.499956 206.093107 \nL 167.443055 206.093107 \nL 167.443055 207.253144 \nL 168.386153 207.253144 \nL 168.386153 208.162127 \nL 169.329252 208.162127 \nL 169.329252 209.356791 \nL 170.27235 209.356791 \nL 170.27235 210.239804 \nL 171.215449 210.239804 \nL 171.215449 210.793851 \nL 172.158548 210.793851 \nL 172.158548 211.20073 \nL 173.101646 211.20073 \nL 173.101646 212.507935 \nL 174.044745 212.507935 \nL 174.044745 213.390947 \nL 174.987843 213.390947 \nL 174.987843 213.737227 \nL 175.930942 213.737227 \nL 175.930942 214.923234 \nL 176.87404 214.923234 \nL 176.87404 215.148316 \nL 177.817139 215.148316 \nL 177.817139 215.581165 \nL 178.760238 215.581165 \nL 178.760238 215.936102 \nL 179.703336 215.936102 \nL 179.703336 216.334323 \nL 180.646435 216.334323 \nL 180.646435 217.312563 \nL 182.532632 217.243307 \nL 182.532632 217.987808 \nL 184.418829 218.022436 \nL 184.418829 218.637082 \nL 185.361928 218.637082 \nL 185.361928 218.95739 \nL 186.305026 218.95739 \nL 186.305026 219.329641 \nL 187.248125 219.329641 \nL 187.248125 219.459496 \nL 189.134322 219.537408 \nL 189.134322 219.961601 \nL 190.077421 219.961601 \nL 190.077421 220.377136 \nL 191.020519 220.377136 \nL 191.020519 220.905212 \nL 191.963618 220.905212 \nL 191.963618 220.65416 \nL 192.906717 220.65416 \nL 192.906717 221.017753 \nL 193.849815 221.017753 \nL 193.849815 220.887898 \nL 194.792914 220.887898 \nL 194.792914 221.087009 \nL 195.736012 221.087009 \nL 195.736012 221.45926 \nL 196.679111 221.45926 \nL 196.679111 221.883452 \nL 197.62221 221.883452 \nL 197.62221 221.74494 \nL 199.508407 221.675684 \nL 199.508407 222.073906 \nL 200.451505 222.073906 \nL 200.451505 222.255702 \nL 201.394604 222.255702 \nL 201.394604 222.679895 \nL 202.337702 222.679895 \nL 202.337702 222.567354 \nL 203.280801 222.567354 \nL 203.280801 222.835721 \nL 205.166998 222.870349 \nL 205.166998 222.567354 \nL 206.110097 222.567354 \nL 206.110097 222.982889 \nL 207.053195 222.982889 \nL 207.053195 223.320512 \nL 207.996294 223.320512 \nL 207.996294 223.199314 \nL 211.768688 223.190657 \nL 211.768688 223.597535 \nL 215.541083 223.692762 \nL 215.541083 223.831274 \nL 222.142773 223.822617 \nL 222.142773 223.701419 \nL 223.085871 223.701419 \nL 223.085871 223.294541 \nL 224.02897 223.294541 \nL 224.02897 222.324958 \nL 224.972069 222.324958 \nL 224.972069 220.85327 \nL 225.915167 220.85327 \nL 225.915167 217.909895 \nL 226.858266 217.909895 \nL 226.858266 211.772091 \nL 227.801364 211.772091 \nL 227.801364 202.413888 \nL 228.744463 202.413888 \nL 228.744463 189.817971 \nL 229.687562 189.817971 \nL 229.687562 177.490421 \nL 230.63066 177.490421 \nL 230.63066 160.029278 \nL 231.573759 160.029278 \nL 231.573759 144.039823 \nL 232.516857 144.039823 \nL 232.516857 132.924251 \nL 233.459956 132.924251 \nL 233.459956 126.829732 \nL 234.403055 126.829732 \nL 234.403055 130.664777 \nL 235.346153 130.664777 \nL 235.346153 137.867391 \nL 236.289252 137.867391 \nL 236.289252 152.895921 \nL 237.23235 152.895921 \nL 237.23235 168.764178 \nL 238.175449 168.764178 \nL 238.175449 185.567391 \nL 239.118548 185.567391 \nL 239.118548 198.70004 \nL 240.061646 198.70004 \nL 240.061646 208.949913 \nL 241.004745 208.949913 \nL 241.004745 215.88416 \nL 241.947843 215.88416 \nL 241.947843 219.182472 \nL 242.890942 219.182472 \nL 242.890942 222.264359 \nL 243.83404 222.264359 \nL 243.83404 223.554251 \nL 244.777139 223.554251 \nL 244.777139 224.099641 \nL 245.720238 224.099641 \nL 245.720238 224.316065 \nL 246.663336 224.316065 \nL 246.663336 224.480548 \nL 260.809815 224.584432 \nL 260.809815 224.601746 \nL 388.128125 224.653688 \nL 388.128125 224.653688 \n\" style=\"fill:none;stroke:#1f77b4;stroke-linejoin:miter;\"/>\n   </g>\n   <g id=\"patch_4\">\n    <path clip-path=\"url(#p968512283f)\" d=\"M 53.328125 224.653688 \nL 84.450379 224.653688 \nL 84.450379 224.120416 \nL 85.393477 224.120416 \nL 85.393477 222.840014 \nL 86.336576 222.840014 \nL 86.336576 223.049403 \nL 87.279674 223.049403 \nL 87.279674 223.185214 \nL 88.222773 223.185214 \nL 88.222773 223.373973 \nL 89.165871 223.373973 \nL 89.165871 223.507033 \nL 90.10897 223.507033 \nL 90.10897 223.634248 \nL 91.995167 223.709202 \nL 91.995167 223.80341 \nL 93.881364 223.910339 \nL 93.881364 223.983574 \nL 95.767562 224.059215 \nL 95.767562 224.122823 \nL 98.596857 224.201559 \nL 98.596857 224.266198 \nL 102.369252 224.359718 \nL 102.369252 224.377597 \nL 107.084745 224.477306 \nL 107.084745 224.497935 \nL 124.060519 224.608991 \nL 124.060519 224.610366 \nL 388.128125 224.653688 \nL 388.128125 224.653688 \n\" style=\"fill:none;stroke:#ff7f0e;stroke-linejoin:miter;\"/>\n   </g>\n   <g id=\"patch_5\">\n    <path clip-path=\"url(#p968512283f)\" d=\"M 53.328125 224.653688 \nL 96.71066 224.653688 \nL 96.71066 157.017218 \nL 97.653759 157.017218 \nL 97.653759 149.20599 \nL 98.596857 149.20599 \nL 98.596857 151.888819 \nL 99.539956 151.888819 \nL 99.539956 154.224887 \nL 100.483055 154.224887 \nL 100.483055 156.506203 \nL 101.426153 156.506203 \nL 101.426153 157.856742 \nL 102.369252 157.856742 \nL 102.369252 158.659766 \nL 103.31235 158.659766 \nL 103.31235 161.744106 \nL 104.255449 161.744106 \nL 104.255449 162.127367 \nL 105.198548 162.127367 \nL 105.198548 165.029201 \nL 106.141646 165.029201 \nL 106.141646 165.521966 \nL 107.084745 165.521966 \nL 107.084745 167.018509 \nL 108.027843 167.018509 \nL 108.027843 170.613864 \nL 108.970942 170.613864 \nL 108.970942 171.635894 \nL 109.91404 171.635894 \nL 109.91404 174.044964 \nL 110.857139 174.044964 \nL 110.857139 175.286 \nL 111.800238 175.286 \nL 111.800238 174.95749 \nL 112.743336 174.95749 \nL 112.743336 176.32628 \nL 113.686435 176.32628 \nL 113.686435 178.808353 \nL 114.629533 178.808353 \nL 114.629533 180.815911 \nL 115.572632 180.815911 \nL 115.572632 181.436429 \nL 116.515731 181.436429 \nL 116.515731 182.604463 \nL 117.458829 182.604463 \nL 117.458829 183.900251 \nL 118.401928 183.900251 \nL 118.401928 186.61958 \nL 119.345026 186.61958 \nL 119.345026 186.291071 \nL 120.288125 186.291071 \nL 120.288125 187.185347 \nL 121.231224 187.185347 \nL 121.231224 188.791393 \nL 122.174322 188.791393 \nL 122.174322 188.66364 \nL 123.117421 188.66364 \nL 123.117421 189.448412 \nL 124.060519 189.448412 \nL 124.060519 190.014179 \nL 125.003618 190.014179 \nL 125.003618 191.309967 \nL 125.946717 191.309967 \nL 125.946717 192.350247 \nL 126.889815 192.350247 \nL 126.889815 193.390527 \nL 127.832914 193.390527 \nL 127.832914 194.211801 \nL 128.776012 194.211801 \nL 128.776012 194.576812 \nL 129.719111 194.576812 \nL 129.719111 196.620871 \nL 130.66221 196.620871 \nL 130.66221 198.62843 \nL 131.605308 198.62843 \nL 131.605308 198.391173 \nL 132.548407 198.391173 \nL 132.548407 198.902188 \nL 133.491505 198.902188 \nL 133.491505 198.62843 \nL 135.377702 198.683181 \nL 135.377702 200.197976 \nL 136.320801 200.197976 \nL 136.320801 202.004778 \nL 137.2639 202.004778 \nL 137.2639 202.534044 \nL 138.206998 202.534044 \nL 138.206998 202.990307 \nL 139.150097 202.990307 \nL 139.150097 203.829831 \nL 140.093195 203.829831 \nL 140.093195 203.154562 \nL 141.036294 203.154562 \nL 141.036294 204.213093 \nL 141.979393 204.213093 \nL 141.979393 205.50888 \nL 143.86559 205.454129 \nL 143.86559 206.165899 \nL 144.808688 206.165899 \nL 144.808688 207.808447 \nL 145.751787 207.808447 \nL 145.751787 206.914171 \nL 146.694886 206.914171 \nL 146.694886 207.589441 \nL 147.637984 207.589441 \nL 147.637984 207.844948 \nL 148.581083 207.844948 \nL 148.581083 208.684473 \nL 149.524181 208.684473 \nL 149.524181 208.830477 \nL 150.46728 208.830477 \nL 150.46728 209.085984 \nL 151.410379 209.085984 \nL 151.410379 209.743004 \nL 153.296576 209.834256 \nL 153.296576 210.144515 \nL 154.239674 210.144515 \nL 154.239674 210.783284 \nL 155.182773 210.783284 \nL 155.182773 211.276048 \nL 156.125871 211.276048 \nL 156.125871 211.531556 \nL 157.06897 211.531556 \nL 157.06897 212.736091 \nL 158.012069 212.736091 \nL 158.012069 212.261577 \nL 158.955167 212.261577 \nL 158.955167 212.462333 \nL 159.898266 212.462333 \nL 159.898266 213.192354 \nL 160.841364 213.192354 \nL 160.841364 213.539114 \nL 162.727562 213.575615 \nL 162.727562 213.904125 \nL 163.67066 213.904125 \nL 163.67066 213.338358 \nL 164.613759 213.338358 \nL 164.613759 214.050129 \nL 165.556857 214.050129 \nL 165.556857 214.615896 \nL 166.499956 214.615896 \nL 166.499956 214.889654 \nL 167.443055 214.889654 \nL 167.443055 215.491921 \nL 168.386153 215.491921 \nL 168.386153 215.364167 \nL 171.215449 215.291165 \nL 171.215449 215.491921 \nL 172.158548 215.491921 \nL 172.158548 216.84246 \nL 173.101646 216.84246 \nL 173.101646 216.678206 \nL 174.044745 216.678206 \nL 174.044745 216.294944 \nL 174.987843 216.294944 \nL 174.987843 216.605203 \nL 175.930942 216.605203 \nL 175.930942 217.481229 \nL 176.87404 217.481229 \nL 176.87404 216.513951 \nL 177.817139 216.513951 \nL 177.817139 216.714707 \nL 178.760238 216.714707 \nL 178.760238 216.568702 \nL 179.703336 216.568702 \nL 179.703336 216.860711 \nL 180.646435 216.860711 \nL 180.646435 217.006715 \nL 182.532632 217.061467 \nL 182.532632 217.481229 \nL 183.475731 217.481229 \nL 183.475731 217.043216 \nL 185.361928 217.134469 \nL 185.361928 216.769458 \nL 186.305026 216.769458 \nL 186.305026 217.462978 \nL 188.191224 217.353475 \nL 188.191224 217.316974 \nL 189.134322 217.316974 \nL 189.134322 216.915463 \nL 190.077421 216.915463 \nL 190.077421 217.608983 \nL 191.020519 217.608983 \nL 191.020519 217.280473 \nL 191.963618 217.280473 \nL 191.963618 217.992244 \nL 192.906717 217.992244 \nL 192.906717 217.353475 \nL 193.849815 217.353475 \nL 193.849815 216.805959 \nL 194.792914 216.805959 \nL 194.792914 216.532201 \nL 195.736012 216.532201 \nL 195.736012 216.732957 \nL 196.679111 216.732957 \nL 196.679111 216.878961 \nL 197.62221 216.878961 \nL 197.62221 216.185441 \nL 198.565308 216.185441 \nL 198.565308 217.006715 \nL 199.508407 217.006715 \nL 199.508407 216.13069 \nL 200.451505 216.13069 \nL 200.451505 215.966435 \nL 201.394604 215.966435 \nL 201.394604 216.404448 \nL 202.337702 216.404448 \nL 202.337702 214.980906 \nL 203.280801 214.980906 \nL 203.280801 215.309416 \nL 204.2239 215.309416 \nL 204.2239 216.039437 \nL 205.166998 216.039437 \nL 205.166998 215.327666 \nL 206.110097 215.327666 \nL 206.110097 215.145161 \nL 207.053195 215.145161 \nL 207.053195 214.999157 \nL 207.996294 214.999157 \nL 207.996294 214.7619 \nL 208.939393 214.7619 \nL 208.939393 214.104881 \nL 209.882491 214.104881 \nL 209.882491 213.721619 \nL 211.768688 213.703369 \nL 211.768688 213.904125 \nL 212.711787 213.904125 \nL 212.711787 212.225076 \nL 213.654886 212.225076 \nL 213.654886 211.969568 \nL 214.597984 211.969568 \nL 214.597984 211.604558 \nL 215.541083 211.604558 \nL 215.541083 211.34905 \nL 216.484181 211.34905 \nL 216.484181 211.495055 \nL 217.42728 211.495055 \nL 217.42728 210.381772 \nL 218.370379 210.381772 \nL 218.370379 209.852507 \nL 219.313477 209.852507 \nL 219.313477 209.505747 \nL 220.256576 209.505747 \nL 220.256576 209.724753 \nL 221.199674 209.724753 \nL 221.199674 209.323241 \nL 223.085871 209.304991 \nL 223.085871 207.625942 \nL 224.02897 207.625942 \nL 224.02897 208.301212 \nL 224.972069 208.301212 \nL 224.972069 207.717195 \nL 225.915167 207.717195 \nL 225.915167 206.366655 \nL 226.858266 206.366655 \nL 226.858266 205.983394 \nL 227.801364 205.983394 \nL 227.801364 205.344625 \nL 228.744463 205.344625 \nL 228.744463 206.238902 \nL 229.687562 206.238902 \nL 229.687562 205.563632 \nL 230.63066 205.563632 \nL 230.63066 205.052617 \nL 231.573759 205.052617 \nL 231.573759 202.953806 \nL 232.516857 202.953806 \nL 232.516857 203.939335 \nL 233.459956 203.939335 \nL 233.459956 202.661797 \nL 234.403055 202.661797 \nL 234.403055 201.658018 \nL 235.346153 201.658018 \nL 235.346153 201.274757 \nL 236.289252 201.274757 \nL 236.289252 200.946247 \nL 237.23235 200.946247 \nL 237.23235 202.05953 \nL 238.175449 202.05953 \nL 238.175449 201.530264 \nL 239.118548 201.530264 \nL 239.118548 199.924218 \nL 240.061646 199.924218 \nL 240.061646 198.226918 \nL 241.004745 198.226918 \nL 241.004745 198.902188 \nL 241.947843 198.902188 \nL 241.947843 198.354672 \nL 242.890942 198.354672 \nL 242.890942 197.022383 \nL 243.83404 197.022383 \nL 243.83404 197.661152 \nL 245.720238 197.6064 \nL 245.720238 196.785126 \nL 246.663336 196.785126 \nL 246.663336 195.89085 \nL 247.606435 195.89085 \nL 247.606435 195.398086 \nL 248.549533 195.398086 \nL 248.549533 196.055105 \nL 249.492632 196.055105 \nL 249.492632 195.233831 \nL 251.378829 195.306833 \nL 251.378829 194.339555 \nL 252.321928 194.339555 \nL 252.321928 194.631563 \nL 253.265026 194.631563 \nL 253.265026 193.919793 \nL 254.208125 193.919793 \nL 254.208125 194.084048 \nL 255.151224 194.084048 \nL 255.151224 192.934264 \nL 256.094322 192.934264 \nL 256.094322 194.50381 \nL 257.037421 194.50381 \nL 257.037421 194.941822 \nL 257.980519 194.941822 \nL 257.980519 193.335776 \nL 258.923618 193.335776 \nL 258.923618 193.098519 \nL 259.866717 193.098519 \nL 259.866717 194.832319 \nL 260.809815 194.832319 \nL 260.809815 192.587504 \nL 261.752914 192.587504 \nL 261.752914 194.686315 \nL 262.696012 194.686315 \nL 262.696012 193.48178 \nL 263.639111 193.48178 \nL 263.639111 194.613313 \nL 264.58221 194.613313 \nL 264.58221 193.554782 \nL 265.525308 193.554782 \nL 265.525308 192.551003 \nL 266.468407 192.551003 \nL 266.468407 193.171521 \nL 267.411505 193.171521 \nL 267.411505 194.303054 \nL 269.297702 194.394307 \nL 269.297702 194.011045 \nL 270.240801 194.011045 \nL 270.240801 194.430808 \nL 272.126998 194.52206 \nL 272.126998 193.646035 \nL 273.070097 193.646035 \nL 273.070097 195.106077 \nL 274.013195 195.106077 \nL 274.013195 195.507589 \nL 274.956294 195.507589 \nL 274.956294 196.255861 \nL 275.899393 196.255861 \nL 275.899393 195.288583 \nL 276.842491 195.288583 \nL 276.842491 196.56612 \nL 277.78559 196.56612 \nL 277.78559 195.927351 \nL 278.728688 195.927351 \nL 278.728688 195.617092 \nL 279.671787 195.617092 \nL 279.671787 196.328863 \nL 280.614886 196.328863 \nL 280.614886 196.985882 \nL 281.557984 196.985882 \nL 281.557984 197.989661 \nL 282.501083 197.989661 \nL 282.501083 197.861908 \nL 283.444181 197.861908 \nL 283.444181 198.500676 \nL 284.38728 198.500676 \nL 284.38728 198.737933 \nL 285.330379 198.737933 \nL 285.330379 200.143224 \nL 286.273477 200.143224 \nL 286.273477 200.34398 \nL 287.216576 200.34398 \nL 287.216576 200.508235 \nL 288.159674 200.508235 \nL 288.159674 200.927997 \nL 289.102773 200.927997 \nL 289.102773 201.986528 \nL 290.045871 201.986528 \nL 290.045871 202.187284 \nL 290.98897 202.187284 \nL 290.98897 202.935555 \nL 291.932069 202.935555 \nL 291.932069 202.807802 \nL 293.818266 202.698298 \nL 293.818266 204.14009 \nL 294.761364 204.14009 \nL 294.761364 205.198621 \nL 296.647562 205.125619 \nL 296.647562 206.165899 \nL 297.59066 206.165899 \nL 297.59066 205.673135 \nL 298.533759 205.673135 \nL 298.533759 206.695165 \nL 299.476857 206.695165 \nL 299.476857 208.629721 \nL 300.419956 208.629721 \nL 300.419956 208.027454 \nL 302.306153 208.118706 \nL 302.306153 208.264711 \nL 303.249252 208.264711 \nL 303.249252 210.053263 \nL 304.19235 210.053263 \nL 304.19235 209.450995 \nL 306.078548 209.487496 \nL 306.078548 210.108014 \nL 307.021646 210.108014 \nL 307.021646 210.783284 \nL 307.964745 210.783284 \nL 307.964745 211.732312 \nL 309.850942 211.67756 \nL 309.850942 213.028099 \nL 310.79404 213.028099 \nL 310.79404 212.298078 \nL 311.737139 212.298078 \nL 311.737139 213.082851 \nL 312.680238 213.082851 \nL 312.680238 213.776371 \nL 313.623336 213.776371 \nL 313.623336 214.7619 \nL 314.566435 214.7619 \nL 314.566435 214.926155 \nL 316.452632 214.834902 \nL 316.452632 215.747428 \nL 318.338829 215.838681 \nL 318.338829 216.751208 \nL 320.225026 216.696456 \nL 320.225026 216.605203 \nL 321.168125 216.605203 \nL 321.168125 216.732957 \nL 322.111224 216.732957 \nL 322.111224 217.353475 \nL 323.054322 217.353475 \nL 323.054322 218.339004 \nL 325.883618 218.375505 \nL 325.883618 219.123777 \nL 327.769815 219.196779 \nL 327.769815 219.872049 \nL 328.712914 219.872049 \nL 328.712914 220.529068 \nL 329.656012 220.529068 \nL 329.656012 220.127556 \nL 331.54221 220.164057 \nL 331.54221 220.62032 \nL 332.485308 220.62032 \nL 332.485308 221.186087 \nL 335.314604 221.204337 \nL 335.314604 220.62032 \nL 336.257702 220.62032 \nL 336.257702 221.459845 \nL 337.200801 221.459845 \nL 337.200801 221.98911 \nL 338.1439 221.98911 \nL 338.1439 222.171616 \nL 340.030097 222.208117 \nL 340.030097 222.299369 \nL 340.973195 222.299369 \nL 340.973195 222.609628 \nL 342.859393 222.719132 \nL 342.859393 222.956388 \nL 345.688688 223.01114 \nL 345.688688 223.193645 \nL 346.631787 223.193645 \nL 346.631787 223.029391 \nL 348.517984 223.138894 \nL 348.517984 223.595157 \nL 349.461083 223.595157 \nL 349.461083 223.230146 \nL 350.404181 223.230146 \nL 350.404181 223.394401 \nL 351.34728 223.394401 \nL 351.34728 223.70466 \nL 356.062773 223.814163 \nL 356.062773 224.05142 \nL 357.94897 223.978418 \nL 357.94897 223.923667 \nL 358.892069 223.923667 \nL 358.892069 224.087921 \nL 359.835167 224.087921 \nL 359.835167 223.923667 \nL 360.778266 223.923667 \nL 360.778266 224.160924 \nL 362.664463 224.252176 \nL 362.664463 224.306928 \nL 366.436857 224.215675 \nL 366.436857 224.544185 \nL 367.379956 224.544185 \nL 367.379956 224.39818 \nL 374.924745 224.452932 \nL 374.924745 224.544185 \nL 388.128125 224.598936 \nL 388.128125 224.653688 \n\" style=\"fill:none;stroke:#2ca02c;stroke-linejoin:miter;\"/>\n   </g>\n   <g id=\"patch_6\">\n    <path d=\"M 53.328125 224.64 \nL 53.328125 7.2 \n\" style=\"fill:none;stroke:#000000;stroke-linecap:square;stroke-linejoin:miter;stroke-width:0.8;\"/>\n   </g>\n   <g id=\"patch_7\">\n    <path d=\"M 388.128125 224.64 \nL 388.128125 7.2 \n\" style=\"fill:none;stroke:#000000;stroke-linecap:square;stroke-linejoin:miter;stroke-width:0.8;\"/>\n   </g>\n   <g id=\"patch_8\">\n    <path d=\"M 53.328125 224.64 \nL 388.128125 224.64 \n\" style=\"fill:none;stroke:#000000;stroke-linecap:square;stroke-linejoin:miter;stroke-width:0.8;\"/>\n   </g>\n   <g id=\"patch_9\">\n    <path d=\"M 53.328125 7.2 \nL 388.128125 7.2 \n\" style=\"fill:none;stroke:#000000;stroke-linecap:square;stroke-linejoin:miter;stroke-width:0.8;\"/>\n   </g>\n   <g id=\"legend_1\">\n    <g id=\"patch_10\">\n     <path d=\"M 281.1875 59.234375 \nL 381.128125 59.234375 \nQ 383.128125 59.234375 383.128125 57.234375 \nL 383.128125 14.2 \nQ 383.128125 12.2 381.128125 12.2 \nL 281.1875 12.2 \nQ 279.1875 12.2 279.1875 14.2 \nL 279.1875 57.234375 \nQ 279.1875 59.234375 281.1875 59.234375 \nz\n\" style=\"fill:#ffffff;opacity:0.8;stroke:#cccccc;stroke-linejoin:miter;\"/>\n    </g>\n    <g id=\"patch_11\">\n     <path d=\"M 283.1875 23.798437 \nL 303.1875 23.798437 \nL 303.1875 16.798437 \nL 283.1875 16.798437 \nz\n\" style=\"fill:none;stroke:#1f77b4;stroke-linejoin:miter;\"/>\n    </g>\n    <g id=\"text_19\">\n     <!-- Experiment A -->\n     <g transform=\"translate(311.1875 23.798437)scale(0.1 -0.1)\">\n      <defs>\n       <path d=\"M 54.890625 54.6875 \nL 35.109375 28.078125 \nL 55.90625 0 \nL 45.3125 0 \nL 29.390625 21.484375 \nL 13.484375 0 \nL 2.875 0 \nL 24.125 28.609375 \nL 4.6875 54.6875 \nL 15.28125 54.6875 \nL 29.78125 35.203125 \nL 44.28125 54.6875 \nz\n\" id=\"DejaVuSans-120\"/>\n       <path d=\"M 18.109375 8.203125 \nL 18.109375 -20.796875 \nL 9.078125 -20.796875 \nL 9.078125 54.6875 \nL 18.109375 54.6875 \nL 18.109375 46.390625 \nQ 20.953125 51.265625 25.265625 53.625 \nQ 29.59375 56 35.59375 56 \nQ 45.5625 56 51.78125 48.09375 \nQ 58.015625 40.1875 58.015625 27.296875 \nQ 58.015625 14.40625 51.78125 6.484375 \nQ 45.5625 -1.421875 35.59375 -1.421875 \nQ 29.59375 -1.421875 25.265625 0.953125 \nQ 20.953125 3.328125 18.109375 8.203125 \nz\nM 48.6875 27.296875 \nQ 48.6875 37.203125 44.609375 42.84375 \nQ 40.53125 48.484375 33.40625 48.484375 \nQ 26.265625 48.484375 22.1875 42.84375 \nQ 18.109375 37.203125 18.109375 27.296875 \nQ 18.109375 17.390625 22.1875 11.75 \nQ 26.265625 6.109375 33.40625 6.109375 \nQ 40.53125 6.109375 44.609375 11.75 \nQ 48.6875 17.390625 48.6875 27.296875 \nz\n\" id=\"DejaVuSans-112\"/>\n       <path d=\"M 9.421875 54.6875 \nL 18.40625 54.6875 \nL 18.40625 0 \nL 9.421875 0 \nz\nM 9.421875 75.984375 \nL 18.40625 75.984375 \nL 18.40625 64.59375 \nL 9.421875 64.59375 \nz\n\" id=\"DejaVuSans-105\"/>\n       <path d=\"M 52 44.1875 \nQ 55.375 50.25 60.0625 53.125 \nQ 64.75 56 71.09375 56 \nQ 79.640625 56 84.28125 50.015625 \nQ 88.921875 44.046875 88.921875 33.015625 \nL 88.921875 0 \nL 79.890625 0 \nL 79.890625 32.71875 \nQ 79.890625 40.578125 77.09375 44.375 \nQ 74.3125 48.1875 68.609375 48.1875 \nQ 61.625 48.1875 57.5625 43.546875 \nQ 53.515625 38.921875 53.515625 30.90625 \nL 53.515625 0 \nL 44.484375 0 \nL 44.484375 32.71875 \nQ 44.484375 40.625 41.703125 44.40625 \nQ 38.921875 48.1875 33.109375 48.1875 \nQ 26.21875 48.1875 22.15625 43.53125 \nQ 18.109375 38.875 18.109375 30.90625 \nL 18.109375 0 \nL 9.078125 0 \nL 9.078125 54.6875 \nL 18.109375 54.6875 \nL 18.109375 46.1875 \nQ 21.1875 51.21875 25.484375 53.609375 \nQ 29.78125 56 35.6875 56 \nQ 41.65625 56 45.828125 52.96875 \nQ 50 49.953125 52 44.1875 \nz\n\" id=\"DejaVuSans-109\"/>\n       <path d=\"M 34.1875 63.1875 \nL 20.796875 26.90625 \nL 47.609375 26.90625 \nz\nM 28.609375 72.90625 \nL 39.796875 72.90625 \nL 67.578125 0 \nL 57.328125 0 \nL 50.6875 18.703125 \nL 17.828125 18.703125 \nL 11.1875 0 \nL 0.78125 0 \nz\n\" id=\"DejaVuSans-65\"/>\n      </defs>\n      <use xlink:href=\"#DejaVuSans-69\"/>\n      <use x=\"63.183594\" xlink:href=\"#DejaVuSans-120\"/>\n      <use x=\"122.363281\" xlink:href=\"#DejaVuSans-112\"/>\n      <use x=\"185.839844\" xlink:href=\"#DejaVuSans-101\"/>\n      <use x=\"247.363281\" xlink:href=\"#DejaVuSans-114\"/>\n      <use x=\"288.476562\" xlink:href=\"#DejaVuSans-105\"/>\n      <use x=\"316.259766\" xlink:href=\"#DejaVuSans-109\"/>\n      <use x=\"413.671875\" xlink:href=\"#DejaVuSans-101\"/>\n      <use x=\"475.195312\" xlink:href=\"#DejaVuSans-110\"/>\n      <use x=\"538.574219\" xlink:href=\"#DejaVuSans-116\"/>\n      <use x=\"577.783203\" xlink:href=\"#DejaVuSans-32\"/>\n      <use x=\"609.570312\" xlink:href=\"#DejaVuSans-65\"/>\n     </g>\n    </g>\n    <g id=\"patch_12\">\n     <path d=\"M 283.1875 38.476562 \nL 303.1875 38.476562 \nL 303.1875 31.476562 \nL 283.1875 31.476562 \nz\n\" style=\"fill:none;stroke:#ff7f0e;stroke-linejoin:miter;\"/>\n    </g>\n    <g id=\"text_20\">\n     <!-- Experiment B -->\n     <g transform=\"translate(311.1875 38.476562)scale(0.1 -0.1)\">\n      <defs>\n       <path d=\"M 19.671875 34.8125 \nL 19.671875 8.109375 \nL 35.5 8.109375 \nQ 43.453125 8.109375 47.28125 11.40625 \nQ 51.125 14.703125 51.125 21.484375 \nQ 51.125 28.328125 47.28125 31.5625 \nQ 43.453125 34.8125 35.5 34.8125 \nz\nM 19.671875 64.796875 \nL 19.671875 42.828125 \nL 34.28125 42.828125 \nQ 41.5 42.828125 45.03125 45.53125 \nQ 48.578125 48.25 48.578125 53.8125 \nQ 48.578125 59.328125 45.03125 62.0625 \nQ 41.5 64.796875 34.28125 64.796875 \nz\nM 9.8125 72.90625 \nL 35.015625 72.90625 \nQ 46.296875 72.90625 52.390625 68.21875 \nQ 58.5 63.53125 58.5 54.890625 \nQ 58.5 48.1875 55.375 44.234375 \nQ 52.25 40.28125 46.1875 39.3125 \nQ 53.46875 37.75 57.5 32.78125 \nQ 61.53125 27.828125 61.53125 20.40625 \nQ 61.53125 10.640625 54.890625 5.3125 \nQ 48.25 0 35.984375 0 \nL 9.8125 0 \nz\n\" id=\"DejaVuSans-66\"/>\n      </defs>\n      <use xlink:href=\"#DejaVuSans-69\"/>\n      <use x=\"63.183594\" xlink:href=\"#DejaVuSans-120\"/>\n      <use x=\"122.363281\" xlink:href=\"#DejaVuSans-112\"/>\n      <use x=\"185.839844\" xlink:href=\"#DejaVuSans-101\"/>\n      <use x=\"247.363281\" xlink:href=\"#DejaVuSans-114\"/>\n      <use x=\"288.476562\" xlink:href=\"#DejaVuSans-105\"/>\n      <use x=\"316.259766\" xlink:href=\"#DejaVuSans-109\"/>\n      <use x=\"413.671875\" xlink:href=\"#DejaVuSans-101\"/>\n      <use x=\"475.195312\" xlink:href=\"#DejaVuSans-110\"/>\n      <use x=\"538.574219\" xlink:href=\"#DejaVuSans-116\"/>\n      <use x=\"577.783203\" xlink:href=\"#DejaVuSans-32\"/>\n      <use x=\"609.570312\" xlink:href=\"#DejaVuSans-66\"/>\n     </g>\n    </g>\n    <g id=\"patch_13\">\n     <path d=\"M 283.1875 53.154687 \nL 303.1875 53.154687 \nL 303.1875 46.154687 \nL 283.1875 46.154687 \nz\n\" style=\"fill:none;stroke:#2ca02c;stroke-linejoin:miter;\"/>\n    </g>\n    <g id=\"text_21\">\n     <!-- Experiment C -->\n     <g transform=\"translate(311.1875 53.154687)scale(0.1 -0.1)\">\n      <use xlink:href=\"#DejaVuSans-69\"/>\n      <use x=\"63.183594\" xlink:href=\"#DejaVuSans-120\"/>\n      <use x=\"122.363281\" xlink:href=\"#DejaVuSans-112\"/>\n      <use x=\"185.839844\" xlink:href=\"#DejaVuSans-101\"/>\n      <use x=\"247.363281\" xlink:href=\"#DejaVuSans-114\"/>\n      <use x=\"288.476562\" xlink:href=\"#DejaVuSans-105\"/>\n      <use x=\"316.259766\" xlink:href=\"#DejaVuSans-109\"/>\n      <use x=\"413.671875\" xlink:href=\"#DejaVuSans-101\"/>\n      <use x=\"475.195312\" xlink:href=\"#DejaVuSans-110\"/>\n      <use x=\"538.574219\" xlink:href=\"#DejaVuSans-116\"/>\n      <use x=\"577.783203\" xlink:href=\"#DejaVuSans-32\"/>\n      <use x=\"609.570312\" xlink:href=\"#DejaVuSans-67\"/>\n     </g>\n    </g>\n   </g>\n  </g>\n </g>\n <defs>\n  <clipPath id=\"p968512283f\">\n   <rect height=\"217.44\" width=\"334.8\" x=\"53.328125\" y=\"7.2\"/>\n  </clipPath>\n </defs>\n</svg>\n",
          "text/plain": "<Figure size 432x288 with 1 Axes>"
         },
         "metadata": {
          "needs_background": "light"
         },
         "output_type": "display_data"
        }
       ]
      }
     },
     "caca0c9d825d44c8909966215a3f695b": {
      "model_module": "@jupyter-widgets/controls",
      "model_module_version": "1.5.0",
      "model_name": "SliderStyleModel",
      "state": {
       "description_width": ""
      }
     },
     "cce8b95521b149fd9ca1a68d062506c5": {
      "model_module": "@jupyter-widgets/base",
      "model_module_version": "1.2.0",
      "model_name": "LayoutModel",
      "state": {}
     },
     "cdb7d2cb817d400cad74e46637ba46f0": {
      "model_module": "@jupyter-widgets/base",
      "model_module_version": "1.2.0",
      "model_name": "LayoutModel",
      "state": {}
     },
     "cec5355297ec461a8c2a38553647da41": {
      "model_module": "@jupyter-widgets/base",
      "model_module_version": "1.2.0",
      "model_name": "LayoutModel",
      "state": {}
     },
     "cf56d536c6fb43f58e3f24983729f8c6": {
      "model_module": "@jupyter-widgets/output",
      "model_module_version": "1.0.0",
      "model_name": "OutputModel",
      "state": {
       "layout": "IPY_MODEL_b5486e7367e646889cbfeb8e87b0f9c6",
       "outputs": [
        {
         "data": {
          "image/svg+xml": "<?xml version=\"1.0\" encoding=\"utf-8\" standalone=\"no\"?>\n<!DOCTYPE svg PUBLIC \"-//W3C//DTD SVG 1.1//EN\"\n  \"http://www.w3.org/Graphics/SVG/1.1/DTD/svg11.dtd\">\n<!-- Created with matplotlib (https://matplotlib.org/) -->\n<svg height=\"265.995469pt\" version=\"1.1\" viewBox=\"0 0 412.823438 265.995469\" width=\"412.823438pt\" xmlns=\"http://www.w3.org/2000/svg\" xmlns:xlink=\"http://www.w3.org/1999/xlink\">\n <metadata>\n  <rdf:RDF xmlns:cc=\"http://creativecommons.org/ns#\" xmlns:dc=\"http://purl.org/dc/elements/1.1/\" xmlns:rdf=\"http://www.w3.org/1999/02/22-rdf-syntax-ns#\">\n   <cc:Work>\n    <dc:type rdf:resource=\"http://purl.org/dc/dcmitype/StillImage\"/>\n    <dc:date>2021-06-11T03:40:49.378018</dc:date>\n    <dc:format>image/svg+xml</dc:format>\n    <dc:creator>\n     <cc:Agent>\n      <dc:title>Matplotlib v3.3.3, https://matplotlib.org/</dc:title>\n     </cc:Agent>\n    </dc:creator>\n   </cc:Work>\n  </rdf:RDF>\n </metadata>\n <defs>\n  <style type=\"text/css\">*{stroke-linecap:butt;stroke-linejoin:round;}</style>\n </defs>\n <g id=\"figure_1\">\n  <g id=\"patch_1\">\n   <path d=\"M 0 265.995469 \nL 412.823438 265.995469 \nL 412.823438 0 \nL 0 0 \nz\n\" style=\"fill:none;\"/>\n  </g>\n  <g id=\"axes_1\">\n   <g id=\"patch_2\">\n    <path d=\"M 59.690625 228.439219 \nL 394.490625 228.439219 \nL 394.490625 10.999219 \nL 59.690625 10.999219 \nz\n\" style=\"fill:#ffffff;\"/>\n   </g>\n   <g id=\"matplotlib.axis_1\">\n    <g id=\"xtick_1\">\n     <g id=\"line2d_1\">\n      <defs>\n       <path d=\"M 0 0 \nL 0 3.5 \n\" id=\"m63737556a9\" style=\"stroke:#000000;stroke-width:0.8;\"/>\n      </defs>\n      <g>\n       <use style=\"stroke:#000000;stroke-width:0.8;\" x=\"59.690625\" xlink:href=\"#m63737556a9\" y=\"228.439219\"/>\n      </g>\n     </g>\n     <g id=\"text_1\">\n      <!-- 0.0 -->\n      <g transform=\"translate(51.739063 243.037656)scale(0.1 -0.1)\">\n       <defs>\n        <path d=\"M 31.78125 66.40625 \nQ 24.171875 66.40625 20.328125 58.90625 \nQ 16.5 51.421875 16.5 36.375 \nQ 16.5 21.390625 20.328125 13.890625 \nQ 24.171875 6.390625 31.78125 6.390625 \nQ 39.453125 6.390625 43.28125 13.890625 \nQ 47.125 21.390625 47.125 36.375 \nQ 47.125 51.421875 43.28125 58.90625 \nQ 39.453125 66.40625 31.78125 66.40625 \nz\nM 31.78125 74.21875 \nQ 44.046875 74.21875 50.515625 64.515625 \nQ 56.984375 54.828125 56.984375 36.375 \nQ 56.984375 17.96875 50.515625 8.265625 \nQ 44.046875 -1.421875 31.78125 -1.421875 \nQ 19.53125 -1.421875 13.0625 8.265625 \nQ 6.59375 17.96875 6.59375 36.375 \nQ 6.59375 54.828125 13.0625 64.515625 \nQ 19.53125 74.21875 31.78125 74.21875 \nz\n\" id=\"DejaVuSans-48\"/>\n        <path d=\"M 10.6875 12.40625 \nL 21 12.40625 \nL 21 0 \nL 10.6875 0 \nz\n\" id=\"DejaVuSans-46\"/>\n       </defs>\n       <use xlink:href=\"#DejaVuSans-48\"/>\n       <use x=\"63.623047\" xlink:href=\"#DejaVuSans-46\"/>\n       <use x=\"95.410156\" xlink:href=\"#DejaVuSans-48\"/>\n      </g>\n     </g>\n    </g>\n    <g id=\"xtick_2\">\n     <g id=\"line2d_2\">\n      <g>\n       <use style=\"stroke:#000000;stroke-width:0.8;\" x=\"101.540625\" xlink:href=\"#m63737556a9\" y=\"228.439219\"/>\n      </g>\n     </g>\n     <g id=\"text_2\">\n      <!-- 2.5 -->\n      <g transform=\"translate(93.589063 243.037656)scale(0.1 -0.1)\">\n       <defs>\n        <path d=\"M 19.1875 8.296875 \nL 53.609375 8.296875 \nL 53.609375 0 \nL 7.328125 0 \nL 7.328125 8.296875 \nQ 12.9375 14.109375 22.625 23.890625 \nQ 32.328125 33.6875 34.8125 36.53125 \nQ 39.546875 41.84375 41.421875 45.53125 \nQ 43.3125 49.21875 43.3125 52.78125 \nQ 43.3125 58.59375 39.234375 62.25 \nQ 35.15625 65.921875 28.609375 65.921875 \nQ 23.96875 65.921875 18.8125 64.3125 \nQ 13.671875 62.703125 7.8125 59.421875 \nL 7.8125 69.390625 \nQ 13.765625 71.78125 18.9375 73 \nQ 24.125 74.21875 28.421875 74.21875 \nQ 39.75 74.21875 46.484375 68.546875 \nQ 53.21875 62.890625 53.21875 53.421875 \nQ 53.21875 48.921875 51.53125 44.890625 \nQ 49.859375 40.875 45.40625 35.40625 \nQ 44.1875 33.984375 37.640625 27.21875 \nQ 31.109375 20.453125 19.1875 8.296875 \nz\n\" id=\"DejaVuSans-50\"/>\n        <path d=\"M 10.796875 72.90625 \nL 49.515625 72.90625 \nL 49.515625 64.59375 \nL 19.828125 64.59375 \nL 19.828125 46.734375 \nQ 21.96875 47.46875 24.109375 47.828125 \nQ 26.265625 48.1875 28.421875 48.1875 \nQ 40.625 48.1875 47.75 41.5 \nQ 54.890625 34.8125 54.890625 23.390625 \nQ 54.890625 11.625 47.5625 5.09375 \nQ 40.234375 -1.421875 26.90625 -1.421875 \nQ 22.3125 -1.421875 17.546875 -0.640625 \nQ 12.796875 0.140625 7.71875 1.703125 \nL 7.71875 11.625 \nQ 12.109375 9.234375 16.796875 8.0625 \nQ 21.484375 6.890625 26.703125 6.890625 \nQ 35.15625 6.890625 40.078125 11.328125 \nQ 45.015625 15.765625 45.015625 23.390625 \nQ 45.015625 31 40.078125 35.4375 \nQ 35.15625 39.890625 26.703125 39.890625 \nQ 22.75 39.890625 18.8125 39.015625 \nQ 14.890625 38.140625 10.796875 36.28125 \nz\n\" id=\"DejaVuSans-53\"/>\n       </defs>\n       <use xlink:href=\"#DejaVuSans-50\"/>\n       <use x=\"63.623047\" xlink:href=\"#DejaVuSans-46\"/>\n       <use x=\"95.410156\" xlink:href=\"#DejaVuSans-53\"/>\n      </g>\n     </g>\n    </g>\n    <g id=\"xtick_3\">\n     <g id=\"line2d_3\">\n      <g>\n       <use style=\"stroke:#000000;stroke-width:0.8;\" x=\"143.390625\" xlink:href=\"#m63737556a9\" y=\"228.439219\"/>\n      </g>\n     </g>\n     <g id=\"text_3\">\n      <!-- 5.0 -->\n      <g transform=\"translate(135.439063 243.037656)scale(0.1 -0.1)\">\n       <use xlink:href=\"#DejaVuSans-53\"/>\n       <use x=\"63.623047\" xlink:href=\"#DejaVuSans-46\"/>\n       <use x=\"95.410156\" xlink:href=\"#DejaVuSans-48\"/>\n      </g>\n     </g>\n    </g>\n    <g id=\"xtick_4\">\n     <g id=\"line2d_4\">\n      <g>\n       <use style=\"stroke:#000000;stroke-width:0.8;\" x=\"185.240625\" xlink:href=\"#m63737556a9\" y=\"228.439219\"/>\n      </g>\n     </g>\n     <g id=\"text_4\">\n      <!-- 7.5 -->\n      <g transform=\"translate(177.289063 243.037656)scale(0.1 -0.1)\">\n       <defs>\n        <path d=\"M 8.203125 72.90625 \nL 55.078125 72.90625 \nL 55.078125 68.703125 \nL 28.609375 0 \nL 18.3125 0 \nL 43.21875 64.59375 \nL 8.203125 64.59375 \nz\n\" id=\"DejaVuSans-55\"/>\n       </defs>\n       <use xlink:href=\"#DejaVuSans-55\"/>\n       <use x=\"63.623047\" xlink:href=\"#DejaVuSans-46\"/>\n       <use x=\"95.410156\" xlink:href=\"#DejaVuSans-53\"/>\n      </g>\n     </g>\n    </g>\n    <g id=\"xtick_5\">\n     <g id=\"line2d_5\">\n      <g>\n       <use style=\"stroke:#000000;stroke-width:0.8;\" x=\"227.090625\" xlink:href=\"#m63737556a9\" y=\"228.439219\"/>\n      </g>\n     </g>\n     <g id=\"text_5\">\n      <!-- 10.0 -->\n      <g transform=\"translate(215.957813 243.037656)scale(0.1 -0.1)\">\n       <defs>\n        <path d=\"M 12.40625 8.296875 \nL 28.515625 8.296875 \nL 28.515625 63.921875 \nL 10.984375 60.40625 \nL 10.984375 69.390625 \nL 28.421875 72.90625 \nL 38.28125 72.90625 \nL 38.28125 8.296875 \nL 54.390625 8.296875 \nL 54.390625 0 \nL 12.40625 0 \nz\n\" id=\"DejaVuSans-49\"/>\n       </defs>\n       <use xlink:href=\"#DejaVuSans-49\"/>\n       <use x=\"63.623047\" xlink:href=\"#DejaVuSans-48\"/>\n       <use x=\"127.246094\" xlink:href=\"#DejaVuSans-46\"/>\n       <use x=\"159.033203\" xlink:href=\"#DejaVuSans-48\"/>\n      </g>\n     </g>\n    </g>\n    <g id=\"xtick_6\">\n     <g id=\"line2d_6\">\n      <g>\n       <use style=\"stroke:#000000;stroke-width:0.8;\" x=\"268.940625\" xlink:href=\"#m63737556a9\" y=\"228.439219\"/>\n      </g>\n     </g>\n     <g id=\"text_6\">\n      <!-- 12.5 -->\n      <g transform=\"translate(257.807813 243.037656)scale(0.1 -0.1)\">\n       <use xlink:href=\"#DejaVuSans-49\"/>\n       <use x=\"63.623047\" xlink:href=\"#DejaVuSans-50\"/>\n       <use x=\"127.246094\" xlink:href=\"#DejaVuSans-46\"/>\n       <use x=\"159.033203\" xlink:href=\"#DejaVuSans-53\"/>\n      </g>\n     </g>\n    </g>\n    <g id=\"xtick_7\">\n     <g id=\"line2d_7\">\n      <g>\n       <use style=\"stroke:#000000;stroke-width:0.8;\" x=\"310.790625\" xlink:href=\"#m63737556a9\" y=\"228.439219\"/>\n      </g>\n     </g>\n     <g id=\"text_7\">\n      <!-- 15.0 -->\n      <g transform=\"translate(299.657813 243.037656)scale(0.1 -0.1)\">\n       <use xlink:href=\"#DejaVuSans-49\"/>\n       <use x=\"63.623047\" xlink:href=\"#DejaVuSans-53\"/>\n       <use x=\"127.246094\" xlink:href=\"#DejaVuSans-46\"/>\n       <use x=\"159.033203\" xlink:href=\"#DejaVuSans-48\"/>\n      </g>\n     </g>\n    </g>\n    <g id=\"xtick_8\">\n     <g id=\"line2d_8\">\n      <g>\n       <use style=\"stroke:#000000;stroke-width:0.8;\" x=\"352.640625\" xlink:href=\"#m63737556a9\" y=\"228.439219\"/>\n      </g>\n     </g>\n     <g id=\"text_8\">\n      <!-- 17.5 -->\n      <g transform=\"translate(341.507813 243.037656)scale(0.1 -0.1)\">\n       <use xlink:href=\"#DejaVuSans-49\"/>\n       <use x=\"63.623047\" xlink:href=\"#DejaVuSans-55\"/>\n       <use x=\"127.246094\" xlink:href=\"#DejaVuSans-46\"/>\n       <use x=\"159.033203\" xlink:href=\"#DejaVuSans-53\"/>\n      </g>\n     </g>\n    </g>\n    <g id=\"xtick_9\">\n     <g id=\"line2d_9\">\n      <g>\n       <use style=\"stroke:#000000;stroke-width:0.8;\" x=\"394.490625\" xlink:href=\"#m63737556a9\" y=\"228.439219\"/>\n      </g>\n     </g>\n     <g id=\"text_9\">\n      <!-- 20.0 -->\n      <g transform=\"translate(383.357813 243.037656)scale(0.1 -0.1)\">\n       <use xlink:href=\"#DejaVuSans-50\"/>\n       <use x=\"63.623047\" xlink:href=\"#DejaVuSans-48\"/>\n       <use x=\"127.246094\" xlink:href=\"#DejaVuSans-46\"/>\n       <use x=\"159.033203\" xlink:href=\"#DejaVuSans-48\"/>\n      </g>\n     </g>\n    </g>\n    <g id=\"text_10\">\n     <!-- Energy (keV) -->\n     <g transform=\"translate(194.882812 256.715781)scale(0.1 -0.1)\">\n      <defs>\n       <path d=\"M 9.8125 72.90625 \nL 55.90625 72.90625 \nL 55.90625 64.59375 \nL 19.671875 64.59375 \nL 19.671875 43.015625 \nL 54.390625 43.015625 \nL 54.390625 34.71875 \nL 19.671875 34.71875 \nL 19.671875 8.296875 \nL 56.78125 8.296875 \nL 56.78125 0 \nL 9.8125 0 \nz\n\" id=\"DejaVuSans-69\"/>\n       <path d=\"M 54.890625 33.015625 \nL 54.890625 0 \nL 45.90625 0 \nL 45.90625 32.71875 \nQ 45.90625 40.484375 42.875 44.328125 \nQ 39.84375 48.1875 33.796875 48.1875 \nQ 26.515625 48.1875 22.3125 43.546875 \nQ 18.109375 38.921875 18.109375 30.90625 \nL 18.109375 0 \nL 9.078125 0 \nL 9.078125 54.6875 \nL 18.109375 54.6875 \nL 18.109375 46.1875 \nQ 21.34375 51.125 25.703125 53.5625 \nQ 30.078125 56 35.796875 56 \nQ 45.21875 56 50.046875 50.171875 \nQ 54.890625 44.34375 54.890625 33.015625 \nz\n\" id=\"DejaVuSans-110\"/>\n       <path d=\"M 56.203125 29.59375 \nL 56.203125 25.203125 \nL 14.890625 25.203125 \nQ 15.484375 15.921875 20.484375 11.0625 \nQ 25.484375 6.203125 34.421875 6.203125 \nQ 39.59375 6.203125 44.453125 7.46875 \nQ 49.3125 8.734375 54.109375 11.28125 \nL 54.109375 2.78125 \nQ 49.265625 0.734375 44.1875 -0.34375 \nQ 39.109375 -1.421875 33.890625 -1.421875 \nQ 20.796875 -1.421875 13.15625 6.1875 \nQ 5.515625 13.8125 5.515625 26.8125 \nQ 5.515625 40.234375 12.765625 48.109375 \nQ 20.015625 56 32.328125 56 \nQ 43.359375 56 49.78125 48.890625 \nQ 56.203125 41.796875 56.203125 29.59375 \nz\nM 47.21875 32.234375 \nQ 47.125 39.59375 43.09375 43.984375 \nQ 39.0625 48.390625 32.421875 48.390625 \nQ 24.90625 48.390625 20.390625 44.140625 \nQ 15.875 39.890625 15.1875 32.171875 \nz\n\" id=\"DejaVuSans-101\"/>\n       <path d=\"M 41.109375 46.296875 \nQ 39.59375 47.171875 37.8125 47.578125 \nQ 36.03125 48 33.890625 48 \nQ 26.265625 48 22.1875 43.046875 \nQ 18.109375 38.09375 18.109375 28.8125 \nL 18.109375 0 \nL 9.078125 0 \nL 9.078125 54.6875 \nL 18.109375 54.6875 \nL 18.109375 46.1875 \nQ 20.953125 51.171875 25.484375 53.578125 \nQ 30.03125 56 36.53125 56 \nQ 37.453125 56 38.578125 55.875 \nQ 39.703125 55.765625 41.0625 55.515625 \nz\n\" id=\"DejaVuSans-114\"/>\n       <path d=\"M 45.40625 27.984375 \nQ 45.40625 37.75 41.375 43.109375 \nQ 37.359375 48.484375 30.078125 48.484375 \nQ 22.859375 48.484375 18.828125 43.109375 \nQ 14.796875 37.75 14.796875 27.984375 \nQ 14.796875 18.265625 18.828125 12.890625 \nQ 22.859375 7.515625 30.078125 7.515625 \nQ 37.359375 7.515625 41.375 12.890625 \nQ 45.40625 18.265625 45.40625 27.984375 \nz\nM 54.390625 6.78125 \nQ 54.390625 -7.171875 48.1875 -13.984375 \nQ 42 -20.796875 29.203125 -20.796875 \nQ 24.46875 -20.796875 20.265625 -20.09375 \nQ 16.0625 -19.390625 12.109375 -17.921875 \nL 12.109375 -9.1875 \nQ 16.0625 -11.328125 19.921875 -12.34375 \nQ 23.78125 -13.375 27.78125 -13.375 \nQ 36.625 -13.375 41.015625 -8.765625 \nQ 45.40625 -4.15625 45.40625 5.171875 \nL 45.40625 9.625 \nQ 42.625 4.78125 38.28125 2.390625 \nQ 33.9375 0 27.875 0 \nQ 17.828125 0 11.671875 7.65625 \nQ 5.515625 15.328125 5.515625 27.984375 \nQ 5.515625 40.671875 11.671875 48.328125 \nQ 17.828125 56 27.875 56 \nQ 33.9375 56 38.28125 53.609375 \nQ 42.625 51.21875 45.40625 46.390625 \nL 45.40625 54.6875 \nL 54.390625 54.6875 \nz\n\" id=\"DejaVuSans-103\"/>\n       <path d=\"M 32.171875 -5.078125 \nQ 28.375 -14.84375 24.75 -17.8125 \nQ 21.140625 -20.796875 15.09375 -20.796875 \nL 7.90625 -20.796875 \nL 7.90625 -13.28125 \nL 13.1875 -13.28125 \nQ 16.890625 -13.28125 18.9375 -11.515625 \nQ 21 -9.765625 23.484375 -3.21875 \nL 25.09375 0.875 \nL 2.984375 54.6875 \nL 12.5 54.6875 \nL 29.59375 11.921875 \nL 46.6875 54.6875 \nL 56.203125 54.6875 \nz\n\" id=\"DejaVuSans-121\"/>\n       <path id=\"DejaVuSans-32\"/>\n       <path d=\"M 31 75.875 \nQ 24.46875 64.65625 21.28125 53.65625 \nQ 18.109375 42.671875 18.109375 31.390625 \nQ 18.109375 20.125 21.3125 9.0625 \nQ 24.515625 -2 31 -13.1875 \nL 23.1875 -13.1875 \nQ 15.875 -1.703125 12.234375 9.375 \nQ 8.59375 20.453125 8.59375 31.390625 \nQ 8.59375 42.28125 12.203125 53.3125 \nQ 15.828125 64.359375 23.1875 75.875 \nz\n\" id=\"DejaVuSans-40\"/>\n       <path d=\"M 9.078125 75.984375 \nL 18.109375 75.984375 \nL 18.109375 31.109375 \nL 44.921875 54.6875 \nL 56.390625 54.6875 \nL 27.390625 29.109375 \nL 57.625 0 \nL 45.90625 0 \nL 18.109375 26.703125 \nL 18.109375 0 \nL 9.078125 0 \nz\n\" id=\"DejaVuSans-107\"/>\n       <path d=\"M 28.609375 0 \nL 0.78125 72.90625 \nL 11.078125 72.90625 \nL 34.1875 11.53125 \nL 57.328125 72.90625 \nL 67.578125 72.90625 \nL 39.796875 0 \nz\n\" id=\"DejaVuSans-86\"/>\n       <path d=\"M 8.015625 75.875 \nL 15.828125 75.875 \nQ 23.140625 64.359375 26.78125 53.3125 \nQ 30.421875 42.28125 30.421875 31.390625 \nQ 30.421875 20.453125 26.78125 9.375 \nQ 23.140625 -1.703125 15.828125 -13.1875 \nL 8.015625 -13.1875 \nQ 14.5 -2 17.703125 9.0625 \nQ 20.90625 20.125 20.90625 31.390625 \nQ 20.90625 42.671875 17.703125 53.65625 \nQ 14.5 64.65625 8.015625 75.875 \nz\n\" id=\"DejaVuSans-41\"/>\n      </defs>\n      <use xlink:href=\"#DejaVuSans-69\"/>\n      <use x=\"63.183594\" xlink:href=\"#DejaVuSans-110\"/>\n      <use x=\"126.5625\" xlink:href=\"#DejaVuSans-101\"/>\n      <use x=\"188.085938\" xlink:href=\"#DejaVuSans-114\"/>\n      <use x=\"227.449219\" xlink:href=\"#DejaVuSans-103\"/>\n      <use x=\"290.925781\" xlink:href=\"#DejaVuSans-121\"/>\n      <use x=\"350.105469\" xlink:href=\"#DejaVuSans-32\"/>\n      <use x=\"381.892578\" xlink:href=\"#DejaVuSans-40\"/>\n      <use x=\"420.90625\" xlink:href=\"#DejaVuSans-107\"/>\n      <use x=\"475.191406\" xlink:href=\"#DejaVuSans-101\"/>\n      <use x=\"536.714844\" xlink:href=\"#DejaVuSans-86\"/>\n      <use x=\"605.123047\" xlink:href=\"#DejaVuSans-41\"/>\n     </g>\n    </g>\n   </g>\n   <g id=\"matplotlib.axis_2\">\n    <g id=\"ytick_1\">\n     <g id=\"line2d_10\">\n      <defs>\n       <path d=\"M 0 0 \nL -3.5 0 \n\" id=\"m1d900e199a\" style=\"stroke:#000000;stroke-width:0.8;\"/>\n      </defs>\n      <g>\n       <use style=\"stroke:#000000;stroke-width:0.8;\" x=\"59.690625\" xlink:href=\"#m1d900e199a\" y=\"184.959917\"/>\n      </g>\n     </g>\n     <g id=\"text_11\">\n      <!-- 2000 -->\n      <g transform=\"translate(27.240625 188.759136)scale(0.1 -0.1)\">\n       <use xlink:href=\"#DejaVuSans-50\"/>\n       <use x=\"63.623047\" xlink:href=\"#DejaVuSans-48\"/>\n       <use x=\"127.246094\" xlink:href=\"#DejaVuSans-48\"/>\n       <use x=\"190.869141\" xlink:href=\"#DejaVuSans-48\"/>\n      </g>\n     </g>\n    </g>\n    <g id=\"ytick_2\">\n     <g id=\"line2d_11\">\n      <g>\n       <use style=\"stroke:#000000;stroke-width:0.8;\" x=\"59.690625\" xlink:href=\"#m1d900e199a\" y=\"141.469742\"/>\n      </g>\n     </g>\n     <g id=\"text_12\">\n      <!-- 4000 -->\n      <g transform=\"translate(27.240625 145.268961)scale(0.1 -0.1)\">\n       <defs>\n        <path d=\"M 37.796875 64.3125 \nL 12.890625 25.390625 \nL 37.796875 25.390625 \nz\nM 35.203125 72.90625 \nL 47.609375 72.90625 \nL 47.609375 25.390625 \nL 58.015625 25.390625 \nL 58.015625 17.1875 \nL 47.609375 17.1875 \nL 47.609375 0 \nL 37.796875 0 \nL 37.796875 17.1875 \nL 4.890625 17.1875 \nL 4.890625 26.703125 \nz\n\" id=\"DejaVuSans-52\"/>\n       </defs>\n       <use xlink:href=\"#DejaVuSans-52\"/>\n       <use x=\"63.623047\" xlink:href=\"#DejaVuSans-48\"/>\n       <use x=\"127.246094\" xlink:href=\"#DejaVuSans-48\"/>\n       <use x=\"190.869141\" xlink:href=\"#DejaVuSans-48\"/>\n      </g>\n     </g>\n    </g>\n    <g id=\"ytick_3\">\n     <g id=\"line2d_12\">\n      <g>\n       <use style=\"stroke:#000000;stroke-width:0.8;\" x=\"59.690625\" xlink:href=\"#m1d900e199a\" y=\"97.979568\"/>\n      </g>\n     </g>\n     <g id=\"text_13\">\n      <!-- 6000 -->\n      <g transform=\"translate(27.240625 101.778787)scale(0.1 -0.1)\">\n       <defs>\n        <path d=\"M 33.015625 40.375 \nQ 26.375 40.375 22.484375 35.828125 \nQ 18.609375 31.296875 18.609375 23.390625 \nQ 18.609375 15.53125 22.484375 10.953125 \nQ 26.375 6.390625 33.015625 6.390625 \nQ 39.65625 6.390625 43.53125 10.953125 \nQ 47.40625 15.53125 47.40625 23.390625 \nQ 47.40625 31.296875 43.53125 35.828125 \nQ 39.65625 40.375 33.015625 40.375 \nz\nM 52.59375 71.296875 \nL 52.59375 62.3125 \nQ 48.875 64.0625 45.09375 64.984375 \nQ 41.3125 65.921875 37.59375 65.921875 \nQ 27.828125 65.921875 22.671875 59.328125 \nQ 17.53125 52.734375 16.796875 39.40625 \nQ 19.671875 43.65625 24.015625 45.921875 \nQ 28.375 48.1875 33.59375 48.1875 \nQ 44.578125 48.1875 50.953125 41.515625 \nQ 57.328125 34.859375 57.328125 23.390625 \nQ 57.328125 12.15625 50.6875 5.359375 \nQ 44.046875 -1.421875 33.015625 -1.421875 \nQ 20.359375 -1.421875 13.671875 8.265625 \nQ 6.984375 17.96875 6.984375 36.375 \nQ 6.984375 53.65625 15.1875 63.9375 \nQ 23.390625 74.21875 37.203125 74.21875 \nQ 40.921875 74.21875 44.703125 73.484375 \nQ 48.484375 72.75 52.59375 71.296875 \nz\n\" id=\"DejaVuSans-54\"/>\n       </defs>\n       <use xlink:href=\"#DejaVuSans-54\"/>\n       <use x=\"63.623047\" xlink:href=\"#DejaVuSans-48\"/>\n       <use x=\"127.246094\" xlink:href=\"#DejaVuSans-48\"/>\n       <use x=\"190.869141\" xlink:href=\"#DejaVuSans-48\"/>\n      </g>\n     </g>\n    </g>\n    <g id=\"ytick_4\">\n     <g id=\"line2d_13\">\n      <g>\n       <use style=\"stroke:#000000;stroke-width:0.8;\" x=\"59.690625\" xlink:href=\"#m1d900e199a\" y=\"54.489393\"/>\n      </g>\n     </g>\n     <g id=\"text_14\">\n      <!-- 8000 -->\n      <g transform=\"translate(27.240625 58.288612)scale(0.1 -0.1)\">\n       <defs>\n        <path d=\"M 31.78125 34.625 \nQ 24.75 34.625 20.71875 30.859375 \nQ 16.703125 27.09375 16.703125 20.515625 \nQ 16.703125 13.921875 20.71875 10.15625 \nQ 24.75 6.390625 31.78125 6.390625 \nQ 38.8125 6.390625 42.859375 10.171875 \nQ 46.921875 13.96875 46.921875 20.515625 \nQ 46.921875 27.09375 42.890625 30.859375 \nQ 38.875 34.625 31.78125 34.625 \nz\nM 21.921875 38.8125 \nQ 15.578125 40.375 12.03125 44.71875 \nQ 8.5 49.078125 8.5 55.328125 \nQ 8.5 64.0625 14.71875 69.140625 \nQ 20.953125 74.21875 31.78125 74.21875 \nQ 42.671875 74.21875 48.875 69.140625 \nQ 55.078125 64.0625 55.078125 55.328125 \nQ 55.078125 49.078125 51.53125 44.71875 \nQ 48 40.375 41.703125 38.8125 \nQ 48.828125 37.15625 52.796875 32.3125 \nQ 56.78125 27.484375 56.78125 20.515625 \nQ 56.78125 9.90625 50.3125 4.234375 \nQ 43.84375 -1.421875 31.78125 -1.421875 \nQ 19.734375 -1.421875 13.25 4.234375 \nQ 6.78125 9.90625 6.78125 20.515625 \nQ 6.78125 27.484375 10.78125 32.3125 \nQ 14.796875 37.15625 21.921875 38.8125 \nz\nM 18.3125 54.390625 \nQ 18.3125 48.734375 21.84375 45.5625 \nQ 25.390625 42.390625 31.78125 42.390625 \nQ 38.140625 42.390625 41.71875 45.5625 \nQ 45.3125 48.734375 45.3125 54.390625 \nQ 45.3125 60.0625 41.71875 63.234375 \nQ 38.140625 66.40625 31.78125 66.40625 \nQ 25.390625 66.40625 21.84375 63.234375 \nQ 18.3125 60.0625 18.3125 54.390625 \nz\n\" id=\"DejaVuSans-56\"/>\n       </defs>\n       <use xlink:href=\"#DejaVuSans-56\"/>\n       <use x=\"63.623047\" xlink:href=\"#DejaVuSans-48\"/>\n       <use x=\"127.246094\" xlink:href=\"#DejaVuSans-48\"/>\n       <use x=\"190.869141\" xlink:href=\"#DejaVuSans-48\"/>\n      </g>\n     </g>\n    </g>\n    <g id=\"ytick_5\">\n     <g id=\"line2d_14\">\n      <g>\n       <use style=\"stroke:#000000;stroke-width:0.8;\" x=\"59.690625\" xlink:href=\"#m1d900e199a\" y=\"10.999219\"/>\n      </g>\n     </g>\n     <g id=\"text_15\">\n      <!-- 10000 -->\n      <g transform=\"translate(20.878125 14.798437)scale(0.1 -0.1)\">\n       <use xlink:href=\"#DejaVuSans-49\"/>\n       <use x=\"63.623047\" xlink:href=\"#DejaVuSans-48\"/>\n       <use x=\"127.246094\" xlink:href=\"#DejaVuSans-48\"/>\n       <use x=\"190.869141\" xlink:href=\"#DejaVuSans-48\"/>\n       <use x=\"254.492188\" xlink:href=\"#DejaVuSans-48\"/>\n      </g>\n     </g>\n    </g>\n    <g id=\"text_16\">\n     <!-- Counts / (40.0 eV kg days) -->\n     <g transform=\"translate(14.798438 186.205156)rotate(-90)scale(0.1 -0.1)\">\n      <defs>\n       <path d=\"M 64.40625 67.28125 \nL 64.40625 56.890625 \nQ 59.421875 61.53125 53.78125 63.8125 \nQ 48.140625 66.109375 41.796875 66.109375 \nQ 29.296875 66.109375 22.65625 58.46875 \nQ 16.015625 50.828125 16.015625 36.375 \nQ 16.015625 21.96875 22.65625 14.328125 \nQ 29.296875 6.6875 41.796875 6.6875 \nQ 48.140625 6.6875 53.78125 8.984375 \nQ 59.421875 11.28125 64.40625 15.921875 \nL 64.40625 5.609375 \nQ 59.234375 2.09375 53.4375 0.328125 \nQ 47.65625 -1.421875 41.21875 -1.421875 \nQ 24.65625 -1.421875 15.125 8.703125 \nQ 5.609375 18.84375 5.609375 36.375 \nQ 5.609375 53.953125 15.125 64.078125 \nQ 24.65625 74.21875 41.21875 74.21875 \nQ 47.75 74.21875 53.53125 72.484375 \nQ 59.328125 70.75 64.40625 67.28125 \nz\n\" id=\"DejaVuSans-67\"/>\n       <path d=\"M 30.609375 48.390625 \nQ 23.390625 48.390625 19.1875 42.75 \nQ 14.984375 37.109375 14.984375 27.296875 \nQ 14.984375 17.484375 19.15625 11.84375 \nQ 23.34375 6.203125 30.609375 6.203125 \nQ 37.796875 6.203125 41.984375 11.859375 \nQ 46.1875 17.53125 46.1875 27.296875 \nQ 46.1875 37.015625 41.984375 42.703125 \nQ 37.796875 48.390625 30.609375 48.390625 \nz\nM 30.609375 56 \nQ 42.328125 56 49.015625 48.375 \nQ 55.71875 40.765625 55.71875 27.296875 \nQ 55.71875 13.875 49.015625 6.21875 \nQ 42.328125 -1.421875 30.609375 -1.421875 \nQ 18.84375 -1.421875 12.171875 6.21875 \nQ 5.515625 13.875 5.515625 27.296875 \nQ 5.515625 40.765625 12.171875 48.375 \nQ 18.84375 56 30.609375 56 \nz\n\" id=\"DejaVuSans-111\"/>\n       <path d=\"M 8.5 21.578125 \nL 8.5 54.6875 \nL 17.484375 54.6875 \nL 17.484375 21.921875 \nQ 17.484375 14.15625 20.5 10.265625 \nQ 23.53125 6.390625 29.59375 6.390625 \nQ 36.859375 6.390625 41.078125 11.03125 \nQ 45.3125 15.671875 45.3125 23.6875 \nL 45.3125 54.6875 \nL 54.296875 54.6875 \nL 54.296875 0 \nL 45.3125 0 \nL 45.3125 8.40625 \nQ 42.046875 3.421875 37.71875 1 \nQ 33.40625 -1.421875 27.6875 -1.421875 \nQ 18.265625 -1.421875 13.375 4.4375 \nQ 8.5 10.296875 8.5 21.578125 \nz\nM 31.109375 56 \nz\n\" id=\"DejaVuSans-117\"/>\n       <path d=\"M 18.3125 70.21875 \nL 18.3125 54.6875 \nL 36.8125 54.6875 \nL 36.8125 47.703125 \nL 18.3125 47.703125 \nL 18.3125 18.015625 \nQ 18.3125 11.328125 20.140625 9.421875 \nQ 21.96875 7.515625 27.59375 7.515625 \nL 36.8125 7.515625 \nL 36.8125 0 \nL 27.59375 0 \nQ 17.1875 0 13.234375 3.875 \nQ 9.28125 7.765625 9.28125 18.015625 \nL 9.28125 47.703125 \nL 2.6875 47.703125 \nL 2.6875 54.6875 \nL 9.28125 54.6875 \nL 9.28125 70.21875 \nz\n\" id=\"DejaVuSans-116\"/>\n       <path d=\"M 44.28125 53.078125 \nL 44.28125 44.578125 \nQ 40.484375 46.53125 36.375 47.5 \nQ 32.28125 48.484375 27.875 48.484375 \nQ 21.1875 48.484375 17.84375 46.4375 \nQ 14.5 44.390625 14.5 40.28125 \nQ 14.5 37.15625 16.890625 35.375 \nQ 19.28125 33.59375 26.515625 31.984375 \nL 29.59375 31.296875 \nQ 39.15625 29.25 43.1875 25.515625 \nQ 47.21875 21.78125 47.21875 15.09375 \nQ 47.21875 7.46875 41.1875 3.015625 \nQ 35.15625 -1.421875 24.609375 -1.421875 \nQ 20.21875 -1.421875 15.453125 -0.5625 \nQ 10.6875 0.296875 5.421875 2 \nL 5.421875 11.28125 \nQ 10.40625 8.6875 15.234375 7.390625 \nQ 20.0625 6.109375 24.8125 6.109375 \nQ 31.15625 6.109375 34.5625 8.28125 \nQ 37.984375 10.453125 37.984375 14.40625 \nQ 37.984375 18.0625 35.515625 20.015625 \nQ 33.0625 21.96875 24.703125 23.78125 \nL 21.578125 24.515625 \nQ 13.234375 26.265625 9.515625 29.90625 \nQ 5.8125 33.546875 5.8125 39.890625 \nQ 5.8125 47.609375 11.28125 51.796875 \nQ 16.75 56 26.8125 56 \nQ 31.78125 56 36.171875 55.265625 \nQ 40.578125 54.546875 44.28125 53.078125 \nz\n\" id=\"DejaVuSans-115\"/>\n       <path d=\"M 25.390625 72.90625 \nL 33.6875 72.90625 \nL 8.296875 -9.28125 \nL 0 -9.28125 \nz\n\" id=\"DejaVuSans-47\"/>\n       <path d=\"M 45.40625 46.390625 \nL 45.40625 75.984375 \nL 54.390625 75.984375 \nL 54.390625 0 \nL 45.40625 0 \nL 45.40625 8.203125 \nQ 42.578125 3.328125 38.25 0.953125 \nQ 33.9375 -1.421875 27.875 -1.421875 \nQ 17.96875 -1.421875 11.734375 6.484375 \nQ 5.515625 14.40625 5.515625 27.296875 \nQ 5.515625 40.1875 11.734375 48.09375 \nQ 17.96875 56 27.875 56 \nQ 33.9375 56 38.25 53.625 \nQ 42.578125 51.265625 45.40625 46.390625 \nz\nM 14.796875 27.296875 \nQ 14.796875 17.390625 18.875 11.75 \nQ 22.953125 6.109375 30.078125 6.109375 \nQ 37.203125 6.109375 41.296875 11.75 \nQ 45.40625 17.390625 45.40625 27.296875 \nQ 45.40625 37.203125 41.296875 42.84375 \nQ 37.203125 48.484375 30.078125 48.484375 \nQ 22.953125 48.484375 18.875 42.84375 \nQ 14.796875 37.203125 14.796875 27.296875 \nz\n\" id=\"DejaVuSans-100\"/>\n       <path d=\"M 34.28125 27.484375 \nQ 23.390625 27.484375 19.1875 25 \nQ 14.984375 22.515625 14.984375 16.5 \nQ 14.984375 11.71875 18.140625 8.90625 \nQ 21.296875 6.109375 26.703125 6.109375 \nQ 34.1875 6.109375 38.703125 11.40625 \nQ 43.21875 16.703125 43.21875 25.484375 \nL 43.21875 27.484375 \nz\nM 52.203125 31.203125 \nL 52.203125 0 \nL 43.21875 0 \nL 43.21875 8.296875 \nQ 40.140625 3.328125 35.546875 0.953125 \nQ 30.953125 -1.421875 24.3125 -1.421875 \nQ 15.921875 -1.421875 10.953125 3.296875 \nQ 6 8.015625 6 15.921875 \nQ 6 25.140625 12.171875 29.828125 \nQ 18.359375 34.515625 30.609375 34.515625 \nL 43.21875 34.515625 \nL 43.21875 35.40625 \nQ 43.21875 41.609375 39.140625 45 \nQ 35.0625 48.390625 27.6875 48.390625 \nQ 23 48.390625 18.546875 47.265625 \nQ 14.109375 46.140625 10.015625 43.890625 \nL 10.015625 52.203125 \nQ 14.9375 54.109375 19.578125 55.046875 \nQ 24.21875 56 28.609375 56 \nQ 40.484375 56 46.34375 49.84375 \nQ 52.203125 43.703125 52.203125 31.203125 \nz\n\" id=\"DejaVuSans-97\"/>\n      </defs>\n      <use xlink:href=\"#DejaVuSans-67\"/>\n      <use x=\"69.824219\" xlink:href=\"#DejaVuSans-111\"/>\n      <use x=\"131.005859\" xlink:href=\"#DejaVuSans-117\"/>\n      <use x=\"194.384766\" xlink:href=\"#DejaVuSans-110\"/>\n      <use x=\"257.763672\" xlink:href=\"#DejaVuSans-116\"/>\n      <use x=\"296.972656\" xlink:href=\"#DejaVuSans-115\"/>\n      <use x=\"349.072266\" xlink:href=\"#DejaVuSans-32\"/>\n      <use x=\"380.859375\" xlink:href=\"#DejaVuSans-47\"/>\n      <use x=\"414.550781\" xlink:href=\"#DejaVuSans-32\"/>\n      <use x=\"446.337891\" xlink:href=\"#DejaVuSans-40\"/>\n      <use x=\"485.351562\" xlink:href=\"#DejaVuSans-52\"/>\n      <use x=\"548.974609\" xlink:href=\"#DejaVuSans-48\"/>\n      <use x=\"612.597656\" xlink:href=\"#DejaVuSans-46\"/>\n      <use x=\"644.384766\" xlink:href=\"#DejaVuSans-48\"/>\n      <use x=\"708.007812\" xlink:href=\"#DejaVuSans-32\"/>\n      <use x=\"739.794922\" xlink:href=\"#DejaVuSans-101\"/>\n      <use x=\"801.318359\" xlink:href=\"#DejaVuSans-86\"/>\n      <use x=\"869.726562\" xlink:href=\"#DejaVuSans-32\"/>\n      <use x=\"901.513672\" xlink:href=\"#DejaVuSans-107\"/>\n      <use x=\"959.423828\" xlink:href=\"#DejaVuSans-103\"/>\n      <use x=\"1022.900391\" xlink:href=\"#DejaVuSans-32\"/>\n      <use x=\"1054.6875\" xlink:href=\"#DejaVuSans-100\"/>\n      <use x=\"1118.164062\" xlink:href=\"#DejaVuSans-97\"/>\n      <use x=\"1179.443359\" xlink:href=\"#DejaVuSans-121\"/>\n      <use x=\"1238.623047\" xlink:href=\"#DejaVuSans-115\"/>\n      <use x=\"1290.722656\" xlink:href=\"#DejaVuSans-41\"/>\n     </g>\n    </g>\n   </g>\n   <g id=\"patch_3\">\n    <path clip-path=\"url(#pfe2a594ed9)\" d=\"M 59.690625 228.450091 \nL 59.690625 141.317527 \nL 60.360225 141.317527 \nL 60.360225 145.601309 \nL 61.029825 145.601309 \nL 61.029825 147.275681 \nL 61.699425 147.275681 \nL 61.699425 153.668736 \nL 62.369025 153.668736 \nL 62.369025 157.626342 \nL 63.038625 157.626342 \nL 63.038625 159.62689 \nL 63.708225 159.62689 \nL 63.708225 160.409713 \nL 64.377825 160.409713 \nL 64.377825 163.867182 \nL 65.047425 163.867182 \nL 65.047425 165.389338 \nL 65.717025 165.389338 \nL 65.717025 168.520631 \nL 66.386625 168.520631 \nL 66.386625 171.173531 \nL 67.056225 171.173531 \nL 67.056225 174.130863 \nL 67.725825 174.130863 \nL 67.725825 176.479333 \nL 68.395425 176.479333 \nL 68.395425 177.871018 \nL 69.065025 177.871018 \nL 69.065025 178.740822 \nL 69.734625 178.740822 \nL 69.734625 180.523919 \nL 70.404225 180.523919 \nL 70.404225 184.177094 \nL 71.073825 184.177094 \nL 71.073825 185.438309 \nL 71.743425 185.438309 \nL 71.743425 187.264896 \nL 72.413025 187.264896 \nL 72.413025 189.46115 \nL 73.082625 189.46115 \nL 73.082625 188.787052 \nL 73.752225 188.787052 \nL 73.752225 191.026796 \nL 74.421825 191.026796 \nL 74.421825 192.614187 \nL 75.091425 192.614187 \nL 75.091425 194.984402 \nL 75.761025 194.984402 \nL 75.761025 196.223872 \nL 76.430625 196.223872 \nL 76.430625 198.246165 \nL 77.100225 198.246165 \nL 77.100225 199.202949 \nL 77.769825 199.202949 \nL 77.769825 199.55087 \nL 78.439425 199.55087 \nL 78.439425 199.964027 \nL 79.109025 199.964027 \nL 79.109025 202.638673 \nL 79.778625 202.638673 \nL 79.778625 203.878143 \nL 80.448225 203.878143 \nL 80.448225 204.813181 \nL 81.117825 204.813181 \nL 81.117825 205.052377 \nL 81.787425 205.052377 \nL 81.787425 205.204593 \nL 82.457025 205.204593 \nL 82.457025 207.052925 \nL 83.126625 207.052925 \nL 83.126625 207.987964 \nL 83.796225 207.987964 \nL 83.796225 208.705552 \nL 84.465825 208.705552 \nL 84.465825 208.923003 \nL 85.135425 208.923003 \nL 85.135425 210.74959 \nL 85.805025 210.74959 \nL 85.805025 210.401669 \nL 86.474625 210.401669 \nL 86.474625 210.858316 \nL 87.144225 210.858316 \nL 87.144225 211.206237 \nL 87.813825 211.206237 \nL 87.813825 211.836845 \nL 88.483425 211.836845 \nL 88.483425 212.989334 \nL 89.153025 212.989334 \nL 89.153025 214.076589 \nL 90.492225 214.011353 \nL 90.492225 215.62049 \nL 91.831425 215.66398 \nL 91.831425 215.359549 \nL 92.501025 215.359549 \nL 92.501025 216.81647 \nL 93.170625 216.81647 \nL 93.170625 216.446803 \nL 93.840225 216.446803 \nL 93.840225 218.251645 \nL 94.509825 218.251645 \nL 94.509825 217.512312 \nL 95.179425 217.512312 \nL 95.179425 217.338352 \nL 95.849025 217.338352 \nL 95.849025 218.860508 \nL 96.518625 218.860508 \nL 96.518625 219.3389 \nL 97.188225 219.3389 \nL 97.188225 218.664802 \nL 97.857825 218.664802 \nL 97.857825 220.121723 \nL 99.197025 220.056488 \nL 99.197025 220.447899 \nL 99.866625 220.447899 \nL 99.866625 220.75233 \nL 100.536225 220.75233 \nL 100.536225 220.882801 \nL 101.205825 220.882801 \nL 101.205825 221.339448 \nL 101.875425 221.339448 \nL 101.875425 221.491663 \nL 103.214625 221.578644 \nL 103.214625 221.9918 \nL 103.884225 221.9918 \nL 103.884225 222.687643 \nL 104.553825 222.687643 \nL 104.553825 223.253015 \nL 105.223425 223.253015 \nL 105.223425 223.05731 \nL 105.893025 223.05731 \nL 105.893025 222.796369 \nL 106.562625 222.796369 \nL 106.562625 223.383486 \nL 107.232225 223.383486 \nL 107.232225 223.992348 \nL 107.901825 223.992348 \nL 107.901825 223.687917 \nL 108.571425 223.687917 \nL 108.571425 223.970603 \nL 109.241025 223.970603 \nL 109.241025 223.579192 \nL 109.910625 223.579192 \nL 109.910625 224.38376 \nL 111.249825 224.38376 \nL 111.249825 224.709936 \nL 111.919425 224.709936 \nL 111.919425 225.057858 \nL 113.258625 224.970877 \nL 113.258625 224.644701 \nL 113.928225 224.644701 \nL 113.928225 225.057858 \nL 115.267425 225.079603 \nL 115.267425 225.775446 \nL 115.937025 225.775446 \nL 115.937025 225.210073 \nL 116.606625 225.210073 \nL 116.606625 225.62323 \nL 117.276225 225.62323 \nL 117.276225 225.384034 \nL 117.945825 225.384034 \nL 117.945825 225.949406 \nL 118.615425 225.949406 \nL 118.615425 225.62323 \nL 119.285025 225.62323 \nL 119.285025 225.840681 \nL 119.954625 225.840681 \nL 119.954625 225.688465 \nL 120.624225 225.688465 \nL 120.624225 225.905916 \nL 121.293825 225.905916 \nL 121.293825 226.166857 \nL 123.302625 226.166857 \nL 123.302625 226.8627 \nL 123.972225 226.8627 \nL 123.972225 226.275583 \nL 124.641825 226.275583 \nL 124.641825 226.645249 \nL 125.311425 226.645249 \nL 125.311425 226.797465 \nL 126.650625 226.753974 \nL 126.650625 227.080151 \nL 127.989825 227.123641 \nL 127.989825 226.94968 \nL 128.659425 226.94968 \nL 128.659425 227.210621 \nL 130.668225 227.167131 \nL 130.668225 227.036661 \nL 132.007425 227.036661 \nL 132.007425 226.340818 \nL 132.677025 226.340818 \nL 132.677025 225.384034 \nL 133.346625 225.384034 \nL 133.346625 224.514231 \nL 134.016225 224.514231 \nL 134.016225 223.14429 \nL 134.685825 223.14429 \nL 134.685825 220.165213 \nL 135.355425 220.165213 \nL 135.355425 216.425058 \nL 136.025025 216.425058 \nL 136.025025 207.379102 \nL 136.694625 207.379102 \nL 136.694625 198.789792 \nL 137.364225 198.789792 \nL 137.364225 187.786778 \nL 138.033825 187.786778 \nL 138.033825 171.086551 \nL 138.703425 171.086551 \nL 138.703425 152.603227 \nL 139.373025 152.603227 \nL 139.373025 133.771981 \nL 140.042625 133.771981 \nL 140.042625 109.678425 \nL 140.712225 109.678425 \nL 140.712225 91.738728 \nL 141.381825 91.738728 \nL 141.381825 75.756089 \nL 142.051425 75.756089 \nL 142.051425 61.295606 \nL 142.721025 61.295606 \nL 142.721025 55.968059 \nL 143.390625 55.968059 \nL 143.390625 56.598667 \nL 144.060225 56.598667 \nL 144.060225 63.62233 \nL 144.729825 63.62233 \nL 144.729825 73.016208 \nL 145.399425 73.016208 \nL 145.399425 93.869746 \nL 146.069025 93.869746 \nL 146.069025 111.874679 \nL 146.738625 111.874679 \nL 146.738625 134.337354 \nL 147.408225 134.337354 \nL 147.408225 152.668462 \nL 148.077825 152.668462 \nL 148.077825 171.782394 \nL 148.747425 171.782394 \nL 148.747425 186.547308 \nL 149.417025 186.547308 \nL 149.417025 200.007517 \nL 150.086625 200.007517 \nL 150.086625 208.488101 \nL 150.756225 208.488101 \nL 150.756225 215.66398 \nL 151.425825 215.66398 \nL 151.425825 219.839037 \nL 152.095425 219.839037 \nL 152.095425 223.1008 \nL 152.765025 223.1008 \nL 152.765025 225.188328 \nL 153.434625 225.188328 \nL 153.434625 226.710484 \nL 154.104225 226.710484 \nL 154.104225 227.188876 \nL 154.773825 227.188876 \nL 154.773825 227.732503 \nL 155.443425 227.732503 \nL 155.443425 228.01519 \nL 156.782625 227.928209 \nL 156.782625 228.254386 \nL 169.505025 228.276131 \nL 169.505025 228.406601 \nL 394.490625 228.450091 \nL 394.490625 228.450091 \n\" style=\"fill:none;stroke:#1f77b4;stroke-linejoin:miter;\"/>\n   </g>\n   <g id=\"patch_4\">\n    <path clip-path=\"url(#pfe2a594ed9)\" d=\"M 59.690625 228.450091 \nL 59.690625 -1 \nM 65.047425 -1 \nL 65.047425 9.911964 \nL 65.717025 9.911964 \nL 65.717025 13.717355 \nL 66.386625 13.717355 \nL 66.386625 36.114795 \nL 67.056225 36.114795 \nL 67.056225 45.465182 \nL 67.725825 45.465182 \nL 67.725825 60.904194 \nL 68.395425 60.904194 \nL 68.395425 78.408989 \nL 69.065025 78.408989 \nL 69.065025 82.43183 \nL 69.734625 82.43183 \nL 69.734625 94.065452 \nL 70.404225 94.065452 \nL 70.404225 108.41721 \nL 71.073825 108.41721 \nL 71.073825 114.505834 \nL 71.743425 114.505834 \nL 71.743425 127.22671 \nL 72.413025 127.22671 \nL 72.413025 135.707294 \nL 73.082625 135.707294 \nL 73.082625 137.011999 \nL 73.752225 137.011999 \nL 73.752225 143.100624 \nL 74.421825 143.100624 \nL 74.421825 152.01611 \nL 75.091425 152.01611 \nL 75.091425 159.191988 \nL 75.761025 159.191988 \nL 75.761025 161.149046 \nL 76.430625 161.149046 \nL 76.430625 165.280613 \nL 77.100225 165.280613 \nL 77.100225 170.82561 \nL 77.769825 170.82561 \nL 77.769825 174.196099 \nL 78.439425 174.196099 \nL 78.439425 179.849821 \nL 79.109025 179.849821 \nL 79.109025 183.546486 \nL 79.778625 183.546486 \nL 79.778625 184.851191 \nL 80.448225 184.851191 \nL 80.448225 188.004229 \nL 81.117825 188.004229 \nL 81.117825 189.743836 \nL 81.787425 189.743836 \nL 81.787425 192.679423 \nL 82.457025 192.679423 \nL 82.457025 194.962657 \nL 83.126625 194.962657 \nL 83.126625 199.746576 \nL 83.796225 199.746576 \nL 83.796225 199.202949 \nL 84.465825 199.202949 \nL 84.465825 201.377458 \nL 85.135425 201.377458 \nL 85.135425 201.051281 \nL 85.805025 201.051281 \nL 85.805025 205.726475 \nL 86.474625 205.726475 \nL 86.474625 203.334516 \nL 87.144225 203.334516 \nL 87.144225 204.639221 \nL 87.813825 204.639221 \nL 87.813825 208.22716 \nL 88.483425 208.22716 \nL 88.483425 209.205689 \nL 89.153025 209.205689 \nL 89.153025 211.597649 \nL 89.822625 211.597649 \nL 89.822625 209.531865 \nL 90.492225 209.531865 \nL 90.492225 210.727845 \nL 91.161825 210.727845 \nL 91.161825 213.22853 \nL 91.831425 213.22853 \nL 91.831425 213.880883 \nL 92.501025 213.880883 \nL 92.501025 212.902354 \nL 93.170625 212.902354 \nL 93.170625 212.684903 \nL 93.840225 212.684903 \nL 93.840225 213.663432 \nL 94.509825 213.663432 \nL 94.509825 215.946666 \nL 95.179425 215.946666 \nL 95.179425 216.925195 \nL 95.849025 216.925195 \nL 95.849025 216.055392 \nL 96.518625 216.055392 \nL 96.518625 218.556077 \nL 97.188225 218.556077 \nL 97.188225 217.903724 \nL 97.857825 217.903724 \nL 97.857825 218.882253 \nL 98.527425 218.882253 \nL 98.527425 219.317155 \nL 99.197025 219.317155 \nL 99.197025 218.556077 \nL 100.536225 218.664802 \nL 100.536225 221.056762 \nL 101.205825 221.056762 \nL 101.205825 220.62186 \nL 102.545025 220.730585 \nL 102.545025 221.056762 \nL 103.884225 221.165487 \nL 103.884225 220.62186 \nL 104.553825 220.62186 \nL 104.553825 221.274212 \nL 105.223425 221.274212 \nL 105.223425 219.969507 \nL 105.893025 219.969507 \nL 105.893025 221.81784 \nL 106.562625 221.81784 \nL 106.562625 222.144016 \nL 107.232225 222.144016 \nL 107.232225 221.81784 \nL 107.901825 221.81784 \nL 107.901825 221.600389 \nL 108.571425 221.600389 \nL 108.571425 221.165487 \nL 111.249825 221.274212 \nL 111.249825 221.926565 \nL 112.589025 221.926565 \nL 112.589025 222.361467 \nL 113.258625 222.361467 \nL 113.258625 222.144016 \nL 115.267425 222.035291 \nL 115.267425 223.122545 \nL 115.937025 223.122545 \nL 115.937025 222.361467 \nL 116.606625 222.361467 \nL 116.606625 221.926565 \nL 117.276225 221.926565 \nL 117.276225 222.796369 \nL 117.945825 222.796369 \nL 117.945825 219.969507 \nL 118.615425 219.969507 \nL 118.615425 221.926565 \nL 119.954625 221.81784 \nL 119.954625 223.23127 \nL 120.624225 223.23127 \nL 120.624225 222.252741 \nL 121.293825 222.252741 \nL 121.293825 221.600389 \nL 121.963425 221.600389 \nL 121.963425 222.035291 \nL 122.633025 222.035291 \nL 122.633025 221.81784 \nL 123.302625 221.81784 \nL 123.302625 222.361467 \nL 123.972225 222.361467 \nL 123.972225 220.62186 \nL 124.641825 220.62186 \nL 124.641825 222.144016 \nL 125.311425 222.144016 \nL 125.311425 220.948036 \nL 125.981025 220.948036 \nL 125.981025 223.013819 \nL 126.650625 223.013819 \nL 126.650625 221.274212 \nL 127.320225 221.274212 \nL 127.320225 221.81784 \nL 127.989825 221.81784 \nL 127.989825 223.339996 \nL 128.659425 223.339996 \nL 128.659425 222.470192 \nL 129.329025 222.470192 \nL 129.329025 223.23127 \nL 130.668225 223.122545 \nL 130.668225 221.056762 \nL 131.337825 221.056762 \nL 131.337825 222.361467 \nL 132.677025 222.470192 \nL 132.677025 223.23127 \nL 133.346625 223.23127 \nL 133.346625 221.382938 \nL 134.016225 221.382938 \nL 134.016225 223.013819 \nL 135.355425 222.905094 \nL 135.355425 222.578918 \nL 136.025025 222.578918 \nL 136.025025 221.165487 \nL 136.694625 221.165487 \nL 136.694625 223.23127 \nL 137.364225 223.23127 \nL 137.364225 222.361467 \nL 138.703425 222.361467 \nL 138.703425 222.035291 \nL 139.373025 222.035291 \nL 139.373025 221.600389 \nL 140.042625 221.600389 \nL 140.042625 221.81784 \nL 140.712225 221.81784 \nL 140.712225 222.361467 \nL 141.381825 222.361467 \nL 141.381825 223.339996 \nL 142.051425 223.339996 \nL 142.051425 222.252741 \nL 142.721025 222.252741 \nL 142.721025 223.013819 \nL 143.390625 223.013819 \nL 143.390625 221.709114 \nL 144.060225 221.709114 \nL 144.060225 221.926565 \nL 145.399425 221.926565 \nL 145.399425 223.557447 \nL 146.069025 223.557447 \nL 146.069025 222.687643 \nL 147.408225 222.796369 \nL 147.408225 223.992348 \nL 148.077825 223.992348 \nL 148.077825 223.448721 \nL 148.747425 223.448721 \nL 148.747425 221.926565 \nL 149.417025 221.926565 \nL 149.417025 222.905094 \nL 150.086625 222.905094 \nL 150.086625 223.666172 \nL 150.756225 223.666172 \nL 150.756225 222.578918 \nL 151.425825 222.578918 \nL 151.425825 223.339996 \nL 152.095425 223.339996 \nL 152.095425 222.796369 \nL 152.765025 222.796369 \nL 152.765025 223.013819 \nL 154.773825 223.122545 \nL 154.773825 222.361467 \nL 155.443425 222.361467 \nL 155.443425 223.557447 \nL 156.113025 223.557447 \nL 156.113025 221.382938 \nL 156.782625 221.382938 \nL 156.782625 222.252741 \nL 157.452225 222.252741 \nL 157.452225 224.101074 \nL 158.121825 224.101074 \nL 158.121825 221.709114 \nL 158.791425 221.709114 \nL 158.791425 222.252741 \nL 159.461025 222.252741 \nL 159.461025 221.926565 \nL 160.130625 221.926565 \nL 160.130625 223.339996 \nL 160.800225 223.339996 \nL 160.800225 222.470192 \nL 162.139425 222.470192 \nL 162.139425 222.796369 \nL 162.809025 222.796369 \nL 162.809025 223.013819 \nL 164.148225 222.905094 \nL 164.148225 221.709114 \nL 164.817825 221.709114 \nL 164.817825 222.905094 \nL 165.487425 222.905094 \nL 165.487425 222.361467 \nL 166.157025 222.361467 \nL 166.157025 223.23127 \nL 166.826625 223.23127 \nL 166.826625 222.035291 \nL 167.496225 222.035291 \nL 167.496225 222.687643 \nL 168.165825 222.687643 \nL 168.165825 221.491663 \nL 168.835425 221.491663 \nL 168.835425 222.252741 \nL 169.505025 222.252741 \nL 169.505025 223.23127 \nL 170.174625 223.23127 \nL 170.174625 223.448721 \nL 170.844225 223.448721 \nL 170.844225 222.905094 \nL 171.513825 222.905094 \nL 171.513825 223.992348 \nL 172.183425 223.992348 \nL 172.183425 221.600389 \nL 172.853025 221.600389 \nL 172.853025 222.361467 \nL 173.522625 222.361467 \nL 173.522625 223.122545 \nL 174.192225 223.122545 \nL 174.192225 222.252741 \nL 175.531425 222.144016 \nL 175.531425 222.470192 \nL 176.201025 222.470192 \nL 176.201025 222.796369 \nL 176.870625 222.796369 \nL 176.870625 223.992348 \nL 177.540225 223.992348 \nL 177.540225 222.361467 \nL 178.209825 222.361467 \nL 178.209825 221.81784 \nL 178.879425 221.81784 \nL 178.879425 223.339996 \nL 180.218625 223.448721 \nL 180.218625 222.905094 \nL 181.557825 223.013819 \nL 181.557825 223.339996 \nL 182.897025 223.448721 \nL 182.897025 222.361467 \nL 183.566625 222.361467 \nL 183.566625 221.382938 \nL 184.236225 221.382938 \nL 184.236225 222.905094 \nL 184.905825 222.905094 \nL 184.905825 222.035291 \nL 185.575425 222.035291 \nL 185.575425 224.644701 \nL 186.245025 224.644701 \nL 186.245025 223.557447 \nL 186.914625 223.557447 \nL 186.914625 222.578918 \nL 187.584225 222.578918 \nL 187.584225 220.948036 \nL 188.253825 220.948036 \nL 188.253825 223.013819 \nL 188.923425 223.013819 \nL 188.923425 222.252741 \nL 189.593025 222.252741 \nL 189.593025 221.600389 \nL 190.262625 221.600389 \nL 190.262625 222.252741 \nL 190.932225 222.252741 \nL 190.932225 220.404409 \nL 191.601825 220.404409 \nL 191.601825 222.578918 \nL 192.271425 222.578918 \nL 192.271425 223.992348 \nL 192.941025 223.992348 \nL 192.941025 222.470192 \nL 193.610625 222.470192 \nL 193.610625 222.796369 \nL 194.280225 222.796369 \nL 194.280225 223.448721 \nL 194.949825 223.448721 \nL 194.949825 222.578918 \nL 195.619425 222.578918 \nL 195.619425 223.448721 \nL 196.289025 223.448721 \nL 196.289025 221.709114 \nL 196.958625 221.709114 \nL 196.958625 223.122545 \nL 197.628225 223.122545 \nL 197.628225 222.578918 \nL 198.297825 222.578918 \nL 198.297825 223.122545 \nL 198.967425 223.122545 \nL 198.967425 222.796369 \nL 199.637025 222.796369 \nL 199.637025 223.23127 \nL 200.306625 223.23127 \nL 200.306625 222.470192 \nL 200.976225 222.470192 \nL 200.976225 223.013819 \nL 202.315425 223.122545 \nL 202.315425 222.035291 \nL 202.985025 222.035291 \nL 202.985025 222.361467 \nL 203.654625 222.361467 \nL 203.654625 222.796369 \nL 204.324225 222.796369 \nL 204.324225 222.252741 \nL 204.993825 222.252741 \nL 204.993825 222.905094 \nL 205.663425 222.905094 \nL 205.663425 222.687643 \nL 206.333025 222.687643 \nL 206.333025 221.81784 \nL 207.002625 221.81784 \nL 207.002625 221.491663 \nL 207.672225 221.491663 \nL 207.672225 223.23127 \nL 208.341825 223.23127 \nL 208.341825 222.470192 \nL 209.011425 222.470192 \nL 209.011425 221.382938 \nL 209.681025 221.382938 \nL 209.681025 222.361467 \nL 211.020225 222.470192 \nL 211.020225 222.905094 \nL 211.689825 222.905094 \nL 211.689825 220.730585 \nL 212.359425 220.730585 \nL 212.359425 223.557447 \nL 213.029025 223.557447 \nL 213.029025 222.687643 \nL 213.698625 222.687643 \nL 213.698625 222.252741 \nL 214.368225 222.252741 \nL 214.368225 223.23127 \nL 215.037825 223.23127 \nL 215.037825 221.709114 \nL 215.707425 221.709114 \nL 215.707425 222.905094 \nL 216.377025 222.905094 \nL 216.377025 221.491663 \nL 217.046625 221.491663 \nL 217.046625 221.926565 \nL 217.716225 221.926565 \nL 217.716225 221.274212 \nL 218.385825 221.274212 \nL 218.385825 222.035291 \nL 219.055425 222.035291 \nL 219.055425 222.687643 \nL 219.725025 222.687643 \nL 219.725025 223.122545 \nL 220.394625 223.122545 \nL 220.394625 222.687643 \nL 221.064225 222.687643 \nL 221.064225 223.339996 \nL 221.733825 223.339996 \nL 221.733825 223.122545 \nL 222.403425 223.122545 \nL 222.403425 222.144016 \nL 223.073025 222.144016 \nL 223.073025 223.339996 \nL 223.742625 223.339996 \nL 223.742625 222.687643 \nL 224.412225 222.687643 \nL 224.412225 223.557447 \nL 225.081825 223.557447 \nL 225.081825 222.144016 \nL 226.421025 222.252741 \nL 226.421025 223.23127 \nL 227.090625 223.23127 \nL 227.090625 223.557447 \nL 227.760225 223.557447 \nL 227.760225 222.252741 \nL 228.429825 222.252741 \nL 228.429825 221.81784 \nL 229.769025 221.926565 \nL 229.769025 222.252741 \nL 230.438625 222.252741 \nL 230.438625 222.578918 \nL 231.108225 222.578918 \nL 231.108225 223.448721 \nL 231.777825 223.448721 \nL 231.777825 222.252741 \nL 232.447425 222.252741 \nL 232.447425 222.578918 \nL 233.786625 222.470192 \nL 233.786625 222.144016 \nL 234.456225 222.144016 \nL 234.456225 223.122545 \nL 235.125825 223.122545 \nL 235.125825 223.666172 \nL 235.795425 223.666172 \nL 235.795425 221.274212 \nL 236.465025 221.274212 \nL 236.465025 222.905094 \nL 237.134625 222.905094 \nL 237.134625 222.687643 \nL 237.804225 222.687643 \nL 237.804225 223.883623 \nL 238.473825 223.883623 \nL 238.473825 221.926565 \nL 239.143425 221.926565 \nL 239.143425 223.013819 \nL 239.813025 223.013819 \nL 239.813025 222.796369 \nL 240.482625 222.796369 \nL 240.482625 221.926565 \nL 241.152225 221.926565 \nL 241.152225 223.992348 \nL 242.491425 224.101074 \nL 242.491425 222.905094 \nL 243.161025 222.905094 \nL 243.161025 222.035291 \nL 243.830625 222.035291 \nL 243.830625 221.382938 \nL 244.500225 221.382938 \nL 244.500225 222.252741 \nL 245.169825 222.252741 \nL 245.169825 222.578918 \nL 245.839425 222.578918 \nL 245.839425 223.339996 \nL 246.509025 223.339996 \nL 246.509025 223.013819 \nL 247.178625 223.013819 \nL 247.178625 223.883623 \nL 248.517825 223.774898 \nL 248.517825 222.687643 \nL 249.187425 222.687643 \nL 249.187425 223.013819 \nL 249.857025 223.013819 \nL 249.857025 223.774898 \nL 250.526625 223.774898 \nL 250.526625 222.905094 \nL 251.865825 223.013819 \nL 251.865825 222.144016 \nL 252.535425 222.144016 \nL 252.535425 222.687643 \nL 253.205025 222.687643 \nL 253.205025 220.839311 \nL 253.874625 220.839311 \nL 253.874625 221.274212 \nL 254.544225 221.274212 \nL 254.544225 221.600389 \nL 255.213825 221.600389 \nL 255.213825 222.252741 \nL 256.553025 222.144016 \nL 256.553025 222.578918 \nL 257.892225 222.470192 \nL 257.892225 220.948036 \nL 258.561825 220.948036 \nL 258.561825 222.578918 \nL 259.231425 222.578918 \nL 259.231425 222.035291 \nL 259.901025 222.035291 \nL 259.901025 222.905094 \nL 260.570625 222.905094 \nL 260.570625 221.056762 \nL 261.240225 221.056762 \nL 261.240225 223.339996 \nL 261.909825 223.339996 \nL 261.909825 222.144016 \nL 262.579425 222.144016 \nL 262.579425 221.274212 \nL 263.918625 221.274212 \nL 263.918625 223.013819 \nL 264.588225 223.013819 \nL 264.588225 222.144016 \nL 265.257825 222.144016 \nL 265.257825 220.948036 \nL 265.927425 220.948036 \nL 265.927425 223.992348 \nL 266.597025 223.992348 \nL 266.597025 221.274212 \nL 267.936225 221.165487 \nL 267.936225 222.578918 \nL 268.605825 222.578918 \nL 268.605825 223.23127 \nL 269.275425 223.23127 \nL 269.275425 221.491663 \nL 269.945025 221.491663 \nL 269.945025 222.252741 \nL 271.284225 222.144016 \nL 271.284225 223.774898 \nL 271.953825 223.774898 \nL 271.953825 223.013819 \nL 272.623425 223.013819 \nL 272.623425 222.687643 \nL 273.293025 222.687643 \nL 273.293025 221.600389 \nL 273.962625 221.600389 \nL 273.962625 223.557447 \nL 274.632225 223.557447 \nL 274.632225 223.122545 \nL 275.301825 223.122545 \nL 275.301825 221.600389 \nL 275.971425 221.600389 \nL 275.971425 222.470192 \nL 276.641025 222.470192 \nL 276.641025 222.252741 \nL 277.310625 222.252741 \nL 277.310625 222.905094 \nL 277.980225 222.905094 \nL 277.980225 223.557447 \nL 278.649825 223.557447 \nL 278.649825 222.035291 \nL 279.319425 222.035291 \nL 279.319425 222.470192 \nL 279.989025 222.470192 \nL 279.989025 222.905094 \nL 280.658625 222.905094 \nL 280.658625 222.252741 \nL 281.328225 222.252741 \nL 281.328225 225.079603 \nL 281.997825 225.079603 \nL 281.997825 223.013819 \nL 282.667425 223.013819 \nL 282.667425 221.926565 \nL 283.337025 221.926565 \nL 283.337025 223.666172 \nL 284.006625 223.666172 \nL 284.006625 222.252741 \nL 284.676225 222.252741 \nL 284.676225 222.687643 \nL 285.345825 222.687643 \nL 285.345825 224.535976 \nL 286.015425 224.535976 \nL 286.015425 222.144016 \nL 286.685025 222.144016 \nL 286.685025 223.339996 \nL 287.354625 223.339996 \nL 287.354625 221.926565 \nL 288.024225 221.926565 \nL 288.024225 222.796369 \nL 288.693825 222.796369 \nL 288.693825 223.557447 \nL 289.363425 223.557447 \nL 289.363425 222.361467 \nL 290.702625 222.470192 \nL 290.702625 223.666172 \nL 292.041825 223.666172 \nL 292.041825 221.709114 \nL 292.711425 221.709114 \nL 292.711425 223.013819 \nL 293.381025 223.013819 \nL 293.381025 222.578918 \nL 294.720225 222.687643 \nL 294.720225 223.883623 \nL 295.389825 223.883623 \nL 295.389825 223.122545 \nL 296.059425 223.122545 \nL 296.059425 221.165487 \nL 296.729025 221.165487 \nL 296.729025 224.318525 \nL 297.398625 224.318525 \nL 297.398625 223.448721 \nL 298.068225 223.448721 \nL 298.068225 222.035291 \nL 298.737825 222.035291 \nL 298.737825 223.013819 \nL 299.407425 223.013819 \nL 299.407425 223.448721 \nL 300.746625 223.448721 \nL 300.746625 222.687643 \nL 301.416225 222.687643 \nL 301.416225 222.905094 \nL 302.085825 222.905094 \nL 302.085825 223.339996 \nL 302.755425 223.339996 \nL 302.755425 222.796369 \nL 303.425025 222.796369 \nL 303.425025 223.557447 \nL 304.094625 223.557447 \nL 304.094625 223.122545 \nL 304.764225 223.122545 \nL 304.764225 223.448721 \nL 305.433825 223.448721 \nL 305.433825 222.687643 \nL 306.773025 222.796369 \nL 306.773025 222.470192 \nL 308.781825 222.470192 \nL 308.781825 221.81784 \nL 309.451425 221.81784 \nL 309.451425 222.578918 \nL 310.121025 222.578918 \nL 310.121025 223.122545 \nL 310.790625 223.122545 \nL 310.790625 228.450091 \nL 394.490625 228.450091 \nL 394.490625 228.450091 \n\" style=\"fill:none;stroke:#ff7f0e;stroke-linejoin:miter;\"/>\n   </g>\n   <g id=\"patch_5\">\n    <path clip-path=\"url(#pfe2a594ed9)\" d=\"M 59.690625 228.450091 \nL 59.690625 224.172108 \nL 61.699425 224.228645 \nL 61.699425 224.346068 \nL 62.369025 224.346068 \nL 62.369025 224.563519 \nL 63.708225 224.602661 \nL 63.708225 224.711386 \nL 66.386625 224.776621 \nL 66.386625 224.949132 \nL 67.725825 224.923038 \nL 67.725825 225.098449 \nL 69.065025 225.169482 \nL 69.065025 225.249214 \nL 71.073825 225.244865 \nL 71.073825 225.395631 \nL 73.082625 225.443471 \nL 73.082625 225.582639 \nL 73.752225 225.582639 \nL 73.752225 225.453618 \nL 74.421825 225.453618 \nL 74.421825 225.636277 \nL 75.761025 225.660921 \nL 75.761025 225.895768 \nL 76.430625 225.895768 \nL 76.430625 225.766748 \nL 77.769825 225.840681 \nL 77.769825 225.936359 \nL 79.778625 225.9755 \nL 79.778625 226.053783 \nL 81.117825 226.11032 \nL 81.117825 226.237891 \nL 83.126625 226.269784 \nL 83.126625 226.401704 \nL 85.805025 226.448094 \nL 85.805025 226.540873 \nL 87.813825 226.610457 \nL 87.813825 226.681491 \nL 91.831425 226.77427 \nL 91.831425 226.81631 \nL 95.179425 226.897492 \nL 95.179425 226.943882 \nL 97.188225 227.029412 \nL 97.188225 227.098997 \nL 101.205825 227.077251 \nL 101.205825 227.236715 \nL 102.545025 227.146836 \nL 102.545025 227.378783 \nL 108.571425 227.426623 \nL 108.571425 227.494757 \nL 113.928225 227.557093 \nL 113.928225 227.619429 \nL 119.954625 227.718007 \nL 119.954625 227.754249 \nL 127.989825 227.860075 \nL 127.989825 227.884719 \nL 137.364225 227.974599 \nL 137.364225 228.009391 \nL 167.496225 227.905014 \nL 167.496225 227.88037 \nL 175.531425 227.845578 \nL 175.531425 227.74845 \nL 180.888225 227.670167 \nL 180.888225 227.620879 \nL 185.575425 227.552744 \nL 185.575425 227.502005 \nL 190.932225 227.401978 \nL 190.932225 227.34979 \nL 195.619425 227.268608 \nL 195.619425 227.219319 \nL 200.306625 227.110594 \nL 200.306625 227.085949 \nL 205.663425 227.022164 \nL 205.663425 226.959828 \nL 208.341825 227.019265 \nL 208.341825 226.791666 \nL 209.011425 226.791666 \nL 209.011425 226.919237 \nL 212.359425 226.911989 \nL 212.359425 226.748176 \nL 215.707425 226.717733 \nL 215.707425 226.86415 \nL 217.046625 226.767022 \nL 217.046625 226.714833 \nL 223.073025 226.720632 \nL 223.073025 226.575665 \nL 224.412225 226.682941 \nL 224.412225 226.726431 \nL 226.421025 226.662645 \nL 226.421025 226.568416 \nL 228.429825 226.6409 \nL 228.429825 226.68729 \nL 232.447425 226.752525 \nL 232.447425 226.575665 \nL 233.117025 226.575665 \nL 233.117025 226.835156 \nL 233.786625 226.835156 \nL 233.786625 226.678592 \nL 235.125825 226.732229 \nL 235.125825 226.81776 \nL 243.830625 226.86415 \nL 243.830625 226.933734 \nL 248.517825 227.006217 \nL 248.517825 227.077251 \nL 253.205025 227.109144 \nL 253.205025 227.204823 \nL 257.222625 227.251212 \nL 257.222625 227.319347 \nL 259.901025 227.336743 \nL 259.901025 227.461415 \nL 266.597025 227.57014 \nL 266.597025 227.668718 \nL 274.632225 227.760047 \nL 274.632225 227.825282 \nL 277.980225 227.88182 \nL 277.980225 227.936907 \nL 284.676225 228.044183 \nL 284.676225 228.080425 \nL 289.363425 228.087673 \nL 289.363425 228.202197 \nL 303.425025 228.300775 \nL 303.425025 228.313822 \nL 321.504225 228.406601 \nL 321.504225 228.426897 \nL 394.490625 228.450091 \nL 394.490625 228.450091 \n\" style=\"fill:none;stroke:#2ca02c;stroke-linejoin:miter;\"/>\n   </g>\n   <g id=\"patch_6\">\n    <path d=\"M 59.690625 228.439219 \nL 59.690625 10.999219 \n\" style=\"fill:none;stroke:#000000;stroke-linecap:square;stroke-linejoin:miter;stroke-width:0.8;\"/>\n   </g>\n   <g id=\"patch_7\">\n    <path d=\"M 394.490625 228.439219 \nL 394.490625 10.999219 \n\" style=\"fill:none;stroke:#000000;stroke-linecap:square;stroke-linejoin:miter;stroke-width:0.8;\"/>\n   </g>\n   <g id=\"patch_8\">\n    <path d=\"M 59.690625 228.439219 \nL 394.490625 228.439219 \n\" style=\"fill:none;stroke:#000000;stroke-linecap:square;stroke-linejoin:miter;stroke-width:0.8;\"/>\n   </g>\n   <g id=\"patch_9\">\n    <path d=\"M 59.690625 10.999219 \nL 394.490625 10.999219 \n\" style=\"fill:none;stroke:#000000;stroke-linecap:square;stroke-linejoin:miter;stroke-width:0.8;\"/>\n   </g>\n   <g id=\"legend_1\">\n    <g id=\"patch_10\">\n     <path d=\"M 287.55 63.033594 \nL 387.490625 63.033594 \nQ 389.490625 63.033594 389.490625 61.033594 \nL 389.490625 17.999219 \nQ 389.490625 15.999219 387.490625 15.999219 \nL 287.55 15.999219 \nQ 285.55 15.999219 285.55 17.999219 \nL 285.55 61.033594 \nQ 285.55 63.033594 287.55 63.033594 \nz\n\" style=\"fill:#ffffff;opacity:0.8;stroke:#cccccc;stroke-linejoin:miter;\"/>\n    </g>\n    <g id=\"patch_11\">\n     <path d=\"M 289.55 27.597656 \nL 309.55 27.597656 \nL 309.55 20.597656 \nL 289.55 20.597656 \nz\n\" style=\"fill:none;stroke:#1f77b4;stroke-linejoin:miter;\"/>\n    </g>\n    <g id=\"text_17\">\n     <!-- Experiment A -->\n     <g transform=\"translate(317.55 27.597656)scale(0.1 -0.1)\">\n      <defs>\n       <path d=\"M 54.890625 54.6875 \nL 35.109375 28.078125 \nL 55.90625 0 \nL 45.3125 0 \nL 29.390625 21.484375 \nL 13.484375 0 \nL 2.875 0 \nL 24.125 28.609375 \nL 4.6875 54.6875 \nL 15.28125 54.6875 \nL 29.78125 35.203125 \nL 44.28125 54.6875 \nz\n\" id=\"DejaVuSans-120\"/>\n       <path d=\"M 18.109375 8.203125 \nL 18.109375 -20.796875 \nL 9.078125 -20.796875 \nL 9.078125 54.6875 \nL 18.109375 54.6875 \nL 18.109375 46.390625 \nQ 20.953125 51.265625 25.265625 53.625 \nQ 29.59375 56 35.59375 56 \nQ 45.5625 56 51.78125 48.09375 \nQ 58.015625 40.1875 58.015625 27.296875 \nQ 58.015625 14.40625 51.78125 6.484375 \nQ 45.5625 -1.421875 35.59375 -1.421875 \nQ 29.59375 -1.421875 25.265625 0.953125 \nQ 20.953125 3.328125 18.109375 8.203125 \nz\nM 48.6875 27.296875 \nQ 48.6875 37.203125 44.609375 42.84375 \nQ 40.53125 48.484375 33.40625 48.484375 \nQ 26.265625 48.484375 22.1875 42.84375 \nQ 18.109375 37.203125 18.109375 27.296875 \nQ 18.109375 17.390625 22.1875 11.75 \nQ 26.265625 6.109375 33.40625 6.109375 \nQ 40.53125 6.109375 44.609375 11.75 \nQ 48.6875 17.390625 48.6875 27.296875 \nz\n\" id=\"DejaVuSans-112\"/>\n       <path d=\"M 9.421875 54.6875 \nL 18.40625 54.6875 \nL 18.40625 0 \nL 9.421875 0 \nz\nM 9.421875 75.984375 \nL 18.40625 75.984375 \nL 18.40625 64.59375 \nL 9.421875 64.59375 \nz\n\" id=\"DejaVuSans-105\"/>\n       <path d=\"M 52 44.1875 \nQ 55.375 50.25 60.0625 53.125 \nQ 64.75 56 71.09375 56 \nQ 79.640625 56 84.28125 50.015625 \nQ 88.921875 44.046875 88.921875 33.015625 \nL 88.921875 0 \nL 79.890625 0 \nL 79.890625 32.71875 \nQ 79.890625 40.578125 77.09375 44.375 \nQ 74.3125 48.1875 68.609375 48.1875 \nQ 61.625 48.1875 57.5625 43.546875 \nQ 53.515625 38.921875 53.515625 30.90625 \nL 53.515625 0 \nL 44.484375 0 \nL 44.484375 32.71875 \nQ 44.484375 40.625 41.703125 44.40625 \nQ 38.921875 48.1875 33.109375 48.1875 \nQ 26.21875 48.1875 22.15625 43.53125 \nQ 18.109375 38.875 18.109375 30.90625 \nL 18.109375 0 \nL 9.078125 0 \nL 9.078125 54.6875 \nL 18.109375 54.6875 \nL 18.109375 46.1875 \nQ 21.1875 51.21875 25.484375 53.609375 \nQ 29.78125 56 35.6875 56 \nQ 41.65625 56 45.828125 52.96875 \nQ 50 49.953125 52 44.1875 \nz\n\" id=\"DejaVuSans-109\"/>\n       <path d=\"M 34.1875 63.1875 \nL 20.796875 26.90625 \nL 47.609375 26.90625 \nz\nM 28.609375 72.90625 \nL 39.796875 72.90625 \nL 67.578125 0 \nL 57.328125 0 \nL 50.6875 18.703125 \nL 17.828125 18.703125 \nL 11.1875 0 \nL 0.78125 0 \nz\n\" id=\"DejaVuSans-65\"/>\n      </defs>\n      <use xlink:href=\"#DejaVuSans-69\"/>\n      <use x=\"63.183594\" xlink:href=\"#DejaVuSans-120\"/>\n      <use x=\"122.363281\" xlink:href=\"#DejaVuSans-112\"/>\n      <use x=\"185.839844\" xlink:href=\"#DejaVuSans-101\"/>\n      <use x=\"247.363281\" xlink:href=\"#DejaVuSans-114\"/>\n      <use x=\"288.476562\" xlink:href=\"#DejaVuSans-105\"/>\n      <use x=\"316.259766\" xlink:href=\"#DejaVuSans-109\"/>\n      <use x=\"413.671875\" xlink:href=\"#DejaVuSans-101\"/>\n      <use x=\"475.195312\" xlink:href=\"#DejaVuSans-110\"/>\n      <use x=\"538.574219\" xlink:href=\"#DejaVuSans-116\"/>\n      <use x=\"577.783203\" xlink:href=\"#DejaVuSans-32\"/>\n      <use x=\"609.570312\" xlink:href=\"#DejaVuSans-65\"/>\n     </g>\n    </g>\n    <g id=\"patch_12\">\n     <path d=\"M 289.55 42.275781 \nL 309.55 42.275781 \nL 309.55 35.275781 \nL 289.55 35.275781 \nz\n\" style=\"fill:none;stroke:#ff7f0e;stroke-linejoin:miter;\"/>\n    </g>\n    <g id=\"text_18\">\n     <!-- Experiment B -->\n     <g transform=\"translate(317.55 42.275781)scale(0.1 -0.1)\">\n      <defs>\n       <path d=\"M 19.671875 34.8125 \nL 19.671875 8.109375 \nL 35.5 8.109375 \nQ 43.453125 8.109375 47.28125 11.40625 \nQ 51.125 14.703125 51.125 21.484375 \nQ 51.125 28.328125 47.28125 31.5625 \nQ 43.453125 34.8125 35.5 34.8125 \nz\nM 19.671875 64.796875 \nL 19.671875 42.828125 \nL 34.28125 42.828125 \nQ 41.5 42.828125 45.03125 45.53125 \nQ 48.578125 48.25 48.578125 53.8125 \nQ 48.578125 59.328125 45.03125 62.0625 \nQ 41.5 64.796875 34.28125 64.796875 \nz\nM 9.8125 72.90625 \nL 35.015625 72.90625 \nQ 46.296875 72.90625 52.390625 68.21875 \nQ 58.5 63.53125 58.5 54.890625 \nQ 58.5 48.1875 55.375 44.234375 \nQ 52.25 40.28125 46.1875 39.3125 \nQ 53.46875 37.75 57.5 32.78125 \nQ 61.53125 27.828125 61.53125 20.40625 \nQ 61.53125 10.640625 54.890625 5.3125 \nQ 48.25 0 35.984375 0 \nL 9.8125 0 \nz\n\" id=\"DejaVuSans-66\"/>\n      </defs>\n      <use xlink:href=\"#DejaVuSans-69\"/>\n      <use x=\"63.183594\" xlink:href=\"#DejaVuSans-120\"/>\n      <use x=\"122.363281\" xlink:href=\"#DejaVuSans-112\"/>\n      <use x=\"185.839844\" xlink:href=\"#DejaVuSans-101\"/>\n      <use x=\"247.363281\" xlink:href=\"#DejaVuSans-114\"/>\n      <use x=\"288.476562\" xlink:href=\"#DejaVuSans-105\"/>\n      <use x=\"316.259766\" xlink:href=\"#DejaVuSans-109\"/>\n      <use x=\"413.671875\" xlink:href=\"#DejaVuSans-101\"/>\n      <use x=\"475.195312\" xlink:href=\"#DejaVuSans-110\"/>\n      <use x=\"538.574219\" xlink:href=\"#DejaVuSans-116\"/>\n      <use x=\"577.783203\" xlink:href=\"#DejaVuSans-32\"/>\n      <use x=\"609.570312\" xlink:href=\"#DejaVuSans-66\"/>\n     </g>\n    </g>\n    <g id=\"patch_13\">\n     <path d=\"M 289.55 56.953906 \nL 309.55 56.953906 \nL 309.55 49.953906 \nL 289.55 49.953906 \nz\n\" style=\"fill:none;stroke:#2ca02c;stroke-linejoin:miter;\"/>\n    </g>\n    <g id=\"text_19\">\n     <!-- Experiment C -->\n     <g transform=\"translate(317.55 56.953906)scale(0.1 -0.1)\">\n      <use xlink:href=\"#DejaVuSans-69\"/>\n      <use x=\"63.183594\" xlink:href=\"#DejaVuSans-120\"/>\n      <use x=\"122.363281\" xlink:href=\"#DejaVuSans-112\"/>\n      <use x=\"185.839844\" xlink:href=\"#DejaVuSans-101\"/>\n      <use x=\"247.363281\" xlink:href=\"#DejaVuSans-114\"/>\n      <use x=\"288.476562\" xlink:href=\"#DejaVuSans-105\"/>\n      <use x=\"316.259766\" xlink:href=\"#DejaVuSans-109\"/>\n      <use x=\"413.671875\" xlink:href=\"#DejaVuSans-101\"/>\n      <use x=\"475.195312\" xlink:href=\"#DejaVuSans-110\"/>\n      <use x=\"538.574219\" xlink:href=\"#DejaVuSans-116\"/>\n      <use x=\"577.783203\" xlink:href=\"#DejaVuSans-32\"/>\n      <use x=\"609.570312\" xlink:href=\"#DejaVuSans-67\"/>\n     </g>\n    </g>\n   </g>\n  </g>\n </g>\n <defs>\n  <clipPath id=\"pfe2a594ed9\">\n   <rect height=\"217.44\" width=\"334.8\" x=\"59.690625\" y=\"10.999219\"/>\n  </clipPath>\n </defs>\n</svg>\n",
          "text/plain": "<Figure size 432x288 with 1 Axes>"
         },
         "metadata": {
          "needs_background": "light"
         },
         "output_type": "display_data"
        }
       ]
      }
     },
     "d06f3db877a7454286c587de0324fb69": {
      "model_module": "@jupyter-widgets/base",
      "model_module_version": "1.2.0",
      "model_name": "LayoutModel",
      "state": {}
     },
     "d38afceebf5d40378e8a3e60030bd62b": {
      "model_module": "@jupyter-widgets/base",
      "model_module_version": "1.2.0",
      "model_name": "LayoutModel",
      "state": {}
     },
     "d432fcd6fbf040fb8bba9c3f6f8377d1": {
      "model_module": "@jupyter-widgets/controls",
      "model_module_version": "1.5.0",
      "model_name": "SliderStyleModel",
      "state": {
       "description_width": ""
      }
     },
     "d502b5c985ef408fb1ef4438c5c276ce": {
      "model_module": "@jupyter-widgets/output",
      "model_module_version": "1.0.0",
      "model_name": "OutputModel",
      "state": {
       "layout": "IPY_MODEL_43f0e2021a54427eac9fced282110529",
       "outputs": [
        {
         "data": {
          "image/svg+xml": "<?xml version=\"1.0\" encoding=\"utf-8\" standalone=\"no\"?>\n<!DOCTYPE svg PUBLIC \"-//W3C//DTD SVG 1.1//EN\"\n  \"http://www.w3.org/Graphics/SVG/1.1/DTD/svg11.dtd\">\n<!-- Created with matplotlib (https://matplotlib.org/) -->\n<svg height=\"265.995469pt\" version=\"1.1\" viewBox=\"0 0 398.610938 265.995469\" width=\"398.610938pt\" xmlns=\"http://www.w3.org/2000/svg\" xmlns:xlink=\"http://www.w3.org/1999/xlink\">\n <metadata>\n  <rdf:RDF xmlns:cc=\"http://creativecommons.org/ns#\" xmlns:dc=\"http://purl.org/dc/elements/1.1/\" xmlns:rdf=\"http://www.w3.org/1999/02/22-rdf-syntax-ns#\">\n   <cc:Work>\n    <dc:type rdf:resource=\"http://purl.org/dc/dcmitype/StillImage\"/>\n    <dc:date>2021-06-11T03:44:53.951727</dc:date>\n    <dc:format>image/svg+xml</dc:format>\n    <dc:creator>\n     <cc:Agent>\n      <dc:title>Matplotlib v3.3.3, https://matplotlib.org/</dc:title>\n     </cc:Agent>\n    </dc:creator>\n   </cc:Work>\n  </rdf:RDF>\n </metadata>\n <defs>\n  <style type=\"text/css\">*{stroke-linecap:butt;stroke-linejoin:round;}</style>\n </defs>\n <g id=\"figure_1\">\n  <g id=\"patch_1\">\n   <path d=\"M 0 265.995469 \nL 398.610938 265.995469 \nL 398.610938 0 \nL 0 0 \nz\n\" style=\"fill:none;\"/>\n  </g>\n  <g id=\"axes_1\">\n   <g id=\"patch_2\">\n    <path d=\"M 45.478125 228.439219 \nL 380.278125 228.439219 \nL 380.278125 10.999219 \nL 45.478125 10.999219 \nz\n\" style=\"fill:#ffffff;\"/>\n   </g>\n   <g id=\"matplotlib.axis_1\">\n    <g id=\"xtick_1\">\n     <g id=\"line2d_1\">\n      <defs>\n       <path d=\"M 0 0 \nL 0 3.5 \n\" id=\"mf09e8c4768\" style=\"stroke:#000000;stroke-width:0.8;\"/>\n      </defs>\n      <g>\n       <use style=\"stroke:#000000;stroke-width:0.8;\" x=\"45.478125\" xlink:href=\"#mf09e8c4768\" y=\"228.439219\"/>\n      </g>\n     </g>\n     <g id=\"text_1\">\n      <!-- 0.0 -->\n      <g transform=\"translate(37.526563 243.037656)scale(0.1 -0.1)\">\n       <defs>\n        <path d=\"M 31.78125 66.40625 \nQ 24.171875 66.40625 20.328125 58.90625 \nQ 16.5 51.421875 16.5 36.375 \nQ 16.5 21.390625 20.328125 13.890625 \nQ 24.171875 6.390625 31.78125 6.390625 \nQ 39.453125 6.390625 43.28125 13.890625 \nQ 47.125 21.390625 47.125 36.375 \nQ 47.125 51.421875 43.28125 58.90625 \nQ 39.453125 66.40625 31.78125 66.40625 \nz\nM 31.78125 74.21875 \nQ 44.046875 74.21875 50.515625 64.515625 \nQ 56.984375 54.828125 56.984375 36.375 \nQ 56.984375 17.96875 50.515625 8.265625 \nQ 44.046875 -1.421875 31.78125 -1.421875 \nQ 19.53125 -1.421875 13.0625 8.265625 \nQ 6.59375 17.96875 6.59375 36.375 \nQ 6.59375 54.828125 13.0625 64.515625 \nQ 19.53125 74.21875 31.78125 74.21875 \nz\n\" id=\"DejaVuSans-48\"/>\n        <path d=\"M 10.6875 12.40625 \nL 21 12.40625 \nL 21 0 \nL 10.6875 0 \nz\n\" id=\"DejaVuSans-46\"/>\n       </defs>\n       <use xlink:href=\"#DejaVuSans-48\"/>\n       <use x=\"63.623047\" xlink:href=\"#DejaVuSans-46\"/>\n       <use x=\"95.410156\" xlink:href=\"#DejaVuSans-48\"/>\n      </g>\n     </g>\n    </g>\n    <g id=\"xtick_2\">\n     <g id=\"line2d_2\">\n      <g>\n       <use style=\"stroke:#000000;stroke-width:0.8;\" x=\"87.328125\" xlink:href=\"#mf09e8c4768\" y=\"228.439219\"/>\n      </g>\n     </g>\n     <g id=\"text_2\">\n      <!-- 2.5 -->\n      <g transform=\"translate(79.376563 243.037656)scale(0.1 -0.1)\">\n       <defs>\n        <path d=\"M 19.1875 8.296875 \nL 53.609375 8.296875 \nL 53.609375 0 \nL 7.328125 0 \nL 7.328125 8.296875 \nQ 12.9375 14.109375 22.625 23.890625 \nQ 32.328125 33.6875 34.8125 36.53125 \nQ 39.546875 41.84375 41.421875 45.53125 \nQ 43.3125 49.21875 43.3125 52.78125 \nQ 43.3125 58.59375 39.234375 62.25 \nQ 35.15625 65.921875 28.609375 65.921875 \nQ 23.96875 65.921875 18.8125 64.3125 \nQ 13.671875 62.703125 7.8125 59.421875 \nL 7.8125 69.390625 \nQ 13.765625 71.78125 18.9375 73 \nQ 24.125 74.21875 28.421875 74.21875 \nQ 39.75 74.21875 46.484375 68.546875 \nQ 53.21875 62.890625 53.21875 53.421875 \nQ 53.21875 48.921875 51.53125 44.890625 \nQ 49.859375 40.875 45.40625 35.40625 \nQ 44.1875 33.984375 37.640625 27.21875 \nQ 31.109375 20.453125 19.1875 8.296875 \nz\n\" id=\"DejaVuSans-50\"/>\n        <path d=\"M 10.796875 72.90625 \nL 49.515625 72.90625 \nL 49.515625 64.59375 \nL 19.828125 64.59375 \nL 19.828125 46.734375 \nQ 21.96875 47.46875 24.109375 47.828125 \nQ 26.265625 48.1875 28.421875 48.1875 \nQ 40.625 48.1875 47.75 41.5 \nQ 54.890625 34.8125 54.890625 23.390625 \nQ 54.890625 11.625 47.5625 5.09375 \nQ 40.234375 -1.421875 26.90625 -1.421875 \nQ 22.3125 -1.421875 17.546875 -0.640625 \nQ 12.796875 0.140625 7.71875 1.703125 \nL 7.71875 11.625 \nQ 12.109375 9.234375 16.796875 8.0625 \nQ 21.484375 6.890625 26.703125 6.890625 \nQ 35.15625 6.890625 40.078125 11.328125 \nQ 45.015625 15.765625 45.015625 23.390625 \nQ 45.015625 31 40.078125 35.4375 \nQ 35.15625 39.890625 26.703125 39.890625 \nQ 22.75 39.890625 18.8125 39.015625 \nQ 14.890625 38.140625 10.796875 36.28125 \nz\n\" id=\"DejaVuSans-53\"/>\n       </defs>\n       <use xlink:href=\"#DejaVuSans-50\"/>\n       <use x=\"63.623047\" xlink:href=\"#DejaVuSans-46\"/>\n       <use x=\"95.410156\" xlink:href=\"#DejaVuSans-53\"/>\n      </g>\n     </g>\n    </g>\n    <g id=\"xtick_3\">\n     <g id=\"line2d_3\">\n      <g>\n       <use style=\"stroke:#000000;stroke-width:0.8;\" x=\"129.178125\" xlink:href=\"#mf09e8c4768\" y=\"228.439219\"/>\n      </g>\n     </g>\n     <g id=\"text_3\">\n      <!-- 5.0 -->\n      <g transform=\"translate(121.226563 243.037656)scale(0.1 -0.1)\">\n       <use xlink:href=\"#DejaVuSans-53\"/>\n       <use x=\"63.623047\" xlink:href=\"#DejaVuSans-46\"/>\n       <use x=\"95.410156\" xlink:href=\"#DejaVuSans-48\"/>\n      </g>\n     </g>\n    </g>\n    <g id=\"xtick_4\">\n     <g id=\"line2d_4\">\n      <g>\n       <use style=\"stroke:#000000;stroke-width:0.8;\" x=\"171.028125\" xlink:href=\"#mf09e8c4768\" y=\"228.439219\"/>\n      </g>\n     </g>\n     <g id=\"text_4\">\n      <!-- 7.5 -->\n      <g transform=\"translate(163.076563 243.037656)scale(0.1 -0.1)\">\n       <defs>\n        <path d=\"M 8.203125 72.90625 \nL 55.078125 72.90625 \nL 55.078125 68.703125 \nL 28.609375 0 \nL 18.3125 0 \nL 43.21875 64.59375 \nL 8.203125 64.59375 \nz\n\" id=\"DejaVuSans-55\"/>\n       </defs>\n       <use xlink:href=\"#DejaVuSans-55\"/>\n       <use x=\"63.623047\" xlink:href=\"#DejaVuSans-46\"/>\n       <use x=\"95.410156\" xlink:href=\"#DejaVuSans-53\"/>\n      </g>\n     </g>\n    </g>\n    <g id=\"xtick_5\">\n     <g id=\"line2d_5\">\n      <g>\n       <use style=\"stroke:#000000;stroke-width:0.8;\" x=\"212.878125\" xlink:href=\"#mf09e8c4768\" y=\"228.439219\"/>\n      </g>\n     </g>\n     <g id=\"text_5\">\n      <!-- 10.0 -->\n      <g transform=\"translate(201.745313 243.037656)scale(0.1 -0.1)\">\n       <defs>\n        <path d=\"M 12.40625 8.296875 \nL 28.515625 8.296875 \nL 28.515625 63.921875 \nL 10.984375 60.40625 \nL 10.984375 69.390625 \nL 28.421875 72.90625 \nL 38.28125 72.90625 \nL 38.28125 8.296875 \nL 54.390625 8.296875 \nL 54.390625 0 \nL 12.40625 0 \nz\n\" id=\"DejaVuSans-49\"/>\n       </defs>\n       <use xlink:href=\"#DejaVuSans-49\"/>\n       <use x=\"63.623047\" xlink:href=\"#DejaVuSans-48\"/>\n       <use x=\"127.246094\" xlink:href=\"#DejaVuSans-46\"/>\n       <use x=\"159.033203\" xlink:href=\"#DejaVuSans-48\"/>\n      </g>\n     </g>\n    </g>\n    <g id=\"xtick_6\">\n     <g id=\"line2d_6\">\n      <g>\n       <use style=\"stroke:#000000;stroke-width:0.8;\" x=\"254.728125\" xlink:href=\"#mf09e8c4768\" y=\"228.439219\"/>\n      </g>\n     </g>\n     <g id=\"text_6\">\n      <!-- 12.5 -->\n      <g transform=\"translate(243.595313 243.037656)scale(0.1 -0.1)\">\n       <use xlink:href=\"#DejaVuSans-49\"/>\n       <use x=\"63.623047\" xlink:href=\"#DejaVuSans-50\"/>\n       <use x=\"127.246094\" xlink:href=\"#DejaVuSans-46\"/>\n       <use x=\"159.033203\" xlink:href=\"#DejaVuSans-53\"/>\n      </g>\n     </g>\n    </g>\n    <g id=\"xtick_7\">\n     <g id=\"line2d_7\">\n      <g>\n       <use style=\"stroke:#000000;stroke-width:0.8;\" x=\"296.578125\" xlink:href=\"#mf09e8c4768\" y=\"228.439219\"/>\n      </g>\n     </g>\n     <g id=\"text_7\">\n      <!-- 15.0 -->\n      <g transform=\"translate(285.445313 243.037656)scale(0.1 -0.1)\">\n       <use xlink:href=\"#DejaVuSans-49\"/>\n       <use x=\"63.623047\" xlink:href=\"#DejaVuSans-53\"/>\n       <use x=\"127.246094\" xlink:href=\"#DejaVuSans-46\"/>\n       <use x=\"159.033203\" xlink:href=\"#DejaVuSans-48\"/>\n      </g>\n     </g>\n    </g>\n    <g id=\"xtick_8\">\n     <g id=\"line2d_8\">\n      <g>\n       <use style=\"stroke:#000000;stroke-width:0.8;\" x=\"338.428125\" xlink:href=\"#mf09e8c4768\" y=\"228.439219\"/>\n      </g>\n     </g>\n     <g id=\"text_8\">\n      <!-- 17.5 -->\n      <g transform=\"translate(327.295313 243.037656)scale(0.1 -0.1)\">\n       <use xlink:href=\"#DejaVuSans-49\"/>\n       <use x=\"63.623047\" xlink:href=\"#DejaVuSans-55\"/>\n       <use x=\"127.246094\" xlink:href=\"#DejaVuSans-46\"/>\n       <use x=\"159.033203\" xlink:href=\"#DejaVuSans-53\"/>\n      </g>\n     </g>\n    </g>\n    <g id=\"xtick_9\">\n     <g id=\"line2d_9\">\n      <g>\n       <use style=\"stroke:#000000;stroke-width:0.8;\" x=\"380.278125\" xlink:href=\"#mf09e8c4768\" y=\"228.439219\"/>\n      </g>\n     </g>\n     <g id=\"text_9\">\n      <!-- 20.0 -->\n      <g transform=\"translate(369.145313 243.037656)scale(0.1 -0.1)\">\n       <use xlink:href=\"#DejaVuSans-50\"/>\n       <use x=\"63.623047\" xlink:href=\"#DejaVuSans-48\"/>\n       <use x=\"127.246094\" xlink:href=\"#DejaVuSans-46\"/>\n       <use x=\"159.033203\" xlink:href=\"#DejaVuSans-48\"/>\n      </g>\n     </g>\n    </g>\n    <g id=\"text_10\">\n     <!-- Energy (keV) -->\n     <g transform=\"translate(180.670313 256.715781)scale(0.1 -0.1)\">\n      <defs>\n       <path d=\"M 9.8125 72.90625 \nL 55.90625 72.90625 \nL 55.90625 64.59375 \nL 19.671875 64.59375 \nL 19.671875 43.015625 \nL 54.390625 43.015625 \nL 54.390625 34.71875 \nL 19.671875 34.71875 \nL 19.671875 8.296875 \nL 56.78125 8.296875 \nL 56.78125 0 \nL 9.8125 0 \nz\n\" id=\"DejaVuSans-69\"/>\n       <path d=\"M 54.890625 33.015625 \nL 54.890625 0 \nL 45.90625 0 \nL 45.90625 32.71875 \nQ 45.90625 40.484375 42.875 44.328125 \nQ 39.84375 48.1875 33.796875 48.1875 \nQ 26.515625 48.1875 22.3125 43.546875 \nQ 18.109375 38.921875 18.109375 30.90625 \nL 18.109375 0 \nL 9.078125 0 \nL 9.078125 54.6875 \nL 18.109375 54.6875 \nL 18.109375 46.1875 \nQ 21.34375 51.125 25.703125 53.5625 \nQ 30.078125 56 35.796875 56 \nQ 45.21875 56 50.046875 50.171875 \nQ 54.890625 44.34375 54.890625 33.015625 \nz\n\" id=\"DejaVuSans-110\"/>\n       <path d=\"M 56.203125 29.59375 \nL 56.203125 25.203125 \nL 14.890625 25.203125 \nQ 15.484375 15.921875 20.484375 11.0625 \nQ 25.484375 6.203125 34.421875 6.203125 \nQ 39.59375 6.203125 44.453125 7.46875 \nQ 49.3125 8.734375 54.109375 11.28125 \nL 54.109375 2.78125 \nQ 49.265625 0.734375 44.1875 -0.34375 \nQ 39.109375 -1.421875 33.890625 -1.421875 \nQ 20.796875 -1.421875 13.15625 6.1875 \nQ 5.515625 13.8125 5.515625 26.8125 \nQ 5.515625 40.234375 12.765625 48.109375 \nQ 20.015625 56 32.328125 56 \nQ 43.359375 56 49.78125 48.890625 \nQ 56.203125 41.796875 56.203125 29.59375 \nz\nM 47.21875 32.234375 \nQ 47.125 39.59375 43.09375 43.984375 \nQ 39.0625 48.390625 32.421875 48.390625 \nQ 24.90625 48.390625 20.390625 44.140625 \nQ 15.875 39.890625 15.1875 32.171875 \nz\n\" id=\"DejaVuSans-101\"/>\n       <path d=\"M 41.109375 46.296875 \nQ 39.59375 47.171875 37.8125 47.578125 \nQ 36.03125 48 33.890625 48 \nQ 26.265625 48 22.1875 43.046875 \nQ 18.109375 38.09375 18.109375 28.8125 \nL 18.109375 0 \nL 9.078125 0 \nL 9.078125 54.6875 \nL 18.109375 54.6875 \nL 18.109375 46.1875 \nQ 20.953125 51.171875 25.484375 53.578125 \nQ 30.03125 56 36.53125 56 \nQ 37.453125 56 38.578125 55.875 \nQ 39.703125 55.765625 41.0625 55.515625 \nz\n\" id=\"DejaVuSans-114\"/>\n       <path d=\"M 45.40625 27.984375 \nQ 45.40625 37.75 41.375 43.109375 \nQ 37.359375 48.484375 30.078125 48.484375 \nQ 22.859375 48.484375 18.828125 43.109375 \nQ 14.796875 37.75 14.796875 27.984375 \nQ 14.796875 18.265625 18.828125 12.890625 \nQ 22.859375 7.515625 30.078125 7.515625 \nQ 37.359375 7.515625 41.375 12.890625 \nQ 45.40625 18.265625 45.40625 27.984375 \nz\nM 54.390625 6.78125 \nQ 54.390625 -7.171875 48.1875 -13.984375 \nQ 42 -20.796875 29.203125 -20.796875 \nQ 24.46875 -20.796875 20.265625 -20.09375 \nQ 16.0625 -19.390625 12.109375 -17.921875 \nL 12.109375 -9.1875 \nQ 16.0625 -11.328125 19.921875 -12.34375 \nQ 23.78125 -13.375 27.78125 -13.375 \nQ 36.625 -13.375 41.015625 -8.765625 \nQ 45.40625 -4.15625 45.40625 5.171875 \nL 45.40625 9.625 \nQ 42.625 4.78125 38.28125 2.390625 \nQ 33.9375 0 27.875 0 \nQ 17.828125 0 11.671875 7.65625 \nQ 5.515625 15.328125 5.515625 27.984375 \nQ 5.515625 40.671875 11.671875 48.328125 \nQ 17.828125 56 27.875 56 \nQ 33.9375 56 38.28125 53.609375 \nQ 42.625 51.21875 45.40625 46.390625 \nL 45.40625 54.6875 \nL 54.390625 54.6875 \nz\n\" id=\"DejaVuSans-103\"/>\n       <path d=\"M 32.171875 -5.078125 \nQ 28.375 -14.84375 24.75 -17.8125 \nQ 21.140625 -20.796875 15.09375 -20.796875 \nL 7.90625 -20.796875 \nL 7.90625 -13.28125 \nL 13.1875 -13.28125 \nQ 16.890625 -13.28125 18.9375 -11.515625 \nQ 21 -9.765625 23.484375 -3.21875 \nL 25.09375 0.875 \nL 2.984375 54.6875 \nL 12.5 54.6875 \nL 29.59375 11.921875 \nL 46.6875 54.6875 \nL 56.203125 54.6875 \nz\n\" id=\"DejaVuSans-121\"/>\n       <path id=\"DejaVuSans-32\"/>\n       <path d=\"M 31 75.875 \nQ 24.46875 64.65625 21.28125 53.65625 \nQ 18.109375 42.671875 18.109375 31.390625 \nQ 18.109375 20.125 21.3125 9.0625 \nQ 24.515625 -2 31 -13.1875 \nL 23.1875 -13.1875 \nQ 15.875 -1.703125 12.234375 9.375 \nQ 8.59375 20.453125 8.59375 31.390625 \nQ 8.59375 42.28125 12.203125 53.3125 \nQ 15.828125 64.359375 23.1875 75.875 \nz\n\" id=\"DejaVuSans-40\"/>\n       <path d=\"M 9.078125 75.984375 \nL 18.109375 75.984375 \nL 18.109375 31.109375 \nL 44.921875 54.6875 \nL 56.390625 54.6875 \nL 27.390625 29.109375 \nL 57.625 0 \nL 45.90625 0 \nL 18.109375 26.703125 \nL 18.109375 0 \nL 9.078125 0 \nz\n\" id=\"DejaVuSans-107\"/>\n       <path d=\"M 28.609375 0 \nL 0.78125 72.90625 \nL 11.078125 72.90625 \nL 34.1875 11.53125 \nL 57.328125 72.90625 \nL 67.578125 72.90625 \nL 39.796875 0 \nz\n\" id=\"DejaVuSans-86\"/>\n       <path d=\"M 8.015625 75.875 \nL 15.828125 75.875 \nQ 23.140625 64.359375 26.78125 53.3125 \nQ 30.421875 42.28125 30.421875 31.390625 \nQ 30.421875 20.453125 26.78125 9.375 \nQ 23.140625 -1.703125 15.828125 -13.1875 \nL 8.015625 -13.1875 \nQ 14.5 -2 17.703125 9.0625 \nQ 20.90625 20.125 20.90625 31.390625 \nQ 20.90625 42.671875 17.703125 53.65625 \nQ 14.5 64.65625 8.015625 75.875 \nz\n\" id=\"DejaVuSans-41\"/>\n      </defs>\n      <use xlink:href=\"#DejaVuSans-69\"/>\n      <use x=\"63.183594\" xlink:href=\"#DejaVuSans-110\"/>\n      <use x=\"126.5625\" xlink:href=\"#DejaVuSans-101\"/>\n      <use x=\"188.085938\" xlink:href=\"#DejaVuSans-114\"/>\n      <use x=\"227.449219\" xlink:href=\"#DejaVuSans-103\"/>\n      <use x=\"290.925781\" xlink:href=\"#DejaVuSans-121\"/>\n      <use x=\"350.105469\" xlink:href=\"#DejaVuSans-32\"/>\n      <use x=\"381.892578\" xlink:href=\"#DejaVuSans-40\"/>\n      <use x=\"420.90625\" xlink:href=\"#DejaVuSans-107\"/>\n      <use x=\"475.191406\" xlink:href=\"#DejaVuSans-101\"/>\n      <use x=\"536.714844\" xlink:href=\"#DejaVuSans-86\"/>\n      <use x=\"605.123047\" xlink:href=\"#DejaVuSans-41\"/>\n     </g>\n    </g>\n   </g>\n   <g id=\"matplotlib.axis_2\">\n    <g id=\"ytick_1\">\n     <g id=\"line2d_10\">\n      <defs>\n       <path d=\"M 0 0 \nL -3.5 0 \n\" id=\"m0fa3b35f83\" style=\"stroke:#000000;stroke-width:0.8;\"/>\n      </defs>\n      <g>\n       <use style=\"stroke:#000000;stroke-width:0.8;\" x=\"45.478125\" xlink:href=\"#m0fa3b35f83\" y=\"216.091437\"/>\n      </g>\n     </g>\n     <g id=\"text_11\">\n      <!-- $\\mathdefault{10^{0}}$ -->\n      <g transform=\"translate(20.878125 219.890656)scale(0.1 -0.1)\">\n       <use transform=\"translate(0 0.765625)\" xlink:href=\"#DejaVuSans-49\"/>\n       <use transform=\"translate(63.623047 0.765625)\" xlink:href=\"#DejaVuSans-48\"/>\n       <use transform=\"translate(128.203125 39.046875)scale(0.7)\" xlink:href=\"#DejaVuSans-48\"/>\n      </g>\n     </g>\n    </g>\n    <g id=\"ytick_2\">\n     <g id=\"line2d_11\">\n      <g>\n       <use style=\"stroke:#000000;stroke-width:0.8;\" x=\"45.478125\" xlink:href=\"#m0fa3b35f83\" y=\"175.072993\"/>\n      </g>\n     </g>\n     <g id=\"text_12\">\n      <!-- $\\mathdefault{10^{1}}$ -->\n      <g transform=\"translate(20.878125 178.872212)scale(0.1 -0.1)\">\n       <use transform=\"translate(0 0.684375)\" xlink:href=\"#DejaVuSans-49\"/>\n       <use transform=\"translate(63.623047 0.684375)\" xlink:href=\"#DejaVuSans-48\"/>\n       <use transform=\"translate(128.203125 38.965625)scale(0.7)\" xlink:href=\"#DejaVuSans-49\"/>\n      </g>\n     </g>\n    </g>\n    <g id=\"ytick_3\">\n     <g id=\"line2d_12\">\n      <g>\n       <use style=\"stroke:#000000;stroke-width:0.8;\" x=\"45.478125\" xlink:href=\"#m0fa3b35f83\" y=\"134.05455\"/>\n      </g>\n     </g>\n     <g id=\"text_13\">\n      <!-- $\\mathdefault{10^{2}}$ -->\n      <g transform=\"translate(20.878125 137.853768)scale(0.1 -0.1)\">\n       <use transform=\"translate(0 0.765625)\" xlink:href=\"#DejaVuSans-49\"/>\n       <use transform=\"translate(63.623047 0.765625)\" xlink:href=\"#DejaVuSans-48\"/>\n       <use transform=\"translate(128.203125 39.046875)scale(0.7)\" xlink:href=\"#DejaVuSans-50\"/>\n      </g>\n     </g>\n    </g>\n    <g id=\"ytick_4\">\n     <g id=\"line2d_13\">\n      <g>\n       <use style=\"stroke:#000000;stroke-width:0.8;\" x=\"45.478125\" xlink:href=\"#m0fa3b35f83\" y=\"93.036106\"/>\n      </g>\n     </g>\n     <g id=\"text_14\">\n      <!-- $\\mathdefault{10^{3}}$ -->\n      <g transform=\"translate(20.878125 96.835325)scale(0.1 -0.1)\">\n       <defs>\n        <path d=\"M 40.578125 39.3125 \nQ 47.65625 37.796875 51.625 33 \nQ 55.609375 28.21875 55.609375 21.1875 \nQ 55.609375 10.40625 48.1875 4.484375 \nQ 40.765625 -1.421875 27.09375 -1.421875 \nQ 22.515625 -1.421875 17.65625 -0.515625 \nQ 12.796875 0.390625 7.625 2.203125 \nL 7.625 11.71875 \nQ 11.71875 9.328125 16.59375 8.109375 \nQ 21.484375 6.890625 26.8125 6.890625 \nQ 36.078125 6.890625 40.9375 10.546875 \nQ 45.796875 14.203125 45.796875 21.1875 \nQ 45.796875 27.640625 41.28125 31.265625 \nQ 36.765625 34.90625 28.71875 34.90625 \nL 20.21875 34.90625 \nL 20.21875 43.015625 \nL 29.109375 43.015625 \nQ 36.375 43.015625 40.234375 45.921875 \nQ 44.09375 48.828125 44.09375 54.296875 \nQ 44.09375 59.90625 40.109375 62.90625 \nQ 36.140625 65.921875 28.71875 65.921875 \nQ 24.65625 65.921875 20.015625 65.03125 \nQ 15.375 64.15625 9.8125 62.3125 \nL 9.8125 71.09375 \nQ 15.4375 72.65625 20.34375 73.4375 \nQ 25.25 74.21875 29.59375 74.21875 \nQ 40.828125 74.21875 47.359375 69.109375 \nQ 53.90625 64.015625 53.90625 55.328125 \nQ 53.90625 49.265625 50.4375 45.09375 \nQ 46.96875 40.921875 40.578125 39.3125 \nz\n\" id=\"DejaVuSans-51\"/>\n       </defs>\n       <use transform=\"translate(0 0.765625)\" xlink:href=\"#DejaVuSans-49\"/>\n       <use transform=\"translate(63.623047 0.765625)\" xlink:href=\"#DejaVuSans-48\"/>\n       <use transform=\"translate(128.203125 39.046875)scale(0.7)\" xlink:href=\"#DejaVuSans-51\"/>\n      </g>\n     </g>\n    </g>\n    <g id=\"ytick_5\">\n     <g id=\"line2d_14\">\n      <g>\n       <use style=\"stroke:#000000;stroke-width:0.8;\" x=\"45.478125\" xlink:href=\"#m0fa3b35f83\" y=\"52.017662\"/>\n      </g>\n     </g>\n     <g id=\"text_15\">\n      <!-- $\\mathdefault{10^{4}}$ -->\n      <g transform=\"translate(20.878125 55.816881)scale(0.1 -0.1)\">\n       <defs>\n        <path d=\"M 37.796875 64.3125 \nL 12.890625 25.390625 \nL 37.796875 25.390625 \nz\nM 35.203125 72.90625 \nL 47.609375 72.90625 \nL 47.609375 25.390625 \nL 58.015625 25.390625 \nL 58.015625 17.1875 \nL 47.609375 17.1875 \nL 47.609375 0 \nL 37.796875 0 \nL 37.796875 17.1875 \nL 4.890625 17.1875 \nL 4.890625 26.703125 \nz\n\" id=\"DejaVuSans-52\"/>\n       </defs>\n       <use transform=\"translate(0 0.684375)\" xlink:href=\"#DejaVuSans-49\"/>\n       <use transform=\"translate(63.623047 0.684375)\" xlink:href=\"#DejaVuSans-48\"/>\n       <use transform=\"translate(128.203125 38.965625)scale(0.7)\" xlink:href=\"#DejaVuSans-52\"/>\n      </g>\n     </g>\n    </g>\n    <g id=\"ytick_6\">\n     <g id=\"line2d_15\">\n      <g>\n       <use style=\"stroke:#000000;stroke-width:0.8;\" x=\"45.478125\" xlink:href=\"#m0fa3b35f83\" y=\"10.999219\"/>\n      </g>\n     </g>\n     <g id=\"text_16\">\n      <!-- $\\mathdefault{10^{5}}$ -->\n      <g transform=\"translate(20.878125 14.798437)scale(0.1 -0.1)\">\n       <use transform=\"translate(0 0.684375)\" xlink:href=\"#DejaVuSans-49\"/>\n       <use transform=\"translate(63.623047 0.684375)\" xlink:href=\"#DejaVuSans-48\"/>\n       <use transform=\"translate(128.203125 38.965625)scale(0.7)\" xlink:href=\"#DejaVuSans-53\"/>\n      </g>\n     </g>\n    </g>\n    <g id=\"ytick_7\">\n     <g id=\"line2d_16\">\n      <defs>\n       <path d=\"M 0 0 \nL -2 0 \n\" id=\"m61e4bccca3\" style=\"stroke:#000000;stroke-width:0.6;\"/>\n      </defs>\n      <g>\n       <use style=\"stroke:#000000;stroke-width:0.6;\" x=\"45.478125\" xlink:href=\"#m61e4bccca3\" y=\"228.439219\"/>\n      </g>\n     </g>\n    </g>\n    <g id=\"ytick_8\">\n     <g id=\"line2d_17\">\n      <g>\n       <use style=\"stroke:#000000;stroke-width:0.6;\" x=\"45.478125\" xlink:href=\"#m61e4bccca3\" y=\"225.191327\"/>\n      </g>\n     </g>\n    </g>\n    <g id=\"ytick_9\">\n     <g id=\"line2d_18\">\n      <g>\n       <use style=\"stroke:#000000;stroke-width:0.6;\" x=\"45.478125\" xlink:href=\"#m61e4bccca3\" y=\"222.445274\"/>\n      </g>\n     </g>\n    </g>\n    <g id=\"ytick_10\">\n     <g id=\"line2d_19\">\n      <g>\n       <use style=\"stroke:#000000;stroke-width:0.6;\" x=\"45.478125\" xlink:href=\"#m61e4bccca3\" y=\"220.066535\"/>\n      </g>\n     </g>\n    </g>\n    <g id=\"ytick_11\">\n     <g id=\"line2d_20\">\n      <g>\n       <use style=\"stroke:#000000;stroke-width:0.6;\" x=\"45.478125\" xlink:href=\"#m61e4bccca3\" y=\"217.968338\"/>\n      </g>\n     </g>\n    </g>\n    <g id=\"ytick_12\">\n     <g id=\"line2d_21\">\n      <g>\n       <use style=\"stroke:#000000;stroke-width:0.6;\" x=\"45.478125\" xlink:href=\"#m61e4bccca3\" y=\"203.743655\"/>\n      </g>\n     </g>\n    </g>\n    <g id=\"ytick_13\">\n     <g id=\"line2d_22\">\n      <g>\n       <use style=\"stroke:#000000;stroke-width:0.6;\" x=\"45.478125\" xlink:href=\"#m61e4bccca3\" y=\"196.520666\"/>\n      </g>\n     </g>\n    </g>\n    <g id=\"ytick_14\">\n     <g id=\"line2d_23\">\n      <g>\n       <use style=\"stroke:#000000;stroke-width:0.6;\" x=\"45.478125\" xlink:href=\"#m61e4bccca3\" y=\"191.395873\"/>\n      </g>\n     </g>\n    </g>\n    <g id=\"ytick_15\">\n     <g id=\"line2d_24\">\n      <g>\n       <use style=\"stroke:#000000;stroke-width:0.6;\" x=\"45.478125\" xlink:href=\"#m61e4bccca3\" y=\"187.420775\"/>\n      </g>\n     </g>\n    </g>\n    <g id=\"ytick_16\">\n     <g id=\"line2d_25\">\n      <g>\n       <use style=\"stroke:#000000;stroke-width:0.6;\" x=\"45.478125\" xlink:href=\"#m61e4bccca3\" y=\"184.172884\"/>\n      </g>\n     </g>\n    </g>\n    <g id=\"ytick_17\">\n     <g id=\"line2d_26\">\n      <g>\n       <use style=\"stroke:#000000;stroke-width:0.6;\" x=\"45.478125\" xlink:href=\"#m61e4bccca3\" y=\"181.426831\"/>\n      </g>\n     </g>\n    </g>\n    <g id=\"ytick_18\">\n     <g id=\"line2d_27\">\n      <g>\n       <use style=\"stroke:#000000;stroke-width:0.6;\" x=\"45.478125\" xlink:href=\"#m61e4bccca3\" y=\"179.048091\"/>\n      </g>\n     </g>\n    </g>\n    <g id=\"ytick_19\">\n     <g id=\"line2d_28\">\n      <g>\n       <use style=\"stroke:#000000;stroke-width:0.6;\" x=\"45.478125\" xlink:href=\"#m61e4bccca3\" y=\"176.949894\"/>\n      </g>\n     </g>\n    </g>\n    <g id=\"ytick_20\">\n     <g id=\"line2d_29\">\n      <g>\n       <use style=\"stroke:#000000;stroke-width:0.6;\" x=\"45.478125\" xlink:href=\"#m61e4bccca3\" y=\"162.725211\"/>\n      </g>\n     </g>\n    </g>\n    <g id=\"ytick_21\">\n     <g id=\"line2d_30\">\n      <g>\n       <use style=\"stroke:#000000;stroke-width:0.6;\" x=\"45.478125\" xlink:href=\"#m61e4bccca3\" y=\"155.502222\"/>\n      </g>\n     </g>\n    </g>\n    <g id=\"ytick_22\">\n     <g id=\"line2d_31\">\n      <g>\n       <use style=\"stroke:#000000;stroke-width:0.6;\" x=\"45.478125\" xlink:href=\"#m61e4bccca3\" y=\"150.377429\"/>\n      </g>\n     </g>\n    </g>\n    <g id=\"ytick_23\">\n     <g id=\"line2d_32\">\n      <g>\n       <use style=\"stroke:#000000;stroke-width:0.6;\" x=\"45.478125\" xlink:href=\"#m61e4bccca3\" y=\"146.402332\"/>\n      </g>\n     </g>\n    </g>\n    <g id=\"ytick_24\">\n     <g id=\"line2d_33\">\n      <g>\n       <use style=\"stroke:#000000;stroke-width:0.6;\" x=\"45.478125\" xlink:href=\"#m61e4bccca3\" y=\"143.15444\"/>\n      </g>\n     </g>\n    </g>\n    <g id=\"ytick_25\">\n     <g id=\"line2d_34\">\n      <g>\n       <use style=\"stroke:#000000;stroke-width:0.6;\" x=\"45.478125\" xlink:href=\"#m61e4bccca3\" y=\"140.408387\"/>\n      </g>\n     </g>\n    </g>\n    <g id=\"ytick_26\">\n     <g id=\"line2d_35\">\n      <g>\n       <use style=\"stroke:#000000;stroke-width:0.6;\" x=\"45.478125\" xlink:href=\"#m61e4bccca3\" y=\"138.029648\"/>\n      </g>\n     </g>\n    </g>\n    <g id=\"ytick_27\">\n     <g id=\"line2d_36\">\n      <g>\n       <use style=\"stroke:#000000;stroke-width:0.6;\" x=\"45.478125\" xlink:href=\"#m61e4bccca3\" y=\"135.931451\"/>\n      </g>\n     </g>\n    </g>\n    <g id=\"ytick_28\">\n     <g id=\"line2d_37\">\n      <g>\n       <use style=\"stroke:#000000;stroke-width:0.6;\" x=\"45.478125\" xlink:href=\"#m61e4bccca3\" y=\"121.706768\"/>\n      </g>\n     </g>\n    </g>\n    <g id=\"ytick_29\">\n     <g id=\"line2d_38\">\n      <g>\n       <use style=\"stroke:#000000;stroke-width:0.6;\" x=\"45.478125\" xlink:href=\"#m61e4bccca3\" y=\"114.483778\"/>\n      </g>\n     </g>\n    </g>\n    <g id=\"ytick_30\">\n     <g id=\"line2d_39\">\n      <g>\n       <use style=\"stroke:#000000;stroke-width:0.6;\" x=\"45.478125\" xlink:href=\"#m61e4bccca3\" y=\"109.358986\"/>\n      </g>\n     </g>\n    </g>\n    <g id=\"ytick_31\">\n     <g id=\"line2d_40\">\n      <g>\n       <use style=\"stroke:#000000;stroke-width:0.6;\" x=\"45.478125\" xlink:href=\"#m61e4bccca3\" y=\"105.383888\"/>\n      </g>\n     </g>\n    </g>\n    <g id=\"ytick_32\">\n     <g id=\"line2d_41\">\n      <g>\n       <use style=\"stroke:#000000;stroke-width:0.6;\" x=\"45.478125\" xlink:href=\"#m61e4bccca3\" y=\"102.135996\"/>\n      </g>\n     </g>\n    </g>\n    <g id=\"ytick_33\">\n     <g id=\"line2d_42\">\n      <g>\n       <use style=\"stroke:#000000;stroke-width:0.6;\" x=\"45.478125\" xlink:href=\"#m61e4bccca3\" y=\"99.389943\"/>\n      </g>\n     </g>\n    </g>\n    <g id=\"ytick_34\">\n     <g id=\"line2d_43\">\n      <g>\n       <use style=\"stroke:#000000;stroke-width:0.6;\" x=\"45.478125\" xlink:href=\"#m61e4bccca3\" y=\"97.011204\"/>\n      </g>\n     </g>\n    </g>\n    <g id=\"ytick_35\">\n     <g id=\"line2d_44\">\n      <g>\n       <use style=\"stroke:#000000;stroke-width:0.6;\" x=\"45.478125\" xlink:href=\"#m61e4bccca3\" y=\"94.913007\"/>\n      </g>\n     </g>\n    </g>\n    <g id=\"ytick_36\">\n     <g id=\"line2d_45\">\n      <g>\n       <use style=\"stroke:#000000;stroke-width:0.6;\" x=\"45.478125\" xlink:href=\"#m61e4bccca3\" y=\"80.688324\"/>\n      </g>\n     </g>\n    </g>\n    <g id=\"ytick_37\">\n     <g id=\"line2d_46\">\n      <g>\n       <use style=\"stroke:#000000;stroke-width:0.6;\" x=\"45.478125\" xlink:href=\"#m61e4bccca3\" y=\"73.465335\"/>\n      </g>\n     </g>\n    </g>\n    <g id=\"ytick_38\">\n     <g id=\"line2d_47\">\n      <g>\n       <use style=\"stroke:#000000;stroke-width:0.6;\" x=\"45.478125\" xlink:href=\"#m61e4bccca3\" y=\"68.340542\"/>\n      </g>\n     </g>\n    </g>\n    <g id=\"ytick_39\">\n     <g id=\"line2d_48\">\n      <g>\n       <use style=\"stroke:#000000;stroke-width:0.6;\" x=\"45.478125\" xlink:href=\"#m61e4bccca3\" y=\"64.365444\"/>\n      </g>\n     </g>\n    </g>\n    <g id=\"ytick_40\">\n     <g id=\"line2d_49\">\n      <g>\n       <use style=\"stroke:#000000;stroke-width:0.6;\" x=\"45.478125\" xlink:href=\"#m61e4bccca3\" y=\"61.117553\"/>\n      </g>\n     </g>\n    </g>\n    <g id=\"ytick_41\">\n     <g id=\"line2d_50\">\n      <g>\n       <use style=\"stroke:#000000;stroke-width:0.6;\" x=\"45.478125\" xlink:href=\"#m61e4bccca3\" y=\"58.3715\"/>\n      </g>\n     </g>\n    </g>\n    <g id=\"ytick_42\">\n     <g id=\"line2d_51\">\n      <g>\n       <use style=\"stroke:#000000;stroke-width:0.6;\" x=\"45.478125\" xlink:href=\"#m61e4bccca3\" y=\"55.99276\"/>\n      </g>\n     </g>\n    </g>\n    <g id=\"ytick_43\">\n     <g id=\"line2d_52\">\n      <g>\n       <use style=\"stroke:#000000;stroke-width:0.6;\" x=\"45.478125\" xlink:href=\"#m61e4bccca3\" y=\"53.894563\"/>\n      </g>\n     </g>\n    </g>\n    <g id=\"ytick_44\">\n     <g id=\"line2d_53\">\n      <g>\n       <use style=\"stroke:#000000;stroke-width:0.6;\" x=\"45.478125\" xlink:href=\"#m61e4bccca3\" y=\"39.66988\"/>\n      </g>\n     </g>\n    </g>\n    <g id=\"ytick_45\">\n     <g id=\"line2d_54\">\n      <g>\n       <use style=\"stroke:#000000;stroke-width:0.6;\" x=\"45.478125\" xlink:href=\"#m61e4bccca3\" y=\"32.446891\"/>\n      </g>\n     </g>\n    </g>\n    <g id=\"ytick_46\">\n     <g id=\"line2d_55\">\n      <g>\n       <use style=\"stroke:#000000;stroke-width:0.6;\" x=\"45.478125\" xlink:href=\"#m61e4bccca3\" y=\"27.322099\"/>\n      </g>\n     </g>\n    </g>\n    <g id=\"ytick_47\">\n     <g id=\"line2d_56\">\n      <g>\n       <use style=\"stroke:#000000;stroke-width:0.6;\" x=\"45.478125\" xlink:href=\"#m61e4bccca3\" y=\"23.347001\"/>\n      </g>\n     </g>\n    </g>\n    <g id=\"ytick_48\">\n     <g id=\"line2d_57\">\n      <g>\n       <use style=\"stroke:#000000;stroke-width:0.6;\" x=\"45.478125\" xlink:href=\"#m61e4bccca3\" y=\"20.099109\"/>\n      </g>\n     </g>\n    </g>\n    <g id=\"ytick_49\">\n     <g id=\"line2d_58\">\n      <g>\n       <use style=\"stroke:#000000;stroke-width:0.6;\" x=\"45.478125\" xlink:href=\"#m61e4bccca3\" y=\"17.353056\"/>\n      </g>\n     </g>\n    </g>\n    <g id=\"ytick_50\">\n     <g id=\"line2d_59\">\n      <g>\n       <use style=\"stroke:#000000;stroke-width:0.6;\" x=\"45.478125\" xlink:href=\"#m61e4bccca3\" y=\"14.974317\"/>\n      </g>\n     </g>\n    </g>\n    <g id=\"ytick_51\">\n     <g id=\"line2d_60\">\n      <g>\n       <use style=\"stroke:#000000;stroke-width:0.6;\" x=\"45.478125\" xlink:href=\"#m61e4bccca3\" y=\"12.87612\"/>\n      </g>\n     </g>\n    </g>\n    <g id=\"text_17\">\n     <!-- Counts / (40.0 eV kg days) -->\n     <g transform=\"translate(14.798438 186.205156)rotate(-90)scale(0.1 -0.1)\">\n      <defs>\n       <path d=\"M 64.40625 67.28125 \nL 64.40625 56.890625 \nQ 59.421875 61.53125 53.78125 63.8125 \nQ 48.140625 66.109375 41.796875 66.109375 \nQ 29.296875 66.109375 22.65625 58.46875 \nQ 16.015625 50.828125 16.015625 36.375 \nQ 16.015625 21.96875 22.65625 14.328125 \nQ 29.296875 6.6875 41.796875 6.6875 \nQ 48.140625 6.6875 53.78125 8.984375 \nQ 59.421875 11.28125 64.40625 15.921875 \nL 64.40625 5.609375 \nQ 59.234375 2.09375 53.4375 0.328125 \nQ 47.65625 -1.421875 41.21875 -1.421875 \nQ 24.65625 -1.421875 15.125 8.703125 \nQ 5.609375 18.84375 5.609375 36.375 \nQ 5.609375 53.953125 15.125 64.078125 \nQ 24.65625 74.21875 41.21875 74.21875 \nQ 47.75 74.21875 53.53125 72.484375 \nQ 59.328125 70.75 64.40625 67.28125 \nz\n\" id=\"DejaVuSans-67\"/>\n       <path d=\"M 30.609375 48.390625 \nQ 23.390625 48.390625 19.1875 42.75 \nQ 14.984375 37.109375 14.984375 27.296875 \nQ 14.984375 17.484375 19.15625 11.84375 \nQ 23.34375 6.203125 30.609375 6.203125 \nQ 37.796875 6.203125 41.984375 11.859375 \nQ 46.1875 17.53125 46.1875 27.296875 \nQ 46.1875 37.015625 41.984375 42.703125 \nQ 37.796875 48.390625 30.609375 48.390625 \nz\nM 30.609375 56 \nQ 42.328125 56 49.015625 48.375 \nQ 55.71875 40.765625 55.71875 27.296875 \nQ 55.71875 13.875 49.015625 6.21875 \nQ 42.328125 -1.421875 30.609375 -1.421875 \nQ 18.84375 -1.421875 12.171875 6.21875 \nQ 5.515625 13.875 5.515625 27.296875 \nQ 5.515625 40.765625 12.171875 48.375 \nQ 18.84375 56 30.609375 56 \nz\n\" id=\"DejaVuSans-111\"/>\n       <path d=\"M 8.5 21.578125 \nL 8.5 54.6875 \nL 17.484375 54.6875 \nL 17.484375 21.921875 \nQ 17.484375 14.15625 20.5 10.265625 \nQ 23.53125 6.390625 29.59375 6.390625 \nQ 36.859375 6.390625 41.078125 11.03125 \nQ 45.3125 15.671875 45.3125 23.6875 \nL 45.3125 54.6875 \nL 54.296875 54.6875 \nL 54.296875 0 \nL 45.3125 0 \nL 45.3125 8.40625 \nQ 42.046875 3.421875 37.71875 1 \nQ 33.40625 -1.421875 27.6875 -1.421875 \nQ 18.265625 -1.421875 13.375 4.4375 \nQ 8.5 10.296875 8.5 21.578125 \nz\nM 31.109375 56 \nz\n\" id=\"DejaVuSans-117\"/>\n       <path d=\"M 18.3125 70.21875 \nL 18.3125 54.6875 \nL 36.8125 54.6875 \nL 36.8125 47.703125 \nL 18.3125 47.703125 \nL 18.3125 18.015625 \nQ 18.3125 11.328125 20.140625 9.421875 \nQ 21.96875 7.515625 27.59375 7.515625 \nL 36.8125 7.515625 \nL 36.8125 0 \nL 27.59375 0 \nQ 17.1875 0 13.234375 3.875 \nQ 9.28125 7.765625 9.28125 18.015625 \nL 9.28125 47.703125 \nL 2.6875 47.703125 \nL 2.6875 54.6875 \nL 9.28125 54.6875 \nL 9.28125 70.21875 \nz\n\" id=\"DejaVuSans-116\"/>\n       <path d=\"M 44.28125 53.078125 \nL 44.28125 44.578125 \nQ 40.484375 46.53125 36.375 47.5 \nQ 32.28125 48.484375 27.875 48.484375 \nQ 21.1875 48.484375 17.84375 46.4375 \nQ 14.5 44.390625 14.5 40.28125 \nQ 14.5 37.15625 16.890625 35.375 \nQ 19.28125 33.59375 26.515625 31.984375 \nL 29.59375 31.296875 \nQ 39.15625 29.25 43.1875 25.515625 \nQ 47.21875 21.78125 47.21875 15.09375 \nQ 47.21875 7.46875 41.1875 3.015625 \nQ 35.15625 -1.421875 24.609375 -1.421875 \nQ 20.21875 -1.421875 15.453125 -0.5625 \nQ 10.6875 0.296875 5.421875 2 \nL 5.421875 11.28125 \nQ 10.40625 8.6875 15.234375 7.390625 \nQ 20.0625 6.109375 24.8125 6.109375 \nQ 31.15625 6.109375 34.5625 8.28125 \nQ 37.984375 10.453125 37.984375 14.40625 \nQ 37.984375 18.0625 35.515625 20.015625 \nQ 33.0625 21.96875 24.703125 23.78125 \nL 21.578125 24.515625 \nQ 13.234375 26.265625 9.515625 29.90625 \nQ 5.8125 33.546875 5.8125 39.890625 \nQ 5.8125 47.609375 11.28125 51.796875 \nQ 16.75 56 26.8125 56 \nQ 31.78125 56 36.171875 55.265625 \nQ 40.578125 54.546875 44.28125 53.078125 \nz\n\" id=\"DejaVuSans-115\"/>\n       <path d=\"M 25.390625 72.90625 \nL 33.6875 72.90625 \nL 8.296875 -9.28125 \nL 0 -9.28125 \nz\n\" id=\"DejaVuSans-47\"/>\n       <path d=\"M 45.40625 46.390625 \nL 45.40625 75.984375 \nL 54.390625 75.984375 \nL 54.390625 0 \nL 45.40625 0 \nL 45.40625 8.203125 \nQ 42.578125 3.328125 38.25 0.953125 \nQ 33.9375 -1.421875 27.875 -1.421875 \nQ 17.96875 -1.421875 11.734375 6.484375 \nQ 5.515625 14.40625 5.515625 27.296875 \nQ 5.515625 40.1875 11.734375 48.09375 \nQ 17.96875 56 27.875 56 \nQ 33.9375 56 38.25 53.625 \nQ 42.578125 51.265625 45.40625 46.390625 \nz\nM 14.796875 27.296875 \nQ 14.796875 17.390625 18.875 11.75 \nQ 22.953125 6.109375 30.078125 6.109375 \nQ 37.203125 6.109375 41.296875 11.75 \nQ 45.40625 17.390625 45.40625 27.296875 \nQ 45.40625 37.203125 41.296875 42.84375 \nQ 37.203125 48.484375 30.078125 48.484375 \nQ 22.953125 48.484375 18.875 42.84375 \nQ 14.796875 37.203125 14.796875 27.296875 \nz\n\" id=\"DejaVuSans-100\"/>\n       <path d=\"M 34.28125 27.484375 \nQ 23.390625 27.484375 19.1875 25 \nQ 14.984375 22.515625 14.984375 16.5 \nQ 14.984375 11.71875 18.140625 8.90625 \nQ 21.296875 6.109375 26.703125 6.109375 \nQ 34.1875 6.109375 38.703125 11.40625 \nQ 43.21875 16.703125 43.21875 25.484375 \nL 43.21875 27.484375 \nz\nM 52.203125 31.203125 \nL 52.203125 0 \nL 43.21875 0 \nL 43.21875 8.296875 \nQ 40.140625 3.328125 35.546875 0.953125 \nQ 30.953125 -1.421875 24.3125 -1.421875 \nQ 15.921875 -1.421875 10.953125 3.296875 \nQ 6 8.015625 6 15.921875 \nQ 6 25.140625 12.171875 29.828125 \nQ 18.359375 34.515625 30.609375 34.515625 \nL 43.21875 34.515625 \nL 43.21875 35.40625 \nQ 43.21875 41.609375 39.140625 45 \nQ 35.0625 48.390625 27.6875 48.390625 \nQ 23 48.390625 18.546875 47.265625 \nQ 14.109375 46.140625 10.015625 43.890625 \nL 10.015625 52.203125 \nQ 14.9375 54.109375 19.578125 55.046875 \nQ 24.21875 56 28.609375 56 \nQ 40.484375 56 46.34375 49.84375 \nQ 52.203125 43.703125 52.203125 31.203125 \nz\n\" id=\"DejaVuSans-97\"/>\n      </defs>\n      <use xlink:href=\"#DejaVuSans-67\"/>\n      <use x=\"69.824219\" xlink:href=\"#DejaVuSans-111\"/>\n      <use x=\"131.005859\" xlink:href=\"#DejaVuSans-117\"/>\n      <use x=\"194.384766\" xlink:href=\"#DejaVuSans-110\"/>\n      <use x=\"257.763672\" xlink:href=\"#DejaVuSans-116\"/>\n      <use x=\"296.972656\" xlink:href=\"#DejaVuSans-115\"/>\n      <use x=\"349.072266\" xlink:href=\"#DejaVuSans-32\"/>\n      <use x=\"380.859375\" xlink:href=\"#DejaVuSans-47\"/>\n      <use x=\"414.550781\" xlink:href=\"#DejaVuSans-32\"/>\n      <use x=\"446.337891\" xlink:href=\"#DejaVuSans-40\"/>\n      <use x=\"485.351562\" xlink:href=\"#DejaVuSans-52\"/>\n      <use x=\"548.974609\" xlink:href=\"#DejaVuSans-48\"/>\n      <use x=\"612.597656\" xlink:href=\"#DejaVuSans-46\"/>\n      <use x=\"644.384766\" xlink:href=\"#DejaVuSans-48\"/>\n      <use x=\"708.007812\" xlink:href=\"#DejaVuSans-32\"/>\n      <use x=\"739.794922\" xlink:href=\"#DejaVuSans-101\"/>\n      <use x=\"801.318359\" xlink:href=\"#DejaVuSans-86\"/>\n      <use x=\"869.726562\" xlink:href=\"#DejaVuSans-32\"/>\n      <use x=\"901.513672\" xlink:href=\"#DejaVuSans-107\"/>\n      <use x=\"959.423828\" xlink:href=\"#DejaVuSans-103\"/>\n      <use x=\"1022.900391\" xlink:href=\"#DejaVuSans-32\"/>\n      <use x=\"1054.6875\" xlink:href=\"#DejaVuSans-100\"/>\n      <use x=\"1118.164062\" xlink:href=\"#DejaVuSans-97\"/>\n      <use x=\"1179.443359\" xlink:href=\"#DejaVuSans-121\"/>\n      <use x=\"1238.623047\" xlink:href=\"#DejaVuSans-115\"/>\n      <use x=\"1290.722656\" xlink:href=\"#DejaVuSans-41\"/>\n     </g>\n    </g>\n   </g>\n   <g id=\"patch_3\">\n    <path clip-path=\"url(#pca3578ba74)\" d=\"M 264.437325 266.995469 \nL 264.437325 11.109037 \nL 265.106925 11.109037 \nL 265.106925 -0.131521 \nL 265.776525 -0.131521 \nL 265.776525 0.456424 \nL 267.115725 0.515804 \nL 267.115725 1.228766 \nL 267.785325 1.228766 \nL 267.785325 2.117275 \nL 268.454925 2.117275 \nL 268.454925 2.567593 \nL 269.124525 2.567593 \nL 269.124525 3.445368 \nL 269.794125 3.445368 \nL 269.794125 4.130266 \nL 270.463725 4.130266 \nL 270.463725 4.748014 \nL 271.133325 4.748014 \nL 271.133325 6.317482 \nL 271.802925 6.317482 \nL 271.802925 5.990983 \nL 272.472525 5.990983 \nL 272.472525 6.875307 \nL 273.142125 6.875307 \nL 273.142125 7.97078 \nL 273.811725 7.97078 \nL 273.811725 8.677598 \nL 274.481325 8.677598 \nL 274.481325 9.544791 \nL 275.150925 9.544791 \nL 275.150925 10.266855 \nL 275.820525 10.266855 \nL 275.820525 10.447711 \nL 276.490125 10.447711 \nL 276.490125 11.435411 \nL 277.159725 11.435411 \nL 277.159725 11.945878 \nL 277.829325 11.945878 \nL 277.829325 12.549154 \nL 278.498925 12.549154 \nL 278.498925 14.126651 \nL 279.168525 14.126651 \nL 279.168525 14.798961 \nL 280.507725 14.86539 \nL 280.507725 16.165089 \nL 281.177325 16.165089 \nL 281.177325 16.599895 \nL 281.846925 16.599895 \nL 281.846925 17.374543 \nL 282.516525 17.374543 \nL 282.516525 16.84612 \nL 283.186125 16.84612 \nL 283.186125 18.562589 \nL 283.855725 18.562589 \nL 283.855725 19.201852 \nL 284.525325 19.201852 \nL 284.525325 19.909025 \nL 285.194925 19.909025 \nL 285.194925 21.048907 \nL 285.864525 21.048907 \nL 285.864525 21.835068 \nL 286.534125 21.835068 \nL 286.534125 22.033004 \nL 287.203725 22.033004 \nL 287.203725 22.4017 \nL 287.873325 22.4017 \nL 287.873325 24.29366 \nL 288.542925 24.29366 \nL 288.542925 23.501792 \nL 289.212525 23.501792 \nL 289.212525 25.765114 \nL 289.882125 25.765114 \nL 289.882125 25.622519 \nL 290.551725 25.622519 \nL 290.551725 26.905266 \nL 291.890925 26.992698 \nL 291.890925 27.845424 \nL 292.560525 27.845424 \nL 292.560525 28.862296 \nL 293.230125 28.862296 \nL 293.230125 29.760676 \nL 293.899725 29.760676 \nL 293.899725 30.385796 \nL 294.569325 30.385796 \nL 294.569325 30.070494 \nL 295.238925 30.070494 \nL 295.238925 31.935824 \nL 295.908525 31.935824 \nL 295.908525 32.58368 \nL 297.247725 32.493936 \nL 297.247725 33.601905 \nL 297.917325 33.601905 \nL 297.917325 34.749482 \nL 298.586925 34.749482 \nL 298.586925 34.150073 \nL 299.256525 34.150073 \nL 299.256525 34.715647 \nL 299.926125 34.715647 \nL 299.926125 37.450437 \nL 300.595725 37.450437 \nL 300.595725 36.60382 \nL 301.265325 36.60382 \nL 301.265325 37.529435 \nL 301.934925 37.529435 \nL 301.934925 38.464025 \nL 302.604525 38.464025 \nL 302.604525 38.928951 \nL 303.274125 38.928951 \nL 303.274125 39.494525 \nL 303.943725 39.494525 \nL 303.943725 41.016445 \nL 304.613325 41.016445 \nL 304.613325 42.418276 \nL 305.282925 42.418276 \nL 305.282925 42.057341 \nL 305.952525 42.057341 \nL 305.952525 40.824894 \nL 306.622125 40.824894 \nL 306.622125 44.053743 \nL 307.291725 44.053743 \nL 307.291725 46.497855 \nL 307.961325 46.497855 \nL 307.961325 44.283605 \nL 308.630925 44.283605 \nL 308.630925 45.233915 \nL 309.300525 45.233915 \nL 309.300525 47.165128 \nL 309.970125 47.165128 \nL 309.970125 46.895212 \nL 310.639725 46.895212 \nL 310.639725 47.787819 \nL 311.309325 47.787819 \nL 311.309325 47.439196 \nL 311.978925 47.439196 \nL 311.978925 51.362584 \nL 312.648525 51.362584 \nL 312.648525 48.506226 \nL 313.318125 48.506226 \nL 313.318125 46.173364 \nL 313.987725 46.173364 \nL 313.987725 52.064707 \nL 314.657325 52.064707 \nL 314.657325 51.448851 \nL 315.326925 51.448851 \nL 315.326925 53.852315 \nL 315.996525 53.852315 \nL 315.996525 54.662185 \nL 316.666125 54.662185 \nL 316.666125 52.244649 \nL 317.335725 52.244649 \nL 317.335725 54.870539 \nL 318.005325 54.870539 \nL 318.005325 55.729216 \nL 318.674925 55.729216 \nL 318.674925 57.460099 \nL 319.344525 57.460099 \nL 319.344525 58.329251 \nL 320.014125 58.329251 \nL 320.014125 58.585573 \nL 320.683725 58.585573 \nL 320.683725 59.109554 \nL 321.353325 59.109554 \nL 321.353325 57.219364 \nL 322.022925 57.219364 \nL 322.022925 58.845637 \nL 322.692525 58.845637 \nL 322.692525 60.927468 \nL 323.362125 60.927468 \nL 323.362125 63.285188 \nL 324.031725 63.285188 \nL 324.031725 61.374707 \nL 324.701325 61.374707 \nL 324.701325 63.117919 \nL 325.370925 63.117919 \nL 325.370925 63.796632 \nL 326.040525 63.796632 \nL 326.040525 65.236938 \nL 326.710125 65.236938 \nL 326.710125 66.804022 \nL 327.379725 66.804022 \nL 327.379725 68.076998 \nL 328.718925 68.076998 \nL 328.718925 63.624514 \nL 329.388525 63.624514 \nL 329.388525 69.212036 \nL 330.058125 69.212036 \nL 330.058125 66.399139 \nL 330.727725 66.399139 \nL 330.727725 69.447988 \nL 331.397325 69.447988 \nL 331.397325 67.858417 \nL 332.066925 67.858417 \nL 332.066925 70.424346 \nL 332.736525 70.424346 \nL 332.736525 71.997198 \nL 333.406125 71.997198 \nL 333.406125 70.424346 \nL 334.075725 70.424346 \nL 334.075725 72.553934 \nL 335.414925 72.553934 \nL 335.414925 75.299987 \nL 336.084525 75.299987 \nL 336.084525 69.447988 \nL 336.754125 69.447988 \nL 336.754125 65.425449 \nL 337.423725 65.425449 \nL 337.423725 64.145939 \nL 338.093325 64.145939 \nL 338.093325 57.704131 \nL 338.762925 57.704131 \nL 338.762925 52.335306 \nL 339.432525 52.335306 \nL 339.432525 42.159721 \nL 340.102125 42.159721 \nL 340.102125 36.754787 \nL 340.771725 36.754787 \nL 340.771725 27.937605 \nL 341.441325 27.937605 \nL 341.441325 20.815021 \nL 342.110925 20.815021 \nL 342.110925 14.590221 \nL 342.780525 14.590221 \nL 342.780525 8.66193 \nL 343.450125 8.66193 \nL 343.450125 3.592035 \nL 344.119725 3.592035 \nL 344.119725 -1 \nM 352.824525 -1 \nL 352.824525 3.811343 \nL 353.494125 3.811343 \nL 353.494125 9.511908 \nL 354.163725 9.511908 \nL 354.163725 14.579302 \nL 354.833325 14.579302 \nL 354.833325 21.950264 \nL 355.502925 21.950264 \nL 355.502925 28.57263 \nL 356.172525 28.57263 \nL 356.172525 37.68849 \nL 356.842125 37.68849 \nL 356.842125 46.695426 \nL 357.511725 46.695426 \nL 357.511725 54.558915 \nL 358.181325 54.558915 \nL 358.181325 63.285188 \nL 358.850925 63.285188 \nL 358.850925 73.722489 \nL 359.520525 73.722489 \nL 359.520525 83.024815 \nL 360.190125 83.024815 \nL 360.190125 90.504126 \nL 360.859725 90.504126 \nL 360.859725 93.9076 \nL 361.529325 93.9076 \nL 361.529325 98.11865 \nL 362.198925 98.11865 \nL 362.198925 102.093748 \nL 362.868525 102.093748 \nL 362.868525 103.643776 \nL 363.538125 103.643776 \nL 363.538125 100.66786 \nL 364.207725 100.66786 \nL 364.207725 107.21854 \nL 364.877325 107.21854 \nL 364.877325 111.695476 \nL 365.546925 111.695476 \nL 365.546925 103.643776 \nL 366.216525 103.643776 \nL 366.216525 100.66786 \nL 366.886125 100.66786 \nL 366.886125 107.21854 \nL 367.555725 107.21854 \nL 367.555725 114.44153 \nL 368.225325 114.44153 \nL 368.225325 103.643776 \nL 369.564525 103.643776 \nL 369.564525 111.695476 \nL 370.903725 111.695476 \nL 370.903725 105.341639 \nL 371.573325 105.341639 \nL 371.573325 117.689421 \nL 372.242925 117.689421 \nL 372.242925 114.44153 \nL 372.912525 114.44153 \nL 372.912525 111.695476 \nL 373.582125 111.695476 \nL 373.582125 103.643776 \nL 374.251725 103.643776 \nL 374.251725 114.44153 \nL 374.921325 114.44153 \nL 374.921325 117.689421 \nL 375.590925 117.689421 \nL 375.590925 121.664519 \nL 376.260525 121.664519 \nL 376.260525 117.689421 \nL 376.930125 117.689421 \nL 376.930125 121.664519 \nL 377.599725 121.664519 \nL 377.599725 107.21854 \nL 378.269325 107.21854 \nL 378.269325 117.689421 \nL 378.938925 117.689421 \nL 378.938925 126.789311 \nL 380.278125 126.789311 \nL 380.278125 266.995469 \nL 380.278125 266.995469 \n\" style=\"fill:none;stroke:#1f77b4;stroke-linejoin:miter;\"/>\n   </g>\n   <g id=\"patch_4\">\n    <path clip-path=\"url(#pca3578ba74)\" d=\"M 45.478125 266.995469 \nL 45.478125 162.499192 \nL 46.147725 162.499192 \nL 46.147725 159.90347 \nL 46.817325 159.90347 \nL 46.817325 158.178179 \nL 47.486925 158.178179 \nL 47.486925 161.813951 \nL 48.156525 161.813951 \nL 48.156525 160.833111 \nL 48.826125 160.833111 \nL 48.826125 162.153277 \nL 49.495725 162.153277 \nL 49.495725 160.517809 \nL 50.165325 160.517809 \nL 50.165325 159.604066 \nL 50.834925 159.604066 \nL 50.834925 163.21185 \nL 51.504525 163.21185 \nL 51.504525 162.851958 \nL 52.174125 162.851958 \nL 52.174125 159.604066 \nL 52.843725 159.604066 \nL 52.843725 163.954211 \nL 53.513325 163.954211 \nL 53.513325 160.207991 \nL 54.182925 160.207991 \nL 54.182925 157.906203 \nL 54.852525 157.906203 \nL 54.852525 161.154094 \nL 55.522125 161.154094 \nL 55.522125 164.728859 \nL 56.191725 164.728859 \nL 56.191725 161.813951 \nL 56.861325 161.813951 \nL 56.861325 159.604066 \nL 57.530925 159.604066 \nL 57.530925 161.813951 \nL 58.200525 161.813951 \nL 58.200525 164.728859 \nL 58.870125 164.728859 \nL 58.870125 160.833111 \nL 59.539725 160.833111 \nL 59.539725 161.480967 \nL 60.209325 161.480967 \nL 60.209325 164.728859 \nL 61.548525 164.728859 \nL 61.548525 160.207991 \nL 62.218125 160.207991 \nL 62.218125 163.579164 \nL 62.887725 163.579164 \nL 62.887725 159.019946 \nL 63.557325 159.019946 \nL 63.557325 161.154094 \nL 64.226925 161.154094 \nL 64.226925 159.604066 \nL 64.896525 159.604066 \nL 64.896525 162.153277 \nL 65.566125 162.153277 \nL 65.566125 160.833111 \nL 66.235725 160.833111 \nL 66.235725 161.813951 \nL 66.905325 161.813951 \nL 66.905325 162.851958 \nL 67.574925 162.851958 \nL 67.574925 163.954211 \nL 68.244525 163.954211 \nL 68.244525 164.337325 \nL 68.914125 164.337325 \nL 68.914125 158.734914 \nL 69.583725 158.734914 \nL 69.583725 160.833111 \nL 70.253325 160.833111 \nL 70.253325 162.153277 \nL 70.922925 162.153277 \nL 70.922925 161.813951 \nL 71.592525 161.813951 \nL 71.592525 161.480967 \nL 72.262125 161.480967 \nL 72.262125 162.851958 \nL 72.931725 162.851958 \nL 72.931725 157.906203 \nL 73.601325 157.906203 \nL 73.601325 163.21185 \nL 74.270925 163.21185 \nL 74.270925 158.454372 \nL 74.940525 158.454372 \nL 74.940525 163.954211 \nL 75.610125 163.954211 \nL 75.610125 157.114335 \nL 76.279725 157.114335 \nL 76.279725 160.833111 \nL 76.949325 160.833111 \nL 76.949325 159.90347 \nL 77.618925 159.90347 \nL 77.618925 163.21185 \nL 78.288525 163.21185 \nL 78.288525 161.813951 \nL 78.958125 161.813951 \nL 78.958125 162.153277 \nL 79.627725 162.153277 \nL 79.627725 165.538729 \nL 80.297325 165.538729 \nL 80.297325 163.954211 \nL 80.966925 163.954211 \nL 80.966925 165.538729 \nL 81.636525 165.538729 \nL 81.636525 158.734914 \nL 82.306125 158.734914 \nL 82.306125 159.309612 \nL 82.975725 159.309612 \nL 82.975725 162.499192 \nL 83.645325 162.499192 \nL 83.645325 163.954211 \nL 84.314925 163.954211 \nL 84.314925 163.21185 \nL 85.654125 163.21185 \nL 85.654125 158.454372 \nL 86.323725 158.454372 \nL 86.323725 163.954211 \nL 86.993325 163.954211 \nL 86.993325 160.517809 \nL 87.662925 160.517809 \nL 87.662925 161.813951 \nL 88.332525 161.813951 \nL 88.332525 168.215869 \nL 89.002125 168.215869 \nL 89.002125 160.833111 \nL 89.671725 160.833111 \nL 89.671725 159.309612 \nL 90.341325 159.309612 \nL 90.341325 161.813951 \nL 91.010925 161.813951 \nL 91.010925 159.90347 \nL 91.680525 159.90347 \nL 91.680525 157.906203 \nL 92.350125 157.906203 \nL 92.350125 167.740799 \nL 93.019725 167.740799 \nL 93.019725 163.21185 \nL 93.689325 163.21185 \nL 93.689325 163.954211 \nL 94.358925 163.954211 \nL 94.358925 159.604066 \nL 95.028525 159.604066 \nL 95.028525 157.3744 \nL 95.698125 157.3744 \nL 95.698125 161.813951 \nL 96.367725 161.813951 \nL 96.367725 163.579164 \nL 97.037325 163.579164 \nL 97.037325 162.499192 \nL 98.376525 162.499192 \nL 98.376525 161.154094 \nL 99.715725 161.154094 \nL 99.715725 159.309612 \nL 100.385325 159.309612 \nL 100.385325 162.499192 \nL 101.054925 162.499192 \nL 101.054925 159.309612 \nL 101.724525 159.309612 \nL 101.724525 162.499192 \nL 102.394125 162.499192 \nL 102.394125 161.154094 \nL 104.402925 161.154094 \nL 104.402925 167.278069 \nL 105.072525 167.278069 \nL 105.072525 160.833111 \nL 105.742125 160.833111 \nL 105.742125 163.21185 \nL 106.411725 163.21185 \nL 106.411725 164.337325 \nL 107.081325 164.337325 \nL 107.081325 159.019946 \nL 107.750925 159.019946 \nL 107.750925 159.90347 \nL 108.420525 159.90347 \nL 108.420525 158.734914 \nL 109.090125 158.734914 \nL 109.090125 162.499192 \nL 109.759725 162.499192 \nL 109.759725 165.129192 \nL 110.429325 165.129192 \nL 110.429325 160.833111 \nL 111.098925 160.833111 \nL 111.098925 163.21185 \nL 111.768525 163.21185 \nL 111.768525 159.604066 \nL 112.438125 159.604066 \nL 112.438125 165.538729 \nL 113.107725 165.538729 \nL 113.107725 162.851958 \nL 113.777325 162.851958 \nL 113.777325 160.833111 \nL 114.446925 160.833111 \nL 114.446925 163.579164 \nL 115.116525 163.579164 \nL 115.116525 165.129192 \nL 115.786125 165.129192 \nL 115.786125 157.114335 \nL 116.455725 157.114335 \nL 116.455725 159.90347 \nL 117.125325 159.90347 \nL 117.125325 161.154094 \nL 117.794925 161.154094 \nL 117.794925 159.309612 \nL 118.464525 159.309612 \nL 118.464525 162.153277 \nL 119.134125 162.153277 \nL 119.134125 162.499192 \nL 120.473325 162.499192 \nL 120.473325 154.930287 \nL 121.142925 154.930287 \nL 121.142925 158.454372 \nL 121.812525 158.454372 \nL 121.812525 162.153277 \nL 122.482125 162.153277 \nL 122.482125 161.813951 \nL 123.151725 161.813951 \nL 123.151725 162.499192 \nL 124.490925 162.499192 \nL 124.490925 160.517809 \nL 125.160525 160.517809 \nL 125.160525 161.480967 \nL 125.830125 161.480967 \nL 125.830125 164.728859 \nL 126.499725 164.728859 \nL 126.499725 162.499192 \nL 127.169325 162.499192 \nL 127.169325 161.813951 \nL 127.838925 161.813951 \nL 127.838925 165.129192 \nL 128.508525 165.129192 \nL 128.508525 167.740799 \nL 129.178125 167.740799 \nL 129.178125 159.604066 \nL 129.847725 159.604066 \nL 129.847725 162.153277 \nL 130.517325 162.153277 \nL 130.517325 163.579164 \nL 131.186925 163.579164 \nL 131.186925 160.207991 \nL 131.856525 160.207991 \nL 131.856525 160.833111 \nL 132.526125 160.833111 \nL 132.526125 163.579164 \nL 133.195725 163.579164 \nL 133.195725 161.813951 \nL 133.865325 161.813951 \nL 133.865325 159.90347 \nL 134.534925 159.90347 \nL 134.534925 159.604066 \nL 135.204525 159.604066 \nL 135.204525 162.851958 \nL 135.874125 162.851958 \nL 135.874125 165.538729 \nL 136.543725 165.538729 \nL 136.543725 159.019946 \nL 137.213325 159.019946 \nL 137.213325 158.178179 \nL 137.882925 158.178179 \nL 137.882925 162.153277 \nL 138.552525 162.153277 \nL 138.552525 163.954211 \nL 139.222125 163.954211 \nL 139.222125 163.579164 \nL 139.891725 163.579164 \nL 139.891725 161.813951 \nL 140.561325 161.813951 \nL 140.561325 164.337325 \nL 141.230925 164.337325 \nL 141.230925 165.957904 \nL 141.900525 165.957904 \nL 141.900525 161.480967 \nL 142.570125 161.480967 \nL 142.570125 163.21185 \nL 143.239725 163.21185 \nL 143.239725 161.813951 \nL 143.909325 161.813951 \nL 143.909325 160.833111 \nL 144.578925 160.833111 \nL 144.578925 158.734914 \nL 145.248525 158.734914 \nL 145.248525 161.813951 \nL 145.918125 161.813951 \nL 145.918125 160.207991 \nL 146.587725 160.207991 \nL 146.587725 168.215869 \nL 147.257325 168.215869 \nL 147.257325 162.153277 \nL 147.926925 162.153277 \nL 147.926925 161.480967 \nL 148.596525 161.480967 \nL 148.596525 161.813951 \nL 149.266125 161.813951 \nL 149.266125 161.154094 \nL 149.935725 161.154094 \nL 149.935725 159.604066 \nL 150.605325 159.604066 \nL 150.605325 160.517809 \nL 151.274925 160.517809 \nL 151.274925 163.21185 \nL 151.944525 163.21185 \nL 151.944525 163.579164 \nL 152.614125 163.579164 \nL 152.614125 161.813951 \nL 153.283725 161.813951 \nL 153.283725 157.906203 \nL 153.953325 157.906203 \nL 153.953325 163.954211 \nL 154.622925 163.954211 \nL 154.622925 161.154094 \nL 155.292525 161.154094 \nL 155.292525 161.813951 \nL 155.962125 161.813951 \nL 155.962125 163.954211 \nL 156.631725 163.954211 \nL 156.631725 162.153277 \nL 157.301325 162.153277 \nL 157.301325 169.205795 \nL 157.970925 169.205795 \nL 157.970925 266.995469 \nL 157.970925 266.995469 \n\" style=\"fill:none;stroke:#ff7f0e;stroke-linejoin:miter;\"/>\n   </g>\n   <g id=\"patch_5\">\n    <path clip-path=\"url(#pca3578ba74)\" d=\"M 93.689325 266.995469 \nL 93.689325 2.559578 \nL 94.358925 2.559578 \nL 94.358925 -1 \nM 109.759725 -1 \nL 109.759725 -0.472144 \nL 110.429325 -0.472144 \nL 110.429325 -0.785711 \nL 111.768525 -0.766274 \nL 111.768525 -0.152958 \nL 112.438125 -0.152958 \nL 112.438125 0.628848 \nL 113.107725 0.628848 \nL 113.107725 0.40937 \nL 113.777325 0.40937 \nL 113.777325 1.545912 \nL 115.116525 1.523783 \nL 115.116525 2.23441 \nL 115.786125 2.23441 \nL 115.786125 2.512761 \nL 116.455725 2.512761 \nL 116.455725 2.688965 \nL 117.794925 2.759937 \nL 117.794925 2.222906 \nL 118.464525 2.222906 \nL 118.464525 3.935726 \nL 119.134125 3.935726 \nL 119.134125 4.646059 \nL 119.803725 4.646059 \nL 119.803725 4.024575 \nL 120.473325 4.024575 \nL 120.473325 5.276356 \nL 121.142925 5.276356 \nL 121.142925 4.632888 \nL 121.812525 4.632888 \nL 121.812525 5.57923 \nL 123.151725 5.523778 \nL 123.151725 6.330752 \nL 123.821325 6.330752 \nL 123.821325 6.143461 \nL 124.490925 6.143461 \nL 124.490925 6.520033 \nL 125.160525 6.520033 \nL 125.160525 6.652261 \nL 125.830125 6.652261 \nL 125.830125 7.715651 \nL 126.499725 7.715651 \nL 126.499725 8.516059 \nL 127.169325 8.516059 \nL 127.169325 7.731312 \nL 127.838925 7.731312 \nL 127.838925 8.079378 \nL 128.508525 8.079378 \nL 128.508525 8.369306 \nL 129.178125 8.369306 \nL 129.178125 7.841324 \nL 129.847725 7.841324 \nL 129.847725 9.371299 \nL 130.517325 9.371299 \nL 130.517325 9.965157 \nL 131.186925 9.965157 \nL 131.186925 10.932262 \nL 131.856525 10.932262 \nL 131.856525 10.653185 \nL 132.526125 10.653185 \nL 132.526125 11.139734 \nL 133.195725 11.139734 \nL 133.195725 12.134539 \nL 133.865325 12.134539 \nL 133.865325 11.600966 \nL 134.534925 11.600966 \nL 134.534925 11.994664 \nL 135.204525 11.994664 \nL 135.204525 11.52326 \nL 135.874125 11.52326 \nL 135.874125 13.619034 \nL 136.543725 13.619034 \nL 136.543725 14.240261 \nL 137.213325 14.240261 \nL 137.213325 13.597243 \nL 137.882925 13.597243 \nL 137.882925 14.172655 \nL 138.552525 14.172655 \nL 138.552525 13.640852 \nL 139.222125 13.640852 \nL 139.222125 14.490367 \nL 139.891725 14.490367 \nL 139.891725 14.83718 \nL 140.561325 14.83718 \nL 140.561325 16.06956 \nL 141.230925 16.06956 \nL 141.230925 15.430642 \nL 141.900525 15.430642 \nL 141.900525 15.238575 \nL 142.570125 15.238575 \nL 142.570125 17.339757 \nL 143.239725 17.339757 \nL 143.239725 16.372357 \nL 143.909325 16.372357 \nL 143.909325 17.747419 \nL 145.918125 17.692522 \nL 145.918125 16.169922 \nL 146.587725 16.169922 \nL 146.587725 19.237568 \nL 147.257325 19.237568 \nL 147.257325 20.063433 \nL 147.926925 20.063433 \nL 147.926925 19.661013 \nL 148.596525 19.661013 \nL 148.596525 20.475155 \nL 149.266125 20.475155 \nL 149.266125 20.157605 \nL 149.935725 20.157605 \nL 149.935725 21.161024 \nL 150.605325 21.161024 \nL 150.605325 20.962352 \nL 151.274925 20.962352 \nL 151.274925 21.943813 \nL 151.944525 21.943813 \nL 151.944525 21.66762 \nL 152.614125 21.66762 \nL 152.614125 21.839738 \nL 153.283725 21.839738 \nL 153.283725 22.762586 \nL 153.953325 22.762586 \nL 153.953325 21.565142 \nL 154.622925 21.565142 \nL 154.622925 22.330709 \nL 155.292525 22.330709 \nL 155.292525 22.545339 \nL 155.962125 22.545339 \nL 155.962125 23.468555 \nL 156.631725 23.468555 \nL 156.631725 22.224356 \nL 157.301325 22.224356 \nL 157.301325 24.282833 \nL 157.970925 24.282833 \nL 157.970925 24.442244 \nL 158.640525 24.442244 \nL 158.640525 27.302083 \nL 159.310125 27.302083 \nL 159.310125 25.472247 \nL 159.979725 25.472247 \nL 159.979725 24.442244 \nL 160.649325 24.442244 \nL 160.649325 26.792413 \nL 161.318925 26.792413 \nL 161.318925 26.475508 \nL 161.988525 26.475508 \nL 161.988525 26.164143 \nL 162.658125 26.164143 \nL 162.658125 28.021458 \nL 163.327725 28.021458 \nL 163.327725 28.267853 \nL 163.997325 28.267853 \nL 163.997325 27.396338 \nL 164.666925 27.396338 \nL 164.666925 26.655906 \nL 165.336525 26.655906 \nL 165.336525 27.349148 \nL 166.675725 27.302083 \nL 166.675725 28.669314 \nL 167.345325 28.669314 \nL 167.345325 27.923846 \nL 168.014925 27.923846 \nL 168.014925 29.394406 \nL 169.354125 29.500442 \nL 169.354125 30.372253 \nL 170.023725 30.372253 \nL 170.023725 30.484292 \nL 170.693325 30.484292 \nL 170.693325 29.500442 \nL 171.362925 29.500442 \nL 171.362925 30.484292 \nL 172.032525 30.484292 \nL 172.032525 28.568097 \nL 172.702125 28.568097 \nL 172.702125 33.542135 \nL 173.371725 33.542135 \nL 173.371725 28.517704 \nL 174.041325 28.517704 \nL 174.041325 29.66069 \nL 174.710925 29.66069 \nL 174.710925 32.951559 \nL 175.380525 32.951559 \nL 175.380525 32.44255 \nL 176.050125 32.44255 \nL 176.050125 31.055305 \nL 176.719725 31.055305 \nL 176.719725 30.939629 \nL 177.389325 30.939629 \nL 177.389325 31.947683 \nL 178.058925 31.947683 \nL 178.058925 33.277237 \nL 178.728525 33.277237 \nL 178.728525 32.008795 \nL 179.398125 32.008795 \nL 179.398125 32.887132 \nL 180.067725 32.887132 \nL 180.067725 31.947683 \nL 181.406925 31.88678 \nL 181.406925 32.695237 \nL 182.076525 32.695237 \nL 182.076525 31.40691 \nL 182.746125 31.40691 \nL 182.746125 31.645229 \nL 183.415725 31.645229 \nL 183.415725 31.288936 \nL 184.085325 31.288936 \nL 184.085325 33.01622 \nL 184.754925 33.01622 \nL 184.754925 31.705311 \nL 186.094125 31.765595 \nL 186.094125 34.222144 \nL 186.763725 34.222144 \nL 186.763725 30.824699 \nL 187.433325 30.824699 \nL 187.433325 30.939629 \nL 188.102925 30.939629 \nL 188.102925 32.131651 \nL 188.772525 32.131651 \nL 188.772525 34.431314 \nL 189.442125 34.431314 \nL 189.442125 31.466192 \nL 190.111725 31.466192 \nL 190.111725 32.695237 \nL 190.781325 32.695237 \nL 190.781325 31.826084 \nL 191.450925 31.826084 \nL 191.450925 31.288936 \nL 192.120525 31.288936 \nL 192.120525 31.113426 \nL 192.790125 31.113426 \nL 192.790125 29.500442 \nL 193.459725 29.500442 \nL 193.459725 32.25536 \nL 194.129325 32.25536 \nL 194.129325 30.939629 \nL 194.798925 30.939629 \nL 194.798925 29.822392 \nL 195.468525 29.822392 \nL 195.468525 31.23024 \nL 196.138125 31.23024 \nL 196.138125 30.040304 \nL 196.807725 30.040304 \nL 196.807725 28.168885 \nL 197.477325 28.168885 \nL 197.477325 29.184208 \nL 198.146925 29.184208 \nL 198.146925 31.113426 \nL 198.816525 31.113426 \nL 198.816525 28.822225 \nL 199.486125 28.822225 \nL 199.486125 29.822392 \nL 200.155725 29.822392 \nL 200.155725 29.288997 \nL 200.825325 29.288997 \nL 200.825325 27.255142 \nL 201.494925 27.255142 \nL 201.494925 28.417342 \nL 203.503725 28.417342 \nL 203.503725 26.475508 \nL 204.173325 26.475508 \nL 204.173325 27.022275 \nL 204.842925 27.022275 \nL 204.842925 25.728569 \nL 205.512525 25.728569 \nL 205.512525 26.208292 \nL 206.182125 26.208292 \nL 206.182125 25.557279 \nL 206.851725 25.557279 \nL 206.851725 26.792413 \nL 207.521325 26.792413 \nL 207.521325 24.482321 \nL 208.190925 24.482321 \nL 208.190925 23.056434 \nL 208.860525 23.056434 \nL 208.860525 24.847127 \nL 209.530125 24.847127 \nL 209.530125 23.968228 \nL 210.199725 23.968228 \nL 210.199725 23.205195 \nL 210.869325 23.205195 \nL 210.869325 23.317587 \nL 211.538925 23.317587 \nL 211.538925 22.545339 \nL 212.878125 22.617461 \nL 212.878125 21.497149 \nL 214.217325 21.599236 \nL 214.217325 20.379294 \nL 214.886925 20.379294 \nL 214.886925 20.798468 \nL 215.556525 20.798468 \nL 215.556525 20.126159 \nL 216.226125 20.126159 \nL 216.226125 19.722335 \nL 216.895725 19.722335 \nL 216.895725 21.599236 \nL 217.565325 21.599236 \nL 217.565325 19.000043 \nL 218.234925 19.000043 \nL 218.234925 18.476917 \nL 218.904525 18.476917 \nL 218.904525 20.443144 \nL 219.574125 20.443144 \nL 219.574125 18.794776 \nL 220.243725 18.794776 \nL 220.243725 17.583233 \nL 220.913325 17.583233 \nL 220.913325 17.996571 \nL 221.582925 17.996571 \nL 221.582925 17.47461 \nL 222.252525 17.47461 \nL 222.252525 16.732249 \nL 222.922125 16.732249 \nL 222.922125 16.993841 \nL 223.591725 16.993841 \nL 223.591725 16.169922 \nL 224.261325 16.169922 \nL 224.261325 16.577119 \nL 224.930925 16.577119 \nL 224.930925 15.722683 \nL 225.600525 15.722683 \nL 225.600525 15.527458 \nL 226.270125 15.527458 \nL 226.270125 14.490367 \nL 226.939725 14.490367 \nL 226.939725 13.33781 \nL 227.609325 13.33781 \nL 227.609325 14.720824 \nL 228.278925 14.720824 \nL 228.278925 15.119576 \nL 228.948525 15.119576 \nL 228.948525 14.421807 \nL 229.618125 14.421807 \nL 229.618125 13.684567 \nL 230.287725 13.684567 \nL 230.287725 14.83718 \nL 230.957325 14.83718 \nL 230.957325 12.8927 \nL 231.626925 12.8927 \nL 231.626925 11.177717 \nL 232.296525 11.177717 \nL 232.296525 12.78834 \nL 233.635725 12.830011 \nL 233.635725 12.014579 \nL 234.305325 12.014579 \nL 234.305325 11.3113 \nL 234.974925 11.3113 \nL 234.974925 10.561122 \nL 235.644525 10.561122 \nL 235.644525 10.83875 \nL 236.314125 10.83875 \nL 236.314125 9.947405 \nL 236.983725 9.947405 \nL 236.983725 11.120773 \nL 237.653325 11.120773 \nL 237.653325 10.579497 \nL 238.322925 10.579497 \nL 238.322925 10.107813 \nL 238.992525 10.107813 \nL 238.992525 9.336976 \nL 242.340525 9.336976 \nL 242.340525 8.746772 \nL 243.679725 8.846571 \nL 243.679725 8.598114 \nL 245.018925 8.499693 \nL 245.018925 9.251454 \nL 245.688525 9.251454 \nL 245.688525 7.451504 \nL 247.027725 7.405293 \nL 247.027725 7.039864 \nL 247.697325 7.039864 \nL 247.697325 7.857096 \nL 248.366925 7.857096 \nL 248.366925 7.497834 \nL 249.036525 7.497834 \nL 249.036525 8.063408 \nL 249.706125 8.063408 \nL 249.706125 7.715651 \nL 250.375725 7.715651 \nL 250.375725 7.420684 \nL 251.045325 7.420684 \nL 251.045325 6.830107 \nL 251.714925 6.830107 \nL 251.714925 7.451504 \nL 252.384525 7.451504 \nL 252.384525 6.696557 \nL 253.054125 6.696557 \nL 253.054125 7.668751 \nL 253.723725 7.668751 \nL 253.723725 6.934677 \nL 254.393325 6.934677 \nL 254.393325 6.200879 \nL 255.062925 6.200879 \nL 255.062925 7.10025 \nL 255.732525 7.10025 \nL 255.732525 6.652261 \nL 256.402125 6.652261 \nL 256.402125 6.785479 \nL 257.071725 6.785479 \nL 257.071725 6.57868 \nL 257.741325 6.57868 \nL 257.741325 6.272914 \nL 258.410925 6.272914 \nL 258.410925 6.726148 \nL 259.080525 6.726148 \nL 259.080525 6.949665 \nL 259.750125 6.949665 \nL 259.750125 5.972307 \nL 260.419725 5.972307 \nL 260.419725 6.490781 \nL 261.089325 6.490781 \nL 261.089325 6.071947 \nL 262.428525 6.014942 \nL 262.428525 6.755789 \nL 265.776525 6.726148 \nL 265.776525 6.129135 \nL 266.446125 6.129135 \nL 266.446125 6.359741 \nL 267.115725 6.359741 \nL 267.115725 7.176023 \nL 267.785325 7.176023 \nL 267.785325 5.372168 \nL 268.454925 5.372168 \nL 268.454925 7.513305 \nL 269.124525 7.513305 \nL 269.124525 8.304469 \nL 269.794125 8.304469 \nL 269.794125 6.505401 \nL 270.463725 6.505401 \nL 270.463725 6.815219 \nL 271.133325 6.815219 \nL 271.133325 7.794093 \nL 271.802925 7.794093 \nL 271.802925 7.621975 \nL 272.472525 7.621975 \nL 272.472525 7.252119 \nL 273.142125 7.252119 \nL 273.142125 8.031512 \nL 273.811725 8.031512 \nL 273.811725 8.272138 \nL 274.481325 8.272138 \nL 274.481325 9.115468 \nL 275.150925 9.115468 \nL 275.150925 8.499693 \nL 275.820525 8.499693 \nL 275.820525 8.664031 \nL 276.490125 8.664031 \nL 276.490125 7.544286 \nL 277.159725 7.544286 \nL 277.159725 8.063408 \nL 277.829325 8.063408 \nL 277.829325 9.388486 \nL 278.498925 9.388486 \nL 278.498925 8.746772 \nL 279.168525 8.746772 \nL 279.168525 9.440146 \nL 279.838125 9.440146 \nL 279.838125 9.302718 \nL 280.507725 9.302718 \nL 280.507725 9.149367 \nL 281.177325 9.149367 \nL 281.177325 9.648298 \nL 282.516525 9.73575 \nL 282.516525 10.433029 \nL 283.855725 10.414805 \nL 283.855725 11.215782 \nL 285.194925 11.139734 \nL 285.194925 11.9549 \nL 285.864525 11.9549 \nL 285.864525 11.698578 \nL 286.534125 11.698578 \nL 286.534125 12.154611 \nL 287.203725 12.154611 \nL 287.203725 11.52326 \nL 287.873325 11.52326 \nL 287.873325 12.174706 \nL 288.542925 12.174706 \nL 288.542925 13.467054 \nL 289.212525 13.467054 \nL 289.212525 13.188201 \nL 289.882125 13.188201 \nL 289.882125 12.417629 \nL 290.551725 12.417629 \nL 290.551725 13.882626 \nL 291.221325 13.882626 \nL 291.221325 14.467484 \nL 292.560525 14.513279 \nL 292.560525 15.16708 \nL 293.899725 15.214711 \nL 293.899725 15.895277 \nL 294.569325 15.895277 \nL 294.569325 15.527458 \nL 295.238925 15.527458 \nL 295.238925 16.11967 \nL 295.908525 16.11967 \nL 295.908525 15.16708 \nL 296.578125 15.16708 \nL 296.578125 16.680389 \nL 297.247725 16.680389 \nL 297.247725 15.649223 \nL 297.917325 15.649223 \nL 297.917325 17.556015 \nL 299.256525 17.556015 \nL 299.256525 19.148125 \nL 299.926125 19.148125 \nL 299.926125 19.87657 \nL 300.595725 19.87657 \nL 300.595725 20.315672 \nL 301.265325 20.315672 \nL 301.265325 19.327463 \nL 301.934925 19.327463 \nL 301.934925 20.283946 \nL 302.604525 20.283946 \nL 302.604525 19.630431 \nL 303.274125 19.630431 \nL 303.274125 19.87657 \nL 303.943725 19.87657 \nL 303.943725 22.545339 \nL 304.613325 22.545339 \nL 304.613325 19.969757 \nL 305.282925 19.969757 \nL 305.282925 22.401965 \nL 305.952525 22.401965 \nL 305.952525 23.735867 \nL 307.291725 23.697433 \nL 307.291725 23.890437 \nL 307.961325 23.890437 \nL 307.961325 25.011693 \nL 308.630925 25.011693 \nL 308.630925 25.429883 \nL 309.300525 25.429883 \nL 309.300525 24.007251 \nL 309.970125 24.007251 \nL 309.970125 26.430693 \nL 310.639725 26.430693 \nL 310.639725 26.252551 \nL 311.309325 26.252551 \nL 311.309325 24.322553 \nL 311.978925 24.322553 \nL 311.978925 27.022275 \nL 312.648525 27.022275 \nL 312.648525 28.568097 \nL 313.318125 28.568097 \nL 313.318125 28.317543 \nL 313.987725 28.317543 \nL 313.987725 29.931015 \nL 314.657325 29.931015 \nL 314.657325 30.095201 \nL 315.326925 30.095201 \nL 315.326925 31.113426 \nL 315.996525 31.113426 \nL 315.996525 28.517704 \nL 316.666125 28.517704 \nL 316.666125 31.055305 \nL 317.335725 31.055305 \nL 317.335725 33.277237 \nL 318.005325 33.277237 \nL 318.005325 30.824699 \nL 318.674925 30.824699 \nL 318.674925 31.466192 \nL 319.344525 31.466192 \nL 319.344525 31.645229 \nL 320.014125 31.645229 \nL 320.014125 35.665369 \nL 320.683725 35.665369 \nL 320.683725 32.568445 \nL 321.353325 32.568445 \nL 321.353325 34.431314 \nL 322.022925 34.431314 \nL 322.022925 35.665369 \nL 322.692525 35.665369 \nL 322.692525 36.511986 \nL 324.031725 36.433336 \nL 324.031725 37.567343 \nL 324.701325 37.567343 \nL 324.701325 39.231784 \nL 325.370925 39.231784 \nL 325.370925 41.375953 \nL 326.040525 41.375953 \nL 326.040525 40.174548 \nL 326.710125 40.174548 \nL 326.710125 42.11611 \nL 327.379725 42.11611 \nL 327.379725 41.067921 \nL 328.049325 41.067921 \nL 328.049325 43.229853 \nL 328.718925 43.229853 \nL 328.718925 41.689405 \nL 329.388525 41.689405 \nL 329.388525 42.664279 \nL 330.058125 42.664279 \nL 330.058125 45.823322 \nL 330.727725 45.823322 \nL 330.727725 44.417899 \nL 331.397325 44.417899 \nL 331.397325 47.789072 \nL 332.066925 47.789072 \nL 332.066925 44.665321 \nL 332.736525 44.665321 \nL 332.736525 47.494617 \nL 333.406125 47.494617 \nL 333.406125 47.789072 \nL 334.075725 47.789072 \nL 334.075725 49.998956 \nL 334.745325 49.998956 \nL 334.745325 49.501786 \nL 335.414925 49.501786 \nL 335.414925 48.392997 \nL 336.084525 48.392997 \nL 336.084525 50.338282 \nL 336.754125 50.338282 \nL 336.754125 51.396856 \nL 337.423725 51.396856 \nL 337.423725 49.177885 \nL 338.093325 49.177885 \nL 338.093325 55.012061 \nL 338.762925 55.012061 \nL 338.762925 53.112906 \nL 339.432525 53.112906 \nL 339.432525 55.463074 \nL 340.102125 55.463074 \nL 340.102125 58.171104 \nL 340.771725 58.171104 \nL 340.771725 55.23614 \nL 341.441325 55.23614 \nL 341.441325 62.013755 \nL 342.110925 62.013755 \nL 342.110925 60.436257 \nL 342.780525 60.436257 \nL 342.780525 58.171104 \nL 343.450125 58.171104 \nL 343.450125 56.888962 \nL 344.119725 56.888962 \nL 344.119725 60.136853 \nL 344.789325 60.136853 \nL 344.789325 62.686064 \nL 345.458925 62.686064 \nL 345.458925 60.740779 \nL 346.128525 60.740779 \nL 346.128525 59.552733 \nL 346.798125 59.552733 \nL 346.798125 60.136853 \nL 347.467725 60.136853 \nL 347.467725 66.919967 \nL 348.137325 66.919967 \nL 348.137325 66.071517 \nL 348.806925 66.071517 \nL 348.806925 66.490691 \nL 349.476525 66.490691 \nL 349.476525 71.900515 \nL 350.146125 71.900515 \nL 350.146125 69.236744 \nL 350.815725 69.236744 \nL 350.815725 71.900515 \nL 351.485325 71.900515 \nL 351.485325 70.254969 \nL 352.154925 70.254969 \nL 352.154925 71.334941 \nL 352.824525 71.334941 \nL 352.824525 69.738582 \nL 353.494125 69.738582 \nL 353.494125 70.786772 \nL 354.163725 70.786772 \nL 354.163725 71.334941 \nL 354.833325 71.334941 \nL 354.833325 73.08856 \nL 355.502925 73.08856 \nL 355.502925 78.009761 \nL 356.172525 78.009761 \nL 356.172525 73.71368 \nL 356.842125 73.71368 \nL 356.842125 79.707625 \nL 357.511725 79.707625 \nL 357.511725 84.832417 \nL 358.181325 84.832417 \nL 358.181325 78.838473 \nL 359.520525 78.838473 \nL 359.520525 87.381628 \nL 360.190125 87.381628 \nL 360.190125 76.459733 \nL 360.859725 76.459733 \nL 360.859725 82.602751 \nL 361.529325 82.602751 \nL 361.529325 81.584526 \nL 362.198925 81.584526 \nL 362.198925 93.932308 \nL 362.868525 93.932308 \nL 362.868525 78.838473 \nL 363.538125 78.838473 \nL 363.538125 90.357543 \nL 364.207725 90.357543 \nL 364.207725 96.030505 \nL 365.546925 96.030505 \nL 365.546925 92.055407 \nL 366.886125 92.055407 \nL 366.886125 93.932308 \nL 367.555725 93.932308 \nL 367.555725 90.357543 \nL 368.225325 90.357543 \nL 368.225325 88.807515 \nL 369.564525 88.807515 \nL 369.564525 108.378286 \nL 370.234125 108.378286 \nL 370.234125 93.932308 \nL 370.903725 93.932308 \nL 370.903725 101.155297 \nL 371.573325 101.155297 \nL 371.573325 98.409244 \nL 372.242925 98.409244 \nL 372.242925 108.378286 \nL 372.912525 108.378286 \nL 372.912525 96.030505 \nL 373.582125 96.030505 \nL 373.582125 98.409244 \nL 374.921325 98.409244 \nL 374.921325 101.155297 \nL 376.930125 101.155297 \nL 376.930125 120.726068 \nL 377.599725 120.726068 \nL 377.599725 113.503079 \nL 378.269325 113.503079 \nL 378.269325 104.403189 \nL 378.938925 104.403189 \nL 378.938925 101.155297 \nL 379.608525 101.155297 \nL 379.608525 120.726068 \nL 380.278125 120.726068 \nL 380.278125 266.995469 \nL 380.278125 266.995469 \n\" style=\"fill:none;stroke:#2ca02c;stroke-linejoin:miter;\"/>\n   </g>\n   <g id=\"patch_6\">\n    <path d=\"M 45.478125 228.439219 \nL 45.478125 10.999219 \n\" style=\"fill:none;stroke:#000000;stroke-linecap:square;stroke-linejoin:miter;stroke-width:0.8;\"/>\n   </g>\n   <g id=\"patch_7\">\n    <path d=\"M 380.278125 228.439219 \nL 380.278125 10.999219 \n\" style=\"fill:none;stroke:#000000;stroke-linecap:square;stroke-linejoin:miter;stroke-width:0.8;\"/>\n   </g>\n   <g id=\"patch_8\">\n    <path d=\"M 45.478125 228.439219 \nL 380.278125 228.439219 \n\" style=\"fill:none;stroke:#000000;stroke-linecap:square;stroke-linejoin:miter;stroke-width:0.8;\"/>\n   </g>\n   <g id=\"patch_9\">\n    <path d=\"M 45.478125 10.999219 \nL 380.278125 10.999219 \n\" style=\"fill:none;stroke:#000000;stroke-linecap:square;stroke-linejoin:miter;stroke-width:0.8;\"/>\n   </g>\n   <g id=\"legend_1\">\n    <g id=\"patch_10\">\n     <path d=\"M 273.3375 63.033594 \nL 373.278125 63.033594 \nQ 375.278125 63.033594 375.278125 61.033594 \nL 375.278125 17.999219 \nQ 375.278125 15.999219 373.278125 15.999219 \nL 273.3375 15.999219 \nQ 271.3375 15.999219 271.3375 17.999219 \nL 271.3375 61.033594 \nQ 271.3375 63.033594 273.3375 63.033594 \nz\n\" style=\"fill:#ffffff;opacity:0.8;stroke:#cccccc;stroke-linejoin:miter;\"/>\n    </g>\n    <g id=\"patch_11\">\n     <path d=\"M 275.3375 27.597656 \nL 295.3375 27.597656 \nL 295.3375 20.597656 \nL 275.3375 20.597656 \nz\n\" style=\"fill:none;stroke:#1f77b4;stroke-linejoin:miter;\"/>\n    </g>\n    <g id=\"text_18\">\n     <!-- Experiment A -->\n     <g transform=\"translate(303.3375 27.597656)scale(0.1 -0.1)\">\n      <defs>\n       <path d=\"M 54.890625 54.6875 \nL 35.109375 28.078125 \nL 55.90625 0 \nL 45.3125 0 \nL 29.390625 21.484375 \nL 13.484375 0 \nL 2.875 0 \nL 24.125 28.609375 \nL 4.6875 54.6875 \nL 15.28125 54.6875 \nL 29.78125 35.203125 \nL 44.28125 54.6875 \nz\n\" id=\"DejaVuSans-120\"/>\n       <path d=\"M 18.109375 8.203125 \nL 18.109375 -20.796875 \nL 9.078125 -20.796875 \nL 9.078125 54.6875 \nL 18.109375 54.6875 \nL 18.109375 46.390625 \nQ 20.953125 51.265625 25.265625 53.625 \nQ 29.59375 56 35.59375 56 \nQ 45.5625 56 51.78125 48.09375 \nQ 58.015625 40.1875 58.015625 27.296875 \nQ 58.015625 14.40625 51.78125 6.484375 \nQ 45.5625 -1.421875 35.59375 -1.421875 \nQ 29.59375 -1.421875 25.265625 0.953125 \nQ 20.953125 3.328125 18.109375 8.203125 \nz\nM 48.6875 27.296875 \nQ 48.6875 37.203125 44.609375 42.84375 \nQ 40.53125 48.484375 33.40625 48.484375 \nQ 26.265625 48.484375 22.1875 42.84375 \nQ 18.109375 37.203125 18.109375 27.296875 \nQ 18.109375 17.390625 22.1875 11.75 \nQ 26.265625 6.109375 33.40625 6.109375 \nQ 40.53125 6.109375 44.609375 11.75 \nQ 48.6875 17.390625 48.6875 27.296875 \nz\n\" id=\"DejaVuSans-112\"/>\n       <path d=\"M 9.421875 54.6875 \nL 18.40625 54.6875 \nL 18.40625 0 \nL 9.421875 0 \nz\nM 9.421875 75.984375 \nL 18.40625 75.984375 \nL 18.40625 64.59375 \nL 9.421875 64.59375 \nz\n\" id=\"DejaVuSans-105\"/>\n       <path d=\"M 52 44.1875 \nQ 55.375 50.25 60.0625 53.125 \nQ 64.75 56 71.09375 56 \nQ 79.640625 56 84.28125 50.015625 \nQ 88.921875 44.046875 88.921875 33.015625 \nL 88.921875 0 \nL 79.890625 0 \nL 79.890625 32.71875 \nQ 79.890625 40.578125 77.09375 44.375 \nQ 74.3125 48.1875 68.609375 48.1875 \nQ 61.625 48.1875 57.5625 43.546875 \nQ 53.515625 38.921875 53.515625 30.90625 \nL 53.515625 0 \nL 44.484375 0 \nL 44.484375 32.71875 \nQ 44.484375 40.625 41.703125 44.40625 \nQ 38.921875 48.1875 33.109375 48.1875 \nQ 26.21875 48.1875 22.15625 43.53125 \nQ 18.109375 38.875 18.109375 30.90625 \nL 18.109375 0 \nL 9.078125 0 \nL 9.078125 54.6875 \nL 18.109375 54.6875 \nL 18.109375 46.1875 \nQ 21.1875 51.21875 25.484375 53.609375 \nQ 29.78125 56 35.6875 56 \nQ 41.65625 56 45.828125 52.96875 \nQ 50 49.953125 52 44.1875 \nz\n\" id=\"DejaVuSans-109\"/>\n       <path d=\"M 34.1875 63.1875 \nL 20.796875 26.90625 \nL 47.609375 26.90625 \nz\nM 28.609375 72.90625 \nL 39.796875 72.90625 \nL 67.578125 0 \nL 57.328125 0 \nL 50.6875 18.703125 \nL 17.828125 18.703125 \nL 11.1875 0 \nL 0.78125 0 \nz\n\" id=\"DejaVuSans-65\"/>\n      </defs>\n      <use xlink:href=\"#DejaVuSans-69\"/>\n      <use x=\"63.183594\" xlink:href=\"#DejaVuSans-120\"/>\n      <use x=\"122.363281\" xlink:href=\"#DejaVuSans-112\"/>\n      <use x=\"185.839844\" xlink:href=\"#DejaVuSans-101\"/>\n      <use x=\"247.363281\" xlink:href=\"#DejaVuSans-114\"/>\n      <use x=\"288.476562\" xlink:href=\"#DejaVuSans-105\"/>\n      <use x=\"316.259766\" xlink:href=\"#DejaVuSans-109\"/>\n      <use x=\"413.671875\" xlink:href=\"#DejaVuSans-101\"/>\n      <use x=\"475.195312\" xlink:href=\"#DejaVuSans-110\"/>\n      <use x=\"538.574219\" xlink:href=\"#DejaVuSans-116\"/>\n      <use x=\"577.783203\" xlink:href=\"#DejaVuSans-32\"/>\n      <use x=\"609.570312\" xlink:href=\"#DejaVuSans-65\"/>\n     </g>\n    </g>\n    <g id=\"patch_12\">\n     <path d=\"M 275.3375 42.275781 \nL 295.3375 42.275781 \nL 295.3375 35.275781 \nL 275.3375 35.275781 \nz\n\" style=\"fill:none;stroke:#ff7f0e;stroke-linejoin:miter;\"/>\n    </g>\n    <g id=\"text_19\">\n     <!-- Experiment B -->\n     <g transform=\"translate(303.3375 42.275781)scale(0.1 -0.1)\">\n      <defs>\n       <path d=\"M 19.671875 34.8125 \nL 19.671875 8.109375 \nL 35.5 8.109375 \nQ 43.453125 8.109375 47.28125 11.40625 \nQ 51.125 14.703125 51.125 21.484375 \nQ 51.125 28.328125 47.28125 31.5625 \nQ 43.453125 34.8125 35.5 34.8125 \nz\nM 19.671875 64.796875 \nL 19.671875 42.828125 \nL 34.28125 42.828125 \nQ 41.5 42.828125 45.03125 45.53125 \nQ 48.578125 48.25 48.578125 53.8125 \nQ 48.578125 59.328125 45.03125 62.0625 \nQ 41.5 64.796875 34.28125 64.796875 \nz\nM 9.8125 72.90625 \nL 35.015625 72.90625 \nQ 46.296875 72.90625 52.390625 68.21875 \nQ 58.5 63.53125 58.5 54.890625 \nQ 58.5 48.1875 55.375 44.234375 \nQ 52.25 40.28125 46.1875 39.3125 \nQ 53.46875 37.75 57.5 32.78125 \nQ 61.53125 27.828125 61.53125 20.40625 \nQ 61.53125 10.640625 54.890625 5.3125 \nQ 48.25 0 35.984375 0 \nL 9.8125 0 \nz\n\" id=\"DejaVuSans-66\"/>\n      </defs>\n      <use xlink:href=\"#DejaVuSans-69\"/>\n      <use x=\"63.183594\" xlink:href=\"#DejaVuSans-120\"/>\n      <use x=\"122.363281\" xlink:href=\"#DejaVuSans-112\"/>\n      <use x=\"185.839844\" xlink:href=\"#DejaVuSans-101\"/>\n      <use x=\"247.363281\" xlink:href=\"#DejaVuSans-114\"/>\n      <use x=\"288.476562\" xlink:href=\"#DejaVuSans-105\"/>\n      <use x=\"316.259766\" xlink:href=\"#DejaVuSans-109\"/>\n      <use x=\"413.671875\" xlink:href=\"#DejaVuSans-101\"/>\n      <use x=\"475.195312\" xlink:href=\"#DejaVuSans-110\"/>\n      <use x=\"538.574219\" xlink:href=\"#DejaVuSans-116\"/>\n      <use x=\"577.783203\" xlink:href=\"#DejaVuSans-32\"/>\n      <use x=\"609.570312\" xlink:href=\"#DejaVuSans-66\"/>\n     </g>\n    </g>\n    <g id=\"patch_13\">\n     <path d=\"M 275.3375 56.953906 \nL 295.3375 56.953906 \nL 295.3375 49.953906 \nL 275.3375 49.953906 \nz\n\" style=\"fill:none;stroke:#2ca02c;stroke-linejoin:miter;\"/>\n    </g>\n    <g id=\"text_20\">\n     <!-- Experiment C -->\n     <g transform=\"translate(303.3375 56.953906)scale(0.1 -0.1)\">\n      <use xlink:href=\"#DejaVuSans-69\"/>\n      <use x=\"63.183594\" xlink:href=\"#DejaVuSans-120\"/>\n      <use x=\"122.363281\" xlink:href=\"#DejaVuSans-112\"/>\n      <use x=\"185.839844\" xlink:href=\"#DejaVuSans-101\"/>\n      <use x=\"247.363281\" xlink:href=\"#DejaVuSans-114\"/>\n      <use x=\"288.476562\" xlink:href=\"#DejaVuSans-105\"/>\n      <use x=\"316.259766\" xlink:href=\"#DejaVuSans-109\"/>\n      <use x=\"413.671875\" xlink:href=\"#DejaVuSans-101\"/>\n      <use x=\"475.195312\" xlink:href=\"#DejaVuSans-110\"/>\n      <use x=\"538.574219\" xlink:href=\"#DejaVuSans-116\"/>\n      <use x=\"577.783203\" xlink:href=\"#DejaVuSans-32\"/>\n      <use x=\"609.570312\" xlink:href=\"#DejaVuSans-67\"/>\n     </g>\n    </g>\n   </g>\n  </g>\n </g>\n <defs>\n  <clipPath id=\"pca3578ba74\">\n   <rect height=\"217.44\" width=\"334.8\" x=\"45.478125\" y=\"10.999219\"/>\n  </clipPath>\n </defs>\n</svg>\n",
          "text/plain": "<Figure size 432x288 with 1 Axes>"
         },
         "metadata": {
          "needs_background": "light"
         },
         "output_type": "display_data"
        }
       ]
      }
     },
     "d5ccda821c0b41e5ad77394300b10ed3": {
      "model_module": "@jupyter-widgets/controls",
      "model_module_version": "1.5.0",
      "model_name": "FloatLogSliderModel",
      "state": {
       "description": "scale_B",
       "layout": "IPY_MODEL_816a7f8a4d844e26939def70449b0db1",
       "max": 10,
       "min": -10,
       "style": "IPY_MODEL_6124311b2b7a44e687c53061c40e93dd"
      }
     },
     "d7bd51ef28494bc6892db14d974be554": {
      "model_module": "@jupyter-widgets/base",
      "model_module_version": "1.2.0",
      "model_name": "LayoutModel",
      "state": {}
     },
     "d9783ee911a24564a00fe45d6fffacdd": {
      "model_module": "@jupyter-widgets/output",
      "model_module_version": "1.0.0",
      "model_name": "OutputModel",
      "state": {
       "layout": "IPY_MODEL_2f30a2da80b448a699c54bd812eac580",
       "outputs": [
        {
         "data": {
          "image/svg+xml": "<?xml version=\"1.0\" encoding=\"utf-8\" standalone=\"no\"?>\n<!DOCTYPE svg PUBLIC \"-//W3C//DTD SVG 1.1//EN\"\n  \"http://www.w3.org/Graphics/SVG/1.1/DTD/svg11.dtd\">\n<!-- Created with matplotlib (https://matplotlib.org/) -->\n<svg height=\"265.995469pt\" version=\"1.1\" viewBox=\"0 0 412.823438 265.995469\" width=\"412.823438pt\" xmlns=\"http://www.w3.org/2000/svg\" xmlns:xlink=\"http://www.w3.org/1999/xlink\">\n <metadata>\n  <rdf:RDF xmlns:cc=\"http://creativecommons.org/ns#\" xmlns:dc=\"http://purl.org/dc/elements/1.1/\" xmlns:rdf=\"http://www.w3.org/1999/02/22-rdf-syntax-ns#\">\n   <cc:Work>\n    <dc:type rdf:resource=\"http://purl.org/dc/dcmitype/StillImage\"/>\n    <dc:date>2021-06-09T09:59:14.945315</dc:date>\n    <dc:format>image/svg+xml</dc:format>\n    <dc:creator>\n     <cc:Agent>\n      <dc:title>Matplotlib v3.3.3, https://matplotlib.org/</dc:title>\n     </cc:Agent>\n    </dc:creator>\n   </cc:Work>\n  </rdf:RDF>\n </metadata>\n <defs>\n  <style type=\"text/css\">*{stroke-linecap:butt;stroke-linejoin:round;}</style>\n </defs>\n <g id=\"figure_1\">\n  <g id=\"patch_1\">\n   <path d=\"M 0 265.995469 \nL 412.823438 265.995469 \nL 412.823438 0 \nL 0 0 \nz\n\" style=\"fill:none;\"/>\n  </g>\n  <g id=\"axes_1\">\n   <g id=\"patch_2\">\n    <path d=\"M 59.690625 228.439219 \nL 394.490625 228.439219 \nL 394.490625 10.999219 \nL 59.690625 10.999219 \nz\n\" style=\"fill:#ffffff;\"/>\n   </g>\n   <g id=\"matplotlib.axis_1\">\n    <g id=\"xtick_1\">\n     <g id=\"line2d_1\">\n      <defs>\n       <path d=\"M 0 0 \nL 0 3.5 \n\" id=\"m48fb52cd53\" style=\"stroke:#000000;stroke-width:0.8;\"/>\n      </defs>\n      <g>\n       <use style=\"stroke:#000000;stroke-width:0.8;\" x=\"59.690625\" xlink:href=\"#m48fb52cd53\" y=\"228.439219\"/>\n      </g>\n     </g>\n     <g id=\"text_1\">\n      <!-- 0.0 -->\n      <g transform=\"translate(51.739063 243.037656)scale(0.1 -0.1)\">\n       <defs>\n        <path d=\"M 31.78125 66.40625 \nQ 24.171875 66.40625 20.328125 58.90625 \nQ 16.5 51.421875 16.5 36.375 \nQ 16.5 21.390625 20.328125 13.890625 \nQ 24.171875 6.390625 31.78125 6.390625 \nQ 39.453125 6.390625 43.28125 13.890625 \nQ 47.125 21.390625 47.125 36.375 \nQ 47.125 51.421875 43.28125 58.90625 \nQ 39.453125 66.40625 31.78125 66.40625 \nz\nM 31.78125 74.21875 \nQ 44.046875 74.21875 50.515625 64.515625 \nQ 56.984375 54.828125 56.984375 36.375 \nQ 56.984375 17.96875 50.515625 8.265625 \nQ 44.046875 -1.421875 31.78125 -1.421875 \nQ 19.53125 -1.421875 13.0625 8.265625 \nQ 6.59375 17.96875 6.59375 36.375 \nQ 6.59375 54.828125 13.0625 64.515625 \nQ 19.53125 74.21875 31.78125 74.21875 \nz\n\" id=\"DejaVuSans-48\"/>\n        <path d=\"M 10.6875 12.40625 \nL 21 12.40625 \nL 21 0 \nL 10.6875 0 \nz\n\" id=\"DejaVuSans-46\"/>\n       </defs>\n       <use xlink:href=\"#DejaVuSans-48\"/>\n       <use x=\"63.623047\" xlink:href=\"#DejaVuSans-46\"/>\n       <use x=\"95.410156\" xlink:href=\"#DejaVuSans-48\"/>\n      </g>\n     </g>\n    </g>\n    <g id=\"xtick_2\">\n     <g id=\"line2d_2\">\n      <g>\n       <use style=\"stroke:#000000;stroke-width:0.8;\" x=\"101.540625\" xlink:href=\"#m48fb52cd53\" y=\"228.439219\"/>\n      </g>\n     </g>\n     <g id=\"text_2\">\n      <!-- 2.5 -->\n      <g transform=\"translate(93.589063 243.037656)scale(0.1 -0.1)\">\n       <defs>\n        <path d=\"M 19.1875 8.296875 \nL 53.609375 8.296875 \nL 53.609375 0 \nL 7.328125 0 \nL 7.328125 8.296875 \nQ 12.9375 14.109375 22.625 23.890625 \nQ 32.328125 33.6875 34.8125 36.53125 \nQ 39.546875 41.84375 41.421875 45.53125 \nQ 43.3125 49.21875 43.3125 52.78125 \nQ 43.3125 58.59375 39.234375 62.25 \nQ 35.15625 65.921875 28.609375 65.921875 \nQ 23.96875 65.921875 18.8125 64.3125 \nQ 13.671875 62.703125 7.8125 59.421875 \nL 7.8125 69.390625 \nQ 13.765625 71.78125 18.9375 73 \nQ 24.125 74.21875 28.421875 74.21875 \nQ 39.75 74.21875 46.484375 68.546875 \nQ 53.21875 62.890625 53.21875 53.421875 \nQ 53.21875 48.921875 51.53125 44.890625 \nQ 49.859375 40.875 45.40625 35.40625 \nQ 44.1875 33.984375 37.640625 27.21875 \nQ 31.109375 20.453125 19.1875 8.296875 \nz\n\" id=\"DejaVuSans-50\"/>\n        <path d=\"M 10.796875 72.90625 \nL 49.515625 72.90625 \nL 49.515625 64.59375 \nL 19.828125 64.59375 \nL 19.828125 46.734375 \nQ 21.96875 47.46875 24.109375 47.828125 \nQ 26.265625 48.1875 28.421875 48.1875 \nQ 40.625 48.1875 47.75 41.5 \nQ 54.890625 34.8125 54.890625 23.390625 \nQ 54.890625 11.625 47.5625 5.09375 \nQ 40.234375 -1.421875 26.90625 -1.421875 \nQ 22.3125 -1.421875 17.546875 -0.640625 \nQ 12.796875 0.140625 7.71875 1.703125 \nL 7.71875 11.625 \nQ 12.109375 9.234375 16.796875 8.0625 \nQ 21.484375 6.890625 26.703125 6.890625 \nQ 35.15625 6.890625 40.078125 11.328125 \nQ 45.015625 15.765625 45.015625 23.390625 \nQ 45.015625 31 40.078125 35.4375 \nQ 35.15625 39.890625 26.703125 39.890625 \nQ 22.75 39.890625 18.8125 39.015625 \nQ 14.890625 38.140625 10.796875 36.28125 \nz\n\" id=\"DejaVuSans-53\"/>\n       </defs>\n       <use xlink:href=\"#DejaVuSans-50\"/>\n       <use x=\"63.623047\" xlink:href=\"#DejaVuSans-46\"/>\n       <use x=\"95.410156\" xlink:href=\"#DejaVuSans-53\"/>\n      </g>\n     </g>\n    </g>\n    <g id=\"xtick_3\">\n     <g id=\"line2d_3\">\n      <g>\n       <use style=\"stroke:#000000;stroke-width:0.8;\" x=\"143.390625\" xlink:href=\"#m48fb52cd53\" y=\"228.439219\"/>\n      </g>\n     </g>\n     <g id=\"text_3\">\n      <!-- 5.0 -->\n      <g transform=\"translate(135.439063 243.037656)scale(0.1 -0.1)\">\n       <use xlink:href=\"#DejaVuSans-53\"/>\n       <use x=\"63.623047\" xlink:href=\"#DejaVuSans-46\"/>\n       <use x=\"95.410156\" xlink:href=\"#DejaVuSans-48\"/>\n      </g>\n     </g>\n    </g>\n    <g id=\"xtick_4\">\n     <g id=\"line2d_4\">\n      <g>\n       <use style=\"stroke:#000000;stroke-width:0.8;\" x=\"185.240625\" xlink:href=\"#m48fb52cd53\" y=\"228.439219\"/>\n      </g>\n     </g>\n     <g id=\"text_4\">\n      <!-- 7.5 -->\n      <g transform=\"translate(177.289063 243.037656)scale(0.1 -0.1)\">\n       <defs>\n        <path d=\"M 8.203125 72.90625 \nL 55.078125 72.90625 \nL 55.078125 68.703125 \nL 28.609375 0 \nL 18.3125 0 \nL 43.21875 64.59375 \nL 8.203125 64.59375 \nz\n\" id=\"DejaVuSans-55\"/>\n       </defs>\n       <use xlink:href=\"#DejaVuSans-55\"/>\n       <use x=\"63.623047\" xlink:href=\"#DejaVuSans-46\"/>\n       <use x=\"95.410156\" xlink:href=\"#DejaVuSans-53\"/>\n      </g>\n     </g>\n    </g>\n    <g id=\"xtick_5\">\n     <g id=\"line2d_5\">\n      <g>\n       <use style=\"stroke:#000000;stroke-width:0.8;\" x=\"227.090625\" xlink:href=\"#m48fb52cd53\" y=\"228.439219\"/>\n      </g>\n     </g>\n     <g id=\"text_5\">\n      <!-- 10.0 -->\n      <g transform=\"translate(215.957813 243.037656)scale(0.1 -0.1)\">\n       <defs>\n        <path d=\"M 12.40625 8.296875 \nL 28.515625 8.296875 \nL 28.515625 63.921875 \nL 10.984375 60.40625 \nL 10.984375 69.390625 \nL 28.421875 72.90625 \nL 38.28125 72.90625 \nL 38.28125 8.296875 \nL 54.390625 8.296875 \nL 54.390625 0 \nL 12.40625 0 \nz\n\" id=\"DejaVuSans-49\"/>\n       </defs>\n       <use xlink:href=\"#DejaVuSans-49\"/>\n       <use x=\"63.623047\" xlink:href=\"#DejaVuSans-48\"/>\n       <use x=\"127.246094\" xlink:href=\"#DejaVuSans-46\"/>\n       <use x=\"159.033203\" xlink:href=\"#DejaVuSans-48\"/>\n      </g>\n     </g>\n    </g>\n    <g id=\"xtick_6\">\n     <g id=\"line2d_6\">\n      <g>\n       <use style=\"stroke:#000000;stroke-width:0.8;\" x=\"268.940625\" xlink:href=\"#m48fb52cd53\" y=\"228.439219\"/>\n      </g>\n     </g>\n     <g id=\"text_6\">\n      <!-- 12.5 -->\n      <g transform=\"translate(257.807813 243.037656)scale(0.1 -0.1)\">\n       <use xlink:href=\"#DejaVuSans-49\"/>\n       <use x=\"63.623047\" xlink:href=\"#DejaVuSans-50\"/>\n       <use x=\"127.246094\" xlink:href=\"#DejaVuSans-46\"/>\n       <use x=\"159.033203\" xlink:href=\"#DejaVuSans-53\"/>\n      </g>\n     </g>\n    </g>\n    <g id=\"xtick_7\">\n     <g id=\"line2d_7\">\n      <g>\n       <use style=\"stroke:#000000;stroke-width:0.8;\" x=\"310.790625\" xlink:href=\"#m48fb52cd53\" y=\"228.439219\"/>\n      </g>\n     </g>\n     <g id=\"text_7\">\n      <!-- 15.0 -->\n      <g transform=\"translate(299.657813 243.037656)scale(0.1 -0.1)\">\n       <use xlink:href=\"#DejaVuSans-49\"/>\n       <use x=\"63.623047\" xlink:href=\"#DejaVuSans-53\"/>\n       <use x=\"127.246094\" xlink:href=\"#DejaVuSans-46\"/>\n       <use x=\"159.033203\" xlink:href=\"#DejaVuSans-48\"/>\n      </g>\n     </g>\n    </g>\n    <g id=\"xtick_8\">\n     <g id=\"line2d_8\">\n      <g>\n       <use style=\"stroke:#000000;stroke-width:0.8;\" x=\"352.640625\" xlink:href=\"#m48fb52cd53\" y=\"228.439219\"/>\n      </g>\n     </g>\n     <g id=\"text_8\">\n      <!-- 17.5 -->\n      <g transform=\"translate(341.507813 243.037656)scale(0.1 -0.1)\">\n       <use xlink:href=\"#DejaVuSans-49\"/>\n       <use x=\"63.623047\" xlink:href=\"#DejaVuSans-55\"/>\n       <use x=\"127.246094\" xlink:href=\"#DejaVuSans-46\"/>\n       <use x=\"159.033203\" xlink:href=\"#DejaVuSans-53\"/>\n      </g>\n     </g>\n    </g>\n    <g id=\"xtick_9\">\n     <g id=\"line2d_9\">\n      <g>\n       <use style=\"stroke:#000000;stroke-width:0.8;\" x=\"394.490625\" xlink:href=\"#m48fb52cd53\" y=\"228.439219\"/>\n      </g>\n     </g>\n     <g id=\"text_9\">\n      <!-- 20.0 -->\n      <g transform=\"translate(383.357813 243.037656)scale(0.1 -0.1)\">\n       <use xlink:href=\"#DejaVuSans-50\"/>\n       <use x=\"63.623047\" xlink:href=\"#DejaVuSans-48\"/>\n       <use x=\"127.246094\" xlink:href=\"#DejaVuSans-46\"/>\n       <use x=\"159.033203\" xlink:href=\"#DejaVuSans-48\"/>\n      </g>\n     </g>\n    </g>\n    <g id=\"text_10\">\n     <!-- Energy (keV) -->\n     <g transform=\"translate(194.882812 256.715781)scale(0.1 -0.1)\">\n      <defs>\n       <path d=\"M 9.8125 72.90625 \nL 55.90625 72.90625 \nL 55.90625 64.59375 \nL 19.671875 64.59375 \nL 19.671875 43.015625 \nL 54.390625 43.015625 \nL 54.390625 34.71875 \nL 19.671875 34.71875 \nL 19.671875 8.296875 \nL 56.78125 8.296875 \nL 56.78125 0 \nL 9.8125 0 \nz\n\" id=\"DejaVuSans-69\"/>\n       <path d=\"M 54.890625 33.015625 \nL 54.890625 0 \nL 45.90625 0 \nL 45.90625 32.71875 \nQ 45.90625 40.484375 42.875 44.328125 \nQ 39.84375 48.1875 33.796875 48.1875 \nQ 26.515625 48.1875 22.3125 43.546875 \nQ 18.109375 38.921875 18.109375 30.90625 \nL 18.109375 0 \nL 9.078125 0 \nL 9.078125 54.6875 \nL 18.109375 54.6875 \nL 18.109375 46.1875 \nQ 21.34375 51.125 25.703125 53.5625 \nQ 30.078125 56 35.796875 56 \nQ 45.21875 56 50.046875 50.171875 \nQ 54.890625 44.34375 54.890625 33.015625 \nz\n\" id=\"DejaVuSans-110\"/>\n       <path d=\"M 56.203125 29.59375 \nL 56.203125 25.203125 \nL 14.890625 25.203125 \nQ 15.484375 15.921875 20.484375 11.0625 \nQ 25.484375 6.203125 34.421875 6.203125 \nQ 39.59375 6.203125 44.453125 7.46875 \nQ 49.3125 8.734375 54.109375 11.28125 \nL 54.109375 2.78125 \nQ 49.265625 0.734375 44.1875 -0.34375 \nQ 39.109375 -1.421875 33.890625 -1.421875 \nQ 20.796875 -1.421875 13.15625 6.1875 \nQ 5.515625 13.8125 5.515625 26.8125 \nQ 5.515625 40.234375 12.765625 48.109375 \nQ 20.015625 56 32.328125 56 \nQ 43.359375 56 49.78125 48.890625 \nQ 56.203125 41.796875 56.203125 29.59375 \nz\nM 47.21875 32.234375 \nQ 47.125 39.59375 43.09375 43.984375 \nQ 39.0625 48.390625 32.421875 48.390625 \nQ 24.90625 48.390625 20.390625 44.140625 \nQ 15.875 39.890625 15.1875 32.171875 \nz\n\" id=\"DejaVuSans-101\"/>\n       <path d=\"M 41.109375 46.296875 \nQ 39.59375 47.171875 37.8125 47.578125 \nQ 36.03125 48 33.890625 48 \nQ 26.265625 48 22.1875 43.046875 \nQ 18.109375 38.09375 18.109375 28.8125 \nL 18.109375 0 \nL 9.078125 0 \nL 9.078125 54.6875 \nL 18.109375 54.6875 \nL 18.109375 46.1875 \nQ 20.953125 51.171875 25.484375 53.578125 \nQ 30.03125 56 36.53125 56 \nQ 37.453125 56 38.578125 55.875 \nQ 39.703125 55.765625 41.0625 55.515625 \nz\n\" id=\"DejaVuSans-114\"/>\n       <path d=\"M 45.40625 27.984375 \nQ 45.40625 37.75 41.375 43.109375 \nQ 37.359375 48.484375 30.078125 48.484375 \nQ 22.859375 48.484375 18.828125 43.109375 \nQ 14.796875 37.75 14.796875 27.984375 \nQ 14.796875 18.265625 18.828125 12.890625 \nQ 22.859375 7.515625 30.078125 7.515625 \nQ 37.359375 7.515625 41.375 12.890625 \nQ 45.40625 18.265625 45.40625 27.984375 \nz\nM 54.390625 6.78125 \nQ 54.390625 -7.171875 48.1875 -13.984375 \nQ 42 -20.796875 29.203125 -20.796875 \nQ 24.46875 -20.796875 20.265625 -20.09375 \nQ 16.0625 -19.390625 12.109375 -17.921875 \nL 12.109375 -9.1875 \nQ 16.0625 -11.328125 19.921875 -12.34375 \nQ 23.78125 -13.375 27.78125 -13.375 \nQ 36.625 -13.375 41.015625 -8.765625 \nQ 45.40625 -4.15625 45.40625 5.171875 \nL 45.40625 9.625 \nQ 42.625 4.78125 38.28125 2.390625 \nQ 33.9375 0 27.875 0 \nQ 17.828125 0 11.671875 7.65625 \nQ 5.515625 15.328125 5.515625 27.984375 \nQ 5.515625 40.671875 11.671875 48.328125 \nQ 17.828125 56 27.875 56 \nQ 33.9375 56 38.28125 53.609375 \nQ 42.625 51.21875 45.40625 46.390625 \nL 45.40625 54.6875 \nL 54.390625 54.6875 \nz\n\" id=\"DejaVuSans-103\"/>\n       <path d=\"M 32.171875 -5.078125 \nQ 28.375 -14.84375 24.75 -17.8125 \nQ 21.140625 -20.796875 15.09375 -20.796875 \nL 7.90625 -20.796875 \nL 7.90625 -13.28125 \nL 13.1875 -13.28125 \nQ 16.890625 -13.28125 18.9375 -11.515625 \nQ 21 -9.765625 23.484375 -3.21875 \nL 25.09375 0.875 \nL 2.984375 54.6875 \nL 12.5 54.6875 \nL 29.59375 11.921875 \nL 46.6875 54.6875 \nL 56.203125 54.6875 \nz\n\" id=\"DejaVuSans-121\"/>\n       <path id=\"DejaVuSans-32\"/>\n       <path d=\"M 31 75.875 \nQ 24.46875 64.65625 21.28125 53.65625 \nQ 18.109375 42.671875 18.109375 31.390625 \nQ 18.109375 20.125 21.3125 9.0625 \nQ 24.515625 -2 31 -13.1875 \nL 23.1875 -13.1875 \nQ 15.875 -1.703125 12.234375 9.375 \nQ 8.59375 20.453125 8.59375 31.390625 \nQ 8.59375 42.28125 12.203125 53.3125 \nQ 15.828125 64.359375 23.1875 75.875 \nz\n\" id=\"DejaVuSans-40\"/>\n       <path d=\"M 9.078125 75.984375 \nL 18.109375 75.984375 \nL 18.109375 31.109375 \nL 44.921875 54.6875 \nL 56.390625 54.6875 \nL 27.390625 29.109375 \nL 57.625 0 \nL 45.90625 0 \nL 18.109375 26.703125 \nL 18.109375 0 \nL 9.078125 0 \nz\n\" id=\"DejaVuSans-107\"/>\n       <path d=\"M 28.609375 0 \nL 0.78125 72.90625 \nL 11.078125 72.90625 \nL 34.1875 11.53125 \nL 57.328125 72.90625 \nL 67.578125 72.90625 \nL 39.796875 0 \nz\n\" id=\"DejaVuSans-86\"/>\n       <path d=\"M 8.015625 75.875 \nL 15.828125 75.875 \nQ 23.140625 64.359375 26.78125 53.3125 \nQ 30.421875 42.28125 30.421875 31.390625 \nQ 30.421875 20.453125 26.78125 9.375 \nQ 23.140625 -1.703125 15.828125 -13.1875 \nL 8.015625 -13.1875 \nQ 14.5 -2 17.703125 9.0625 \nQ 20.90625 20.125 20.90625 31.390625 \nQ 20.90625 42.671875 17.703125 53.65625 \nQ 14.5 64.65625 8.015625 75.875 \nz\n\" id=\"DejaVuSans-41\"/>\n      </defs>\n      <use xlink:href=\"#DejaVuSans-69\"/>\n      <use x=\"63.183594\" xlink:href=\"#DejaVuSans-110\"/>\n      <use x=\"126.5625\" xlink:href=\"#DejaVuSans-101\"/>\n      <use x=\"188.085938\" xlink:href=\"#DejaVuSans-114\"/>\n      <use x=\"227.449219\" xlink:href=\"#DejaVuSans-103\"/>\n      <use x=\"290.925781\" xlink:href=\"#DejaVuSans-121\"/>\n      <use x=\"350.105469\" xlink:href=\"#DejaVuSans-32\"/>\n      <use x=\"381.892578\" xlink:href=\"#DejaVuSans-40\"/>\n      <use x=\"420.90625\" xlink:href=\"#DejaVuSans-107\"/>\n      <use x=\"475.191406\" xlink:href=\"#DejaVuSans-101\"/>\n      <use x=\"536.714844\" xlink:href=\"#DejaVuSans-86\"/>\n      <use x=\"605.123047\" xlink:href=\"#DejaVuSans-41\"/>\n     </g>\n    </g>\n   </g>\n   <g id=\"matplotlib.axis_2\">\n    <g id=\"ytick_1\">\n     <g id=\"line2d_10\">\n      <defs>\n       <path d=\"M 0 0 \nL -3.5 0 \n\" id=\"m9b668affe6\" style=\"stroke:#000000;stroke-width:0.8;\"/>\n      </defs>\n      <g>\n       <use style=\"stroke:#000000;stroke-width:0.8;\" x=\"59.690625\" xlink:href=\"#m9b668affe6\" y=\"184.959917\"/>\n      </g>\n     </g>\n     <g id=\"text_11\">\n      <!-- 2000 -->\n      <g transform=\"translate(27.240625 188.759136)scale(0.1 -0.1)\">\n       <use xlink:href=\"#DejaVuSans-50\"/>\n       <use x=\"63.623047\" xlink:href=\"#DejaVuSans-48\"/>\n       <use x=\"127.246094\" xlink:href=\"#DejaVuSans-48\"/>\n       <use x=\"190.869141\" xlink:href=\"#DejaVuSans-48\"/>\n      </g>\n     </g>\n    </g>\n    <g id=\"ytick_2\">\n     <g id=\"line2d_11\">\n      <g>\n       <use style=\"stroke:#000000;stroke-width:0.8;\" x=\"59.690625\" xlink:href=\"#m9b668affe6\" y=\"141.469742\"/>\n      </g>\n     </g>\n     <g id=\"text_12\">\n      <!-- 4000 -->\n      <g transform=\"translate(27.240625 145.268961)scale(0.1 -0.1)\">\n       <defs>\n        <path d=\"M 37.796875 64.3125 \nL 12.890625 25.390625 \nL 37.796875 25.390625 \nz\nM 35.203125 72.90625 \nL 47.609375 72.90625 \nL 47.609375 25.390625 \nL 58.015625 25.390625 \nL 58.015625 17.1875 \nL 47.609375 17.1875 \nL 47.609375 0 \nL 37.796875 0 \nL 37.796875 17.1875 \nL 4.890625 17.1875 \nL 4.890625 26.703125 \nz\n\" id=\"DejaVuSans-52\"/>\n       </defs>\n       <use xlink:href=\"#DejaVuSans-52\"/>\n       <use x=\"63.623047\" xlink:href=\"#DejaVuSans-48\"/>\n       <use x=\"127.246094\" xlink:href=\"#DejaVuSans-48\"/>\n       <use x=\"190.869141\" xlink:href=\"#DejaVuSans-48\"/>\n      </g>\n     </g>\n    </g>\n    <g id=\"ytick_3\">\n     <g id=\"line2d_12\">\n      <g>\n       <use style=\"stroke:#000000;stroke-width:0.8;\" x=\"59.690625\" xlink:href=\"#m9b668affe6\" y=\"97.979568\"/>\n      </g>\n     </g>\n     <g id=\"text_13\">\n      <!-- 6000 -->\n      <g transform=\"translate(27.240625 101.778787)scale(0.1 -0.1)\">\n       <defs>\n        <path d=\"M 33.015625 40.375 \nQ 26.375 40.375 22.484375 35.828125 \nQ 18.609375 31.296875 18.609375 23.390625 \nQ 18.609375 15.53125 22.484375 10.953125 \nQ 26.375 6.390625 33.015625 6.390625 \nQ 39.65625 6.390625 43.53125 10.953125 \nQ 47.40625 15.53125 47.40625 23.390625 \nQ 47.40625 31.296875 43.53125 35.828125 \nQ 39.65625 40.375 33.015625 40.375 \nz\nM 52.59375 71.296875 \nL 52.59375 62.3125 \nQ 48.875 64.0625 45.09375 64.984375 \nQ 41.3125 65.921875 37.59375 65.921875 \nQ 27.828125 65.921875 22.671875 59.328125 \nQ 17.53125 52.734375 16.796875 39.40625 \nQ 19.671875 43.65625 24.015625 45.921875 \nQ 28.375 48.1875 33.59375 48.1875 \nQ 44.578125 48.1875 50.953125 41.515625 \nQ 57.328125 34.859375 57.328125 23.390625 \nQ 57.328125 12.15625 50.6875 5.359375 \nQ 44.046875 -1.421875 33.015625 -1.421875 \nQ 20.359375 -1.421875 13.671875 8.265625 \nQ 6.984375 17.96875 6.984375 36.375 \nQ 6.984375 53.65625 15.1875 63.9375 \nQ 23.390625 74.21875 37.203125 74.21875 \nQ 40.921875 74.21875 44.703125 73.484375 \nQ 48.484375 72.75 52.59375 71.296875 \nz\n\" id=\"DejaVuSans-54\"/>\n       </defs>\n       <use xlink:href=\"#DejaVuSans-54\"/>\n       <use x=\"63.623047\" xlink:href=\"#DejaVuSans-48\"/>\n       <use x=\"127.246094\" xlink:href=\"#DejaVuSans-48\"/>\n       <use x=\"190.869141\" xlink:href=\"#DejaVuSans-48\"/>\n      </g>\n     </g>\n    </g>\n    <g id=\"ytick_4\">\n     <g id=\"line2d_13\">\n      <g>\n       <use style=\"stroke:#000000;stroke-width:0.8;\" x=\"59.690625\" xlink:href=\"#m9b668affe6\" y=\"54.489393\"/>\n      </g>\n     </g>\n     <g id=\"text_14\">\n      <!-- 8000 -->\n      <g transform=\"translate(27.240625 58.288612)scale(0.1 -0.1)\">\n       <defs>\n        <path d=\"M 31.78125 34.625 \nQ 24.75 34.625 20.71875 30.859375 \nQ 16.703125 27.09375 16.703125 20.515625 \nQ 16.703125 13.921875 20.71875 10.15625 \nQ 24.75 6.390625 31.78125 6.390625 \nQ 38.8125 6.390625 42.859375 10.171875 \nQ 46.921875 13.96875 46.921875 20.515625 \nQ 46.921875 27.09375 42.890625 30.859375 \nQ 38.875 34.625 31.78125 34.625 \nz\nM 21.921875 38.8125 \nQ 15.578125 40.375 12.03125 44.71875 \nQ 8.5 49.078125 8.5 55.328125 \nQ 8.5 64.0625 14.71875 69.140625 \nQ 20.953125 74.21875 31.78125 74.21875 \nQ 42.671875 74.21875 48.875 69.140625 \nQ 55.078125 64.0625 55.078125 55.328125 \nQ 55.078125 49.078125 51.53125 44.71875 \nQ 48 40.375 41.703125 38.8125 \nQ 48.828125 37.15625 52.796875 32.3125 \nQ 56.78125 27.484375 56.78125 20.515625 \nQ 56.78125 9.90625 50.3125 4.234375 \nQ 43.84375 -1.421875 31.78125 -1.421875 \nQ 19.734375 -1.421875 13.25 4.234375 \nQ 6.78125 9.90625 6.78125 20.515625 \nQ 6.78125 27.484375 10.78125 32.3125 \nQ 14.796875 37.15625 21.921875 38.8125 \nz\nM 18.3125 54.390625 \nQ 18.3125 48.734375 21.84375 45.5625 \nQ 25.390625 42.390625 31.78125 42.390625 \nQ 38.140625 42.390625 41.71875 45.5625 \nQ 45.3125 48.734375 45.3125 54.390625 \nQ 45.3125 60.0625 41.71875 63.234375 \nQ 38.140625 66.40625 31.78125 66.40625 \nQ 25.390625 66.40625 21.84375 63.234375 \nQ 18.3125 60.0625 18.3125 54.390625 \nz\n\" id=\"DejaVuSans-56\"/>\n       </defs>\n       <use xlink:href=\"#DejaVuSans-56\"/>\n       <use x=\"63.623047\" xlink:href=\"#DejaVuSans-48\"/>\n       <use x=\"127.246094\" xlink:href=\"#DejaVuSans-48\"/>\n       <use x=\"190.869141\" xlink:href=\"#DejaVuSans-48\"/>\n      </g>\n     </g>\n    </g>\n    <g id=\"ytick_5\">\n     <g id=\"line2d_14\">\n      <g>\n       <use style=\"stroke:#000000;stroke-width:0.8;\" x=\"59.690625\" xlink:href=\"#m9b668affe6\" y=\"10.999219\"/>\n      </g>\n     </g>\n     <g id=\"text_15\">\n      <!-- 10000 -->\n      <g transform=\"translate(20.878125 14.798437)scale(0.1 -0.1)\">\n       <use xlink:href=\"#DejaVuSans-49\"/>\n       <use x=\"63.623047\" xlink:href=\"#DejaVuSans-48\"/>\n       <use x=\"127.246094\" xlink:href=\"#DejaVuSans-48\"/>\n       <use x=\"190.869141\" xlink:href=\"#DejaVuSans-48\"/>\n       <use x=\"254.492188\" xlink:href=\"#DejaVuSans-48\"/>\n      </g>\n     </g>\n    </g>\n    <g id=\"text_16\">\n     <!-- Counts / (40.0 eV kg days) -->\n     <g transform=\"translate(14.798438 186.205156)rotate(-90)scale(0.1 -0.1)\">\n      <defs>\n       <path d=\"M 64.40625 67.28125 \nL 64.40625 56.890625 \nQ 59.421875 61.53125 53.78125 63.8125 \nQ 48.140625 66.109375 41.796875 66.109375 \nQ 29.296875 66.109375 22.65625 58.46875 \nQ 16.015625 50.828125 16.015625 36.375 \nQ 16.015625 21.96875 22.65625 14.328125 \nQ 29.296875 6.6875 41.796875 6.6875 \nQ 48.140625 6.6875 53.78125 8.984375 \nQ 59.421875 11.28125 64.40625 15.921875 \nL 64.40625 5.609375 \nQ 59.234375 2.09375 53.4375 0.328125 \nQ 47.65625 -1.421875 41.21875 -1.421875 \nQ 24.65625 -1.421875 15.125 8.703125 \nQ 5.609375 18.84375 5.609375 36.375 \nQ 5.609375 53.953125 15.125 64.078125 \nQ 24.65625 74.21875 41.21875 74.21875 \nQ 47.75 74.21875 53.53125 72.484375 \nQ 59.328125 70.75 64.40625 67.28125 \nz\n\" id=\"DejaVuSans-67\"/>\n       <path d=\"M 30.609375 48.390625 \nQ 23.390625 48.390625 19.1875 42.75 \nQ 14.984375 37.109375 14.984375 27.296875 \nQ 14.984375 17.484375 19.15625 11.84375 \nQ 23.34375 6.203125 30.609375 6.203125 \nQ 37.796875 6.203125 41.984375 11.859375 \nQ 46.1875 17.53125 46.1875 27.296875 \nQ 46.1875 37.015625 41.984375 42.703125 \nQ 37.796875 48.390625 30.609375 48.390625 \nz\nM 30.609375 56 \nQ 42.328125 56 49.015625 48.375 \nQ 55.71875 40.765625 55.71875 27.296875 \nQ 55.71875 13.875 49.015625 6.21875 \nQ 42.328125 -1.421875 30.609375 -1.421875 \nQ 18.84375 -1.421875 12.171875 6.21875 \nQ 5.515625 13.875 5.515625 27.296875 \nQ 5.515625 40.765625 12.171875 48.375 \nQ 18.84375 56 30.609375 56 \nz\n\" id=\"DejaVuSans-111\"/>\n       <path d=\"M 8.5 21.578125 \nL 8.5 54.6875 \nL 17.484375 54.6875 \nL 17.484375 21.921875 \nQ 17.484375 14.15625 20.5 10.265625 \nQ 23.53125 6.390625 29.59375 6.390625 \nQ 36.859375 6.390625 41.078125 11.03125 \nQ 45.3125 15.671875 45.3125 23.6875 \nL 45.3125 54.6875 \nL 54.296875 54.6875 \nL 54.296875 0 \nL 45.3125 0 \nL 45.3125 8.40625 \nQ 42.046875 3.421875 37.71875 1 \nQ 33.40625 -1.421875 27.6875 -1.421875 \nQ 18.265625 -1.421875 13.375 4.4375 \nQ 8.5 10.296875 8.5 21.578125 \nz\nM 31.109375 56 \nz\n\" id=\"DejaVuSans-117\"/>\n       <path d=\"M 18.3125 70.21875 \nL 18.3125 54.6875 \nL 36.8125 54.6875 \nL 36.8125 47.703125 \nL 18.3125 47.703125 \nL 18.3125 18.015625 \nQ 18.3125 11.328125 20.140625 9.421875 \nQ 21.96875 7.515625 27.59375 7.515625 \nL 36.8125 7.515625 \nL 36.8125 0 \nL 27.59375 0 \nQ 17.1875 0 13.234375 3.875 \nQ 9.28125 7.765625 9.28125 18.015625 \nL 9.28125 47.703125 \nL 2.6875 47.703125 \nL 2.6875 54.6875 \nL 9.28125 54.6875 \nL 9.28125 70.21875 \nz\n\" id=\"DejaVuSans-116\"/>\n       <path d=\"M 44.28125 53.078125 \nL 44.28125 44.578125 \nQ 40.484375 46.53125 36.375 47.5 \nQ 32.28125 48.484375 27.875 48.484375 \nQ 21.1875 48.484375 17.84375 46.4375 \nQ 14.5 44.390625 14.5 40.28125 \nQ 14.5 37.15625 16.890625 35.375 \nQ 19.28125 33.59375 26.515625 31.984375 \nL 29.59375 31.296875 \nQ 39.15625 29.25 43.1875 25.515625 \nQ 47.21875 21.78125 47.21875 15.09375 \nQ 47.21875 7.46875 41.1875 3.015625 \nQ 35.15625 -1.421875 24.609375 -1.421875 \nQ 20.21875 -1.421875 15.453125 -0.5625 \nQ 10.6875 0.296875 5.421875 2 \nL 5.421875 11.28125 \nQ 10.40625 8.6875 15.234375 7.390625 \nQ 20.0625 6.109375 24.8125 6.109375 \nQ 31.15625 6.109375 34.5625 8.28125 \nQ 37.984375 10.453125 37.984375 14.40625 \nQ 37.984375 18.0625 35.515625 20.015625 \nQ 33.0625 21.96875 24.703125 23.78125 \nL 21.578125 24.515625 \nQ 13.234375 26.265625 9.515625 29.90625 \nQ 5.8125 33.546875 5.8125 39.890625 \nQ 5.8125 47.609375 11.28125 51.796875 \nQ 16.75 56 26.8125 56 \nQ 31.78125 56 36.171875 55.265625 \nQ 40.578125 54.546875 44.28125 53.078125 \nz\n\" id=\"DejaVuSans-115\"/>\n       <path d=\"M 25.390625 72.90625 \nL 33.6875 72.90625 \nL 8.296875 -9.28125 \nL 0 -9.28125 \nz\n\" id=\"DejaVuSans-47\"/>\n       <path d=\"M 45.40625 46.390625 \nL 45.40625 75.984375 \nL 54.390625 75.984375 \nL 54.390625 0 \nL 45.40625 0 \nL 45.40625 8.203125 \nQ 42.578125 3.328125 38.25 0.953125 \nQ 33.9375 -1.421875 27.875 -1.421875 \nQ 17.96875 -1.421875 11.734375 6.484375 \nQ 5.515625 14.40625 5.515625 27.296875 \nQ 5.515625 40.1875 11.734375 48.09375 \nQ 17.96875 56 27.875 56 \nQ 33.9375 56 38.25 53.625 \nQ 42.578125 51.265625 45.40625 46.390625 \nz\nM 14.796875 27.296875 \nQ 14.796875 17.390625 18.875 11.75 \nQ 22.953125 6.109375 30.078125 6.109375 \nQ 37.203125 6.109375 41.296875 11.75 \nQ 45.40625 17.390625 45.40625 27.296875 \nQ 45.40625 37.203125 41.296875 42.84375 \nQ 37.203125 48.484375 30.078125 48.484375 \nQ 22.953125 48.484375 18.875 42.84375 \nQ 14.796875 37.203125 14.796875 27.296875 \nz\n\" id=\"DejaVuSans-100\"/>\n       <path d=\"M 34.28125 27.484375 \nQ 23.390625 27.484375 19.1875 25 \nQ 14.984375 22.515625 14.984375 16.5 \nQ 14.984375 11.71875 18.140625 8.90625 \nQ 21.296875 6.109375 26.703125 6.109375 \nQ 34.1875 6.109375 38.703125 11.40625 \nQ 43.21875 16.703125 43.21875 25.484375 \nL 43.21875 27.484375 \nz\nM 52.203125 31.203125 \nL 52.203125 0 \nL 43.21875 0 \nL 43.21875 8.296875 \nQ 40.140625 3.328125 35.546875 0.953125 \nQ 30.953125 -1.421875 24.3125 -1.421875 \nQ 15.921875 -1.421875 10.953125 3.296875 \nQ 6 8.015625 6 15.921875 \nQ 6 25.140625 12.171875 29.828125 \nQ 18.359375 34.515625 30.609375 34.515625 \nL 43.21875 34.515625 \nL 43.21875 35.40625 \nQ 43.21875 41.609375 39.140625 45 \nQ 35.0625 48.390625 27.6875 48.390625 \nQ 23 48.390625 18.546875 47.265625 \nQ 14.109375 46.140625 10.015625 43.890625 \nL 10.015625 52.203125 \nQ 14.9375 54.109375 19.578125 55.046875 \nQ 24.21875 56 28.609375 56 \nQ 40.484375 56 46.34375 49.84375 \nQ 52.203125 43.703125 52.203125 31.203125 \nz\n\" id=\"DejaVuSans-97\"/>\n      </defs>\n      <use xlink:href=\"#DejaVuSans-67\"/>\n      <use x=\"69.824219\" xlink:href=\"#DejaVuSans-111\"/>\n      <use x=\"131.005859\" xlink:href=\"#DejaVuSans-117\"/>\n      <use x=\"194.384766\" xlink:href=\"#DejaVuSans-110\"/>\n      <use x=\"257.763672\" xlink:href=\"#DejaVuSans-116\"/>\n      <use x=\"296.972656\" xlink:href=\"#DejaVuSans-115\"/>\n      <use x=\"349.072266\" xlink:href=\"#DejaVuSans-32\"/>\n      <use x=\"380.859375\" xlink:href=\"#DejaVuSans-47\"/>\n      <use x=\"414.550781\" xlink:href=\"#DejaVuSans-32\"/>\n      <use x=\"446.337891\" xlink:href=\"#DejaVuSans-40\"/>\n      <use x=\"485.351562\" xlink:href=\"#DejaVuSans-52\"/>\n      <use x=\"548.974609\" xlink:href=\"#DejaVuSans-48\"/>\n      <use x=\"612.597656\" xlink:href=\"#DejaVuSans-46\"/>\n      <use x=\"644.384766\" xlink:href=\"#DejaVuSans-48\"/>\n      <use x=\"708.007812\" xlink:href=\"#DejaVuSans-32\"/>\n      <use x=\"739.794922\" xlink:href=\"#DejaVuSans-101\"/>\n      <use x=\"801.318359\" xlink:href=\"#DejaVuSans-86\"/>\n      <use x=\"869.726562\" xlink:href=\"#DejaVuSans-32\"/>\n      <use x=\"901.513672\" xlink:href=\"#DejaVuSans-107\"/>\n      <use x=\"959.423828\" xlink:href=\"#DejaVuSans-103\"/>\n      <use x=\"1022.900391\" xlink:href=\"#DejaVuSans-32\"/>\n      <use x=\"1054.6875\" xlink:href=\"#DejaVuSans-100\"/>\n      <use x=\"1118.164062\" xlink:href=\"#DejaVuSans-97\"/>\n      <use x=\"1179.443359\" xlink:href=\"#DejaVuSans-121\"/>\n      <use x=\"1238.623047\" xlink:href=\"#DejaVuSans-115\"/>\n      <use x=\"1290.722656\" xlink:href=\"#DejaVuSans-41\"/>\n     </g>\n    </g>\n   </g>\n   <g id=\"patch_3\">\n    <path clip-path=\"url(#p6b5291c939)\" d=\"M 59.690625 228.450091 \nL 59.690625 141.882899 \nL 60.360225 141.882899 \nL 60.360225 147.710582 \nL 61.029825 147.710582 \nL 61.029825 149.798111 \nL 61.699425 149.798111 \nL 61.699425 151.124561 \nL 62.369025 151.124561 \nL 62.369025 156.495598 \nL 63.038625 156.495598 \nL 63.038625 157.561107 \nL 63.708225 157.561107 \nL 63.708225 158.974538 \nL 64.377825 158.974538 \nL 64.377825 164.650005 \nL 65.047425 164.650005 \nL 65.047425 167.542102 \nL 65.717025 167.542102 \nL 65.717025 167.15069 \nL 66.386625 167.15069 \nL 66.386625 171.608433 \nL 67.056225 171.608433 \nL 67.056225 173.282805 \nL 67.725825 173.282805 \nL 67.725825 176.566313 \nL 68.395425 176.566313 \nL 68.395425 178.740822 \nL 69.065025 178.740822 \nL 69.065025 181.154527 \nL 69.734625 181.154527 \nL 69.734625 181.567683 \nL 70.404225 181.567683 \nL 70.404225 183.024604 \nL 71.073825 183.024604 \nL 71.073825 185.481799 \nL 71.743425 185.481799 \nL 71.743425 185.764485 \nL 72.413025 185.764485 \nL 72.413025 188.460876 \nL 73.082625 188.460876 \nL 73.082625 191.179012 \nL 74.421825 191.135522 \nL 74.421825 192.701168 \nL 75.091425 192.701168 \nL 75.091425 195.332323 \nL 75.761025 195.332323 \nL 75.761025 194.658226 \nL 76.430625 194.658226 \nL 76.430625 197.941734 \nL 77.100225 197.941734 \nL 77.100225 198.13744 \nL 77.769825 198.13744 \nL 77.769825 198.855028 \nL 78.439425 198.855028 \nL 78.439425 199.985772 \nL 79.109025 199.985772 \nL 79.109025 201.551418 \nL 79.778625 201.551418 \nL 79.778625 201.399203 \nL 80.448225 201.399203 \nL 80.448225 204.269554 \nL 81.117825 204.269554 \nL 81.117825 205.79171 \nL 81.787425 205.79171 \nL 81.787425 205.61775 \nL 82.457025 205.61775 \nL 82.457025 207.379102 \nL 83.126625 207.379102 \nL 83.126625 206.98769 \nL 83.796225 206.98769 \nL 83.796225 208.640317 \nL 84.465825 208.640317 \nL 84.465825 208.814278 \nL 85.135425 208.814278 \nL 85.135425 210.140728 \nL 85.805025 210.140728 \nL 85.805025 211.380198 \nL 86.474625 211.380198 \nL 86.474625 210.771335 \nL 87.144225 210.771335 \nL 87.144225 211.641139 \nL 87.813825 211.641139 \nL 87.813825 212.532687 \nL 88.483425 212.532687 \nL 88.483425 212.837119 \nL 89.153025 212.837119 \nL 89.153025 212.554433 \nL 89.822625 212.554433 \nL 89.822625 214.446255 \nL 90.492225 214.446255 \nL 90.492225 215.772705 \nL 91.161825 215.772705 \nL 91.161825 215.229078 \nL 91.831425 215.229078 \nL 91.831425 215.66398 \nL 92.501025 215.66398 \nL 92.501025 217.794999 \nL 93.170625 217.794999 \nL 93.170625 217.294862 \nL 93.840225 217.294862 \nL 93.840225 217.664528 \nL 94.509825 217.664528 \nL 94.509825 217.947214 \nL 95.849025 217.838489 \nL 95.849025 218.643057 \nL 97.188225 218.664802 \nL 97.188225 219.882527 \nL 97.857825 219.882527 \nL 97.857825 220.57837 \nL 98.527425 220.57837 \nL 98.527425 219.42588 \nL 99.197025 219.42588 \nL 99.197025 220.817566 \nL 100.536225 220.730585 \nL 100.536225 221.665624 \nL 101.205825 221.665624 \nL 101.205825 221.295958 \nL 101.875425 221.295958 \nL 101.875425 221.752604 \nL 103.214625 221.643879 \nL 103.214625 222.252741 \nL 103.884225 222.252741 \nL 103.884225 222.622408 \nL 104.553825 222.622408 \nL 104.553825 222.752878 \nL 105.223425 222.752878 \nL 105.223425 222.317977 \nL 105.893025 222.317977 \nL 105.893025 223.274761 \nL 106.562625 223.274761 \nL 106.562625 223.513956 \nL 107.232225 223.513956 \nL 107.232225 223.731407 \nL 107.901825 223.731407 \nL 107.901825 224.014093 \nL 108.571425 224.014093 \nL 108.571425 224.209799 \nL 109.241025 224.209799 \nL 109.241025 224.601211 \nL 109.910625 224.601211 \nL 109.910625 224.231544 \nL 110.580225 224.231544 \nL 110.580225 224.42725 \nL 111.249825 224.42725 \nL 111.249825 224.796917 \nL 111.919425 224.796917 \nL 111.919425 224.448995 \nL 112.589025 224.448995 \nL 112.589025 225.014368 \nL 114.597825 225.123093 \nL 114.597825 225.318799 \nL 115.267425 225.318799 \nL 115.267425 225.818936 \nL 115.937025 225.818936 \nL 115.937025 224.927387 \nL 116.606625 224.927387 \nL 116.606625 225.318799 \nL 117.276225 225.318799 \nL 117.276225 225.492759 \nL 117.945825 225.492759 \nL 117.945825 225.818936 \nL 119.285025 225.840681 \nL 119.285025 226.297328 \nL 119.954625 226.297328 \nL 119.954625 226.036387 \nL 120.624225 226.036387 \nL 120.624225 226.340818 \nL 121.293825 226.340818 \nL 121.293825 226.036387 \nL 121.963425 226.036387 \nL 121.963425 226.275583 \nL 122.633025 226.275583 \nL 122.633025 226.797465 \nL 123.302625 226.797465 \nL 123.302625 226.493033 \nL 123.972225 226.493033 \nL 123.972225 226.319073 \nL 124.641825 226.319073 \nL 124.641825 226.623504 \nL 125.311425 226.623504 \nL 125.311425 226.232092 \nL 125.981025 226.232092 \nL 125.981025 226.514779 \nL 127.320225 226.580014 \nL 127.320225 226.927935 \nL 127.989825 226.927935 \nL 127.989825 226.797465 \nL 128.659425 226.797465 \nL 128.659425 227.188876 \nL 129.329025 227.188876 \nL 129.329025 227.036661 \nL 130.668225 227.101896 \nL 130.668225 227.319347 \nL 131.337825 227.319347 \nL 131.337825 226.90619 \nL 132.007425 226.90619 \nL 132.007425 226.427798 \nL 133.346625 226.319073 \nL 133.346625 224.666446 \nL 134.016225 224.666446 \nL 134.016225 222.992074 \nL 134.685825 222.992074 \nL 134.685825 219.556351 \nL 135.355425 219.556351 \nL 135.355425 215.207333 \nL 136.025025 215.207333 \nL 136.025025 208.248905 \nL 136.694625 208.248905 \nL 136.694625 198.681067 \nL 137.364225 198.681067 \nL 137.364225 187.06919 \nL 138.033825 187.06919 \nL 138.033825 170.956081 \nL 138.703425 170.956081 \nL 138.703425 155.73452 \nL 139.373025 155.73452 \nL 139.373025 132.22808 \nL 140.042625 132.22808 \nL 140.042625 110.178562 \nL 140.712225 110.178562 \nL 140.712225 90.781944 \nL 141.381825 90.781944 \nL 141.381825 76.647637 \nL 142.051425 76.647637 \nL 142.051425 67.123289 \nL 142.721025 67.123289 \nL 142.721025 51.879983 \nL 144.060225 51.901728 \nL 144.060225 62.861252 \nL 144.729825 62.861252 \nL 144.729825 75.386422 \nL 145.399425 75.386422 \nL 145.399425 90.847179 \nL 146.069025 90.847179 \nL 146.069025 112.744482 \nL 146.738625 112.744482 \nL 146.738625 134.728765 \nL 147.408225 134.728765 \nL 147.408225 152.885913 \nL 148.077825 152.885913 \nL 148.077825 173.478511 \nL 148.747425 173.478511 \nL 148.747425 186.89523 \nL 149.417025 186.89523 \nL 149.417025 198.615832 \nL 150.086625 198.615832 \nL 150.086625 208.31414 \nL 150.756225 208.31414 \nL 150.756225 215.424784 \nL 151.425825 215.424784 \nL 151.425825 220.62186 \nL 152.095425 220.62186 \nL 152.095425 223.970603 \nL 152.765025 223.970603 \nL 152.765025 225.66672 \nL 153.434625 225.66672 \nL 153.434625 226.90619 \nL 154.104225 226.90619 \nL 154.104225 227.362837 \nL 154.773825 227.362837 \nL 154.773825 227.862974 \nL 156.113025 227.797739 \nL 156.113025 228.05868 \nL 159.461025 228.14566 \nL 159.461025 228.254386 \nL 161.469825 228.276131 \nL 161.469825 228.123915 \nL 162.139425 228.123915 \nL 162.139425 228.276131 \nL 170.844225 228.319621 \nL 170.844225 228.406601 \nL 172.183425 228.319621 \nL 172.183425 228.276131 \nL 173.522625 228.319621 \nL 173.522625 228.450091 \nL 175.531425 228.406601 \nL 175.531425 228.276131 \nL 176.870625 228.363111 \nL 176.870625 228.450091 \nL 394.490625 228.450091 \nL 394.490625 228.450091 \n\" style=\"fill:none;stroke:#1f77b4;stroke-linejoin:miter;\"/>\n   </g>\n   <g id=\"patch_4\">\n    <path clip-path=\"url(#p6b5291c939)\" d=\"M 59.690625 228.450091 \nL 59.690625 -1 \nM 65.047425 -1 \nL 65.047425 5.671672 \nL 65.717025 5.671672 \nL 65.717025 22.306664 \nL 66.386625 22.306664 \nL 66.386625 28.395289 \nL 67.056225 28.395289 \nL 67.056225 48.183318 \nL 67.725825 48.183318 \nL 67.725825 67.971347 \nL 68.395425 67.971347 \nL 68.395425 71.01566 \nL 69.065025 71.01566 \nL 69.065025 86.237221 \nL 69.734625 86.237221 \nL 69.734625 95.152706 \nL 70.404225 95.152706 \nL 70.404225 105.590348 \nL 71.073825 105.590348 \nL 71.073825 112.983678 \nL 71.743425 112.983678 \nL 71.743425 129.183768 \nL 72.413025 129.183768 \nL 72.413025 129.509944 \nL 73.082625 129.509944 \nL 73.082625 133.532785 \nL 73.752225 133.532785 \nL 73.752225 140.926115 \nL 74.421825 140.926115 \nL 74.421825 151.689933 \nL 75.091425 151.689933 \nL 75.091425 160.061792 \nL 75.761025 160.061792 \nL 75.761025 162.345026 \nL 76.430625 162.345026 \nL 76.430625 164.736986 \nL 77.100225 164.736986 \nL 77.100225 170.064532 \nL 77.769825 170.064532 \nL 77.769825 173.869922 \nL 78.439425 173.869922 \nL 78.439425 178.21894 \nL 79.109025 178.21894 \nL 79.109025 181.806879 \nL 79.778625 181.806879 \nL 79.778625 182.241781 \nL 80.448225 182.241781 \nL 80.448225 189.200209 \nL 81.117825 189.200209 \nL 81.117825 190.070012 \nL 81.787425 190.070012 \nL 81.787425 195.941186 \nL 82.457025 195.941186 \nL 82.457025 194.636481 \nL 83.126625 194.636481 \nL 83.126625 196.702264 \nL 83.796225 196.702264 \nL 83.796225 198.006969 \nL 84.465825 198.006969 \nL 84.465825 200.181478 \nL 85.135425 200.181478 \nL 85.135425 202.682163 \nL 85.805025 202.682163 \nL 85.805025 204.530495 \nL 86.474625 204.530495 \nL 86.474625 207.574808 \nL 87.144225 207.574808 \nL 87.144225 206.161377 \nL 87.813825 206.161377 \nL 87.813825 208.444611 \nL 88.483425 208.444611 \nL 88.483425 210.945296 \nL 89.153025 210.945296 \nL 89.153025 209.966767 \nL 89.822625 209.966767 \nL 89.822625 213.011079 \nL 90.492225 213.011079 \nL 90.492225 211.380198 \nL 91.161825 211.380198 \nL 91.161825 213.445981 \nL 91.831425 213.445981 \nL 91.831425 215.076863 \nL 92.501025 215.076863 \nL 92.501025 214.098334 \nL 93.170625 214.098334 \nL 93.170625 213.554707 \nL 93.840225 213.554707 \nL 93.840225 214.968137 \nL 94.509825 214.968137 \nL 94.509825 214.641961 \nL 95.179425 214.641961 \nL 95.179425 218.121175 \nL 95.849025 218.121175 \nL 95.849025 218.447351 \nL 96.518625 218.447351 \nL 96.518625 218.882253 \nL 97.188225 218.882253 \nL 97.188225 217.794999 \nL 97.857825 217.794999 \nL 97.857825 217.251371 \nL 98.527425 217.251371 \nL 98.527425 220.404409 \nL 99.197025 220.404409 \nL 99.197025 218.556077 \nL 99.866625 218.556077 \nL 99.866625 221.274212 \nL 100.536225 221.274212 \nL 100.536225 219.099704 \nL 101.205825 219.099704 \nL 101.205825 219.969507 \nL 101.875425 219.969507 \nL 101.875425 221.165487 \nL 102.545025 221.165487 \nL 102.545025 220.948036 \nL 103.214625 220.948036 \nL 103.214625 219.752056 \nL 103.884225 219.752056 \nL 103.884225 220.513134 \nL 105.223425 220.62186 \nL 105.223425 220.948036 \nL 105.893025 220.948036 \nL 105.893025 220.513134 \nL 106.562625 220.513134 \nL 106.562625 221.926565 \nL 107.232225 221.926565 \nL 107.232225 221.165487 \nL 107.901825 221.165487 \nL 107.901825 222.252741 \nL 108.571425 222.252741 \nL 108.571425 221.274212 \nL 109.241025 221.274212 \nL 109.241025 220.404409 \nL 110.580225 220.513134 \nL 110.580225 222.578918 \nL 111.249825 222.578918 \nL 111.249825 221.81784 \nL 112.589025 221.709114 \nL 112.589025 221.491663 \nL 113.258625 221.491663 \nL 113.258625 220.839311 \nL 114.597825 220.730585 \nL 114.597825 222.470192 \nL 115.267425 222.470192 \nL 115.267425 222.687643 \nL 115.937025 222.687643 \nL 115.937025 221.274212 \nL 116.606625 221.274212 \nL 116.606625 223.23127 \nL 117.276225 223.23127 \nL 117.276225 220.839311 \nL 117.945825 220.839311 \nL 117.945825 223.013819 \nL 118.615425 223.013819 \nL 118.615425 222.144016 \nL 119.285025 222.144016 \nL 119.285025 222.470192 \nL 119.954625 222.470192 \nL 119.954625 224.862152 \nL 120.624225 224.862152 \nL 120.624225 222.687643 \nL 121.293825 222.687643 \nL 121.293825 223.23127 \nL 121.963425 223.23127 \nL 121.963425 222.687643 \nL 123.302625 222.796369 \nL 123.302625 223.013819 \nL 124.641825 223.013819 \nL 124.641825 222.470192 \nL 125.981025 222.361467 \nL 125.981025 221.709114 \nL 127.320225 221.600389 \nL 127.320225 223.122545 \nL 127.989825 223.122545 \nL 127.989825 221.382938 \nL 128.659425 221.382938 \nL 128.659425 221.056762 \nL 129.329025 221.056762 \nL 129.329025 219.534606 \nL 129.998625 219.534606 \nL 129.998625 221.926565 \nL 131.337825 221.926565 \nL 131.337825 224.209799 \nL 132.007425 224.209799 \nL 132.007425 221.600389 \nL 132.677025 221.600389 \nL 132.677025 222.578918 \nL 133.346625 222.578918 \nL 133.346625 222.252741 \nL 134.685825 222.144016 \nL 134.685825 221.926565 \nL 136.025025 221.81784 \nL 136.025025 223.448721 \nL 136.694625 223.448721 \nL 136.694625 222.252741 \nL 137.364225 222.252741 \nL 137.364225 223.013819 \nL 138.033825 223.013819 \nL 138.033825 223.23127 \nL 139.373025 223.23127 \nL 139.373025 222.252741 \nL 140.042625 222.252741 \nL 140.042625 222.905094 \nL 140.712225 222.905094 \nL 140.712225 223.448721 \nL 141.381825 223.448721 \nL 141.381825 222.905094 \nL 142.051425 222.905094 \nL 142.051425 222.361467 \nL 142.721025 222.361467 \nL 142.721025 223.339996 \nL 143.390625 223.339996 \nL 143.390625 223.122545 \nL 144.060225 223.122545 \nL 144.060225 221.81784 \nL 144.729825 221.81784 \nL 144.729825 222.687643 \nL 145.399425 222.687643 \nL 145.399425 222.252741 \nL 146.069025 222.252741 \nL 146.069025 221.709114 \nL 146.738625 221.709114 \nL 146.738625 222.796369 \nL 148.077825 222.687643 \nL 148.077825 223.013819 \nL 148.747425 223.013819 \nL 148.747425 222.796369 \nL 149.417025 222.796369 \nL 149.417025 222.252741 \nL 150.086625 222.252741 \nL 150.086625 223.557447 \nL 150.756225 223.557447 \nL 150.756225 222.905094 \nL 151.425825 222.905094 \nL 151.425825 221.709114 \nL 152.095425 221.709114 \nL 152.095425 222.796369 \nL 153.434625 222.687643 \nL 153.434625 223.883623 \nL 154.104225 223.883623 \nL 154.104225 222.252741 \nL 154.773825 222.252741 \nL 154.773825 223.013819 \nL 155.443425 223.013819 \nL 155.443425 222.361467 \nL 156.113025 222.361467 \nL 156.113025 221.81784 \nL 156.782625 221.81784 \nL 156.782625 222.796369 \nL 157.452225 222.796369 \nL 157.452225 223.23127 \nL 158.121825 223.23127 \nL 158.121825 223.992348 \nL 158.791425 223.992348 \nL 158.791425 222.361467 \nL 159.461025 222.361467 \nL 159.461025 222.144016 \nL 160.130625 222.144016 \nL 160.130625 223.122545 \nL 160.800225 223.122545 \nL 160.800225 223.339996 \nL 161.469825 223.339996 \nL 161.469825 222.905094 \nL 162.139425 222.905094 \nL 162.139425 223.774898 \nL 162.809025 223.774898 \nL 162.809025 221.81784 \nL 163.478625 221.81784 \nL 163.478625 223.23127 \nL 164.148225 223.23127 \nL 164.148225 222.470192 \nL 164.817825 222.470192 \nL 164.817825 223.23127 \nL 165.487425 223.23127 \nL 165.487425 223.013819 \nL 166.157025 223.013819 \nL 166.157025 223.448721 \nL 166.826625 223.448721 \nL 166.826625 222.578918 \nL 167.496225 222.578918 \nL 167.496225 222.252741 \nL 168.165825 222.252741 \nL 168.165825 221.926565 \nL 169.505025 222.035291 \nL 169.505025 222.905094 \nL 170.174625 222.905094 \nL 170.174625 221.165487 \nL 170.844225 221.165487 \nL 170.844225 223.992348 \nL 171.513825 223.992348 \nL 171.513825 223.23127 \nL 172.183425 223.23127 \nL 172.183425 222.252741 \nL 172.853025 222.252741 \nL 172.853025 223.122545 \nL 173.522625 223.122545 \nL 173.522625 223.339996 \nL 174.192225 223.339996 \nL 174.192225 222.470192 \nL 174.861825 222.470192 \nL 174.861825 223.666172 \nL 175.531425 223.666172 \nL 175.531425 221.926565 \nL 176.201025 221.926565 \nL 176.201025 223.23127 \nL 177.540225 223.23127 \nL 177.540225 222.796369 \nL 178.209825 222.796369 \nL 178.209825 222.035291 \nL 178.879425 222.035291 \nL 178.879425 221.274212 \nL 179.549025 221.274212 \nL 179.549025 220.730585 \nL 180.218625 220.730585 \nL 180.218625 223.883623 \nL 180.888225 223.883623 \nL 180.888225 223.122545 \nL 181.557825 223.122545 \nL 181.557825 222.578918 \nL 182.227425 222.578918 \nL 182.227425 221.926565 \nL 182.897025 221.926565 \nL 182.897025 222.687643 \nL 183.566625 222.687643 \nL 183.566625 221.709114 \nL 184.236225 221.709114 \nL 184.236225 222.905094 \nL 185.575425 222.905094 \nL 185.575425 223.122545 \nL 186.914625 223.23127 \nL 186.914625 222.796369 \nL 188.253825 222.687643 \nL 188.253825 223.122545 \nL 190.262625 223.23127 \nL 190.262625 221.709114 \nL 191.601825 221.709114 \nL 191.601825 222.361467 \nL 192.271425 222.361467 \nL 192.271425 222.687643 \nL 192.941025 222.687643 \nL 192.941025 222.905094 \nL 193.610625 222.905094 \nL 193.610625 223.122545 \nL 194.280225 223.122545 \nL 194.280225 221.926565 \nL 194.949825 221.926565 \nL 194.949825 223.339996 \nL 195.619425 223.339996 \nL 195.619425 222.252741 \nL 196.289025 222.252741 \nL 196.289025 222.035291 \nL 196.958625 222.035291 \nL 196.958625 223.122545 \nL 197.628225 223.122545 \nL 197.628225 223.774898 \nL 198.297825 223.774898 \nL 198.297825 222.905094 \nL 198.967425 222.905094 \nL 198.967425 223.339996 \nL 199.637025 223.339996 \nL 199.637025 221.81784 \nL 200.306625 221.81784 \nL 200.306625 224.101074 \nL 200.976225 224.101074 \nL 200.976225 222.144016 \nL 201.645825 222.144016 \nL 201.645825 222.687643 \nL 202.315425 222.687643 \nL 202.315425 221.926565 \nL 202.985025 221.926565 \nL 202.985025 223.013819 \nL 203.654625 223.013819 \nL 203.654625 222.687643 \nL 204.324225 222.687643 \nL 204.324225 223.339996 \nL 204.993825 223.339996 \nL 204.993825 223.557447 \nL 205.663425 223.557447 \nL 205.663425 224.101074 \nL 206.333025 224.101074 \nL 206.333025 223.774898 \nL 207.002625 223.774898 \nL 207.002625 223.992348 \nL 207.672225 223.992348 \nL 207.672225 221.382938 \nL 208.341825 221.382938 \nL 208.341825 223.448721 \nL 209.011425 223.448721 \nL 209.011425 221.926565 \nL 209.681025 221.926565 \nL 209.681025 222.796369 \nL 210.350625 222.796369 \nL 210.350625 223.23127 \nL 211.020225 223.23127 \nL 211.020225 224.644701 \nL 211.689825 224.644701 \nL 211.689825 222.144016 \nL 212.359425 222.144016 \nL 212.359425 222.578918 \nL 213.029025 222.578918 \nL 213.029025 223.448721 \nL 213.698625 223.448721 \nL 213.698625 221.382938 \nL 214.368225 221.382938 \nL 214.368225 222.796369 \nL 215.707425 222.687643 \nL 215.707425 224.753426 \nL 216.377025 224.753426 \nL 216.377025 223.666172 \nL 217.046625 223.666172 \nL 217.046625 223.122545 \nL 217.716225 223.122545 \nL 217.716225 222.687643 \nL 218.385825 222.687643 \nL 218.385825 223.448721 \nL 219.055425 223.448721 \nL 219.055425 221.382938 \nL 219.725025 221.382938 \nL 219.725025 222.687643 \nL 220.394625 222.687643 \nL 220.394625 223.774898 \nL 221.064225 223.774898 \nL 221.064225 223.013819 \nL 221.733825 223.013819 \nL 221.733825 223.23127 \nL 222.403425 223.23127 \nL 222.403425 222.035291 \nL 223.073025 222.035291 \nL 223.073025 222.578918 \nL 223.742625 222.578918 \nL 223.742625 221.382938 \nL 224.412225 221.382938 \nL 224.412225 221.056762 \nL 225.081825 221.056762 \nL 225.081825 222.796369 \nL 225.751425 222.796369 \nL 225.751425 222.470192 \nL 226.421025 222.470192 \nL 226.421025 223.23127 \nL 227.090625 223.23127 \nL 227.090625 222.361467 \nL 228.429825 222.361467 \nL 228.429825 223.122545 \nL 229.099425 223.122545 \nL 229.099425 223.339996 \nL 229.769025 223.339996 \nL 229.769025 222.035291 \nL 230.438625 222.035291 \nL 230.438625 222.578918 \nL 231.108225 222.578918 \nL 231.108225 223.013819 \nL 231.777825 223.013819 \nL 231.777825 222.578918 \nL 232.447425 222.578918 \nL 232.447425 223.666172 \nL 233.117025 223.666172 \nL 233.117025 222.470192 \nL 233.786625 222.470192 \nL 233.786625 222.035291 \nL 234.456225 222.035291 \nL 234.456225 223.122545 \nL 235.125825 223.122545 \nL 235.125825 221.709114 \nL 235.795425 221.709114 \nL 235.795425 222.578918 \nL 236.465025 222.578918 \nL 236.465025 223.883623 \nL 237.134625 223.883623 \nL 237.134625 222.905094 \nL 238.473825 223.013819 \nL 238.473825 220.948036 \nL 239.143425 220.948036 \nL 239.143425 222.687643 \nL 240.482625 222.578918 \nL 240.482625 221.491663 \nL 241.152225 221.491663 \nL 241.152225 223.339996 \nL 241.821825 223.339996 \nL 241.821825 222.578918 \nL 242.491425 222.578918 \nL 242.491425 223.013819 \nL 243.161025 223.013819 \nL 243.161025 223.774898 \nL 243.830625 223.774898 \nL 243.830625 224.101074 \nL 244.500225 224.101074 \nL 244.500225 221.491663 \nL 245.169825 221.491663 \nL 245.169825 223.013819 \nL 246.509025 222.905094 \nL 246.509025 222.796369 \nL 247.178625 222.796369 \nL 247.178625 221.709114 \nL 247.848225 221.709114 \nL 247.848225 222.035291 \nL 249.187425 222.035291 \nL 249.187425 221.709114 \nL 249.857025 221.709114 \nL 249.857025 223.23127 \nL 250.526625 223.23127 \nL 250.526625 222.144016 \nL 251.196225 222.144016 \nL 251.196225 223.013819 \nL 251.865825 223.013819 \nL 251.865825 222.796369 \nL 252.535425 222.796369 \nL 252.535425 223.339996 \nL 253.874625 223.339996 \nL 253.874625 222.687643 \nL 254.544225 222.687643 \nL 254.544225 221.709114 \nL 255.213825 221.709114 \nL 255.213825 223.557447 \nL 255.883425 223.557447 \nL 255.883425 222.687643 \nL 256.553025 222.687643 \nL 256.553025 223.122545 \nL 257.222625 223.122545 \nL 257.222625 223.883623 \nL 257.892225 223.883623 \nL 257.892225 223.013819 \nL 259.901025 223.013819 \nL 259.901025 223.666172 \nL 260.570625 223.666172 \nL 260.570625 222.687643 \nL 261.240225 222.687643 \nL 261.240225 223.013819 \nL 261.909825 223.013819 \nL 261.909825 223.557447 \nL 262.579425 223.557447 \nL 262.579425 222.578918 \nL 263.249025 222.578918 \nL 263.249025 223.23127 \nL 264.588225 223.23127 \nL 264.588225 222.796369 \nL 265.927425 222.687643 \nL 265.927425 221.491663 \nL 266.597025 221.491663 \nL 266.597025 222.905094 \nL 267.266625 222.905094 \nL 267.266625 223.23127 \nL 267.936225 223.23127 \nL 267.936225 220.839311 \nL 268.605825 220.839311 \nL 268.605825 221.600389 \nL 269.275425 221.600389 \nL 269.275425 222.905094 \nL 269.945025 222.905094 \nL 269.945025 223.883623 \nL 270.614625 223.883623 \nL 270.614625 221.600389 \nL 271.284225 221.600389 \nL 271.284225 221.81784 \nL 272.623425 221.926565 \nL 272.623425 222.035291 \nL 273.962625 221.926565 \nL 273.962625 222.905094 \nL 274.632225 222.905094 \nL 274.632225 223.122545 \nL 275.971425 223.23127 \nL 275.971425 221.600389 \nL 276.641025 221.600389 \nL 276.641025 222.144016 \nL 277.310625 222.144016 \nL 277.310625 223.557447 \nL 277.980225 223.557447 \nL 277.980225 221.81784 \nL 278.649825 221.81784 \nL 278.649825 222.687643 \nL 279.319425 222.687643 \nL 279.319425 221.709114 \nL 279.989025 221.709114 \nL 279.989025 221.165487 \nL 280.658625 221.165487 \nL 280.658625 222.578918 \nL 281.997825 222.687643 \nL 281.997825 221.926565 \nL 282.667425 221.926565 \nL 282.667425 222.252741 \nL 283.337025 222.252741 \nL 283.337025 221.382938 \nL 284.006625 221.382938 \nL 284.006625 222.578918 \nL 284.676225 222.578918 \nL 284.676225 222.252741 \nL 286.015425 222.144016 \nL 286.015425 221.709114 \nL 286.685025 221.709114 \nL 286.685025 222.144016 \nL 287.354625 222.144016 \nL 287.354625 223.23127 \nL 288.693825 223.122545 \nL 288.693825 222.578918 \nL 289.363425 222.578918 \nL 289.363425 222.252741 \nL 290.033025 222.252741 \nL 290.033025 221.709114 \nL 291.372225 221.81784 \nL 291.372225 223.013819 \nL 292.041825 223.013819 \nL 292.041825 224.101074 \nL 292.711425 224.101074 \nL 292.711425 223.774898 \nL 293.381025 223.774898 \nL 293.381025 222.144016 \nL 294.050625 222.144016 \nL 294.050625 223.23127 \nL 294.720225 223.23127 \nL 294.720225 222.035291 \nL 295.389825 222.035291 \nL 295.389825 223.992348 \nL 296.059425 223.992348 \nL 296.059425 221.600389 \nL 296.729025 221.600389 \nL 296.729025 222.470192 \nL 298.068225 222.578918 \nL 298.068225 222.144016 \nL 299.407425 222.035291 \nL 299.407425 223.666172 \nL 300.077025 223.666172 \nL 300.077025 221.382938 \nL 300.746625 221.382938 \nL 300.746625 222.687643 \nL 302.085825 222.796369 \nL 302.085825 222.144016 \nL 303.425025 222.252741 \nL 303.425025 221.274212 \nL 304.094625 221.274212 \nL 304.094625 222.252741 \nL 304.764225 222.252741 \nL 304.764225 223.557447 \nL 305.433825 223.557447 \nL 305.433825 222.252741 \nL 306.773025 222.144016 \nL 306.773025 221.81784 \nL 307.442625 221.81784 \nL 307.442625 223.339996 \nL 308.781825 223.448721 \nL 308.781825 222.035291 \nL 309.451425 222.035291 \nL 309.451425 222.687643 \nL 310.121025 222.687643 \nL 310.121025 223.448721 \nL 310.790625 223.448721 \nL 310.790625 228.450091 \nL 394.490625 228.450091 \nL 394.490625 228.450091 \n\" style=\"fill:none;stroke:#ff7f0e;stroke-linejoin:miter;\"/>\n   </g>\n   <g id=\"patch_5\">\n    <path clip-path=\"url(#p6b5291c939)\" d=\"M 59.690625 228.450091 \nL 59.690625 224.112671 \nL 61.029825 224.156161 \nL 61.029825 224.34027 \nL 63.038625 224.431599 \nL 63.038625 224.676594 \nL 65.717025 224.69399 \nL 65.717025 224.892595 \nL 67.056225 224.933186 \nL 67.056225 225.085401 \nL 69.065025 225.111496 \nL 69.065025 225.233268 \nL 71.073825 225.284007 \nL 71.073825 225.540599 \nL 74.421825 225.627579 \nL 74.421825 225.723257 \nL 77.100225 225.704412 \nL 77.100225 225.840681 \nL 77.769825 225.840681 \nL 77.769825 226.013192 \nL 80.448225 226.050883 \nL 80.448225 226.190052 \nL 83.796225 226.297328 \nL 83.796225 226.335019 \nL 84.465825 226.335019 \nL 84.465825 226.485785 \nL 88.483425 226.585812 \nL 88.483425 226.629303 \nL 90.492225 226.662645 \nL 90.492225 226.796015 \nL 93.170625 226.836606 \nL 93.170625 226.940982 \nL 97.188225 227.026513 \nL 97.188225 227.098997 \nL 100.536225 227.154084 \nL 100.536225 227.235266 \nL 104.553825 227.322246 \nL 104.553825 227.346891 \nL 108.571425 227.407777 \nL 108.571425 227.490408 \nL 112.589025 227.577388 \nL 112.589025 227.631026 \nL 120.624225 227.683215 \nL 120.624225 227.74845 \nL 125.981025 227.813685 \nL 125.981025 227.861524 \nL 133.346625 227.918061 \nL 133.346625 227.978948 \nL 150.756225 228.041284 \nL 150.756225 228.109418 \nL 157.452225 228.01374 \nL 157.452225 227.996344 \nL 167.496225 227.900665 \nL 167.496225 227.855726 \nL 175.531425 227.780343 \nL 175.531425 227.733953 \nL 181.557825 227.631026 \nL 181.557825 227.622328 \nL 184.236225 227.678866 \nL 184.236225 227.509254 \nL 190.262625 227.43822 \nL 190.262625 227.381683 \nL 192.941025 227.401978 \nL 192.941025 227.230917 \nL 199.637025 227.239615 \nL 199.637025 227.119292 \nL 204.324225 227.012016 \nL 204.324225 226.956929 \nL 211.689825 226.933734 \nL 211.689825 226.827908 \nL 212.359425 226.827908 \nL 212.359425 226.958378 \nL 213.698625 226.868499 \nL 213.698625 226.726431 \nL 216.377025 226.735129 \nL 216.377025 226.852552 \nL 218.385825 226.759773 \nL 218.385825 226.704686 \nL 226.421025 226.675692 \nL 226.421025 226.588712 \nL 227.760225 226.680041 \nL 227.760225 226.753974 \nL 240.482625 226.843854 \nL 240.482625 226.932284 \nL 249.187425 226.988821 \nL 249.187425 227.112044 \nL 255.213825 227.193225 \nL 255.213825 227.25991 \nL 259.231425 227.281655 \nL 259.231425 227.486059 \nL 260.570625 227.430972 \nL 260.570625 227.357038 \nL 263.918625 227.413575 \nL 263.918625 227.538247 \nL 266.597025 227.533898 \nL 266.597025 227.673067 \nL 271.953825 227.697711 \nL 271.953825 227.864424 \nL 273.293025 227.781792 \nL 273.293025 227.733953 \nL 275.301825 227.841229 \nL 275.301825 227.864424 \nL 283.337025 227.971699 \nL 283.337025 228.036935 \nL 289.363425 228.129714 \nL 289.363425 228.167405 \nL 298.737825 228.271782 \nL 298.737825 228.28048 \nL 314.808225 228.379057 \nL 314.808225 228.397903 \nL 394.490625 228.450091 \nL 394.490625 228.450091 \n\" style=\"fill:none;stroke:#2ca02c;stroke-linejoin:miter;\"/>\n   </g>\n   <g id=\"patch_6\">\n    <path d=\"M 59.690625 228.439219 \nL 59.690625 10.999219 \n\" style=\"fill:none;stroke:#000000;stroke-linecap:square;stroke-linejoin:miter;stroke-width:0.8;\"/>\n   </g>\n   <g id=\"patch_7\">\n    <path d=\"M 394.490625 228.439219 \nL 394.490625 10.999219 \n\" style=\"fill:none;stroke:#000000;stroke-linecap:square;stroke-linejoin:miter;stroke-width:0.8;\"/>\n   </g>\n   <g id=\"patch_8\">\n    <path d=\"M 59.690625 228.439219 \nL 394.490625 228.439219 \n\" style=\"fill:none;stroke:#000000;stroke-linecap:square;stroke-linejoin:miter;stroke-width:0.8;\"/>\n   </g>\n   <g id=\"patch_9\">\n    <path d=\"M 59.690625 10.999219 \nL 394.490625 10.999219 \n\" style=\"fill:none;stroke:#000000;stroke-linecap:square;stroke-linejoin:miter;stroke-width:0.8;\"/>\n   </g>\n   <g id=\"legend_1\">\n    <g id=\"patch_10\">\n     <path d=\"M 287.55 63.033594 \nL 387.490625 63.033594 \nQ 389.490625 63.033594 389.490625 61.033594 \nL 389.490625 17.999219 \nQ 389.490625 15.999219 387.490625 15.999219 \nL 287.55 15.999219 \nQ 285.55 15.999219 285.55 17.999219 \nL 285.55 61.033594 \nQ 285.55 63.033594 287.55 63.033594 \nz\n\" style=\"fill:#ffffff;opacity:0.8;stroke:#cccccc;stroke-linejoin:miter;\"/>\n    </g>\n    <g id=\"patch_11\">\n     <path d=\"M 289.55 27.597656 \nL 309.55 27.597656 \nL 309.55 20.597656 \nL 289.55 20.597656 \nz\n\" style=\"fill:none;stroke:#1f77b4;stroke-linejoin:miter;\"/>\n    </g>\n    <g id=\"text_17\">\n     <!-- Experiment A -->\n     <g transform=\"translate(317.55 27.597656)scale(0.1 -0.1)\">\n      <defs>\n       <path d=\"M 54.890625 54.6875 \nL 35.109375 28.078125 \nL 55.90625 0 \nL 45.3125 0 \nL 29.390625 21.484375 \nL 13.484375 0 \nL 2.875 0 \nL 24.125 28.609375 \nL 4.6875 54.6875 \nL 15.28125 54.6875 \nL 29.78125 35.203125 \nL 44.28125 54.6875 \nz\n\" id=\"DejaVuSans-120\"/>\n       <path d=\"M 18.109375 8.203125 \nL 18.109375 -20.796875 \nL 9.078125 -20.796875 \nL 9.078125 54.6875 \nL 18.109375 54.6875 \nL 18.109375 46.390625 \nQ 20.953125 51.265625 25.265625 53.625 \nQ 29.59375 56 35.59375 56 \nQ 45.5625 56 51.78125 48.09375 \nQ 58.015625 40.1875 58.015625 27.296875 \nQ 58.015625 14.40625 51.78125 6.484375 \nQ 45.5625 -1.421875 35.59375 -1.421875 \nQ 29.59375 -1.421875 25.265625 0.953125 \nQ 20.953125 3.328125 18.109375 8.203125 \nz\nM 48.6875 27.296875 \nQ 48.6875 37.203125 44.609375 42.84375 \nQ 40.53125 48.484375 33.40625 48.484375 \nQ 26.265625 48.484375 22.1875 42.84375 \nQ 18.109375 37.203125 18.109375 27.296875 \nQ 18.109375 17.390625 22.1875 11.75 \nQ 26.265625 6.109375 33.40625 6.109375 \nQ 40.53125 6.109375 44.609375 11.75 \nQ 48.6875 17.390625 48.6875 27.296875 \nz\n\" id=\"DejaVuSans-112\"/>\n       <path d=\"M 9.421875 54.6875 \nL 18.40625 54.6875 \nL 18.40625 0 \nL 9.421875 0 \nz\nM 9.421875 75.984375 \nL 18.40625 75.984375 \nL 18.40625 64.59375 \nL 9.421875 64.59375 \nz\n\" id=\"DejaVuSans-105\"/>\n       <path d=\"M 52 44.1875 \nQ 55.375 50.25 60.0625 53.125 \nQ 64.75 56 71.09375 56 \nQ 79.640625 56 84.28125 50.015625 \nQ 88.921875 44.046875 88.921875 33.015625 \nL 88.921875 0 \nL 79.890625 0 \nL 79.890625 32.71875 \nQ 79.890625 40.578125 77.09375 44.375 \nQ 74.3125 48.1875 68.609375 48.1875 \nQ 61.625 48.1875 57.5625 43.546875 \nQ 53.515625 38.921875 53.515625 30.90625 \nL 53.515625 0 \nL 44.484375 0 \nL 44.484375 32.71875 \nQ 44.484375 40.625 41.703125 44.40625 \nQ 38.921875 48.1875 33.109375 48.1875 \nQ 26.21875 48.1875 22.15625 43.53125 \nQ 18.109375 38.875 18.109375 30.90625 \nL 18.109375 0 \nL 9.078125 0 \nL 9.078125 54.6875 \nL 18.109375 54.6875 \nL 18.109375 46.1875 \nQ 21.1875 51.21875 25.484375 53.609375 \nQ 29.78125 56 35.6875 56 \nQ 41.65625 56 45.828125 52.96875 \nQ 50 49.953125 52 44.1875 \nz\n\" id=\"DejaVuSans-109\"/>\n       <path d=\"M 34.1875 63.1875 \nL 20.796875 26.90625 \nL 47.609375 26.90625 \nz\nM 28.609375 72.90625 \nL 39.796875 72.90625 \nL 67.578125 0 \nL 57.328125 0 \nL 50.6875 18.703125 \nL 17.828125 18.703125 \nL 11.1875 0 \nL 0.78125 0 \nz\n\" id=\"DejaVuSans-65\"/>\n      </defs>\n      <use xlink:href=\"#DejaVuSans-69\"/>\n      <use x=\"63.183594\" xlink:href=\"#DejaVuSans-120\"/>\n      <use x=\"122.363281\" xlink:href=\"#DejaVuSans-112\"/>\n      <use x=\"185.839844\" xlink:href=\"#DejaVuSans-101\"/>\n      <use x=\"247.363281\" xlink:href=\"#DejaVuSans-114\"/>\n      <use x=\"288.476562\" xlink:href=\"#DejaVuSans-105\"/>\n      <use x=\"316.259766\" xlink:href=\"#DejaVuSans-109\"/>\n      <use x=\"413.671875\" xlink:href=\"#DejaVuSans-101\"/>\n      <use x=\"475.195312\" xlink:href=\"#DejaVuSans-110\"/>\n      <use x=\"538.574219\" xlink:href=\"#DejaVuSans-116\"/>\n      <use x=\"577.783203\" xlink:href=\"#DejaVuSans-32\"/>\n      <use x=\"609.570312\" xlink:href=\"#DejaVuSans-65\"/>\n     </g>\n    </g>\n    <g id=\"patch_12\">\n     <path d=\"M 289.55 42.275781 \nL 309.55 42.275781 \nL 309.55 35.275781 \nL 289.55 35.275781 \nz\n\" style=\"fill:none;stroke:#ff7f0e;stroke-linejoin:miter;\"/>\n    </g>\n    <g id=\"text_18\">\n     <!-- Experiment B -->\n     <g transform=\"translate(317.55 42.275781)scale(0.1 -0.1)\">\n      <defs>\n       <path d=\"M 19.671875 34.8125 \nL 19.671875 8.109375 \nL 35.5 8.109375 \nQ 43.453125 8.109375 47.28125 11.40625 \nQ 51.125 14.703125 51.125 21.484375 \nQ 51.125 28.328125 47.28125 31.5625 \nQ 43.453125 34.8125 35.5 34.8125 \nz\nM 19.671875 64.796875 \nL 19.671875 42.828125 \nL 34.28125 42.828125 \nQ 41.5 42.828125 45.03125 45.53125 \nQ 48.578125 48.25 48.578125 53.8125 \nQ 48.578125 59.328125 45.03125 62.0625 \nQ 41.5 64.796875 34.28125 64.796875 \nz\nM 9.8125 72.90625 \nL 35.015625 72.90625 \nQ 46.296875 72.90625 52.390625 68.21875 \nQ 58.5 63.53125 58.5 54.890625 \nQ 58.5 48.1875 55.375 44.234375 \nQ 52.25 40.28125 46.1875 39.3125 \nQ 53.46875 37.75 57.5 32.78125 \nQ 61.53125 27.828125 61.53125 20.40625 \nQ 61.53125 10.640625 54.890625 5.3125 \nQ 48.25 0 35.984375 0 \nL 9.8125 0 \nz\n\" id=\"DejaVuSans-66\"/>\n      </defs>\n      <use xlink:href=\"#DejaVuSans-69\"/>\n      <use x=\"63.183594\" xlink:href=\"#DejaVuSans-120\"/>\n      <use x=\"122.363281\" xlink:href=\"#DejaVuSans-112\"/>\n      <use x=\"185.839844\" xlink:href=\"#DejaVuSans-101\"/>\n      <use x=\"247.363281\" xlink:href=\"#DejaVuSans-114\"/>\n      <use x=\"288.476562\" xlink:href=\"#DejaVuSans-105\"/>\n      <use x=\"316.259766\" xlink:href=\"#DejaVuSans-109\"/>\n      <use x=\"413.671875\" xlink:href=\"#DejaVuSans-101\"/>\n      <use x=\"475.195312\" xlink:href=\"#DejaVuSans-110\"/>\n      <use x=\"538.574219\" xlink:href=\"#DejaVuSans-116\"/>\n      <use x=\"577.783203\" xlink:href=\"#DejaVuSans-32\"/>\n      <use x=\"609.570312\" xlink:href=\"#DejaVuSans-66\"/>\n     </g>\n    </g>\n    <g id=\"patch_13\">\n     <path d=\"M 289.55 56.953906 \nL 309.55 56.953906 \nL 309.55 49.953906 \nL 289.55 49.953906 \nz\n\" style=\"fill:none;stroke:#2ca02c;stroke-linejoin:miter;\"/>\n    </g>\n    <g id=\"text_19\">\n     <!-- Experiment C -->\n     <g transform=\"translate(317.55 56.953906)scale(0.1 -0.1)\">\n      <use xlink:href=\"#DejaVuSans-69\"/>\n      <use x=\"63.183594\" xlink:href=\"#DejaVuSans-120\"/>\n      <use x=\"122.363281\" xlink:href=\"#DejaVuSans-112\"/>\n      <use x=\"185.839844\" xlink:href=\"#DejaVuSans-101\"/>\n      <use x=\"247.363281\" xlink:href=\"#DejaVuSans-114\"/>\n      <use x=\"288.476562\" xlink:href=\"#DejaVuSans-105\"/>\n      <use x=\"316.259766\" xlink:href=\"#DejaVuSans-109\"/>\n      <use x=\"413.671875\" xlink:href=\"#DejaVuSans-101\"/>\n      <use x=\"475.195312\" xlink:href=\"#DejaVuSans-110\"/>\n      <use x=\"538.574219\" xlink:href=\"#DejaVuSans-116\"/>\n      <use x=\"577.783203\" xlink:href=\"#DejaVuSans-32\"/>\n      <use x=\"609.570312\" xlink:href=\"#DejaVuSans-67\"/>\n     </g>\n    </g>\n   </g>\n  </g>\n </g>\n <defs>\n  <clipPath id=\"p6b5291c939\">\n   <rect height=\"217.44\" width=\"334.8\" x=\"59.690625\" y=\"10.999219\"/>\n  </clipPath>\n </defs>\n</svg>\n",
          "text/plain": "<Figure size 432x288 with 1 Axes>"
         },
         "metadata": {
          "needs_background": "light"
         },
         "output_type": "display_data"
        }
       ]
      }
     },
     "d97af70c6a6c4cabb8aca75404d20b37": {
      "model_module": "@jupyter-widgets/controls",
      "model_module_version": "1.5.0",
      "model_name": "CheckboxModel",
      "state": {
       "description": "Plot Experiment B",
       "disabled": false,
       "layout": "IPY_MODEL_378661a3f38a4e17ae4af708e6f6b048",
       "style": "IPY_MODEL_94320c7affd54468987aa500ecb1e55e",
       "value": true
      }
     },
     "d9b3e2b3643e461ba3df3b4391268b9c": {
      "model_module": "@jupyter-widgets/controls",
      "model_module_version": "1.5.0",
      "model_name": "FloatLogSliderModel",
      "state": {
       "description": "scale_C",
       "layout": "IPY_MODEL_a52d91fd846149ec9ca205c3b3a12190",
       "max": 10,
       "min": -10,
       "style": "IPY_MODEL_4a7288c3e5154918bac45da44e480a59",
       "value": 10
      }
     },
     "db24cd2c7bbb400a9f81249fa872df0c": {
      "model_module": "@jupyter-widgets/controls",
      "model_module_version": "1.5.0",
      "model_name": "DescriptionStyleModel",
      "state": {
       "description_width": ""
      }
     },
     "dbbbed27609b4c1d93df4e44920b9675": {
      "model_module": "@jupyter-widgets/base",
      "model_module_version": "1.2.0",
      "model_name": "LayoutModel",
      "state": {}
     },
     "dbf3398de83449a68e242167f528afff": {
      "model_module": "@jupyter-widgets/controls",
      "model_module_version": "1.5.0",
      "model_name": "CheckboxModel",
      "state": {
       "description": "Plot Experiment C",
       "disabled": false,
       "layout": "IPY_MODEL_d06f3db877a7454286c587de0324fb69",
       "style": "IPY_MODEL_f784d2a1b16847d3836c2d2d45342a1d",
       "value": true
      }
     },
     "dd704a89bbd440cab27e292d046be225": {
      "model_module": "@jupyter-widgets/controls",
      "model_module_version": "1.5.0",
      "model_name": "SliderStyleModel",
      "state": {
       "description_width": ""
      }
     },
     "de71e439c97f4615b264d713869acad8": {
      "model_module": "@jupyter-widgets/base",
      "model_module_version": "1.2.0",
      "model_name": "LayoutModel",
      "state": {}
     },
     "dedb50c533eb42c08e478b095b40b912": {
      "model_module": "@jupyter-widgets/controls",
      "model_module_version": "1.5.0",
      "model_name": "SliderStyleModel",
      "state": {
       "description_width": ""
      }
     },
     "df7229751359481baa6dbc2cefbb161e": {
      "model_module": "@jupyter-widgets/controls",
      "model_module_version": "1.5.0",
      "model_name": "FloatRangeSliderModel",
      "state": {
       "_model_name": "FloatRangeSliderModel",
       "_view_name": "FloatRangeSliderView",
       "description": "x_range",
       "layout": "IPY_MODEL_18bb46db057c445c8460007ea0eaeeb5",
       "max": 20,
       "step": 0.1,
       "style": "IPY_MODEL_5e43dca66235492fb53c9269ae11593b",
       "value": [
        0,
        20
       ]
      }
     },
     "e0a4a348a0a649769951443c3936cf81": {
      "model_module": "@jupyter-widgets/base",
      "model_module_version": "1.2.0",
      "model_name": "LayoutModel",
      "state": {}
     },
     "e12aa7d66d424a30a15495e7975b287c": {
      "model_module": "@jupyter-widgets/controls",
      "model_module_version": "1.5.0",
      "model_name": "CheckboxModel",
      "state": {
       "description": "Plot Experiment B",
       "disabled": false,
       "layout": "IPY_MODEL_e8d3f5bbd64747609fd4e56efe254475",
       "style": "IPY_MODEL_382a568f60ec45c785f45e4c6441106b",
       "value": true
      }
     },
     "e2514e6e32834e3f903c2592ffe4fe89": {
      "model_module": "@jupyter-widgets/controls",
      "model_module_version": "1.5.0",
      "model_name": "CheckboxModel",
      "state": {
       "description": "Plot Experiment B",
       "disabled": false,
       "layout": "IPY_MODEL_e94b330769e84c16bc3068a0a56c7c2a",
       "style": "IPY_MODEL_5d55e2911fb942c2808a26c7117338aa",
       "value": true
      }
     },
     "e2f0fd98c4e347f78fcdd27aec960466": {
      "model_module": "@jupyter-widgets/controls",
      "model_module_version": "1.5.0",
      "model_name": "CheckboxModel",
      "state": {
       "description": "Plot Experiment A",
       "disabled": false,
       "layout": "IPY_MODEL_a99e5e12757740e4a56c25af1f6f3c3a",
       "style": "IPY_MODEL_b27cc7a0f0b24519b6e365d707561c2f",
       "value": true
      }
     },
     "e37f459225ea4d428d3910db258edad5": {
      "model_module": "@jupyter-widgets/base",
      "model_module_version": "1.2.0",
      "model_name": "LayoutModel",
      "state": {}
     },
     "e40290f36a0341658d6da7b54be90920": {
      "model_module": "@jupyter-widgets/base",
      "model_module_version": "1.2.0",
      "model_name": "LayoutModel",
      "state": {}
     },
     "e5dc03fb07334637b984ddbce4796d9c": {
      "model_module": "@jupyter-widgets/base",
      "model_module_version": "1.2.0",
      "model_name": "LayoutModel",
      "state": {}
     },
     "e85afbb541da4fdf85c40e099e07dfa9": {
      "model_module": "@jupyter-widgets/controls",
      "model_module_version": "1.5.0",
      "model_name": "FloatSliderModel",
      "state": {
       "description": "shift_B",
       "layout": "IPY_MODEL_20577b7a4abf4341a90b433169c2c1f1",
       "max": 20,
       "min": -20,
       "step": 0.1,
       "style": "IPY_MODEL_7d8f502f9ce14a058a491bdbea76144c"
      }
     },
     "e8d3f5bbd64747609fd4e56efe254475": {
      "model_module": "@jupyter-widgets/base",
      "model_module_version": "1.2.0",
      "model_name": "LayoutModel",
      "state": {}
     },
     "e8f5464f9efb4bba83407fd60c3ee008": {
      "model_module": "@jupyter-widgets/base",
      "model_module_version": "1.2.0",
      "model_name": "LayoutModel",
      "state": {}
     },
     "e94b330769e84c16bc3068a0a56c7c2a": {
      "model_module": "@jupyter-widgets/base",
      "model_module_version": "1.2.0",
      "model_name": "LayoutModel",
      "state": {}
     },
     "ea4aa8457ed64ed0bae4c187314df3fd": {
      "model_module": "@jupyter-widgets/controls",
      "model_module_version": "1.5.0",
      "model_name": "DescriptionStyleModel",
      "state": {
       "description_width": ""
      }
     },
     "ea792bc5af6d4889a53854c4a8090b0c": {
      "model_module": "@jupyter-widgets/controls",
      "model_module_version": "1.5.0",
      "model_name": "SliderStyleModel",
      "state": {
       "description_width": ""
      }
     },
     "ea94a5cb8c924b7bbf2714cf955d623f": {
      "model_module": "@jupyter-widgets/base",
      "model_module_version": "1.2.0",
      "model_name": "LayoutModel",
      "state": {}
     },
     "edccd115f53e437788d9c163f138a127": {
      "model_module": "@jupyter-widgets/controls",
      "model_module_version": "1.5.0",
      "model_name": "SliderStyleModel",
      "state": {
       "description_width": ""
      }
     },
     "f17c11c55c614febabf31404bb0c2aae": {
      "model_module": "@jupyter-widgets/controls",
      "model_module_version": "1.5.0",
      "model_name": "VBoxModel",
      "state": {
       "_dom_classes": [
        "widget-interact"
       ],
       "children": [
        "IPY_MODEL_996758aabc4c48c880dd24f74f161ff1",
        "IPY_MODEL_7ef7b31fe44647b9a2521b1f6e30288f",
        "IPY_MODEL_1c7ee994209d4974907edd9b00ee407b",
        "IPY_MODEL_6ee953e64eab430988eeb03f442991ea",
        "IPY_MODEL_650ec155b4e440819693fc69f7eb5a74",
        "IPY_MODEL_7619e7eba1b540e8a950a2e2805a1b70",
        "IPY_MODEL_0ca7e100bb37489a91b1d9a2269d979f",
        "IPY_MODEL_3fbb6b69e16f479a8f475290ff540f36",
        "IPY_MODEL_a631d467c41c40359ce2077ee5f4b9f7",
        "IPY_MODEL_faa05a713df449a7aab94bd9f132dff8",
        "IPY_MODEL_9d23a5f07e1442f6af97ac5dbf9e0759",
        "IPY_MODEL_06257eab08514fe09c52d66999a50695",
        "IPY_MODEL_90f1e7174cb149ac88647cd0b19da417",
        "IPY_MODEL_d502b5c985ef408fb1ef4438c5c276ce"
       ],
       "layout": "IPY_MODEL_36d35d515fd6462bba85c4fa47a394f2"
      }
     },
     "f2856a867cc94765b288716801c79fb5": {
      "model_module": "@jupyter-widgets/controls",
      "model_module_version": "1.5.0",
      "model_name": "SliderStyleModel",
      "state": {
       "description_width": ""
      }
     },
     "f61b3e6e3a9c480ba1ec4ef4d5832fc5": {
      "model_module": "@jupyter-widgets/controls",
      "model_module_version": "1.5.0",
      "model_name": "CheckboxModel",
      "state": {
       "description": "Plot Experiment A",
       "disabled": false,
       "layout": "IPY_MODEL_114e8908618b4c4780c49d34d2b78324",
       "style": "IPY_MODEL_a24c67e289ef43769d256afb676fdfcc",
       "value": true
      }
     },
     "f63d1c897c4b449590a84b69501bc179": {
      "model_module": "@jupyter-widgets/base",
      "model_module_version": "1.2.0",
      "model_name": "LayoutModel",
      "state": {}
     },
     "f784d2a1b16847d3836c2d2d45342a1d": {
      "model_module": "@jupyter-widgets/controls",
      "model_module_version": "1.5.0",
      "model_name": "DescriptionStyleModel",
      "state": {
       "description_width": ""
      }
     },
     "f87e334ab3334d0387ab24d166769b64": {
      "model_module": "@jupyter-widgets/controls",
      "model_module_version": "1.5.0",
      "model_name": "IntSliderModel",
      "state": {
       "description": "bins",
       "layout": "IPY_MODEL_3da7835c0b3f4a4b888932dd5bfbb97e",
       "max": 2000,
       "min": 20,
       "style": "IPY_MODEL_f9f521ac2bda47ab8eefefdaccb9458b",
       "value": 500
      }
     },
     "f9079fd483404c74a0b80c1c277f71b1": {
      "model_module": "@jupyter-widgets/controls",
      "model_module_version": "1.5.0",
      "model_name": "FloatRangeSliderModel",
      "state": {
       "_model_name": "FloatRangeSliderModel",
       "_view_name": "FloatRangeSliderView",
       "description": "x_range",
       "layout": "IPY_MODEL_de71e439c97f4615b264d713869acad8",
       "max": 20,
       "step": 0.1,
       "style": "IPY_MODEL_17a0c5d147b34a358acbff73a3639ebb",
       "value": [
        0,
        20
       ]
      }
     },
     "f919a0c2917942c58f8e207cbaee4e43": {
      "model_module": "@jupyter-widgets/base",
      "model_module_version": "1.2.0",
      "model_name": "LayoutModel",
      "state": {}
     },
     "f934b963fe14429d87a4e4ddbd51e930": {
      "model_module": "@jupyter-widgets/controls",
      "model_module_version": "1.5.0",
      "model_name": "FloatLogSliderModel",
      "state": {
       "description": "scale_B",
       "layout": "IPY_MODEL_824f7c42eec44e4fb2fc141d26c3b235",
       "max": 10,
       "min": -10,
       "style": "IPY_MODEL_c3a83823457a4756b54e5cd3667f41b2",
       "value": 0.0025118864315095794
      }
     },
     "f96385ba3ae44a818ff3d12fe107e9de": {
      "model_module": "@jupyter-widgets/controls",
      "model_module_version": "1.5.0",
      "model_name": "SliderStyleModel",
      "state": {
       "description_width": ""
      }
     },
     "f9f521ac2bda47ab8eefefdaccb9458b": {
      "model_module": "@jupyter-widgets/controls",
      "model_module_version": "1.5.0",
      "model_name": "SliderStyleModel",
      "state": {
       "description_width": ""
      }
     },
     "fa74114bf7ed40adb381d75bb194cffb": {
      "model_module": "@jupyter-widgets/base",
      "model_module_version": "1.2.0",
      "model_name": "LayoutModel",
      "state": {}
     },
     "faa05a713df449a7aab94bd9f132dff8": {
      "model_module": "@jupyter-widgets/controls",
      "model_module_version": "1.5.0",
      "model_name": "FloatSliderModel",
      "state": {
       "description": "shift_C",
       "layout": "IPY_MODEL_5e4d52348168455483937dccf4fb9d44",
       "max": 20,
       "min": -20,
       "step": 0.1,
       "style": "IPY_MODEL_2ebb3dd099fc4ac68be2610e6d65b515",
       "value": 2.9
      }
     },
     "faec9ea1bd434021947cbefbdc6ff972": {
      "model_module": "@jupyter-widgets/controls",
      "model_module_version": "1.5.0",
      "model_name": "VBoxModel",
      "state": {
       "_dom_classes": [
        "widget-interact"
       ],
       "children": [
        "IPY_MODEL_599ec3b5b19249a09970eaa711467585",
        "IPY_MODEL_6582ce939dec4b90bde43913a4a61530",
        "IPY_MODEL_8dcb4ca8fdf942f7a82a00164c465255",
        "IPY_MODEL_f61b3e6e3a9c480ba1ec4ef4d5832fc5",
        "IPY_MODEL_365fd8d259374e6ba89429d3a915f901",
        "IPY_MODEL_60785100913541deb32eb52768073e0f",
        "IPY_MODEL_71bdcc4eb01546fda398e5596e0cafa4",
        "IPY_MODEL_0545c84f099248baba86e9b1bc6a8500",
        "IPY_MODEL_e85afbb541da4fdf85c40e099e07dfa9",
        "IPY_MODEL_6678c184d6d446778cc2796f906f674e",
        "IPY_MODEL_8deb40257a3b490685046698d1f3a12d",
        "IPY_MODEL_d5ccda821c0b41e5ad77394300b10ed3",
        "IPY_MODEL_afa0a5e076d1453b8674077e05ec64ab",
        "IPY_MODEL_1cb68f2511b24c2fa87e99ed7d4f0fc5"
       ],
       "layout": "IPY_MODEL_223f61eb22b249468ee8d9181ee7bcf2"
      }
     },
     "fc76aada00b54c0ab5adb7659d82ba19": {
      "model_module": "@jupyter-widgets/controls",
      "model_module_version": "1.5.0",
      "model_name": "DescriptionStyleModel",
      "state": {
       "description_width": ""
      }
     },
     "fcaf75fdfdfd4b93bd58c26caf6af80f": {
      "model_module": "@jupyter-widgets/controls",
      "model_module_version": "1.5.0",
      "model_name": "DropdownModel",
      "state": {
       "_options_labels": [
        "linear",
        "log"
       ],
       "description": "Scale: ",
       "index": 0,
       "layout": "IPY_MODEL_a1940e640b0f4aaa9c9ade6a12a496cf",
       "style": "IPY_MODEL_7da22db3097345e3a0877f8ba92801e0"
      }
     },
     "fe84c05434e24918a6033942521593d2": {
      "model_module": "@jupyter-widgets/base",
      "model_module_version": "1.2.0",
      "model_name": "LayoutModel",
      "state": {}
     },
     "ff0350eb3fed46ee970e42879eba7cff": {
      "model_module": "@jupyter-widgets/controls",
      "model_module_version": "1.5.0",
      "model_name": "SliderStyleModel",
      "state": {
       "description_width": ""
      }
     }
    },
    "version_major": 2,
    "version_minor": 0
   }
  }
 },
 "nbformat": 4,
 "nbformat_minor": 4
}
