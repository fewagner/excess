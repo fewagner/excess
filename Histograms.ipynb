{
 "cells": [
  {
   "cell_type": "markdown",
   "metadata": {},
   "source": [
    "****\n",
    "# Excess Workshop Data Visualization\n",
    "****"
   ]
  },
  {
   "cell_type": "markdown",
   "metadata": {},
   "source": [
    "Contact Information"
   ]
  },
  {
   "cell_type": "markdown",
   "metadata": {},
   "source": [
    "... Abstract ..."
   ]
  },
  {
   "cell_type": "markdown",
   "metadata": {},
   "source": [
    "## Introduction"
   ]
  },
  {
   "cell_type": "markdown",
   "metadata": {},
   "source": [
    "... introduction about the excess workshop ..."
   ]
  },
  {
   "cell_type": "markdown",
   "metadata": {},
   "source": [
    "In case you have not installed all libraries, the following cell will do the installation."
   ]
  },
  {
   "cell_type": "code",
   "execution_count": 102,
   "metadata": {
    "ExecuteTime": {
     "end_time": "2021-06-08T22:52:47.708998Z",
     "start_time": "2021-06-08T22:52:45.478054Z"
    }
   },
   "outputs": [
    {
     "name": "stdout",
     "output_type": "stream",
     "text": [
      "Requirement already satisfied: numpy in /Users/felix/.pyenv/versions/3.8.6/lib/python3.8/site-packages (1.19.4)\n",
      "Requirement already satisfied: matplotlib in /Users/felix/.pyenv/versions/3.8.6/lib/python3.8/site-packages (3.3.3)\n",
      "Requirement already satisfied: ipywidgets in /Users/felix/.pyenv/versions/3.8.6/lib/python3.8/site-packages (7.5.1)\n",
      "Requirement already satisfied: widgetsnbextension~=3.5.0 in /Users/felix/.pyenv/versions/3.8.6/lib/python3.8/site-packages (from ipywidgets) (3.5.1)\n",
      "Requirement already satisfied: ipython>=4.0.0 in /Users/felix/.pyenv/versions/3.8.6/lib/python3.8/site-packages (from ipywidgets) (7.19.0)\n",
      "Requirement already satisfied: nbformat>=4.2.0 in /Users/felix/.pyenv/versions/3.8.6/lib/python3.8/site-packages (from ipywidgets) (5.0.8)\n",
      "Requirement already satisfied: traitlets>=4.3.1 in /Users/felix/.pyenv/versions/3.8.6/lib/python3.8/site-packages (from ipywidgets) (5.0.5)\n",
      "Requirement already satisfied: ipykernel>=4.5.1 in /Users/felix/.pyenv/versions/3.8.6/lib/python3.8/site-packages (from ipywidgets) (5.4.2)\n",
      "Requirement already satisfied: appnope in /Users/felix/.pyenv/versions/3.8.6/lib/python3.8/site-packages (from ipykernel>=4.5.1->ipywidgets) (0.1.0)\n",
      "Requirement already satisfied: jupyter-client in /Users/felix/.pyenv/versions/3.8.6/lib/python3.8/site-packages (from ipykernel>=4.5.1->ipywidgets) (6.1.7)\n",
      "Requirement already satisfied: tornado>=4.2 in /Users/felix/.pyenv/versions/3.8.6/lib/python3.8/site-packages (from ipykernel>=4.5.1->ipywidgets) (6.1)\n",
      "Requirement already satisfied: decorator in /Users/felix/.pyenv/versions/3.8.6/lib/python3.8/site-packages (from ipython>=4.0.0->ipywidgets) (4.4.2)\n",
      "Requirement already satisfied: jedi>=0.10 in /Users/felix/.pyenv/versions/3.8.6/lib/python3.8/site-packages (from ipython>=4.0.0->ipywidgets) (0.17.2)\n",
      "Requirement already satisfied: backcall in /Users/felix/.pyenv/versions/3.8.6/lib/python3.8/site-packages (from ipython>=4.0.0->ipywidgets) (0.2.0)\n",
      "Requirement already satisfied: pickleshare in /Users/felix/.pyenv/versions/3.8.6/lib/python3.8/site-packages (from ipython>=4.0.0->ipywidgets) (0.7.5)\n",
      "Requirement already satisfied: pygments in /Users/felix/.pyenv/versions/3.8.6/lib/python3.8/site-packages (from ipython>=4.0.0->ipywidgets) (2.7.2)\n",
      "Requirement already satisfied: pexpect>4.3 in /Users/felix/.pyenv/versions/3.8.6/lib/python3.8/site-packages (from ipython>=4.0.0->ipywidgets) (4.8.0)\n",
      "Requirement already satisfied: setuptools>=18.5 in /Users/felix/.pyenv/versions/3.8.6/lib/python3.8/site-packages (from ipython>=4.0.0->ipywidgets) (50.3.2)\n",
      "Requirement already satisfied: prompt-toolkit!=3.0.0,!=3.0.1,<3.1.0,>=2.0.0 in /Users/felix/.pyenv/versions/3.8.6/lib/python3.8/site-packages (from ipython>=4.0.0->ipywidgets) (3.0.8)\n",
      "Requirement already satisfied: parso<0.8.0,>=0.7.0 in /Users/felix/.pyenv/versions/3.8.6/lib/python3.8/site-packages (from jedi>=0.10->ipython>=4.0.0->ipywidgets) (0.7.1)\n",
      "Requirement already satisfied: ipython-genutils in /Users/felix/.pyenv/versions/3.8.6/lib/python3.8/site-packages (from nbformat>=4.2.0->ipywidgets) (0.2.0)\n",
      "Requirement already satisfied: jupyter-core in /Users/felix/.pyenv/versions/3.8.6/lib/python3.8/site-packages (from nbformat>=4.2.0->ipywidgets) (4.7.0)\n",
      "Requirement already satisfied: jsonschema!=2.5.0,>=2.4 in /Users/felix/.pyenv/versions/3.8.6/lib/python3.8/site-packages (from nbformat>=4.2.0->ipywidgets) (3.2.0)\n",
      "Requirement already satisfied: attrs>=17.4.0 in /Users/felix/.pyenv/versions/3.8.6/lib/python3.8/site-packages (from jsonschema!=2.5.0,>=2.4->nbformat>=4.2.0->ipywidgets) (20.3.0)\n",
      "Requirement already satisfied: pyrsistent>=0.14.0 in /Users/felix/.pyenv/versions/3.8.6/lib/python3.8/site-packages (from jsonschema!=2.5.0,>=2.4->nbformat>=4.2.0->ipywidgets) (0.17.3)\n",
      "Requirement already satisfied: six>=1.11.0 in /Users/felix/.pyenv/versions/3.8.6/lib/python3.8/site-packages (from jsonschema!=2.5.0,>=2.4->nbformat>=4.2.0->ipywidgets) (1.15.0)\n",
      "Requirement already satisfied: ptyprocess>=0.5 in /Users/felix/.pyenv/versions/3.8.6/lib/python3.8/site-packages (from pexpect>4.3->ipython>=4.0.0->ipywidgets) (0.6.0)\n",
      "Requirement already satisfied: wcwidth in /Users/felix/.pyenv/versions/3.8.6/lib/python3.8/site-packages (from prompt-toolkit!=3.0.0,!=3.0.1,<3.1.0,>=2.0.0->ipython>=4.0.0->ipywidgets) (0.2.5)\n",
      "Requirement already satisfied: notebook>=4.4.1 in /Users/felix/.pyenv/versions/3.8.6/lib/python3.8/site-packages (from widgetsnbextension~=3.5.0->ipywidgets) (6.1.5)\n",
      "Requirement already satisfied: nbconvert in /Users/felix/.pyenv/versions/3.8.6/lib/python3.8/site-packages (from notebook>=4.4.1->widgetsnbextension~=3.5.0->ipywidgets) (6.0.7)\n",
      "Requirement already satisfied: prometheus-client in /Users/felix/.pyenv/versions/3.8.6/lib/python3.8/site-packages (from notebook>=4.4.1->widgetsnbextension~=3.5.0->ipywidgets) (0.9.0)\n",
      "Requirement already satisfied: Send2Trash in /Users/felix/.pyenv/versions/3.8.6/lib/python3.8/site-packages (from notebook>=4.4.1->widgetsnbextension~=3.5.0->ipywidgets) (1.5.0)\n",
      "Requirement already satisfied: jinja2 in /Users/felix/.pyenv/versions/3.8.6/lib/python3.8/site-packages (from notebook>=4.4.1->widgetsnbextension~=3.5.0->ipywidgets) (2.11.2)\n",
      "Requirement already satisfied: pyzmq>=17 in /Users/felix/.pyenv/versions/3.8.6/lib/python3.8/site-packages (from notebook>=4.4.1->widgetsnbextension~=3.5.0->ipywidgets) (20.0.0)\n",
      "Requirement already satisfied: terminado>=0.8.3 in /Users/felix/.pyenv/versions/3.8.6/lib/python3.8/site-packages (from notebook>=4.4.1->widgetsnbextension~=3.5.0->ipywidgets) (0.9.1)\n",
      "Requirement already satisfied: argon2-cffi in /Users/felix/.pyenv/versions/3.8.6/lib/python3.8/site-packages (from notebook>=4.4.1->widgetsnbextension~=3.5.0->ipywidgets) (20.1.0)\n",
      "Requirement already satisfied: python-dateutil>=2.1 in /Users/felix/.pyenv/versions/3.8.6/lib/python3.8/site-packages (from jupyter-client->ipykernel>=4.5.1->ipywidgets) (2.8.1)\n",
      "Requirement already satisfied: pyparsing!=2.0.4,!=2.1.2,!=2.1.6,>=2.0.3 in /Users/felix/.pyenv/versions/3.8.6/lib/python3.8/site-packages (from matplotlib) (2.4.7)\n",
      "Requirement already satisfied: pillow>=6.2.0 in /Users/felix/.pyenv/versions/3.8.6/lib/python3.8/site-packages (from matplotlib) (7.2.0)\n",
      "Requirement already satisfied: kiwisolver>=1.0.1 in /Users/felix/.pyenv/versions/3.8.6/lib/python3.8/site-packages (from matplotlib) (1.3.1)\n",
      "Requirement already satisfied: cycler>=0.10 in /Users/felix/.pyenv/versions/3.8.6/lib/python3.8/site-packages (from matplotlib) (0.10.0)\n",
      "Requirement already satisfied: cffi>=1.0.0 in /Users/felix/.pyenv/versions/3.8.6/lib/python3.8/site-packages (from argon2-cffi->notebook>=4.4.1->widgetsnbextension~=3.5.0->ipywidgets) (1.14.4)\n",
      "Requirement already satisfied: pycparser in /Users/felix/.pyenv/versions/3.8.6/lib/python3.8/site-packages (from cffi>=1.0.0->argon2-cffi->notebook>=4.4.1->widgetsnbextension~=3.5.0->ipywidgets) (2.20)\n",
      "Requirement already satisfied: MarkupSafe>=0.23 in /Users/felix/.pyenv/versions/3.8.6/lib/python3.8/site-packages (from jinja2->notebook>=4.4.1->widgetsnbextension~=3.5.0->ipywidgets) (1.1.1)\n",
      "Requirement already satisfied: bleach in /Users/felix/.pyenv/versions/3.8.6/lib/python3.8/site-packages (from nbconvert->notebook>=4.4.1->widgetsnbextension~=3.5.0->ipywidgets) (3.2.1)\n",
      "Requirement already satisfied: testpath in /Users/felix/.pyenv/versions/3.8.6/lib/python3.8/site-packages (from nbconvert->notebook>=4.4.1->widgetsnbextension~=3.5.0->ipywidgets) (0.4.4)\n",
      "Requirement already satisfied: entrypoints>=0.2.2 in /Users/felix/.pyenv/versions/3.8.6/lib/python3.8/site-packages (from nbconvert->notebook>=4.4.1->widgetsnbextension~=3.5.0->ipywidgets) (0.3)\n",
      "Requirement already satisfied: mistune<2,>=0.8.1 in /Users/felix/.pyenv/versions/3.8.6/lib/python3.8/site-packages (from nbconvert->notebook>=4.4.1->widgetsnbextension~=3.5.0->ipywidgets) (0.8.4)\n",
      "Requirement already satisfied: pandocfilters>=1.4.1 in /Users/felix/.pyenv/versions/3.8.6/lib/python3.8/site-packages (from nbconvert->notebook>=4.4.1->widgetsnbextension~=3.5.0->ipywidgets) (1.4.3)\n",
      "Requirement already satisfied: nbclient<0.6.0,>=0.5.0 in /Users/felix/.pyenv/versions/3.8.6/lib/python3.8/site-packages (from nbconvert->notebook>=4.4.1->widgetsnbextension~=3.5.0->ipywidgets) (0.5.1)\n",
      "Requirement already satisfied: jupyterlab-pygments in /Users/felix/.pyenv/versions/3.8.6/lib/python3.8/site-packages (from nbconvert->notebook>=4.4.1->widgetsnbextension~=3.5.0->ipywidgets) (0.1.2)\n",
      "Requirement already satisfied: defusedxml in /Users/felix/.pyenv/versions/3.8.6/lib/python3.8/site-packages (from nbconvert->notebook>=4.4.1->widgetsnbextension~=3.5.0->ipywidgets) (0.6.0)\n"
     ]
    },
    {
     "name": "stdout",
     "output_type": "stream",
     "text": [
      "Requirement already satisfied: nest-asyncio in /Users/felix/.pyenv/versions/3.8.6/lib/python3.8/site-packages (from nbclient<0.6.0,>=0.5.0->nbconvert->notebook>=4.4.1->widgetsnbextension~=3.5.0->ipywidgets) (1.4.3)\n",
      "Requirement already satisfied: async-generator in /Users/felix/.pyenv/versions/3.8.6/lib/python3.8/site-packages (from nbclient<0.6.0,>=0.5.0->nbconvert->notebook>=4.4.1->widgetsnbextension~=3.5.0->ipywidgets) (1.10)\n",
      "Requirement already satisfied: webencodings in /Users/felix/.pyenv/versions/3.8.6/lib/python3.8/site-packages (from bleach->nbconvert->notebook>=4.4.1->widgetsnbextension~=3.5.0->ipywidgets) (0.5.1)\n",
      "Requirement already satisfied: packaging in /Users/felix/.pyenv/versions/3.8.6/lib/python3.8/site-packages (from bleach->nbconvert->notebook>=4.4.1->widgetsnbextension~=3.5.0->ipywidgets) (20.4)\n",
      "\u001b[33mWARNING: You are using pip version 21.0.1; however, version 21.1.2 is available.\n",
      "You should consider upgrading via the '/Users/felix/.pyenv/versions/3.8.6/bin/python3.8 -m pip install --upgrade pip' command.\u001b[0m\n"
     ]
    }
   ],
   "source": [
    "!pip install numpy matplotlib ipywidgets"
   ]
  },
  {
   "cell_type": "markdown",
   "metadata": {},
   "source": [
    "Import all libraries."
   ]
  },
  {
   "cell_type": "code",
   "execution_count": 176,
   "metadata": {
    "ExecuteTime": {
     "end_time": "2021-06-08T23:31:33.217446Z",
     "start_time": "2021-06-08T23:31:33.204051Z"
    }
   },
   "outputs": [],
   "source": [
    "import numpy as np\n",
    "import matplotlib.pyplot as plt\n",
    "import ipywidgets as widgets\n",
    "from ipywidgets import interact\n",
    "%config InlineBackend.figure_formats = ['svg']"
   ]
  },
  {
   "cell_type": "markdown",
   "metadata": {},
   "source": [
    "## Import Data"
   ]
  },
  {
   "cell_type": "code",
   "execution_count": 65,
   "metadata": {
    "ExecuteTime": {
     "end_time": "2021-06-08T22:23:09.939728Z",
     "start_time": "2021-06-08T22:23:09.914819Z"
    }
   },
   "outputs": [],
   "source": [
    "# generate test data\n",
    "\n",
    "exp_A = np.concatenate((np.random.exponential(scale=1, size=100000), np.random.normal(loc=5,scale=0.2, size=100000)))\n",
    "exp_B = np.concatenate((np.random.exponential(scale=0.5, size=50000), np.random.uniform(low=0,high=15, size=20000)))\n",
    "exp_C = np.concatenate((np.random.exponential(scale=2, size=150000), np.random.normal(loc=10,scale=2, size=150000)))"
   ]
  },
  {
   "cell_type": "markdown",
   "metadata": {},
   "source": [
    "## Plot"
   ]
  },
  {
   "cell_type": "code",
   "execution_count": 175,
   "metadata": {
    "ExecuteTime": {
     "end_time": "2021-06-08T23:24:31.139820Z",
     "start_time": "2021-06-08T23:24:31.135831Z"
    }
   },
   "outputs": [],
   "source": [
    "# exposure in kg days\n",
    "\n",
    "exposure_A = 1\n",
    "exposure_B = 0.2\n",
    "exposure_C = 15"
   ]
  },
  {
   "cell_type": "code",
   "execution_count": 189,
   "metadata": {
    "ExecuteTime": {
     "end_time": "2021-06-08T23:48:59.122875Z",
     "start_time": "2021-06-08T23:48:58.861575Z"
    }
   },
   "outputs": [
    {
     "data": {
      "application/vnd.jupyter.widget-view+json": {
       "model_id": "1029451969714fc1a4564854485d9da3",
       "version_major": 2,
       "version_minor": 0
      },
      "text/plain": [
       "interactive(children=(IntSlider(value=500, description='bins', max=2000, min=20), FloatRangeSlider(value=(0.0,…"
      ]
     },
     "metadata": {},
     "output_type": "display_data"
    }
   ],
   "source": [
    "# the interactive plotting function\n",
    "\n",
    "@interact(bins = widgets.IntSlider(value=500,min=20,max=2000),\n",
    "          x_range = widgets.FloatRangeSlider(value=[0,20],min=0,max=20),\n",
    "          y_max = widgets.FloatLogSlider(value=10000,min=-1,max=5),\n",
    "          check_A = widgets.Checkbox(value=True, description='Plot Experiment A'),\n",
    "          check_B = widgets.Checkbox(value=True, description='Plot Experiment B'),\n",
    "          check_C = widgets.Checkbox(value=True, description='Plot Experiment C'),\n",
    "          scale_drop = widgets.Dropdown(options=['linear', 'log'], value='linear', description='Scale: ',),\n",
    "         )\n",
    "def plot_all(bins, \n",
    "             x_range, \n",
    "             y_max, \n",
    "             check_A, \n",
    "             check_B, \n",
    "             check_C, \n",
    "             scale_drop,\n",
    "            ):\n",
    "\n",
    "    # mylink = widgets.jslink((y_ub, 'value'), (y_ubl, 'value'))\n",
    "\n",
    "    # make histograms\n",
    "\n",
    "    hist_A, bins_A = np.histogram(exp_A, bins, range=x_range)\n",
    "    hist_B, bins_B = np.histogram(exp_B, bins, range=x_range)\n",
    "    hist_C, bins_C = np.histogram(exp_C, bins, range=x_range)\n",
    "\n",
    "    # plot - comment the lines of experiments to not show them\n",
    "\n",
    "    if check_A:\n",
    "        plt.hist(bins_A[:-1], bins_A, weights=hist_A/exposure_A, histtype='step', label='Experiment A', color='C0')\n",
    "    if check_B:\n",
    "        plt.hist(bins_B[:-1], bins_B, weights=hist_B/exposure_B, histtype='step', label='Experiment B', color='C1')\n",
    "    if check_C:\n",
    "        plt.hist(bins_C[:-1], bins_C, weights=hist_C/exposure_C, histtype='step', label='Experiment C', color='C2')\n",
    "    plt.xlabel('Energy (keV)')\n",
    "    plt.ylabel(f'Counts / ({1000*(x_range[1] - x_range[0])/bins:.1f} eV kg days)')\n",
    "    plt.legend()\n",
    "    plt.xlim(x_range)\n",
    "    plt.ylim((0.5, y_max))\n",
    "    plt.yscale(scale_drop)\n",
    "    plt.show()"
   ]
  }
 ],
 "metadata": {
  "kernelspec": {
   "display_name": "Python 3",
   "language": "python",
   "name": "python3"
  },
  "language_info": {
   "codemirror_mode": {
    "name": "ipython",
    "version": 3
   },
   "file_extension": ".py",
   "mimetype": "text/x-python",
   "name": "python",
   "nbconvert_exporter": "python",
   "pygments_lexer": "ipython3",
   "version": "3.8.6"
  },
  "varInspector": {
   "cols": {
    "lenName": 16,
    "lenType": 16,
    "lenVar": 40
   },
   "kernels_config": {
    "python": {
     "delete_cmd_postfix": "",
     "delete_cmd_prefix": "del ",
     "library": "var_list.py",
     "varRefreshCmd": "print(var_dic_list())"
    },
    "r": {
     "delete_cmd_postfix": ") ",
     "delete_cmd_prefix": "rm(",
     "library": "var_list.r",
     "varRefreshCmd": "cat(var_dic_list()) "
    }
   },
   "types_to_exclude": [
    "module",
    "function",
    "builtin_function_or_method",
    "instance",
    "_Feature"
   ],
   "window_display": false
  }
 },
 "nbformat": 4,
 "nbformat_minor": 4
}
