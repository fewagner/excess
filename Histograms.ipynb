{
 "cells": [
  {
   "cell_type": "markdown",
   "metadata": {},
   "source": [
    "****\n",
    "# Excess Workshop Data Visualization\n",
    "****"
   ]
  },
  {
   "cell_type": "markdown",
   "metadata": {},
   "source": [
    "Contact Information"
   ]
  },
  {
   "cell_type": "markdown",
   "metadata": {},
   "source": [
    "... Abstract ..."
   ]
  },
  {
   "cell_type": "markdown",
   "metadata": {},
   "source": [
    "## Introduction"
   ]
  },
  {
   "cell_type": "markdown",
   "metadata": {},
   "source": [
    "... introduction about the excess workshop ..."
   ]
  },
  {
   "cell_type": "markdown",
   "metadata": {},
   "source": [
    "In case you have not installed all libraries, the following cell will do the installation."
   ]
  },
  {
   "cell_type": "code",
   "execution_count": 1,
   "metadata": {
    "ExecuteTime": {
     "end_time": "2021-06-09T07:07:12.284223Z",
     "start_time": "2021-06-09T07:07:10.133556Z"
    }
   },
   "outputs": [
    {
     "name": "stdout",
     "output_type": "stream",
     "text": [
      "Requirement already satisfied: numpy in /Users/felix/.pyenv/versions/3.8.6/lib/python3.8/site-packages (1.19.4)\n",
      "Requirement already satisfied: matplotlib in /Users/felix/.pyenv/versions/3.8.6/lib/python3.8/site-packages (3.3.3)\n",
      "Requirement already satisfied: ipywidgets in /Users/felix/.pyenv/versions/3.8.6/lib/python3.8/site-packages (7.5.1)\n",
      "Requirement already satisfied: widgetsnbextension~=3.5.0 in /Users/felix/.pyenv/versions/3.8.6/lib/python3.8/site-packages (from ipywidgets) (3.5.1)\n",
      "Requirement already satisfied: traitlets>=4.3.1 in /Users/felix/.pyenv/versions/3.8.6/lib/python3.8/site-packages (from ipywidgets) (5.0.5)\n",
      "Requirement already satisfied: ipykernel>=4.5.1 in /Users/felix/.pyenv/versions/3.8.6/lib/python3.8/site-packages (from ipywidgets) (5.4.2)\n",
      "Requirement already satisfied: nbformat>=4.2.0 in /Users/felix/.pyenv/versions/3.8.6/lib/python3.8/site-packages (from ipywidgets) (5.0.8)\n",
      "Requirement already satisfied: ipython>=4.0.0 in /Users/felix/.pyenv/versions/3.8.6/lib/python3.8/site-packages (from ipywidgets) (7.19.0)\n",
      "Requirement already satisfied: jupyter-client in /Users/felix/.pyenv/versions/3.8.6/lib/python3.8/site-packages (from ipykernel>=4.5.1->ipywidgets) (6.1.7)\n",
      "Requirement already satisfied: appnope in /Users/felix/.pyenv/versions/3.8.6/lib/python3.8/site-packages (from ipykernel>=4.5.1->ipywidgets) (0.1.0)\n",
      "Requirement already satisfied: tornado>=4.2 in /Users/felix/.pyenv/versions/3.8.6/lib/python3.8/site-packages (from ipykernel>=4.5.1->ipywidgets) (6.1)\n",
      "Requirement already satisfied: pexpect>4.3 in /Users/felix/.pyenv/versions/3.8.6/lib/python3.8/site-packages (from ipython>=4.0.0->ipywidgets) (4.8.0)\n",
      "Requirement already satisfied: prompt-toolkit!=3.0.0,!=3.0.1,<3.1.0,>=2.0.0 in /Users/felix/.pyenv/versions/3.8.6/lib/python3.8/site-packages (from ipython>=4.0.0->ipywidgets) (3.0.8)\n",
      "Requirement already satisfied: pygments in /Users/felix/.pyenv/versions/3.8.6/lib/python3.8/site-packages (from ipython>=4.0.0->ipywidgets) (2.7.2)\n",
      "Requirement already satisfied: setuptools>=18.5 in /Users/felix/.pyenv/versions/3.8.6/lib/python3.8/site-packages (from ipython>=4.0.0->ipywidgets) (50.3.2)\n",
      "Requirement already satisfied: pickleshare in /Users/felix/.pyenv/versions/3.8.6/lib/python3.8/site-packages (from ipython>=4.0.0->ipywidgets) (0.7.5)\n",
      "Requirement already satisfied: jedi>=0.10 in /Users/felix/.pyenv/versions/3.8.6/lib/python3.8/site-packages (from ipython>=4.0.0->ipywidgets) (0.17.2)\n",
      "Requirement already satisfied: backcall in /Users/felix/.pyenv/versions/3.8.6/lib/python3.8/site-packages (from ipython>=4.0.0->ipywidgets) (0.2.0)\n",
      "Requirement already satisfied: decorator in /Users/felix/.pyenv/versions/3.8.6/lib/python3.8/site-packages (from ipython>=4.0.0->ipywidgets) (4.4.2)\n",
      "Requirement already satisfied: parso<0.8.0,>=0.7.0 in /Users/felix/.pyenv/versions/3.8.6/lib/python3.8/site-packages (from jedi>=0.10->ipython>=4.0.0->ipywidgets) (0.7.1)\n",
      "Requirement already satisfied: jupyter-core in /Users/felix/.pyenv/versions/3.8.6/lib/python3.8/site-packages (from nbformat>=4.2.0->ipywidgets) (4.7.0)\n",
      "Requirement already satisfied: jsonschema!=2.5.0,>=2.4 in /Users/felix/.pyenv/versions/3.8.6/lib/python3.8/site-packages (from nbformat>=4.2.0->ipywidgets) (3.2.0)\n",
      "Requirement already satisfied: ipython-genutils in /Users/felix/.pyenv/versions/3.8.6/lib/python3.8/site-packages (from nbformat>=4.2.0->ipywidgets) (0.2.0)\n",
      "Requirement already satisfied: pyrsistent>=0.14.0 in /Users/felix/.pyenv/versions/3.8.6/lib/python3.8/site-packages (from jsonschema!=2.5.0,>=2.4->nbformat>=4.2.0->ipywidgets) (0.17.3)\n",
      "Requirement already satisfied: six>=1.11.0 in /Users/felix/.pyenv/versions/3.8.6/lib/python3.8/site-packages (from jsonschema!=2.5.0,>=2.4->nbformat>=4.2.0->ipywidgets) (1.15.0)\n",
      "Requirement already satisfied: attrs>=17.4.0 in /Users/felix/.pyenv/versions/3.8.6/lib/python3.8/site-packages (from jsonschema!=2.5.0,>=2.4->nbformat>=4.2.0->ipywidgets) (20.3.0)\n",
      "Requirement already satisfied: ptyprocess>=0.5 in /Users/felix/.pyenv/versions/3.8.6/lib/python3.8/site-packages (from pexpect>4.3->ipython>=4.0.0->ipywidgets) (0.6.0)\n",
      "Requirement already satisfied: wcwidth in /Users/felix/.pyenv/versions/3.8.6/lib/python3.8/site-packages (from prompt-toolkit!=3.0.0,!=3.0.1,<3.1.0,>=2.0.0->ipython>=4.0.0->ipywidgets) (0.2.5)\n",
      "Requirement already satisfied: notebook>=4.4.1 in /Users/felix/.pyenv/versions/3.8.6/lib/python3.8/site-packages (from widgetsnbextension~=3.5.0->ipywidgets) (6.1.5)\n",
      "Requirement already satisfied: argon2-cffi in /Users/felix/.pyenv/versions/3.8.6/lib/python3.8/site-packages (from notebook>=4.4.1->widgetsnbextension~=3.5.0->ipywidgets) (20.1.0)\n",
      "Requirement already satisfied: Send2Trash in /Users/felix/.pyenv/versions/3.8.6/lib/python3.8/site-packages (from notebook>=4.4.1->widgetsnbextension~=3.5.0->ipywidgets) (1.5.0)\n",
      "Requirement already satisfied: jinja2 in /Users/felix/.pyenv/versions/3.8.6/lib/python3.8/site-packages (from notebook>=4.4.1->widgetsnbextension~=3.5.0->ipywidgets) (2.11.2)\n",
      "Requirement already satisfied: prometheus-client in /Users/felix/.pyenv/versions/3.8.6/lib/python3.8/site-packages (from notebook>=4.4.1->widgetsnbextension~=3.5.0->ipywidgets) (0.9.0)\n",
      "Requirement already satisfied: nbconvert in /Users/felix/.pyenv/versions/3.8.6/lib/python3.8/site-packages (from notebook>=4.4.1->widgetsnbextension~=3.5.0->ipywidgets) (6.0.7)\n",
      "Requirement already satisfied: terminado>=0.8.3 in /Users/felix/.pyenv/versions/3.8.6/lib/python3.8/site-packages (from notebook>=4.4.1->widgetsnbextension~=3.5.0->ipywidgets) (0.9.1)\n",
      "Requirement already satisfied: pyzmq>=17 in /Users/felix/.pyenv/versions/3.8.6/lib/python3.8/site-packages (from notebook>=4.4.1->widgetsnbextension~=3.5.0->ipywidgets) (20.0.0)\n",
      "Requirement already satisfied: python-dateutil>=2.1 in /Users/felix/.pyenv/versions/3.8.6/lib/python3.8/site-packages (from jupyter-client->ipykernel>=4.5.1->ipywidgets) (2.8.1)\n",
      "Requirement already satisfied: cycler>=0.10 in /Users/felix/.pyenv/versions/3.8.6/lib/python3.8/site-packages (from matplotlib) (0.10.0)\n",
      "Requirement already satisfied: kiwisolver>=1.0.1 in /Users/felix/.pyenv/versions/3.8.6/lib/python3.8/site-packages (from matplotlib) (1.3.1)\n",
      "Requirement already satisfied: pyparsing!=2.0.4,!=2.1.2,!=2.1.6,>=2.0.3 in /Users/felix/.pyenv/versions/3.8.6/lib/python3.8/site-packages (from matplotlib) (2.4.7)\n",
      "Requirement already satisfied: pillow>=6.2.0 in /Users/felix/.pyenv/versions/3.8.6/lib/python3.8/site-packages (from matplotlib) (7.2.0)\n",
      "Requirement already satisfied: cffi>=1.0.0 in /Users/felix/.pyenv/versions/3.8.6/lib/python3.8/site-packages (from argon2-cffi->notebook>=4.4.1->widgetsnbextension~=3.5.0->ipywidgets) (1.14.4)\n",
      "Requirement already satisfied: pycparser in /Users/felix/.pyenv/versions/3.8.6/lib/python3.8/site-packages (from cffi>=1.0.0->argon2-cffi->notebook>=4.4.1->widgetsnbextension~=3.5.0->ipywidgets) (2.20)\n",
      "Requirement already satisfied: MarkupSafe>=0.23 in /Users/felix/.pyenv/versions/3.8.6/lib/python3.8/site-packages (from jinja2->notebook>=4.4.1->widgetsnbextension~=3.5.0->ipywidgets) (1.1.1)\n",
      "Requirement already satisfied: testpath in /Users/felix/.pyenv/versions/3.8.6/lib/python3.8/site-packages (from nbconvert->notebook>=4.4.1->widgetsnbextension~=3.5.0->ipywidgets) (0.4.4)\n",
      "Requirement already satisfied: mistune<2,>=0.8.1 in /Users/felix/.pyenv/versions/3.8.6/lib/python3.8/site-packages (from nbconvert->notebook>=4.4.1->widgetsnbextension~=3.5.0->ipywidgets) (0.8.4)\n",
      "Requirement already satisfied: entrypoints>=0.2.2 in /Users/felix/.pyenv/versions/3.8.6/lib/python3.8/site-packages (from nbconvert->notebook>=4.4.1->widgetsnbextension~=3.5.0->ipywidgets) (0.3)\n",
      "Requirement already satisfied: bleach in /Users/felix/.pyenv/versions/3.8.6/lib/python3.8/site-packages (from nbconvert->notebook>=4.4.1->widgetsnbextension~=3.5.0->ipywidgets) (3.2.1)\n",
      "Requirement already satisfied: nbclient<0.6.0,>=0.5.0 in /Users/felix/.pyenv/versions/3.8.6/lib/python3.8/site-packages (from nbconvert->notebook>=4.4.1->widgetsnbextension~=3.5.0->ipywidgets) (0.5.1)\n",
      "Requirement already satisfied: jupyterlab-pygments in /Users/felix/.pyenv/versions/3.8.6/lib/python3.8/site-packages (from nbconvert->notebook>=4.4.1->widgetsnbextension~=3.5.0->ipywidgets) (0.1.2)\n",
      "Requirement already satisfied: defusedxml in /Users/felix/.pyenv/versions/3.8.6/lib/python3.8/site-packages (from nbconvert->notebook>=4.4.1->widgetsnbextension~=3.5.0->ipywidgets) (0.6.0)\n",
      "Requirement already satisfied: pandocfilters>=1.4.1 in /Users/felix/.pyenv/versions/3.8.6/lib/python3.8/site-packages (from nbconvert->notebook>=4.4.1->widgetsnbextension~=3.5.0->ipywidgets) (1.4.3)\n"
     ]
    },
    {
     "name": "stdout",
     "output_type": "stream",
     "text": [
      "Requirement already satisfied: nest-asyncio in /Users/felix/.pyenv/versions/3.8.6/lib/python3.8/site-packages (from nbclient<0.6.0,>=0.5.0->nbconvert->notebook>=4.4.1->widgetsnbextension~=3.5.0->ipywidgets) (1.4.3)\n",
      "Requirement already satisfied: async-generator in /Users/felix/.pyenv/versions/3.8.6/lib/python3.8/site-packages (from nbclient<0.6.0,>=0.5.0->nbconvert->notebook>=4.4.1->widgetsnbextension~=3.5.0->ipywidgets) (1.10)\n",
      "Requirement already satisfied: webencodings in /Users/felix/.pyenv/versions/3.8.6/lib/python3.8/site-packages (from bleach->nbconvert->notebook>=4.4.1->widgetsnbextension~=3.5.0->ipywidgets) (0.5.1)\n",
      "Requirement already satisfied: packaging in /Users/felix/.pyenv/versions/3.8.6/lib/python3.8/site-packages (from bleach->nbconvert->notebook>=4.4.1->widgetsnbextension~=3.5.0->ipywidgets) (20.4)\n",
      "\u001b[33mWARNING: You are using pip version 21.0.1; however, version 21.1.2 is available.\n",
      "You should consider upgrading via the '/Users/felix/.pyenv/versions/3.8.6/bin/python3.8 -m pip install --upgrade pip' command.\u001b[0m\n"
     ]
    }
   ],
   "source": [
    "# !pip install numpy matplotlib ipywidgets"
   ]
  },
  {
   "cell_type": "markdown",
   "metadata": {},
   "source": [
    "Import all libraries."
   ]
  },
  {
   "cell_type": "code",
   "execution_count": 2,
   "metadata": {
    "ExecuteTime": {
     "end_time": "2021-06-09T07:07:12.831616Z",
     "start_time": "2021-06-09T07:07:12.288893Z"
    }
   },
   "outputs": [],
   "source": [
    "import numpy as np\n",
    "import matplotlib.pyplot as plt\n",
    "import ipywidgets as widgets\n",
    "from ipywidgets import interact\n",
    "%config InlineBackend.figure_formats = ['svg']"
   ]
  },
  {
   "cell_type": "markdown",
   "metadata": {},
   "source": [
    "## Import Data"
   ]
  },
  {
   "cell_type": "code",
   "execution_count": 3,
   "metadata": {
    "ExecuteTime": {
     "end_time": "2021-06-09T07:07:12.859979Z",
     "start_time": "2021-06-09T07:07:12.837713Z"
    }
   },
   "outputs": [],
   "source": [
    "# generate test data\n",
    "\n",
    "exp_A = np.concatenate((np.random.exponential(scale=1, size=100000), \n",
    "                        np.random.normal(loc=5,scale=0.2, size=100000)))\n",
    "exp_B = np.concatenate((np.random.exponential(scale=0.5, size=50000), \n",
    "                        np.random.uniform(low=0,high=15, size=20000)))\n",
    "exp_C = np.concatenate((np.random.exponential(scale=2, size=150000), \n",
    "                        np.random.normal(loc=10,scale=2, size=150000)))"
   ]
  },
  {
   "cell_type": "markdown",
   "metadata": {},
   "source": [
    "## Plot"
   ]
  },
  {
   "cell_type": "code",
   "execution_count": 4,
   "metadata": {
    "ExecuteTime": {
     "end_time": "2021-06-09T07:07:12.864889Z",
     "start_time": "2021-06-09T07:07:12.861922Z"
    }
   },
   "outputs": [],
   "source": [
    "# exposure in kg days\n",
    "\n",
    "exposure_A = 1\n",
    "exposure_B = 0.2\n",
    "exposure_C = 15"
   ]
  },
  {
   "cell_type": "code",
   "execution_count": 5,
   "metadata": {
    "ExecuteTime": {
     "end_time": "2021-06-09T07:07:13.161700Z",
     "start_time": "2021-06-09T07:07:12.867782Z"
    }
   },
   "outputs": [
    {
     "data": {
      "application/vnd.jupyter.widget-view+json": {
       "model_id": "016b8a764a1c4208b6a76d143b862339",
       "version_major": 2,
       "version_minor": 0
      },
      "text/plain": [
       "interactive(children=(IntSlider(value=500, description='bins', max=2000, min=20), FloatRangeSlider(value=(0.0,…"
      ]
     },
     "metadata": {},
     "output_type": "display_data"
    }
   ],
   "source": [
    "# the interactive plotting function\n",
    "\n",
    "@interact(bins = widgets.IntSlider(value=500,min=20,max=2000),\n",
    "          x_range = widgets.FloatRangeSlider(value=[0,20],min=0,max=20),\n",
    "          y_max = widgets.FloatLogSlider(value=10000,min=-1,max=5),\n",
    "          check_A = widgets.Checkbox(value=True, description='Plot Experiment A'),\n",
    "          check_B = widgets.Checkbox(value=True, description='Plot Experiment B'),\n",
    "          check_C = widgets.Checkbox(value=True, description='Plot Experiment C'),\n",
    "          scale_drop = widgets.Dropdown(options=['linear', 'log'], value='linear', description='Scale: ',),\n",
    "         )\n",
    "def plot_all(bins, \n",
    "             x_range, \n",
    "             y_max, \n",
    "             check_A, \n",
    "             check_B, \n",
    "             check_C, \n",
    "             scale_drop,\n",
    "            ):\n",
    "\n",
    "    # make histograms\n",
    "\n",
    "    hist_A, bins_A = np.histogram(exp_A, bins, range=x_range)\n",
    "    hist_B, bins_B = np.histogram(exp_B, bins, range=x_range)\n",
    "    hist_C, bins_C = np.histogram(exp_C, bins, range=x_range)\n",
    "\n",
    "    # plot - comment the lines of experiments to not show them\n",
    "\n",
    "    if check_A:\n",
    "        plt.hist(bins_A[:-1], bins_A, weights=hist_A/exposure_A, histtype='step', label='Experiment A', color='C0')\n",
    "    if check_B:\n",
    "        plt.hist(bins_B[:-1], bins_B, weights=hist_B/exposure_B, histtype='step', label='Experiment B', color='C1')\n",
    "    if check_C:\n",
    "        plt.hist(bins_C[:-1], bins_C, weights=hist_C/exposure_C, histtype='step', label='Experiment C', color='C2')\n",
    "    plt.xlabel('Energy (keV)')\n",
    "    plt.ylabel(f'Counts / ({1000*(x_range[1] - x_range[0])/bins:.1f} eV kg days)')\n",
    "    plt.legend()\n",
    "    plt.xlim(x_range)\n",
    "    plt.ylim((0.5, y_max))\n",
    "    plt.yscale(scale_drop)\n",
    "    plt.show()"
   ]
  },
  {
   "cell_type": "markdown",
   "metadata": {},
   "source": [
    "## Download Data"
   ]
  },
  {
   "cell_type": "markdown",
   "metadata": {},
   "source": [
    "Coming soon..."
   ]
  }
 ],
 "metadata": {
  "kernelspec": {
   "display_name": "Python 3",
   "language": "python",
   "name": "python3"
  },
  "language_info": {
   "codemirror_mode": {
    "name": "ipython",
    "version": 3
   },
   "file_extension": ".py",
   "mimetype": "text/x-python",
   "name": "python",
   "nbconvert_exporter": "python",
   "pygments_lexer": "ipython3",
   "version": "3.8.6"
  },
  "varInspector": {
   "cols": {
    "lenName": 16,
    "lenType": 16,
    "lenVar": 40
   },
   "kernels_config": {
    "python": {
     "delete_cmd_postfix": "",
     "delete_cmd_prefix": "del ",
     "library": "var_list.py",
     "varRefreshCmd": "print(var_dic_list())"
    },
    "r": {
     "delete_cmd_postfix": ") ",
     "delete_cmd_prefix": "rm(",
     "library": "var_list.r",
     "varRefreshCmd": "cat(var_dic_list()) "
    }
   },
   "types_to_exclude": [
    "module",
    "function",
    "builtin_function_or_method",
    "instance",
    "_Feature"
   ],
   "window_display": false
  },
  "widgets": {
   "application/vnd.jupyter.widget-state+json": {
    "state": {
     "00630b21409f481aa4f4a588dca67bde": {
      "model_module": "@jupyter-widgets/controls",
      "model_module_version": "1.5.0",
      "model_name": "FloatSliderModel",
      "state": {
       "layout": "IPY_MODEL_070679852cfa4aa0964136eba16b5bb5",
       "max": 20,
       "step": 0.1,
       "style": "IPY_MODEL_11b8305d19b64d2e824205978e4a6878"
      }
     },
     "00be782605f44ff597ca9821f664b064": {
      "model_module": "@jupyter-widgets/base",
      "model_module_version": "1.2.0",
      "model_name": "LayoutModel",
      "state": {}
     },
     "016b8a764a1c4208b6a76d143b862339": {
      "model_module": "@jupyter-widgets/controls",
      "model_module_version": "1.5.0",
      "model_name": "VBoxModel",
      "state": {
       "_dom_classes": [
        "widget-interact"
       ],
       "children": [
        "IPY_MODEL_d26cc28c187843e2ab340401f6b3e262",
        "IPY_MODEL_89182ee2cc7c42788d9b06a0b9797da0",
        "IPY_MODEL_4d5b74eab44740a380bd4e870e70706c",
        "IPY_MODEL_9843a2bcfef640f4b25f3d87b5d03f32",
        "IPY_MODEL_8d7c7193fd4f4f32be2bd016b65d6231",
        "IPY_MODEL_592ee78fc88343b99c4086ce1b0dc621",
        "IPY_MODEL_d3aa9bcc71f34ee9876025331935b328",
        "IPY_MODEL_3be0ef557b2c47e88229b7c55e39ef38"
       ],
       "layout": "IPY_MODEL_63743661c49848f8b19a4c71d5f6d2d1"
      }
     },
     "017391c1e4c14e13a6d1179f4fd505cf": {
      "model_module": "@jupyter-widgets/base",
      "model_module_version": "1.2.0",
      "model_name": "LayoutModel",
      "state": {}
     },
     "037875914dde4dde82875a8f1d620167": {
      "model_module": "@jupyter-widgets/controls",
      "model_module_version": "1.5.0",
      "model_name": "DescriptionStyleModel",
      "state": {
       "description_width": ""
      }
     },
     "03a05857ed7f4a14ad1cc58b813f6154": {
      "model_module": "@jupyter-widgets/base",
      "model_module_version": "1.2.0",
      "model_name": "LayoutModel",
      "state": {}
     },
     "03d02d4a9b734d8e879eaceb0f198729": {
      "model_module": "@jupyter-widgets/controls",
      "model_module_version": "1.5.0",
      "model_name": "FloatLogSliderModel",
      "state": {
       "description": "y_ubl",
       "layout": "IPY_MODEL_ac1eb89c26be4a04a79136bcdf8eb4ae",
       "max": 5,
       "min": -1,
       "style": "IPY_MODEL_bd6645b22cae494aadb7d27cb10cfadd",
       "value": 6309.57344480193
      }
     },
     "03d0798dd2734ab1988784ba3111cdff": {
      "model_module": "@jupyter-widgets/base",
      "model_module_version": "1.2.0",
      "model_name": "LayoutModel",
      "state": {}
     },
     "03f349bda0ad404f9236c0775f0497a1": {
      "model_module": "@jupyter-widgets/controls",
      "model_module_version": "1.5.0",
      "model_name": "DescriptionStyleModel",
      "state": {
       "description_width": ""
      }
     },
     "046c4dceae844812824d101e8ba03764": {
      "model_module": "@jupyter-widgets/controls",
      "model_module_version": "1.5.0",
      "model_name": "FloatRangeSliderModel",
      "state": {
       "_model_name": "FloatRangeSliderModel",
       "_view_name": "FloatRangeSliderView",
       "description": "x_ran",
       "layout": "IPY_MODEL_05957fe6f80b462abb75e66a20d397d9",
       "max": 20,
       "step": 0.1,
       "style": "IPY_MODEL_c514ce8829d94ca5a84e69e71d9c90f3",
       "value": [
        3.5,
        20
       ]
      }
     },
     "047e0136379a4dcf8661f2c0dbe5587d": {
      "model_module": "@jupyter-widgets/base",
      "model_module_version": "1.2.0",
      "model_name": "LayoutModel",
      "state": {}
     },
     "048384c49a684df284f807367b6c6fe8": {
      "model_module": "@jupyter-widgets/base",
      "model_module_version": "1.2.0",
      "model_name": "LayoutModel",
      "state": {}
     },
     "04ee29d7fa1d492f925251b11c83d18c": {
      "model_module": "@jupyter-widgets/base",
      "model_module_version": "1.2.0",
      "model_name": "LayoutModel",
      "state": {}
     },
     "05200794822445239cda792d44e6d78f": {
      "model_module": "@jupyter-widgets/controls",
      "model_module_version": "1.5.0",
      "model_name": "FloatLogSliderModel",
      "state": {
       "description": "y_ubl",
       "layout": "IPY_MODEL_b17d0b0b1a014e8c80c1f61e82aab4a0",
       "max": 5,
       "min": -1,
       "style": "IPY_MODEL_5e6df9fa364e4257ac520f9e55520e16",
       "value": 10000
      }
     },
     "058b3df5cd67499daecf9f71018dacc3": {
      "model_module": "@jupyter-widgets/controls",
      "model_module_version": "1.5.0",
      "model_name": "SliderStyleModel",
      "state": {
       "description_width": ""
      }
     },
     "05957fe6f80b462abb75e66a20d397d9": {
      "model_module": "@jupyter-widgets/base",
      "model_module_version": "1.2.0",
      "model_name": "LayoutModel",
      "state": {}
     },
     "068d5efb5d584641b45ba8a72058e9e3": {
      "model_module": "@jupyter-widgets/base",
      "model_module_version": "1.2.0",
      "model_name": "LayoutModel",
      "state": {}
     },
     "06b538f5b5ae463bb002a429ff26cfec": {
      "model_module": "@jupyter-widgets/controls",
      "model_module_version": "1.5.0",
      "model_name": "FloatLogSliderModel",
      "state": {
       "layout": "IPY_MODEL_4f5b7697a9c84d4382c37a93ca595fa4",
       "max": 5,
       "min": -1,
       "style": "IPY_MODEL_cb20434c10c840fd804ac4aa4e470488",
       "value": 10000
      }
     },
     "070679852cfa4aa0964136eba16b5bb5": {
      "model_module": "@jupyter-widgets/base",
      "model_module_version": "1.2.0",
      "model_name": "LayoutModel",
      "state": {}
     },
     "0726c192f7a247cbba2ea75681b804db": {
      "model_module": "@jupyter-widgets/controls",
      "model_module_version": "1.5.0",
      "model_name": "FloatSliderModel",
      "state": {
       "layout": "IPY_MODEL_40fc41c331d24717a0a04046c0f04582",
       "max": 20,
       "step": 0.1,
       "style": "IPY_MODEL_2552636ae1c7408bb49c4cac0430b806"
      }
     },
     "07792c6c225d4b3b990de374de0e4452": {
      "model_module": "@jupyter-widgets/controls",
      "model_module_version": "1.5.0",
      "model_name": "SliderStyleModel",
      "state": {
       "description_width": ""
      }
     },
     "088ae161f3d54f3ead43d093bdaa80ba": {
      "model_module": "@jupyter-widgets/controls",
      "model_module_version": "1.5.0",
      "model_name": "IntSliderModel",
      "state": {
       "description": "bins",
       "layout": "IPY_MODEL_44d0ae4eee74400fb06722e5364252af",
       "max": 2000,
       "min": 20,
       "style": "IPY_MODEL_436bac1a36564a6488b245ee34346641",
       "value": 500
      }
     },
     "091fbd8dd27746b2b71d15b030758a7f": {
      "model_module": "@jupyter-widgets/controls",
      "model_module_version": "1.5.0",
      "model_name": "SliderStyleModel",
      "state": {
       "description_width": ""
      }
     },
     "096455b2a61946bebfe37fef4043dffe": {
      "model_module": "@jupyter-widgets/controls",
      "model_module_version": "1.5.0",
      "model_name": "IntSliderModel",
      "state": {
       "description": "bins",
       "layout": "IPY_MODEL_1adb261dbbe24c9b9bf457f930c98dfd",
       "max": 2000,
       "min": 20,
       "style": "IPY_MODEL_d864123d2aac42f3934048dcae6550a2",
       "value": 500
      }
     },
     "09a91f226e404bfb9f64bcd1303cb72c": {
      "model_module": "@jupyter-widgets/controls",
      "model_module_version": "1.5.0",
      "model_name": "LinkModel",
      "state": {
       "source": [
        "IPY_MODEL_e0775ccde2324ac38704ed1078c00ec8",
        "value"
       ],
       "target": [
        "IPY_MODEL_2ba912d108fd41318c1960d3fa8dfe66",
        "value"
       ]
      }
     },
     "0a6783e035fc48d993c2423f83cdd65e": {
      "model_module": "@jupyter-widgets/base",
      "model_module_version": "1.2.0",
      "model_name": "LayoutModel",
      "state": {}
     },
     "0b4641b1cb4c4c70b6700b61abb01dd8": {
      "model_module": "@jupyter-widgets/controls",
      "model_module_version": "1.5.0",
      "model_name": "IntSliderModel",
      "state": {
       "layout": "IPY_MODEL_b91934c045394e958b52e7d39d5694c0",
       "max": 2000,
       "min": 20,
       "style": "IPY_MODEL_4f3b621e6cad4798aa6af3a137dd5c53",
       "value": 500
      }
     },
     "0bc8c6913b7e45eea2d2b1070d8dbca1": {
      "model_module": "@jupyter-widgets/base",
      "model_module_version": "1.2.0",
      "model_name": "LayoutModel",
      "state": {}
     },
     "0c0089acb33f48718e50edc6bb45765e": {
      "model_module": "@jupyter-widgets/controls",
      "model_module_version": "1.5.0",
      "model_name": "CheckboxModel",
      "state": {
       "description": "Plot Experiment C",
       "disabled": false,
       "layout": "IPY_MODEL_8fcc3719c31c46be9e41e84f8607e359",
       "style": "IPY_MODEL_f86054e1655d4b25a9ef8afd7a0e160b",
       "value": true
      }
     },
     "0c53ba7866b040c0a19d09c9b7cd30a1": {
      "model_module": "@jupyter-widgets/base",
      "model_module_version": "1.2.0",
      "model_name": "LayoutModel",
      "state": {}
     },
     "0c729a6a929b4aadbdc293c095952ae2": {
      "model_module": "@jupyter-widgets/controls",
      "model_module_version": "1.5.0",
      "model_name": "CheckboxModel",
      "state": {
       "description": "Plot Experiment C",
       "disabled": false,
       "layout": "IPY_MODEL_de3547156304419cbf0f7f68afc9396f",
       "style": "IPY_MODEL_c249011523c740878d4bd3817bf8037c",
       "value": true
      }
     },
     "0d440aba1f6a4eb0a71bde6c0ccd4b3b": {
      "model_module": "@jupyter-widgets/controls",
      "model_module_version": "1.5.0",
      "model_name": "SliderStyleModel",
      "state": {
       "description_width": ""
      }
     },
     "0df7f18ded7b436bb7fc1cae7a516634": {
      "model_module": "@jupyter-widgets/base",
      "model_module_version": "1.2.0",
      "model_name": "LayoutModel",
      "state": {}
     },
     "0edc60817ef44c489b8bf590e979a005": {
      "model_module": "@jupyter-widgets/controls",
      "model_module_version": "1.5.0",
      "model_name": "SliderStyleModel",
      "state": {
       "description_width": ""
      }
     },
     "0f83ba1d13834085bcbd15c1b3d475a8": {
      "model_module": "@jupyter-widgets/controls",
      "model_module_version": "1.5.0",
      "model_name": "DescriptionStyleModel",
      "state": {
       "description_width": ""
      }
     },
     "0f94765343084a72b29ebfa9090083cd": {
      "model_module": "@jupyter-widgets/controls",
      "model_module_version": "1.5.0",
      "model_name": "SliderStyleModel",
      "state": {
       "description_width": ""
      }
     },
     "0fc90f7e09c545eb9ad973edbbe21697": {
      "model_module": "@jupyter-widgets/controls",
      "model_module_version": "1.5.0",
      "model_name": "CheckboxModel",
      "state": {
       "description": "Plot Experiment B",
       "disabled": false,
       "layout": "IPY_MODEL_d93aa81ba3334c5ba3032a68e7e94309",
       "style": "IPY_MODEL_8e2c64736ed740ae9cf4a34d683eee19",
       "value": true
      }
     },
     "1029451969714fc1a4564854485d9da3": {
      "model_module": "@jupyter-widgets/controls",
      "model_module_version": "1.5.0",
      "model_name": "VBoxModel",
      "state": {
       "_dom_classes": [
        "widget-interact"
       ],
       "children": [
        "IPY_MODEL_50e58e7be4da46b2bc80ecc5aab6d6e4",
        "IPY_MODEL_553e01daa3ff48c1ab3f6b4a9432e365",
        "IPY_MODEL_852d544467fa4526b1e4d873db0b206e",
        "IPY_MODEL_5aa5fe7033d84e41a2c1573dcbfa906a",
        "IPY_MODEL_0fc90f7e09c545eb9ad973edbbe21697",
        "IPY_MODEL_b862a2711c764136aeadb8d5a87e4460",
        "IPY_MODEL_2268e097200244eaaded18cec42e03e6",
        "IPY_MODEL_28e1fdf2136d4d63b33d8b9d2b4aacb7"
       ],
       "layout": "IPY_MODEL_d02c7e4db7704f368341492ed77d5f7b"
      }
     },
     "103d2c2a38f640edb6f68f529afce9c9": {
      "model_module": "@jupyter-widgets/controls",
      "model_module_version": "1.5.0",
      "model_name": "DescriptionStyleModel",
      "state": {
       "description_width": ""
      }
     },
     "10be9e38039246d9bc3410394b7e877d": {
      "model_module": "@jupyter-widgets/controls",
      "model_module_version": "1.5.0",
      "model_name": "CheckboxModel",
      "state": {
       "description": "Plot Experiment A",
       "disabled": false,
       "layout": "IPY_MODEL_5a8deea337a24ab98f1db7eb3e4b87b2",
       "style": "IPY_MODEL_6482ca960a5d4b61aff224da3a3f02b0",
       "value": true
      }
     },
     "10d2566ee28e4983b5bf5fbd157205d5": {
      "model_module": "@jupyter-widgets/base",
      "model_module_version": "1.2.0",
      "model_name": "LayoutModel",
      "state": {}
     },
     "10f957b428d046b68b6ffdc233984255": {
      "model_module": "@jupyter-widgets/controls",
      "model_module_version": "1.5.0",
      "model_name": "IntSliderModel",
      "state": {
       "layout": "IPY_MODEL_5c6fd111e1a94a50b35e93c1590d42ab",
       "max": 20,
       "style": "IPY_MODEL_2dec401073b64b91b1b979ab04178d90"
      }
     },
     "11b8305d19b64d2e824205978e4a6878": {
      "model_module": "@jupyter-widgets/controls",
      "model_module_version": "1.5.0",
      "model_name": "SliderStyleModel",
      "state": {
       "description_width": ""
      }
     },
     "12f8bf0ed09d469399dae08fda5c5c1f": {
      "model_module": "@jupyter-widgets/base",
      "model_module_version": "1.2.0",
      "model_name": "LayoutModel",
      "state": {}
     },
     "13118272670440f9bf8acde990482ac0": {
      "model_module": "@jupyter-widgets/output",
      "model_module_version": "1.0.0",
      "model_name": "OutputModel",
      "state": {
       "layout": "IPY_MODEL_d7fa870e4fda4247adcfff527a93783b",
       "outputs": [
        {
         "data": {
          "image/svg+xml": "<?xml version=\"1.0\" encoding=\"utf-8\" standalone=\"no\"?>\n<!DOCTYPE svg PUBLIC \"-//W3C//DTD SVG 1.1//EN\"\n  \"http://www.w3.org/Graphics/SVG/1.1/DTD/svg11.dtd\">\n<!-- Created with matplotlib (https://matplotlib.org/) -->\n<svg height=\"262.19625pt\" version=\"1.1\" viewBox=\"0 0 398.610938 262.19625\" width=\"398.610938pt\" xmlns=\"http://www.w3.org/2000/svg\" xmlns:xlink=\"http://www.w3.org/1999/xlink\">\n <metadata>\n  <rdf:RDF xmlns:cc=\"http://creativecommons.org/ns#\" xmlns:dc=\"http://purl.org/dc/elements/1.1/\" xmlns:rdf=\"http://www.w3.org/1999/02/22-rdf-syntax-ns#\">\n   <cc:Work>\n    <dc:type rdf:resource=\"http://purl.org/dc/dcmitype/StillImage\"/>\n    <dc:date>2021-06-09T01:43:06.484916</dc:date>\n    <dc:format>image/svg+xml</dc:format>\n    <dc:creator>\n     <cc:Agent>\n      <dc:title>Matplotlib v3.3.3, https://matplotlib.org/</dc:title>\n     </cc:Agent>\n    </dc:creator>\n   </cc:Work>\n  </rdf:RDF>\n </metadata>\n <defs>\n  <style type=\"text/css\">*{stroke-linecap:butt;stroke-linejoin:round;}</style>\n </defs>\n <g id=\"figure_1\">\n  <g id=\"patch_1\">\n   <path d=\"M 0 262.19625 \nL 398.610938 262.19625 \nL 398.610938 0 \nL 0 0 \nz\n\" style=\"fill:none;\"/>\n  </g>\n  <g id=\"axes_1\">\n   <g id=\"patch_2\">\n    <path d=\"M 45.478125 224.64 \nL 380.278125 224.64 \nL 380.278125 7.2 \nL 45.478125 7.2 \nz\n\" style=\"fill:#ffffff;\"/>\n   </g>\n   <g id=\"matplotlib.axis_1\">\n    <g id=\"xtick_1\">\n     <g id=\"line2d_1\">\n      <defs>\n       <path d=\"M 0 0 \nL 0 3.5 \n\" id=\"me6b640b281\" style=\"stroke:#000000;stroke-width:0.8;\"/>\n      </defs>\n      <g>\n       <use style=\"stroke:#000000;stroke-width:0.8;\" x=\"45.478125\" xlink:href=\"#me6b640b281\" y=\"224.64\"/>\n      </g>\n     </g>\n     <g id=\"text_1\">\n      <!-- 0.0 -->\n      <g transform=\"translate(37.526563 239.238437)scale(0.1 -0.1)\">\n       <defs>\n        <path d=\"M 31.78125 66.40625 \nQ 24.171875 66.40625 20.328125 58.90625 \nQ 16.5 51.421875 16.5 36.375 \nQ 16.5 21.390625 20.328125 13.890625 \nQ 24.171875 6.390625 31.78125 6.390625 \nQ 39.453125 6.390625 43.28125 13.890625 \nQ 47.125 21.390625 47.125 36.375 \nQ 47.125 51.421875 43.28125 58.90625 \nQ 39.453125 66.40625 31.78125 66.40625 \nz\nM 31.78125 74.21875 \nQ 44.046875 74.21875 50.515625 64.515625 \nQ 56.984375 54.828125 56.984375 36.375 \nQ 56.984375 17.96875 50.515625 8.265625 \nQ 44.046875 -1.421875 31.78125 -1.421875 \nQ 19.53125 -1.421875 13.0625 8.265625 \nQ 6.59375 17.96875 6.59375 36.375 \nQ 6.59375 54.828125 13.0625 64.515625 \nQ 19.53125 74.21875 31.78125 74.21875 \nz\n\" id=\"DejaVuSans-48\"/>\n        <path d=\"M 10.6875 12.40625 \nL 21 12.40625 \nL 21 0 \nL 10.6875 0 \nz\n\" id=\"DejaVuSans-46\"/>\n       </defs>\n       <use xlink:href=\"#DejaVuSans-48\"/>\n       <use x=\"63.623047\" xlink:href=\"#DejaVuSans-46\"/>\n       <use x=\"95.410156\" xlink:href=\"#DejaVuSans-48\"/>\n      </g>\n     </g>\n    </g>\n    <g id=\"xtick_2\">\n     <g id=\"line2d_2\">\n      <g>\n       <use style=\"stroke:#000000;stroke-width:0.8;\" x=\"87.328125\" xlink:href=\"#me6b640b281\" y=\"224.64\"/>\n      </g>\n     </g>\n     <g id=\"text_2\">\n      <!-- 2.5 -->\n      <g transform=\"translate(79.376563 239.238437)scale(0.1 -0.1)\">\n       <defs>\n        <path d=\"M 19.1875 8.296875 \nL 53.609375 8.296875 \nL 53.609375 0 \nL 7.328125 0 \nL 7.328125 8.296875 \nQ 12.9375 14.109375 22.625 23.890625 \nQ 32.328125 33.6875 34.8125 36.53125 \nQ 39.546875 41.84375 41.421875 45.53125 \nQ 43.3125 49.21875 43.3125 52.78125 \nQ 43.3125 58.59375 39.234375 62.25 \nQ 35.15625 65.921875 28.609375 65.921875 \nQ 23.96875 65.921875 18.8125 64.3125 \nQ 13.671875 62.703125 7.8125 59.421875 \nL 7.8125 69.390625 \nQ 13.765625 71.78125 18.9375 73 \nQ 24.125 74.21875 28.421875 74.21875 \nQ 39.75 74.21875 46.484375 68.546875 \nQ 53.21875 62.890625 53.21875 53.421875 \nQ 53.21875 48.921875 51.53125 44.890625 \nQ 49.859375 40.875 45.40625 35.40625 \nQ 44.1875 33.984375 37.640625 27.21875 \nQ 31.109375 20.453125 19.1875 8.296875 \nz\n\" id=\"DejaVuSans-50\"/>\n        <path d=\"M 10.796875 72.90625 \nL 49.515625 72.90625 \nL 49.515625 64.59375 \nL 19.828125 64.59375 \nL 19.828125 46.734375 \nQ 21.96875 47.46875 24.109375 47.828125 \nQ 26.265625 48.1875 28.421875 48.1875 \nQ 40.625 48.1875 47.75 41.5 \nQ 54.890625 34.8125 54.890625 23.390625 \nQ 54.890625 11.625 47.5625 5.09375 \nQ 40.234375 -1.421875 26.90625 -1.421875 \nQ 22.3125 -1.421875 17.546875 -0.640625 \nQ 12.796875 0.140625 7.71875 1.703125 \nL 7.71875 11.625 \nQ 12.109375 9.234375 16.796875 8.0625 \nQ 21.484375 6.890625 26.703125 6.890625 \nQ 35.15625 6.890625 40.078125 11.328125 \nQ 45.015625 15.765625 45.015625 23.390625 \nQ 45.015625 31 40.078125 35.4375 \nQ 35.15625 39.890625 26.703125 39.890625 \nQ 22.75 39.890625 18.8125 39.015625 \nQ 14.890625 38.140625 10.796875 36.28125 \nz\n\" id=\"DejaVuSans-53\"/>\n       </defs>\n       <use xlink:href=\"#DejaVuSans-50\"/>\n       <use x=\"63.623047\" xlink:href=\"#DejaVuSans-46\"/>\n       <use x=\"95.410156\" xlink:href=\"#DejaVuSans-53\"/>\n      </g>\n     </g>\n    </g>\n    <g id=\"xtick_3\">\n     <g id=\"line2d_3\">\n      <g>\n       <use style=\"stroke:#000000;stroke-width:0.8;\" x=\"129.178125\" xlink:href=\"#me6b640b281\" y=\"224.64\"/>\n      </g>\n     </g>\n     <g id=\"text_3\">\n      <!-- 5.0 -->\n      <g transform=\"translate(121.226563 239.238437)scale(0.1 -0.1)\">\n       <use xlink:href=\"#DejaVuSans-53\"/>\n       <use x=\"63.623047\" xlink:href=\"#DejaVuSans-46\"/>\n       <use x=\"95.410156\" xlink:href=\"#DejaVuSans-48\"/>\n      </g>\n     </g>\n    </g>\n    <g id=\"xtick_4\">\n     <g id=\"line2d_4\">\n      <g>\n       <use style=\"stroke:#000000;stroke-width:0.8;\" x=\"171.028125\" xlink:href=\"#me6b640b281\" y=\"224.64\"/>\n      </g>\n     </g>\n     <g id=\"text_4\">\n      <!-- 7.5 -->\n      <g transform=\"translate(163.076563 239.238437)scale(0.1 -0.1)\">\n       <defs>\n        <path d=\"M 8.203125 72.90625 \nL 55.078125 72.90625 \nL 55.078125 68.703125 \nL 28.609375 0 \nL 18.3125 0 \nL 43.21875 64.59375 \nL 8.203125 64.59375 \nz\n\" id=\"DejaVuSans-55\"/>\n       </defs>\n       <use xlink:href=\"#DejaVuSans-55\"/>\n       <use x=\"63.623047\" xlink:href=\"#DejaVuSans-46\"/>\n       <use x=\"95.410156\" xlink:href=\"#DejaVuSans-53\"/>\n      </g>\n     </g>\n    </g>\n    <g id=\"xtick_5\">\n     <g id=\"line2d_5\">\n      <g>\n       <use style=\"stroke:#000000;stroke-width:0.8;\" x=\"212.878125\" xlink:href=\"#me6b640b281\" y=\"224.64\"/>\n      </g>\n     </g>\n     <g id=\"text_5\">\n      <!-- 10.0 -->\n      <g transform=\"translate(201.745313 239.238437)scale(0.1 -0.1)\">\n       <defs>\n        <path d=\"M 12.40625 8.296875 \nL 28.515625 8.296875 \nL 28.515625 63.921875 \nL 10.984375 60.40625 \nL 10.984375 69.390625 \nL 28.421875 72.90625 \nL 38.28125 72.90625 \nL 38.28125 8.296875 \nL 54.390625 8.296875 \nL 54.390625 0 \nL 12.40625 0 \nz\n\" id=\"DejaVuSans-49\"/>\n       </defs>\n       <use xlink:href=\"#DejaVuSans-49\"/>\n       <use x=\"63.623047\" xlink:href=\"#DejaVuSans-48\"/>\n       <use x=\"127.246094\" xlink:href=\"#DejaVuSans-46\"/>\n       <use x=\"159.033203\" xlink:href=\"#DejaVuSans-48\"/>\n      </g>\n     </g>\n    </g>\n    <g id=\"xtick_6\">\n     <g id=\"line2d_6\">\n      <g>\n       <use style=\"stroke:#000000;stroke-width:0.8;\" x=\"254.728125\" xlink:href=\"#me6b640b281\" y=\"224.64\"/>\n      </g>\n     </g>\n     <g id=\"text_6\">\n      <!-- 12.5 -->\n      <g transform=\"translate(243.595313 239.238437)scale(0.1 -0.1)\">\n       <use xlink:href=\"#DejaVuSans-49\"/>\n       <use x=\"63.623047\" xlink:href=\"#DejaVuSans-50\"/>\n       <use x=\"127.246094\" xlink:href=\"#DejaVuSans-46\"/>\n       <use x=\"159.033203\" xlink:href=\"#DejaVuSans-53\"/>\n      </g>\n     </g>\n    </g>\n    <g id=\"xtick_7\">\n     <g id=\"line2d_7\">\n      <g>\n       <use style=\"stroke:#000000;stroke-width:0.8;\" x=\"296.578125\" xlink:href=\"#me6b640b281\" y=\"224.64\"/>\n      </g>\n     </g>\n     <g id=\"text_7\">\n      <!-- 15.0 -->\n      <g transform=\"translate(285.445313 239.238437)scale(0.1 -0.1)\">\n       <use xlink:href=\"#DejaVuSans-49\"/>\n       <use x=\"63.623047\" xlink:href=\"#DejaVuSans-53\"/>\n       <use x=\"127.246094\" xlink:href=\"#DejaVuSans-46\"/>\n       <use x=\"159.033203\" xlink:href=\"#DejaVuSans-48\"/>\n      </g>\n     </g>\n    </g>\n    <g id=\"xtick_8\">\n     <g id=\"line2d_8\">\n      <g>\n       <use style=\"stroke:#000000;stroke-width:0.8;\" x=\"338.428125\" xlink:href=\"#me6b640b281\" y=\"224.64\"/>\n      </g>\n     </g>\n     <g id=\"text_8\">\n      <!-- 17.5 -->\n      <g transform=\"translate(327.295313 239.238437)scale(0.1 -0.1)\">\n       <use xlink:href=\"#DejaVuSans-49\"/>\n       <use x=\"63.623047\" xlink:href=\"#DejaVuSans-55\"/>\n       <use x=\"127.246094\" xlink:href=\"#DejaVuSans-46\"/>\n       <use x=\"159.033203\" xlink:href=\"#DejaVuSans-53\"/>\n      </g>\n     </g>\n    </g>\n    <g id=\"xtick_9\">\n     <g id=\"line2d_9\">\n      <g>\n       <use style=\"stroke:#000000;stroke-width:0.8;\" x=\"380.278125\" xlink:href=\"#me6b640b281\" y=\"224.64\"/>\n      </g>\n     </g>\n     <g id=\"text_9\">\n      <!-- 20.0 -->\n      <g transform=\"translate(369.145313 239.238437)scale(0.1 -0.1)\">\n       <use xlink:href=\"#DejaVuSans-50\"/>\n       <use x=\"63.623047\" xlink:href=\"#DejaVuSans-48\"/>\n       <use x=\"127.246094\" xlink:href=\"#DejaVuSans-46\"/>\n       <use x=\"159.033203\" xlink:href=\"#DejaVuSans-48\"/>\n      </g>\n     </g>\n    </g>\n    <g id=\"text_10\">\n     <!-- Energy (keV) -->\n     <g transform=\"translate(180.670313 252.916562)scale(0.1 -0.1)\">\n      <defs>\n       <path d=\"M 9.8125 72.90625 \nL 55.90625 72.90625 \nL 55.90625 64.59375 \nL 19.671875 64.59375 \nL 19.671875 43.015625 \nL 54.390625 43.015625 \nL 54.390625 34.71875 \nL 19.671875 34.71875 \nL 19.671875 8.296875 \nL 56.78125 8.296875 \nL 56.78125 0 \nL 9.8125 0 \nz\n\" id=\"DejaVuSans-69\"/>\n       <path d=\"M 54.890625 33.015625 \nL 54.890625 0 \nL 45.90625 0 \nL 45.90625 32.71875 \nQ 45.90625 40.484375 42.875 44.328125 \nQ 39.84375 48.1875 33.796875 48.1875 \nQ 26.515625 48.1875 22.3125 43.546875 \nQ 18.109375 38.921875 18.109375 30.90625 \nL 18.109375 0 \nL 9.078125 0 \nL 9.078125 54.6875 \nL 18.109375 54.6875 \nL 18.109375 46.1875 \nQ 21.34375 51.125 25.703125 53.5625 \nQ 30.078125 56 35.796875 56 \nQ 45.21875 56 50.046875 50.171875 \nQ 54.890625 44.34375 54.890625 33.015625 \nz\n\" id=\"DejaVuSans-110\"/>\n       <path d=\"M 56.203125 29.59375 \nL 56.203125 25.203125 \nL 14.890625 25.203125 \nQ 15.484375 15.921875 20.484375 11.0625 \nQ 25.484375 6.203125 34.421875 6.203125 \nQ 39.59375 6.203125 44.453125 7.46875 \nQ 49.3125 8.734375 54.109375 11.28125 \nL 54.109375 2.78125 \nQ 49.265625 0.734375 44.1875 -0.34375 \nQ 39.109375 -1.421875 33.890625 -1.421875 \nQ 20.796875 -1.421875 13.15625 6.1875 \nQ 5.515625 13.8125 5.515625 26.8125 \nQ 5.515625 40.234375 12.765625 48.109375 \nQ 20.015625 56 32.328125 56 \nQ 43.359375 56 49.78125 48.890625 \nQ 56.203125 41.796875 56.203125 29.59375 \nz\nM 47.21875 32.234375 \nQ 47.125 39.59375 43.09375 43.984375 \nQ 39.0625 48.390625 32.421875 48.390625 \nQ 24.90625 48.390625 20.390625 44.140625 \nQ 15.875 39.890625 15.1875 32.171875 \nz\n\" id=\"DejaVuSans-101\"/>\n       <path d=\"M 41.109375 46.296875 \nQ 39.59375 47.171875 37.8125 47.578125 \nQ 36.03125 48 33.890625 48 \nQ 26.265625 48 22.1875 43.046875 \nQ 18.109375 38.09375 18.109375 28.8125 \nL 18.109375 0 \nL 9.078125 0 \nL 9.078125 54.6875 \nL 18.109375 54.6875 \nL 18.109375 46.1875 \nQ 20.953125 51.171875 25.484375 53.578125 \nQ 30.03125 56 36.53125 56 \nQ 37.453125 56 38.578125 55.875 \nQ 39.703125 55.765625 41.0625 55.515625 \nz\n\" id=\"DejaVuSans-114\"/>\n       <path d=\"M 45.40625 27.984375 \nQ 45.40625 37.75 41.375 43.109375 \nQ 37.359375 48.484375 30.078125 48.484375 \nQ 22.859375 48.484375 18.828125 43.109375 \nQ 14.796875 37.75 14.796875 27.984375 \nQ 14.796875 18.265625 18.828125 12.890625 \nQ 22.859375 7.515625 30.078125 7.515625 \nQ 37.359375 7.515625 41.375 12.890625 \nQ 45.40625 18.265625 45.40625 27.984375 \nz\nM 54.390625 6.78125 \nQ 54.390625 -7.171875 48.1875 -13.984375 \nQ 42 -20.796875 29.203125 -20.796875 \nQ 24.46875 -20.796875 20.265625 -20.09375 \nQ 16.0625 -19.390625 12.109375 -17.921875 \nL 12.109375 -9.1875 \nQ 16.0625 -11.328125 19.921875 -12.34375 \nQ 23.78125 -13.375 27.78125 -13.375 \nQ 36.625 -13.375 41.015625 -8.765625 \nQ 45.40625 -4.15625 45.40625 5.171875 \nL 45.40625 9.625 \nQ 42.625 4.78125 38.28125 2.390625 \nQ 33.9375 0 27.875 0 \nQ 17.828125 0 11.671875 7.65625 \nQ 5.515625 15.328125 5.515625 27.984375 \nQ 5.515625 40.671875 11.671875 48.328125 \nQ 17.828125 56 27.875 56 \nQ 33.9375 56 38.28125 53.609375 \nQ 42.625 51.21875 45.40625 46.390625 \nL 45.40625 54.6875 \nL 54.390625 54.6875 \nz\n\" id=\"DejaVuSans-103\"/>\n       <path d=\"M 32.171875 -5.078125 \nQ 28.375 -14.84375 24.75 -17.8125 \nQ 21.140625 -20.796875 15.09375 -20.796875 \nL 7.90625 -20.796875 \nL 7.90625 -13.28125 \nL 13.1875 -13.28125 \nQ 16.890625 -13.28125 18.9375 -11.515625 \nQ 21 -9.765625 23.484375 -3.21875 \nL 25.09375 0.875 \nL 2.984375 54.6875 \nL 12.5 54.6875 \nL 29.59375 11.921875 \nL 46.6875 54.6875 \nL 56.203125 54.6875 \nz\n\" id=\"DejaVuSans-121\"/>\n       <path id=\"DejaVuSans-32\"/>\n       <path d=\"M 31 75.875 \nQ 24.46875 64.65625 21.28125 53.65625 \nQ 18.109375 42.671875 18.109375 31.390625 \nQ 18.109375 20.125 21.3125 9.0625 \nQ 24.515625 -2 31 -13.1875 \nL 23.1875 -13.1875 \nQ 15.875 -1.703125 12.234375 9.375 \nQ 8.59375 20.453125 8.59375 31.390625 \nQ 8.59375 42.28125 12.203125 53.3125 \nQ 15.828125 64.359375 23.1875 75.875 \nz\n\" id=\"DejaVuSans-40\"/>\n       <path d=\"M 9.078125 75.984375 \nL 18.109375 75.984375 \nL 18.109375 31.109375 \nL 44.921875 54.6875 \nL 56.390625 54.6875 \nL 27.390625 29.109375 \nL 57.625 0 \nL 45.90625 0 \nL 18.109375 26.703125 \nL 18.109375 0 \nL 9.078125 0 \nz\n\" id=\"DejaVuSans-107\"/>\n       <path d=\"M 28.609375 0 \nL 0.78125 72.90625 \nL 11.078125 72.90625 \nL 34.1875 11.53125 \nL 57.328125 72.90625 \nL 67.578125 72.90625 \nL 39.796875 0 \nz\n\" id=\"DejaVuSans-86\"/>\n       <path d=\"M 8.015625 75.875 \nL 15.828125 75.875 \nQ 23.140625 64.359375 26.78125 53.3125 \nQ 30.421875 42.28125 30.421875 31.390625 \nQ 30.421875 20.453125 26.78125 9.375 \nQ 23.140625 -1.703125 15.828125 -13.1875 \nL 8.015625 -13.1875 \nQ 14.5 -2 17.703125 9.0625 \nQ 20.90625 20.125 20.90625 31.390625 \nQ 20.90625 42.671875 17.703125 53.65625 \nQ 14.5 64.65625 8.015625 75.875 \nz\n\" id=\"DejaVuSans-41\"/>\n      </defs>\n      <use xlink:href=\"#DejaVuSans-69\"/>\n      <use x=\"63.183594\" xlink:href=\"#DejaVuSans-110\"/>\n      <use x=\"126.5625\" xlink:href=\"#DejaVuSans-101\"/>\n      <use x=\"188.085938\" xlink:href=\"#DejaVuSans-114\"/>\n      <use x=\"227.449219\" xlink:href=\"#DejaVuSans-103\"/>\n      <use x=\"290.925781\" xlink:href=\"#DejaVuSans-121\"/>\n      <use x=\"350.105469\" xlink:href=\"#DejaVuSans-32\"/>\n      <use x=\"381.892578\" xlink:href=\"#DejaVuSans-40\"/>\n      <use x=\"420.90625\" xlink:href=\"#DejaVuSans-107\"/>\n      <use x=\"475.191406\" xlink:href=\"#DejaVuSans-101\"/>\n      <use x=\"536.714844\" xlink:href=\"#DejaVuSans-86\"/>\n      <use x=\"605.123047\" xlink:href=\"#DejaVuSans-41\"/>\n     </g>\n    </g>\n   </g>\n   <g id=\"matplotlib.axis_2\">\n    <g id=\"ytick_1\">\n     <g id=\"line2d_10\">\n      <defs>\n       <path d=\"M 0 0 \nL -3.5 0 \n\" id=\"m8336284167\" style=\"stroke:#000000;stroke-width:0.8;\"/>\n      </defs>\n      <g>\n       <use style=\"stroke:#000000;stroke-width:0.8;\" x=\"45.478125\" xlink:href=\"#m8336284167\" y=\"208.679141\"/>\n      </g>\n     </g>\n     <g id=\"text_11\">\n      <!-- $\\mathdefault{10^{0}}$ -->\n      <g transform=\"translate(20.878125 212.47836)scale(0.1 -0.1)\">\n       <use transform=\"translate(0 0.765625)\" xlink:href=\"#DejaVuSans-49\"/>\n       <use transform=\"translate(63.623047 0.765625)\" xlink:href=\"#DejaVuSans-48\"/>\n       <use transform=\"translate(128.203125 39.046875)scale(0.7)\" xlink:href=\"#DejaVuSans-48\"/>\n      </g>\n     </g>\n    </g>\n    <g id=\"ytick_2\">\n     <g id=\"line2d_11\">\n      <g>\n       <use style=\"stroke:#000000;stroke-width:0.8;\" x=\"45.478125\" xlink:href=\"#m8336284167\" y=\"155.658314\"/>\n      </g>\n     </g>\n     <g id=\"text_12\">\n      <!-- $\\mathdefault{10^{1}}$ -->\n      <g transform=\"translate(20.878125 159.457533)scale(0.1 -0.1)\">\n       <use transform=\"translate(0 0.684375)\" xlink:href=\"#DejaVuSans-49\"/>\n       <use transform=\"translate(63.623047 0.684375)\" xlink:href=\"#DejaVuSans-48\"/>\n       <use transform=\"translate(128.203125 38.965625)scale(0.7)\" xlink:href=\"#DejaVuSans-49\"/>\n      </g>\n     </g>\n    </g>\n    <g id=\"ytick_3\">\n     <g id=\"line2d_12\">\n      <g>\n       <use style=\"stroke:#000000;stroke-width:0.8;\" x=\"45.478125\" xlink:href=\"#m8336284167\" y=\"102.637488\"/>\n      </g>\n     </g>\n     <g id=\"text_13\">\n      <!-- $\\mathdefault{10^{2}}$ -->\n      <g transform=\"translate(20.878125 106.436707)scale(0.1 -0.1)\">\n       <use transform=\"translate(0 0.765625)\" xlink:href=\"#DejaVuSans-49\"/>\n       <use transform=\"translate(63.623047 0.765625)\" xlink:href=\"#DejaVuSans-48\"/>\n       <use transform=\"translate(128.203125 39.046875)scale(0.7)\" xlink:href=\"#DejaVuSans-50\"/>\n      </g>\n     </g>\n    </g>\n    <g id=\"ytick_4\">\n     <g id=\"line2d_13\">\n      <g>\n       <use style=\"stroke:#000000;stroke-width:0.8;\" x=\"45.478125\" xlink:href=\"#m8336284167\" y=\"49.616661\"/>\n      </g>\n     </g>\n     <g id=\"text_14\">\n      <!-- $\\mathdefault{10^{3}}$ -->\n      <g transform=\"translate(20.878125 53.41588)scale(0.1 -0.1)\">\n       <defs>\n        <path d=\"M 40.578125 39.3125 \nQ 47.65625 37.796875 51.625 33 \nQ 55.609375 28.21875 55.609375 21.1875 \nQ 55.609375 10.40625 48.1875 4.484375 \nQ 40.765625 -1.421875 27.09375 -1.421875 \nQ 22.515625 -1.421875 17.65625 -0.515625 \nQ 12.796875 0.390625 7.625 2.203125 \nL 7.625 11.71875 \nQ 11.71875 9.328125 16.59375 8.109375 \nQ 21.484375 6.890625 26.8125 6.890625 \nQ 36.078125 6.890625 40.9375 10.546875 \nQ 45.796875 14.203125 45.796875 21.1875 \nQ 45.796875 27.640625 41.28125 31.265625 \nQ 36.765625 34.90625 28.71875 34.90625 \nL 20.21875 34.90625 \nL 20.21875 43.015625 \nL 29.109375 43.015625 \nQ 36.375 43.015625 40.234375 45.921875 \nQ 44.09375 48.828125 44.09375 54.296875 \nQ 44.09375 59.90625 40.109375 62.90625 \nQ 36.140625 65.921875 28.71875 65.921875 \nQ 24.65625 65.921875 20.015625 65.03125 \nQ 15.375 64.15625 9.8125 62.3125 \nL 9.8125 71.09375 \nQ 15.4375 72.65625 20.34375 73.4375 \nQ 25.25 74.21875 29.59375 74.21875 \nQ 40.828125 74.21875 47.359375 69.109375 \nQ 53.90625 64.015625 53.90625 55.328125 \nQ 53.90625 49.265625 50.4375 45.09375 \nQ 46.96875 40.921875 40.578125 39.3125 \nz\n\" id=\"DejaVuSans-51\"/>\n       </defs>\n       <use transform=\"translate(0 0.765625)\" xlink:href=\"#DejaVuSans-49\"/>\n       <use transform=\"translate(63.623047 0.765625)\" xlink:href=\"#DejaVuSans-48\"/>\n       <use transform=\"translate(128.203125 39.046875)scale(0.7)\" xlink:href=\"#DejaVuSans-51\"/>\n      </g>\n     </g>\n    </g>\n    <g id=\"ytick_5\">\n     <g id=\"line2d_14\">\n      <defs>\n       <path d=\"M 0 0 \nL -2 0 \n\" id=\"ma84528d514\" style=\"stroke:#000000;stroke-width:0.6;\"/>\n      </defs>\n      <g>\n       <use style=\"stroke:#000000;stroke-width:0.6;\" x=\"45.478125\" xlink:href=\"#ma84528d514\" y=\"224.64\"/>\n      </g>\n     </g>\n    </g>\n    <g id=\"ytick_6\">\n     <g id=\"line2d_15\">\n      <g>\n       <use style=\"stroke:#000000;stroke-width:0.6;\" x=\"45.478125\" xlink:href=\"#ma84528d514\" y=\"220.441745\"/>\n      </g>\n     </g>\n    </g>\n    <g id=\"ytick_7\">\n     <g id=\"line2d_16\">\n      <g>\n       <use style=\"stroke:#000000;stroke-width:0.6;\" x=\"45.478125\" xlink:href=\"#ma84528d514\" y=\"216.892171\"/>\n      </g>\n     </g>\n    </g>\n    <g id=\"ytick_8\">\n     <g id=\"line2d_17\">\n      <g>\n       <use style=\"stroke:#000000;stroke-width:0.6;\" x=\"45.478125\" xlink:href=\"#ma84528d514\" y=\"213.81739\"/>\n      </g>\n     </g>\n    </g>\n    <g id=\"ytick_9\">\n     <g id=\"line2d_18\">\n      <g>\n       <use style=\"stroke:#000000;stroke-width:0.6;\" x=\"45.478125\" xlink:href=\"#ma84528d514\" y=\"211.105241\"/>\n      </g>\n     </g>\n    </g>\n    <g id=\"ytick_10\">\n     <g id=\"line2d_19\">\n      <g>\n       <use style=\"stroke:#000000;stroke-width:0.6;\" x=\"45.478125\" xlink:href=\"#ma84528d514\" y=\"192.718282\"/>\n      </g>\n     </g>\n    </g>\n    <g id=\"ytick_11\">\n     <g id=\"line2d_20\">\n      <g>\n       <use style=\"stroke:#000000;stroke-width:0.6;\" x=\"45.478125\" xlink:href=\"#ma84528d514\" y=\"183.381778\"/>\n      </g>\n     </g>\n    </g>\n    <g id=\"ytick_12\">\n     <g id=\"line2d_21\">\n      <g>\n       <use style=\"stroke:#000000;stroke-width:0.6;\" x=\"45.478125\" xlink:href=\"#ma84528d514\" y=\"176.757422\"/>\n      </g>\n     </g>\n    </g>\n    <g id=\"ytick_13\">\n     <g id=\"line2d_22\">\n      <g>\n       <use style=\"stroke:#000000;stroke-width:0.6;\" x=\"45.478125\" xlink:href=\"#ma84528d514\" y=\"171.619173\"/>\n      </g>\n     </g>\n    </g>\n    <g id=\"ytick_14\">\n     <g id=\"line2d_23\">\n      <g>\n       <use style=\"stroke:#000000;stroke-width:0.6;\" x=\"45.478125\" xlink:href=\"#ma84528d514\" y=\"167.420918\"/>\n      </g>\n     </g>\n    </g>\n    <g id=\"ytick_15\">\n     <g id=\"line2d_24\">\n      <g>\n       <use style=\"stroke:#000000;stroke-width:0.6;\" x=\"45.478125\" xlink:href=\"#ma84528d514\" y=\"163.871344\"/>\n      </g>\n     </g>\n    </g>\n    <g id=\"ytick_16\">\n     <g id=\"line2d_25\">\n      <g>\n       <use style=\"stroke:#000000;stroke-width:0.6;\" x=\"45.478125\" xlink:href=\"#ma84528d514\" y=\"160.796563\"/>\n      </g>\n     </g>\n    </g>\n    <g id=\"ytick_17\">\n     <g id=\"line2d_26\">\n      <g>\n       <use style=\"stroke:#000000;stroke-width:0.6;\" x=\"45.478125\" xlink:href=\"#ma84528d514\" y=\"158.084414\"/>\n      </g>\n     </g>\n    </g>\n    <g id=\"ytick_18\">\n     <g id=\"line2d_27\">\n      <g>\n       <use style=\"stroke:#000000;stroke-width:0.6;\" x=\"45.478125\" xlink:href=\"#ma84528d514\" y=\"139.697455\"/>\n      </g>\n     </g>\n    </g>\n    <g id=\"ytick_19\">\n     <g id=\"line2d_28\">\n      <g>\n       <use style=\"stroke:#000000;stroke-width:0.6;\" x=\"45.478125\" xlink:href=\"#ma84528d514\" y=\"130.360951\"/>\n      </g>\n     </g>\n    </g>\n    <g id=\"ytick_20\">\n     <g id=\"line2d_29\">\n      <g>\n       <use style=\"stroke:#000000;stroke-width:0.6;\" x=\"45.478125\" xlink:href=\"#ma84528d514\" y=\"123.736596\"/>\n      </g>\n     </g>\n    </g>\n    <g id=\"ytick_21\">\n     <g id=\"line2d_30\">\n      <g>\n       <use style=\"stroke:#000000;stroke-width:0.6;\" x=\"45.478125\" xlink:href=\"#ma84528d514\" y=\"118.598347\"/>\n      </g>\n     </g>\n    </g>\n    <g id=\"ytick_22\">\n     <g id=\"line2d_31\">\n      <g>\n       <use style=\"stroke:#000000;stroke-width:0.6;\" x=\"45.478125\" xlink:href=\"#ma84528d514\" y=\"114.400092\"/>\n      </g>\n     </g>\n    </g>\n    <g id=\"ytick_23\">\n     <g id=\"line2d_32\">\n      <g>\n       <use style=\"stroke:#000000;stroke-width:0.6;\" x=\"45.478125\" xlink:href=\"#ma84528d514\" y=\"110.850518\"/>\n      </g>\n     </g>\n    </g>\n    <g id=\"ytick_24\">\n     <g id=\"line2d_33\">\n      <g>\n       <use style=\"stroke:#000000;stroke-width:0.6;\" x=\"45.478125\" xlink:href=\"#ma84528d514\" y=\"107.775737\"/>\n      </g>\n     </g>\n    </g>\n    <g id=\"ytick_25\">\n     <g id=\"line2d_34\">\n      <g>\n       <use style=\"stroke:#000000;stroke-width:0.6;\" x=\"45.478125\" xlink:href=\"#ma84528d514\" y=\"105.063588\"/>\n      </g>\n     </g>\n    </g>\n    <g id=\"ytick_26\">\n     <g id=\"line2d_35\">\n      <g>\n       <use style=\"stroke:#000000;stroke-width:0.6;\" x=\"45.478125\" xlink:href=\"#ma84528d514\" y=\"86.676629\"/>\n      </g>\n     </g>\n    </g>\n    <g id=\"ytick_27\">\n     <g id=\"line2d_36\">\n      <g>\n       <use style=\"stroke:#000000;stroke-width:0.6;\" x=\"45.478125\" xlink:href=\"#ma84528d514\" y=\"77.340124\"/>\n      </g>\n     </g>\n    </g>\n    <g id=\"ytick_28\">\n     <g id=\"line2d_37\">\n      <g>\n       <use style=\"stroke:#000000;stroke-width:0.6;\" x=\"45.478125\" xlink:href=\"#ma84528d514\" y=\"70.715769\"/>\n      </g>\n     </g>\n    </g>\n    <g id=\"ytick_29\">\n     <g id=\"line2d_38\">\n      <g>\n       <use style=\"stroke:#000000;stroke-width:0.6;\" x=\"45.478125\" xlink:href=\"#ma84528d514\" y=\"65.57752\"/>\n      </g>\n     </g>\n    </g>\n    <g id=\"ytick_30\">\n     <g id=\"line2d_39\">\n      <g>\n       <use style=\"stroke:#000000;stroke-width:0.6;\" x=\"45.478125\" xlink:href=\"#ma84528d514\" y=\"61.379265\"/>\n      </g>\n     </g>\n    </g>\n    <g id=\"ytick_31\">\n     <g id=\"line2d_40\">\n      <g>\n       <use style=\"stroke:#000000;stroke-width:0.6;\" x=\"45.478125\" xlink:href=\"#ma84528d514\" y=\"57.829691\"/>\n      </g>\n     </g>\n    </g>\n    <g id=\"ytick_32\">\n     <g id=\"line2d_41\">\n      <g>\n       <use style=\"stroke:#000000;stroke-width:0.6;\" x=\"45.478125\" xlink:href=\"#ma84528d514\" y=\"54.75491\"/>\n      </g>\n     </g>\n    </g>\n    <g id=\"ytick_33\">\n     <g id=\"line2d_42\">\n      <g>\n       <use style=\"stroke:#000000;stroke-width:0.6;\" x=\"45.478125\" xlink:href=\"#ma84528d514\" y=\"52.042761\"/>\n      </g>\n     </g>\n    </g>\n    <g id=\"ytick_34\">\n     <g id=\"line2d_43\">\n      <g>\n       <use style=\"stroke:#000000;stroke-width:0.6;\" x=\"45.478125\" xlink:href=\"#ma84528d514\" y=\"33.655802\"/>\n      </g>\n     </g>\n    </g>\n    <g id=\"ytick_35\">\n     <g id=\"line2d_44\">\n      <g>\n       <use style=\"stroke:#000000;stroke-width:0.6;\" x=\"45.478125\" xlink:href=\"#ma84528d514\" y=\"24.319298\"/>\n      </g>\n     </g>\n    </g>\n    <g id=\"ytick_36\">\n     <g id=\"line2d_45\">\n      <g>\n       <use style=\"stroke:#000000;stroke-width:0.6;\" x=\"45.478125\" xlink:href=\"#ma84528d514\" y=\"17.694943\"/>\n      </g>\n     </g>\n    </g>\n    <g id=\"ytick_37\">\n     <g id=\"line2d_46\">\n      <g>\n       <use style=\"stroke:#000000;stroke-width:0.6;\" x=\"45.478125\" xlink:href=\"#ma84528d514\" y=\"12.556694\"/>\n      </g>\n     </g>\n    </g>\n    <g id=\"ytick_38\">\n     <g id=\"line2d_47\">\n      <g>\n       <use style=\"stroke:#000000;stroke-width:0.6;\" x=\"45.478125\" xlink:href=\"#ma84528d514\" y=\"8.358439\"/>\n      </g>\n     </g>\n    </g>\n    <g id=\"text_15\">\n     <!-- Counts / (40.0 eV kg days) -->\n     <g transform=\"translate(14.798438 182.405937)rotate(-90)scale(0.1 -0.1)\">\n      <defs>\n       <path d=\"M 64.40625 67.28125 \nL 64.40625 56.890625 \nQ 59.421875 61.53125 53.78125 63.8125 \nQ 48.140625 66.109375 41.796875 66.109375 \nQ 29.296875 66.109375 22.65625 58.46875 \nQ 16.015625 50.828125 16.015625 36.375 \nQ 16.015625 21.96875 22.65625 14.328125 \nQ 29.296875 6.6875 41.796875 6.6875 \nQ 48.140625 6.6875 53.78125 8.984375 \nQ 59.421875 11.28125 64.40625 15.921875 \nL 64.40625 5.609375 \nQ 59.234375 2.09375 53.4375 0.328125 \nQ 47.65625 -1.421875 41.21875 -1.421875 \nQ 24.65625 -1.421875 15.125 8.703125 \nQ 5.609375 18.84375 5.609375 36.375 \nQ 5.609375 53.953125 15.125 64.078125 \nQ 24.65625 74.21875 41.21875 74.21875 \nQ 47.75 74.21875 53.53125 72.484375 \nQ 59.328125 70.75 64.40625 67.28125 \nz\n\" id=\"DejaVuSans-67\"/>\n       <path d=\"M 30.609375 48.390625 \nQ 23.390625 48.390625 19.1875 42.75 \nQ 14.984375 37.109375 14.984375 27.296875 \nQ 14.984375 17.484375 19.15625 11.84375 \nQ 23.34375 6.203125 30.609375 6.203125 \nQ 37.796875 6.203125 41.984375 11.859375 \nQ 46.1875 17.53125 46.1875 27.296875 \nQ 46.1875 37.015625 41.984375 42.703125 \nQ 37.796875 48.390625 30.609375 48.390625 \nz\nM 30.609375 56 \nQ 42.328125 56 49.015625 48.375 \nQ 55.71875 40.765625 55.71875 27.296875 \nQ 55.71875 13.875 49.015625 6.21875 \nQ 42.328125 -1.421875 30.609375 -1.421875 \nQ 18.84375 -1.421875 12.171875 6.21875 \nQ 5.515625 13.875 5.515625 27.296875 \nQ 5.515625 40.765625 12.171875 48.375 \nQ 18.84375 56 30.609375 56 \nz\n\" id=\"DejaVuSans-111\"/>\n       <path d=\"M 8.5 21.578125 \nL 8.5 54.6875 \nL 17.484375 54.6875 \nL 17.484375 21.921875 \nQ 17.484375 14.15625 20.5 10.265625 \nQ 23.53125 6.390625 29.59375 6.390625 \nQ 36.859375 6.390625 41.078125 11.03125 \nQ 45.3125 15.671875 45.3125 23.6875 \nL 45.3125 54.6875 \nL 54.296875 54.6875 \nL 54.296875 0 \nL 45.3125 0 \nL 45.3125 8.40625 \nQ 42.046875 3.421875 37.71875 1 \nQ 33.40625 -1.421875 27.6875 -1.421875 \nQ 18.265625 -1.421875 13.375 4.4375 \nQ 8.5 10.296875 8.5 21.578125 \nz\nM 31.109375 56 \nz\n\" id=\"DejaVuSans-117\"/>\n       <path d=\"M 18.3125 70.21875 \nL 18.3125 54.6875 \nL 36.8125 54.6875 \nL 36.8125 47.703125 \nL 18.3125 47.703125 \nL 18.3125 18.015625 \nQ 18.3125 11.328125 20.140625 9.421875 \nQ 21.96875 7.515625 27.59375 7.515625 \nL 36.8125 7.515625 \nL 36.8125 0 \nL 27.59375 0 \nQ 17.1875 0 13.234375 3.875 \nQ 9.28125 7.765625 9.28125 18.015625 \nL 9.28125 47.703125 \nL 2.6875 47.703125 \nL 2.6875 54.6875 \nL 9.28125 54.6875 \nL 9.28125 70.21875 \nz\n\" id=\"DejaVuSans-116\"/>\n       <path d=\"M 44.28125 53.078125 \nL 44.28125 44.578125 \nQ 40.484375 46.53125 36.375 47.5 \nQ 32.28125 48.484375 27.875 48.484375 \nQ 21.1875 48.484375 17.84375 46.4375 \nQ 14.5 44.390625 14.5 40.28125 \nQ 14.5 37.15625 16.890625 35.375 \nQ 19.28125 33.59375 26.515625 31.984375 \nL 29.59375 31.296875 \nQ 39.15625 29.25 43.1875 25.515625 \nQ 47.21875 21.78125 47.21875 15.09375 \nQ 47.21875 7.46875 41.1875 3.015625 \nQ 35.15625 -1.421875 24.609375 -1.421875 \nQ 20.21875 -1.421875 15.453125 -0.5625 \nQ 10.6875 0.296875 5.421875 2 \nL 5.421875 11.28125 \nQ 10.40625 8.6875 15.234375 7.390625 \nQ 20.0625 6.109375 24.8125 6.109375 \nQ 31.15625 6.109375 34.5625 8.28125 \nQ 37.984375 10.453125 37.984375 14.40625 \nQ 37.984375 18.0625 35.515625 20.015625 \nQ 33.0625 21.96875 24.703125 23.78125 \nL 21.578125 24.515625 \nQ 13.234375 26.265625 9.515625 29.90625 \nQ 5.8125 33.546875 5.8125 39.890625 \nQ 5.8125 47.609375 11.28125 51.796875 \nQ 16.75 56 26.8125 56 \nQ 31.78125 56 36.171875 55.265625 \nQ 40.578125 54.546875 44.28125 53.078125 \nz\n\" id=\"DejaVuSans-115\"/>\n       <path d=\"M 25.390625 72.90625 \nL 33.6875 72.90625 \nL 8.296875 -9.28125 \nL 0 -9.28125 \nz\n\" id=\"DejaVuSans-47\"/>\n       <path d=\"M 37.796875 64.3125 \nL 12.890625 25.390625 \nL 37.796875 25.390625 \nz\nM 35.203125 72.90625 \nL 47.609375 72.90625 \nL 47.609375 25.390625 \nL 58.015625 25.390625 \nL 58.015625 17.1875 \nL 47.609375 17.1875 \nL 47.609375 0 \nL 37.796875 0 \nL 37.796875 17.1875 \nL 4.890625 17.1875 \nL 4.890625 26.703125 \nz\n\" id=\"DejaVuSans-52\"/>\n       <path d=\"M 45.40625 46.390625 \nL 45.40625 75.984375 \nL 54.390625 75.984375 \nL 54.390625 0 \nL 45.40625 0 \nL 45.40625 8.203125 \nQ 42.578125 3.328125 38.25 0.953125 \nQ 33.9375 -1.421875 27.875 -1.421875 \nQ 17.96875 -1.421875 11.734375 6.484375 \nQ 5.515625 14.40625 5.515625 27.296875 \nQ 5.515625 40.1875 11.734375 48.09375 \nQ 17.96875 56 27.875 56 \nQ 33.9375 56 38.25 53.625 \nQ 42.578125 51.265625 45.40625 46.390625 \nz\nM 14.796875 27.296875 \nQ 14.796875 17.390625 18.875 11.75 \nQ 22.953125 6.109375 30.078125 6.109375 \nQ 37.203125 6.109375 41.296875 11.75 \nQ 45.40625 17.390625 45.40625 27.296875 \nQ 45.40625 37.203125 41.296875 42.84375 \nQ 37.203125 48.484375 30.078125 48.484375 \nQ 22.953125 48.484375 18.875 42.84375 \nQ 14.796875 37.203125 14.796875 27.296875 \nz\n\" id=\"DejaVuSans-100\"/>\n       <path d=\"M 34.28125 27.484375 \nQ 23.390625 27.484375 19.1875 25 \nQ 14.984375 22.515625 14.984375 16.5 \nQ 14.984375 11.71875 18.140625 8.90625 \nQ 21.296875 6.109375 26.703125 6.109375 \nQ 34.1875 6.109375 38.703125 11.40625 \nQ 43.21875 16.703125 43.21875 25.484375 \nL 43.21875 27.484375 \nz\nM 52.203125 31.203125 \nL 52.203125 0 \nL 43.21875 0 \nL 43.21875 8.296875 \nQ 40.140625 3.328125 35.546875 0.953125 \nQ 30.953125 -1.421875 24.3125 -1.421875 \nQ 15.921875 -1.421875 10.953125 3.296875 \nQ 6 8.015625 6 15.921875 \nQ 6 25.140625 12.171875 29.828125 \nQ 18.359375 34.515625 30.609375 34.515625 \nL 43.21875 34.515625 \nL 43.21875 35.40625 \nQ 43.21875 41.609375 39.140625 45 \nQ 35.0625 48.390625 27.6875 48.390625 \nQ 23 48.390625 18.546875 47.265625 \nQ 14.109375 46.140625 10.015625 43.890625 \nL 10.015625 52.203125 \nQ 14.9375 54.109375 19.578125 55.046875 \nQ 24.21875 56 28.609375 56 \nQ 40.484375 56 46.34375 49.84375 \nQ 52.203125 43.703125 52.203125 31.203125 \nz\n\" id=\"DejaVuSans-97\"/>\n      </defs>\n      <use xlink:href=\"#DejaVuSans-67\"/>\n      <use x=\"69.824219\" xlink:href=\"#DejaVuSans-111\"/>\n      <use x=\"131.005859\" xlink:href=\"#DejaVuSans-117\"/>\n      <use x=\"194.384766\" xlink:href=\"#DejaVuSans-110\"/>\n      <use x=\"257.763672\" xlink:href=\"#DejaVuSans-116\"/>\n      <use x=\"296.972656\" xlink:href=\"#DejaVuSans-115\"/>\n      <use x=\"349.072266\" xlink:href=\"#DejaVuSans-32\"/>\n      <use x=\"380.859375\" xlink:href=\"#DejaVuSans-47\"/>\n      <use x=\"414.550781\" xlink:href=\"#DejaVuSans-32\"/>\n      <use x=\"446.337891\" xlink:href=\"#DejaVuSans-40\"/>\n      <use x=\"485.351562\" xlink:href=\"#DejaVuSans-52\"/>\n      <use x=\"548.974609\" xlink:href=\"#DejaVuSans-48\"/>\n      <use x=\"612.597656\" xlink:href=\"#DejaVuSans-46\"/>\n      <use x=\"644.384766\" xlink:href=\"#DejaVuSans-48\"/>\n      <use x=\"708.007812\" xlink:href=\"#DejaVuSans-32\"/>\n      <use x=\"739.794922\" xlink:href=\"#DejaVuSans-101\"/>\n      <use x=\"801.318359\" xlink:href=\"#DejaVuSans-86\"/>\n      <use x=\"869.726562\" xlink:href=\"#DejaVuSans-32\"/>\n      <use x=\"901.513672\" xlink:href=\"#DejaVuSans-107\"/>\n      <use x=\"959.423828\" xlink:href=\"#DejaVuSans-103\"/>\n      <use x=\"1022.900391\" xlink:href=\"#DejaVuSans-32\"/>\n      <use x=\"1054.6875\" xlink:href=\"#DejaVuSans-100\"/>\n      <use x=\"1118.164062\" xlink:href=\"#DejaVuSans-97\"/>\n      <use x=\"1179.443359\" xlink:href=\"#DejaVuSans-121\"/>\n      <use x=\"1238.623047\" xlink:href=\"#DejaVuSans-115\"/>\n      <use x=\"1290.722656\" xlink:href=\"#DejaVuSans-41\"/>\n     </g>\n    </g>\n   </g>\n   <g id=\"patch_3\">\n    <path clip-path=\"url(#p8c6992632b)\" d=\"M 45.478125 263.19625 \nL 45.478125 3.241691 \nL 46.801445 3.241691 \nL 46.801445 4.779278 \nL 48.124765 4.779278 \nL 48.124765 6.561423 \nL 49.448085 6.561423 \nL 49.448085 7.629411 \nL 50.771406 7.629411 \nL 50.771406 10.286783 \nL 52.094726 10.286783 \nL 52.094726 12.164003 \nL 53.418046 12.164003 \nL 53.418046 14.074752 \nL 54.741366 14.074752 \nL 54.741366 15.684167 \nL 56.064686 15.684167 \nL 56.064686 17.833519 \nL 57.388006 17.833519 \nL 57.388006 19.596178 \nL 58.711327 19.596178 \nL 58.711327 21.268516 \nL 60.034647 21.268516 \nL 60.034647 23.137418 \nL 61.357967 23.137418 \nL 61.357967 25.115823 \nL 62.681287 25.115823 \nL 62.681287 26.524721 \nL 64.004607 26.524721 \nL 64.004607 28.261088 \nL 65.327927 28.261088 \nL 65.327927 29.893396 \nL 66.651248 29.893396 \nL 66.651248 30.277922 \nL 67.974568 30.277922 \nL 67.974568 34.547874 \nL 69.297888 34.547874 \nL 69.297888 35.475903 \nL 70.621208 35.475903 \nL 70.621208 37.465894 \nL 71.944528 37.465894 \nL 71.944528 39.025477 \nL 73.267848 39.025477 \nL 73.267848 41.46127 \nL 74.591168 41.46127 \nL 74.591168 41.819542 \nL 75.914489 41.819542 \nL 75.914489 45.360911 \nL 77.237809 45.360911 \nL 77.237809 45.533828 \nL 78.561129 45.533828 \nL 78.561129 48.015709 \nL 79.884449 48.015709 \nL 79.884449 50.508733 \nL 81.207769 50.508733 \nL 81.207769 52.956119 \nL 82.531089 52.956119 \nL 82.531089 53.990587 \nL 83.85441 53.990587 \nL 83.85441 56.118534 \nL 85.17773 56.118534 \nL 85.17773 58.061117 \nL 86.50105 58.061117 \nL 86.50105 60.073761 \nL 87.82437 60.073761 \nL 87.82437 62.080639 \nL 89.14769 62.080639 \nL 89.14769 63.677793 \nL 90.47101 63.677793 \nL 90.47101 63.424751 \nL 91.794331 63.424751 \nL 91.794331 67.100499 \nL 93.117651 67.100499 \nL 93.117651 70.316288 \nL 94.440971 70.316288 \nL 94.440971 69.319787 \nL 95.764291 69.319787 \nL 95.764291 74.121875 \nL 97.087611 74.121875 \nL 97.087611 72.510963 \nL 98.410931 72.510963 \nL 98.410931 74.799178 \nL 99.734251 74.799178 \nL 99.734251 75.497009 \nL 101.057572 75.497009 \nL 101.057572 78.683398 \nL 102.380892 78.683398 \nL 102.380892 80.723993 \nL 103.704212 80.723993 \nL 103.704212 82.382628 \nL 105.027532 82.382628 \nL 105.027532 83.159973 \nL 106.350852 83.159973 \nL 106.350852 88.101412 \nL 107.674172 88.101412 \nL 107.674172 85.884479 \nL 108.997493 85.884479 \nL 108.997493 88.101412 \nL 110.320813 88.101412 \nL 110.320813 95.727084 \nL 111.644133 95.727084 \nL 111.644133 93.923363 \nL 112.967453 93.923363 \nL 112.967453 97.499239 \nL 114.290773 97.499239 \nL 114.290773 95.38845 \nL 115.614093 95.38845 \nL 115.614093 97.133729 \nL 116.937414 97.133729 \nL 116.937414 94.240978 \nL 118.260734 94.240978 \nL 118.260734 80.723993 \nL 119.584054 80.723993 \nL 119.584054 63.133006 \nL 120.907374 63.133006 \nL 120.907374 43.416425 \nL 122.230694 43.416425 \nL 122.230694 25.28329 \nL 123.554014 25.28329 \nL 123.554014 10.822949 \nL 124.877334 10.822949 \nL 124.877334 -0.476285 \nL 126.200655 -0.476285 \nL 126.200655 -1 \nM 132.817255 -1 \nL 132.817255 4.848373 \nL 134.140576 4.848373 \nL 134.140576 17.903121 \nL 135.463896 17.903121 \nL 135.463896 35.080585 \nL 136.787216 35.080585 \nL 136.787216 54.046342 \nL 138.110536 54.046342 \nL 138.110536 75.926089 \nL 139.433856 75.926089 \nL 139.433856 103.577482 \nL 140.757176 103.577482 \nL 140.757176 118.598347 \nL 142.080497 118.598347 \nL 142.080497 132.787051 \nL 144.727137 132.787051 \nL 144.727137 142.123555 \nL 146.050457 142.123555 \nL 146.050457 137.502781 \nL 147.373777 137.502781 \nL 147.373777 132.787051 \nL 148.697097 132.787051 \nL 148.697097 146.32181 \nL 150.020417 146.32181 \nL 150.020417 137.502781 \nL 151.343738 137.502781 \nL 151.343738 143.439722 \nL 152.667058 143.439722 \nL 152.667058 160.796563 \nL 153.990378 160.796563 \nL 153.990378 153.46364 \nL 155.313698 153.46364 \nL 155.313698 160.796563 \nL 157.960338 160.796563 \nL 157.960338 158.084414 \nL 159.283659 158.084414 \nL 159.283659 163.871344 \nL 160.606979 163.871344 \nL 160.606979 171.619173 \nL 161.930299 171.619173 \nL 161.930299 149.616944 \nL 163.253619 149.616944 \nL 163.253619 183.381778 \nL 164.576939 183.381778 \nL 164.576939 163.871344 \nL 165.900259 163.871344 \nL 165.900259 167.420918 \nL 167.22358 167.420918 \nL 167.22358 171.619173 \nL 168.5469 171.619173 \nL 168.5469 176.757422 \nL 169.87022 176.757422 \nL 169.87022 208.679141 \nL 171.19354 208.679141 \nL 171.19354 167.420918 \nL 172.51686 167.420918 \nL 172.51686 208.679141 \nL 173.84018 208.679141 \nL 173.84018 183.381778 \nL 175.1635 183.381778 \nL 175.1635 167.420918 \nL 176.486821 167.420918 \nL 176.486821 192.718282 \nL 177.810141 192.718282 \nL 177.810141 176.757422 \nL 179.133461 176.757422 \nL 179.133461 208.679141 \nL 180.456781 208.679141 \nL 180.456781 263.19625 \nM 181.780101 263.19625 \nL 181.780101 176.757422 \nL 183.103421 176.757422 \nL 183.103421 192.718282 \nL 184.426742 192.718282 \nL 184.426742 183.381778 \nL 185.750062 183.381778 \nL 185.750062 192.718282 \nL 187.073382 192.718282 \nL 187.073382 263.19625 \nM 189.720022 263.19625 \nL 189.720022 208.679141 \nL 192.366663 208.679141 \nL 192.366663 192.718282 \nL 193.689983 192.718282 \nL 193.689983 208.679141 \nL 196.336623 208.679141 \nL 196.336623 263.19625 \nM 198.983263 263.19625 \nL 198.983263 192.718282 \nL 200.306583 192.718282 \nL 200.306583 263.19625 \nM 201.629904 263.19625 \nL 201.629904 208.679141 \nL 204.276544 208.679141 \nL 204.276544 263.19625 \nM 206.923184 263.19625 \nL 206.923184 208.679141 \nL 208.246504 208.679141 \nL 208.246504 263.19625 \nM 212.216465 263.19625 \nL 212.216465 208.679141 \nL 213.539785 208.679141 \nL 213.539785 263.19625 \nM 214.863105 263.19625 \nL 214.863105 208.679141 \nL 217.509746 208.679141 \nL 217.509746 263.19625 \nM 237.359548 263.19625 \nL 237.359548 208.679141 \nL 238.682868 208.679141 \nL 238.682868 263.19625 \nL 238.682868 263.19625 \n\" style=\"fill:none;stroke:#1f77b4;stroke-linejoin:miter;\"/>\n   </g>\n   <g id=\"patch_4\">\n    <path clip-path=\"url(#p8c6992632b)\" d=\"M 45.478125 263.19625 \nL 45.478125 -1 \nM 58.711327 -1 \nL 58.711327 1.762885 \nL 60.034647 1.762885 \nL 60.034647 5.106841 \nL 61.357967 5.106841 \nL 61.357967 8.07239 \nL 62.681287 8.07239 \nL 62.681287 13.234341 \nL 64.004607 13.234341 \nL 64.004607 13.616932 \nL 65.327927 13.616932 \nL 65.327927 18.337046 \nL 66.651248 18.337046 \nL 66.651248 20.868622 \nL 67.974568 20.868622 \nL 67.974568 24.589522 \nL 69.297888 24.589522 \nL 69.297888 28.656129 \nL 70.621208 28.656129 \nL 70.621208 30.487665 \nL 71.944528 30.487665 \nL 71.944528 32.863652 \nL 73.267848 32.863652 \nL 73.267848 38.015811 \nL 74.591168 38.015811 \nL 74.591168 38.794051 \nL 75.914489 38.794051 \nL 75.914489 41.868832 \nL 77.237809 41.868832 \nL 77.237809 40.589244 \nL 78.561129 40.589244 \nL 78.561129 43.753103 \nL 79.884449 43.753103 \nL 79.884449 45.514551 \nL 81.207769 45.514551 \nL 81.207769 50.919287 \nL 82.531089 50.919287 \nL 82.531089 49.160673 \nL 83.85441 49.160673 \nL 83.85441 51.411855 \nL 85.17773 51.411855 \nL 85.17773 56.395041 \nL 86.50105 56.395041 \nL 86.50105 59.53615 \nL 87.82437 59.53615 \nL 87.82437 55.190759 \nL 89.14769 55.190759 \nL 89.14769 59.359699 \nL 90.47101 59.359699 \nL 90.47101 57.829691 \nL 91.794331 57.829691 \nL 91.794331 58.161016 \nL 93.117651 58.161016 \nL 93.117651 63.593137 \nL 94.440971 63.593137 \nL 94.440971 59.010804 \nL 95.764291 59.010804 \nL 95.764291 61.766277 \nL 97.087611 61.766277 \nL 97.087611 62.763257 \nL 98.410931 62.763257 \nL 98.410931 63.805365 \nL 99.734251 63.805365 \nL 99.734251 63.593137 \nL 101.057572 63.593137 \nL 101.057572 61.96225 \nL 102.380892 61.96225 \nL 102.380892 64.235783 \nL 103.704212 64.235783 \nL 103.704212 64.019568 \nL 105.027532 64.019568 \nL 105.027532 64.89688 \nL 106.350852 64.89688 \nL 106.350852 62.560378 \nL 107.674172 62.560378 \nL 107.674172 62.763257 \nL 108.997493 62.763257 \nL 108.997493 64.674399 \nL 111.644133 64.674399 \nL 111.644133 62.763257 \nL 112.967453 62.763257 \nL 112.967453 67.002304 \nL 114.290773 67.002304 \nL 114.290773 61.96225 \nL 115.614093 61.96225 \nL 115.614093 60.624225 \nL 116.937414 60.624225 \nL 116.937414 62.359271 \nL 118.260734 62.359271 \nL 118.260734 66.042721 \nL 119.584054 66.042721 \nL 119.584054 64.89688 \nL 120.907374 64.89688 \nL 120.907374 62.560378 \nL 122.230694 62.560378 \nL 122.230694 66.278894 \nL 123.554014 66.278894 \nL 123.554014 64.454046 \nL 124.877334 64.454046 \nL 124.877334 62.359271 \nL 126.200655 62.359271 \nL 126.200655 64.674399 \nL 127.523975 64.674399 \nL 127.523975 65.808946 \nL 128.847295 65.808946 \nL 128.847295 60.255791 \nL 130.170615 60.255791 \nL 130.170615 63.382846 \nL 131.493935 63.382846 \nL 131.493935 62.763257 \nL 132.817255 62.763257 \nL 132.817255 63.805365 \nL 134.140576 63.805365 \nL 134.140576 67.248581 \nL 135.463896 67.248581 \nL 135.463896 65.348398 \nL 136.787216 65.348398 \nL 136.787216 61.571958 \nL 138.110536 61.571958 \nL 138.110536 63.593137 \nL 139.433856 63.593137 \nL 139.433856 66.758633 \nL 140.757176 66.758633 \nL 140.757176 65.121532 \nL 142.080497 65.121532 \nL 142.080497 64.89688 \nL 143.403817 64.89688 \nL 143.403817 62.359271 \nL 144.727137 62.359271 \nL 144.727137 69.592295 \nL 146.050457 69.592295 \nL 146.050457 63.174459 \nL 147.373777 63.174459 \nL 147.373777 61.571958 \nL 148.697097 61.571958 \nL 148.697097 65.57752 \nL 150.020417 65.57752 \nL 150.020417 63.174459 \nL 151.343738 63.174459 \nL 151.343738 66.042721 \nL 152.667058 66.042721 \nL 152.667058 65.121532 \nL 153.990378 65.121532 \nL 153.990378 61.96225 \nL 155.313698 61.96225 \nL 155.313698 58.667116 \nL 156.637018 58.667116 \nL 156.637018 61.96225 \nL 157.960338 61.96225 \nL 157.960338 63.382846 \nL 159.283659 63.382846 \nL 159.283659 60.998651 \nL 160.606979 60.998651 \nL 160.606979 64.674399 \nL 161.930299 64.674399 \nL 161.930299 62.96794 \nL 163.253619 62.96794 \nL 163.253619 64.674399 \nL 164.576939 64.674399 \nL 164.576939 62.359271 \nL 165.900259 62.359271 \nL 165.900259 69.319787 \nL 167.22358 69.319787 \nL 167.22358 65.121532 \nL 168.5469 65.121532 \nL 168.5469 66.517514 \nL 169.87022 66.517514 \nL 169.87022 67.49752 \nL 171.19354 67.49752 \nL 171.19354 65.348398 \nL 172.51686 65.348398 \nL 172.51686 66.042721 \nL 173.84018 66.042721 \nL 173.84018 66.517514 \nL 175.1635 66.517514 \nL 175.1635 67.248581 \nL 176.486821 67.248581 \nL 176.486821 63.382846 \nL 177.810141 63.382846 \nL 177.810141 61.96225 \nL 179.133461 61.96225 \nL 179.133461 68.260904 \nL 180.456781 68.260904 \nL 180.456781 68.521095 \nL 181.780101 68.521095 \nL 181.780101 67.248581 \nL 183.103421 67.248581 \nL 183.103421 64.674399 \nL 184.426742 64.674399 \nL 184.426742 61.188172 \nL 185.750062 61.188172 \nL 185.750062 64.019568 \nL 187.073382 64.019568 \nL 187.073382 68.260904 \nL 188.396702 68.260904 \nL 188.396702 63.593137 \nL 189.720022 63.593137 \nL 189.720022 65.121532 \nL 191.043342 65.121532 \nL 191.043342 67.74918 \nL 192.366663 67.74918 \nL 192.366663 64.454046 \nL 193.689983 64.454046 \nL 193.689983 61.96225 \nL 195.013303 61.96225 \nL 195.013303 65.57752 \nL 196.336623 65.57752 \nL 196.336623 59.184591 \nL 197.659943 59.184591 \nL 197.659943 66.517514 \nL 198.983263 66.517514 \nL 198.983263 60.255791 \nL 200.306583 60.255791 \nL 200.306583 64.235783 \nL 202.953224 64.235783 \nL 202.953224 64.89688 \nL 204.276544 64.89688 \nL 204.276544 66.278894 \nL 205.599864 66.278894 \nL 205.599864 61.379265 \nL 206.923184 61.379265 \nL 206.923184 66.042721 \nL 209.569825 66.042721 \nL 209.569825 66.517514 \nL 210.893145 66.517514 \nL 210.893145 63.805365 \nL 212.216465 63.805365 \nL 212.216465 67.002304 \nL 213.539785 67.002304 \nL 213.539785 66.042721 \nL 214.863105 66.042721 \nL 214.863105 68.00362 \nL 216.186425 68.00362 \nL 216.186425 66.278894 \nL 217.509746 66.278894 \nL 217.509746 65.808946 \nL 218.833066 65.808946 \nL 218.833066 64.89688 \nL 220.156386 64.89688 \nL 220.156386 64.454046 \nL 221.479706 64.454046 \nL 221.479706 61.571958 \nL 222.803026 61.571958 \nL 222.803026 66.278894 \nL 224.126346 66.278894 \nL 224.126346 61.96225 \nL 225.449667 61.96225 \nL 225.449667 64.454046 \nL 226.772987 64.454046 \nL 226.772987 64.019568 \nL 228.096307 64.019568 \nL 228.096307 62.560378 \nL 229.419627 62.560378 \nL 229.419627 61.571958 \nL 230.742947 61.571958 \nL 230.742947 63.174459 \nL 232.066267 63.174459 \nL 232.066267 65.348398 \nL 233.389587 65.348398 \nL 233.389587 62.763257 \nL 234.712908 62.763257 \nL 234.712908 62.359271 \nL 236.036228 62.359271 \nL 236.036228 63.382846 \nL 237.359548 63.382846 \nL 237.359548 61.571958 \nL 238.682868 61.571958 \nL 238.682868 68.521095 \nL 240.006188 68.521095 \nL 240.006188 65.121532 \nL 241.329508 65.121532 \nL 241.329508 65.348398 \nL 242.652829 65.348398 \nL 242.652829 70.42972 \nL 243.976149 70.42972 \nL 243.976149 63.593137 \nL 245.299469 63.593137 \nL 245.299469 66.042721 \nL 246.622789 66.042721 \nL 246.622789 61.766277 \nL 247.946109 61.766277 \nL 247.946109 64.235783 \nL 249.269429 64.235783 \nL 249.269429 64.454046 \nL 250.59275 64.454046 \nL 250.59275 66.517514 \nL 251.91607 66.517514 \nL 251.91607 63.805365 \nL 253.23939 63.805365 \nL 253.23939 64.89688 \nL 254.56271 64.89688 \nL 254.56271 62.359271 \nL 255.88603 62.359271 \nL 255.88603 64.674399 \nL 257.20935 64.674399 \nL 257.20935 60.810677 \nL 258.53267 60.810677 \nL 258.53267 64.235783 \nL 259.855991 64.235783 \nL 259.855991 63.382846 \nL 261.179311 63.382846 \nL 261.179311 64.89688 \nL 262.502631 64.89688 \nL 262.502631 59.359699 \nL 263.825951 59.359699 \nL 263.825951 64.019568 \nL 265.149271 64.019568 \nL 265.149271 64.89688 \nL 266.472591 64.89688 \nL 266.472591 65.57752 \nL 267.795912 65.57752 \nL 267.795912 66.758633 \nL 269.119232 66.758633 \nL 269.119232 65.348398 \nL 270.442552 65.348398 \nL 270.442552 66.278894 \nL 271.765872 66.278894 \nL 271.765872 63.593137 \nL 273.089192 63.593137 \nL 273.089192 67.248581 \nL 274.412512 67.248581 \nL 274.412512 64.019568 \nL 275.735833 64.019568 \nL 275.735833 61.766277 \nL 277.059153 61.766277 \nL 277.059153 62.763257 \nL 278.382473 62.763257 \nL 278.382473 63.174459 \nL 279.705793 63.174459 \nL 279.705793 64.019568 \nL 281.029113 64.019568 \nL 281.029113 59.53615 \nL 282.352433 59.53615 \nL 282.352433 66.517514 \nL 283.675753 66.517514 \nL 283.675753 65.121532 \nL 284.999074 65.121532 \nL 284.999074 62.96794 \nL 286.322394 62.96794 \nL 286.322394 64.019568 \nL 287.645714 64.019568 \nL 287.645714 64.235783 \nL 288.969034 64.235783 \nL 288.969034 67.248581 \nL 290.292354 67.248581 \nL 290.292354 62.560378 \nL 291.615674 62.560378 \nL 291.615674 60.073761 \nL 292.938995 60.073761 \nL 292.938995 63.593137 \nL 294.262315 63.593137 \nL 294.262315 64.674399 \nL 295.585635 64.674399 \nL 295.585635 69.868067 \nL 296.908955 69.868067 \nL 296.908955 263.19625 \nL 296.908955 263.19625 \n\" style=\"fill:none;stroke:#ff7f0e;stroke-linejoin:miter;\"/>\n   </g>\n   <g id=\"patch_5\">\n    <path clip-path=\"url(#p8c6992632b)\" d=\"M 45.478125 263.19625 \nL 45.478125 71.157486 \nL 46.801445 71.157486 \nL 46.801445 72.556646 \nL 48.124765 72.556646 \nL 48.124765 73.585324 \nL 49.448085 73.585324 \nL 49.448085 74.219975 \nL 50.771406 74.219975 \nL 50.771406 75.257366 \nL 52.094726 75.257366 \nL 52.094726 75.520638 \nL 53.418046 75.520638 \nL 53.418046 76.894172 \nL 54.741366 76.894172 \nL 54.741366 77.763591 \nL 56.064686 77.763591 \nL 56.064686 78.618396 \nL 57.388006 78.618396 \nL 57.388006 79.193476 \nL 58.711327 79.193476 \nL 58.711327 80.243031 \nL 60.034647 80.243031 \nL 60.034647 81.519966 \nL 61.357967 81.519966 \nL 61.357967 82.053761 \nL 62.681287 82.053761 \nL 62.681287 83.578832 \nL 64.004607 83.578832 \nL 64.004607 84.025966 \nL 65.327927 84.025966 \nL 65.327927 84.904473 \nL 66.651248 84.904473 \nL 66.651248 85.973643 \nL 67.974568 85.973643 \nL 67.974568 86.684305 \nL 69.297888 86.684305 \nL 69.297888 87.809315 \nL 70.621208 87.809315 \nL 70.621208 88.183212 \nL 71.944528 88.183212 \nL 71.944528 89.394535 \nL 73.267848 89.394535 \nL 73.267848 90.176366 \nL 74.591168 90.176366 \nL 74.591168 91.115615 \nL 75.914489 91.115615 \nL 75.914489 92.645197 \nL 77.237809 92.645197 \nL 77.237809 93.475623 \nL 78.561129 93.475623 \nL 78.561129 94.769358 \nL 79.884449 94.769358 \nL 79.884449 95.761222 \nL 81.207769 95.761222 \nL 81.207769 96.678926 \nL 82.531089 96.678926 \nL 82.531089 97.462426 \nL 83.85441 97.462426 \nL 83.85441 95.990118 \nL 85.17773 95.990118 \nL 85.17773 99.219872 \nL 86.50105 99.219872 \nL 86.50105 99.836814 \nL 87.82437 99.836814 \nL 87.82437 100.582793 \nL 89.14769 100.582793 \nL 89.14769 101.528638 \nL 91.794331 101.557916 \nL 91.794331 103.228346 \nL 93.117651 103.228346 \nL 93.117651 104.424385 \nL 94.440971 104.424385 \nL 94.440971 104.84291 \nL 95.764291 104.84291 \nL 95.764291 105.114815 \nL 97.087611 105.114815 \nL 97.087611 106.506524 \nL 98.410931 106.506524 \nL 98.410931 109.017526 \nL 99.734251 109.017526 \nL 99.734251 109.180116 \nL 101.057572 109.180116 \nL 101.057572 109.612457 \nL 103.704212 109.529478 \nL 103.704212 111.38295 \nL 105.027532 111.38295 \nL 105.027532 111.950977 \nL 106.350852 111.950977 \nL 106.350852 113.969201 \nL 107.674172 113.969201 \nL 107.674172 115.286845 \nL 108.997493 115.286845 \nL 108.997493 114.709179 \nL 110.320813 114.709179 \nL 110.320813 115.879376 \nL 111.644133 115.879376 \nL 111.644133 115.473729 \nL 112.967453 115.473729 \nL 112.967453 117.54809 \nL 114.290773 117.54809 \nL 114.290773 117.843307 \nL 116.937414 117.932615 \nL 116.937414 120.719454 \nL 118.260734 120.719454 \nL 118.260734 120.187022 \nL 119.584054 120.187022 \nL 119.584054 120.551742 \nL 120.907374 120.551742 \nL 120.907374 120.219941 \nL 122.230694 120.219941 \nL 122.230694 122.686339 \nL 123.554014 122.686339 \nL 123.554014 123.355981 \nL 124.877334 123.355981 \nL 124.877334 121.646827 \nL 126.200655 121.646827 \nL 126.200655 124.123608 \nL 127.523975 124.123608 \nL 127.523975 123.431603 \nL 128.847295 123.431603 \nL 128.847295 123.20548 \nL 130.170615 123.20548 \nL 130.170615 125.950467 \nL 131.493935 125.950467 \nL 131.493935 126.376899 \nL 132.817255 126.376899 \nL 132.817255 126.767558 \nL 134.140576 126.767558 \nL 134.140576 124.517235 \nL 135.463896 124.517235 \nL 135.463896 125.490337 \nL 138.110536 125.531789 \nL 138.110536 124.756683 \nL 139.433856 124.756683 \nL 139.433856 126.120093 \nL 140.757176 126.120093 \nL 140.757176 126.723823 \nL 142.080497 126.723823 \nL 142.080497 123.243013 \nL 143.403817 123.243013 \nL 143.403817 124.123608 \nL 144.727137 124.123608 \nL 144.727137 124.517235 \nL 146.050457 124.517235 \nL 146.050457 121.646827 \nL 147.373777 121.646827 \nL 147.373777 123.280608 \nL 148.697097 123.280608 \nL 148.697097 122.467383 \nL 150.020417 122.467383 \nL 150.020417 121.858082 \nL 151.343738 121.858082 \nL 151.343738 119.126291 \nL 152.667058 119.126291 \nL 152.667058 120.888395 \nL 153.990378 120.888395 \nL 153.990378 119.538341 \nL 155.313698 119.538341 \nL 155.313698 117.992347 \nL 156.637018 117.992347 \nL 156.637018 117.873038 \nL 157.960338 117.873038 \nL 157.960338 116.741065 \nL 159.283659 116.741065 \nL 159.283659 116.459563 \nL 160.606979 116.459563 \nL 160.606979 112.651639 \nL 164.576939 112.699117 \nL 164.576939 111.315718 \nL 165.900259 111.315718 \nL 165.900259 110.523893 \nL 167.22358 110.523893 \nL 167.22358 109.758394 \nL 168.5469 109.758394 \nL 168.5469 108.635915 \nL 169.87022 108.635915 \nL 169.87022 108.457336 \nL 171.19354 108.457336 \nL 171.19354 107.300944 \nL 172.51686 107.300944 \nL 172.51686 105.251981 \nL 173.84018 105.251981 \nL 173.84018 105.51139 \nL 175.1635 105.51139 \nL 175.1635 104.259081 \nL 176.486821 104.259081 \nL 176.486821 103.181144 \nL 177.810141 103.181144 \nL 177.810141 102.915479 \nL 179.133461 102.915479 \nL 179.133461 101.867597 \nL 180.456781 101.867597 \nL 180.456781 100.568757 \nL 181.780101 100.568757 \nL 181.780101 100.359232 \nL 183.103421 100.359232 \nL 183.103421 99.973147 \nL 184.426742 99.973147 \nL 184.426742 98.083798 \nL 185.750062 98.083798 \nL 185.750062 98.375358 \nL 187.073382 98.375358 \nL 187.073382 97.109566 \nL 188.396702 97.109566 \nL 188.396702 96.454849 \nL 189.720022 96.454849 \nL 189.720022 96.738257 \nL 191.043342 96.738257 \nL 191.043342 95.772613 \nL 192.366663 95.772613 \nL 192.366663 95.154336 \nL 193.689983 95.154336 \nL 193.689983 94.262308 \nL 196.336623 94.25164 \nL 196.336623 93.672389 \nL 197.659943 93.672389 \nL 197.659943 93.300984 \nL 198.983263 93.300984 \nL 198.983263 93.087065 \nL 200.306583 93.087065 \nL 200.306583 92.635252 \nL 201.629904 92.635252 \nL 201.629904 93.147982 \nL 202.953224 93.147982 \nL 202.953224 91.949593 \nL 204.276544 91.949593 \nL 204.276544 93.321461 \nL 206.923184 93.229456 \nL 206.923184 91.747814 \nL 208.246504 91.747814 \nL 208.246504 91.576257 \nL 209.569825 91.576257 \nL 209.569825 92.046303 \nL 210.893145 92.046303 \nL 210.893145 92.201889 \nL 212.216465 92.201889 \nL 212.216465 91.652347 \nL 214.863105 91.623784 \nL 214.863105 92.834964 \nL 216.186425 92.834964 \nL 216.186425 91.604761 \nL 218.833066 91.642822 \nL 218.833066 92.378189 \nL 220.156386 92.378189 \nL 220.156386 92.085101 \nL 221.479706 92.085101 \nL 221.479706 92.605444 \nL 222.803026 92.605444 \nL 222.803026 91.786112 \nL 224.126346 91.786112 \nL 224.126346 93.19887 \nL 225.449667 93.19887 \nL 225.449667 93.755744 \nL 228.096307 93.682792 \nL 228.096307 94.155851 \nL 229.419627 94.155851 \nL 229.419627 94.955543 \nL 230.742947 94.955543 \nL 230.742947 96.151709 \nL 234.712908 96.256191 \nL 234.712908 97.820776 \nL 236.036228 97.820776 \nL 236.036228 96.478333 \nL 237.359548 96.478333 \nL 237.359548 97.983244 \nL 238.682868 97.983244 \nL 238.682868 99.379227 \nL 241.329508 99.272868 \nL 241.329508 100.331439 \nL 242.652829 100.331439 \nL 242.652829 103.513607 \nL 243.976149 103.513607 \nL 243.976149 101.986675 \nL 245.299469 101.986675 \nL 245.299469 102.622142 \nL 246.622789 102.622142 \nL 246.622789 103.434013 \nL 247.946109 103.434013 \nL 247.946109 105.756171 \nL 249.269429 105.756171 \nL 249.269429 106.470233 \nL 250.59275 106.470233 \nL 250.59275 107.095096 \nL 251.91607 107.095096 \nL 251.91607 107.833375 \nL 253.23939 107.833375 \nL 253.23939 108.339049 \nL 254.56271 108.339049 \nL 254.56271 110.053071 \nL 255.88603 110.053071 \nL 255.88603 112.913986 \nL 257.20935 112.913986 \nL 257.20935 112.089414 \nL 258.53267 112.089414 \nL 258.53267 113.521584 \nL 259.855991 113.521584 \nL 259.855991 115.689184 \nL 261.179311 115.689184 \nL 261.179311 117.665723 \nL 262.502631 117.665723 \nL 262.502631 117.962462 \nL 263.825951 117.962462 \nL 263.825951 116.826192 \nL 265.149271 116.826192 \nL 265.149271 120.484998 \nL 266.472591 120.484998 \nL 266.472591 122.178644 \nL 267.795912 122.178644 \nL 267.795912 122.467383 \nL 269.119232 122.467383 \nL 269.119232 124.716601 \nL 270.442552 124.716601 \nL 270.442552 127.120464 \nL 271.765872 127.120464 \nL 271.765872 128.874845 \nL 273.089192 128.874845 \nL 273.089192 130.10651 \nL 274.412512 130.10651 \nL 274.412512 131.035963 \nL 275.735833 131.035963 \nL 275.735833 135.181586 \nL 277.059153 135.181586 \nL 277.059153 133.362747 \nL 278.382473 133.362747 \nL 278.382473 139.392462 \nL 279.705793 139.392462 \nL 279.705793 140.241111 \nL 281.029113 140.241111 \nL 281.029113 139.928881 \nL 282.352433 139.928881 \nL 282.352433 142.64103 \nL 283.675753 142.64103 \nL 283.675753 143.259825 \nL 284.999074 143.259825 \nL 284.999074 148.020398 \nL 286.322394 148.020398 \nL 286.322394 149.735333 \nL 287.645714 149.735333 \nL 287.645714 148.919113 \nL 288.969034 148.919113 \nL 288.969034 153.886159 \nL 290.292354 153.886159 \nL 290.292354 157.083098 \nL 291.615674 157.083098 \nL 291.615674 155.052315 \nL 292.938995 155.052315 \nL 292.938995 158.601889 \nL 294.262315 158.601889 \nL 294.262315 162.591757 \nL 295.585635 162.591757 \nL 295.585635 163.871344 \nL 296.908955 163.871344 \nL 296.908955 162.800144 \nL 298.232275 162.800144 \nL 298.232275 166.665879 \nL 299.555595 166.665879 \nL 299.555595 168.737085 \nL 300.878916 168.737085 \nL 300.878916 173.875334 \nL 302.202236 173.875334 \nL 302.202236 177.144434 \nL 303.525556 177.144434 \nL 303.525556 176.002383 \nL 304.848876 176.002383 \nL 304.848876 179.183522 \nL 306.172196 179.183522 \nL 306.172196 182.380461 \nL 307.495516 182.380461 \nL 307.495516 182.875677 \nL 308.818836 182.875677 \nL 308.818836 193.498921 \nL 310.142157 193.498921 \nL 310.142157 191.232176 \nL 311.465477 191.232176 \nL 311.465477 193.498921 \nL 314.112117 193.498921 \nL 314.112117 196.916537 \nL 315.435437 196.916537 \nL 315.435437 197.856531 \nL 316.758757 197.856531 \nL 316.758757 202.054786 \nL 318.082078 202.054786 \nL 318.082078 197.856531 \nL 319.405398 197.856531 \nL 319.405398 220.441745 \nL 320.728718 220.441745 \nL 320.728718 215.820971 \nL 323.375358 215.820971 \nL 323.375358 223.153894 \nL 324.698678 223.153894 \nL 324.698678 211.974274 \nL 326.021999 211.974274 \nL 326.021999 226.228675 \nL 327.345319 226.228675 \nL 327.345319 229.778249 \nL 328.668639 229.778249 \nL 328.668639 218.015645 \nL 329.991959 218.015645 \nL 329.991959 215.820971 \nL 331.315279 215.820971 \nL 331.315279 233.976504 \nL 332.638599 233.976504 \nL 332.638599 255.075612 \nL 333.961919 255.075612 \nL 333.961919 245.739108 \nL 335.28524 245.739108 \nL 335.28524 255.075612 \nL 336.60856 255.075612 \nL 336.60856 229.778249 \nL 337.93188 229.778249 \nL 337.93188 255.075612 \nL 339.2552 255.075612 \nL 339.2552 263.19625 \nM 344.548481 263.19625 \nL 344.548481 255.075612 \nL 347.195121 255.075612 \nL 347.195121 263.19625 \nM 349.841761 263.19625 \nL 349.841761 245.739108 \nL 351.165082 245.739108 \nL 351.165082 263.19625 \nM 356.458362 263.19625 \nL 356.458362 255.075612 \nL 357.781682 255.075612 \nL 357.781682 263.19625 \nL 357.781682 263.19625 \n\" style=\"fill:none;stroke:#2ca02c;stroke-linejoin:miter;\"/>\n   </g>\n   <g id=\"patch_6\">\n    <path d=\"M 45.478125 224.64 \nL 45.478125 7.2 \n\" style=\"fill:none;stroke:#000000;stroke-linecap:square;stroke-linejoin:miter;stroke-width:0.8;\"/>\n   </g>\n   <g id=\"patch_7\">\n    <path d=\"M 380.278125 224.64 \nL 380.278125 7.2 \n\" style=\"fill:none;stroke:#000000;stroke-linecap:square;stroke-linejoin:miter;stroke-width:0.8;\"/>\n   </g>\n   <g id=\"patch_8\">\n    <path d=\"M 45.478125 224.64 \nL 380.278125 224.64 \n\" style=\"fill:none;stroke:#000000;stroke-linecap:square;stroke-linejoin:miter;stroke-width:0.8;\"/>\n   </g>\n   <g id=\"patch_9\">\n    <path d=\"M 45.478125 7.2 \nL 380.278125 7.2 \n\" style=\"fill:none;stroke:#000000;stroke-linecap:square;stroke-linejoin:miter;stroke-width:0.8;\"/>\n   </g>\n   <g id=\"legend_1\">\n    <g id=\"patch_10\">\n     <path d=\"M 273.3375 59.234375 \nL 373.278125 59.234375 \nQ 375.278125 59.234375 375.278125 57.234375 \nL 375.278125 14.2 \nQ 375.278125 12.2 373.278125 12.2 \nL 273.3375 12.2 \nQ 271.3375 12.2 271.3375 14.2 \nL 271.3375 57.234375 \nQ 271.3375 59.234375 273.3375 59.234375 \nz\n\" style=\"fill:#ffffff;opacity:0.8;stroke:#cccccc;stroke-linejoin:miter;\"/>\n    </g>\n    <g id=\"patch_11\">\n     <path d=\"M 275.3375 23.798437 \nL 295.3375 23.798437 \nL 295.3375 16.798437 \nL 275.3375 16.798437 \nz\n\" style=\"fill:none;stroke:#1f77b4;stroke-linejoin:miter;\"/>\n    </g>\n    <g id=\"text_16\">\n     <!-- Experiment A -->\n     <g transform=\"translate(303.3375 23.798437)scale(0.1 -0.1)\">\n      <defs>\n       <path d=\"M 54.890625 54.6875 \nL 35.109375 28.078125 \nL 55.90625 0 \nL 45.3125 0 \nL 29.390625 21.484375 \nL 13.484375 0 \nL 2.875 0 \nL 24.125 28.609375 \nL 4.6875 54.6875 \nL 15.28125 54.6875 \nL 29.78125 35.203125 \nL 44.28125 54.6875 \nz\n\" id=\"DejaVuSans-120\"/>\n       <path d=\"M 18.109375 8.203125 \nL 18.109375 -20.796875 \nL 9.078125 -20.796875 \nL 9.078125 54.6875 \nL 18.109375 54.6875 \nL 18.109375 46.390625 \nQ 20.953125 51.265625 25.265625 53.625 \nQ 29.59375 56 35.59375 56 \nQ 45.5625 56 51.78125 48.09375 \nQ 58.015625 40.1875 58.015625 27.296875 \nQ 58.015625 14.40625 51.78125 6.484375 \nQ 45.5625 -1.421875 35.59375 -1.421875 \nQ 29.59375 -1.421875 25.265625 0.953125 \nQ 20.953125 3.328125 18.109375 8.203125 \nz\nM 48.6875 27.296875 \nQ 48.6875 37.203125 44.609375 42.84375 \nQ 40.53125 48.484375 33.40625 48.484375 \nQ 26.265625 48.484375 22.1875 42.84375 \nQ 18.109375 37.203125 18.109375 27.296875 \nQ 18.109375 17.390625 22.1875 11.75 \nQ 26.265625 6.109375 33.40625 6.109375 \nQ 40.53125 6.109375 44.609375 11.75 \nQ 48.6875 17.390625 48.6875 27.296875 \nz\n\" id=\"DejaVuSans-112\"/>\n       <path d=\"M 9.421875 54.6875 \nL 18.40625 54.6875 \nL 18.40625 0 \nL 9.421875 0 \nz\nM 9.421875 75.984375 \nL 18.40625 75.984375 \nL 18.40625 64.59375 \nL 9.421875 64.59375 \nz\n\" id=\"DejaVuSans-105\"/>\n       <path d=\"M 52 44.1875 \nQ 55.375 50.25 60.0625 53.125 \nQ 64.75 56 71.09375 56 \nQ 79.640625 56 84.28125 50.015625 \nQ 88.921875 44.046875 88.921875 33.015625 \nL 88.921875 0 \nL 79.890625 0 \nL 79.890625 32.71875 \nQ 79.890625 40.578125 77.09375 44.375 \nQ 74.3125 48.1875 68.609375 48.1875 \nQ 61.625 48.1875 57.5625 43.546875 \nQ 53.515625 38.921875 53.515625 30.90625 \nL 53.515625 0 \nL 44.484375 0 \nL 44.484375 32.71875 \nQ 44.484375 40.625 41.703125 44.40625 \nQ 38.921875 48.1875 33.109375 48.1875 \nQ 26.21875 48.1875 22.15625 43.53125 \nQ 18.109375 38.875 18.109375 30.90625 \nL 18.109375 0 \nL 9.078125 0 \nL 9.078125 54.6875 \nL 18.109375 54.6875 \nL 18.109375 46.1875 \nQ 21.1875 51.21875 25.484375 53.609375 \nQ 29.78125 56 35.6875 56 \nQ 41.65625 56 45.828125 52.96875 \nQ 50 49.953125 52 44.1875 \nz\n\" id=\"DejaVuSans-109\"/>\n       <path d=\"M 34.1875 63.1875 \nL 20.796875 26.90625 \nL 47.609375 26.90625 \nz\nM 28.609375 72.90625 \nL 39.796875 72.90625 \nL 67.578125 0 \nL 57.328125 0 \nL 50.6875 18.703125 \nL 17.828125 18.703125 \nL 11.1875 0 \nL 0.78125 0 \nz\n\" id=\"DejaVuSans-65\"/>\n      </defs>\n      <use xlink:href=\"#DejaVuSans-69\"/>\n      <use x=\"63.183594\" xlink:href=\"#DejaVuSans-120\"/>\n      <use x=\"122.363281\" xlink:href=\"#DejaVuSans-112\"/>\n      <use x=\"185.839844\" xlink:href=\"#DejaVuSans-101\"/>\n      <use x=\"247.363281\" xlink:href=\"#DejaVuSans-114\"/>\n      <use x=\"288.476562\" xlink:href=\"#DejaVuSans-105\"/>\n      <use x=\"316.259766\" xlink:href=\"#DejaVuSans-109\"/>\n      <use x=\"413.671875\" xlink:href=\"#DejaVuSans-101\"/>\n      <use x=\"475.195312\" xlink:href=\"#DejaVuSans-110\"/>\n      <use x=\"538.574219\" xlink:href=\"#DejaVuSans-116\"/>\n      <use x=\"577.783203\" xlink:href=\"#DejaVuSans-32\"/>\n      <use x=\"609.570312\" xlink:href=\"#DejaVuSans-65\"/>\n     </g>\n    </g>\n    <g id=\"patch_12\">\n     <path d=\"M 275.3375 38.476562 \nL 295.3375 38.476562 \nL 295.3375 31.476562 \nL 275.3375 31.476562 \nz\n\" style=\"fill:none;stroke:#ff7f0e;stroke-linejoin:miter;\"/>\n    </g>\n    <g id=\"text_17\">\n     <!-- Experiment B -->\n     <g transform=\"translate(303.3375 38.476562)scale(0.1 -0.1)\">\n      <defs>\n       <path d=\"M 19.671875 34.8125 \nL 19.671875 8.109375 \nL 35.5 8.109375 \nQ 43.453125 8.109375 47.28125 11.40625 \nQ 51.125 14.703125 51.125 21.484375 \nQ 51.125 28.328125 47.28125 31.5625 \nQ 43.453125 34.8125 35.5 34.8125 \nz\nM 19.671875 64.796875 \nL 19.671875 42.828125 \nL 34.28125 42.828125 \nQ 41.5 42.828125 45.03125 45.53125 \nQ 48.578125 48.25 48.578125 53.8125 \nQ 48.578125 59.328125 45.03125 62.0625 \nQ 41.5 64.796875 34.28125 64.796875 \nz\nM 9.8125 72.90625 \nL 35.015625 72.90625 \nQ 46.296875 72.90625 52.390625 68.21875 \nQ 58.5 63.53125 58.5 54.890625 \nQ 58.5 48.1875 55.375 44.234375 \nQ 52.25 40.28125 46.1875 39.3125 \nQ 53.46875 37.75 57.5 32.78125 \nQ 61.53125 27.828125 61.53125 20.40625 \nQ 61.53125 10.640625 54.890625 5.3125 \nQ 48.25 0 35.984375 0 \nL 9.8125 0 \nz\n\" id=\"DejaVuSans-66\"/>\n      </defs>\n      <use xlink:href=\"#DejaVuSans-69\"/>\n      <use x=\"63.183594\" xlink:href=\"#DejaVuSans-120\"/>\n      <use x=\"122.363281\" xlink:href=\"#DejaVuSans-112\"/>\n      <use x=\"185.839844\" xlink:href=\"#DejaVuSans-101\"/>\n      <use x=\"247.363281\" xlink:href=\"#DejaVuSans-114\"/>\n      <use x=\"288.476562\" xlink:href=\"#DejaVuSans-105\"/>\n      <use x=\"316.259766\" xlink:href=\"#DejaVuSans-109\"/>\n      <use x=\"413.671875\" xlink:href=\"#DejaVuSans-101\"/>\n      <use x=\"475.195312\" xlink:href=\"#DejaVuSans-110\"/>\n      <use x=\"538.574219\" xlink:href=\"#DejaVuSans-116\"/>\n      <use x=\"577.783203\" xlink:href=\"#DejaVuSans-32\"/>\n      <use x=\"609.570312\" xlink:href=\"#DejaVuSans-66\"/>\n     </g>\n    </g>\n    <g id=\"patch_13\">\n     <path d=\"M 275.3375 53.154687 \nL 295.3375 53.154687 \nL 295.3375 46.154687 \nL 275.3375 46.154687 \nz\n\" style=\"fill:none;stroke:#2ca02c;stroke-linejoin:miter;\"/>\n    </g>\n    <g id=\"text_18\">\n     <!-- Experiment C -->\n     <g transform=\"translate(303.3375 53.154687)scale(0.1 -0.1)\">\n      <use xlink:href=\"#DejaVuSans-69\"/>\n      <use x=\"63.183594\" xlink:href=\"#DejaVuSans-120\"/>\n      <use x=\"122.363281\" xlink:href=\"#DejaVuSans-112\"/>\n      <use x=\"185.839844\" xlink:href=\"#DejaVuSans-101\"/>\n      <use x=\"247.363281\" xlink:href=\"#DejaVuSans-114\"/>\n      <use x=\"288.476562\" xlink:href=\"#DejaVuSans-105\"/>\n      <use x=\"316.259766\" xlink:href=\"#DejaVuSans-109\"/>\n      <use x=\"413.671875\" xlink:href=\"#DejaVuSans-101\"/>\n      <use x=\"475.195312\" xlink:href=\"#DejaVuSans-110\"/>\n      <use x=\"538.574219\" xlink:href=\"#DejaVuSans-116\"/>\n      <use x=\"577.783203\" xlink:href=\"#DejaVuSans-32\"/>\n      <use x=\"609.570312\" xlink:href=\"#DejaVuSans-67\"/>\n     </g>\n    </g>\n   </g>\n  </g>\n </g>\n <defs>\n  <clipPath id=\"p8c6992632b\">\n   <rect height=\"217.44\" width=\"334.8\" x=\"45.478125\" y=\"7.2\"/>\n  </clipPath>\n </defs>\n</svg>\n",
          "text/plain": "<Figure size 432x288 with 1 Axes>"
         },
         "metadata": {
          "needs_background": "light"
         },
         "output_type": "display_data"
        }
       ]
      }
     },
     "1461d53aa76747a2b19eba02106bdaef": {
      "model_module": "@jupyter-widgets/controls",
      "model_module_version": "1.5.0",
      "model_name": "SliderStyleModel",
      "state": {
       "description_width": ""
      }
     },
     "14d42771b1fd40b78d96730b67acad92": {
      "model_module": "@jupyter-widgets/base",
      "model_module_version": "1.2.0",
      "model_name": "LayoutModel",
      "state": {}
     },
     "14e705762f3a4b7a8dee59668b32c3df": {
      "model_module": "@jupyter-widgets/base",
      "model_module_version": "1.2.0",
      "model_name": "LayoutModel",
      "state": {}
     },
     "15297a55b8a6498ba57f086e6e0ebd4b": {
      "model_module": "@jupyter-widgets/controls",
      "model_module_version": "1.5.0",
      "model_name": "FloatRangeSliderModel",
      "state": {
       "_model_name": "FloatRangeSliderModel",
       "_view_name": "FloatRangeSliderView",
       "description": "x_range",
       "layout": "IPY_MODEL_72b5749ddd5e403499e367b76d1d37ff",
       "max": 20,
       "step": 0.1,
       "style": "IPY_MODEL_cd8e5d1f513d4b1788c04f4a89587a59",
       "value": [
        0,
        20
       ]
      }
     },
     "158615f956c64b7e9ebf5e2b690f242c": {
      "model_module": "@jupyter-widgets/base",
      "model_module_version": "1.2.0",
      "model_name": "LayoutModel",
      "state": {}
     },
     "1656e77511fb4b29bdddd988c17b48cd": {
      "model_module": "@jupyter-widgets/base",
      "model_module_version": "1.2.0",
      "model_name": "LayoutModel",
      "state": {}
     },
     "175deab41a614e4bbcdccc6e3de9bacc": {
      "model_module": "@jupyter-widgets/controls",
      "model_module_version": "1.5.0",
      "model_name": "SliderStyleModel",
      "state": {
       "description_width": ""
      }
     },
     "17bbee1f44954ed78d0df0dece5a44cc": {
      "model_module": "@jupyter-widgets/controls",
      "model_module_version": "1.5.0",
      "model_name": "FloatSliderModel",
      "state": {
       "layout": "IPY_MODEL_e205de5071b448fe976f42bee4ab9ab8",
       "max": 20,
       "step": 0.1,
       "style": "IPY_MODEL_26e7a08309ef4411a5e00a6dc6fa748d"
      }
     },
     "17e700cb52e04e8695878889d23605ab": {
      "model_module": "@jupyter-widgets/controls",
      "model_module_version": "1.5.0",
      "model_name": "FloatSliderModel",
      "state": {
       "description": "y_ub",
       "layout": "IPY_MODEL_1a896c6c9d3742a1a12a1896e89d1ae0",
       "max": 100000,
       "min": 0.5,
       "step": 0.1,
       "style": "IPY_MODEL_2f28059404d44313b79b0945608f3732",
       "value": 10000
      }
     },
     "1861c1266d104bab8cc3b9bd0aecdfc9": {
      "model_module": "@jupyter-widgets/controls",
      "model_module_version": "1.5.0",
      "model_name": "DescriptionStyleModel",
      "state": {
       "description_width": ""
      }
     },
     "19c5504dbc7b430eb39c7032602909eb": {
      "model_module": "@jupyter-widgets/controls",
      "model_module_version": "1.5.0",
      "model_name": "FloatSliderModel",
      "state": {
       "layout": "IPY_MODEL_2eea253b66e94d0c84809c88e526c88e",
       "max": 100000,
       "min": 0.5,
       "step": 0.1,
       "style": "IPY_MODEL_ccb029debf3749aaafcfd960a2b381d6",
       "value": 10000
      }
     },
     "19d65c0f24c84c978040c871c15514d4": {
      "model_module": "@jupyter-widgets/controls",
      "model_module_version": "1.5.0",
      "model_name": "DescriptionStyleModel",
      "state": {
       "description_width": ""
      }
     },
     "19d977b4db5b4ea9b2d2a6c5867f585d": {
      "model_module": "@jupyter-widgets/controls",
      "model_module_version": "1.5.0",
      "model_name": "SliderStyleModel",
      "state": {
       "description_width": ""
      }
     },
     "1a74fae339ea42d2bc7623e69151c4e4": {
      "model_module": "@jupyter-widgets/controls",
      "model_module_version": "1.5.0",
      "model_name": "SliderStyleModel",
      "state": {
       "description_width": ""
      }
     },
     "1a896c6c9d3742a1a12a1896e89d1ae0": {
      "model_module": "@jupyter-widgets/base",
      "model_module_version": "1.2.0",
      "model_name": "LayoutModel",
      "state": {}
     },
     "1acbb859c5454868b79ffabb23222603": {
      "model_module": "@jupyter-widgets/controls",
      "model_module_version": "1.5.0",
      "model_name": "DescriptionStyleModel",
      "state": {
       "description_width": ""
      }
     },
     "1adb261dbbe24c9b9bf457f930c98dfd": {
      "model_module": "@jupyter-widgets/base",
      "model_module_version": "1.2.0",
      "model_name": "LayoutModel",
      "state": {}
     },
     "1b29c1a4af2b47199675c45e4cd9bfda": {
      "model_module": "@jupyter-widgets/controls",
      "model_module_version": "1.5.0",
      "model_name": "FloatSliderModel",
      "state": {
       "layout": "IPY_MODEL_2f1b8b7c41504e60aa680c596ae46266",
       "max": 100000,
       "min": 0.5,
       "step": 0.1,
       "style": "IPY_MODEL_6a8b1f0431f4415b8421fc55b612462a",
       "value": 10000
      }
     },
     "1c12e9a38bc2424993c0e1f77b661454": {
      "model_module": "@jupyter-widgets/base",
      "model_module_version": "1.2.0",
      "model_name": "LayoutModel",
      "state": {}
     },
     "1c88735346da400a91e80a8697c8f190": {
      "model_module": "@jupyter-widgets/controls",
      "model_module_version": "1.5.0",
      "model_name": "FloatSliderModel",
      "state": {
       "layout": "IPY_MODEL_1d90ac8b67ef48f59bfaf4fcfafa1ca7",
       "max": 100000,
       "min": 0.5,
       "step": 0.1,
       "style": "IPY_MODEL_a31cb82e17f3426ca50986c66a6dd25f",
       "value": 10000
      }
     },
     "1cd7670a9e1445ffa2dd701758a43d06": {
      "model_module": "@jupyter-widgets/controls",
      "model_module_version": "1.5.0",
      "model_name": "FloatSliderModel",
      "state": {
       "description": "y_ub",
       "layout": "IPY_MODEL_8a10e9f49c194ad8b5b0e54f25838300",
       "max": 100000,
       "min": 0.5,
       "step": 0.1,
       "style": "IPY_MODEL_bab79b4ccafa48af8ee14c75fe20a456",
       "value": 58588.9
      }
     },
     "1cdb85941bbb4e68ae96460a454d5525": {
      "model_module": "@jupyter-widgets/base",
      "model_module_version": "1.2.0",
      "model_name": "LayoutModel",
      "state": {}
     },
     "1cf65340c2334b32a70096203ea20e7c": {
      "model_module": "@jupyter-widgets/controls",
      "model_module_version": "1.5.0",
      "model_name": "CheckboxModel",
      "state": {
       "description": "Plot Experiment B",
       "disabled": false,
       "layout": "IPY_MODEL_64f6abf65dad4eb69ecfe44e6d61eb8d",
       "style": "IPY_MODEL_61a26b1ceb0b4e01a7fedb2e7d75aa20",
       "value": true
      }
     },
     "1d90ac8b67ef48f59bfaf4fcfafa1ca7": {
      "model_module": "@jupyter-widgets/base",
      "model_module_version": "1.2.0",
      "model_name": "LayoutModel",
      "state": {}
     },
     "1e33736196c04ea682384f2d2d218eb7": {
      "model_module": "@jupyter-widgets/controls",
      "model_module_version": "1.5.0",
      "model_name": "SliderStyleModel",
      "state": {
       "description_width": ""
      }
     },
     "1e720d464473467b95b1978dcf4fe6f9": {
      "model_module": "@jupyter-widgets/controls",
      "model_module_version": "1.5.0",
      "model_name": "CheckboxModel",
      "state": {
       "description": "Plot Experiment A",
       "disabled": false,
       "layout": "IPY_MODEL_f43ea2923795469ea198315c754c2753",
       "style": "IPY_MODEL_1861c1266d104bab8cc3b9bd0aecdfc9",
       "value": true
      }
     },
     "1ee16ba3dc044998a858607425f4b83a": {
      "model_module": "@jupyter-widgets/controls",
      "model_module_version": "1.5.0",
      "model_name": "LinkModel",
      "state": {
       "source": [
        "IPY_MODEL_446e8e2b5f4241c39e113752b35f3e46",
        "value"
       ],
       "target": [
        "IPY_MODEL_f94e2b2054c848e9805d2738a055d616",
        "value"
       ]
      }
     },
     "1f4e29646d404cb68ca8573539620bc4": {
      "model_module": "@jupyter-widgets/controls",
      "model_module_version": "1.5.0",
      "model_name": "FloatRangeSliderModel",
      "state": {
       "_model_name": "FloatRangeSliderModel",
       "_view_name": "FloatRangeSliderView",
       "description": "x_ran",
       "layout": "IPY_MODEL_5e8592abda1f4109a497e280a8eb5966",
       "max": 20,
       "step": 0.1,
       "style": "IPY_MODEL_932334f609da4067a25e832ec6834f91",
       "value": [
        0,
        20
       ]
      }
     },
     "1f4f514d0ddb4aafb8b5316ceda2b9f2": {
      "model_module": "@jupyter-widgets/controls",
      "model_module_version": "1.5.0",
      "model_name": "IntSliderModel",
      "state": {
       "layout": "IPY_MODEL_5298601e2e1b408896d760c21dda9873",
       "max": 2000,
       "min": 20,
       "style": "IPY_MODEL_07792c6c225d4b3b990de374de0e4452",
       "value": 500
      }
     },
     "1f759740c8344808bf244527cd338e57": {
      "model_module": "@jupyter-widgets/controls",
      "model_module_version": "1.5.0",
      "model_name": "SliderStyleModel",
      "state": {
       "description_width": ""
      }
     },
     "1ff5ea81202f4880afdd0ffda0b78e3a": {
      "model_module": "@jupyter-widgets/controls",
      "model_module_version": "1.5.0",
      "model_name": "FloatSliderModel",
      "state": {
       "description": "y_ub",
       "layout": "IPY_MODEL_cab636b9707844e7ab78936d80d9dc0f",
       "max": 100000,
       "min": 0.5,
       "step": 0.1,
       "style": "IPY_MODEL_69e8ae85d2b548c5b9962ae6f6df531c",
       "value": 10000
      }
     },
     "213d94262aaa4bcdbf94cd8b1d74881e": {
      "model_module": "@jupyter-widgets/output",
      "model_module_version": "1.0.0",
      "model_name": "OutputModel",
      "state": {
       "layout": "IPY_MODEL_5b39a94ecaff4e878174bca9b4cd0077",
       "outputs": [
        {
         "ename": "TraitError",
         "evalue": "The 'source' trait of a Link instance contains an Instance of a WidgetTraitTuple which expected a Widget, not the float 10000.0.",
         "output_type": "error",
         "traceback": [
          "\u001b[0;31m---------------------------------------------------------------------------\u001b[0m",
          "\u001b[0;31mTraitError\u001b[0m                                Traceback (most recent call last)",
          "\u001b[0;32m~/.pyenv/versions/3.8.6/lib/python3.8/site-packages/ipywidgets/widgets/interaction.py\u001b[0m in \u001b[0;36mupdate\u001b[0;34m(self, *args)\u001b[0m\n\u001b[1;32m    254\u001b[0m                     \u001b[0mvalue\u001b[0m \u001b[0;34m=\u001b[0m \u001b[0mwidget\u001b[0m\u001b[0;34m.\u001b[0m\u001b[0mget_interact_value\u001b[0m\u001b[0;34m(\u001b[0m\u001b[0;34m)\u001b[0m\u001b[0;34m\u001b[0m\u001b[0;34m\u001b[0m\u001b[0m\n\u001b[1;32m    255\u001b[0m                     \u001b[0mself\u001b[0m\u001b[0;34m.\u001b[0m\u001b[0mkwargs\u001b[0m\u001b[0;34m[\u001b[0m\u001b[0mwidget\u001b[0m\u001b[0;34m.\u001b[0m\u001b[0m_kwarg\u001b[0m\u001b[0;34m]\u001b[0m \u001b[0;34m=\u001b[0m \u001b[0mvalue\u001b[0m\u001b[0;34m\u001b[0m\u001b[0;34m\u001b[0m\u001b[0m\n\u001b[0;32m--> 256\u001b[0;31m                 \u001b[0mself\u001b[0m\u001b[0;34m.\u001b[0m\u001b[0mresult\u001b[0m \u001b[0;34m=\u001b[0m \u001b[0mself\u001b[0m\u001b[0;34m.\u001b[0m\u001b[0mf\u001b[0m\u001b[0;34m(\u001b[0m\u001b[0;34m**\u001b[0m\u001b[0mself\u001b[0m\u001b[0;34m.\u001b[0m\u001b[0mkwargs\u001b[0m\u001b[0;34m)\u001b[0m\u001b[0;34m\u001b[0m\u001b[0;34m\u001b[0m\u001b[0m\n\u001b[0m\u001b[1;32m    257\u001b[0m                 \u001b[0mshow_inline_matplotlib_plots\u001b[0m\u001b[0;34m(\u001b[0m\u001b[0;34m)\u001b[0m\u001b[0;34m\u001b[0m\u001b[0;34m\u001b[0m\u001b[0m\n\u001b[1;32m    258\u001b[0m                 \u001b[0;32mif\u001b[0m \u001b[0mself\u001b[0m\u001b[0;34m.\u001b[0m\u001b[0mauto_display\u001b[0m \u001b[0;32mand\u001b[0m \u001b[0mself\u001b[0m\u001b[0;34m.\u001b[0m\u001b[0mresult\u001b[0m \u001b[0;32mis\u001b[0m \u001b[0;32mnot\u001b[0m \u001b[0;32mNone\u001b[0m\u001b[0;34m:\u001b[0m\u001b[0;34m\u001b[0m\u001b[0;34m\u001b[0m\u001b[0m\n",
          "\u001b[0;32m<ipython-input-178-5ec82447a957>\u001b[0m in \u001b[0;36mplot_all\u001b[0;34m(bins, x_ran, y_ub, y_ubl, check_A, check_B, check_C, scale_drop)\u001b[0m\n\u001b[1;32m     34\u001b[0m \u001b[0;32mdef\u001b[0m \u001b[0mplot_all\u001b[0m\u001b[0;34m(\u001b[0m\u001b[0mbins\u001b[0m\u001b[0;34m,\u001b[0m \u001b[0mx_ran\u001b[0m\u001b[0;34m,\u001b[0m \u001b[0my_ub\u001b[0m\u001b[0;34m,\u001b[0m \u001b[0my_ubl\u001b[0m\u001b[0;34m,\u001b[0m \u001b[0mcheck_A\u001b[0m\u001b[0;34m,\u001b[0m \u001b[0mcheck_B\u001b[0m\u001b[0;34m,\u001b[0m \u001b[0mcheck_C\u001b[0m\u001b[0;34m,\u001b[0m \u001b[0mscale_drop\u001b[0m\u001b[0;34m)\u001b[0m\u001b[0;34m:\u001b[0m\u001b[0;34m\u001b[0m\u001b[0;34m\u001b[0m\u001b[0m\n\u001b[1;32m     35\u001b[0m \u001b[0;34m\u001b[0m\u001b[0m\n\u001b[0;32m---> 36\u001b[0;31m     \u001b[0mmylink\u001b[0m \u001b[0;34m=\u001b[0m \u001b[0mwidgets\u001b[0m\u001b[0;34m.\u001b[0m\u001b[0mjslink\u001b[0m\u001b[0;34m(\u001b[0m\u001b[0;34m(\u001b[0m\u001b[0my_ub\u001b[0m\u001b[0;34m,\u001b[0m \u001b[0;34m'value'\u001b[0m\u001b[0;34m)\u001b[0m\u001b[0;34m,\u001b[0m \u001b[0;34m(\u001b[0m\u001b[0my_ubl\u001b[0m\u001b[0;34m,\u001b[0m \u001b[0;34m'value'\u001b[0m\u001b[0;34m)\u001b[0m\u001b[0;34m)\u001b[0m\u001b[0;34m\u001b[0m\u001b[0;34m\u001b[0m\u001b[0m\n\u001b[0m\u001b[1;32m     37\u001b[0m \u001b[0;34m\u001b[0m\u001b[0m\n\u001b[1;32m     38\u001b[0m     \u001b[0;31m# make histograms\u001b[0m\u001b[0;34m\u001b[0m\u001b[0;34m\u001b[0m\u001b[0;34m\u001b[0m\u001b[0m\n",
          "\u001b[0;32m~/.pyenv/versions/3.8.6/lib/python3.8/site-packages/ipywidgets/widgets/widget_link.py\u001b[0m in \u001b[0;36mjslink\u001b[0;34m(attr1, attr2)\u001b[0m\n\u001b[1;32m     73\u001b[0m     \u001b[0;34m>>\u001b[0m\u001b[0;34m>\u001b[0m \u001b[0mc\u001b[0m \u001b[0;34m=\u001b[0m \u001b[0mlink\u001b[0m\u001b[0;34m(\u001b[0m\u001b[0;34m(\u001b[0m\u001b[0mwidget1\u001b[0m\u001b[0;34m,\u001b[0m \u001b[0;34m'value'\u001b[0m\u001b[0;34m)\u001b[0m\u001b[0;34m,\u001b[0m \u001b[0;34m(\u001b[0m\u001b[0mwidget2\u001b[0m\u001b[0;34m,\u001b[0m \u001b[0;34m'value'\u001b[0m\u001b[0;34m)\u001b[0m\u001b[0;34m)\u001b[0m\u001b[0;34m\u001b[0m\u001b[0;34m\u001b[0m\u001b[0m\n\u001b[1;32m     74\u001b[0m     \"\"\"\n\u001b[0;32m---> 75\u001b[0;31m     \u001b[0;32mreturn\u001b[0m \u001b[0mLink\u001b[0m\u001b[0;34m(\u001b[0m\u001b[0mattr1\u001b[0m\u001b[0;34m,\u001b[0m \u001b[0mattr2\u001b[0m\u001b[0;34m)\u001b[0m\u001b[0;34m\u001b[0m\u001b[0;34m\u001b[0m\u001b[0m\n\u001b[0m\u001b[1;32m     76\u001b[0m \u001b[0;34m\u001b[0m\u001b[0m\n\u001b[1;32m     77\u001b[0m \u001b[0;34m\u001b[0m\u001b[0m\n",
          "\u001b[0;32m~/.pyenv/versions/3.8.6/lib/python3.8/site-packages/ipywidgets/widgets/widget_link.py\u001b[0m in \u001b[0;36m__init__\u001b[0;34m(self, source, target, **kwargs)\u001b[0m\n\u001b[1;32m     50\u001b[0m         \u001b[0mkwargs\u001b[0m\u001b[0;34m[\u001b[0m\u001b[0;34m'source'\u001b[0m\u001b[0;34m]\u001b[0m \u001b[0;34m=\u001b[0m \u001b[0msource\u001b[0m\u001b[0;34m\u001b[0m\u001b[0;34m\u001b[0m\u001b[0m\n\u001b[1;32m     51\u001b[0m         \u001b[0mkwargs\u001b[0m\u001b[0;34m[\u001b[0m\u001b[0;34m'target'\u001b[0m\u001b[0;34m]\u001b[0m \u001b[0;34m=\u001b[0m \u001b[0mtarget\u001b[0m\u001b[0;34m\u001b[0m\u001b[0;34m\u001b[0m\u001b[0m\n\u001b[0;32m---> 52\u001b[0;31m         \u001b[0msuper\u001b[0m\u001b[0;34m(\u001b[0m\u001b[0mLink\u001b[0m\u001b[0;34m,\u001b[0m \u001b[0mself\u001b[0m\u001b[0;34m)\u001b[0m\u001b[0;34m.\u001b[0m\u001b[0m__init__\u001b[0m\u001b[0;34m(\u001b[0m\u001b[0;34m**\u001b[0m\u001b[0mkwargs\u001b[0m\u001b[0;34m)\u001b[0m\u001b[0;34m\u001b[0m\u001b[0;34m\u001b[0m\u001b[0m\n\u001b[0m\u001b[1;32m     53\u001b[0m \u001b[0;34m\u001b[0m\u001b[0m\n\u001b[1;32m     54\u001b[0m     \u001b[0;31m# for compatibility with traitlet links\u001b[0m\u001b[0;34m\u001b[0m\u001b[0;34m\u001b[0m\u001b[0;34m\u001b[0m\u001b[0m\n",
          "\u001b[0;32m~/.pyenv/versions/3.8.6/lib/python3.8/site-packages/ipywidgets/widgets/widget.py\u001b[0m in \u001b[0;36m__init__\u001b[0;34m(self, **kwargs)\u001b[0m\n\u001b[1;32m    410\u001b[0m         \u001b[0;34m\"\"\"Public constructor\"\"\"\u001b[0m\u001b[0;34m\u001b[0m\u001b[0;34m\u001b[0m\u001b[0m\n\u001b[1;32m    411\u001b[0m         \u001b[0mself\u001b[0m\u001b[0;34m.\u001b[0m\u001b[0m_model_id\u001b[0m \u001b[0;34m=\u001b[0m \u001b[0mkwargs\u001b[0m\u001b[0;34m.\u001b[0m\u001b[0mpop\u001b[0m\u001b[0;34m(\u001b[0m\u001b[0;34m'model_id'\u001b[0m\u001b[0;34m,\u001b[0m \u001b[0;32mNone\u001b[0m\u001b[0;34m)\u001b[0m\u001b[0;34m\u001b[0m\u001b[0;34m\u001b[0m\u001b[0m\n\u001b[0;32m--> 412\u001b[0;31m         \u001b[0msuper\u001b[0m\u001b[0;34m(\u001b[0m\u001b[0mWidget\u001b[0m\u001b[0;34m,\u001b[0m \u001b[0mself\u001b[0m\u001b[0;34m)\u001b[0m\u001b[0;34m.\u001b[0m\u001b[0m__init__\u001b[0m\u001b[0;34m(\u001b[0m\u001b[0;34m**\u001b[0m\u001b[0mkwargs\u001b[0m\u001b[0;34m)\u001b[0m\u001b[0;34m\u001b[0m\u001b[0;34m\u001b[0m\u001b[0m\n\u001b[0m\u001b[1;32m    413\u001b[0m \u001b[0;34m\u001b[0m\u001b[0m\n\u001b[1;32m    414\u001b[0m         \u001b[0mWidget\u001b[0m\u001b[0;34m.\u001b[0m\u001b[0m_call_widget_constructed\u001b[0m\u001b[0;34m(\u001b[0m\u001b[0mself\u001b[0m\u001b[0;34m)\u001b[0m\u001b[0;34m\u001b[0m\u001b[0;34m\u001b[0m\u001b[0m\n",
          "\u001b[0;32m~/.pyenv/versions/3.8.6/lib/python3.8/site-packages/traitlets/traitlets.py\u001b[0m in \u001b[0;36m__init__\u001b[0;34m(self, *args, **kwargs)\u001b[0m\n\u001b[1;32m   1075\u001b[0m             \u001b[0;32mfor\u001b[0m \u001b[0mkey\u001b[0m\u001b[0;34m,\u001b[0m \u001b[0mvalue\u001b[0m \u001b[0;32min\u001b[0m \u001b[0mkwargs\u001b[0m\u001b[0;34m.\u001b[0m\u001b[0mitems\u001b[0m\u001b[0;34m(\u001b[0m\u001b[0;34m)\u001b[0m\u001b[0;34m:\u001b[0m\u001b[0;34m\u001b[0m\u001b[0;34m\u001b[0m\u001b[0m\n\u001b[1;32m   1076\u001b[0m                 \u001b[0;32mif\u001b[0m \u001b[0mself\u001b[0m\u001b[0;34m.\u001b[0m\u001b[0mhas_trait\u001b[0m\u001b[0;34m(\u001b[0m\u001b[0mkey\u001b[0m\u001b[0;34m)\u001b[0m\u001b[0;34m:\u001b[0m\u001b[0;34m\u001b[0m\u001b[0;34m\u001b[0m\u001b[0m\n\u001b[0;32m-> 1077\u001b[0;31m                     \u001b[0msetattr\u001b[0m\u001b[0;34m(\u001b[0m\u001b[0mself\u001b[0m\u001b[0;34m,\u001b[0m \u001b[0mkey\u001b[0m\u001b[0;34m,\u001b[0m \u001b[0mvalue\u001b[0m\u001b[0;34m)\u001b[0m\u001b[0;34m\u001b[0m\u001b[0;34m\u001b[0m\u001b[0m\n\u001b[0m\u001b[1;32m   1078\u001b[0m                 \u001b[0;32melse\u001b[0m\u001b[0;34m:\u001b[0m\u001b[0;34m\u001b[0m\u001b[0;34m\u001b[0m\u001b[0m\n\u001b[1;32m   1079\u001b[0m                     \u001b[0;31m# passthrough args that don't set traits to super\u001b[0m\u001b[0;34m\u001b[0m\u001b[0;34m\u001b[0m\u001b[0;34m\u001b[0m\u001b[0m\n",
          "\u001b[0;32m~/.pyenv/versions/3.8.6/lib/python3.8/site-packages/traitlets/traitlets.py\u001b[0m in \u001b[0;36m__set__\u001b[0;34m(self, obj, value)\u001b[0m\n\u001b[1;32m    602\u001b[0m             \u001b[0;32mraise\u001b[0m \u001b[0mTraitError\u001b[0m\u001b[0;34m(\u001b[0m\u001b[0;34m'The \"%s\" trait is read-only.'\u001b[0m \u001b[0;34m%\u001b[0m \u001b[0mself\u001b[0m\u001b[0;34m.\u001b[0m\u001b[0mname\u001b[0m\u001b[0;34m)\u001b[0m\u001b[0;34m\u001b[0m\u001b[0;34m\u001b[0m\u001b[0m\n\u001b[1;32m    603\u001b[0m         \u001b[0;32melse\u001b[0m\u001b[0;34m:\u001b[0m\u001b[0;34m\u001b[0m\u001b[0;34m\u001b[0m\u001b[0m\n\u001b[0;32m--> 604\u001b[0;31m             \u001b[0mself\u001b[0m\u001b[0;34m.\u001b[0m\u001b[0mset\u001b[0m\u001b[0;34m(\u001b[0m\u001b[0mobj\u001b[0m\u001b[0;34m,\u001b[0m \u001b[0mvalue\u001b[0m\u001b[0;34m)\u001b[0m\u001b[0;34m\u001b[0m\u001b[0;34m\u001b[0m\u001b[0m\n\u001b[0m\u001b[1;32m    605\u001b[0m \u001b[0;34m\u001b[0m\u001b[0m\n\u001b[1;32m    606\u001b[0m     \u001b[0;32mdef\u001b[0m \u001b[0m_validate\u001b[0m\u001b[0;34m(\u001b[0m\u001b[0mself\u001b[0m\u001b[0;34m,\u001b[0m \u001b[0mobj\u001b[0m\u001b[0;34m,\u001b[0m \u001b[0mvalue\u001b[0m\u001b[0;34m)\u001b[0m\u001b[0;34m:\u001b[0m\u001b[0;34m\u001b[0m\u001b[0;34m\u001b[0m\u001b[0m\n",
          "\u001b[0;32m~/.pyenv/versions/3.8.6/lib/python3.8/site-packages/traitlets/traitlets.py\u001b[0m in \u001b[0;36mset\u001b[0;34m(self, obj, value)\u001b[0m\n\u001b[1;32m    576\u001b[0m \u001b[0;34m\u001b[0m\u001b[0m\n\u001b[1;32m    577\u001b[0m     \u001b[0;32mdef\u001b[0m \u001b[0mset\u001b[0m\u001b[0;34m(\u001b[0m\u001b[0mself\u001b[0m\u001b[0;34m,\u001b[0m \u001b[0mobj\u001b[0m\u001b[0;34m,\u001b[0m \u001b[0mvalue\u001b[0m\u001b[0;34m)\u001b[0m\u001b[0;34m:\u001b[0m\u001b[0;34m\u001b[0m\u001b[0;34m\u001b[0m\u001b[0m\n\u001b[0;32m--> 578\u001b[0;31m         \u001b[0mnew_value\u001b[0m \u001b[0;34m=\u001b[0m \u001b[0mself\u001b[0m\u001b[0;34m.\u001b[0m\u001b[0m_validate\u001b[0m\u001b[0;34m(\u001b[0m\u001b[0mobj\u001b[0m\u001b[0;34m,\u001b[0m \u001b[0mvalue\u001b[0m\u001b[0;34m)\u001b[0m\u001b[0;34m\u001b[0m\u001b[0;34m\u001b[0m\u001b[0m\n\u001b[0m\u001b[1;32m    579\u001b[0m         \u001b[0;32mtry\u001b[0m\u001b[0;34m:\u001b[0m\u001b[0;34m\u001b[0m\u001b[0;34m\u001b[0m\u001b[0m\n\u001b[1;32m    580\u001b[0m             \u001b[0mold_value\u001b[0m \u001b[0;34m=\u001b[0m \u001b[0mobj\u001b[0m\u001b[0;34m.\u001b[0m\u001b[0m_trait_values\u001b[0m\u001b[0;34m[\u001b[0m\u001b[0mself\u001b[0m\u001b[0;34m.\u001b[0m\u001b[0mname\u001b[0m\u001b[0;34m]\u001b[0m\u001b[0;34m\u001b[0m\u001b[0;34m\u001b[0m\u001b[0m\n",
          "\u001b[0;32m~/.pyenv/versions/3.8.6/lib/python3.8/site-packages/traitlets/traitlets.py\u001b[0m in \u001b[0;36m_validate\u001b[0;34m(self, obj, value)\u001b[0m\n\u001b[1;32m    608\u001b[0m             \u001b[0;32mreturn\u001b[0m \u001b[0mvalue\u001b[0m\u001b[0;34m\u001b[0m\u001b[0;34m\u001b[0m\u001b[0m\n\u001b[1;32m    609\u001b[0m         \u001b[0;32mif\u001b[0m \u001b[0mhasattr\u001b[0m\u001b[0;34m(\u001b[0m\u001b[0mself\u001b[0m\u001b[0;34m,\u001b[0m \u001b[0;34m'validate'\u001b[0m\u001b[0;34m)\u001b[0m\u001b[0;34m:\u001b[0m\u001b[0;34m\u001b[0m\u001b[0;34m\u001b[0m\u001b[0m\n\u001b[0;32m--> 610\u001b[0;31m             \u001b[0mvalue\u001b[0m \u001b[0;34m=\u001b[0m \u001b[0mself\u001b[0m\u001b[0;34m.\u001b[0m\u001b[0mvalidate\u001b[0m\u001b[0;34m(\u001b[0m\u001b[0mobj\u001b[0m\u001b[0;34m,\u001b[0m \u001b[0mvalue\u001b[0m\u001b[0;34m)\u001b[0m\u001b[0;34m\u001b[0m\u001b[0;34m\u001b[0m\u001b[0m\n\u001b[0m\u001b[1;32m    611\u001b[0m         \u001b[0;32mif\u001b[0m \u001b[0mobj\u001b[0m\u001b[0;34m.\u001b[0m\u001b[0m_cross_validation_lock\u001b[0m \u001b[0;32mis\u001b[0m \u001b[0;32mFalse\u001b[0m\u001b[0;34m:\u001b[0m\u001b[0;34m\u001b[0m\u001b[0;34m\u001b[0m\u001b[0m\n\u001b[1;32m    612\u001b[0m             \u001b[0mvalue\u001b[0m \u001b[0;34m=\u001b[0m \u001b[0mself\u001b[0m\u001b[0;34m.\u001b[0m\u001b[0m_cross_validate\u001b[0m\u001b[0;34m(\u001b[0m\u001b[0mobj\u001b[0m\u001b[0;34m,\u001b[0m \u001b[0mvalue\u001b[0m\u001b[0;34m)\u001b[0m\u001b[0;34m\u001b[0m\u001b[0;34m\u001b[0m\u001b[0m\n",
          "\u001b[0;32m~/.pyenv/versions/3.8.6/lib/python3.8/site-packages/traitlets/traitlets.py\u001b[0m in \u001b[0;36mvalidate\u001b[0;34m(self, obj, value)\u001b[0m\n\u001b[1;32m   2498\u001b[0m             \u001b[0;32mreturn\u001b[0m \u001b[0mvalue\u001b[0m\u001b[0;34m\u001b[0m\u001b[0;34m\u001b[0m\u001b[0m\n\u001b[1;32m   2499\u001b[0m \u001b[0;34m\u001b[0m\u001b[0m\n\u001b[0;32m-> 2500\u001b[0;31m         \u001b[0mvalue\u001b[0m \u001b[0;34m=\u001b[0m \u001b[0mself\u001b[0m\u001b[0;34m.\u001b[0m\u001b[0mvalidate_elements\u001b[0m\u001b[0;34m(\u001b[0m\u001b[0mobj\u001b[0m\u001b[0;34m,\u001b[0m \u001b[0mvalue\u001b[0m\u001b[0;34m)\u001b[0m\u001b[0;34m\u001b[0m\u001b[0;34m\u001b[0m\u001b[0m\n\u001b[0m\u001b[1;32m   2501\u001b[0m \u001b[0;34m\u001b[0m\u001b[0m\n\u001b[1;32m   2502\u001b[0m         \u001b[0;32mreturn\u001b[0m \u001b[0mvalue\u001b[0m\u001b[0;34m\u001b[0m\u001b[0;34m\u001b[0m\u001b[0m\n",
          "\u001b[0;32m~/.pyenv/versions/3.8.6/lib/python3.8/site-packages/ipywidgets/widgets/widget_link.py\u001b[0m in \u001b[0;36mvalidate_elements\u001b[0;34m(self, obj, value)\u001b[0m\n\u001b[1;32m     22\u001b[0m \u001b[0;34m\u001b[0m\u001b[0m\n\u001b[1;32m     23\u001b[0m     \u001b[0;32mdef\u001b[0m \u001b[0mvalidate_elements\u001b[0m\u001b[0;34m(\u001b[0m\u001b[0mself\u001b[0m\u001b[0;34m,\u001b[0m \u001b[0mobj\u001b[0m\u001b[0;34m,\u001b[0m \u001b[0mvalue\u001b[0m\u001b[0;34m)\u001b[0m\u001b[0;34m:\u001b[0m\u001b[0;34m\u001b[0m\u001b[0;34m\u001b[0m\u001b[0m\n\u001b[0;32m---> 24\u001b[0;31m         \u001b[0mvalue\u001b[0m \u001b[0;34m=\u001b[0m \u001b[0msuper\u001b[0m\u001b[0;34m(\u001b[0m\u001b[0mWidgetTraitTuple\u001b[0m\u001b[0;34m,\u001b[0m \u001b[0mself\u001b[0m\u001b[0;34m)\u001b[0m\u001b[0;34m.\u001b[0m\u001b[0mvalidate_elements\u001b[0m\u001b[0;34m(\u001b[0m\u001b[0mobj\u001b[0m\u001b[0;34m,\u001b[0m \u001b[0mvalue\u001b[0m\u001b[0;34m)\u001b[0m\u001b[0;34m\u001b[0m\u001b[0;34m\u001b[0m\u001b[0m\n\u001b[0m\u001b[1;32m     25\u001b[0m         \u001b[0mwidget\u001b[0m\u001b[0;34m,\u001b[0m \u001b[0mtrait_name\u001b[0m \u001b[0;34m=\u001b[0m \u001b[0mvalue\u001b[0m\u001b[0;34m\u001b[0m\u001b[0;34m\u001b[0m\u001b[0m\n\u001b[1;32m     26\u001b[0m         \u001b[0mtrait\u001b[0m \u001b[0;34m=\u001b[0m \u001b[0mwidget\u001b[0m\u001b[0;34m.\u001b[0m\u001b[0mtraits\u001b[0m\u001b[0;34m(\u001b[0m\u001b[0;34m)\u001b[0m\u001b[0;34m.\u001b[0m\u001b[0mget\u001b[0m\u001b[0;34m(\u001b[0m\u001b[0mtrait_name\u001b[0m\u001b[0;34m)\u001b[0m\u001b[0;34m\u001b[0m\u001b[0;34m\u001b[0m\u001b[0m\n",
          "\u001b[0;32m~/.pyenv/versions/3.8.6/lib/python3.8/site-packages/traitlets/traitlets.py\u001b[0m in \u001b[0;36mvalidate_elements\u001b[0;34m(self, obj, value)\u001b[0m\n\u001b[1;32m   2800\u001b[0m                 \u001b[0mv\u001b[0m \u001b[0;34m=\u001b[0m \u001b[0mt\u001b[0m\u001b[0;34m.\u001b[0m\u001b[0m_validate\u001b[0m\u001b[0;34m(\u001b[0m\u001b[0mobj\u001b[0m\u001b[0;34m,\u001b[0m \u001b[0mv\u001b[0m\u001b[0;34m)\u001b[0m\u001b[0;34m\u001b[0m\u001b[0;34m\u001b[0m\u001b[0m\n\u001b[1;32m   2801\u001b[0m             \u001b[0;32mexcept\u001b[0m \u001b[0mTraitError\u001b[0m \u001b[0;32mas\u001b[0m \u001b[0merror\u001b[0m\u001b[0;34m:\u001b[0m\u001b[0;34m\u001b[0m\u001b[0;34m\u001b[0m\u001b[0m\n\u001b[0;32m-> 2802\u001b[0;31m                 \u001b[0mself\u001b[0m\u001b[0;34m.\u001b[0m\u001b[0merror\u001b[0m\u001b[0;34m(\u001b[0m\u001b[0mobj\u001b[0m\u001b[0;34m,\u001b[0m \u001b[0mv\u001b[0m\u001b[0;34m,\u001b[0m \u001b[0merror\u001b[0m\u001b[0;34m)\u001b[0m\u001b[0;34m\u001b[0m\u001b[0;34m\u001b[0m\u001b[0m\n\u001b[0m\u001b[1;32m   2803\u001b[0m             \u001b[0;32melse\u001b[0m\u001b[0;34m:\u001b[0m\u001b[0;34m\u001b[0m\u001b[0;34m\u001b[0m\u001b[0m\n\u001b[1;32m   2804\u001b[0m                 \u001b[0mvalidated\u001b[0m\u001b[0;34m.\u001b[0m\u001b[0mappend\u001b[0m\u001b[0;34m(\u001b[0m\u001b[0mv\u001b[0m\u001b[0;34m)\u001b[0m\u001b[0;34m\u001b[0m\u001b[0;34m\u001b[0m\u001b[0m\n",
          "\u001b[0;32m~/.pyenv/versions/3.8.6/lib/python3.8/site-packages/traitlets/traitlets.py\u001b[0m in \u001b[0;36merror\u001b[0;34m(self, obj, value, error, info)\u001b[0m\n\u001b[1;32m    674\u001b[0m                         \"expected %s, not %s.\" % (self.name, chain,\n\u001b[1;32m    675\u001b[0m                         error.args[1], describe(\"the\", error.args[0])),)\n\u001b[0;32m--> 676\u001b[0;31m             \u001b[0;32mraise\u001b[0m \u001b[0merror\u001b[0m\u001b[0;34m\u001b[0m\u001b[0;34m\u001b[0m\u001b[0m\n\u001b[0m\u001b[1;32m    677\u001b[0m         \u001b[0;32melse\u001b[0m\u001b[0;34m:\u001b[0m\u001b[0;34m\u001b[0m\u001b[0;34m\u001b[0m\u001b[0m\n\u001b[1;32m    678\u001b[0m             \u001b[0;31m# this trait caused an error\u001b[0m\u001b[0;34m\u001b[0m\u001b[0;34m\u001b[0m\u001b[0;34m\u001b[0m\u001b[0m\n",
          "\u001b[0;32m~/.pyenv/versions/3.8.6/lib/python3.8/site-packages/traitlets/traitlets.py\u001b[0m in \u001b[0;36mvalidate_elements\u001b[0;34m(self, obj, value)\u001b[0m\n\u001b[1;32m   2798\u001b[0m         \u001b[0;32mfor\u001b[0m \u001b[0mt\u001b[0m\u001b[0;34m,\u001b[0m \u001b[0mv\u001b[0m \u001b[0;32min\u001b[0m \u001b[0mzip\u001b[0m\u001b[0;34m(\u001b[0m\u001b[0mself\u001b[0m\u001b[0;34m.\u001b[0m\u001b[0m_traits\u001b[0m\u001b[0;34m,\u001b[0m \u001b[0mvalue\u001b[0m\u001b[0;34m)\u001b[0m\u001b[0;34m:\u001b[0m\u001b[0;34m\u001b[0m\u001b[0;34m\u001b[0m\u001b[0m\n\u001b[1;32m   2799\u001b[0m             \u001b[0;32mtry\u001b[0m\u001b[0;34m:\u001b[0m\u001b[0;34m\u001b[0m\u001b[0;34m\u001b[0m\u001b[0m\n\u001b[0;32m-> 2800\u001b[0;31m                 \u001b[0mv\u001b[0m \u001b[0;34m=\u001b[0m \u001b[0mt\u001b[0m\u001b[0;34m.\u001b[0m\u001b[0m_validate\u001b[0m\u001b[0;34m(\u001b[0m\u001b[0mobj\u001b[0m\u001b[0;34m,\u001b[0m \u001b[0mv\u001b[0m\u001b[0;34m)\u001b[0m\u001b[0;34m\u001b[0m\u001b[0;34m\u001b[0m\u001b[0m\n\u001b[0m\u001b[1;32m   2801\u001b[0m             \u001b[0;32mexcept\u001b[0m \u001b[0mTraitError\u001b[0m \u001b[0;32mas\u001b[0m \u001b[0merror\u001b[0m\u001b[0;34m:\u001b[0m\u001b[0;34m\u001b[0m\u001b[0;34m\u001b[0m\u001b[0m\n\u001b[1;32m   2802\u001b[0m                 \u001b[0mself\u001b[0m\u001b[0;34m.\u001b[0m\u001b[0merror\u001b[0m\u001b[0;34m(\u001b[0m\u001b[0mobj\u001b[0m\u001b[0;34m,\u001b[0m \u001b[0mv\u001b[0m\u001b[0;34m,\u001b[0m \u001b[0merror\u001b[0m\u001b[0;34m)\u001b[0m\u001b[0;34m\u001b[0m\u001b[0;34m\u001b[0m\u001b[0m\n",
          "\u001b[0;32m~/.pyenv/versions/3.8.6/lib/python3.8/site-packages/traitlets/traitlets.py\u001b[0m in \u001b[0;36m_validate\u001b[0;34m(self, obj, value)\u001b[0m\n\u001b[1;32m    608\u001b[0m             \u001b[0;32mreturn\u001b[0m \u001b[0mvalue\u001b[0m\u001b[0;34m\u001b[0m\u001b[0;34m\u001b[0m\u001b[0m\n\u001b[1;32m    609\u001b[0m         \u001b[0;32mif\u001b[0m \u001b[0mhasattr\u001b[0m\u001b[0;34m(\u001b[0m\u001b[0mself\u001b[0m\u001b[0;34m,\u001b[0m \u001b[0;34m'validate'\u001b[0m\u001b[0;34m)\u001b[0m\u001b[0;34m:\u001b[0m\u001b[0;34m\u001b[0m\u001b[0;34m\u001b[0m\u001b[0m\n\u001b[0;32m--> 610\u001b[0;31m             \u001b[0mvalue\u001b[0m \u001b[0;34m=\u001b[0m \u001b[0mself\u001b[0m\u001b[0;34m.\u001b[0m\u001b[0mvalidate\u001b[0m\u001b[0;34m(\u001b[0m\u001b[0mobj\u001b[0m\u001b[0;34m,\u001b[0m \u001b[0mvalue\u001b[0m\u001b[0;34m)\u001b[0m\u001b[0;34m\u001b[0m\u001b[0;34m\u001b[0m\u001b[0m\n\u001b[0m\u001b[1;32m    611\u001b[0m         \u001b[0;32mif\u001b[0m \u001b[0mobj\u001b[0m\u001b[0;34m.\u001b[0m\u001b[0m_cross_validation_lock\u001b[0m \u001b[0;32mis\u001b[0m \u001b[0;32mFalse\u001b[0m\u001b[0;34m:\u001b[0m\u001b[0;34m\u001b[0m\u001b[0;34m\u001b[0m\u001b[0m\n\u001b[1;32m    612\u001b[0m             \u001b[0mvalue\u001b[0m \u001b[0;34m=\u001b[0m \u001b[0mself\u001b[0m\u001b[0;34m.\u001b[0m\u001b[0m_cross_validate\u001b[0m\u001b[0;34m(\u001b[0m\u001b[0mobj\u001b[0m\u001b[0;34m,\u001b[0m \u001b[0mvalue\u001b[0m\u001b[0;34m)\u001b[0m\u001b[0;34m\u001b[0m\u001b[0;34m\u001b[0m\u001b[0m\n",
          "\u001b[0;32m~/.pyenv/versions/3.8.6/lib/python3.8/site-packages/traitlets/traitlets.py\u001b[0m in \u001b[0;36mvalidate\u001b[0;34m(self, obj, value)\u001b[0m\n\u001b[1;32m   1843\u001b[0m             \u001b[0;32mreturn\u001b[0m \u001b[0mvalue\u001b[0m\u001b[0;34m\u001b[0m\u001b[0;34m\u001b[0m\u001b[0m\n\u001b[1;32m   1844\u001b[0m         \u001b[0;32melse\u001b[0m\u001b[0;34m:\u001b[0m\u001b[0;34m\u001b[0m\u001b[0;34m\u001b[0m\u001b[0m\n\u001b[0;32m-> 1845\u001b[0;31m             \u001b[0mself\u001b[0m\u001b[0;34m.\u001b[0m\u001b[0merror\u001b[0m\u001b[0;34m(\u001b[0m\u001b[0mobj\u001b[0m\u001b[0;34m,\u001b[0m \u001b[0mvalue\u001b[0m\u001b[0;34m)\u001b[0m\u001b[0;34m\u001b[0m\u001b[0;34m\u001b[0m\u001b[0m\n\u001b[0m\u001b[1;32m   1846\u001b[0m \u001b[0;34m\u001b[0m\u001b[0m\n\u001b[1;32m   1847\u001b[0m     \u001b[0;32mdef\u001b[0m \u001b[0minfo\u001b[0m\u001b[0;34m(\u001b[0m\u001b[0mself\u001b[0m\u001b[0;34m)\u001b[0m\u001b[0;34m:\u001b[0m\u001b[0;34m\u001b[0m\u001b[0;34m\u001b[0m\u001b[0m\n",
          "\u001b[0;32m~/.pyenv/versions/3.8.6/lib/python3.8/site-packages/traitlets/traitlets.py\u001b[0m in \u001b[0;36merror\u001b[0;34m(self, obj, value, error, info)\u001b[0m\n\u001b[1;32m    679\u001b[0m             \u001b[0;32mif\u001b[0m \u001b[0mself\u001b[0m\u001b[0;34m.\u001b[0m\u001b[0mname\u001b[0m \u001b[0;32mis\u001b[0m \u001b[0;32mNone\u001b[0m\u001b[0;34m:\u001b[0m\u001b[0;34m\u001b[0m\u001b[0;34m\u001b[0m\u001b[0m\n\u001b[1;32m    680\u001b[0m                 \u001b[0;31m# this is not the root trait\u001b[0m\u001b[0;34m\u001b[0m\u001b[0;34m\u001b[0m\u001b[0;34m\u001b[0m\u001b[0m\n\u001b[0;32m--> 681\u001b[0;31m                 \u001b[0;32mraise\u001b[0m \u001b[0mTraitError\u001b[0m\u001b[0;34m(\u001b[0m\u001b[0mvalue\u001b[0m\u001b[0;34m,\u001b[0m \u001b[0minfo\u001b[0m \u001b[0;32mor\u001b[0m \u001b[0mself\u001b[0m\u001b[0;34m.\u001b[0m\u001b[0minfo\u001b[0m\u001b[0;34m(\u001b[0m\u001b[0;34m)\u001b[0m\u001b[0;34m,\u001b[0m \u001b[0mself\u001b[0m\u001b[0;34m)\u001b[0m\u001b[0;34m\u001b[0m\u001b[0;34m\u001b[0m\u001b[0m\n\u001b[0m\u001b[1;32m    682\u001b[0m             \u001b[0;32melse\u001b[0m\u001b[0;34m:\u001b[0m\u001b[0;34m\u001b[0m\u001b[0;34m\u001b[0m\u001b[0m\n\u001b[1;32m    683\u001b[0m                 \u001b[0;31m# this is the root trait\u001b[0m\u001b[0;34m\u001b[0m\u001b[0;34m\u001b[0m\u001b[0;34m\u001b[0m\u001b[0m\n",
          "\u001b[0;31mTraitError\u001b[0m: The 'source' trait of a Link instance contains an Instance of a WidgetTraitTuple which expected a Widget, not the float 10000.0."
         ]
        }
       ]
      }
     },
     "21513be716f5411896171c8e17fb9724": {
      "model_module": "@jupyter-widgets/controls",
      "model_module_version": "1.5.0",
      "model_name": "DescriptionStyleModel",
      "state": {
       "description_width": ""
      }
     },
     "220ba259124f423fba5307707738e80b": {
      "model_module": "@jupyter-widgets/controls",
      "model_module_version": "1.5.0",
      "model_name": "FloatRangeSliderModel",
      "state": {
       "_model_name": "FloatRangeSliderModel",
       "_view_name": "FloatRangeSliderView",
       "layout": "IPY_MODEL_89e42d32e28249f7ba0b3bb8e933fd8e",
       "max": 20,
       "step": 0.1,
       "style": "IPY_MODEL_689ede4ffaa3414e9cd38caacc1f04fa",
       "value": [
        0,
        20
       ]
      }
     },
     "2268e097200244eaaded18cec42e03e6": {
      "model_module": "@jupyter-widgets/controls",
      "model_module_version": "1.5.0",
      "model_name": "DropdownModel",
      "state": {
       "_options_labels": [
        "linear",
        "log"
       ],
       "description": "Scale: ",
       "index": 1,
       "layout": "IPY_MODEL_8750395f23974e22b2825361cc4adb69",
       "style": "IPY_MODEL_40523679d00545e58a3c6c28c5e9328f"
      }
     },
     "22c674bde5ee4e3292f557e8ec576a69": {
      "model_module": "@jupyter-widgets/base",
      "model_module_version": "1.2.0",
      "model_name": "LayoutModel",
      "state": {}
     },
     "2309c2159f3545fb8326dfb2e098aacb": {
      "model_module": "@jupyter-widgets/base",
      "model_module_version": "1.2.0",
      "model_name": "LayoutModel",
      "state": {}
     },
     "231caf87054c4436ae7268add6e7e088": {
      "model_module": "@jupyter-widgets/controls",
      "model_module_version": "1.5.0",
      "model_name": "FloatSliderModel",
      "state": {
       "description": "y_ub",
       "layout": "IPY_MODEL_f93334e3140041628bcc7b6ed1a2db48",
       "max": 100000,
       "min": 0.5,
       "step": 0.1,
       "style": "IPY_MODEL_ff2307417bd34b319de438fb7f53c9ae",
       "value": 10000
      }
     },
     "231e5af30f6f447791ede094005e0f82": {
      "model_module": "@jupyter-widgets/controls",
      "model_module_version": "1.5.0",
      "model_name": "DescriptionStyleModel",
      "state": {
       "description_width": ""
      }
     },
     "2469d1cbffa34825847e8717b771ccd2": {
      "model_module": "@jupyter-widgets/controls",
      "model_module_version": "1.5.0",
      "model_name": "CheckboxModel",
      "state": {
       "description": "Plot Experiment C",
       "disabled": false,
       "layout": "IPY_MODEL_be2d3ac9b2124680971ffe7ceab2867f",
       "style": "IPY_MODEL_21513be716f5411896171c8e17fb9724",
       "value": true
      }
     },
     "2485a4a6d0bb4ca49877d5f7d4beb5ab": {
      "model_module": "@jupyter-widgets/controls",
      "model_module_version": "1.5.0",
      "model_name": "IntSliderModel",
      "state": {
       "description": "bins",
       "layout": "IPY_MODEL_4c0f95ea4cce40aab2e72c0f9e25231b",
       "max": 2000,
       "min": 20,
       "style": "IPY_MODEL_0edc60817ef44c489b8bf590e979a005",
       "value": 1099
      }
     },
     "24ae107b063f4a5db0c6cb48de4b138b": {
      "model_module": "@jupyter-widgets/base",
      "model_module_version": "1.2.0",
      "model_name": "LayoutModel",
      "state": {}
     },
     "24ccdb9189ff4db5a1147d4df2f60977": {
      "model_module": "@jupyter-widgets/controls",
      "model_module_version": "1.5.0",
      "model_name": "DropdownModel",
      "state": {
       "_options_labels": [
        "linear",
        "log"
       ],
       "description": "Scale: ",
       "index": 1,
       "layout": "IPY_MODEL_420a3454122b4ead81946b893421ae6d",
       "style": "IPY_MODEL_0f83ba1d13834085bcbd15c1b3d475a8"
      }
     },
     "2538255d4e1b4bb8a66968caa39801b9": {
      "model_module": "@jupyter-widgets/base",
      "model_module_version": "1.2.0",
      "model_name": "LayoutModel",
      "state": {}
     },
     "2552636ae1c7408bb49c4cac0430b806": {
      "model_module": "@jupyter-widgets/controls",
      "model_module_version": "1.5.0",
      "model_name": "SliderStyleModel",
      "state": {
       "description_width": ""
      }
     },
     "25bfc0062f454f8ca24d458e45a85d4c": {
      "model_module": "@jupyter-widgets/controls",
      "model_module_version": "1.5.0",
      "model_name": "DescriptionStyleModel",
      "state": {
       "description_width": ""
      }
     },
     "267a4fd7b0764adcab5c6547f0c1b391": {
      "model_module": "@jupyter-widgets/base",
      "model_module_version": "1.2.0",
      "model_name": "LayoutModel",
      "state": {}
     },
     "26e7a08309ef4411a5e00a6dc6fa748d": {
      "model_module": "@jupyter-widgets/controls",
      "model_module_version": "1.5.0",
      "model_name": "SliderStyleModel",
      "state": {
       "description_width": ""
      }
     },
     "27b1fd29a81c441d9e209038bbfff339": {
      "model_module": "@jupyter-widgets/base",
      "model_module_version": "1.2.0",
      "model_name": "LayoutModel",
      "state": {}
     },
     "282f58f1e708438a8dececb9b9f319a6": {
      "model_module": "@jupyter-widgets/controls",
      "model_module_version": "1.5.0",
      "model_name": "DropdownModel",
      "state": {
       "_options_labels": [
        "linear",
        "log"
       ],
       "description": "Scale of y axis: ",
       "index": 0,
       "layout": "IPY_MODEL_4ef80e0185b5410998c45c586f1b315a",
       "style": "IPY_MODEL_7f44077d9c5048e7b827f7cb2c4321ef"
      }
     },
     "28542dad2c204ec6a78522f82e2225b0": {
      "model_module": "@jupyter-widgets/controls",
      "model_module_version": "1.5.0",
      "model_name": "FloatSliderModel",
      "state": {
       "layout": "IPY_MODEL_cb4ac8ec063e48f3901a11eea2a0b0f6",
       "max": 20,
       "step": 0.1,
       "style": "IPY_MODEL_dff4942cf3f94ea7a86b1528944318f3",
       "value": 20
      }
     },
     "28e1fdf2136d4d63b33d8b9d2b4aacb7": {
      "model_module": "@jupyter-widgets/output",
      "model_module_version": "1.0.0",
      "model_name": "OutputModel",
      "state": {
       "layout": "IPY_MODEL_5b5c09aa767f46d58117d0c06bc48f0a",
       "outputs": [
        {
         "data": {
          "image/svg+xml": "<?xml version=\"1.0\" encoding=\"utf-8\" standalone=\"no\"?>\n<!DOCTYPE svg PUBLIC \"-//W3C//DTD SVG 1.1//EN\"\n  \"http://www.w3.org/Graphics/SVG/1.1/DTD/svg11.dtd\">\n<!-- Created with matplotlib (https://matplotlib.org/) -->\n<svg height=\"262.19625pt\" version=\"1.1\" viewBox=\"0 0 387.478125 262.19625\" width=\"387.478125pt\" xmlns=\"http://www.w3.org/2000/svg\" xmlns:xlink=\"http://www.w3.org/1999/xlink\">\n <metadata>\n  <rdf:RDF xmlns:cc=\"http://creativecommons.org/ns#\" xmlns:dc=\"http://purl.org/dc/elements/1.1/\" xmlns:rdf=\"http://www.w3.org/1999/02/22-rdf-syntax-ns#\">\n   <cc:Work>\n    <dc:type rdf:resource=\"http://purl.org/dc/dcmitype/StillImage\"/>\n    <dc:date>2021-06-09T01:55:08.827322</dc:date>\n    <dc:format>image/svg+xml</dc:format>\n    <dc:creator>\n     <cc:Agent>\n      <dc:title>Matplotlib v3.3.3, https://matplotlib.org/</dc:title>\n     </cc:Agent>\n    </dc:creator>\n   </cc:Work>\n  </rdf:RDF>\n </metadata>\n <defs>\n  <style type=\"text/css\">*{stroke-linecap:butt;stroke-linejoin:round;}</style>\n </defs>\n <g id=\"figure_1\">\n  <g id=\"patch_1\">\n   <path d=\"M 0 262.19625 \nL 387.478125 262.19625 \nL 387.478125 0 \nL 0 0 \nz\n\" style=\"fill:none;\"/>\n  </g>\n  <g id=\"axes_1\">\n   <g id=\"patch_2\">\n    <path d=\"M 45.478125 224.64 \nL 380.278125 224.64 \nL 380.278125 7.2 \nL 45.478125 7.2 \nz\n\" style=\"fill:#ffffff;\"/>\n   </g>\n   <g id=\"matplotlib.axis_1\">\n    <g id=\"xtick_1\">\n     <g id=\"line2d_1\">\n      <defs>\n       <path d=\"M 0 0 \nL 0 3.5 \n\" id=\"m9029775c68\" style=\"stroke:#000000;stroke-width:0.8;\"/>\n      </defs>\n      <g>\n       <use style=\"stroke:#000000;stroke-width:0.8;\" x=\"45.478125\" xlink:href=\"#m9029775c68\" y=\"224.64\"/>\n      </g>\n     </g>\n     <g id=\"text_1\">\n      <!-- 0 -->\n      <g transform=\"translate(42.296875 239.238437)scale(0.1 -0.1)\">\n       <defs>\n        <path d=\"M 31.78125 66.40625 \nQ 24.171875 66.40625 20.328125 58.90625 \nQ 16.5 51.421875 16.5 36.375 \nQ 16.5 21.390625 20.328125 13.890625 \nQ 24.171875 6.390625 31.78125 6.390625 \nQ 39.453125 6.390625 43.28125 13.890625 \nQ 47.125 21.390625 47.125 36.375 \nQ 47.125 51.421875 43.28125 58.90625 \nQ 39.453125 66.40625 31.78125 66.40625 \nz\nM 31.78125 74.21875 \nQ 44.046875 74.21875 50.515625 64.515625 \nQ 56.984375 54.828125 56.984375 36.375 \nQ 56.984375 17.96875 50.515625 8.265625 \nQ 44.046875 -1.421875 31.78125 -1.421875 \nQ 19.53125 -1.421875 13.0625 8.265625 \nQ 6.59375 17.96875 6.59375 36.375 \nQ 6.59375 54.828125 13.0625 64.515625 \nQ 19.53125 74.21875 31.78125 74.21875 \nz\n\" id=\"DejaVuSans-48\"/>\n       </defs>\n       <use xlink:href=\"#DejaVuSans-48\"/>\n      </g>\n     </g>\n    </g>\n    <g id=\"xtick_2\">\n     <g id=\"line2d_2\">\n      <g>\n       <use style=\"stroke:#000000;stroke-width:0.8;\" x=\"83.308633\" xlink:href=\"#m9029775c68\" y=\"224.64\"/>\n      </g>\n     </g>\n     <g id=\"text_2\">\n      <!-- 2 -->\n      <g transform=\"translate(80.127383 239.238437)scale(0.1 -0.1)\">\n       <defs>\n        <path d=\"M 19.1875 8.296875 \nL 53.609375 8.296875 \nL 53.609375 0 \nL 7.328125 0 \nL 7.328125 8.296875 \nQ 12.9375 14.109375 22.625 23.890625 \nQ 32.328125 33.6875 34.8125 36.53125 \nQ 39.546875 41.84375 41.421875 45.53125 \nQ 43.3125 49.21875 43.3125 52.78125 \nQ 43.3125 58.59375 39.234375 62.25 \nQ 35.15625 65.921875 28.609375 65.921875 \nQ 23.96875 65.921875 18.8125 64.3125 \nQ 13.671875 62.703125 7.8125 59.421875 \nL 7.8125 69.390625 \nQ 13.765625 71.78125 18.9375 73 \nQ 24.125 74.21875 28.421875 74.21875 \nQ 39.75 74.21875 46.484375 68.546875 \nQ 53.21875 62.890625 53.21875 53.421875 \nQ 53.21875 48.921875 51.53125 44.890625 \nQ 49.859375 40.875 45.40625 35.40625 \nQ 44.1875 33.984375 37.640625 27.21875 \nQ 31.109375 20.453125 19.1875 8.296875 \nz\n\" id=\"DejaVuSans-50\"/>\n       </defs>\n       <use xlink:href=\"#DejaVuSans-50\"/>\n      </g>\n     </g>\n    </g>\n    <g id=\"xtick_3\">\n     <g id=\"line2d_3\">\n      <g>\n       <use style=\"stroke:#000000;stroke-width:0.8;\" x=\"121.139142\" xlink:href=\"#m9029775c68\" y=\"224.64\"/>\n      </g>\n     </g>\n     <g id=\"text_3\">\n      <!-- 4 -->\n      <g transform=\"translate(117.957892 239.238437)scale(0.1 -0.1)\">\n       <defs>\n        <path d=\"M 37.796875 64.3125 \nL 12.890625 25.390625 \nL 37.796875 25.390625 \nz\nM 35.203125 72.90625 \nL 47.609375 72.90625 \nL 47.609375 25.390625 \nL 58.015625 25.390625 \nL 58.015625 17.1875 \nL 47.609375 17.1875 \nL 47.609375 0 \nL 37.796875 0 \nL 37.796875 17.1875 \nL 4.890625 17.1875 \nL 4.890625 26.703125 \nz\n\" id=\"DejaVuSans-52\"/>\n       </defs>\n       <use xlink:href=\"#DejaVuSans-52\"/>\n      </g>\n     </g>\n    </g>\n    <g id=\"xtick_4\">\n     <g id=\"line2d_4\">\n      <g>\n       <use style=\"stroke:#000000;stroke-width:0.8;\" x=\"158.96965\" xlink:href=\"#m9029775c68\" y=\"224.64\"/>\n      </g>\n     </g>\n     <g id=\"text_4\">\n      <!-- 6 -->\n      <g transform=\"translate(155.7884 239.238437)scale(0.1 -0.1)\">\n       <defs>\n        <path d=\"M 33.015625 40.375 \nQ 26.375 40.375 22.484375 35.828125 \nQ 18.609375 31.296875 18.609375 23.390625 \nQ 18.609375 15.53125 22.484375 10.953125 \nQ 26.375 6.390625 33.015625 6.390625 \nQ 39.65625 6.390625 43.53125 10.953125 \nQ 47.40625 15.53125 47.40625 23.390625 \nQ 47.40625 31.296875 43.53125 35.828125 \nQ 39.65625 40.375 33.015625 40.375 \nz\nM 52.59375 71.296875 \nL 52.59375 62.3125 \nQ 48.875 64.0625 45.09375 64.984375 \nQ 41.3125 65.921875 37.59375 65.921875 \nQ 27.828125 65.921875 22.671875 59.328125 \nQ 17.53125 52.734375 16.796875 39.40625 \nQ 19.671875 43.65625 24.015625 45.921875 \nQ 28.375 48.1875 33.59375 48.1875 \nQ 44.578125 48.1875 50.953125 41.515625 \nQ 57.328125 34.859375 57.328125 23.390625 \nQ 57.328125 12.15625 50.6875 5.359375 \nQ 44.046875 -1.421875 33.015625 -1.421875 \nQ 20.359375 -1.421875 13.671875 8.265625 \nQ 6.984375 17.96875 6.984375 36.375 \nQ 6.984375 53.65625 15.1875 63.9375 \nQ 23.390625 74.21875 37.203125 74.21875 \nQ 40.921875 74.21875 44.703125 73.484375 \nQ 48.484375 72.75 52.59375 71.296875 \nz\n\" id=\"DejaVuSans-54\"/>\n       </defs>\n       <use xlink:href=\"#DejaVuSans-54\"/>\n      </g>\n     </g>\n    </g>\n    <g id=\"xtick_5\">\n     <g id=\"line2d_5\">\n      <g>\n       <use style=\"stroke:#000000;stroke-width:0.8;\" x=\"196.800159\" xlink:href=\"#m9029775c68\" y=\"224.64\"/>\n      </g>\n     </g>\n     <g id=\"text_5\">\n      <!-- 8 -->\n      <g transform=\"translate(193.618909 239.238437)scale(0.1 -0.1)\">\n       <defs>\n        <path d=\"M 31.78125 34.625 \nQ 24.75 34.625 20.71875 30.859375 \nQ 16.703125 27.09375 16.703125 20.515625 \nQ 16.703125 13.921875 20.71875 10.15625 \nQ 24.75 6.390625 31.78125 6.390625 \nQ 38.8125 6.390625 42.859375 10.171875 \nQ 46.921875 13.96875 46.921875 20.515625 \nQ 46.921875 27.09375 42.890625 30.859375 \nQ 38.875 34.625 31.78125 34.625 \nz\nM 21.921875 38.8125 \nQ 15.578125 40.375 12.03125 44.71875 \nQ 8.5 49.078125 8.5 55.328125 \nQ 8.5 64.0625 14.71875 69.140625 \nQ 20.953125 74.21875 31.78125 74.21875 \nQ 42.671875 74.21875 48.875 69.140625 \nQ 55.078125 64.0625 55.078125 55.328125 \nQ 55.078125 49.078125 51.53125 44.71875 \nQ 48 40.375 41.703125 38.8125 \nQ 48.828125 37.15625 52.796875 32.3125 \nQ 56.78125 27.484375 56.78125 20.515625 \nQ 56.78125 9.90625 50.3125 4.234375 \nQ 43.84375 -1.421875 31.78125 -1.421875 \nQ 19.734375 -1.421875 13.25 4.234375 \nQ 6.78125 9.90625 6.78125 20.515625 \nQ 6.78125 27.484375 10.78125 32.3125 \nQ 14.796875 37.15625 21.921875 38.8125 \nz\nM 18.3125 54.390625 \nQ 18.3125 48.734375 21.84375 45.5625 \nQ 25.390625 42.390625 31.78125 42.390625 \nQ 38.140625 42.390625 41.71875 45.5625 \nQ 45.3125 48.734375 45.3125 54.390625 \nQ 45.3125 60.0625 41.71875 63.234375 \nQ 38.140625 66.40625 31.78125 66.40625 \nQ 25.390625 66.40625 21.84375 63.234375 \nQ 18.3125 60.0625 18.3125 54.390625 \nz\n\" id=\"DejaVuSans-56\"/>\n       </defs>\n       <use xlink:href=\"#DejaVuSans-56\"/>\n      </g>\n     </g>\n    </g>\n    <g id=\"xtick_6\">\n     <g id=\"line2d_6\">\n      <g>\n       <use style=\"stroke:#000000;stroke-width:0.8;\" x=\"234.630667\" xlink:href=\"#m9029775c68\" y=\"224.64\"/>\n      </g>\n     </g>\n     <g id=\"text_6\">\n      <!-- 10 -->\n      <g transform=\"translate(228.268167 239.238437)scale(0.1 -0.1)\">\n       <defs>\n        <path d=\"M 12.40625 8.296875 \nL 28.515625 8.296875 \nL 28.515625 63.921875 \nL 10.984375 60.40625 \nL 10.984375 69.390625 \nL 28.421875 72.90625 \nL 38.28125 72.90625 \nL 38.28125 8.296875 \nL 54.390625 8.296875 \nL 54.390625 0 \nL 12.40625 0 \nz\n\" id=\"DejaVuSans-49\"/>\n       </defs>\n       <use xlink:href=\"#DejaVuSans-49\"/>\n       <use x=\"63.623047\" xlink:href=\"#DejaVuSans-48\"/>\n      </g>\n     </g>\n    </g>\n    <g id=\"xtick_7\">\n     <g id=\"line2d_7\">\n      <g>\n       <use style=\"stroke:#000000;stroke-width:0.8;\" x=\"272.461176\" xlink:href=\"#m9029775c68\" y=\"224.64\"/>\n      </g>\n     </g>\n     <g id=\"text_7\">\n      <!-- 12 -->\n      <g transform=\"translate(266.098676 239.238437)scale(0.1 -0.1)\">\n       <use xlink:href=\"#DejaVuSans-49\"/>\n       <use x=\"63.623047\" xlink:href=\"#DejaVuSans-50\"/>\n      </g>\n     </g>\n    </g>\n    <g id=\"xtick_8\">\n     <g id=\"line2d_8\">\n      <g>\n       <use style=\"stroke:#000000;stroke-width:0.8;\" x=\"310.291684\" xlink:href=\"#m9029775c68\" y=\"224.64\"/>\n      </g>\n     </g>\n     <g id=\"text_8\">\n      <!-- 14 -->\n      <g transform=\"translate(303.929184 239.238437)scale(0.1 -0.1)\">\n       <use xlink:href=\"#DejaVuSans-49\"/>\n       <use x=\"63.623047\" xlink:href=\"#DejaVuSans-52\"/>\n      </g>\n     </g>\n    </g>\n    <g id=\"xtick_9\">\n     <g id=\"line2d_9\">\n      <g>\n       <use style=\"stroke:#000000;stroke-width:0.8;\" x=\"348.122193\" xlink:href=\"#m9029775c68\" y=\"224.64\"/>\n      </g>\n     </g>\n     <g id=\"text_9\">\n      <!-- 16 -->\n      <g transform=\"translate(341.759693 239.238437)scale(0.1 -0.1)\">\n       <use xlink:href=\"#DejaVuSans-49\"/>\n       <use x=\"63.623047\" xlink:href=\"#DejaVuSans-54\"/>\n      </g>\n     </g>\n    </g>\n    <g id=\"text_10\">\n     <!-- Energy (keV) -->\n     <g transform=\"translate(180.670313 252.916562)scale(0.1 -0.1)\">\n      <defs>\n       <path d=\"M 9.8125 72.90625 \nL 55.90625 72.90625 \nL 55.90625 64.59375 \nL 19.671875 64.59375 \nL 19.671875 43.015625 \nL 54.390625 43.015625 \nL 54.390625 34.71875 \nL 19.671875 34.71875 \nL 19.671875 8.296875 \nL 56.78125 8.296875 \nL 56.78125 0 \nL 9.8125 0 \nz\n\" id=\"DejaVuSans-69\"/>\n       <path d=\"M 54.890625 33.015625 \nL 54.890625 0 \nL 45.90625 0 \nL 45.90625 32.71875 \nQ 45.90625 40.484375 42.875 44.328125 \nQ 39.84375 48.1875 33.796875 48.1875 \nQ 26.515625 48.1875 22.3125 43.546875 \nQ 18.109375 38.921875 18.109375 30.90625 \nL 18.109375 0 \nL 9.078125 0 \nL 9.078125 54.6875 \nL 18.109375 54.6875 \nL 18.109375 46.1875 \nQ 21.34375 51.125 25.703125 53.5625 \nQ 30.078125 56 35.796875 56 \nQ 45.21875 56 50.046875 50.171875 \nQ 54.890625 44.34375 54.890625 33.015625 \nz\n\" id=\"DejaVuSans-110\"/>\n       <path d=\"M 56.203125 29.59375 \nL 56.203125 25.203125 \nL 14.890625 25.203125 \nQ 15.484375 15.921875 20.484375 11.0625 \nQ 25.484375 6.203125 34.421875 6.203125 \nQ 39.59375 6.203125 44.453125 7.46875 \nQ 49.3125 8.734375 54.109375 11.28125 \nL 54.109375 2.78125 \nQ 49.265625 0.734375 44.1875 -0.34375 \nQ 39.109375 -1.421875 33.890625 -1.421875 \nQ 20.796875 -1.421875 13.15625 6.1875 \nQ 5.515625 13.8125 5.515625 26.8125 \nQ 5.515625 40.234375 12.765625 48.109375 \nQ 20.015625 56 32.328125 56 \nQ 43.359375 56 49.78125 48.890625 \nQ 56.203125 41.796875 56.203125 29.59375 \nz\nM 47.21875 32.234375 \nQ 47.125 39.59375 43.09375 43.984375 \nQ 39.0625 48.390625 32.421875 48.390625 \nQ 24.90625 48.390625 20.390625 44.140625 \nQ 15.875 39.890625 15.1875 32.171875 \nz\n\" id=\"DejaVuSans-101\"/>\n       <path d=\"M 41.109375 46.296875 \nQ 39.59375 47.171875 37.8125 47.578125 \nQ 36.03125 48 33.890625 48 \nQ 26.265625 48 22.1875 43.046875 \nQ 18.109375 38.09375 18.109375 28.8125 \nL 18.109375 0 \nL 9.078125 0 \nL 9.078125 54.6875 \nL 18.109375 54.6875 \nL 18.109375 46.1875 \nQ 20.953125 51.171875 25.484375 53.578125 \nQ 30.03125 56 36.53125 56 \nQ 37.453125 56 38.578125 55.875 \nQ 39.703125 55.765625 41.0625 55.515625 \nz\n\" id=\"DejaVuSans-114\"/>\n       <path d=\"M 45.40625 27.984375 \nQ 45.40625 37.75 41.375 43.109375 \nQ 37.359375 48.484375 30.078125 48.484375 \nQ 22.859375 48.484375 18.828125 43.109375 \nQ 14.796875 37.75 14.796875 27.984375 \nQ 14.796875 18.265625 18.828125 12.890625 \nQ 22.859375 7.515625 30.078125 7.515625 \nQ 37.359375 7.515625 41.375 12.890625 \nQ 45.40625 18.265625 45.40625 27.984375 \nz\nM 54.390625 6.78125 \nQ 54.390625 -7.171875 48.1875 -13.984375 \nQ 42 -20.796875 29.203125 -20.796875 \nQ 24.46875 -20.796875 20.265625 -20.09375 \nQ 16.0625 -19.390625 12.109375 -17.921875 \nL 12.109375 -9.1875 \nQ 16.0625 -11.328125 19.921875 -12.34375 \nQ 23.78125 -13.375 27.78125 -13.375 \nQ 36.625 -13.375 41.015625 -8.765625 \nQ 45.40625 -4.15625 45.40625 5.171875 \nL 45.40625 9.625 \nQ 42.625 4.78125 38.28125 2.390625 \nQ 33.9375 0 27.875 0 \nQ 17.828125 0 11.671875 7.65625 \nQ 5.515625 15.328125 5.515625 27.984375 \nQ 5.515625 40.671875 11.671875 48.328125 \nQ 17.828125 56 27.875 56 \nQ 33.9375 56 38.28125 53.609375 \nQ 42.625 51.21875 45.40625 46.390625 \nL 45.40625 54.6875 \nL 54.390625 54.6875 \nz\n\" id=\"DejaVuSans-103\"/>\n       <path d=\"M 32.171875 -5.078125 \nQ 28.375 -14.84375 24.75 -17.8125 \nQ 21.140625 -20.796875 15.09375 -20.796875 \nL 7.90625 -20.796875 \nL 7.90625 -13.28125 \nL 13.1875 -13.28125 \nQ 16.890625 -13.28125 18.9375 -11.515625 \nQ 21 -9.765625 23.484375 -3.21875 \nL 25.09375 0.875 \nL 2.984375 54.6875 \nL 12.5 54.6875 \nL 29.59375 11.921875 \nL 46.6875 54.6875 \nL 56.203125 54.6875 \nz\n\" id=\"DejaVuSans-121\"/>\n       <path id=\"DejaVuSans-32\"/>\n       <path d=\"M 31 75.875 \nQ 24.46875 64.65625 21.28125 53.65625 \nQ 18.109375 42.671875 18.109375 31.390625 \nQ 18.109375 20.125 21.3125 9.0625 \nQ 24.515625 -2 31 -13.1875 \nL 23.1875 -13.1875 \nQ 15.875 -1.703125 12.234375 9.375 \nQ 8.59375 20.453125 8.59375 31.390625 \nQ 8.59375 42.28125 12.203125 53.3125 \nQ 15.828125 64.359375 23.1875 75.875 \nz\n\" id=\"DejaVuSans-40\"/>\n       <path d=\"M 9.078125 75.984375 \nL 18.109375 75.984375 \nL 18.109375 31.109375 \nL 44.921875 54.6875 \nL 56.390625 54.6875 \nL 27.390625 29.109375 \nL 57.625 0 \nL 45.90625 0 \nL 18.109375 26.703125 \nL 18.109375 0 \nL 9.078125 0 \nz\n\" id=\"DejaVuSans-107\"/>\n       <path d=\"M 28.609375 0 \nL 0.78125 72.90625 \nL 11.078125 72.90625 \nL 34.1875 11.53125 \nL 57.328125 72.90625 \nL 67.578125 72.90625 \nL 39.796875 0 \nz\n\" id=\"DejaVuSans-86\"/>\n       <path d=\"M 8.015625 75.875 \nL 15.828125 75.875 \nQ 23.140625 64.359375 26.78125 53.3125 \nQ 30.421875 42.28125 30.421875 31.390625 \nQ 30.421875 20.453125 26.78125 9.375 \nQ 23.140625 -1.703125 15.828125 -13.1875 \nL 8.015625 -13.1875 \nQ 14.5 -2 17.703125 9.0625 \nQ 20.90625 20.125 20.90625 31.390625 \nQ 20.90625 42.671875 17.703125 53.65625 \nQ 14.5 64.65625 8.015625 75.875 \nz\n\" id=\"DejaVuSans-41\"/>\n      </defs>\n      <use xlink:href=\"#DejaVuSans-69\"/>\n      <use x=\"63.183594\" xlink:href=\"#DejaVuSans-110\"/>\n      <use x=\"126.5625\" xlink:href=\"#DejaVuSans-101\"/>\n      <use x=\"188.085938\" xlink:href=\"#DejaVuSans-114\"/>\n      <use x=\"227.449219\" xlink:href=\"#DejaVuSans-103\"/>\n      <use x=\"290.925781\" xlink:href=\"#DejaVuSans-121\"/>\n      <use x=\"350.105469\" xlink:href=\"#DejaVuSans-32\"/>\n      <use x=\"381.892578\" xlink:href=\"#DejaVuSans-40\"/>\n      <use x=\"420.90625\" xlink:href=\"#DejaVuSans-107\"/>\n      <use x=\"475.191406\" xlink:href=\"#DejaVuSans-101\"/>\n      <use x=\"536.714844\" xlink:href=\"#DejaVuSans-86\"/>\n      <use x=\"605.123047\" xlink:href=\"#DejaVuSans-41\"/>\n     </g>\n    </g>\n   </g>\n   <g id=\"matplotlib.axis_2\">\n    <g id=\"ytick_1\">\n     <g id=\"line2d_10\">\n      <defs>\n       <path d=\"M 0 0 \nL -3.5 0 \n\" id=\"m21aff8c4a4\" style=\"stroke:#000000;stroke-width:0.8;\"/>\n      </defs>\n      <g>\n       <use style=\"stroke:#000000;stroke-width:0.8;\" x=\"45.478125\" xlink:href=\"#m21aff8c4a4\" y=\"211.006267\"/>\n      </g>\n     </g>\n     <g id=\"text_11\">\n      <!-- $\\mathdefault{10^{0}}$ -->\n      <g transform=\"translate(20.878125 214.805486)scale(0.1 -0.1)\">\n       <use transform=\"translate(0 0.765625)\" xlink:href=\"#DejaVuSans-49\"/>\n       <use transform=\"translate(63.623047 0.765625)\" xlink:href=\"#DejaVuSans-48\"/>\n       <use transform=\"translate(128.203125 39.046875)scale(0.7)\" xlink:href=\"#DejaVuSans-48\"/>\n      </g>\n     </g>\n    </g>\n    <g id=\"ytick_2\">\n     <g id=\"line2d_11\">\n      <g>\n       <use style=\"stroke:#000000;stroke-width:0.8;\" x=\"45.478125\" xlink:href=\"#m21aff8c4a4\" y=\"165.715985\"/>\n      </g>\n     </g>\n     <g id=\"text_12\">\n      <!-- $\\mathdefault{10^{1}}$ -->\n      <g transform=\"translate(20.878125 169.515204)scale(0.1 -0.1)\">\n       <use transform=\"translate(0 0.684375)\" xlink:href=\"#DejaVuSans-49\"/>\n       <use transform=\"translate(63.623047 0.684375)\" xlink:href=\"#DejaVuSans-48\"/>\n       <use transform=\"translate(128.203125 38.965625)scale(0.7)\" xlink:href=\"#DejaVuSans-49\"/>\n      </g>\n     </g>\n    </g>\n    <g id=\"ytick_3\">\n     <g id=\"line2d_12\">\n      <g>\n       <use style=\"stroke:#000000;stroke-width:0.8;\" x=\"45.478125\" xlink:href=\"#m21aff8c4a4\" y=\"120.425704\"/>\n      </g>\n     </g>\n     <g id=\"text_13\">\n      <!-- $\\mathdefault{10^{2}}$ -->\n      <g transform=\"translate(20.878125 124.224923)scale(0.1 -0.1)\">\n       <use transform=\"translate(0 0.765625)\" xlink:href=\"#DejaVuSans-49\"/>\n       <use transform=\"translate(63.623047 0.765625)\" xlink:href=\"#DejaVuSans-48\"/>\n       <use transform=\"translate(128.203125 39.046875)scale(0.7)\" xlink:href=\"#DejaVuSans-50\"/>\n      </g>\n     </g>\n    </g>\n    <g id=\"ytick_4\">\n     <g id=\"line2d_13\">\n      <g>\n       <use style=\"stroke:#000000;stroke-width:0.8;\" x=\"45.478125\" xlink:href=\"#m21aff8c4a4\" y=\"75.135422\"/>\n      </g>\n     </g>\n     <g id=\"text_14\">\n      <!-- $\\mathdefault{10^{3}}$ -->\n      <g transform=\"translate(20.878125 78.934641)scale(0.1 -0.1)\">\n       <defs>\n        <path d=\"M 40.578125 39.3125 \nQ 47.65625 37.796875 51.625 33 \nQ 55.609375 28.21875 55.609375 21.1875 \nQ 55.609375 10.40625 48.1875 4.484375 \nQ 40.765625 -1.421875 27.09375 -1.421875 \nQ 22.515625 -1.421875 17.65625 -0.515625 \nQ 12.796875 0.390625 7.625 2.203125 \nL 7.625 11.71875 \nQ 11.71875 9.328125 16.59375 8.109375 \nQ 21.484375 6.890625 26.8125 6.890625 \nQ 36.078125 6.890625 40.9375 10.546875 \nQ 45.796875 14.203125 45.796875 21.1875 \nQ 45.796875 27.640625 41.28125 31.265625 \nQ 36.765625 34.90625 28.71875 34.90625 \nL 20.21875 34.90625 \nL 20.21875 43.015625 \nL 29.109375 43.015625 \nQ 36.375 43.015625 40.234375 45.921875 \nQ 44.09375 48.828125 44.09375 54.296875 \nQ 44.09375 59.90625 40.109375 62.90625 \nQ 36.140625 65.921875 28.71875 65.921875 \nQ 24.65625 65.921875 20.015625 65.03125 \nQ 15.375 64.15625 9.8125 62.3125 \nL 9.8125 71.09375 \nQ 15.4375 72.65625 20.34375 73.4375 \nQ 25.25 74.21875 29.59375 74.21875 \nQ 40.828125 74.21875 47.359375 69.109375 \nQ 53.90625 64.015625 53.90625 55.328125 \nQ 53.90625 49.265625 50.4375 45.09375 \nQ 46.96875 40.921875 40.578125 39.3125 \nz\n\" id=\"DejaVuSans-51\"/>\n       </defs>\n       <use transform=\"translate(0 0.765625)\" xlink:href=\"#DejaVuSans-49\"/>\n       <use transform=\"translate(63.623047 0.765625)\" xlink:href=\"#DejaVuSans-48\"/>\n       <use transform=\"translate(128.203125 39.046875)scale(0.7)\" xlink:href=\"#DejaVuSans-51\"/>\n      </g>\n     </g>\n    </g>\n    <g id=\"ytick_5\">\n     <g id=\"line2d_14\">\n      <g>\n       <use style=\"stroke:#000000;stroke-width:0.8;\" x=\"45.478125\" xlink:href=\"#m21aff8c4a4\" y=\"29.845141\"/>\n      </g>\n     </g>\n     <g id=\"text_15\">\n      <!-- $\\mathdefault{10^{4}}$ -->\n      <g transform=\"translate(20.878125 33.64436)scale(0.1 -0.1)\">\n       <use transform=\"translate(0 0.684375)\" xlink:href=\"#DejaVuSans-49\"/>\n       <use transform=\"translate(63.623047 0.684375)\" xlink:href=\"#DejaVuSans-48\"/>\n       <use transform=\"translate(128.203125 38.965625)scale(0.7)\" xlink:href=\"#DejaVuSans-52\"/>\n      </g>\n     </g>\n    </g>\n    <g id=\"ytick_6\">\n     <g id=\"line2d_15\">\n      <defs>\n       <path d=\"M 0 0 \nL -2 0 \n\" id=\"mae071276b9\" style=\"stroke:#000000;stroke-width:0.6;\"/>\n      </defs>\n      <g>\n       <use style=\"stroke:#000000;stroke-width:0.6;\" x=\"45.478125\" xlink:href=\"#mae071276b9\" y=\"224.64\"/>\n      </g>\n     </g>\n    </g>\n    <g id=\"ytick_7\">\n     <g id=\"line2d_16\">\n      <g>\n       <use style=\"stroke:#000000;stroke-width:0.6;\" x=\"45.478125\" xlink:href=\"#mae071276b9\" y=\"221.053859\"/>\n      </g>\n     </g>\n    </g>\n    <g id=\"ytick_8\">\n     <g id=\"line2d_17\">\n      <g>\n       <use style=\"stroke:#000000;stroke-width:0.6;\" x=\"45.478125\" xlink:href=\"#mae071276b9\" y=\"218.02182\"/>\n      </g>\n     </g>\n    </g>\n    <g id=\"ytick_9\">\n     <g id=\"line2d_18\">\n      <g>\n       <use style=\"stroke:#000000;stroke-width:0.6;\" x=\"45.478125\" xlink:href=\"#mae071276b9\" y=\"215.395349\"/>\n      </g>\n     </g>\n    </g>\n    <g id=\"ytick_10\">\n     <g id=\"line2d_19\">\n      <g>\n       <use style=\"stroke:#000000;stroke-width:0.6;\" x=\"45.478125\" xlink:href=\"#mae071276b9\" y=\"213.078636\"/>\n      </g>\n     </g>\n    </g>\n    <g id=\"ytick_11\">\n     <g id=\"line2d_20\">\n      <g>\n       <use style=\"stroke:#000000;stroke-width:0.6;\" x=\"45.478125\" xlink:href=\"#mae071276b9\" y=\"197.372534\"/>\n      </g>\n     </g>\n    </g>\n    <g id=\"ytick_12\">\n     <g id=\"line2d_21\">\n      <g>\n       <use style=\"stroke:#000000;stroke-width:0.6;\" x=\"45.478125\" xlink:href=\"#mae071276b9\" y=\"189.397311\"/>\n      </g>\n     </g>\n    </g>\n    <g id=\"ytick_13\">\n     <g id=\"line2d_22\">\n      <g>\n       <use style=\"stroke:#000000;stroke-width:0.6;\" x=\"45.478125\" xlink:href=\"#mae071276b9\" y=\"183.7388\"/>\n      </g>\n     </g>\n    </g>\n    <g id=\"ytick_14\">\n     <g id=\"line2d_23\">\n      <g>\n       <use style=\"stroke:#000000;stroke-width:0.6;\" x=\"45.478125\" xlink:href=\"#mae071276b9\" y=\"179.349718\"/>\n      </g>\n     </g>\n    </g>\n    <g id=\"ytick_15\">\n     <g id=\"line2d_24\">\n      <g>\n       <use style=\"stroke:#000000;stroke-width:0.6;\" x=\"45.478125\" xlink:href=\"#mae071276b9\" y=\"175.763578\"/>\n      </g>\n     </g>\n    </g>\n    <g id=\"ytick_16\">\n     <g id=\"line2d_25\">\n      <g>\n       <use style=\"stroke:#000000;stroke-width:0.6;\" x=\"45.478125\" xlink:href=\"#mae071276b9\" y=\"172.731539\"/>\n      </g>\n     </g>\n    </g>\n    <g id=\"ytick_17\">\n     <g id=\"line2d_26\">\n      <g>\n       <use style=\"stroke:#000000;stroke-width:0.6;\" x=\"45.478125\" xlink:href=\"#mae071276b9\" y=\"170.105067\"/>\n      </g>\n     </g>\n    </g>\n    <g id=\"ytick_18\">\n     <g id=\"line2d_27\">\n      <g>\n       <use style=\"stroke:#000000;stroke-width:0.6;\" x=\"45.478125\" xlink:href=\"#mae071276b9\" y=\"167.788355\"/>\n      </g>\n     </g>\n    </g>\n    <g id=\"ytick_19\">\n     <g id=\"line2d_28\">\n      <g>\n       <use style=\"stroke:#000000;stroke-width:0.6;\" x=\"45.478125\" xlink:href=\"#mae071276b9\" y=\"152.082252\"/>\n      </g>\n     </g>\n    </g>\n    <g id=\"ytick_20\">\n     <g id=\"line2d_29\">\n      <g>\n       <use style=\"stroke:#000000;stroke-width:0.6;\" x=\"45.478125\" xlink:href=\"#mae071276b9\" y=\"144.107029\"/>\n      </g>\n     </g>\n    </g>\n    <g id=\"ytick_21\">\n     <g id=\"line2d_30\">\n      <g>\n       <use style=\"stroke:#000000;stroke-width:0.6;\" x=\"45.478125\" xlink:href=\"#mae071276b9\" y=\"138.448519\"/>\n      </g>\n     </g>\n    </g>\n    <g id=\"ytick_22\">\n     <g id=\"line2d_31\">\n      <g>\n       <use style=\"stroke:#000000;stroke-width:0.6;\" x=\"45.478125\" xlink:href=\"#mae071276b9\" y=\"134.059437\"/>\n      </g>\n     </g>\n    </g>\n    <g id=\"ytick_23\">\n     <g id=\"line2d_32\">\n      <g>\n       <use style=\"stroke:#000000;stroke-width:0.6;\" x=\"45.478125\" xlink:href=\"#mae071276b9\" y=\"130.473296\"/>\n      </g>\n     </g>\n    </g>\n    <g id=\"ytick_24\">\n     <g id=\"line2d_33\">\n      <g>\n       <use style=\"stroke:#000000;stroke-width:0.6;\" x=\"45.478125\" xlink:href=\"#mae071276b9\" y=\"127.441257\"/>\n      </g>\n     </g>\n    </g>\n    <g id=\"ytick_25\">\n     <g id=\"line2d_34\">\n      <g>\n       <use style=\"stroke:#000000;stroke-width:0.6;\" x=\"45.478125\" xlink:href=\"#mae071276b9\" y=\"124.814786\"/>\n      </g>\n     </g>\n    </g>\n    <g id=\"ytick_26\">\n     <g id=\"line2d_35\">\n      <g>\n       <use style=\"stroke:#000000;stroke-width:0.6;\" x=\"45.478125\" xlink:href=\"#mae071276b9\" y=\"122.498073\"/>\n      </g>\n     </g>\n    </g>\n    <g id=\"ytick_27\">\n     <g id=\"line2d_36\">\n      <g>\n       <use style=\"stroke:#000000;stroke-width:0.6;\" x=\"45.478125\" xlink:href=\"#mae071276b9\" y=\"106.791971\"/>\n      </g>\n     </g>\n    </g>\n    <g id=\"ytick_28\">\n     <g id=\"line2d_37\">\n      <g>\n       <use style=\"stroke:#000000;stroke-width:0.6;\" x=\"45.478125\" xlink:href=\"#mae071276b9\" y=\"98.816748\"/>\n      </g>\n     </g>\n    </g>\n    <g id=\"ytick_29\">\n     <g id=\"line2d_38\">\n      <g>\n       <use style=\"stroke:#000000;stroke-width:0.6;\" x=\"45.478125\" xlink:href=\"#mae071276b9\" y=\"93.158237\"/>\n      </g>\n     </g>\n    </g>\n    <g id=\"ytick_30\">\n     <g id=\"line2d_39\">\n      <g>\n       <use style=\"stroke:#000000;stroke-width:0.6;\" x=\"45.478125\" xlink:href=\"#mae071276b9\" y=\"88.769155\"/>\n      </g>\n     </g>\n    </g>\n    <g id=\"ytick_31\">\n     <g id=\"line2d_40\">\n      <g>\n       <use style=\"stroke:#000000;stroke-width:0.6;\" x=\"45.478125\" xlink:href=\"#mae071276b9\" y=\"85.183015\"/>\n      </g>\n     </g>\n    </g>\n    <g id=\"ytick_32\">\n     <g id=\"line2d_41\">\n      <g>\n       <use style=\"stroke:#000000;stroke-width:0.6;\" x=\"45.478125\" xlink:href=\"#mae071276b9\" y=\"82.150976\"/>\n      </g>\n     </g>\n    </g>\n    <g id=\"ytick_33\">\n     <g id=\"line2d_42\">\n      <g>\n       <use style=\"stroke:#000000;stroke-width:0.6;\" x=\"45.478125\" xlink:href=\"#mae071276b9\" y=\"79.524504\"/>\n      </g>\n     </g>\n    </g>\n    <g id=\"ytick_34\">\n     <g id=\"line2d_43\">\n      <g>\n       <use style=\"stroke:#000000;stroke-width:0.6;\" x=\"45.478125\" xlink:href=\"#mae071276b9\" y=\"77.207792\"/>\n      </g>\n     </g>\n    </g>\n    <g id=\"ytick_35\">\n     <g id=\"line2d_44\">\n      <g>\n       <use style=\"stroke:#000000;stroke-width:0.6;\" x=\"45.478125\" xlink:href=\"#mae071276b9\" y=\"61.501689\"/>\n      </g>\n     </g>\n    </g>\n    <g id=\"ytick_36\">\n     <g id=\"line2d_45\">\n      <g>\n       <use style=\"stroke:#000000;stroke-width:0.6;\" x=\"45.478125\" xlink:href=\"#mae071276b9\" y=\"53.526466\"/>\n      </g>\n     </g>\n    </g>\n    <g id=\"ytick_37\">\n     <g id=\"line2d_46\">\n      <g>\n       <use style=\"stroke:#000000;stroke-width:0.6;\" x=\"45.478125\" xlink:href=\"#mae071276b9\" y=\"47.867956\"/>\n      </g>\n     </g>\n    </g>\n    <g id=\"ytick_38\">\n     <g id=\"line2d_47\">\n      <g>\n       <use style=\"stroke:#000000;stroke-width:0.6;\" x=\"45.478125\" xlink:href=\"#mae071276b9\" y=\"43.478874\"/>\n      </g>\n     </g>\n    </g>\n    <g id=\"ytick_39\">\n     <g id=\"line2d_48\">\n      <g>\n       <use style=\"stroke:#000000;stroke-width:0.6;\" x=\"45.478125\" xlink:href=\"#mae071276b9\" y=\"39.892733\"/>\n      </g>\n     </g>\n    </g>\n    <g id=\"ytick_40\">\n     <g id=\"line2d_49\">\n      <g>\n       <use style=\"stroke:#000000;stroke-width:0.6;\" x=\"45.478125\" xlink:href=\"#mae071276b9\" y=\"36.860694\"/>\n      </g>\n     </g>\n    </g>\n    <g id=\"ytick_41\">\n     <g id=\"line2d_50\">\n      <g>\n       <use style=\"stroke:#000000;stroke-width:0.6;\" x=\"45.478125\" xlink:href=\"#mae071276b9\" y=\"34.234223\"/>\n      </g>\n     </g>\n    </g>\n    <g id=\"ytick_42\">\n     <g id=\"line2d_51\">\n      <g>\n       <use style=\"stroke:#000000;stroke-width:0.6;\" x=\"45.478125\" xlink:href=\"#mae071276b9\" y=\"31.91751\"/>\n      </g>\n     </g>\n    </g>\n    <g id=\"ytick_43\">\n     <g id=\"line2d_52\">\n      <g>\n       <use style=\"stroke:#000000;stroke-width:0.6;\" x=\"45.478125\" xlink:href=\"#mae071276b9\" y=\"16.211408\"/>\n      </g>\n     </g>\n    </g>\n    <g id=\"ytick_44\">\n     <g id=\"line2d_53\">\n      <g>\n       <use style=\"stroke:#000000;stroke-width:0.6;\" x=\"45.478125\" xlink:href=\"#mae071276b9\" y=\"8.236185\"/>\n      </g>\n     </g>\n    </g>\n    <g id=\"text_16\">\n     <!-- Counts / (53.6 eV kg days) -->\n     <g transform=\"translate(14.798438 182.405937)rotate(-90)scale(0.1 -0.1)\">\n      <defs>\n       <path d=\"M 64.40625 67.28125 \nL 64.40625 56.890625 \nQ 59.421875 61.53125 53.78125 63.8125 \nQ 48.140625 66.109375 41.796875 66.109375 \nQ 29.296875 66.109375 22.65625 58.46875 \nQ 16.015625 50.828125 16.015625 36.375 \nQ 16.015625 21.96875 22.65625 14.328125 \nQ 29.296875 6.6875 41.796875 6.6875 \nQ 48.140625 6.6875 53.78125 8.984375 \nQ 59.421875 11.28125 64.40625 15.921875 \nL 64.40625 5.609375 \nQ 59.234375 2.09375 53.4375 0.328125 \nQ 47.65625 -1.421875 41.21875 -1.421875 \nQ 24.65625 -1.421875 15.125 8.703125 \nQ 5.609375 18.84375 5.609375 36.375 \nQ 5.609375 53.953125 15.125 64.078125 \nQ 24.65625 74.21875 41.21875 74.21875 \nQ 47.75 74.21875 53.53125 72.484375 \nQ 59.328125 70.75 64.40625 67.28125 \nz\n\" id=\"DejaVuSans-67\"/>\n       <path d=\"M 30.609375 48.390625 \nQ 23.390625 48.390625 19.1875 42.75 \nQ 14.984375 37.109375 14.984375 27.296875 \nQ 14.984375 17.484375 19.15625 11.84375 \nQ 23.34375 6.203125 30.609375 6.203125 \nQ 37.796875 6.203125 41.984375 11.859375 \nQ 46.1875 17.53125 46.1875 27.296875 \nQ 46.1875 37.015625 41.984375 42.703125 \nQ 37.796875 48.390625 30.609375 48.390625 \nz\nM 30.609375 56 \nQ 42.328125 56 49.015625 48.375 \nQ 55.71875 40.765625 55.71875 27.296875 \nQ 55.71875 13.875 49.015625 6.21875 \nQ 42.328125 -1.421875 30.609375 -1.421875 \nQ 18.84375 -1.421875 12.171875 6.21875 \nQ 5.515625 13.875 5.515625 27.296875 \nQ 5.515625 40.765625 12.171875 48.375 \nQ 18.84375 56 30.609375 56 \nz\n\" id=\"DejaVuSans-111\"/>\n       <path d=\"M 8.5 21.578125 \nL 8.5 54.6875 \nL 17.484375 54.6875 \nL 17.484375 21.921875 \nQ 17.484375 14.15625 20.5 10.265625 \nQ 23.53125 6.390625 29.59375 6.390625 \nQ 36.859375 6.390625 41.078125 11.03125 \nQ 45.3125 15.671875 45.3125 23.6875 \nL 45.3125 54.6875 \nL 54.296875 54.6875 \nL 54.296875 0 \nL 45.3125 0 \nL 45.3125 8.40625 \nQ 42.046875 3.421875 37.71875 1 \nQ 33.40625 -1.421875 27.6875 -1.421875 \nQ 18.265625 -1.421875 13.375 4.4375 \nQ 8.5 10.296875 8.5 21.578125 \nz\nM 31.109375 56 \nz\n\" id=\"DejaVuSans-117\"/>\n       <path d=\"M 18.3125 70.21875 \nL 18.3125 54.6875 \nL 36.8125 54.6875 \nL 36.8125 47.703125 \nL 18.3125 47.703125 \nL 18.3125 18.015625 \nQ 18.3125 11.328125 20.140625 9.421875 \nQ 21.96875 7.515625 27.59375 7.515625 \nL 36.8125 7.515625 \nL 36.8125 0 \nL 27.59375 0 \nQ 17.1875 0 13.234375 3.875 \nQ 9.28125 7.765625 9.28125 18.015625 \nL 9.28125 47.703125 \nL 2.6875 47.703125 \nL 2.6875 54.6875 \nL 9.28125 54.6875 \nL 9.28125 70.21875 \nz\n\" id=\"DejaVuSans-116\"/>\n       <path d=\"M 44.28125 53.078125 \nL 44.28125 44.578125 \nQ 40.484375 46.53125 36.375 47.5 \nQ 32.28125 48.484375 27.875 48.484375 \nQ 21.1875 48.484375 17.84375 46.4375 \nQ 14.5 44.390625 14.5 40.28125 \nQ 14.5 37.15625 16.890625 35.375 \nQ 19.28125 33.59375 26.515625 31.984375 \nL 29.59375 31.296875 \nQ 39.15625 29.25 43.1875 25.515625 \nQ 47.21875 21.78125 47.21875 15.09375 \nQ 47.21875 7.46875 41.1875 3.015625 \nQ 35.15625 -1.421875 24.609375 -1.421875 \nQ 20.21875 -1.421875 15.453125 -0.5625 \nQ 10.6875 0.296875 5.421875 2 \nL 5.421875 11.28125 \nQ 10.40625 8.6875 15.234375 7.390625 \nQ 20.0625 6.109375 24.8125 6.109375 \nQ 31.15625 6.109375 34.5625 8.28125 \nQ 37.984375 10.453125 37.984375 14.40625 \nQ 37.984375 18.0625 35.515625 20.015625 \nQ 33.0625 21.96875 24.703125 23.78125 \nL 21.578125 24.515625 \nQ 13.234375 26.265625 9.515625 29.90625 \nQ 5.8125 33.546875 5.8125 39.890625 \nQ 5.8125 47.609375 11.28125 51.796875 \nQ 16.75 56 26.8125 56 \nQ 31.78125 56 36.171875 55.265625 \nQ 40.578125 54.546875 44.28125 53.078125 \nz\n\" id=\"DejaVuSans-115\"/>\n       <path d=\"M 25.390625 72.90625 \nL 33.6875 72.90625 \nL 8.296875 -9.28125 \nL 0 -9.28125 \nz\n\" id=\"DejaVuSans-47\"/>\n       <path d=\"M 10.796875 72.90625 \nL 49.515625 72.90625 \nL 49.515625 64.59375 \nL 19.828125 64.59375 \nL 19.828125 46.734375 \nQ 21.96875 47.46875 24.109375 47.828125 \nQ 26.265625 48.1875 28.421875 48.1875 \nQ 40.625 48.1875 47.75 41.5 \nQ 54.890625 34.8125 54.890625 23.390625 \nQ 54.890625 11.625 47.5625 5.09375 \nQ 40.234375 -1.421875 26.90625 -1.421875 \nQ 22.3125 -1.421875 17.546875 -0.640625 \nQ 12.796875 0.140625 7.71875 1.703125 \nL 7.71875 11.625 \nQ 12.109375 9.234375 16.796875 8.0625 \nQ 21.484375 6.890625 26.703125 6.890625 \nQ 35.15625 6.890625 40.078125 11.328125 \nQ 45.015625 15.765625 45.015625 23.390625 \nQ 45.015625 31 40.078125 35.4375 \nQ 35.15625 39.890625 26.703125 39.890625 \nQ 22.75 39.890625 18.8125 39.015625 \nQ 14.890625 38.140625 10.796875 36.28125 \nz\n\" id=\"DejaVuSans-53\"/>\n       <path d=\"M 10.6875 12.40625 \nL 21 12.40625 \nL 21 0 \nL 10.6875 0 \nz\n\" id=\"DejaVuSans-46\"/>\n       <path d=\"M 45.40625 46.390625 \nL 45.40625 75.984375 \nL 54.390625 75.984375 \nL 54.390625 0 \nL 45.40625 0 \nL 45.40625 8.203125 \nQ 42.578125 3.328125 38.25 0.953125 \nQ 33.9375 -1.421875 27.875 -1.421875 \nQ 17.96875 -1.421875 11.734375 6.484375 \nQ 5.515625 14.40625 5.515625 27.296875 \nQ 5.515625 40.1875 11.734375 48.09375 \nQ 17.96875 56 27.875 56 \nQ 33.9375 56 38.25 53.625 \nQ 42.578125 51.265625 45.40625 46.390625 \nz\nM 14.796875 27.296875 \nQ 14.796875 17.390625 18.875 11.75 \nQ 22.953125 6.109375 30.078125 6.109375 \nQ 37.203125 6.109375 41.296875 11.75 \nQ 45.40625 17.390625 45.40625 27.296875 \nQ 45.40625 37.203125 41.296875 42.84375 \nQ 37.203125 48.484375 30.078125 48.484375 \nQ 22.953125 48.484375 18.875 42.84375 \nQ 14.796875 37.203125 14.796875 27.296875 \nz\n\" id=\"DejaVuSans-100\"/>\n       <path d=\"M 34.28125 27.484375 \nQ 23.390625 27.484375 19.1875 25 \nQ 14.984375 22.515625 14.984375 16.5 \nQ 14.984375 11.71875 18.140625 8.90625 \nQ 21.296875 6.109375 26.703125 6.109375 \nQ 34.1875 6.109375 38.703125 11.40625 \nQ 43.21875 16.703125 43.21875 25.484375 \nL 43.21875 27.484375 \nz\nM 52.203125 31.203125 \nL 52.203125 0 \nL 43.21875 0 \nL 43.21875 8.296875 \nQ 40.140625 3.328125 35.546875 0.953125 \nQ 30.953125 -1.421875 24.3125 -1.421875 \nQ 15.921875 -1.421875 10.953125 3.296875 \nQ 6 8.015625 6 15.921875 \nQ 6 25.140625 12.171875 29.828125 \nQ 18.359375 34.515625 30.609375 34.515625 \nL 43.21875 34.515625 \nL 43.21875 35.40625 \nQ 43.21875 41.609375 39.140625 45 \nQ 35.0625 48.390625 27.6875 48.390625 \nQ 23 48.390625 18.546875 47.265625 \nQ 14.109375 46.140625 10.015625 43.890625 \nL 10.015625 52.203125 \nQ 14.9375 54.109375 19.578125 55.046875 \nQ 24.21875 56 28.609375 56 \nQ 40.484375 56 46.34375 49.84375 \nQ 52.203125 43.703125 52.203125 31.203125 \nz\n\" id=\"DejaVuSans-97\"/>\n      </defs>\n      <use xlink:href=\"#DejaVuSans-67\"/>\n      <use x=\"69.824219\" xlink:href=\"#DejaVuSans-111\"/>\n      <use x=\"131.005859\" xlink:href=\"#DejaVuSans-117\"/>\n      <use x=\"194.384766\" xlink:href=\"#DejaVuSans-110\"/>\n      <use x=\"257.763672\" xlink:href=\"#DejaVuSans-116\"/>\n      <use x=\"296.972656\" xlink:href=\"#DejaVuSans-115\"/>\n      <use x=\"349.072266\" xlink:href=\"#DejaVuSans-32\"/>\n      <use x=\"380.859375\" xlink:href=\"#DejaVuSans-47\"/>\n      <use x=\"414.550781\" xlink:href=\"#DejaVuSans-32\"/>\n      <use x=\"446.337891\" xlink:href=\"#DejaVuSans-40\"/>\n      <use x=\"485.351562\" xlink:href=\"#DejaVuSans-53\"/>\n      <use x=\"548.974609\" xlink:href=\"#DejaVuSans-51\"/>\n      <use x=\"612.597656\" xlink:href=\"#DejaVuSans-46\"/>\n      <use x=\"644.384766\" xlink:href=\"#DejaVuSans-54\"/>\n      <use x=\"708.007812\" xlink:href=\"#DejaVuSans-32\"/>\n      <use x=\"739.794922\" xlink:href=\"#DejaVuSans-101\"/>\n      <use x=\"801.318359\" xlink:href=\"#DejaVuSans-86\"/>\n      <use x=\"869.726562\" xlink:href=\"#DejaVuSans-32\"/>\n      <use x=\"901.513672\" xlink:href=\"#DejaVuSans-107\"/>\n      <use x=\"959.423828\" xlink:href=\"#DejaVuSans-103\"/>\n      <use x=\"1022.900391\" xlink:href=\"#DejaVuSans-32\"/>\n      <use x=\"1054.6875\" xlink:href=\"#DejaVuSans-100\"/>\n      <use x=\"1118.164062\" xlink:href=\"#DejaVuSans-97\"/>\n      <use x=\"1179.443359\" xlink:href=\"#DejaVuSans-121\"/>\n      <use x=\"1238.623047\" xlink:href=\"#DejaVuSans-115\"/>\n      <use x=\"1290.722656\" xlink:href=\"#DejaVuSans-41\"/>\n     </g>\n    </g>\n   </g>\n   <g id=\"patch_3\">\n    <path clip-path=\"url(#p8b2afc8152)\" d=\"M 45.478125 263.19625 \nL 45.478125 42.77943 \nL 46.49267 42.77943 \nL 46.49267 44.04152 \nL 47.507216 44.04152 \nL 47.507216 44.737815 \nL 48.521761 44.737815 \nL 48.521761 45.726864 \nL 49.536307 45.726864 \nL 49.536307 46.731126 \nL 50.550852 46.731126 \nL 50.550852 47.087057 \nL 51.565398 47.087057 \nL 51.565398 49.153126 \nL 52.579943 49.153126 \nL 52.579943 49.679801 \nL 53.594489 49.679801 \nL 53.594489 51.408909 \nL 54.609034 51.408909 \nL 54.609034 52.504454 \nL 55.62358 52.504454 \nL 55.62358 53.910464 \nL 56.638125 53.910464 \nL 56.638125 53.605301 \nL 57.65267 53.605301 \nL 57.65267 55.489864 \nL 58.667216 55.489864 \nL 58.667216 56.800389 \nL 59.681761 56.800389 \nL 59.681761 57.373971 \nL 60.696307 57.373971 \nL 60.696307 58.371549 \nL 61.710852 58.371549 \nL 61.710852 60.124987 \nL 62.725398 60.124987 \nL 62.725398 60.84405 \nL 63.739943 60.84405 \nL 63.739943 61.570652 \nL 64.754489 61.570652 \nL 64.754489 63.013887 \nL 65.769034 63.013887 \nL 65.769034 63.21672 \nL 66.78358 63.21672 \nL 66.78358 65.048531 \nL 67.798125 65.048531 \nL 67.798125 65.56162 \nL 68.81267 65.56162 \nL 68.81267 66.15064 \nL 69.827216 66.15064 \nL 69.827216 66.451899 \nL 70.841761 66.451899 \nL 70.841761 69.07295 \nL 71.856307 69.07295 \nL 71.856307 70.326007 \nL 72.870852 70.326007 \nL 72.870852 71.143714 \nL 73.885398 71.143714 \nL 73.885398 72.267037 \nL 74.899943 72.267037 \nL 74.899943 72.923894 \nL 75.914489 72.923894 \nL 75.914489 74.045059 \nL 76.929034 74.045059 \nL 76.929034 75.754822 \nL 77.94358 75.754822 \nL 77.94358 75.958863 \nL 78.958125 75.958863 \nL 78.958125 76.268948 \nL 79.97267 76.268948 \nL 79.97267 79.159119 \nL 80.987216 79.159119 \nL 80.987216 79.499933 \nL 83.016307 79.499933 \nL 83.016307 81.244901 \nL 84.030852 81.244901 \nL 84.030852 82.924668 \nL 85.045398 82.924668 \nL 85.045398 84.192149 \nL 86.059943 84.192149 \nL 86.059943 85.183015 \nL 87.074489 85.183015 \nL 87.074489 86.966124 \nL 89.10358 86.894469 \nL 89.10358 87.734698 \nL 90.118125 87.734698 \nL 90.118125 89.246976 \nL 91.13267 89.246976 \nL 91.13267 91.194347 \nL 92.147216 91.194347 \nL 92.147216 91.873448 \nL 93.161761 91.873448 \nL 93.161761 93.455512 \nL 94.176307 93.455512 \nL 94.176307 92.817001 \nL 95.190852 92.817001 \nL 95.190852 94.959302 \nL 96.205398 94.959302 \nL 96.205398 94.480188 \nL 97.219943 94.480188 \nL 97.219943 96.124821 \nL 98.234489 96.124821 \nL 98.234489 97.794735 \nL 99.249034 97.794735 \nL 99.249034 100.528202 \nL 101.278125 100.528202 \nL 101.278125 99.214121 \nL 102.29267 99.214121 \nL 102.29267 104.650878 \nL 103.307216 104.650878 \nL 103.307216 102.640348 \nL 104.321761 102.640348 \nL 104.321761 101.631444 \nL 105.336307 101.631444 \nL 105.336307 104.388033 \nL 106.350852 104.388033 \nL 106.350852 104.650878 \nL 107.365398 104.650878 \nL 107.365398 105.187348 \nL 108.379943 105.187348 \nL 108.379943 107.391082 \nL 109.394489 107.391082 \nL 109.394489 109.194925 \nL 110.409034 109.194925 \nL 110.409034 108.973919 \nL 111.42358 108.973919 \nL 111.42358 110.695365 \nL 112.438125 110.695365 \nL 112.438125 111.058502 \nL 113.45267 111.058502 \nL 113.45267 112.582049 \nL 114.467216 112.582049 \nL 114.467216 114.964876 \nL 115.481761 114.964876 \nL 115.481761 113.253422 \nL 116.496307 113.253422 \nL 116.496307 115.724404 \nL 117.510852 115.724404 \nL 117.510852 116.839563 \nL 118.525398 116.839563 \nL 118.525398 119.844302 \nL 119.539943 119.844302 \nL 119.539943 120.425704 \nL 120.554489 120.425704 \nL 120.554489 121.228645 \nL 121.569034 121.228645 \nL 121.569034 123.855116 \nL 122.58358 123.855116 \nL 122.58358 124.814786 \nL 123.598125 124.814786 \nL 123.598125 121.642751 \nL 124.61267 121.642751 \nL 124.61267 124.570443 \nL 125.627216 124.570443 \nL 125.627216 120.425704 \nL 127.656307 120.425704 \nL 127.656307 115.265177 \nL 128.670852 115.265177 \nL 128.670852 101.783331 \nL 129.685398 101.783331 \nL 129.685398 91.827438 \nL 130.699943 91.827438 \nL 130.699943 80.174375 \nL 131.714489 80.174375 \nL 131.714489 69.334824 \nL 132.729034 69.334824 \nL 132.729034 59.851797 \nL 133.74358 59.851797 \nL 133.74358 51.018366 \nL 134.758125 51.018366 \nL 134.758125 43.91643 \nL 135.77267 43.91643 \nL 135.77267 38.294154 \nL 136.787216 38.294154 \nL 136.787216 33.633734 \nL 137.801761 33.633734 \nL 137.801761 30.660379 \nL 138.816307 30.660379 \nL 138.816307 29.058572 \nL 139.830852 29.058572 \nL 139.830852 28.422643 \nL 140.845398 28.422643 \nL 140.845398 29.678658 \nL 141.859943 29.678658 \nL 141.859943 32.188178 \nL 142.874489 32.188178 \nL 142.874489 36.162334 \nL 143.889034 36.162334 \nL 143.889034 41.197161 \nL 144.90358 41.197161 \nL 144.90358 48.006125 \nL 145.918125 48.006125 \nL 145.918125 55.973921 \nL 146.93267 55.973921 \nL 146.93267 66.20053 \nL 147.947216 66.20053 \nL 147.947216 76.102961 \nL 148.961761 76.102961 \nL 148.961761 87.548962 \nL 149.976307 87.548962 \nL 149.976307 100.31479 \nL 150.990852 100.31479 \nL 150.990852 114.377689 \nL 152.005398 114.377689 \nL 152.005398 131.4822 \nL 153.019943 131.4822 \nL 153.019943 139.981969 \nL 154.034489 139.981969 \nL 154.034489 146.921726 \nL 155.049034 146.921726 \nL 155.049034 156.471334 \nL 156.06358 156.471334 \nL 156.06358 154.154622 \nL 157.078125 154.154622 \nL 157.078125 157.740763 \nL 158.09267 157.740763 \nL 158.09267 162.129844 \nL 160.121761 162.129844 \nL 160.121761 153.091156 \nL 161.136307 153.091156 \nL 161.136307 154.154622 \nL 162.150852 154.154622 \nL 162.150852 162.129844 \nL 164.179943 162.129844 \nL 164.179943 160.555459 \nL 165.194489 160.555459 \nL 165.194489 163.841299 \nL 166.209034 163.841299 \nL 166.209034 165.715985 \nL 167.22358 165.715985 \nL 167.22358 183.7388 \nL 168.238125 183.7388 \nL 168.238125 175.763578 \nL 169.25267 175.763578 \nL 169.25267 167.788355 \nL 170.267216 167.788355 \nL 170.267216 175.763578 \nL 172.296307 175.763578 \nL 172.296307 197.372534 \nL 173.310852 197.372534 \nL 173.310852 170.105067 \nL 174.325398 170.105067 \nL 174.325398 179.349718 \nL 176.354489 179.349718 \nL 176.354489 197.372534 \nL 177.369034 197.372534 \nL 177.369034 163.841299 \nL 178.38358 163.841299 \nL 178.38358 189.397311 \nL 179.398125 189.397311 \nL 179.398125 179.349718 \nL 180.41267 179.349718 \nL 180.41267 189.397311 \nL 182.441761 189.397311 \nL 182.441761 183.7388 \nL 183.456307 183.7388 \nL 183.456307 197.372534 \nL 184.470852 197.372534 \nL 184.470852 179.349718 \nL 185.485398 179.349718 \nL 185.485398 211.006267 \nL 187.514489 211.006267 \nL 187.514489 189.397311 \nL 188.529034 189.397311 \nL 188.529034 183.7388 \nL 189.54358 183.7388 \nL 189.54358 263.19625 \nM 190.558125 263.19625 \nL 190.558125 211.006267 \nL 191.57267 211.006267 \nL 191.57267 179.349718 \nL 192.587216 179.349718 \nL 192.587216 183.7388 \nL 193.601761 183.7388 \nL 193.601761 211.006267 \nL 194.616307 211.006267 \nL 194.616307 197.372534 \nL 196.645398 197.372534 \nL 196.645398 211.006267 \nL 197.659943 211.006267 \nL 197.659943 263.19625 \nM 199.689034 263.19625 \nL 199.689034 211.006267 \nL 200.70358 211.006267 \nL 200.70358 183.7388 \nL 201.718125 183.7388 \nL 201.718125 197.372534 \nL 203.747216 197.372534 \nL 203.747216 211.006267 \nL 205.776307 211.006267 \nL 205.776307 263.19625 \nM 209.834489 263.19625 \nL 209.834489 197.372534 \nL 210.849034 197.372534 \nL 210.849034 263.19625 \nM 211.86358 263.19625 \nL 211.86358 197.372534 \nL 212.878125 197.372534 \nL 212.878125 211.006267 \nL 213.89267 211.006267 \nL 213.89267 263.19625 \nM 214.907216 263.19625 \nL 214.907216 211.006267 \nL 215.921761 211.006267 \nL 215.921761 263.19625 \nM 218.965398 263.19625 \nL 218.965398 197.372534 \nL 219.979943 197.372534 \nL 219.979943 263.19625 \nM 222.009034 263.19625 \nL 222.009034 211.006267 \nL 223.02358 211.006267 \nL 223.02358 263.19625 \nM 224.038125 263.19625 \nL 224.038125 211.006267 \nL 225.05267 211.006267 \nL 225.05267 263.19625 \nM 228.096307 263.19625 \nL 228.096307 211.006267 \nL 229.110852 211.006267 \nL 229.110852 263.19625 \nM 233.169034 263.19625 \nL 233.169034 211.006267 \nL 234.18358 211.006267 \nL 234.18358 263.19625 \nM 237.227216 263.19625 \nL 237.227216 211.006267 \nL 239.256307 211.006267 \nL 239.256307 263.19625 \nM 262.590852 263.19625 \nL 262.590852 211.006267 \nL 263.605398 211.006267 \nL 263.605398 263.19625 \nL 263.605398 263.19625 \n\" style=\"fill:none;stroke:#1f77b4;stroke-linejoin:miter;\"/>\n   </g>\n   <g id=\"patch_4\">\n    <path clip-path=\"url(#p8b2afc8152)\" d=\"M 45.478125 263.19625 \nL 45.478125 11.248564 \nL 46.49267 11.248564 \nL 46.49267 13.119048 \nL 47.507216 13.119048 \nL 47.507216 14.922012 \nL 48.521761 14.922012 \nL 48.521761 17.77678 \nL 49.536307 17.77678 \nL 49.536307 18.95625 \nL 50.550852 18.95625 \nL 50.550852 21.256715 \nL 51.565398 21.256715 \nL 51.565398 23.660208 \nL 52.579943 23.660208 \nL 52.579943 25.685557 \nL 53.594489 25.685557 \nL 53.594489 28.267729 \nL 54.609034 28.267729 \nL 54.609034 29.727477 \nL 55.62358 29.727477 \nL 55.62358 31.325503 \nL 56.638125 31.325503 \nL 56.638125 34.593999 \nL 57.65267 34.593999 \nL 57.65267 35.399027 \nL 58.667216 35.399027 \nL 58.667216 37.825281 \nL 59.681761 37.825281 \nL 59.681761 40.357123 \nL 60.696307 40.357123 \nL 60.696307 41.892388 \nL 61.710852 41.892388 \nL 61.710852 43.537971 \nL 62.725398 43.537971 \nL 62.725398 45.926329 \nL 63.739943 45.926329 \nL 63.739943 47.310439 \nL 64.754489 47.310439 \nL 64.754489 51.74139 \nL 65.769034 51.74139 \nL 65.769034 50.27091 \nL 66.78358 50.27091 \nL 66.78358 53.201346 \nL 67.798125 53.201346 \nL 67.798125 55.453674 \nL 68.81267 55.453674 \nL 68.81267 56.454968 \nL 69.827216 56.454968 \nL 69.827216 58.967634 \nL 70.841761 58.967634 \nL 70.841761 60.495244 \nL 71.856307 60.495244 \nL 71.856307 63.141749 \nL 72.870852 63.141749 \nL 72.870852 65.225999 \nL 73.885398 65.225999 \nL 73.885398 66.515246 \nL 74.899943 66.515246 \nL 74.899943 67.557573 \nL 75.914489 67.557573 \nL 75.914489 68.307621 \nL 76.929034 68.307621 \nL 76.929034 71.879866 \nL 77.94358 71.879866 \nL 77.94358 74.554021 \nL 78.958125 74.554021 \nL 78.958125 73.621651 \nL 79.97267 73.621651 \nL 79.97267 74.745918 \nL 80.987216 74.745918 \nL 80.987216 77.09882 \nL 82.001761 77.09882 \nL 82.001761 74.554021 \nL 83.016307 74.554021 \nL 83.016307 78.448102 \nL 84.030852 78.448102 \nL 84.030852 78.216696 \nL 85.045398 78.216696 \nL 85.045398 81.733943 \nL 86.059943 81.733943 \nL 86.059943 83.15988 \nL 87.074489 83.15988 \nL 87.074489 83.913586 \nL 88.089034 83.913586 \nL 88.089034 82.721141 \nL 89.10358 82.721141 \nL 89.10358 83.913586 \nL 90.118125 83.913586 \nL 90.118125 86.894469 \nL 91.13267 86.894469 \nL 91.13267 89.368267 \nL 92.147216 89.368267 \nL 92.147216 91.061296 \nL 93.161761 91.061296 \nL 93.161761 88.573439 \nL 94.176307 88.573439 \nL 94.176307 87.255384 \nL 95.190852 87.255384 \nL 95.190852 92.67255 \nL 96.205398 92.67255 \nL 96.205398 89.986203 \nL 97.219943 89.986203 \nL 97.219943 89.166529 \nL 98.234489 89.166529 \nL 98.234489 90.196572 \nL 99.249034 90.196572 \nL 99.249034 97.547319 \nL 100.26358 97.547319 \nL 100.26358 90.409215 \nL 101.278125 90.409215 \nL 101.278125 91.061296 \nL 102.29267 91.061296 \nL 102.29267 92.67255 \nL 103.307216 92.67255 \nL 103.307216 93.656221 \nL 104.321761 93.656221 \nL 104.321761 94.167141 \nL 106.350852 94.167141 \nL 106.350852 96.646277 \nL 107.365398 96.646277 \nL 107.365398 94.167141 \nL 108.379943 94.167141 \nL 108.379943 92.434131 \nL 109.394489 92.434131 \nL 109.394489 96.646277 \nL 110.409034 96.646277 \nL 110.409034 94.167141 \nL 111.42358 94.167141 \nL 111.42358 94.427666 \nL 112.438125 94.427666 \nL 112.438125 96.354874 \nL 114.467216 96.354874 \nL 114.467216 93.656221 \nL 115.481761 93.656221 \nL 115.481761 92.434131 \nL 116.496307 92.434131 \nL 116.496307 94.427666 \nL 117.510852 94.427666 \nL 117.510852 93.405653 \nL 118.525398 93.405653 \nL 118.525398 99.483568 \nL 119.539943 99.483568 \nL 119.539943 95.230607 \nL 120.554489 95.230607 \nL 120.554489 94.691688 \nL 121.569034 94.691688 \nL 121.569034 92.67255 \nL 122.58358 92.67255 \nL 122.58358 96.354874 \nL 123.598125 96.354874 \nL 123.598125 94.691688 \nL 124.61267 94.691688 \nL 124.61267 91.508346 \nL 125.627216 91.508346 \nL 125.627216 94.167141 \nL 126.641761 94.167141 \nL 126.641761 93.405653 \nL 127.656307 93.405653 \nL 127.656307 97.242362 \nL 128.670852 97.242362 \nL 128.670852 96.942061 \nL 129.685398 96.942061 \nL 129.685398 94.959302 \nL 130.699943 94.959302 \nL 130.699943 95.505707 \nL 131.714489 95.505707 \nL 131.714489 93.656221 \nL 132.729034 93.656221 \nL 132.729034 96.942061 \nL 133.74358 96.942061 \nL 133.74358 94.427666 \nL 134.758125 94.427666 \nL 134.758125 96.646277 \nL 135.77267 96.646277 \nL 135.77267 92.67255 \nL 136.787216 92.67255 \nL 136.787216 97.242362 \nL 137.801761 97.242362 \nL 137.801761 94.959302 \nL 138.816307 94.959302 \nL 138.816307 95.505707 \nL 139.830852 95.505707 \nL 139.830852 92.434131 \nL 140.845398 92.434131 \nL 140.845398 93.158237 \nL 141.859943 93.158237 \nL 141.859943 93.656221 \nL 142.874489 93.656221 \nL 142.874489 94.167141 \nL 143.889034 94.167141 \nL 143.889034 94.427666 \nL 144.90358 94.427666 \nL 144.90358 96.067726 \nL 145.918125 96.067726 \nL 145.918125 99.147332 \nL 146.93267 99.147332 \nL 146.93267 93.656221 \nL 147.947216 93.656221 \nL 147.947216 100.528202 \nL 148.961761 100.528202 \nL 148.961761 91.735739 \nL 149.976307 91.735739 \nL 149.976307 94.167141 \nL 150.990852 94.167141 \nL 150.990852 94.427666 \nL 152.005398 94.427666 \nL 152.005398 97.547319 \nL 154.034489 97.547319 \nL 154.034489 94.427666 \nL 155.049034 94.427666 \nL 155.049034 96.354874 \nL 156.06358 96.354874 \nL 156.06358 90.196572 \nL 157.078125 90.196572 \nL 157.078125 99.825652 \nL 158.09267 99.825652 \nL 158.09267 101.256779 \nL 159.107216 101.256779 \nL 159.107216 93.158237 \nL 160.121761 93.158237 \nL 160.121761 97.547319 \nL 161.136307 97.547319 \nL 161.136307 90.841525 \nL 162.150852 90.841525 \nL 162.150852 97.857078 \nL 163.165398 97.857078 \nL 163.165398 94.167141 \nL 164.179943 94.167141 \nL 164.179943 94.959302 \nL 165.194489 94.959302 \nL 165.194489 96.067726 \nL 166.209034 96.067726 \nL 166.209034 94.427666 \nL 167.22358 94.427666 \nL 167.22358 98.171794 \nL 168.238125 98.171794 \nL 168.238125 93.910023 \nL 169.25267 93.910023 \nL 169.25267 90.196572 \nL 170.267216 90.196572 \nL 170.267216 92.913895 \nL 171.281761 92.913895 \nL 171.281761 91.965792 \nL 172.296307 91.965792 \nL 172.296307 92.198568 \nL 173.310852 92.198568 \nL 173.310852 98.171794 \nL 174.325398 98.171794 \nL 174.325398 90.841525 \nL 175.339943 90.841525 \nL 175.339943 97.242362 \nL 176.354489 97.242362 \nL 176.354489 94.167141 \nL 177.369034 94.167141 \nL 177.369034 93.158237 \nL 178.38358 93.158237 \nL 178.38358 95.784709 \nL 179.398125 95.784709 \nL 179.398125 93.656221 \nL 180.41267 93.656221 \nL 180.41267 95.230607 \nL 181.427216 95.230607 \nL 181.427216 98.171794 \nL 182.441761 98.171794 \nL 182.441761 97.242362 \nL 183.456307 97.242362 \nL 183.456307 96.067726 \nL 184.470852 96.067726 \nL 184.470852 97.242362 \nL 185.485398 97.242362 \nL 185.485398 97.547319 \nL 186.499943 97.547319 \nL 186.499943 98.171794 \nL 187.514489 98.171794 \nL 187.514489 96.354874 \nL 188.529034 96.354874 \nL 188.529034 96.942061 \nL 189.54358 96.942061 \nL 189.54358 96.646277 \nL 190.558125 96.646277 \nL 190.558125 95.230607 \nL 191.57267 95.230607 \nL 191.57267 101.631444 \nL 192.587216 101.631444 \nL 192.587216 96.942061 \nL 193.601761 96.942061 \nL 193.601761 94.427666 \nL 195.630852 94.427666 \nL 195.630852 91.965792 \nL 196.645398 91.965792 \nL 196.645398 99.483568 \nL 197.659943 99.483568 \nL 197.659943 98.816748 \nL 198.674489 98.816748 \nL 198.674489 97.857078 \nL 199.689034 97.857078 \nL 199.689034 99.147332 \nL 200.70358 99.147332 \nL 200.70358 94.959302 \nL 201.718125 94.959302 \nL 201.718125 96.067726 \nL 202.73267 96.067726 \nL 202.73267 92.434131 \nL 203.747216 92.434131 \nL 203.747216 98.171794 \nL 204.761761 98.171794 \nL 204.761761 91.735739 \nL 205.776307 91.735739 \nL 205.776307 101.256779 \nL 206.790852 101.256779 \nL 206.790852 95.784709 \nL 207.805398 95.784709 \nL 207.805398 93.405653 \nL 208.819943 93.405653 \nL 208.819943 96.067726 \nL 209.834489 96.067726 \nL 209.834489 97.547319 \nL 210.849034 97.547319 \nL 210.849034 98.491628 \nL 211.86358 98.491628 \nL 211.86358 94.691688 \nL 212.878125 94.691688 \nL 212.878125 97.857078 \nL 213.89267 97.857078 \nL 213.89267 91.735739 \nL 214.907216 91.735739 \nL 214.907216 95.505707 \nL 215.921761 95.505707 \nL 215.921761 90.196572 \nL 216.936307 90.196572 \nL 216.936307 94.691688 \nL 217.950852 94.691688 \nL 217.950852 97.857078 \nL 218.965398 97.857078 \nL 218.965398 92.198568 \nL 219.979943 92.198568 \nL 219.979943 91.735739 \nL 220.994489 91.735739 \nL 220.994489 95.784709 \nL 223.02358 95.784709 \nL 223.02358 95.230607 \nL 224.038125 95.230607 \nL 224.038125 96.354874 \nL 225.05267 96.354874 \nL 225.05267 99.147332 \nL 226.067216 99.147332 \nL 226.067216 93.158237 \nL 227.081761 93.158237 \nL 227.081761 92.913895 \nL 228.096307 92.913895 \nL 228.096307 95.505707 \nL 229.110852 95.505707 \nL 229.110852 97.242362 \nL 230.125398 97.242362 \nL 230.125398 99.825652 \nL 231.139943 99.825652 \nL 231.139943 96.942061 \nL 232.154489 96.942061 \nL 232.154489 93.910023 \nL 233.169034 93.910023 \nL 233.169034 96.942061 \nL 234.18358 96.942061 \nL 234.18358 96.067726 \nL 235.198125 96.067726 \nL 235.198125 95.505707 \nL 236.21267 95.505707 \nL 236.21267 100.889117 \nL 237.227216 100.889117 \nL 237.227216 98.491628 \nL 239.256307 98.491628 \nL 239.256307 94.427666 \nL 240.270852 94.427666 \nL 240.270852 96.646277 \nL 241.285398 96.646277 \nL 241.285398 95.230607 \nL 242.299943 95.230607 \nL 242.299943 97.242362 \nL 243.314489 97.242362 \nL 243.314489 94.427666 \nL 244.329034 94.427666 \nL 244.329034 93.656221 \nL 245.34358 93.656221 \nL 245.34358 94.167141 \nL 246.358125 94.167141 \nL 246.358125 96.942061 \nL 247.37267 96.942061 \nL 247.37267 94.167141 \nL 248.387216 94.167141 \nL 248.387216 93.405653 \nL 249.401761 93.405653 \nL 249.401761 94.691688 \nL 250.416307 94.691688 \nL 250.416307 94.959302 \nL 252.445398 94.959302 \nL 252.445398 93.656221 \nL 253.459943 93.656221 \nL 253.459943 93.158237 \nL 254.474489 93.158237 \nL 254.474489 92.434131 \nL 255.489034 92.434131 \nL 255.489034 96.067726 \nL 256.50358 96.067726 \nL 256.50358 95.784709 \nL 257.518125 95.784709 \nL 257.518125 95.505707 \nL 258.53267 95.505707 \nL 258.53267 94.167141 \nL 259.547216 94.167141 \nL 259.547216 91.965792 \nL 260.561761 91.965792 \nL 260.561761 96.067726 \nL 261.576307 96.067726 \nL 261.576307 94.959302 \nL 262.590852 94.959302 \nL 262.590852 92.67255 \nL 263.605398 92.67255 \nL 263.605398 99.147332 \nL 264.619943 99.147332 \nL 264.619943 97.242362 \nL 265.634489 97.242362 \nL 265.634489 94.959302 \nL 266.649034 94.959302 \nL 266.649034 94.691688 \nL 267.66358 94.691688 \nL 267.66358 98.171794 \nL 268.678125 98.171794 \nL 268.678125 102.013385 \nL 269.69267 102.013385 \nL 269.69267 95.784709 \nL 270.707216 95.784709 \nL 270.707216 96.354874 \nL 271.721761 96.354874 \nL 271.721761 95.505707 \nL 272.736307 95.505707 \nL 272.736307 92.67255 \nL 273.750852 92.67255 \nL 273.750852 94.167141 \nL 274.765398 94.167141 \nL 274.765398 95.784709 \nL 275.779943 95.784709 \nL 275.779943 96.942061 \nL 276.794489 96.942061 \nL 276.794489 95.784709 \nL 277.809034 95.784709 \nL 277.809034 96.354874 \nL 278.82358 96.354874 \nL 278.82358 94.691688 \nL 279.838125 94.691688 \nL 279.838125 95.505707 \nL 280.85267 95.505707 \nL 280.85267 96.354874 \nL 281.867216 96.354874 \nL 281.867216 92.67255 \nL 282.881761 92.67255 \nL 282.881761 96.354874 \nL 283.896307 96.354874 \nL 283.896307 93.158237 \nL 284.910852 93.158237 \nL 284.910852 92.913895 \nL 285.925398 92.913895 \nL 285.925398 94.167141 \nL 286.939943 94.167141 \nL 286.939943 93.656221 \nL 287.954489 93.656221 \nL 287.954489 97.242362 \nL 288.969034 97.242362 \nL 288.969034 94.167141 \nL 289.98358 94.167141 \nL 289.98358 96.354874 \nL 290.998125 96.354874 \nL 290.998125 91.061296 \nL 292.01267 91.061296 \nL 292.01267 91.965792 \nL 293.027216 91.965792 \nL 293.027216 96.354874 \nL 294.041761 96.354874 \nL 294.041761 94.959302 \nL 295.056307 94.959302 \nL 295.056307 97.857078 \nL 297.085398 97.857078 \nL 297.085398 96.354874 \nL 298.099943 96.354874 \nL 298.099943 94.691688 \nL 299.114489 94.691688 \nL 299.114489 97.547319 \nL 300.129034 97.547319 \nL 300.129034 96.646277 \nL 302.158125 96.646277 \nL 302.158125 94.959302 \nL 303.17267 94.959302 \nL 303.17267 97.547319 \nL 304.187216 97.547319 \nL 304.187216 95.505707 \nL 305.201761 95.505707 \nL 305.201761 92.67255 \nL 306.216307 92.67255 \nL 306.216307 94.691688 \nL 307.230852 94.691688 \nL 307.230852 94.427666 \nL 308.245398 94.427666 \nL 308.245398 94.167141 \nL 309.259943 94.167141 \nL 309.259943 93.405653 \nL 310.274489 93.405653 \nL 310.274489 96.646277 \nL 311.289034 96.646277 \nL 311.289034 92.67255 \nL 312.30358 92.67255 \nL 312.30358 90.624182 \nL 313.318125 90.624182 \nL 313.318125 98.171794 \nL 314.33267 98.171794 \nL 314.33267 98.816748 \nL 315.347216 98.816748 \nL 315.347216 93.158237 \nL 316.361761 93.158237 \nL 316.361761 94.427666 \nL 317.376307 94.427666 \nL 317.376307 93.910023 \nL 318.390852 93.910023 \nL 318.390852 96.354874 \nL 319.405398 96.354874 \nL 319.405398 95.230607 \nL 320.419943 95.230607 \nL 320.419943 94.959302 \nL 321.434489 94.959302 \nL 321.434489 97.547319 \nL 322.449034 97.547319 \nL 322.449034 94.167141 \nL 323.46358 94.167141 \nL 323.46358 92.198568 \nL 324.478125 92.198568 \nL 324.478125 91.061296 \nL 325.49267 91.061296 \nL 325.49267 95.784709 \nL 327.521761 95.784709 \nL 327.521761 96.067726 \nL 328.536307 96.067726 \nL 328.536307 101.631444 \nL 329.550852 101.631444 \nL 329.550852 263.19625 \nL 329.550852 263.19625 \n\" style=\"fill:none;stroke:#ff7f0e;stroke-linejoin:miter;\"/>\n   </g>\n   <g id=\"patch_5\">\n    <path clip-path=\"url(#p8b2afc8152)\" d=\"M 45.478125 263.19625 \nL 45.478125 100.952355 \nL 46.49267 100.952355 \nL 46.49267 101.997964 \nL 47.507216 101.997964 \nL 47.507216 102.41863 \nL 48.521761 102.41863 \nL 48.521761 103.244113 \nL 49.536307 103.244113 \nL 49.536307 103.053438 \nL 50.550852 103.053438 \nL 50.550852 104.405447 \nL 51.565398 104.405447 \nL 51.565398 104.692083 \nL 52.579943 104.692083 \nL 52.579943 104.50442 \nL 53.594489 104.50442 \nL 53.594489 105.193391 \nL 54.609034 105.193391 \nL 54.609034 105.938741 \nL 55.62358 105.938741 \nL 55.62358 106.615738 \nL 56.638125 106.615738 \nL 56.638125 106.969796 \nL 57.65267 106.969796 \nL 57.65267 107.547162 \nL 58.667216 107.547162 \nL 58.667216 107.766397 \nL 59.681761 107.766397 \nL 59.681761 108.596628 \nL 60.696307 108.596628 \nL 60.696307 108.740885 \nL 61.710852 108.740885 \nL 61.710852 109.591542 \nL 62.725398 109.591542 \nL 62.725398 110.599651 \nL 63.739943 110.599651 \nL 63.739943 110.385981 \nL 64.754489 110.385981 \nL 64.754489 111.337387 \nL 65.769034 111.337387 \nL 65.769034 112.069549 \nL 67.798125 112.103876 \nL 67.798125 113.308135 \nL 68.81267 113.308135 \nL 68.81267 113.0541 \nL 69.827216 113.0541 \nL 69.827216 113.835643 \nL 70.841761 113.835643 \nL 70.841761 114.081041 \nL 71.856307 114.081041 \nL 71.856307 114.77703 \nL 72.870852 114.77703 \nL 72.870852 115.755404 \nL 73.885398 115.755404 \nL 73.885398 115.184648 \nL 74.899943 115.184648 \nL 74.899943 117.270416 \nL 75.914489 117.270416 \nL 75.914489 116.450059 \nL 76.929034 116.450059 \nL 76.929034 117.037246 \nL 77.94358 117.037246 \nL 77.94358 117.768114 \nL 78.958125 117.768114 \nL 78.958125 118.278732 \nL 79.97267 118.278732 \nL 79.97267 119.984844 \nL 80.987216 119.984844 \nL 80.987216 119.378809 \nL 82.001761 119.378809 \nL 82.001761 120.610146 \nL 83.016307 120.610146 \nL 83.016307 121.448416 \nL 84.030852 121.448416 \nL 84.030852 122.122859 \nL 85.045398 122.122859 \nL 85.045398 122.498073 \nL 87.074489 122.43988 \nL 87.074489 123.730626 \nL 88.089034 123.730626 \nL 88.089034 123.529996 \nL 89.10358 123.529996 \nL 89.10358 122.194462 \nL 90.118125 122.194462 \nL 90.118125 123.792773 \nL 91.13267 123.792773 \nL 91.13267 126.066738 \nL 92.147216 126.066738 \nL 92.147216 125.566571 \nL 93.161761 125.566571 \nL 93.161761 126.49051 \nL 94.176307 126.49051 \nL 94.176307 126.868951 \nL 95.190852 126.868951 \nL 95.190852 126.651808 \nL 96.205398 126.651808 \nL 96.205398 126.47267 \nL 97.219943 126.47267 \nL 97.219943 129.389137 \nL 98.234489 129.389137 \nL 98.234489 127.743287 \nL 99.249034 127.743287 \nL 99.249034 129.081317 \nL 100.26358 129.081317 \nL 100.26358 129.638909 \nL 101.278125 129.638909 \nL 101.278125 130.53897 \nL 102.29267 130.53897 \nL 102.29267 129.472043 \nL 103.307216 129.472043 \nL 103.307216 130.848381 \nL 104.321761 130.848381 \nL 104.321761 132.184751 \nL 105.336307 132.184751 \nL 105.336307 133.618577 \nL 106.350852 133.618577 \nL 106.350852 133.414484 \nL 107.365398 133.414484 \nL 107.365398 133.773049 \nL 108.379943 133.773049 \nL 108.379943 134.243879 \nL 109.394489 134.243879 \nL 109.394489 133.287992 \nL 110.409034 133.287992 \nL 110.409034 134.403361 \nL 111.42358 134.403361 \nL 111.42358 135.444599 \nL 112.438125 135.444599 \nL 112.438125 135.728023 \nL 113.45267 135.728023 \nL 113.45267 136.843896 \nL 114.467216 136.843896 \nL 114.467216 137.994841 \nL 115.481761 137.994841 \nL 115.481761 137.677074 \nL 116.496307 137.677074 \nL 116.496307 138.745794 \nL 117.510852 138.745794 \nL 117.510852 138.383063 \nL 118.525398 138.383063 \nL 118.525398 139.285637 \nL 119.539943 139.285637 \nL 119.539943 139.770469 \nL 120.554489 139.770469 \nL 120.554489 139.491961 \nL 121.569034 139.491961 \nL 121.569034 139.875935 \nL 122.58358 139.875935 \nL 122.58358 140.814466 \nL 123.598125 140.814466 \nL 123.598125 140.925697 \nL 124.61267 140.925697 \nL 124.61267 140.593873 \nL 125.627216 140.593873 \nL 125.627216 142.192647 \nL 126.641761 142.192647 \nL 126.641761 144.371051 \nL 127.656307 144.371051 \nL 127.656307 144.063368 \nL 128.670852 144.063368 \nL 128.670852 141.99536 \nL 129.685398 141.99536 \nL 129.685398 143.419822 \nL 130.699943 143.419822 \nL 130.699943 143.293601 \nL 131.714489 143.293601 \nL 131.714489 144.504403 \nL 133.74358 144.549055 \nL 133.74358 146.276772 \nL 134.758125 146.276772 \nL 134.758125 144.107029 \nL 135.77267 144.107029 \nL 135.77267 144.90997 \nL 136.787216 144.90997 \nL 136.787216 146.721016 \nL 137.801761 146.721016 \nL 137.801761 145.18507 \nL 138.816307 145.18507 \nL 138.816307 147.124504 \nL 139.830852 147.124504 \nL 139.830852 145.047039 \nL 140.845398 145.047039 \nL 140.845398 146.972224 \nL 141.859943 146.972224 \nL 141.859943 147.798354 \nL 142.874489 147.798354 \nL 142.874489 148.715882 \nL 143.889034 148.715882 \nL 143.889034 149.050213 \nL 144.90358 149.050213 \nL 144.90358 147.851158 \nL 145.918125 147.851158 \nL 145.918125 145.794657 \nL 146.93267 145.794657 \nL 146.93267 147.588546 \nL 147.947216 147.588546 \nL 147.947216 148.010424 \nL 149.976307 147.957192 \nL 149.976307 148.224806 \nL 150.990852 148.224806 \nL 150.990852 145.938055 \nL 152.005398 145.938055 \nL 152.005398 148.44155 \nL 153.019943 148.44155 \nL 153.019943 148.60569 \nL 154.034489 148.60569 \nL 154.034489 146.821115 \nL 155.049034 146.821115 \nL 155.049034 145.986087 \nL 156.06358 145.986087 \nL 156.06358 145.605071 \nL 157.078125 145.605071 \nL 157.078125 147.175527 \nL 159.107216 147.124504 \nL 159.107216 144.638665 \nL 160.121761 144.638665 \nL 160.121761 144.415401 \nL 161.136307 144.415401 \nL 161.136307 145.747089 \nL 162.150852 145.747089 \nL 162.150852 145.047039 \nL 163.165398 145.047039 \nL 163.165398 145.277632 \nL 164.179943 145.277632 \nL 164.179943 143.589386 \nL 165.194489 143.589386 \nL 165.194489 141.568172 \nL 166.209034 141.568172 \nL 166.209034 144.282649 \nL 167.22358 144.282649 \nL 167.22358 142.552828 \nL 168.238125 142.552828 \nL 168.238125 143.168185 \nL 169.25267 143.168185 \nL 169.25267 141.150064 \nL 171.281761 141.187709 \nL 171.281761 141.037561 \nL 172.296307 141.037561 \nL 172.296307 140.124243 \nL 173.310852 140.124243 \nL 173.310852 140.375727 \nL 174.325398 140.375727 \nL 174.325398 140.195768 \nL 175.339943 140.195768 \nL 175.339943 137.33336 \nL 176.354489 137.33336 \nL 176.354489 136.131807 \nL 177.369034 136.131807 \nL 177.369034 136.904417 \nL 178.38358 136.904417 \nL 178.38358 136.663442 \nL 179.398125 136.663442 \nL 179.398125 136.544053 \nL 180.41267 136.544053 \nL 180.41267 135.220764 \nL 183.456307 135.109794 \nL 183.456307 133.062338 \nL 184.470852 133.062338 \nL 184.470852 134.323459 \nL 185.485398 134.323459 \nL 185.485398 132.521398 \nL 186.499943 132.521398 \nL 186.499943 132.691907 \nL 187.514489 132.691907 \nL 187.514489 131.971338 \nL 188.529034 131.971338 \nL 188.529034 131.806937 \nL 189.54358 131.806937 \nL 189.54358 129.764995 \nL 190.558125 129.764995 \nL 190.558125 130.826118 \nL 191.57267 130.826118 \nL 191.57267 129.638909 \nL 192.587216 129.638909 \nL 192.587216 128.979771 \nL 194.616307 128.939299 \nL 194.616307 128.263721 \nL 196.645398 128.224694 \nL 196.645398 127.162255 \nL 198.674489 127.106926 \nL 198.674489 125.566571 \nL 199.689034 125.566571 \nL 199.689034 126.312828 \nL 200.70358 126.312828 \nL 200.70358 126.189398 \nL 201.718125 126.189398 \nL 201.718125 125.754795 \nL 202.73267 125.754795 \nL 202.73267 123.576114 \nL 203.747216 123.576114 \nL 203.747216 124.489665 \nL 204.761761 124.489665 \nL 204.761761 124.217477 \nL 205.776307 124.217477 \nL 205.776307 123.119729 \nL 206.790852 123.119729 \nL 206.790852 122.791651 \nL 207.805398 122.791651 \nL 207.805398 123.270684 \nL 208.819943 123.270684 \nL 208.819943 122.541832 \nL 209.834489 122.541832 \nL 209.834489 122.673693 \nL 210.849034 122.673693 \nL 210.849034 122.037278 \nL 211.86358 122.037278 \nL 211.86358 121.476061 \nL 212.878125 121.476061 \nL 212.878125 121.119673 \nL 214.907216 121.160467 \nL 214.907216 120.425704 \nL 215.921761 120.425704 \nL 215.921761 120.557272 \nL 216.936307 120.557272 \nL 216.936307 120.30804 \nL 217.950852 120.30804 \nL 217.950852 119.972026 \nL 220.994489 120.074805 \nL 220.994489 119.254868 \nL 222.009034 119.254868 \nL 222.009034 119.920837 \nL 223.02358 119.920837 \nL 223.02358 119.230174 \nL 224.038125 119.230174 \nL 224.038125 118.899795 \nL 225.05267 118.899795 \nL 225.05267 120.386404 \nL 226.067216 120.386404 \nL 226.067216 120.0362 \nL 227.081761 120.0362 \nL 227.081761 119.180877 \nL 228.096307 119.180877 \nL 228.096307 118.863426 \nL 229.110852 118.863426 \nL 229.110852 118.14983 \nL 230.125398 118.14983 \nL 230.125398 119.428605 \nL 231.139943 119.428605 \nL 231.139943 118.936231 \nL 232.154489 118.936231 \nL 232.154489 119.070409 \nL 234.18358 119.021511 \nL 234.18358 118.670588 \nL 235.198125 118.670588 \nL 235.198125 119.107163 \nL 236.21267 119.107163 \nL 236.21267 118.444022 \nL 237.227216 118.444022 \nL 237.227216 119.692121 \nL 238.241761 119.692121 \nL 238.241761 119.156275 \nL 239.256307 119.156275 \nL 239.256307 118.610712 \nL 240.270852 118.610712 \nL 240.270852 118.373013 \nL 241.285398 118.373013 \nL 241.285398 119.329139 \nL 243.314489 119.378809 \nL 243.314489 118.875541 \nL 244.329034 118.875541 \nL 244.329034 119.844302 \nL 245.34358 119.844302 \nL 245.34358 119.082653 \nL 246.358125 119.082653 \nL 246.358125 118.562942 \nL 247.37267 118.562942 \nL 247.37267 119.666872 \nL 248.387216 119.666872 \nL 248.387216 120.903524 \nL 249.401761 120.903524 \nL 249.401761 120.061928 \nL 250.416307 120.061928 \nL 250.416307 120.178124 \nL 251.430852 120.178124 \nL 251.430852 121.038339 \nL 252.445398 121.038339 \nL 252.445398 120.756288 \nL 253.459943 120.756288 \nL 253.459943 121.628806 \nL 254.474489 121.628806 \nL 254.474489 122.309571 \nL 257.518125 122.338454 \nL 257.518125 123.014746 \nL 259.547216 122.969924 \nL 259.547216 124.106485 \nL 260.561761 124.106485 \nL 260.561761 122.585687 \nL 261.576307 122.585687 \nL 261.576307 122.91032 \nL 262.590852 122.91032 \nL 262.590852 124.651554 \nL 264.619943 124.635305 \nL 264.619943 125.515548 \nL 265.634489 125.515548 \nL 265.634489 125.228892 \nL 266.649034 125.228892 \nL 266.649034 125.962207 \nL 267.66358 125.962207 \nL 267.66358 127.033396 \nL 268.678125 127.033396 \nL 268.678125 129.020326 \nL 269.69267 129.020326 \nL 269.69267 127.403827 \nL 270.707216 127.403827 \nL 270.707216 127.236269 \nL 271.721761 127.236269 \nL 271.721761 128.818381 \nL 272.736307 128.818381 \nL 272.736307 128.558914 \nL 273.750852 128.558914 \nL 273.750852 130.169684 \nL 274.765398 130.169684 \nL 274.765398 130.320904 \nL 275.779943 130.320904 \nL 275.779943 131.094952 \nL 276.794489 131.094952 \nL 276.794489 132.376414 \nL 277.809034 132.376414 \nL 277.809034 131.230759 \nL 278.82358 131.230759 \nL 278.82358 132.740896 \nL 279.838125 132.740896 \nL 279.838125 132.913327 \nL 280.85267 132.913327 \nL 280.85267 132.790008 \nL 281.867216 132.790008 \nL 281.867216 133.928743 \nL 282.881761 133.928743 \nL 282.881761 136.995549 \nL 283.896307 136.995549 \nL 283.896307 136.33685 \nL 284.910852 136.33685 \nL 284.910852 135.388401 \nL 285.925398 135.388401 \nL 285.925398 137.087105 \nL 286.939943 137.087105 \nL 286.939943 138.285287 \nL 287.954489 138.285287 \nL 287.954489 139.422946 \nL 288.969034 139.422946 \nL 288.969034 139.770469 \nL 289.98358 139.770469 \nL 289.98358 141.529793 \nL 290.998125 141.529793 \nL 290.998125 141.339012 \nL 292.01267 141.339012 \nL 292.01267 140.052978 \nL 293.027216 140.052978 \nL 293.027216 141.112491 \nL 294.041761 141.112491 \nL 294.041761 143.932963 \nL 295.056307 143.932963 \nL 295.056307 144.238597 \nL 296.070852 144.238597 \nL 296.070852 144.549055 \nL 297.085398 144.549055 \nL 297.085398 144.77385 \nL 298.099943 144.77385 \nL 298.099943 147.851158 \nL 299.114489 147.851158 \nL 299.114489 147.277971 \nL 300.129034 147.277971 \nL 300.129034 148.938137 \nL 301.14358 148.938137 \nL 301.14358 151.247865 \nL 302.158125 151.247865 \nL 302.158125 150.088717 \nL 303.17267 150.088717 \nL 303.17267 151.886536 \nL 304.187216 151.886536 \nL 304.187216 152.953608 \nL 305.201761 152.953608 \nL 305.201761 152.346274 \nL 306.216307 152.346274 \nL 306.216307 156.226991 \nL 307.230852 156.226991 \nL 307.230852 154.522283 \nL 308.245398 154.522283 \nL 308.245398 156.71875 \nL 309.259943 156.71875 \nL 309.259943 159.191693 \nL 310.274489 159.191693 \nL 310.274489 161.590925 \nL 311.289034 161.590925 \nL 311.289034 159.959373 \nL 312.30358 159.959373 \nL 312.30358 160.255158 \nL 313.318125 160.255158 \nL 313.318125 161.379425 \nL 314.33267 161.379425 \nL 314.33267 164.202214 \nL 315.347216 164.202214 \nL 315.347216 162.57187 \nL 316.361761 162.57187 \nL 316.361761 167.788355 \nL 317.376307 167.788355 \nL 317.376307 164.446556 \nL 318.390852 164.446556 \nL 318.390852 171.46211 \nL 319.405398 171.46211 \nL 319.405398 167.499095 \nL 320.419943 167.499095 \nL 320.419943 171.46211 \nL 321.434489 171.46211 \nL 321.434489 171.996151 \nL 322.449034 171.996151 \nL 322.449034 175.763578 \nL 323.46358 175.763578 \nL 323.46358 172.360408 \nL 324.478125 172.360408 \nL 324.478125 173.495492 \nL 325.49267 173.495492 \nL 325.49267 177.12062 \nL 326.507216 177.12062 \nL 326.507216 178.578274 \nL 327.521761 178.578274 \nL 327.521761 179.089194 \nL 328.536307 179.089194 \nL 328.536307 180.152659 \nL 329.550852 180.152659 \nL 329.550852 180.706761 \nL 330.565398 180.706761 \nL 330.565398 179.881354 \nL 331.579943 179.881354 \nL 331.579943 183.41368 \nL 332.594489 183.41368 \nL 332.594489 182.469371 \nL 333.609034 182.469371 \nL 333.609034 191.228336 \nL 334.62358 191.228336 \nL 334.62358 187.324941 \nL 335.638125 187.324941 \nL 335.638125 192.212007 \nL 336.65267 192.212007 \nL 336.65267 188.541988 \nL 337.667216 188.541988 \nL 337.667216 192.212007 \nL 339.696307 192.212007 \nL 339.696307 198.729576 \nL 340.710852 198.729576 \nL 340.710852 198.039354 \nL 341.725398 198.039354 \nL 341.725398 193.786393 \nL 342.739943 193.786393 \nL 342.739943 203.47307 \nL 343.754489 203.47307 \nL 343.754489 208.544393 \nL 344.769034 208.544393 \nL 344.769034 200.958674 \nL 345.78358 200.958674 \nL 345.78358 204.388087 \nL 346.798125 204.388087 \nL 346.798125 207.420126 \nL 347.81267 207.420126 \nL 347.81267 206.35666 \nL 348.827216 206.35666 \nL 348.827216 208.544393 \nL 349.841761 208.544393 \nL 349.841761 204.388087 \nL 350.856307 204.388087 \nL 350.856307 212.36331 \nL 351.870852 212.36331 \nL 351.870852 211.006267 \nL 352.885398 211.006267 \nL 352.885398 215.395349 \nL 353.899943 215.395349 \nL 353.899943 207.420126 \nL 354.914489 207.420126 \nL 354.914489 229.029082 \nL 356.94358 229.029082 \nL 356.94358 221.053859 \nL 357.958125 221.053859 \nL 357.958125 232.615223 \nL 358.97267 232.615223 \nL 358.97267 229.029082 \nL 359.987216 229.029082 \nL 359.987216 221.053859 \nL 361.001761 221.053859 \nL 361.001761 225.997043 \nL 363.030852 225.997043 \nL 363.030852 232.615223 \nL 364.045398 232.615223 \nL 364.045398 263.19625 \nM 365.059943 263.19625 \nL 365.059943 223.370571 \nL 367.089034 223.370571 \nL 367.089034 221.053859 \nL 368.10358 221.053859 \nL 368.10358 263.19625 \nM 369.118125 263.19625 \nL 369.118125 232.615223 \nL 370.13267 232.615223 \nL 370.13267 250.638038 \nL 372.161761 250.638038 \nL 372.161761 242.662815 \nL 373.176307 242.662815 \nL 373.176307 263.19625 \nM 374.190852 263.19625 \nL 374.190852 242.662815 \nL 375.205398 242.662815 \nL 375.205398 237.004304 \nL 376.219943 237.004304 \nL 376.219943 263.19625 \nL 376.219943 263.19625 \n\" style=\"fill:none;stroke:#2ca02c;stroke-linejoin:miter;\"/>\n   </g>\n   <g id=\"patch_6\">\n    <path d=\"M 45.478125 224.64 \nL 45.478125 7.2 \n\" style=\"fill:none;stroke:#000000;stroke-linecap:square;stroke-linejoin:miter;stroke-width:0.8;\"/>\n   </g>\n   <g id=\"patch_7\">\n    <path d=\"M 380.278125 224.64 \nL 380.278125 7.2 \n\" style=\"fill:none;stroke:#000000;stroke-linecap:square;stroke-linejoin:miter;stroke-width:0.8;\"/>\n   </g>\n   <g id=\"patch_8\">\n    <path d=\"M 45.478125 224.64 \nL 380.278125 224.64 \n\" style=\"fill:none;stroke:#000000;stroke-linecap:square;stroke-linejoin:miter;stroke-width:0.8;\"/>\n   </g>\n   <g id=\"patch_9\">\n    <path d=\"M 45.478125 7.2 \nL 380.278125 7.2 \n\" style=\"fill:none;stroke:#000000;stroke-linecap:square;stroke-linejoin:miter;stroke-width:0.8;\"/>\n   </g>\n   <g id=\"legend_1\">\n    <g id=\"patch_10\">\n     <path d=\"M 273.3375 59.234375 \nL 373.278125 59.234375 \nQ 375.278125 59.234375 375.278125 57.234375 \nL 375.278125 14.2 \nQ 375.278125 12.2 373.278125 12.2 \nL 273.3375 12.2 \nQ 271.3375 12.2 271.3375 14.2 \nL 271.3375 57.234375 \nQ 271.3375 59.234375 273.3375 59.234375 \nz\n\" style=\"fill:#ffffff;opacity:0.8;stroke:#cccccc;stroke-linejoin:miter;\"/>\n    </g>\n    <g id=\"patch_11\">\n     <path d=\"M 275.3375 23.798437 \nL 295.3375 23.798437 \nL 295.3375 16.798437 \nL 275.3375 16.798437 \nz\n\" style=\"fill:none;stroke:#1f77b4;stroke-linejoin:miter;\"/>\n    </g>\n    <g id=\"text_17\">\n     <!-- Experiment A -->\n     <g transform=\"translate(303.3375 23.798437)scale(0.1 -0.1)\">\n      <defs>\n       <path d=\"M 54.890625 54.6875 \nL 35.109375 28.078125 \nL 55.90625 0 \nL 45.3125 0 \nL 29.390625 21.484375 \nL 13.484375 0 \nL 2.875 0 \nL 24.125 28.609375 \nL 4.6875 54.6875 \nL 15.28125 54.6875 \nL 29.78125 35.203125 \nL 44.28125 54.6875 \nz\n\" id=\"DejaVuSans-120\"/>\n       <path d=\"M 18.109375 8.203125 \nL 18.109375 -20.796875 \nL 9.078125 -20.796875 \nL 9.078125 54.6875 \nL 18.109375 54.6875 \nL 18.109375 46.390625 \nQ 20.953125 51.265625 25.265625 53.625 \nQ 29.59375 56 35.59375 56 \nQ 45.5625 56 51.78125 48.09375 \nQ 58.015625 40.1875 58.015625 27.296875 \nQ 58.015625 14.40625 51.78125 6.484375 \nQ 45.5625 -1.421875 35.59375 -1.421875 \nQ 29.59375 -1.421875 25.265625 0.953125 \nQ 20.953125 3.328125 18.109375 8.203125 \nz\nM 48.6875 27.296875 \nQ 48.6875 37.203125 44.609375 42.84375 \nQ 40.53125 48.484375 33.40625 48.484375 \nQ 26.265625 48.484375 22.1875 42.84375 \nQ 18.109375 37.203125 18.109375 27.296875 \nQ 18.109375 17.390625 22.1875 11.75 \nQ 26.265625 6.109375 33.40625 6.109375 \nQ 40.53125 6.109375 44.609375 11.75 \nQ 48.6875 17.390625 48.6875 27.296875 \nz\n\" id=\"DejaVuSans-112\"/>\n       <path d=\"M 9.421875 54.6875 \nL 18.40625 54.6875 \nL 18.40625 0 \nL 9.421875 0 \nz\nM 9.421875 75.984375 \nL 18.40625 75.984375 \nL 18.40625 64.59375 \nL 9.421875 64.59375 \nz\n\" id=\"DejaVuSans-105\"/>\n       <path d=\"M 52 44.1875 \nQ 55.375 50.25 60.0625 53.125 \nQ 64.75 56 71.09375 56 \nQ 79.640625 56 84.28125 50.015625 \nQ 88.921875 44.046875 88.921875 33.015625 \nL 88.921875 0 \nL 79.890625 0 \nL 79.890625 32.71875 \nQ 79.890625 40.578125 77.09375 44.375 \nQ 74.3125 48.1875 68.609375 48.1875 \nQ 61.625 48.1875 57.5625 43.546875 \nQ 53.515625 38.921875 53.515625 30.90625 \nL 53.515625 0 \nL 44.484375 0 \nL 44.484375 32.71875 \nQ 44.484375 40.625 41.703125 44.40625 \nQ 38.921875 48.1875 33.109375 48.1875 \nQ 26.21875 48.1875 22.15625 43.53125 \nQ 18.109375 38.875 18.109375 30.90625 \nL 18.109375 0 \nL 9.078125 0 \nL 9.078125 54.6875 \nL 18.109375 54.6875 \nL 18.109375 46.1875 \nQ 21.1875 51.21875 25.484375 53.609375 \nQ 29.78125 56 35.6875 56 \nQ 41.65625 56 45.828125 52.96875 \nQ 50 49.953125 52 44.1875 \nz\n\" id=\"DejaVuSans-109\"/>\n       <path d=\"M 34.1875 63.1875 \nL 20.796875 26.90625 \nL 47.609375 26.90625 \nz\nM 28.609375 72.90625 \nL 39.796875 72.90625 \nL 67.578125 0 \nL 57.328125 0 \nL 50.6875 18.703125 \nL 17.828125 18.703125 \nL 11.1875 0 \nL 0.78125 0 \nz\n\" id=\"DejaVuSans-65\"/>\n      </defs>\n      <use xlink:href=\"#DejaVuSans-69\"/>\n      <use x=\"63.183594\" xlink:href=\"#DejaVuSans-120\"/>\n      <use x=\"122.363281\" xlink:href=\"#DejaVuSans-112\"/>\n      <use x=\"185.839844\" xlink:href=\"#DejaVuSans-101\"/>\n      <use x=\"247.363281\" xlink:href=\"#DejaVuSans-114\"/>\n      <use x=\"288.476562\" xlink:href=\"#DejaVuSans-105\"/>\n      <use x=\"316.259766\" xlink:href=\"#DejaVuSans-109\"/>\n      <use x=\"413.671875\" xlink:href=\"#DejaVuSans-101\"/>\n      <use x=\"475.195312\" xlink:href=\"#DejaVuSans-110\"/>\n      <use x=\"538.574219\" xlink:href=\"#DejaVuSans-116\"/>\n      <use x=\"577.783203\" xlink:href=\"#DejaVuSans-32\"/>\n      <use x=\"609.570312\" xlink:href=\"#DejaVuSans-65\"/>\n     </g>\n    </g>\n    <g id=\"patch_12\">\n     <path d=\"M 275.3375 38.476562 \nL 295.3375 38.476562 \nL 295.3375 31.476562 \nL 275.3375 31.476562 \nz\n\" style=\"fill:none;stroke:#ff7f0e;stroke-linejoin:miter;\"/>\n    </g>\n    <g id=\"text_18\">\n     <!-- Experiment B -->\n     <g transform=\"translate(303.3375 38.476562)scale(0.1 -0.1)\">\n      <defs>\n       <path d=\"M 19.671875 34.8125 \nL 19.671875 8.109375 \nL 35.5 8.109375 \nQ 43.453125 8.109375 47.28125 11.40625 \nQ 51.125 14.703125 51.125 21.484375 \nQ 51.125 28.328125 47.28125 31.5625 \nQ 43.453125 34.8125 35.5 34.8125 \nz\nM 19.671875 64.796875 \nL 19.671875 42.828125 \nL 34.28125 42.828125 \nQ 41.5 42.828125 45.03125 45.53125 \nQ 48.578125 48.25 48.578125 53.8125 \nQ 48.578125 59.328125 45.03125 62.0625 \nQ 41.5 64.796875 34.28125 64.796875 \nz\nM 9.8125 72.90625 \nL 35.015625 72.90625 \nQ 46.296875 72.90625 52.390625 68.21875 \nQ 58.5 63.53125 58.5 54.890625 \nQ 58.5 48.1875 55.375 44.234375 \nQ 52.25 40.28125 46.1875 39.3125 \nQ 53.46875 37.75 57.5 32.78125 \nQ 61.53125 27.828125 61.53125 20.40625 \nQ 61.53125 10.640625 54.890625 5.3125 \nQ 48.25 0 35.984375 0 \nL 9.8125 0 \nz\n\" id=\"DejaVuSans-66\"/>\n      </defs>\n      <use xlink:href=\"#DejaVuSans-69\"/>\n      <use x=\"63.183594\" xlink:href=\"#DejaVuSans-120\"/>\n      <use x=\"122.363281\" xlink:href=\"#DejaVuSans-112\"/>\n      <use x=\"185.839844\" xlink:href=\"#DejaVuSans-101\"/>\n      <use x=\"247.363281\" xlink:href=\"#DejaVuSans-114\"/>\n      <use x=\"288.476562\" xlink:href=\"#DejaVuSans-105\"/>\n      <use x=\"316.259766\" xlink:href=\"#DejaVuSans-109\"/>\n      <use x=\"413.671875\" xlink:href=\"#DejaVuSans-101\"/>\n      <use x=\"475.195312\" xlink:href=\"#DejaVuSans-110\"/>\n      <use x=\"538.574219\" xlink:href=\"#DejaVuSans-116\"/>\n      <use x=\"577.783203\" xlink:href=\"#DejaVuSans-32\"/>\n      <use x=\"609.570312\" xlink:href=\"#DejaVuSans-66\"/>\n     </g>\n    </g>\n    <g id=\"patch_13\">\n     <path d=\"M 275.3375 53.154687 \nL 295.3375 53.154687 \nL 295.3375 46.154687 \nL 275.3375 46.154687 \nz\n\" style=\"fill:none;stroke:#2ca02c;stroke-linejoin:miter;\"/>\n    </g>\n    <g id=\"text_19\">\n     <!-- Experiment C -->\n     <g transform=\"translate(303.3375 53.154687)scale(0.1 -0.1)\">\n      <use xlink:href=\"#DejaVuSans-69\"/>\n      <use x=\"63.183594\" xlink:href=\"#DejaVuSans-120\"/>\n      <use x=\"122.363281\" xlink:href=\"#DejaVuSans-112\"/>\n      <use x=\"185.839844\" xlink:href=\"#DejaVuSans-101\"/>\n      <use x=\"247.363281\" xlink:href=\"#DejaVuSans-114\"/>\n      <use x=\"288.476562\" xlink:href=\"#DejaVuSans-105\"/>\n      <use x=\"316.259766\" xlink:href=\"#DejaVuSans-109\"/>\n      <use x=\"413.671875\" xlink:href=\"#DejaVuSans-101\"/>\n      <use x=\"475.195312\" xlink:href=\"#DejaVuSans-110\"/>\n      <use x=\"538.574219\" xlink:href=\"#DejaVuSans-116\"/>\n      <use x=\"577.783203\" xlink:href=\"#DejaVuSans-32\"/>\n      <use x=\"609.570312\" xlink:href=\"#DejaVuSans-67\"/>\n     </g>\n    </g>\n   </g>\n  </g>\n </g>\n <defs>\n  <clipPath id=\"p8b2afc8152\">\n   <rect height=\"217.44\" width=\"334.8\" x=\"45.478125\" y=\"7.2\"/>\n  </clipPath>\n </defs>\n</svg>\n",
          "text/plain": "<Figure size 432x288 with 1 Axes>"
         },
         "metadata": {
          "needs_background": "light"
         },
         "output_type": "display_data"
        }
       ]
      }
     },
     "293378c901674b879ed141f09b1cb5df": {
      "model_module": "@jupyter-widgets/controls",
      "model_module_version": "1.5.0",
      "model_name": "SliderStyleModel",
      "state": {
       "description_width": ""
      }
     },
     "2a955e08576642b39cd797074850bcf8": {
      "model_module": "@jupyter-widgets/controls",
      "model_module_version": "1.5.0",
      "model_name": "CheckboxModel",
      "state": {
       "description": "Plot Experiment A",
       "disabled": false,
       "layout": "IPY_MODEL_b4784e944f0d4020af62c95c60f7589a",
       "style": "IPY_MODEL_c1e3d5848de1475ca07435e34e981d96",
       "value": true
      }
     },
     "2b31cb4ee4eb4b51967a92e2dc79fbcf": {
      "model_module": "@jupyter-widgets/controls",
      "model_module_version": "1.5.0",
      "model_name": "SliderStyleModel",
      "state": {
       "description_width": ""
      }
     },
     "2b58fab9f4d74dd9bb317e8dc2491957": {
      "model_module": "@jupyter-widgets/base",
      "model_module_version": "1.2.0",
      "model_name": "LayoutModel",
      "state": {}
     },
     "2b91874b259c49c08501b77230bb9063": {
      "model_module": "@jupyter-widgets/base",
      "model_module_version": "1.2.0",
      "model_name": "LayoutModel",
      "state": {}
     },
     "2ba912d108fd41318c1960d3fa8dfe66": {
      "model_module": "@jupyter-widgets/controls",
      "model_module_version": "1.5.0",
      "model_name": "FloatLogSliderModel",
      "state": {
       "layout": "IPY_MODEL_3c43a86668be46cf9ad014f25e98c636",
       "max": 5,
       "min": -1,
       "style": "IPY_MODEL_b324fb427cd247a99d48d2ff5c820f95",
       "value": 10000
      }
     },
     "2c2d31e4238940d1be62d2c9e4264805": {
      "model_module": "@jupyter-widgets/base",
      "model_module_version": "1.2.0",
      "model_name": "LayoutModel",
      "state": {}
     },
     "2c4509a0f9cb488b9497fca12354b2a8": {
      "model_module": "@jupyter-widgets/controls",
      "model_module_version": "1.5.0",
      "model_name": "SliderStyleModel",
      "state": {
       "description_width": ""
      }
     },
     "2d142c5073f84d55adcf5712bccb101a": {
      "model_module": "@jupyter-widgets/base",
      "model_module_version": "1.2.0",
      "model_name": "LayoutModel",
      "state": {}
     },
     "2d223de0ded94c9c8f572ae310b55977": {
      "model_module": "@jupyter-widgets/controls",
      "model_module_version": "1.5.0",
      "model_name": "IntSliderModel",
      "state": {
       "layout": "IPY_MODEL_6b85edcb4a034d4fa443386f726ab031",
       "max": 2000,
       "min": 20,
       "style": "IPY_MODEL_437c410dee744bb1a410774c214def76",
       "value": 500
      }
     },
     "2d33385cfc6a448491d36c1f3e5e2157": {
      "model_module": "@jupyter-widgets/controls",
      "model_module_version": "1.5.0",
      "model_name": "DescriptionStyleModel",
      "state": {
       "description_width": ""
      }
     },
     "2d566db8cff84a7a8705ea96b9e07ad9": {
      "model_module": "@jupyter-widgets/base",
      "model_module_version": "1.2.0",
      "model_name": "LayoutModel",
      "state": {}
     },
     "2dec401073b64b91b1b979ab04178d90": {
      "model_module": "@jupyter-widgets/controls",
      "model_module_version": "1.5.0",
      "model_name": "SliderStyleModel",
      "state": {
       "description_width": ""
      }
     },
     "2e0c9005469545108c32dbd832f46548": {
      "model_module": "@jupyter-widgets/controls",
      "model_module_version": "1.5.0",
      "model_name": "SliderStyleModel",
      "state": {
       "description_width": ""
      }
     },
     "2ee30024a5284412a58135a6537353f2": {
      "model_module": "@jupyter-widgets/controls",
      "model_module_version": "1.5.0",
      "model_name": "CheckboxModel",
      "state": {
       "description": "Plot Experiment C",
       "disabled": false,
       "layout": "IPY_MODEL_0c53ba7866b040c0a19d09c9b7cd30a1",
       "style": "IPY_MODEL_ea30bd9bee434edd83129d763db7c4d2",
       "value": true
      }
     },
     "2eea253b66e94d0c84809c88e526c88e": {
      "model_module": "@jupyter-widgets/base",
      "model_module_version": "1.2.0",
      "model_name": "LayoutModel",
      "state": {}
     },
     "2f1b8b7c41504e60aa680c596ae46266": {
      "model_module": "@jupyter-widgets/base",
      "model_module_version": "1.2.0",
      "model_name": "LayoutModel",
      "state": {}
     },
     "2f28059404d44313b79b0945608f3732": {
      "model_module": "@jupyter-widgets/controls",
      "model_module_version": "1.5.0",
      "model_name": "SliderStyleModel",
      "state": {
       "description_width": ""
      }
     },
     "3043d61d38004378ba9e658b0fa5571a": {
      "model_module": "@jupyter-widgets/controls",
      "model_module_version": "1.5.0",
      "model_name": "IntSliderModel",
      "state": {
       "layout": "IPY_MODEL_2b58fab9f4d74dd9bb317e8dc2491957",
       "max": 2000,
       "min": 20,
       "style": "IPY_MODEL_293378c901674b879ed141f09b1cb5df",
       "value": 500
      }
     },
     "31101526f452463099acce1c667c1570": {
      "model_module": "@jupyter-widgets/controls",
      "model_module_version": "1.5.0",
      "model_name": "DescriptionStyleModel",
      "state": {
       "description_width": ""
      }
     },
     "31675a74dc5143aca259c2f1654d051a": {
      "model_module": "@jupyter-widgets/controls",
      "model_module_version": "1.5.0",
      "model_name": "VBoxModel",
      "state": {
       "_dom_classes": [
        "widget-interact"
       ],
       "children": [
        "IPY_MODEL_ac3e370734e945549801986cf0dd32f7",
        "IPY_MODEL_ed5d58cd807848a188ed2b02bf0094ca",
        "IPY_MODEL_03d02d4a9b734d8e879eaceb0f198729",
        "IPY_MODEL_74ad353a4a4f4e829ab994de5648e563",
        "IPY_MODEL_92b22dad60854ba7a970619c16d6ec50",
        "IPY_MODEL_0c729a6a929b4aadbdc293c095952ae2",
        "IPY_MODEL_9867de26c2024b259b87b1adb14a44f0",
        "IPY_MODEL_13118272670440f9bf8acde990482ac0"
       ],
       "layout": "IPY_MODEL_ee1a9a3d5720439781a60c116f02a4bc"
      }
     },
     "31bb789cc88644898ef6e2c0fd3a0c15": {
      "model_module": "@jupyter-widgets/controls",
      "model_module_version": "1.5.0",
      "model_name": "SliderStyleModel",
      "state": {
       "description_width": ""
      }
     },
     "32149ee2b6e14944ab718383930467f9": {
      "model_module": "@jupyter-widgets/controls",
      "model_module_version": "1.5.0",
      "model_name": "FloatSliderModel",
      "state": {
       "layout": "IPY_MODEL_f9ff2156d1524af1b24922dd2dd944bb",
       "max": 20,
       "step": 0.1,
       "style": "IPY_MODEL_a86400429aaf4b329caa2733a873bfd4"
      }
     },
     "32338398fd474410b0473df437cacd78": {
      "model_module": "@jupyter-widgets/base",
      "model_module_version": "1.2.0",
      "model_name": "LayoutModel",
      "state": {}
     },
     "331a30be1fc64503892795604ad74bcf": {
      "model_module": "@jupyter-widgets/base",
      "model_module_version": "1.2.0",
      "model_name": "LayoutModel",
      "state": {}
     },
     "33b01be8afff4547b862e3b07d51b7d3": {
      "model_module": "@jupyter-widgets/controls",
      "model_module_version": "1.5.0",
      "model_name": "FloatSliderModel",
      "state": {
       "layout": "IPY_MODEL_dacf90d81bfb48108a28c5e66c2a76b1",
       "max": 20,
       "step": 0.1,
       "style": "IPY_MODEL_a60cf3ece06043d6a59e3633bd895044",
       "value": 20
      }
     },
     "33bb453e94b74f8dbda1486e342dbefa": {
      "model_module": "@jupyter-widgets/controls",
      "model_module_version": "1.5.0",
      "model_name": "DropdownModel",
      "state": {
       "_options_labels": [
        "linear",
        "log"
       ],
       "description": "Scale: ",
       "index": 0,
       "layout": "IPY_MODEL_158615f956c64b7e9ebf5e2b690f242c",
       "style": "IPY_MODEL_fc17cf1742fd4b7cbe37ec16aeccd2d5"
      }
     },
     "346bf1d011cb4f7ca45f878d5fd1d15f": {
      "model_module": "@jupyter-widgets/controls",
      "model_module_version": "1.5.0",
      "model_name": "DescriptionStyleModel",
      "state": {
       "description_width": ""
      }
     },
     "34b2bd10f3da46d480e77ad38ccd5900": {
      "model_module": "@jupyter-widgets/controls",
      "model_module_version": "1.5.0",
      "model_name": "IntSliderModel",
      "state": {
       "description": "bins",
       "layout": "IPY_MODEL_8b55d531a64245c99a55b5bb48c84e42",
       "max": 2000,
       "min": 20,
       "style": "IPY_MODEL_ca5bc28c96e1441ab2c4566f78d8cc0f",
       "value": 500
      }
     },
     "359d96aa153945e284e857ace5ac929e": {
      "model_module": "@jupyter-widgets/base",
      "model_module_version": "1.2.0",
      "model_name": "LayoutModel",
      "state": {}
     },
     "35f74c3ca9764b5ea0fd35f814e9634f": {
      "model_module": "@jupyter-widgets/base",
      "model_module_version": "1.2.0",
      "model_name": "LayoutModel",
      "state": {}
     },
     "3666f49b77ee40ba82e402e2ace6e730": {
      "model_module": "@jupyter-widgets/base",
      "model_module_version": "1.2.0",
      "model_name": "LayoutModel",
      "state": {}
     },
     "378bae9f7c664ccdbae01b10c5e83c22": {
      "model_module": "@jupyter-widgets/controls",
      "model_module_version": "1.5.0",
      "model_name": "DescriptionStyleModel",
      "state": {
       "description_width": ""
      }
     },
     "37d5ae9c75b14322b9e71be9e33b66a6": {
      "model_module": "@jupyter-widgets/base",
      "model_module_version": "1.2.0",
      "model_name": "LayoutModel",
      "state": {}
     },
     "3857d0bcd8fb487194e94d76e13f293a": {
      "model_module": "@jupyter-widgets/controls",
      "model_module_version": "1.5.0",
      "model_name": "CheckboxModel",
      "state": {
       "description": "Plot Experiment B",
       "disabled": false,
       "layout": "IPY_MODEL_5219b07eacfe4c5480ed301b76675704",
       "style": "IPY_MODEL_8841f4d78f3f4cf2b84a529a0499335b",
       "value": true
      }
     },
     "3869d4fd7629456aafffc77067fb004a": {
      "model_module": "@jupyter-widgets/controls",
      "model_module_version": "1.5.0",
      "model_name": "CheckboxModel",
      "state": {
       "description": "Plot Experiment B",
       "disabled": false,
       "layout": "IPY_MODEL_566fa8a38df04ecb8611aff551bd685b",
       "style": "IPY_MODEL_bf8839ea4516489ea66dcb0c77de1155",
       "value": true
      }
     },
     "39404d4d68f24dc4990b332eeef0cbfc": {
      "model_module": "@jupyter-widgets/controls",
      "model_module_version": "1.5.0",
      "model_name": "CheckboxModel",
      "state": {
       "description": "Plot Experiment B",
       "disabled": false,
       "layout": "IPY_MODEL_572c8e8f8f12451c999e02fee63fb6fb",
       "style": "IPY_MODEL_fb95337806f64db79618fdbb2b96d98d",
       "value": true
      }
     },
     "3941fb3ef1694de7be141f49a441da89": {
      "model_module": "@jupyter-widgets/controls",
      "model_module_version": "1.5.0",
      "model_name": "LinkModel",
      "state": {
       "source": [
        "IPY_MODEL_19c5504dbc7b430eb39c7032602909eb",
        "value"
       ],
       "target": [
        "IPY_MODEL_06b538f5b5ae463bb002a429ff26cfec",
        "value"
       ]
      }
     },
     "398684f46210484e97f22ec1a5561453": {
      "model_module": "@jupyter-widgets/controls",
      "model_module_version": "1.5.0",
      "model_name": "DescriptionStyleModel",
      "state": {
       "description_width": ""
      }
     },
     "39c0dc69abd24111b4f7abda7530ed30": {
      "model_module": "@jupyter-widgets/base",
      "model_module_version": "1.2.0",
      "model_name": "LayoutModel",
      "state": {}
     },
     "3a1c0867d4504e729c0f3ab0f24f1433": {
      "model_module": "@jupyter-widgets/controls",
      "model_module_version": "1.5.0",
      "model_name": "IntSliderModel",
      "state": {
       "layout": "IPY_MODEL_fbe6e3305f834e718379ed13a774b17e",
       "max": 20,
       "style": "IPY_MODEL_2b31cb4ee4eb4b51967a92e2dc79fbcf"
      }
     },
     "3a801c8bda66491688016dd6a6178cfa": {
      "model_module": "@jupyter-widgets/base",
      "model_module_version": "1.2.0",
      "model_name": "LayoutModel",
      "state": {}
     },
     "3b2c6905b30841d8bfc397c2812df60d": {
      "model_module": "@jupyter-widgets/base",
      "model_module_version": "1.2.0",
      "model_name": "LayoutModel",
      "state": {}
     },
     "3b3e19343ecb4406bbb25f34ec2ba373": {
      "model_module": "@jupyter-widgets/controls",
      "model_module_version": "1.5.0",
      "model_name": "CheckboxModel",
      "state": {
       "description": "Plot Experiment A",
       "disabled": false,
       "layout": "IPY_MODEL_3b2c6905b30841d8bfc397c2812df60d",
       "style": "IPY_MODEL_c7d3d6c6100b4e759bc7913f8f9b69fc",
       "value": true
      }
     },
     "3b41f2e602d1403ba1f48e980b6c1eea": {
      "model_module": "@jupyter-widgets/controls",
      "model_module_version": "1.5.0",
      "model_name": "FloatSliderModel",
      "state": {
       "layout": "IPY_MODEL_b3c7dd4cc9af45ab849e3a12f377c262",
       "max": 20,
       "step": 0.1,
       "style": "IPY_MODEL_e3dd288e6bc54c69a1e396a58c1b4399"
      }
     },
     "3bac8ac45b7a4771b9cc357e7b7c7df6": {
      "model_module": "@jupyter-widgets/output",
      "model_module_version": "1.0.0",
      "model_name": "OutputModel",
      "state": {
       "layout": "IPY_MODEL_2c2d31e4238940d1be62d2c9e4264805",
       "outputs": [
        {
         "ename": "TypeError",
         "evalue": "'>' not supported between instances of 'float' and 'FloatSlider'",
         "output_type": "error",
         "traceback": [
          "\u001b[0;31m---------------------------------------------------------------------------\u001b[0m",
          "\u001b[0;31mTypeError\u001b[0m                                 Traceback (most recent call last)",
          "\u001b[0;32m~/.pyenv/versions/3.8.6/lib/python3.8/site-packages/ipywidgets/widgets/interaction.py\u001b[0m in \u001b[0;36mupdate\u001b[0;34m(self, *args)\u001b[0m\n\u001b[1;32m    254\u001b[0m                     \u001b[0mvalue\u001b[0m \u001b[0;34m=\u001b[0m \u001b[0mwidget\u001b[0m\u001b[0;34m.\u001b[0m\u001b[0mget_interact_value\u001b[0m\u001b[0;34m(\u001b[0m\u001b[0;34m)\u001b[0m\u001b[0;34m\u001b[0m\u001b[0;34m\u001b[0m\u001b[0m\n\u001b[1;32m    255\u001b[0m                     \u001b[0mself\u001b[0m\u001b[0;34m.\u001b[0m\u001b[0mkwargs\u001b[0m\u001b[0;34m[\u001b[0m\u001b[0mwidget\u001b[0m\u001b[0;34m.\u001b[0m\u001b[0m_kwarg\u001b[0m\u001b[0;34m]\u001b[0m \u001b[0;34m=\u001b[0m \u001b[0mvalue\u001b[0m\u001b[0;34m\u001b[0m\u001b[0;34m\u001b[0m\u001b[0m\n\u001b[0;32m--> 256\u001b[0;31m                 \u001b[0mself\u001b[0m\u001b[0;34m.\u001b[0m\u001b[0mresult\u001b[0m \u001b[0;34m=\u001b[0m \u001b[0mself\u001b[0m\u001b[0;34m.\u001b[0m\u001b[0mf\u001b[0m\u001b[0;34m(\u001b[0m\u001b[0;34m**\u001b[0m\u001b[0mself\u001b[0m\u001b[0;34m.\u001b[0m\u001b[0mkwargs\u001b[0m\u001b[0;34m)\u001b[0m\u001b[0;34m\u001b[0m\u001b[0;34m\u001b[0m\u001b[0m\n\u001b[0m\u001b[1;32m    257\u001b[0m                 \u001b[0mshow_inline_matplotlib_plots\u001b[0m\u001b[0;34m(\u001b[0m\u001b[0;34m)\u001b[0m\u001b[0;34m\u001b[0m\u001b[0;34m\u001b[0m\u001b[0m\n\u001b[1;32m    258\u001b[0m                 \u001b[0;32mif\u001b[0m \u001b[0mself\u001b[0m\u001b[0;34m.\u001b[0m\u001b[0mauto_display\u001b[0m \u001b[0;32mand\u001b[0m \u001b[0mself\u001b[0m\u001b[0;34m.\u001b[0m\u001b[0mresult\u001b[0m \u001b[0;32mis\u001b[0m \u001b[0;32mnot\u001b[0m \u001b[0;32mNone\u001b[0m\u001b[0;34m:\u001b[0m\u001b[0;34m\u001b[0m\u001b[0;34m\u001b[0m\u001b[0m\n",
          "\u001b[0;32m<ipython-input-182-58bfb7cb12ab>\u001b[0m in \u001b[0;36mplot_all\u001b[0;34m(bins, x_ran, y_ubl, check_A, check_B, check_C, scale_drop)\u001b[0m\n\u001b[1;32m     62\u001b[0m     \u001b[0mplt\u001b[0m\u001b[0;34m.\u001b[0m\u001b[0mlegend\u001b[0m\u001b[0;34m(\u001b[0m\u001b[0;34m)\u001b[0m\u001b[0;34m\u001b[0m\u001b[0;34m\u001b[0m\u001b[0m\n\u001b[1;32m     63\u001b[0m     \u001b[0mplt\u001b[0m\u001b[0;34m.\u001b[0m\u001b[0mxlim\u001b[0m\u001b[0;34m(\u001b[0m\u001b[0mx_ran\u001b[0m\u001b[0;34m)\u001b[0m\u001b[0;34m\u001b[0m\u001b[0;34m\u001b[0m\u001b[0m\n\u001b[0;32m---> 64\u001b[0;31m     \u001b[0mplt\u001b[0m\u001b[0;34m.\u001b[0m\u001b[0mylim\u001b[0m\u001b[0;34m(\u001b[0m\u001b[0;34m(\u001b[0m\u001b[0;36m0.5\u001b[0m\u001b[0;34m,\u001b[0m \u001b[0my_ub\u001b[0m\u001b[0;34m)\u001b[0m\u001b[0;34m)\u001b[0m\u001b[0;34m\u001b[0m\u001b[0;34m\u001b[0m\u001b[0m\n\u001b[0m\u001b[1;32m     65\u001b[0m     \u001b[0mplt\u001b[0m\u001b[0;34m.\u001b[0m\u001b[0myscale\u001b[0m\u001b[0;34m(\u001b[0m\u001b[0mscale_drop\u001b[0m\u001b[0;34m)\u001b[0m\u001b[0;34m\u001b[0m\u001b[0;34m\u001b[0m\u001b[0m\n\u001b[1;32m     66\u001b[0m     \u001b[0mplt\u001b[0m\u001b[0;34m.\u001b[0m\u001b[0mshow\u001b[0m\u001b[0;34m(\u001b[0m\u001b[0;34m)\u001b[0m\u001b[0;34m\u001b[0m\u001b[0;34m\u001b[0m\u001b[0m\n",
          "\u001b[0;32m~/.pyenv/versions/3.8.6/lib/python3.8/site-packages/matplotlib/pyplot.py\u001b[0m in \u001b[0;36mylim\u001b[0;34m(*args, **kwargs)\u001b[0m\n\u001b[1;32m   1600\u001b[0m     \u001b[0;32mif\u001b[0m \u001b[0;32mnot\u001b[0m \u001b[0margs\u001b[0m \u001b[0;32mand\u001b[0m \u001b[0;32mnot\u001b[0m \u001b[0mkwargs\u001b[0m\u001b[0;34m:\u001b[0m\u001b[0;34m\u001b[0m\u001b[0;34m\u001b[0m\u001b[0m\n\u001b[1;32m   1601\u001b[0m         \u001b[0;32mreturn\u001b[0m \u001b[0max\u001b[0m\u001b[0;34m.\u001b[0m\u001b[0mget_ylim\u001b[0m\u001b[0;34m(\u001b[0m\u001b[0;34m)\u001b[0m\u001b[0;34m\u001b[0m\u001b[0;34m\u001b[0m\u001b[0m\n\u001b[0;32m-> 1602\u001b[0;31m     \u001b[0mret\u001b[0m \u001b[0;34m=\u001b[0m \u001b[0max\u001b[0m\u001b[0;34m.\u001b[0m\u001b[0mset_ylim\u001b[0m\u001b[0;34m(\u001b[0m\u001b[0;34m*\u001b[0m\u001b[0margs\u001b[0m\u001b[0;34m,\u001b[0m \u001b[0;34m**\u001b[0m\u001b[0mkwargs\u001b[0m\u001b[0;34m)\u001b[0m\u001b[0;34m\u001b[0m\u001b[0;34m\u001b[0m\u001b[0m\n\u001b[0m\u001b[1;32m   1603\u001b[0m     \u001b[0;32mreturn\u001b[0m \u001b[0mret\u001b[0m\u001b[0;34m\u001b[0m\u001b[0;34m\u001b[0m\u001b[0m\n\u001b[1;32m   1604\u001b[0m \u001b[0;34m\u001b[0m\u001b[0m\n",
          "\u001b[0;32m~/.pyenv/versions/3.8.6/lib/python3.8/site-packages/matplotlib/axes/_base.py\u001b[0m in \u001b[0;36mset_ylim\u001b[0;34m(self, bottom, top, emit, auto, ymin, ymax)\u001b[0m\n\u001b[1;32m   3596\u001b[0m                 \u001b[0;34mf\"results in singular transformations; automatically \"\u001b[0m\u001b[0;34m\u001b[0m\u001b[0;34m\u001b[0m\u001b[0m\n\u001b[1;32m   3597\u001b[0m                 f\"expanding.\")\n\u001b[0;32m-> 3598\u001b[0;31m         \u001b[0mreverse\u001b[0m \u001b[0;34m=\u001b[0m \u001b[0mbottom\u001b[0m \u001b[0;34m>\u001b[0m \u001b[0mtop\u001b[0m\u001b[0;34m\u001b[0m\u001b[0;34m\u001b[0m\u001b[0m\n\u001b[0m\u001b[1;32m   3599\u001b[0m         \u001b[0mbottom\u001b[0m\u001b[0;34m,\u001b[0m \u001b[0mtop\u001b[0m \u001b[0;34m=\u001b[0m \u001b[0mself\u001b[0m\u001b[0;34m.\u001b[0m\u001b[0myaxis\u001b[0m\u001b[0;34m.\u001b[0m\u001b[0mget_major_locator\u001b[0m\u001b[0;34m(\u001b[0m\u001b[0;34m)\u001b[0m\u001b[0;34m.\u001b[0m\u001b[0mnonsingular\u001b[0m\u001b[0;34m(\u001b[0m\u001b[0mbottom\u001b[0m\u001b[0;34m,\u001b[0m \u001b[0mtop\u001b[0m\u001b[0;34m)\u001b[0m\u001b[0;34m\u001b[0m\u001b[0;34m\u001b[0m\u001b[0m\n\u001b[1;32m   3600\u001b[0m         \u001b[0mbottom\u001b[0m\u001b[0;34m,\u001b[0m \u001b[0mtop\u001b[0m \u001b[0;34m=\u001b[0m \u001b[0mself\u001b[0m\u001b[0;34m.\u001b[0m\u001b[0myaxis\u001b[0m\u001b[0;34m.\u001b[0m\u001b[0mlimit_range_for_scale\u001b[0m\u001b[0;34m(\u001b[0m\u001b[0mbottom\u001b[0m\u001b[0;34m,\u001b[0m \u001b[0mtop\u001b[0m\u001b[0;34m)\u001b[0m\u001b[0;34m\u001b[0m\u001b[0;34m\u001b[0m\u001b[0m\n",
          "\u001b[0;31mTypeError\u001b[0m: '>' not supported between instances of 'float' and 'FloatSlider'"
         ]
        }
       ]
      }
     },
     "3be0ef557b2c47e88229b7c55e39ef38": {
      "model_module": "@jupyter-widgets/output",
      "model_module_version": "1.0.0",
      "model_name": "OutputModel",
      "state": {
       "layout": "IPY_MODEL_ccec186950b74042b0aad1446df616a4",
       "outputs": [
        {
         "data": {
          "image/svg+xml": "<?xml version=\"1.0\" encoding=\"utf-8\" standalone=\"no\"?>\n<!DOCTYPE svg PUBLIC \"-//W3C//DTD SVG 1.1//EN\"\n  \"http://www.w3.org/Graphics/SVG/1.1/DTD/svg11.dtd\">\n<!-- Created with matplotlib (https://matplotlib.org/) -->\n<svg height=\"265.995469pt\" version=\"1.1\" viewBox=\"0 0 412.823438 265.995469\" width=\"412.823438pt\" xmlns=\"http://www.w3.org/2000/svg\" xmlns:xlink=\"http://www.w3.org/1999/xlink\">\n <metadata>\n  <rdf:RDF xmlns:cc=\"http://creativecommons.org/ns#\" xmlns:dc=\"http://purl.org/dc/elements/1.1/\" xmlns:rdf=\"http://www.w3.org/1999/02/22-rdf-syntax-ns#\">\n   <cc:Work>\n    <dc:type rdf:resource=\"http://purl.org/dc/dcmitype/StillImage\"/>\n    <dc:date>2021-06-09T09:07:13.091248</dc:date>\n    <dc:format>image/svg+xml</dc:format>\n    <dc:creator>\n     <cc:Agent>\n      <dc:title>Matplotlib v3.3.3, https://matplotlib.org/</dc:title>\n     </cc:Agent>\n    </dc:creator>\n   </cc:Work>\n  </rdf:RDF>\n </metadata>\n <defs>\n  <style type=\"text/css\">*{stroke-linecap:butt;stroke-linejoin:round;}</style>\n </defs>\n <g id=\"figure_1\">\n  <g id=\"patch_1\">\n   <path d=\"M 0 265.995469 \nL 412.823438 265.995469 \nL 412.823438 0 \nL 0 0 \nz\n\" style=\"fill:none;\"/>\n  </g>\n  <g id=\"axes_1\">\n   <g id=\"patch_2\">\n    <path d=\"M 59.690625 228.439219 \nL 394.490625 228.439219 \nL 394.490625 10.999219 \nL 59.690625 10.999219 \nz\n\" style=\"fill:#ffffff;\"/>\n   </g>\n   <g id=\"matplotlib.axis_1\">\n    <g id=\"xtick_1\">\n     <g id=\"line2d_1\">\n      <defs>\n       <path d=\"M 0 0 \nL 0 3.5 \n\" id=\"mcbfe23ad83\" style=\"stroke:#000000;stroke-width:0.8;\"/>\n      </defs>\n      <g>\n       <use style=\"stroke:#000000;stroke-width:0.8;\" x=\"59.690625\" xlink:href=\"#mcbfe23ad83\" y=\"228.439219\"/>\n      </g>\n     </g>\n     <g id=\"text_1\">\n      <!-- 0.0 -->\n      <g transform=\"translate(51.739063 243.037656)scale(0.1 -0.1)\">\n       <defs>\n        <path d=\"M 31.78125 66.40625 \nQ 24.171875 66.40625 20.328125 58.90625 \nQ 16.5 51.421875 16.5 36.375 \nQ 16.5 21.390625 20.328125 13.890625 \nQ 24.171875 6.390625 31.78125 6.390625 \nQ 39.453125 6.390625 43.28125 13.890625 \nQ 47.125 21.390625 47.125 36.375 \nQ 47.125 51.421875 43.28125 58.90625 \nQ 39.453125 66.40625 31.78125 66.40625 \nz\nM 31.78125 74.21875 \nQ 44.046875 74.21875 50.515625 64.515625 \nQ 56.984375 54.828125 56.984375 36.375 \nQ 56.984375 17.96875 50.515625 8.265625 \nQ 44.046875 -1.421875 31.78125 -1.421875 \nQ 19.53125 -1.421875 13.0625 8.265625 \nQ 6.59375 17.96875 6.59375 36.375 \nQ 6.59375 54.828125 13.0625 64.515625 \nQ 19.53125 74.21875 31.78125 74.21875 \nz\n\" id=\"DejaVuSans-48\"/>\n        <path d=\"M 10.6875 12.40625 \nL 21 12.40625 \nL 21 0 \nL 10.6875 0 \nz\n\" id=\"DejaVuSans-46\"/>\n       </defs>\n       <use xlink:href=\"#DejaVuSans-48\"/>\n       <use x=\"63.623047\" xlink:href=\"#DejaVuSans-46\"/>\n       <use x=\"95.410156\" xlink:href=\"#DejaVuSans-48\"/>\n      </g>\n     </g>\n    </g>\n    <g id=\"xtick_2\">\n     <g id=\"line2d_2\">\n      <g>\n       <use style=\"stroke:#000000;stroke-width:0.8;\" x=\"101.540625\" xlink:href=\"#mcbfe23ad83\" y=\"228.439219\"/>\n      </g>\n     </g>\n     <g id=\"text_2\">\n      <!-- 2.5 -->\n      <g transform=\"translate(93.589063 243.037656)scale(0.1 -0.1)\">\n       <defs>\n        <path d=\"M 19.1875 8.296875 \nL 53.609375 8.296875 \nL 53.609375 0 \nL 7.328125 0 \nL 7.328125 8.296875 \nQ 12.9375 14.109375 22.625 23.890625 \nQ 32.328125 33.6875 34.8125 36.53125 \nQ 39.546875 41.84375 41.421875 45.53125 \nQ 43.3125 49.21875 43.3125 52.78125 \nQ 43.3125 58.59375 39.234375 62.25 \nQ 35.15625 65.921875 28.609375 65.921875 \nQ 23.96875 65.921875 18.8125 64.3125 \nQ 13.671875 62.703125 7.8125 59.421875 \nL 7.8125 69.390625 \nQ 13.765625 71.78125 18.9375 73 \nQ 24.125 74.21875 28.421875 74.21875 \nQ 39.75 74.21875 46.484375 68.546875 \nQ 53.21875 62.890625 53.21875 53.421875 \nQ 53.21875 48.921875 51.53125 44.890625 \nQ 49.859375 40.875 45.40625 35.40625 \nQ 44.1875 33.984375 37.640625 27.21875 \nQ 31.109375 20.453125 19.1875 8.296875 \nz\n\" id=\"DejaVuSans-50\"/>\n        <path d=\"M 10.796875 72.90625 \nL 49.515625 72.90625 \nL 49.515625 64.59375 \nL 19.828125 64.59375 \nL 19.828125 46.734375 \nQ 21.96875 47.46875 24.109375 47.828125 \nQ 26.265625 48.1875 28.421875 48.1875 \nQ 40.625 48.1875 47.75 41.5 \nQ 54.890625 34.8125 54.890625 23.390625 \nQ 54.890625 11.625 47.5625 5.09375 \nQ 40.234375 -1.421875 26.90625 -1.421875 \nQ 22.3125 -1.421875 17.546875 -0.640625 \nQ 12.796875 0.140625 7.71875 1.703125 \nL 7.71875 11.625 \nQ 12.109375 9.234375 16.796875 8.0625 \nQ 21.484375 6.890625 26.703125 6.890625 \nQ 35.15625 6.890625 40.078125 11.328125 \nQ 45.015625 15.765625 45.015625 23.390625 \nQ 45.015625 31 40.078125 35.4375 \nQ 35.15625 39.890625 26.703125 39.890625 \nQ 22.75 39.890625 18.8125 39.015625 \nQ 14.890625 38.140625 10.796875 36.28125 \nz\n\" id=\"DejaVuSans-53\"/>\n       </defs>\n       <use xlink:href=\"#DejaVuSans-50\"/>\n       <use x=\"63.623047\" xlink:href=\"#DejaVuSans-46\"/>\n       <use x=\"95.410156\" xlink:href=\"#DejaVuSans-53\"/>\n      </g>\n     </g>\n    </g>\n    <g id=\"xtick_3\">\n     <g id=\"line2d_3\">\n      <g>\n       <use style=\"stroke:#000000;stroke-width:0.8;\" x=\"143.390625\" xlink:href=\"#mcbfe23ad83\" y=\"228.439219\"/>\n      </g>\n     </g>\n     <g id=\"text_3\">\n      <!-- 5.0 -->\n      <g transform=\"translate(135.439063 243.037656)scale(0.1 -0.1)\">\n       <use xlink:href=\"#DejaVuSans-53\"/>\n       <use x=\"63.623047\" xlink:href=\"#DejaVuSans-46\"/>\n       <use x=\"95.410156\" xlink:href=\"#DejaVuSans-48\"/>\n      </g>\n     </g>\n    </g>\n    <g id=\"xtick_4\">\n     <g id=\"line2d_4\">\n      <g>\n       <use style=\"stroke:#000000;stroke-width:0.8;\" x=\"185.240625\" xlink:href=\"#mcbfe23ad83\" y=\"228.439219\"/>\n      </g>\n     </g>\n     <g id=\"text_4\">\n      <!-- 7.5 -->\n      <g transform=\"translate(177.289063 243.037656)scale(0.1 -0.1)\">\n       <defs>\n        <path d=\"M 8.203125 72.90625 \nL 55.078125 72.90625 \nL 55.078125 68.703125 \nL 28.609375 0 \nL 18.3125 0 \nL 43.21875 64.59375 \nL 8.203125 64.59375 \nz\n\" id=\"DejaVuSans-55\"/>\n       </defs>\n       <use xlink:href=\"#DejaVuSans-55\"/>\n       <use x=\"63.623047\" xlink:href=\"#DejaVuSans-46\"/>\n       <use x=\"95.410156\" xlink:href=\"#DejaVuSans-53\"/>\n      </g>\n     </g>\n    </g>\n    <g id=\"xtick_5\">\n     <g id=\"line2d_5\">\n      <g>\n       <use style=\"stroke:#000000;stroke-width:0.8;\" x=\"227.090625\" xlink:href=\"#mcbfe23ad83\" y=\"228.439219\"/>\n      </g>\n     </g>\n     <g id=\"text_5\">\n      <!-- 10.0 -->\n      <g transform=\"translate(215.957813 243.037656)scale(0.1 -0.1)\">\n       <defs>\n        <path d=\"M 12.40625 8.296875 \nL 28.515625 8.296875 \nL 28.515625 63.921875 \nL 10.984375 60.40625 \nL 10.984375 69.390625 \nL 28.421875 72.90625 \nL 38.28125 72.90625 \nL 38.28125 8.296875 \nL 54.390625 8.296875 \nL 54.390625 0 \nL 12.40625 0 \nz\n\" id=\"DejaVuSans-49\"/>\n       </defs>\n       <use xlink:href=\"#DejaVuSans-49\"/>\n       <use x=\"63.623047\" xlink:href=\"#DejaVuSans-48\"/>\n       <use x=\"127.246094\" xlink:href=\"#DejaVuSans-46\"/>\n       <use x=\"159.033203\" xlink:href=\"#DejaVuSans-48\"/>\n      </g>\n     </g>\n    </g>\n    <g id=\"xtick_6\">\n     <g id=\"line2d_6\">\n      <g>\n       <use style=\"stroke:#000000;stroke-width:0.8;\" x=\"268.940625\" xlink:href=\"#mcbfe23ad83\" y=\"228.439219\"/>\n      </g>\n     </g>\n     <g id=\"text_6\">\n      <!-- 12.5 -->\n      <g transform=\"translate(257.807813 243.037656)scale(0.1 -0.1)\">\n       <use xlink:href=\"#DejaVuSans-49\"/>\n       <use x=\"63.623047\" xlink:href=\"#DejaVuSans-50\"/>\n       <use x=\"127.246094\" xlink:href=\"#DejaVuSans-46\"/>\n       <use x=\"159.033203\" xlink:href=\"#DejaVuSans-53\"/>\n      </g>\n     </g>\n    </g>\n    <g id=\"xtick_7\">\n     <g id=\"line2d_7\">\n      <g>\n       <use style=\"stroke:#000000;stroke-width:0.8;\" x=\"310.790625\" xlink:href=\"#mcbfe23ad83\" y=\"228.439219\"/>\n      </g>\n     </g>\n     <g id=\"text_7\">\n      <!-- 15.0 -->\n      <g transform=\"translate(299.657813 243.037656)scale(0.1 -0.1)\">\n       <use xlink:href=\"#DejaVuSans-49\"/>\n       <use x=\"63.623047\" xlink:href=\"#DejaVuSans-53\"/>\n       <use x=\"127.246094\" xlink:href=\"#DejaVuSans-46\"/>\n       <use x=\"159.033203\" xlink:href=\"#DejaVuSans-48\"/>\n      </g>\n     </g>\n    </g>\n    <g id=\"xtick_8\">\n     <g id=\"line2d_8\">\n      <g>\n       <use style=\"stroke:#000000;stroke-width:0.8;\" x=\"352.640625\" xlink:href=\"#mcbfe23ad83\" y=\"228.439219\"/>\n      </g>\n     </g>\n     <g id=\"text_8\">\n      <!-- 17.5 -->\n      <g transform=\"translate(341.507813 243.037656)scale(0.1 -0.1)\">\n       <use xlink:href=\"#DejaVuSans-49\"/>\n       <use x=\"63.623047\" xlink:href=\"#DejaVuSans-55\"/>\n       <use x=\"127.246094\" xlink:href=\"#DejaVuSans-46\"/>\n       <use x=\"159.033203\" xlink:href=\"#DejaVuSans-53\"/>\n      </g>\n     </g>\n    </g>\n    <g id=\"xtick_9\">\n     <g id=\"line2d_9\">\n      <g>\n       <use style=\"stroke:#000000;stroke-width:0.8;\" x=\"394.490625\" xlink:href=\"#mcbfe23ad83\" y=\"228.439219\"/>\n      </g>\n     </g>\n     <g id=\"text_9\">\n      <!-- 20.0 -->\n      <g transform=\"translate(383.357813 243.037656)scale(0.1 -0.1)\">\n       <use xlink:href=\"#DejaVuSans-50\"/>\n       <use x=\"63.623047\" xlink:href=\"#DejaVuSans-48\"/>\n       <use x=\"127.246094\" xlink:href=\"#DejaVuSans-46\"/>\n       <use x=\"159.033203\" xlink:href=\"#DejaVuSans-48\"/>\n      </g>\n     </g>\n    </g>\n    <g id=\"text_10\">\n     <!-- Energy (keV) -->\n     <g transform=\"translate(194.882812 256.715781)scale(0.1 -0.1)\">\n      <defs>\n       <path d=\"M 9.8125 72.90625 \nL 55.90625 72.90625 \nL 55.90625 64.59375 \nL 19.671875 64.59375 \nL 19.671875 43.015625 \nL 54.390625 43.015625 \nL 54.390625 34.71875 \nL 19.671875 34.71875 \nL 19.671875 8.296875 \nL 56.78125 8.296875 \nL 56.78125 0 \nL 9.8125 0 \nz\n\" id=\"DejaVuSans-69\"/>\n       <path d=\"M 54.890625 33.015625 \nL 54.890625 0 \nL 45.90625 0 \nL 45.90625 32.71875 \nQ 45.90625 40.484375 42.875 44.328125 \nQ 39.84375 48.1875 33.796875 48.1875 \nQ 26.515625 48.1875 22.3125 43.546875 \nQ 18.109375 38.921875 18.109375 30.90625 \nL 18.109375 0 \nL 9.078125 0 \nL 9.078125 54.6875 \nL 18.109375 54.6875 \nL 18.109375 46.1875 \nQ 21.34375 51.125 25.703125 53.5625 \nQ 30.078125 56 35.796875 56 \nQ 45.21875 56 50.046875 50.171875 \nQ 54.890625 44.34375 54.890625 33.015625 \nz\n\" id=\"DejaVuSans-110\"/>\n       <path d=\"M 56.203125 29.59375 \nL 56.203125 25.203125 \nL 14.890625 25.203125 \nQ 15.484375 15.921875 20.484375 11.0625 \nQ 25.484375 6.203125 34.421875 6.203125 \nQ 39.59375 6.203125 44.453125 7.46875 \nQ 49.3125 8.734375 54.109375 11.28125 \nL 54.109375 2.78125 \nQ 49.265625 0.734375 44.1875 -0.34375 \nQ 39.109375 -1.421875 33.890625 -1.421875 \nQ 20.796875 -1.421875 13.15625 6.1875 \nQ 5.515625 13.8125 5.515625 26.8125 \nQ 5.515625 40.234375 12.765625 48.109375 \nQ 20.015625 56 32.328125 56 \nQ 43.359375 56 49.78125 48.890625 \nQ 56.203125 41.796875 56.203125 29.59375 \nz\nM 47.21875 32.234375 \nQ 47.125 39.59375 43.09375 43.984375 \nQ 39.0625 48.390625 32.421875 48.390625 \nQ 24.90625 48.390625 20.390625 44.140625 \nQ 15.875 39.890625 15.1875 32.171875 \nz\n\" id=\"DejaVuSans-101\"/>\n       <path d=\"M 41.109375 46.296875 \nQ 39.59375 47.171875 37.8125 47.578125 \nQ 36.03125 48 33.890625 48 \nQ 26.265625 48 22.1875 43.046875 \nQ 18.109375 38.09375 18.109375 28.8125 \nL 18.109375 0 \nL 9.078125 0 \nL 9.078125 54.6875 \nL 18.109375 54.6875 \nL 18.109375 46.1875 \nQ 20.953125 51.171875 25.484375 53.578125 \nQ 30.03125 56 36.53125 56 \nQ 37.453125 56 38.578125 55.875 \nQ 39.703125 55.765625 41.0625 55.515625 \nz\n\" id=\"DejaVuSans-114\"/>\n       <path d=\"M 45.40625 27.984375 \nQ 45.40625 37.75 41.375 43.109375 \nQ 37.359375 48.484375 30.078125 48.484375 \nQ 22.859375 48.484375 18.828125 43.109375 \nQ 14.796875 37.75 14.796875 27.984375 \nQ 14.796875 18.265625 18.828125 12.890625 \nQ 22.859375 7.515625 30.078125 7.515625 \nQ 37.359375 7.515625 41.375 12.890625 \nQ 45.40625 18.265625 45.40625 27.984375 \nz\nM 54.390625 6.78125 \nQ 54.390625 -7.171875 48.1875 -13.984375 \nQ 42 -20.796875 29.203125 -20.796875 \nQ 24.46875 -20.796875 20.265625 -20.09375 \nQ 16.0625 -19.390625 12.109375 -17.921875 \nL 12.109375 -9.1875 \nQ 16.0625 -11.328125 19.921875 -12.34375 \nQ 23.78125 -13.375 27.78125 -13.375 \nQ 36.625 -13.375 41.015625 -8.765625 \nQ 45.40625 -4.15625 45.40625 5.171875 \nL 45.40625 9.625 \nQ 42.625 4.78125 38.28125 2.390625 \nQ 33.9375 0 27.875 0 \nQ 17.828125 0 11.671875 7.65625 \nQ 5.515625 15.328125 5.515625 27.984375 \nQ 5.515625 40.671875 11.671875 48.328125 \nQ 17.828125 56 27.875 56 \nQ 33.9375 56 38.28125 53.609375 \nQ 42.625 51.21875 45.40625 46.390625 \nL 45.40625 54.6875 \nL 54.390625 54.6875 \nz\n\" id=\"DejaVuSans-103\"/>\n       <path d=\"M 32.171875 -5.078125 \nQ 28.375 -14.84375 24.75 -17.8125 \nQ 21.140625 -20.796875 15.09375 -20.796875 \nL 7.90625 -20.796875 \nL 7.90625 -13.28125 \nL 13.1875 -13.28125 \nQ 16.890625 -13.28125 18.9375 -11.515625 \nQ 21 -9.765625 23.484375 -3.21875 \nL 25.09375 0.875 \nL 2.984375 54.6875 \nL 12.5 54.6875 \nL 29.59375 11.921875 \nL 46.6875 54.6875 \nL 56.203125 54.6875 \nz\n\" id=\"DejaVuSans-121\"/>\n       <path id=\"DejaVuSans-32\"/>\n       <path d=\"M 31 75.875 \nQ 24.46875 64.65625 21.28125 53.65625 \nQ 18.109375 42.671875 18.109375 31.390625 \nQ 18.109375 20.125 21.3125 9.0625 \nQ 24.515625 -2 31 -13.1875 \nL 23.1875 -13.1875 \nQ 15.875 -1.703125 12.234375 9.375 \nQ 8.59375 20.453125 8.59375 31.390625 \nQ 8.59375 42.28125 12.203125 53.3125 \nQ 15.828125 64.359375 23.1875 75.875 \nz\n\" id=\"DejaVuSans-40\"/>\n       <path d=\"M 9.078125 75.984375 \nL 18.109375 75.984375 \nL 18.109375 31.109375 \nL 44.921875 54.6875 \nL 56.390625 54.6875 \nL 27.390625 29.109375 \nL 57.625 0 \nL 45.90625 0 \nL 18.109375 26.703125 \nL 18.109375 0 \nL 9.078125 0 \nz\n\" id=\"DejaVuSans-107\"/>\n       <path d=\"M 28.609375 0 \nL 0.78125 72.90625 \nL 11.078125 72.90625 \nL 34.1875 11.53125 \nL 57.328125 72.90625 \nL 67.578125 72.90625 \nL 39.796875 0 \nz\n\" id=\"DejaVuSans-86\"/>\n       <path d=\"M 8.015625 75.875 \nL 15.828125 75.875 \nQ 23.140625 64.359375 26.78125 53.3125 \nQ 30.421875 42.28125 30.421875 31.390625 \nQ 30.421875 20.453125 26.78125 9.375 \nQ 23.140625 -1.703125 15.828125 -13.1875 \nL 8.015625 -13.1875 \nQ 14.5 -2 17.703125 9.0625 \nQ 20.90625 20.125 20.90625 31.390625 \nQ 20.90625 42.671875 17.703125 53.65625 \nQ 14.5 64.65625 8.015625 75.875 \nz\n\" id=\"DejaVuSans-41\"/>\n      </defs>\n      <use xlink:href=\"#DejaVuSans-69\"/>\n      <use x=\"63.183594\" xlink:href=\"#DejaVuSans-110\"/>\n      <use x=\"126.5625\" xlink:href=\"#DejaVuSans-101\"/>\n      <use x=\"188.085938\" xlink:href=\"#DejaVuSans-114\"/>\n      <use x=\"227.449219\" xlink:href=\"#DejaVuSans-103\"/>\n      <use x=\"290.925781\" xlink:href=\"#DejaVuSans-121\"/>\n      <use x=\"350.105469\" xlink:href=\"#DejaVuSans-32\"/>\n      <use x=\"381.892578\" xlink:href=\"#DejaVuSans-40\"/>\n      <use x=\"420.90625\" xlink:href=\"#DejaVuSans-107\"/>\n      <use x=\"475.191406\" xlink:href=\"#DejaVuSans-101\"/>\n      <use x=\"536.714844\" xlink:href=\"#DejaVuSans-86\"/>\n      <use x=\"605.123047\" xlink:href=\"#DejaVuSans-41\"/>\n     </g>\n    </g>\n   </g>\n   <g id=\"matplotlib.axis_2\">\n    <g id=\"ytick_1\">\n     <g id=\"line2d_10\">\n      <defs>\n       <path d=\"M 0 0 \nL -3.5 0 \n\" id=\"mbca6a61cbe\" style=\"stroke:#000000;stroke-width:0.8;\"/>\n      </defs>\n      <g>\n       <use style=\"stroke:#000000;stroke-width:0.8;\" x=\"59.690625\" xlink:href=\"#mbca6a61cbe\" y=\"184.959917\"/>\n      </g>\n     </g>\n     <g id=\"text_11\">\n      <!-- 2000 -->\n      <g transform=\"translate(27.240625 188.759136)scale(0.1 -0.1)\">\n       <use xlink:href=\"#DejaVuSans-50\"/>\n       <use x=\"63.623047\" xlink:href=\"#DejaVuSans-48\"/>\n       <use x=\"127.246094\" xlink:href=\"#DejaVuSans-48\"/>\n       <use x=\"190.869141\" xlink:href=\"#DejaVuSans-48\"/>\n      </g>\n     </g>\n    </g>\n    <g id=\"ytick_2\">\n     <g id=\"line2d_11\">\n      <g>\n       <use style=\"stroke:#000000;stroke-width:0.8;\" x=\"59.690625\" xlink:href=\"#mbca6a61cbe\" y=\"141.469742\"/>\n      </g>\n     </g>\n     <g id=\"text_12\">\n      <!-- 4000 -->\n      <g transform=\"translate(27.240625 145.268961)scale(0.1 -0.1)\">\n       <defs>\n        <path d=\"M 37.796875 64.3125 \nL 12.890625 25.390625 \nL 37.796875 25.390625 \nz\nM 35.203125 72.90625 \nL 47.609375 72.90625 \nL 47.609375 25.390625 \nL 58.015625 25.390625 \nL 58.015625 17.1875 \nL 47.609375 17.1875 \nL 47.609375 0 \nL 37.796875 0 \nL 37.796875 17.1875 \nL 4.890625 17.1875 \nL 4.890625 26.703125 \nz\n\" id=\"DejaVuSans-52\"/>\n       </defs>\n       <use xlink:href=\"#DejaVuSans-52\"/>\n       <use x=\"63.623047\" xlink:href=\"#DejaVuSans-48\"/>\n       <use x=\"127.246094\" xlink:href=\"#DejaVuSans-48\"/>\n       <use x=\"190.869141\" xlink:href=\"#DejaVuSans-48\"/>\n      </g>\n     </g>\n    </g>\n    <g id=\"ytick_3\">\n     <g id=\"line2d_12\">\n      <g>\n       <use style=\"stroke:#000000;stroke-width:0.8;\" x=\"59.690625\" xlink:href=\"#mbca6a61cbe\" y=\"97.979568\"/>\n      </g>\n     </g>\n     <g id=\"text_13\">\n      <!-- 6000 -->\n      <g transform=\"translate(27.240625 101.778787)scale(0.1 -0.1)\">\n       <defs>\n        <path d=\"M 33.015625 40.375 \nQ 26.375 40.375 22.484375 35.828125 \nQ 18.609375 31.296875 18.609375 23.390625 \nQ 18.609375 15.53125 22.484375 10.953125 \nQ 26.375 6.390625 33.015625 6.390625 \nQ 39.65625 6.390625 43.53125 10.953125 \nQ 47.40625 15.53125 47.40625 23.390625 \nQ 47.40625 31.296875 43.53125 35.828125 \nQ 39.65625 40.375 33.015625 40.375 \nz\nM 52.59375 71.296875 \nL 52.59375 62.3125 \nQ 48.875 64.0625 45.09375 64.984375 \nQ 41.3125 65.921875 37.59375 65.921875 \nQ 27.828125 65.921875 22.671875 59.328125 \nQ 17.53125 52.734375 16.796875 39.40625 \nQ 19.671875 43.65625 24.015625 45.921875 \nQ 28.375 48.1875 33.59375 48.1875 \nQ 44.578125 48.1875 50.953125 41.515625 \nQ 57.328125 34.859375 57.328125 23.390625 \nQ 57.328125 12.15625 50.6875 5.359375 \nQ 44.046875 -1.421875 33.015625 -1.421875 \nQ 20.359375 -1.421875 13.671875 8.265625 \nQ 6.984375 17.96875 6.984375 36.375 \nQ 6.984375 53.65625 15.1875 63.9375 \nQ 23.390625 74.21875 37.203125 74.21875 \nQ 40.921875 74.21875 44.703125 73.484375 \nQ 48.484375 72.75 52.59375 71.296875 \nz\n\" id=\"DejaVuSans-54\"/>\n       </defs>\n       <use xlink:href=\"#DejaVuSans-54\"/>\n       <use x=\"63.623047\" xlink:href=\"#DejaVuSans-48\"/>\n       <use x=\"127.246094\" xlink:href=\"#DejaVuSans-48\"/>\n       <use x=\"190.869141\" xlink:href=\"#DejaVuSans-48\"/>\n      </g>\n     </g>\n    </g>\n    <g id=\"ytick_4\">\n     <g id=\"line2d_13\">\n      <g>\n       <use style=\"stroke:#000000;stroke-width:0.8;\" x=\"59.690625\" xlink:href=\"#mbca6a61cbe\" y=\"54.489393\"/>\n      </g>\n     </g>\n     <g id=\"text_14\">\n      <!-- 8000 -->\n      <g transform=\"translate(27.240625 58.288612)scale(0.1 -0.1)\">\n       <defs>\n        <path d=\"M 31.78125 34.625 \nQ 24.75 34.625 20.71875 30.859375 \nQ 16.703125 27.09375 16.703125 20.515625 \nQ 16.703125 13.921875 20.71875 10.15625 \nQ 24.75 6.390625 31.78125 6.390625 \nQ 38.8125 6.390625 42.859375 10.171875 \nQ 46.921875 13.96875 46.921875 20.515625 \nQ 46.921875 27.09375 42.890625 30.859375 \nQ 38.875 34.625 31.78125 34.625 \nz\nM 21.921875 38.8125 \nQ 15.578125 40.375 12.03125 44.71875 \nQ 8.5 49.078125 8.5 55.328125 \nQ 8.5 64.0625 14.71875 69.140625 \nQ 20.953125 74.21875 31.78125 74.21875 \nQ 42.671875 74.21875 48.875 69.140625 \nQ 55.078125 64.0625 55.078125 55.328125 \nQ 55.078125 49.078125 51.53125 44.71875 \nQ 48 40.375 41.703125 38.8125 \nQ 48.828125 37.15625 52.796875 32.3125 \nQ 56.78125 27.484375 56.78125 20.515625 \nQ 56.78125 9.90625 50.3125 4.234375 \nQ 43.84375 -1.421875 31.78125 -1.421875 \nQ 19.734375 -1.421875 13.25 4.234375 \nQ 6.78125 9.90625 6.78125 20.515625 \nQ 6.78125 27.484375 10.78125 32.3125 \nQ 14.796875 37.15625 21.921875 38.8125 \nz\nM 18.3125 54.390625 \nQ 18.3125 48.734375 21.84375 45.5625 \nQ 25.390625 42.390625 31.78125 42.390625 \nQ 38.140625 42.390625 41.71875 45.5625 \nQ 45.3125 48.734375 45.3125 54.390625 \nQ 45.3125 60.0625 41.71875 63.234375 \nQ 38.140625 66.40625 31.78125 66.40625 \nQ 25.390625 66.40625 21.84375 63.234375 \nQ 18.3125 60.0625 18.3125 54.390625 \nz\n\" id=\"DejaVuSans-56\"/>\n       </defs>\n       <use xlink:href=\"#DejaVuSans-56\"/>\n       <use x=\"63.623047\" xlink:href=\"#DejaVuSans-48\"/>\n       <use x=\"127.246094\" xlink:href=\"#DejaVuSans-48\"/>\n       <use x=\"190.869141\" xlink:href=\"#DejaVuSans-48\"/>\n      </g>\n     </g>\n    </g>\n    <g id=\"ytick_5\">\n     <g id=\"line2d_14\">\n      <g>\n       <use style=\"stroke:#000000;stroke-width:0.8;\" x=\"59.690625\" xlink:href=\"#mbca6a61cbe\" y=\"10.999219\"/>\n      </g>\n     </g>\n     <g id=\"text_15\">\n      <!-- 10000 -->\n      <g transform=\"translate(20.878125 14.798437)scale(0.1 -0.1)\">\n       <use xlink:href=\"#DejaVuSans-49\"/>\n       <use x=\"63.623047\" xlink:href=\"#DejaVuSans-48\"/>\n       <use x=\"127.246094\" xlink:href=\"#DejaVuSans-48\"/>\n       <use x=\"190.869141\" xlink:href=\"#DejaVuSans-48\"/>\n       <use x=\"254.492188\" xlink:href=\"#DejaVuSans-48\"/>\n      </g>\n     </g>\n    </g>\n    <g id=\"text_16\">\n     <!-- Counts / (40.0 eV kg days) -->\n     <g transform=\"translate(14.798438 186.205156)rotate(-90)scale(0.1 -0.1)\">\n      <defs>\n       <path d=\"M 64.40625 67.28125 \nL 64.40625 56.890625 \nQ 59.421875 61.53125 53.78125 63.8125 \nQ 48.140625 66.109375 41.796875 66.109375 \nQ 29.296875 66.109375 22.65625 58.46875 \nQ 16.015625 50.828125 16.015625 36.375 \nQ 16.015625 21.96875 22.65625 14.328125 \nQ 29.296875 6.6875 41.796875 6.6875 \nQ 48.140625 6.6875 53.78125 8.984375 \nQ 59.421875 11.28125 64.40625 15.921875 \nL 64.40625 5.609375 \nQ 59.234375 2.09375 53.4375 0.328125 \nQ 47.65625 -1.421875 41.21875 -1.421875 \nQ 24.65625 -1.421875 15.125 8.703125 \nQ 5.609375 18.84375 5.609375 36.375 \nQ 5.609375 53.953125 15.125 64.078125 \nQ 24.65625 74.21875 41.21875 74.21875 \nQ 47.75 74.21875 53.53125 72.484375 \nQ 59.328125 70.75 64.40625 67.28125 \nz\n\" id=\"DejaVuSans-67\"/>\n       <path d=\"M 30.609375 48.390625 \nQ 23.390625 48.390625 19.1875 42.75 \nQ 14.984375 37.109375 14.984375 27.296875 \nQ 14.984375 17.484375 19.15625 11.84375 \nQ 23.34375 6.203125 30.609375 6.203125 \nQ 37.796875 6.203125 41.984375 11.859375 \nQ 46.1875 17.53125 46.1875 27.296875 \nQ 46.1875 37.015625 41.984375 42.703125 \nQ 37.796875 48.390625 30.609375 48.390625 \nz\nM 30.609375 56 \nQ 42.328125 56 49.015625 48.375 \nQ 55.71875 40.765625 55.71875 27.296875 \nQ 55.71875 13.875 49.015625 6.21875 \nQ 42.328125 -1.421875 30.609375 -1.421875 \nQ 18.84375 -1.421875 12.171875 6.21875 \nQ 5.515625 13.875 5.515625 27.296875 \nQ 5.515625 40.765625 12.171875 48.375 \nQ 18.84375 56 30.609375 56 \nz\n\" id=\"DejaVuSans-111\"/>\n       <path d=\"M 8.5 21.578125 \nL 8.5 54.6875 \nL 17.484375 54.6875 \nL 17.484375 21.921875 \nQ 17.484375 14.15625 20.5 10.265625 \nQ 23.53125 6.390625 29.59375 6.390625 \nQ 36.859375 6.390625 41.078125 11.03125 \nQ 45.3125 15.671875 45.3125 23.6875 \nL 45.3125 54.6875 \nL 54.296875 54.6875 \nL 54.296875 0 \nL 45.3125 0 \nL 45.3125 8.40625 \nQ 42.046875 3.421875 37.71875 1 \nQ 33.40625 -1.421875 27.6875 -1.421875 \nQ 18.265625 -1.421875 13.375 4.4375 \nQ 8.5 10.296875 8.5 21.578125 \nz\nM 31.109375 56 \nz\n\" id=\"DejaVuSans-117\"/>\n       <path d=\"M 18.3125 70.21875 \nL 18.3125 54.6875 \nL 36.8125 54.6875 \nL 36.8125 47.703125 \nL 18.3125 47.703125 \nL 18.3125 18.015625 \nQ 18.3125 11.328125 20.140625 9.421875 \nQ 21.96875 7.515625 27.59375 7.515625 \nL 36.8125 7.515625 \nL 36.8125 0 \nL 27.59375 0 \nQ 17.1875 0 13.234375 3.875 \nQ 9.28125 7.765625 9.28125 18.015625 \nL 9.28125 47.703125 \nL 2.6875 47.703125 \nL 2.6875 54.6875 \nL 9.28125 54.6875 \nL 9.28125 70.21875 \nz\n\" id=\"DejaVuSans-116\"/>\n       <path d=\"M 44.28125 53.078125 \nL 44.28125 44.578125 \nQ 40.484375 46.53125 36.375 47.5 \nQ 32.28125 48.484375 27.875 48.484375 \nQ 21.1875 48.484375 17.84375 46.4375 \nQ 14.5 44.390625 14.5 40.28125 \nQ 14.5 37.15625 16.890625 35.375 \nQ 19.28125 33.59375 26.515625 31.984375 \nL 29.59375 31.296875 \nQ 39.15625 29.25 43.1875 25.515625 \nQ 47.21875 21.78125 47.21875 15.09375 \nQ 47.21875 7.46875 41.1875 3.015625 \nQ 35.15625 -1.421875 24.609375 -1.421875 \nQ 20.21875 -1.421875 15.453125 -0.5625 \nQ 10.6875 0.296875 5.421875 2 \nL 5.421875 11.28125 \nQ 10.40625 8.6875 15.234375 7.390625 \nQ 20.0625 6.109375 24.8125 6.109375 \nQ 31.15625 6.109375 34.5625 8.28125 \nQ 37.984375 10.453125 37.984375 14.40625 \nQ 37.984375 18.0625 35.515625 20.015625 \nQ 33.0625 21.96875 24.703125 23.78125 \nL 21.578125 24.515625 \nQ 13.234375 26.265625 9.515625 29.90625 \nQ 5.8125 33.546875 5.8125 39.890625 \nQ 5.8125 47.609375 11.28125 51.796875 \nQ 16.75 56 26.8125 56 \nQ 31.78125 56 36.171875 55.265625 \nQ 40.578125 54.546875 44.28125 53.078125 \nz\n\" id=\"DejaVuSans-115\"/>\n       <path d=\"M 25.390625 72.90625 \nL 33.6875 72.90625 \nL 8.296875 -9.28125 \nL 0 -9.28125 \nz\n\" id=\"DejaVuSans-47\"/>\n       <path d=\"M 45.40625 46.390625 \nL 45.40625 75.984375 \nL 54.390625 75.984375 \nL 54.390625 0 \nL 45.40625 0 \nL 45.40625 8.203125 \nQ 42.578125 3.328125 38.25 0.953125 \nQ 33.9375 -1.421875 27.875 -1.421875 \nQ 17.96875 -1.421875 11.734375 6.484375 \nQ 5.515625 14.40625 5.515625 27.296875 \nQ 5.515625 40.1875 11.734375 48.09375 \nQ 17.96875 56 27.875 56 \nQ 33.9375 56 38.25 53.625 \nQ 42.578125 51.265625 45.40625 46.390625 \nz\nM 14.796875 27.296875 \nQ 14.796875 17.390625 18.875 11.75 \nQ 22.953125 6.109375 30.078125 6.109375 \nQ 37.203125 6.109375 41.296875 11.75 \nQ 45.40625 17.390625 45.40625 27.296875 \nQ 45.40625 37.203125 41.296875 42.84375 \nQ 37.203125 48.484375 30.078125 48.484375 \nQ 22.953125 48.484375 18.875 42.84375 \nQ 14.796875 37.203125 14.796875 27.296875 \nz\n\" id=\"DejaVuSans-100\"/>\n       <path d=\"M 34.28125 27.484375 \nQ 23.390625 27.484375 19.1875 25 \nQ 14.984375 22.515625 14.984375 16.5 \nQ 14.984375 11.71875 18.140625 8.90625 \nQ 21.296875 6.109375 26.703125 6.109375 \nQ 34.1875 6.109375 38.703125 11.40625 \nQ 43.21875 16.703125 43.21875 25.484375 \nL 43.21875 27.484375 \nz\nM 52.203125 31.203125 \nL 52.203125 0 \nL 43.21875 0 \nL 43.21875 8.296875 \nQ 40.140625 3.328125 35.546875 0.953125 \nQ 30.953125 -1.421875 24.3125 -1.421875 \nQ 15.921875 -1.421875 10.953125 3.296875 \nQ 6 8.015625 6 15.921875 \nQ 6 25.140625 12.171875 29.828125 \nQ 18.359375 34.515625 30.609375 34.515625 \nL 43.21875 34.515625 \nL 43.21875 35.40625 \nQ 43.21875 41.609375 39.140625 45 \nQ 35.0625 48.390625 27.6875 48.390625 \nQ 23 48.390625 18.546875 47.265625 \nQ 14.109375 46.140625 10.015625 43.890625 \nL 10.015625 52.203125 \nQ 14.9375 54.109375 19.578125 55.046875 \nQ 24.21875 56 28.609375 56 \nQ 40.484375 56 46.34375 49.84375 \nQ 52.203125 43.703125 52.203125 31.203125 \nz\n\" id=\"DejaVuSans-97\"/>\n      </defs>\n      <use xlink:href=\"#DejaVuSans-67\"/>\n      <use x=\"69.824219\" xlink:href=\"#DejaVuSans-111\"/>\n      <use x=\"131.005859\" xlink:href=\"#DejaVuSans-117\"/>\n      <use x=\"194.384766\" xlink:href=\"#DejaVuSans-110\"/>\n      <use x=\"257.763672\" xlink:href=\"#DejaVuSans-116\"/>\n      <use x=\"296.972656\" xlink:href=\"#DejaVuSans-115\"/>\n      <use x=\"349.072266\" xlink:href=\"#DejaVuSans-32\"/>\n      <use x=\"380.859375\" xlink:href=\"#DejaVuSans-47\"/>\n      <use x=\"414.550781\" xlink:href=\"#DejaVuSans-32\"/>\n      <use x=\"446.337891\" xlink:href=\"#DejaVuSans-40\"/>\n      <use x=\"485.351562\" xlink:href=\"#DejaVuSans-52\"/>\n      <use x=\"548.974609\" xlink:href=\"#DejaVuSans-48\"/>\n      <use x=\"612.597656\" xlink:href=\"#DejaVuSans-46\"/>\n      <use x=\"644.384766\" xlink:href=\"#DejaVuSans-48\"/>\n      <use x=\"708.007812\" xlink:href=\"#DejaVuSans-32\"/>\n      <use x=\"739.794922\" xlink:href=\"#DejaVuSans-101\"/>\n      <use x=\"801.318359\" xlink:href=\"#DejaVuSans-86\"/>\n      <use x=\"869.726562\" xlink:href=\"#DejaVuSans-32\"/>\n      <use x=\"901.513672\" xlink:href=\"#DejaVuSans-107\"/>\n      <use x=\"959.423828\" xlink:href=\"#DejaVuSans-103\"/>\n      <use x=\"1022.900391\" xlink:href=\"#DejaVuSans-32\"/>\n      <use x=\"1054.6875\" xlink:href=\"#DejaVuSans-100\"/>\n      <use x=\"1118.164062\" xlink:href=\"#DejaVuSans-97\"/>\n      <use x=\"1179.443359\" xlink:href=\"#DejaVuSans-121\"/>\n      <use x=\"1238.623047\" xlink:href=\"#DejaVuSans-115\"/>\n      <use x=\"1290.722656\" xlink:href=\"#DejaVuSans-41\"/>\n     </g>\n    </g>\n   </g>\n   <g id=\"patch_3\">\n    <path clip-path=\"url(#p15fa5600e9)\" d=\"M 59.690625 228.450091 \nL 59.690625 142.165585 \nL 60.360225 142.165585 \nL 60.360225 146.949504 \nL 61.029825 146.949504 \nL 61.029825 150.254758 \nL 61.699425 150.254758 \nL 61.699425 153.820952 \nL 62.369025 153.820952 \nL 62.369025 153.668736 \nL 63.038625 153.668736 \nL 63.038625 159.844341 \nL 63.708225 159.844341 \nL 63.708225 163.21483 \nL 64.377825 163.21483 \nL 64.377825 163.497516 \nL 65.047425 163.497516 \nL 65.047425 168.129219 \nL 65.717025 168.129219 \nL 65.717025 170.499434 \nL 66.386625 170.499434 \nL 66.386625 169.564395 \nL 67.056225 169.564395 \nL 67.056225 173.674216 \nL 67.725825 173.674216 \nL 67.725825 176.631548 \nL 68.395425 176.631548 \nL 68.395425 178.523371 \nL 69.734625 178.436391 \nL 69.734625 180.74137 \nL 70.404225 180.74137 \nL 70.404225 186.242877 \nL 71.073825 186.242877 \nL 71.073825 185.547034 \nL 71.743425 185.547034 \nL 71.743425 186.242877 \nL 72.413025 186.242877 \nL 72.413025 187.895504 \nL 73.082625 187.895504 \nL 73.082625 190.156993 \nL 73.752225 190.156993 \nL 73.752225 193.592716 \nL 74.421825 193.592716 \nL 74.421825 192.483717 \nL 75.091425 192.483717 \nL 75.091425 194.397285 \nL 75.761025 194.397285 \nL 75.761025 196.310852 \nL 76.430625 196.310852 \nL 76.430625 198.3114 \nL 77.100225 198.3114 \nL 77.100225 197.898244 \nL 77.769825 197.898244 \nL 77.769825 198.855028 \nL 78.439425 198.855028 \nL 78.439425 199.4204 \nL 79.109025 199.4204 \nL 79.109025 202.269006 \nL 79.778625 202.269006 \nL 79.778625 202.834379 \nL 80.448225 202.834379 \nL 80.448225 204.095594 \nL 81.117825 204.095594 \nL 81.117825 203.030084 \nL 81.787425 203.030084 \nL 81.787425 204.443515 \nL 82.457025 204.443515 \nL 82.457025 207.205141 \nL 83.126625 207.205141 \nL 83.126625 208.488101 \nL 83.796225 208.488101 \nL 83.796225 208.22716 \nL 84.465825 208.22716 \nL 84.465825 208.923003 \nL 85.135425 208.923003 \nL 85.135425 209.836297 \nL 85.805025 209.836297 \nL 85.805025 211.097512 \nL 87.144225 211.141002 \nL 87.144225 210.053747 \nL 87.813825 210.053747 \nL 87.813825 212.663158 \nL 88.483425 212.663158 \nL 88.483425 213.489471 \nL 89.153025 213.489471 \nL 89.153025 214.163569 \nL 89.822625 214.163569 \nL 89.822625 213.967863 \nL 91.161825 213.989608 \nL 91.161825 216.077137 \nL 91.831425 216.077137 \nL 91.831425 215.424784 \nL 92.501025 215.424784 \nL 92.501025 216.99043 \nL 93.170625 216.99043 \nL 93.170625 216.251097 \nL 93.840225 216.251097 \nL 93.840225 217.468822 \nL 95.849025 217.447077 \nL 95.849025 219.3389 \nL 96.518625 219.3389 \nL 96.518625 219.534606 \nL 97.188225 219.534606 \nL 97.188225 218.490841 \nL 97.857825 218.490841 \nL 97.857825 220.208703 \nL 98.527425 220.208703 \nL 98.527425 220.948036 \nL 99.197025 220.948036 \nL 99.197025 220.273938 \nL 99.866625 220.273938 \nL 99.866625 219.991252 \nL 100.536225 219.991252 \nL 100.536225 220.926291 \nL 101.205825 220.926291 \nL 101.205825 221.165487 \nL 101.875425 221.165487 \nL 101.875425 221.622134 \nL 102.545025 221.622134 \nL 102.545025 221.426428 \nL 103.214625 221.426428 \nL 103.214625 222.035291 \nL 103.884225 222.035291 \nL 103.884225 222.839859 \nL 104.553825 222.839859 \nL 104.553825 223.209525 \nL 105.223425 223.209525 \nL 105.223425 222.209251 \nL 105.893025 222.209251 \nL 105.893025 222.926839 \nL 106.562625 222.926839 \nL 106.562625 223.557447 \nL 107.232225 223.557447 \nL 107.232225 223.318251 \nL 109.241025 223.426976 \nL 109.241025 224.405505 \nL 109.910625 224.405505 \nL 109.910625 223.927113 \nL 110.580225 223.927113 \nL 110.580225 224.166309 \nL 111.249825 224.166309 \nL 111.249825 224.448995 \nL 111.919425 224.448995 \nL 111.919425 224.709936 \nL 112.589025 224.709936 \nL 112.589025 225.036113 \nL 113.258625 225.036113 \nL 113.258625 224.753426 \nL 113.928225 224.753426 \nL 113.928225 225.014368 \nL 115.267425 224.905642 \nL 115.267425 225.318799 \nL 115.937025 225.318799 \nL 115.937025 225.492759 \nL 116.606625 225.492759 \nL 116.606625 225.62323 \nL 117.276225 225.62323 \nL 117.276225 225.797191 \nL 118.615425 225.797191 \nL 118.615425 226.058132 \nL 119.285025 226.058132 \nL 119.285025 225.905916 \nL 119.954625 225.905916 \nL 119.954625 226.058132 \nL 120.624225 226.058132 \nL 120.624225 225.66672 \nL 121.293825 225.66672 \nL 121.293825 226.449543 \nL 121.963425 226.449543 \nL 121.963425 226.319073 \nL 123.302625 226.297328 \nL 123.302625 226.493033 \nL 123.972225 226.493033 \nL 123.972225 226.710484 \nL 125.311425 226.710484 \nL 125.311425 226.94968 \nL 125.981025 226.94968 \nL 125.981025 226.536524 \nL 126.650625 226.536524 \nL 126.650625 227.167131 \nL 127.989825 227.254111 \nL 127.989825 226.840955 \nL 129.998625 226.90619 \nL 129.998625 227.319347 \nL 130.668225 227.319347 \nL 130.668225 226.94968 \nL 132.007425 227.036661 \nL 132.007425 226.471288 \nL 132.677025 226.471288 \nL 132.677025 225.992896 \nL 133.346625 225.992896 \nL 133.346625 225.210073 \nL 134.016225 225.210073 \nL 134.016225 222.578918 \nL 134.685825 222.578918 \nL 134.685825 219.621586 \nL 135.355425 219.621586 \nL 135.355425 215.642235 \nL 136.025025 215.642235 \nL 136.025025 208.14018 \nL 136.694625 208.14018 \nL 136.694625 198.746302 \nL 137.364225 198.746302 \nL 137.364225 185.286093 \nL 138.033825 185.286093 \nL 138.033825 169.281709 \nL 138.703425 169.281709 \nL 138.703425 153.038129 \nL 139.373025 153.038129 \nL 139.373025 135.81602 \nL 140.042625 135.81602 \nL 140.042625 109.982856 \nL 140.712225 109.982856 \nL 140.712225 91.543022 \nL 141.381825 91.543022 \nL 141.381825 74.277423 \nL 142.051425 74.277423 \nL 142.051425 62.730781 \nL 142.721025 62.730781 \nL 142.721025 55.359197 \nL 143.390625 55.359197 \nL 143.390625 53.402139 \nL 144.060225 53.402139 \nL 144.060225 65.949054 \nL 144.729825 65.949054 \nL 144.729825 74.799305 \nL 145.399425 74.799305 \nL 145.399425 91.347316 \nL 146.069025 91.347316 \nL 146.069025 113.440325 \nL 146.738625 113.440325 \nL 146.738625 133.271844 \nL 147.408225 133.271844 \nL 147.408225 152.472756 \nL 148.077825 152.472756 \nL 148.077825 170.956081 \nL 148.747425 170.956081 \nL 148.747425 188.047719 \nL 149.417025 188.047719 \nL 149.417025 199.46389 \nL 150.086625 199.46389 \nL 150.086625 210.445159 \nL 150.756225 210.445159 \nL 150.756225 215.076863 \nL 151.425825 215.076863 \nL 151.425825 221.078507 \nL 152.095425 221.078507 \nL 152.095425 223.731407 \nL 152.765025 223.731407 \nL 152.765025 225.297054 \nL 153.434625 225.297054 \nL 153.434625 226.427798 \nL 154.104225 226.427798 \nL 154.104225 227.471562 \nL 154.773825 227.471562 \nL 154.773825 227.602033 \nL 155.443425 227.602033 \nL 155.443425 228.036935 \nL 156.113025 228.036935 \nL 156.113025 228.210895 \nL 159.461025 228.210895 \nL 159.461025 228.341366 \nL 160.130625 228.341366 \nL 160.130625 228.18915 \nL 162.139425 228.276131 \nL 162.139425 228.319621 \nL 163.478625 228.23264 \nL 163.478625 228.18915 \nL 164.817825 228.210895 \nL 164.817825 228.363111 \nL 394.490625 228.450091 \nL 394.490625 228.450091 \n\" style=\"fill:none;stroke:#1f77b4;stroke-linejoin:miter;\"/>\n   </g>\n   <g id=\"patch_4\">\n    <path clip-path=\"url(#p15fa5600e9)\" d=\"M 59.690625 228.450091 \nL 59.690625 -1 \nM 65.047425 -1 \nL 65.047425 10.564317 \nL 65.717025 10.564317 \nL 65.717025 20.784508 \nL 66.386625 20.784508 \nL 66.386625 35.02754 \nL 67.056225 35.02754 \nL 67.056225 45.791358 \nL 67.725825 45.791358 \nL 67.725825 62.317625 \nL 68.395425 62.317625 \nL 68.395425 74.929775 \nL 69.065025 74.929775 \nL 69.065025 83.301634 \nL 69.734625 83.301634 \nL 69.734625 90.586238 \nL 70.404225 90.586238 \nL 70.404225 99.719175 \nL 71.073825 99.719175 \nL 71.073825 116.571617 \nL 71.743425 116.571617 \nL 71.743425 125.378378 \nL 72.413025 125.378378 \nL 72.413025 129.944846 \nL 73.082625 129.944846 \nL 73.082625 134.728765 \nL 73.752225 134.728765 \nL 73.752225 147.884543 \nL 74.421825 147.884543 \nL 74.421825 146.036211 \nL 75.091425 146.036211 \nL 75.091425 152.994639 \nL 75.761025 152.994639 \nL 75.761025 157.996009 \nL 76.430625 157.996009 \nL 76.430625 165.498064 \nL 77.100225 165.498064 \nL 77.100225 168.977278 \nL 77.769825 168.977278 \nL 77.769825 172.673942 \nL 78.439425 172.673942 \nL 78.439425 176.805509 \nL 79.109025 176.805509 \nL 79.109025 183.981388 \nL 79.778625 183.981388 \nL 79.778625 187.569327 \nL 80.448225 187.569327 \nL 80.448225 188.656582 \nL 81.117825 188.656582 \nL 81.117825 191.592168 \nL 81.787425 191.592168 \nL 81.787425 193.875403 \nL 82.457025 193.875403 \nL 82.457025 194.41903 \nL 83.126625 194.41903 \nL 83.126625 198.006969 \nL 83.796225 198.006969 \nL 83.796225 195.83246 \nL 84.465825 195.83246 \nL 84.465825 197.354617 \nL 85.135425 197.354617 \nL 85.135425 204.42177 \nL 85.805025 204.42177 \nL 85.805025 202.573437 \nL 86.474625 202.573437 \nL 86.474625 204.639221 \nL 87.144225 204.639221 \nL 87.144225 208.662062 \nL 87.813825 208.662062 \nL 87.813825 208.009709 \nL 88.483425 208.009709 \nL 88.483425 209.858042 \nL 89.153025 209.858042 \nL 89.153025 209.531865 \nL 89.822625 209.531865 \nL 89.822625 212.902354 \nL 91.161825 212.793628 \nL 91.161825 213.989608 \nL 91.831425 213.989608 \nL 91.831425 215.076863 \nL 92.501025 215.076863 \nL 92.501025 214.315785 \nL 93.170625 214.315785 \nL 93.170625 213.337256 \nL 93.840225 213.337256 \nL 93.840225 212.793628 \nL 94.509825 212.793628 \nL 94.509825 215.076863 \nL 95.179425 215.076863 \nL 95.179425 214.098334 \nL 95.849025 214.098334 \nL 95.849025 217.794999 \nL 96.518625 217.794999 \nL 96.518625 217.360097 \nL 97.188225 217.360097 \nL 97.188225 218.447351 \nL 97.857825 218.447351 \nL 97.857825 217.686273 \nL 98.527425 217.686273 \nL 98.527425 217.03392 \nL 99.197025 217.03392 \nL 99.197025 219.099704 \nL 99.866625 219.099704 \nL 99.866625 219.534606 \nL 100.536225 219.534606 \nL 100.536225 220.513134 \nL 101.205825 220.513134 \nL 101.205825 220.295684 \nL 102.545025 220.404409 \nL 102.545025 220.513134 \nL 103.214625 220.513134 \nL 103.214625 221.709114 \nL 103.884225 221.709114 \nL 103.884225 222.905094 \nL 104.553825 222.905094 \nL 104.553825 221.056762 \nL 105.223425 221.056762 \nL 105.223425 220.62186 \nL 106.562625 220.730585 \nL 106.562625 220.186958 \nL 107.232225 220.186958 \nL 107.232225 221.926565 \nL 107.901825 221.926565 \nL 107.901825 221.709114 \nL 108.571425 221.709114 \nL 108.571425 220.186958 \nL 109.241025 220.186958 \nL 109.241025 221.81784 \nL 109.910625 221.81784 \nL 109.910625 220.62186 \nL 110.580225 220.62186 \nL 110.580225 222.361467 \nL 111.249825 222.361467 \nL 111.249825 222.578918 \nL 111.919425 222.578918 \nL 111.919425 221.274212 \nL 112.589025 221.274212 \nL 112.589025 220.295684 \nL 113.258625 220.295684 \nL 113.258625 222.578918 \nL 115.267425 222.470192 \nL 115.267425 221.274212 \nL 115.937025 221.274212 \nL 115.937025 222.252741 \nL 116.606625 222.252741 \nL 116.606625 223.339996 \nL 117.276225 223.339996 \nL 117.276225 222.035291 \nL 117.945825 222.035291 \nL 117.945825 222.905094 \nL 118.615425 222.905094 \nL 118.615425 223.339996 \nL 119.285025 223.339996 \nL 119.285025 221.056762 \nL 119.954625 221.056762 \nL 119.954625 221.600389 \nL 120.624225 221.600389 \nL 120.624225 223.23127 \nL 121.293825 223.23127 \nL 121.293825 221.165487 \nL 121.963425 221.165487 \nL 121.963425 222.361467 \nL 122.633025 222.361467 \nL 122.633025 223.122545 \nL 123.302625 223.122545 \nL 123.302625 222.796369 \nL 123.972225 222.796369 \nL 123.972225 224.209799 \nL 124.641825 224.209799 \nL 124.641825 223.122545 \nL 125.311425 223.122545 \nL 125.311425 222.252741 \nL 125.981025 222.252741 \nL 125.981025 223.557447 \nL 126.650625 223.557447 \nL 126.650625 222.905094 \nL 127.320225 222.905094 \nL 127.320225 221.165487 \nL 127.989825 221.165487 \nL 127.989825 222.796369 \nL 128.659425 222.796369 \nL 128.659425 221.600389 \nL 129.329025 221.600389 \nL 129.329025 222.252741 \nL 129.998625 222.252741 \nL 129.998625 221.926565 \nL 130.668225 221.926565 \nL 130.668225 222.905094 \nL 131.337825 222.905094 \nL 131.337825 222.470192 \nL 132.007425 222.470192 \nL 132.007425 221.926565 \nL 132.677025 221.926565 \nL 132.677025 222.470192 \nL 133.346625 222.470192 \nL 133.346625 223.122545 \nL 134.016225 223.122545 \nL 134.016225 222.578918 \nL 135.355425 222.687643 \nL 135.355425 221.491663 \nL 136.025025 221.491663 \nL 136.025025 223.122545 \nL 136.694625 223.122545 \nL 136.694625 222.687643 \nL 137.364225 222.687643 \nL 137.364225 222.361467 \nL 138.033825 222.361467 \nL 138.033825 222.035291 \nL 138.703425 222.035291 \nL 138.703425 223.339996 \nL 139.373025 223.339996 \nL 139.373025 222.470192 \nL 140.042625 222.470192 \nL 140.042625 222.035291 \nL 140.712225 222.035291 \nL 140.712225 223.013819 \nL 141.381825 223.013819 \nL 141.381825 221.709114 \nL 142.051425 221.709114 \nL 142.051425 223.013819 \nL 142.721025 223.013819 \nL 142.721025 221.926565 \nL 143.390625 221.926565 \nL 143.390625 222.578918 \nL 144.729825 222.578918 \nL 144.729825 222.796369 \nL 145.399425 222.796369 \nL 145.399425 221.926565 \nL 146.069025 221.926565 \nL 146.069025 222.361467 \nL 147.408225 222.252741 \nL 147.408225 223.23127 \nL 148.077825 223.23127 \nL 148.077825 221.274212 \nL 148.747425 221.274212 \nL 148.747425 221.709114 \nL 149.417025 221.709114 \nL 149.417025 221.382938 \nL 150.756225 221.491663 \nL 150.756225 221.709114 \nL 151.425825 221.709114 \nL 151.425825 223.013819 \nL 152.095425 223.013819 \nL 152.095425 221.81784 \nL 152.765025 221.81784 \nL 152.765025 222.470192 \nL 153.434625 222.470192 \nL 153.434625 222.252741 \nL 154.104225 222.252741 \nL 154.104225 222.687643 \nL 154.773825 222.687643 \nL 154.773825 222.035291 \nL 155.443425 222.035291 \nL 155.443425 219.860782 \nL 156.113025 219.860782 \nL 156.113025 222.470192 \nL 156.782625 222.470192 \nL 156.782625 222.905094 \nL 157.452225 222.905094 \nL 157.452225 221.81784 \nL 158.121825 221.81784 \nL 158.121825 223.774898 \nL 158.791425 223.774898 \nL 158.791425 223.448721 \nL 159.461025 223.448721 \nL 159.461025 222.144016 \nL 160.130625 222.144016 \nL 160.130625 223.448721 \nL 160.800225 223.448721 \nL 160.800225 222.578918 \nL 161.469825 222.578918 \nL 161.469825 223.883623 \nL 162.139425 223.883623 \nL 162.139425 223.448721 \nL 162.809025 223.448721 \nL 162.809025 221.274212 \nL 163.478625 221.274212 \nL 163.478625 222.470192 \nL 164.148225 222.470192 \nL 164.148225 223.013819 \nL 164.817825 223.013819 \nL 164.817825 221.709114 \nL 165.487425 221.709114 \nL 165.487425 221.382938 \nL 166.157025 221.382938 \nL 166.157025 222.687643 \nL 166.826625 222.687643 \nL 166.826625 222.035291 \nL 167.496225 222.035291 \nL 167.496225 223.774898 \nL 168.165825 223.774898 \nL 168.165825 222.687643 \nL 168.835425 222.687643 \nL 168.835425 221.274212 \nL 169.505025 221.274212 \nL 169.505025 223.557447 \nL 170.174625 223.557447 \nL 170.174625 222.578918 \nL 171.513825 222.687643 \nL 171.513825 222.796369 \nL 172.183425 222.796369 \nL 172.183425 222.578918 \nL 172.853025 222.578918 \nL 172.853025 222.796369 \nL 173.522625 222.796369 \nL 173.522625 222.252741 \nL 174.192225 222.252741 \nL 174.192225 222.905094 \nL 174.861825 222.905094 \nL 174.861825 222.361467 \nL 176.201025 222.470192 \nL 176.201025 221.491663 \nL 176.870625 221.491663 \nL 176.870625 223.013819 \nL 177.540225 223.013819 \nL 177.540225 221.709114 \nL 178.209825 221.709114 \nL 178.209825 222.252741 \nL 178.879425 222.252741 \nL 178.879425 221.81784 \nL 179.549025 221.81784 \nL 179.549025 223.013819 \nL 180.218625 223.013819 \nL 180.218625 221.81784 \nL 180.888225 221.81784 \nL 180.888225 223.774898 \nL 181.557825 223.774898 \nL 181.557825 222.578918 \nL 182.227425 222.578918 \nL 182.227425 223.557447 \nL 182.897025 223.557447 \nL 182.897025 223.122545 \nL 183.566625 223.122545 \nL 183.566625 223.339996 \nL 184.236225 223.339996 \nL 184.236225 222.905094 \nL 184.905825 222.905094 \nL 184.905825 223.122545 \nL 185.575425 223.122545 \nL 185.575425 221.491663 \nL 186.245025 221.491663 \nL 186.245025 222.905094 \nL 188.253825 222.905094 \nL 188.253825 222.252741 \nL 189.593025 222.361467 \nL 189.593025 223.557447 \nL 190.262625 223.557447 \nL 190.262625 223.23127 \nL 190.932225 223.23127 \nL 190.932225 222.035291 \nL 191.601825 222.035291 \nL 191.601825 223.448721 \nL 192.271425 223.448721 \nL 192.271425 222.796369 \nL 192.941025 222.796369 \nL 192.941025 223.122545 \nL 193.610625 223.122545 \nL 193.610625 223.666172 \nL 194.280225 223.666172 \nL 194.280225 224.318525 \nL 194.949825 224.318525 \nL 194.949825 221.926565 \nL 195.619425 221.926565 \nL 195.619425 222.687643 \nL 196.289025 222.687643 \nL 196.289025 221.600389 \nL 196.958625 221.600389 \nL 196.958625 222.687643 \nL 197.628225 222.687643 \nL 197.628225 223.339996 \nL 198.967425 223.448721 \nL 198.967425 222.796369 \nL 199.637025 222.796369 \nL 199.637025 222.578918 \nL 200.306625 222.578918 \nL 200.306625 221.81784 \nL 200.976225 221.81784 \nL 200.976225 223.122545 \nL 201.645825 223.122545 \nL 201.645825 220.730585 \nL 202.315425 220.730585 \nL 202.315425 222.470192 \nL 202.985025 222.470192 \nL 202.985025 222.905094 \nL 203.654625 222.905094 \nL 203.654625 221.165487 \nL 204.324225 221.165487 \nL 204.324225 223.23127 \nL 204.993825 223.23127 \nL 204.993825 222.578918 \nL 205.663425 222.578918 \nL 205.663425 222.361467 \nL 206.333025 222.361467 \nL 206.333025 222.578918 \nL 207.002625 222.578918 \nL 207.002625 222.252741 \nL 207.672225 222.252741 \nL 207.672225 222.687643 \nL 208.341825 222.687643 \nL 208.341825 223.992348 \nL 209.011425 223.992348 \nL 209.011425 222.796369 \nL 209.681025 222.796369 \nL 209.681025 222.144016 \nL 210.350625 222.144016 \nL 210.350625 223.666172 \nL 211.020225 223.666172 \nL 211.020225 223.883623 \nL 211.689825 223.883623 \nL 211.689825 222.905094 \nL 213.029025 222.905094 \nL 213.029025 222.035291 \nL 213.698625 222.035291 \nL 213.698625 222.578918 \nL 214.368225 222.578918 \nL 214.368225 223.013819 \nL 215.037825 223.013819 \nL 215.037825 221.600389 \nL 215.707425 221.600389 \nL 215.707425 222.470192 \nL 217.046625 222.470192 \nL 217.046625 223.992348 \nL 217.716225 223.992348 \nL 217.716225 223.339996 \nL 218.385825 223.339996 \nL 218.385825 223.774898 \nL 219.055425 223.774898 \nL 219.055425 222.252741 \nL 219.725025 222.252741 \nL 219.725025 223.122545 \nL 220.394625 223.122545 \nL 220.394625 222.905094 \nL 221.733825 223.013819 \nL 221.733825 223.666172 \nL 222.403425 223.666172 \nL 222.403425 222.361467 \nL 224.412225 222.470192 \nL 224.412225 223.992348 \nL 225.081825 223.992348 \nL 225.081825 221.926565 \nL 225.751425 221.926565 \nL 225.751425 222.470192 \nL 226.421025 222.470192 \nL 226.421025 222.252741 \nL 227.090625 222.252741 \nL 227.090625 223.666172 \nL 227.760225 223.666172 \nL 227.760225 220.948036 \nL 228.429825 220.948036 \nL 228.429825 223.013819 \nL 229.099425 223.013819 \nL 229.099425 221.382938 \nL 229.769025 221.382938 \nL 229.769025 223.557447 \nL 231.108225 223.557447 \nL 231.108225 223.013819 \nL 231.777825 223.013819 \nL 231.777825 222.361467 \nL 232.447425 222.361467 \nL 232.447425 223.992348 \nL 233.117025 223.992348 \nL 233.117025 223.448721 \nL 234.456225 223.557447 \nL 234.456225 223.23127 \nL 235.125825 223.23127 \nL 235.125825 222.687643 \nL 235.795425 222.687643 \nL 235.795425 222.252741 \nL 236.465025 222.252741 \nL 236.465025 223.992348 \nL 237.804225 223.883623 \nL 237.804225 221.274212 \nL 238.473825 221.274212 \nL 238.473825 221.491663 \nL 239.143425 221.491663 \nL 239.143425 222.687643 \nL 239.813025 222.687643 \nL 239.813025 222.361467 \nL 240.482625 222.361467 \nL 240.482625 222.035291 \nL 241.152225 222.035291 \nL 241.152225 223.448721 \nL 241.821825 223.448721 \nL 241.821825 223.013819 \nL 243.161025 222.905094 \nL 243.161025 223.666172 \nL 243.830625 223.666172 \nL 243.830625 221.926565 \nL 244.500225 221.926565 \nL 244.500225 222.687643 \nL 245.169825 222.687643 \nL 245.169825 222.470192 \nL 245.839425 222.470192 \nL 245.839425 222.687643 \nL 246.509025 222.687643 \nL 246.509025 222.361467 \nL 247.178625 222.361467 \nL 247.178625 224.318525 \nL 247.848225 224.318525 \nL 247.848225 221.274212 \nL 248.517825 221.274212 \nL 248.517825 221.926565 \nL 249.187425 221.926565 \nL 249.187425 221.165487 \nL 249.857025 221.165487 \nL 249.857025 222.035291 \nL 251.196225 222.035291 \nL 251.196225 223.23127 \nL 251.865825 223.23127 \nL 251.865825 222.035291 \nL 252.535425 222.035291 \nL 252.535425 222.252741 \nL 253.874625 222.361467 \nL 253.874625 222.796369 \nL 254.544225 222.796369 \nL 254.544225 223.23127 \nL 255.883425 223.339996 \nL 255.883425 222.905094 \nL 256.553025 222.905094 \nL 256.553025 223.774898 \nL 257.222625 223.774898 \nL 257.222625 222.252741 \nL 257.892225 222.252741 \nL 257.892225 221.274212 \nL 258.561825 221.274212 \nL 258.561825 222.578918 \nL 259.231425 222.578918 \nL 259.231425 222.144016 \nL 260.570625 222.035291 \nL 260.570625 223.557447 \nL 261.240225 223.557447 \nL 261.240225 225.079603 \nL 261.909825 225.079603 \nL 261.909825 222.578918 \nL 262.579425 222.578918 \nL 262.579425 223.013819 \nL 263.249025 223.013819 \nL 263.249025 222.144016 \nL 263.918625 222.144016 \nL 263.918625 223.339996 \nL 264.588225 223.339996 \nL 264.588225 221.600389 \nL 265.257825 221.600389 \nL 265.257825 222.905094 \nL 265.927425 222.905094 \nL 265.927425 223.448721 \nL 266.597025 223.448721 \nL 266.597025 222.252741 \nL 267.266625 222.252741 \nL 267.266625 223.339996 \nL 267.936225 223.339996 \nL 267.936225 223.666172 \nL 268.605825 223.666172 \nL 268.605825 221.274212 \nL 269.275425 221.274212 \nL 269.275425 222.578918 \nL 269.945025 222.578918 \nL 269.945025 223.122545 \nL 271.284225 223.013819 \nL 271.284225 223.774898 \nL 271.953825 223.774898 \nL 271.953825 221.926565 \nL 272.623425 221.926565 \nL 272.623425 224.318525 \nL 273.293025 224.318525 \nL 273.293025 221.274212 \nL 273.962625 221.274212 \nL 273.962625 223.23127 \nL 274.632225 223.23127 \nL 274.632225 222.035291 \nL 275.301825 222.035291 \nL 275.301825 222.470192 \nL 275.971425 222.470192 \nL 275.971425 222.905094 \nL 276.641025 222.905094 \nL 276.641025 223.122545 \nL 277.310625 223.122545 \nL 277.310625 221.491663 \nL 277.980225 221.491663 \nL 277.980225 222.470192 \nL 278.649825 222.470192 \nL 278.649825 222.687643 \nL 279.319425 222.687643 \nL 279.319425 222.144016 \nL 279.989025 222.144016 \nL 279.989025 222.687643 \nL 280.658625 222.687643 \nL 280.658625 221.709114 \nL 281.328225 221.709114 \nL 281.328225 224.209799 \nL 281.997825 224.209799 \nL 281.997825 222.687643 \nL 282.667425 222.687643 \nL 282.667425 223.23127 \nL 283.337025 223.23127 \nL 283.337025 222.144016 \nL 284.006625 222.144016 \nL 284.006625 223.013819 \nL 284.676225 223.013819 \nL 284.676225 223.774898 \nL 286.015425 223.666172 \nL 286.015425 221.926565 \nL 286.685025 221.926565 \nL 286.685025 223.122545 \nL 287.354625 223.122545 \nL 287.354625 221.165487 \nL 288.024225 221.165487 \nL 288.024225 221.926565 \nL 288.693825 221.926565 \nL 288.693825 222.252741 \nL 289.363425 222.252741 \nL 289.363425 221.926565 \nL 290.033025 221.926565 \nL 290.033025 220.948036 \nL 290.702625 220.948036 \nL 290.702625 222.252741 \nL 291.372225 222.252741 \nL 291.372225 221.709114 \nL 292.041825 221.709114 \nL 292.041825 223.666172 \nL 292.711425 223.666172 \nL 292.711425 222.144016 \nL 293.381025 222.144016 \nL 293.381025 223.013819 \nL 294.050625 223.013819 \nL 294.050625 223.339996 \nL 294.720225 223.339996 \nL 294.720225 223.013819 \nL 295.389825 223.013819 \nL 295.389825 221.81784 \nL 296.059425 221.81784 \nL 296.059425 222.144016 \nL 296.729025 222.144016 \nL 296.729025 224.101074 \nL 297.398625 224.101074 \nL 297.398625 222.687643 \nL 298.737825 222.687643 \nL 298.737825 222.252741 \nL 299.407425 222.252741 \nL 299.407425 223.23127 \nL 300.077025 223.23127 \nL 300.077025 221.709114 \nL 300.746625 221.709114 \nL 300.746625 222.144016 \nL 301.416225 222.144016 \nL 301.416225 223.883623 \nL 302.085825 223.883623 \nL 302.085825 223.339996 \nL 302.755425 223.339996 \nL 302.755425 222.578918 \nL 303.425025 222.578918 \nL 303.425025 221.382938 \nL 304.094625 221.382938 \nL 304.094625 223.774898 \nL 304.764225 223.774898 \nL 304.764225 222.361467 \nL 306.103425 222.361467 \nL 306.103425 222.578918 \nL 306.773025 222.578918 \nL 306.773025 223.666172 \nL 307.442625 223.666172 \nL 307.442625 222.578918 \nL 308.112225 222.578918 \nL 308.112225 222.796369 \nL 308.781825 222.796369 \nL 308.781825 223.23127 \nL 309.451425 223.23127 \nL 309.451425 222.796369 \nL 310.121025 222.796369 \nL 310.121025 223.013819 \nL 310.790625 223.013819 \nL 310.790625 228.450091 \nL 394.490625 228.450091 \nL 394.490625 228.450091 \n\" style=\"fill:none;stroke:#ff7f0e;stroke-linejoin:miter;\"/>\n   </g>\n   <g id=\"patch_5\">\n    <path clip-path=\"url(#p15fa5600e9)\" d=\"M 59.690625 228.450091 \nL 59.690625 224.318525 \nL 62.369025 224.406955 \nL 62.369025 224.467841 \nL 64.377825 224.573667 \nL 64.377825 224.664996 \nL 65.047425 224.664996 \nL 65.047425 224.820111 \nL 67.725825 224.925937 \nL 67.725825 225.011468 \nL 68.395425 225.011468 \nL 68.395425 225.220221 \nL 71.073825 225.217322 \nL 71.073825 225.407229 \nL 72.413025 225.391282 \nL 72.413025 225.627579 \nL 75.761025 225.727606 \nL 75.761025 225.820385 \nL 77.769825 225.814587 \nL 77.769825 226.007393 \nL 79.778625 225.991447 \nL 79.778625 226.119018 \nL 82.457025 226.158159 \nL 82.457025 226.304576 \nL 85.135425 226.411852 \nL 85.135425 226.449543 \nL 88.483425 226.535074 \nL 88.483425 226.672793 \nL 93.170625 226.781518 \nL 93.170625 226.919237 \nL 97.857825 227.020714 \nL 97.857825 227.154084 \nL 103.214625 227.233816 \nL 103.214625 227.272957 \nL 107.232225 227.346891 \nL 107.232225 227.467213 \nL 111.249825 227.519402 \nL 111.249825 227.580288 \nL 118.615425 227.66002 \nL 118.615425 227.758598 \nL 125.311425 227.744101 \nL 125.311425 227.884719 \nL 138.033825 227.976048 \nL 138.033825 228.007941 \nL 168.835425 227.906464 \nL 168.835425 227.87892 \nL 176.870625 227.774544 \nL 176.870625 227.74555 \nL 182.897025 227.662919 \nL 182.897025 227.535348 \nL 190.262625 227.428072 \nL 190.262625 227.346891 \nL 195.619425 227.339642 \nL 195.619425 227.162782 \nL 202.315425 227.090299 \nL 202.315425 227.023614 \nL 206.333025 226.943882 \nL 206.333025 226.826458 \nL 207.672225 226.884445 \nL 207.672225 226.99607 \nL 208.341825 226.99607 \nL 208.341825 226.839505 \nL 217.716225 226.797465 \nL 217.716225 226.722082 \nL 239.813025 226.822109 \nL 239.813025 226.854002 \nL 246.509025 226.875747 \nL 246.509025 227.013466 \nL 250.526625 227.054057 \nL 250.526625 227.229467 \nL 251.196225 227.229467 \nL 251.196225 227.064204 \nL 252.535425 227.12944 \nL 252.535425 227.212071 \nL 257.892225 227.296152 \nL 257.892225 227.365736 \nL 258.561825 227.365736 \nL 258.561825 227.246863 \nL 260.570625 227.326595 \nL 260.570625 227.426623 \nL 262.579425 227.415025 \nL 262.579425 227.551294 \nL 270.614625 227.648422 \nL 270.614625 227.694812 \nL 274.632225 227.784692 \nL 274.632225 227.848477 \nL 278.649825 227.900665 \nL 278.649825 227.978948 \nL 286.015425 228.044183 \nL 286.015425 228.099271 \nL 293.381025 228.187701 \nL 293.381025 228.225392 \nL 302.755425 228.32107 \nL 302.755425 228.344265 \nL 394.490625 228.450091 \nL 394.490625 228.450091 \n\" style=\"fill:none;stroke:#2ca02c;stroke-linejoin:miter;\"/>\n   </g>\n   <g id=\"patch_6\">\n    <path d=\"M 59.690625 228.439219 \nL 59.690625 10.999219 \n\" style=\"fill:none;stroke:#000000;stroke-linecap:square;stroke-linejoin:miter;stroke-width:0.8;\"/>\n   </g>\n   <g id=\"patch_7\">\n    <path d=\"M 394.490625 228.439219 \nL 394.490625 10.999219 \n\" style=\"fill:none;stroke:#000000;stroke-linecap:square;stroke-linejoin:miter;stroke-width:0.8;\"/>\n   </g>\n   <g id=\"patch_8\">\n    <path d=\"M 59.690625 228.439219 \nL 394.490625 228.439219 \n\" style=\"fill:none;stroke:#000000;stroke-linecap:square;stroke-linejoin:miter;stroke-width:0.8;\"/>\n   </g>\n   <g id=\"patch_9\">\n    <path d=\"M 59.690625 10.999219 \nL 394.490625 10.999219 \n\" style=\"fill:none;stroke:#000000;stroke-linecap:square;stroke-linejoin:miter;stroke-width:0.8;\"/>\n   </g>\n   <g id=\"legend_1\">\n    <g id=\"patch_10\">\n     <path d=\"M 287.55 63.033594 \nL 387.490625 63.033594 \nQ 389.490625 63.033594 389.490625 61.033594 \nL 389.490625 17.999219 \nQ 389.490625 15.999219 387.490625 15.999219 \nL 287.55 15.999219 \nQ 285.55 15.999219 285.55 17.999219 \nL 285.55 61.033594 \nQ 285.55 63.033594 287.55 63.033594 \nz\n\" style=\"fill:#ffffff;opacity:0.8;stroke:#cccccc;stroke-linejoin:miter;\"/>\n    </g>\n    <g id=\"patch_11\">\n     <path d=\"M 289.55 27.597656 \nL 309.55 27.597656 \nL 309.55 20.597656 \nL 289.55 20.597656 \nz\n\" style=\"fill:none;stroke:#1f77b4;stroke-linejoin:miter;\"/>\n    </g>\n    <g id=\"text_17\">\n     <!-- Experiment A -->\n     <g transform=\"translate(317.55 27.597656)scale(0.1 -0.1)\">\n      <defs>\n       <path d=\"M 54.890625 54.6875 \nL 35.109375 28.078125 \nL 55.90625 0 \nL 45.3125 0 \nL 29.390625 21.484375 \nL 13.484375 0 \nL 2.875 0 \nL 24.125 28.609375 \nL 4.6875 54.6875 \nL 15.28125 54.6875 \nL 29.78125 35.203125 \nL 44.28125 54.6875 \nz\n\" id=\"DejaVuSans-120\"/>\n       <path d=\"M 18.109375 8.203125 \nL 18.109375 -20.796875 \nL 9.078125 -20.796875 \nL 9.078125 54.6875 \nL 18.109375 54.6875 \nL 18.109375 46.390625 \nQ 20.953125 51.265625 25.265625 53.625 \nQ 29.59375 56 35.59375 56 \nQ 45.5625 56 51.78125 48.09375 \nQ 58.015625 40.1875 58.015625 27.296875 \nQ 58.015625 14.40625 51.78125 6.484375 \nQ 45.5625 -1.421875 35.59375 -1.421875 \nQ 29.59375 -1.421875 25.265625 0.953125 \nQ 20.953125 3.328125 18.109375 8.203125 \nz\nM 48.6875 27.296875 \nQ 48.6875 37.203125 44.609375 42.84375 \nQ 40.53125 48.484375 33.40625 48.484375 \nQ 26.265625 48.484375 22.1875 42.84375 \nQ 18.109375 37.203125 18.109375 27.296875 \nQ 18.109375 17.390625 22.1875 11.75 \nQ 26.265625 6.109375 33.40625 6.109375 \nQ 40.53125 6.109375 44.609375 11.75 \nQ 48.6875 17.390625 48.6875 27.296875 \nz\n\" id=\"DejaVuSans-112\"/>\n       <path d=\"M 9.421875 54.6875 \nL 18.40625 54.6875 \nL 18.40625 0 \nL 9.421875 0 \nz\nM 9.421875 75.984375 \nL 18.40625 75.984375 \nL 18.40625 64.59375 \nL 9.421875 64.59375 \nz\n\" id=\"DejaVuSans-105\"/>\n       <path d=\"M 52 44.1875 \nQ 55.375 50.25 60.0625 53.125 \nQ 64.75 56 71.09375 56 \nQ 79.640625 56 84.28125 50.015625 \nQ 88.921875 44.046875 88.921875 33.015625 \nL 88.921875 0 \nL 79.890625 0 \nL 79.890625 32.71875 \nQ 79.890625 40.578125 77.09375 44.375 \nQ 74.3125 48.1875 68.609375 48.1875 \nQ 61.625 48.1875 57.5625 43.546875 \nQ 53.515625 38.921875 53.515625 30.90625 \nL 53.515625 0 \nL 44.484375 0 \nL 44.484375 32.71875 \nQ 44.484375 40.625 41.703125 44.40625 \nQ 38.921875 48.1875 33.109375 48.1875 \nQ 26.21875 48.1875 22.15625 43.53125 \nQ 18.109375 38.875 18.109375 30.90625 \nL 18.109375 0 \nL 9.078125 0 \nL 9.078125 54.6875 \nL 18.109375 54.6875 \nL 18.109375 46.1875 \nQ 21.1875 51.21875 25.484375 53.609375 \nQ 29.78125 56 35.6875 56 \nQ 41.65625 56 45.828125 52.96875 \nQ 50 49.953125 52 44.1875 \nz\n\" id=\"DejaVuSans-109\"/>\n       <path d=\"M 34.1875 63.1875 \nL 20.796875 26.90625 \nL 47.609375 26.90625 \nz\nM 28.609375 72.90625 \nL 39.796875 72.90625 \nL 67.578125 0 \nL 57.328125 0 \nL 50.6875 18.703125 \nL 17.828125 18.703125 \nL 11.1875 0 \nL 0.78125 0 \nz\n\" id=\"DejaVuSans-65\"/>\n      </defs>\n      <use xlink:href=\"#DejaVuSans-69\"/>\n      <use x=\"63.183594\" xlink:href=\"#DejaVuSans-120\"/>\n      <use x=\"122.363281\" xlink:href=\"#DejaVuSans-112\"/>\n      <use x=\"185.839844\" xlink:href=\"#DejaVuSans-101\"/>\n      <use x=\"247.363281\" xlink:href=\"#DejaVuSans-114\"/>\n      <use x=\"288.476562\" xlink:href=\"#DejaVuSans-105\"/>\n      <use x=\"316.259766\" xlink:href=\"#DejaVuSans-109\"/>\n      <use x=\"413.671875\" xlink:href=\"#DejaVuSans-101\"/>\n      <use x=\"475.195312\" xlink:href=\"#DejaVuSans-110\"/>\n      <use x=\"538.574219\" xlink:href=\"#DejaVuSans-116\"/>\n      <use x=\"577.783203\" xlink:href=\"#DejaVuSans-32\"/>\n      <use x=\"609.570312\" xlink:href=\"#DejaVuSans-65\"/>\n     </g>\n    </g>\n    <g id=\"patch_12\">\n     <path d=\"M 289.55 42.275781 \nL 309.55 42.275781 \nL 309.55 35.275781 \nL 289.55 35.275781 \nz\n\" style=\"fill:none;stroke:#ff7f0e;stroke-linejoin:miter;\"/>\n    </g>\n    <g id=\"text_18\">\n     <!-- Experiment B -->\n     <g transform=\"translate(317.55 42.275781)scale(0.1 -0.1)\">\n      <defs>\n       <path d=\"M 19.671875 34.8125 \nL 19.671875 8.109375 \nL 35.5 8.109375 \nQ 43.453125 8.109375 47.28125 11.40625 \nQ 51.125 14.703125 51.125 21.484375 \nQ 51.125 28.328125 47.28125 31.5625 \nQ 43.453125 34.8125 35.5 34.8125 \nz\nM 19.671875 64.796875 \nL 19.671875 42.828125 \nL 34.28125 42.828125 \nQ 41.5 42.828125 45.03125 45.53125 \nQ 48.578125 48.25 48.578125 53.8125 \nQ 48.578125 59.328125 45.03125 62.0625 \nQ 41.5 64.796875 34.28125 64.796875 \nz\nM 9.8125 72.90625 \nL 35.015625 72.90625 \nQ 46.296875 72.90625 52.390625 68.21875 \nQ 58.5 63.53125 58.5 54.890625 \nQ 58.5 48.1875 55.375 44.234375 \nQ 52.25 40.28125 46.1875 39.3125 \nQ 53.46875 37.75 57.5 32.78125 \nQ 61.53125 27.828125 61.53125 20.40625 \nQ 61.53125 10.640625 54.890625 5.3125 \nQ 48.25 0 35.984375 0 \nL 9.8125 0 \nz\n\" id=\"DejaVuSans-66\"/>\n      </defs>\n      <use xlink:href=\"#DejaVuSans-69\"/>\n      <use x=\"63.183594\" xlink:href=\"#DejaVuSans-120\"/>\n      <use x=\"122.363281\" xlink:href=\"#DejaVuSans-112\"/>\n      <use x=\"185.839844\" xlink:href=\"#DejaVuSans-101\"/>\n      <use x=\"247.363281\" xlink:href=\"#DejaVuSans-114\"/>\n      <use x=\"288.476562\" xlink:href=\"#DejaVuSans-105\"/>\n      <use x=\"316.259766\" xlink:href=\"#DejaVuSans-109\"/>\n      <use x=\"413.671875\" xlink:href=\"#DejaVuSans-101\"/>\n      <use x=\"475.195312\" xlink:href=\"#DejaVuSans-110\"/>\n      <use x=\"538.574219\" xlink:href=\"#DejaVuSans-116\"/>\n      <use x=\"577.783203\" xlink:href=\"#DejaVuSans-32\"/>\n      <use x=\"609.570312\" xlink:href=\"#DejaVuSans-66\"/>\n     </g>\n    </g>\n    <g id=\"patch_13\">\n     <path d=\"M 289.55 56.953906 \nL 309.55 56.953906 \nL 309.55 49.953906 \nL 289.55 49.953906 \nz\n\" style=\"fill:none;stroke:#2ca02c;stroke-linejoin:miter;\"/>\n    </g>\n    <g id=\"text_19\">\n     <!-- Experiment C -->\n     <g transform=\"translate(317.55 56.953906)scale(0.1 -0.1)\">\n      <use xlink:href=\"#DejaVuSans-69\"/>\n      <use x=\"63.183594\" xlink:href=\"#DejaVuSans-120\"/>\n      <use x=\"122.363281\" xlink:href=\"#DejaVuSans-112\"/>\n      <use x=\"185.839844\" xlink:href=\"#DejaVuSans-101\"/>\n      <use x=\"247.363281\" xlink:href=\"#DejaVuSans-114\"/>\n      <use x=\"288.476562\" xlink:href=\"#DejaVuSans-105\"/>\n      <use x=\"316.259766\" xlink:href=\"#DejaVuSans-109\"/>\n      <use x=\"413.671875\" xlink:href=\"#DejaVuSans-101\"/>\n      <use x=\"475.195312\" xlink:href=\"#DejaVuSans-110\"/>\n      <use x=\"538.574219\" xlink:href=\"#DejaVuSans-116\"/>\n      <use x=\"577.783203\" xlink:href=\"#DejaVuSans-32\"/>\n      <use x=\"609.570312\" xlink:href=\"#DejaVuSans-67\"/>\n     </g>\n    </g>\n   </g>\n  </g>\n </g>\n <defs>\n  <clipPath id=\"p15fa5600e9\">\n   <rect height=\"217.44\" width=\"334.8\" x=\"59.690625\" y=\"10.999219\"/>\n  </clipPath>\n </defs>\n</svg>\n",
          "text/plain": "<Figure size 432x288 with 1 Axes>"
         },
         "metadata": {
          "needs_background": "light"
         },
         "output_type": "display_data"
        }
       ]
      }
     },
     "3be5e5b7885f49539ce31ea121f73373": {
      "model_module": "@jupyter-widgets/controls",
      "model_module_version": "1.5.0",
      "model_name": "IntSliderModel",
      "state": {
       "layout": "IPY_MODEL_d9c7f9e20f0f4602a6aaa983aa22382c",
       "max": 20,
       "style": "IPY_MODEL_dd0560da84334d76b06b1e5115058222"
      }
     },
     "3c05b157a9a54b7797e39dc2f4dbbeb7": {
      "model_module": "@jupyter-widgets/controls",
      "model_module_version": "1.5.0",
      "model_name": "IntSliderModel",
      "state": {
       "layout": "IPY_MODEL_a7a61091acfc46919dc3f87db28a97da",
       "max": 2000,
       "min": 20,
       "style": "IPY_MODEL_a188e39d4fe7488fa37ef8fc24ee692e",
       "value": 500
      }
     },
     "3c43a86668be46cf9ad014f25e98c636": {
      "model_module": "@jupyter-widgets/base",
      "model_module_version": "1.2.0",
      "model_name": "LayoutModel",
      "state": {}
     },
     "3c4bdfa6ab614765af025bc3557a8c0a": {
      "model_module": "@jupyter-widgets/controls",
      "model_module_version": "1.5.0",
      "model_name": "SliderStyleModel",
      "state": {
       "description_width": ""
      }
     },
     "3cde32ddafeb4f6ab046ed0e5cc707c9": {
      "model_module": "@jupyter-widgets/controls",
      "model_module_version": "1.5.0",
      "model_name": "VBoxModel",
      "state": {
       "_dom_classes": [
        "widget-interact"
       ],
       "children": [
        "IPY_MODEL_f80d84f155aa4e8382a75b25395f09aa",
        "IPY_MODEL_15297a55b8a6498ba57f086e6e0ebd4b",
        "IPY_MODEL_5e4a54ba82b6430488874dba4c88dac7",
        "IPY_MODEL_1e720d464473467b95b1978dcf4fe6f9",
        "IPY_MODEL_d5b849051f564956995dfdb75a7ace12",
        "IPY_MODEL_2469d1cbffa34825847e8717b771ccd2",
        "IPY_MODEL_f257a1dee0584c879eabfe42edc08e6b",
        "IPY_MODEL_5a5f9075bebc4ef5abcde458ab96af14"
       ],
       "layout": "IPY_MODEL_f3cc3f163c3c40f8a8535c39c8d27614"
      }
     },
     "3d16182116444b5e85b658fad0a5857a": {
      "model_module": "@jupyter-widgets/controls",
      "model_module_version": "1.5.0",
      "model_name": "FloatRangeSliderModel",
      "state": {
       "_model_name": "FloatRangeSliderModel",
       "_view_name": "FloatRangeSliderView",
       "description": "x_range",
       "layout": "IPY_MODEL_22c674bde5ee4e3292f557e8ec576a69",
       "max": 20,
       "step": 0.1,
       "style": "IPY_MODEL_9c135c3559d741699aadfbddb83544ff",
       "value": [
        0,
        20
       ]
      }
     },
     "3d9af7be3b3b4346ad3e13d1700d87ae": {
      "model_module": "@jupyter-widgets/controls",
      "model_module_version": "1.5.0",
      "model_name": "CheckboxModel",
      "state": {
       "description": "Plot Experiment A",
       "disabled": false,
       "layout": "IPY_MODEL_92828ae0512d45318ef392eeccdf18f7",
       "style": "IPY_MODEL_6eddfed9fd22408593b2417faee57d0c",
       "value": true
      }
     },
     "3dbc210febaa4c718d55dd98677dc738": {
      "model_module": "@jupyter-widgets/controls",
      "model_module_version": "1.5.0",
      "model_name": "SliderStyleModel",
      "state": {
       "description_width": ""
      }
     },
     "3e59b5fea1e2499c9373a42223278a87": {
      "model_module": "@jupyter-widgets/controls",
      "model_module_version": "1.5.0",
      "model_name": "DescriptionStyleModel",
      "state": {
       "description_width": ""
      }
     },
     "3e5fd10fcaae402bb53d8f511f08ac95": {
      "model_module": "@jupyter-widgets/base",
      "model_module_version": "1.2.0",
      "model_name": "LayoutModel",
      "state": {}
     },
     "3ea092697dc84ff28e549ce6f7950570": {
      "model_module": "@jupyter-widgets/controls",
      "model_module_version": "1.5.0",
      "model_name": "SliderStyleModel",
      "state": {
       "description_width": ""
      }
     },
     "3fd9b2d2f1bc40238c10bc0b8e98dda1": {
      "model_module": "@jupyter-widgets/base",
      "model_module_version": "1.2.0",
      "model_name": "LayoutModel",
      "state": {}
     },
     "40044d3f391f4465a20606f6cf6690b2": {
      "model_module": "@jupyter-widgets/controls",
      "model_module_version": "1.5.0",
      "model_name": "IntSliderModel",
      "state": {
       "layout": "IPY_MODEL_e9e707066f6c4e6983627ea45c085c32",
       "max": 2000,
       "min": 20,
       "style": "IPY_MODEL_f778378f272a4abcbb31c8d41723f773",
       "value": 500
      }
     },
     "40523679d00545e58a3c6c28c5e9328f": {
      "model_module": "@jupyter-widgets/controls",
      "model_module_version": "1.5.0",
      "model_name": "DescriptionStyleModel",
      "state": {
       "description_width": ""
      }
     },
     "40a37e4387dc430389ac81744b177219": {
      "model_module": "@jupyter-widgets/controls",
      "model_module_version": "1.5.0",
      "model_name": "CheckboxModel",
      "state": {
       "description": "Plot Experiment C",
       "disabled": false,
       "layout": "IPY_MODEL_2538255d4e1b4bb8a66968caa39801b9",
       "style": "IPY_MODEL_6f7cd45398284847a0dc966a336313f5",
       "value": true
      }
     },
     "40bcfaca3e80455fa70d307074c64997": {
      "model_module": "@jupyter-widgets/controls",
      "model_module_version": "1.5.0",
      "model_name": "SliderStyleModel",
      "state": {
       "description_width": ""
      }
     },
     "40fc41c331d24717a0a04046c0f04582": {
      "model_module": "@jupyter-widgets/base",
      "model_module_version": "1.2.0",
      "model_name": "LayoutModel",
      "state": {}
     },
     "4113b27b14a241738f7390635729acb3": {
      "model_module": "@jupyter-widgets/controls",
      "model_module_version": "1.5.0",
      "model_name": "SliderStyleModel",
      "state": {
       "description_width": ""
      }
     },
     "4117b60b93a84d8e9ba22b57276f3f8e": {
      "model_module": "@jupyter-widgets/controls",
      "model_module_version": "1.5.0",
      "model_name": "FloatSliderModel",
      "state": {
       "layout": "IPY_MODEL_8d2461d0893340488e9c48b731c55793",
       "max": 20,
       "step": 0.1,
       "style": "IPY_MODEL_722e897ce7974f3c8311e10936a384b0",
       "value": 20
      }
     },
     "420a3454122b4ead81946b893421ae6d": {
      "model_module": "@jupyter-widgets/base",
      "model_module_version": "1.2.0",
      "model_name": "LayoutModel",
      "state": {}
     },
     "42233d1a210e42a790a59daf6ad8056b": {
      "model_module": "@jupyter-widgets/controls",
      "model_module_version": "1.5.0",
      "model_name": "FloatRangeSliderModel",
      "state": {
       "_model_name": "FloatRangeSliderModel",
       "_view_name": "FloatRangeSliderView",
       "description": "x_ran",
       "layout": "IPY_MODEL_55ad1a1a244c4446b890e7557cff39ad",
       "max": 20,
       "step": 0.1,
       "style": "IPY_MODEL_b6d244fb12f14520b747072d5618a8bc",
       "value": [
        0,
        20
       ]
      }
     },
     "423accd1cff2427db5ba22804df4b95f": {
      "model_module": "@jupyter-widgets/base",
      "model_module_version": "1.2.0",
      "model_name": "LayoutModel",
      "state": {}
     },
     "428356424a9242d9848838fbece130a9": {
      "model_module": "@jupyter-widgets/controls",
      "model_module_version": "1.5.0",
      "model_name": "SliderStyleModel",
      "state": {
       "description_width": ""
      }
     },
     "431c087c0954474fbc1b71f08c06883b": {
      "model_module": "@jupyter-widgets/base",
      "model_module_version": "1.2.0",
      "model_name": "LayoutModel",
      "state": {}
     },
     "4357ad2fcb424808a7cf6955bf17c2e1": {
      "model_module": "@jupyter-widgets/base",
      "model_module_version": "1.2.0",
      "model_name": "LayoutModel",
      "state": {}
     },
     "436bac1a36564a6488b245ee34346641": {
      "model_module": "@jupyter-widgets/controls",
      "model_module_version": "1.5.0",
      "model_name": "SliderStyleModel",
      "state": {
       "description_width": ""
      }
     },
     "43791eb064d241aab74fc9f309109640": {
      "model_module": "@jupyter-widgets/base",
      "model_module_version": "1.2.0",
      "model_name": "LayoutModel",
      "state": {}
     },
     "437c410dee744bb1a410774c214def76": {
      "model_module": "@jupyter-widgets/controls",
      "model_module_version": "1.5.0",
      "model_name": "SliderStyleModel",
      "state": {
       "description_width": ""
      }
     },
     "43e9de9340bf4300a264ab2fa11ed9d2": {
      "model_module": "@jupyter-widgets/controls",
      "model_module_version": "1.5.0",
      "model_name": "SliderStyleModel",
      "state": {
       "description_width": ""
      }
     },
     "446e8e2b5f4241c39e113752b35f3e46": {
      "model_module": "@jupyter-widgets/controls",
      "model_module_version": "1.5.0",
      "model_name": "FloatSliderModel",
      "state": {
       "layout": "IPY_MODEL_c25c5920bf3a4212b07ab8e8ac3c5bab",
       "max": 100000,
       "min": 0.5,
       "step": 0.1,
       "style": "IPY_MODEL_743e36925e67458c95d519ada23e018c",
       "value": 0.5
      }
     },
     "44d0ae4eee74400fb06722e5364252af": {
      "model_module": "@jupyter-widgets/base",
      "model_module_version": "1.2.0",
      "model_name": "LayoutModel",
      "state": {}
     },
     "45da71d7f48c435dae09472fe5031950": {
      "model_module": "@jupyter-widgets/controls",
      "model_module_version": "1.5.0",
      "model_name": "SliderStyleModel",
      "state": {
       "description_width": ""
      }
     },
     "45fbad6eb3de4d3eb69d93ccfd61d474": {
      "model_module": "@jupyter-widgets/base",
      "model_module_version": "1.2.0",
      "model_name": "LayoutModel",
      "state": {}
     },
     "462112a3ba8c4b08977486d4f37f2764": {
      "model_module": "@jupyter-widgets/controls",
      "model_module_version": "1.5.0",
      "model_name": "SliderStyleModel",
      "state": {
       "description_width": ""
      }
     },
     "46cee62a75ce4b208eac22d79fc273a4": {
      "model_module": "@jupyter-widgets/controls",
      "model_module_version": "1.5.0",
      "model_name": "DescriptionStyleModel",
      "state": {
       "description_width": ""
      }
     },
     "46e41701476640459980d4d6eb86f204": {
      "model_module": "@jupyter-widgets/controls",
      "model_module_version": "1.5.0",
      "model_name": "CheckboxModel",
      "state": {
       "description": "Plot Experiment B",
       "disabled": false,
       "layout": "IPY_MODEL_048384c49a684df284f807367b6c6fe8",
       "style": "IPY_MODEL_6ef0bc85620a4a3da6640aa16e131d61",
       "value": true
      }
     },
     "47d1cd0d27ec4a31af7fb09a9e879f37": {
      "model_module": "@jupyter-widgets/controls",
      "model_module_version": "1.5.0",
      "model_name": "IntSliderModel",
      "state": {
       "layout": "IPY_MODEL_6551acd47b7c4b3f9874ffc120331116",
       "max": 2000,
       "min": 20,
       "style": "IPY_MODEL_45da71d7f48c435dae09472fe5031950",
       "value": 500
      }
     },
     "48c17136936a44fda834d0c739c35773": {
      "model_module": "@jupyter-widgets/controls",
      "model_module_version": "1.5.0",
      "model_name": "CheckboxModel",
      "state": {
       "description": "Plot Experiment A",
       "disabled": false,
       "layout": "IPY_MODEL_9f075f3d57754a8ca7583e9a384a21f5",
       "style": "IPY_MODEL_3e59b5fea1e2499c9373a42223278a87",
       "value": true
      }
     },
     "48ec3e8e86fe4f508a28502225fbd0e8": {
      "model_module": "@jupyter-widgets/controls",
      "model_module_version": "1.5.0",
      "model_name": "FloatLogSliderModel",
      "state": {
       "layout": "IPY_MODEL_45fbad6eb3de4d3eb69d93ccfd61d474",
       "max": 5,
       "min": -1,
       "style": "IPY_MODEL_5ed7ec3b53a646f695c1441863d179ce",
       "value": 1000
      }
     },
     "4a6573eefcc441a59f5188ce213c6b3d": {
      "model_module": "@jupyter-widgets/controls",
      "model_module_version": "1.5.0",
      "model_name": "DescriptionStyleModel",
      "state": {
       "description_width": ""
      }
     },
     "4a97fe18ec194b2183c8adf098bdc419": {
      "model_module": "@jupyter-widgets/controls",
      "model_module_version": "1.5.0",
      "model_name": "FloatSliderModel",
      "state": {
       "layout": "IPY_MODEL_53749043a32441b5af465c5b78c6bc76",
       "max": 20,
       "step": 0.1,
       "style": "IPY_MODEL_6d1f6762d7ad4537a0449a20c0926b8b"
      }
     },
     "4ae47c52503349b88a65dfa3c1cafd0f": {
      "model_module": "@jupyter-widgets/controls",
      "model_module_version": "1.5.0",
      "model_name": "CheckboxModel",
      "state": {
       "description": "Plot Experiment B",
       "disabled": false,
       "layout": "IPY_MODEL_10d2566ee28e4983b5bf5fbd157205d5",
       "style": "IPY_MODEL_dbb9c310a3024ff08f73ae6ff8084c30",
       "value": true
      }
     },
     "4afeba19a5ce452885179b8928076dba": {
      "model_module": "@jupyter-widgets/base",
      "model_module_version": "1.2.0",
      "model_name": "LayoutModel",
      "state": {}
     },
     "4b677cfa298a4277bd657537335fecb6": {
      "model_module": "@jupyter-widgets/controls",
      "model_module_version": "1.5.0",
      "model_name": "DropdownModel",
      "state": {
       "_options_labels": [
        "linear",
        "log"
       ],
       "description": "Scale: ",
       "index": 0,
       "layout": "IPY_MODEL_f3f8842dbea0483c8b61128dfa0637cd",
       "style": "IPY_MODEL_e4ad4de2b18c4436bc9c9c52a9920bd8"
      }
     },
     "4c0f95ea4cce40aab2e72c0f9e25231b": {
      "model_module": "@jupyter-widgets/base",
      "model_module_version": "1.2.0",
      "model_name": "LayoutModel",
      "state": {}
     },
     "4d5b74eab44740a380bd4e870e70706c": {
      "model_module": "@jupyter-widgets/controls",
      "model_module_version": "1.5.0",
      "model_name": "FloatLogSliderModel",
      "state": {
       "description": "y_max",
       "layout": "IPY_MODEL_f3b695fd393a4bdd83733f1c4124b6b9",
       "max": 5,
       "min": -1,
       "style": "IPY_MODEL_cf4c38c2b74e4759acd7cd7ef75ecff4",
       "value": 10000
      }
     },
     "4eba3a322f8a457eb860ed1c21a0168a": {
      "model_module": "@jupyter-widgets/controls",
      "model_module_version": "1.5.0",
      "model_name": "SliderStyleModel",
      "state": {
       "description_width": ""
      }
     },
     "4ef80e0185b5410998c45c586f1b315a": {
      "model_module": "@jupyter-widgets/base",
      "model_module_version": "1.2.0",
      "model_name": "LayoutModel",
      "state": {}
     },
     "4f0d9b6681974df5ad058e8526a4fbaa": {
      "model_module": "@jupyter-widgets/base",
      "model_module_version": "1.2.0",
      "model_name": "LayoutModel",
      "state": {}
     },
     "4f1148d0a4164c2588867bd3b26a7840": {
      "model_module": "@jupyter-widgets/controls",
      "model_module_version": "1.5.0",
      "model_name": "SliderStyleModel",
      "state": {
       "description_width": ""
      }
     },
     "4f3b621e6cad4798aa6af3a137dd5c53": {
      "model_module": "@jupyter-widgets/controls",
      "model_module_version": "1.5.0",
      "model_name": "SliderStyleModel",
      "state": {
       "description_width": ""
      }
     },
     "4f5b7697a9c84d4382c37a93ca595fa4": {
      "model_module": "@jupyter-widgets/base",
      "model_module_version": "1.2.0",
      "model_name": "LayoutModel",
      "state": {}
     },
     "4fd1274b3c704e2089ad59a35ceaa46b": {
      "model_module": "@jupyter-widgets/controls",
      "model_module_version": "1.5.0",
      "model_name": "SliderStyleModel",
      "state": {
       "description_width": ""
      }
     },
     "50b75b6da0ea4fe098f71da71da86403": {
      "model_module": "@jupyter-widgets/controls",
      "model_module_version": "1.5.0",
      "model_name": "VBoxModel",
      "state": {
       "_dom_classes": [
        "widget-interact"
       ],
       "children": [
        "IPY_MODEL_762dfd59f847470ea934237124cf7137",
        "IPY_MODEL_f86d6afb429a410a987626438582e8d1",
        "IPY_MODEL_537992eceb7948ae98054e0e24e7acc0",
        "IPY_MODEL_a407540adfd8452aadbfc97ab4b1548f",
        "IPY_MODEL_7245e0dd356c429b84d2bf25bc64db2f",
        "IPY_MODEL_0c0089acb33f48718e50edc6bb45765e",
        "IPY_MODEL_24ccdb9189ff4db5a1147d4df2f60977",
        "IPY_MODEL_edd42871c5474af9ba0f168e10808fb2"
       ],
       "layout": "IPY_MODEL_068d5efb5d584641b45ba8a72058e9e3"
      }
     },
     "50d4dac5c2c94130bc3268281ecb9b28": {
      "model_module": "@jupyter-widgets/controls",
      "model_module_version": "1.5.0",
      "model_name": "FloatSliderModel",
      "state": {
       "layout": "IPY_MODEL_43791eb064d241aab74fc9f309109640",
       "max": 20,
       "step": 0.1,
       "style": "IPY_MODEL_aebab241d63b42b1bbffc7cd9829d2fb"
      }
     },
     "50e58e7be4da46b2bc80ecc5aab6d6e4": {
      "model_module": "@jupyter-widgets/controls",
      "model_module_version": "1.5.0",
      "model_name": "IntSliderModel",
      "state": {
       "description": "bins",
       "layout": "IPY_MODEL_c8f04ea81d0143f590789d5c5bc0aabf",
       "max": 2000,
       "min": 20,
       "style": "IPY_MODEL_1e33736196c04ea682384f2d2d218eb7",
       "value": 330
      }
     },
     "5111b4f6da6042dda7c9bf24642354e4": {
      "model_module": "@jupyter-widgets/base",
      "model_module_version": "1.2.0",
      "model_name": "LayoutModel",
      "state": {}
     },
     "52050eddd69142b6922fc4e032f62e05": {
      "model_module": "@jupyter-widgets/controls",
      "model_module_version": "1.5.0",
      "model_name": "FloatRangeSliderModel",
      "state": {
       "_model_name": "FloatRangeSliderModel",
       "_view_name": "FloatRangeSliderView",
       "layout": "IPY_MODEL_68297041000b49ab8ee22a9cd50014cb",
       "max": 20,
       "step": 0.1,
       "style": "IPY_MODEL_a5ec6a8bb3c049f1afdb34393fb00882",
       "value": [
        0,
        20
       ]
      }
     },
     "5219b07eacfe4c5480ed301b76675704": {
      "model_module": "@jupyter-widgets/base",
      "model_module_version": "1.2.0",
      "model_name": "LayoutModel",
      "state": {}
     },
     "526e1b20e9f64f34a6922a693bad5d23": {
      "model_module": "@jupyter-widgets/base",
      "model_module_version": "1.2.0",
      "model_name": "LayoutModel",
      "state": {}
     },
     "5298601e2e1b408896d760c21dda9873": {
      "model_module": "@jupyter-widgets/base",
      "model_module_version": "1.2.0",
      "model_name": "LayoutModel",
      "state": {}
     },
     "52e9281f15a34df19d79ce4396ecf93a": {
      "model_module": "@jupyter-widgets/controls",
      "model_module_version": "1.5.0",
      "model_name": "FloatSliderModel",
      "state": {
       "layout": "IPY_MODEL_6df753feedbe4e78b2532bae8caf9432",
       "max": 10000,
       "min": 0.5,
       "orientation": "vertical",
       "step": 0.1,
       "style": "IPY_MODEL_c20a3868fb734224a5a87fcaec249b2f",
       "value": 1000
      }
     },
     "52ef635fbb9149e18d8f7c3468698eb5": {
      "model_module": "@jupyter-widgets/controls",
      "model_module_version": "1.5.0",
      "model_name": "DescriptionStyleModel",
      "state": {
       "description_width": ""
      }
     },
     "53749043a32441b5af465c5b78c6bc76": {
      "model_module": "@jupyter-widgets/base",
      "model_module_version": "1.2.0",
      "model_name": "LayoutModel",
      "state": {}
     },
     "537992eceb7948ae98054e0e24e7acc0": {
      "model_module": "@jupyter-widgets/controls",
      "model_module_version": "1.5.0",
      "model_name": "FloatLogSliderModel",
      "state": {
       "description": "y_upper_bound",
       "layout": "IPY_MODEL_d60f886b266e405d88599d688482ba99",
       "max": 5,
       "min": -1,
       "style": "IPY_MODEL_71f784dbd770479e914b4cc86e0ecd86",
       "value": 10000
      }
     },
     "540fa19c8717461aa650624748ea46f4": {
      "model_module": "@jupyter-widgets/base",
      "model_module_version": "1.2.0",
      "model_name": "LayoutModel",
      "state": {}
     },
     "54a7430b830c4301ad58c0d6a27d5425": {
      "model_module": "@jupyter-widgets/controls",
      "model_module_version": "1.5.0",
      "model_name": "CheckboxModel",
      "state": {
       "description": "Plot Experiment C",
       "disabled": false,
       "layout": "IPY_MODEL_b195c666ef414fdea79095059bb6a050",
       "style": "IPY_MODEL_c91d63bba06848d6844dc2f1a1d8caa3",
       "value": true
      }
     },
     "553e01daa3ff48c1ab3f6b4a9432e365": {
      "model_module": "@jupyter-widgets/controls",
      "model_module_version": "1.5.0",
      "model_name": "FloatRangeSliderModel",
      "state": {
       "_model_name": "FloatRangeSliderModel",
       "_view_name": "FloatRangeSliderView",
       "description": "x_range",
       "layout": "IPY_MODEL_6a7c36bf28cd41deaa1b44b661d5fd4e",
       "max": 20,
       "step": 0.1,
       "style": "IPY_MODEL_aea68e9d9fa1456dae8c03471a64047d",
       "value": [
        0,
        17.7
       ]
      }
     },
     "55aafb0af84e4516a0fb2a76a3e79fbd": {
      "model_module": "@jupyter-widgets/controls",
      "model_module_version": "1.5.0",
      "model_name": "FloatRangeSliderModel",
      "state": {
       "_model_name": "FloatRangeSliderModel",
       "_view_name": "FloatRangeSliderView",
       "layout": "IPY_MODEL_431c087c0954474fbc1b71f08c06883b",
       "max": 20,
       "step": 0.1,
       "style": "IPY_MODEL_eac8d101c92140f4a5d505278025cb13",
       "value": [
        5.2,
        15.7
       ]
      }
     },
     "55ad1a1a244c4446b890e7557cff39ad": {
      "model_module": "@jupyter-widgets/base",
      "model_module_version": "1.2.0",
      "model_name": "LayoutModel",
      "state": {}
     },
     "566fa8a38df04ecb8611aff551bd685b": {
      "model_module": "@jupyter-widgets/base",
      "model_module_version": "1.2.0",
      "model_name": "LayoutModel",
      "state": {}
     },
     "56b52bbb28884012ad7a5e8382ea9072": {
      "model_module": "@jupyter-widgets/controls",
      "model_module_version": "1.5.0",
      "model_name": "FloatSliderModel",
      "state": {
       "layout": "IPY_MODEL_f05af35043cb475fb5eb5bb72f9cd77b",
       "max": 100000,
       "min": 0.5,
       "step": 0.1,
       "style": "IPY_MODEL_d41078968dfa432cb096c39f8c585d1c",
       "value": 1000
      }
     },
     "56c276a6e72246d992c3af7e618643d5": {
      "model_module": "@jupyter-widgets/controls",
      "model_module_version": "1.5.0",
      "model_name": "SliderStyleModel",
      "state": {
       "description_width": ""
      }
     },
     "572c8e8f8f12451c999e02fee63fb6fb": {
      "model_module": "@jupyter-widgets/base",
      "model_module_version": "1.2.0",
      "model_name": "LayoutModel",
      "state": {}
     },
     "57d90fba7b2c4354991e4b3ab002f2e3": {
      "model_module": "@jupyter-widgets/controls",
      "model_module_version": "1.5.0",
      "model_name": "FloatRangeSliderModel",
      "state": {
       "_model_name": "FloatRangeSliderModel",
       "_view_name": "FloatRangeSliderView",
       "layout": "IPY_MODEL_b3f45c67118e4ac0b8c27eda443e2b46",
       "max": 20,
       "step": 0.1,
       "style": "IPY_MODEL_1461d53aa76747a2b19eba02106bdaef",
       "value": [
        0,
        20
       ]
      }
     },
     "5813bfe85ecd41b18064d6a2d79afec1": {
      "model_module": "@jupyter-widgets/controls",
      "model_module_version": "1.5.0",
      "model_name": "FloatLogSliderModel",
      "state": {
       "description": "y_ubl",
       "layout": "IPY_MODEL_526e1b20e9f64f34a6922a693bad5d23",
       "max": 5,
       "min": -1,
       "style": "IPY_MODEL_4f1148d0a4164c2588867bd3b26a7840",
       "value": 1995.2623149688789
      }
     },
     "588668af76ba4fc58a76d581827afc06": {
      "model_module": "@jupyter-widgets/controls",
      "model_module_version": "1.5.0",
      "model_name": "FloatLogSliderModel",
      "state": {
       "layout": "IPY_MODEL_27b1fd29a81c441d9e209038bbfff339",
       "max": 5,
       "min": -1,
       "style": "IPY_MODEL_31bb789cc88644898ef6e2c0fd3a0c15",
       "value": 10000
      }
     },
     "58bdf8fd90194c3396a3c2f72b6bf399": {
      "model_module": "@jupyter-widgets/controls",
      "model_module_version": "1.5.0",
      "model_name": "DescriptionStyleModel",
      "state": {
       "description_width": ""
      }
     },
     "58e05cb84ba4404783cf10d805a5700a": {
      "model_module": "@jupyter-widgets/controls",
      "model_module_version": "1.5.0",
      "model_name": "SliderStyleModel",
      "state": {
       "description_width": ""
      }
     },
     "592ee78fc88343b99c4086ce1b0dc621": {
      "model_module": "@jupyter-widgets/controls",
      "model_module_version": "1.5.0",
      "model_name": "CheckboxModel",
      "state": {
       "description": "Plot Experiment C",
       "disabled": false,
       "layout": "IPY_MODEL_331a30be1fc64503892795604ad74bcf",
       "style": "IPY_MODEL_346bf1d011cb4f7ca45f878d5fd1d15f",
       "value": true
      }
     },
     "595938c895474a6bbb3905f811284ca2": {
      "model_module": "@jupyter-widgets/controls",
      "model_module_version": "1.5.0",
      "model_name": "SliderStyleModel",
      "state": {
       "description_width": ""
      }
     },
     "5985eda72e894c98979bffa07462dfb3": {
      "model_module": "@jupyter-widgets/controls",
      "model_module_version": "1.5.0",
      "model_name": "SliderStyleModel",
      "state": {
       "description_width": ""
      }
     },
     "5a5f9075bebc4ef5abcde458ab96af14": {
      "model_module": "@jupyter-widgets/output",
      "model_module_version": "1.0.0",
      "model_name": "OutputModel",
      "state": {
       "layout": "IPY_MODEL_4357ad2fcb424808a7cf6955bf17c2e1",
       "outputs": [
        {
         "data": {
          "image/svg+xml": "<?xml version=\"1.0\" encoding=\"utf-8\" standalone=\"no\"?>\n<!DOCTYPE svg PUBLIC \"-//W3C//DTD SVG 1.1//EN\"\n  \"http://www.w3.org/Graphics/SVG/1.1/DTD/svg11.dtd\">\n<!-- Created with matplotlib (https://matplotlib.org/) -->\n<svg height=\"262.19625pt\" version=\"1.1\" viewBox=\"0 0 412.823438 262.19625\" width=\"412.823438pt\" xmlns=\"http://www.w3.org/2000/svg\" xmlns:xlink=\"http://www.w3.org/1999/xlink\">\n <metadata>\n  <rdf:RDF xmlns:cc=\"http://creativecommons.org/ns#\" xmlns:dc=\"http://purl.org/dc/elements/1.1/\" xmlns:rdf=\"http://www.w3.org/1999/02/22-rdf-syntax-ns#\">\n   <cc:Work>\n    <dc:type rdf:resource=\"http://purl.org/dc/dcmitype/StillImage\"/>\n    <dc:date>2021-06-09T01:48:18.426624</dc:date>\n    <dc:format>image/svg+xml</dc:format>\n    <dc:creator>\n     <cc:Agent>\n      <dc:title>Matplotlib v3.3.3, https://matplotlib.org/</dc:title>\n     </cc:Agent>\n    </dc:creator>\n   </cc:Work>\n  </rdf:RDF>\n </metadata>\n <defs>\n  <style type=\"text/css\">*{stroke-linecap:butt;stroke-linejoin:round;}</style>\n </defs>\n <g id=\"figure_1\">\n  <g id=\"patch_1\">\n   <path d=\"M 0 262.19625 \nL 412.823438 262.19625 \nL 412.823438 0 \nL 0 0 \nz\n\" style=\"fill:none;\"/>\n  </g>\n  <g id=\"axes_1\">\n   <g id=\"patch_2\">\n    <path d=\"M 59.690625 224.64 \nL 394.490625 224.64 \nL 394.490625 7.2 \nL 59.690625 7.2 \nz\n\" style=\"fill:#ffffff;\"/>\n   </g>\n   <g id=\"matplotlib.axis_1\">\n    <g id=\"xtick_1\">\n     <g id=\"line2d_1\">\n      <defs>\n       <path d=\"M 0 0 \nL 0 3.5 \n\" id=\"m8ab79acb80\" style=\"stroke:#000000;stroke-width:0.8;\"/>\n      </defs>\n      <g>\n       <use style=\"stroke:#000000;stroke-width:0.8;\" x=\"59.690625\" xlink:href=\"#m8ab79acb80\" y=\"224.64\"/>\n      </g>\n     </g>\n     <g id=\"text_1\">\n      <!-- 0.0 -->\n      <g transform=\"translate(51.739063 239.238437)scale(0.1 -0.1)\">\n       <defs>\n        <path d=\"M 31.78125 66.40625 \nQ 24.171875 66.40625 20.328125 58.90625 \nQ 16.5 51.421875 16.5 36.375 \nQ 16.5 21.390625 20.328125 13.890625 \nQ 24.171875 6.390625 31.78125 6.390625 \nQ 39.453125 6.390625 43.28125 13.890625 \nQ 47.125 21.390625 47.125 36.375 \nQ 47.125 51.421875 43.28125 58.90625 \nQ 39.453125 66.40625 31.78125 66.40625 \nz\nM 31.78125 74.21875 \nQ 44.046875 74.21875 50.515625 64.515625 \nQ 56.984375 54.828125 56.984375 36.375 \nQ 56.984375 17.96875 50.515625 8.265625 \nQ 44.046875 -1.421875 31.78125 -1.421875 \nQ 19.53125 -1.421875 13.0625 8.265625 \nQ 6.59375 17.96875 6.59375 36.375 \nQ 6.59375 54.828125 13.0625 64.515625 \nQ 19.53125 74.21875 31.78125 74.21875 \nz\n\" id=\"DejaVuSans-48\"/>\n        <path d=\"M 10.6875 12.40625 \nL 21 12.40625 \nL 21 0 \nL 10.6875 0 \nz\n\" id=\"DejaVuSans-46\"/>\n       </defs>\n       <use xlink:href=\"#DejaVuSans-48\"/>\n       <use x=\"63.623047\" xlink:href=\"#DejaVuSans-46\"/>\n       <use x=\"95.410156\" xlink:href=\"#DejaVuSans-48\"/>\n      </g>\n     </g>\n    </g>\n    <g id=\"xtick_2\">\n     <g id=\"line2d_2\">\n      <g>\n       <use style=\"stroke:#000000;stroke-width:0.8;\" x=\"101.540625\" xlink:href=\"#m8ab79acb80\" y=\"224.64\"/>\n      </g>\n     </g>\n     <g id=\"text_2\">\n      <!-- 2.5 -->\n      <g transform=\"translate(93.589063 239.238437)scale(0.1 -0.1)\">\n       <defs>\n        <path d=\"M 19.1875 8.296875 \nL 53.609375 8.296875 \nL 53.609375 0 \nL 7.328125 0 \nL 7.328125 8.296875 \nQ 12.9375 14.109375 22.625 23.890625 \nQ 32.328125 33.6875 34.8125 36.53125 \nQ 39.546875 41.84375 41.421875 45.53125 \nQ 43.3125 49.21875 43.3125 52.78125 \nQ 43.3125 58.59375 39.234375 62.25 \nQ 35.15625 65.921875 28.609375 65.921875 \nQ 23.96875 65.921875 18.8125 64.3125 \nQ 13.671875 62.703125 7.8125 59.421875 \nL 7.8125 69.390625 \nQ 13.765625 71.78125 18.9375 73 \nQ 24.125 74.21875 28.421875 74.21875 \nQ 39.75 74.21875 46.484375 68.546875 \nQ 53.21875 62.890625 53.21875 53.421875 \nQ 53.21875 48.921875 51.53125 44.890625 \nQ 49.859375 40.875 45.40625 35.40625 \nQ 44.1875 33.984375 37.640625 27.21875 \nQ 31.109375 20.453125 19.1875 8.296875 \nz\n\" id=\"DejaVuSans-50\"/>\n        <path d=\"M 10.796875 72.90625 \nL 49.515625 72.90625 \nL 49.515625 64.59375 \nL 19.828125 64.59375 \nL 19.828125 46.734375 \nQ 21.96875 47.46875 24.109375 47.828125 \nQ 26.265625 48.1875 28.421875 48.1875 \nQ 40.625 48.1875 47.75 41.5 \nQ 54.890625 34.8125 54.890625 23.390625 \nQ 54.890625 11.625 47.5625 5.09375 \nQ 40.234375 -1.421875 26.90625 -1.421875 \nQ 22.3125 -1.421875 17.546875 -0.640625 \nQ 12.796875 0.140625 7.71875 1.703125 \nL 7.71875 11.625 \nQ 12.109375 9.234375 16.796875 8.0625 \nQ 21.484375 6.890625 26.703125 6.890625 \nQ 35.15625 6.890625 40.078125 11.328125 \nQ 45.015625 15.765625 45.015625 23.390625 \nQ 45.015625 31 40.078125 35.4375 \nQ 35.15625 39.890625 26.703125 39.890625 \nQ 22.75 39.890625 18.8125 39.015625 \nQ 14.890625 38.140625 10.796875 36.28125 \nz\n\" id=\"DejaVuSans-53\"/>\n       </defs>\n       <use xlink:href=\"#DejaVuSans-50\"/>\n       <use x=\"63.623047\" xlink:href=\"#DejaVuSans-46\"/>\n       <use x=\"95.410156\" xlink:href=\"#DejaVuSans-53\"/>\n      </g>\n     </g>\n    </g>\n    <g id=\"xtick_3\">\n     <g id=\"line2d_3\">\n      <g>\n       <use style=\"stroke:#000000;stroke-width:0.8;\" x=\"143.390625\" xlink:href=\"#m8ab79acb80\" y=\"224.64\"/>\n      </g>\n     </g>\n     <g id=\"text_3\">\n      <!-- 5.0 -->\n      <g transform=\"translate(135.439063 239.238437)scale(0.1 -0.1)\">\n       <use xlink:href=\"#DejaVuSans-53\"/>\n       <use x=\"63.623047\" xlink:href=\"#DejaVuSans-46\"/>\n       <use x=\"95.410156\" xlink:href=\"#DejaVuSans-48\"/>\n      </g>\n     </g>\n    </g>\n    <g id=\"xtick_4\">\n     <g id=\"line2d_4\">\n      <g>\n       <use style=\"stroke:#000000;stroke-width:0.8;\" x=\"185.240625\" xlink:href=\"#m8ab79acb80\" y=\"224.64\"/>\n      </g>\n     </g>\n     <g id=\"text_4\">\n      <!-- 7.5 -->\n      <g transform=\"translate(177.289063 239.238437)scale(0.1 -0.1)\">\n       <defs>\n        <path d=\"M 8.203125 72.90625 \nL 55.078125 72.90625 \nL 55.078125 68.703125 \nL 28.609375 0 \nL 18.3125 0 \nL 43.21875 64.59375 \nL 8.203125 64.59375 \nz\n\" id=\"DejaVuSans-55\"/>\n       </defs>\n       <use xlink:href=\"#DejaVuSans-55\"/>\n       <use x=\"63.623047\" xlink:href=\"#DejaVuSans-46\"/>\n       <use x=\"95.410156\" xlink:href=\"#DejaVuSans-53\"/>\n      </g>\n     </g>\n    </g>\n    <g id=\"xtick_5\">\n     <g id=\"line2d_5\">\n      <g>\n       <use style=\"stroke:#000000;stroke-width:0.8;\" x=\"227.090625\" xlink:href=\"#m8ab79acb80\" y=\"224.64\"/>\n      </g>\n     </g>\n     <g id=\"text_5\">\n      <!-- 10.0 -->\n      <g transform=\"translate(215.957813 239.238437)scale(0.1 -0.1)\">\n       <defs>\n        <path d=\"M 12.40625 8.296875 \nL 28.515625 8.296875 \nL 28.515625 63.921875 \nL 10.984375 60.40625 \nL 10.984375 69.390625 \nL 28.421875 72.90625 \nL 38.28125 72.90625 \nL 38.28125 8.296875 \nL 54.390625 8.296875 \nL 54.390625 0 \nL 12.40625 0 \nz\n\" id=\"DejaVuSans-49\"/>\n       </defs>\n       <use xlink:href=\"#DejaVuSans-49\"/>\n       <use x=\"63.623047\" xlink:href=\"#DejaVuSans-48\"/>\n       <use x=\"127.246094\" xlink:href=\"#DejaVuSans-46\"/>\n       <use x=\"159.033203\" xlink:href=\"#DejaVuSans-48\"/>\n      </g>\n     </g>\n    </g>\n    <g id=\"xtick_6\">\n     <g id=\"line2d_6\">\n      <g>\n       <use style=\"stroke:#000000;stroke-width:0.8;\" x=\"268.940625\" xlink:href=\"#m8ab79acb80\" y=\"224.64\"/>\n      </g>\n     </g>\n     <g id=\"text_6\">\n      <!-- 12.5 -->\n      <g transform=\"translate(257.807813 239.238437)scale(0.1 -0.1)\">\n       <use xlink:href=\"#DejaVuSans-49\"/>\n       <use x=\"63.623047\" xlink:href=\"#DejaVuSans-50\"/>\n       <use x=\"127.246094\" xlink:href=\"#DejaVuSans-46\"/>\n       <use x=\"159.033203\" xlink:href=\"#DejaVuSans-53\"/>\n      </g>\n     </g>\n    </g>\n    <g id=\"xtick_7\">\n     <g id=\"line2d_7\">\n      <g>\n       <use style=\"stroke:#000000;stroke-width:0.8;\" x=\"310.790625\" xlink:href=\"#m8ab79acb80\" y=\"224.64\"/>\n      </g>\n     </g>\n     <g id=\"text_7\">\n      <!-- 15.0 -->\n      <g transform=\"translate(299.657813 239.238437)scale(0.1 -0.1)\">\n       <use xlink:href=\"#DejaVuSans-49\"/>\n       <use x=\"63.623047\" xlink:href=\"#DejaVuSans-53\"/>\n       <use x=\"127.246094\" xlink:href=\"#DejaVuSans-46\"/>\n       <use x=\"159.033203\" xlink:href=\"#DejaVuSans-48\"/>\n      </g>\n     </g>\n    </g>\n    <g id=\"xtick_8\">\n     <g id=\"line2d_8\">\n      <g>\n       <use style=\"stroke:#000000;stroke-width:0.8;\" x=\"352.640625\" xlink:href=\"#m8ab79acb80\" y=\"224.64\"/>\n      </g>\n     </g>\n     <g id=\"text_8\">\n      <!-- 17.5 -->\n      <g transform=\"translate(341.507813 239.238437)scale(0.1 -0.1)\">\n       <use xlink:href=\"#DejaVuSans-49\"/>\n       <use x=\"63.623047\" xlink:href=\"#DejaVuSans-55\"/>\n       <use x=\"127.246094\" xlink:href=\"#DejaVuSans-46\"/>\n       <use x=\"159.033203\" xlink:href=\"#DejaVuSans-53\"/>\n      </g>\n     </g>\n    </g>\n    <g id=\"xtick_9\">\n     <g id=\"line2d_9\">\n      <g>\n       <use style=\"stroke:#000000;stroke-width:0.8;\" x=\"394.490625\" xlink:href=\"#m8ab79acb80\" y=\"224.64\"/>\n      </g>\n     </g>\n     <g id=\"text_9\">\n      <!-- 20.0 -->\n      <g transform=\"translate(383.357813 239.238437)scale(0.1 -0.1)\">\n       <use xlink:href=\"#DejaVuSans-50\"/>\n       <use x=\"63.623047\" xlink:href=\"#DejaVuSans-48\"/>\n       <use x=\"127.246094\" xlink:href=\"#DejaVuSans-46\"/>\n       <use x=\"159.033203\" xlink:href=\"#DejaVuSans-48\"/>\n      </g>\n     </g>\n    </g>\n    <g id=\"text_10\">\n     <!-- Energy (keV) -->\n     <g transform=\"translate(194.882812 252.916562)scale(0.1 -0.1)\">\n      <defs>\n       <path d=\"M 9.8125 72.90625 \nL 55.90625 72.90625 \nL 55.90625 64.59375 \nL 19.671875 64.59375 \nL 19.671875 43.015625 \nL 54.390625 43.015625 \nL 54.390625 34.71875 \nL 19.671875 34.71875 \nL 19.671875 8.296875 \nL 56.78125 8.296875 \nL 56.78125 0 \nL 9.8125 0 \nz\n\" id=\"DejaVuSans-69\"/>\n       <path d=\"M 54.890625 33.015625 \nL 54.890625 0 \nL 45.90625 0 \nL 45.90625 32.71875 \nQ 45.90625 40.484375 42.875 44.328125 \nQ 39.84375 48.1875 33.796875 48.1875 \nQ 26.515625 48.1875 22.3125 43.546875 \nQ 18.109375 38.921875 18.109375 30.90625 \nL 18.109375 0 \nL 9.078125 0 \nL 9.078125 54.6875 \nL 18.109375 54.6875 \nL 18.109375 46.1875 \nQ 21.34375 51.125 25.703125 53.5625 \nQ 30.078125 56 35.796875 56 \nQ 45.21875 56 50.046875 50.171875 \nQ 54.890625 44.34375 54.890625 33.015625 \nz\n\" id=\"DejaVuSans-110\"/>\n       <path d=\"M 56.203125 29.59375 \nL 56.203125 25.203125 \nL 14.890625 25.203125 \nQ 15.484375 15.921875 20.484375 11.0625 \nQ 25.484375 6.203125 34.421875 6.203125 \nQ 39.59375 6.203125 44.453125 7.46875 \nQ 49.3125 8.734375 54.109375 11.28125 \nL 54.109375 2.78125 \nQ 49.265625 0.734375 44.1875 -0.34375 \nQ 39.109375 -1.421875 33.890625 -1.421875 \nQ 20.796875 -1.421875 13.15625 6.1875 \nQ 5.515625 13.8125 5.515625 26.8125 \nQ 5.515625 40.234375 12.765625 48.109375 \nQ 20.015625 56 32.328125 56 \nQ 43.359375 56 49.78125 48.890625 \nQ 56.203125 41.796875 56.203125 29.59375 \nz\nM 47.21875 32.234375 \nQ 47.125 39.59375 43.09375 43.984375 \nQ 39.0625 48.390625 32.421875 48.390625 \nQ 24.90625 48.390625 20.390625 44.140625 \nQ 15.875 39.890625 15.1875 32.171875 \nz\n\" id=\"DejaVuSans-101\"/>\n       <path d=\"M 41.109375 46.296875 \nQ 39.59375 47.171875 37.8125 47.578125 \nQ 36.03125 48 33.890625 48 \nQ 26.265625 48 22.1875 43.046875 \nQ 18.109375 38.09375 18.109375 28.8125 \nL 18.109375 0 \nL 9.078125 0 \nL 9.078125 54.6875 \nL 18.109375 54.6875 \nL 18.109375 46.1875 \nQ 20.953125 51.171875 25.484375 53.578125 \nQ 30.03125 56 36.53125 56 \nQ 37.453125 56 38.578125 55.875 \nQ 39.703125 55.765625 41.0625 55.515625 \nz\n\" id=\"DejaVuSans-114\"/>\n       <path d=\"M 45.40625 27.984375 \nQ 45.40625 37.75 41.375 43.109375 \nQ 37.359375 48.484375 30.078125 48.484375 \nQ 22.859375 48.484375 18.828125 43.109375 \nQ 14.796875 37.75 14.796875 27.984375 \nQ 14.796875 18.265625 18.828125 12.890625 \nQ 22.859375 7.515625 30.078125 7.515625 \nQ 37.359375 7.515625 41.375 12.890625 \nQ 45.40625 18.265625 45.40625 27.984375 \nz\nM 54.390625 6.78125 \nQ 54.390625 -7.171875 48.1875 -13.984375 \nQ 42 -20.796875 29.203125 -20.796875 \nQ 24.46875 -20.796875 20.265625 -20.09375 \nQ 16.0625 -19.390625 12.109375 -17.921875 \nL 12.109375 -9.1875 \nQ 16.0625 -11.328125 19.921875 -12.34375 \nQ 23.78125 -13.375 27.78125 -13.375 \nQ 36.625 -13.375 41.015625 -8.765625 \nQ 45.40625 -4.15625 45.40625 5.171875 \nL 45.40625 9.625 \nQ 42.625 4.78125 38.28125 2.390625 \nQ 33.9375 0 27.875 0 \nQ 17.828125 0 11.671875 7.65625 \nQ 5.515625 15.328125 5.515625 27.984375 \nQ 5.515625 40.671875 11.671875 48.328125 \nQ 17.828125 56 27.875 56 \nQ 33.9375 56 38.28125 53.609375 \nQ 42.625 51.21875 45.40625 46.390625 \nL 45.40625 54.6875 \nL 54.390625 54.6875 \nz\n\" id=\"DejaVuSans-103\"/>\n       <path d=\"M 32.171875 -5.078125 \nQ 28.375 -14.84375 24.75 -17.8125 \nQ 21.140625 -20.796875 15.09375 -20.796875 \nL 7.90625 -20.796875 \nL 7.90625 -13.28125 \nL 13.1875 -13.28125 \nQ 16.890625 -13.28125 18.9375 -11.515625 \nQ 21 -9.765625 23.484375 -3.21875 \nL 25.09375 0.875 \nL 2.984375 54.6875 \nL 12.5 54.6875 \nL 29.59375 11.921875 \nL 46.6875 54.6875 \nL 56.203125 54.6875 \nz\n\" id=\"DejaVuSans-121\"/>\n       <path id=\"DejaVuSans-32\"/>\n       <path d=\"M 31 75.875 \nQ 24.46875 64.65625 21.28125 53.65625 \nQ 18.109375 42.671875 18.109375 31.390625 \nQ 18.109375 20.125 21.3125 9.0625 \nQ 24.515625 -2 31 -13.1875 \nL 23.1875 -13.1875 \nQ 15.875 -1.703125 12.234375 9.375 \nQ 8.59375 20.453125 8.59375 31.390625 \nQ 8.59375 42.28125 12.203125 53.3125 \nQ 15.828125 64.359375 23.1875 75.875 \nz\n\" id=\"DejaVuSans-40\"/>\n       <path d=\"M 9.078125 75.984375 \nL 18.109375 75.984375 \nL 18.109375 31.109375 \nL 44.921875 54.6875 \nL 56.390625 54.6875 \nL 27.390625 29.109375 \nL 57.625 0 \nL 45.90625 0 \nL 18.109375 26.703125 \nL 18.109375 0 \nL 9.078125 0 \nz\n\" id=\"DejaVuSans-107\"/>\n       <path d=\"M 28.609375 0 \nL 0.78125 72.90625 \nL 11.078125 72.90625 \nL 34.1875 11.53125 \nL 57.328125 72.90625 \nL 67.578125 72.90625 \nL 39.796875 0 \nz\n\" id=\"DejaVuSans-86\"/>\n       <path d=\"M 8.015625 75.875 \nL 15.828125 75.875 \nQ 23.140625 64.359375 26.78125 53.3125 \nQ 30.421875 42.28125 30.421875 31.390625 \nQ 30.421875 20.453125 26.78125 9.375 \nQ 23.140625 -1.703125 15.828125 -13.1875 \nL 8.015625 -13.1875 \nQ 14.5 -2 17.703125 9.0625 \nQ 20.90625 20.125 20.90625 31.390625 \nQ 20.90625 42.671875 17.703125 53.65625 \nQ 14.5 64.65625 8.015625 75.875 \nz\n\" id=\"DejaVuSans-41\"/>\n      </defs>\n      <use xlink:href=\"#DejaVuSans-69\"/>\n      <use x=\"63.183594\" xlink:href=\"#DejaVuSans-110\"/>\n      <use x=\"126.5625\" xlink:href=\"#DejaVuSans-101\"/>\n      <use x=\"188.085938\" xlink:href=\"#DejaVuSans-114\"/>\n      <use x=\"227.449219\" xlink:href=\"#DejaVuSans-103\"/>\n      <use x=\"290.925781\" xlink:href=\"#DejaVuSans-121\"/>\n      <use x=\"350.105469\" xlink:href=\"#DejaVuSans-32\"/>\n      <use x=\"381.892578\" xlink:href=\"#DejaVuSans-40\"/>\n      <use x=\"420.90625\" xlink:href=\"#DejaVuSans-107\"/>\n      <use x=\"475.191406\" xlink:href=\"#DejaVuSans-101\"/>\n      <use x=\"536.714844\" xlink:href=\"#DejaVuSans-86\"/>\n      <use x=\"605.123047\" xlink:href=\"#DejaVuSans-41\"/>\n     </g>\n    </g>\n   </g>\n   <g id=\"matplotlib.axis_2\">\n    <g id=\"ytick_1\">\n     <g id=\"line2d_10\">\n      <defs>\n       <path d=\"M 0 0 \nL -3.5 0 \n\" id=\"m32d8608ece\" style=\"stroke:#000000;stroke-width:0.8;\"/>\n      </defs>\n      <g>\n       <use style=\"stroke:#000000;stroke-width:0.8;\" x=\"59.690625\" xlink:href=\"#m32d8608ece\" y=\"190.103518\"/>\n      </g>\n     </g>\n     <g id=\"text_11\">\n      <!-- 2000 -->\n      <g transform=\"translate(27.240625 193.902737)scale(0.1 -0.1)\">\n       <use xlink:href=\"#DejaVuSans-50\"/>\n       <use x=\"63.623047\" xlink:href=\"#DejaVuSans-48\"/>\n       <use x=\"127.246094\" xlink:href=\"#DejaVuSans-48\"/>\n       <use x=\"190.869141\" xlink:href=\"#DejaVuSans-48\"/>\n      </g>\n     </g>\n    </g>\n    <g id=\"ytick_2\">\n     <g id=\"line2d_11\">\n      <g>\n       <use style=\"stroke:#000000;stroke-width:0.8;\" x=\"59.690625\" xlink:href=\"#m32d8608ece\" y=\"155.5584\"/>\n      </g>\n     </g>\n     <g id=\"text_12\">\n      <!-- 4000 -->\n      <g transform=\"translate(27.240625 159.357618)scale(0.1 -0.1)\">\n       <defs>\n        <path d=\"M 37.796875 64.3125 \nL 12.890625 25.390625 \nL 37.796875 25.390625 \nz\nM 35.203125 72.90625 \nL 47.609375 72.90625 \nL 47.609375 25.390625 \nL 58.015625 25.390625 \nL 58.015625 17.1875 \nL 47.609375 17.1875 \nL 47.609375 0 \nL 37.796875 0 \nL 37.796875 17.1875 \nL 4.890625 17.1875 \nL 4.890625 26.703125 \nz\n\" id=\"DejaVuSans-52\"/>\n       </defs>\n       <use xlink:href=\"#DejaVuSans-52\"/>\n       <use x=\"63.623047\" xlink:href=\"#DejaVuSans-48\"/>\n       <use x=\"127.246094\" xlink:href=\"#DejaVuSans-48\"/>\n       <use x=\"190.869141\" xlink:href=\"#DejaVuSans-48\"/>\n      </g>\n     </g>\n    </g>\n    <g id=\"ytick_3\">\n     <g id=\"line2d_12\">\n      <g>\n       <use style=\"stroke:#000000;stroke-width:0.8;\" x=\"59.690625\" xlink:href=\"#m32d8608ece\" y=\"121.013281\"/>\n      </g>\n     </g>\n     <g id=\"text_13\">\n      <!-- 6000 -->\n      <g transform=\"translate(27.240625 124.8125)scale(0.1 -0.1)\">\n       <defs>\n        <path d=\"M 33.015625 40.375 \nQ 26.375 40.375 22.484375 35.828125 \nQ 18.609375 31.296875 18.609375 23.390625 \nQ 18.609375 15.53125 22.484375 10.953125 \nQ 26.375 6.390625 33.015625 6.390625 \nQ 39.65625 6.390625 43.53125 10.953125 \nQ 47.40625 15.53125 47.40625 23.390625 \nQ 47.40625 31.296875 43.53125 35.828125 \nQ 39.65625 40.375 33.015625 40.375 \nz\nM 52.59375 71.296875 \nL 52.59375 62.3125 \nQ 48.875 64.0625 45.09375 64.984375 \nQ 41.3125 65.921875 37.59375 65.921875 \nQ 27.828125 65.921875 22.671875 59.328125 \nQ 17.53125 52.734375 16.796875 39.40625 \nQ 19.671875 43.65625 24.015625 45.921875 \nQ 28.375 48.1875 33.59375 48.1875 \nQ 44.578125 48.1875 50.953125 41.515625 \nQ 57.328125 34.859375 57.328125 23.390625 \nQ 57.328125 12.15625 50.6875 5.359375 \nQ 44.046875 -1.421875 33.015625 -1.421875 \nQ 20.359375 -1.421875 13.671875 8.265625 \nQ 6.984375 17.96875 6.984375 36.375 \nQ 6.984375 53.65625 15.1875 63.9375 \nQ 23.390625 74.21875 37.203125 74.21875 \nQ 40.921875 74.21875 44.703125 73.484375 \nQ 48.484375 72.75 52.59375 71.296875 \nz\n\" id=\"DejaVuSans-54\"/>\n       </defs>\n       <use xlink:href=\"#DejaVuSans-54\"/>\n       <use x=\"63.623047\" xlink:href=\"#DejaVuSans-48\"/>\n       <use x=\"127.246094\" xlink:href=\"#DejaVuSans-48\"/>\n       <use x=\"190.869141\" xlink:href=\"#DejaVuSans-48\"/>\n      </g>\n     </g>\n    </g>\n    <g id=\"ytick_4\">\n     <g id=\"line2d_13\">\n      <g>\n       <use style=\"stroke:#000000;stroke-width:0.8;\" x=\"59.690625\" xlink:href=\"#m32d8608ece\" y=\"86.468163\"/>\n      </g>\n     </g>\n     <g id=\"text_14\">\n      <!-- 8000 -->\n      <g transform=\"translate(27.240625 90.267382)scale(0.1 -0.1)\">\n       <defs>\n        <path d=\"M 31.78125 34.625 \nQ 24.75 34.625 20.71875 30.859375 \nQ 16.703125 27.09375 16.703125 20.515625 \nQ 16.703125 13.921875 20.71875 10.15625 \nQ 24.75 6.390625 31.78125 6.390625 \nQ 38.8125 6.390625 42.859375 10.171875 \nQ 46.921875 13.96875 46.921875 20.515625 \nQ 46.921875 27.09375 42.890625 30.859375 \nQ 38.875 34.625 31.78125 34.625 \nz\nM 21.921875 38.8125 \nQ 15.578125 40.375 12.03125 44.71875 \nQ 8.5 49.078125 8.5 55.328125 \nQ 8.5 64.0625 14.71875 69.140625 \nQ 20.953125 74.21875 31.78125 74.21875 \nQ 42.671875 74.21875 48.875 69.140625 \nQ 55.078125 64.0625 55.078125 55.328125 \nQ 55.078125 49.078125 51.53125 44.71875 \nQ 48 40.375 41.703125 38.8125 \nQ 48.828125 37.15625 52.796875 32.3125 \nQ 56.78125 27.484375 56.78125 20.515625 \nQ 56.78125 9.90625 50.3125 4.234375 \nQ 43.84375 -1.421875 31.78125 -1.421875 \nQ 19.734375 -1.421875 13.25 4.234375 \nQ 6.78125 9.90625 6.78125 20.515625 \nQ 6.78125 27.484375 10.78125 32.3125 \nQ 14.796875 37.15625 21.921875 38.8125 \nz\nM 18.3125 54.390625 \nQ 18.3125 48.734375 21.84375 45.5625 \nQ 25.390625 42.390625 31.78125 42.390625 \nQ 38.140625 42.390625 41.71875 45.5625 \nQ 45.3125 48.734375 45.3125 54.390625 \nQ 45.3125 60.0625 41.71875 63.234375 \nQ 38.140625 66.40625 31.78125 66.40625 \nQ 25.390625 66.40625 21.84375 63.234375 \nQ 18.3125 60.0625 18.3125 54.390625 \nz\n\" id=\"DejaVuSans-56\"/>\n       </defs>\n       <use xlink:href=\"#DejaVuSans-56\"/>\n       <use x=\"63.623047\" xlink:href=\"#DejaVuSans-48\"/>\n       <use x=\"127.246094\" xlink:href=\"#DejaVuSans-48\"/>\n       <use x=\"190.869141\" xlink:href=\"#DejaVuSans-48\"/>\n      </g>\n     </g>\n    </g>\n    <g id=\"ytick_5\">\n     <g id=\"line2d_14\">\n      <g>\n       <use style=\"stroke:#000000;stroke-width:0.8;\" x=\"59.690625\" xlink:href=\"#m32d8608ece\" y=\"51.923045\"/>\n      </g>\n     </g>\n     <g id=\"text_15\">\n      <!-- 10000 -->\n      <g transform=\"translate(20.878125 55.722264)scale(0.1 -0.1)\">\n       <use xlink:href=\"#DejaVuSans-49\"/>\n       <use x=\"63.623047\" xlink:href=\"#DejaVuSans-48\"/>\n       <use x=\"127.246094\" xlink:href=\"#DejaVuSans-48\"/>\n       <use x=\"190.869141\" xlink:href=\"#DejaVuSans-48\"/>\n       <use x=\"254.492188\" xlink:href=\"#DejaVuSans-48\"/>\n      </g>\n     </g>\n    </g>\n    <g id=\"ytick_6\">\n     <g id=\"line2d_15\">\n      <g>\n       <use style=\"stroke:#000000;stroke-width:0.8;\" x=\"59.690625\" xlink:href=\"#m32d8608ece\" y=\"17.377927\"/>\n      </g>\n     </g>\n     <g id=\"text_16\">\n      <!-- 12000 -->\n      <g transform=\"translate(20.878125 21.177145)scale(0.1 -0.1)\">\n       <use xlink:href=\"#DejaVuSans-49\"/>\n       <use x=\"63.623047\" xlink:href=\"#DejaVuSans-50\"/>\n       <use x=\"127.246094\" xlink:href=\"#DejaVuSans-48\"/>\n       <use x=\"190.869141\" xlink:href=\"#DejaVuSans-48\"/>\n       <use x=\"254.492188\" xlink:href=\"#DejaVuSans-48\"/>\n      </g>\n     </g>\n    </g>\n    <g id=\"text_17\">\n     <!-- Counts / (40.0 eV kg days) -->\n     <g transform=\"translate(14.798438 182.405937)rotate(-90)scale(0.1 -0.1)\">\n      <defs>\n       <path d=\"M 64.40625 67.28125 \nL 64.40625 56.890625 \nQ 59.421875 61.53125 53.78125 63.8125 \nQ 48.140625 66.109375 41.796875 66.109375 \nQ 29.296875 66.109375 22.65625 58.46875 \nQ 16.015625 50.828125 16.015625 36.375 \nQ 16.015625 21.96875 22.65625 14.328125 \nQ 29.296875 6.6875 41.796875 6.6875 \nQ 48.140625 6.6875 53.78125 8.984375 \nQ 59.421875 11.28125 64.40625 15.921875 \nL 64.40625 5.609375 \nQ 59.234375 2.09375 53.4375 0.328125 \nQ 47.65625 -1.421875 41.21875 -1.421875 \nQ 24.65625 -1.421875 15.125 8.703125 \nQ 5.609375 18.84375 5.609375 36.375 \nQ 5.609375 53.953125 15.125 64.078125 \nQ 24.65625 74.21875 41.21875 74.21875 \nQ 47.75 74.21875 53.53125 72.484375 \nQ 59.328125 70.75 64.40625 67.28125 \nz\n\" id=\"DejaVuSans-67\"/>\n       <path d=\"M 30.609375 48.390625 \nQ 23.390625 48.390625 19.1875 42.75 \nQ 14.984375 37.109375 14.984375 27.296875 \nQ 14.984375 17.484375 19.15625 11.84375 \nQ 23.34375 6.203125 30.609375 6.203125 \nQ 37.796875 6.203125 41.984375 11.859375 \nQ 46.1875 17.53125 46.1875 27.296875 \nQ 46.1875 37.015625 41.984375 42.703125 \nQ 37.796875 48.390625 30.609375 48.390625 \nz\nM 30.609375 56 \nQ 42.328125 56 49.015625 48.375 \nQ 55.71875 40.765625 55.71875 27.296875 \nQ 55.71875 13.875 49.015625 6.21875 \nQ 42.328125 -1.421875 30.609375 -1.421875 \nQ 18.84375 -1.421875 12.171875 6.21875 \nQ 5.515625 13.875 5.515625 27.296875 \nQ 5.515625 40.765625 12.171875 48.375 \nQ 18.84375 56 30.609375 56 \nz\n\" id=\"DejaVuSans-111\"/>\n       <path d=\"M 8.5 21.578125 \nL 8.5 54.6875 \nL 17.484375 54.6875 \nL 17.484375 21.921875 \nQ 17.484375 14.15625 20.5 10.265625 \nQ 23.53125 6.390625 29.59375 6.390625 \nQ 36.859375 6.390625 41.078125 11.03125 \nQ 45.3125 15.671875 45.3125 23.6875 \nL 45.3125 54.6875 \nL 54.296875 54.6875 \nL 54.296875 0 \nL 45.3125 0 \nL 45.3125 8.40625 \nQ 42.046875 3.421875 37.71875 1 \nQ 33.40625 -1.421875 27.6875 -1.421875 \nQ 18.265625 -1.421875 13.375 4.4375 \nQ 8.5 10.296875 8.5 21.578125 \nz\nM 31.109375 56 \nz\n\" id=\"DejaVuSans-117\"/>\n       <path d=\"M 18.3125 70.21875 \nL 18.3125 54.6875 \nL 36.8125 54.6875 \nL 36.8125 47.703125 \nL 18.3125 47.703125 \nL 18.3125 18.015625 \nQ 18.3125 11.328125 20.140625 9.421875 \nQ 21.96875 7.515625 27.59375 7.515625 \nL 36.8125 7.515625 \nL 36.8125 0 \nL 27.59375 0 \nQ 17.1875 0 13.234375 3.875 \nQ 9.28125 7.765625 9.28125 18.015625 \nL 9.28125 47.703125 \nL 2.6875 47.703125 \nL 2.6875 54.6875 \nL 9.28125 54.6875 \nL 9.28125 70.21875 \nz\n\" id=\"DejaVuSans-116\"/>\n       <path d=\"M 44.28125 53.078125 \nL 44.28125 44.578125 \nQ 40.484375 46.53125 36.375 47.5 \nQ 32.28125 48.484375 27.875 48.484375 \nQ 21.1875 48.484375 17.84375 46.4375 \nQ 14.5 44.390625 14.5 40.28125 \nQ 14.5 37.15625 16.890625 35.375 \nQ 19.28125 33.59375 26.515625 31.984375 \nL 29.59375 31.296875 \nQ 39.15625 29.25 43.1875 25.515625 \nQ 47.21875 21.78125 47.21875 15.09375 \nQ 47.21875 7.46875 41.1875 3.015625 \nQ 35.15625 -1.421875 24.609375 -1.421875 \nQ 20.21875 -1.421875 15.453125 -0.5625 \nQ 10.6875 0.296875 5.421875 2 \nL 5.421875 11.28125 \nQ 10.40625 8.6875 15.234375 7.390625 \nQ 20.0625 6.109375 24.8125 6.109375 \nQ 31.15625 6.109375 34.5625 8.28125 \nQ 37.984375 10.453125 37.984375 14.40625 \nQ 37.984375 18.0625 35.515625 20.015625 \nQ 33.0625 21.96875 24.703125 23.78125 \nL 21.578125 24.515625 \nQ 13.234375 26.265625 9.515625 29.90625 \nQ 5.8125 33.546875 5.8125 39.890625 \nQ 5.8125 47.609375 11.28125 51.796875 \nQ 16.75 56 26.8125 56 \nQ 31.78125 56 36.171875 55.265625 \nQ 40.578125 54.546875 44.28125 53.078125 \nz\n\" id=\"DejaVuSans-115\"/>\n       <path d=\"M 25.390625 72.90625 \nL 33.6875 72.90625 \nL 8.296875 -9.28125 \nL 0 -9.28125 \nz\n\" id=\"DejaVuSans-47\"/>\n       <path d=\"M 45.40625 46.390625 \nL 45.40625 75.984375 \nL 54.390625 75.984375 \nL 54.390625 0 \nL 45.40625 0 \nL 45.40625 8.203125 \nQ 42.578125 3.328125 38.25 0.953125 \nQ 33.9375 -1.421875 27.875 -1.421875 \nQ 17.96875 -1.421875 11.734375 6.484375 \nQ 5.515625 14.40625 5.515625 27.296875 \nQ 5.515625 40.1875 11.734375 48.09375 \nQ 17.96875 56 27.875 56 \nQ 33.9375 56 38.25 53.625 \nQ 42.578125 51.265625 45.40625 46.390625 \nz\nM 14.796875 27.296875 \nQ 14.796875 17.390625 18.875 11.75 \nQ 22.953125 6.109375 30.078125 6.109375 \nQ 37.203125 6.109375 41.296875 11.75 \nQ 45.40625 17.390625 45.40625 27.296875 \nQ 45.40625 37.203125 41.296875 42.84375 \nQ 37.203125 48.484375 30.078125 48.484375 \nQ 22.953125 48.484375 18.875 42.84375 \nQ 14.796875 37.203125 14.796875 27.296875 \nz\n\" id=\"DejaVuSans-100\"/>\n       <path d=\"M 34.28125 27.484375 \nQ 23.390625 27.484375 19.1875 25 \nQ 14.984375 22.515625 14.984375 16.5 \nQ 14.984375 11.71875 18.140625 8.90625 \nQ 21.296875 6.109375 26.703125 6.109375 \nQ 34.1875 6.109375 38.703125 11.40625 \nQ 43.21875 16.703125 43.21875 25.484375 \nL 43.21875 27.484375 \nz\nM 52.203125 31.203125 \nL 52.203125 0 \nL 43.21875 0 \nL 43.21875 8.296875 \nQ 40.140625 3.328125 35.546875 0.953125 \nQ 30.953125 -1.421875 24.3125 -1.421875 \nQ 15.921875 -1.421875 10.953125 3.296875 \nQ 6 8.015625 6 15.921875 \nQ 6 25.140625 12.171875 29.828125 \nQ 18.359375 34.515625 30.609375 34.515625 \nL 43.21875 34.515625 \nL 43.21875 35.40625 \nQ 43.21875 41.609375 39.140625 45 \nQ 35.0625 48.390625 27.6875 48.390625 \nQ 23 48.390625 18.546875 47.265625 \nQ 14.109375 46.140625 10.015625 43.890625 \nL 10.015625 52.203125 \nQ 14.9375 54.109375 19.578125 55.046875 \nQ 24.21875 56 28.609375 56 \nQ 40.484375 56 46.34375 49.84375 \nQ 52.203125 43.703125 52.203125 31.203125 \nz\n\" id=\"DejaVuSans-97\"/>\n      </defs>\n      <use xlink:href=\"#DejaVuSans-67\"/>\n      <use x=\"69.824219\" xlink:href=\"#DejaVuSans-111\"/>\n      <use x=\"131.005859\" xlink:href=\"#DejaVuSans-117\"/>\n      <use x=\"194.384766\" xlink:href=\"#DejaVuSans-110\"/>\n      <use x=\"257.763672\" xlink:href=\"#DejaVuSans-116\"/>\n      <use x=\"296.972656\" xlink:href=\"#DejaVuSans-115\"/>\n      <use x=\"349.072266\" xlink:href=\"#DejaVuSans-32\"/>\n      <use x=\"380.859375\" xlink:href=\"#DejaVuSans-47\"/>\n      <use x=\"414.550781\" xlink:href=\"#DejaVuSans-32\"/>\n      <use x=\"446.337891\" xlink:href=\"#DejaVuSans-40\"/>\n      <use x=\"485.351562\" xlink:href=\"#DejaVuSans-52\"/>\n      <use x=\"548.974609\" xlink:href=\"#DejaVuSans-48\"/>\n      <use x=\"612.597656\" xlink:href=\"#DejaVuSans-46\"/>\n      <use x=\"644.384766\" xlink:href=\"#DejaVuSans-48\"/>\n      <use x=\"708.007812\" xlink:href=\"#DejaVuSans-32\"/>\n      <use x=\"739.794922\" xlink:href=\"#DejaVuSans-101\"/>\n      <use x=\"801.318359\" xlink:href=\"#DejaVuSans-86\"/>\n      <use x=\"869.726562\" xlink:href=\"#DejaVuSans-32\"/>\n      <use x=\"901.513672\" xlink:href=\"#DejaVuSans-107\"/>\n      <use x=\"959.423828\" xlink:href=\"#DejaVuSans-103\"/>\n      <use x=\"1022.900391\" xlink:href=\"#DejaVuSans-32\"/>\n      <use x=\"1054.6875\" xlink:href=\"#DejaVuSans-100\"/>\n      <use x=\"1118.164062\" xlink:href=\"#DejaVuSans-97\"/>\n      <use x=\"1179.443359\" xlink:href=\"#DejaVuSans-121\"/>\n      <use x=\"1238.623047\" xlink:href=\"#DejaVuSans-115\"/>\n      <use x=\"1290.722656\" xlink:href=\"#DejaVuSans-41\"/>\n     </g>\n    </g>\n   </g>\n   <g id=\"patch_3\">\n    <path clip-path=\"url(#p74a650915e)\" d=\"M 59.690625 224.648636 \nL 59.690625 157.130203 \nL 60.360225 157.130203 \nL 60.360225 161.36198 \nL 61.029825 161.36198 \nL 61.029825 162.726512 \nL 61.699425 162.726512 \nL 61.699425 164.298315 \nL 62.369025 164.298315 \nL 62.369025 166.405567 \nL 63.038625 166.405567 \nL 63.038625 169.39372 \nL 63.708225 169.39372 \nL 63.708225 170.309165 \nL 64.377825 170.309165 \nL 64.377825 171.310974 \nL 65.047425 171.310974 \nL 65.047425 175.819112 \nL 65.717025 175.819112 \nL 65.717025 177.63273 \nL 66.386625 177.63273 \nL 66.386625 178.617266 \nL 67.056225 178.617266 \nL 67.056225 181.88178 \nL 67.725825 181.88178 \nL 67.725825 184.10994 \nL 69.065025 184.023577 \nL 69.065025 187.184456 \nL 69.734625 187.184456 \nL 69.734625 186.631734 \nL 70.404225 186.631734 \nL 70.404225 188.548988 \nL 71.073825 188.548988 \nL 71.073825 191.830774 \nL 71.743425 191.830774 \nL 71.743425 192.020772 \nL 72.413025 192.020772 \nL 72.413025 192.867127 \nL 73.082625 192.867127 \nL 73.082625 194.041661 \nL 73.752225 194.041661 \nL 73.752225 196.442547 \nL 74.421825 196.442547 \nL 74.421825 196.649818 \nL 75.091425 196.649818 \nL 75.091425 198.342529 \nL 75.761025 198.342529 \nL 75.761025 198.68798 \nL 76.430625 198.68798 \nL 76.430625 199.776151 \nL 77.100225 199.776151 \nL 77.100225 200.950685 \nL 77.769825 200.950685 \nL 77.769825 201.157956 \nL 78.439425 201.157956 \nL 78.439425 202.315217 \nL 79.109025 202.315217 \nL 79.109025 203.679749 \nL 79.778625 203.679749 \nL 79.778625 204.007928 \nL 80.448225 204.007928 \nL 80.448225 204.957919 \nL 81.117825 204.957919 \nL 81.117825 203.973383 \nL 81.787425 203.973383 \nL 81.787425 205.510641 \nL 82.457025 205.510641 \nL 82.457025 207.39335 \nL 83.126625 207.39335 \nL 83.126625 208.308795 \nL 83.796225 208.308795 \nL 83.796225 208.671519 \nL 84.465825 208.671519 \nL 84.465825 208.87879 \nL 85.135425 208.87879 \nL 85.135425 210.36423 \nL 85.805025 210.36423 \nL 85.805025 209.794235 \nL 86.474625 209.794235 \nL 86.474625 210.709681 \nL 87.144225 210.709681 \nL 87.144225 212.039668 \nL 87.813825 212.039668 \nL 87.813825 212.264211 \nL 88.483425 212.264211 \nL 88.483425 212.436937 \nL 89.153025 212.436937 \nL 89.153025 211.711489 \nL 89.822625 211.711489 \nL 89.822625 213.611471 \nL 90.492225 213.611471 \nL 90.492225 214.14692 \nL 91.161825 214.14692 \nL 91.161825 214.406009 \nL 91.831425 214.406009 \nL 91.831425 214.095103 \nL 92.501025 214.095103 \nL 92.501025 214.855095 \nL 93.170625 214.855095 \nL 93.170625 215.373272 \nL 93.840225 215.373272 \nL 93.840225 215.874176 \nL 94.509825 215.874176 \nL 94.509825 216.478716 \nL 95.179425 216.478716 \nL 95.179425 216.340535 \nL 95.849025 216.340535 \nL 95.849025 217.100528 \nL 96.518625 217.100528 \nL 96.518625 217.411434 \nL 97.188225 217.411434 \nL 97.188225 217.895066 \nL 97.857825 217.895066 \nL 97.857825 217.532342 \nL 98.527425 217.532342 \nL 98.527425 217.912338 \nL 99.197025 217.912338 \nL 99.197025 218.499605 \nL 100.536225 218.39597 \nL 100.536225 219.017782 \nL 101.205825 219.017782 \nL 101.205825 219.328688 \nL 101.875425 219.328688 \nL 101.875425 219.553231 \nL 103.214625 219.484141 \nL 103.214625 219.777775 \nL 105.223425 219.743229 \nL 105.223425 220.261406 \nL 106.562625 220.226861 \nL 106.562625 220.434132 \nL 107.232225 220.434132 \nL 107.232225 221.107762 \nL 107.901825 221.107762 \nL 107.901825 221.263215 \nL 108.571425 221.263215 \nL 108.571425 220.952309 \nL 109.910625 220.865946 \nL 109.910625 221.729574 \nL 110.580225 221.729574 \nL 110.580225 221.505031 \nL 111.919425 221.522303 \nL 111.919425 221.349577 \nL 112.589025 221.349577 \nL 112.589025 221.574121 \nL 113.258625 221.574121 \nL 113.258625 221.764119 \nL 113.928225 221.764119 \nL 113.928225 221.988662 \nL 114.597825 221.988662 \nL 114.597825 221.695029 \nL 115.267425 221.695029 \nL 115.267425 222.17866 \nL 116.606625 222.10957 \nL 116.606625 222.334113 \nL 118.615425 222.385931 \nL 118.615425 222.696837 \nL 120.624225 222.610474 \nL 120.624225 222.886835 \nL 121.293825 222.886835 \nL 121.293825 223.094106 \nL 121.963425 223.094106 \nL 121.963425 222.662292 \nL 122.633025 222.662292 \nL 122.633025 223.111379 \nL 123.302625 223.111379 \nL 123.302625 222.973198 \nL 124.641825 223.076833 \nL 124.641825 223.508647 \nL 125.311425 223.508647 \nL 125.311425 223.370467 \nL 125.981025 223.370467 \nL 125.981025 223.508647 \nL 126.650625 223.508647 \nL 126.650625 223.284104 \nL 127.320225 223.284104 \nL 127.320225 223.560465 \nL 129.329025 223.560465 \nL 129.329025 223.387739 \nL 129.998625 223.387739 \nL 129.998625 223.6641 \nL 130.668225 223.6641 \nL 130.668225 223.266832 \nL 131.337825 223.266832 \nL 131.337825 223.45683 \nL 132.007425 223.45683 \nL 132.007425 223.318649 \nL 132.677025 223.318649 \nL 132.677025 222.835018 \nL 133.346625 222.835018 \nL 133.346625 221.349577 \nL 134.016225 221.349577 \nL 134.016225 220.01959 \nL 134.685825 220.01959 \nL 134.685825 217.411434 \nL 135.355425 217.411434 \nL 135.355425 214.371464 \nL 136.025025 214.371464 \nL 136.025025 208.481521 \nL 136.694625 208.481521 \nL 136.694625 201.192501 \nL 137.364225 201.192501 \nL 137.364225 191.640776 \nL 138.033825 191.640776 \nL 138.033825 177.978181 \nL 138.703425 177.978181 \nL 138.703425 164.26377 \nL 139.373025 164.26377 \nL 139.373025 148.994827 \nL 140.042625 148.994827 \nL 140.042625 132.862257 \nL 140.712225 132.862257 \nL 140.712225 115.935149 \nL 141.381825 115.935149 \nL 141.381825 103.257091 \nL 142.051425 103.257091 \nL 142.051425 92.25447 \nL 142.721025 92.25447 \nL 142.721025 90.181763 \nL 143.390625 90.181763 \nL 143.390625 85.103631 \nL 144.060225 85.103631 \nL 144.060225 93.498095 \nL 144.729825 93.498095 \nL 144.729825 100.873477 \nL 145.399425 100.873477 \nL 145.399425 117.800585 \nL 146.069025 117.800585 \nL 146.069025 133.190436 \nL 146.738625 133.190436 \nL 146.738625 147.906656 \nL 147.408225 147.906656 \nL 147.408225 165.196488 \nL 148.077825 165.196488 \nL 148.077825 179.100898 \nL 148.747425 179.100898 \nL 148.747425 191.571686 \nL 149.417025 191.571686 \nL 149.417025 202.349762 \nL 150.086625 202.349762 \nL 150.086625 209.276059 \nL 150.756225 209.276059 \nL 150.756225 214.319646 \nL 151.425825 214.319646 \nL 151.425825 218.050519 \nL 152.095425 218.050519 \nL 152.095425 220.917764 \nL 152.765025 220.917764 \nL 152.765025 221.798664 \nL 153.434625 221.798664 \nL 153.434625 223.491375 \nL 154.104225 223.491375 \nL 154.104225 223.802281 \nL 154.773825 223.802281 \nL 154.773825 224.13046 \nL 155.443425 224.13046 \nL 155.443425 224.285913 \nL 156.782625 224.389548 \nL 156.782625 224.40682 \nL 159.461025 224.441366 \nL 159.461025 224.527728 \nL 160.800225 224.458638 \nL 160.800225 224.40682 \nL 163.478625 224.458638 \nL 163.478625 224.545001 \nL 394.490625 224.648636 \nL 394.490625 224.648636 \n\" style=\"fill:none;stroke:#1f77b4;stroke-linejoin:miter;\"/>\n   </g>\n   <g id=\"patch_4\">\n    <path clip-path=\"url(#p74a650915e)\" d=\"M 59.690625 224.648636 \nL 59.690625 -1 \nM 63.708225 -1 \nL 63.708225 7.878019 \nL 64.377825 7.878019 \nL 64.377825 25.236941 \nL 65.047425 25.236941 \nL 65.047425 45.704924 \nL 65.717025 45.704924 \nL 65.717025 58.486617 \nL 66.386625 58.486617 \nL 66.386625 69.886506 \nL 67.056225 69.886506 \nL 67.056225 88.368145 \nL 67.725825 88.368145 \nL 67.725825 95.104443 \nL 68.395425 95.104443 \nL 68.395425 97.781689 \nL 69.065025 97.781689 \nL 69.065025 110.217932 \nL 69.734625 110.217932 \nL 69.734625 125.849598 \nL 70.404225 125.849598 \nL 70.404225 126.885952 \nL 71.073825 126.885952 \nL 71.073825 129.476835 \nL 71.743425 129.476835 \nL 71.743425 145.108501 \nL 72.413025 145.108501 \nL 72.413025 149.426641 \nL 73.082625 149.426641 \nL 73.082625 152.103888 \nL 73.752225 152.103888 \nL 73.752225 158.840186 \nL 74.421825 158.840186 \nL 74.421825 161.43107 \nL 75.091425 161.43107 \nL 75.091425 169.46281 \nL 75.761025 169.46281 \nL 75.761025 170.412801 \nL 76.430625 170.412801 \nL 76.430625 175.853657 \nL 77.100225 175.853657 \nL 77.100225 184.749025 \nL 77.769825 184.749025 \nL 77.769825 178.358178 \nL 78.439425 178.358178 \nL 78.439425 184.489936 \nL 79.109025 184.489936 \nL 79.109025 185.353564 \nL 79.778625 185.353564 \nL 79.778625 192.176225 \nL 80.448225 192.176225 \nL 80.448225 190.967146 \nL 81.117825 190.967146 \nL 81.117825 193.55803 \nL 81.787425 193.55803 \nL 81.787425 197.87617 \nL 82.457025 197.87617 \nL 82.457025 197.27163 \nL 83.126625 197.27163 \nL 83.126625 201.503407 \nL 84.465825 201.417044 \nL 84.465825 204.785193 \nL 85.135425 204.785193 \nL 85.135425 205.389733 \nL 85.805025 205.389733 \nL 85.805025 204.785193 \nL 86.474625 204.785193 \nL 86.474625 207.376077 \nL 87.144225 207.376077 \nL 87.144225 206.512449 \nL 87.813825 206.512449 \nL 87.813825 210.226049 \nL 88.483425 210.226049 \nL 88.483425 212.816933 \nL 89.153025 212.816933 \nL 89.153025 208.930607 \nL 89.822625 208.930607 \nL 89.822625 213.421473 \nL 90.492225 213.421473 \nL 90.492225 210.398775 \nL 91.161825 210.398775 \nL 91.161825 212.989659 \nL 91.831425 212.989659 \nL 91.831425 211.78058 \nL 92.501025 211.78058 \nL 92.501025 210.744226 \nL 93.170625 210.744226 \nL 93.170625 215.235092 \nL 93.840225 215.235092 \nL 93.840225 213.93965 \nL 95.179425 213.93965 \nL 95.179425 216.185082 \nL 97.857825 216.09872 \nL 97.857825 215.839631 \nL 98.527425 215.839631 \nL 98.527425 216.789622 \nL 99.866625 216.789622 \nL 99.866625 218.775966 \nL 101.875425 218.775966 \nL 101.875425 218.171427 \nL 102.545025 218.171427 \nL 102.545025 217.566887 \nL 103.214625 217.566887 \nL 103.214625 218.430515 \nL 103.884225 218.430515 \nL 103.884225 219.380506 \nL 105.223425 219.380506 \nL 105.223425 217.480524 \nL 105.893025 217.480524 \nL 105.893025 218.257789 \nL 106.562625 218.257789 \nL 106.562625 219.121417 \nL 107.232225 219.121417 \nL 107.232225 219.898683 \nL 107.901825 219.898683 \nL 107.901825 220.071408 \nL 108.571425 220.071408 \nL 108.571425 219.121417 \nL 109.241025 219.121417 \nL 109.241025 218.689603 \nL 109.910625 218.689603 \nL 109.910625 219.380506 \nL 111.249825 219.466869 \nL 111.249825 219.121417 \nL 111.919425 219.121417 \nL 111.919425 220.244134 \nL 112.589025 220.244134 \nL 112.589025 219.20778 \nL 113.258625 219.20778 \nL 113.258625 220.589585 \nL 113.928225 220.589585 \nL 113.928225 220.244134 \nL 114.597825 220.244134 \nL 114.597825 219.380506 \nL 115.267425 219.380506 \nL 115.267425 219.121417 \nL 115.937025 219.121417 \nL 115.937025 219.985045 \nL 116.606625 219.985045 \nL 116.606625 220.503222 \nL 117.276225 220.503222 \nL 117.276225 219.466869 \nL 117.945825 219.466869 \nL 117.945825 220.848673 \nL 118.615425 220.848673 \nL 118.615425 219.466869 \nL 119.285025 219.466869 \nL 119.285025 219.639594 \nL 119.954625 219.639594 \nL 119.954625 220.503222 \nL 120.624225 220.503222 \nL 120.624225 219.639594 \nL 121.963425 219.639594 \nL 121.963425 219.035055 \nL 122.633025 219.035055 \nL 122.633025 220.244134 \nL 123.302625 220.244134 \nL 123.302625 219.985045 \nL 123.972225 219.985045 \nL 123.972225 220.503222 \nL 124.641825 220.503222 \nL 124.641825 220.244134 \nL 125.311425 220.244134 \nL 125.311425 219.898683 \nL 126.650625 219.81232 \nL 126.650625 219.466869 \nL 127.320225 219.466869 \nL 127.320225 220.071408 \nL 127.989825 220.071408 \nL 127.989825 220.503222 \nL 128.659425 220.503222 \nL 128.659425 219.81232 \nL 129.998625 219.81232 \nL 129.998625 218.257789 \nL 130.668225 218.257789 \nL 130.668225 220.157771 \nL 131.337825 220.157771 \nL 131.337825 219.20778 \nL 132.007425 219.20778 \nL 132.007425 220.416859 \nL 133.346625 220.330496 \nL 133.346625 220.071408 \nL 134.016225 220.071408 \nL 134.016225 220.244134 \nL 135.355425 220.330496 \nL 135.355425 219.466869 \nL 136.025025 219.466869 \nL 136.025025 219.985045 \nL 137.364225 220.071408 \nL 137.364225 220.675948 \nL 138.033825 220.675948 \nL 138.033825 219.294143 \nL 138.703425 219.294143 \nL 138.703425 220.503222 \nL 139.373025 220.503222 \nL 139.373025 220.071408 \nL 140.042625 220.071408 \nL 140.042625 219.466869 \nL 140.712225 219.466869 \nL 140.712225 220.157771 \nL 141.381825 220.157771 \nL 141.381825 219.898683 \nL 142.051425 219.898683 \nL 142.051425 220.416859 \nL 142.721025 220.416859 \nL 142.721025 219.553231 \nL 143.390625 219.553231 \nL 143.390625 219.294143 \nL 144.060225 219.294143 \nL 144.060225 219.639594 \nL 144.729825 219.639594 \nL 144.729825 220.244134 \nL 145.399425 220.244134 \nL 145.399425 218.430515 \nL 146.069025 218.430515 \nL 146.069025 219.985045 \nL 146.738625 219.985045 \nL 146.738625 219.553231 \nL 147.408225 219.553231 \nL 147.408225 220.330496 \nL 148.077825 220.330496 \nL 148.077825 220.071408 \nL 148.747425 220.071408 \nL 148.747425 221.280487 \nL 149.417025 221.280487 \nL 149.417025 220.416859 \nL 150.086625 220.416859 \nL 150.086625 219.985045 \nL 150.756225 219.985045 \nL 150.756225 220.416859 \nL 151.425825 220.416859 \nL 151.425825 219.294143 \nL 152.095425 219.294143 \nL 152.095425 218.948692 \nL 152.765025 218.948692 \nL 152.765025 220.244134 \nL 153.434625 220.244134 \nL 153.434625 219.639594 \nL 154.104225 219.639594 \nL 154.104225 221.280487 \nL 154.773825 221.280487 \nL 154.773825 219.898683 \nL 155.443425 219.898683 \nL 155.443425 221.36685 \nL 156.113025 221.36685 \nL 156.113025 218.775966 \nL 156.782625 218.775966 \nL 156.782625 220.76231 \nL 157.452225 220.76231 \nL 157.452225 219.121417 \nL 158.121825 219.121417 \nL 158.121825 219.553231 \nL 158.791425 219.553231 \nL 158.791425 220.935036 \nL 159.461025 220.935036 \nL 159.461025 221.453213 \nL 160.130625 221.453213 \nL 160.130625 219.121417 \nL 160.800225 219.121417 \nL 160.800225 220.589585 \nL 161.469825 220.589585 \nL 161.469825 220.244134 \nL 162.139425 220.244134 \nL 162.139425 218.603241 \nL 162.809025 218.603241 \nL 162.809025 220.157771 \nL 164.817825 220.157771 \nL 164.817825 219.639594 \nL 165.487425 219.639594 \nL 165.487425 221.021399 \nL 166.157025 221.021399 \nL 166.157025 220.071408 \nL 166.826625 220.071408 \nL 166.826625 219.035055 \nL 167.496225 219.035055 \nL 167.496225 221.021399 \nL 168.165825 221.021399 \nL 168.165825 219.898683 \nL 168.835425 219.898683 \nL 168.835425 219.294143 \nL 169.505025 219.294143 \nL 169.505025 218.430515 \nL 170.174625 218.430515 \nL 170.174625 218.948692 \nL 170.844225 218.948692 \nL 170.844225 219.81232 \nL 171.513825 219.81232 \nL 171.513825 219.380506 \nL 172.853025 219.294143 \nL 172.853025 220.503222 \nL 173.522625 220.503222 \nL 173.522625 220.330496 \nL 174.192225 220.330496 \nL 174.192225 218.085064 \nL 174.861825 218.085064 \nL 174.861825 220.935036 \nL 175.531425 220.935036 \nL 175.531425 219.553231 \nL 176.201025 219.553231 \nL 176.201025 219.985045 \nL 176.870625 219.985045 \nL 176.870625 219.380506 \nL 177.540225 219.380506 \nL 177.540225 220.157771 \nL 178.209825 220.157771 \nL 178.209825 219.81232 \nL 178.879425 219.81232 \nL 178.879425 219.466869 \nL 180.218625 219.380506 \nL 180.218625 221.798664 \nL 180.888225 221.798664 \nL 180.888225 220.503222 \nL 182.227425 220.416859 \nL 182.227425 220.157771 \nL 182.897025 220.157771 \nL 182.897025 220.503222 \nL 183.566625 220.503222 \nL 183.566625 220.071408 \nL 184.236225 220.071408 \nL 184.236225 221.194124 \nL 184.905825 221.194124 \nL 184.905825 220.503222 \nL 185.575425 220.503222 \nL 185.575425 219.985045 \nL 186.245025 219.985045 \nL 186.245025 220.76231 \nL 186.914625 220.76231 \nL 186.914625 219.639594 \nL 187.584225 219.639594 \nL 187.584225 220.76231 \nL 188.253825 220.76231 \nL 188.253825 219.725957 \nL 188.923425 219.725957 \nL 188.923425 221.885027 \nL 189.593025 221.885027 \nL 189.593025 220.416859 \nL 190.932225 220.416859 \nL 190.932225 219.898683 \nL 191.601825 219.898683 \nL 191.601825 219.725957 \nL 192.271425 219.725957 \nL 192.271425 219.035055 \nL 192.941025 219.035055 \nL 192.941025 219.639594 \nL 193.610625 219.639594 \nL 193.610625 221.107762 \nL 194.280225 221.107762 \nL 194.280225 220.071408 \nL 194.949825 220.071408 \nL 194.949825 220.935036 \nL 196.958625 220.935036 \nL 196.958625 220.76231 \nL 197.628225 220.76231 \nL 197.628225 219.294143 \nL 198.297825 219.294143 \nL 198.297825 219.985045 \nL 198.967425 219.985045 \nL 198.967425 219.553231 \nL 199.637025 219.553231 \nL 199.637025 219.81232 \nL 201.645825 219.898683 \nL 201.645825 221.021399 \nL 202.315425 221.021399 \nL 202.315425 220.244134 \nL 203.654625 220.157771 \nL 203.654625 219.725957 \nL 204.324225 219.725957 \nL 204.324225 220.071408 \nL 204.993825 220.071408 \nL 204.993825 220.675948 \nL 205.663425 220.675948 \nL 205.663425 220.848673 \nL 206.333025 220.848673 \nL 206.333025 220.503222 \nL 207.002625 220.503222 \nL 207.002625 219.466869 \nL 207.672225 219.466869 \nL 207.672225 220.76231 \nL 208.341825 220.76231 \nL 208.341825 219.553231 \nL 209.681025 219.639594 \nL 209.681025 220.071408 \nL 210.350625 220.071408 \nL 210.350625 218.085064 \nL 211.020225 218.085064 \nL 211.020225 219.553231 \nL 211.689825 219.553231 \nL 211.689825 220.071408 \nL 212.359425 220.071408 \nL 212.359425 220.76231 \nL 213.029025 220.76231 \nL 213.029025 219.294143 \nL 213.698625 219.294143 \nL 213.698625 219.725957 \nL 214.368225 219.725957 \nL 214.368225 219.035055 \nL 215.037825 219.035055 \nL 215.037825 219.985045 \nL 215.707425 219.985045 \nL 215.707425 219.639594 \nL 216.377025 219.639594 \nL 216.377025 221.021399 \nL 217.046625 221.021399 \nL 217.046625 219.639594 \nL 217.716225 219.639594 \nL 217.716225 220.416859 \nL 218.385825 220.416859 \nL 218.385825 220.244134 \nL 219.055425 220.244134 \nL 219.055425 220.76231 \nL 219.725025 220.76231 \nL 219.725025 219.294143 \nL 220.394625 219.294143 \nL 220.394625 219.035055 \nL 221.064225 219.035055 \nL 221.064225 220.935036 \nL 221.733825 220.935036 \nL 221.733825 219.725957 \nL 222.403425 219.725957 \nL 222.403425 220.416859 \nL 223.742625 220.503222 \nL 223.742625 221.798664 \nL 224.412225 221.798664 \nL 224.412225 219.121417 \nL 225.081825 219.121417 \nL 225.081825 219.81232 \nL 225.751425 219.81232 \nL 225.751425 220.071408 \nL 226.421025 220.071408 \nL 226.421025 220.416859 \nL 227.090625 220.416859 \nL 227.090625 220.675948 \nL 227.760225 220.675948 \nL 227.760225 220.330496 \nL 228.429825 220.330496 \nL 228.429825 220.589585 \nL 229.769025 220.503222 \nL 229.769025 220.76231 \nL 230.438625 220.76231 \nL 230.438625 221.107762 \nL 231.108225 221.107762 \nL 231.108225 219.985045 \nL 231.777825 219.985045 \nL 231.777825 220.330496 \nL 232.447425 220.330496 \nL 232.447425 219.553231 \nL 233.117025 219.553231 \nL 233.117025 220.503222 \nL 233.786625 220.503222 \nL 233.786625 220.244134 \nL 235.125825 220.330496 \nL 235.125825 219.639594 \nL 235.795425 219.639594 \nL 235.795425 219.81232 \nL 236.465025 219.81232 \nL 236.465025 219.121417 \nL 237.134625 219.121417 \nL 237.134625 220.589585 \nL 237.804225 220.589585 \nL 237.804225 220.244134 \nL 238.473825 220.244134 \nL 238.473825 219.725957 \nL 239.143425 219.725957 \nL 239.143425 219.294143 \nL 239.813025 219.294143 \nL 239.813025 219.81232 \nL 240.482625 219.81232 \nL 240.482625 220.244134 \nL 241.152225 220.244134 \nL 241.152225 219.725957 \nL 241.821825 219.725957 \nL 241.821825 219.898683 \nL 243.830625 219.898683 \nL 243.830625 218.775966 \nL 244.500225 218.775966 \nL 244.500225 219.985045 \nL 247.178625 219.898683 \nL 247.178625 220.330496 \nL 247.848225 220.330496 \nL 247.848225 219.121417 \nL 248.517825 219.121417 \nL 248.517825 220.416859 \nL 249.187425 220.416859 \nL 249.187425 219.121417 \nL 249.857025 219.121417 \nL 249.857025 220.416859 \nL 250.526625 220.416859 \nL 250.526625 219.553231 \nL 251.196225 219.553231 \nL 251.196225 219.985045 \nL 251.865825 219.985045 \nL 251.865825 219.639594 \nL 252.535425 219.639594 \nL 252.535425 220.071408 \nL 253.205025 220.071408 \nL 253.205025 221.021399 \nL 253.874625 221.021399 \nL 253.874625 220.244134 \nL 254.544225 220.244134 \nL 254.544225 220.071408 \nL 255.213825 220.071408 \nL 255.213825 219.81232 \nL 255.883425 219.81232 \nL 255.883425 220.76231 \nL 256.553025 220.76231 \nL 256.553025 220.071408 \nL 257.222625 220.071408 \nL 257.222625 221.280487 \nL 257.892225 221.280487 \nL 257.892225 220.675948 \nL 258.561825 220.675948 \nL 258.561825 219.81232 \nL 259.231425 219.81232 \nL 259.231425 220.503222 \nL 260.570625 220.416859 \nL 260.570625 219.380506 \nL 261.240225 219.380506 \nL 261.240225 219.20778 \nL 261.909825 219.20778 \nL 261.909825 220.071408 \nL 263.249025 219.985045 \nL 263.249025 219.81232 \nL 263.918625 219.81232 \nL 263.918625 220.848673 \nL 264.588225 220.848673 \nL 264.588225 220.157771 \nL 265.257825 220.157771 \nL 265.257825 219.985045 \nL 265.927425 219.985045 \nL 265.927425 220.589585 \nL 266.597025 220.589585 \nL 266.597025 220.071408 \nL 267.266625 220.071408 \nL 267.266625 219.466869 \nL 267.936225 219.466869 \nL 267.936225 220.071408 \nL 269.275425 220.071408 \nL 269.275425 219.725957 \nL 269.945025 219.725957 \nL 269.945025 220.071408 \nL 270.614625 220.071408 \nL 270.614625 219.81232 \nL 271.284225 219.81232 \nL 271.284225 219.380506 \nL 271.953825 219.380506 \nL 271.953825 219.20778 \nL 272.623425 219.20778 \nL 272.623425 220.071408 \nL 273.962625 220.071408 \nL 273.962625 219.466869 \nL 274.632225 219.466869 \nL 274.632225 220.157771 \nL 275.301825 220.157771 \nL 275.301825 220.330496 \nL 275.971425 220.330496 \nL 275.971425 219.81232 \nL 276.641025 219.81232 \nL 276.641025 219.639594 \nL 277.310625 219.639594 \nL 277.310625 218.862329 \nL 277.980225 218.862329 \nL 277.980225 219.380506 \nL 278.649825 219.380506 \nL 278.649825 220.330496 \nL 279.319425 220.330496 \nL 279.319425 220.157771 \nL 279.989025 220.157771 \nL 279.989025 219.81232 \nL 280.658625 219.81232 \nL 280.658625 220.503222 \nL 281.328225 220.503222 \nL 281.328225 220.071408 \nL 281.997825 220.071408 \nL 281.997825 220.76231 \nL 282.667425 220.76231 \nL 282.667425 220.244134 \nL 283.337025 220.244134 \nL 283.337025 220.503222 \nL 284.006625 220.503222 \nL 284.006625 220.071408 \nL 285.345825 219.985045 \nL 285.345825 220.935036 \nL 286.015425 220.935036 \nL 286.015425 220.071408 \nL 286.685025 220.071408 \nL 286.685025 219.553231 \nL 287.354625 219.553231 \nL 287.354625 220.935036 \nL 288.024225 220.935036 \nL 288.024225 219.985045 \nL 289.363425 219.985045 \nL 289.363425 219.725957 \nL 291.372225 219.81232 \nL 291.372225 219.553231 \nL 292.041825 219.553231 \nL 292.041825 219.294143 \nL 292.711425 219.294143 \nL 292.711425 220.157771 \nL 294.050625 220.071408 \nL 294.050625 219.985045 \nL 294.720225 219.985045 \nL 294.720225 220.244134 \nL 295.389825 220.244134 \nL 295.389825 218.689603 \nL 296.059425 218.689603 \nL 296.059425 218.948692 \nL 296.729025 218.948692 \nL 296.729025 220.503222 \nL 297.398625 220.503222 \nL 297.398625 220.675948 \nL 298.737825 220.675948 \nL 298.737825 219.294143 \nL 299.407425 219.294143 \nL 299.407425 219.553231 \nL 300.077025 219.553231 \nL 300.077025 219.81232 \nL 300.746625 219.81232 \nL 300.746625 220.244134 \nL 301.416225 220.244134 \nL 301.416225 219.985045 \nL 302.085825 219.985045 \nL 302.085825 220.330496 \nL 302.755425 220.330496 \nL 302.755425 219.81232 \nL 303.425025 219.81232 \nL 303.425025 220.330496 \nL 304.764225 220.416859 \nL 304.764225 219.898683 \nL 306.103425 219.985045 \nL 306.103425 218.085064 \nL 306.773025 218.085064 \nL 306.773025 219.20778 \nL 307.442625 219.20778 \nL 307.442625 220.589585 \nL 308.112225 220.589585 \nL 308.112225 219.639594 \nL 308.781825 219.639594 \nL 308.781825 220.503222 \nL 310.121025 220.416859 \nL 310.121025 219.121417 \nL 310.790625 219.121417 \nL 310.790625 224.648636 \nL 394.490625 224.648636 \nL 394.490625 224.648636 \n\" style=\"fill:none;stroke:#ff7f0e;stroke-linejoin:miter;\"/>\n   </g>\n   <g id=\"patch_5\">\n    <path clip-path=\"url(#p74a650915e)\" d=\"M 59.690625 224.648636 \nL 59.690625 221.166488 \nL 60.360225 221.166488 \nL 60.360225 221.280487 \nL 61.029825 221.280487 \nL 61.029825 221.400244 \nL 62.369025 221.448607 \nL 62.369025 221.553394 \nL 64.377825 221.491212 \nL 64.377825 221.814785 \nL 65.717025 221.861997 \nL 65.717025 221.693877 \nL 67.056225 221.776785 \nL 67.056225 221.863148 \nL 67.725825 221.863148 \nL 67.725825 221.993268 \nL 70.404225 222.060055 \nL 70.404225 222.144115 \nL 72.413025 222.187872 \nL 72.413025 222.329507 \nL 75.091425 222.40781 \nL 75.091425 222.540233 \nL 77.769825 222.624292 \nL 77.769825 222.696837 \nL 81.117825 222.772836 \nL 81.117825 222.837321 \nL 83.796225 222.922532 \nL 83.796225 222.968592 \nL 85.805025 222.951319 \nL 85.805025 223.094106 \nL 89.822625 223.179317 \nL 89.822625 223.259923 \nL 91.831425 223.278347 \nL 91.831425 223.3958 \nL 95.849025 223.505193 \nL 95.849025 223.514405 \nL 99.866625 223.540889 \nL 99.866625 223.674464 \nL 105.893025 223.781554 \nL 105.893025 223.833371 \nL 112.589025 223.932401 \nL 112.589025 223.973855 \nL 119.954625 224.033733 \nL 119.954625 224.093611 \nL 129.329025 224.185732 \nL 129.329025 224.215671 \nL 145.399425 224.323912 \nL 145.399425 224.345791 \nL 165.487425 224.26864 \nL 165.487425 224.197247 \nL 175.531425 224.087854 \nL 175.531425 224.071733 \nL 183.566625 224.001491 \nL 183.566625 223.949673 \nL 189.593025 223.852947 \nL 189.593025 223.821856 \nL 194.949825 223.7401 \nL 194.949825 223.671009 \nL 198.967425 223.643373 \nL 198.967425 223.529374 \nL 200.306625 223.581192 \nL 200.306625 223.649131 \nL 201.645825 223.543192 \nL 201.645825 223.523617 \nL 207.672225 223.459133 \nL 207.672225 223.354346 \nL 221.064225 223.331316 \nL 221.064225 223.238044 \nL 239.143425 223.301377 \nL 239.143425 223.373921 \nL 245.169825 223.47986 \nL 245.169825 223.501738 \nL 252.535425 223.60998 \nL 252.535425 223.621495 \nL 256.553025 223.673312 \nL 256.553025 223.760827 \nL 261.909825 223.814947 \nL 261.909825 223.879432 \nL 268.605825 223.927795 \nL 268.605825 223.995734 \nL 273.293025 224.094763 \nL 273.293025 224.112035 \nL 276.641025 224.203004 \nL 276.641025 224.229489 \nL 284.676225 224.297428 \nL 284.676225 224.348094 \nL 293.381025 224.450578 \nL 293.381025 224.475911 \nL 309.451425 224.584152 \nL 309.451425 224.588758 \nL 394.490625 224.648636 \nL 394.490625 224.648636 \n\" style=\"fill:none;stroke:#2ca02c;stroke-linejoin:miter;\"/>\n   </g>\n   <g id=\"patch_6\">\n    <path d=\"M 59.690625 224.64 \nL 59.690625 7.2 \n\" style=\"fill:none;stroke:#000000;stroke-linecap:square;stroke-linejoin:miter;stroke-width:0.8;\"/>\n   </g>\n   <g id=\"patch_7\">\n    <path d=\"M 394.490625 224.64 \nL 394.490625 7.2 \n\" style=\"fill:none;stroke:#000000;stroke-linecap:square;stroke-linejoin:miter;stroke-width:0.8;\"/>\n   </g>\n   <g id=\"patch_8\">\n    <path d=\"M 59.690625 224.64 \nL 394.490625 224.64 \n\" style=\"fill:none;stroke:#000000;stroke-linecap:square;stroke-linejoin:miter;stroke-width:0.8;\"/>\n   </g>\n   <g id=\"patch_9\">\n    <path d=\"M 59.690625 7.2 \nL 394.490625 7.2 \n\" style=\"fill:none;stroke:#000000;stroke-linecap:square;stroke-linejoin:miter;stroke-width:0.8;\"/>\n   </g>\n   <g id=\"legend_1\">\n    <g id=\"patch_10\">\n     <path d=\"M 287.55 59.234375 \nL 387.490625 59.234375 \nQ 389.490625 59.234375 389.490625 57.234375 \nL 389.490625 14.2 \nQ 389.490625 12.2 387.490625 12.2 \nL 287.55 12.2 \nQ 285.55 12.2 285.55 14.2 \nL 285.55 57.234375 \nQ 285.55 59.234375 287.55 59.234375 \nz\n\" style=\"fill:#ffffff;opacity:0.8;stroke:#cccccc;stroke-linejoin:miter;\"/>\n    </g>\n    <g id=\"patch_11\">\n     <path d=\"M 289.55 23.798437 \nL 309.55 23.798437 \nL 309.55 16.798437 \nL 289.55 16.798437 \nz\n\" style=\"fill:none;stroke:#1f77b4;stroke-linejoin:miter;\"/>\n    </g>\n    <g id=\"text_18\">\n     <!-- Experiment A -->\n     <g transform=\"translate(317.55 23.798437)scale(0.1 -0.1)\">\n      <defs>\n       <path d=\"M 54.890625 54.6875 \nL 35.109375 28.078125 \nL 55.90625 0 \nL 45.3125 0 \nL 29.390625 21.484375 \nL 13.484375 0 \nL 2.875 0 \nL 24.125 28.609375 \nL 4.6875 54.6875 \nL 15.28125 54.6875 \nL 29.78125 35.203125 \nL 44.28125 54.6875 \nz\n\" id=\"DejaVuSans-120\"/>\n       <path d=\"M 18.109375 8.203125 \nL 18.109375 -20.796875 \nL 9.078125 -20.796875 \nL 9.078125 54.6875 \nL 18.109375 54.6875 \nL 18.109375 46.390625 \nQ 20.953125 51.265625 25.265625 53.625 \nQ 29.59375 56 35.59375 56 \nQ 45.5625 56 51.78125 48.09375 \nQ 58.015625 40.1875 58.015625 27.296875 \nQ 58.015625 14.40625 51.78125 6.484375 \nQ 45.5625 -1.421875 35.59375 -1.421875 \nQ 29.59375 -1.421875 25.265625 0.953125 \nQ 20.953125 3.328125 18.109375 8.203125 \nz\nM 48.6875 27.296875 \nQ 48.6875 37.203125 44.609375 42.84375 \nQ 40.53125 48.484375 33.40625 48.484375 \nQ 26.265625 48.484375 22.1875 42.84375 \nQ 18.109375 37.203125 18.109375 27.296875 \nQ 18.109375 17.390625 22.1875 11.75 \nQ 26.265625 6.109375 33.40625 6.109375 \nQ 40.53125 6.109375 44.609375 11.75 \nQ 48.6875 17.390625 48.6875 27.296875 \nz\n\" id=\"DejaVuSans-112\"/>\n       <path d=\"M 9.421875 54.6875 \nL 18.40625 54.6875 \nL 18.40625 0 \nL 9.421875 0 \nz\nM 9.421875 75.984375 \nL 18.40625 75.984375 \nL 18.40625 64.59375 \nL 9.421875 64.59375 \nz\n\" id=\"DejaVuSans-105\"/>\n       <path d=\"M 52 44.1875 \nQ 55.375 50.25 60.0625 53.125 \nQ 64.75 56 71.09375 56 \nQ 79.640625 56 84.28125 50.015625 \nQ 88.921875 44.046875 88.921875 33.015625 \nL 88.921875 0 \nL 79.890625 0 \nL 79.890625 32.71875 \nQ 79.890625 40.578125 77.09375 44.375 \nQ 74.3125 48.1875 68.609375 48.1875 \nQ 61.625 48.1875 57.5625 43.546875 \nQ 53.515625 38.921875 53.515625 30.90625 \nL 53.515625 0 \nL 44.484375 0 \nL 44.484375 32.71875 \nQ 44.484375 40.625 41.703125 44.40625 \nQ 38.921875 48.1875 33.109375 48.1875 \nQ 26.21875 48.1875 22.15625 43.53125 \nQ 18.109375 38.875 18.109375 30.90625 \nL 18.109375 0 \nL 9.078125 0 \nL 9.078125 54.6875 \nL 18.109375 54.6875 \nL 18.109375 46.1875 \nQ 21.1875 51.21875 25.484375 53.609375 \nQ 29.78125 56 35.6875 56 \nQ 41.65625 56 45.828125 52.96875 \nQ 50 49.953125 52 44.1875 \nz\n\" id=\"DejaVuSans-109\"/>\n       <path d=\"M 34.1875 63.1875 \nL 20.796875 26.90625 \nL 47.609375 26.90625 \nz\nM 28.609375 72.90625 \nL 39.796875 72.90625 \nL 67.578125 0 \nL 57.328125 0 \nL 50.6875 18.703125 \nL 17.828125 18.703125 \nL 11.1875 0 \nL 0.78125 0 \nz\n\" id=\"DejaVuSans-65\"/>\n      </defs>\n      <use xlink:href=\"#DejaVuSans-69\"/>\n      <use x=\"63.183594\" xlink:href=\"#DejaVuSans-120\"/>\n      <use x=\"122.363281\" xlink:href=\"#DejaVuSans-112\"/>\n      <use x=\"185.839844\" xlink:href=\"#DejaVuSans-101\"/>\n      <use x=\"247.363281\" xlink:href=\"#DejaVuSans-114\"/>\n      <use x=\"288.476562\" xlink:href=\"#DejaVuSans-105\"/>\n      <use x=\"316.259766\" xlink:href=\"#DejaVuSans-109\"/>\n      <use x=\"413.671875\" xlink:href=\"#DejaVuSans-101\"/>\n      <use x=\"475.195312\" xlink:href=\"#DejaVuSans-110\"/>\n      <use x=\"538.574219\" xlink:href=\"#DejaVuSans-116\"/>\n      <use x=\"577.783203\" xlink:href=\"#DejaVuSans-32\"/>\n      <use x=\"609.570312\" xlink:href=\"#DejaVuSans-65\"/>\n     </g>\n    </g>\n    <g id=\"patch_12\">\n     <path d=\"M 289.55 38.476562 \nL 309.55 38.476562 \nL 309.55 31.476562 \nL 289.55 31.476562 \nz\n\" style=\"fill:none;stroke:#ff7f0e;stroke-linejoin:miter;\"/>\n    </g>\n    <g id=\"text_19\">\n     <!-- Experiment B -->\n     <g transform=\"translate(317.55 38.476562)scale(0.1 -0.1)\">\n      <defs>\n       <path d=\"M 19.671875 34.8125 \nL 19.671875 8.109375 \nL 35.5 8.109375 \nQ 43.453125 8.109375 47.28125 11.40625 \nQ 51.125 14.703125 51.125 21.484375 \nQ 51.125 28.328125 47.28125 31.5625 \nQ 43.453125 34.8125 35.5 34.8125 \nz\nM 19.671875 64.796875 \nL 19.671875 42.828125 \nL 34.28125 42.828125 \nQ 41.5 42.828125 45.03125 45.53125 \nQ 48.578125 48.25 48.578125 53.8125 \nQ 48.578125 59.328125 45.03125 62.0625 \nQ 41.5 64.796875 34.28125 64.796875 \nz\nM 9.8125 72.90625 \nL 35.015625 72.90625 \nQ 46.296875 72.90625 52.390625 68.21875 \nQ 58.5 63.53125 58.5 54.890625 \nQ 58.5 48.1875 55.375 44.234375 \nQ 52.25 40.28125 46.1875 39.3125 \nQ 53.46875 37.75 57.5 32.78125 \nQ 61.53125 27.828125 61.53125 20.40625 \nQ 61.53125 10.640625 54.890625 5.3125 \nQ 48.25 0 35.984375 0 \nL 9.8125 0 \nz\n\" id=\"DejaVuSans-66\"/>\n      </defs>\n      <use xlink:href=\"#DejaVuSans-69\"/>\n      <use x=\"63.183594\" xlink:href=\"#DejaVuSans-120\"/>\n      <use x=\"122.363281\" xlink:href=\"#DejaVuSans-112\"/>\n      <use x=\"185.839844\" xlink:href=\"#DejaVuSans-101\"/>\n      <use x=\"247.363281\" xlink:href=\"#DejaVuSans-114\"/>\n      <use x=\"288.476562\" xlink:href=\"#DejaVuSans-105\"/>\n      <use x=\"316.259766\" xlink:href=\"#DejaVuSans-109\"/>\n      <use x=\"413.671875\" xlink:href=\"#DejaVuSans-101\"/>\n      <use x=\"475.195312\" xlink:href=\"#DejaVuSans-110\"/>\n      <use x=\"538.574219\" xlink:href=\"#DejaVuSans-116\"/>\n      <use x=\"577.783203\" xlink:href=\"#DejaVuSans-32\"/>\n      <use x=\"609.570312\" xlink:href=\"#DejaVuSans-66\"/>\n     </g>\n    </g>\n    <g id=\"patch_13\">\n     <path d=\"M 289.55 53.154687 \nL 309.55 53.154687 \nL 309.55 46.154687 \nL 289.55 46.154687 \nz\n\" style=\"fill:none;stroke:#2ca02c;stroke-linejoin:miter;\"/>\n    </g>\n    <g id=\"text_20\">\n     <!-- Experiment C -->\n     <g transform=\"translate(317.55 53.154687)scale(0.1 -0.1)\">\n      <use xlink:href=\"#DejaVuSans-69\"/>\n      <use x=\"63.183594\" xlink:href=\"#DejaVuSans-120\"/>\n      <use x=\"122.363281\" xlink:href=\"#DejaVuSans-112\"/>\n      <use x=\"185.839844\" xlink:href=\"#DejaVuSans-101\"/>\n      <use x=\"247.363281\" xlink:href=\"#DejaVuSans-114\"/>\n      <use x=\"288.476562\" xlink:href=\"#DejaVuSans-105\"/>\n      <use x=\"316.259766\" xlink:href=\"#DejaVuSans-109\"/>\n      <use x=\"413.671875\" xlink:href=\"#DejaVuSans-101\"/>\n      <use x=\"475.195312\" xlink:href=\"#DejaVuSans-110\"/>\n      <use x=\"538.574219\" xlink:href=\"#DejaVuSans-116\"/>\n      <use x=\"577.783203\" xlink:href=\"#DejaVuSans-32\"/>\n      <use x=\"609.570312\" xlink:href=\"#DejaVuSans-67\"/>\n     </g>\n    </g>\n   </g>\n  </g>\n </g>\n <defs>\n  <clipPath id=\"p74a650915e\">\n   <rect height=\"217.44\" width=\"334.8\" x=\"59.690625\" y=\"7.2\"/>\n  </clipPath>\n </defs>\n</svg>\n",
          "text/plain": "<Figure size 432x288 with 1 Axes>"
         },
         "metadata": {
          "needs_background": "light"
         },
         "output_type": "display_data"
        }
       ]
      }
     },
     "5a8deea337a24ab98f1db7eb3e4b87b2": {
      "model_module": "@jupyter-widgets/base",
      "model_module_version": "1.2.0",
      "model_name": "LayoutModel",
      "state": {}
     },
     "5aa5fe7033d84e41a2c1573dcbfa906a": {
      "model_module": "@jupyter-widgets/controls",
      "model_module_version": "1.5.0",
      "model_name": "CheckboxModel",
      "state": {
       "description": "Plot Experiment A",
       "disabled": false,
       "layout": "IPY_MODEL_3e5fd10fcaae402bb53d8f511f08ac95",
       "style": "IPY_MODEL_69cf06c478f04eb4b30e1fd3b3cbae9d",
       "value": true
      }
     },
     "5aaace05efe748fab6d9d7b03c1b0312": {
      "model_module": "@jupyter-widgets/output",
      "model_module_version": "1.0.0",
      "model_name": "OutputModel",
      "state": {
       "layout": "IPY_MODEL_872114a588fb466e9a940a169698780c",
       "outputs": [
        {
         "data": {
          "image/svg+xml": "<?xml version=\"1.0\" encoding=\"utf-8\" standalone=\"no\"?>\n<!DOCTYPE svg PUBLIC \"-//W3C//DTD SVG 1.1//EN\"\n  \"http://www.w3.org/Graphics/SVG/1.1/DTD/svg11.dtd\">\n<!-- Created with matplotlib (https://matplotlib.org/) -->\n<svg height=\"265.995469pt\" version=\"1.1\" viewBox=\"0 0 412.823438 265.995469\" width=\"412.823438pt\" xmlns=\"http://www.w3.org/2000/svg\" xmlns:xlink=\"http://www.w3.org/1999/xlink\">\n <metadata>\n  <rdf:RDF xmlns:cc=\"http://creativecommons.org/ns#\" xmlns:dc=\"http://purl.org/dc/elements/1.1/\" xmlns:rdf=\"http://www.w3.org/1999/02/22-rdf-syntax-ns#\">\n   <cc:Work>\n    <dc:type rdf:resource=\"http://purl.org/dc/dcmitype/StillImage\"/>\n    <dc:date>2021-06-09T01:42:06.184122</dc:date>\n    <dc:format>image/svg+xml</dc:format>\n    <dc:creator>\n     <cc:Agent>\n      <dc:title>Matplotlib v3.3.3, https://matplotlib.org/</dc:title>\n     </cc:Agent>\n    </dc:creator>\n   </cc:Work>\n  </rdf:RDF>\n </metadata>\n <defs>\n  <style type=\"text/css\">*{stroke-linecap:butt;stroke-linejoin:round;}</style>\n </defs>\n <g id=\"figure_1\">\n  <g id=\"patch_1\">\n   <path d=\"M 0 265.995469 \nL 412.823438 265.995469 \nL 412.823438 0 \nL 0 0 \nz\n\" style=\"fill:none;\"/>\n  </g>\n  <g id=\"axes_1\">\n   <g id=\"patch_2\">\n    <path d=\"M 59.690625 228.439219 \nL 394.490625 228.439219 \nL 394.490625 10.999219 \nL 59.690625 10.999219 \nz\n\" style=\"fill:#ffffff;\"/>\n   </g>\n   <g id=\"matplotlib.axis_1\">\n    <g id=\"xtick_1\">\n     <g id=\"line2d_1\">\n      <defs>\n       <path d=\"M 0 0 \nL 0 3.5 \n\" id=\"mf10570261e\" style=\"stroke:#000000;stroke-width:0.8;\"/>\n      </defs>\n      <g>\n       <use style=\"stroke:#000000;stroke-width:0.8;\" x=\"59.690625\" xlink:href=\"#mf10570261e\" y=\"228.439219\"/>\n      </g>\n     </g>\n     <g id=\"text_1\">\n      <!-- 0.0 -->\n      <g transform=\"translate(51.739063 243.037656)scale(0.1 -0.1)\">\n       <defs>\n        <path d=\"M 31.78125 66.40625 \nQ 24.171875 66.40625 20.328125 58.90625 \nQ 16.5 51.421875 16.5 36.375 \nQ 16.5 21.390625 20.328125 13.890625 \nQ 24.171875 6.390625 31.78125 6.390625 \nQ 39.453125 6.390625 43.28125 13.890625 \nQ 47.125 21.390625 47.125 36.375 \nQ 47.125 51.421875 43.28125 58.90625 \nQ 39.453125 66.40625 31.78125 66.40625 \nz\nM 31.78125 74.21875 \nQ 44.046875 74.21875 50.515625 64.515625 \nQ 56.984375 54.828125 56.984375 36.375 \nQ 56.984375 17.96875 50.515625 8.265625 \nQ 44.046875 -1.421875 31.78125 -1.421875 \nQ 19.53125 -1.421875 13.0625 8.265625 \nQ 6.59375 17.96875 6.59375 36.375 \nQ 6.59375 54.828125 13.0625 64.515625 \nQ 19.53125 74.21875 31.78125 74.21875 \nz\n\" id=\"DejaVuSans-48\"/>\n        <path d=\"M 10.6875 12.40625 \nL 21 12.40625 \nL 21 0 \nL 10.6875 0 \nz\n\" id=\"DejaVuSans-46\"/>\n       </defs>\n       <use xlink:href=\"#DejaVuSans-48\"/>\n       <use x=\"63.623047\" xlink:href=\"#DejaVuSans-46\"/>\n       <use x=\"95.410156\" xlink:href=\"#DejaVuSans-48\"/>\n      </g>\n     </g>\n    </g>\n    <g id=\"xtick_2\">\n     <g id=\"line2d_2\">\n      <g>\n       <use style=\"stroke:#000000;stroke-width:0.8;\" x=\"101.540625\" xlink:href=\"#mf10570261e\" y=\"228.439219\"/>\n      </g>\n     </g>\n     <g id=\"text_2\">\n      <!-- 2.5 -->\n      <g transform=\"translate(93.589063 243.037656)scale(0.1 -0.1)\">\n       <defs>\n        <path d=\"M 19.1875 8.296875 \nL 53.609375 8.296875 \nL 53.609375 0 \nL 7.328125 0 \nL 7.328125 8.296875 \nQ 12.9375 14.109375 22.625 23.890625 \nQ 32.328125 33.6875 34.8125 36.53125 \nQ 39.546875 41.84375 41.421875 45.53125 \nQ 43.3125 49.21875 43.3125 52.78125 \nQ 43.3125 58.59375 39.234375 62.25 \nQ 35.15625 65.921875 28.609375 65.921875 \nQ 23.96875 65.921875 18.8125 64.3125 \nQ 13.671875 62.703125 7.8125 59.421875 \nL 7.8125 69.390625 \nQ 13.765625 71.78125 18.9375 73 \nQ 24.125 74.21875 28.421875 74.21875 \nQ 39.75 74.21875 46.484375 68.546875 \nQ 53.21875 62.890625 53.21875 53.421875 \nQ 53.21875 48.921875 51.53125 44.890625 \nQ 49.859375 40.875 45.40625 35.40625 \nQ 44.1875 33.984375 37.640625 27.21875 \nQ 31.109375 20.453125 19.1875 8.296875 \nz\n\" id=\"DejaVuSans-50\"/>\n        <path d=\"M 10.796875 72.90625 \nL 49.515625 72.90625 \nL 49.515625 64.59375 \nL 19.828125 64.59375 \nL 19.828125 46.734375 \nQ 21.96875 47.46875 24.109375 47.828125 \nQ 26.265625 48.1875 28.421875 48.1875 \nQ 40.625 48.1875 47.75 41.5 \nQ 54.890625 34.8125 54.890625 23.390625 \nQ 54.890625 11.625 47.5625 5.09375 \nQ 40.234375 -1.421875 26.90625 -1.421875 \nQ 22.3125 -1.421875 17.546875 -0.640625 \nQ 12.796875 0.140625 7.71875 1.703125 \nL 7.71875 11.625 \nQ 12.109375 9.234375 16.796875 8.0625 \nQ 21.484375 6.890625 26.703125 6.890625 \nQ 35.15625 6.890625 40.078125 11.328125 \nQ 45.015625 15.765625 45.015625 23.390625 \nQ 45.015625 31 40.078125 35.4375 \nQ 35.15625 39.890625 26.703125 39.890625 \nQ 22.75 39.890625 18.8125 39.015625 \nQ 14.890625 38.140625 10.796875 36.28125 \nz\n\" id=\"DejaVuSans-53\"/>\n       </defs>\n       <use xlink:href=\"#DejaVuSans-50\"/>\n       <use x=\"63.623047\" xlink:href=\"#DejaVuSans-46\"/>\n       <use x=\"95.410156\" xlink:href=\"#DejaVuSans-53\"/>\n      </g>\n     </g>\n    </g>\n    <g id=\"xtick_3\">\n     <g id=\"line2d_3\">\n      <g>\n       <use style=\"stroke:#000000;stroke-width:0.8;\" x=\"143.390625\" xlink:href=\"#mf10570261e\" y=\"228.439219\"/>\n      </g>\n     </g>\n     <g id=\"text_3\">\n      <!-- 5.0 -->\n      <g transform=\"translate(135.439063 243.037656)scale(0.1 -0.1)\">\n       <use xlink:href=\"#DejaVuSans-53\"/>\n       <use x=\"63.623047\" xlink:href=\"#DejaVuSans-46\"/>\n       <use x=\"95.410156\" xlink:href=\"#DejaVuSans-48\"/>\n      </g>\n     </g>\n    </g>\n    <g id=\"xtick_4\">\n     <g id=\"line2d_4\">\n      <g>\n       <use style=\"stroke:#000000;stroke-width:0.8;\" x=\"185.240625\" xlink:href=\"#mf10570261e\" y=\"228.439219\"/>\n      </g>\n     </g>\n     <g id=\"text_4\">\n      <!-- 7.5 -->\n      <g transform=\"translate(177.289063 243.037656)scale(0.1 -0.1)\">\n       <defs>\n        <path d=\"M 8.203125 72.90625 \nL 55.078125 72.90625 \nL 55.078125 68.703125 \nL 28.609375 0 \nL 18.3125 0 \nL 43.21875 64.59375 \nL 8.203125 64.59375 \nz\n\" id=\"DejaVuSans-55\"/>\n       </defs>\n       <use xlink:href=\"#DejaVuSans-55\"/>\n       <use x=\"63.623047\" xlink:href=\"#DejaVuSans-46\"/>\n       <use x=\"95.410156\" xlink:href=\"#DejaVuSans-53\"/>\n      </g>\n     </g>\n    </g>\n    <g id=\"xtick_5\">\n     <g id=\"line2d_5\">\n      <g>\n       <use style=\"stroke:#000000;stroke-width:0.8;\" x=\"227.090625\" xlink:href=\"#mf10570261e\" y=\"228.439219\"/>\n      </g>\n     </g>\n     <g id=\"text_5\">\n      <!-- 10.0 -->\n      <g transform=\"translate(215.957813 243.037656)scale(0.1 -0.1)\">\n       <defs>\n        <path d=\"M 12.40625 8.296875 \nL 28.515625 8.296875 \nL 28.515625 63.921875 \nL 10.984375 60.40625 \nL 10.984375 69.390625 \nL 28.421875 72.90625 \nL 38.28125 72.90625 \nL 38.28125 8.296875 \nL 54.390625 8.296875 \nL 54.390625 0 \nL 12.40625 0 \nz\n\" id=\"DejaVuSans-49\"/>\n       </defs>\n       <use xlink:href=\"#DejaVuSans-49\"/>\n       <use x=\"63.623047\" xlink:href=\"#DejaVuSans-48\"/>\n       <use x=\"127.246094\" xlink:href=\"#DejaVuSans-46\"/>\n       <use x=\"159.033203\" xlink:href=\"#DejaVuSans-48\"/>\n      </g>\n     </g>\n    </g>\n    <g id=\"xtick_6\">\n     <g id=\"line2d_6\">\n      <g>\n       <use style=\"stroke:#000000;stroke-width:0.8;\" x=\"268.940625\" xlink:href=\"#mf10570261e\" y=\"228.439219\"/>\n      </g>\n     </g>\n     <g id=\"text_6\">\n      <!-- 12.5 -->\n      <g transform=\"translate(257.807813 243.037656)scale(0.1 -0.1)\">\n       <use xlink:href=\"#DejaVuSans-49\"/>\n       <use x=\"63.623047\" xlink:href=\"#DejaVuSans-50\"/>\n       <use x=\"127.246094\" xlink:href=\"#DejaVuSans-46\"/>\n       <use x=\"159.033203\" xlink:href=\"#DejaVuSans-53\"/>\n      </g>\n     </g>\n    </g>\n    <g id=\"xtick_7\">\n     <g id=\"line2d_7\">\n      <g>\n       <use style=\"stroke:#000000;stroke-width:0.8;\" x=\"310.790625\" xlink:href=\"#mf10570261e\" y=\"228.439219\"/>\n      </g>\n     </g>\n     <g id=\"text_7\">\n      <!-- 15.0 -->\n      <g transform=\"translate(299.657813 243.037656)scale(0.1 -0.1)\">\n       <use xlink:href=\"#DejaVuSans-49\"/>\n       <use x=\"63.623047\" xlink:href=\"#DejaVuSans-53\"/>\n       <use x=\"127.246094\" xlink:href=\"#DejaVuSans-46\"/>\n       <use x=\"159.033203\" xlink:href=\"#DejaVuSans-48\"/>\n      </g>\n     </g>\n    </g>\n    <g id=\"xtick_8\">\n     <g id=\"line2d_8\">\n      <g>\n       <use style=\"stroke:#000000;stroke-width:0.8;\" x=\"352.640625\" xlink:href=\"#mf10570261e\" y=\"228.439219\"/>\n      </g>\n     </g>\n     <g id=\"text_8\">\n      <!-- 17.5 -->\n      <g transform=\"translate(341.507813 243.037656)scale(0.1 -0.1)\">\n       <use xlink:href=\"#DejaVuSans-49\"/>\n       <use x=\"63.623047\" xlink:href=\"#DejaVuSans-55\"/>\n       <use x=\"127.246094\" xlink:href=\"#DejaVuSans-46\"/>\n       <use x=\"159.033203\" xlink:href=\"#DejaVuSans-53\"/>\n      </g>\n     </g>\n    </g>\n    <g id=\"xtick_9\">\n     <g id=\"line2d_9\">\n      <g>\n       <use style=\"stroke:#000000;stroke-width:0.8;\" x=\"394.490625\" xlink:href=\"#mf10570261e\" y=\"228.439219\"/>\n      </g>\n     </g>\n     <g id=\"text_9\">\n      <!-- 20.0 -->\n      <g transform=\"translate(383.357813 243.037656)scale(0.1 -0.1)\">\n       <use xlink:href=\"#DejaVuSans-50\"/>\n       <use x=\"63.623047\" xlink:href=\"#DejaVuSans-48\"/>\n       <use x=\"127.246094\" xlink:href=\"#DejaVuSans-46\"/>\n       <use x=\"159.033203\" xlink:href=\"#DejaVuSans-48\"/>\n      </g>\n     </g>\n    </g>\n    <g id=\"text_10\">\n     <!-- Energy (keV) -->\n     <g transform=\"translate(194.882812 256.715781)scale(0.1 -0.1)\">\n      <defs>\n       <path d=\"M 9.8125 72.90625 \nL 55.90625 72.90625 \nL 55.90625 64.59375 \nL 19.671875 64.59375 \nL 19.671875 43.015625 \nL 54.390625 43.015625 \nL 54.390625 34.71875 \nL 19.671875 34.71875 \nL 19.671875 8.296875 \nL 56.78125 8.296875 \nL 56.78125 0 \nL 9.8125 0 \nz\n\" id=\"DejaVuSans-69\"/>\n       <path d=\"M 54.890625 33.015625 \nL 54.890625 0 \nL 45.90625 0 \nL 45.90625 32.71875 \nQ 45.90625 40.484375 42.875 44.328125 \nQ 39.84375 48.1875 33.796875 48.1875 \nQ 26.515625 48.1875 22.3125 43.546875 \nQ 18.109375 38.921875 18.109375 30.90625 \nL 18.109375 0 \nL 9.078125 0 \nL 9.078125 54.6875 \nL 18.109375 54.6875 \nL 18.109375 46.1875 \nQ 21.34375 51.125 25.703125 53.5625 \nQ 30.078125 56 35.796875 56 \nQ 45.21875 56 50.046875 50.171875 \nQ 54.890625 44.34375 54.890625 33.015625 \nz\n\" id=\"DejaVuSans-110\"/>\n       <path d=\"M 56.203125 29.59375 \nL 56.203125 25.203125 \nL 14.890625 25.203125 \nQ 15.484375 15.921875 20.484375 11.0625 \nQ 25.484375 6.203125 34.421875 6.203125 \nQ 39.59375 6.203125 44.453125 7.46875 \nQ 49.3125 8.734375 54.109375 11.28125 \nL 54.109375 2.78125 \nQ 49.265625 0.734375 44.1875 -0.34375 \nQ 39.109375 -1.421875 33.890625 -1.421875 \nQ 20.796875 -1.421875 13.15625 6.1875 \nQ 5.515625 13.8125 5.515625 26.8125 \nQ 5.515625 40.234375 12.765625 48.109375 \nQ 20.015625 56 32.328125 56 \nQ 43.359375 56 49.78125 48.890625 \nQ 56.203125 41.796875 56.203125 29.59375 \nz\nM 47.21875 32.234375 \nQ 47.125 39.59375 43.09375 43.984375 \nQ 39.0625 48.390625 32.421875 48.390625 \nQ 24.90625 48.390625 20.390625 44.140625 \nQ 15.875 39.890625 15.1875 32.171875 \nz\n\" id=\"DejaVuSans-101\"/>\n       <path d=\"M 41.109375 46.296875 \nQ 39.59375 47.171875 37.8125 47.578125 \nQ 36.03125 48 33.890625 48 \nQ 26.265625 48 22.1875 43.046875 \nQ 18.109375 38.09375 18.109375 28.8125 \nL 18.109375 0 \nL 9.078125 0 \nL 9.078125 54.6875 \nL 18.109375 54.6875 \nL 18.109375 46.1875 \nQ 20.953125 51.171875 25.484375 53.578125 \nQ 30.03125 56 36.53125 56 \nQ 37.453125 56 38.578125 55.875 \nQ 39.703125 55.765625 41.0625 55.515625 \nz\n\" id=\"DejaVuSans-114\"/>\n       <path d=\"M 45.40625 27.984375 \nQ 45.40625 37.75 41.375 43.109375 \nQ 37.359375 48.484375 30.078125 48.484375 \nQ 22.859375 48.484375 18.828125 43.109375 \nQ 14.796875 37.75 14.796875 27.984375 \nQ 14.796875 18.265625 18.828125 12.890625 \nQ 22.859375 7.515625 30.078125 7.515625 \nQ 37.359375 7.515625 41.375 12.890625 \nQ 45.40625 18.265625 45.40625 27.984375 \nz\nM 54.390625 6.78125 \nQ 54.390625 -7.171875 48.1875 -13.984375 \nQ 42 -20.796875 29.203125 -20.796875 \nQ 24.46875 -20.796875 20.265625 -20.09375 \nQ 16.0625 -19.390625 12.109375 -17.921875 \nL 12.109375 -9.1875 \nQ 16.0625 -11.328125 19.921875 -12.34375 \nQ 23.78125 -13.375 27.78125 -13.375 \nQ 36.625 -13.375 41.015625 -8.765625 \nQ 45.40625 -4.15625 45.40625 5.171875 \nL 45.40625 9.625 \nQ 42.625 4.78125 38.28125 2.390625 \nQ 33.9375 0 27.875 0 \nQ 17.828125 0 11.671875 7.65625 \nQ 5.515625 15.328125 5.515625 27.984375 \nQ 5.515625 40.671875 11.671875 48.328125 \nQ 17.828125 56 27.875 56 \nQ 33.9375 56 38.28125 53.609375 \nQ 42.625 51.21875 45.40625 46.390625 \nL 45.40625 54.6875 \nL 54.390625 54.6875 \nz\n\" id=\"DejaVuSans-103\"/>\n       <path d=\"M 32.171875 -5.078125 \nQ 28.375 -14.84375 24.75 -17.8125 \nQ 21.140625 -20.796875 15.09375 -20.796875 \nL 7.90625 -20.796875 \nL 7.90625 -13.28125 \nL 13.1875 -13.28125 \nQ 16.890625 -13.28125 18.9375 -11.515625 \nQ 21 -9.765625 23.484375 -3.21875 \nL 25.09375 0.875 \nL 2.984375 54.6875 \nL 12.5 54.6875 \nL 29.59375 11.921875 \nL 46.6875 54.6875 \nL 56.203125 54.6875 \nz\n\" id=\"DejaVuSans-121\"/>\n       <path id=\"DejaVuSans-32\"/>\n       <path d=\"M 31 75.875 \nQ 24.46875 64.65625 21.28125 53.65625 \nQ 18.109375 42.671875 18.109375 31.390625 \nQ 18.109375 20.125 21.3125 9.0625 \nQ 24.515625 -2 31 -13.1875 \nL 23.1875 -13.1875 \nQ 15.875 -1.703125 12.234375 9.375 \nQ 8.59375 20.453125 8.59375 31.390625 \nQ 8.59375 42.28125 12.203125 53.3125 \nQ 15.828125 64.359375 23.1875 75.875 \nz\n\" id=\"DejaVuSans-40\"/>\n       <path d=\"M 9.078125 75.984375 \nL 18.109375 75.984375 \nL 18.109375 31.109375 \nL 44.921875 54.6875 \nL 56.390625 54.6875 \nL 27.390625 29.109375 \nL 57.625 0 \nL 45.90625 0 \nL 18.109375 26.703125 \nL 18.109375 0 \nL 9.078125 0 \nz\n\" id=\"DejaVuSans-107\"/>\n       <path d=\"M 28.609375 0 \nL 0.78125 72.90625 \nL 11.078125 72.90625 \nL 34.1875 11.53125 \nL 57.328125 72.90625 \nL 67.578125 72.90625 \nL 39.796875 0 \nz\n\" id=\"DejaVuSans-86\"/>\n       <path d=\"M 8.015625 75.875 \nL 15.828125 75.875 \nQ 23.140625 64.359375 26.78125 53.3125 \nQ 30.421875 42.28125 30.421875 31.390625 \nQ 30.421875 20.453125 26.78125 9.375 \nQ 23.140625 -1.703125 15.828125 -13.1875 \nL 8.015625 -13.1875 \nQ 14.5 -2 17.703125 9.0625 \nQ 20.90625 20.125 20.90625 31.390625 \nQ 20.90625 42.671875 17.703125 53.65625 \nQ 14.5 64.65625 8.015625 75.875 \nz\n\" id=\"DejaVuSans-41\"/>\n      </defs>\n      <use xlink:href=\"#DejaVuSans-69\"/>\n      <use x=\"63.183594\" xlink:href=\"#DejaVuSans-110\"/>\n      <use x=\"126.5625\" xlink:href=\"#DejaVuSans-101\"/>\n      <use x=\"188.085938\" xlink:href=\"#DejaVuSans-114\"/>\n      <use x=\"227.449219\" xlink:href=\"#DejaVuSans-103\"/>\n      <use x=\"290.925781\" xlink:href=\"#DejaVuSans-121\"/>\n      <use x=\"350.105469\" xlink:href=\"#DejaVuSans-32\"/>\n      <use x=\"381.892578\" xlink:href=\"#DejaVuSans-40\"/>\n      <use x=\"420.90625\" xlink:href=\"#DejaVuSans-107\"/>\n      <use x=\"475.191406\" xlink:href=\"#DejaVuSans-101\"/>\n      <use x=\"536.714844\" xlink:href=\"#DejaVuSans-86\"/>\n      <use x=\"605.123047\" xlink:href=\"#DejaVuSans-41\"/>\n     </g>\n    </g>\n   </g>\n   <g id=\"matplotlib.axis_2\">\n    <g id=\"ytick_1\">\n     <g id=\"line2d_10\">\n      <defs>\n       <path d=\"M 0 0 \nL -3.5 0 \n\" id=\"m4196989493\" style=\"stroke:#000000;stroke-width:0.8;\"/>\n      </defs>\n      <g>\n       <use style=\"stroke:#000000;stroke-width:0.8;\" x=\"59.690625\" xlink:href=\"#m4196989493\" y=\"184.959917\"/>\n      </g>\n     </g>\n     <g id=\"text_11\">\n      <!-- 2000 -->\n      <g transform=\"translate(27.240625 188.759136)scale(0.1 -0.1)\">\n       <use xlink:href=\"#DejaVuSans-50\"/>\n       <use x=\"63.623047\" xlink:href=\"#DejaVuSans-48\"/>\n       <use x=\"127.246094\" xlink:href=\"#DejaVuSans-48\"/>\n       <use x=\"190.869141\" xlink:href=\"#DejaVuSans-48\"/>\n      </g>\n     </g>\n    </g>\n    <g id=\"ytick_2\">\n     <g id=\"line2d_11\">\n      <g>\n       <use style=\"stroke:#000000;stroke-width:0.8;\" x=\"59.690625\" xlink:href=\"#m4196989493\" y=\"141.469742\"/>\n      </g>\n     </g>\n     <g id=\"text_12\">\n      <!-- 4000 -->\n      <g transform=\"translate(27.240625 145.268961)scale(0.1 -0.1)\">\n       <defs>\n        <path d=\"M 37.796875 64.3125 \nL 12.890625 25.390625 \nL 37.796875 25.390625 \nz\nM 35.203125 72.90625 \nL 47.609375 72.90625 \nL 47.609375 25.390625 \nL 58.015625 25.390625 \nL 58.015625 17.1875 \nL 47.609375 17.1875 \nL 47.609375 0 \nL 37.796875 0 \nL 37.796875 17.1875 \nL 4.890625 17.1875 \nL 4.890625 26.703125 \nz\n\" id=\"DejaVuSans-52\"/>\n       </defs>\n       <use xlink:href=\"#DejaVuSans-52\"/>\n       <use x=\"63.623047\" xlink:href=\"#DejaVuSans-48\"/>\n       <use x=\"127.246094\" xlink:href=\"#DejaVuSans-48\"/>\n       <use x=\"190.869141\" xlink:href=\"#DejaVuSans-48\"/>\n      </g>\n     </g>\n    </g>\n    <g id=\"ytick_3\">\n     <g id=\"line2d_12\">\n      <g>\n       <use style=\"stroke:#000000;stroke-width:0.8;\" x=\"59.690625\" xlink:href=\"#m4196989493\" y=\"97.979568\"/>\n      </g>\n     </g>\n     <g id=\"text_13\">\n      <!-- 6000 -->\n      <g transform=\"translate(27.240625 101.778787)scale(0.1 -0.1)\">\n       <defs>\n        <path d=\"M 33.015625 40.375 \nQ 26.375 40.375 22.484375 35.828125 \nQ 18.609375 31.296875 18.609375 23.390625 \nQ 18.609375 15.53125 22.484375 10.953125 \nQ 26.375 6.390625 33.015625 6.390625 \nQ 39.65625 6.390625 43.53125 10.953125 \nQ 47.40625 15.53125 47.40625 23.390625 \nQ 47.40625 31.296875 43.53125 35.828125 \nQ 39.65625 40.375 33.015625 40.375 \nz\nM 52.59375 71.296875 \nL 52.59375 62.3125 \nQ 48.875 64.0625 45.09375 64.984375 \nQ 41.3125 65.921875 37.59375 65.921875 \nQ 27.828125 65.921875 22.671875 59.328125 \nQ 17.53125 52.734375 16.796875 39.40625 \nQ 19.671875 43.65625 24.015625 45.921875 \nQ 28.375 48.1875 33.59375 48.1875 \nQ 44.578125 48.1875 50.953125 41.515625 \nQ 57.328125 34.859375 57.328125 23.390625 \nQ 57.328125 12.15625 50.6875 5.359375 \nQ 44.046875 -1.421875 33.015625 -1.421875 \nQ 20.359375 -1.421875 13.671875 8.265625 \nQ 6.984375 17.96875 6.984375 36.375 \nQ 6.984375 53.65625 15.1875 63.9375 \nQ 23.390625 74.21875 37.203125 74.21875 \nQ 40.921875 74.21875 44.703125 73.484375 \nQ 48.484375 72.75 52.59375 71.296875 \nz\n\" id=\"DejaVuSans-54\"/>\n       </defs>\n       <use xlink:href=\"#DejaVuSans-54\"/>\n       <use x=\"63.623047\" xlink:href=\"#DejaVuSans-48\"/>\n       <use x=\"127.246094\" xlink:href=\"#DejaVuSans-48\"/>\n       <use x=\"190.869141\" xlink:href=\"#DejaVuSans-48\"/>\n      </g>\n     </g>\n    </g>\n    <g id=\"ytick_4\">\n     <g id=\"line2d_13\">\n      <g>\n       <use style=\"stroke:#000000;stroke-width:0.8;\" x=\"59.690625\" xlink:href=\"#m4196989493\" y=\"54.489393\"/>\n      </g>\n     </g>\n     <g id=\"text_14\">\n      <!-- 8000 -->\n      <g transform=\"translate(27.240625 58.288612)scale(0.1 -0.1)\">\n       <defs>\n        <path d=\"M 31.78125 34.625 \nQ 24.75 34.625 20.71875 30.859375 \nQ 16.703125 27.09375 16.703125 20.515625 \nQ 16.703125 13.921875 20.71875 10.15625 \nQ 24.75 6.390625 31.78125 6.390625 \nQ 38.8125 6.390625 42.859375 10.171875 \nQ 46.921875 13.96875 46.921875 20.515625 \nQ 46.921875 27.09375 42.890625 30.859375 \nQ 38.875 34.625 31.78125 34.625 \nz\nM 21.921875 38.8125 \nQ 15.578125 40.375 12.03125 44.71875 \nQ 8.5 49.078125 8.5 55.328125 \nQ 8.5 64.0625 14.71875 69.140625 \nQ 20.953125 74.21875 31.78125 74.21875 \nQ 42.671875 74.21875 48.875 69.140625 \nQ 55.078125 64.0625 55.078125 55.328125 \nQ 55.078125 49.078125 51.53125 44.71875 \nQ 48 40.375 41.703125 38.8125 \nQ 48.828125 37.15625 52.796875 32.3125 \nQ 56.78125 27.484375 56.78125 20.515625 \nQ 56.78125 9.90625 50.3125 4.234375 \nQ 43.84375 -1.421875 31.78125 -1.421875 \nQ 19.734375 -1.421875 13.25 4.234375 \nQ 6.78125 9.90625 6.78125 20.515625 \nQ 6.78125 27.484375 10.78125 32.3125 \nQ 14.796875 37.15625 21.921875 38.8125 \nz\nM 18.3125 54.390625 \nQ 18.3125 48.734375 21.84375 45.5625 \nQ 25.390625 42.390625 31.78125 42.390625 \nQ 38.140625 42.390625 41.71875 45.5625 \nQ 45.3125 48.734375 45.3125 54.390625 \nQ 45.3125 60.0625 41.71875 63.234375 \nQ 38.140625 66.40625 31.78125 66.40625 \nQ 25.390625 66.40625 21.84375 63.234375 \nQ 18.3125 60.0625 18.3125 54.390625 \nz\n\" id=\"DejaVuSans-56\"/>\n       </defs>\n       <use xlink:href=\"#DejaVuSans-56\"/>\n       <use x=\"63.623047\" xlink:href=\"#DejaVuSans-48\"/>\n       <use x=\"127.246094\" xlink:href=\"#DejaVuSans-48\"/>\n       <use x=\"190.869141\" xlink:href=\"#DejaVuSans-48\"/>\n      </g>\n     </g>\n    </g>\n    <g id=\"ytick_5\">\n     <g id=\"line2d_14\">\n      <g>\n       <use style=\"stroke:#000000;stroke-width:0.8;\" x=\"59.690625\" xlink:href=\"#m4196989493\" y=\"10.999219\"/>\n      </g>\n     </g>\n     <g id=\"text_15\">\n      <!-- 10000 -->\n      <g transform=\"translate(20.878125 14.798437)scale(0.1 -0.1)\">\n       <use xlink:href=\"#DejaVuSans-49\"/>\n       <use x=\"63.623047\" xlink:href=\"#DejaVuSans-48\"/>\n       <use x=\"127.246094\" xlink:href=\"#DejaVuSans-48\"/>\n       <use x=\"190.869141\" xlink:href=\"#DejaVuSans-48\"/>\n       <use x=\"254.492188\" xlink:href=\"#DejaVuSans-48\"/>\n      </g>\n     </g>\n    </g>\n    <g id=\"text_16\">\n     <!-- Counts / (40.0 eV kg days) -->\n     <g transform=\"translate(14.798438 186.205156)rotate(-90)scale(0.1 -0.1)\">\n      <defs>\n       <path d=\"M 64.40625 67.28125 \nL 64.40625 56.890625 \nQ 59.421875 61.53125 53.78125 63.8125 \nQ 48.140625 66.109375 41.796875 66.109375 \nQ 29.296875 66.109375 22.65625 58.46875 \nQ 16.015625 50.828125 16.015625 36.375 \nQ 16.015625 21.96875 22.65625 14.328125 \nQ 29.296875 6.6875 41.796875 6.6875 \nQ 48.140625 6.6875 53.78125 8.984375 \nQ 59.421875 11.28125 64.40625 15.921875 \nL 64.40625 5.609375 \nQ 59.234375 2.09375 53.4375 0.328125 \nQ 47.65625 -1.421875 41.21875 -1.421875 \nQ 24.65625 -1.421875 15.125 8.703125 \nQ 5.609375 18.84375 5.609375 36.375 \nQ 5.609375 53.953125 15.125 64.078125 \nQ 24.65625 74.21875 41.21875 74.21875 \nQ 47.75 74.21875 53.53125 72.484375 \nQ 59.328125 70.75 64.40625 67.28125 \nz\n\" id=\"DejaVuSans-67\"/>\n       <path d=\"M 30.609375 48.390625 \nQ 23.390625 48.390625 19.1875 42.75 \nQ 14.984375 37.109375 14.984375 27.296875 \nQ 14.984375 17.484375 19.15625 11.84375 \nQ 23.34375 6.203125 30.609375 6.203125 \nQ 37.796875 6.203125 41.984375 11.859375 \nQ 46.1875 17.53125 46.1875 27.296875 \nQ 46.1875 37.015625 41.984375 42.703125 \nQ 37.796875 48.390625 30.609375 48.390625 \nz\nM 30.609375 56 \nQ 42.328125 56 49.015625 48.375 \nQ 55.71875 40.765625 55.71875 27.296875 \nQ 55.71875 13.875 49.015625 6.21875 \nQ 42.328125 -1.421875 30.609375 -1.421875 \nQ 18.84375 -1.421875 12.171875 6.21875 \nQ 5.515625 13.875 5.515625 27.296875 \nQ 5.515625 40.765625 12.171875 48.375 \nQ 18.84375 56 30.609375 56 \nz\n\" id=\"DejaVuSans-111\"/>\n       <path d=\"M 8.5 21.578125 \nL 8.5 54.6875 \nL 17.484375 54.6875 \nL 17.484375 21.921875 \nQ 17.484375 14.15625 20.5 10.265625 \nQ 23.53125 6.390625 29.59375 6.390625 \nQ 36.859375 6.390625 41.078125 11.03125 \nQ 45.3125 15.671875 45.3125 23.6875 \nL 45.3125 54.6875 \nL 54.296875 54.6875 \nL 54.296875 0 \nL 45.3125 0 \nL 45.3125 8.40625 \nQ 42.046875 3.421875 37.71875 1 \nQ 33.40625 -1.421875 27.6875 -1.421875 \nQ 18.265625 -1.421875 13.375 4.4375 \nQ 8.5 10.296875 8.5 21.578125 \nz\nM 31.109375 56 \nz\n\" id=\"DejaVuSans-117\"/>\n       <path d=\"M 18.3125 70.21875 \nL 18.3125 54.6875 \nL 36.8125 54.6875 \nL 36.8125 47.703125 \nL 18.3125 47.703125 \nL 18.3125 18.015625 \nQ 18.3125 11.328125 20.140625 9.421875 \nQ 21.96875 7.515625 27.59375 7.515625 \nL 36.8125 7.515625 \nL 36.8125 0 \nL 27.59375 0 \nQ 17.1875 0 13.234375 3.875 \nQ 9.28125 7.765625 9.28125 18.015625 \nL 9.28125 47.703125 \nL 2.6875 47.703125 \nL 2.6875 54.6875 \nL 9.28125 54.6875 \nL 9.28125 70.21875 \nz\n\" id=\"DejaVuSans-116\"/>\n       <path d=\"M 44.28125 53.078125 \nL 44.28125 44.578125 \nQ 40.484375 46.53125 36.375 47.5 \nQ 32.28125 48.484375 27.875 48.484375 \nQ 21.1875 48.484375 17.84375 46.4375 \nQ 14.5 44.390625 14.5 40.28125 \nQ 14.5 37.15625 16.890625 35.375 \nQ 19.28125 33.59375 26.515625 31.984375 \nL 29.59375 31.296875 \nQ 39.15625 29.25 43.1875 25.515625 \nQ 47.21875 21.78125 47.21875 15.09375 \nQ 47.21875 7.46875 41.1875 3.015625 \nQ 35.15625 -1.421875 24.609375 -1.421875 \nQ 20.21875 -1.421875 15.453125 -0.5625 \nQ 10.6875 0.296875 5.421875 2 \nL 5.421875 11.28125 \nQ 10.40625 8.6875 15.234375 7.390625 \nQ 20.0625 6.109375 24.8125 6.109375 \nQ 31.15625 6.109375 34.5625 8.28125 \nQ 37.984375 10.453125 37.984375 14.40625 \nQ 37.984375 18.0625 35.515625 20.015625 \nQ 33.0625 21.96875 24.703125 23.78125 \nL 21.578125 24.515625 \nQ 13.234375 26.265625 9.515625 29.90625 \nQ 5.8125 33.546875 5.8125 39.890625 \nQ 5.8125 47.609375 11.28125 51.796875 \nQ 16.75 56 26.8125 56 \nQ 31.78125 56 36.171875 55.265625 \nQ 40.578125 54.546875 44.28125 53.078125 \nz\n\" id=\"DejaVuSans-115\"/>\n       <path d=\"M 25.390625 72.90625 \nL 33.6875 72.90625 \nL 8.296875 -9.28125 \nL 0 -9.28125 \nz\n\" id=\"DejaVuSans-47\"/>\n       <path d=\"M 45.40625 46.390625 \nL 45.40625 75.984375 \nL 54.390625 75.984375 \nL 54.390625 0 \nL 45.40625 0 \nL 45.40625 8.203125 \nQ 42.578125 3.328125 38.25 0.953125 \nQ 33.9375 -1.421875 27.875 -1.421875 \nQ 17.96875 -1.421875 11.734375 6.484375 \nQ 5.515625 14.40625 5.515625 27.296875 \nQ 5.515625 40.1875 11.734375 48.09375 \nQ 17.96875 56 27.875 56 \nQ 33.9375 56 38.25 53.625 \nQ 42.578125 51.265625 45.40625 46.390625 \nz\nM 14.796875 27.296875 \nQ 14.796875 17.390625 18.875 11.75 \nQ 22.953125 6.109375 30.078125 6.109375 \nQ 37.203125 6.109375 41.296875 11.75 \nQ 45.40625 17.390625 45.40625 27.296875 \nQ 45.40625 37.203125 41.296875 42.84375 \nQ 37.203125 48.484375 30.078125 48.484375 \nQ 22.953125 48.484375 18.875 42.84375 \nQ 14.796875 37.203125 14.796875 27.296875 \nz\n\" id=\"DejaVuSans-100\"/>\n       <path d=\"M 34.28125 27.484375 \nQ 23.390625 27.484375 19.1875 25 \nQ 14.984375 22.515625 14.984375 16.5 \nQ 14.984375 11.71875 18.140625 8.90625 \nQ 21.296875 6.109375 26.703125 6.109375 \nQ 34.1875 6.109375 38.703125 11.40625 \nQ 43.21875 16.703125 43.21875 25.484375 \nL 43.21875 27.484375 \nz\nM 52.203125 31.203125 \nL 52.203125 0 \nL 43.21875 0 \nL 43.21875 8.296875 \nQ 40.140625 3.328125 35.546875 0.953125 \nQ 30.953125 -1.421875 24.3125 -1.421875 \nQ 15.921875 -1.421875 10.953125 3.296875 \nQ 6 8.015625 6 15.921875 \nQ 6 25.140625 12.171875 29.828125 \nQ 18.359375 34.515625 30.609375 34.515625 \nL 43.21875 34.515625 \nL 43.21875 35.40625 \nQ 43.21875 41.609375 39.140625 45 \nQ 35.0625 48.390625 27.6875 48.390625 \nQ 23 48.390625 18.546875 47.265625 \nQ 14.109375 46.140625 10.015625 43.890625 \nL 10.015625 52.203125 \nQ 14.9375 54.109375 19.578125 55.046875 \nQ 24.21875 56 28.609375 56 \nQ 40.484375 56 46.34375 49.84375 \nQ 52.203125 43.703125 52.203125 31.203125 \nz\n\" id=\"DejaVuSans-97\"/>\n      </defs>\n      <use xlink:href=\"#DejaVuSans-67\"/>\n      <use x=\"69.824219\" xlink:href=\"#DejaVuSans-111\"/>\n      <use x=\"131.005859\" xlink:href=\"#DejaVuSans-117\"/>\n      <use x=\"194.384766\" xlink:href=\"#DejaVuSans-110\"/>\n      <use x=\"257.763672\" xlink:href=\"#DejaVuSans-116\"/>\n      <use x=\"296.972656\" xlink:href=\"#DejaVuSans-115\"/>\n      <use x=\"349.072266\" xlink:href=\"#DejaVuSans-32\"/>\n      <use x=\"380.859375\" xlink:href=\"#DejaVuSans-47\"/>\n      <use x=\"414.550781\" xlink:href=\"#DejaVuSans-32\"/>\n      <use x=\"446.337891\" xlink:href=\"#DejaVuSans-40\"/>\n      <use x=\"485.351562\" xlink:href=\"#DejaVuSans-52\"/>\n      <use x=\"548.974609\" xlink:href=\"#DejaVuSans-48\"/>\n      <use x=\"612.597656\" xlink:href=\"#DejaVuSans-46\"/>\n      <use x=\"644.384766\" xlink:href=\"#DejaVuSans-48\"/>\n      <use x=\"708.007812\" xlink:href=\"#DejaVuSans-32\"/>\n      <use x=\"739.794922\" xlink:href=\"#DejaVuSans-101\"/>\n      <use x=\"801.318359\" xlink:href=\"#DejaVuSans-86\"/>\n      <use x=\"869.726562\" xlink:href=\"#DejaVuSans-32\"/>\n      <use x=\"901.513672\" xlink:href=\"#DejaVuSans-107\"/>\n      <use x=\"959.423828\" xlink:href=\"#DejaVuSans-103\"/>\n      <use x=\"1022.900391\" xlink:href=\"#DejaVuSans-32\"/>\n      <use x=\"1054.6875\" xlink:href=\"#DejaVuSans-100\"/>\n      <use x=\"1118.164062\" xlink:href=\"#DejaVuSans-97\"/>\n      <use x=\"1179.443359\" xlink:href=\"#DejaVuSans-121\"/>\n      <use x=\"1238.623047\" xlink:href=\"#DejaVuSans-115\"/>\n      <use x=\"1290.722656\" xlink:href=\"#DejaVuSans-41\"/>\n     </g>\n    </g>\n   </g>\n   <g id=\"patch_3\">\n    <path clip-path=\"url(#p8755f86c15)\" d=\"M 59.690625 228.450091 \nL 59.690625 143.448545 \nL 60.360225 143.448545 \nL 60.360225 148.776092 \nL 61.029825 148.776092 \nL 61.029825 150.493953 \nL 61.699425 150.493953 \nL 61.699425 152.472756 \nL 62.369025 152.472756 \nL 62.369025 155.125657 \nL 63.038625 155.125657 \nL 63.038625 158.887557 \nL 63.708225 158.887557 \nL 63.708225 160.040047 \nL 64.377825 160.040047 \nL 64.377825 161.301262 \nL 65.047425 161.301262 \nL 65.047425 166.97673 \nL 65.717025 166.97673 \nL 65.717025 169.259964 \nL 66.386625 169.259964 \nL 66.386625 170.499434 \nL 67.056225 170.499434 \nL 67.056225 174.609255 \nL 67.725825 174.609255 \nL 67.725825 177.414372 \nL 69.065025 177.305646 \nL 69.065025 181.284997 \nL 69.734625 181.284997 \nL 69.734625 180.589154 \nL 70.404225 180.589154 \nL 70.404225 183.002859 \nL 71.073825 183.002859 \nL 71.073825 187.134426 \nL 71.743425 187.134426 \nL 71.743425 187.373621 \nL 72.413025 187.373621 \nL 72.413025 188.439131 \nL 73.082625 188.439131 \nL 73.082625 189.917797 \nL 73.752225 189.917797 \nL 73.752225 192.940364 \nL 74.421825 192.940364 \nL 74.421825 193.201305 \nL 75.091425 193.201305 \nL 75.091425 195.332323 \nL 75.761025 195.332323 \nL 75.761025 195.767225 \nL 76.430625 195.767225 \nL 76.430625 197.137166 \nL 77.100225 197.137166 \nL 77.100225 198.615832 \nL 77.769825 198.615832 \nL 77.769825 198.876773 \nL 78.439425 198.876773 \nL 78.439425 200.333693 \nL 79.109025 200.333693 \nL 79.109025 202.051555 \nL 79.778625 202.051555 \nL 79.778625 202.464712 \nL 80.448225 202.464712 \nL 80.448225 203.660692 \nL 81.117825 203.660692 \nL 81.117825 202.421222 \nL 81.787425 202.421222 \nL 81.787425 204.356535 \nL 82.457025 204.356535 \nL 82.457025 206.726749 \nL 83.126625 206.726749 \nL 83.126625 207.879239 \nL 83.796225 207.879239 \nL 83.796225 208.335886 \nL 84.465825 208.335886 \nL 84.465825 208.596827 \nL 85.135425 208.596827 \nL 85.135425 210.466904 \nL 85.805025 210.466904 \nL 85.805025 209.749316 \nL 86.474625 209.749316 \nL 86.474625 210.901806 \nL 87.144225 210.901806 \nL 87.144225 212.576178 \nL 87.813825 212.576178 \nL 87.813825 212.858864 \nL 88.483425 212.858864 \nL 88.483425 213.076315 \nL 89.153025 213.076315 \nL 89.153025 212.163021 \nL 89.822625 212.163021 \nL 89.822625 214.554981 \nL 90.492225 214.554981 \nL 90.492225 215.229078 \nL 91.161825 215.229078 \nL 91.161825 215.555255 \nL 91.831425 215.555255 \nL 91.831425 215.163843 \nL 92.501025 215.163843 \nL 92.501025 216.120627 \nL 93.170625 216.120627 \nL 93.170625 216.772979 \nL 93.840225 216.772979 \nL 93.840225 217.403587 \nL 94.509825 217.403587 \nL 94.509825 218.164665 \nL 95.179425 218.164665 \nL 95.179425 217.990704 \nL 95.849025 217.990704 \nL 95.849025 218.947488 \nL 96.518625 218.947488 \nL 96.518625 219.3389 \nL 97.188225 219.3389 \nL 97.188225 219.947762 \nL 97.857825 219.947762 \nL 97.857825 219.491115 \nL 98.527425 219.491115 \nL 98.527425 219.969507 \nL 99.197025 219.969507 \nL 99.197025 220.70884 \nL 99.866625 220.70884 \nL 99.866625 220.57837 \nL 100.536225 220.57837 \nL 100.536225 221.361193 \nL 101.205825 221.361193 \nL 101.205825 221.752604 \nL 101.875425 221.752604 \nL 101.875425 222.035291 \nL 103.214625 221.94831 \nL 103.214625 222.317977 \nL 105.223425 222.274487 \nL 105.223425 222.926839 \nL 106.562625 222.883349 \nL 106.562625 223.14429 \nL 107.232225 223.14429 \nL 107.232225 223.992348 \nL 107.901825 223.992348 \nL 107.901825 224.188054 \nL 108.571425 224.188054 \nL 108.571425 223.796643 \nL 109.910625 223.687917 \nL 109.910625 224.775172 \nL 110.580225 224.775172 \nL 110.580225 224.492485 \nL 111.919425 224.514231 \nL 111.919425 224.29678 \nL 112.589025 224.29678 \nL 112.589025 224.579466 \nL 113.258625 224.579466 \nL 113.258625 224.818662 \nL 113.928225 224.818662 \nL 113.928225 225.101348 \nL 114.597825 225.101348 \nL 114.597825 224.731681 \nL 115.267425 224.731681 \nL 115.267425 225.340544 \nL 116.606625 225.253563 \nL 116.606625 225.53625 \nL 117.276225 225.53625 \nL 117.276225 225.66672 \nL 118.615425 225.601485 \nL 118.615425 225.992896 \nL 120.624225 225.884171 \nL 120.624225 226.232092 \nL 121.293825 226.232092 \nL 121.293825 226.493033 \nL 121.963425 226.493033 \nL 121.963425 225.949406 \nL 122.633025 225.949406 \nL 122.633025 226.514779 \nL 123.302625 226.514779 \nL 123.302625 226.340818 \nL 123.972225 226.340818 \nL 123.972225 226.471288 \nL 124.641825 226.471288 \nL 124.641825 227.014916 \nL 125.311425 227.014916 \nL 125.311425 226.840955 \nL 125.981025 226.840955 \nL 125.981025 227.014916 \nL 126.650625 227.014916 \nL 126.650625 226.732229 \nL 127.320225 226.732229 \nL 127.320225 227.080151 \nL 129.329025 227.080151 \nL 129.329025 226.8627 \nL 129.998625 226.8627 \nL 129.998625 227.210621 \nL 130.668225 227.210621 \nL 130.668225 226.710484 \nL 131.337825 226.710484 \nL 131.337825 226.94968 \nL 132.007425 226.94968 \nL 132.007425 226.77572 \nL 132.677025 226.77572 \nL 132.677025 226.166857 \nL 133.346625 226.166857 \nL 133.346625 224.29678 \nL 134.016225 224.29678 \nL 134.016225 222.622408 \nL 134.685825 222.622408 \nL 134.685825 219.3389 \nL 135.355425 219.3389 \nL 135.355425 215.511764 \nL 136.025025 215.511764 \nL 136.025025 208.09669 \nL 136.694625 208.09669 \nL 136.694625 198.920263 \nL 137.364225 198.920263 \nL 137.364225 186.89523 \nL 138.033825 186.89523 \nL 138.033825 169.694866 \nL 138.703425 169.694866 \nL 138.703425 152.429266 \nL 139.373025 152.429266 \nL 139.373025 133.206609 \nL 140.042625 133.206609 \nL 140.042625 112.896698 \nL 140.712225 112.896698 \nL 140.712225 91.586512 \nL 141.381825 91.586512 \nL 141.381825 75.625618 \nL 142.051425 75.625618 \nL 142.051425 61.773997 \nL 142.721025 61.773997 \nL 142.721025 59.164587 \nL 143.390625 59.164587 \nL 143.390625 52.771531 \nL 144.060225 52.771531 \nL 144.060225 63.339644 \nL 144.729825 63.339644 \nL 144.729825 72.624796 \nL 145.399425 72.624796 \nL 145.399425 93.934982 \nL 146.069025 93.934982 \nL 146.069025 113.309854 \nL 146.738625 113.309854 \nL 146.738625 131.836669 \nL 147.408225 131.836669 \nL 147.408225 153.603501 \nL 148.077825 153.603501 \nL 148.077825 171.108296 \nL 148.747425 171.108296 \nL 148.747425 186.808249 \nL 149.417025 186.808249 \nL 149.417025 200.377184 \nL 150.086625 200.377184 \nL 150.086625 209.096964 \nL 150.756225 209.096964 \nL 150.756225 215.446529 \nL 151.425825 215.446529 \nL 151.425825 220.143468 \nL 152.095425 220.143468 \nL 152.095425 223.753152 \nL 152.765025 223.753152 \nL 152.765025 224.862152 \nL 153.434625 224.862152 \nL 153.434625 226.99317 \nL 154.104225 226.99317 \nL 154.104225 227.384582 \nL 154.773825 227.384582 \nL 154.773825 227.797739 \nL 155.443425 227.797739 \nL 155.443425 227.993444 \nL 156.113025 227.993444 \nL 156.113025 228.123915 \nL 158.121825 228.123915 \nL 158.121825 228.254386 \nL 168.165825 228.363111 \nL 168.165825 228.384856 \nL 394.490625 228.450091 \nL 394.490625 228.450091 \n\" style=\"fill:none;stroke:#1f77b4;stroke-linejoin:miter;\"/>\n   </g>\n   <g id=\"patch_4\">\n    <path clip-path=\"url(#p8755f86c15)\" d=\"M 59.690625 228.450091 \nL 59.690625 -1 \nM 65.047425 -1 \nL 65.047425 3.170987 \nL 65.717025 3.170987 \nL 65.717025 19.262352 \nL 66.386625 19.262352 \nL 66.386625 33.614109 \nL 67.056225 33.614109 \nL 67.056225 56.881353 \nL 67.725825 56.881353 \nL 67.725825 65.361937 \nL 68.395425 65.361937 \nL 68.395425 68.732425 \nL 69.065025 68.732425 \nL 69.065025 84.388888 \nL 69.734625 84.388888 \nL 69.734625 104.068192 \nL 70.404225 104.068192 \nL 70.404225 105.372897 \nL 71.073825 105.372897 \nL 71.073825 108.634661 \nL 71.743425 108.634661 \nL 71.743425 128.313964 \nL 72.413025 128.313964 \nL 72.413025 133.750236 \nL 73.082625 133.750236 \nL 73.082625 137.120725 \nL 73.752225 137.120725 \nL 73.752225 145.601309 \nL 74.421825 145.601309 \nL 74.421825 148.863072 \nL 75.091425 148.863072 \nL 75.091425 158.974538 \nL 75.761025 158.974538 \nL 75.761025 160.170517 \nL 76.430625 160.170517 \nL 76.430625 167.02022 \nL 77.100225 167.02022 \nL 77.100225 178.21894 \nL 77.769825 178.21894 \nL 77.769825 170.173257 \nL 78.439425 170.173257 \nL 78.439425 177.892763 \nL 79.109025 177.892763 \nL 79.109025 178.980018 \nL 79.778625 178.980018 \nL 79.778625 187.569327 \nL 80.448225 187.569327 \nL 80.448225 186.047171 \nL 81.117825 186.047171 \nL 81.117825 189.308934 \nL 81.787425 189.308934 \nL 81.787425 194.745206 \nL 82.457025 194.745206 \nL 82.457025 193.984128 \nL 83.126625 193.984128 \nL 83.126625 199.311674 \nL 84.465825 199.202949 \nL 84.465825 203.443241 \nL 85.135425 203.443241 \nL 85.135425 204.204319 \nL 85.805025 204.204319 \nL 85.805025 203.443241 \nL 86.474625 203.443241 \nL 86.474625 206.705004 \nL 87.144225 206.705004 \nL 87.144225 205.61775 \nL 87.813825 205.61775 \nL 87.813825 210.292943 \nL 88.483425 210.292943 \nL 88.483425 213.554707 \nL 89.153025 213.554707 \nL 89.153025 208.662062 \nL 89.822625 208.662062 \nL 89.822625 214.315785 \nL 90.492225 214.315785 \nL 90.492225 210.510394 \nL 91.161825 210.510394 \nL 91.161825 213.772157 \nL 91.831425 213.772157 \nL 91.831425 212.250001 \nL 92.501025 212.250001 \nL 92.501025 210.945296 \nL 93.170625 210.945296 \nL 93.170625 216.599019 \nL 93.840225 216.599019 \nL 93.840225 214.968137 \nL 95.179425 214.968137 \nL 95.179425 217.794999 \nL 97.857825 217.686273 \nL 97.857825 217.360097 \nL 98.527425 217.360097 \nL 98.527425 218.556077 \nL 99.866625 218.556077 \nL 99.866625 221.056762 \nL 101.875425 221.056762 \nL 101.875425 220.295684 \nL 102.545025 220.295684 \nL 102.545025 219.534606 \nL 103.214625 219.534606 \nL 103.214625 220.62186 \nL 103.884225 220.62186 \nL 103.884225 221.81784 \nL 105.223425 221.81784 \nL 105.223425 219.42588 \nL 105.893025 219.42588 \nL 105.893025 220.404409 \nL 106.562625 220.404409 \nL 106.562625 221.491663 \nL 107.232225 221.491663 \nL 107.232225 222.470192 \nL 107.901825 222.470192 \nL 107.901825 222.687643 \nL 108.571425 222.687643 \nL 108.571425 221.491663 \nL 109.241025 221.491663 \nL 109.241025 220.948036 \nL 109.910625 220.948036 \nL 109.910625 221.81784 \nL 111.249825 221.926565 \nL 111.249825 221.491663 \nL 111.919425 221.491663 \nL 111.919425 222.905094 \nL 112.589025 222.905094 \nL 112.589025 221.600389 \nL 113.258625 221.600389 \nL 113.258625 223.339996 \nL 113.928225 223.339996 \nL 113.928225 222.905094 \nL 114.597825 222.905094 \nL 114.597825 221.81784 \nL 115.267425 221.81784 \nL 115.267425 221.491663 \nL 115.937025 221.491663 \nL 115.937025 222.578918 \nL 116.606625 222.578918 \nL 116.606625 223.23127 \nL 117.276225 223.23127 \nL 117.276225 221.926565 \nL 117.945825 221.926565 \nL 117.945825 223.666172 \nL 118.615425 223.666172 \nL 118.615425 221.926565 \nL 119.285025 221.926565 \nL 119.285025 222.144016 \nL 119.954625 222.144016 \nL 119.954625 223.23127 \nL 120.624225 223.23127 \nL 120.624225 222.144016 \nL 121.963425 222.144016 \nL 121.963425 221.382938 \nL 122.633025 221.382938 \nL 122.633025 222.905094 \nL 123.302625 222.905094 \nL 123.302625 222.578918 \nL 123.972225 222.578918 \nL 123.972225 223.23127 \nL 124.641825 223.23127 \nL 124.641825 222.905094 \nL 125.311425 222.905094 \nL 125.311425 222.470192 \nL 126.650625 222.361467 \nL 126.650625 221.926565 \nL 127.320225 221.926565 \nL 127.320225 222.687643 \nL 127.989825 222.687643 \nL 127.989825 223.23127 \nL 128.659425 223.23127 \nL 128.659425 222.361467 \nL 129.998625 222.361467 \nL 129.998625 220.404409 \nL 130.668225 220.404409 \nL 130.668225 222.796369 \nL 131.337825 222.796369 \nL 131.337825 221.600389 \nL 132.007425 221.600389 \nL 132.007425 223.122545 \nL 133.346625 223.013819 \nL 133.346625 222.687643 \nL 134.016225 222.687643 \nL 134.016225 222.905094 \nL 135.355425 223.013819 \nL 135.355425 221.926565 \nL 136.025025 221.926565 \nL 136.025025 222.578918 \nL 137.364225 222.687643 \nL 137.364225 223.448721 \nL 138.033825 223.448721 \nL 138.033825 221.709114 \nL 138.703425 221.709114 \nL 138.703425 223.23127 \nL 139.373025 223.23127 \nL 139.373025 222.687643 \nL 140.042625 222.687643 \nL 140.042625 221.926565 \nL 140.712225 221.926565 \nL 140.712225 222.796369 \nL 141.381825 222.796369 \nL 141.381825 222.470192 \nL 142.051425 222.470192 \nL 142.051425 223.122545 \nL 142.721025 223.122545 \nL 142.721025 222.035291 \nL 143.390625 222.035291 \nL 143.390625 221.709114 \nL 144.060225 221.709114 \nL 144.060225 222.144016 \nL 144.729825 222.144016 \nL 144.729825 222.905094 \nL 145.399425 222.905094 \nL 145.399425 220.62186 \nL 146.069025 220.62186 \nL 146.069025 222.578918 \nL 146.738625 222.578918 \nL 146.738625 222.035291 \nL 147.408225 222.035291 \nL 147.408225 223.013819 \nL 148.077825 223.013819 \nL 148.077825 222.687643 \nL 148.747425 222.687643 \nL 148.747425 224.209799 \nL 149.417025 224.209799 \nL 149.417025 223.122545 \nL 150.086625 223.122545 \nL 150.086625 222.578918 \nL 150.756225 222.578918 \nL 150.756225 223.122545 \nL 151.425825 223.122545 \nL 151.425825 221.709114 \nL 152.095425 221.709114 \nL 152.095425 221.274212 \nL 152.765025 221.274212 \nL 152.765025 222.905094 \nL 153.434625 222.905094 \nL 153.434625 222.144016 \nL 154.104225 222.144016 \nL 154.104225 224.209799 \nL 154.773825 224.209799 \nL 154.773825 222.470192 \nL 155.443425 222.470192 \nL 155.443425 224.318525 \nL 156.113025 224.318525 \nL 156.113025 221.056762 \nL 156.782625 221.056762 \nL 156.782625 223.557447 \nL 157.452225 223.557447 \nL 157.452225 221.491663 \nL 158.121825 221.491663 \nL 158.121825 222.035291 \nL 158.791425 222.035291 \nL 158.791425 223.774898 \nL 159.461025 223.774898 \nL 159.461025 224.42725 \nL 160.130625 224.42725 \nL 160.130625 221.491663 \nL 160.800225 221.491663 \nL 160.800225 223.339996 \nL 161.469825 223.339996 \nL 161.469825 222.905094 \nL 162.139425 222.905094 \nL 162.139425 220.839311 \nL 162.809025 220.839311 \nL 162.809025 222.796369 \nL 164.817825 222.796369 \nL 164.817825 222.144016 \nL 165.487425 222.144016 \nL 165.487425 223.883623 \nL 166.157025 223.883623 \nL 166.157025 222.687643 \nL 166.826625 222.687643 \nL 166.826625 221.382938 \nL 167.496225 221.382938 \nL 167.496225 223.883623 \nL 168.165825 223.883623 \nL 168.165825 222.470192 \nL 168.835425 222.470192 \nL 168.835425 221.709114 \nL 169.505025 221.709114 \nL 169.505025 220.62186 \nL 170.174625 220.62186 \nL 170.174625 221.274212 \nL 170.844225 221.274212 \nL 170.844225 222.361467 \nL 171.513825 222.361467 \nL 171.513825 221.81784 \nL 172.853025 221.709114 \nL 172.853025 223.23127 \nL 173.522625 223.23127 \nL 173.522625 223.013819 \nL 174.192225 223.013819 \nL 174.192225 220.186958 \nL 174.861825 220.186958 \nL 174.861825 223.774898 \nL 175.531425 223.774898 \nL 175.531425 222.035291 \nL 176.201025 222.035291 \nL 176.201025 222.578918 \nL 176.870625 222.578918 \nL 176.870625 221.81784 \nL 177.540225 221.81784 \nL 177.540225 222.796369 \nL 178.209825 222.796369 \nL 178.209825 222.361467 \nL 178.879425 222.361467 \nL 178.879425 221.926565 \nL 180.218625 221.81784 \nL 180.218625 224.862152 \nL 180.888225 224.862152 \nL 180.888225 223.23127 \nL 182.227425 223.122545 \nL 182.227425 222.796369 \nL 182.897025 222.796369 \nL 182.897025 223.23127 \nL 183.566625 223.23127 \nL 183.566625 222.687643 \nL 184.236225 222.687643 \nL 184.236225 224.101074 \nL 184.905825 224.101074 \nL 184.905825 223.23127 \nL 185.575425 223.23127 \nL 185.575425 222.578918 \nL 186.245025 222.578918 \nL 186.245025 223.557447 \nL 186.914625 223.557447 \nL 186.914625 222.144016 \nL 187.584225 222.144016 \nL 187.584225 223.557447 \nL 188.253825 223.557447 \nL 188.253825 222.252741 \nL 188.923425 222.252741 \nL 188.923425 224.970877 \nL 189.593025 224.970877 \nL 189.593025 223.122545 \nL 190.932225 223.122545 \nL 190.932225 222.470192 \nL 191.601825 222.470192 \nL 191.601825 222.252741 \nL 192.271425 222.252741 \nL 192.271425 221.382938 \nL 192.941025 221.382938 \nL 192.941025 222.144016 \nL 193.610625 222.144016 \nL 193.610625 223.992348 \nL 194.280225 223.992348 \nL 194.280225 222.687643 \nL 194.949825 222.687643 \nL 194.949825 223.774898 \nL 196.958625 223.774898 \nL 196.958625 223.557447 \nL 197.628225 223.557447 \nL 197.628225 221.709114 \nL 198.297825 221.709114 \nL 198.297825 222.578918 \nL 198.967425 222.578918 \nL 198.967425 222.035291 \nL 199.637025 222.035291 \nL 199.637025 222.361467 \nL 201.645825 222.470192 \nL 201.645825 223.883623 \nL 202.315425 223.883623 \nL 202.315425 222.905094 \nL 203.654625 222.796369 \nL 203.654625 222.252741 \nL 204.324225 222.252741 \nL 204.324225 222.687643 \nL 204.993825 222.687643 \nL 204.993825 223.448721 \nL 205.663425 223.448721 \nL 205.663425 223.666172 \nL 206.333025 223.666172 \nL 206.333025 223.23127 \nL 207.002625 223.23127 \nL 207.002625 221.926565 \nL 207.672225 221.926565 \nL 207.672225 223.557447 \nL 208.341825 223.557447 \nL 208.341825 222.035291 \nL 209.681025 222.144016 \nL 209.681025 222.687643 \nL 210.350625 222.687643 \nL 210.350625 220.186958 \nL 211.020225 220.186958 \nL 211.020225 222.035291 \nL 211.689825 222.035291 \nL 211.689825 222.687643 \nL 212.359425 222.687643 \nL 212.359425 223.557447 \nL 213.029025 223.557447 \nL 213.029025 221.709114 \nL 213.698625 221.709114 \nL 213.698625 222.252741 \nL 214.368225 222.252741 \nL 214.368225 221.382938 \nL 215.037825 221.382938 \nL 215.037825 222.578918 \nL 215.707425 222.578918 \nL 215.707425 222.144016 \nL 216.377025 222.144016 \nL 216.377025 223.883623 \nL 217.046625 223.883623 \nL 217.046625 222.144016 \nL 217.716225 222.144016 \nL 217.716225 223.122545 \nL 218.385825 223.122545 \nL 218.385825 222.905094 \nL 219.055425 222.905094 \nL 219.055425 223.557447 \nL 219.725025 223.557447 \nL 219.725025 221.709114 \nL 220.394625 221.709114 \nL 220.394625 221.382938 \nL 221.064225 221.382938 \nL 221.064225 223.774898 \nL 221.733825 223.774898 \nL 221.733825 222.252741 \nL 222.403425 222.252741 \nL 222.403425 223.122545 \nL 223.742625 223.23127 \nL 223.742625 224.862152 \nL 224.412225 224.862152 \nL 224.412225 221.491663 \nL 225.081825 221.491663 \nL 225.081825 222.361467 \nL 225.751425 222.361467 \nL 225.751425 222.687643 \nL 226.421025 222.687643 \nL 226.421025 223.122545 \nL 227.090625 223.122545 \nL 227.090625 223.448721 \nL 227.760225 223.448721 \nL 227.760225 223.013819 \nL 228.429825 223.013819 \nL 228.429825 223.339996 \nL 229.769025 223.23127 \nL 229.769025 223.557447 \nL 230.438625 223.557447 \nL 230.438625 223.992348 \nL 231.108225 223.992348 \nL 231.108225 222.578918 \nL 231.777825 222.578918 \nL 231.777825 223.013819 \nL 232.447425 223.013819 \nL 232.447425 222.035291 \nL 233.117025 222.035291 \nL 233.117025 223.23127 \nL 233.786625 223.23127 \nL 233.786625 222.905094 \nL 235.125825 223.013819 \nL 235.125825 222.144016 \nL 235.795425 222.144016 \nL 235.795425 222.361467 \nL 236.465025 222.361467 \nL 236.465025 221.491663 \nL 237.134625 221.491663 \nL 237.134625 223.339996 \nL 237.804225 223.339996 \nL 237.804225 222.905094 \nL 238.473825 222.905094 \nL 238.473825 222.252741 \nL 239.143425 222.252741 \nL 239.143425 221.709114 \nL 239.813025 221.709114 \nL 239.813025 222.361467 \nL 240.482625 222.361467 \nL 240.482625 222.905094 \nL 241.152225 222.905094 \nL 241.152225 222.252741 \nL 241.821825 222.252741 \nL 241.821825 222.470192 \nL 243.830625 222.470192 \nL 243.830625 221.056762 \nL 244.500225 221.056762 \nL 244.500225 222.578918 \nL 247.178625 222.470192 \nL 247.178625 223.013819 \nL 247.848225 223.013819 \nL 247.848225 221.491663 \nL 248.517825 221.491663 \nL 248.517825 223.122545 \nL 249.187425 223.122545 \nL 249.187425 221.491663 \nL 249.857025 221.491663 \nL 249.857025 223.122545 \nL 250.526625 223.122545 \nL 250.526625 222.035291 \nL 251.196225 222.035291 \nL 251.196225 222.578918 \nL 251.865825 222.578918 \nL 251.865825 222.144016 \nL 252.535425 222.144016 \nL 252.535425 222.687643 \nL 253.205025 222.687643 \nL 253.205025 223.883623 \nL 253.874625 223.883623 \nL 253.874625 222.905094 \nL 254.544225 222.905094 \nL 254.544225 222.687643 \nL 255.213825 222.687643 \nL 255.213825 222.361467 \nL 255.883425 222.361467 \nL 255.883425 223.557447 \nL 256.553025 223.557447 \nL 256.553025 222.687643 \nL 257.222625 222.687643 \nL 257.222625 224.209799 \nL 257.892225 224.209799 \nL 257.892225 223.448721 \nL 258.561825 223.448721 \nL 258.561825 222.361467 \nL 259.231425 222.361467 \nL 259.231425 223.23127 \nL 260.570625 223.122545 \nL 260.570625 221.81784 \nL 261.240225 221.81784 \nL 261.240225 221.600389 \nL 261.909825 221.600389 \nL 261.909825 222.687643 \nL 263.249025 222.578918 \nL 263.249025 222.361467 \nL 263.918625 222.361467 \nL 263.918625 223.666172 \nL 264.588225 223.666172 \nL 264.588225 222.796369 \nL 265.257825 222.796369 \nL 265.257825 222.578918 \nL 265.927425 222.578918 \nL 265.927425 223.339996 \nL 266.597025 223.339996 \nL 266.597025 222.687643 \nL 267.266625 222.687643 \nL 267.266625 221.926565 \nL 267.936225 221.926565 \nL 267.936225 222.687643 \nL 269.275425 222.687643 \nL 269.275425 222.252741 \nL 269.945025 222.252741 \nL 269.945025 222.687643 \nL 270.614625 222.687643 \nL 270.614625 222.361467 \nL 271.284225 222.361467 \nL 271.284225 221.81784 \nL 271.953825 221.81784 \nL 271.953825 221.600389 \nL 272.623425 221.600389 \nL 272.623425 222.687643 \nL 273.962625 222.687643 \nL 273.962625 221.926565 \nL 274.632225 221.926565 \nL 274.632225 222.796369 \nL 275.301825 222.796369 \nL 275.301825 223.013819 \nL 275.971425 223.013819 \nL 275.971425 222.361467 \nL 276.641025 222.361467 \nL 276.641025 222.144016 \nL 277.310625 222.144016 \nL 277.310625 221.165487 \nL 277.980225 221.165487 \nL 277.980225 221.81784 \nL 278.649825 221.81784 \nL 278.649825 223.013819 \nL 279.319425 223.013819 \nL 279.319425 222.796369 \nL 279.989025 222.796369 \nL 279.989025 222.361467 \nL 280.658625 222.361467 \nL 280.658625 223.23127 \nL 281.328225 223.23127 \nL 281.328225 222.687643 \nL 281.997825 222.687643 \nL 281.997825 223.557447 \nL 282.667425 223.557447 \nL 282.667425 222.905094 \nL 283.337025 222.905094 \nL 283.337025 223.23127 \nL 284.006625 223.23127 \nL 284.006625 222.687643 \nL 285.345825 222.578918 \nL 285.345825 223.774898 \nL 286.015425 223.774898 \nL 286.015425 222.687643 \nL 286.685025 222.687643 \nL 286.685025 222.035291 \nL 287.354625 222.035291 \nL 287.354625 223.774898 \nL 288.024225 223.774898 \nL 288.024225 222.578918 \nL 289.363425 222.578918 \nL 289.363425 222.252741 \nL 291.372225 222.361467 \nL 291.372225 222.035291 \nL 292.041825 222.035291 \nL 292.041825 221.709114 \nL 292.711425 221.709114 \nL 292.711425 222.796369 \nL 294.050625 222.687643 \nL 294.050625 222.578918 \nL 294.720225 222.578918 \nL 294.720225 222.905094 \nL 295.389825 222.905094 \nL 295.389825 220.948036 \nL 296.059425 220.948036 \nL 296.059425 221.274212 \nL 296.729025 221.274212 \nL 296.729025 223.23127 \nL 297.398625 223.23127 \nL 297.398625 223.448721 \nL 298.737825 223.448721 \nL 298.737825 221.709114 \nL 299.407425 221.709114 \nL 299.407425 222.035291 \nL 300.077025 222.035291 \nL 300.077025 222.361467 \nL 300.746625 222.361467 \nL 300.746625 222.905094 \nL 301.416225 222.905094 \nL 301.416225 222.578918 \nL 302.085825 222.578918 \nL 302.085825 223.013819 \nL 302.755425 223.013819 \nL 302.755425 222.361467 \nL 303.425025 222.361467 \nL 303.425025 223.013819 \nL 304.764225 223.122545 \nL 304.764225 222.470192 \nL 306.103425 222.578918 \nL 306.103425 220.186958 \nL 306.773025 220.186958 \nL 306.773025 221.600389 \nL 307.442625 221.600389 \nL 307.442625 223.339996 \nL 308.112225 223.339996 \nL 308.112225 222.144016 \nL 308.781825 222.144016 \nL 308.781825 223.23127 \nL 310.121025 223.122545 \nL 310.121025 221.491663 \nL 310.790625 221.491663 \nL 310.790625 228.450091 \nL 394.490625 228.450091 \nL 394.490625 228.450091 \n\" style=\"fill:none;stroke:#ff7f0e;stroke-linejoin:miter;\"/>\n   </g>\n   <g id=\"patch_5\">\n    <path clip-path=\"url(#p8755f86c15)\" d=\"M 59.690625 228.450091 \nL 59.690625 224.066282 \nL 60.360225 224.066282 \nL 60.360225 224.209799 \nL 61.029825 224.209799 \nL 61.029825 224.360565 \nL 62.369025 224.421451 \nL 62.369025 224.553372 \nL 64.377825 224.475089 \nL 64.377825 224.882447 \nL 65.717025 224.941884 \nL 65.717025 224.730232 \nL 67.056225 224.834608 \nL 67.056225 224.943334 \nL 67.725825 224.943334 \nL 67.725825 225.107147 \nL 69.065025 225.08975 \nL 69.065025 225.230369 \nL 71.073825 225.297054 \nL 71.073825 225.378235 \nL 72.413025 225.352141 \nL 72.413025 225.530451 \nL 73.752225 225.460867 \nL 73.752225 225.652223 \nL 75.091425 225.629029 \nL 75.091425 225.795741 \nL 77.769825 225.901567 \nL 77.769825 225.992896 \nL 79.778625 226.076977 \nL 79.778625 226.124817 \nL 82.457025 226.174105 \nL 82.457025 226.262536 \nL 84.465825 226.335019 \nL 84.465825 226.459691 \nL 85.135425 226.459691 \nL 85.135425 226.313274 \nL 85.805025 226.313274 \nL 85.805025 226.493033 \nL 88.483425 226.498832 \nL 88.483425 226.613356 \nL 90.492225 226.701786 \nL 90.492225 226.803263 \nL 93.170625 226.835156 \nL 93.170625 226.927935 \nL 96.518625 227.022164 \nL 96.518625 227.113493 \nL 97.857825 227.068553 \nL 97.857825 226.919237 \nL 98.527425 226.919237 \nL 98.527425 227.042459 \nL 99.866625 227.055506 \nL 99.866625 227.223668 \nL 105.223425 227.225118 \nL 105.223425 227.358488 \nL 109.241025 227.396179 \nL 109.241025 227.500556 \nL 113.258625 227.600583 \nL 113.258625 227.620879 \nL 119.954625 227.675966 \nL 119.954625 227.751349 \nL 127.320225 227.818034 \nL 127.320225 227.871672 \nL 136.694625 227.973149 \nL 136.694625 227.986196 \nL 170.844225 227.890518 \nL 170.844225 227.870222 \nL 174.861825 227.842679 \nL 174.861825 227.744101 \nL 182.227425 227.645523 \nL 182.227425 227.619429 \nL 186.914625 227.559992 \nL 186.914625 227.468663 \nL 192.941025 227.362837 \nL 192.941025 227.35124 \nL 194.949825 227.3063 \nL 194.949825 227.219319 \nL 198.967425 227.184527 \nL 198.967425 227.04101 \nL 200.306625 227.106245 \nL 200.306625 227.191776 \nL 200.976225 227.191776 \nL 200.976225 227.058406 \nL 206.333025 226.983023 \nL 206.333025 226.920687 \nL 212.359425 226.810512 \nL 212.359425 226.73078 \nL 216.377025 226.736578 \nL 216.377025 226.867049 \nL 217.046625 226.867049 \nL 217.046625 226.691639 \nL 219.055425 226.765572 \nL 219.055425 226.829357 \nL 221.064225 226.791666 \nL 221.064225 226.674243 \nL 229.769025 226.716283 \nL 229.769025 226.809062 \nL 230.438625 226.809062 \nL 230.438625 226.688739 \nL 239.143425 226.753974 \nL 239.143425 226.845304 \nL 244.500225 226.932284 \nL 244.500225 226.978674 \nL 249.187425 227.032312 \nL 249.187425 227.096097 \nL 253.874625 227.139587 \nL 253.874625 227.212071 \nL 256.553025 227.222219 \nL 256.553025 227.332394 \nL 261.909825 227.400528 \nL 261.909825 227.48171 \nL 267.266625 227.548395 \nL 267.266625 227.620879 \nL 269.945025 227.65712 \nL 269.945025 227.749899 \nL 275.971425 227.83543 \nL 275.971425 227.889068 \nL 283.337025 227.971699 \nL 283.337025 228.049982 \nL 290.033025 228.112318 \nL 290.033025 228.164506 \nL 299.407425 228.248587 \nL 299.407425 228.299325 \nL 316.817025 228.405151 \nL 316.817025 228.41095 \nL 394.490625 228.450091 \nL 394.490625 228.450091 \n\" style=\"fill:none;stroke:#2ca02c;stroke-linejoin:miter;\"/>\n   </g>\n   <g id=\"patch_6\">\n    <path d=\"M 59.690625 228.439219 \nL 59.690625 10.999219 \n\" style=\"fill:none;stroke:#000000;stroke-linecap:square;stroke-linejoin:miter;stroke-width:0.8;\"/>\n   </g>\n   <g id=\"patch_7\">\n    <path d=\"M 394.490625 228.439219 \nL 394.490625 10.999219 \n\" style=\"fill:none;stroke:#000000;stroke-linecap:square;stroke-linejoin:miter;stroke-width:0.8;\"/>\n   </g>\n   <g id=\"patch_8\">\n    <path d=\"M 59.690625 228.439219 \nL 394.490625 228.439219 \n\" style=\"fill:none;stroke:#000000;stroke-linecap:square;stroke-linejoin:miter;stroke-width:0.8;\"/>\n   </g>\n   <g id=\"patch_9\">\n    <path d=\"M 59.690625 10.999219 \nL 394.490625 10.999219 \n\" style=\"fill:none;stroke:#000000;stroke-linecap:square;stroke-linejoin:miter;stroke-width:0.8;\"/>\n   </g>\n   <g id=\"legend_1\">\n    <g id=\"patch_10\">\n     <path d=\"M 287.55 63.033594 \nL 387.490625 63.033594 \nQ 389.490625 63.033594 389.490625 61.033594 \nL 389.490625 17.999219 \nQ 389.490625 15.999219 387.490625 15.999219 \nL 287.55 15.999219 \nQ 285.55 15.999219 285.55 17.999219 \nL 285.55 61.033594 \nQ 285.55 63.033594 287.55 63.033594 \nz\n\" style=\"fill:#ffffff;opacity:0.8;stroke:#cccccc;stroke-linejoin:miter;\"/>\n    </g>\n    <g id=\"patch_11\">\n     <path d=\"M 289.55 27.597656 \nL 309.55 27.597656 \nL 309.55 20.597656 \nL 289.55 20.597656 \nz\n\" style=\"fill:none;stroke:#1f77b4;stroke-linejoin:miter;\"/>\n    </g>\n    <g id=\"text_17\">\n     <!-- Experiment A -->\n     <g transform=\"translate(317.55 27.597656)scale(0.1 -0.1)\">\n      <defs>\n       <path d=\"M 54.890625 54.6875 \nL 35.109375 28.078125 \nL 55.90625 0 \nL 45.3125 0 \nL 29.390625 21.484375 \nL 13.484375 0 \nL 2.875 0 \nL 24.125 28.609375 \nL 4.6875 54.6875 \nL 15.28125 54.6875 \nL 29.78125 35.203125 \nL 44.28125 54.6875 \nz\n\" id=\"DejaVuSans-120\"/>\n       <path d=\"M 18.109375 8.203125 \nL 18.109375 -20.796875 \nL 9.078125 -20.796875 \nL 9.078125 54.6875 \nL 18.109375 54.6875 \nL 18.109375 46.390625 \nQ 20.953125 51.265625 25.265625 53.625 \nQ 29.59375 56 35.59375 56 \nQ 45.5625 56 51.78125 48.09375 \nQ 58.015625 40.1875 58.015625 27.296875 \nQ 58.015625 14.40625 51.78125 6.484375 \nQ 45.5625 -1.421875 35.59375 -1.421875 \nQ 29.59375 -1.421875 25.265625 0.953125 \nQ 20.953125 3.328125 18.109375 8.203125 \nz\nM 48.6875 27.296875 \nQ 48.6875 37.203125 44.609375 42.84375 \nQ 40.53125 48.484375 33.40625 48.484375 \nQ 26.265625 48.484375 22.1875 42.84375 \nQ 18.109375 37.203125 18.109375 27.296875 \nQ 18.109375 17.390625 22.1875 11.75 \nQ 26.265625 6.109375 33.40625 6.109375 \nQ 40.53125 6.109375 44.609375 11.75 \nQ 48.6875 17.390625 48.6875 27.296875 \nz\n\" id=\"DejaVuSans-112\"/>\n       <path d=\"M 9.421875 54.6875 \nL 18.40625 54.6875 \nL 18.40625 0 \nL 9.421875 0 \nz\nM 9.421875 75.984375 \nL 18.40625 75.984375 \nL 18.40625 64.59375 \nL 9.421875 64.59375 \nz\n\" id=\"DejaVuSans-105\"/>\n       <path d=\"M 52 44.1875 \nQ 55.375 50.25 60.0625 53.125 \nQ 64.75 56 71.09375 56 \nQ 79.640625 56 84.28125 50.015625 \nQ 88.921875 44.046875 88.921875 33.015625 \nL 88.921875 0 \nL 79.890625 0 \nL 79.890625 32.71875 \nQ 79.890625 40.578125 77.09375 44.375 \nQ 74.3125 48.1875 68.609375 48.1875 \nQ 61.625 48.1875 57.5625 43.546875 \nQ 53.515625 38.921875 53.515625 30.90625 \nL 53.515625 0 \nL 44.484375 0 \nL 44.484375 32.71875 \nQ 44.484375 40.625 41.703125 44.40625 \nQ 38.921875 48.1875 33.109375 48.1875 \nQ 26.21875 48.1875 22.15625 43.53125 \nQ 18.109375 38.875 18.109375 30.90625 \nL 18.109375 0 \nL 9.078125 0 \nL 9.078125 54.6875 \nL 18.109375 54.6875 \nL 18.109375 46.1875 \nQ 21.1875 51.21875 25.484375 53.609375 \nQ 29.78125 56 35.6875 56 \nQ 41.65625 56 45.828125 52.96875 \nQ 50 49.953125 52 44.1875 \nz\n\" id=\"DejaVuSans-109\"/>\n       <path d=\"M 34.1875 63.1875 \nL 20.796875 26.90625 \nL 47.609375 26.90625 \nz\nM 28.609375 72.90625 \nL 39.796875 72.90625 \nL 67.578125 0 \nL 57.328125 0 \nL 50.6875 18.703125 \nL 17.828125 18.703125 \nL 11.1875 0 \nL 0.78125 0 \nz\n\" id=\"DejaVuSans-65\"/>\n      </defs>\n      <use xlink:href=\"#DejaVuSans-69\"/>\n      <use x=\"63.183594\" xlink:href=\"#DejaVuSans-120\"/>\n      <use x=\"122.363281\" xlink:href=\"#DejaVuSans-112\"/>\n      <use x=\"185.839844\" xlink:href=\"#DejaVuSans-101\"/>\n      <use x=\"247.363281\" xlink:href=\"#DejaVuSans-114\"/>\n      <use x=\"288.476562\" xlink:href=\"#DejaVuSans-105\"/>\n      <use x=\"316.259766\" xlink:href=\"#DejaVuSans-109\"/>\n      <use x=\"413.671875\" xlink:href=\"#DejaVuSans-101\"/>\n      <use x=\"475.195312\" xlink:href=\"#DejaVuSans-110\"/>\n      <use x=\"538.574219\" xlink:href=\"#DejaVuSans-116\"/>\n      <use x=\"577.783203\" xlink:href=\"#DejaVuSans-32\"/>\n      <use x=\"609.570312\" xlink:href=\"#DejaVuSans-65\"/>\n     </g>\n    </g>\n    <g id=\"patch_12\">\n     <path d=\"M 289.55 42.275781 \nL 309.55 42.275781 \nL 309.55 35.275781 \nL 289.55 35.275781 \nz\n\" style=\"fill:none;stroke:#ff7f0e;stroke-linejoin:miter;\"/>\n    </g>\n    <g id=\"text_18\">\n     <!-- Experiment B -->\n     <g transform=\"translate(317.55 42.275781)scale(0.1 -0.1)\">\n      <defs>\n       <path d=\"M 19.671875 34.8125 \nL 19.671875 8.109375 \nL 35.5 8.109375 \nQ 43.453125 8.109375 47.28125 11.40625 \nQ 51.125 14.703125 51.125 21.484375 \nQ 51.125 28.328125 47.28125 31.5625 \nQ 43.453125 34.8125 35.5 34.8125 \nz\nM 19.671875 64.796875 \nL 19.671875 42.828125 \nL 34.28125 42.828125 \nQ 41.5 42.828125 45.03125 45.53125 \nQ 48.578125 48.25 48.578125 53.8125 \nQ 48.578125 59.328125 45.03125 62.0625 \nQ 41.5 64.796875 34.28125 64.796875 \nz\nM 9.8125 72.90625 \nL 35.015625 72.90625 \nQ 46.296875 72.90625 52.390625 68.21875 \nQ 58.5 63.53125 58.5 54.890625 \nQ 58.5 48.1875 55.375 44.234375 \nQ 52.25 40.28125 46.1875 39.3125 \nQ 53.46875 37.75 57.5 32.78125 \nQ 61.53125 27.828125 61.53125 20.40625 \nQ 61.53125 10.640625 54.890625 5.3125 \nQ 48.25 0 35.984375 0 \nL 9.8125 0 \nz\n\" id=\"DejaVuSans-66\"/>\n      </defs>\n      <use xlink:href=\"#DejaVuSans-69\"/>\n      <use x=\"63.183594\" xlink:href=\"#DejaVuSans-120\"/>\n      <use x=\"122.363281\" xlink:href=\"#DejaVuSans-112\"/>\n      <use x=\"185.839844\" xlink:href=\"#DejaVuSans-101\"/>\n      <use x=\"247.363281\" xlink:href=\"#DejaVuSans-114\"/>\n      <use x=\"288.476562\" xlink:href=\"#DejaVuSans-105\"/>\n      <use x=\"316.259766\" xlink:href=\"#DejaVuSans-109\"/>\n      <use x=\"413.671875\" xlink:href=\"#DejaVuSans-101\"/>\n      <use x=\"475.195312\" xlink:href=\"#DejaVuSans-110\"/>\n      <use x=\"538.574219\" xlink:href=\"#DejaVuSans-116\"/>\n      <use x=\"577.783203\" xlink:href=\"#DejaVuSans-32\"/>\n      <use x=\"609.570312\" xlink:href=\"#DejaVuSans-66\"/>\n     </g>\n    </g>\n    <g id=\"patch_13\">\n     <path d=\"M 289.55 56.953906 \nL 309.55 56.953906 \nL 309.55 49.953906 \nL 289.55 49.953906 \nz\n\" style=\"fill:none;stroke:#2ca02c;stroke-linejoin:miter;\"/>\n    </g>\n    <g id=\"text_19\">\n     <!-- Experiment C -->\n     <g transform=\"translate(317.55 56.953906)scale(0.1 -0.1)\">\n      <use xlink:href=\"#DejaVuSans-69\"/>\n      <use x=\"63.183594\" xlink:href=\"#DejaVuSans-120\"/>\n      <use x=\"122.363281\" xlink:href=\"#DejaVuSans-112\"/>\n      <use x=\"185.839844\" xlink:href=\"#DejaVuSans-101\"/>\n      <use x=\"247.363281\" xlink:href=\"#DejaVuSans-114\"/>\n      <use x=\"288.476562\" xlink:href=\"#DejaVuSans-105\"/>\n      <use x=\"316.259766\" xlink:href=\"#DejaVuSans-109\"/>\n      <use x=\"413.671875\" xlink:href=\"#DejaVuSans-101\"/>\n      <use x=\"475.195312\" xlink:href=\"#DejaVuSans-110\"/>\n      <use x=\"538.574219\" xlink:href=\"#DejaVuSans-116\"/>\n      <use x=\"577.783203\" xlink:href=\"#DejaVuSans-32\"/>\n      <use x=\"609.570312\" xlink:href=\"#DejaVuSans-67\"/>\n     </g>\n    </g>\n   </g>\n  </g>\n </g>\n <defs>\n  <clipPath id=\"p8755f86c15\">\n   <rect height=\"217.44\" width=\"334.8\" x=\"59.690625\" y=\"10.999219\"/>\n  </clipPath>\n </defs>\n</svg>\n",
          "text/plain": "<Figure size 432x288 with 1 Axes>"
         },
         "metadata": {
          "needs_background": "light"
         },
         "output_type": "display_data"
        }
       ]
      }
     },
     "5ab92148dfc045028aeececbb959bd9a": {
      "model_module": "@jupyter-widgets/controls",
      "model_module_version": "1.5.0",
      "model_name": "CheckboxModel",
      "state": {
       "description": "Plot Experiment C",
       "disabled": false,
       "layout": "IPY_MODEL_ba45564a775948a8849e473969292533",
       "style": "IPY_MODEL_19d65c0f24c84c978040c871c15514d4",
       "value": true
      }
     },
     "5ac3b89b89c242e59471bca582a30ed9": {
      "model_module": "@jupyter-widgets/controls",
      "model_module_version": "1.5.0",
      "model_name": "DescriptionStyleModel",
      "state": {
       "description_width": ""
      }
     },
     "5b0d72fdd7954cd5b8ab7265e8d02d82": {
      "model_module": "@jupyter-widgets/controls",
      "model_module_version": "1.5.0",
      "model_name": "CheckboxModel",
      "state": {
       "description": "Plot Experiment A",
       "disabled": false,
       "layout": "IPY_MODEL_be4da9053c05439a9e980c08a30fbe88",
       "style": "IPY_MODEL_231e5af30f6f447791ede094005e0f82",
       "value": true
      }
     },
     "5b239622db634e129d3c60a9cae67635": {
      "model_module": "@jupyter-widgets/controls",
      "model_module_version": "1.5.0",
      "model_name": "DescriptionStyleModel",
      "state": {
       "description_width": ""
      }
     },
     "5b39a94ecaff4e878174bca9b4cd0077": {
      "model_module": "@jupyter-widgets/base",
      "model_module_version": "1.2.0",
      "model_name": "LayoutModel",
      "state": {}
     },
     "5b5c09aa767f46d58117d0c06bc48f0a": {
      "model_module": "@jupyter-widgets/base",
      "model_module_version": "1.2.0",
      "model_name": "LayoutModel",
      "state": {}
     },
     "5bb99449b3334809b6533b3b9d3a1132": {
      "model_module": "@jupyter-widgets/controls",
      "model_module_version": "1.5.0",
      "model_name": "SliderStyleModel",
      "state": {
       "description_width": ""
      }
     },
     "5c244e1823c24abcb556a2667806b8ce": {
      "model_module": "@jupyter-widgets/controls",
      "model_module_version": "1.5.0",
      "model_name": "DropdownModel",
      "state": {
       "_options_labels": [
        "linear",
        "log"
       ],
       "description": "Scale: ",
       "index": 0,
       "layout": "IPY_MODEL_6406ec3aa61f4ab092e160a8a290a3e9",
       "style": "IPY_MODEL_52ef635fbb9149e18d8f7c3468698eb5"
      }
     },
     "5c6fd111e1a94a50b35e93c1590d42ab": {
      "model_module": "@jupyter-widgets/base",
      "model_module_version": "1.2.0",
      "model_name": "LayoutModel",
      "state": {}
     },
     "5cae74eb11ac43668bdbdd51f6813e42": {
      "model_module": "@jupyter-widgets/controls",
      "model_module_version": "1.5.0",
      "model_name": "CheckboxModel",
      "state": {
       "description": "Plot Experiment A",
       "disabled": false,
       "layout": "IPY_MODEL_ae9b193267c64518b8a12c0e3b7249b9",
       "style": "IPY_MODEL_d23bd14e99e94ec3a1ff7e495170f77f",
       "value": true
      }
     },
     "5cbaf65b174e48d194d4d1d5622f630a": {
      "model_module": "@jupyter-widgets/base",
      "model_module_version": "1.2.0",
      "model_name": "LayoutModel",
      "state": {}
     },
     "5d3e6a936fb84e298580e3b32c8f76f3": {
      "model_module": "@jupyter-widgets/controls",
      "model_module_version": "1.5.0",
      "model_name": "IntSliderModel",
      "state": {
       "layout": "IPY_MODEL_a7604c591cbf49c89ed785ad6edc5535",
       "max": 20,
       "style": "IPY_MODEL_6b95d661a7504cfa8b368418ab46e992",
       "value": 20
      }
     },
     "5e002ca0d70049948637476cf1997fc6": {
      "model_module": "@jupyter-widgets/controls",
      "model_module_version": "1.5.0",
      "model_name": "FloatLogSliderModel",
      "state": {
       "layout": "IPY_MODEL_a580e4352a0843f19047399f64db98ad",
       "max": 5,
       "min": -1,
       "style": "IPY_MODEL_43e9de9340bf4300a264ab2fa11ed9d2",
       "value": 25118.864315095823
      }
     },
     "5e4a54ba82b6430488874dba4c88dac7": {
      "model_module": "@jupyter-widgets/controls",
      "model_module_version": "1.5.0",
      "model_name": "FloatLogSliderModel",
      "state": {
       "description": "y_max",
       "layout": "IPY_MODEL_2b91874b259c49c08501b77230bb9063",
       "max": 5,
       "min": -1,
       "style": "IPY_MODEL_a024f31c55634bc29d83450e0b36f513",
       "value": 12589.254117941662
      }
     },
     "5e621097950d4fbc9cd9d84c2006078b": {
      "model_module": "@jupyter-widgets/controls",
      "model_module_version": "1.5.0",
      "model_name": "CheckboxModel",
      "state": {
       "description": "Plot Experiment C",
       "disabled": false,
       "layout": "IPY_MODEL_9653d78ca46143688b83841b397853c7",
       "style": "IPY_MODEL_c1d19e59446f4dd083b5e1e0d2b8aaf6",
       "value": true
      }
     },
     "5e6df9fa364e4257ac520f9e55520e16": {
      "model_module": "@jupyter-widgets/controls",
      "model_module_version": "1.5.0",
      "model_name": "SliderStyleModel",
      "state": {
       "description_width": ""
      }
     },
     "5e8592abda1f4109a497e280a8eb5966": {
      "model_module": "@jupyter-widgets/base",
      "model_module_version": "1.2.0",
      "model_name": "LayoutModel",
      "state": {}
     },
     "5ec9e640b5164964bdec6c64cfabd087": {
      "model_module": "@jupyter-widgets/base",
      "model_module_version": "1.2.0",
      "model_name": "LayoutModel",
      "state": {}
     },
     "5ed7ec3b53a646f695c1441863d179ce": {
      "model_module": "@jupyter-widgets/controls",
      "model_module_version": "1.5.0",
      "model_name": "SliderStyleModel",
      "state": {
       "description_width": ""
      }
     },
     "5fdcce47c615482cb0f15544b1f2f19c": {
      "model_module": "@jupyter-widgets/controls",
      "model_module_version": "1.5.0",
      "model_name": "IntSliderModel",
      "state": {
       "layout": "IPY_MODEL_e56b937e3e024fe3916c340aa78b54af",
       "max": 2000,
       "min": 20,
       "style": "IPY_MODEL_dca69dc496e24e63b4fcc62bdc931d6e",
       "value": 500
      }
     },
     "6009f7fc0b1b468299eada70a8baf362": {
      "model_module": "@jupyter-widgets/controls",
      "model_module_version": "1.5.0",
      "model_name": "FloatSliderModel",
      "state": {
       "layout": "IPY_MODEL_88cb48f482944389ae1e70e3139c71c9",
       "max": 20,
       "step": 0.1,
       "style": "IPY_MODEL_e8de9eb386ca4ff19dc0b28878e6d26a",
       "value": 20
      }
     },
     "60459497c8cd4fa78ea99065d9779848": {
      "model_module": "@jupyter-widgets/controls",
      "model_module_version": "1.5.0",
      "model_name": "IntSliderModel",
      "state": {
       "layout": "IPY_MODEL_bca36e7768684fa691c7cfef44aced13",
       "max": 20,
       "style": "IPY_MODEL_56c276a6e72246d992c3af7e618643d5",
       "value": 20
      }
     },
     "604f58c7f32344a9be1bf4b1db80f640": {
      "model_module": "@jupyter-widgets/controls",
      "model_module_version": "1.5.0",
      "model_name": "DescriptionStyleModel",
      "state": {
       "description_width": ""
      }
     },
     "60d12a9e3e6843fe8a2f55bba39cb64c": {
      "model_module": "@jupyter-widgets/base",
      "model_module_version": "1.2.0",
      "model_name": "LayoutModel",
      "state": {}
     },
     "60da177c6d974f10999914bfaa864d76": {
      "model_module": "@jupyter-widgets/controls",
      "model_module_version": "1.5.0",
      "model_name": "DescriptionStyleModel",
      "state": {
       "description_width": ""
      }
     },
     "60e12834b98f4c5cb09b280927d325cc": {
      "model_module": "@jupyter-widgets/controls",
      "model_module_version": "1.5.0",
      "model_name": "IntSliderModel",
      "state": {
       "layout": "IPY_MODEL_d7224979bea144d081ffff00a5f66b81",
       "max": 20,
       "style": "IPY_MODEL_428356424a9242d9848838fbece130a9"
      }
     },
     "60f3c84b721b42309e723a7f83604b35": {
      "model_module": "@jupyter-widgets/controls",
      "model_module_version": "1.5.0",
      "model_name": "SliderStyleModel",
      "state": {
       "description_width": ""
      }
     },
     "61a26b1ceb0b4e01a7fedb2e7d75aa20": {
      "model_module": "@jupyter-widgets/controls",
      "model_module_version": "1.5.0",
      "model_name": "DescriptionStyleModel",
      "state": {
       "description_width": ""
      }
     },
     "62df2906a3bf48eea6426ea4365b24a9": {
      "model_module": "@jupyter-widgets/controls",
      "model_module_version": "1.5.0",
      "model_name": "SliderStyleModel",
      "state": {
       "description_width": ""
      }
     },
     "631815e8abbb4481a24d498f8f01b7b8": {
      "model_module": "@jupyter-widgets/base",
      "model_module_version": "1.2.0",
      "model_name": "LayoutModel",
      "state": {}
     },
     "63743661c49848f8b19a4c71d5f6d2d1": {
      "model_module": "@jupyter-widgets/base",
      "model_module_version": "1.2.0",
      "model_name": "LayoutModel",
      "state": {}
     },
     "6406ec3aa61f4ab092e160a8a290a3e9": {
      "model_module": "@jupyter-widgets/base",
      "model_module_version": "1.2.0",
      "model_name": "LayoutModel",
      "state": {}
     },
     "644db912a73d4ac6bee162f4daa6e959": {
      "model_module": "@jupyter-widgets/base",
      "model_module_version": "1.2.0",
      "model_name": "LayoutModel",
      "state": {}
     },
     "6472458aef114b0186c3ff81157a8e69": {
      "model_module": "@jupyter-widgets/controls",
      "model_module_version": "1.5.0",
      "model_name": "DescriptionStyleModel",
      "state": {
       "description_width": ""
      }
     },
     "6482ca960a5d4b61aff224da3a3f02b0": {
      "model_module": "@jupyter-widgets/controls",
      "model_module_version": "1.5.0",
      "model_name": "DescriptionStyleModel",
      "state": {
       "description_width": ""
      }
     },
     "64c9264fd26440cd9632cef8d55dcee4": {
      "model_module": "@jupyter-widgets/controls",
      "model_module_version": "1.5.0",
      "model_name": "FloatSliderModel",
      "state": {
       "layout": "IPY_MODEL_feb681641b4348d4a8ce23304246cb36",
       "max": 20,
       "step": 0.1,
       "style": "IPY_MODEL_f8630d8df73347aea7b4727323c8de8c",
       "value": 20
      }
     },
     "64f6abf65dad4eb69ecfe44e6d61eb8d": {
      "model_module": "@jupyter-widgets/base",
      "model_module_version": "1.2.0",
      "model_name": "LayoutModel",
      "state": {}
     },
     "650e303dd48b496e8dcbd5b0d9dfbd42": {
      "model_module": "@jupyter-widgets/controls",
      "model_module_version": "1.5.0",
      "model_name": "VBoxModel",
      "state": {
       "_dom_classes": [
        "widget-interact"
       ],
       "layout": "IPY_MODEL_0df7f18ded7b436bb7fc1cae7a516634"
      }
     },
     "6551acd47b7c4b3f9874ffc120331116": {
      "model_module": "@jupyter-widgets/base",
      "model_module_version": "1.2.0",
      "model_name": "LayoutModel",
      "state": {}
     },
     "65f00f8c1f1349f696a056f86f4fcf1b": {
      "model_module": "@jupyter-widgets/controls",
      "model_module_version": "1.5.0",
      "model_name": "IntSliderModel",
      "state": {
       "layout": "IPY_MODEL_7bba727f098345ba86cab12417433c7d",
       "max": 20,
       "style": "IPY_MODEL_4fd1274b3c704e2089ad59a35ceaa46b",
       "value": 20
      }
     },
     "660c3a2344c84250a45b75e1684bea83": {
      "model_module": "@jupyter-widgets/base",
      "model_module_version": "1.2.0",
      "model_name": "LayoutModel",
      "state": {}
     },
     "666278f8897f4ec780ea897870c7628d": {
      "model_module": "@jupyter-widgets/controls",
      "model_module_version": "1.5.0",
      "model_name": "SliderStyleModel",
      "state": {
       "description_width": ""
      }
     },
     "67a850290480478bb5d852552fe3f88e": {
      "model_module": "@jupyter-widgets/controls",
      "model_module_version": "1.5.0",
      "model_name": "SliderStyleModel",
      "state": {
       "description_width": ""
      }
     },
     "68297041000b49ab8ee22a9cd50014cb": {
      "model_module": "@jupyter-widgets/base",
      "model_module_version": "1.2.0",
      "model_name": "LayoutModel",
      "state": {}
     },
     "686d861ce81b4d209127906df3ff7dc2": {
      "model_module": "@jupyter-widgets/controls",
      "model_module_version": "1.5.0",
      "model_name": "DescriptionStyleModel",
      "state": {
       "description_width": ""
      }
     },
     "689ede4ffaa3414e9cd38caacc1f04fa": {
      "model_module": "@jupyter-widgets/controls",
      "model_module_version": "1.5.0",
      "model_name": "SliderStyleModel",
      "state": {
       "description_width": ""
      }
     },
     "6901d55bddec42a888ae7b10903c25ad": {
      "model_module": "@jupyter-widgets/controls",
      "model_module_version": "1.5.0",
      "model_name": "CheckboxModel",
      "state": {
       "description": "Plot Experiment B",
       "disabled": false,
       "layout": "IPY_MODEL_8b651f45ac424731a2c981d8677465ec",
       "style": "IPY_MODEL_46cee62a75ce4b208eac22d79fc273a4",
       "value": true
      }
     },
     "6953ef2026b64e9f8150293fd9075d76": {
      "model_module": "@jupyter-widgets/base",
      "model_module_version": "1.2.0",
      "model_name": "LayoutModel",
      "state": {}
     },
     "698ed29748cb4b3c9a3d60647267cab1": {
      "model_module": "@jupyter-widgets/controls",
      "model_module_version": "1.5.0",
      "model_name": "FloatLogSliderModel",
      "state": {
       "layout": "IPY_MODEL_ff4be2da481f4dbfbc3eaf8225fcd4ef",
       "max": 5,
       "min": -1,
       "style": "IPY_MODEL_d91c577d613240aca6dac9f50b5b67ab",
       "value": 3162.2776601683795
      }
     },
     "69cf06c478f04eb4b30e1fd3b3cbae9d": {
      "model_module": "@jupyter-widgets/controls",
      "model_module_version": "1.5.0",
      "model_name": "DescriptionStyleModel",
      "state": {
       "description_width": ""
      }
     },
     "69e8ae85d2b548c5b9962ae6f6df531c": {
      "model_module": "@jupyter-widgets/controls",
      "model_module_version": "1.5.0",
      "model_name": "SliderStyleModel",
      "state": {
       "description_width": ""
      }
     },
     "6a57c049db67452eada28d208f55fceb": {
      "model_module": "@jupyter-widgets/controls",
      "model_module_version": "1.5.0",
      "model_name": "IntSliderModel",
      "state": {
       "layout": "IPY_MODEL_ab9ba180b9824fb9982a27fd801fac47",
       "max": 2000,
       "min": 20,
       "style": "IPY_MODEL_8821c571827040be9ac72f5bbacad8e4",
       "value": 500
      }
     },
     "6a61dc153cd94e0fb0ffbec31ae635f2": {
      "model_module": "@jupyter-widgets/controls",
      "model_module_version": "1.5.0",
      "model_name": "IntSliderModel",
      "state": {
       "description": "bins",
       "layout": "IPY_MODEL_04ee29d7fa1d492f925251b11c83d18c",
       "max": 2000,
       "min": 20,
       "style": "IPY_MODEL_b24f562993cc444e8a376056bed4b5eb",
       "value": 500
      }
     },
     "6a7c36bf28cd41deaa1b44b661d5fd4e": {
      "model_module": "@jupyter-widgets/base",
      "model_module_version": "1.2.0",
      "model_name": "LayoutModel",
      "state": {}
     },
     "6a8b1f0431f4415b8421fc55b612462a": {
      "model_module": "@jupyter-widgets/controls",
      "model_module_version": "1.5.0",
      "model_name": "SliderStyleModel",
      "state": {
       "description_width": ""
      }
     },
     "6b63b4003fc34c00bd244f68ea11d6c8": {
      "model_module": "@jupyter-widgets/base",
      "model_module_version": "1.2.0",
      "model_name": "LayoutModel",
      "state": {}
     },
     "6b85edcb4a034d4fa443386f726ab031": {
      "model_module": "@jupyter-widgets/base",
      "model_module_version": "1.2.0",
      "model_name": "LayoutModel",
      "state": {}
     },
     "6b95d661a7504cfa8b368418ab46e992": {
      "model_module": "@jupyter-widgets/controls",
      "model_module_version": "1.5.0",
      "model_name": "SliderStyleModel",
      "state": {
       "description_width": ""
      }
     },
     "6be74900515c468bb84373d642d8c9dc": {
      "model_module": "@jupyter-widgets/controls",
      "model_module_version": "1.5.0",
      "model_name": "SliderStyleModel",
      "state": {
       "description_width": ""
      }
     },
     "6c07f1997e6744ba8381d65ff571d459": {
      "model_module": "@jupyter-widgets/base",
      "model_module_version": "1.2.0",
      "model_name": "LayoutModel",
      "state": {}
     },
     "6d1f6762d7ad4537a0449a20c0926b8b": {
      "model_module": "@jupyter-widgets/controls",
      "model_module_version": "1.5.0",
      "model_name": "SliderStyleModel",
      "state": {
       "description_width": ""
      }
     },
     "6d531537ba3c40c1875b3947b6285550": {
      "model_module": "@jupyter-widgets/base",
      "model_module_version": "1.2.0",
      "model_name": "LayoutModel",
      "state": {}
     },
     "6d7475e9fd8b4e398f702a5866b68e61": {
      "model_module": "@jupyter-widgets/controls",
      "model_module_version": "1.5.0",
      "model_name": "LinkModel",
      "state": {
       "source": [
        "IPY_MODEL_1c88735346da400a91e80a8697c8f190",
        "value"
       ],
       "target": [
        "IPY_MODEL_b944451848144f44a4f46f611539dbf6",
        "value"
       ]
      }
     },
     "6df753feedbe4e78b2532bae8caf9432": {
      "model_module": "@jupyter-widgets/base",
      "model_module_version": "1.2.0",
      "model_name": "LayoutModel",
      "state": {}
     },
     "6e7d093d9ff042f6a79e8168581279e5": {
      "model_module": "@jupyter-widgets/controls",
      "model_module_version": "1.5.0",
      "model_name": "CheckboxModel",
      "state": {
       "description": "Plot Experiment B",
       "disabled": false,
       "layout": "IPY_MODEL_e7be9500d97c494c917aed13efd8b734",
       "style": "IPY_MODEL_7b70ff8382a34fe588f556ffcf2198a7",
       "value": true
      }
     },
     "6eb8d655ea3a451291c7fbe0429784ad": {
      "model_module": "@jupyter-widgets/controls",
      "model_module_version": "1.5.0",
      "model_name": "DropdownModel",
      "state": {
       "_options_labels": [
        "linear",
        "log"
       ],
       "description": "Scale: ",
       "index": 0,
       "layout": "IPY_MODEL_35f74c3ca9764b5ea0fd35f814e9634f",
       "style": "IPY_MODEL_c74ab04d9e8f422eb4822973bc484b45"
      }
     },
     "6ec1a8ded11f464bb08fde7686a60afb": {
      "model_module": "@jupyter-widgets/controls",
      "model_module_version": "1.5.0",
      "model_name": "SliderStyleModel",
      "state": {
       "description_width": ""
      }
     },
     "6eddfed9fd22408593b2417faee57d0c": {
      "model_module": "@jupyter-widgets/controls",
      "model_module_version": "1.5.0",
      "model_name": "DescriptionStyleModel",
      "state": {
       "description_width": ""
      }
     },
     "6ef0bc85620a4a3da6640aa16e131d61": {
      "model_module": "@jupyter-widgets/controls",
      "model_module_version": "1.5.0",
      "model_name": "DescriptionStyleModel",
      "state": {
       "description_width": ""
      }
     },
     "6f7cd45398284847a0dc966a336313f5": {
      "model_module": "@jupyter-widgets/controls",
      "model_module_version": "1.5.0",
      "model_name": "DescriptionStyleModel",
      "state": {
       "description_width": ""
      }
     },
     "70c21f48226147d9accd43f9b0993982": {
      "model_module": "@jupyter-widgets/controls",
      "model_module_version": "1.5.0",
      "model_name": "SliderStyleModel",
      "state": {
       "description_width": ""
      }
     },
     "718fbc8ae2094c2eaa60deafdeeac051": {
      "model_module": "@jupyter-widgets/base",
      "model_module_version": "1.2.0",
      "model_name": "LayoutModel",
      "state": {}
     },
     "719d69bc2b5848f48375766ef5c9eb88": {
      "model_module": "@jupyter-widgets/base",
      "model_module_version": "1.2.0",
      "model_name": "LayoutModel",
      "state": {}
     },
     "71f784dbd770479e914b4cc86e0ecd86": {
      "model_module": "@jupyter-widgets/controls",
      "model_module_version": "1.5.0",
      "model_name": "SliderStyleModel",
      "state": {
       "description_width": ""
      }
     },
     "722e897ce7974f3c8311e10936a384b0": {
      "model_module": "@jupyter-widgets/controls",
      "model_module_version": "1.5.0",
      "model_name": "SliderStyleModel",
      "state": {
       "description_width": ""
      }
     },
     "7245e0dd356c429b84d2bf25bc64db2f": {
      "model_module": "@jupyter-widgets/controls",
      "model_module_version": "1.5.0",
      "model_name": "CheckboxModel",
      "state": {
       "description": "Plot Experiment B",
       "disabled": false,
       "layout": "IPY_MODEL_6953ef2026b64e9f8150293fd9075d76",
       "style": "IPY_MODEL_398684f46210484e97f22ec1a5561453",
       "value": true
      }
     },
     "72b5749ddd5e403499e367b76d1d37ff": {
      "model_module": "@jupyter-widgets/base",
      "model_module_version": "1.2.0",
      "model_name": "LayoutModel",
      "state": {}
     },
     "73e7be017d9540fbafd410aefa190908": {
      "model_module": "@jupyter-widgets/base",
      "model_module_version": "1.2.0",
      "model_name": "LayoutModel",
      "state": {}
     },
     "7427fb6e958d4cc1b2a8649aefc4b674": {
      "model_module": "@jupyter-widgets/base",
      "model_module_version": "1.2.0",
      "model_name": "LayoutModel",
      "state": {}
     },
     "7434dd41e02a410e9530a6318e32090e": {
      "model_module": "@jupyter-widgets/controls",
      "model_module_version": "1.5.0",
      "model_name": "FloatSliderModel",
      "state": {
       "layout": "IPY_MODEL_7b5cd336f4c944e3bd28b3a1272af7ef",
       "max": 20,
       "step": 0.1,
       "style": "IPY_MODEL_58e05cb84ba4404783cf10d805a5700a"
      }
     },
     "743e36925e67458c95d519ada23e018c": {
      "model_module": "@jupyter-widgets/controls",
      "model_module_version": "1.5.0",
      "model_name": "SliderStyleModel",
      "state": {
       "description_width": ""
      }
     },
     "74ad353a4a4f4e829ab994de5648e563": {
      "model_module": "@jupyter-widgets/controls",
      "model_module_version": "1.5.0",
      "model_name": "CheckboxModel",
      "state": {
       "description": "Plot Experiment A",
       "disabled": false,
       "layout": "IPY_MODEL_d8aad8d9c7b146c5a2d6ca72fe9981fa",
       "style": "IPY_MODEL_a694eb2e72254c75b3cc273454f5aa84",
       "value": true
      }
     },
     "74d7a1f2c6424b34b38f5d78d71729a9": {
      "model_module": "@jupyter-widgets/base",
      "model_module_version": "1.2.0",
      "model_name": "LayoutModel",
      "state": {}
     },
     "75cf84a5cf8c4231833d463a18a603e2": {
      "model_module": "@jupyter-widgets/controls",
      "model_module_version": "1.5.0",
      "model_name": "CheckboxModel",
      "state": {
       "description": "Plot Experiment A",
       "disabled": false,
       "layout": "IPY_MODEL_3666f49b77ee40ba82e402e2ace6e730",
       "style": "IPY_MODEL_8177750f96c543c7b1863b9953b0fff3",
       "value": true
      }
     },
     "762dfd59f847470ea934237124cf7137": {
      "model_module": "@jupyter-widgets/controls",
      "model_module_version": "1.5.0",
      "model_name": "IntSliderModel",
      "state": {
       "description": "bins",
       "layout": "IPY_MODEL_540fa19c8717461aa650624748ea46f4",
       "max": 2000,
       "min": 20,
       "style": "IPY_MODEL_c30f3665023f4428a6139dd2ad3db758",
       "value": 500
      }
     },
     "76b46ae4cedd40d69703886197eb95a0": {
      "model_module": "@jupyter-widgets/base",
      "model_module_version": "1.2.0",
      "model_name": "LayoutModel",
      "state": {}
     },
     "76e8fd7230a14445b26bac6aa0bc64f2": {
      "model_module": "@jupyter-widgets/controls",
      "model_module_version": "1.5.0",
      "model_name": "IntSliderModel",
      "state": {
       "layout": "IPY_MODEL_74d7a1f2c6424b34b38f5d78d71729a9",
       "max": 20,
       "style": "IPY_MODEL_175deab41a614e4bbcdccc6e3de9bacc"
      }
     },
     "774a9a172ba44220b21c0b61bf393651": {
      "model_module": "@jupyter-widgets/controls",
      "model_module_version": "1.5.0",
      "model_name": "SliderStyleModel",
      "state": {
       "description_width": ""
      }
     },
     "7798c580dd6d4ba38ae5c74ce938a890": {
      "model_module": "@jupyter-widgets/controls",
      "model_module_version": "1.5.0",
      "model_name": "IntSliderModel",
      "state": {
       "layout": "IPY_MODEL_da616fec7e0b4ac7860a1d5ae6adf7b9",
       "max": 2000,
       "min": 20,
       "style": "IPY_MODEL_a6ee4a827db74c2d9f9355a4c13e5540",
       "value": 500
      }
     },
     "7882df48895a4632863932c53fd2ea9e": {
      "model_module": "@jupyter-widgets/controls",
      "model_module_version": "1.5.0",
      "model_name": "FloatRangeSliderModel",
      "state": {
       "_model_name": "FloatRangeSliderModel",
       "_view_name": "FloatRangeSliderView",
       "description": "x_ran",
       "layout": "IPY_MODEL_00be782605f44ff597ca9821f664b064",
       "max": 20,
       "step": 0.1,
       "style": "IPY_MODEL_5985eda72e894c98979bffa07462dfb3",
       "value": [
        0,
        20
       ]
      }
     },
     "78ead8302c16429b9272e2a6d42050b9": {
      "model_module": "@jupyter-widgets/controls",
      "model_module_version": "1.5.0",
      "model_name": "FloatRangeSliderModel",
      "state": {
       "_model_name": "FloatRangeSliderModel",
       "_view_name": "FloatRangeSliderView",
       "description": "x_ran",
       "layout": "IPY_MODEL_423accd1cff2427db5ba22804df4b95f",
       "max": 20,
       "step": 0.1,
       "style": "IPY_MODEL_9292079490664f0aac4b9d5a9563503c",
       "value": [
        0,
        20
       ]
      }
     },
     "7990a6064fee4581ba0e32aa3ebd5d7a": {
      "model_module": "@jupyter-widgets/controls",
      "model_module_version": "1.5.0",
      "model_name": "DescriptionStyleModel",
      "state": {
       "description_width": ""
      }
     },
     "7a6de1f3fbfd436eb68a420aae8f7a70": {
      "model_module": "@jupyter-widgets/controls",
      "model_module_version": "1.5.0",
      "model_name": "SliderStyleModel",
      "state": {
       "description_width": ""
      }
     },
     "7b5cd336f4c944e3bd28b3a1272af7ef": {
      "model_module": "@jupyter-widgets/base",
      "model_module_version": "1.2.0",
      "model_name": "LayoutModel",
      "state": {}
     },
     "7b70ff8382a34fe588f556ffcf2198a7": {
      "model_module": "@jupyter-widgets/controls",
      "model_module_version": "1.5.0",
      "model_name": "DescriptionStyleModel",
      "state": {
       "description_width": ""
      }
     },
     "7ba91113d56d44f287e8df4145acc30f": {
      "model_module": "@jupyter-widgets/controls",
      "model_module_version": "1.5.0",
      "model_name": "LinkModel",
      "state": {
       "source": [
        "IPY_MODEL_1b29c1a4af2b47199675c45e4cd9bfda",
        "value"
       ],
       "target": [
        "IPY_MODEL_588668af76ba4fc58a76d581827afc06",
        "value"
       ]
      }
     },
     "7bba727f098345ba86cab12417433c7d": {
      "model_module": "@jupyter-widgets/base",
      "model_module_version": "1.2.0",
      "model_name": "LayoutModel",
      "state": {}
     },
     "7c0c0ac8b77c4bc5a40df65897fe034b": {
      "model_module": "@jupyter-widgets/controls",
      "model_module_version": "1.5.0",
      "model_name": "VBoxModel",
      "state": {
       "_dom_classes": [
        "widget-interact"
       ],
       "children": [
        "IPY_MODEL_34b2bd10f3da46d480e77ad38ccd5900",
        "IPY_MODEL_f3614a372f7149aabd3c90c90c404fc3",
        "IPY_MODEL_f04fa3d798b54142beb8b9b726726948",
        "IPY_MODEL_5cae74eb11ac43668bdbdd51f6813e42",
        "IPY_MODEL_f3ad5b68175f49838a83e9476e8c9bfb",
        "IPY_MODEL_2ee30024a5284412a58135a6537353f2",
        "IPY_MODEL_5c244e1823c24abcb556a2667806b8ce",
        "IPY_MODEL_81668b90ce474a48b0eafffeac8e488a"
       ],
       "layout": "IPY_MODEL_d00c86e1398a442ea464583e7a5330d5"
      }
     },
     "7cd36940aec94a509276167ceb1a19d3": {
      "model_module": "@jupyter-widgets/controls",
      "model_module_version": "1.5.0",
      "model_name": "IntSliderModel",
      "state": {
       "layout": "IPY_MODEL_c34e3dc71820494c9608e2fbefa4d00d",
       "max": 20,
       "style": "IPY_MODEL_fedb7679d32747df85e43c22dc3d4a1c"
      }
     },
     "7ce1177b1123445face8d5d6231e1d9e": {
      "model_module": "@jupyter-widgets/controls",
      "model_module_version": "1.5.0",
      "model_name": "DropdownModel",
      "state": {
       "_options_labels": [
        "linear",
        "log"
       ],
       "description": "Scale: ",
       "index": 0,
       "layout": "IPY_MODEL_f9c525d85e8e4e7a9f470446242f256d",
       "style": "IPY_MODEL_f7e7ea863f04440591472f6122610d2c"
      }
     },
     "7ce609b9c2134c92a72d3d07bd1591c4": {
      "model_module": "@jupyter-widgets/base",
      "model_module_version": "1.2.0",
      "model_name": "LayoutModel",
      "state": {}
     },
     "7d8a5c5fd02143108ee34b1820b93a07": {
      "model_module": "@jupyter-widgets/controls",
      "model_module_version": "1.5.0",
      "model_name": "SliderStyleModel",
      "state": {
       "description_width": ""
      }
     },
     "7db18e87572045a6a98aeb89663c0612": {
      "model_module": "@jupyter-widgets/controls",
      "model_module_version": "1.5.0",
      "model_name": "CheckboxModel",
      "state": {
       "description": "Plot Experiment A",
       "disabled": false,
       "layout": "IPY_MODEL_9ab3841f22c04505b9715a275bba4f79",
       "style": "IPY_MODEL_103d2c2a38f640edb6f68f529afce9c9",
       "value": true
      }
     },
     "7dbe6f471cc743ad9429207623d8ab93": {
      "model_module": "@jupyter-widgets/base",
      "model_module_version": "1.2.0",
      "model_name": "LayoutModel",
      "state": {}
     },
     "7ebb0731535145d39306dd66dbb047bb": {
      "model_module": "@jupyter-widgets/controls",
      "model_module_version": "1.5.0",
      "model_name": "FloatSliderModel",
      "state": {
       "layout": "IPY_MODEL_a59c7d06734346e9b79f4609e94892a4",
       "max": 20,
       "step": 0.1,
       "style": "IPY_MODEL_40bcfaca3e80455fa70d307074c64997",
       "value": 20
      }
     },
     "7f44077d9c5048e7b827f7cb2c4321ef": {
      "model_module": "@jupyter-widgets/controls",
      "model_module_version": "1.5.0",
      "model_name": "DescriptionStyleModel",
      "state": {
       "description_width": ""
      }
     },
     "7f47f601331c44a6a41cba62b5b58300": {
      "model_module": "@jupyter-widgets/controls",
      "model_module_version": "1.5.0",
      "model_name": "CheckboxModel",
      "state": {
       "description": "Plot Experiment C",
       "disabled": false,
       "layout": "IPY_MODEL_a204f6c4416644d28d7abde506cc64f5",
       "style": "IPY_MODEL_378bae9f7c664ccdbae01b10c5e83c22",
       "value": true
      }
     },
     "8073d3beb20b48e29f441d29a75568d2": {
      "model_module": "@jupyter-widgets/controls",
      "model_module_version": "1.5.0",
      "model_name": "SliderStyleModel",
      "state": {
       "description_width": ""
      }
     },
     "81668b90ce474a48b0eafffeac8e488a": {
      "model_module": "@jupyter-widgets/output",
      "model_module_version": "1.0.0",
      "model_name": "OutputModel",
      "state": {
       "layout": "IPY_MODEL_24ae107b063f4a5db0c6cb48de4b138b",
       "outputs": [
        {
         "ename": "TypeError",
         "evalue": "'FloatRangeSlider' object is not subscriptable",
         "output_type": "error",
         "traceback": [
          "\u001b[0;31m---------------------------------------------------------------------------\u001b[0m",
          "\u001b[0;31mTypeError\u001b[0m                                 Traceback (most recent call last)",
          "\u001b[0;32m~/.pyenv/versions/3.8.6/lib/python3.8/site-packages/ipywidgets/widgets/interaction.py\u001b[0m in \u001b[0;36mupdate\u001b[0;34m(self, *args)\u001b[0m\n\u001b[1;32m    254\u001b[0m                     \u001b[0mvalue\u001b[0m \u001b[0;34m=\u001b[0m \u001b[0mwidget\u001b[0m\u001b[0;34m.\u001b[0m\u001b[0mget_interact_value\u001b[0m\u001b[0;34m(\u001b[0m\u001b[0;34m)\u001b[0m\u001b[0;34m\u001b[0m\u001b[0;34m\u001b[0m\u001b[0m\n\u001b[1;32m    255\u001b[0m                     \u001b[0mself\u001b[0m\u001b[0;34m.\u001b[0m\u001b[0mkwargs\u001b[0m\u001b[0;34m[\u001b[0m\u001b[0mwidget\u001b[0m\u001b[0;34m.\u001b[0m\u001b[0m_kwarg\u001b[0m\u001b[0;34m]\u001b[0m \u001b[0;34m=\u001b[0m \u001b[0mvalue\u001b[0m\u001b[0;34m\u001b[0m\u001b[0;34m\u001b[0m\u001b[0m\n\u001b[0;32m--> 256\u001b[0;31m                 \u001b[0mself\u001b[0m\u001b[0;34m.\u001b[0m\u001b[0mresult\u001b[0m \u001b[0;34m=\u001b[0m \u001b[0mself\u001b[0m\u001b[0;34m.\u001b[0m\u001b[0mf\u001b[0m\u001b[0;34m(\u001b[0m\u001b[0;34m**\u001b[0m\u001b[0mself\u001b[0m\u001b[0;34m.\u001b[0m\u001b[0mkwargs\u001b[0m\u001b[0;34m)\u001b[0m\u001b[0;34m\u001b[0m\u001b[0;34m\u001b[0m\u001b[0m\n\u001b[0m\u001b[1;32m    257\u001b[0m                 \u001b[0mshow_inline_matplotlib_plots\u001b[0m\u001b[0;34m(\u001b[0m\u001b[0;34m)\u001b[0m\u001b[0;34m\u001b[0m\u001b[0;34m\u001b[0m\u001b[0m\n\u001b[1;32m    258\u001b[0m                 \u001b[0;32mif\u001b[0m \u001b[0mself\u001b[0m\u001b[0;34m.\u001b[0m\u001b[0mauto_display\u001b[0m \u001b[0;32mand\u001b[0m \u001b[0mself\u001b[0m\u001b[0;34m.\u001b[0m\u001b[0mresult\u001b[0m \u001b[0;32mis\u001b[0m \u001b[0;32mnot\u001b[0m \u001b[0;32mNone\u001b[0m\u001b[0;34m:\u001b[0m\u001b[0;34m\u001b[0m\u001b[0;34m\u001b[0m\u001b[0m\n",
          "\u001b[0;32m<ipython-input-184-bd8d27429964>\u001b[0m in \u001b[0;36mplot_all\u001b[0;34m(bins, x_range, y_upper_bound, check_A, check_B, check_C, scale_drop)\u001b[0m\n\u001b[1;32m     57\u001b[0m         \u001b[0mplt\u001b[0m\u001b[0;34m.\u001b[0m\u001b[0mhist\u001b[0m\u001b[0;34m(\u001b[0m\u001b[0mbins_C\u001b[0m\u001b[0;34m[\u001b[0m\u001b[0;34m:\u001b[0m\u001b[0;34m-\u001b[0m\u001b[0;36m1\u001b[0m\u001b[0;34m]\u001b[0m\u001b[0;34m,\u001b[0m \u001b[0mbins_C\u001b[0m\u001b[0;34m,\u001b[0m \u001b[0mweights\u001b[0m\u001b[0;34m=\u001b[0m\u001b[0mhist_C\u001b[0m\u001b[0;34m/\u001b[0m\u001b[0mexposure_C\u001b[0m\u001b[0;34m,\u001b[0m \u001b[0mhisttype\u001b[0m\u001b[0;34m=\u001b[0m\u001b[0;34m'step'\u001b[0m\u001b[0;34m,\u001b[0m \u001b[0mlabel\u001b[0m\u001b[0;34m=\u001b[0m\u001b[0;34m'Experiment C'\u001b[0m\u001b[0;34m)\u001b[0m\u001b[0;34m\u001b[0m\u001b[0;34m\u001b[0m\u001b[0m\n\u001b[1;32m     58\u001b[0m     \u001b[0mplt\u001b[0m\u001b[0;34m.\u001b[0m\u001b[0mxlabel\u001b[0m\u001b[0;34m(\u001b[0m\u001b[0;34m'Energy (keV)'\u001b[0m\u001b[0;34m)\u001b[0m\u001b[0;34m\u001b[0m\u001b[0;34m\u001b[0m\u001b[0m\n\u001b[0;32m---> 59\u001b[0;31m     \u001b[0mplt\u001b[0m\u001b[0;34m.\u001b[0m\u001b[0mylabel\u001b[0m\u001b[0;34m(\u001b[0m\u001b[0;34mf'Counts / ({1000*(x_ran[1] - x_ran[0])/n_bins:.1f} eV kg days)'\u001b[0m\u001b[0;34m)\u001b[0m\u001b[0;34m\u001b[0m\u001b[0;34m\u001b[0m\u001b[0m\n\u001b[0m\u001b[1;32m     60\u001b[0m     \u001b[0mplt\u001b[0m\u001b[0;34m.\u001b[0m\u001b[0mlegend\u001b[0m\u001b[0;34m(\u001b[0m\u001b[0;34m)\u001b[0m\u001b[0;34m\u001b[0m\u001b[0;34m\u001b[0m\u001b[0m\n\u001b[1;32m     61\u001b[0m     \u001b[0mplt\u001b[0m\u001b[0;34m.\u001b[0m\u001b[0mxlim\u001b[0m\u001b[0;34m(\u001b[0m\u001b[0mx_ran\u001b[0m\u001b[0;34m)\u001b[0m\u001b[0;34m\u001b[0m\u001b[0;34m\u001b[0m\u001b[0m\n",
          "\u001b[0;31mTypeError\u001b[0m: 'FloatRangeSlider' object is not subscriptable"
         ]
        }
       ]
      }
     },
     "8177750f96c543c7b1863b9953b0fff3": {
      "model_module": "@jupyter-widgets/controls",
      "model_module_version": "1.5.0",
      "model_name": "DescriptionStyleModel",
      "state": {
       "description_width": ""
      }
     },
     "81dab2de7ae9420b911e67ee39d85943": {
      "model_module": "@jupyter-widgets/controls",
      "model_module_version": "1.5.0",
      "model_name": "LinkModel",
      "state": {
       "source": [
        "IPY_MODEL_c44f5a8964ed4acab4c129e90f182392",
        "value"
       ],
       "target": [
        "IPY_MODEL_b8f37162ce1e453a8e04ddfd9cdb93cd",
        "value"
       ]
      }
     },
     "8402deda8dfc46d585379f1a52c4d360": {
      "model_module": "@jupyter-widgets/controls",
      "model_module_version": "1.5.0",
      "model_name": "IntSliderModel",
      "state": {
       "layout": "IPY_MODEL_047e0136379a4dcf8661f2c0dbe5587d",
       "max": 2000,
       "min": 20,
       "style": "IPY_MODEL_88100d804a644c4ca78168ba0d6a68f2",
       "value": 500
      }
     },
     "843af17d5a534ff785775ebdcafa0126": {
      "model_module": "@jupyter-widgets/controls",
      "model_module_version": "1.5.0",
      "model_name": "SliderStyleModel",
      "state": {
       "description_width": ""
      }
     },
     "84f5a13703e848ba9d75391d99268b0e": {
      "model_module": "@jupyter-widgets/controls",
      "model_module_version": "1.5.0",
      "model_name": "FloatSliderModel",
      "state": {
       "layout": "IPY_MODEL_73e7be017d9540fbafd410aefa190908",
       "max": 20,
       "step": 0.1,
       "style": "IPY_MODEL_6be74900515c468bb84373d642d8c9dc",
       "value": 20
      }
     },
     "852d544467fa4526b1e4d873db0b206e": {
      "model_module": "@jupyter-widgets/controls",
      "model_module_version": "1.5.0",
      "model_name": "FloatLogSliderModel",
      "state": {
       "description": "y_max",
       "layout": "IPY_MODEL_bf49744da22b4a3fbb04aee78d71d307",
       "max": 5,
       "min": -1,
       "style": "IPY_MODEL_adbf00f2245c461390b185621053a15d",
       "value": 31622.776601683792
      }
     },
     "86696edb792c4bc0b259ac9d04a7d781": {
      "model_module": "@jupyter-widgets/controls",
      "model_module_version": "1.5.0",
      "model_name": "SliderStyleModel",
      "state": {
       "description_width": ""
      }
     },
     "86ac813f69d941ecb02622e769e2ca7b": {
      "model_module": "@jupyter-widgets/controls",
      "model_module_version": "1.5.0",
      "model_name": "SliderStyleModel",
      "state": {
       "description_width": ""
      }
     },
     "872114a588fb466e9a940a169698780c": {
      "model_module": "@jupyter-widgets/base",
      "model_module_version": "1.2.0",
      "model_name": "LayoutModel",
      "state": {}
     },
     "8750395f23974e22b2825361cc4adb69": {
      "model_module": "@jupyter-widgets/base",
      "model_module_version": "1.2.0",
      "model_name": "LayoutModel",
      "state": {}
     },
     "88100d804a644c4ca78168ba0d6a68f2": {
      "model_module": "@jupyter-widgets/controls",
      "model_module_version": "1.5.0",
      "model_name": "SliderStyleModel",
      "state": {
       "description_width": ""
      }
     },
     "8821c571827040be9ac72f5bbacad8e4": {
      "model_module": "@jupyter-widgets/controls",
      "model_module_version": "1.5.0",
      "model_name": "SliderStyleModel",
      "state": {
       "description_width": ""
      }
     },
     "8841f4d78f3f4cf2b84a529a0499335b": {
      "model_module": "@jupyter-widgets/controls",
      "model_module_version": "1.5.0",
      "model_name": "DescriptionStyleModel",
      "state": {
       "description_width": ""
      }
     },
     "88cb48f482944389ae1e70e3139c71c9": {
      "model_module": "@jupyter-widgets/base",
      "model_module_version": "1.2.0",
      "model_name": "LayoutModel",
      "state": {}
     },
     "89182ee2cc7c42788d9b06a0b9797da0": {
      "model_module": "@jupyter-widgets/controls",
      "model_module_version": "1.5.0",
      "model_name": "FloatRangeSliderModel",
      "state": {
       "_model_name": "FloatRangeSliderModel",
       "_view_name": "FloatRangeSliderView",
       "description": "x_range",
       "layout": "IPY_MODEL_a98bc0d9070a42beb55b5665af844db9",
       "max": 20,
       "step": 0.1,
       "style": "IPY_MODEL_931a5380e5b941c384208a1b13b070a4",
       "value": [
        0,
        20
       ]
      }
     },
     "89e42d32e28249f7ba0b3bb8e933fd8e": {
      "model_module": "@jupyter-widgets/base",
      "model_module_version": "1.2.0",
      "model_name": "LayoutModel",
      "state": {}
     },
     "89ec177502ea4094aeafc0e277b7e5f8": {
      "model_module": "@jupyter-widgets/controls",
      "model_module_version": "1.5.0",
      "model_name": "SliderStyleModel",
      "state": {
       "description_width": ""
      }
     },
     "89f996f9921b4cdf8bfa88604ba6f9f1": {
      "model_module": "@jupyter-widgets/controls",
      "model_module_version": "1.5.0",
      "model_name": "IntSliderModel",
      "state": {
       "layout": "IPY_MODEL_9a118ca99ed841a68c0d34d16eca2e6f",
       "max": 2000,
       "min": 20,
       "style": "IPY_MODEL_774a9a172ba44220b21c0b61bf393651",
       "value": 500
      }
     },
     "8a10e9f49c194ad8b5b0e54f25838300": {
      "model_module": "@jupyter-widgets/base",
      "model_module_version": "1.2.0",
      "model_name": "LayoutModel",
      "state": {}
     },
     "8a5846f56ae34de2a665bce170b24216": {
      "model_module": "@jupyter-widgets/base",
      "model_module_version": "1.2.0",
      "model_name": "LayoutModel",
      "state": {}
     },
     "8b55d531a64245c99a55b5bb48c84e42": {
      "model_module": "@jupyter-widgets/base",
      "model_module_version": "1.2.0",
      "model_name": "LayoutModel",
      "state": {}
     },
     "8b5922dafaa349ffb64e8f261d46f54f": {
      "model_module": "@jupyter-widgets/base",
      "model_module_version": "1.2.0",
      "model_name": "LayoutModel",
      "state": {}
     },
     "8b651f45ac424731a2c981d8677465ec": {
      "model_module": "@jupyter-widgets/base",
      "model_module_version": "1.2.0",
      "model_name": "LayoutModel",
      "state": {}
     },
     "8c08cc943b2d47a9be2beaff475f20d5": {
      "model_module": "@jupyter-widgets/base",
      "model_module_version": "1.2.0",
      "model_name": "LayoutModel",
      "state": {}
     },
     "8d2461d0893340488e9c48b731c55793": {
      "model_module": "@jupyter-widgets/base",
      "model_module_version": "1.2.0",
      "model_name": "LayoutModel",
      "state": {}
     },
     "8d5445b64d9746c98211a421555bff41": {
      "model_module": "@jupyter-widgets/controls",
      "model_module_version": "1.5.0",
      "model_name": "CheckboxModel",
      "state": {
       "description": "Plot Experiment A",
       "disabled": false,
       "layout": "IPY_MODEL_ea9f2f551c82469f90add4025467bbc2",
       "style": "IPY_MODEL_c09d950f22d54558aa3a01554a6785f5",
       "value": true
      }
     },
     "8d7c7193fd4f4f32be2bd016b65d6231": {
      "model_module": "@jupyter-widgets/controls",
      "model_module_version": "1.5.0",
      "model_name": "CheckboxModel",
      "state": {
       "description": "Plot Experiment B",
       "disabled": false,
       "layout": "IPY_MODEL_718fbc8ae2094c2eaa60deafdeeac051",
       "style": "IPY_MODEL_6472458aef114b0186c3ff81157a8e69",
       "value": true
      }
     },
     "8e2c64736ed740ae9cf4a34d683eee19": {
      "model_module": "@jupyter-widgets/controls",
      "model_module_version": "1.5.0",
      "model_name": "DescriptionStyleModel",
      "state": {
       "description_width": ""
      }
     },
     "8e989d953254480bbec03aaa85970a6c": {
      "model_module": "@jupyter-widgets/base",
      "model_module_version": "1.2.0",
      "model_name": "LayoutModel",
      "state": {}
     },
     "8fcc3719c31c46be9e41e84f8607e359": {
      "model_module": "@jupyter-widgets/base",
      "model_module_version": "1.2.0",
      "model_name": "LayoutModel",
      "state": {}
     },
     "8fd5b2129c3546858a6ad6aafb59def3": {
      "model_module": "@jupyter-widgets/controls",
      "model_module_version": "1.5.0",
      "model_name": "IntSliderModel",
      "state": {
       "layout": "IPY_MODEL_9517b00718724306854e20067aa464c2",
       "max": 2000,
       "min": 20,
       "style": "IPY_MODEL_f7519b23a52044cd9db428ed91d74807",
       "value": 500
      }
     },
     "902cab4b93454e32833769740bbe887f": {
      "model_module": "@jupyter-widgets/controls",
      "model_module_version": "1.5.0",
      "model_name": "CheckboxModel",
      "state": {
       "description": "Plot Experiment A",
       "disabled": false,
       "layout": "IPY_MODEL_60d12a9e3e6843fe8a2f55bba39cb64c",
       "style": "IPY_MODEL_952cb9c48f2b4bb6ba0329b0559c25ef",
       "value": true
      }
     },
     "902e25aef747499fa9643fdb62581c86": {
      "model_module": "@jupyter-widgets/base",
      "model_module_version": "1.2.0",
      "model_name": "LayoutModel",
      "state": {}
     },
     "927f649f7eac475aa67b28446fa7a890": {
      "model_module": "@jupyter-widgets/base",
      "model_module_version": "1.2.0",
      "model_name": "LayoutModel",
      "state": {}
     },
     "92828ae0512d45318ef392eeccdf18f7": {
      "model_module": "@jupyter-widgets/base",
      "model_module_version": "1.2.0",
      "model_name": "LayoutModel",
      "state": {}
     },
     "9292079490664f0aac4b9d5a9563503c": {
      "model_module": "@jupyter-widgets/controls",
      "model_module_version": "1.5.0",
      "model_name": "SliderStyleModel",
      "state": {
       "description_width": ""
      }
     },
     "92b22dad60854ba7a970619c16d6ec50": {
      "model_module": "@jupyter-widgets/controls",
      "model_module_version": "1.5.0",
      "model_name": "CheckboxModel",
      "state": {
       "description": "Plot Experiment B",
       "disabled": false,
       "layout": "IPY_MODEL_1656e77511fb4b29bdddd988c17b48cd",
       "style": "IPY_MODEL_4a6573eefcc441a59f5188ce213c6b3d",
       "value": true
      }
     },
     "931a5380e5b941c384208a1b13b070a4": {
      "model_module": "@jupyter-widgets/controls",
      "model_module_version": "1.5.0",
      "model_name": "SliderStyleModel",
      "state": {
       "description_width": ""
      }
     },
     "932334f609da4067a25e832ec6834f91": {
      "model_module": "@jupyter-widgets/controls",
      "model_module_version": "1.5.0",
      "model_name": "SliderStyleModel",
      "state": {
       "description_width": ""
      }
     },
     "935d44279f3a4c339051483a87fa24cc": {
      "model_module": "@jupyter-widgets/controls",
      "model_module_version": "1.5.0",
      "model_name": "SliderStyleModel",
      "state": {
       "description_width": ""
      }
     },
     "93fcae6cef6547d6b42b6f0233e71746": {
      "model_module": "@jupyter-widgets/controls",
      "model_module_version": "1.5.0",
      "model_name": "DescriptionStyleModel",
      "state": {
       "description_width": ""
      }
     },
     "9517b00718724306854e20067aa464c2": {
      "model_module": "@jupyter-widgets/base",
      "model_module_version": "1.2.0",
      "model_name": "LayoutModel",
      "state": {}
     },
     "952cb9c48f2b4bb6ba0329b0559c25ef": {
      "model_module": "@jupyter-widgets/controls",
      "model_module_version": "1.5.0",
      "model_name": "DescriptionStyleModel",
      "state": {
       "description_width": ""
      }
     },
     "956e82f231314edc88c29f505f3ff97e": {
      "model_module": "@jupyter-widgets/controls",
      "model_module_version": "1.5.0",
      "model_name": "CheckboxModel",
      "state": {
       "description": "Plot Experiment C",
       "disabled": false,
       "layout": "IPY_MODEL_c00ddfb76ef84661a14d4731ddf43464",
       "style": "IPY_MODEL_af29e1b841e04fb1a9093d367769fb4d",
       "value": true
      }
     },
     "9577e97bf34e4ccfad81890cce62b5e7": {
      "model_module": "@jupyter-widgets/base",
      "model_module_version": "1.2.0",
      "model_name": "LayoutModel",
      "state": {}
     },
     "959e95f5f64d4750bb9100f870ccef38": {
      "model_module": "@jupyter-widgets/base",
      "model_module_version": "1.2.0",
      "model_name": "LayoutModel",
      "state": {}
     },
     "9631fd69dbbc42fcb59d6182ed076ef1": {
      "model_module": "@jupyter-widgets/controls",
      "model_module_version": "1.5.0",
      "model_name": "SliderStyleModel",
      "state": {
       "description_width": ""
      }
     },
     "9653d78ca46143688b83841b397853c7": {
      "model_module": "@jupyter-widgets/base",
      "model_module_version": "1.2.0",
      "model_name": "LayoutModel",
      "state": {}
     },
     "9843a2bcfef640f4b25f3d87b5d03f32": {
      "model_module": "@jupyter-widgets/controls",
      "model_module_version": "1.5.0",
      "model_name": "CheckboxModel",
      "state": {
       "description": "Plot Experiment A",
       "disabled": false,
       "layout": "IPY_MODEL_7dbe6f471cc743ad9429207623d8ab93",
       "style": "IPY_MODEL_60da177c6d974f10999914bfaa864d76",
       "value": true
      }
     },
     "9867de26c2024b259b87b1adb14a44f0": {
      "model_module": "@jupyter-widgets/controls",
      "model_module_version": "1.5.0",
      "model_name": "DropdownModel",
      "state": {
       "_options_labels": [
        "linear",
        "log"
       ],
       "description": "Scale: ",
       "index": 1,
       "layout": "IPY_MODEL_c5694b874a2442b6a42dd316085636a7",
       "style": "IPY_MODEL_31101526f452463099acce1c667c1570"
      }
     },
     "9a118ca99ed841a68c0d34d16eca2e6f": {
      "model_module": "@jupyter-widgets/base",
      "model_module_version": "1.2.0",
      "model_name": "LayoutModel",
      "state": {}
     },
     "9ab3841f22c04505b9715a275bba4f79": {
      "model_module": "@jupyter-widgets/base",
      "model_module_version": "1.2.0",
      "model_name": "LayoutModel",
      "state": {}
     },
     "9b1c3715c4de4a4da9ff1894678525ac": {
      "model_module": "@jupyter-widgets/controls",
      "model_module_version": "1.5.0",
      "model_name": "DescriptionStyleModel",
      "state": {
       "description_width": ""
      }
     },
     "9bfaea9ccf31409f8870a21851b06253": {
      "model_module": "@jupyter-widgets/base",
      "model_module_version": "1.2.0",
      "model_name": "LayoutModel",
      "state": {}
     },
     "9c0f5ad20db148dfbc402483179a47fc": {
      "model_module": "@jupyter-widgets/controls",
      "model_module_version": "1.5.0",
      "model_name": "IntSliderModel",
      "state": {
       "layout": "IPY_MODEL_a61aaf03d1fb4bb68c5d2e604df84d57",
       "max": 2000,
       "min": 20,
       "style": "IPY_MODEL_8073d3beb20b48e29f441d29a75568d2",
       "value": 500
      }
     },
     "9c135c3559d741699aadfbddb83544ff": {
      "model_module": "@jupyter-widgets/controls",
      "model_module_version": "1.5.0",
      "model_name": "SliderStyleModel",
      "state": {
       "description_width": ""
      }
     },
     "9c658bf4784f4a09862716ed625e7799": {
      "model_module": "@jupyter-widgets/controls",
      "model_module_version": "1.5.0",
      "model_name": "FloatSliderModel",
      "state": {
       "layout": "IPY_MODEL_cdb509656dd1484ebf7617b4e0fbea49",
       "max": 100000,
       "min": 0.5,
       "step": 0.1,
       "style": "IPY_MODEL_9631fd69dbbc42fcb59d6182ed076ef1",
       "value": 25118.864315095823
      }
     },
     "9d45fd497625489f91459d718172e33a": {
      "model_module": "@jupyter-widgets/controls",
      "model_module_version": "1.5.0",
      "model_name": "DescriptionStyleModel",
      "state": {
       "description_width": ""
      }
     },
     "9db45b0543114223bd2ce6eaedc54227": {
      "model_module": "@jupyter-widgets/controls",
      "model_module_version": "1.5.0",
      "model_name": "IntSliderModel",
      "state": {
       "layout": "IPY_MODEL_cd2a73ed4b834081bb9feeceeda3d154",
       "max": 20,
       "style": "IPY_MODEL_843af17d5a534ff785775ebdcafa0126"
      }
     },
     "9e5b73f7fe8c4bdaa7d04fbc13975f06": {
      "model_module": "@jupyter-widgets/controls",
      "model_module_version": "1.5.0",
      "model_name": "FloatLogSliderModel",
      "state": {
       "description": "y_upper_bound",
       "layout": "IPY_MODEL_5111b4f6da6042dda7c9bf24642354e4",
       "max": 5,
       "min": -1,
       "style": "IPY_MODEL_70c21f48226147d9accd43f9b0993982",
       "value": 10000
      }
     },
     "9f075f3d57754a8ca7583e9a384a21f5": {
      "model_module": "@jupyter-widgets/base",
      "model_module_version": "1.2.0",
      "model_name": "LayoutModel",
      "state": {}
     },
     "a024f31c55634bc29d83450e0b36f513": {
      "model_module": "@jupyter-widgets/controls",
      "model_module_version": "1.5.0",
      "model_name": "SliderStyleModel",
      "state": {
       "description_width": ""
      }
     },
     "a0a151a07e5a414583ffb40e6d6fbb40": {
      "model_module": "@jupyter-widgets/base",
      "model_module_version": "1.2.0",
      "model_name": "LayoutModel",
      "state": {}
     },
     "a137594144cb4977838b21d9ad37e895": {
      "model_module": "@jupyter-widgets/base",
      "model_module_version": "1.2.0",
      "model_name": "LayoutModel",
      "state": {}
     },
     "a188e39d4fe7488fa37ef8fc24ee692e": {
      "model_module": "@jupyter-widgets/controls",
      "model_module_version": "1.5.0",
      "model_name": "SliderStyleModel",
      "state": {
       "description_width": ""
      }
     },
     "a1eb630a5bc74a6190243f841056cdc7": {
      "model_module": "@jupyter-widgets/controls",
      "model_module_version": "1.5.0",
      "model_name": "FloatRangeSliderModel",
      "state": {
       "_model_name": "FloatRangeSliderModel",
       "_view_name": "FloatRangeSliderView",
       "layout": "IPY_MODEL_cb7e853361fc4e9d836309bdeffc5367",
       "max": 20,
       "step": 0.1,
       "style": "IPY_MODEL_dfb2acbc827c47f5b23deb41eed91c63",
       "value": [
        0,
        20
       ]
      }
     },
     "a204f6c4416644d28d7abde506cc64f5": {
      "model_module": "@jupyter-widgets/base",
      "model_module_version": "1.2.0",
      "model_name": "LayoutModel",
      "state": {}
     },
     "a31cb82e17f3426ca50986c66a6dd25f": {
      "model_module": "@jupyter-widgets/controls",
      "model_module_version": "1.5.0",
      "model_name": "SliderStyleModel",
      "state": {
       "description_width": ""
      }
     },
     "a37d3f3bf8fc42b3a2669b6743954baf": {
      "model_module": "@jupyter-widgets/controls",
      "model_module_version": "1.5.0",
      "model_name": "SliderStyleModel",
      "state": {
       "description_width": ""
      }
     },
     "a3827574d7f54186bd392d0c2bb8ac66": {
      "model_module": "@jupyter-widgets/controls",
      "model_module_version": "1.5.0",
      "model_name": "DropdownModel",
      "state": {
       "_options_labels": [
        "linear",
        "log"
       ],
       "description": "Scale of y axis: ",
       "index": 0,
       "layout": "IPY_MODEL_631815e8abbb4481a24d498f8f01b7b8",
       "style": "IPY_MODEL_5b239622db634e129d3c60a9cae67635"
      }
     },
     "a407540adfd8452aadbfc97ab4b1548f": {
      "model_module": "@jupyter-widgets/controls",
      "model_module_version": "1.5.0",
      "model_name": "CheckboxModel",
      "state": {
       "description": "Plot Experiment A",
       "disabled": false,
       "layout": "IPY_MODEL_8c08cc943b2d47a9be2beaff475f20d5",
       "style": "IPY_MODEL_7990a6064fee4581ba0e32aa3ebd5d7a",
       "value": true
      }
     },
     "a580e4352a0843f19047399f64db98ad": {
      "model_module": "@jupyter-widgets/base",
      "model_module_version": "1.2.0",
      "model_name": "LayoutModel",
      "state": {}
     },
     "a59c7d06734346e9b79f4609e94892a4": {
      "model_module": "@jupyter-widgets/base",
      "model_module_version": "1.2.0",
      "model_name": "LayoutModel",
      "state": {}
     },
     "a5ec6a8bb3c049f1afdb34393fb00882": {
      "model_module": "@jupyter-widgets/controls",
      "model_module_version": "1.5.0",
      "model_name": "SliderStyleModel",
      "state": {
       "description_width": ""
      }
     },
     "a5fc7f93be5249ff93d24568d5ff1203": {
      "model_module": "@jupyter-widgets/controls",
      "model_module_version": "1.5.0",
      "model_name": "IntSliderModel",
      "state": {
       "layout": "IPY_MODEL_5cbaf65b174e48d194d4d1d5622f630a",
       "max": 20,
       "style": "IPY_MODEL_935d44279f3a4c339051483a87fa24cc",
       "value": 20
      }
     },
     "a60cf3ece06043d6a59e3633bd895044": {
      "model_module": "@jupyter-widgets/controls",
      "model_module_version": "1.5.0",
      "model_name": "SliderStyleModel",
      "state": {
       "description_width": ""
      }
     },
     "a61aaf03d1fb4bb68c5d2e604df84d57": {
      "model_module": "@jupyter-widgets/base",
      "model_module_version": "1.2.0",
      "model_name": "LayoutModel",
      "state": {}
     },
     "a61d225cf6ec4c6c8d4aba1c1ac7105d": {
      "model_module": "@jupyter-widgets/output",
      "model_module_version": "1.0.0",
      "model_name": "OutputModel",
      "state": {
       "layout": "IPY_MODEL_d14bb117f61e48459b2a11c3524c7e55",
       "outputs": [
        {
         "data": {
          "image/svg+xml": "<?xml version=\"1.0\" encoding=\"utf-8\" standalone=\"no\"?>\n<!DOCTYPE svg PUBLIC \"-//W3C//DTD SVG 1.1//EN\"\n  \"http://www.w3.org/Graphics/SVG/1.1/DTD/svg11.dtd\">\n<!-- Created with matplotlib (https://matplotlib.org/) -->\n<svg height=\"262.19625pt\" version=\"1.1\" viewBox=\"0 0 398.610938 262.19625\" width=\"398.610938pt\" xmlns=\"http://www.w3.org/2000/svg\" xmlns:xlink=\"http://www.w3.org/1999/xlink\">\n <metadata>\n  <rdf:RDF xmlns:cc=\"http://creativecommons.org/ns#\" xmlns:dc=\"http://purl.org/dc/elements/1.1/\" xmlns:rdf=\"http://www.w3.org/1999/02/22-rdf-syntax-ns#\">\n   <cc:Work>\n    <dc:type rdf:resource=\"http://purl.org/dc/dcmitype/StillImage\"/>\n    <dc:date>2021-06-09T01:41:12.997349</dc:date>\n    <dc:format>image/svg+xml</dc:format>\n    <dc:creator>\n     <cc:Agent>\n      <dc:title>Matplotlib v3.3.3, https://matplotlib.org/</dc:title>\n     </cc:Agent>\n    </dc:creator>\n   </cc:Work>\n  </rdf:RDF>\n </metadata>\n <defs>\n  <style type=\"text/css\">*{stroke-linecap:butt;stroke-linejoin:round;}</style>\n </defs>\n <g id=\"figure_1\">\n  <g id=\"patch_1\">\n   <path d=\"M 0 262.19625 \nL 398.610938 262.19625 \nL 398.610938 0 \nL 0 0 \nz\n\" style=\"fill:none;\"/>\n  </g>\n  <g id=\"axes_1\">\n   <g id=\"patch_2\">\n    <path d=\"M 45.478125 224.64 \nL 380.278125 224.64 \nL 380.278125 7.2 \nL 45.478125 7.2 \nz\n\" style=\"fill:#ffffff;\"/>\n   </g>\n   <g id=\"matplotlib.axis_1\">\n    <g id=\"xtick_1\">\n     <g id=\"line2d_1\">\n      <defs>\n       <path d=\"M 0 0 \nL 0 3.5 \n\" id=\"md7a85b215d\" style=\"stroke:#000000;stroke-width:0.8;\"/>\n      </defs>\n      <g>\n       <use style=\"stroke:#000000;stroke-width:0.8;\" x=\"45.478125\" xlink:href=\"#md7a85b215d\" y=\"224.64\"/>\n      </g>\n     </g>\n     <g id=\"text_1\">\n      <!-- 0.0 -->\n      <g transform=\"translate(37.526563 239.238437)scale(0.1 -0.1)\">\n       <defs>\n        <path d=\"M 31.78125 66.40625 \nQ 24.171875 66.40625 20.328125 58.90625 \nQ 16.5 51.421875 16.5 36.375 \nQ 16.5 21.390625 20.328125 13.890625 \nQ 24.171875 6.390625 31.78125 6.390625 \nQ 39.453125 6.390625 43.28125 13.890625 \nQ 47.125 21.390625 47.125 36.375 \nQ 47.125 51.421875 43.28125 58.90625 \nQ 39.453125 66.40625 31.78125 66.40625 \nz\nM 31.78125 74.21875 \nQ 44.046875 74.21875 50.515625 64.515625 \nQ 56.984375 54.828125 56.984375 36.375 \nQ 56.984375 17.96875 50.515625 8.265625 \nQ 44.046875 -1.421875 31.78125 -1.421875 \nQ 19.53125 -1.421875 13.0625 8.265625 \nQ 6.59375 17.96875 6.59375 36.375 \nQ 6.59375 54.828125 13.0625 64.515625 \nQ 19.53125 74.21875 31.78125 74.21875 \nz\n\" id=\"DejaVuSans-48\"/>\n        <path d=\"M 10.6875 12.40625 \nL 21 12.40625 \nL 21 0 \nL 10.6875 0 \nz\n\" id=\"DejaVuSans-46\"/>\n       </defs>\n       <use xlink:href=\"#DejaVuSans-48\"/>\n       <use x=\"63.623047\" xlink:href=\"#DejaVuSans-46\"/>\n       <use x=\"95.410156\" xlink:href=\"#DejaVuSans-48\"/>\n      </g>\n     </g>\n    </g>\n    <g id=\"xtick_2\">\n     <g id=\"line2d_2\">\n      <g>\n       <use style=\"stroke:#000000;stroke-width:0.8;\" x=\"87.328125\" xlink:href=\"#md7a85b215d\" y=\"224.64\"/>\n      </g>\n     </g>\n     <g id=\"text_2\">\n      <!-- 2.5 -->\n      <g transform=\"translate(79.376563 239.238437)scale(0.1 -0.1)\">\n       <defs>\n        <path d=\"M 19.1875 8.296875 \nL 53.609375 8.296875 \nL 53.609375 0 \nL 7.328125 0 \nL 7.328125 8.296875 \nQ 12.9375 14.109375 22.625 23.890625 \nQ 32.328125 33.6875 34.8125 36.53125 \nQ 39.546875 41.84375 41.421875 45.53125 \nQ 43.3125 49.21875 43.3125 52.78125 \nQ 43.3125 58.59375 39.234375 62.25 \nQ 35.15625 65.921875 28.609375 65.921875 \nQ 23.96875 65.921875 18.8125 64.3125 \nQ 13.671875 62.703125 7.8125 59.421875 \nL 7.8125 69.390625 \nQ 13.765625 71.78125 18.9375 73 \nQ 24.125 74.21875 28.421875 74.21875 \nQ 39.75 74.21875 46.484375 68.546875 \nQ 53.21875 62.890625 53.21875 53.421875 \nQ 53.21875 48.921875 51.53125 44.890625 \nQ 49.859375 40.875 45.40625 35.40625 \nQ 44.1875 33.984375 37.640625 27.21875 \nQ 31.109375 20.453125 19.1875 8.296875 \nz\n\" id=\"DejaVuSans-50\"/>\n        <path d=\"M 10.796875 72.90625 \nL 49.515625 72.90625 \nL 49.515625 64.59375 \nL 19.828125 64.59375 \nL 19.828125 46.734375 \nQ 21.96875 47.46875 24.109375 47.828125 \nQ 26.265625 48.1875 28.421875 48.1875 \nQ 40.625 48.1875 47.75 41.5 \nQ 54.890625 34.8125 54.890625 23.390625 \nQ 54.890625 11.625 47.5625 5.09375 \nQ 40.234375 -1.421875 26.90625 -1.421875 \nQ 22.3125 -1.421875 17.546875 -0.640625 \nQ 12.796875 0.140625 7.71875 1.703125 \nL 7.71875 11.625 \nQ 12.109375 9.234375 16.796875 8.0625 \nQ 21.484375 6.890625 26.703125 6.890625 \nQ 35.15625 6.890625 40.078125 11.328125 \nQ 45.015625 15.765625 45.015625 23.390625 \nQ 45.015625 31 40.078125 35.4375 \nQ 35.15625 39.890625 26.703125 39.890625 \nQ 22.75 39.890625 18.8125 39.015625 \nQ 14.890625 38.140625 10.796875 36.28125 \nz\n\" id=\"DejaVuSans-53\"/>\n       </defs>\n       <use xlink:href=\"#DejaVuSans-50\"/>\n       <use x=\"63.623047\" xlink:href=\"#DejaVuSans-46\"/>\n       <use x=\"95.410156\" xlink:href=\"#DejaVuSans-53\"/>\n      </g>\n     </g>\n    </g>\n    <g id=\"xtick_3\">\n     <g id=\"line2d_3\">\n      <g>\n       <use style=\"stroke:#000000;stroke-width:0.8;\" x=\"129.178125\" xlink:href=\"#md7a85b215d\" y=\"224.64\"/>\n      </g>\n     </g>\n     <g id=\"text_3\">\n      <!-- 5.0 -->\n      <g transform=\"translate(121.226563 239.238437)scale(0.1 -0.1)\">\n       <use xlink:href=\"#DejaVuSans-53\"/>\n       <use x=\"63.623047\" xlink:href=\"#DejaVuSans-46\"/>\n       <use x=\"95.410156\" xlink:href=\"#DejaVuSans-48\"/>\n      </g>\n     </g>\n    </g>\n    <g id=\"xtick_4\">\n     <g id=\"line2d_4\">\n      <g>\n       <use style=\"stroke:#000000;stroke-width:0.8;\" x=\"171.028125\" xlink:href=\"#md7a85b215d\" y=\"224.64\"/>\n      </g>\n     </g>\n     <g id=\"text_4\">\n      <!-- 7.5 -->\n      <g transform=\"translate(163.076563 239.238437)scale(0.1 -0.1)\">\n       <defs>\n        <path d=\"M 8.203125 72.90625 \nL 55.078125 72.90625 \nL 55.078125 68.703125 \nL 28.609375 0 \nL 18.3125 0 \nL 43.21875 64.59375 \nL 8.203125 64.59375 \nz\n\" id=\"DejaVuSans-55\"/>\n       </defs>\n       <use xlink:href=\"#DejaVuSans-55\"/>\n       <use x=\"63.623047\" xlink:href=\"#DejaVuSans-46\"/>\n       <use x=\"95.410156\" xlink:href=\"#DejaVuSans-53\"/>\n      </g>\n     </g>\n    </g>\n    <g id=\"xtick_5\">\n     <g id=\"line2d_5\">\n      <g>\n       <use style=\"stroke:#000000;stroke-width:0.8;\" x=\"212.878125\" xlink:href=\"#md7a85b215d\" y=\"224.64\"/>\n      </g>\n     </g>\n     <g id=\"text_5\">\n      <!-- 10.0 -->\n      <g transform=\"translate(201.745313 239.238437)scale(0.1 -0.1)\">\n       <defs>\n        <path d=\"M 12.40625 8.296875 \nL 28.515625 8.296875 \nL 28.515625 63.921875 \nL 10.984375 60.40625 \nL 10.984375 69.390625 \nL 28.421875 72.90625 \nL 38.28125 72.90625 \nL 38.28125 8.296875 \nL 54.390625 8.296875 \nL 54.390625 0 \nL 12.40625 0 \nz\n\" id=\"DejaVuSans-49\"/>\n       </defs>\n       <use xlink:href=\"#DejaVuSans-49\"/>\n       <use x=\"63.623047\" xlink:href=\"#DejaVuSans-48\"/>\n       <use x=\"127.246094\" xlink:href=\"#DejaVuSans-46\"/>\n       <use x=\"159.033203\" xlink:href=\"#DejaVuSans-48\"/>\n      </g>\n     </g>\n    </g>\n    <g id=\"xtick_6\">\n     <g id=\"line2d_6\">\n      <g>\n       <use style=\"stroke:#000000;stroke-width:0.8;\" x=\"254.728125\" xlink:href=\"#md7a85b215d\" y=\"224.64\"/>\n      </g>\n     </g>\n     <g id=\"text_6\">\n      <!-- 12.5 -->\n      <g transform=\"translate(243.595313 239.238437)scale(0.1 -0.1)\">\n       <use xlink:href=\"#DejaVuSans-49\"/>\n       <use x=\"63.623047\" xlink:href=\"#DejaVuSans-50\"/>\n       <use x=\"127.246094\" xlink:href=\"#DejaVuSans-46\"/>\n       <use x=\"159.033203\" xlink:href=\"#DejaVuSans-53\"/>\n      </g>\n     </g>\n    </g>\n    <g id=\"xtick_7\">\n     <g id=\"line2d_7\">\n      <g>\n       <use style=\"stroke:#000000;stroke-width:0.8;\" x=\"296.578125\" xlink:href=\"#md7a85b215d\" y=\"224.64\"/>\n      </g>\n     </g>\n     <g id=\"text_7\">\n      <!-- 15.0 -->\n      <g transform=\"translate(285.445313 239.238437)scale(0.1 -0.1)\">\n       <use xlink:href=\"#DejaVuSans-49\"/>\n       <use x=\"63.623047\" xlink:href=\"#DejaVuSans-53\"/>\n       <use x=\"127.246094\" xlink:href=\"#DejaVuSans-46\"/>\n       <use x=\"159.033203\" xlink:href=\"#DejaVuSans-48\"/>\n      </g>\n     </g>\n    </g>\n    <g id=\"xtick_8\">\n     <g id=\"line2d_8\">\n      <g>\n       <use style=\"stroke:#000000;stroke-width:0.8;\" x=\"338.428125\" xlink:href=\"#md7a85b215d\" y=\"224.64\"/>\n      </g>\n     </g>\n     <g id=\"text_8\">\n      <!-- 17.5 -->\n      <g transform=\"translate(327.295313 239.238437)scale(0.1 -0.1)\">\n       <use xlink:href=\"#DejaVuSans-49\"/>\n       <use x=\"63.623047\" xlink:href=\"#DejaVuSans-55\"/>\n       <use x=\"127.246094\" xlink:href=\"#DejaVuSans-46\"/>\n       <use x=\"159.033203\" xlink:href=\"#DejaVuSans-53\"/>\n      </g>\n     </g>\n    </g>\n    <g id=\"xtick_9\">\n     <g id=\"line2d_9\">\n      <g>\n       <use style=\"stroke:#000000;stroke-width:0.8;\" x=\"380.278125\" xlink:href=\"#md7a85b215d\" y=\"224.64\"/>\n      </g>\n     </g>\n     <g id=\"text_9\">\n      <!-- 20.0 -->\n      <g transform=\"translate(369.145313 239.238437)scale(0.1 -0.1)\">\n       <use xlink:href=\"#DejaVuSans-50\"/>\n       <use x=\"63.623047\" xlink:href=\"#DejaVuSans-48\"/>\n       <use x=\"127.246094\" xlink:href=\"#DejaVuSans-46\"/>\n       <use x=\"159.033203\" xlink:href=\"#DejaVuSans-48\"/>\n      </g>\n     </g>\n    </g>\n    <g id=\"text_10\">\n     <!-- Energy (keV) -->\n     <g transform=\"translate(180.670313 252.916562)scale(0.1 -0.1)\">\n      <defs>\n       <path d=\"M 9.8125 72.90625 \nL 55.90625 72.90625 \nL 55.90625 64.59375 \nL 19.671875 64.59375 \nL 19.671875 43.015625 \nL 54.390625 43.015625 \nL 54.390625 34.71875 \nL 19.671875 34.71875 \nL 19.671875 8.296875 \nL 56.78125 8.296875 \nL 56.78125 0 \nL 9.8125 0 \nz\n\" id=\"DejaVuSans-69\"/>\n       <path d=\"M 54.890625 33.015625 \nL 54.890625 0 \nL 45.90625 0 \nL 45.90625 32.71875 \nQ 45.90625 40.484375 42.875 44.328125 \nQ 39.84375 48.1875 33.796875 48.1875 \nQ 26.515625 48.1875 22.3125 43.546875 \nQ 18.109375 38.921875 18.109375 30.90625 \nL 18.109375 0 \nL 9.078125 0 \nL 9.078125 54.6875 \nL 18.109375 54.6875 \nL 18.109375 46.1875 \nQ 21.34375 51.125 25.703125 53.5625 \nQ 30.078125 56 35.796875 56 \nQ 45.21875 56 50.046875 50.171875 \nQ 54.890625 44.34375 54.890625 33.015625 \nz\n\" id=\"DejaVuSans-110\"/>\n       <path d=\"M 56.203125 29.59375 \nL 56.203125 25.203125 \nL 14.890625 25.203125 \nQ 15.484375 15.921875 20.484375 11.0625 \nQ 25.484375 6.203125 34.421875 6.203125 \nQ 39.59375 6.203125 44.453125 7.46875 \nQ 49.3125 8.734375 54.109375 11.28125 \nL 54.109375 2.78125 \nQ 49.265625 0.734375 44.1875 -0.34375 \nQ 39.109375 -1.421875 33.890625 -1.421875 \nQ 20.796875 -1.421875 13.15625 6.1875 \nQ 5.515625 13.8125 5.515625 26.8125 \nQ 5.515625 40.234375 12.765625 48.109375 \nQ 20.015625 56 32.328125 56 \nQ 43.359375 56 49.78125 48.890625 \nQ 56.203125 41.796875 56.203125 29.59375 \nz\nM 47.21875 32.234375 \nQ 47.125 39.59375 43.09375 43.984375 \nQ 39.0625 48.390625 32.421875 48.390625 \nQ 24.90625 48.390625 20.390625 44.140625 \nQ 15.875 39.890625 15.1875 32.171875 \nz\n\" id=\"DejaVuSans-101\"/>\n       <path d=\"M 41.109375 46.296875 \nQ 39.59375 47.171875 37.8125 47.578125 \nQ 36.03125 48 33.890625 48 \nQ 26.265625 48 22.1875 43.046875 \nQ 18.109375 38.09375 18.109375 28.8125 \nL 18.109375 0 \nL 9.078125 0 \nL 9.078125 54.6875 \nL 18.109375 54.6875 \nL 18.109375 46.1875 \nQ 20.953125 51.171875 25.484375 53.578125 \nQ 30.03125 56 36.53125 56 \nQ 37.453125 56 38.578125 55.875 \nQ 39.703125 55.765625 41.0625 55.515625 \nz\n\" id=\"DejaVuSans-114\"/>\n       <path d=\"M 45.40625 27.984375 \nQ 45.40625 37.75 41.375 43.109375 \nQ 37.359375 48.484375 30.078125 48.484375 \nQ 22.859375 48.484375 18.828125 43.109375 \nQ 14.796875 37.75 14.796875 27.984375 \nQ 14.796875 18.265625 18.828125 12.890625 \nQ 22.859375 7.515625 30.078125 7.515625 \nQ 37.359375 7.515625 41.375 12.890625 \nQ 45.40625 18.265625 45.40625 27.984375 \nz\nM 54.390625 6.78125 \nQ 54.390625 -7.171875 48.1875 -13.984375 \nQ 42 -20.796875 29.203125 -20.796875 \nQ 24.46875 -20.796875 20.265625 -20.09375 \nQ 16.0625 -19.390625 12.109375 -17.921875 \nL 12.109375 -9.1875 \nQ 16.0625 -11.328125 19.921875 -12.34375 \nQ 23.78125 -13.375 27.78125 -13.375 \nQ 36.625 -13.375 41.015625 -8.765625 \nQ 45.40625 -4.15625 45.40625 5.171875 \nL 45.40625 9.625 \nQ 42.625 4.78125 38.28125 2.390625 \nQ 33.9375 0 27.875 0 \nQ 17.828125 0 11.671875 7.65625 \nQ 5.515625 15.328125 5.515625 27.984375 \nQ 5.515625 40.671875 11.671875 48.328125 \nQ 17.828125 56 27.875 56 \nQ 33.9375 56 38.28125 53.609375 \nQ 42.625 51.21875 45.40625 46.390625 \nL 45.40625 54.6875 \nL 54.390625 54.6875 \nz\n\" id=\"DejaVuSans-103\"/>\n       <path d=\"M 32.171875 -5.078125 \nQ 28.375 -14.84375 24.75 -17.8125 \nQ 21.140625 -20.796875 15.09375 -20.796875 \nL 7.90625 -20.796875 \nL 7.90625 -13.28125 \nL 13.1875 -13.28125 \nQ 16.890625 -13.28125 18.9375 -11.515625 \nQ 21 -9.765625 23.484375 -3.21875 \nL 25.09375 0.875 \nL 2.984375 54.6875 \nL 12.5 54.6875 \nL 29.59375 11.921875 \nL 46.6875 54.6875 \nL 56.203125 54.6875 \nz\n\" id=\"DejaVuSans-121\"/>\n       <path id=\"DejaVuSans-32\"/>\n       <path d=\"M 31 75.875 \nQ 24.46875 64.65625 21.28125 53.65625 \nQ 18.109375 42.671875 18.109375 31.390625 \nQ 18.109375 20.125 21.3125 9.0625 \nQ 24.515625 -2 31 -13.1875 \nL 23.1875 -13.1875 \nQ 15.875 -1.703125 12.234375 9.375 \nQ 8.59375 20.453125 8.59375 31.390625 \nQ 8.59375 42.28125 12.203125 53.3125 \nQ 15.828125 64.359375 23.1875 75.875 \nz\n\" id=\"DejaVuSans-40\"/>\n       <path d=\"M 9.078125 75.984375 \nL 18.109375 75.984375 \nL 18.109375 31.109375 \nL 44.921875 54.6875 \nL 56.390625 54.6875 \nL 27.390625 29.109375 \nL 57.625 0 \nL 45.90625 0 \nL 18.109375 26.703125 \nL 18.109375 0 \nL 9.078125 0 \nz\n\" id=\"DejaVuSans-107\"/>\n       <path d=\"M 28.609375 0 \nL 0.78125 72.90625 \nL 11.078125 72.90625 \nL 34.1875 11.53125 \nL 57.328125 72.90625 \nL 67.578125 72.90625 \nL 39.796875 0 \nz\n\" id=\"DejaVuSans-86\"/>\n       <path d=\"M 8.015625 75.875 \nL 15.828125 75.875 \nQ 23.140625 64.359375 26.78125 53.3125 \nQ 30.421875 42.28125 30.421875 31.390625 \nQ 30.421875 20.453125 26.78125 9.375 \nQ 23.140625 -1.703125 15.828125 -13.1875 \nL 8.015625 -13.1875 \nQ 14.5 -2 17.703125 9.0625 \nQ 20.90625 20.125 20.90625 31.390625 \nQ 20.90625 42.671875 17.703125 53.65625 \nQ 14.5 64.65625 8.015625 75.875 \nz\n\" id=\"DejaVuSans-41\"/>\n      </defs>\n      <use xlink:href=\"#DejaVuSans-69\"/>\n      <use x=\"63.183594\" xlink:href=\"#DejaVuSans-110\"/>\n      <use x=\"126.5625\" xlink:href=\"#DejaVuSans-101\"/>\n      <use x=\"188.085938\" xlink:href=\"#DejaVuSans-114\"/>\n      <use x=\"227.449219\" xlink:href=\"#DejaVuSans-103\"/>\n      <use x=\"290.925781\" xlink:href=\"#DejaVuSans-121\"/>\n      <use x=\"350.105469\" xlink:href=\"#DejaVuSans-32\"/>\n      <use x=\"381.892578\" xlink:href=\"#DejaVuSans-40\"/>\n      <use x=\"420.90625\" xlink:href=\"#DejaVuSans-107\"/>\n      <use x=\"475.191406\" xlink:href=\"#DejaVuSans-101\"/>\n      <use x=\"536.714844\" xlink:href=\"#DejaVuSans-86\"/>\n      <use x=\"605.123047\" xlink:href=\"#DejaVuSans-41\"/>\n     </g>\n    </g>\n   </g>\n   <g id=\"matplotlib.axis_2\">\n    <g id=\"ytick_1\">\n     <g id=\"line2d_10\">\n      <defs>\n       <path d=\"M 0 0 \nL -3.5 0 \n\" id=\"m23b320c2a3\" style=\"stroke:#000000;stroke-width:0.8;\"/>\n      </defs>\n      <g>\n       <use style=\"stroke:#000000;stroke-width:0.8;\" x=\"45.478125\" xlink:href=\"#m23b320c2a3\" y=\"211.726613\"/>\n      </g>\n     </g>\n     <g id=\"text_11\">\n      <!-- $\\mathdefault{10^{0}}$ -->\n      <g transform=\"translate(20.878125 215.525832)scale(0.1 -0.1)\">\n       <use transform=\"translate(0 0.765625)\" xlink:href=\"#DejaVuSans-49\"/>\n       <use transform=\"translate(63.623047 0.765625)\" xlink:href=\"#DejaVuSans-48\"/>\n       <use transform=\"translate(128.203125 39.046875)scale(0.7)\" xlink:href=\"#DejaVuSans-48\"/>\n      </g>\n     </g>\n    </g>\n    <g id=\"ytick_2\">\n     <g id=\"line2d_11\">\n      <g>\n       <use style=\"stroke:#000000;stroke-width:0.8;\" x=\"45.478125\" xlink:href=\"#m23b320c2a3\" y=\"168.829269\"/>\n      </g>\n     </g>\n     <g id=\"text_12\">\n      <!-- $\\mathdefault{10^{1}}$ -->\n      <g transform=\"translate(20.878125 172.628488)scale(0.1 -0.1)\">\n       <use transform=\"translate(0 0.684375)\" xlink:href=\"#DejaVuSans-49\"/>\n       <use transform=\"translate(63.623047 0.684375)\" xlink:href=\"#DejaVuSans-48\"/>\n       <use transform=\"translate(128.203125 38.965625)scale(0.7)\" xlink:href=\"#DejaVuSans-49\"/>\n      </g>\n     </g>\n    </g>\n    <g id=\"ytick_3\">\n     <g id=\"line2d_12\">\n      <g>\n       <use style=\"stroke:#000000;stroke-width:0.8;\" x=\"45.478125\" xlink:href=\"#m23b320c2a3\" y=\"125.931926\"/>\n      </g>\n     </g>\n     <g id=\"text_13\">\n      <!-- $\\mathdefault{10^{2}}$ -->\n      <g transform=\"translate(20.878125 129.731144)scale(0.1 -0.1)\">\n       <use transform=\"translate(0 0.765625)\" xlink:href=\"#DejaVuSans-49\"/>\n       <use transform=\"translate(63.623047 0.765625)\" xlink:href=\"#DejaVuSans-48\"/>\n       <use transform=\"translate(128.203125 39.046875)scale(0.7)\" xlink:href=\"#DejaVuSans-50\"/>\n      </g>\n     </g>\n    </g>\n    <g id=\"ytick_4\">\n     <g id=\"line2d_13\">\n      <g>\n       <use style=\"stroke:#000000;stroke-width:0.8;\" x=\"45.478125\" xlink:href=\"#m23b320c2a3\" y=\"83.034582\"/>\n      </g>\n     </g>\n     <g id=\"text_14\">\n      <!-- $\\mathdefault{10^{3}}$ -->\n      <g transform=\"translate(20.878125 86.833801)scale(0.1 -0.1)\">\n       <defs>\n        <path d=\"M 40.578125 39.3125 \nQ 47.65625 37.796875 51.625 33 \nQ 55.609375 28.21875 55.609375 21.1875 \nQ 55.609375 10.40625 48.1875 4.484375 \nQ 40.765625 -1.421875 27.09375 -1.421875 \nQ 22.515625 -1.421875 17.65625 -0.515625 \nQ 12.796875 0.390625 7.625 2.203125 \nL 7.625 11.71875 \nQ 11.71875 9.328125 16.59375 8.109375 \nQ 21.484375 6.890625 26.8125 6.890625 \nQ 36.078125 6.890625 40.9375 10.546875 \nQ 45.796875 14.203125 45.796875 21.1875 \nQ 45.796875 27.640625 41.28125 31.265625 \nQ 36.765625 34.90625 28.71875 34.90625 \nL 20.21875 34.90625 \nL 20.21875 43.015625 \nL 29.109375 43.015625 \nQ 36.375 43.015625 40.234375 45.921875 \nQ 44.09375 48.828125 44.09375 54.296875 \nQ 44.09375 59.90625 40.109375 62.90625 \nQ 36.140625 65.921875 28.71875 65.921875 \nQ 24.65625 65.921875 20.015625 65.03125 \nQ 15.375 64.15625 9.8125 62.3125 \nL 9.8125 71.09375 \nQ 15.4375 72.65625 20.34375 73.4375 \nQ 25.25 74.21875 29.59375 74.21875 \nQ 40.828125 74.21875 47.359375 69.109375 \nQ 53.90625 64.015625 53.90625 55.328125 \nQ 53.90625 49.265625 50.4375 45.09375 \nQ 46.96875 40.921875 40.578125 39.3125 \nz\n\" id=\"DejaVuSans-51\"/>\n       </defs>\n       <use transform=\"translate(0 0.765625)\" xlink:href=\"#DejaVuSans-49\"/>\n       <use transform=\"translate(63.623047 0.765625)\" xlink:href=\"#DejaVuSans-48\"/>\n       <use transform=\"translate(128.203125 39.046875)scale(0.7)\" xlink:href=\"#DejaVuSans-51\"/>\n      </g>\n     </g>\n    </g>\n    <g id=\"ytick_5\">\n     <g id=\"line2d_14\">\n      <g>\n       <use style=\"stroke:#000000;stroke-width:0.8;\" x=\"45.478125\" xlink:href=\"#m23b320c2a3\" y=\"40.137239\"/>\n      </g>\n     </g>\n     <g id=\"text_15\">\n      <!-- $\\mathdefault{10^{4}}$ -->\n      <g transform=\"translate(20.878125 43.936457)scale(0.1 -0.1)\">\n       <defs>\n        <path d=\"M 37.796875 64.3125 \nL 12.890625 25.390625 \nL 37.796875 25.390625 \nz\nM 35.203125 72.90625 \nL 47.609375 72.90625 \nL 47.609375 25.390625 \nL 58.015625 25.390625 \nL 58.015625 17.1875 \nL 47.609375 17.1875 \nL 47.609375 0 \nL 37.796875 0 \nL 37.796875 17.1875 \nL 4.890625 17.1875 \nL 4.890625 26.703125 \nz\n\" id=\"DejaVuSans-52\"/>\n       </defs>\n       <use transform=\"translate(0 0.684375)\" xlink:href=\"#DejaVuSans-49\"/>\n       <use transform=\"translate(63.623047 0.684375)\" xlink:href=\"#DejaVuSans-48\"/>\n       <use transform=\"translate(128.203125 38.965625)scale(0.7)\" xlink:href=\"#DejaVuSans-52\"/>\n      </g>\n     </g>\n    </g>\n    <g id=\"ytick_6\">\n     <g id=\"line2d_15\">\n      <defs>\n       <path d=\"M 0 0 \nL -2 0 \n\" id=\"mcf9edeeae0\" style=\"stroke:#000000;stroke-width:0.6;\"/>\n      </defs>\n      <g>\n       <use style=\"stroke:#000000;stroke-width:0.6;\" x=\"45.478125\" xlink:href=\"#mcf9edeeae0\" y=\"224.64\"/>\n      </g>\n     </g>\n    </g>\n    <g id=\"ytick_7\">\n     <g id=\"line2d_16\">\n      <g>\n       <use style=\"stroke:#000000;stroke-width:0.6;\" x=\"45.478125\" xlink:href=\"#mcf9edeeae0\" y=\"221.243335\"/>\n      </g>\n     </g>\n    </g>\n    <g id=\"ytick_8\">\n     <g id=\"line2d_17\">\n      <g>\n       <use style=\"stroke:#000000;stroke-width:0.6;\" x=\"45.478125\" xlink:href=\"#mcf9edeeae0\" y=\"218.371495\"/>\n      </g>\n     </g>\n    </g>\n    <g id=\"ytick_9\">\n     <g id=\"line2d_18\">\n      <g>\n       <use style=\"stroke:#000000;stroke-width:0.6;\" x=\"45.478125\" xlink:href=\"#mcf9edeeae0\" y=\"215.883795\"/>\n      </g>\n     </g>\n    </g>\n    <g id=\"ytick_10\">\n     <g id=\"line2d_19\">\n      <g>\n       <use style=\"stroke:#000000;stroke-width:0.6;\" x=\"45.478125\" xlink:href=\"#mcf9edeeae0\" y=\"213.689488\"/>\n      </g>\n     </g>\n    </g>\n    <g id=\"ytick_11\">\n     <g id=\"line2d_20\">\n      <g>\n       <use style=\"stroke:#000000;stroke-width:0.6;\" x=\"45.478125\" xlink:href=\"#mcf9edeeae0\" y=\"198.813226\"/>\n      </g>\n     </g>\n    </g>\n    <g id=\"ytick_12\">\n     <g id=\"line2d_21\">\n      <g>\n       <use style=\"stroke:#000000;stroke-width:0.6;\" x=\"45.478125\" xlink:href=\"#mcf9edeeae0\" y=\"191.259378\"/>\n      </g>\n     </g>\n    </g>\n    <g id=\"ytick_13\">\n     <g id=\"line2d_22\">\n      <g>\n       <use style=\"stroke:#000000;stroke-width:0.6;\" x=\"45.478125\" xlink:href=\"#mcf9edeeae0\" y=\"185.899839\"/>\n      </g>\n     </g>\n    </g>\n    <g id=\"ytick_14\">\n     <g id=\"line2d_23\">\n      <g>\n       <use style=\"stroke:#000000;stroke-width:0.6;\" x=\"45.478125\" xlink:href=\"#mcf9edeeae0\" y=\"181.742656\"/>\n      </g>\n     </g>\n    </g>\n    <g id=\"ytick_15\">\n     <g id=\"line2d_24\">\n      <g>\n       <use style=\"stroke:#000000;stroke-width:0.6;\" x=\"45.478125\" xlink:href=\"#mcf9edeeae0\" y=\"178.345991\"/>\n      </g>\n     </g>\n    </g>\n    <g id=\"ytick_16\">\n     <g id=\"line2d_25\">\n      <g>\n       <use style=\"stroke:#000000;stroke-width:0.6;\" x=\"45.478125\" xlink:href=\"#mcf9edeeae0\" y=\"175.474152\"/>\n      </g>\n     </g>\n    </g>\n    <g id=\"ytick_17\">\n     <g id=\"line2d_26\">\n      <g>\n       <use style=\"stroke:#000000;stroke-width:0.6;\" x=\"45.478125\" xlink:href=\"#mcf9edeeae0\" y=\"172.986451\"/>\n      </g>\n     </g>\n    </g>\n    <g id=\"ytick_18\">\n     <g id=\"line2d_27\">\n      <g>\n       <use style=\"stroke:#000000;stroke-width:0.6;\" x=\"45.478125\" xlink:href=\"#mcf9edeeae0\" y=\"170.792144\"/>\n      </g>\n     </g>\n    </g>\n    <g id=\"ytick_19\">\n     <g id=\"line2d_28\">\n      <g>\n       <use style=\"stroke:#000000;stroke-width:0.6;\" x=\"45.478125\" xlink:href=\"#mcf9edeeae0\" y=\"155.915882\"/>\n      </g>\n     </g>\n    </g>\n    <g id=\"ytick_20\">\n     <g id=\"line2d_29\">\n      <g>\n       <use style=\"stroke:#000000;stroke-width:0.6;\" x=\"45.478125\" xlink:href=\"#mcf9edeeae0\" y=\"148.362035\"/>\n      </g>\n     </g>\n    </g>\n    <g id=\"ytick_21\">\n     <g id=\"line2d_30\">\n      <g>\n       <use style=\"stroke:#000000;stroke-width:0.6;\" x=\"45.478125\" xlink:href=\"#mcf9edeeae0\" y=\"143.002495\"/>\n      </g>\n     </g>\n    </g>\n    <g id=\"ytick_22\">\n     <g id=\"line2d_31\">\n      <g>\n       <use style=\"stroke:#000000;stroke-width:0.6;\" x=\"45.478125\" xlink:href=\"#mcf9edeeae0\" y=\"138.845313\"/>\n      </g>\n     </g>\n    </g>\n    <g id=\"ytick_23\">\n     <g id=\"line2d_32\">\n      <g>\n       <use style=\"stroke:#000000;stroke-width:0.6;\" x=\"45.478125\" xlink:href=\"#mcf9edeeae0\" y=\"135.448648\"/>\n      </g>\n     </g>\n    </g>\n    <g id=\"ytick_24\">\n     <g id=\"line2d_33\">\n      <g>\n       <use style=\"stroke:#000000;stroke-width:0.6;\" x=\"45.478125\" xlink:href=\"#mcf9edeeae0\" y=\"132.576808\"/>\n      </g>\n     </g>\n    </g>\n    <g id=\"ytick_25\">\n     <g id=\"line2d_34\">\n      <g>\n       <use style=\"stroke:#000000;stroke-width:0.6;\" x=\"45.478125\" xlink:href=\"#mcf9edeeae0\" y=\"130.089108\"/>\n      </g>\n     </g>\n    </g>\n    <g id=\"ytick_26\">\n     <g id=\"line2d_35\">\n      <g>\n       <use style=\"stroke:#000000;stroke-width:0.6;\" x=\"45.478125\" xlink:href=\"#mcf9edeeae0\" y=\"127.894801\"/>\n      </g>\n     </g>\n    </g>\n    <g id=\"ytick_27\">\n     <g id=\"line2d_36\">\n      <g>\n       <use style=\"stroke:#000000;stroke-width:0.6;\" x=\"45.478125\" xlink:href=\"#mcf9edeeae0\" y=\"113.018539\"/>\n      </g>\n     </g>\n    </g>\n    <g id=\"ytick_28\">\n     <g id=\"line2d_37\">\n      <g>\n       <use style=\"stroke:#000000;stroke-width:0.6;\" x=\"45.478125\" xlink:href=\"#mcf9edeeae0\" y=\"105.464691\"/>\n      </g>\n     </g>\n    </g>\n    <g id=\"ytick_29\">\n     <g id=\"line2d_38\">\n      <g>\n       <use style=\"stroke:#000000;stroke-width:0.6;\" x=\"45.478125\" xlink:href=\"#mcf9edeeae0\" y=\"100.105151\"/>\n      </g>\n     </g>\n    </g>\n    <g id=\"ytick_30\">\n     <g id=\"line2d_39\">\n      <g>\n       <use style=\"stroke:#000000;stroke-width:0.6;\" x=\"45.478125\" xlink:href=\"#mcf9edeeae0\" y=\"95.947969\"/>\n      </g>\n     </g>\n    </g>\n    <g id=\"ytick_31\">\n     <g id=\"line2d_40\">\n      <g>\n       <use style=\"stroke:#000000;stroke-width:0.6;\" x=\"45.478125\" xlink:href=\"#mcf9edeeae0\" y=\"92.551304\"/>\n      </g>\n     </g>\n    </g>\n    <g id=\"ytick_32\">\n     <g id=\"line2d_41\">\n      <g>\n       <use style=\"stroke:#000000;stroke-width:0.6;\" x=\"45.478125\" xlink:href=\"#mcf9edeeae0\" y=\"89.679465\"/>\n      </g>\n     </g>\n    </g>\n    <g id=\"ytick_33\">\n     <g id=\"line2d_42\">\n      <g>\n       <use style=\"stroke:#000000;stroke-width:0.6;\" x=\"45.478125\" xlink:href=\"#mcf9edeeae0\" y=\"87.191764\"/>\n      </g>\n     </g>\n    </g>\n    <g id=\"ytick_34\">\n     <g id=\"line2d_43\">\n      <g>\n       <use style=\"stroke:#000000;stroke-width:0.6;\" x=\"45.478125\" xlink:href=\"#mcf9edeeae0\" y=\"84.997457\"/>\n      </g>\n     </g>\n    </g>\n    <g id=\"ytick_35\">\n     <g id=\"line2d_44\">\n      <g>\n       <use style=\"stroke:#000000;stroke-width:0.6;\" x=\"45.478125\" xlink:href=\"#mcf9edeeae0\" y=\"70.121195\"/>\n      </g>\n     </g>\n    </g>\n    <g id=\"ytick_36\">\n     <g id=\"line2d_45\">\n      <g>\n       <use style=\"stroke:#000000;stroke-width:0.6;\" x=\"45.478125\" xlink:href=\"#mcf9edeeae0\" y=\"62.567348\"/>\n      </g>\n     </g>\n    </g>\n    <g id=\"ytick_37\">\n     <g id=\"line2d_46\">\n      <g>\n       <use style=\"stroke:#000000;stroke-width:0.6;\" x=\"45.478125\" xlink:href=\"#mcf9edeeae0\" y=\"57.207808\"/>\n      </g>\n     </g>\n    </g>\n    <g id=\"ytick_38\">\n     <g id=\"line2d_47\">\n      <g>\n       <use style=\"stroke:#000000;stroke-width:0.6;\" x=\"45.478125\" xlink:href=\"#mcf9edeeae0\" y=\"53.050626\"/>\n      </g>\n     </g>\n    </g>\n    <g id=\"ytick_39\">\n     <g id=\"line2d_48\">\n      <g>\n       <use style=\"stroke:#000000;stroke-width:0.6;\" x=\"45.478125\" xlink:href=\"#mcf9edeeae0\" y=\"49.653961\"/>\n      </g>\n     </g>\n    </g>\n    <g id=\"ytick_40\">\n     <g id=\"line2d_49\">\n      <g>\n       <use style=\"stroke:#000000;stroke-width:0.6;\" x=\"45.478125\" xlink:href=\"#mcf9edeeae0\" y=\"46.782121\"/>\n      </g>\n     </g>\n    </g>\n    <g id=\"ytick_41\">\n     <g id=\"line2d_50\">\n      <g>\n       <use style=\"stroke:#000000;stroke-width:0.6;\" x=\"45.478125\" xlink:href=\"#mcf9edeeae0\" y=\"44.294421\"/>\n      </g>\n     </g>\n    </g>\n    <g id=\"ytick_42\">\n     <g id=\"line2d_51\">\n      <g>\n       <use style=\"stroke:#000000;stroke-width:0.6;\" x=\"45.478125\" xlink:href=\"#mcf9edeeae0\" y=\"42.100113\"/>\n      </g>\n     </g>\n    </g>\n    <g id=\"ytick_43\">\n     <g id=\"line2d_52\">\n      <g>\n       <use style=\"stroke:#000000;stroke-width:0.6;\" x=\"45.478125\" xlink:href=\"#mcf9edeeae0\" y=\"27.223851\"/>\n      </g>\n     </g>\n    </g>\n    <g id=\"ytick_44\">\n     <g id=\"line2d_53\">\n      <g>\n       <use style=\"stroke:#000000;stroke-width:0.6;\" x=\"45.478125\" xlink:href=\"#mcf9edeeae0\" y=\"19.670004\"/>\n      </g>\n     </g>\n    </g>\n    <g id=\"ytick_45\">\n     <g id=\"line2d_54\">\n      <g>\n       <use style=\"stroke:#000000;stroke-width:0.6;\" x=\"45.478125\" xlink:href=\"#mcf9edeeae0\" y=\"14.310464\"/>\n      </g>\n     </g>\n    </g>\n    <g id=\"ytick_46\">\n     <g id=\"line2d_55\">\n      <g>\n       <use style=\"stroke:#000000;stroke-width:0.6;\" x=\"45.478125\" xlink:href=\"#mcf9edeeae0\" y=\"10.153282\"/>\n      </g>\n     </g>\n    </g>\n    <g id=\"text_16\">\n     <!-- Counts / (40.0 eV kg days) -->\n     <g transform=\"translate(14.798438 182.405937)rotate(-90)scale(0.1 -0.1)\">\n      <defs>\n       <path d=\"M 64.40625 67.28125 \nL 64.40625 56.890625 \nQ 59.421875 61.53125 53.78125 63.8125 \nQ 48.140625 66.109375 41.796875 66.109375 \nQ 29.296875 66.109375 22.65625 58.46875 \nQ 16.015625 50.828125 16.015625 36.375 \nQ 16.015625 21.96875 22.65625 14.328125 \nQ 29.296875 6.6875 41.796875 6.6875 \nQ 48.140625 6.6875 53.78125 8.984375 \nQ 59.421875 11.28125 64.40625 15.921875 \nL 64.40625 5.609375 \nQ 59.234375 2.09375 53.4375 0.328125 \nQ 47.65625 -1.421875 41.21875 -1.421875 \nQ 24.65625 -1.421875 15.125 8.703125 \nQ 5.609375 18.84375 5.609375 36.375 \nQ 5.609375 53.953125 15.125 64.078125 \nQ 24.65625 74.21875 41.21875 74.21875 \nQ 47.75 74.21875 53.53125 72.484375 \nQ 59.328125 70.75 64.40625 67.28125 \nz\n\" id=\"DejaVuSans-67\"/>\n       <path d=\"M 30.609375 48.390625 \nQ 23.390625 48.390625 19.1875 42.75 \nQ 14.984375 37.109375 14.984375 27.296875 \nQ 14.984375 17.484375 19.15625 11.84375 \nQ 23.34375 6.203125 30.609375 6.203125 \nQ 37.796875 6.203125 41.984375 11.859375 \nQ 46.1875 17.53125 46.1875 27.296875 \nQ 46.1875 37.015625 41.984375 42.703125 \nQ 37.796875 48.390625 30.609375 48.390625 \nz\nM 30.609375 56 \nQ 42.328125 56 49.015625 48.375 \nQ 55.71875 40.765625 55.71875 27.296875 \nQ 55.71875 13.875 49.015625 6.21875 \nQ 42.328125 -1.421875 30.609375 -1.421875 \nQ 18.84375 -1.421875 12.171875 6.21875 \nQ 5.515625 13.875 5.515625 27.296875 \nQ 5.515625 40.765625 12.171875 48.375 \nQ 18.84375 56 30.609375 56 \nz\n\" id=\"DejaVuSans-111\"/>\n       <path d=\"M 8.5 21.578125 \nL 8.5 54.6875 \nL 17.484375 54.6875 \nL 17.484375 21.921875 \nQ 17.484375 14.15625 20.5 10.265625 \nQ 23.53125 6.390625 29.59375 6.390625 \nQ 36.859375 6.390625 41.078125 11.03125 \nQ 45.3125 15.671875 45.3125 23.6875 \nL 45.3125 54.6875 \nL 54.296875 54.6875 \nL 54.296875 0 \nL 45.3125 0 \nL 45.3125 8.40625 \nQ 42.046875 3.421875 37.71875 1 \nQ 33.40625 -1.421875 27.6875 -1.421875 \nQ 18.265625 -1.421875 13.375 4.4375 \nQ 8.5 10.296875 8.5 21.578125 \nz\nM 31.109375 56 \nz\n\" id=\"DejaVuSans-117\"/>\n       <path d=\"M 18.3125 70.21875 \nL 18.3125 54.6875 \nL 36.8125 54.6875 \nL 36.8125 47.703125 \nL 18.3125 47.703125 \nL 18.3125 18.015625 \nQ 18.3125 11.328125 20.140625 9.421875 \nQ 21.96875 7.515625 27.59375 7.515625 \nL 36.8125 7.515625 \nL 36.8125 0 \nL 27.59375 0 \nQ 17.1875 0 13.234375 3.875 \nQ 9.28125 7.765625 9.28125 18.015625 \nL 9.28125 47.703125 \nL 2.6875 47.703125 \nL 2.6875 54.6875 \nL 9.28125 54.6875 \nL 9.28125 70.21875 \nz\n\" id=\"DejaVuSans-116\"/>\n       <path d=\"M 44.28125 53.078125 \nL 44.28125 44.578125 \nQ 40.484375 46.53125 36.375 47.5 \nQ 32.28125 48.484375 27.875 48.484375 \nQ 21.1875 48.484375 17.84375 46.4375 \nQ 14.5 44.390625 14.5 40.28125 \nQ 14.5 37.15625 16.890625 35.375 \nQ 19.28125 33.59375 26.515625 31.984375 \nL 29.59375 31.296875 \nQ 39.15625 29.25 43.1875 25.515625 \nQ 47.21875 21.78125 47.21875 15.09375 \nQ 47.21875 7.46875 41.1875 3.015625 \nQ 35.15625 -1.421875 24.609375 -1.421875 \nQ 20.21875 -1.421875 15.453125 -0.5625 \nQ 10.6875 0.296875 5.421875 2 \nL 5.421875 11.28125 \nQ 10.40625 8.6875 15.234375 7.390625 \nQ 20.0625 6.109375 24.8125 6.109375 \nQ 31.15625 6.109375 34.5625 8.28125 \nQ 37.984375 10.453125 37.984375 14.40625 \nQ 37.984375 18.0625 35.515625 20.015625 \nQ 33.0625 21.96875 24.703125 23.78125 \nL 21.578125 24.515625 \nQ 13.234375 26.265625 9.515625 29.90625 \nQ 5.8125 33.546875 5.8125 39.890625 \nQ 5.8125 47.609375 11.28125 51.796875 \nQ 16.75 56 26.8125 56 \nQ 31.78125 56 36.171875 55.265625 \nQ 40.578125 54.546875 44.28125 53.078125 \nz\n\" id=\"DejaVuSans-115\"/>\n       <path d=\"M 25.390625 72.90625 \nL 33.6875 72.90625 \nL 8.296875 -9.28125 \nL 0 -9.28125 \nz\n\" id=\"DejaVuSans-47\"/>\n       <path d=\"M 45.40625 46.390625 \nL 45.40625 75.984375 \nL 54.390625 75.984375 \nL 54.390625 0 \nL 45.40625 0 \nL 45.40625 8.203125 \nQ 42.578125 3.328125 38.25 0.953125 \nQ 33.9375 -1.421875 27.875 -1.421875 \nQ 17.96875 -1.421875 11.734375 6.484375 \nQ 5.515625 14.40625 5.515625 27.296875 \nQ 5.515625 40.1875 11.734375 48.09375 \nQ 17.96875 56 27.875 56 \nQ 33.9375 56 38.25 53.625 \nQ 42.578125 51.265625 45.40625 46.390625 \nz\nM 14.796875 27.296875 \nQ 14.796875 17.390625 18.875 11.75 \nQ 22.953125 6.109375 30.078125 6.109375 \nQ 37.203125 6.109375 41.296875 11.75 \nQ 45.40625 17.390625 45.40625 27.296875 \nQ 45.40625 37.203125 41.296875 42.84375 \nQ 37.203125 48.484375 30.078125 48.484375 \nQ 22.953125 48.484375 18.875 42.84375 \nQ 14.796875 37.203125 14.796875 27.296875 \nz\n\" id=\"DejaVuSans-100\"/>\n       <path d=\"M 34.28125 27.484375 \nQ 23.390625 27.484375 19.1875 25 \nQ 14.984375 22.515625 14.984375 16.5 \nQ 14.984375 11.71875 18.140625 8.90625 \nQ 21.296875 6.109375 26.703125 6.109375 \nQ 34.1875 6.109375 38.703125 11.40625 \nQ 43.21875 16.703125 43.21875 25.484375 \nL 43.21875 27.484375 \nz\nM 52.203125 31.203125 \nL 52.203125 0 \nL 43.21875 0 \nL 43.21875 8.296875 \nQ 40.140625 3.328125 35.546875 0.953125 \nQ 30.953125 -1.421875 24.3125 -1.421875 \nQ 15.921875 -1.421875 10.953125 3.296875 \nQ 6 8.015625 6 15.921875 \nQ 6 25.140625 12.171875 29.828125 \nQ 18.359375 34.515625 30.609375 34.515625 \nL 43.21875 34.515625 \nL 43.21875 35.40625 \nQ 43.21875 41.609375 39.140625 45 \nQ 35.0625 48.390625 27.6875 48.390625 \nQ 23 48.390625 18.546875 47.265625 \nQ 14.109375 46.140625 10.015625 43.890625 \nL 10.015625 52.203125 \nQ 14.9375 54.109375 19.578125 55.046875 \nQ 24.21875 56 28.609375 56 \nQ 40.484375 56 46.34375 49.84375 \nQ 52.203125 43.703125 52.203125 31.203125 \nz\n\" id=\"DejaVuSans-97\"/>\n      </defs>\n      <use xlink:href=\"#DejaVuSans-67\"/>\n      <use x=\"69.824219\" xlink:href=\"#DejaVuSans-111\"/>\n      <use x=\"131.005859\" xlink:href=\"#DejaVuSans-117\"/>\n      <use x=\"194.384766\" xlink:href=\"#DejaVuSans-110\"/>\n      <use x=\"257.763672\" xlink:href=\"#DejaVuSans-116\"/>\n      <use x=\"296.972656\" xlink:href=\"#DejaVuSans-115\"/>\n      <use x=\"349.072266\" xlink:href=\"#DejaVuSans-32\"/>\n      <use x=\"380.859375\" xlink:href=\"#DejaVuSans-47\"/>\n      <use x=\"414.550781\" xlink:href=\"#DejaVuSans-32\"/>\n      <use x=\"446.337891\" xlink:href=\"#DejaVuSans-40\"/>\n      <use x=\"485.351562\" xlink:href=\"#DejaVuSans-52\"/>\n      <use x=\"548.974609\" xlink:href=\"#DejaVuSans-48\"/>\n      <use x=\"612.597656\" xlink:href=\"#DejaVuSans-46\"/>\n      <use x=\"644.384766\" xlink:href=\"#DejaVuSans-48\"/>\n      <use x=\"708.007812\" xlink:href=\"#DejaVuSans-32\"/>\n      <use x=\"739.794922\" xlink:href=\"#DejaVuSans-101\"/>\n      <use x=\"801.318359\" xlink:href=\"#DejaVuSans-86\"/>\n      <use x=\"869.726562\" xlink:href=\"#DejaVuSans-32\"/>\n      <use x=\"901.513672\" xlink:href=\"#DejaVuSans-107\"/>\n      <use x=\"959.423828\" xlink:href=\"#DejaVuSans-103\"/>\n      <use x=\"1022.900391\" xlink:href=\"#DejaVuSans-32\"/>\n      <use x=\"1054.6875\" xlink:href=\"#DejaVuSans-100\"/>\n      <use x=\"1118.164062\" xlink:href=\"#DejaVuSans-97\"/>\n      <use x=\"1179.443359\" xlink:href=\"#DejaVuSans-121\"/>\n      <use x=\"1238.623047\" xlink:href=\"#DejaVuSans-115\"/>\n      <use x=\"1290.722656\" xlink:href=\"#DejaVuSans-41\"/>\n     </g>\n    </g>\n   </g>\n   <g id=\"patch_3\">\n    <path clip-path=\"url(#p3df494c438)\" d=\"M 45.478125 263.19625 \nL 45.478125 43.184716 \nL 46.986233 43.184716 \nL 46.986233 44.592546 \nL 48.494341 44.592546 \nL 48.494341 46.187563 \nL 50.002449 46.187563 \nL 50.002449 47.537094 \nL 51.510557 47.537094 \nL 51.510557 49.536342 \nL 53.018666 49.536342 \nL 53.018666 51.717155 \nL 54.526774 51.717155 \nL 54.526774 53.017122 \nL 56.034882 53.017122 \nL 56.034882 54.951504 \nL 57.54299 54.951504 \nL 57.54299 56.468168 \nL 59.051098 56.468168 \nL 59.051098 58.306128 \nL 60.559206 58.306128 \nL 60.559206 59.706157 \nL 62.067314 59.706157 \nL 62.067314 61.593439 \nL 63.575422 61.593439 \nL 63.575422 63.019923 \nL 65.08353 63.019923 \nL 65.08353 64.379037 \nL 66.591639 64.379037 \nL 66.591639 65.176093 \nL 68.099747 65.176093 \nL 68.099747 68.507154 \nL 69.607855 68.507154 \nL 69.607855 69.624854 \nL 71.115963 69.624854 \nL 71.115963 71.383265 \nL 72.624071 71.383265 \nL 72.624071 73.269875 \nL 74.132179 73.269875 \nL 74.132179 74.035448 \nL 75.640287 74.035448 \nL 75.640287 76.792711 \nL 77.148395 76.792711 \nL 77.148395 77.609951 \nL 78.656503 77.609951 \nL 78.656503 79.606893 \nL 80.164611 79.606893 \nL 80.164611 81.58355 \nL 81.67272 81.58355 \nL 81.67272 84.14773 \nL 83.180828 84.14773 \nL 83.180828 84.832588 \nL 84.688936 84.832588 \nL 84.688936 86.754472 \nL 86.197044 86.754472 \nL 86.197044 88.923207 \nL 87.705152 88.923207 \nL 87.705152 90.384617 \nL 89.21326 90.384617 \nL 89.21326 91.64234 \nL 90.721368 91.64234 \nL 90.721368 92.927682 \nL 92.229476 92.927682 \nL 92.229476 95.873598 \nL 93.737584 95.873598 \nL 93.737584 96.903567 \nL 95.245693 96.903567 \nL 95.245693 99.781945 \nL 96.753801 99.781945 \nL 96.753801 98.801188 \nL 98.261909 98.801188 \nL 98.261909 101.109841 \nL 99.770017 101.109841 \nL 99.770017 101.507298 \nL 101.278125 101.507298 \nL 101.278125 104.734006 \nL 102.786233 104.734006 \nL 102.786233 105.777809 \nL 104.294341 105.777809 \nL 104.294341 108.346884 \nL 105.802449 108.346884 \nL 105.802449 109.544409 \nL 107.310557 109.544409 \nL 107.310557 109.934991 \nL 108.818666 109.934991 \nL 108.818666 112.467856 \nL 110.326774 112.467856 \nL 110.326774 117.767201 \nL 111.834882 117.767201 \nL 111.834882 117.175721 \nL 113.34299 117.175721 \nL 113.34299 119.663421 \nL 114.851098 119.663421 \nL 114.851098 118.754457 \nL 116.359206 118.754457 \nL 116.359206 116.602442 \nL 117.867314 116.602442 \nL 117.867314 109.467266 \nL 119.375422 109.467266 \nL 119.375422 92.396697 \nL 120.88353 92.396697 \nL 120.88353 74.845835 \nL 122.391639 74.845835 \nL 122.391639 58.609954 \nL 123.899747 58.609954 \nL 123.899747 45.613894 \nL 125.407855 45.613894 \nL 125.407855 36.734365 \nL 126.915963 36.734365 \nL 126.915963 31.1922 \nL 128.424071 31.1922 \nL 128.424071 29.336366 \nL 129.932179 29.336366 \nL 129.932179 31.206037 \nL 131.440287 31.206037 \nL 131.440287 36.735917 \nL 132.948395 36.735917 \nL 132.948395 45.903598 \nL 134.456503 45.903598 \nL 134.456503 59.026343 \nL 135.964611 59.026343 \nL 135.964611 75.443512 \nL 137.47272 75.443512 \nL 137.47272 93.970196 \nL 138.980828 93.970196 \nL 138.980828 116.944288 \nL 140.488936 116.944288 \nL 140.488936 136.404246 \nL 141.997044 136.404246 \nL 141.997044 147.751158 \nL 143.505152 147.751158 \nL 143.505152 148.993624 \nL 145.01326 148.993624 \nL 145.01326 155.006918 \nL 146.521368 155.006918 \nL 146.521368 148.362035 \nL 148.029476 148.362035 \nL 148.029476 153.312106 \nL 149.537584 153.312106 \nL 149.537584 154.140246 \nL 151.045693 154.140246 \nL 151.045693 155.006918 \nL 152.553801 155.006918 \nL 152.553801 172.986451 \nL 154.061909 172.986451 \nL 154.061909 162.560765 \nL 155.570017 162.560765 \nL 155.570017 175.474152 \nL 157.078125 175.474152 \nL 157.078125 172.986451 \nL 158.586233 172.986451 \nL 158.586233 167.053633 \nL 160.094341 167.053633 \nL 160.094341 175.474152 \nL 161.602449 175.474152 \nL 161.602449 163.941402 \nL 163.110557 163.941402 \nL 163.110557 178.345991 \nL 167.634882 178.345991 \nL 167.634882 175.474152 \nL 169.14299 175.474152 \nL 169.14299 211.726613 \nL 170.651098 211.726613 \nL 170.651098 185.899839 \nL 173.667314 185.899839 \nL 173.667314 191.259378 \nL 175.175422 191.259378 \nL 175.175422 175.474152 \nL 176.68353 175.474152 \nL 176.68353 198.813226 \nL 178.191639 198.813226 \nL 178.191639 185.899839 \nL 179.699747 185.899839 \nL 179.699747 263.19625 \nM 181.207855 263.19625 \nL 181.207855 211.726613 \nL 182.715963 211.726613 \nL 182.715963 181.742656 \nL 184.224071 181.742656 \nL 184.224071 191.259378 \nL 185.732179 191.259378 \nL 185.732179 198.813226 \nL 187.240287 198.813226 \nL 187.240287 263.19625 \nM 190.256503 263.19625 \nL 190.256503 198.813226 \nL 193.27272 198.813226 \nL 193.27272 211.726613 \nL 196.288936 211.726613 \nL 196.288936 263.19625 \nM 197.797044 263.19625 \nL 197.797044 211.726613 \nL 202.321368 211.726613 \nL 202.321368 263.19625 \nM 203.829476 263.19625 \nL 203.829476 211.726613 \nL 205.337584 211.726613 \nL 205.337584 263.19625 \nM 206.845693 263.19625 \nL 206.845693 211.726613 \nL 208.353801 211.726613 \nL 208.353801 263.19625 \nM 211.370017 263.19625 \nL 211.370017 211.726613 \nL 212.878125 211.726613 \nL 212.878125 263.19625 \nM 215.894341 263.19625 \nL 215.894341 198.813226 \nL 217.402449 198.813226 \nL 217.402449 263.19625 \nM 237.007855 263.19625 \nL 237.007855 211.726613 \nL 238.515963 211.726613 \nL 238.515963 263.19625 \nL 238.515963 263.19625 \n\" style=\"fill:none;stroke:#1f77b4;stroke-linejoin:miter;\"/>\n   </g>\n   <g id=\"patch_4\">\n    <path clip-path=\"url(#p3df494c438)\" d=\"M 45.478125 263.19625 \nL 45.478125 13.37269 \nL 46.986233 13.37269 \nL 46.986233 16.594353 \nL 48.494341 16.594353 \nL 48.494341 19.989439 \nL 50.002449 19.989439 \nL 50.002449 23.137598 \nL 51.510557 23.137598 \nL 51.510557 26.632516 \nL 53.018666 26.632516 \nL 53.018666 30.202342 \nL 54.526774 30.202342 \nL 54.526774 33.138049 \nL 56.034882 33.138049 \nL 56.034882 35.942834 \nL 57.54299 35.942834 \nL 57.54299 40.007282 \nL 59.051098 40.007282 \nL 59.051098 42.763851 \nL 60.559206 42.763851 \nL 60.559206 45.658943 \nL 62.067314 45.658943 \nL 62.067314 49.982873 \nL 63.575422 49.982873 \nL 63.575422 51.056107 \nL 65.08353 51.056107 \nL 65.08353 54.685209 \nL 66.591639 54.685209 \nL 66.591639 57.418584 \nL 68.099747 57.418584 \nL 68.099747 61.01891 \nL 69.607855 61.01891 \nL 69.607855 64.019778 \nL 71.115963 64.019778 \nL 71.115963 65.595088 \nL 72.624071 65.595088 \nL 72.624071 69.21223 \nL 74.132179 69.21223 \nL 74.132179 71.674601 \nL 75.640287 71.674601 \nL 75.640287 74.395181 \nL 77.148395 74.395181 \nL 77.148395 73.314048 \nL 78.656503 73.314048 \nL 78.656503 76.766078 \nL 80.164611 76.766078 \nL 80.164611 78.581678 \nL 81.67272 78.581678 \nL 81.67272 81.429085 \nL 83.180828 81.429085 \nL 83.180828 80.269506 \nL 84.688936 80.269506 \nL 84.688936 84.587988 \nL 86.197044 84.587988 \nL 86.197044 88.897668 \nL 87.705152 88.897668 \nL 87.705152 84.689515 \nL 89.21326 84.689515 \nL 89.21326 90.219505 \nL 90.721368 90.219505 \nL 90.721368 86.172235 \nL 92.229476 86.172235 \nL 92.229476 89.546866 \nL 93.737584 89.546866 \nL 93.737584 89.284466 \nL 95.245693 89.284466 \nL 95.245693 89.415204 \nL 96.753801 89.415204 \nL 96.753801 91.203965 \nL 98.261909 91.203965 \nL 98.261909 92.707205 \nL 99.770017 92.707205 \nL 99.770017 91.060102 \nL 101.278125 91.060102 \nL 101.278125 91.940427 \nL 102.786233 91.940427 \nL 102.786233 93.344193 \nL 104.294341 93.344193 \nL 104.294341 90.917342 \nL 105.802449 90.917342 \nL 105.802449 92.243362 \nL 107.310557 92.243362 \nL 107.310557 90.495511 \nL 108.818666 90.495511 \nL 108.818666 93.182893 \nL 111.834882 93.182893 \nL 111.834882 91.060102 \nL 113.34299 91.060102 \nL 113.34299 91.495065 \nL 114.851098 91.495065 \nL 114.851098 90.917342 \nL 116.359206 90.917342 \nL 116.359206 90.495511 \nL 117.867314 90.495511 \nL 117.867314 93.022977 \nL 119.375422 93.022977 \nL 119.375422 94.514179 \nL 120.88353 94.514179 \nL 120.88353 91.060102 \nL 122.391639 91.060102 \nL 122.391639 94.172333 \nL 123.899747 94.172333 \nL 123.899747 92.243362 \nL 125.407855 92.243362 \nL 125.407855 91.940427 \nL 126.915963 91.940427 \nL 126.915963 93.022977 \nL 128.424071 93.022977 \nL 128.424071 90.219505 \nL 129.932179 90.219505 \nL 129.932179 91.495065 \nL 131.440287 91.495065 \nL 131.440287 89.947528 \nL 132.948395 89.947528 \nL 132.948395 93.506902 \nL 134.456503 93.506902 \nL 134.456503 94.003734 \nL 135.964611 94.003734 \nL 135.964611 93.022977 \nL 137.47272 93.022977 \nL 137.47272 90.495511 \nL 138.980828 90.495511 \nL 138.980828 93.506902 \nL 140.488936 93.506902 \nL 140.488936 94.514179 \nL 141.997044 94.514179 \nL 141.997044 91.64234 \nL 143.505152 91.64234 \nL 143.505152 92.091279 \nL 145.01326 92.091279 \nL 145.01326 93.182893 \nL 146.521368 93.182893 \nL 146.521368 94.172333 \nL 148.029476 94.172333 \nL 148.029476 91.203965 \nL 149.537584 91.203965 \nL 149.537584 92.091279 \nL 151.045693 92.091279 \nL 151.045693 93.506902 \nL 152.553801 93.506902 \nL 152.553801 91.940427 \nL 154.061909 91.940427 \nL 154.061909 89.947528 \nL 155.570017 89.947528 \nL 155.570017 89.679465 \nL 157.078125 89.679465 \nL 157.078125 89.947528 \nL 158.586233 89.947528 \nL 158.586233 92.396697 \nL 160.094341 92.396697 \nL 160.094341 89.679465 \nL 161.602449 89.679465 \nL 161.602449 93.022977 \nL 163.110557 93.022977 \nL 163.110557 92.091279 \nL 164.618666 92.091279 \nL 164.618666 90.775668 \nL 166.126774 90.775668 \nL 166.126774 96.903567 \nL 167.634882 96.903567 \nL 167.634882 94.862415 \nL 169.14299 94.862415 \nL 169.14299 93.836647 \nL 170.651098 93.836647 \nL 170.651098 94.003734 \nL 172.159206 94.003734 \nL 172.159206 92.864422 \nL 173.667314 92.864422 \nL 173.667314 94.862415 \nL 175.175422 94.862415 \nL 175.175422 95.579045 \nL 176.68353 95.579045 \nL 176.68353 91.940427 \nL 178.191639 91.940427 \nL 178.191639 89.947528 \nL 179.699747 89.947528 \nL 179.699747 95.762594 \nL 181.207855 95.762594 \nL 181.207855 97.100713 \nL 182.715963 97.100713 \nL 182.715963 93.022977 \nL 184.224071 93.022977 \nL 184.224071 90.219505 \nL 185.732179 90.219505 \nL 185.732179 92.091279 \nL 187.240287 92.091279 \nL 187.240287 95.039005 \nL 188.748395 95.039005 \nL 188.748395 92.091279 \nL 190.256503 92.091279 \nL 190.256503 94.342472 \nL 191.764611 94.342472 \nL 191.764611 93.671045 \nL 193.27272 93.671045 \nL 193.27272 92.707205 \nL 194.780828 92.707205 \nL 194.780828 91.64234 \nL 196.288936 91.64234 \nL 196.288936 88.7705 \nL 197.797044 88.7705 \nL 197.797044 92.707205 \nL 199.305152 92.707205 \nL 199.305152 90.08302 \nL 200.81326 90.08302 \nL 200.81326 91.940427 \nL 202.321368 91.940427 \nL 202.321368 93.836647 \nL 203.829476 93.836647 \nL 203.829476 94.862415 \nL 205.337584 94.862415 \nL 205.337584 89.546866 \nL 206.845693 89.546866 \nL 206.845693 94.342472 \nL 208.353801 94.342472 \nL 208.353801 94.862415 \nL 209.861909 94.862415 \nL 209.861909 91.64234 \nL 211.370017 91.64234 \nL 211.370017 93.836647 \nL 212.878125 93.836647 \nL 212.878125 93.344193 \nL 214.386233 93.344193 \nL 214.386233 96.324347 \nL 215.894341 96.324347 \nL 215.894341 95.217284 \nL 217.402449 95.217284 \nL 217.402449 91.940427 \nL 218.910557 91.940427 \nL 218.910557 94.172333 \nL 220.418666 94.172333 \nL 220.418666 92.091279 \nL 221.926774 92.091279 \nL 221.926774 91.64234 \nL 223.434882 91.64234 \nL 223.434882 92.091279 \nL 224.94299 92.091279 \nL 224.94299 91.203965 \nL 226.451098 91.203965 \nL 226.451098 91.790787 \nL 227.959206 91.790787 \nL 227.959206 92.396697 \nL 229.467314 92.396697 \nL 229.467314 89.947528 \nL 230.975422 89.947528 \nL 230.975422 92.243362 \nL 232.48353 92.243362 \nL 232.48353 92.551304 \nL 233.991639 92.551304 \nL 233.991639 90.635063 \nL 235.499747 90.635063 \nL 235.499747 91.790787 \nL 237.007855 91.790787 \nL 237.007855 91.060102 \nL 238.515963 91.060102 \nL 238.515963 94.862415 \nL 240.024071 94.862415 \nL 240.024071 92.551304 \nL 241.532179 92.551304 \nL 241.532179 94.342472 \nL 243.040287 94.342472 \nL 243.040287 96.135208 \nL 244.548395 96.135208 \nL 244.548395 92.091279 \nL 246.056503 92.091279 \nL 246.056503 92.243362 \nL 247.564611 92.243362 \nL 247.564611 91.64234 \nL 249.07272 91.64234 \nL 249.07272 92.551304 \nL 250.580828 92.551304 \nL 250.580828 94.342472 \nL 252.088936 94.342472 \nL 252.088936 91.495065 \nL 253.597044 91.495065 \nL 253.597044 93.022977 \nL 255.105152 93.022977 \nL 255.105152 91.940427 \nL 256.61326 91.940427 \nL 256.61326 89.947528 \nL 258.121368 89.947528 \nL 258.121368 92.091279 \nL 259.629476 92.091279 \nL 259.629476 91.790787 \nL 261.137584 91.790787 \nL 261.137584 92.864422 \nL 262.645693 92.864422 \nL 262.645693 89.025711 \nL 264.153801 89.025711 \nL 264.153801 92.707205 \nL 265.661909 92.707205 \nL 265.661909 93.671045 \nL 267.170017 93.671045 \nL 267.170017 94.172333 \nL 268.678125 94.172333 \nL 268.678125 92.707205 \nL 270.186233 92.707205 \nL 270.186233 94.172333 \nL 271.694341 94.172333 \nL 271.694341 92.551304 \nL 273.202449 92.551304 \nL 273.202449 93.182893 \nL 274.710557 93.182893 \nL 274.710557 91.64234 \nL 276.218666 91.64234 \nL 276.218666 91.203965 \nL 279.234882 91.203965 \nL 279.234882 93.506902 \nL 280.74299 93.506902 \nL 280.74299 88.7705 \nL 282.251098 88.7705 \nL 282.251098 93.506902 \nL 283.759206 93.506902 \nL 283.759206 92.864422 \nL 285.267314 92.864422 \nL 285.267314 90.775668 \nL 286.775422 90.775668 \nL 286.775422 93.344193 \nL 289.791639 93.344193 \nL 289.791639 92.707205 \nL 291.299747 92.707205 \nL 291.299747 88.897668 \nL 292.807855 88.897668 \nL 292.807855 91.790787 \nL 294.315963 91.790787 \nL 294.315963 94.172333 \nL 295.824071 94.172333 \nL 295.824071 102.068026 \nL 297.332179 102.068026 \nL 297.332179 263.19625 \nL 297.332179 263.19625 \n\" style=\"fill:none;stroke:#ff7f0e;stroke-linejoin:miter;\"/>\n   </g>\n   <g id=\"patch_5\">\n    <path clip-path=\"url(#p3df494c438)\" d=\"M 45.478125 263.19625 \nL 45.478125 98.14414 \nL 46.986233 98.14414 \nL 46.986233 99.476254 \nL 48.494341 99.476254 \nL 48.494341 99.763644 \nL 50.002449 99.763644 \nL 50.002449 101.490566 \nL 51.510557 101.490566 \nL 51.510557 101.241386 \nL 53.018666 101.241386 \nL 53.018666 102.196116 \nL 54.526774 102.196116 \nL 54.526774 103.494366 \nL 56.034882 103.494366 \nL 56.034882 103.954391 \nL 57.54299 103.954391 \nL 57.54299 104.74197 \nL 59.051098 104.74197 \nL 59.051098 105.614331 \nL 60.559206 105.614331 \nL 60.559206 106.710155 \nL 62.067314 106.710155 \nL 62.067314 107.510551 \nL 63.575422 107.510551 \nL 63.575422 108.20726 \nL 65.08353 108.20726 \nL 65.08353 109.462135 \nL 66.591639 109.462135 \nL 66.591639 109.845739 \nL 68.099747 109.845739 \nL 68.099747 110.714157 \nL 69.607855 110.714157 \nL 69.607855 111.781282 \nL 71.115963 111.781282 \nL 71.115963 112.347661 \nL 72.624071 112.347661 \nL 72.624071 112.82087 \nL 74.132179 112.82087 \nL 74.132179 113.948008 \nL 75.640287 113.948008 \nL 75.640287 115.182597 \nL 77.148395 115.182597 \nL 77.148395 116.141499 \nL 78.656503 116.141499 \nL 78.656503 117.496734 \nL 80.164611 117.496734 \nL 80.164611 117.879722 \nL 81.67272 117.879722 \nL 81.67272 119.043961 \nL 83.180828 119.043961 \nL 83.180828 118.703831 \nL 84.688936 118.703831 \nL 84.688936 119.707831 \nL 86.197044 119.707831 \nL 86.197044 121.149449 \nL 87.705152 121.149449 \nL 87.705152 122.125792 \nL 89.21326 122.125792 \nL 89.21326 122.257885 \nL 90.721368 122.257885 \nL 90.721368 123.600126 \nL 92.229476 123.600126 \nL 92.229476 124.054947 \nL 93.737584 124.054947 \nL 93.737584 125.129724 \nL 96.753801 125.058481 \nL 96.753801 126.718336 \nL 98.261909 126.718336 \nL 98.261909 128.257102 \nL 99.770017 128.257102 \nL 99.770017 129.106361 \nL 101.278125 129.106361 \nL 101.278125 128.915882 \nL 102.786233 128.915882 \nL 102.786233 129.827034 \nL 104.294341 129.827034 \nL 104.294341 130.276346 \nL 105.802449 130.276346 \nL 105.802449 132.470654 \nL 107.310557 132.470654 \nL 107.310557 133.374326 \nL 110.326774 133.467152 \nL 110.326774 134.207518 \nL 113.34299 134.207518 \nL 113.34299 135.84616 \nL 114.851098 135.84616 \nL 114.851098 135.283779 \nL 116.359206 135.283779 \nL 116.359206 137.759758 \nL 117.867314 137.759758 \nL 117.867314 138.18642 \nL 119.375422 138.18642 \nL 119.375422 137.596438 \nL 120.88353 137.596438 \nL 120.88353 137.924523 \nL 122.391639 137.924523 \nL 122.391639 140.130656 \nL 123.899747 140.130656 \nL 123.899747 139.120578 \nL 125.407855 139.120578 \nL 125.407855 140.10406 \nL 126.915963 140.10406 \nL 126.915963 140.670696 \nL 128.424071 140.670696 \nL 128.424071 140.130656 \nL 129.932179 140.130656 \nL 129.932179 141.568705 \nL 131.440287 141.568705 \nL 131.440287 143.033571 \nL 132.948395 143.033571 \nL 132.948395 142.909577 \nL 134.456503 142.909577 \nL 134.456503 140.86347 \nL 135.964611 140.86347 \nL 135.964611 142.212194 \nL 137.47272 142.212194 \nL 137.47272 142.603154 \nL 138.980828 142.603154 \nL 138.980828 141.368533 \nL 140.488936 141.368533 \nL 140.488936 142.971471 \nL 141.997044 142.971471 \nL 141.997044 140.130656 \nL 143.505152 140.130656 \nL 143.505152 140.891173 \nL 145.01326 140.891173 \nL 145.01326 141.002397 \nL 146.521368 141.002397 \nL 146.521368 138.820489 \nL 148.029476 138.820489 \nL 148.029476 140.398719 \nL 149.537584 140.398719 \nL 149.537584 138.672239 \nL 151.045693 138.672239 \nL 151.045693 137.573223 \nL 152.553801 137.573223 \nL 152.553801 138.162459 \nL 154.061909 138.162459 \nL 154.061909 136.404246 \nL 155.570017 136.404246 \nL 155.570017 135.973473 \nL 157.078125 135.973473 \nL 157.078125 135.656807 \nL 158.586233 135.656807 \nL 158.586233 135.05944 \nL 160.094341 135.05944 \nL 160.094341 132.89895 \nL 161.602449 132.89895 \nL 161.602449 131.143018 \nL 163.110557 131.143018 \nL 163.110557 131.642514 \nL 164.618666 131.642514 \nL 164.618666 130.624582 \nL 166.126774 130.624582 \nL 166.126774 130.058084 \nL 167.634882 130.058084 \nL 167.634882 128.669698 \nL 169.14299 128.669698 \nL 169.14299 127.716258 \nL 172.159206 127.757309 \nL 172.159206 126.308304 \nL 173.667314 126.308304 \nL 173.667314 125.660669 \nL 175.175422 125.660669 \nL 175.175422 124.706295 \nL 176.68353 124.706295 \nL 176.68353 123.965325 \nL 178.191639 123.965325 \nL 178.191639 123.403904 \nL 179.699747 123.403904 \nL 179.699747 122.27829 \nL 181.207855 122.27829 \nL 181.207855 121.596748 \nL 184.224071 121.527984 \nL 184.224071 119.949493 \nL 187.240287 120.003624 \nL 187.240287 118.864619 \nL 190.256503 118.932736 \nL 190.256503 118.12315 \nL 191.764611 118.12315 \nL 191.764611 117.607628 \nL 193.27272 117.607628 \nL 193.27272 116.867778 \nL 194.780828 116.867778 \nL 194.780828 116.617503 \nL 196.288936 116.617503 \nL 196.288936 116.311166 \nL 197.797044 116.311166 \nL 197.797044 116.024374 \nL 199.305152 116.024374 \nL 199.305152 115.813945 \nL 200.81326 115.813945 \nL 200.81326 115.294531 \nL 202.321368 115.294531 \nL 202.321368 115.182597 \nL 203.829476 115.182597 \nL 203.829476 115.777903 \nL 205.337584 115.777903 \nL 205.337584 115.937012 \nL 206.845693 115.937012 \nL 206.845693 114.470968 \nL 208.353801 114.470968 \nL 208.353801 114.789207 \nL 209.861909 114.789207 \nL 209.861909 114.578696 \nL 211.370017 114.578696 \nL 211.370017 115.119928 \nL 212.878125 115.119928 \nL 212.878125 114.850772 \nL 217.402449 114.891928 \nL 217.402449 114.612489 \nL 218.910557 114.612489 \nL 218.910557 114.946945 \nL 220.418666 114.946945 \nL 220.418666 115.378926 \nL 221.926774 115.378926 \nL 221.926774 114.940059 \nL 223.434882 114.940059 \nL 223.434882 115.140794 \nL 224.94299 115.140794 \nL 224.94299 116.852514 \nL 226.451098 116.852514 \nL 226.451098 115.713202 \nL 227.959206 115.713202 \nL 227.959206 116.806796 \nL 229.467314 116.806796 \nL 229.467314 117.504634 \nL 230.975422 117.504634 \nL 230.975422 117.911996 \nL 232.48353 117.911996 \nL 232.48353 118.695407 \nL 233.991639 118.695407 \nL 233.991639 119.129972 \nL 235.499747 119.129972 \nL 235.499747 118.746009 \nL 237.007855 118.746009 \nL 237.007855 119.513213 \nL 238.515963 119.513213 \nL 238.515963 120.609683 \nL 241.532179 120.712638 \nL 241.532179 122.401194 \nL 243.040287 122.401194 \nL 243.040287 123.842795 \nL 244.548395 123.842795 \nL 244.548395 123.166849 \nL 246.056503 123.166849 \nL 246.056503 123.820603 \nL 247.564611 123.820603 \nL 247.564611 125.734257 \nL 249.07272 125.734257 \nL 249.07272 126.308304 \nL 250.580828 126.308304 \nL 250.580828 127.23058 \nL 252.088936 127.23058 \nL 252.088936 128.047223 \nL 255.105152 128.10296 \nL 255.105152 130.83346 \nL 256.61326 130.83346 \nL 256.61326 131.291466 \nL 258.121368 131.291466 \nL 258.121368 132.034741 \nL 259.629476 132.034741 \nL 259.629476 133.824169 \nL 261.137584 133.824169 \nL 261.137584 135.531633 \nL 262.645693 135.531633 \nL 262.645693 135.761766 \nL 264.153801 135.761766 \nL 264.153801 136.016105 \nL 265.661909 136.016105 \nL 265.661909 138.696865 \nL 267.170017 138.696865 \nL 267.170017 139.196361 \nL 268.678125 139.196361 \nL 268.678125 140.588685 \nL 270.186233 140.588685 \nL 270.186233 143.221124 \nL 271.694341 143.221124 \nL 271.694341 144.827878 \nL 273.202449 144.827878 \nL 273.202449 145.993742 \nL 274.710557 145.993742 \nL 274.710557 146.737556 \nL 276.218666 146.737556 \nL 276.218666 148.780706 \nL 277.726774 148.780706 \nL 277.726774 151.51194 \nL 279.234882 151.51194 \nL 279.234882 154.367445 \nL 280.74299 154.367445 \nL 280.74299 153.971647 \nL 282.251098 153.971647 \nL 282.251098 155.425589 \nL 283.759206 155.425589 \nL 283.759206 156.936964 \nL 285.267314 156.936964 \nL 285.267314 160.228965 \nL 286.775422 160.228965 \nL 286.775422 161.441763 \nL 288.28353 161.441763 \nL 288.28353 163.376811 \nL 289.791639 163.376811 \nL 289.791639 166.279572 \nL 291.299747 166.279572 \nL 291.299747 166.064193 \nL 292.807855 166.064193 \nL 292.807855 169.079341 \nL 294.315963 169.079341 \nL 294.315963 172.375574 \nL 295.824071 172.375574 \nL 295.824071 173.61804 \nL 297.332179 173.61804 \nL 297.332179 172.678509 \nL 298.840287 172.678509 \nL 298.840287 174.271794 \nL 300.348395 174.271794 \nL 300.348395 181.495897 \nL 301.856503 181.495897 \nL 301.856503 183.568039 \nL 303.364611 183.568039 \nL 303.364611 183.296062 \nL 304.87272 183.296062 \nL 304.87272 184.990874 \nL 306.380828 184.990874 \nL 306.380828 191.259378 \nL 307.888936 191.259378 \nL 307.888936 188.210949 \nL 309.397044 188.210949 \nL 309.397044 197.037589 \nL 310.905152 197.037589 \nL 310.905152 195.941386 \nL 312.41326 195.941386 \nL 312.41326 198.202349 \nL 315.429476 198.202349 \nL 315.429476 198.813226 \nL 316.937584 198.813226 \nL 316.937584 207.322671 \nL 318.445693 207.322671 \nL 318.445693 205.458108 \nL 319.953801 205.458108 \nL 319.953801 219.28046 \nL 321.461909 219.28046 \nL 321.461909 214.392593 \nL 322.970017 214.392593 \nL 322.970017 215.883795 \nL 324.478125 215.883795 \nL 324.478125 213.011956 \nL 325.986233 213.011956 \nL 325.986233 223.437642 \nL 329.002449 223.437642 \nL 329.002449 213.011956 \nL 330.510557 213.011956 \nL 330.510557 232.193847 \nL 332.018666 232.193847 \nL 332.018666 225.925343 \nL 333.526774 225.925343 \nL 333.526774 241.710569 \nL 335.034882 241.710569 \nL 335.034882 249.264417 \nL 336.54299 249.264417 \nL 336.54299 225.925343 \nL 338.051098 225.925343 \nL 338.051098 262.177804 \nL 342.575422 262.177804 \nL 342.575422 249.264417 \nL 347.099747 249.264417 \nL 347.099747 263.19625 \nM 350.115963 263.19625 \nL 350.115963 241.710569 \nL 351.624071 241.710569 \nL 351.624071 262.177804 \nL 354.640287 262.177804 \nL 354.640287 263.19625 \nM 356.148395 263.19625 \nL 356.148395 249.264417 \nL 357.656503 249.264417 \nL 357.656503 262.177804 \nL 359.164611 262.177804 \nL 359.164611 263.19625 \nM 362.180828 263.19625 \nL 362.180828 262.177804 \nL 363.688936 262.177804 \nL 363.688936 263.19625 \nM 375.753801 263.19625 \nL 375.753801 262.177804 \nL 378.770017 262.177804 \nL 378.770017 263.19625 \nL 378.770017 263.19625 \n\" style=\"fill:none;stroke:#2ca02c;stroke-linejoin:miter;\"/>\n   </g>\n   <g id=\"patch_6\">\n    <path d=\"M 45.478125 224.64 \nL 45.478125 7.2 \n\" style=\"fill:none;stroke:#000000;stroke-linecap:square;stroke-linejoin:miter;stroke-width:0.8;\"/>\n   </g>\n   <g id=\"patch_7\">\n    <path d=\"M 380.278125 224.64 \nL 380.278125 7.2 \n\" style=\"fill:none;stroke:#000000;stroke-linecap:square;stroke-linejoin:miter;stroke-width:0.8;\"/>\n   </g>\n   <g id=\"patch_8\">\n    <path d=\"M 45.478125 224.64 \nL 380.278125 224.64 \n\" style=\"fill:none;stroke:#000000;stroke-linecap:square;stroke-linejoin:miter;stroke-width:0.8;\"/>\n   </g>\n   <g id=\"patch_9\">\n    <path d=\"M 45.478125 7.2 \nL 380.278125 7.2 \n\" style=\"fill:none;stroke:#000000;stroke-linecap:square;stroke-linejoin:miter;stroke-width:0.8;\"/>\n   </g>\n   <g id=\"legend_1\">\n    <g id=\"patch_10\">\n     <path d=\"M 273.3375 59.234375 \nL 373.278125 59.234375 \nQ 375.278125 59.234375 375.278125 57.234375 \nL 375.278125 14.2 \nQ 375.278125 12.2 373.278125 12.2 \nL 273.3375 12.2 \nQ 271.3375 12.2 271.3375 14.2 \nL 271.3375 57.234375 \nQ 271.3375 59.234375 273.3375 59.234375 \nz\n\" style=\"fill:#ffffff;opacity:0.8;stroke:#cccccc;stroke-linejoin:miter;\"/>\n    </g>\n    <g id=\"patch_11\">\n     <path d=\"M 275.3375 23.798437 \nL 295.3375 23.798437 \nL 295.3375 16.798437 \nL 275.3375 16.798437 \nz\n\" style=\"fill:none;stroke:#1f77b4;stroke-linejoin:miter;\"/>\n    </g>\n    <g id=\"text_17\">\n     <!-- Experiment A -->\n     <g transform=\"translate(303.3375 23.798437)scale(0.1 -0.1)\">\n      <defs>\n       <path d=\"M 54.890625 54.6875 \nL 35.109375 28.078125 \nL 55.90625 0 \nL 45.3125 0 \nL 29.390625 21.484375 \nL 13.484375 0 \nL 2.875 0 \nL 24.125 28.609375 \nL 4.6875 54.6875 \nL 15.28125 54.6875 \nL 29.78125 35.203125 \nL 44.28125 54.6875 \nz\n\" id=\"DejaVuSans-120\"/>\n       <path d=\"M 18.109375 8.203125 \nL 18.109375 -20.796875 \nL 9.078125 -20.796875 \nL 9.078125 54.6875 \nL 18.109375 54.6875 \nL 18.109375 46.390625 \nQ 20.953125 51.265625 25.265625 53.625 \nQ 29.59375 56 35.59375 56 \nQ 45.5625 56 51.78125 48.09375 \nQ 58.015625 40.1875 58.015625 27.296875 \nQ 58.015625 14.40625 51.78125 6.484375 \nQ 45.5625 -1.421875 35.59375 -1.421875 \nQ 29.59375 -1.421875 25.265625 0.953125 \nQ 20.953125 3.328125 18.109375 8.203125 \nz\nM 48.6875 27.296875 \nQ 48.6875 37.203125 44.609375 42.84375 \nQ 40.53125 48.484375 33.40625 48.484375 \nQ 26.265625 48.484375 22.1875 42.84375 \nQ 18.109375 37.203125 18.109375 27.296875 \nQ 18.109375 17.390625 22.1875 11.75 \nQ 26.265625 6.109375 33.40625 6.109375 \nQ 40.53125 6.109375 44.609375 11.75 \nQ 48.6875 17.390625 48.6875 27.296875 \nz\n\" id=\"DejaVuSans-112\"/>\n       <path d=\"M 9.421875 54.6875 \nL 18.40625 54.6875 \nL 18.40625 0 \nL 9.421875 0 \nz\nM 9.421875 75.984375 \nL 18.40625 75.984375 \nL 18.40625 64.59375 \nL 9.421875 64.59375 \nz\n\" id=\"DejaVuSans-105\"/>\n       <path d=\"M 52 44.1875 \nQ 55.375 50.25 60.0625 53.125 \nQ 64.75 56 71.09375 56 \nQ 79.640625 56 84.28125 50.015625 \nQ 88.921875 44.046875 88.921875 33.015625 \nL 88.921875 0 \nL 79.890625 0 \nL 79.890625 32.71875 \nQ 79.890625 40.578125 77.09375 44.375 \nQ 74.3125 48.1875 68.609375 48.1875 \nQ 61.625 48.1875 57.5625 43.546875 \nQ 53.515625 38.921875 53.515625 30.90625 \nL 53.515625 0 \nL 44.484375 0 \nL 44.484375 32.71875 \nQ 44.484375 40.625 41.703125 44.40625 \nQ 38.921875 48.1875 33.109375 48.1875 \nQ 26.21875 48.1875 22.15625 43.53125 \nQ 18.109375 38.875 18.109375 30.90625 \nL 18.109375 0 \nL 9.078125 0 \nL 9.078125 54.6875 \nL 18.109375 54.6875 \nL 18.109375 46.1875 \nQ 21.1875 51.21875 25.484375 53.609375 \nQ 29.78125 56 35.6875 56 \nQ 41.65625 56 45.828125 52.96875 \nQ 50 49.953125 52 44.1875 \nz\n\" id=\"DejaVuSans-109\"/>\n       <path d=\"M 34.1875 63.1875 \nL 20.796875 26.90625 \nL 47.609375 26.90625 \nz\nM 28.609375 72.90625 \nL 39.796875 72.90625 \nL 67.578125 0 \nL 57.328125 0 \nL 50.6875 18.703125 \nL 17.828125 18.703125 \nL 11.1875 0 \nL 0.78125 0 \nz\n\" id=\"DejaVuSans-65\"/>\n      </defs>\n      <use xlink:href=\"#DejaVuSans-69\"/>\n      <use x=\"63.183594\" xlink:href=\"#DejaVuSans-120\"/>\n      <use x=\"122.363281\" xlink:href=\"#DejaVuSans-112\"/>\n      <use x=\"185.839844\" xlink:href=\"#DejaVuSans-101\"/>\n      <use x=\"247.363281\" xlink:href=\"#DejaVuSans-114\"/>\n      <use x=\"288.476562\" xlink:href=\"#DejaVuSans-105\"/>\n      <use x=\"316.259766\" xlink:href=\"#DejaVuSans-109\"/>\n      <use x=\"413.671875\" xlink:href=\"#DejaVuSans-101\"/>\n      <use x=\"475.195312\" xlink:href=\"#DejaVuSans-110\"/>\n      <use x=\"538.574219\" xlink:href=\"#DejaVuSans-116\"/>\n      <use x=\"577.783203\" xlink:href=\"#DejaVuSans-32\"/>\n      <use x=\"609.570312\" xlink:href=\"#DejaVuSans-65\"/>\n     </g>\n    </g>\n    <g id=\"patch_12\">\n     <path d=\"M 275.3375 38.476562 \nL 295.3375 38.476562 \nL 295.3375 31.476562 \nL 275.3375 31.476562 \nz\n\" style=\"fill:none;stroke:#ff7f0e;stroke-linejoin:miter;\"/>\n    </g>\n    <g id=\"text_18\">\n     <!-- Experiment B -->\n     <g transform=\"translate(303.3375 38.476562)scale(0.1 -0.1)\">\n      <defs>\n       <path d=\"M 19.671875 34.8125 \nL 19.671875 8.109375 \nL 35.5 8.109375 \nQ 43.453125 8.109375 47.28125 11.40625 \nQ 51.125 14.703125 51.125 21.484375 \nQ 51.125 28.328125 47.28125 31.5625 \nQ 43.453125 34.8125 35.5 34.8125 \nz\nM 19.671875 64.796875 \nL 19.671875 42.828125 \nL 34.28125 42.828125 \nQ 41.5 42.828125 45.03125 45.53125 \nQ 48.578125 48.25 48.578125 53.8125 \nQ 48.578125 59.328125 45.03125 62.0625 \nQ 41.5 64.796875 34.28125 64.796875 \nz\nM 9.8125 72.90625 \nL 35.015625 72.90625 \nQ 46.296875 72.90625 52.390625 68.21875 \nQ 58.5 63.53125 58.5 54.890625 \nQ 58.5 48.1875 55.375 44.234375 \nQ 52.25 40.28125 46.1875 39.3125 \nQ 53.46875 37.75 57.5 32.78125 \nQ 61.53125 27.828125 61.53125 20.40625 \nQ 61.53125 10.640625 54.890625 5.3125 \nQ 48.25 0 35.984375 0 \nL 9.8125 0 \nz\n\" id=\"DejaVuSans-66\"/>\n      </defs>\n      <use xlink:href=\"#DejaVuSans-69\"/>\n      <use x=\"63.183594\" xlink:href=\"#DejaVuSans-120\"/>\n      <use x=\"122.363281\" xlink:href=\"#DejaVuSans-112\"/>\n      <use x=\"185.839844\" xlink:href=\"#DejaVuSans-101\"/>\n      <use x=\"247.363281\" xlink:href=\"#DejaVuSans-114\"/>\n      <use x=\"288.476562\" xlink:href=\"#DejaVuSans-105\"/>\n      <use x=\"316.259766\" xlink:href=\"#DejaVuSans-109\"/>\n      <use x=\"413.671875\" xlink:href=\"#DejaVuSans-101\"/>\n      <use x=\"475.195312\" xlink:href=\"#DejaVuSans-110\"/>\n      <use x=\"538.574219\" xlink:href=\"#DejaVuSans-116\"/>\n      <use x=\"577.783203\" xlink:href=\"#DejaVuSans-32\"/>\n      <use x=\"609.570312\" xlink:href=\"#DejaVuSans-66\"/>\n     </g>\n    </g>\n    <g id=\"patch_13\">\n     <path d=\"M 275.3375 53.154687 \nL 295.3375 53.154687 \nL 295.3375 46.154687 \nL 275.3375 46.154687 \nz\n\" style=\"fill:none;stroke:#2ca02c;stroke-linejoin:miter;\"/>\n    </g>\n    <g id=\"text_19\">\n     <!-- Experiment C -->\n     <g transform=\"translate(303.3375 53.154687)scale(0.1 -0.1)\">\n      <use xlink:href=\"#DejaVuSans-69\"/>\n      <use x=\"63.183594\" xlink:href=\"#DejaVuSans-120\"/>\n      <use x=\"122.363281\" xlink:href=\"#DejaVuSans-112\"/>\n      <use x=\"185.839844\" xlink:href=\"#DejaVuSans-101\"/>\n      <use x=\"247.363281\" xlink:href=\"#DejaVuSans-114\"/>\n      <use x=\"288.476562\" xlink:href=\"#DejaVuSans-105\"/>\n      <use x=\"316.259766\" xlink:href=\"#DejaVuSans-109\"/>\n      <use x=\"413.671875\" xlink:href=\"#DejaVuSans-101\"/>\n      <use x=\"475.195312\" xlink:href=\"#DejaVuSans-110\"/>\n      <use x=\"538.574219\" xlink:href=\"#DejaVuSans-116\"/>\n      <use x=\"577.783203\" xlink:href=\"#DejaVuSans-32\"/>\n      <use x=\"609.570312\" xlink:href=\"#DejaVuSans-67\"/>\n     </g>\n    </g>\n   </g>\n  </g>\n </g>\n <defs>\n  <clipPath id=\"p3df494c438\">\n   <rect height=\"217.44\" width=\"334.8\" x=\"45.478125\" y=\"7.2\"/>\n  </clipPath>\n </defs>\n</svg>\n",
          "text/plain": "<Figure size 432x288 with 1 Axes>"
         },
         "metadata": {
          "needs_background": "light"
         },
         "output_type": "display_data"
        }
       ]
      }
     },
     "a62325c498c5440bbf7ca37bef6bfac9": {
      "model_module": "@jupyter-widgets/controls",
      "model_module_version": "1.5.0",
      "model_name": "DescriptionStyleModel",
      "state": {
       "description_width": ""
      }
     },
     "a676ad2e6fc244308ad840bd4eaafca9": {
      "model_module": "@jupyter-widgets/controls",
      "model_module_version": "1.5.0",
      "model_name": "IntSliderModel",
      "state": {
       "layout": "IPY_MODEL_0a6783e035fc48d993c2423f83cdd65e",
       "max": 2000,
       "min": 20,
       "style": "IPY_MODEL_c36fc3115fe346ce95f8bc3347ccfe3d",
       "value": 785
      }
     },
     "a69401b6ddf14225a2308099fe4a3913": {
      "model_module": "@jupyter-widgets/controls",
      "model_module_version": "1.5.0",
      "model_name": "IntSliderModel",
      "state": {
       "layout": "IPY_MODEL_32338398fd474410b0473df437cacd78",
       "max": 2000,
       "min": 20,
       "style": "IPY_MODEL_0d440aba1f6a4eb0a71bde6c0ccd4b3b",
       "value": 500
      }
     },
     "a694eb2e72254c75b3cc273454f5aa84": {
      "model_module": "@jupyter-widgets/controls",
      "model_module_version": "1.5.0",
      "model_name": "DescriptionStyleModel",
      "state": {
       "description_width": ""
      }
     },
     "a6ee4a827db74c2d9f9355a4c13e5540": {
      "model_module": "@jupyter-widgets/controls",
      "model_module_version": "1.5.0",
      "model_name": "SliderStyleModel",
      "state": {
       "description_width": ""
      }
     },
     "a7604c591cbf49c89ed785ad6edc5535": {
      "model_module": "@jupyter-widgets/base",
      "model_module_version": "1.2.0",
      "model_name": "LayoutModel",
      "state": {}
     },
     "a7a61091acfc46919dc3f87db28a97da": {
      "model_module": "@jupyter-widgets/base",
      "model_module_version": "1.2.0",
      "model_name": "LayoutModel",
      "state": {}
     },
     "a81db95e4f8c45d197025c19f252dcc0": {
      "model_module": "@jupyter-widgets/controls",
      "model_module_version": "1.5.0",
      "model_name": "CheckboxModel",
      "state": {
       "description": "Plot Experiment C",
       "disabled": false,
       "layout": "IPY_MODEL_959e95f5f64d4750bb9100f870ccef38",
       "style": "IPY_MODEL_9b1c3715c4de4a4da9ff1894678525ac",
       "value": true
      }
     },
     "a86400429aaf4b329caa2733a873bfd4": {
      "model_module": "@jupyter-widgets/controls",
      "model_module_version": "1.5.0",
      "model_name": "SliderStyleModel",
      "state": {
       "description_width": ""
      }
     },
     "a98bc0d9070a42beb55b5665af844db9": {
      "model_module": "@jupyter-widgets/base",
      "model_module_version": "1.2.0",
      "model_name": "LayoutModel",
      "state": {}
     },
     "aa0e50376667454099d3dd07a00fe41a": {
      "model_module": "@jupyter-widgets/controls",
      "model_module_version": "1.5.0",
      "model_name": "FloatLogSliderModel",
      "state": {
       "layout": "IPY_MODEL_6d531537ba3c40c1875b3947b6285550",
       "max": 5,
       "min": -1,
       "style": "IPY_MODEL_e8c1cce096854c35822b67ff94232c63",
       "value": 10000
      }
     },
     "aa281a6982b947ae9efdc086f03f51d6": {
      "model_module": "@jupyter-widgets/base",
      "model_module_version": "1.2.0",
      "model_name": "LayoutModel",
      "state": {}
     },
     "aa2d87dcae144e7a89ca49d19c4ae1f7": {
      "model_module": "@jupyter-widgets/controls",
      "model_module_version": "1.5.0",
      "model_name": "DescriptionStyleModel",
      "state": {
       "description_width": ""
      }
     },
     "aa8ea119d8dd4ee5962a824764b42413": {
      "model_module": "@jupyter-widgets/base",
      "model_module_version": "1.2.0",
      "model_name": "LayoutModel",
      "state": {}
     },
     "ab9ba180b9824fb9982a27fd801fac47": {
      "model_module": "@jupyter-widgets/base",
      "model_module_version": "1.2.0",
      "model_name": "LayoutModel",
      "state": {}
     },
     "ac1eb89c26be4a04a79136bcdf8eb4ae": {
      "model_module": "@jupyter-widgets/base",
      "model_module_version": "1.2.0",
      "model_name": "LayoutModel",
      "state": {}
     },
     "ac216fe54a61454ea29b11a5ec20c4a0": {
      "model_module": "@jupyter-widgets/controls",
      "model_module_version": "1.5.0",
      "model_name": "VBoxModel",
      "state": {
       "_dom_classes": [
        "widget-interact"
       ],
       "children": [
        "IPY_MODEL_6a61dc153cd94e0fb0ffbec31ae635f2",
        "IPY_MODEL_78ead8302c16429b9272e2a6d42050b9",
        "IPY_MODEL_aca70d74fb684f2d8eeaed12533b017f",
        "IPY_MODEL_3d9af7be3b3b4346ad3e13d1700d87ae",
        "IPY_MODEL_f006fee525494820819d7da75e4243cc",
        "IPY_MODEL_7f47f601331c44a6a41cba62b5b58300",
        "IPY_MODEL_33bb453e94b74f8dbda1486e342dbefa",
        "IPY_MODEL_3bac8ac45b7a4771b9cc357e7b7c7df6"
       ],
       "layout": "IPY_MODEL_d15b0c00e7054f0381215031f3ed67d9"
      }
     },
     "ac3e370734e945549801986cf0dd32f7": {
      "model_module": "@jupyter-widgets/controls",
      "model_module_version": "1.5.0",
      "model_name": "IntSliderModel",
      "state": {
       "description": "bins",
       "layout": "IPY_MODEL_7427fb6e958d4cc1b2a8649aefc4b674",
       "max": 2000,
       "min": 20,
       "style": "IPY_MODEL_ac5dd0c26d3547fea358105e916c835e",
       "value": 253
      }
     },
     "ac5dd0c26d3547fea358105e916c835e": {
      "model_module": "@jupyter-widgets/controls",
      "model_module_version": "1.5.0",
      "model_name": "SliderStyleModel",
      "state": {
       "description_width": ""
      }
     },
     "aca70d74fb684f2d8eeaed12533b017f": {
      "model_module": "@jupyter-widgets/controls",
      "model_module_version": "1.5.0",
      "model_name": "FloatLogSliderModel",
      "state": {
       "description": "y_ubl",
       "layout": "IPY_MODEL_03a05857ed7f4a14ad1cc58b813f6154",
       "max": 5,
       "min": -1,
       "style": "IPY_MODEL_058b3df5cd67499daecf9f71018dacc3",
       "value": 10000
      }
     },
     "adbf00f2245c461390b185621053a15d": {
      "model_module": "@jupyter-widgets/controls",
      "model_module_version": "1.5.0",
      "model_name": "SliderStyleModel",
      "state": {
       "description_width": ""
      }
     },
     "ae9b193267c64518b8a12c0e3b7249b9": {
      "model_module": "@jupyter-widgets/base",
      "model_module_version": "1.2.0",
      "model_name": "LayoutModel",
      "state": {}
     },
     "aea68e9d9fa1456dae8c03471a64047d": {
      "model_module": "@jupyter-widgets/controls",
      "model_module_version": "1.5.0",
      "model_name": "SliderStyleModel",
      "state": {
       "description_width": ""
      }
     },
     "aebab241d63b42b1bbffc7cd9829d2fb": {
      "model_module": "@jupyter-widgets/controls",
      "model_module_version": "1.5.0",
      "model_name": "SliderStyleModel",
      "state": {
       "description_width": ""
      }
     },
     "aee20e56712947c49d0f1aa227d2ca2b": {
      "model_module": "@jupyter-widgets/base",
      "model_module_version": "1.2.0",
      "model_name": "LayoutModel",
      "state": {}
     },
     "af29e1b841e04fb1a9093d367769fb4d": {
      "model_module": "@jupyter-widgets/controls",
      "model_module_version": "1.5.0",
      "model_name": "DescriptionStyleModel",
      "state": {
       "description_width": ""
      }
     },
     "af74a4d2736640b88b838a0227f563cb": {
      "model_module": "@jupyter-widgets/base",
      "model_module_version": "1.2.0",
      "model_name": "LayoutModel",
      "state": {}
     },
     "b0950b9e1f9e4c7f9cee7ecc63c84bc1": {
      "model_module": "@jupyter-widgets/controls",
      "model_module_version": "1.5.0",
      "model_name": "FloatSliderModel",
      "state": {
       "layout": "IPY_MODEL_ea0dcab404d84e7a9a9bf09c5df0f858",
       "max": 100000,
       "min": 0.5,
       "step": 0.1,
       "style": "IPY_MODEL_3c4bdfa6ab614765af025bc3557a8c0a",
       "value": 10000
      }
     },
     "b0e7211dae144e1ea88259aa00f07316": {
      "model_module": "@jupyter-widgets/controls",
      "model_module_version": "1.5.0",
      "model_name": "FloatRangeSliderModel",
      "state": {
       "_model_name": "FloatRangeSliderModel",
       "_view_name": "FloatRangeSliderView",
       "layout": "IPY_MODEL_da4c7ebd2d0741e9bb6c19bea95d0954",
       "max": 20,
       "step": 0.1,
       "style": "IPY_MODEL_3ea092697dc84ff28e549ce6f7950570",
       "value": [
        0,
        20
       ]
      }
     },
     "b17d0b0b1a014e8c80c1f61e82aab4a0": {
      "model_module": "@jupyter-widgets/base",
      "model_module_version": "1.2.0",
      "model_name": "LayoutModel",
      "state": {}
     },
     "b195c666ef414fdea79095059bb6a050": {
      "model_module": "@jupyter-widgets/base",
      "model_module_version": "1.2.0",
      "model_name": "LayoutModel",
      "state": {}
     },
     "b206eeb926b44204a806dbfd250bfb55": {
      "model_module": "@jupyter-widgets/controls",
      "model_module_version": "1.5.0",
      "model_name": "DescriptionStyleModel",
      "state": {
       "description_width": ""
      }
     },
     "b24f562993cc444e8a376056bed4b5eb": {
      "model_module": "@jupyter-widgets/controls",
      "model_module_version": "1.5.0",
      "model_name": "SliderStyleModel",
      "state": {
       "description_width": ""
      }
     },
     "b261edf7aee041978876bea8620a07ea": {
      "model_module": "@jupyter-widgets/controls",
      "model_module_version": "1.5.0",
      "model_name": "CheckboxModel",
      "state": {
       "description": "Plot Experiment B",
       "disabled": false,
       "layout": "IPY_MODEL_bc59be75084b41e8bfc9ddca75512385",
       "style": "IPY_MODEL_ed52700bb84948479f6adc71942fd705",
       "value": true
      }
     },
     "b2d7eeafe48246ddb33acb4548f26015": {
      "model_module": "@jupyter-widgets/controls",
      "model_module_version": "1.5.0",
      "model_name": "DescriptionStyleModel",
      "state": {
       "description_width": ""
      }
     },
     "b324fb427cd247a99d48d2ff5c820f95": {
      "model_module": "@jupyter-widgets/controls",
      "model_module_version": "1.5.0",
      "model_name": "SliderStyleModel",
      "state": {
       "description_width": ""
      }
     },
     "b364549fcb7b4f1ab81d0a28172fc7fc": {
      "model_module": "@jupyter-widgets/controls",
      "model_module_version": "1.5.0",
      "model_name": "DropdownModel",
      "state": {
       "_options_labels": [
        "linear",
        "log"
       ],
       "description": "Scale: ",
       "index": 1,
       "layout": "IPY_MODEL_d374d93fae704ea0b4772552fc1ae40a",
       "style": "IPY_MODEL_037875914dde4dde82875a8f1d620167"
      }
     },
     "b3c7dd4cc9af45ab849e3a12f377c262": {
      "model_module": "@jupyter-widgets/base",
      "model_module_version": "1.2.0",
      "model_name": "LayoutModel",
      "state": {}
     },
     "b3f45c67118e4ac0b8c27eda443e2b46": {
      "model_module": "@jupyter-widgets/base",
      "model_module_version": "1.2.0",
      "model_name": "LayoutModel",
      "state": {}
     },
     "b4784e944f0d4020af62c95c60f7589a": {
      "model_module": "@jupyter-widgets/base",
      "model_module_version": "1.2.0",
      "model_name": "LayoutModel",
      "state": {}
     },
     "b4f90069abec46958ce43f3628c60e3a": {
      "model_module": "@jupyter-widgets/controls",
      "model_module_version": "1.5.0",
      "model_name": "IntSliderModel",
      "state": {
       "layout": "IPY_MODEL_1c12e9a38bc2424993c0e1f77b661454",
       "max": 2000,
       "min": 20,
       "style": "IPY_MODEL_666278f8897f4ec780ea897870c7628d",
       "value": 500
      }
     },
     "b5d11d4aeeb944229ab1f70b84604e0f": {
      "model_module": "@jupyter-widgets/base",
      "model_module_version": "1.2.0",
      "model_name": "LayoutModel",
      "state": {}
     },
     "b6796ef7f2aa4fc9b2fa4728afcc6c92": {
      "model_module": "@jupyter-widgets/controls",
      "model_module_version": "1.5.0",
      "model_name": "IntSliderModel",
      "state": {
       "description": "bins",
       "layout": "IPY_MODEL_2309c2159f3545fb8326dfb2e098aacb",
       "max": 2000,
       "min": 20,
       "style": "IPY_MODEL_86ac813f69d941ecb02622e769e2ca7b",
       "value": 222
      }
     },
     "b6d244fb12f14520b747072d5618a8bc": {
      "model_module": "@jupyter-widgets/controls",
      "model_module_version": "1.5.0",
      "model_name": "SliderStyleModel",
      "state": {
       "description_width": ""
      }
     },
     "b862a2711c764136aeadb8d5a87e4460": {
      "model_module": "@jupyter-widgets/controls",
      "model_module_version": "1.5.0",
      "model_name": "CheckboxModel",
      "state": {
       "description": "Plot Experiment C",
       "disabled": false,
       "layout": "IPY_MODEL_b5d11d4aeeb944229ab1f70b84604e0f",
       "style": "IPY_MODEL_9d45fd497625489f91459d718172e33a",
       "value": true
      }
     },
     "b8bf8bf1a960474ab7ea5df653cf286c": {
      "model_module": "@jupyter-widgets/base",
      "model_module_version": "1.2.0",
      "model_name": "LayoutModel",
      "state": {}
     },
     "b8dc49ebdd7047f08cc5e4c0ecb1ffd9": {
      "model_module": "@jupyter-widgets/controls",
      "model_module_version": "1.5.0",
      "model_name": "IntSliderModel",
      "state": {
       "layout": "IPY_MODEL_5ec9e640b5164964bdec6c64cfabd087",
       "max": 2000,
       "min": 20,
       "style": "IPY_MODEL_86696edb792c4bc0b259ac9d04a7d781",
       "value": 500
      }
     },
     "b8f37162ce1e453a8e04ddfd9cdb93cd": {
      "model_module": "@jupyter-widgets/controls",
      "model_module_version": "1.5.0",
      "model_name": "FloatLogSliderModel",
      "state": {
       "layout": "IPY_MODEL_8e989d953254480bbec03aaa85970a6c",
       "max": 6,
       "min": -1,
       "style": "IPY_MODEL_cd90c5a9ce0a48c1ac2d1850da8ba41a",
       "value": 100000
      }
     },
     "b90fcd094c4c4d098f3939445f5ee064": {
      "model_module": "@jupyter-widgets/base",
      "model_module_version": "1.2.0",
      "model_name": "LayoutModel",
      "state": {}
     },
     "b91934c045394e958b52e7d39d5694c0": {
      "model_module": "@jupyter-widgets/base",
      "model_module_version": "1.2.0",
      "model_name": "LayoutModel",
      "state": {}
     },
     "b944451848144f44a4f46f611539dbf6": {
      "model_module": "@jupyter-widgets/controls",
      "model_module_version": "1.5.0",
      "model_name": "FloatLogSliderModel",
      "state": {
       "layout": "IPY_MODEL_a137594144cb4977838b21d9ad37e895",
       "max": 5,
       "min": -1,
       "style": "IPY_MODEL_6ec1a8ded11f464bb08fde7686a60afb",
       "value": 10000
      }
     },
     "b9a57d6d58d5430c9cfd1b5028c6e7a6": {
      "model_module": "@jupyter-widgets/controls",
      "model_module_version": "1.5.0",
      "model_name": "IntSliderModel",
      "state": {
       "description": "bins",
       "layout": "IPY_MODEL_de7cc2645fdd462c9c87f326de3fcd44",
       "max": 2000,
       "min": 20,
       "style": "IPY_MODEL_1a74fae339ea42d2bc7623e69151c4e4",
       "value": 500
      }
     },
     "b9d86ec06f494a40b64156a8498643bb": {
      "model_module": "@jupyter-widgets/controls",
      "model_module_version": "1.5.0",
      "model_name": "VBoxModel",
      "state": {
       "_dom_classes": [
        "widget-interact"
       ],
       "children": [
        "IPY_MODEL_b9a57d6d58d5430c9cfd1b5028c6e7a6",
        "IPY_MODEL_3d16182116444b5e85b658fad0a5857a",
        "IPY_MODEL_9e5b73f7fe8c4bdaa7d04fbc13975f06",
        "IPY_MODEL_3b3e19343ecb4406bbb25f34ec2ba373",
        "IPY_MODEL_6e7d093d9ff042f6a79e8168581279e5",
        "IPY_MODEL_5ab92148dfc045028aeececbb959bd9a",
        "IPY_MODEL_4b677cfa298a4277bd657537335fecb6",
        "IPY_MODEL_de536489d3534bfb93e2d00c35564b93"
       ],
       "layout": "IPY_MODEL_6b63b4003fc34c00bd244f68ea11d6c8"
      }
     },
     "ba45564a775948a8849e473969292533": {
      "model_module": "@jupyter-widgets/base",
      "model_module_version": "1.2.0",
      "model_name": "LayoutModel",
      "state": {}
     },
     "bab79b4ccafa48af8ee14c75fe20a456": {
      "model_module": "@jupyter-widgets/controls",
      "model_module_version": "1.5.0",
      "model_name": "SliderStyleModel",
      "state": {
       "description_width": ""
      }
     },
     "bb0f2f193a2041f89adc1eb278c72dfe": {
      "model_module": "@jupyter-widgets/controls",
      "model_module_version": "1.5.0",
      "model_name": "DropdownModel",
      "state": {
       "_options_labels": [
        "linear",
        "log"
       ],
       "description": "Scale: ",
       "index": 0,
       "layout": "IPY_MODEL_927f649f7eac475aa67b28446fa7a890",
       "style": "IPY_MODEL_25bfc0062f454f8ca24d458e45a85d4c"
      }
     },
     "bbc076779ff7414e8a1f6ca419b63915": {
      "model_module": "@jupyter-widgets/controls",
      "model_module_version": "1.5.0",
      "model_name": "FloatRangeSliderModel",
      "state": {
       "_model_name": "FloatRangeSliderModel",
       "_view_name": "FloatRangeSliderView",
       "layout": "IPY_MODEL_017391c1e4c14e13a6d1179f4fd505cf",
       "max": 20,
       "step": 0.1,
       "style": "IPY_MODEL_62df2906a3bf48eea6426ea4365b24a9",
       "value": [
        0,
        20
       ]
      }
     },
     "bc59be75084b41e8bfc9ddca75512385": {
      "model_module": "@jupyter-widgets/base",
      "model_module_version": "1.2.0",
      "model_name": "LayoutModel",
      "state": {}
     },
     "bc60b1ce4bc845cea1f1f486cb80fe2f": {
      "model_module": "@jupyter-widgets/controls",
      "model_module_version": "1.5.0",
      "model_name": "IntSliderModel",
      "state": {
       "layout": "IPY_MODEL_267a4fd7b0764adcab5c6547f0c1b391",
       "max": 20,
       "style": "IPY_MODEL_19d977b4db5b4ea9b2d2a6c5867f585d",
       "value": 18
      }
     },
     "bca36e7768684fa691c7cfef44aced13": {
      "model_module": "@jupyter-widgets/base",
      "model_module_version": "1.2.0",
      "model_name": "LayoutModel",
      "state": {}
     },
     "bcdf02a8249641fc91b058892bbc7835": {
      "model_module": "@jupyter-widgets/controls",
      "model_module_version": "1.5.0",
      "model_name": "SliderStyleModel",
      "state": {
       "description_width": ""
      }
     },
     "bd6645b22cae494aadb7d27cb10cfadd": {
      "model_module": "@jupyter-widgets/controls",
      "model_module_version": "1.5.0",
      "model_name": "SliderStyleModel",
      "state": {
       "description_width": ""
      }
     },
     "be2d3ac9b2124680971ffe7ceab2867f": {
      "model_module": "@jupyter-widgets/base",
      "model_module_version": "1.2.0",
      "model_name": "LayoutModel",
      "state": {}
     },
     "be4da9053c05439a9e980c08a30fbe88": {
      "model_module": "@jupyter-widgets/base",
      "model_module_version": "1.2.0",
      "model_name": "LayoutModel",
      "state": {}
     },
     "beecb29b0f294cb28a3bc6355754835e": {
      "model_module": "@jupyter-widgets/base",
      "model_module_version": "1.2.0",
      "model_name": "LayoutModel",
      "state": {}
     },
     "bf49744da22b4a3fbb04aee78d71d307": {
      "model_module": "@jupyter-widgets/base",
      "model_module_version": "1.2.0",
      "model_name": "LayoutModel",
      "state": {}
     },
     "bf8839ea4516489ea66dcb0c77de1155": {
      "model_module": "@jupyter-widgets/controls",
      "model_module_version": "1.5.0",
      "model_name": "DescriptionStyleModel",
      "state": {
       "description_width": ""
      }
     },
     "c00ddfb76ef84661a14d4731ddf43464": {
      "model_module": "@jupyter-widgets/base",
      "model_module_version": "1.2.0",
      "model_name": "LayoutModel",
      "state": {}
     },
     "c05cbbf4f5ae432ab955dcde1c9060f2": {
      "model_module": "@jupyter-widgets/controls",
      "model_module_version": "1.5.0",
      "model_name": "FloatRangeSliderModel",
      "state": {
       "_model_name": "FloatRangeSliderModel",
       "_view_name": "FloatRangeSliderView",
       "layout": "IPY_MODEL_2d142c5073f84d55adcf5712bccb101a",
       "max": 20,
       "step": 0.1,
       "style": "IPY_MODEL_bcdf02a8249641fc91b058892bbc7835",
       "value": [
        0,
        20
       ]
      }
     },
     "c09d950f22d54558aa3a01554a6785f5": {
      "model_module": "@jupyter-widgets/controls",
      "model_module_version": "1.5.0",
      "model_name": "DescriptionStyleModel",
      "state": {
       "description_width": ""
      }
     },
     "c15c8e7a021e43828b5f76ed224f21c9": {
      "model_module": "@jupyter-widgets/controls",
      "model_module_version": "1.5.0",
      "model_name": "LinkModel",
      "state": {
       "source": [
        "IPY_MODEL_d038c4542fab460e8ef26af458294d31",
        "value"
       ],
       "target": [
        "IPY_MODEL_48ec3e8e86fe4f508a28502225fbd0e8",
        "value"
       ]
      }
     },
     "c1d19e59446f4dd083b5e1e0d2b8aaf6": {
      "model_module": "@jupyter-widgets/controls",
      "model_module_version": "1.5.0",
      "model_name": "DescriptionStyleModel",
      "state": {
       "description_width": ""
      }
     },
     "c1e3d5848de1475ca07435e34e981d96": {
      "model_module": "@jupyter-widgets/controls",
      "model_module_version": "1.5.0",
      "model_name": "DescriptionStyleModel",
      "state": {
       "description_width": ""
      }
     },
     "c20a3868fb734224a5a87fcaec249b2f": {
      "model_module": "@jupyter-widgets/controls",
      "model_module_version": "1.5.0",
      "model_name": "SliderStyleModel",
      "state": {
       "description_width": ""
      }
     },
     "c249011523c740878d4bd3817bf8037c": {
      "model_module": "@jupyter-widgets/controls",
      "model_module_version": "1.5.0",
      "model_name": "DescriptionStyleModel",
      "state": {
       "description_width": ""
      }
     },
     "c25c5920bf3a4212b07ab8e8ac3c5bab": {
      "model_module": "@jupyter-widgets/base",
      "model_module_version": "1.2.0",
      "model_name": "LayoutModel",
      "state": {}
     },
     "c30f3665023f4428a6139dd2ad3db758": {
      "model_module": "@jupyter-widgets/controls",
      "model_module_version": "1.5.0",
      "model_name": "SliderStyleModel",
      "state": {
       "description_width": ""
      }
     },
     "c34e3dc71820494c9608e2fbefa4d00d": {
      "model_module": "@jupyter-widgets/base",
      "model_module_version": "1.2.0",
      "model_name": "LayoutModel",
      "state": {}
     },
     "c36fc3115fe346ce95f8bc3347ccfe3d": {
      "model_module": "@jupyter-widgets/controls",
      "model_module_version": "1.5.0",
      "model_name": "SliderStyleModel",
      "state": {
       "description_width": ""
      }
     },
     "c44f5a8964ed4acab4c129e90f182392": {
      "model_module": "@jupyter-widgets/controls",
      "model_module_version": "1.5.0",
      "model_name": "FloatSliderModel",
      "state": {
       "layout": "IPY_MODEL_e72b2c89ae364752948260f420d344cd",
       "max": 100000,
       "min": 0.5,
       "step": 0.1,
       "style": "IPY_MODEL_e0cdd6e45545474bbcbd8b457c967c8c",
       "value": 100000
      }
     },
     "c514ce8829d94ca5a84e69e71d9c90f3": {
      "model_module": "@jupyter-widgets/controls",
      "model_module_version": "1.5.0",
      "model_name": "SliderStyleModel",
      "state": {
       "description_width": ""
      }
     },
     "c5694b874a2442b6a42dd316085636a7": {
      "model_module": "@jupyter-widgets/base",
      "model_module_version": "1.2.0",
      "model_name": "LayoutModel",
      "state": {}
     },
     "c5dbb8238faf4644baa668dc24f17ae0": {
      "model_module": "@jupyter-widgets/controls",
      "model_module_version": "1.5.0",
      "model_name": "DescriptionStyleModel",
      "state": {
       "description_width": ""
      }
     },
     "c671b5c69b3e4a239814baf374761929": {
      "model_module": "@jupyter-widgets/controls",
      "model_module_version": "1.5.0",
      "model_name": "CheckboxModel",
      "state": {
       "description": "Plot Experiment A",
       "disabled": false,
       "layout": "IPY_MODEL_d2fa2dc0f84644ccbefbbeab8838054d",
       "style": "IPY_MODEL_c5dbb8238faf4644baa668dc24f17ae0",
       "value": true
      }
     },
     "c6f309d3e92442328caf27b59ea248a4": {
      "model_module": "@jupyter-widgets/controls",
      "model_module_version": "1.5.0",
      "model_name": "SliderStyleModel",
      "state": {
       "description_width": ""
      }
     },
     "c74ab04d9e8f422eb4822973bc484b45": {
      "model_module": "@jupyter-widgets/controls",
      "model_module_version": "1.5.0",
      "model_name": "DescriptionStyleModel",
      "state": {
       "description_width": ""
      }
     },
     "c7833ac5717942e5972c534833998e81": {
      "model_module": "@jupyter-widgets/base",
      "model_module_version": "1.2.0",
      "model_name": "LayoutModel",
      "state": {}
     },
     "c7d3d6c6100b4e759bc7913f8f9b69fc": {
      "model_module": "@jupyter-widgets/controls",
      "model_module_version": "1.5.0",
      "model_name": "DescriptionStyleModel",
      "state": {
       "description_width": ""
      }
     },
     "c845060f757948beba2bb8fbd2ad1814": {
      "model_module": "@jupyter-widgets/controls",
      "model_module_version": "1.5.0",
      "model_name": "DescriptionStyleModel",
      "state": {
       "description_width": ""
      }
     },
     "c8f04ea81d0143f590789d5c5bc0aabf": {
      "model_module": "@jupyter-widgets/base",
      "model_module_version": "1.2.0",
      "model_name": "LayoutModel",
      "state": {}
     },
     "c91d63bba06848d6844dc2f1a1d8caa3": {
      "model_module": "@jupyter-widgets/controls",
      "model_module_version": "1.5.0",
      "model_name": "DescriptionStyleModel",
      "state": {
       "description_width": ""
      }
     },
     "ca5bc28c96e1441ab2c4566f78d8cc0f": {
      "model_module": "@jupyter-widgets/controls",
      "model_module_version": "1.5.0",
      "model_name": "SliderStyleModel",
      "state": {
       "description_width": ""
      }
     },
     "cab636b9707844e7ab78936d80d9dc0f": {
      "model_module": "@jupyter-widgets/base",
      "model_module_version": "1.2.0",
      "model_name": "LayoutModel",
      "state": {}
     },
     "cb20434c10c840fd804ac4aa4e470488": {
      "model_module": "@jupyter-widgets/controls",
      "model_module_version": "1.5.0",
      "model_name": "SliderStyleModel",
      "state": {
       "description_width": ""
      }
     },
     "cb47fe2ae35a413d87d9817c522f7e12": {
      "model_module": "@jupyter-widgets/controls",
      "model_module_version": "1.5.0",
      "model_name": "CheckboxModel",
      "state": {
       "description": "Plot Experiment C",
       "disabled": false,
       "layout": "IPY_MODEL_660c3a2344c84250a45b75e1684bea83",
       "style": "IPY_MODEL_b2d7eeafe48246ddb33acb4548f26015",
       "value": true
      }
     },
     "cb4ac8ec063e48f3901a11eea2a0b0f6": {
      "model_module": "@jupyter-widgets/base",
      "model_module_version": "1.2.0",
      "model_name": "LayoutModel",
      "state": {}
     },
     "cb7e853361fc4e9d836309bdeffc5367": {
      "model_module": "@jupyter-widgets/base",
      "model_module_version": "1.2.0",
      "model_name": "LayoutModel",
      "state": {}
     },
     "cbbaa7a561ce4acdbd4969ce65fb42f3": {
      "model_module": "@jupyter-widgets/base",
      "model_module_version": "1.2.0",
      "model_name": "LayoutModel",
      "state": {}
     },
     "ccb029debf3749aaafcfd960a2b381d6": {
      "model_module": "@jupyter-widgets/controls",
      "model_module_version": "1.5.0",
      "model_name": "SliderStyleModel",
      "state": {
       "description_width": ""
      }
     },
     "ccbc1562f9ed427fb6ce2496a69a20e5": {
      "model_module": "@jupyter-widgets/controls",
      "model_module_version": "1.5.0",
      "model_name": "CheckboxModel",
      "state": {
       "description": "Plot Experiment C",
       "disabled": false,
       "layout": "IPY_MODEL_8a5846f56ae34de2a665bce170b24216",
       "style": "IPY_MODEL_d30299cc0563474db9c1abfd5a0f1332",
       "value": true
      }
     },
     "ccec186950b74042b0aad1446df616a4": {
      "model_module": "@jupyter-widgets/base",
      "model_module_version": "1.2.0",
      "model_name": "LayoutModel",
      "state": {}
     },
     "cd2448ef10074e28844861ca13048002": {
      "model_module": "@jupyter-widgets/base",
      "model_module_version": "1.2.0",
      "model_name": "LayoutModel",
      "state": {}
     },
     "cd2a73ed4b834081bb9feeceeda3d154": {
      "model_module": "@jupyter-widgets/base",
      "model_module_version": "1.2.0",
      "model_name": "LayoutModel",
      "state": {}
     },
     "cd8e5d1f513d4b1788c04f4a89587a59": {
      "model_module": "@jupyter-widgets/controls",
      "model_module_version": "1.5.0",
      "model_name": "SliderStyleModel",
      "state": {
       "description_width": ""
      }
     },
     "cd90c5a9ce0a48c1ac2d1850da8ba41a": {
      "model_module": "@jupyter-widgets/controls",
      "model_module_version": "1.5.0",
      "model_name": "SliderStyleModel",
      "state": {
       "description_width": ""
      }
     },
     "cdb509656dd1484ebf7617b4e0fbea49": {
      "model_module": "@jupyter-widgets/base",
      "model_module_version": "1.2.0",
      "model_name": "LayoutModel",
      "state": {}
     },
     "ce10252c0bd14a698320102b958339cc": {
      "model_module": "@jupyter-widgets/base",
      "model_module_version": "1.2.0",
      "model_name": "LayoutModel",
      "state": {}
     },
     "cea25038030f423f9c3546de06152976": {
      "model_module": "@jupyter-widgets/controls",
      "model_module_version": "1.5.0",
      "model_name": "SliderStyleModel",
      "state": {
       "description_width": ""
      }
     },
     "cf4c38c2b74e4759acd7cd7ef75ecff4": {
      "model_module": "@jupyter-widgets/controls",
      "model_module_version": "1.5.0",
      "model_name": "SliderStyleModel",
      "state": {
       "description_width": ""
      }
     },
     "d00c86e1398a442ea464583e7a5330d5": {
      "model_module": "@jupyter-widgets/base",
      "model_module_version": "1.2.0",
      "model_name": "LayoutModel",
      "state": {}
     },
     "d02c7e4db7704f368341492ed77d5f7b": {
      "model_module": "@jupyter-widgets/base",
      "model_module_version": "1.2.0",
      "model_name": "LayoutModel",
      "state": {}
     },
     "d038c4542fab460e8ef26af458294d31": {
      "model_module": "@jupyter-widgets/controls",
      "model_module_version": "1.5.0",
      "model_name": "FloatSliderModel",
      "state": {
       "layout": "IPY_MODEL_3fd9b2d2f1bc40238c10bc0b8e98dda1",
       "max": 100000,
       "min": 0.5,
       "step": 0.1,
       "style": "IPY_MODEL_0f94765343084a72b29ebfa9090083cd",
       "value": 1000
      }
     },
     "d14bb117f61e48459b2a11c3524c7e55": {
      "model_module": "@jupyter-widgets/base",
      "model_module_version": "1.2.0",
      "model_name": "LayoutModel",
      "state": {}
     },
     "d15b0c00e7054f0381215031f3ed67d9": {
      "model_module": "@jupyter-widgets/base",
      "model_module_version": "1.2.0",
      "model_name": "LayoutModel",
      "state": {}
     },
     "d1797ac77e184943a952458fef25ea57": {
      "model_module": "@jupyter-widgets/base",
      "model_module_version": "1.2.0",
      "model_name": "LayoutModel",
      "state": {}
     },
     "d1b25f395cc0496cbbe3a1d9fb26ecb8": {
      "model_module": "@jupyter-widgets/controls",
      "model_module_version": "1.5.0",
      "model_name": "FloatSliderModel",
      "state": {
       "layout": "IPY_MODEL_a0a151a07e5a414583ffb40e6d6fbb40",
       "max": 20,
       "step": 0.1,
       "style": "IPY_MODEL_2c4509a0f9cb488b9497fca12354b2a8",
       "value": 20
      }
     },
     "d23bd14e99e94ec3a1ff7e495170f77f": {
      "model_module": "@jupyter-widgets/controls",
      "model_module_version": "1.5.0",
      "model_name": "DescriptionStyleModel",
      "state": {
       "description_width": ""
      }
     },
     "d26cc28c187843e2ab340401f6b3e262": {
      "model_module": "@jupyter-widgets/controls",
      "model_module_version": "1.5.0",
      "model_name": "IntSliderModel",
      "state": {
       "description": "bins",
       "layout": "IPY_MODEL_af74a4d2736640b88b838a0227f563cb",
       "max": 2000,
       "min": 20,
       "style": "IPY_MODEL_7a6de1f3fbfd436eb68a420aae8f7a70",
       "value": 500
      }
     },
     "d2fa2dc0f84644ccbefbbeab8838054d": {
      "model_module": "@jupyter-widgets/base",
      "model_module_version": "1.2.0",
      "model_name": "LayoutModel",
      "state": {}
     },
     "d30299cc0563474db9c1abfd5a0f1332": {
      "model_module": "@jupyter-widgets/controls",
      "model_module_version": "1.5.0",
      "model_name": "DescriptionStyleModel",
      "state": {
       "description_width": ""
      }
     },
     "d374d93fae704ea0b4772552fc1ae40a": {
      "model_module": "@jupyter-widgets/base",
      "model_module_version": "1.2.0",
      "model_name": "LayoutModel",
      "state": {}
     },
     "d3aa9bcc71f34ee9876025331935b328": {
      "model_module": "@jupyter-widgets/controls",
      "model_module_version": "1.5.0",
      "model_name": "DropdownModel",
      "state": {
       "_options_labels": [
        "linear",
        "log"
       ],
       "description": "Scale: ",
       "index": 0,
       "layout": "IPY_MODEL_9bfaea9ccf31409f8870a21851b06253",
       "style": "IPY_MODEL_93fcae6cef6547d6b42b6f0233e71746"
      }
     },
     "d41078968dfa432cb096c39f8c585d1c": {
      "model_module": "@jupyter-widgets/controls",
      "model_module_version": "1.5.0",
      "model_name": "SliderStyleModel",
      "state": {
       "description_width": ""
      }
     },
     "d424958ca1a74ad98b85216a7bf41b89": {
      "model_module": "@jupyter-widgets/controls",
      "model_module_version": "1.5.0",
      "model_name": "SliderStyleModel",
      "state": {
       "description_width": ""
      }
     },
     "d572ba724ca9466382e57fb8a128b408": {
      "model_module": "@jupyter-widgets/controls",
      "model_module_version": "1.5.0",
      "model_name": "LinkModel",
      "state": {
       "source": [
        "IPY_MODEL_9c658bf4784f4a09862716ed625e7799",
        "value"
       ],
       "target": [
        "IPY_MODEL_5e002ca0d70049948637476cf1997fc6",
        "value"
       ]
      }
     },
     "d5b849051f564956995dfdb75a7ace12": {
      "model_module": "@jupyter-widgets/controls",
      "model_module_version": "1.5.0",
      "model_name": "CheckboxModel",
      "state": {
       "description": "Plot Experiment B",
       "disabled": false,
       "layout": "IPY_MODEL_39c0dc69abd24111b4f7abda7530ed30",
       "style": "IPY_MODEL_a62325c498c5440bbf7ca37bef6bfac9",
       "value": true
      }
     },
     "d60f886b266e405d88599d688482ba99": {
      "model_module": "@jupyter-widgets/base",
      "model_module_version": "1.2.0",
      "model_name": "LayoutModel",
      "state": {}
     },
     "d6ec672f2706449ebec55199e667f60d": {
      "model_module": "@jupyter-widgets/controls",
      "model_module_version": "1.5.0",
      "model_name": "DescriptionStyleModel",
      "state": {
       "description_width": ""
      }
     },
     "d7224979bea144d081ffff00a5f66b81": {
      "model_module": "@jupyter-widgets/base",
      "model_module_version": "1.2.0",
      "model_name": "LayoutModel",
      "state": {}
     },
     "d7fa870e4fda4247adcfff527a93783b": {
      "model_module": "@jupyter-widgets/base",
      "model_module_version": "1.2.0",
      "model_name": "LayoutModel",
      "state": {}
     },
     "d864123d2aac42f3934048dcae6550a2": {
      "model_module": "@jupyter-widgets/controls",
      "model_module_version": "1.5.0",
      "model_name": "SliderStyleModel",
      "state": {
       "description_width": ""
      }
     },
     "d8aad8d9c7b146c5a2d6ca72fe9981fa": {
      "model_module": "@jupyter-widgets/base",
      "model_module_version": "1.2.0",
      "model_name": "LayoutModel",
      "state": {}
     },
     "d8bd508687c2405db97fbf8398d815d9": {
      "model_module": "@jupyter-widgets/controls",
      "model_module_version": "1.5.0",
      "model_name": "LinkModel",
      "state": {
       "source": [
        "IPY_MODEL_f2014f92e35143029ec27717e80b8f41",
        "value"
       ],
       "target": [
        "IPY_MODEL_698ed29748cb4b3c9a3d60647267cab1",
        "value"
       ]
      }
     },
     "d91c577d613240aca6dac9f50b5b67ab": {
      "model_module": "@jupyter-widgets/controls",
      "model_module_version": "1.5.0",
      "model_name": "SliderStyleModel",
      "state": {
       "description_width": ""
      }
     },
     "d93aa81ba3334c5ba3032a68e7e94309": {
      "model_module": "@jupyter-widgets/base",
      "model_module_version": "1.2.0",
      "model_name": "LayoutModel",
      "state": {}
     },
     "d9c7f9e20f0f4602a6aaa983aa22382c": {
      "model_module": "@jupyter-widgets/base",
      "model_module_version": "1.2.0",
      "model_name": "LayoutModel",
      "state": {}
     },
     "d9fb6a7152a54586b5d1fc8491c42222": {
      "model_module": "@jupyter-widgets/controls",
      "model_module_version": "1.5.0",
      "model_name": "DropdownModel",
      "state": {
       "_options_labels": [
        "linear",
        "log"
       ],
       "description": "Scale: ",
       "index": 0,
       "layout": "IPY_MODEL_f0009173c4c14656b0ed54f906705277",
       "style": "IPY_MODEL_b206eeb926b44204a806dbfd250bfb55"
      }
     },
     "da0ce6b9f5824ab7a7f24bd56a927d41": {
      "model_module": "@jupyter-widgets/controls",
      "model_module_version": "1.5.0",
      "model_name": "FloatSliderModel",
      "state": {
       "layout": "IPY_MODEL_03d0798dd2734ab1988784ba3111cdff",
       "max": 20,
       "step": 0.1,
       "style": "IPY_MODEL_cea25038030f423f9c3546de06152976"
      }
     },
     "da4c7ebd2d0741e9bb6c19bea95d0954": {
      "model_module": "@jupyter-widgets/base",
      "model_module_version": "1.2.0",
      "model_name": "LayoutModel",
      "state": {}
     },
     "da616fec7e0b4ac7860a1d5ae6adf7b9": {
      "model_module": "@jupyter-widgets/base",
      "model_module_version": "1.2.0",
      "model_name": "LayoutModel",
      "state": {}
     },
     "dacf90d81bfb48108a28c5e66c2a76b1": {
      "model_module": "@jupyter-widgets/base",
      "model_module_version": "1.2.0",
      "model_name": "LayoutModel",
      "state": {}
     },
     "db58a1d1a5df44e1aed9cf0a50b08af5": {
      "model_module": "@jupyter-widgets/controls",
      "model_module_version": "1.5.0",
      "model_name": "FloatLogSliderModel",
      "state": {
       "layout": "IPY_MODEL_3a801c8bda66491688016dd6a6178cfa",
       "max": 5,
       "min": -1,
       "style": "IPY_MODEL_7d8a5c5fd02143108ee34b1820b93a07",
       "value": 10000
      }
     },
     "dbb9c310a3024ff08f73ae6ff8084c30": {
      "model_module": "@jupyter-widgets/controls",
      "model_module_version": "1.5.0",
      "model_name": "DescriptionStyleModel",
      "state": {
       "description_width": ""
      }
     },
     "dc13ee4ce4e543e38438d5cef466f7c4": {
      "model_module": "@jupyter-widgets/controls",
      "model_module_version": "1.5.0",
      "model_name": "DescriptionStyleModel",
      "state": {
       "description_width": ""
      }
     },
     "dca69dc496e24e63b4fcc62bdc931d6e": {
      "model_module": "@jupyter-widgets/controls",
      "model_module_version": "1.5.0",
      "model_name": "SliderStyleModel",
      "state": {
       "description_width": ""
      }
     },
     "dd0560da84334d76b06b1e5115058222": {
      "model_module": "@jupyter-widgets/controls",
      "model_module_version": "1.5.0",
      "model_name": "SliderStyleModel",
      "state": {
       "description_width": ""
      }
     },
     "dd89e1cf239646de8429006f2137d0e1": {
      "model_module": "@jupyter-widgets/controls",
      "model_module_version": "1.5.0",
      "model_name": "SliderStyleModel",
      "state": {
       "description_width": ""
      }
     },
     "ddaa2043c06c471f8bba6c7f02482e08": {
      "model_module": "@jupyter-widgets/controls",
      "model_module_version": "1.5.0",
      "model_name": "CheckboxModel",
      "state": {
       "description": "Plot Experiment C",
       "disabled": false,
       "layout": "IPY_MODEL_14d42771b1fd40b78d96730b67acad92",
       "style": "IPY_MODEL_03f349bda0ad404f9236c0775f0497a1",
       "value": true
      }
     },
     "de3547156304419cbf0f7f68afc9396f": {
      "model_module": "@jupyter-widgets/base",
      "model_module_version": "1.2.0",
      "model_name": "LayoutModel",
      "state": {}
     },
     "de3e8921ef414703a5bf0346fb43f179": {
      "model_module": "@jupyter-widgets/controls",
      "model_module_version": "1.5.0",
      "model_name": "SliderStyleModel",
      "state": {
       "description_width": ""
      }
     },
     "de46c89f89fe44a1aeb6eb533689e0f3": {
      "model_module": "@jupyter-widgets/base",
      "model_module_version": "1.2.0",
      "model_name": "LayoutModel",
      "state": {}
     },
     "de536489d3534bfb93e2d00c35564b93": {
      "model_module": "@jupyter-widgets/output",
      "model_module_version": "1.0.0",
      "model_name": "OutputModel",
      "state": {
       "layout": "IPY_MODEL_cd2448ef10074e28844861ca13048002",
       "outputs": [
        {
         "ename": "TypeError",
         "evalue": "'<' not supported between instances of 'float' and 'FloatRangeSlider'",
         "output_type": "error",
         "traceback": [
          "\u001b[0;31m---------------------------------------------------------------------------\u001b[0m",
          "\u001b[0;31mTypeError\u001b[0m                                 Traceback (most recent call last)",
          "\u001b[0;32m~/.pyenv/versions/3.8.6/lib/python3.8/site-packages/ipywidgets/widgets/interaction.py\u001b[0m in \u001b[0;36mupdate\u001b[0;34m(self, *args)\u001b[0m\n\u001b[1;32m    254\u001b[0m                     \u001b[0mvalue\u001b[0m \u001b[0;34m=\u001b[0m \u001b[0mwidget\u001b[0m\u001b[0;34m.\u001b[0m\u001b[0mget_interact_value\u001b[0m\u001b[0;34m(\u001b[0m\u001b[0;34m)\u001b[0m\u001b[0;34m\u001b[0m\u001b[0;34m\u001b[0m\u001b[0m\n\u001b[1;32m    255\u001b[0m                     \u001b[0mself\u001b[0m\u001b[0;34m.\u001b[0m\u001b[0mkwargs\u001b[0m\u001b[0;34m[\u001b[0m\u001b[0mwidget\u001b[0m\u001b[0;34m.\u001b[0m\u001b[0m_kwarg\u001b[0m\u001b[0;34m]\u001b[0m \u001b[0;34m=\u001b[0m \u001b[0mvalue\u001b[0m\u001b[0;34m\u001b[0m\u001b[0;34m\u001b[0m\u001b[0m\n\u001b[0;32m--> 256\u001b[0;31m                 \u001b[0mself\u001b[0m\u001b[0;34m.\u001b[0m\u001b[0mresult\u001b[0m \u001b[0;34m=\u001b[0m \u001b[0mself\u001b[0m\u001b[0;34m.\u001b[0m\u001b[0mf\u001b[0m\u001b[0;34m(\u001b[0m\u001b[0;34m**\u001b[0m\u001b[0mself\u001b[0m\u001b[0;34m.\u001b[0m\u001b[0mkwargs\u001b[0m\u001b[0;34m)\u001b[0m\u001b[0;34m\u001b[0m\u001b[0;34m\u001b[0m\u001b[0m\n\u001b[0m\u001b[1;32m    257\u001b[0m                 \u001b[0mshow_inline_matplotlib_plots\u001b[0m\u001b[0;34m(\u001b[0m\u001b[0;34m)\u001b[0m\u001b[0;34m\u001b[0m\u001b[0;34m\u001b[0m\u001b[0m\n\u001b[1;32m    258\u001b[0m                 \u001b[0;32mif\u001b[0m \u001b[0mself\u001b[0m\u001b[0;34m.\u001b[0m\u001b[0mauto_display\u001b[0m \u001b[0;32mand\u001b[0m \u001b[0mself\u001b[0m\u001b[0;34m.\u001b[0m\u001b[0mresult\u001b[0m \u001b[0;32mis\u001b[0m \u001b[0;32mnot\u001b[0m \u001b[0;32mNone\u001b[0m\u001b[0;34m:\u001b[0m\u001b[0;34m\u001b[0m\u001b[0;34m\u001b[0m\u001b[0m\n",
          "\u001b[0;32m<ipython-input-185-b29b3c25ac6c>\u001b[0m in \u001b[0;36mplot_all\u001b[0;34m(bins, x_range, y_upper_bound, check_A, check_B, check_C, scale_drop)\u001b[0m\n\u001b[1;32m     59\u001b[0m     \u001b[0mplt\u001b[0m\u001b[0;34m.\u001b[0m\u001b[0mylabel\u001b[0m\u001b[0;34m(\u001b[0m\u001b[0;34mf'Counts / ({1000*(x_range[1] - x_range[0])/bins:.1f} eV kg days)'\u001b[0m\u001b[0;34m)\u001b[0m\u001b[0;34m\u001b[0m\u001b[0;34m\u001b[0m\u001b[0m\n\u001b[1;32m     60\u001b[0m     \u001b[0mplt\u001b[0m\u001b[0;34m.\u001b[0m\u001b[0mlegend\u001b[0m\u001b[0;34m(\u001b[0m\u001b[0;34m)\u001b[0m\u001b[0;34m\u001b[0m\u001b[0;34m\u001b[0m\u001b[0m\n\u001b[0;32m---> 61\u001b[0;31m     \u001b[0mplt\u001b[0m\u001b[0;34m.\u001b[0m\u001b[0mxlim\u001b[0m\u001b[0;34m(\u001b[0m\u001b[0mx_ran\u001b[0m\u001b[0;34m)\u001b[0m\u001b[0;34m\u001b[0m\u001b[0;34m\u001b[0m\u001b[0m\n\u001b[0m\u001b[1;32m     62\u001b[0m     \u001b[0mplt\u001b[0m\u001b[0;34m.\u001b[0m\u001b[0mylim\u001b[0m\u001b[0;34m(\u001b[0m\u001b[0;34m(\u001b[0m\u001b[0;36m0.5\u001b[0m\u001b[0;34m,\u001b[0m \u001b[0my_upper_bound\u001b[0m\u001b[0;34m)\u001b[0m\u001b[0;34m)\u001b[0m\u001b[0;34m\u001b[0m\u001b[0;34m\u001b[0m\u001b[0m\n\u001b[1;32m     63\u001b[0m     \u001b[0mplt\u001b[0m\u001b[0;34m.\u001b[0m\u001b[0myscale\u001b[0m\u001b[0;34m(\u001b[0m\u001b[0mscale_drop\u001b[0m\u001b[0;34m)\u001b[0m\u001b[0;34m\u001b[0m\u001b[0;34m\u001b[0m\u001b[0m\n",
          "\u001b[0;32m~/.pyenv/versions/3.8.6/lib/python3.8/site-packages/matplotlib/pyplot.py\u001b[0m in \u001b[0;36mxlim\u001b[0;34m(*args, **kwargs)\u001b[0m\n\u001b[1;32m   1563\u001b[0m     \u001b[0;32mif\u001b[0m \u001b[0;32mnot\u001b[0m \u001b[0margs\u001b[0m \u001b[0;32mand\u001b[0m \u001b[0;32mnot\u001b[0m \u001b[0mkwargs\u001b[0m\u001b[0;34m:\u001b[0m\u001b[0;34m\u001b[0m\u001b[0;34m\u001b[0m\u001b[0m\n\u001b[1;32m   1564\u001b[0m         \u001b[0;32mreturn\u001b[0m \u001b[0max\u001b[0m\u001b[0;34m.\u001b[0m\u001b[0mget_xlim\u001b[0m\u001b[0;34m(\u001b[0m\u001b[0;34m)\u001b[0m\u001b[0;34m\u001b[0m\u001b[0;34m\u001b[0m\u001b[0m\n\u001b[0;32m-> 1565\u001b[0;31m     \u001b[0mret\u001b[0m \u001b[0;34m=\u001b[0m \u001b[0max\u001b[0m\u001b[0;34m.\u001b[0m\u001b[0mset_xlim\u001b[0m\u001b[0;34m(\u001b[0m\u001b[0;34m*\u001b[0m\u001b[0margs\u001b[0m\u001b[0;34m,\u001b[0m \u001b[0;34m**\u001b[0m\u001b[0mkwargs\u001b[0m\u001b[0;34m)\u001b[0m\u001b[0;34m\u001b[0m\u001b[0;34m\u001b[0m\u001b[0m\n\u001b[0m\u001b[1;32m   1566\u001b[0m     \u001b[0;32mreturn\u001b[0m \u001b[0mret\u001b[0m\u001b[0;34m\u001b[0m\u001b[0;34m\u001b[0m\u001b[0m\n\u001b[1;32m   1567\u001b[0m \u001b[0;34m\u001b[0m\u001b[0m\n",
          "\u001b[0;32m~/.pyenv/versions/3.8.6/lib/python3.8/site-packages/matplotlib/axes/_base.py\u001b[0m in \u001b[0;36mset_xlim\u001b[0;34m(self, left, right, emit, auto, xmin, xmax)\u001b[0m\n\u001b[1;32m   3324\u001b[0m                 \u001b[0;34mf\"Attempting to set identical left == right == {left} results \"\u001b[0m\u001b[0;34m\u001b[0m\u001b[0;34m\u001b[0m\u001b[0m\n\u001b[1;32m   3325\u001b[0m                 f\"in singular transformations; automatically expanding.\")\n\u001b[0;32m-> 3326\u001b[0;31m         \u001b[0mreverse\u001b[0m \u001b[0;34m=\u001b[0m \u001b[0mleft\u001b[0m \u001b[0;34m>\u001b[0m \u001b[0mright\u001b[0m\u001b[0;34m\u001b[0m\u001b[0;34m\u001b[0m\u001b[0m\n\u001b[0m\u001b[1;32m   3327\u001b[0m         \u001b[0mleft\u001b[0m\u001b[0;34m,\u001b[0m \u001b[0mright\u001b[0m \u001b[0;34m=\u001b[0m \u001b[0mself\u001b[0m\u001b[0;34m.\u001b[0m\u001b[0mxaxis\u001b[0m\u001b[0;34m.\u001b[0m\u001b[0mget_major_locator\u001b[0m\u001b[0;34m(\u001b[0m\u001b[0;34m)\u001b[0m\u001b[0;34m.\u001b[0m\u001b[0mnonsingular\u001b[0m\u001b[0;34m(\u001b[0m\u001b[0mleft\u001b[0m\u001b[0;34m,\u001b[0m \u001b[0mright\u001b[0m\u001b[0;34m)\u001b[0m\u001b[0;34m\u001b[0m\u001b[0;34m\u001b[0m\u001b[0m\n\u001b[1;32m   3328\u001b[0m         \u001b[0mleft\u001b[0m\u001b[0;34m,\u001b[0m \u001b[0mright\u001b[0m \u001b[0;34m=\u001b[0m \u001b[0mself\u001b[0m\u001b[0;34m.\u001b[0m\u001b[0mxaxis\u001b[0m\u001b[0;34m.\u001b[0m\u001b[0mlimit_range_for_scale\u001b[0m\u001b[0;34m(\u001b[0m\u001b[0mleft\u001b[0m\u001b[0;34m,\u001b[0m \u001b[0mright\u001b[0m\u001b[0;34m)\u001b[0m\u001b[0;34m\u001b[0m\u001b[0;34m\u001b[0m\u001b[0m\n",
          "\u001b[0;31mTypeError\u001b[0m: '<' not supported between instances of 'float' and 'FloatRangeSlider'"
         ]
        }
       ]
      }
     },
     "de7cc2645fdd462c9c87f326de3fcd44": {
      "model_module": "@jupyter-widgets/base",
      "model_module_version": "1.2.0",
      "model_name": "LayoutModel",
      "state": {}
     },
     "deccb06b3654461fa0b36d5cdc154ebf": {
      "model_module": "@jupyter-widgets/controls",
      "model_module_version": "1.5.0",
      "model_name": "VBoxModel",
      "state": {
       "_dom_classes": [
        "widget-interact"
       ],
       "children": [
        "IPY_MODEL_096455b2a61946bebfe37fef4043dffe",
        "IPY_MODEL_7882df48895a4632863932c53fd2ea9e",
        "IPY_MODEL_231caf87054c4436ae7268add6e7e088",
        "IPY_MODEL_5813bfe85ecd41b18064d6a2d79afec1",
        "IPY_MODEL_8d5445b64d9746c98211a421555bff41",
        "IPY_MODEL_1cf65340c2334b32a70096203ea20e7c",
        "IPY_MODEL_956e82f231314edc88c29f505f3ff97e",
        "IPY_MODEL_bb0f2f193a2041f89adc1eb278c72dfe",
        "IPY_MODEL_5aaace05efe748fab6d9d7b03c1b0312"
       ],
       "layout": "IPY_MODEL_ce10252c0bd14a698320102b958339cc"
      }
     },
     "dfb2acbc827c47f5b23deb41eed91c63": {
      "model_module": "@jupyter-widgets/controls",
      "model_module_version": "1.5.0",
      "model_name": "SliderStyleModel",
      "state": {
       "description_width": ""
      }
     },
     "dff4942cf3f94ea7a86b1528944318f3": {
      "model_module": "@jupyter-widgets/controls",
      "model_module_version": "1.5.0",
      "model_name": "SliderStyleModel",
      "state": {
       "description_width": ""
      }
     },
     "e0775ccde2324ac38704ed1078c00ec8": {
      "model_module": "@jupyter-widgets/controls",
      "model_module_version": "1.5.0",
      "model_name": "FloatSliderModel",
      "state": {
       "layout": "IPY_MODEL_8b5922dafaa349ffb64e8f261d46f54f",
       "max": 100000,
       "min": 0.5,
       "step": 0.1,
       "style": "IPY_MODEL_2e0c9005469545108c32dbd832f46548",
       "value": 10000
      }
     },
     "e0cdd6e45545474bbcbd8b457c967c8c": {
      "model_module": "@jupyter-widgets/controls",
      "model_module_version": "1.5.0",
      "model_name": "SliderStyleModel",
      "state": {
       "description_width": ""
      }
     },
     "e0f569452a17433ea4c05eab9d163149": {
      "model_module": "@jupyter-widgets/controls",
      "model_module_version": "1.5.0",
      "model_name": "CheckboxModel",
      "state": {
       "description": "Plot Experiment C",
       "disabled": false,
       "layout": "IPY_MODEL_cbbaa7a561ce4acdbd4969ce65fb42f3",
       "style": "IPY_MODEL_604f58c7f32344a9be1bf4b1db80f640",
       "value": true
      }
     },
     "e1de4970984041aaadc28b3b02c7ce38": {
      "model_module": "@jupyter-widgets/controls",
      "model_module_version": "1.5.0",
      "model_name": "FloatSliderModel",
      "state": {
       "layout": "IPY_MODEL_4f0d9b6681974df5ad058e8526a4fbaa",
       "max": 100000,
       "min": 0.5,
       "step": 0.1,
       "style": "IPY_MODEL_60f3c84b721b42309e723a7f83604b35",
       "value": 1000
      }
     },
     "e205de5071b448fe976f42bee4ab9ab8": {
      "model_module": "@jupyter-widgets/base",
      "model_module_version": "1.2.0",
      "model_name": "LayoutModel",
      "state": {}
     },
     "e21ce54e6a6f4c27829a71e5d9e69aad": {
      "model_module": "@jupyter-widgets/base",
      "model_module_version": "1.2.0",
      "model_name": "LayoutModel",
      "state": {}
     },
     "e2594592b44743b68bdf93111c12771c": {
      "model_module": "@jupyter-widgets/controls",
      "model_module_version": "1.5.0",
      "model_name": "IntSliderModel",
      "state": {
       "layout": "IPY_MODEL_6c07f1997e6744ba8381d65ff571d459",
       "max": 20,
       "style": "IPY_MODEL_462112a3ba8c4b08977486d4f37f2764"
      }
     },
     "e2def97ba5134d04bf19e2584cac8c4e": {
      "model_module": "@jupyter-widgets/controls",
      "model_module_version": "1.5.0",
      "model_name": "IntSliderModel",
      "state": {
       "layout": "IPY_MODEL_1cdb85941bbb4e68ae96460a454d5525",
       "max": 20,
       "style": "IPY_MODEL_f90f3a7aa8d744e9b2a2561a662a1285",
       "value": 20
      }
     },
     "e3dd288e6bc54c69a1e396a58c1b4399": {
      "model_module": "@jupyter-widgets/controls",
      "model_module_version": "1.5.0",
      "model_name": "SliderStyleModel",
      "state": {
       "description_width": ""
      }
     },
     "e4129191290f4b438942dcbde9cf63a2": {
      "model_module": "@jupyter-widgets/controls",
      "model_module_version": "1.5.0",
      "model_name": "SliderStyleModel",
      "state": {
       "description_width": ""
      }
     },
     "e4ad4de2b18c4436bc9c9c52a9920bd8": {
      "model_module": "@jupyter-widgets/controls",
      "model_module_version": "1.5.0",
      "model_name": "DescriptionStyleModel",
      "state": {
       "description_width": ""
      }
     },
     "e4b24470eb664bcbaaf8c57500ec5921": {
      "model_module": "@jupyter-widgets/controls",
      "model_module_version": "1.5.0",
      "model_name": "IntSliderModel",
      "state": {
       "layout": "IPY_MODEL_37d5ae9c75b14322b9e71be9e33b66a6",
       "max": 20,
       "style": "IPY_MODEL_c6f309d3e92442328caf27b59ea248a4"
      }
     },
     "e53ecc85049340349746693176d5f696": {
      "model_module": "@jupyter-widgets/controls",
      "model_module_version": "1.5.0",
      "model_name": "IntSliderModel",
      "state": {
       "layout": "IPY_MODEL_12f8bf0ed09d469399dae08fda5c5c1f",
       "max": 2000,
       "min": 20,
       "style": "IPY_MODEL_4eba3a322f8a457eb860ed1c21a0168a",
       "value": 500
      }
     },
     "e56b937e3e024fe3916c340aa78b54af": {
      "model_module": "@jupyter-widgets/base",
      "model_module_version": "1.2.0",
      "model_name": "LayoutModel",
      "state": {}
     },
     "e72b2c89ae364752948260f420d344cd": {
      "model_module": "@jupyter-widgets/base",
      "model_module_version": "1.2.0",
      "model_name": "LayoutModel",
      "state": {}
     },
     "e7be9500d97c494c917aed13efd8b734": {
      "model_module": "@jupyter-widgets/base",
      "model_module_version": "1.2.0",
      "model_name": "LayoutModel",
      "state": {}
     },
     "e8c1cce096854c35822b67ff94232c63": {
      "model_module": "@jupyter-widgets/controls",
      "model_module_version": "1.5.0",
      "model_name": "SliderStyleModel",
      "state": {
       "description_width": ""
      }
     },
     "e8de9eb386ca4ff19dc0b28878e6d26a": {
      "model_module": "@jupyter-widgets/controls",
      "model_module_version": "1.5.0",
      "model_name": "SliderStyleModel",
      "state": {
       "description_width": ""
      }
     },
     "e9b5d5ac13614fd7ba184d06d752e6a4": {
      "model_module": "@jupyter-widgets/controls",
      "model_module_version": "1.5.0",
      "model_name": "FloatSliderModel",
      "state": {
       "layout": "IPY_MODEL_2d566db8cff84a7a8705ea96b9e07ad9",
       "max": 100000,
       "min": 0.5,
       "orientation": "vertical",
       "step": 0.1,
       "style": "IPY_MODEL_a37d3f3bf8fc42b3a2669b6743954baf",
       "value": 1000
      }
     },
     "e9e707066f6c4e6983627ea45c085c32": {
      "model_module": "@jupyter-widgets/base",
      "model_module_version": "1.2.0",
      "model_name": "LayoutModel",
      "state": {}
     },
     "ea0dcab404d84e7a9a9bf09c5df0f858": {
      "model_module": "@jupyter-widgets/base",
      "model_module_version": "1.2.0",
      "model_name": "LayoutModel",
      "state": {}
     },
     "ea30bd9bee434edd83129d763db7c4d2": {
      "model_module": "@jupyter-widgets/controls",
      "model_module_version": "1.5.0",
      "model_name": "DescriptionStyleModel",
      "state": {
       "description_width": ""
      }
     },
     "ea9f2f551c82469f90add4025467bbc2": {
      "model_module": "@jupyter-widgets/base",
      "model_module_version": "1.2.0",
      "model_name": "LayoutModel",
      "state": {}
     },
     "eaa83cf516a54724be18e96af8fd6c6d": {
      "model_module": "@jupyter-widgets/base",
      "model_module_version": "1.2.0",
      "model_name": "LayoutModel",
      "state": {}
     },
     "eac8d101c92140f4a5d505278025cb13": {
      "model_module": "@jupyter-widgets/controls",
      "model_module_version": "1.5.0",
      "model_name": "SliderStyleModel",
      "state": {
       "description_width": ""
      }
     },
     "ed52700bb84948479f6adc71942fd705": {
      "model_module": "@jupyter-widgets/controls",
      "model_module_version": "1.5.0",
      "model_name": "DescriptionStyleModel",
      "state": {
       "description_width": ""
      }
     },
     "ed5d58cd807848a188ed2b02bf0094ca": {
      "model_module": "@jupyter-widgets/controls",
      "model_module_version": "1.5.0",
      "model_name": "FloatRangeSliderModel",
      "state": {
       "_model_name": "FloatRangeSliderModel",
       "_view_name": "FloatRangeSliderView",
       "description": "x_ran",
       "layout": "IPY_MODEL_beecb29b0f294cb28a3bc6355754835e",
       "max": 20,
       "step": 0.1,
       "style": "IPY_MODEL_1f759740c8344808bf244527cd338e57",
       "value": [
        0,
        20
       ]
      }
     },
     "edd42871c5474af9ba0f168e10808fb2": {
      "model_module": "@jupyter-widgets/output",
      "model_module_version": "1.0.0",
      "model_name": "OutputModel",
      "state": {
       "layout": "IPY_MODEL_fdc8036c92e04bef9b15380dfd6ba412",
       "outputs": [
        {
         "data": {
          "image/svg+xml": "<?xml version=\"1.0\" encoding=\"utf-8\" standalone=\"no\"?>\n<!DOCTYPE svg PUBLIC \"-//W3C//DTD SVG 1.1//EN\"\n  \"http://www.w3.org/Graphics/SVG/1.1/DTD/svg11.dtd\">\n<!-- Created with matplotlib (https://matplotlib.org/) -->\n<svg height=\"265.995469pt\" version=\"1.1\" viewBox=\"0 0 387.478125 265.995469\" width=\"387.478125pt\" xmlns=\"http://www.w3.org/2000/svg\" xmlns:xlink=\"http://www.w3.org/1999/xlink\">\n <metadata>\n  <rdf:RDF xmlns:cc=\"http://creativecommons.org/ns#\" xmlns:dc=\"http://purl.org/dc/elements/1.1/\" xmlns:rdf=\"http://www.w3.org/1999/02/22-rdf-syntax-ns#\">\n   <cc:Work>\n    <dc:type rdf:resource=\"http://purl.org/dc/dcmitype/StillImage\"/>\n    <dc:date>2021-06-09T01:46:57.909079</dc:date>\n    <dc:format>image/svg+xml</dc:format>\n    <dc:creator>\n     <cc:Agent>\n      <dc:title>Matplotlib v3.3.3, https://matplotlib.org/</dc:title>\n     </cc:Agent>\n    </dc:creator>\n   </cc:Work>\n  </rdf:RDF>\n </metadata>\n <defs>\n  <style type=\"text/css\">*{stroke-linecap:butt;stroke-linejoin:round;}</style>\n </defs>\n <g id=\"figure_1\">\n  <g id=\"patch_1\">\n   <path d=\"M 0 265.995469 \nL 387.478125 265.995469 \nL 387.478125 0 \nL 0 0 \nz\n\" style=\"fill:none;\"/>\n  </g>\n  <g id=\"axes_1\">\n   <g id=\"patch_2\">\n    <path d=\"M 45.478125 228.439219 \nL 380.278125 228.439219 \nL 380.278125 10.999219 \nL 45.478125 10.999219 \nz\n\" style=\"fill:#ffffff;\"/>\n   </g>\n   <g id=\"matplotlib.axis_1\">\n    <g id=\"xtick_1\">\n     <g id=\"line2d_1\">\n      <defs>\n       <path d=\"M 0 0 \nL 0 3.5 \n\" id=\"m5b310c54b7\" style=\"stroke:#000000;stroke-width:0.8;\"/>\n      </defs>\n      <g>\n       <use style=\"stroke:#000000;stroke-width:0.8;\" x=\"45.478125\" xlink:href=\"#m5b310c54b7\" y=\"228.439219\"/>\n      </g>\n     </g>\n     <g id=\"text_1\">\n      <!-- 0 -->\n      <g transform=\"translate(42.296875 243.037656)scale(0.1 -0.1)\">\n       <defs>\n        <path d=\"M 31.78125 66.40625 \nQ 24.171875 66.40625 20.328125 58.90625 \nQ 16.5 51.421875 16.5 36.375 \nQ 16.5 21.390625 20.328125 13.890625 \nQ 24.171875 6.390625 31.78125 6.390625 \nQ 39.453125 6.390625 43.28125 13.890625 \nQ 47.125 21.390625 47.125 36.375 \nQ 47.125 51.421875 43.28125 58.90625 \nQ 39.453125 66.40625 31.78125 66.40625 \nz\nM 31.78125 74.21875 \nQ 44.046875 74.21875 50.515625 64.515625 \nQ 56.984375 54.828125 56.984375 36.375 \nQ 56.984375 17.96875 50.515625 8.265625 \nQ 44.046875 -1.421875 31.78125 -1.421875 \nQ 19.53125 -1.421875 13.0625 8.265625 \nQ 6.59375 17.96875 6.59375 36.375 \nQ 6.59375 54.828125 13.0625 64.515625 \nQ 19.53125 74.21875 31.78125 74.21875 \nz\n\" id=\"DejaVuSans-48\"/>\n       </defs>\n       <use xlink:href=\"#DejaVuSans-48\"/>\n      </g>\n     </g>\n    </g>\n    <g id=\"xtick_2\">\n     <g id=\"line2d_2\">\n      <g>\n       <use style=\"stroke:#000000;stroke-width:0.8;\" x=\"84.183327\" xlink:href=\"#m5b310c54b7\" y=\"228.439219\"/>\n      </g>\n     </g>\n     <g id=\"text_2\">\n      <!-- 2 -->\n      <g transform=\"translate(81.002077 243.037656)scale(0.1 -0.1)\">\n       <defs>\n        <path d=\"M 19.1875 8.296875 \nL 53.609375 8.296875 \nL 53.609375 0 \nL 7.328125 0 \nL 7.328125 8.296875 \nQ 12.9375 14.109375 22.625 23.890625 \nQ 32.328125 33.6875 34.8125 36.53125 \nQ 39.546875 41.84375 41.421875 45.53125 \nQ 43.3125 49.21875 43.3125 52.78125 \nQ 43.3125 58.59375 39.234375 62.25 \nQ 35.15625 65.921875 28.609375 65.921875 \nQ 23.96875 65.921875 18.8125 64.3125 \nQ 13.671875 62.703125 7.8125 59.421875 \nL 7.8125 69.390625 \nQ 13.765625 71.78125 18.9375 73 \nQ 24.125 74.21875 28.421875 74.21875 \nQ 39.75 74.21875 46.484375 68.546875 \nQ 53.21875 62.890625 53.21875 53.421875 \nQ 53.21875 48.921875 51.53125 44.890625 \nQ 49.859375 40.875 45.40625 35.40625 \nQ 44.1875 33.984375 37.640625 27.21875 \nQ 31.109375 20.453125 19.1875 8.296875 \nz\n\" id=\"DejaVuSans-50\"/>\n       </defs>\n       <use xlink:href=\"#DejaVuSans-50\"/>\n      </g>\n     </g>\n    </g>\n    <g id=\"xtick_3\">\n     <g id=\"line2d_3\">\n      <g>\n       <use style=\"stroke:#000000;stroke-width:0.8;\" x=\"122.88853\" xlink:href=\"#m5b310c54b7\" y=\"228.439219\"/>\n      </g>\n     </g>\n     <g id=\"text_3\">\n      <!-- 4 -->\n      <g transform=\"translate(119.70728 243.037656)scale(0.1 -0.1)\">\n       <defs>\n        <path d=\"M 37.796875 64.3125 \nL 12.890625 25.390625 \nL 37.796875 25.390625 \nz\nM 35.203125 72.90625 \nL 47.609375 72.90625 \nL 47.609375 25.390625 \nL 58.015625 25.390625 \nL 58.015625 17.1875 \nL 47.609375 17.1875 \nL 47.609375 0 \nL 37.796875 0 \nL 37.796875 17.1875 \nL 4.890625 17.1875 \nL 4.890625 26.703125 \nz\n\" id=\"DejaVuSans-52\"/>\n       </defs>\n       <use xlink:href=\"#DejaVuSans-52\"/>\n      </g>\n     </g>\n    </g>\n    <g id=\"xtick_4\">\n     <g id=\"line2d_4\">\n      <g>\n       <use style=\"stroke:#000000;stroke-width:0.8;\" x=\"161.593732\" xlink:href=\"#m5b310c54b7\" y=\"228.439219\"/>\n      </g>\n     </g>\n     <g id=\"text_4\">\n      <!-- 6 -->\n      <g transform=\"translate(158.412482 243.037656)scale(0.1 -0.1)\">\n       <defs>\n        <path d=\"M 33.015625 40.375 \nQ 26.375 40.375 22.484375 35.828125 \nQ 18.609375 31.296875 18.609375 23.390625 \nQ 18.609375 15.53125 22.484375 10.953125 \nQ 26.375 6.390625 33.015625 6.390625 \nQ 39.65625 6.390625 43.53125 10.953125 \nQ 47.40625 15.53125 47.40625 23.390625 \nQ 47.40625 31.296875 43.53125 35.828125 \nQ 39.65625 40.375 33.015625 40.375 \nz\nM 52.59375 71.296875 \nL 52.59375 62.3125 \nQ 48.875 64.0625 45.09375 64.984375 \nQ 41.3125 65.921875 37.59375 65.921875 \nQ 27.828125 65.921875 22.671875 59.328125 \nQ 17.53125 52.734375 16.796875 39.40625 \nQ 19.671875 43.65625 24.015625 45.921875 \nQ 28.375 48.1875 33.59375 48.1875 \nQ 44.578125 48.1875 50.953125 41.515625 \nQ 57.328125 34.859375 57.328125 23.390625 \nQ 57.328125 12.15625 50.6875 5.359375 \nQ 44.046875 -1.421875 33.015625 -1.421875 \nQ 20.359375 -1.421875 13.671875 8.265625 \nQ 6.984375 17.96875 6.984375 36.375 \nQ 6.984375 53.65625 15.1875 63.9375 \nQ 23.390625 74.21875 37.203125 74.21875 \nQ 40.921875 74.21875 44.703125 73.484375 \nQ 48.484375 72.75 52.59375 71.296875 \nz\n\" id=\"DejaVuSans-54\"/>\n       </defs>\n       <use xlink:href=\"#DejaVuSans-54\"/>\n      </g>\n     </g>\n    </g>\n    <g id=\"xtick_5\">\n     <g id=\"line2d_5\">\n      <g>\n       <use style=\"stroke:#000000;stroke-width:0.8;\" x=\"200.298934\" xlink:href=\"#m5b310c54b7\" y=\"228.439219\"/>\n      </g>\n     </g>\n     <g id=\"text_5\">\n      <!-- 8 -->\n      <g transform=\"translate(197.117684 243.037656)scale(0.1 -0.1)\">\n       <defs>\n        <path d=\"M 31.78125 34.625 \nQ 24.75 34.625 20.71875 30.859375 \nQ 16.703125 27.09375 16.703125 20.515625 \nQ 16.703125 13.921875 20.71875 10.15625 \nQ 24.75 6.390625 31.78125 6.390625 \nQ 38.8125 6.390625 42.859375 10.171875 \nQ 46.921875 13.96875 46.921875 20.515625 \nQ 46.921875 27.09375 42.890625 30.859375 \nQ 38.875 34.625 31.78125 34.625 \nz\nM 21.921875 38.8125 \nQ 15.578125 40.375 12.03125 44.71875 \nQ 8.5 49.078125 8.5 55.328125 \nQ 8.5 64.0625 14.71875 69.140625 \nQ 20.953125 74.21875 31.78125 74.21875 \nQ 42.671875 74.21875 48.875 69.140625 \nQ 55.078125 64.0625 55.078125 55.328125 \nQ 55.078125 49.078125 51.53125 44.71875 \nQ 48 40.375 41.703125 38.8125 \nQ 48.828125 37.15625 52.796875 32.3125 \nQ 56.78125 27.484375 56.78125 20.515625 \nQ 56.78125 9.90625 50.3125 4.234375 \nQ 43.84375 -1.421875 31.78125 -1.421875 \nQ 19.734375 -1.421875 13.25 4.234375 \nQ 6.78125 9.90625 6.78125 20.515625 \nQ 6.78125 27.484375 10.78125 32.3125 \nQ 14.796875 37.15625 21.921875 38.8125 \nz\nM 18.3125 54.390625 \nQ 18.3125 48.734375 21.84375 45.5625 \nQ 25.390625 42.390625 31.78125 42.390625 \nQ 38.140625 42.390625 41.71875 45.5625 \nQ 45.3125 48.734375 45.3125 54.390625 \nQ 45.3125 60.0625 41.71875 63.234375 \nQ 38.140625 66.40625 31.78125 66.40625 \nQ 25.390625 66.40625 21.84375 63.234375 \nQ 18.3125 60.0625 18.3125 54.390625 \nz\n\" id=\"DejaVuSans-56\"/>\n       </defs>\n       <use xlink:href=\"#DejaVuSans-56\"/>\n      </g>\n     </g>\n    </g>\n    <g id=\"xtick_6\">\n     <g id=\"line2d_6\">\n      <g>\n       <use style=\"stroke:#000000;stroke-width:0.8;\" x=\"239.004137\" xlink:href=\"#m5b310c54b7\" y=\"228.439219\"/>\n      </g>\n     </g>\n     <g id=\"text_6\">\n      <!-- 10 -->\n      <g transform=\"translate(232.641637 243.037656)scale(0.1 -0.1)\">\n       <defs>\n        <path d=\"M 12.40625 8.296875 \nL 28.515625 8.296875 \nL 28.515625 63.921875 \nL 10.984375 60.40625 \nL 10.984375 69.390625 \nL 28.421875 72.90625 \nL 38.28125 72.90625 \nL 38.28125 8.296875 \nL 54.390625 8.296875 \nL 54.390625 0 \nL 12.40625 0 \nz\n\" id=\"DejaVuSans-49\"/>\n       </defs>\n       <use xlink:href=\"#DejaVuSans-49\"/>\n       <use x=\"63.623047\" xlink:href=\"#DejaVuSans-48\"/>\n      </g>\n     </g>\n    </g>\n    <g id=\"xtick_7\">\n     <g id=\"line2d_7\">\n      <g>\n       <use style=\"stroke:#000000;stroke-width:0.8;\" x=\"277.709339\" xlink:href=\"#m5b310c54b7\" y=\"228.439219\"/>\n      </g>\n     </g>\n     <g id=\"text_7\">\n      <!-- 12 -->\n      <g transform=\"translate(271.346839 243.037656)scale(0.1 -0.1)\">\n       <use xlink:href=\"#DejaVuSans-49\"/>\n       <use x=\"63.623047\" xlink:href=\"#DejaVuSans-50\"/>\n      </g>\n     </g>\n    </g>\n    <g id=\"xtick_8\">\n     <g id=\"line2d_8\">\n      <g>\n       <use style=\"stroke:#000000;stroke-width:0.8;\" x=\"316.414541\" xlink:href=\"#m5b310c54b7\" y=\"228.439219\"/>\n      </g>\n     </g>\n     <g id=\"text_8\">\n      <!-- 14 -->\n      <g transform=\"translate(310.052041 243.037656)scale(0.1 -0.1)\">\n       <use xlink:href=\"#DejaVuSans-49\"/>\n       <use x=\"63.623047\" xlink:href=\"#DejaVuSans-52\"/>\n      </g>\n     </g>\n    </g>\n    <g id=\"xtick_9\">\n     <g id=\"line2d_9\">\n      <g>\n       <use style=\"stroke:#000000;stroke-width:0.8;\" x=\"355.119743\" xlink:href=\"#m5b310c54b7\" y=\"228.439219\"/>\n      </g>\n     </g>\n     <g id=\"text_9\">\n      <!-- 16 -->\n      <g transform=\"translate(348.757243 243.037656)scale(0.1 -0.1)\">\n       <use xlink:href=\"#DejaVuSans-49\"/>\n       <use x=\"63.623047\" xlink:href=\"#DejaVuSans-54\"/>\n      </g>\n     </g>\n    </g>\n    <g id=\"text_10\">\n     <!-- Energy (keV) -->\n     <g transform=\"translate(180.670313 256.715781)scale(0.1 -0.1)\">\n      <defs>\n       <path d=\"M 9.8125 72.90625 \nL 55.90625 72.90625 \nL 55.90625 64.59375 \nL 19.671875 64.59375 \nL 19.671875 43.015625 \nL 54.390625 43.015625 \nL 54.390625 34.71875 \nL 19.671875 34.71875 \nL 19.671875 8.296875 \nL 56.78125 8.296875 \nL 56.78125 0 \nL 9.8125 0 \nz\n\" id=\"DejaVuSans-69\"/>\n       <path d=\"M 54.890625 33.015625 \nL 54.890625 0 \nL 45.90625 0 \nL 45.90625 32.71875 \nQ 45.90625 40.484375 42.875 44.328125 \nQ 39.84375 48.1875 33.796875 48.1875 \nQ 26.515625 48.1875 22.3125 43.546875 \nQ 18.109375 38.921875 18.109375 30.90625 \nL 18.109375 0 \nL 9.078125 0 \nL 9.078125 54.6875 \nL 18.109375 54.6875 \nL 18.109375 46.1875 \nQ 21.34375 51.125 25.703125 53.5625 \nQ 30.078125 56 35.796875 56 \nQ 45.21875 56 50.046875 50.171875 \nQ 54.890625 44.34375 54.890625 33.015625 \nz\n\" id=\"DejaVuSans-110\"/>\n       <path d=\"M 56.203125 29.59375 \nL 56.203125 25.203125 \nL 14.890625 25.203125 \nQ 15.484375 15.921875 20.484375 11.0625 \nQ 25.484375 6.203125 34.421875 6.203125 \nQ 39.59375 6.203125 44.453125 7.46875 \nQ 49.3125 8.734375 54.109375 11.28125 \nL 54.109375 2.78125 \nQ 49.265625 0.734375 44.1875 -0.34375 \nQ 39.109375 -1.421875 33.890625 -1.421875 \nQ 20.796875 -1.421875 13.15625 6.1875 \nQ 5.515625 13.8125 5.515625 26.8125 \nQ 5.515625 40.234375 12.765625 48.109375 \nQ 20.015625 56 32.328125 56 \nQ 43.359375 56 49.78125 48.890625 \nQ 56.203125 41.796875 56.203125 29.59375 \nz\nM 47.21875 32.234375 \nQ 47.125 39.59375 43.09375 43.984375 \nQ 39.0625 48.390625 32.421875 48.390625 \nQ 24.90625 48.390625 20.390625 44.140625 \nQ 15.875 39.890625 15.1875 32.171875 \nz\n\" id=\"DejaVuSans-101\"/>\n       <path d=\"M 41.109375 46.296875 \nQ 39.59375 47.171875 37.8125 47.578125 \nQ 36.03125 48 33.890625 48 \nQ 26.265625 48 22.1875 43.046875 \nQ 18.109375 38.09375 18.109375 28.8125 \nL 18.109375 0 \nL 9.078125 0 \nL 9.078125 54.6875 \nL 18.109375 54.6875 \nL 18.109375 46.1875 \nQ 20.953125 51.171875 25.484375 53.578125 \nQ 30.03125 56 36.53125 56 \nQ 37.453125 56 38.578125 55.875 \nQ 39.703125 55.765625 41.0625 55.515625 \nz\n\" id=\"DejaVuSans-114\"/>\n       <path d=\"M 45.40625 27.984375 \nQ 45.40625 37.75 41.375 43.109375 \nQ 37.359375 48.484375 30.078125 48.484375 \nQ 22.859375 48.484375 18.828125 43.109375 \nQ 14.796875 37.75 14.796875 27.984375 \nQ 14.796875 18.265625 18.828125 12.890625 \nQ 22.859375 7.515625 30.078125 7.515625 \nQ 37.359375 7.515625 41.375 12.890625 \nQ 45.40625 18.265625 45.40625 27.984375 \nz\nM 54.390625 6.78125 \nQ 54.390625 -7.171875 48.1875 -13.984375 \nQ 42 -20.796875 29.203125 -20.796875 \nQ 24.46875 -20.796875 20.265625 -20.09375 \nQ 16.0625 -19.390625 12.109375 -17.921875 \nL 12.109375 -9.1875 \nQ 16.0625 -11.328125 19.921875 -12.34375 \nQ 23.78125 -13.375 27.78125 -13.375 \nQ 36.625 -13.375 41.015625 -8.765625 \nQ 45.40625 -4.15625 45.40625 5.171875 \nL 45.40625 9.625 \nQ 42.625 4.78125 38.28125 2.390625 \nQ 33.9375 0 27.875 0 \nQ 17.828125 0 11.671875 7.65625 \nQ 5.515625 15.328125 5.515625 27.984375 \nQ 5.515625 40.671875 11.671875 48.328125 \nQ 17.828125 56 27.875 56 \nQ 33.9375 56 38.28125 53.609375 \nQ 42.625 51.21875 45.40625 46.390625 \nL 45.40625 54.6875 \nL 54.390625 54.6875 \nz\n\" id=\"DejaVuSans-103\"/>\n       <path d=\"M 32.171875 -5.078125 \nQ 28.375 -14.84375 24.75 -17.8125 \nQ 21.140625 -20.796875 15.09375 -20.796875 \nL 7.90625 -20.796875 \nL 7.90625 -13.28125 \nL 13.1875 -13.28125 \nQ 16.890625 -13.28125 18.9375 -11.515625 \nQ 21 -9.765625 23.484375 -3.21875 \nL 25.09375 0.875 \nL 2.984375 54.6875 \nL 12.5 54.6875 \nL 29.59375 11.921875 \nL 46.6875 54.6875 \nL 56.203125 54.6875 \nz\n\" id=\"DejaVuSans-121\"/>\n       <path id=\"DejaVuSans-32\"/>\n       <path d=\"M 31 75.875 \nQ 24.46875 64.65625 21.28125 53.65625 \nQ 18.109375 42.671875 18.109375 31.390625 \nQ 18.109375 20.125 21.3125 9.0625 \nQ 24.515625 -2 31 -13.1875 \nL 23.1875 -13.1875 \nQ 15.875 -1.703125 12.234375 9.375 \nQ 8.59375 20.453125 8.59375 31.390625 \nQ 8.59375 42.28125 12.203125 53.3125 \nQ 15.828125 64.359375 23.1875 75.875 \nz\n\" id=\"DejaVuSans-40\"/>\n       <path d=\"M 9.078125 75.984375 \nL 18.109375 75.984375 \nL 18.109375 31.109375 \nL 44.921875 54.6875 \nL 56.390625 54.6875 \nL 27.390625 29.109375 \nL 57.625 0 \nL 45.90625 0 \nL 18.109375 26.703125 \nL 18.109375 0 \nL 9.078125 0 \nz\n\" id=\"DejaVuSans-107\"/>\n       <path d=\"M 28.609375 0 \nL 0.78125 72.90625 \nL 11.078125 72.90625 \nL 34.1875 11.53125 \nL 57.328125 72.90625 \nL 67.578125 72.90625 \nL 39.796875 0 \nz\n\" id=\"DejaVuSans-86\"/>\n       <path d=\"M 8.015625 75.875 \nL 15.828125 75.875 \nQ 23.140625 64.359375 26.78125 53.3125 \nQ 30.421875 42.28125 30.421875 31.390625 \nQ 30.421875 20.453125 26.78125 9.375 \nQ 23.140625 -1.703125 15.828125 -13.1875 \nL 8.015625 -13.1875 \nQ 14.5 -2 17.703125 9.0625 \nQ 20.90625 20.125 20.90625 31.390625 \nQ 20.90625 42.671875 17.703125 53.65625 \nQ 14.5 64.65625 8.015625 75.875 \nz\n\" id=\"DejaVuSans-41\"/>\n      </defs>\n      <use xlink:href=\"#DejaVuSans-69\"/>\n      <use x=\"63.183594\" xlink:href=\"#DejaVuSans-110\"/>\n      <use x=\"126.5625\" xlink:href=\"#DejaVuSans-101\"/>\n      <use x=\"188.085938\" xlink:href=\"#DejaVuSans-114\"/>\n      <use x=\"227.449219\" xlink:href=\"#DejaVuSans-103\"/>\n      <use x=\"290.925781\" xlink:href=\"#DejaVuSans-121\"/>\n      <use x=\"350.105469\" xlink:href=\"#DejaVuSans-32\"/>\n      <use x=\"381.892578\" xlink:href=\"#DejaVuSans-40\"/>\n      <use x=\"420.90625\" xlink:href=\"#DejaVuSans-107\"/>\n      <use x=\"475.191406\" xlink:href=\"#DejaVuSans-101\"/>\n      <use x=\"536.714844\" xlink:href=\"#DejaVuSans-86\"/>\n      <use x=\"605.123047\" xlink:href=\"#DejaVuSans-41\"/>\n     </g>\n    </g>\n   </g>\n   <g id=\"matplotlib.axis_2\">\n    <g id=\"ytick_1\">\n     <g id=\"line2d_10\">\n      <defs>\n       <path d=\"M 0 0 \nL -3.5 0 \n\" id=\"m08d8c66b59\" style=\"stroke:#000000;stroke-width:0.8;\"/>\n      </defs>\n      <g>\n       <use style=\"stroke:#000000;stroke-width:0.8;\" x=\"45.478125\" xlink:href=\"#m08d8c66b59\" y=\"213.220547\"/>\n      </g>\n     </g>\n     <g id=\"text_11\">\n      <!-- $\\mathdefault{10^{0}}$ -->\n      <g transform=\"translate(20.878125 217.019766)scale(0.1 -0.1)\">\n       <use transform=\"translate(0 0.765625)\" xlink:href=\"#DejaVuSans-49\"/>\n       <use transform=\"translate(63.623047 0.765625)\" xlink:href=\"#DejaVuSans-48\"/>\n       <use transform=\"translate(128.203125 39.046875)scale(0.7)\" xlink:href=\"#DejaVuSans-48\"/>\n      </g>\n     </g>\n    </g>\n    <g id=\"ytick_2\">\n     <g id=\"line2d_11\">\n      <g>\n       <use style=\"stroke:#000000;stroke-width:0.8;\" x=\"45.478125\" xlink:href=\"#m08d8c66b59\" y=\"162.665215\"/>\n      </g>\n     </g>\n     <g id=\"text_12\">\n      <!-- $\\mathdefault{10^{1}}$ -->\n      <g transform=\"translate(20.878125 166.464434)scale(0.1 -0.1)\">\n       <use transform=\"translate(0 0.684375)\" xlink:href=\"#DejaVuSans-49\"/>\n       <use transform=\"translate(63.623047 0.684375)\" xlink:href=\"#DejaVuSans-48\"/>\n       <use transform=\"translate(128.203125 38.965625)scale(0.7)\" xlink:href=\"#DejaVuSans-49\"/>\n      </g>\n     </g>\n    </g>\n    <g id=\"ytick_3\">\n     <g id=\"line2d_12\">\n      <g>\n       <use style=\"stroke:#000000;stroke-width:0.8;\" x=\"45.478125\" xlink:href=\"#m08d8c66b59\" y=\"112.109883\"/>\n      </g>\n     </g>\n     <g id=\"text_13\">\n      <!-- $\\mathdefault{10^{2}}$ -->\n      <g transform=\"translate(20.878125 115.909102)scale(0.1 -0.1)\">\n       <use transform=\"translate(0 0.765625)\" xlink:href=\"#DejaVuSans-49\"/>\n       <use transform=\"translate(63.623047 0.765625)\" xlink:href=\"#DejaVuSans-48\"/>\n       <use transform=\"translate(128.203125 39.046875)scale(0.7)\" xlink:href=\"#DejaVuSans-50\"/>\n      </g>\n     </g>\n    </g>\n    <g id=\"ytick_4\">\n     <g id=\"line2d_13\">\n      <g>\n       <use style=\"stroke:#000000;stroke-width:0.8;\" x=\"45.478125\" xlink:href=\"#m08d8c66b59\" y=\"61.554551\"/>\n      </g>\n     </g>\n     <g id=\"text_14\">\n      <!-- $\\mathdefault{10^{3}}$ -->\n      <g transform=\"translate(20.878125 65.35377)scale(0.1 -0.1)\">\n       <defs>\n        <path d=\"M 40.578125 39.3125 \nQ 47.65625 37.796875 51.625 33 \nQ 55.609375 28.21875 55.609375 21.1875 \nQ 55.609375 10.40625 48.1875 4.484375 \nQ 40.765625 -1.421875 27.09375 -1.421875 \nQ 22.515625 -1.421875 17.65625 -0.515625 \nQ 12.796875 0.390625 7.625 2.203125 \nL 7.625 11.71875 \nQ 11.71875 9.328125 16.59375 8.109375 \nQ 21.484375 6.890625 26.8125 6.890625 \nQ 36.078125 6.890625 40.9375 10.546875 \nQ 45.796875 14.203125 45.796875 21.1875 \nQ 45.796875 27.640625 41.28125 31.265625 \nQ 36.765625 34.90625 28.71875 34.90625 \nL 20.21875 34.90625 \nL 20.21875 43.015625 \nL 29.109375 43.015625 \nQ 36.375 43.015625 40.234375 45.921875 \nQ 44.09375 48.828125 44.09375 54.296875 \nQ 44.09375 59.90625 40.109375 62.90625 \nQ 36.140625 65.921875 28.71875 65.921875 \nQ 24.65625 65.921875 20.015625 65.03125 \nQ 15.375 64.15625 9.8125 62.3125 \nL 9.8125 71.09375 \nQ 15.4375 72.65625 20.34375 73.4375 \nQ 25.25 74.21875 29.59375 74.21875 \nQ 40.828125 74.21875 47.359375 69.109375 \nQ 53.90625 64.015625 53.90625 55.328125 \nQ 53.90625 49.265625 50.4375 45.09375 \nQ 46.96875 40.921875 40.578125 39.3125 \nz\n\" id=\"DejaVuSans-51\"/>\n       </defs>\n       <use transform=\"translate(0 0.765625)\" xlink:href=\"#DejaVuSans-49\"/>\n       <use transform=\"translate(63.623047 0.765625)\" xlink:href=\"#DejaVuSans-48\"/>\n       <use transform=\"translate(128.203125 39.046875)scale(0.7)\" xlink:href=\"#DejaVuSans-51\"/>\n      </g>\n     </g>\n    </g>\n    <g id=\"ytick_5\">\n     <g id=\"line2d_14\">\n      <g>\n       <use style=\"stroke:#000000;stroke-width:0.8;\" x=\"45.478125\" xlink:href=\"#m08d8c66b59\" y=\"10.999219\"/>\n      </g>\n     </g>\n     <g id=\"text_15\">\n      <!-- $\\mathdefault{10^{4}}$ -->\n      <g transform=\"translate(20.878125 14.798437)scale(0.1 -0.1)\">\n       <use transform=\"translate(0 0.684375)\" xlink:href=\"#DejaVuSans-49\"/>\n       <use transform=\"translate(63.623047 0.684375)\" xlink:href=\"#DejaVuSans-48\"/>\n       <use transform=\"translate(128.203125 38.965625)scale(0.7)\" xlink:href=\"#DejaVuSans-52\"/>\n      </g>\n     </g>\n    </g>\n    <g id=\"ytick_6\">\n     <g id=\"line2d_15\">\n      <defs>\n       <path d=\"M 0 0 \nL -2 0 \n\" id=\"mac3f41ee8c\" style=\"stroke:#000000;stroke-width:0.6;\"/>\n      </defs>\n      <g>\n       <use style=\"stroke:#000000;stroke-width:0.6;\" x=\"45.478125\" xlink:href=\"#mac3f41ee8c\" y=\"228.439219\"/>\n      </g>\n     </g>\n    </g>\n    <g id=\"ytick_7\">\n     <g id=\"line2d_16\">\n      <g>\n       <use style=\"stroke:#000000;stroke-width:0.6;\" x=\"45.478125\" xlink:href=\"#mac3f41ee8c\" y=\"224.436185\"/>\n      </g>\n     </g>\n    </g>\n    <g id=\"ytick_8\">\n     <g id=\"line2d_17\">\n      <g>\n       <use style=\"stroke:#000000;stroke-width:0.6;\" x=\"45.478125\" xlink:href=\"#mac3f41ee8c\" y=\"221.051667\"/>\n      </g>\n     </g>\n    </g>\n    <g id=\"ytick_9\">\n     <g id=\"line2d_18\">\n      <g>\n       <use style=\"stroke:#000000;stroke-width:0.6;\" x=\"45.478125\" xlink:href=\"#mac3f41ee8c\" y=\"218.119865\"/>\n      </g>\n     </g>\n    </g>\n    <g id=\"ytick_10\">\n     <g id=\"line2d_19\">\n      <g>\n       <use style=\"stroke:#000000;stroke-width:0.6;\" x=\"45.478125\" xlink:href=\"#mac3f41ee8c\" y=\"215.533832\"/>\n      </g>\n     </g>\n    </g>\n    <g id=\"ytick_11\">\n     <g id=\"line2d_20\">\n      <g>\n       <use style=\"stroke:#000000;stroke-width:0.6;\" x=\"45.478125\" xlink:href=\"#mac3f41ee8c\" y=\"198.001876\"/>\n      </g>\n     </g>\n    </g>\n    <g id=\"ytick_12\">\n     <g id=\"line2d_21\">\n      <g>\n       <use style=\"stroke:#000000;stroke-width:0.6;\" x=\"45.478125\" xlink:href=\"#mac3f41ee8c\" y=\"189.099524\"/>\n      </g>\n     </g>\n    </g>\n    <g id=\"ytick_13\">\n     <g id=\"line2d_22\">\n      <g>\n       <use style=\"stroke:#000000;stroke-width:0.6;\" x=\"45.478125\" xlink:href=\"#mac3f41ee8c\" y=\"182.783205\"/>\n      </g>\n     </g>\n    </g>\n    <g id=\"ytick_14\">\n     <g id=\"line2d_23\">\n      <g>\n       <use style=\"stroke:#000000;stroke-width:0.6;\" x=\"45.478125\" xlink:href=\"#mac3f41ee8c\" y=\"177.883887\"/>\n      </g>\n     </g>\n    </g>\n    <g id=\"ytick_15\">\n     <g id=\"line2d_24\">\n      <g>\n       <use style=\"stroke:#000000;stroke-width:0.6;\" x=\"45.478125\" xlink:href=\"#mac3f41ee8c\" y=\"173.880852\"/>\n      </g>\n     </g>\n    </g>\n    <g id=\"ytick_16\">\n     <g id=\"line2d_25\">\n      <g>\n       <use style=\"stroke:#000000;stroke-width:0.6;\" x=\"45.478125\" xlink:href=\"#mac3f41ee8c\" y=\"170.496335\"/>\n      </g>\n     </g>\n    </g>\n    <g id=\"ytick_17\">\n     <g id=\"line2d_26\">\n      <g>\n       <use style=\"stroke:#000000;stroke-width:0.6;\" x=\"45.478125\" xlink:href=\"#mac3f41ee8c\" y=\"167.564533\"/>\n      </g>\n     </g>\n    </g>\n    <g id=\"ytick_18\">\n     <g id=\"line2d_27\">\n      <g>\n       <use style=\"stroke:#000000;stroke-width:0.6;\" x=\"45.478125\" xlink:href=\"#mac3f41ee8c\" y=\"164.9785\"/>\n      </g>\n     </g>\n    </g>\n    <g id=\"ytick_19\">\n     <g id=\"line2d_28\">\n      <g>\n       <use style=\"stroke:#000000;stroke-width:0.6;\" x=\"45.478125\" xlink:href=\"#mac3f41ee8c\" y=\"147.446544\"/>\n      </g>\n     </g>\n    </g>\n    <g id=\"ytick_20\">\n     <g id=\"line2d_29\">\n      <g>\n       <use style=\"stroke:#000000;stroke-width:0.6;\" x=\"45.478125\" xlink:href=\"#mac3f41ee8c\" y=\"138.544192\"/>\n      </g>\n     </g>\n    </g>\n    <g id=\"ytick_21\">\n     <g id=\"line2d_30\">\n      <g>\n       <use style=\"stroke:#000000;stroke-width:0.6;\" x=\"45.478125\" xlink:href=\"#mac3f41ee8c\" y=\"132.227872\"/>\n      </g>\n     </g>\n    </g>\n    <g id=\"ytick_22\">\n     <g id=\"line2d_31\">\n      <g>\n       <use style=\"stroke:#000000;stroke-width:0.6;\" x=\"45.478125\" xlink:href=\"#mac3f41ee8c\" y=\"127.328554\"/>\n      </g>\n     </g>\n    </g>\n    <g id=\"ytick_23\">\n     <g id=\"line2d_32\">\n      <g>\n       <use style=\"stroke:#000000;stroke-width:0.6;\" x=\"45.478125\" xlink:href=\"#mac3f41ee8c\" y=\"123.32552\"/>\n      </g>\n     </g>\n    </g>\n    <g id=\"ytick_24\">\n     <g id=\"line2d_33\">\n      <g>\n       <use style=\"stroke:#000000;stroke-width:0.6;\" x=\"45.478125\" xlink:href=\"#mac3f41ee8c\" y=\"119.941003\"/>\n      </g>\n     </g>\n    </g>\n    <g id=\"ytick_25\">\n     <g id=\"line2d_34\">\n      <g>\n       <use style=\"stroke:#000000;stroke-width:0.6;\" x=\"45.478125\" xlink:href=\"#mac3f41ee8c\" y=\"117.009201\"/>\n      </g>\n     </g>\n    </g>\n    <g id=\"ytick_26\">\n     <g id=\"line2d_35\">\n      <g>\n       <use style=\"stroke:#000000;stroke-width:0.6;\" x=\"45.478125\" xlink:href=\"#mac3f41ee8c\" y=\"114.423168\"/>\n      </g>\n     </g>\n    </g>\n    <g id=\"ytick_27\">\n     <g id=\"line2d_36\">\n      <g>\n       <use style=\"stroke:#000000;stroke-width:0.6;\" x=\"45.478125\" xlink:href=\"#mac3f41ee8c\" y=\"96.891212\"/>\n      </g>\n     </g>\n    </g>\n    <g id=\"ytick_28\">\n     <g id=\"line2d_37\">\n      <g>\n       <use style=\"stroke:#000000;stroke-width:0.6;\" x=\"45.478125\" xlink:href=\"#mac3f41ee8c\" y=\"87.98886\"/>\n      </g>\n     </g>\n    </g>\n    <g id=\"ytick_29\">\n     <g id=\"line2d_38\">\n      <g>\n       <use style=\"stroke:#000000;stroke-width:0.6;\" x=\"45.478125\" xlink:href=\"#mac3f41ee8c\" y=\"81.67254\"/>\n      </g>\n     </g>\n    </g>\n    <g id=\"ytick_30\">\n     <g id=\"line2d_39\">\n      <g>\n       <use style=\"stroke:#000000;stroke-width:0.6;\" x=\"45.478125\" xlink:href=\"#mac3f41ee8c\" y=\"76.773222\"/>\n      </g>\n     </g>\n    </g>\n    <g id=\"ytick_31\">\n     <g id=\"line2d_40\">\n      <g>\n       <use style=\"stroke:#000000;stroke-width:0.6;\" x=\"45.478125\" xlink:href=\"#mac3f41ee8c\" y=\"72.770188\"/>\n      </g>\n     </g>\n    </g>\n    <g id=\"ytick_32\">\n     <g id=\"line2d_41\">\n      <g>\n       <use style=\"stroke:#000000;stroke-width:0.6;\" x=\"45.478125\" xlink:href=\"#mac3f41ee8c\" y=\"69.385671\"/>\n      </g>\n     </g>\n    </g>\n    <g id=\"ytick_33\">\n     <g id=\"line2d_42\">\n      <g>\n       <use style=\"stroke:#000000;stroke-width:0.6;\" x=\"45.478125\" xlink:href=\"#mac3f41ee8c\" y=\"66.453869\"/>\n      </g>\n     </g>\n    </g>\n    <g id=\"ytick_34\">\n     <g id=\"line2d_43\">\n      <g>\n       <use style=\"stroke:#000000;stroke-width:0.6;\" x=\"45.478125\" xlink:href=\"#mac3f41ee8c\" y=\"63.867836\"/>\n      </g>\n     </g>\n    </g>\n    <g id=\"ytick_35\">\n     <g id=\"line2d_44\">\n      <g>\n       <use style=\"stroke:#000000;stroke-width:0.6;\" x=\"45.478125\" xlink:href=\"#mac3f41ee8c\" y=\"46.335879\"/>\n      </g>\n     </g>\n    </g>\n    <g id=\"ytick_36\">\n     <g id=\"line2d_45\">\n      <g>\n       <use style=\"stroke:#000000;stroke-width:0.6;\" x=\"45.478125\" xlink:href=\"#mac3f41ee8c\" y=\"37.433527\"/>\n      </g>\n     </g>\n    </g>\n    <g id=\"ytick_37\">\n     <g id=\"line2d_46\">\n      <g>\n       <use style=\"stroke:#000000;stroke-width:0.6;\" x=\"45.478125\" xlink:href=\"#mac3f41ee8c\" y=\"31.117208\"/>\n      </g>\n     </g>\n    </g>\n    <g id=\"ytick_38\">\n     <g id=\"line2d_47\">\n      <g>\n       <use style=\"stroke:#000000;stroke-width:0.6;\" x=\"45.478125\" xlink:href=\"#mac3f41ee8c\" y=\"26.21789\"/>\n      </g>\n     </g>\n    </g>\n    <g id=\"ytick_39\">\n     <g id=\"line2d_48\">\n      <g>\n       <use style=\"stroke:#000000;stroke-width:0.6;\" x=\"45.478125\" xlink:href=\"#mac3f41ee8c\" y=\"22.214856\"/>\n      </g>\n     </g>\n    </g>\n    <g id=\"ytick_40\">\n     <g id=\"line2d_49\">\n      <g>\n       <use style=\"stroke:#000000;stroke-width:0.6;\" x=\"45.478125\" xlink:href=\"#mac3f41ee8c\" y=\"18.830339\"/>\n      </g>\n     </g>\n    </g>\n    <g id=\"ytick_41\">\n     <g id=\"line2d_50\">\n      <g>\n       <use style=\"stroke:#000000;stroke-width:0.6;\" x=\"45.478125\" xlink:href=\"#mac3f41ee8c\" y=\"15.898537\"/>\n      </g>\n     </g>\n    </g>\n    <g id=\"ytick_42\">\n     <g id=\"line2d_51\">\n      <g>\n       <use style=\"stroke:#000000;stroke-width:0.6;\" x=\"45.478125\" xlink:href=\"#mac3f41ee8c\" y=\"13.312504\"/>\n      </g>\n     </g>\n    </g>\n    <g id=\"text_16\">\n     <!-- Counts / (34.6 eV kg days) -->\n     <g transform=\"translate(14.798438 186.205156)rotate(-90)scale(0.1 -0.1)\">\n      <defs>\n       <path d=\"M 64.40625 67.28125 \nL 64.40625 56.890625 \nQ 59.421875 61.53125 53.78125 63.8125 \nQ 48.140625 66.109375 41.796875 66.109375 \nQ 29.296875 66.109375 22.65625 58.46875 \nQ 16.015625 50.828125 16.015625 36.375 \nQ 16.015625 21.96875 22.65625 14.328125 \nQ 29.296875 6.6875 41.796875 6.6875 \nQ 48.140625 6.6875 53.78125 8.984375 \nQ 59.421875 11.28125 64.40625 15.921875 \nL 64.40625 5.609375 \nQ 59.234375 2.09375 53.4375 0.328125 \nQ 47.65625 -1.421875 41.21875 -1.421875 \nQ 24.65625 -1.421875 15.125 8.703125 \nQ 5.609375 18.84375 5.609375 36.375 \nQ 5.609375 53.953125 15.125 64.078125 \nQ 24.65625 74.21875 41.21875 74.21875 \nQ 47.75 74.21875 53.53125 72.484375 \nQ 59.328125 70.75 64.40625 67.28125 \nz\n\" id=\"DejaVuSans-67\"/>\n       <path d=\"M 30.609375 48.390625 \nQ 23.390625 48.390625 19.1875 42.75 \nQ 14.984375 37.109375 14.984375 27.296875 \nQ 14.984375 17.484375 19.15625 11.84375 \nQ 23.34375 6.203125 30.609375 6.203125 \nQ 37.796875 6.203125 41.984375 11.859375 \nQ 46.1875 17.53125 46.1875 27.296875 \nQ 46.1875 37.015625 41.984375 42.703125 \nQ 37.796875 48.390625 30.609375 48.390625 \nz\nM 30.609375 56 \nQ 42.328125 56 49.015625 48.375 \nQ 55.71875 40.765625 55.71875 27.296875 \nQ 55.71875 13.875 49.015625 6.21875 \nQ 42.328125 -1.421875 30.609375 -1.421875 \nQ 18.84375 -1.421875 12.171875 6.21875 \nQ 5.515625 13.875 5.515625 27.296875 \nQ 5.515625 40.765625 12.171875 48.375 \nQ 18.84375 56 30.609375 56 \nz\n\" id=\"DejaVuSans-111\"/>\n       <path d=\"M 8.5 21.578125 \nL 8.5 54.6875 \nL 17.484375 54.6875 \nL 17.484375 21.921875 \nQ 17.484375 14.15625 20.5 10.265625 \nQ 23.53125 6.390625 29.59375 6.390625 \nQ 36.859375 6.390625 41.078125 11.03125 \nQ 45.3125 15.671875 45.3125 23.6875 \nL 45.3125 54.6875 \nL 54.296875 54.6875 \nL 54.296875 0 \nL 45.3125 0 \nL 45.3125 8.40625 \nQ 42.046875 3.421875 37.71875 1 \nQ 33.40625 -1.421875 27.6875 -1.421875 \nQ 18.265625 -1.421875 13.375 4.4375 \nQ 8.5 10.296875 8.5 21.578125 \nz\nM 31.109375 56 \nz\n\" id=\"DejaVuSans-117\"/>\n       <path d=\"M 18.3125 70.21875 \nL 18.3125 54.6875 \nL 36.8125 54.6875 \nL 36.8125 47.703125 \nL 18.3125 47.703125 \nL 18.3125 18.015625 \nQ 18.3125 11.328125 20.140625 9.421875 \nQ 21.96875 7.515625 27.59375 7.515625 \nL 36.8125 7.515625 \nL 36.8125 0 \nL 27.59375 0 \nQ 17.1875 0 13.234375 3.875 \nQ 9.28125 7.765625 9.28125 18.015625 \nL 9.28125 47.703125 \nL 2.6875 47.703125 \nL 2.6875 54.6875 \nL 9.28125 54.6875 \nL 9.28125 70.21875 \nz\n\" id=\"DejaVuSans-116\"/>\n       <path d=\"M 44.28125 53.078125 \nL 44.28125 44.578125 \nQ 40.484375 46.53125 36.375 47.5 \nQ 32.28125 48.484375 27.875 48.484375 \nQ 21.1875 48.484375 17.84375 46.4375 \nQ 14.5 44.390625 14.5 40.28125 \nQ 14.5 37.15625 16.890625 35.375 \nQ 19.28125 33.59375 26.515625 31.984375 \nL 29.59375 31.296875 \nQ 39.15625 29.25 43.1875 25.515625 \nQ 47.21875 21.78125 47.21875 15.09375 \nQ 47.21875 7.46875 41.1875 3.015625 \nQ 35.15625 -1.421875 24.609375 -1.421875 \nQ 20.21875 -1.421875 15.453125 -0.5625 \nQ 10.6875 0.296875 5.421875 2 \nL 5.421875 11.28125 \nQ 10.40625 8.6875 15.234375 7.390625 \nQ 20.0625 6.109375 24.8125 6.109375 \nQ 31.15625 6.109375 34.5625 8.28125 \nQ 37.984375 10.453125 37.984375 14.40625 \nQ 37.984375 18.0625 35.515625 20.015625 \nQ 33.0625 21.96875 24.703125 23.78125 \nL 21.578125 24.515625 \nQ 13.234375 26.265625 9.515625 29.90625 \nQ 5.8125 33.546875 5.8125 39.890625 \nQ 5.8125 47.609375 11.28125 51.796875 \nQ 16.75 56 26.8125 56 \nQ 31.78125 56 36.171875 55.265625 \nQ 40.578125 54.546875 44.28125 53.078125 \nz\n\" id=\"DejaVuSans-115\"/>\n       <path d=\"M 25.390625 72.90625 \nL 33.6875 72.90625 \nL 8.296875 -9.28125 \nL 0 -9.28125 \nz\n\" id=\"DejaVuSans-47\"/>\n       <path d=\"M 10.6875 12.40625 \nL 21 12.40625 \nL 21 0 \nL 10.6875 0 \nz\n\" id=\"DejaVuSans-46\"/>\n       <path d=\"M 45.40625 46.390625 \nL 45.40625 75.984375 \nL 54.390625 75.984375 \nL 54.390625 0 \nL 45.40625 0 \nL 45.40625 8.203125 \nQ 42.578125 3.328125 38.25 0.953125 \nQ 33.9375 -1.421875 27.875 -1.421875 \nQ 17.96875 -1.421875 11.734375 6.484375 \nQ 5.515625 14.40625 5.515625 27.296875 \nQ 5.515625 40.1875 11.734375 48.09375 \nQ 17.96875 56 27.875 56 \nQ 33.9375 56 38.25 53.625 \nQ 42.578125 51.265625 45.40625 46.390625 \nz\nM 14.796875 27.296875 \nQ 14.796875 17.390625 18.875 11.75 \nQ 22.953125 6.109375 30.078125 6.109375 \nQ 37.203125 6.109375 41.296875 11.75 \nQ 45.40625 17.390625 45.40625 27.296875 \nQ 45.40625 37.203125 41.296875 42.84375 \nQ 37.203125 48.484375 30.078125 48.484375 \nQ 22.953125 48.484375 18.875 42.84375 \nQ 14.796875 37.203125 14.796875 27.296875 \nz\n\" id=\"DejaVuSans-100\"/>\n       <path d=\"M 34.28125 27.484375 \nQ 23.390625 27.484375 19.1875 25 \nQ 14.984375 22.515625 14.984375 16.5 \nQ 14.984375 11.71875 18.140625 8.90625 \nQ 21.296875 6.109375 26.703125 6.109375 \nQ 34.1875 6.109375 38.703125 11.40625 \nQ 43.21875 16.703125 43.21875 25.484375 \nL 43.21875 27.484375 \nz\nM 52.203125 31.203125 \nL 52.203125 0 \nL 43.21875 0 \nL 43.21875 8.296875 \nQ 40.140625 3.328125 35.546875 0.953125 \nQ 30.953125 -1.421875 24.3125 -1.421875 \nQ 15.921875 -1.421875 10.953125 3.296875 \nQ 6 8.015625 6 15.921875 \nQ 6 25.140625 12.171875 29.828125 \nQ 18.359375 34.515625 30.609375 34.515625 \nL 43.21875 34.515625 \nL 43.21875 35.40625 \nQ 43.21875 41.609375 39.140625 45 \nQ 35.0625 48.390625 27.6875 48.390625 \nQ 23 48.390625 18.546875 47.265625 \nQ 14.109375 46.140625 10.015625 43.890625 \nL 10.015625 52.203125 \nQ 14.9375 54.109375 19.578125 55.046875 \nQ 24.21875 56 28.609375 56 \nQ 40.484375 56 46.34375 49.84375 \nQ 52.203125 43.703125 52.203125 31.203125 \nz\n\" id=\"DejaVuSans-97\"/>\n      </defs>\n      <use xlink:href=\"#DejaVuSans-67\"/>\n      <use x=\"69.824219\" xlink:href=\"#DejaVuSans-111\"/>\n      <use x=\"131.005859\" xlink:href=\"#DejaVuSans-117\"/>\n      <use x=\"194.384766\" xlink:href=\"#DejaVuSans-110\"/>\n      <use x=\"257.763672\" xlink:href=\"#DejaVuSans-116\"/>\n      <use x=\"296.972656\" xlink:href=\"#DejaVuSans-115\"/>\n      <use x=\"349.072266\" xlink:href=\"#DejaVuSans-32\"/>\n      <use x=\"380.859375\" xlink:href=\"#DejaVuSans-47\"/>\n      <use x=\"414.550781\" xlink:href=\"#DejaVuSans-32\"/>\n      <use x=\"446.337891\" xlink:href=\"#DejaVuSans-40\"/>\n      <use x=\"485.351562\" xlink:href=\"#DejaVuSans-51\"/>\n      <use x=\"548.974609\" xlink:href=\"#DejaVuSans-52\"/>\n      <use x=\"612.597656\" xlink:href=\"#DejaVuSans-46\"/>\n      <use x=\"644.384766\" xlink:href=\"#DejaVuSans-54\"/>\n      <use x=\"708.007812\" xlink:href=\"#DejaVuSans-32\"/>\n      <use x=\"739.794922\" xlink:href=\"#DejaVuSans-101\"/>\n      <use x=\"801.318359\" xlink:href=\"#DejaVuSans-86\"/>\n      <use x=\"869.726562\" xlink:href=\"#DejaVuSans-32\"/>\n      <use x=\"901.513672\" xlink:href=\"#DejaVuSans-107\"/>\n      <use x=\"959.423828\" xlink:href=\"#DejaVuSans-103\"/>\n      <use x=\"1022.900391\" xlink:href=\"#DejaVuSans-32\"/>\n      <use x=\"1054.6875\" xlink:href=\"#DejaVuSans-100\"/>\n      <use x=\"1118.164062\" xlink:href=\"#DejaVuSans-97\"/>\n      <use x=\"1179.443359\" xlink:href=\"#DejaVuSans-121\"/>\n      <use x=\"1238.623047\" xlink:href=\"#DejaVuSans-115\"/>\n      <use x=\"1290.722656\" xlink:href=\"#DejaVuSans-41\"/>\n     </g>\n    </g>\n   </g>\n   <g id=\"patch_3\">\n    <path clip-path=\"url(#pda38df1dec)\" d=\"M 45.478125 266.995469 \nL 45.478125 34.608103 \nL 46.147725 34.608103 \nL 46.147725 36.023388 \nL 46.817325 36.023388 \nL 46.817325 36.777433 \nL 47.486925 36.777433 \nL 47.486925 36.919958 \nL 48.156525 36.919958 \nL 48.156525 37.506836 \nL 48.826125 37.506836 \nL 48.826125 38.276511 \nL 49.495725 38.276511 \nL 49.495725 39.320002 \nL 50.165325 39.320002 \nL 50.165325 39.649447 \nL 51.504525 39.641353 \nL 51.504525 41.790697 \nL 52.174125 41.790697 \nL 52.174125 42.323699 \nL 52.843725 42.323699 \nL 52.843725 42.571999 \nL 53.513325 42.571999 \nL 53.513325 43.788914 \nL 54.182925 43.788914 \nL 54.182925 45.139542 \nL 54.852525 45.139542 \nL 54.852525 46.160931 \nL 55.522125 46.160931 \nL 55.522125 45.87958 \nL 56.191725 45.87958 \nL 56.191725 47.941042 \nL 56.861325 47.941042 \nL 56.861325 46.401846 \nL 57.530925 46.401846 \nL 57.530925 48.286249 \nL 58.200525 48.286249 \nL 58.200525 49.955851 \nL 58.870125 49.955851 \nL 58.870125 50.519694 \nL 59.539725 50.519694 \nL 59.539725 50.733249 \nL 60.209325 50.733249 \nL 60.209325 51.235197 \nL 60.878925 51.235197 \nL 60.878925 52.074379 \nL 61.548525 52.074379 \nL 61.548525 53.110709 \nL 62.218125 53.110709 \nL 62.218125 54.835759 \nL 62.887725 54.835759 \nL 62.887725 54.182688 \nL 63.557325 54.182688 \nL 63.557325 55.895676 \nL 64.896525 55.895676 \nL 64.896525 56.567585 \nL 65.566125 56.567585 \nL 65.566125 57.901933 \nL 66.905325 57.920532 \nL 66.905325 57.643191 \nL 67.574925 57.643191 \nL 67.574925 60.990992 \nL 68.914125 60.948235 \nL 68.914125 60.192508 \nL 69.583725 60.192508 \nL 69.583725 61.975727 \nL 70.253325 61.975727 \nL 70.253325 60.254501 \nL 70.922925 60.254501 \nL 70.922925 62.268627 \nL 71.592525 62.268627 \nL 71.592525 64.713355 \nL 72.262125 64.713355 \nL 72.262125 66.371688 \nL 72.931725 66.371688 \nL 72.931725 64.917123 \nL 73.601325 64.917123 \nL 73.601325 66.92546 \nL 74.270925 66.92546 \nL 74.270925 66.757857 \nL 74.940525 66.757857 \nL 74.940525 68.797669 \nL 75.610125 68.797669 \nL 75.610125 67.783222 \nL 76.279725 67.783222 \nL 76.279725 70.281955 \nL 76.949325 70.281955 \nL 76.949325 69.989854 \nL 77.618925 69.989854 \nL 77.618925 71.838803 \nL 78.288525 71.838803 \nL 78.288525 72.58798 \nL 78.958125 72.58798 \nL 78.958125 71.559994 \nL 79.627725 71.559994 \nL 79.627725 71.284681 \nL 80.297325 71.284681 \nL 80.297325 74.245817 \nL 80.966925 74.245817 \nL 80.966925 75.869914 \nL 81.636525 75.869914 \nL 81.636525 76.729354 \nL 82.306125 76.729354 \nL 82.306125 74.640718 \nL 82.975725 74.640718 \nL 82.975725 75.996705 \nL 83.645325 75.996705 \nL 83.645325 78.038521 \nL 84.984525 78.085088 \nL 84.984525 79.780431 \nL 85.654125 79.780431 \nL 85.654125 81.291635 \nL 86.323725 81.291635 \nL 86.323725 80.811414 \nL 86.993325 80.811414 \nL 86.993325 82.683476 \nL 87.662925 82.683476 \nL 87.662925 82.856586 \nL 88.332525 82.856586 \nL 88.332525 83.563003 \nL 89.002125 83.563003 \nL 89.002125 85.566068 \nL 89.671725 85.566068 \nL 89.671725 84.354841 \nL 90.341325 84.354841 \nL 90.341325 84.541701 \nL 91.010925 84.541701 \nL 91.010925 87.482441 \nL 92.350125 87.554075 \nL 92.350125 88.432428 \nL 93.019725 88.432428 \nL 93.019725 88.733199 \nL 93.689325 88.733199 \nL 93.689325 90.962522 \nL 94.358925 90.962522 \nL 94.358925 92.168247 \nL 95.028525 92.168247 \nL 95.028525 91.991894 \nL 95.698125 91.991894 \nL 95.698125 90.629851 \nL 96.367725 90.629851 \nL 96.367725 92.796885 \nL 97.037325 92.796885 \nL 97.037325 93.822612 \nL 97.706925 93.822612 \nL 97.706925 92.168247 \nL 98.376525 92.168247 \nL 98.376525 93.918281 \nL 99.046125 93.918281 \nL 99.046125 96.242221 \nL 99.715725 96.242221 \nL 99.715725 95.508543 \nL 100.385325 95.508543 \nL 100.385325 98.72193 \nL 101.054925 98.72193 \nL 101.054925 101.517782 \nL 101.724525 101.517782 \nL 101.724525 98.484567 \nL 102.394125 98.484567 \nL 102.394125 97.223045 \nL 103.063725 97.223045 \nL 103.063725 100.719297 \nL 103.733325 100.719297 \nL 103.733325 104.722332 \nL 104.402925 104.722332 \nL 104.402925 101.248381 \nL 105.072525 101.248381 \nL 105.072525 102.487601 \nL 105.742125 102.487601 \nL 105.742125 99.948836 \nL 106.411725 99.948836 \nL 106.411725 103.207531 \nL 107.081325 103.207531 \nL 107.081325 104.256818 \nL 107.750925 104.256818 \nL 107.750925 103.354394 \nL 108.420525 103.354394 \nL 108.420525 105.684058 \nL 109.090125 105.684058 \nL 109.090125 104.256818 \nL 109.759725 104.256818 \nL 109.759725 106.689847 \nL 110.429325 106.689847 \nL 110.429325 107.5647 \nL 111.098925 107.5647 \nL 111.098925 109.426485 \nL 111.768525 109.426485 \nL 111.768525 108.106849 \nL 112.438125 108.106849 \nL 112.438125 109.233039 \nL 113.107725 109.233039 \nL 113.107725 111.038651 \nL 113.777325 111.038651 \nL 113.777325 112.553452 \nL 114.446925 112.553452 \nL 114.446925 112.109883 \nL 115.116525 112.109883 \nL 115.116525 111.460893 \nL 115.786125 111.460893 \nL 115.786125 113.940601 \nL 116.455725 113.940601 \nL 116.455725 117.848382 \nL 117.125325 117.848382 \nL 117.125325 114.91658 \nL 117.794925 114.91658 \nL 117.794925 113.006167 \nL 118.464525 113.006167 \nL 118.464525 117.009201 \nL 119.134125 117.009201 \nL 119.134125 117.285379 \nL 119.803725 117.285379 \nL 119.803725 116.736453 \nL 120.473325 116.736453 \nL 120.473325 123.694536 \nL 121.142925 123.694536 \nL 121.142925 125.235934 \nL 121.812525 125.235934 \nL 121.812525 120.256921 \nL 122.482125 120.256921 \nL 122.482125 122.962605 \nL 123.151725 122.962605 \nL 123.151725 123.32552 \nL 123.821325 123.32552 \nL 123.821325 124.069859 \nL 124.490925 124.069859 \nL 124.490925 126.467428 \nL 125.160525 126.467428 \nL 125.160525 125.638805 \nL 125.830125 125.638805 \nL 125.830125 121.56811 \nL 126.499725 121.56811 \nL 126.499725 129.64184 \nL 127.169325 129.64184 \nL 127.169325 125.235934 \nL 127.838925 125.235934 \nL 127.838925 119.941003 \nL 128.508525 119.941003 \nL 128.508525 121.908519 \nL 129.178125 121.908519 \nL 129.178125 120.902729 \nL 129.847725 120.902729 \nL 129.847725 115.678133 \nL 130.517325 115.678133 \nL 130.517325 101.653732 \nL 131.186925 101.653732 \nL 131.186925 97.223045 \nL 131.856525 97.223045 \nL 131.856525 89.819578 \nL 132.526125 89.819578 \nL 132.526125 79.881378 \nL 133.195725 79.881378 \nL 133.195725 74.363543 \nL 133.865325 74.363543 \nL 133.865325 64.942728 \nL 134.534925 64.942728 \nL 134.534925 58.144956 \nL 135.204525 58.144956 \nL 135.204525 51.847442 \nL 135.874125 51.847442 \nL 135.874125 44.850373 \nL 136.543725 44.850373 \nL 136.543725 39.893675 \nL 137.213325 39.893675 \nL 137.213325 34.789023 \nL 137.882925 34.789023 \nL 137.882925 30.757892 \nL 138.552525 30.757892 \nL 138.552525 27.557743 \nL 139.222125 27.557743 \nL 139.222125 24.285532 \nL 139.891725 24.285532 \nL 139.891725 21.934881 \nL 140.561325 21.934881 \nL 140.561325 20.545446 \nL 141.230925 20.545446 \nL 141.230925 19.89718 \nL 141.900525 19.89718 \nL 141.900525 18.877438 \nL 142.570125 18.877438 \nL 142.570125 19.428075 \nL 143.239725 19.428075 \nL 143.239725 20.36307 \nL 143.909325 20.36307 \nL 143.909325 21.719167 \nL 144.578925 21.719167 \nL 144.578925 24.471292 \nL 145.248525 24.471292 \nL 145.248525 27.726419 \nL 145.918125 27.726419 \nL 145.918125 30.564352 \nL 146.587725 30.564352 \nL 146.587725 34.971447 \nL 147.257325 34.971447 \nL 147.257325 40.082774 \nL 147.926925 40.082774 \nL 147.926925 45.129149 \nL 148.596525 45.129149 \nL 148.596525 51.386665 \nL 149.266125 51.386665 \nL 149.266125 59.184255 \nL 149.935725 59.184255 \nL 149.935725 66.126976 \nL 150.605325 66.126976 \nL 150.605325 73.819475 \nL 151.274925 73.819475 \nL 151.274925 81.399793 \nL 151.944525 81.399793 \nL 151.944525 91.64338 \nL 152.614125 91.64338 \nL 152.614125 100.075383 \nL 153.283725 100.075383 \nL 153.283725 108.290581 \nL 153.953325 108.290581 \nL 153.953325 125.638805 \nL 154.622925 125.638805 \nL 154.622925 130.640007 \nL 155.292525 130.640007 \nL 155.292525 141.6861 \nL 155.962125 141.6861 \nL 155.962125 145.353923 \nL 156.631725 145.353923 \nL 156.631725 151.014793 \nL 157.301325 151.014793 \nL 157.301325 162.665215 \nL 157.970925 162.665215 \nL 157.970925 156.904771 \nL 159.310125 156.904771 \nL 159.310125 164.9785 \nL 159.979725 164.9785 \nL 159.979725 160.572594 \nL 160.649325 160.572594 \nL 160.649325 177.883887 \nL 161.318925 177.883887 \nL 161.318925 160.572594 \nL 161.988525 160.572594 \nL 161.988525 167.564533 \nL 162.658125 167.564533 \nL 162.658125 160.572594 \nL 163.327725 160.572594 \nL 163.327725 155.277664 \nL 163.997325 155.277664 \nL 163.997325 162.665215 \nL 165.336525 162.665215 \nL 165.336525 177.883887 \nL 166.006125 177.883887 \nL 166.006125 170.496335 \nL 166.675725 170.496335 \nL 166.675725 160.572594 \nL 167.345325 160.572594 \nL 167.345325 173.880852 \nL 168.014925 173.880852 \nL 168.014925 164.9785 \nL 168.684525 164.9785 \nL 168.684525 167.564533 \nL 169.354125 167.564533 \nL 169.354125 182.783205 \nL 170.023725 182.783205 \nL 170.023725 189.099524 \nL 170.693325 189.099524 \nL 170.693325 213.220547 \nL 171.362925 213.220547 \nL 171.362925 177.883887 \nL 172.032525 177.883887 \nL 172.032525 170.496335 \nL 172.702125 170.496335 \nL 172.702125 182.783205 \nL 173.371725 182.783205 \nL 173.371725 177.883887 \nL 174.041325 177.883887 \nL 174.041325 198.001876 \nL 174.710925 198.001876 \nL 174.710925 182.783205 \nL 175.380525 182.783205 \nL 175.380525 198.001876 \nL 176.719725 198.001876 \nL 176.719725 170.496335 \nL 177.389325 170.496335 \nL 177.389325 189.099524 \nL 179.398125 189.099524 \nL 179.398125 266.995469 \nM 180.067725 266.995469 \nL 180.067725 182.783205 \nL 180.737325 182.783205 \nL 180.737325 170.496335 \nL 181.406925 170.496335 \nL 181.406925 182.783205 \nL 182.076525 182.783205 \nL 182.076525 213.220547 \nL 182.746125 213.220547 \nL 182.746125 189.099524 \nL 183.415725 189.099524 \nL 183.415725 177.883887 \nL 184.085325 177.883887 \nL 184.085325 213.220547 \nL 184.754925 213.220547 \nL 184.754925 198.001876 \nL 187.433325 198.001876 \nL 187.433325 182.783205 \nL 188.102925 182.783205 \nL 188.102925 198.001876 \nL 188.772525 198.001876 \nL 188.772525 266.995469 \nM 190.111725 266.995469 \nL 190.111725 213.220547 \nL 190.781325 213.220547 \nL 190.781325 198.001876 \nL 191.450925 198.001876 \nL 191.450925 189.099524 \nL 192.120525 189.099524 \nL 192.120525 198.001876 \nL 192.790125 198.001876 \nL 192.790125 266.995469 \nM 194.129325 266.995469 \nL 194.129325 213.220547 \nL 194.798925 213.220547 \nL 194.798925 189.099524 \nL 195.468525 189.099524 \nL 195.468525 182.783205 \nL 196.138125 182.783205 \nL 196.138125 213.220547 \nL 196.807725 213.220547 \nL 196.807725 198.001876 \nL 197.477325 198.001876 \nL 197.477325 266.995469 \nM 198.816525 266.995469 \nL 198.816525 182.783205 \nL 199.486125 182.783205 \nL 199.486125 266.995469 \nM 200.155725 266.995469 \nL 200.155725 213.220547 \nL 200.825325 213.220547 \nL 200.825325 266.995469 \nM 202.834125 266.995469 \nL 202.834125 213.220547 \nL 203.503725 213.220547 \nL 203.503725 266.995469 \nM 204.173325 266.995469 \nL 204.173325 189.099524 \nL 204.842925 189.099524 \nL 204.842925 213.220547 \nL 206.182125 213.220547 \nL 206.182125 189.099524 \nL 206.851725 189.099524 \nL 206.851725 266.995469 \nM 207.521325 266.995469 \nL 207.521325 213.220547 \nL 208.860525 213.220547 \nL 208.860525 266.995469 \nM 213.547725 266.995469 \nL 213.547725 213.220547 \nL 214.886925 213.220547 \nL 214.886925 266.995469 \nM 215.556525 266.995469 \nL 215.556525 198.001876 \nL 216.226125 198.001876 \nL 216.226125 213.220547 \nL 216.895725 213.220547 \nL 216.895725 266.995469 \nM 218.904525 266.995469 \nL 218.904525 213.220547 \nL 219.574125 213.220547 \nL 219.574125 266.995469 \nM 222.922125 266.995469 \nL 222.922125 213.220547 \nL 224.261325 213.220547 \nL 224.261325 266.995469 \nM 226.270125 266.995469 \nL 226.270125 213.220547 \nL 226.939725 213.220547 \nL 226.939725 266.995469 \nM 228.278925 266.995469 \nL 228.278925 213.220547 \nL 228.948525 213.220547 \nL 228.948525 266.995469 \nM 232.296525 266.995469 \nL 232.296525 213.220547 \nL 232.966125 213.220547 \nL 232.966125 266.995469 \nM 238.322925 266.995469 \nL 238.322925 213.220547 \nL 238.992525 213.220547 \nL 238.992525 266.995469 \nM 242.340525 266.995469 \nL 242.340525 213.220547 \nL 243.679725 213.220547 \nL 243.679725 266.995469 \nM 267.785325 266.995469 \nL 267.785325 213.220547 \nL 268.454925 213.220547 \nL 268.454925 266.995469 \nL 268.454925 266.995469 \n\" style=\"fill:none;stroke:#1f77b4;stroke-linejoin:miter;\"/>\n   </g>\n   <g id=\"patch_4\">\n    <path clip-path=\"url(#pda38df1dec)\" d=\"M 45.478125 266.995469 \nL 45.478125 -0.56061 \nL 46.147725 -0.56061 \nL 46.147725 0.824426 \nL 46.817325 0.824426 \nL 46.817325 2.148157 \nL 47.486925 2.148157 \nL 47.486925 4.087265 \nL 48.156525 4.087265 \nL 48.156525 4.639031 \nL 48.826125 4.639031 \nL 48.826125 7.226091 \nL 49.495725 7.226091 \nL 49.495725 8.238238 \nL 50.165325 8.238238 \nL 50.165325 9.10711 \nL 50.834925 9.10711 \nL 50.834925 11.109274 \nL 51.504525 11.109274 \nL 51.504525 12.427933 \nL 52.174125 12.427933 \nL 52.174125 14.29791 \nL 52.843725 14.29791 \nL 52.843725 16.133066 \nL 53.513325 16.133066 \nL 53.513325 17.22789 \nL 54.182925 17.22789 \nL 54.182925 19.792065 \nL 54.852525 19.792065 \nL 54.852525 20.57599 \nL 56.191725 20.57599 \nL 56.191725 23.244959 \nL 56.861325 23.244959 \nL 56.861325 25.000771 \nL 57.530925 25.000771 \nL 57.530925 26.505188 \nL 58.200525 26.505188 \nL 58.200525 27.000117 \nL 58.870125 27.000117 \nL 58.870125 28.048609 \nL 59.539725 28.048609 \nL 59.539725 31.199697 \nL 60.209325 31.199697 \nL 60.209325 32.446561 \nL 60.878925 32.446561 \nL 60.878925 33.308854 \nL 61.548525 33.308854 \nL 61.548525 34.814991 \nL 62.218125 34.814991 \nL 62.218125 36.292704 \nL 62.887725 36.292704 \nL 62.887725 37.215059 \nL 63.557325 37.215059 \nL 63.557325 39.066265 \nL 64.226925 39.066265 \nL 64.226925 39.910054 \nL 64.896525 39.910054 \nL 64.896525 41.612915 \nL 65.566125 41.612915 \nL 65.566125 46.83553 \nL 66.235725 46.83553 \nL 66.235725 43.798692 \nL 66.905325 43.798692 \nL 66.905325 44.901732 \nL 67.574925 44.901732 \nL 67.574925 45.901095 \nL 68.244525 45.901095 \nL 68.244525 48.047595 \nL 68.914125 48.047595 \nL 68.914125 50.693049 \nL 69.583725 50.693049 \nL 69.583725 50.098717 \nL 70.253325 50.098717 \nL 70.253325 51.720814 \nL 70.922925 51.720814 \nL 70.922925 54.088725 \nL 71.592525 54.088725 \nL 71.592525 54.803447 \nL 72.262125 54.803447 \nL 72.262125 56.655233 \nL 72.931725 56.655233 \nL 72.931725 59.46193 \nL 73.601325 59.46193 \nL 73.601325 57.920532 \nL 74.270925 57.920532 \nL 74.270925 62.796604 \nL 74.940525 62.796604 \nL 74.940525 61.99812 \nL 75.610125 61.99812 \nL 75.610125 61.664606 \nL 76.279725 61.664606 \nL 76.279725 63.147906 \nL 76.949325 63.147906 \nL 76.949325 64.738723 \nL 77.618925 64.738723 \nL 77.618925 65.252334 \nL 78.288525 65.252334 \nL 78.288525 71.012778 \nL 78.958125 71.012778 \nL 78.958125 71.353187 \nL 79.627725 71.353187 \nL 79.627725 66.86945 \nL 80.297325 66.86945 \nL 80.297325 73.514527 \nL 80.966925 73.514527 \nL 80.966925 69.701589 \nL 81.636525 69.701589 \nL 81.636525 73.704623 \nL 82.306125 73.704623 \nL 82.306125 71.353187 \nL 83.645325 71.353187 \nL 83.645325 69.861269 \nL 84.314925 69.861269 \nL 84.314925 78.843898 \nL 84.984525 78.843898 \nL 84.984525 75.70199 \nL 85.654125 75.70199 \nL 85.654125 75.083473 \nL 86.323725 75.083473 \nL 86.323725 78.131753 \nL 86.993325 78.131753 \nL 86.993325 81.399793 \nL 87.662925 81.399793 \nL 87.662925 79.579919 \nL 88.332525 79.579919 \nL 88.332525 80.341472 \nL 89.002125 80.341472 \nL 89.002125 78.843898 \nL 89.671725 78.843898 \nL 89.671725 80.084675 \nL 90.341325 80.084675 \nL 90.341325 81.130392 \nL 91.010925 81.130392 \nL 91.010925 81.67254 \nL 91.680525 81.67254 \nL 91.680525 86.571858 \nL 92.350125 86.571858 \nL 92.350125 88.733199 \nL 93.019725 88.733199 \nL 93.019725 90.712547 \nL 93.689325 90.712547 \nL 93.689325 87.625944 \nL 94.358925 87.625944 \nL 94.358925 85.896239 \nL 95.028525 85.896239 \nL 95.028525 83.384256 \nL 95.698125 83.384256 \nL 95.698125 86.917627 \nL 96.367725 86.917627 \nL 96.367725 92.888177 \nL 97.037325 92.888177 \nL 97.037325 89.50366 \nL 97.706925 89.50366 \nL 97.706925 85.566068 \nL 98.376525 85.566068 \nL 98.376525 87.98886 \nL 99.046125 87.98886 \nL 99.046125 84.604342 \nL 99.715725 84.604342 \nL 99.715725 90.712547 \nL 100.385325 90.712547 \nL 100.385325 95.303346 \nL 101.054925 95.303346 \nL 101.054925 92.435462 \nL 101.724525 92.435462 \nL 101.724525 86.23145 \nL 102.394125 86.23145 \nL 102.394125 91.130768 \nL 103.063725 91.130768 \nL 103.063725 89.11505 \nL 103.733325 89.11505 \nL 103.733325 89.899273 \nL 104.402925 89.899273 \nL 104.402925 93.350424 \nL 105.072525 93.350424 \nL 105.072525 91.991894 \nL 105.742125 91.991894 \nL 105.742125 91.130768 \nL 106.411725 91.130768 \nL 106.411725 92.435462 \nL 107.081325 92.435462 \nL 107.081325 92.888177 \nL 107.750925 92.888177 \nL 107.750925 96.891212 \nL 108.420525 96.891212 \nL 108.420525 94.305179 \nL 109.090125 94.305179 \nL 109.090125 90.302145 \nL 109.759725 90.302145 \nL 109.759725 87.98886 \nL 110.429325 87.98886 \nL 110.429325 93.822612 \nL 111.098925 93.822612 \nL 111.098925 96.891212 \nL 111.768525 96.891212 \nL 111.768525 90.712547 \nL 112.438125 90.712547 \nL 112.438125 93.822612 \nL 113.107725 93.822612 \nL 113.107725 96.891212 \nL 113.777325 96.891212 \nL 113.777325 91.991894 \nL 114.446925 91.991894 \nL 114.446925 91.130768 \nL 115.116525 91.130768 \nL 115.116525 97.447087 \nL 115.786125 97.447087 \nL 115.786125 92.435462 \nL 116.455725 92.435462 \nL 116.455725 92.888177 \nL 117.125325 92.888177 \nL 117.125325 91.130768 \nL 117.794925 91.130768 \nL 117.794925 88.357875 \nL 118.464525 88.357875 \nL 118.464525 95.81998 \nL 119.134125 95.81998 \nL 119.134125 93.822612 \nL 119.803725 93.822612 \nL 119.803725 95.303346 \nL 120.473325 95.303346 \nL 120.473325 96.891212 \nL 121.142925 96.891212 \nL 121.142925 90.712547 \nL 121.812525 90.712547 \nL 121.812525 96.891212 \nL 122.482125 96.891212 \nL 122.482125 90.712547 \nL 123.151725 90.712547 \nL 123.151725 92.435462 \nL 123.821325 92.435462 \nL 123.821325 92.888177 \nL 124.490925 92.888177 \nL 124.490925 96.891212 \nL 125.160525 96.891212 \nL 125.160525 90.302145 \nL 125.830125 90.302145 \nL 125.830125 94.305179 \nL 126.499725 94.305179 \nL 126.499725 87.268929 \nL 127.169325 87.268929 \nL 127.169325 92.888177 \nL 127.838925 92.888177 \nL 127.838925 91.557109 \nL 128.508525 91.557109 \nL 128.508525 89.50366 \nL 129.178125 89.50366 \nL 129.178125 98.602928 \nL 129.847725 98.602928 \nL 129.847725 93.822612 \nL 130.517325 93.822612 \nL 130.517325 95.303346 \nL 131.186925 95.303346 \nL 131.186925 92.435462 \nL 131.856525 92.435462 \nL 131.856525 95.81998 \nL 132.526125 95.81998 \nL 132.526125 93.822612 \nL 133.195725 93.822612 \nL 133.195725 90.302145 \nL 133.865325 90.302145 \nL 133.865325 94.798591 \nL 134.534925 94.798591 \nL 134.534925 93.822612 \nL 135.204525 93.822612 \nL 135.204525 95.303346 \nL 135.874125 95.303346 \nL 135.874125 98.602928 \nL 136.543725 98.602928 \nL 136.543725 89.899273 \nL 137.213325 89.899273 \nL 137.213325 95.303346 \nL 137.882925 95.303346 \nL 137.882925 92.888177 \nL 138.552525 92.888177 \nL 138.552525 91.557109 \nL 139.222125 91.557109 \nL 139.222125 94.798591 \nL 139.891725 94.798591 \nL 139.891725 93.350424 \nL 140.561325 93.350424 \nL 140.561325 96.891212 \nL 141.230925 96.891212 \nL 141.230925 91.991894 \nL 141.900525 91.991894 \nL 141.900525 89.11505 \nL 142.570125 89.11505 \nL 142.570125 91.130768 \nL 143.239725 91.130768 \nL 143.239725 91.557109 \nL 143.909325 91.557109 \nL 143.909325 96.349063 \nL 144.578925 96.349063 \nL 144.578925 85.566068 \nL 145.248525 85.566068 \nL 145.248525 94.305179 \nL 145.918125 94.305179 \nL 145.918125 92.435462 \nL 146.587725 92.435462 \nL 146.587725 94.798591 \nL 147.257325 94.798591 \nL 147.257325 93.822612 \nL 147.926925 93.822612 \nL 147.926925 96.349063 \nL 148.596525 96.349063 \nL 148.596525 98.602928 \nL 149.266125 98.602928 \nL 149.266125 96.349063 \nL 149.935725 96.349063 \nL 149.935725 91.991894 \nL 150.605325 91.991894 \nL 150.605325 98.602928 \nL 151.274925 98.602928 \nL 151.274925 89.11505 \nL 151.944525 89.11505 \nL 151.944525 89.899273 \nL 152.614125 89.899273 \nL 152.614125 94.798591 \nL 153.283725 94.798591 \nL 153.283725 91.557109 \nL 153.953325 91.557109 \nL 153.953325 92.435462 \nL 154.622925 92.435462 \nL 154.622925 98.602928 \nL 155.292525 98.602928 \nL 155.292525 97.447087 \nL 155.962125 97.447087 \nL 155.962125 95.81998 \nL 156.631725 95.81998 \nL 156.631725 92.435462 \nL 157.301325 92.435462 \nL 157.301325 93.350424 \nL 157.970925 93.350424 \nL 157.970925 94.305179 \nL 158.640525 94.305179 \nL 158.640525 90.712547 \nL 159.310125 90.712547 \nL 159.310125 90.302145 \nL 159.979725 90.302145 \nL 159.979725 98.602928 \nL 160.649325 98.602928 \nL 160.649325 101.11491 \nL 161.318925 101.11491 \nL 161.318925 92.435462 \nL 162.658125 92.435462 \nL 162.658125 96.891212 \nL 163.327725 96.891212 \nL 163.327725 94.798591 \nL 163.997325 94.798591 \nL 163.997325 87.268929 \nL 164.666925 87.268929 \nL 164.666925 94.798591 \nL 165.336525 94.798591 \nL 165.336525 95.303346 \nL 166.006125 95.303346 \nL 166.006125 94.798591 \nL 166.675725 94.798591 \nL 166.675725 90.302145 \nL 167.345325 90.302145 \nL 167.345325 94.305179 \nL 168.014925 94.305179 \nL 168.014925 96.891212 \nL 168.684525 96.891212 \nL 168.684525 95.81998 \nL 169.354125 95.81998 \nL 169.354125 89.11505 \nL 170.023725 89.11505 \nL 170.023725 96.349063 \nL 170.693325 96.349063 \nL 170.693325 95.81998 \nL 171.362925 95.81998 \nL 171.362925 90.712547 \nL 172.032525 90.712547 \nL 172.032525 91.130768 \nL 172.702125 91.130768 \nL 172.702125 84.92026 \nL 173.371725 84.92026 \nL 173.371725 91.991894 \nL 174.041325 91.991894 \nL 174.041325 91.130768 \nL 174.710925 91.130768 \nL 174.710925 89.11505 \nL 175.380525 89.11505 \nL 175.380525 94.798591 \nL 176.050125 94.798591 \nL 176.050125 90.302145 \nL 176.719725 90.302145 \nL 176.719725 98.602928 \nL 177.389325 98.602928 \nL 177.389325 89.899273 \nL 178.058925 89.899273 \nL 178.058925 89.50366 \nL 178.728525 89.50366 \nL 178.728525 98.017402 \nL 179.398125 98.017402 \nL 179.398125 89.11505 \nL 180.067725 89.11505 \nL 180.067725 94.798591 \nL 180.737325 94.798591 \nL 180.737325 91.130768 \nL 181.406925 91.130768 \nL 181.406925 92.888177 \nL 182.076525 92.888177 \nL 182.076525 96.891212 \nL 182.746125 96.891212 \nL 182.746125 90.302145 \nL 183.415725 90.302145 \nL 183.415725 92.888177 \nL 184.085325 92.888177 \nL 184.085325 91.991894 \nL 184.754925 91.991894 \nL 184.754925 98.602928 \nL 185.424525 98.602928 \nL 185.424525 101.79053 \nL 186.094125 101.79053 \nL 186.094125 93.822612 \nL 186.763725 93.822612 \nL 186.763725 92.435462 \nL 187.433325 92.435462 \nL 187.433325 97.447087 \nL 188.102925 97.447087 \nL 188.102925 94.798591 \nL 188.772525 94.798591 \nL 188.772525 95.303346 \nL 189.442125 95.303346 \nL 189.442125 98.602928 \nL 190.111725 98.602928 \nL 190.111725 95.303346 \nL 190.781325 95.303346 \nL 190.781325 94.798591 \nL 191.450925 94.798591 \nL 191.450925 93.350424 \nL 192.120525 93.350424 \nL 192.120525 96.349063 \nL 192.790125 96.349063 \nL 192.790125 94.798591 \nL 193.459725 94.798591 \nL 193.459725 97.447087 \nL 194.129325 97.447087 \nL 194.129325 93.822612 \nL 194.798925 93.822612 \nL 194.798925 99.204497 \nL 195.468525 99.204497 \nL 195.468525 98.602928 \nL 196.138125 98.602928 \nL 196.138125 93.822612 \nL 196.807725 93.822612 \nL 196.807725 96.349063 \nL 197.477325 96.349063 \nL 197.477325 90.712547 \nL 198.146925 90.712547 \nL 198.146925 95.81998 \nL 198.816525 95.81998 \nL 198.816525 89.50366 \nL 199.486125 89.50366 \nL 199.486125 89.11505 \nL 200.155725 89.11505 \nL 200.155725 99.823014 \nL 200.825325 99.823014 \nL 200.825325 96.891212 \nL 201.494925 96.891212 \nL 201.494925 99.823014 \nL 202.164525 99.823014 \nL 202.164525 94.798591 \nL 202.834125 94.798591 \nL 202.834125 97.447087 \nL 203.503725 97.447087 \nL 203.503725 99.823014 \nL 204.173325 99.823014 \nL 204.173325 95.81998 \nL 204.842925 95.81998 \nL 204.842925 91.557109 \nL 205.512525 91.557109 \nL 205.512525 93.350424 \nL 206.182125 93.350424 \nL 206.182125 91.557109 \nL 207.521325 91.557109 \nL 207.521325 95.303346 \nL 208.190925 95.303346 \nL 208.190925 92.888177 \nL 208.860525 92.888177 \nL 208.860525 91.557109 \nL 209.530125 91.557109 \nL 209.530125 99.204497 \nL 210.199725 99.204497 \nL 210.199725 96.891212 \nL 210.869325 96.891212 \nL 210.869325 94.798591 \nL 211.538925 94.798591 \nL 211.538925 91.557109 \nL 212.208525 91.557109 \nL 212.208525 92.888177 \nL 212.878125 92.888177 \nL 212.878125 93.822612 \nL 213.547725 93.822612 \nL 213.547725 99.823014 \nL 214.217325 99.823014 \nL 214.217325 94.798591 \nL 214.886925 94.798591 \nL 214.886925 96.891212 \nL 215.556525 96.891212 \nL 215.556525 93.350424 \nL 216.226125 93.350424 \nL 216.226125 94.798591 \nL 216.895725 94.798591 \nL 216.895725 96.349063 \nL 217.565325 96.349063 \nL 217.565325 88.357875 \nL 218.234925 88.357875 \nL 218.234925 94.798591 \nL 218.904525 94.798591 \nL 218.904525 92.888177 \nL 219.574125 92.888177 \nL 219.574125 86.571858 \nL 220.243725 86.571858 \nL 220.243725 91.130768 \nL 220.913325 91.130768 \nL 220.913325 92.435462 \nL 221.582925 92.435462 \nL 221.582925 95.303346 \nL 222.252525 95.303346 \nL 222.252525 96.891212 \nL 222.922125 96.891212 \nL 222.922125 91.130768 \nL 223.591725 91.130768 \nL 223.591725 90.302145 \nL 224.261325 90.302145 \nL 224.261325 88.733199 \nL 224.930925 88.733199 \nL 224.930925 93.822612 \nL 225.600525 93.822612 \nL 225.600525 92.888177 \nL 226.270125 92.888177 \nL 226.270125 94.305179 \nL 226.939725 94.305179 \nL 226.939725 95.303346 \nL 228.278925 95.303346 \nL 228.278925 93.350424 \nL 228.948525 93.350424 \nL 228.948525 92.888177 \nL 229.618125 92.888177 \nL 229.618125 102.487601 \nL 230.287725 102.487601 \nL 230.287725 88.357875 \nL 230.957325 88.357875 \nL 230.957325 95.81998 \nL 231.626925 95.81998 \nL 231.626925 89.50366 \nL 232.296525 89.50366 \nL 232.296525 95.303346 \nL 233.635725 95.303346 \nL 233.635725 93.822612 \nL 234.305325 93.822612 \nL 234.305325 94.798591 \nL 234.974925 94.798591 \nL 234.974925 103.95187 \nL 235.644525 103.95187 \nL 235.644525 93.822612 \nL 236.314125 93.822612 \nL 236.314125 91.130768 \nL 236.983725 91.130768 \nL 236.983725 94.798591 \nL 238.322925 94.798591 \nL 238.322925 94.305179 \nL 238.992525 94.305179 \nL 238.992525 96.349063 \nL 239.662125 96.349063 \nL 239.662125 95.81998 \nL 240.331725 95.81998 \nL 240.331725 90.712547 \nL 241.001325 90.712547 \nL 241.001325 106.349439 \nL 241.670925 106.349439 \nL 241.670925 94.305179 \nL 242.340525 94.305179 \nL 242.340525 100.459461 \nL 243.010125 100.459461 \nL 243.010125 98.017402 \nL 243.679725 98.017402 \nL 243.679725 91.130768 \nL 244.349325 91.130768 \nL 244.349325 96.349063 \nL 245.018925 96.349063 \nL 245.018925 94.305179 \nL 245.688525 94.305179 \nL 245.688525 96.349063 \nL 246.358125 96.349063 \nL 246.358125 91.557109 \nL 247.027725 91.557109 \nL 247.027725 95.303346 \nL 248.366925 95.303346 \nL 248.366925 91.991894 \nL 249.036525 91.991894 \nL 249.036525 91.557109 \nL 249.706125 91.557109 \nL 249.706125 91.991894 \nL 250.375725 91.991894 \nL 250.375725 93.822612 \nL 251.714925 93.822612 \nL 251.714925 96.891212 \nL 252.384525 96.891212 \nL 252.384525 91.557109 \nL 253.054125 91.557109 \nL 253.054125 89.50366 \nL 253.723725 89.50366 \nL 253.723725 93.350424 \nL 254.393325 93.350424 \nL 254.393325 94.798591 \nL 255.062925 94.798591 \nL 255.062925 92.435462 \nL 257.071725 92.435462 \nL 257.071725 93.350424 \nL 257.741325 93.350424 \nL 257.741325 91.557109 \nL 258.410925 91.557109 \nL 258.410925 89.11505 \nL 259.080525 89.11505 \nL 259.080525 94.798591 \nL 259.750125 94.798591 \nL 259.750125 91.130768 \nL 260.419725 91.130768 \nL 260.419725 93.822612 \nL 261.089325 93.822612 \nL 261.089325 94.798591 \nL 261.758925 94.798591 \nL 261.758925 92.435462 \nL 262.428525 92.435462 \nL 262.428525 94.305179 \nL 263.098125 94.305179 \nL 263.098125 89.11505 \nL 263.767725 89.11505 \nL 263.767725 96.891212 \nL 264.437325 96.891212 \nL 264.437325 91.557109 \nL 265.106925 91.557109 \nL 265.106925 91.991894 \nL 265.776525 91.991894 \nL 265.776525 92.435462 \nL 266.446125 92.435462 \nL 266.446125 91.991894 \nL 267.115725 91.991894 \nL 267.115725 92.435462 \nL 267.785325 92.435462 \nL 267.785325 93.350424 \nL 268.454925 93.350424 \nL 268.454925 92.888177 \nL 269.124525 92.888177 \nL 269.124525 101.79053 \nL 269.794125 101.79053 \nL 269.794125 92.888177 \nL 270.463725 92.888177 \nL 270.463725 95.81998 \nL 271.133325 95.81998 \nL 271.133325 93.822612 \nL 272.472525 93.822612 \nL 272.472525 96.891212 \nL 273.142125 96.891212 \nL 273.142125 93.350424 \nL 273.811725 93.350424 \nL 273.811725 104.722332 \nL 274.481325 104.722332 \nL 274.481325 96.891212 \nL 275.150925 96.891212 \nL 275.150925 92.888177 \nL 275.820525 92.888177 \nL 275.820525 91.991894 \nL 276.490125 91.991894 \nL 276.490125 93.822612 \nL 277.159725 93.822612 \nL 277.159725 99.823014 \nL 277.829325 99.823014 \nL 277.829325 89.899273 \nL 278.498925 89.899273 \nL 278.498925 90.712547 \nL 279.168525 90.712547 \nL 279.168525 92.435462 \nL 279.838125 92.435462 \nL 279.838125 96.891212 \nL 280.507725 96.891212 \nL 280.507725 91.557109 \nL 281.177325 91.557109 \nL 281.177325 93.822612 \nL 281.846925 93.822612 \nL 281.846925 94.798591 \nL 282.516525 94.798591 \nL 282.516525 96.349063 \nL 283.186125 96.349063 \nL 283.186125 92.888177 \nL 283.855725 92.888177 \nL 283.855725 95.81998 \nL 284.525325 95.81998 \nL 284.525325 92.888177 \nL 285.194925 92.888177 \nL 285.194925 92.435462 \nL 285.864525 92.435462 \nL 285.864525 95.81998 \nL 286.534125 95.81998 \nL 286.534125 94.305179 \nL 287.203725 94.305179 \nL 287.203725 91.557109 \nL 287.873325 91.557109 \nL 287.873325 93.350424 \nL 288.542925 93.350424 \nL 288.542925 93.822612 \nL 289.212525 93.822612 \nL 289.212525 92.435462 \nL 289.882125 92.435462 \nL 289.882125 91.130768 \nL 290.551725 91.130768 \nL 290.551725 90.302145 \nL 291.221325 90.302145 \nL 291.221325 92.888177 \nL 291.890925 92.888177 \nL 291.890925 93.350424 \nL 292.560525 93.350424 \nL 292.560525 92.435462 \nL 293.230125 92.435462 \nL 293.230125 91.130768 \nL 293.899725 91.130768 \nL 293.899725 97.447087 \nL 294.569325 97.447087 \nL 294.569325 93.822612 \nL 295.238925 93.822612 \nL 295.238925 92.888177 \nL 295.908525 92.888177 \nL 295.908525 93.350424 \nL 296.578125 93.350424 \nL 296.578125 89.50366 \nL 297.247725 89.50366 \nL 297.247725 87.625944 \nL 297.917325 87.625944 \nL 297.917325 92.888177 \nL 298.586925 92.888177 \nL 298.586925 94.305179 \nL 300.595725 94.305179 \nL 300.595725 95.81998 \nL 301.265325 95.81998 \nL 301.265325 95.303346 \nL 301.934925 95.303346 \nL 301.934925 93.350424 \nL 302.604525 93.350424 \nL 302.604525 97.447087 \nL 303.274125 97.447087 \nL 303.274125 95.303346 \nL 303.943725 95.303346 \nL 303.943725 96.891212 \nL 304.613325 96.891212 \nL 304.613325 91.557109 \nL 305.282925 91.557109 \nL 305.282925 94.305179 \nL 305.952525 94.305179 \nL 305.952525 96.349063 \nL 306.622125 96.349063 \nL 306.622125 101.11491 \nL 307.291725 101.11491 \nL 307.291725 91.991894 \nL 307.961325 91.991894 \nL 307.961325 89.50366 \nL 308.630925 89.50366 \nL 308.630925 98.602928 \nL 309.300525 98.602928 \nL 309.300525 92.435462 \nL 309.970125 92.435462 \nL 309.970125 95.81998 \nL 310.639725 95.81998 \nL 310.639725 94.798591 \nL 311.309325 94.798591 \nL 311.309325 91.991894 \nL 311.978925 91.991894 \nL 311.978925 87.625944 \nL 312.648525 87.625944 \nL 312.648525 96.349063 \nL 313.318125 96.349063 \nL 313.318125 91.557109 \nL 313.987725 91.557109 \nL 313.987725 93.350424 \nL 314.657325 93.350424 \nL 314.657325 94.305179 \nL 315.326925 94.305179 \nL 315.326925 90.302145 \nL 315.996525 90.302145 \nL 315.996525 91.130768 \nL 316.666125 91.130768 \nL 316.666125 98.602928 \nL 317.335725 98.602928 \nL 317.335725 91.991894 \nL 318.005325 91.991894 \nL 318.005325 89.11505 \nL 318.674925 89.11505 \nL 318.674925 86.571858 \nL 319.344525 86.571858 \nL 319.344525 98.017402 \nL 320.014125 98.017402 \nL 320.014125 95.81998 \nL 320.683725 95.81998 \nL 320.683725 95.303346 \nL 321.353325 95.303346 \nL 321.353325 98.602928 \nL 322.022925 98.602928 \nL 322.022925 89.50366 \nL 322.692525 89.50366 \nL 322.692525 90.302145 \nL 323.362125 90.302145 \nL 323.362125 95.303346 \nL 324.031725 95.303346 \nL 324.031725 91.991894 \nL 324.701325 91.991894 \nL 324.701325 93.350424 \nL 325.370925 93.350424 \nL 325.370925 95.81998 \nL 326.040525 95.81998 \nL 326.040525 94.305179 \nL 327.379725 94.305179 \nL 327.379725 93.822612 \nL 328.049325 93.822612 \nL 328.049325 94.798591 \nL 329.388525 94.798591 \nL 329.388525 90.712547 \nL 330.058125 90.712547 \nL 330.058125 90.302145 \nL 330.727725 90.302145 \nL 330.727725 87.98886 \nL 331.397325 87.98886 \nL 331.397325 92.888177 \nL 332.066925 92.888177 \nL 332.066925 93.350424 \nL 332.736525 93.350424 \nL 332.736525 92.435462 \nL 333.406125 92.435462 \nL 333.406125 95.81998 \nL 334.075725 95.81998 \nL 334.075725 94.798591 \nL 334.745325 94.798591 \nL 334.745325 92.435462 \nL 335.414925 92.435462 \nL 335.414925 104.722332 \nL 336.084525 104.722332 \nL 336.084525 266.995469 \nL 336.084525 266.995469 \n\" style=\"fill:none;stroke:#ff7f0e;stroke-linejoin:miter;\"/>\n   </g>\n   <g id=\"patch_5\">\n    <path clip-path=\"url(#pda38df1dec)\" d=\"M 45.478125 266.995469 \nL 45.478125 100.041566 \nL 46.147725 100.041566 \nL 46.147725 100.450853 \nL 46.817325 100.450853 \nL 46.817325 101.319899 \nL 47.486925 101.319899 \nL 47.486925 100.955809 \nL 48.156525 100.955809 \nL 48.156525 102.667763 \nL 48.826125 102.667763 \nL 48.826125 102.020436 \nL 49.495725 102.020436 \nL 49.495725 103.00356 \nL 50.165325 103.00356 \nL 50.165325 101.836319 \nL 50.834925 101.836319 \nL 50.834925 104.308057 \nL 51.504525 104.308057 \nL 51.504525 104.638849 \nL 52.174125 104.638849 \nL 52.174125 103.861206 \nL 52.843725 103.861206 \nL 52.843725 104.236356 \nL 53.513325 104.236356 \nL 53.513325 104.369702 \nL 54.852525 104.379993 \nL 54.852525 106.136545 \nL 55.522125 106.136545 \nL 55.522125 105.596845 \nL 56.191725 105.596845 \nL 56.191725 106.147699 \nL 56.861325 106.147699 \nL 56.861325 106.966026 \nL 57.530925 106.966026 \nL 57.530925 107.105429 \nL 58.870125 107.035617 \nL 58.870125 107.469704 \nL 59.539725 107.469704 \nL 59.539725 107.791977 \nL 60.209325 107.791977 \nL 60.209325 109.015842 \nL 60.878925 109.015842 \nL 60.878925 107.900461 \nL 61.548525 107.900461 \nL 61.548525 109.271592 \nL 62.218125 109.271592 \nL 62.218125 109.792207 \nL 62.887725 109.792207 \nL 62.887725 110.057218 \nL 63.557325 110.057218 \nL 63.557325 110.885841 \nL 64.226925 110.885841 \nL 64.226925 110.74784 \nL 64.896525 110.74784 \nL 64.896525 111.010788 \nL 65.566125 111.010788 \nL 65.566125 111.532063 \nL 66.235725 111.532063 \nL 66.235725 112.613277 \nL 66.905325 112.613277 \nL 66.905325 111.220626 \nL 67.574925 111.220626 \nL 67.574925 113.297791 \nL 68.244525 113.297791 \nL 68.244525 113.845348 \nL 69.583725 113.908804 \nL 69.583725 113.097841 \nL 70.253325 113.097841 \nL 70.253325 114.325803 \nL 70.922925 114.325803 \nL 70.922925 114.212752 \nL 71.592525 114.212752 \nL 71.592525 114.949872 \nL 72.262125 114.949872 \nL 72.262125 115.201182 \nL 72.931725 115.201182 \nL 72.931725 115.69536 \nL 73.601325 115.69536 \nL 73.601325 115.937969 \nL 74.270925 115.937969 \nL 74.270925 117.137652 \nL 74.940525 117.137652 \nL 74.940525 115.353361 \nL 75.610125 115.353361 \nL 75.610125 118.11614 \nL 76.279725 118.11614 \nL 76.279725 117.943636 \nL 76.949325 117.943636 \nL 76.949325 117.009201 \nL 77.618925 117.009201 \nL 77.618925 118.309415 \nL 78.288525 118.309415 \nL 78.288525 118.039304 \nL 78.958125 118.039304 \nL 78.958125 118.820041 \nL 79.627725 118.820041 \nL 79.627725 118.999599 \nL 80.297325 118.999599 \nL 80.297325 120.193373 \nL 80.966925 120.193373 \nL 80.966925 121.2773 \nL 81.636525 121.2773 \nL 81.636525 120.405919 \nL 82.306125 120.405919 \nL 82.306125 121.32179 \nL 82.975725 121.32179 \nL 82.975725 122.44095 \nL 83.645325 122.44095 \nL 83.645325 122.254288 \nL 84.314925 122.254288 \nL 84.314925 122.700228 \nL 84.984525 122.700228 \nL 84.984525 124.196407 \nL 85.654125 124.196407 \nL 85.654125 122.558424 \nL 86.323725 122.558424 \nL 86.323725 124.658113 \nL 86.993325 124.658113 \nL 86.993325 123.203881 \nL 87.662925 123.203881 \nL 87.662925 125.911553 \nL 88.332525 125.911553 \nL 88.332525 125.235934 \nL 89.002125 125.235934 \nL 89.002125 125.856732 \nL 89.671725 125.856732 \nL 89.671725 122.34742 \nL 90.341325 122.34742 \nL 90.341325 124.866475 \nL 91.680525 124.971401 \nL 91.680525 126.807837 \nL 92.350125 126.807837 \nL 92.350125 128.562864 \nL 93.019725 128.562864 \nL 93.019725 126.439298 \nL 93.689325 126.439298 \nL 93.689325 128.316512 \nL 94.358925 128.316512 \nL 94.358925 128.780713 \nL 95.028525 128.780713 \nL 95.028525 127.593619 \nL 95.698125 127.593619 \nL 95.698125 129.609336 \nL 96.367725 129.609336 \nL 96.367725 129.739639 \nL 97.037325 129.739639 \nL 97.037325 127.952091 \nL 97.706925 127.952091 \nL 97.706925 128.347155 \nL 98.376525 128.347155 \nL 98.376525 130.572032 \nL 99.046125 130.572032 \nL 99.046125 132.264496 \nL 99.715725 132.264496 \nL 99.715725 129.936554 \nL 100.385325 129.936554 \nL 100.385325 131.331589 \nL 101.054925 131.331589 \nL 101.054925 131.121817 \nL 101.724525 131.121817 \nL 101.724525 131.900979 \nL 102.394125 131.900979 \nL 102.394125 133.625366 \nL 103.063725 133.625366 \nL 103.063725 132.19131 \nL 103.733325 132.19131 \nL 103.733325 131.191519 \nL 104.402925 131.191519 \nL 104.402925 133.781915 \nL 105.072525 133.781915 \nL 105.072525 133.086071 \nL 105.742125 133.086071 \nL 105.742125 135.667348 \nL 106.411725 135.667348 \nL 106.411725 133.664399 \nL 107.081325 133.664399 \nL 107.081325 137.777095 \nL 107.750925 137.777095 \nL 107.750925 135.412044 \nL 108.420525 135.412044 \nL 108.420525 137.496206 \nL 109.090125 137.496206 \nL 109.090125 136.274862 \nL 109.759725 136.274862 \nL 109.759725 137.035897 \nL 110.429325 137.035897 \nL 110.429325 137.310923 \nL 111.098925 137.310923 \nL 111.098925 135.882393 \nL 112.438125 135.969004 \nL 112.438125 138.398305 \nL 113.107725 138.398305 \nL 113.107725 139.08756 \nL 113.777325 139.08756 \nL 113.777325 138.789512 \nL 114.446925 138.789512 \nL 114.446925 137.73003 \nL 115.116525 137.73003 \nL 115.116525 140.803332 \nL 116.455725 140.803332 \nL 116.455725 141.295514 \nL 117.125325 141.295514 \nL 117.125325 141.075403 \nL 117.794925 141.075403 \nL 117.794925 141.742469 \nL 118.464525 141.742469 \nL 118.464525 142.31427 \nL 119.134125 142.31427 \nL 119.134125 141.6861 \nL 119.803725 141.6861 \nL 119.803725 142.664637 \nL 120.473325 142.664637 \nL 120.473325 142.547226 \nL 121.142925 142.547226 \nL 121.142925 142.664637 \nL 121.812525 142.664637 \nL 121.812525 143.32187 \nL 122.482125 143.32187 \nL 122.482125 143.565827 \nL 123.151725 143.565827 \nL 123.151725 142.198712 \nL 123.821325 142.198712 \nL 123.821325 144.5697 \nL 124.490925 144.5697 \nL 124.490925 143.936921 \nL 125.160525 143.936921 \nL 125.160525 144.763145 \nL 126.499725 144.828008 \nL 126.499725 144.124848 \nL 127.169325 144.124848 \nL 127.169325 145.621681 \nL 128.508525 145.621681 \nL 128.508525 149.118735 \nL 129.178125 149.118735 \nL 129.178125 148.266724 \nL 129.847725 148.266724 \nL 129.847725 148.961344 \nL 130.517325 148.961344 \nL 130.517325 144.187849 \nL 131.186925 144.187849 \nL 131.186925 146.585418 \nL 131.856525 146.585418 \nL 131.856525 147.011759 \nL 132.526125 147.011759 \nL 132.526125 148.649908 \nL 133.195725 148.649908 \nL 133.195725 147.300657 \nL 133.865325 147.300657 \nL 133.865325 148.266724 \nL 134.534925 148.266724 \nL 134.534925 148.961344 \nL 135.204525 148.961344 \nL 135.204525 148.495831 \nL 135.874125 148.495831 \nL 135.874125 151.893147 \nL 136.543725 151.893147 \nL 136.543725 149.197856 \nL 137.213325 149.197856 \nL 137.213325 147.228075 \nL 137.882925 147.228075 \nL 137.882925 148.572734 \nL 138.552525 148.572734 \nL 138.552525 150.843262 \nL 139.222125 150.843262 \nL 139.222125 151.449578 \nL 139.891725 151.449578 \nL 139.891725 148.805074 \nL 140.561325 148.805074 \nL 140.561325 150.67306 \nL 141.230925 150.67306 \nL 141.230925 150.92886 \nL 141.900525 150.92886 \nL 141.900525 149.436942 \nL 142.570125 149.436942 \nL 142.570125 150.504168 \nL 143.909325 150.420207 \nL 143.909325 151.714642 \nL 144.578925 151.714642 \nL 144.578925 153.472052 \nL 145.248525 153.472052 \nL 145.248525 153.185043 \nL 145.918125 153.185043 \nL 145.918125 152.901737 \nL 146.587725 152.901737 \nL 146.587725 154.557734 \nL 147.257325 154.557734 \nL 147.257325 152.437536 \nL 147.926925 152.437536 \nL 147.926925 150.843262 \nL 148.596525 150.843262 \nL 148.596525 150.588452 \nL 149.266125 150.588452 \nL 149.266125 151.893147 \nL 149.935725 151.893147 \nL 149.935725 152.62204 \nL 150.605325 152.62204 \nL 150.605325 151.893147 \nL 151.274925 151.893147 \nL 151.274925 152.163654 \nL 151.944525 152.163654 \nL 151.944525 152.437536 \nL 152.614125 152.437536 \nL 152.614125 154.156701 \nL 153.283725 154.156701 \nL 153.283725 149.436942 \nL 153.953325 149.436942 \nL 153.953325 151.537578 \nL 154.622925 151.537578 \nL 154.622925 152.808108 \nL 155.292525 152.808108 \nL 155.292525 153.185043 \nL 155.962125 153.185043 \nL 155.962125 151.982946 \nL 156.631725 151.982946 \nL 156.631725 152.714877 \nL 157.301325 152.714877 \nL 157.301325 149.197856 \nL 157.970925 149.197856 \nL 157.970925 150.757996 \nL 158.640525 150.757996 \nL 158.640525 149.197856 \nL 159.310125 149.197856 \nL 159.310125 151.625932 \nL 159.979725 151.625932 \nL 159.979725 151.187675 \nL 160.649325 151.187675 \nL 160.649325 152.163654 \nL 161.318925 152.163654 \nL 161.318925 151.187675 \nL 161.988525 151.187675 \nL 161.988525 148.039983 \nL 162.658125 148.039983 \nL 162.658125 147.446544 \nL 163.327725 147.446544 \nL 163.327725 150.087535 \nL 163.997325 150.087535 \nL 163.997325 149.356957 \nL 164.666925 149.356957 \nL 164.666925 151.27463 \nL 165.336525 151.27463 \nL 165.336525 147.011759 \nL 166.006125 147.011759 \nL 166.006125 151.893147 \nL 166.675725 151.893147 \nL 166.675725 145.961037 \nL 167.345325 145.961037 \nL 167.345325 149.277262 \nL 168.014925 149.277262 \nL 168.014925 144.633993 \nL 168.684525 144.633993 \nL 168.684525 147.155733 \nL 169.354125 147.155733 \nL 169.354125 148.342827 \nL 170.023725 148.342827 \nL 170.023725 146.098262 \nL 170.693325 146.098262 \nL 170.693325 148.190883 \nL 171.362925 148.190883 \nL 171.362925 147.011759 \nL 172.032525 147.011759 \nL 172.032525 143.44351 \nL 172.702125 143.44351 \nL 172.702125 146.23635 \nL 173.371725 146.23635 \nL 173.371725 144.893062 \nL 174.041325 144.893062 \nL 174.041325 143.812525 \nL 174.710925 143.812525 \nL 174.710925 146.098262 \nL 175.380525 146.098262 \nL 175.380525 144.314396 \nL 176.050125 144.314396 \nL 176.050125 142.256415 \nL 176.719725 142.256415 \nL 176.719725 144.314396 \nL 177.389325 144.314396 \nL 177.389325 143.936921 \nL 178.058925 143.936921 \nL 178.058925 142.430439 \nL 178.728525 142.430439 \nL 178.728525 139.902722 \nL 179.398125 139.902722 \nL 179.398125 139.38971 \nL 180.067725 139.38971 \nL 180.067725 141.185183 \nL 180.737325 141.185183 \nL 180.737325 138.691054 \nL 182.076525 138.789512 \nL 182.076525 140.96617 \nL 182.746125 140.96617 \nL 182.746125 139.747556 \nL 183.415725 139.747556 \nL 183.415725 137.449738 \nL 184.085325 137.449738 \nL 184.085325 139.339062 \nL 184.754925 139.339062 \nL 184.754925 137.035897 \nL 185.424525 137.035897 \nL 185.424525 137.172979 \nL 186.094125 137.172979 \nL 186.094125 139.542359 \nL 186.763725 139.542359 \nL 186.763725 135.667348 \nL 187.433325 135.667348 \nL 187.433325 137.449738 \nL 188.102925 137.449738 \nL 188.102925 136.899666 \nL 188.772525 136.899666 \nL 188.772525 134.663475 \nL 189.442125 134.663475 \nL 189.442125 135.201535 \nL 190.111725 135.201535 \nL 190.111725 136.187039 \nL 190.781325 136.187039 \nL 190.781325 134.868864 \nL 191.450925 134.868864 \nL 191.450925 134.218271 \nL 192.120525 134.218271 \nL 192.120525 134.868864 \nL 192.790125 134.868864 \nL 192.790125 132.746248 \nL 193.459725 132.746248 \nL 193.459725 131.614438 \nL 194.129325 131.614438 \nL 194.129325 132.972211 \nL 194.798925 132.972211 \nL 194.798925 132.858939 \nL 195.468525 132.858939 \nL 195.468525 131.793088 \nL 196.807725 131.828993 \nL 196.807725 131.15664 \nL 197.477325 131.15664 \nL 197.477325 130.879591 \nL 198.816525 130.776592 \nL 198.816525 130.235278 \nL 199.486125 130.235278 \nL 199.486125 130.10201 \nL 200.155725 130.10201 \nL 200.155725 130.235278 \nL 200.825325 130.235278 \nL 200.825325 129.03236 \nL 201.494925 129.03236 \nL 201.494925 128.780713 \nL 202.164525 128.780713 \nL 202.164525 127.921993 \nL 203.503725 127.982229 \nL 203.503725 127.772123 \nL 204.173325 127.772123 \nL 204.173325 128.562864 \nL 204.842925 128.562864 \nL 204.842925 128.072894 \nL 205.512525 128.072894 \nL 205.512525 127.124583 \nL 206.182125 127.124583 \nL 206.182125 127.008873 \nL 206.851725 127.008873 \nL 206.851725 124.247231 \nL 207.521325 124.247231 \nL 207.521325 126.383145 \nL 208.190925 126.383145 \nL 208.190925 126.922489 \nL 208.860525 126.922489 \nL 208.860525 125.289225 \nL 209.530125 125.289225 \nL 209.530125 124.971401 \nL 210.199725 124.971401 \nL 210.199725 124.400412 \nL 210.869325 124.400412 \nL 210.869325 124.221804 \nL 211.538925 124.221804 \nL 211.538925 124.632207 \nL 212.208525 124.632207 \nL 212.208525 125.638805 \nL 212.878125 125.638805 \nL 212.878125 123.620235 \nL 213.547725 123.620235 \nL 213.547725 124.477405 \nL 214.217325 124.477405 \nL 214.217325 123.32552 \nL 214.886925 123.32552 \nL 214.886925 124.095111 \nL 215.556525 124.095111 \nL 215.556525 122.231067 \nL 216.226125 122.231067 \nL 216.226125 123.301138 \nL 216.895725 123.301138 \nL 216.895725 122.277534 \nL 218.234925 122.231067 \nL 218.234925 123.058797 \nL 218.904525 123.058797 \nL 218.904525 121.771721 \nL 219.574125 121.771721 \nL 219.574125 121.908519 \nL 220.243725 121.908519 \nL 220.243725 121.658371 \nL 220.913325 121.658371 \nL 220.913325 121.478219 \nL 221.582925 121.478219 \nL 221.582925 121.32179 \nL 222.252525 121.32179 \nL 222.252525 121.12229 \nL 222.922125 121.12229 \nL 222.922125 121.977238 \nL 223.591725 121.977238 \nL 223.591725 120.728648 \nL 224.261325 120.728648 \nL 224.261325 121.703641 \nL 224.930925 121.703641 \nL 224.930925 120.108927 \nL 226.270125 120.045805 \nL 226.270125 122.000193 \nL 226.939725 122.000193 \nL 226.939725 120.859079 \nL 227.609325 120.859079 \nL 227.609325 119.836699 \nL 228.278925 119.836699 \nL 228.278925 120.151109 \nL 228.948525 120.151109 \nL 228.948525 120.663721 \nL 229.618125 120.663721 \nL 229.618125 122.115326 \nL 230.287725 122.115326 \nL 230.287725 121.255088 \nL 230.957325 121.255088 \nL 230.957325 122.300805 \nL 231.626925 122.300805 \nL 231.626925 119.322486 \nL 232.296525 119.322486 \nL 232.296525 120.214535 \nL 233.635725 120.108927 \nL 233.635725 118.270624 \nL 234.305325 118.270624 \nL 234.305325 120.470087 \nL 235.644525 120.363245 \nL 235.644525 120.003824 \nL 236.314125 120.003824 \nL 236.314125 120.130008 \nL 236.983725 120.130008 \nL 236.983725 120.405919 \nL 237.653325 120.405919 \nL 237.653325 120.087866 \nL 238.992525 120.003824 \nL 238.992525 119.941003 \nL 239.662125 119.941003 \nL 239.662125 120.728648 \nL 240.331725 120.728648 \nL 240.331725 119.444803 \nL 241.670925 119.485728 \nL 241.670925 121.188589 \nL 242.340525 121.188589 \nL 242.340525 120.946466 \nL 243.010125 120.946466 \nL 243.010125 119.85752 \nL 243.679725 119.85752 \nL 243.679725 119.403955 \nL 244.349325 119.403955 \nL 244.349325 119.221073 \nL 245.018925 119.221073 \nL 245.018925 120.491517 \nL 246.358125 120.405919 \nL 246.358125 119.815898 \nL 247.027725 119.815898 \nL 247.027725 119.670837 \nL 247.697325 119.670837 \nL 247.697325 120.880893 \nL 249.036525 120.772039 \nL 249.036525 120.427288 \nL 249.706125 120.427288 \nL 249.706125 120.598987 \nL 250.375725 120.598987 \nL 250.375725 120.256921 \nL 251.045325 120.256921 \nL 251.045325 119.261582 \nL 251.714925 119.261582 \nL 251.714925 121.255088 \nL 252.384525 121.255088 \nL 252.384525 120.577451 \nL 253.054125 120.577451 \nL 253.054125 122.254288 \nL 253.723725 122.254288 \nL 253.723725 121.908519 \nL 254.393325 121.908519 \nL 254.393325 121.478219 \nL 255.062925 121.478219 \nL 255.062925 121.726311 \nL 255.732525 121.726311 \nL 255.732525 120.902729 \nL 256.402125 120.902729 \nL 256.402125 122.511359 \nL 257.071725 122.511359 \nL 257.071725 121.817226 \nL 257.741325 121.817226 \nL 257.741325 122.771475 \nL 259.080525 122.866832 \nL 259.080525 123.447838 \nL 259.750125 123.447838 \nL 259.750125 124.736017 \nL 260.419725 124.736017 \nL 260.419725 123.42332 \nL 261.089325 123.42332 \nL 261.089325 123.179633 \nL 261.758925 123.179633 \nL 261.758925 124.840321 \nL 262.428525 124.840321 \nL 262.428525 124.019444 \nL 263.098125 124.019444 \nL 263.098125 124.918875 \nL 263.767725 124.918875 \nL 263.767725 125.129738 \nL 264.437325 125.129738 \nL 264.437325 125.557637 \nL 265.106925 125.557637 \nL 265.106925 125.050427 \nL 265.776525 125.050427 \nL 265.776525 124.019444 \nL 266.446125 124.019444 \nL 266.446125 125.076832 \nL 267.115725 125.076832 \nL 267.115725 124.451711 \nL 267.785325 124.451711 \nL 267.785325 126.411203 \nL 268.454925 126.411203 \nL 268.454925 126.722239 \nL 269.124525 126.722239 \nL 269.124525 126.439298 \nL 269.794125 126.439298 \nL 269.794125 127.802015 \nL 270.463725 127.802015 \nL 270.463725 127.445966 \nL 271.133325 127.445966 \nL 271.133325 126.355122 \nL 271.802925 126.355122 \nL 271.802925 127.534439 \nL 272.472525 127.534439 \nL 272.472525 127.861922 \nL 273.142125 127.861922 \nL 273.142125 130.40301 \nL 273.811725 130.40301 \nL 273.811725 130.845204 \nL 274.481325 130.845204 \nL 274.481325 130.43671 \nL 275.150925 130.43671 \nL 275.150925 130.201885 \nL 275.820525 130.201885 \nL 275.820525 129.512115 \nL 276.490125 129.512115 \nL 276.490125 129.674391 \nL 277.159725 129.674391 \nL 277.159725 130.40301 \nL 277.829325 130.40301 \nL 277.829325 130.879591 \nL 278.498925 130.879591 \nL 278.498925 131.507942 \nL 279.168525 131.507942 \nL 279.168525 132.337927 \nL 279.838125 132.337927 \nL 279.838125 133.431237 \nL 280.507725 133.431237 \nL 280.507725 132.783748 \nL 281.177325 132.783748 \nL 281.177325 133.939588 \nL 281.846925 133.939588 \nL 281.846925 133.508683 \nL 282.516525 133.508683 \nL 282.516525 135.581916 \nL 283.186125 135.581916 \nL 283.186125 134.018852 \nL 283.855725 134.018852 \nL 283.855725 135.285497 \nL 284.525325 135.285497 \nL 284.525325 134.95156 \nL 285.194925 134.95156 \nL 285.194925 134.786477 \nL 285.864525 134.786477 \nL 285.864525 136.012438 \nL 286.534125 136.012438 \nL 286.534125 135.285497 \nL 287.203725 135.285497 \nL 287.203725 136.899666 \nL 287.873325 136.899666 \nL 287.873325 137.035897 \nL 288.542925 137.035897 \nL 288.542925 140.32194 \nL 289.882125 140.32194 \nL 289.882125 139.593479 \nL 290.551725 139.593479 \nL 290.551725 138.495455 \nL 291.221325 138.495455 \nL 291.221325 140.058992 \nL 291.890925 140.058992 \nL 291.890925 139.491358 \nL 292.560525 139.491358 \nL 292.560525 141.742469 \nL 293.230125 141.742469 \nL 293.230125 141.855644 \nL 293.899725 141.855644 \nL 293.899725 143.140665 \nL 294.569325 143.140665 \nL 294.569325 143.75059 \nL 295.238925 143.75059 \nL 295.238925 144.251031 \nL 295.908525 144.251031 \nL 295.908525 144.698474 \nL 296.578125 144.698474 \nL 296.578125 146.445124 \nL 297.247725 146.445124 \nL 297.247725 143.382606 \nL 297.917325 143.382606 \nL 297.917325 143.261302 \nL 298.586925 143.261302 \nL 298.586925 145.023753 \nL 299.256525 145.023753 \nL 299.256525 145.961037 \nL 299.926125 145.961037 \nL 299.926125 147.519852 \nL 300.595725 147.519852 \nL 300.595725 147.890112 \nL 301.265325 147.890112 \nL 301.265325 148.961344 \nL 301.934925 148.961344 \nL 301.934925 148.572734 \nL 302.604525 148.572734 \nL 302.604525 150.420207 \nL 303.274125 150.420207 \nL 303.274125 147.300657 \nL 303.943725 147.300657 \nL 303.943725 152.808108 \nL 304.613325 152.808108 \nL 304.613325 150.005149 \nL 305.282925 150.005149 \nL 305.282925 153.568562 \nL 305.952525 153.568562 \nL 305.952525 152.995767 \nL 306.622125 152.995767 \nL 306.622125 155.17336 \nL 307.291725 155.17336 \nL 307.291725 156.130427 \nL 307.961325 156.130427 \nL 307.961325 153.568562 \nL 308.630925 153.568562 \nL 308.630925 155.382465 \nL 309.300525 155.382465 \nL 309.300525 156.56956 \nL 309.970125 156.56956 \nL 309.970125 159.280698 \nL 310.639725 159.280698 \nL 310.639725 158.540541 \nL 311.309325 158.540541 \nL 311.309325 156.458951 \nL 311.978925 156.458951 \nL 311.978925 159.788372 \nL 312.648525 159.788372 \nL 312.648525 162.230431 \nL 313.318125 162.230431 \nL 313.318125 157.475086 \nL 313.987725 157.475086 \nL 313.987725 162.812078 \nL 314.657325 162.812078 \nL 314.657325 163.258654 \nL 315.326925 163.258654 \nL 315.326925 164.816463 \nL 315.996525 164.816463 \nL 315.996525 164.495934 \nL 316.666125 164.495934 \nL 316.666125 170.496335 \nL 317.335725 170.496335 \nL 317.335725 164.9785 \nL 318.005325 164.9785 \nL 318.005325 165.976668 \nL 318.674925 165.976668 \nL 318.674925 165.807123 \nL 319.344525 165.807123 \nL 319.344525 168.884169 \nL 320.014125 168.884169 \nL 320.014125 166.844603 \nL 320.683725 166.844603 \nL 320.683725 172.236327 \nL 321.353325 172.236327 \nL 321.353325 168.690724 \nL 322.022925 168.690724 \nL 322.022925 169.079334 \nL 322.692525 169.079334 \nL 322.692525 173.638243 \nL 323.362125 173.638243 \nL 323.362125 173.880852 \nL 324.031725 173.880852 \nL 324.031725 170.082061 \nL 324.701325 170.082061 \nL 324.701325 181.025795 \nL 325.370925 181.025795 \nL 325.370925 173.638243 \nL 326.040525 173.638243 \nL 326.040525 176.466885 \nL 326.710125 176.466885 \nL 326.710125 174.374264 \nL 327.379725 174.374264 \nL 327.379725 182.063274 \nL 328.049325 182.063274 \nL 328.049325 177.593076 \nL 328.718925 177.593076 \nL 328.718925 185.09649 \nL 329.388525 185.09649 \nL 329.388525 181.711972 \nL 330.058125 181.711972 \nL 330.058125 182.420289 \nL 330.727725 182.420289 \nL 330.727725 176.466885 \nL 331.397325 176.466885 \nL 331.397325 183.527544 \nL 332.066925 183.527544 \nL 332.066925 182.783205 \nL 332.736525 182.783205 \nL 332.736525 188.144769 \nL 333.406125 188.144769 \nL 333.406125 188.616957 \nL 334.075725 188.616957 \nL 334.075725 185.506892 \nL 334.745325 185.506892 \nL 334.745325 187.682522 \nL 335.414925 187.682522 \nL 335.414925 188.616957 \nL 336.084525 188.616957 \nL 336.084525 190.097691 \nL 336.754125 190.097691 \nL 336.754125 187.229807 \nL 337.423725 187.229807 \nL 337.423725 190.097691 \nL 338.093325 190.097691 \nL 338.093325 192.811747 \nL 338.762925 192.811747 \nL 338.762925 186.786239 \nL 339.432525 186.786239 \nL 339.432525 191.685557 \nL 340.102125 191.685557 \nL 340.102125 202.00491 \nL 340.771725 202.00491 \nL 340.771725 198.746215 \nL 341.441325 198.746215 \nL 341.441325 195.909255 \nL 342.110925 195.909255 \nL 342.110925 197.281946 \nL 342.780525 197.281946 \nL 342.780525 205.832996 \nL 343.450125 205.832996 \nL 343.450125 198.001876 \nL 344.119725 198.001876 \nL 344.119725 200.315161 \nL 344.789325 200.315161 \nL 344.789325 202.00491 \nL 345.458925 202.00491 \nL 345.458925 200.315161 \nL 346.128525 200.315161 \nL 346.128525 208.030419 \nL 347.467725 208.030419 \nL 347.467725 203.835629 \nL 348.137325 203.835629 \nL 348.137325 216.362455 \nL 348.806925 216.362455 \nL 348.806925 202.00491 \nL 349.476525 202.00491 \nL 349.476525 209.217513 \nL 350.146125 209.217513 \nL 350.146125 218.119865 \nL 350.815725 218.119865 \nL 350.815725 213.220547 \nL 351.485325 213.220547 \nL 351.485325 216.362455 \nL 352.154925 216.362455 \nL 352.154925 213.220547 \nL 352.824525 213.220547 \nL 352.824525 216.362455 \nL 353.494125 216.362455 \nL 353.494125 220.030278 \nL 354.163725 220.030278 \nL 354.163725 218.119865 \nL 354.833325 218.119865 \nL 354.833325 220.030278 \nL 355.502925 220.030278 \nL 355.502925 214.735348 \nL 356.172525 214.735348 \nL 356.172525 220.030278 \nL 356.842125 220.030278 \nL 356.842125 216.362455 \nL 357.511725 216.362455 \nL 357.511725 222.122899 \nL 358.181325 222.122899 \nL 358.181325 218.119865 \nL 359.520525 218.119865 \nL 359.520525 242.240889 \nL 360.190125 242.240889 \nL 360.190125 224.436185 \nL 361.529325 224.436185 \nL 361.529325 216.362455 \nL 362.198925 216.362455 \nL 362.198925 248.557208 \nL 362.868525 248.557208 \nL 362.868525 237.341571 \nL 363.538125 237.341571 \nL 363.538125 257.45956 \nL 364.207725 257.45956 \nL 364.207725 237.341571 \nL 364.877325 237.341571 \nL 364.877325 242.240889 \nL 365.546925 242.240889 \nL 365.546925 237.341571 \nL 366.216525 237.341571 \nL 366.216525 233.338537 \nL 366.886125 233.338537 \nL 366.886125 257.45956 \nL 367.555725 257.45956 \nL 367.555725 233.338537 \nL 368.894925 233.338537 \nL 368.894925 242.240889 \nL 370.234125 242.240889 \nL 370.234125 257.45956 \nL 370.903725 257.45956 \nL 370.903725 242.240889 \nL 371.573325 242.240889 \nL 371.573325 266.995469 \nM 372.242925 266.995469 \nL 372.242925 233.338537 \nL 372.912525 233.338537 \nL 372.912525 248.557208 \nL 373.582125 248.557208 \nL 373.582125 229.954019 \nL 374.251725 229.954019 \nL 374.251725 233.338537 \nL 374.921325 233.338537 \nL 374.921325 242.240889 \nL 375.590925 242.240889 \nL 375.590925 266.995469 \nM 376.260525 266.995469 \nL 376.260525 248.557208 \nL 376.930125 248.557208 \nL 376.930125 257.45956 \nL 378.269325 257.45956 \nL 378.269325 266.995469 \nM 378.938925 266.995469 \nL 378.938925 257.45956 \nL 379.608525 257.45956 \nL 379.608525 266.995469 \nL 379.608525 266.995469 \n\" style=\"fill:none;stroke:#2ca02c;stroke-linejoin:miter;\"/>\n   </g>\n   <g id=\"patch_6\">\n    <path d=\"M 45.478125 228.439219 \nL 45.478125 10.999219 \n\" style=\"fill:none;stroke:#000000;stroke-linecap:square;stroke-linejoin:miter;stroke-width:0.8;\"/>\n   </g>\n   <g id=\"patch_7\">\n    <path d=\"M 380.278125 228.439219 \nL 380.278125 10.999219 \n\" style=\"fill:none;stroke:#000000;stroke-linecap:square;stroke-linejoin:miter;stroke-width:0.8;\"/>\n   </g>\n   <g id=\"patch_8\">\n    <path d=\"M 45.478125 228.439219 \nL 380.278125 228.439219 \n\" style=\"fill:none;stroke:#000000;stroke-linecap:square;stroke-linejoin:miter;stroke-width:0.8;\"/>\n   </g>\n   <g id=\"patch_9\">\n    <path d=\"M 45.478125 10.999219 \nL 380.278125 10.999219 \n\" style=\"fill:none;stroke:#000000;stroke-linecap:square;stroke-linejoin:miter;stroke-width:0.8;\"/>\n   </g>\n   <g id=\"legend_1\">\n    <g id=\"patch_10\">\n     <path d=\"M 273.3375 63.033594 \nL 373.278125 63.033594 \nQ 375.278125 63.033594 375.278125 61.033594 \nL 375.278125 17.999219 \nQ 375.278125 15.999219 373.278125 15.999219 \nL 273.3375 15.999219 \nQ 271.3375 15.999219 271.3375 17.999219 \nL 271.3375 61.033594 \nQ 271.3375 63.033594 273.3375 63.033594 \nz\n\" style=\"fill:#ffffff;opacity:0.8;stroke:#cccccc;stroke-linejoin:miter;\"/>\n    </g>\n    <g id=\"patch_11\">\n     <path d=\"M 275.3375 27.597656 \nL 295.3375 27.597656 \nL 295.3375 20.597656 \nL 275.3375 20.597656 \nz\n\" style=\"fill:none;stroke:#1f77b4;stroke-linejoin:miter;\"/>\n    </g>\n    <g id=\"text_17\">\n     <!-- Experiment A -->\n     <g transform=\"translate(303.3375 27.597656)scale(0.1 -0.1)\">\n      <defs>\n       <path d=\"M 54.890625 54.6875 \nL 35.109375 28.078125 \nL 55.90625 0 \nL 45.3125 0 \nL 29.390625 21.484375 \nL 13.484375 0 \nL 2.875 0 \nL 24.125 28.609375 \nL 4.6875 54.6875 \nL 15.28125 54.6875 \nL 29.78125 35.203125 \nL 44.28125 54.6875 \nz\n\" id=\"DejaVuSans-120\"/>\n       <path d=\"M 18.109375 8.203125 \nL 18.109375 -20.796875 \nL 9.078125 -20.796875 \nL 9.078125 54.6875 \nL 18.109375 54.6875 \nL 18.109375 46.390625 \nQ 20.953125 51.265625 25.265625 53.625 \nQ 29.59375 56 35.59375 56 \nQ 45.5625 56 51.78125 48.09375 \nQ 58.015625 40.1875 58.015625 27.296875 \nQ 58.015625 14.40625 51.78125 6.484375 \nQ 45.5625 -1.421875 35.59375 -1.421875 \nQ 29.59375 -1.421875 25.265625 0.953125 \nQ 20.953125 3.328125 18.109375 8.203125 \nz\nM 48.6875 27.296875 \nQ 48.6875 37.203125 44.609375 42.84375 \nQ 40.53125 48.484375 33.40625 48.484375 \nQ 26.265625 48.484375 22.1875 42.84375 \nQ 18.109375 37.203125 18.109375 27.296875 \nQ 18.109375 17.390625 22.1875 11.75 \nQ 26.265625 6.109375 33.40625 6.109375 \nQ 40.53125 6.109375 44.609375 11.75 \nQ 48.6875 17.390625 48.6875 27.296875 \nz\n\" id=\"DejaVuSans-112\"/>\n       <path d=\"M 9.421875 54.6875 \nL 18.40625 54.6875 \nL 18.40625 0 \nL 9.421875 0 \nz\nM 9.421875 75.984375 \nL 18.40625 75.984375 \nL 18.40625 64.59375 \nL 9.421875 64.59375 \nz\n\" id=\"DejaVuSans-105\"/>\n       <path d=\"M 52 44.1875 \nQ 55.375 50.25 60.0625 53.125 \nQ 64.75 56 71.09375 56 \nQ 79.640625 56 84.28125 50.015625 \nQ 88.921875 44.046875 88.921875 33.015625 \nL 88.921875 0 \nL 79.890625 0 \nL 79.890625 32.71875 \nQ 79.890625 40.578125 77.09375 44.375 \nQ 74.3125 48.1875 68.609375 48.1875 \nQ 61.625 48.1875 57.5625 43.546875 \nQ 53.515625 38.921875 53.515625 30.90625 \nL 53.515625 0 \nL 44.484375 0 \nL 44.484375 32.71875 \nQ 44.484375 40.625 41.703125 44.40625 \nQ 38.921875 48.1875 33.109375 48.1875 \nQ 26.21875 48.1875 22.15625 43.53125 \nQ 18.109375 38.875 18.109375 30.90625 \nL 18.109375 0 \nL 9.078125 0 \nL 9.078125 54.6875 \nL 18.109375 54.6875 \nL 18.109375 46.1875 \nQ 21.1875 51.21875 25.484375 53.609375 \nQ 29.78125 56 35.6875 56 \nQ 41.65625 56 45.828125 52.96875 \nQ 50 49.953125 52 44.1875 \nz\n\" id=\"DejaVuSans-109\"/>\n       <path d=\"M 34.1875 63.1875 \nL 20.796875 26.90625 \nL 47.609375 26.90625 \nz\nM 28.609375 72.90625 \nL 39.796875 72.90625 \nL 67.578125 0 \nL 57.328125 0 \nL 50.6875 18.703125 \nL 17.828125 18.703125 \nL 11.1875 0 \nL 0.78125 0 \nz\n\" id=\"DejaVuSans-65\"/>\n      </defs>\n      <use xlink:href=\"#DejaVuSans-69\"/>\n      <use x=\"63.183594\" xlink:href=\"#DejaVuSans-120\"/>\n      <use x=\"122.363281\" xlink:href=\"#DejaVuSans-112\"/>\n      <use x=\"185.839844\" xlink:href=\"#DejaVuSans-101\"/>\n      <use x=\"247.363281\" xlink:href=\"#DejaVuSans-114\"/>\n      <use x=\"288.476562\" xlink:href=\"#DejaVuSans-105\"/>\n      <use x=\"316.259766\" xlink:href=\"#DejaVuSans-109\"/>\n      <use x=\"413.671875\" xlink:href=\"#DejaVuSans-101\"/>\n      <use x=\"475.195312\" xlink:href=\"#DejaVuSans-110\"/>\n      <use x=\"538.574219\" xlink:href=\"#DejaVuSans-116\"/>\n      <use x=\"577.783203\" xlink:href=\"#DejaVuSans-32\"/>\n      <use x=\"609.570312\" xlink:href=\"#DejaVuSans-65\"/>\n     </g>\n    </g>\n    <g id=\"patch_12\">\n     <path d=\"M 275.3375 42.275781 \nL 295.3375 42.275781 \nL 295.3375 35.275781 \nL 275.3375 35.275781 \nz\n\" style=\"fill:none;stroke:#ff7f0e;stroke-linejoin:miter;\"/>\n    </g>\n    <g id=\"text_18\">\n     <!-- Experiment B -->\n     <g transform=\"translate(303.3375 42.275781)scale(0.1 -0.1)\">\n      <defs>\n       <path d=\"M 19.671875 34.8125 \nL 19.671875 8.109375 \nL 35.5 8.109375 \nQ 43.453125 8.109375 47.28125 11.40625 \nQ 51.125 14.703125 51.125 21.484375 \nQ 51.125 28.328125 47.28125 31.5625 \nQ 43.453125 34.8125 35.5 34.8125 \nz\nM 19.671875 64.796875 \nL 19.671875 42.828125 \nL 34.28125 42.828125 \nQ 41.5 42.828125 45.03125 45.53125 \nQ 48.578125 48.25 48.578125 53.8125 \nQ 48.578125 59.328125 45.03125 62.0625 \nQ 41.5 64.796875 34.28125 64.796875 \nz\nM 9.8125 72.90625 \nL 35.015625 72.90625 \nQ 46.296875 72.90625 52.390625 68.21875 \nQ 58.5 63.53125 58.5 54.890625 \nQ 58.5 48.1875 55.375 44.234375 \nQ 52.25 40.28125 46.1875 39.3125 \nQ 53.46875 37.75 57.5 32.78125 \nQ 61.53125 27.828125 61.53125 20.40625 \nQ 61.53125 10.640625 54.890625 5.3125 \nQ 48.25 0 35.984375 0 \nL 9.8125 0 \nz\n\" id=\"DejaVuSans-66\"/>\n      </defs>\n      <use xlink:href=\"#DejaVuSans-69\"/>\n      <use x=\"63.183594\" xlink:href=\"#DejaVuSans-120\"/>\n      <use x=\"122.363281\" xlink:href=\"#DejaVuSans-112\"/>\n      <use x=\"185.839844\" xlink:href=\"#DejaVuSans-101\"/>\n      <use x=\"247.363281\" xlink:href=\"#DejaVuSans-114\"/>\n      <use x=\"288.476562\" xlink:href=\"#DejaVuSans-105\"/>\n      <use x=\"316.259766\" xlink:href=\"#DejaVuSans-109\"/>\n      <use x=\"413.671875\" xlink:href=\"#DejaVuSans-101\"/>\n      <use x=\"475.195312\" xlink:href=\"#DejaVuSans-110\"/>\n      <use x=\"538.574219\" xlink:href=\"#DejaVuSans-116\"/>\n      <use x=\"577.783203\" xlink:href=\"#DejaVuSans-32\"/>\n      <use x=\"609.570312\" xlink:href=\"#DejaVuSans-66\"/>\n     </g>\n    </g>\n    <g id=\"patch_13\">\n     <path d=\"M 275.3375 56.953906 \nL 295.3375 56.953906 \nL 295.3375 49.953906 \nL 275.3375 49.953906 \nz\n\" style=\"fill:none;stroke:#2ca02c;stroke-linejoin:miter;\"/>\n    </g>\n    <g id=\"text_19\">\n     <!-- Experiment C -->\n     <g transform=\"translate(303.3375 56.953906)scale(0.1 -0.1)\">\n      <use xlink:href=\"#DejaVuSans-69\"/>\n      <use x=\"63.183594\" xlink:href=\"#DejaVuSans-120\"/>\n      <use x=\"122.363281\" xlink:href=\"#DejaVuSans-112\"/>\n      <use x=\"185.839844\" xlink:href=\"#DejaVuSans-101\"/>\n      <use x=\"247.363281\" xlink:href=\"#DejaVuSans-114\"/>\n      <use x=\"288.476562\" xlink:href=\"#DejaVuSans-105\"/>\n      <use x=\"316.259766\" xlink:href=\"#DejaVuSans-109\"/>\n      <use x=\"413.671875\" xlink:href=\"#DejaVuSans-101\"/>\n      <use x=\"475.195312\" xlink:href=\"#DejaVuSans-110\"/>\n      <use x=\"538.574219\" xlink:href=\"#DejaVuSans-116\"/>\n      <use x=\"577.783203\" xlink:href=\"#DejaVuSans-32\"/>\n      <use x=\"609.570312\" xlink:href=\"#DejaVuSans-67\"/>\n     </g>\n    </g>\n   </g>\n  </g>\n </g>\n <defs>\n  <clipPath id=\"pda38df1dec\">\n   <rect height=\"217.44\" width=\"334.8\" x=\"45.478125\" y=\"10.999219\"/>\n  </clipPath>\n </defs>\n</svg>\n",
          "text/plain": "<Figure size 432x288 with 1 Axes>"
         },
         "metadata": {
          "needs_background": "light"
         },
         "output_type": "display_data"
        }
       ]
      }
     },
     "ee1a9a3d5720439781a60c116f02a4bc": {
      "model_module": "@jupyter-widgets/base",
      "model_module_version": "1.2.0",
      "model_name": "LayoutModel",
      "state": {}
     },
     "ee315f7d651347b490e79e434b747efe": {
      "model_module": "@jupyter-widgets/controls",
      "model_module_version": "1.5.0",
      "model_name": "CheckboxModel",
      "state": {
       "description": "Plot Experiment A",
       "disabled": false,
       "layout": "IPY_MODEL_aa281a6982b947ae9efdc086f03f51d6",
       "style": "IPY_MODEL_dc13ee4ce4e543e38438d5cef466f7c4",
       "value": true
      }
     },
     "ee56356d5a6b459d90ae0b2e70f68595": {
      "model_module": "@jupyter-widgets/controls",
      "model_module_version": "1.5.0",
      "model_name": "VBoxModel",
      "state": {
       "_dom_classes": [
        "widget-interact"
       ],
       "children": [
        "IPY_MODEL_088ae161f3d54f3ead43d093bdaa80ba",
        "IPY_MODEL_42233d1a210e42a790a59daf6ad8056b",
        "IPY_MODEL_17e700cb52e04e8695878889d23605ab",
        "IPY_MODEL_7db18e87572045a6a98aeb89663c0612",
        "IPY_MODEL_4ae47c52503349b88a65dfa3c1cafd0f",
        "IPY_MODEL_cb47fe2ae35a413d87d9817c522f7e12",
        "IPY_MODEL_f158576152c248db9e9a3bde347cd94d",
        "IPY_MODEL_f5baa71b3fc14adc94ba5faea7b3cddb"
       ],
       "layout": "IPY_MODEL_d1797ac77e184943a952458fef25ea57"
      }
     },
     "ef856bea9ca540b292495681ea764273": {
      "model_module": "@jupyter-widgets/base",
      "model_module_version": "1.2.0",
      "model_name": "LayoutModel",
      "state": {}
     },
     "f0009173c4c14656b0ed54f906705277": {
      "model_module": "@jupyter-widgets/base",
      "model_module_version": "1.2.0",
      "model_name": "LayoutModel",
      "state": {}
     },
     "f006fee525494820819d7da75e4243cc": {
      "model_module": "@jupyter-widgets/controls",
      "model_module_version": "1.5.0",
      "model_name": "CheckboxModel",
      "state": {
       "description": "Plot Experiment B",
       "disabled": false,
       "layout": "IPY_MODEL_e21ce54e6a6f4c27829a71e5d9e69aad",
       "style": "IPY_MODEL_686d861ce81b4d209127906df3ff7dc2",
       "value": true
      }
     },
     "f04fa3d798b54142beb8b9b726726948": {
      "model_module": "@jupyter-widgets/controls",
      "model_module_version": "1.5.0",
      "model_name": "FloatLogSliderModel",
      "state": {
       "description": "y_upper_bound",
       "layout": "IPY_MODEL_f186518929304905b45f28fb3cd67072",
       "max": 5,
       "min": -1,
       "style": "IPY_MODEL_5bb99449b3334809b6533b3b9d3a1132",
       "value": 10000
      }
     },
     "f05af35043cb475fb5eb5bb72f9cd77b": {
      "model_module": "@jupyter-widgets/base",
      "model_module_version": "1.2.0",
      "model_name": "LayoutModel",
      "state": {}
     },
     "f158576152c248db9e9a3bde347cd94d": {
      "model_module": "@jupyter-widgets/controls",
      "model_module_version": "1.5.0",
      "model_name": "DropdownModel",
      "state": {
       "_options_labels": [
        "linear",
        "log"
       ],
       "description": "Scale: ",
       "index": 0,
       "layout": "IPY_MODEL_aee20e56712947c49d0f1aa227d2ca2b",
       "style": "IPY_MODEL_2d33385cfc6a448491d36c1f3e5e2157"
      }
     },
     "f186518929304905b45f28fb3cd67072": {
      "model_module": "@jupyter-widgets/base",
      "model_module_version": "1.2.0",
      "model_name": "LayoutModel",
      "state": {}
     },
     "f193ebfb14914a40817ebeacac69b212": {
      "model_module": "@jupyter-widgets/base",
      "model_module_version": "1.2.0",
      "model_name": "LayoutModel",
      "state": {}
     },
     "f1aa6e3980a048be97063477d51a0038": {
      "model_module": "@jupyter-widgets/controls",
      "model_module_version": "1.5.0",
      "model_name": "IntSliderModel",
      "state": {
       "layout": "IPY_MODEL_14e705762f3a4b7a8dee59668b32c3df",
       "max": 2000,
       "min": 20,
       "style": "IPY_MODEL_4113b27b14a241738f7390635729acb3",
       "value": 500
      }
     },
     "f2014f92e35143029ec27717e80b8f41": {
      "model_module": "@jupyter-widgets/controls",
      "model_module_version": "1.5.0",
      "model_name": "FloatSliderModel",
      "state": {
       "layout": "IPY_MODEL_4afeba19a5ce452885179b8928076dba",
       "max": 100000,
       "min": 0.5,
       "step": 0.1,
       "style": "IPY_MODEL_dd89e1cf239646de8429006f2137d0e1",
       "value": 3162.2776601683795
      }
     },
     "f257a1dee0584c879eabfe42edc08e6b": {
      "model_module": "@jupyter-widgets/controls",
      "model_module_version": "1.5.0",
      "model_name": "DropdownModel",
      "state": {
       "_options_labels": [
        "linear",
        "log"
       ],
       "description": "Scale: ",
       "index": 0,
       "layout": "IPY_MODEL_f193ebfb14914a40817ebeacac69b212",
       "style": "IPY_MODEL_d6ec672f2706449ebec55199e667f60d"
      }
     },
     "f3614a372f7149aabd3c90c90c404fc3": {
      "model_module": "@jupyter-widgets/controls",
      "model_module_version": "1.5.0",
      "model_name": "FloatRangeSliderModel",
      "state": {
       "_model_name": "FloatRangeSliderModel",
       "_view_name": "FloatRangeSliderView",
       "description": "x_range",
       "layout": "IPY_MODEL_719d69bc2b5848f48375766ef5c9eb88",
       "max": 20,
       "step": 0.1,
       "style": "IPY_MODEL_595938c895474a6bbb3905f811284ca2",
       "value": [
        0,
        20
       ]
      }
     },
     "f3ad5b68175f49838a83e9476e8c9bfb": {
      "model_module": "@jupyter-widgets/controls",
      "model_module_version": "1.5.0",
      "model_name": "CheckboxModel",
      "state": {
       "description": "Plot Experiment B",
       "disabled": false,
       "layout": "IPY_MODEL_f407f6da76e341fcb4a00bb8e4a7959f",
       "style": "IPY_MODEL_c845060f757948beba2bb8fbd2ad1814",
       "value": true
      }
     },
     "f3ae1bd2741249bc8e22dfeefae72b43": {
      "model_module": "@jupyter-widgets/controls",
      "model_module_version": "1.5.0",
      "model_name": "LinkModel",
      "state": {
       "source": [
        "IPY_MODEL_b0950b9e1f9e4c7f9cee7ecc63c84bc1",
        "value"
       ],
       "target": [
        "IPY_MODEL_aa0e50376667454099d3dd07a00fe41a",
        "value"
       ]
      }
     },
     "f3b695fd393a4bdd83733f1c4124b6b9": {
      "model_module": "@jupyter-widgets/base",
      "model_module_version": "1.2.0",
      "model_name": "LayoutModel",
      "state": {}
     },
     "f3cc3f163c3c40f8a8535c39c8d27614": {
      "model_module": "@jupyter-widgets/base",
      "model_module_version": "1.2.0",
      "model_name": "LayoutModel",
      "state": {}
     },
     "f3f8842dbea0483c8b61128dfa0637cd": {
      "model_module": "@jupyter-widgets/base",
      "model_module_version": "1.2.0",
      "model_name": "LayoutModel",
      "state": {}
     },
     "f3fa5795388e434f82ad457d3ed0fbbd": {
      "model_module": "@jupyter-widgets/controls",
      "model_module_version": "1.5.0",
      "model_name": "FloatRangeSliderModel",
      "state": {
       "_model_name": "FloatRangeSliderModel",
       "_view_name": "FloatRangeSliderView",
       "layout": "IPY_MODEL_aa8ea119d8dd4ee5962a824764b42413",
       "max": 20,
       "step": 0.1,
       "style": "IPY_MODEL_3dbc210febaa4c718d55dd98677dc738",
       "value": [
        0,
        20
       ]
      }
     },
     "f407f6da76e341fcb4a00bb8e4a7959f": {
      "model_module": "@jupyter-widgets/base",
      "model_module_version": "1.2.0",
      "model_name": "LayoutModel",
      "state": {}
     },
     "f43ea2923795469ea198315c754c2753": {
      "model_module": "@jupyter-widgets/base",
      "model_module_version": "1.2.0",
      "model_name": "LayoutModel",
      "state": {}
     },
     "f5812d7b8b7247c3a4839e01a8e5248a": {
      "model_module": "@jupyter-widgets/controls",
      "model_module_version": "1.5.0",
      "model_name": "CheckboxModel",
      "state": {
       "description": "Plot Experiment B",
       "disabled": false,
       "layout": "IPY_MODEL_9577e97bf34e4ccfad81890cce62b5e7",
       "style": "IPY_MODEL_1acbb859c5454868b79ffabb23222603",
       "value": true
      }
     },
     "f5baa71b3fc14adc94ba5faea7b3cddb": {
      "model_module": "@jupyter-widgets/output",
      "model_module_version": "1.0.0",
      "model_name": "OutputModel",
      "state": {
       "layout": "IPY_MODEL_76b46ae4cedd40d69703886197eb95a0",
       "outputs": [
        {
         "data": {
          "image/svg+xml": "<?xml version=\"1.0\" encoding=\"utf-8\" standalone=\"no\"?>\n<!DOCTYPE svg PUBLIC \"-//W3C//DTD SVG 1.1//EN\"\n  \"http://www.w3.org/Graphics/SVG/1.1/DTD/svg11.dtd\">\n<!-- Created with matplotlib (https://matplotlib.org/) -->\n<svg height=\"265.995469pt\" version=\"1.1\" viewBox=\"0 0 412.823438 265.995469\" width=\"412.823438pt\" xmlns=\"http://www.w3.org/2000/svg\" xmlns:xlink=\"http://www.w3.org/1999/xlink\">\n <metadata>\n  <rdf:RDF xmlns:cc=\"http://creativecommons.org/ns#\" xmlns:dc=\"http://purl.org/dc/elements/1.1/\" xmlns:rdf=\"http://www.w3.org/1999/02/22-rdf-syntax-ns#\">\n   <cc:Work>\n    <dc:type rdf:resource=\"http://purl.org/dc/dcmitype/StillImage\"/>\n    <dc:date>2021-06-09T01:41:38.997590</dc:date>\n    <dc:format>image/svg+xml</dc:format>\n    <dc:creator>\n     <cc:Agent>\n      <dc:title>Matplotlib v3.3.3, https://matplotlib.org/</dc:title>\n     </cc:Agent>\n    </dc:creator>\n   </cc:Work>\n  </rdf:RDF>\n </metadata>\n <defs>\n  <style type=\"text/css\">*{stroke-linecap:butt;stroke-linejoin:round;}</style>\n </defs>\n <g id=\"figure_1\">\n  <g id=\"patch_1\">\n   <path d=\"M 0 265.995469 \nL 412.823438 265.995469 \nL 412.823438 0 \nL 0 0 \nz\n\" style=\"fill:none;\"/>\n  </g>\n  <g id=\"axes_1\">\n   <g id=\"patch_2\">\n    <path d=\"M 59.690625 228.439219 \nL 394.490625 228.439219 \nL 394.490625 10.999219 \nL 59.690625 10.999219 \nz\n\" style=\"fill:#ffffff;\"/>\n   </g>\n   <g id=\"matplotlib.axis_1\">\n    <g id=\"xtick_1\">\n     <g id=\"line2d_1\">\n      <defs>\n       <path d=\"M 0 0 \nL 0 3.5 \n\" id=\"meccc84345c\" style=\"stroke:#000000;stroke-width:0.8;\"/>\n      </defs>\n      <g>\n       <use style=\"stroke:#000000;stroke-width:0.8;\" x=\"59.690625\" xlink:href=\"#meccc84345c\" y=\"228.439219\"/>\n      </g>\n     </g>\n     <g id=\"text_1\">\n      <!-- 0.0 -->\n      <g transform=\"translate(51.739063 243.037656)scale(0.1 -0.1)\">\n       <defs>\n        <path d=\"M 31.78125 66.40625 \nQ 24.171875 66.40625 20.328125 58.90625 \nQ 16.5 51.421875 16.5 36.375 \nQ 16.5 21.390625 20.328125 13.890625 \nQ 24.171875 6.390625 31.78125 6.390625 \nQ 39.453125 6.390625 43.28125 13.890625 \nQ 47.125 21.390625 47.125 36.375 \nQ 47.125 51.421875 43.28125 58.90625 \nQ 39.453125 66.40625 31.78125 66.40625 \nz\nM 31.78125 74.21875 \nQ 44.046875 74.21875 50.515625 64.515625 \nQ 56.984375 54.828125 56.984375 36.375 \nQ 56.984375 17.96875 50.515625 8.265625 \nQ 44.046875 -1.421875 31.78125 -1.421875 \nQ 19.53125 -1.421875 13.0625 8.265625 \nQ 6.59375 17.96875 6.59375 36.375 \nQ 6.59375 54.828125 13.0625 64.515625 \nQ 19.53125 74.21875 31.78125 74.21875 \nz\n\" id=\"DejaVuSans-48\"/>\n        <path d=\"M 10.6875 12.40625 \nL 21 12.40625 \nL 21 0 \nL 10.6875 0 \nz\n\" id=\"DejaVuSans-46\"/>\n       </defs>\n       <use xlink:href=\"#DejaVuSans-48\"/>\n       <use x=\"63.623047\" xlink:href=\"#DejaVuSans-46\"/>\n       <use x=\"95.410156\" xlink:href=\"#DejaVuSans-48\"/>\n      </g>\n     </g>\n    </g>\n    <g id=\"xtick_2\">\n     <g id=\"line2d_2\">\n      <g>\n       <use style=\"stroke:#000000;stroke-width:0.8;\" x=\"101.540625\" xlink:href=\"#meccc84345c\" y=\"228.439219\"/>\n      </g>\n     </g>\n     <g id=\"text_2\">\n      <!-- 2.5 -->\n      <g transform=\"translate(93.589063 243.037656)scale(0.1 -0.1)\">\n       <defs>\n        <path d=\"M 19.1875 8.296875 \nL 53.609375 8.296875 \nL 53.609375 0 \nL 7.328125 0 \nL 7.328125 8.296875 \nQ 12.9375 14.109375 22.625 23.890625 \nQ 32.328125 33.6875 34.8125 36.53125 \nQ 39.546875 41.84375 41.421875 45.53125 \nQ 43.3125 49.21875 43.3125 52.78125 \nQ 43.3125 58.59375 39.234375 62.25 \nQ 35.15625 65.921875 28.609375 65.921875 \nQ 23.96875 65.921875 18.8125 64.3125 \nQ 13.671875 62.703125 7.8125 59.421875 \nL 7.8125 69.390625 \nQ 13.765625 71.78125 18.9375 73 \nQ 24.125 74.21875 28.421875 74.21875 \nQ 39.75 74.21875 46.484375 68.546875 \nQ 53.21875 62.890625 53.21875 53.421875 \nQ 53.21875 48.921875 51.53125 44.890625 \nQ 49.859375 40.875 45.40625 35.40625 \nQ 44.1875 33.984375 37.640625 27.21875 \nQ 31.109375 20.453125 19.1875 8.296875 \nz\n\" id=\"DejaVuSans-50\"/>\n        <path d=\"M 10.796875 72.90625 \nL 49.515625 72.90625 \nL 49.515625 64.59375 \nL 19.828125 64.59375 \nL 19.828125 46.734375 \nQ 21.96875 47.46875 24.109375 47.828125 \nQ 26.265625 48.1875 28.421875 48.1875 \nQ 40.625 48.1875 47.75 41.5 \nQ 54.890625 34.8125 54.890625 23.390625 \nQ 54.890625 11.625 47.5625 5.09375 \nQ 40.234375 -1.421875 26.90625 -1.421875 \nQ 22.3125 -1.421875 17.546875 -0.640625 \nQ 12.796875 0.140625 7.71875 1.703125 \nL 7.71875 11.625 \nQ 12.109375 9.234375 16.796875 8.0625 \nQ 21.484375 6.890625 26.703125 6.890625 \nQ 35.15625 6.890625 40.078125 11.328125 \nQ 45.015625 15.765625 45.015625 23.390625 \nQ 45.015625 31 40.078125 35.4375 \nQ 35.15625 39.890625 26.703125 39.890625 \nQ 22.75 39.890625 18.8125 39.015625 \nQ 14.890625 38.140625 10.796875 36.28125 \nz\n\" id=\"DejaVuSans-53\"/>\n       </defs>\n       <use xlink:href=\"#DejaVuSans-50\"/>\n       <use x=\"63.623047\" xlink:href=\"#DejaVuSans-46\"/>\n       <use x=\"95.410156\" xlink:href=\"#DejaVuSans-53\"/>\n      </g>\n     </g>\n    </g>\n    <g id=\"xtick_3\">\n     <g id=\"line2d_3\">\n      <g>\n       <use style=\"stroke:#000000;stroke-width:0.8;\" x=\"143.390625\" xlink:href=\"#meccc84345c\" y=\"228.439219\"/>\n      </g>\n     </g>\n     <g id=\"text_3\">\n      <!-- 5.0 -->\n      <g transform=\"translate(135.439063 243.037656)scale(0.1 -0.1)\">\n       <use xlink:href=\"#DejaVuSans-53\"/>\n       <use x=\"63.623047\" xlink:href=\"#DejaVuSans-46\"/>\n       <use x=\"95.410156\" xlink:href=\"#DejaVuSans-48\"/>\n      </g>\n     </g>\n    </g>\n    <g id=\"xtick_4\">\n     <g id=\"line2d_4\">\n      <g>\n       <use style=\"stroke:#000000;stroke-width:0.8;\" x=\"185.240625\" xlink:href=\"#meccc84345c\" y=\"228.439219\"/>\n      </g>\n     </g>\n     <g id=\"text_4\">\n      <!-- 7.5 -->\n      <g transform=\"translate(177.289063 243.037656)scale(0.1 -0.1)\">\n       <defs>\n        <path d=\"M 8.203125 72.90625 \nL 55.078125 72.90625 \nL 55.078125 68.703125 \nL 28.609375 0 \nL 18.3125 0 \nL 43.21875 64.59375 \nL 8.203125 64.59375 \nz\n\" id=\"DejaVuSans-55\"/>\n       </defs>\n       <use xlink:href=\"#DejaVuSans-55\"/>\n       <use x=\"63.623047\" xlink:href=\"#DejaVuSans-46\"/>\n       <use x=\"95.410156\" xlink:href=\"#DejaVuSans-53\"/>\n      </g>\n     </g>\n    </g>\n    <g id=\"xtick_5\">\n     <g id=\"line2d_5\">\n      <g>\n       <use style=\"stroke:#000000;stroke-width:0.8;\" x=\"227.090625\" xlink:href=\"#meccc84345c\" y=\"228.439219\"/>\n      </g>\n     </g>\n     <g id=\"text_5\">\n      <!-- 10.0 -->\n      <g transform=\"translate(215.957813 243.037656)scale(0.1 -0.1)\">\n       <defs>\n        <path d=\"M 12.40625 8.296875 \nL 28.515625 8.296875 \nL 28.515625 63.921875 \nL 10.984375 60.40625 \nL 10.984375 69.390625 \nL 28.421875 72.90625 \nL 38.28125 72.90625 \nL 38.28125 8.296875 \nL 54.390625 8.296875 \nL 54.390625 0 \nL 12.40625 0 \nz\n\" id=\"DejaVuSans-49\"/>\n       </defs>\n       <use xlink:href=\"#DejaVuSans-49\"/>\n       <use x=\"63.623047\" xlink:href=\"#DejaVuSans-48\"/>\n       <use x=\"127.246094\" xlink:href=\"#DejaVuSans-46\"/>\n       <use x=\"159.033203\" xlink:href=\"#DejaVuSans-48\"/>\n      </g>\n     </g>\n    </g>\n    <g id=\"xtick_6\">\n     <g id=\"line2d_6\">\n      <g>\n       <use style=\"stroke:#000000;stroke-width:0.8;\" x=\"268.940625\" xlink:href=\"#meccc84345c\" y=\"228.439219\"/>\n      </g>\n     </g>\n     <g id=\"text_6\">\n      <!-- 12.5 -->\n      <g transform=\"translate(257.807813 243.037656)scale(0.1 -0.1)\">\n       <use xlink:href=\"#DejaVuSans-49\"/>\n       <use x=\"63.623047\" xlink:href=\"#DejaVuSans-50\"/>\n       <use x=\"127.246094\" xlink:href=\"#DejaVuSans-46\"/>\n       <use x=\"159.033203\" xlink:href=\"#DejaVuSans-53\"/>\n      </g>\n     </g>\n    </g>\n    <g id=\"xtick_7\">\n     <g id=\"line2d_7\">\n      <g>\n       <use style=\"stroke:#000000;stroke-width:0.8;\" x=\"310.790625\" xlink:href=\"#meccc84345c\" y=\"228.439219\"/>\n      </g>\n     </g>\n     <g id=\"text_7\">\n      <!-- 15.0 -->\n      <g transform=\"translate(299.657813 243.037656)scale(0.1 -0.1)\">\n       <use xlink:href=\"#DejaVuSans-49\"/>\n       <use x=\"63.623047\" xlink:href=\"#DejaVuSans-53\"/>\n       <use x=\"127.246094\" xlink:href=\"#DejaVuSans-46\"/>\n       <use x=\"159.033203\" xlink:href=\"#DejaVuSans-48\"/>\n      </g>\n     </g>\n    </g>\n    <g id=\"xtick_8\">\n     <g id=\"line2d_8\">\n      <g>\n       <use style=\"stroke:#000000;stroke-width:0.8;\" x=\"352.640625\" xlink:href=\"#meccc84345c\" y=\"228.439219\"/>\n      </g>\n     </g>\n     <g id=\"text_8\">\n      <!-- 17.5 -->\n      <g transform=\"translate(341.507813 243.037656)scale(0.1 -0.1)\">\n       <use xlink:href=\"#DejaVuSans-49\"/>\n       <use x=\"63.623047\" xlink:href=\"#DejaVuSans-55\"/>\n       <use x=\"127.246094\" xlink:href=\"#DejaVuSans-46\"/>\n       <use x=\"159.033203\" xlink:href=\"#DejaVuSans-53\"/>\n      </g>\n     </g>\n    </g>\n    <g id=\"xtick_9\">\n     <g id=\"line2d_9\">\n      <g>\n       <use style=\"stroke:#000000;stroke-width:0.8;\" x=\"394.490625\" xlink:href=\"#meccc84345c\" y=\"228.439219\"/>\n      </g>\n     </g>\n     <g id=\"text_9\">\n      <!-- 20.0 -->\n      <g transform=\"translate(383.357813 243.037656)scale(0.1 -0.1)\">\n       <use xlink:href=\"#DejaVuSans-50\"/>\n       <use x=\"63.623047\" xlink:href=\"#DejaVuSans-48\"/>\n       <use x=\"127.246094\" xlink:href=\"#DejaVuSans-46\"/>\n       <use x=\"159.033203\" xlink:href=\"#DejaVuSans-48\"/>\n      </g>\n     </g>\n    </g>\n    <g id=\"text_10\">\n     <!-- Energy (keV) -->\n     <g transform=\"translate(194.882812 256.715781)scale(0.1 -0.1)\">\n      <defs>\n       <path d=\"M 9.8125 72.90625 \nL 55.90625 72.90625 \nL 55.90625 64.59375 \nL 19.671875 64.59375 \nL 19.671875 43.015625 \nL 54.390625 43.015625 \nL 54.390625 34.71875 \nL 19.671875 34.71875 \nL 19.671875 8.296875 \nL 56.78125 8.296875 \nL 56.78125 0 \nL 9.8125 0 \nz\n\" id=\"DejaVuSans-69\"/>\n       <path d=\"M 54.890625 33.015625 \nL 54.890625 0 \nL 45.90625 0 \nL 45.90625 32.71875 \nQ 45.90625 40.484375 42.875 44.328125 \nQ 39.84375 48.1875 33.796875 48.1875 \nQ 26.515625 48.1875 22.3125 43.546875 \nQ 18.109375 38.921875 18.109375 30.90625 \nL 18.109375 0 \nL 9.078125 0 \nL 9.078125 54.6875 \nL 18.109375 54.6875 \nL 18.109375 46.1875 \nQ 21.34375 51.125 25.703125 53.5625 \nQ 30.078125 56 35.796875 56 \nQ 45.21875 56 50.046875 50.171875 \nQ 54.890625 44.34375 54.890625 33.015625 \nz\n\" id=\"DejaVuSans-110\"/>\n       <path d=\"M 56.203125 29.59375 \nL 56.203125 25.203125 \nL 14.890625 25.203125 \nQ 15.484375 15.921875 20.484375 11.0625 \nQ 25.484375 6.203125 34.421875 6.203125 \nQ 39.59375 6.203125 44.453125 7.46875 \nQ 49.3125 8.734375 54.109375 11.28125 \nL 54.109375 2.78125 \nQ 49.265625 0.734375 44.1875 -0.34375 \nQ 39.109375 -1.421875 33.890625 -1.421875 \nQ 20.796875 -1.421875 13.15625 6.1875 \nQ 5.515625 13.8125 5.515625 26.8125 \nQ 5.515625 40.234375 12.765625 48.109375 \nQ 20.015625 56 32.328125 56 \nQ 43.359375 56 49.78125 48.890625 \nQ 56.203125 41.796875 56.203125 29.59375 \nz\nM 47.21875 32.234375 \nQ 47.125 39.59375 43.09375 43.984375 \nQ 39.0625 48.390625 32.421875 48.390625 \nQ 24.90625 48.390625 20.390625 44.140625 \nQ 15.875 39.890625 15.1875 32.171875 \nz\n\" id=\"DejaVuSans-101\"/>\n       <path d=\"M 41.109375 46.296875 \nQ 39.59375 47.171875 37.8125 47.578125 \nQ 36.03125 48 33.890625 48 \nQ 26.265625 48 22.1875 43.046875 \nQ 18.109375 38.09375 18.109375 28.8125 \nL 18.109375 0 \nL 9.078125 0 \nL 9.078125 54.6875 \nL 18.109375 54.6875 \nL 18.109375 46.1875 \nQ 20.953125 51.171875 25.484375 53.578125 \nQ 30.03125 56 36.53125 56 \nQ 37.453125 56 38.578125 55.875 \nQ 39.703125 55.765625 41.0625 55.515625 \nz\n\" id=\"DejaVuSans-114\"/>\n       <path d=\"M 45.40625 27.984375 \nQ 45.40625 37.75 41.375 43.109375 \nQ 37.359375 48.484375 30.078125 48.484375 \nQ 22.859375 48.484375 18.828125 43.109375 \nQ 14.796875 37.75 14.796875 27.984375 \nQ 14.796875 18.265625 18.828125 12.890625 \nQ 22.859375 7.515625 30.078125 7.515625 \nQ 37.359375 7.515625 41.375 12.890625 \nQ 45.40625 18.265625 45.40625 27.984375 \nz\nM 54.390625 6.78125 \nQ 54.390625 -7.171875 48.1875 -13.984375 \nQ 42 -20.796875 29.203125 -20.796875 \nQ 24.46875 -20.796875 20.265625 -20.09375 \nQ 16.0625 -19.390625 12.109375 -17.921875 \nL 12.109375 -9.1875 \nQ 16.0625 -11.328125 19.921875 -12.34375 \nQ 23.78125 -13.375 27.78125 -13.375 \nQ 36.625 -13.375 41.015625 -8.765625 \nQ 45.40625 -4.15625 45.40625 5.171875 \nL 45.40625 9.625 \nQ 42.625 4.78125 38.28125 2.390625 \nQ 33.9375 0 27.875 0 \nQ 17.828125 0 11.671875 7.65625 \nQ 5.515625 15.328125 5.515625 27.984375 \nQ 5.515625 40.671875 11.671875 48.328125 \nQ 17.828125 56 27.875 56 \nQ 33.9375 56 38.28125 53.609375 \nQ 42.625 51.21875 45.40625 46.390625 \nL 45.40625 54.6875 \nL 54.390625 54.6875 \nz\n\" id=\"DejaVuSans-103\"/>\n       <path d=\"M 32.171875 -5.078125 \nQ 28.375 -14.84375 24.75 -17.8125 \nQ 21.140625 -20.796875 15.09375 -20.796875 \nL 7.90625 -20.796875 \nL 7.90625 -13.28125 \nL 13.1875 -13.28125 \nQ 16.890625 -13.28125 18.9375 -11.515625 \nQ 21 -9.765625 23.484375 -3.21875 \nL 25.09375 0.875 \nL 2.984375 54.6875 \nL 12.5 54.6875 \nL 29.59375 11.921875 \nL 46.6875 54.6875 \nL 56.203125 54.6875 \nz\n\" id=\"DejaVuSans-121\"/>\n       <path id=\"DejaVuSans-32\"/>\n       <path d=\"M 31 75.875 \nQ 24.46875 64.65625 21.28125 53.65625 \nQ 18.109375 42.671875 18.109375 31.390625 \nQ 18.109375 20.125 21.3125 9.0625 \nQ 24.515625 -2 31 -13.1875 \nL 23.1875 -13.1875 \nQ 15.875 -1.703125 12.234375 9.375 \nQ 8.59375 20.453125 8.59375 31.390625 \nQ 8.59375 42.28125 12.203125 53.3125 \nQ 15.828125 64.359375 23.1875 75.875 \nz\n\" id=\"DejaVuSans-40\"/>\n       <path d=\"M 9.078125 75.984375 \nL 18.109375 75.984375 \nL 18.109375 31.109375 \nL 44.921875 54.6875 \nL 56.390625 54.6875 \nL 27.390625 29.109375 \nL 57.625 0 \nL 45.90625 0 \nL 18.109375 26.703125 \nL 18.109375 0 \nL 9.078125 0 \nz\n\" id=\"DejaVuSans-107\"/>\n       <path d=\"M 28.609375 0 \nL 0.78125 72.90625 \nL 11.078125 72.90625 \nL 34.1875 11.53125 \nL 57.328125 72.90625 \nL 67.578125 72.90625 \nL 39.796875 0 \nz\n\" id=\"DejaVuSans-86\"/>\n       <path d=\"M 8.015625 75.875 \nL 15.828125 75.875 \nQ 23.140625 64.359375 26.78125 53.3125 \nQ 30.421875 42.28125 30.421875 31.390625 \nQ 30.421875 20.453125 26.78125 9.375 \nQ 23.140625 -1.703125 15.828125 -13.1875 \nL 8.015625 -13.1875 \nQ 14.5 -2 17.703125 9.0625 \nQ 20.90625 20.125 20.90625 31.390625 \nQ 20.90625 42.671875 17.703125 53.65625 \nQ 14.5 64.65625 8.015625 75.875 \nz\n\" id=\"DejaVuSans-41\"/>\n      </defs>\n      <use xlink:href=\"#DejaVuSans-69\"/>\n      <use x=\"63.183594\" xlink:href=\"#DejaVuSans-110\"/>\n      <use x=\"126.5625\" xlink:href=\"#DejaVuSans-101\"/>\n      <use x=\"188.085938\" xlink:href=\"#DejaVuSans-114\"/>\n      <use x=\"227.449219\" xlink:href=\"#DejaVuSans-103\"/>\n      <use x=\"290.925781\" xlink:href=\"#DejaVuSans-121\"/>\n      <use x=\"350.105469\" xlink:href=\"#DejaVuSans-32\"/>\n      <use x=\"381.892578\" xlink:href=\"#DejaVuSans-40\"/>\n      <use x=\"420.90625\" xlink:href=\"#DejaVuSans-107\"/>\n      <use x=\"475.191406\" xlink:href=\"#DejaVuSans-101\"/>\n      <use x=\"536.714844\" xlink:href=\"#DejaVuSans-86\"/>\n      <use x=\"605.123047\" xlink:href=\"#DejaVuSans-41\"/>\n     </g>\n    </g>\n   </g>\n   <g id=\"matplotlib.axis_2\">\n    <g id=\"ytick_1\">\n     <g id=\"line2d_10\">\n      <defs>\n       <path d=\"M 0 0 \nL -3.5 0 \n\" id=\"mb5e84212be\" style=\"stroke:#000000;stroke-width:0.8;\"/>\n      </defs>\n      <g>\n       <use style=\"stroke:#000000;stroke-width:0.8;\" x=\"59.690625\" xlink:href=\"#mb5e84212be\" y=\"184.959917\"/>\n      </g>\n     </g>\n     <g id=\"text_11\">\n      <!-- 2000 -->\n      <g transform=\"translate(27.240625 188.759136)scale(0.1 -0.1)\">\n       <use xlink:href=\"#DejaVuSans-50\"/>\n       <use x=\"63.623047\" xlink:href=\"#DejaVuSans-48\"/>\n       <use x=\"127.246094\" xlink:href=\"#DejaVuSans-48\"/>\n       <use x=\"190.869141\" xlink:href=\"#DejaVuSans-48\"/>\n      </g>\n     </g>\n    </g>\n    <g id=\"ytick_2\">\n     <g id=\"line2d_11\">\n      <g>\n       <use style=\"stroke:#000000;stroke-width:0.8;\" x=\"59.690625\" xlink:href=\"#mb5e84212be\" y=\"141.469742\"/>\n      </g>\n     </g>\n     <g id=\"text_12\">\n      <!-- 4000 -->\n      <g transform=\"translate(27.240625 145.268961)scale(0.1 -0.1)\">\n       <defs>\n        <path d=\"M 37.796875 64.3125 \nL 12.890625 25.390625 \nL 37.796875 25.390625 \nz\nM 35.203125 72.90625 \nL 47.609375 72.90625 \nL 47.609375 25.390625 \nL 58.015625 25.390625 \nL 58.015625 17.1875 \nL 47.609375 17.1875 \nL 47.609375 0 \nL 37.796875 0 \nL 37.796875 17.1875 \nL 4.890625 17.1875 \nL 4.890625 26.703125 \nz\n\" id=\"DejaVuSans-52\"/>\n       </defs>\n       <use xlink:href=\"#DejaVuSans-52\"/>\n       <use x=\"63.623047\" xlink:href=\"#DejaVuSans-48\"/>\n       <use x=\"127.246094\" xlink:href=\"#DejaVuSans-48\"/>\n       <use x=\"190.869141\" xlink:href=\"#DejaVuSans-48\"/>\n      </g>\n     </g>\n    </g>\n    <g id=\"ytick_3\">\n     <g id=\"line2d_12\">\n      <g>\n       <use style=\"stroke:#000000;stroke-width:0.8;\" x=\"59.690625\" xlink:href=\"#mb5e84212be\" y=\"97.979568\"/>\n      </g>\n     </g>\n     <g id=\"text_13\">\n      <!-- 6000 -->\n      <g transform=\"translate(27.240625 101.778787)scale(0.1 -0.1)\">\n       <defs>\n        <path d=\"M 33.015625 40.375 \nQ 26.375 40.375 22.484375 35.828125 \nQ 18.609375 31.296875 18.609375 23.390625 \nQ 18.609375 15.53125 22.484375 10.953125 \nQ 26.375 6.390625 33.015625 6.390625 \nQ 39.65625 6.390625 43.53125 10.953125 \nQ 47.40625 15.53125 47.40625 23.390625 \nQ 47.40625 31.296875 43.53125 35.828125 \nQ 39.65625 40.375 33.015625 40.375 \nz\nM 52.59375 71.296875 \nL 52.59375 62.3125 \nQ 48.875 64.0625 45.09375 64.984375 \nQ 41.3125 65.921875 37.59375 65.921875 \nQ 27.828125 65.921875 22.671875 59.328125 \nQ 17.53125 52.734375 16.796875 39.40625 \nQ 19.671875 43.65625 24.015625 45.921875 \nQ 28.375 48.1875 33.59375 48.1875 \nQ 44.578125 48.1875 50.953125 41.515625 \nQ 57.328125 34.859375 57.328125 23.390625 \nQ 57.328125 12.15625 50.6875 5.359375 \nQ 44.046875 -1.421875 33.015625 -1.421875 \nQ 20.359375 -1.421875 13.671875 8.265625 \nQ 6.984375 17.96875 6.984375 36.375 \nQ 6.984375 53.65625 15.1875 63.9375 \nQ 23.390625 74.21875 37.203125 74.21875 \nQ 40.921875 74.21875 44.703125 73.484375 \nQ 48.484375 72.75 52.59375 71.296875 \nz\n\" id=\"DejaVuSans-54\"/>\n       </defs>\n       <use xlink:href=\"#DejaVuSans-54\"/>\n       <use x=\"63.623047\" xlink:href=\"#DejaVuSans-48\"/>\n       <use x=\"127.246094\" xlink:href=\"#DejaVuSans-48\"/>\n       <use x=\"190.869141\" xlink:href=\"#DejaVuSans-48\"/>\n      </g>\n     </g>\n    </g>\n    <g id=\"ytick_4\">\n     <g id=\"line2d_13\">\n      <g>\n       <use style=\"stroke:#000000;stroke-width:0.8;\" x=\"59.690625\" xlink:href=\"#mb5e84212be\" y=\"54.489393\"/>\n      </g>\n     </g>\n     <g id=\"text_14\">\n      <!-- 8000 -->\n      <g transform=\"translate(27.240625 58.288612)scale(0.1 -0.1)\">\n       <defs>\n        <path d=\"M 31.78125 34.625 \nQ 24.75 34.625 20.71875 30.859375 \nQ 16.703125 27.09375 16.703125 20.515625 \nQ 16.703125 13.921875 20.71875 10.15625 \nQ 24.75 6.390625 31.78125 6.390625 \nQ 38.8125 6.390625 42.859375 10.171875 \nQ 46.921875 13.96875 46.921875 20.515625 \nQ 46.921875 27.09375 42.890625 30.859375 \nQ 38.875 34.625 31.78125 34.625 \nz\nM 21.921875 38.8125 \nQ 15.578125 40.375 12.03125 44.71875 \nQ 8.5 49.078125 8.5 55.328125 \nQ 8.5 64.0625 14.71875 69.140625 \nQ 20.953125 74.21875 31.78125 74.21875 \nQ 42.671875 74.21875 48.875 69.140625 \nQ 55.078125 64.0625 55.078125 55.328125 \nQ 55.078125 49.078125 51.53125 44.71875 \nQ 48 40.375 41.703125 38.8125 \nQ 48.828125 37.15625 52.796875 32.3125 \nQ 56.78125 27.484375 56.78125 20.515625 \nQ 56.78125 9.90625 50.3125 4.234375 \nQ 43.84375 -1.421875 31.78125 -1.421875 \nQ 19.734375 -1.421875 13.25 4.234375 \nQ 6.78125 9.90625 6.78125 20.515625 \nQ 6.78125 27.484375 10.78125 32.3125 \nQ 14.796875 37.15625 21.921875 38.8125 \nz\nM 18.3125 54.390625 \nQ 18.3125 48.734375 21.84375 45.5625 \nQ 25.390625 42.390625 31.78125 42.390625 \nQ 38.140625 42.390625 41.71875 45.5625 \nQ 45.3125 48.734375 45.3125 54.390625 \nQ 45.3125 60.0625 41.71875 63.234375 \nQ 38.140625 66.40625 31.78125 66.40625 \nQ 25.390625 66.40625 21.84375 63.234375 \nQ 18.3125 60.0625 18.3125 54.390625 \nz\n\" id=\"DejaVuSans-56\"/>\n       </defs>\n       <use xlink:href=\"#DejaVuSans-56\"/>\n       <use x=\"63.623047\" xlink:href=\"#DejaVuSans-48\"/>\n       <use x=\"127.246094\" xlink:href=\"#DejaVuSans-48\"/>\n       <use x=\"190.869141\" xlink:href=\"#DejaVuSans-48\"/>\n      </g>\n     </g>\n    </g>\n    <g id=\"ytick_5\">\n     <g id=\"line2d_14\">\n      <g>\n       <use style=\"stroke:#000000;stroke-width:0.8;\" x=\"59.690625\" xlink:href=\"#mb5e84212be\" y=\"10.999219\"/>\n      </g>\n     </g>\n     <g id=\"text_15\">\n      <!-- 10000 -->\n      <g transform=\"translate(20.878125 14.798437)scale(0.1 -0.1)\">\n       <use xlink:href=\"#DejaVuSans-49\"/>\n       <use x=\"63.623047\" xlink:href=\"#DejaVuSans-48\"/>\n       <use x=\"127.246094\" xlink:href=\"#DejaVuSans-48\"/>\n       <use x=\"190.869141\" xlink:href=\"#DejaVuSans-48\"/>\n       <use x=\"254.492188\" xlink:href=\"#DejaVuSans-48\"/>\n      </g>\n     </g>\n    </g>\n    <g id=\"text_16\">\n     <!-- Counts / (40.0 eV kg days) -->\n     <g transform=\"translate(14.798438 186.205156)rotate(-90)scale(0.1 -0.1)\">\n      <defs>\n       <path d=\"M 64.40625 67.28125 \nL 64.40625 56.890625 \nQ 59.421875 61.53125 53.78125 63.8125 \nQ 48.140625 66.109375 41.796875 66.109375 \nQ 29.296875 66.109375 22.65625 58.46875 \nQ 16.015625 50.828125 16.015625 36.375 \nQ 16.015625 21.96875 22.65625 14.328125 \nQ 29.296875 6.6875 41.796875 6.6875 \nQ 48.140625 6.6875 53.78125 8.984375 \nQ 59.421875 11.28125 64.40625 15.921875 \nL 64.40625 5.609375 \nQ 59.234375 2.09375 53.4375 0.328125 \nQ 47.65625 -1.421875 41.21875 -1.421875 \nQ 24.65625 -1.421875 15.125 8.703125 \nQ 5.609375 18.84375 5.609375 36.375 \nQ 5.609375 53.953125 15.125 64.078125 \nQ 24.65625 74.21875 41.21875 74.21875 \nQ 47.75 74.21875 53.53125 72.484375 \nQ 59.328125 70.75 64.40625 67.28125 \nz\n\" id=\"DejaVuSans-67\"/>\n       <path d=\"M 30.609375 48.390625 \nQ 23.390625 48.390625 19.1875 42.75 \nQ 14.984375 37.109375 14.984375 27.296875 \nQ 14.984375 17.484375 19.15625 11.84375 \nQ 23.34375 6.203125 30.609375 6.203125 \nQ 37.796875 6.203125 41.984375 11.859375 \nQ 46.1875 17.53125 46.1875 27.296875 \nQ 46.1875 37.015625 41.984375 42.703125 \nQ 37.796875 48.390625 30.609375 48.390625 \nz\nM 30.609375 56 \nQ 42.328125 56 49.015625 48.375 \nQ 55.71875 40.765625 55.71875 27.296875 \nQ 55.71875 13.875 49.015625 6.21875 \nQ 42.328125 -1.421875 30.609375 -1.421875 \nQ 18.84375 -1.421875 12.171875 6.21875 \nQ 5.515625 13.875 5.515625 27.296875 \nQ 5.515625 40.765625 12.171875 48.375 \nQ 18.84375 56 30.609375 56 \nz\n\" id=\"DejaVuSans-111\"/>\n       <path d=\"M 8.5 21.578125 \nL 8.5 54.6875 \nL 17.484375 54.6875 \nL 17.484375 21.921875 \nQ 17.484375 14.15625 20.5 10.265625 \nQ 23.53125 6.390625 29.59375 6.390625 \nQ 36.859375 6.390625 41.078125 11.03125 \nQ 45.3125 15.671875 45.3125 23.6875 \nL 45.3125 54.6875 \nL 54.296875 54.6875 \nL 54.296875 0 \nL 45.3125 0 \nL 45.3125 8.40625 \nQ 42.046875 3.421875 37.71875 1 \nQ 33.40625 -1.421875 27.6875 -1.421875 \nQ 18.265625 -1.421875 13.375 4.4375 \nQ 8.5 10.296875 8.5 21.578125 \nz\nM 31.109375 56 \nz\n\" id=\"DejaVuSans-117\"/>\n       <path d=\"M 18.3125 70.21875 \nL 18.3125 54.6875 \nL 36.8125 54.6875 \nL 36.8125 47.703125 \nL 18.3125 47.703125 \nL 18.3125 18.015625 \nQ 18.3125 11.328125 20.140625 9.421875 \nQ 21.96875 7.515625 27.59375 7.515625 \nL 36.8125 7.515625 \nL 36.8125 0 \nL 27.59375 0 \nQ 17.1875 0 13.234375 3.875 \nQ 9.28125 7.765625 9.28125 18.015625 \nL 9.28125 47.703125 \nL 2.6875 47.703125 \nL 2.6875 54.6875 \nL 9.28125 54.6875 \nL 9.28125 70.21875 \nz\n\" id=\"DejaVuSans-116\"/>\n       <path d=\"M 44.28125 53.078125 \nL 44.28125 44.578125 \nQ 40.484375 46.53125 36.375 47.5 \nQ 32.28125 48.484375 27.875 48.484375 \nQ 21.1875 48.484375 17.84375 46.4375 \nQ 14.5 44.390625 14.5 40.28125 \nQ 14.5 37.15625 16.890625 35.375 \nQ 19.28125 33.59375 26.515625 31.984375 \nL 29.59375 31.296875 \nQ 39.15625 29.25 43.1875 25.515625 \nQ 47.21875 21.78125 47.21875 15.09375 \nQ 47.21875 7.46875 41.1875 3.015625 \nQ 35.15625 -1.421875 24.609375 -1.421875 \nQ 20.21875 -1.421875 15.453125 -0.5625 \nQ 10.6875 0.296875 5.421875 2 \nL 5.421875 11.28125 \nQ 10.40625 8.6875 15.234375 7.390625 \nQ 20.0625 6.109375 24.8125 6.109375 \nQ 31.15625 6.109375 34.5625 8.28125 \nQ 37.984375 10.453125 37.984375 14.40625 \nQ 37.984375 18.0625 35.515625 20.015625 \nQ 33.0625 21.96875 24.703125 23.78125 \nL 21.578125 24.515625 \nQ 13.234375 26.265625 9.515625 29.90625 \nQ 5.8125 33.546875 5.8125 39.890625 \nQ 5.8125 47.609375 11.28125 51.796875 \nQ 16.75 56 26.8125 56 \nQ 31.78125 56 36.171875 55.265625 \nQ 40.578125 54.546875 44.28125 53.078125 \nz\n\" id=\"DejaVuSans-115\"/>\n       <path d=\"M 25.390625 72.90625 \nL 33.6875 72.90625 \nL 8.296875 -9.28125 \nL 0 -9.28125 \nz\n\" id=\"DejaVuSans-47\"/>\n       <path d=\"M 45.40625 46.390625 \nL 45.40625 75.984375 \nL 54.390625 75.984375 \nL 54.390625 0 \nL 45.40625 0 \nL 45.40625 8.203125 \nQ 42.578125 3.328125 38.25 0.953125 \nQ 33.9375 -1.421875 27.875 -1.421875 \nQ 17.96875 -1.421875 11.734375 6.484375 \nQ 5.515625 14.40625 5.515625 27.296875 \nQ 5.515625 40.1875 11.734375 48.09375 \nQ 17.96875 56 27.875 56 \nQ 33.9375 56 38.25 53.625 \nQ 42.578125 51.265625 45.40625 46.390625 \nz\nM 14.796875 27.296875 \nQ 14.796875 17.390625 18.875 11.75 \nQ 22.953125 6.109375 30.078125 6.109375 \nQ 37.203125 6.109375 41.296875 11.75 \nQ 45.40625 17.390625 45.40625 27.296875 \nQ 45.40625 37.203125 41.296875 42.84375 \nQ 37.203125 48.484375 30.078125 48.484375 \nQ 22.953125 48.484375 18.875 42.84375 \nQ 14.796875 37.203125 14.796875 27.296875 \nz\n\" id=\"DejaVuSans-100\"/>\n       <path d=\"M 34.28125 27.484375 \nQ 23.390625 27.484375 19.1875 25 \nQ 14.984375 22.515625 14.984375 16.5 \nQ 14.984375 11.71875 18.140625 8.90625 \nQ 21.296875 6.109375 26.703125 6.109375 \nQ 34.1875 6.109375 38.703125 11.40625 \nQ 43.21875 16.703125 43.21875 25.484375 \nL 43.21875 27.484375 \nz\nM 52.203125 31.203125 \nL 52.203125 0 \nL 43.21875 0 \nL 43.21875 8.296875 \nQ 40.140625 3.328125 35.546875 0.953125 \nQ 30.953125 -1.421875 24.3125 -1.421875 \nQ 15.921875 -1.421875 10.953125 3.296875 \nQ 6 8.015625 6 15.921875 \nQ 6 25.140625 12.171875 29.828125 \nQ 18.359375 34.515625 30.609375 34.515625 \nL 43.21875 34.515625 \nL 43.21875 35.40625 \nQ 43.21875 41.609375 39.140625 45 \nQ 35.0625 48.390625 27.6875 48.390625 \nQ 23 48.390625 18.546875 47.265625 \nQ 14.109375 46.140625 10.015625 43.890625 \nL 10.015625 52.203125 \nQ 14.9375 54.109375 19.578125 55.046875 \nQ 24.21875 56 28.609375 56 \nQ 40.484375 56 46.34375 49.84375 \nQ 52.203125 43.703125 52.203125 31.203125 \nz\n\" id=\"DejaVuSans-97\"/>\n      </defs>\n      <use xlink:href=\"#DejaVuSans-67\"/>\n      <use x=\"69.824219\" xlink:href=\"#DejaVuSans-111\"/>\n      <use x=\"131.005859\" xlink:href=\"#DejaVuSans-117\"/>\n      <use x=\"194.384766\" xlink:href=\"#DejaVuSans-110\"/>\n      <use x=\"257.763672\" xlink:href=\"#DejaVuSans-116\"/>\n      <use x=\"296.972656\" xlink:href=\"#DejaVuSans-115\"/>\n      <use x=\"349.072266\" xlink:href=\"#DejaVuSans-32\"/>\n      <use x=\"380.859375\" xlink:href=\"#DejaVuSans-47\"/>\n      <use x=\"414.550781\" xlink:href=\"#DejaVuSans-32\"/>\n      <use x=\"446.337891\" xlink:href=\"#DejaVuSans-40\"/>\n      <use x=\"485.351562\" xlink:href=\"#DejaVuSans-52\"/>\n      <use x=\"548.974609\" xlink:href=\"#DejaVuSans-48\"/>\n      <use x=\"612.597656\" xlink:href=\"#DejaVuSans-46\"/>\n      <use x=\"644.384766\" xlink:href=\"#DejaVuSans-48\"/>\n      <use x=\"708.007812\" xlink:href=\"#DejaVuSans-32\"/>\n      <use x=\"739.794922\" xlink:href=\"#DejaVuSans-101\"/>\n      <use x=\"801.318359\" xlink:href=\"#DejaVuSans-86\"/>\n      <use x=\"869.726562\" xlink:href=\"#DejaVuSans-32\"/>\n      <use x=\"901.513672\" xlink:href=\"#DejaVuSans-107\"/>\n      <use x=\"959.423828\" xlink:href=\"#DejaVuSans-103\"/>\n      <use x=\"1022.900391\" xlink:href=\"#DejaVuSans-32\"/>\n      <use x=\"1054.6875\" xlink:href=\"#DejaVuSans-100\"/>\n      <use x=\"1118.164062\" xlink:href=\"#DejaVuSans-97\"/>\n      <use x=\"1179.443359\" xlink:href=\"#DejaVuSans-121\"/>\n      <use x=\"1238.623047\" xlink:href=\"#DejaVuSans-115\"/>\n      <use x=\"1290.722656\" xlink:href=\"#DejaVuSans-41\"/>\n     </g>\n    </g>\n   </g>\n   <g id=\"patch_3\">\n    <path clip-path=\"url(#p9c6b95cc7d)\" d=\"M 59.690625 228.450091 \nL 59.690625 143.448545 \nL 60.360225 143.448545 \nL 60.360225 148.776092 \nL 61.029825 148.776092 \nL 61.029825 150.493953 \nL 61.699425 150.493953 \nL 61.699425 152.472756 \nL 62.369025 152.472756 \nL 62.369025 155.125657 \nL 63.038625 155.125657 \nL 63.038625 158.887557 \nL 63.708225 158.887557 \nL 63.708225 160.040047 \nL 64.377825 160.040047 \nL 64.377825 161.301262 \nL 65.047425 161.301262 \nL 65.047425 166.97673 \nL 65.717025 166.97673 \nL 65.717025 169.259964 \nL 66.386625 169.259964 \nL 66.386625 170.499434 \nL 67.056225 170.499434 \nL 67.056225 174.609255 \nL 67.725825 174.609255 \nL 67.725825 177.414372 \nL 69.065025 177.305646 \nL 69.065025 181.284997 \nL 69.734625 181.284997 \nL 69.734625 180.589154 \nL 70.404225 180.589154 \nL 70.404225 183.002859 \nL 71.073825 183.002859 \nL 71.073825 187.134426 \nL 71.743425 187.134426 \nL 71.743425 187.373621 \nL 72.413025 187.373621 \nL 72.413025 188.439131 \nL 73.082625 188.439131 \nL 73.082625 189.917797 \nL 73.752225 189.917797 \nL 73.752225 192.940364 \nL 74.421825 192.940364 \nL 74.421825 193.201305 \nL 75.091425 193.201305 \nL 75.091425 195.332323 \nL 75.761025 195.332323 \nL 75.761025 195.767225 \nL 76.430625 195.767225 \nL 76.430625 197.137166 \nL 77.100225 197.137166 \nL 77.100225 198.615832 \nL 77.769825 198.615832 \nL 77.769825 198.876773 \nL 78.439425 198.876773 \nL 78.439425 200.333693 \nL 79.109025 200.333693 \nL 79.109025 202.051555 \nL 79.778625 202.051555 \nL 79.778625 202.464712 \nL 80.448225 202.464712 \nL 80.448225 203.660692 \nL 81.117825 203.660692 \nL 81.117825 202.421222 \nL 81.787425 202.421222 \nL 81.787425 204.356535 \nL 82.457025 204.356535 \nL 82.457025 206.726749 \nL 83.126625 206.726749 \nL 83.126625 207.879239 \nL 83.796225 207.879239 \nL 83.796225 208.335886 \nL 84.465825 208.335886 \nL 84.465825 208.596827 \nL 85.135425 208.596827 \nL 85.135425 210.466904 \nL 85.805025 210.466904 \nL 85.805025 209.749316 \nL 86.474625 209.749316 \nL 86.474625 210.901806 \nL 87.144225 210.901806 \nL 87.144225 212.576178 \nL 87.813825 212.576178 \nL 87.813825 212.858864 \nL 88.483425 212.858864 \nL 88.483425 213.076315 \nL 89.153025 213.076315 \nL 89.153025 212.163021 \nL 89.822625 212.163021 \nL 89.822625 214.554981 \nL 90.492225 214.554981 \nL 90.492225 215.229078 \nL 91.161825 215.229078 \nL 91.161825 215.555255 \nL 91.831425 215.555255 \nL 91.831425 215.163843 \nL 92.501025 215.163843 \nL 92.501025 216.120627 \nL 93.170625 216.120627 \nL 93.170625 216.772979 \nL 93.840225 216.772979 \nL 93.840225 217.403587 \nL 94.509825 217.403587 \nL 94.509825 218.164665 \nL 95.179425 218.164665 \nL 95.179425 217.990704 \nL 95.849025 217.990704 \nL 95.849025 218.947488 \nL 96.518625 218.947488 \nL 96.518625 219.3389 \nL 97.188225 219.3389 \nL 97.188225 219.947762 \nL 97.857825 219.947762 \nL 97.857825 219.491115 \nL 98.527425 219.491115 \nL 98.527425 219.969507 \nL 99.197025 219.969507 \nL 99.197025 220.70884 \nL 99.866625 220.70884 \nL 99.866625 220.57837 \nL 100.536225 220.57837 \nL 100.536225 221.361193 \nL 101.205825 221.361193 \nL 101.205825 221.752604 \nL 101.875425 221.752604 \nL 101.875425 222.035291 \nL 103.214625 221.94831 \nL 103.214625 222.317977 \nL 105.223425 222.274487 \nL 105.223425 222.926839 \nL 106.562625 222.883349 \nL 106.562625 223.14429 \nL 107.232225 223.14429 \nL 107.232225 223.992348 \nL 107.901825 223.992348 \nL 107.901825 224.188054 \nL 108.571425 224.188054 \nL 108.571425 223.796643 \nL 109.910625 223.687917 \nL 109.910625 224.775172 \nL 110.580225 224.775172 \nL 110.580225 224.492485 \nL 111.919425 224.514231 \nL 111.919425 224.29678 \nL 112.589025 224.29678 \nL 112.589025 224.579466 \nL 113.258625 224.579466 \nL 113.258625 224.818662 \nL 113.928225 224.818662 \nL 113.928225 225.101348 \nL 114.597825 225.101348 \nL 114.597825 224.731681 \nL 115.267425 224.731681 \nL 115.267425 225.340544 \nL 116.606625 225.253563 \nL 116.606625 225.53625 \nL 117.276225 225.53625 \nL 117.276225 225.66672 \nL 118.615425 225.601485 \nL 118.615425 225.992896 \nL 120.624225 225.884171 \nL 120.624225 226.232092 \nL 121.293825 226.232092 \nL 121.293825 226.493033 \nL 121.963425 226.493033 \nL 121.963425 225.949406 \nL 122.633025 225.949406 \nL 122.633025 226.514779 \nL 123.302625 226.514779 \nL 123.302625 226.340818 \nL 123.972225 226.340818 \nL 123.972225 226.471288 \nL 124.641825 226.471288 \nL 124.641825 227.014916 \nL 125.311425 227.014916 \nL 125.311425 226.840955 \nL 125.981025 226.840955 \nL 125.981025 227.014916 \nL 126.650625 227.014916 \nL 126.650625 226.732229 \nL 127.320225 226.732229 \nL 127.320225 227.080151 \nL 129.329025 227.080151 \nL 129.329025 226.8627 \nL 129.998625 226.8627 \nL 129.998625 227.210621 \nL 130.668225 227.210621 \nL 130.668225 226.710484 \nL 131.337825 226.710484 \nL 131.337825 226.94968 \nL 132.007425 226.94968 \nL 132.007425 226.77572 \nL 132.677025 226.77572 \nL 132.677025 226.166857 \nL 133.346625 226.166857 \nL 133.346625 224.29678 \nL 134.016225 224.29678 \nL 134.016225 222.622408 \nL 134.685825 222.622408 \nL 134.685825 219.3389 \nL 135.355425 219.3389 \nL 135.355425 215.511764 \nL 136.025025 215.511764 \nL 136.025025 208.09669 \nL 136.694625 208.09669 \nL 136.694625 198.920263 \nL 137.364225 198.920263 \nL 137.364225 186.89523 \nL 138.033825 186.89523 \nL 138.033825 169.694866 \nL 138.703425 169.694866 \nL 138.703425 152.429266 \nL 139.373025 152.429266 \nL 139.373025 133.206609 \nL 140.042625 133.206609 \nL 140.042625 112.896698 \nL 140.712225 112.896698 \nL 140.712225 91.586512 \nL 141.381825 91.586512 \nL 141.381825 75.625618 \nL 142.051425 75.625618 \nL 142.051425 61.773997 \nL 142.721025 61.773997 \nL 142.721025 59.164587 \nL 143.390625 59.164587 \nL 143.390625 52.771531 \nL 144.060225 52.771531 \nL 144.060225 63.339644 \nL 144.729825 63.339644 \nL 144.729825 72.624796 \nL 145.399425 72.624796 \nL 145.399425 93.934982 \nL 146.069025 93.934982 \nL 146.069025 113.309854 \nL 146.738625 113.309854 \nL 146.738625 131.836669 \nL 147.408225 131.836669 \nL 147.408225 153.603501 \nL 148.077825 153.603501 \nL 148.077825 171.108296 \nL 148.747425 171.108296 \nL 148.747425 186.808249 \nL 149.417025 186.808249 \nL 149.417025 200.377184 \nL 150.086625 200.377184 \nL 150.086625 209.096964 \nL 150.756225 209.096964 \nL 150.756225 215.446529 \nL 151.425825 215.446529 \nL 151.425825 220.143468 \nL 152.095425 220.143468 \nL 152.095425 223.753152 \nL 152.765025 223.753152 \nL 152.765025 224.862152 \nL 153.434625 224.862152 \nL 153.434625 226.99317 \nL 154.104225 226.99317 \nL 154.104225 227.384582 \nL 154.773825 227.384582 \nL 154.773825 227.797739 \nL 155.443425 227.797739 \nL 155.443425 227.993444 \nL 156.113025 227.993444 \nL 156.113025 228.123915 \nL 158.121825 228.123915 \nL 158.121825 228.254386 \nL 168.165825 228.363111 \nL 168.165825 228.384856 \nL 394.490625 228.450091 \nL 394.490625 228.450091 \n\" style=\"fill:none;stroke:#1f77b4;stroke-linejoin:miter;\"/>\n   </g>\n   <g id=\"patch_4\">\n    <path clip-path=\"url(#p9c6b95cc7d)\" d=\"M 59.690625 228.450091 \nL 59.690625 -1 \nM 65.047425 -1 \nL 65.047425 3.170987 \nL 65.717025 3.170987 \nL 65.717025 19.262352 \nL 66.386625 19.262352 \nL 66.386625 33.614109 \nL 67.056225 33.614109 \nL 67.056225 56.881353 \nL 67.725825 56.881353 \nL 67.725825 65.361937 \nL 68.395425 65.361937 \nL 68.395425 68.732425 \nL 69.065025 68.732425 \nL 69.065025 84.388888 \nL 69.734625 84.388888 \nL 69.734625 104.068192 \nL 70.404225 104.068192 \nL 70.404225 105.372897 \nL 71.073825 105.372897 \nL 71.073825 108.634661 \nL 71.743425 108.634661 \nL 71.743425 128.313964 \nL 72.413025 128.313964 \nL 72.413025 133.750236 \nL 73.082625 133.750236 \nL 73.082625 137.120725 \nL 73.752225 137.120725 \nL 73.752225 145.601309 \nL 74.421825 145.601309 \nL 74.421825 148.863072 \nL 75.091425 148.863072 \nL 75.091425 158.974538 \nL 75.761025 158.974538 \nL 75.761025 160.170517 \nL 76.430625 160.170517 \nL 76.430625 167.02022 \nL 77.100225 167.02022 \nL 77.100225 178.21894 \nL 77.769825 178.21894 \nL 77.769825 170.173257 \nL 78.439425 170.173257 \nL 78.439425 177.892763 \nL 79.109025 177.892763 \nL 79.109025 178.980018 \nL 79.778625 178.980018 \nL 79.778625 187.569327 \nL 80.448225 187.569327 \nL 80.448225 186.047171 \nL 81.117825 186.047171 \nL 81.117825 189.308934 \nL 81.787425 189.308934 \nL 81.787425 194.745206 \nL 82.457025 194.745206 \nL 82.457025 193.984128 \nL 83.126625 193.984128 \nL 83.126625 199.311674 \nL 84.465825 199.202949 \nL 84.465825 203.443241 \nL 85.135425 203.443241 \nL 85.135425 204.204319 \nL 85.805025 204.204319 \nL 85.805025 203.443241 \nL 86.474625 203.443241 \nL 86.474625 206.705004 \nL 87.144225 206.705004 \nL 87.144225 205.61775 \nL 87.813825 205.61775 \nL 87.813825 210.292943 \nL 88.483425 210.292943 \nL 88.483425 213.554707 \nL 89.153025 213.554707 \nL 89.153025 208.662062 \nL 89.822625 208.662062 \nL 89.822625 214.315785 \nL 90.492225 214.315785 \nL 90.492225 210.510394 \nL 91.161825 210.510394 \nL 91.161825 213.772157 \nL 91.831425 213.772157 \nL 91.831425 212.250001 \nL 92.501025 212.250001 \nL 92.501025 210.945296 \nL 93.170625 210.945296 \nL 93.170625 216.599019 \nL 93.840225 216.599019 \nL 93.840225 214.968137 \nL 95.179425 214.968137 \nL 95.179425 217.794999 \nL 97.857825 217.686273 \nL 97.857825 217.360097 \nL 98.527425 217.360097 \nL 98.527425 218.556077 \nL 99.866625 218.556077 \nL 99.866625 221.056762 \nL 101.875425 221.056762 \nL 101.875425 220.295684 \nL 102.545025 220.295684 \nL 102.545025 219.534606 \nL 103.214625 219.534606 \nL 103.214625 220.62186 \nL 103.884225 220.62186 \nL 103.884225 221.81784 \nL 105.223425 221.81784 \nL 105.223425 219.42588 \nL 105.893025 219.42588 \nL 105.893025 220.404409 \nL 106.562625 220.404409 \nL 106.562625 221.491663 \nL 107.232225 221.491663 \nL 107.232225 222.470192 \nL 107.901825 222.470192 \nL 107.901825 222.687643 \nL 108.571425 222.687643 \nL 108.571425 221.491663 \nL 109.241025 221.491663 \nL 109.241025 220.948036 \nL 109.910625 220.948036 \nL 109.910625 221.81784 \nL 111.249825 221.926565 \nL 111.249825 221.491663 \nL 111.919425 221.491663 \nL 111.919425 222.905094 \nL 112.589025 222.905094 \nL 112.589025 221.600389 \nL 113.258625 221.600389 \nL 113.258625 223.339996 \nL 113.928225 223.339996 \nL 113.928225 222.905094 \nL 114.597825 222.905094 \nL 114.597825 221.81784 \nL 115.267425 221.81784 \nL 115.267425 221.491663 \nL 115.937025 221.491663 \nL 115.937025 222.578918 \nL 116.606625 222.578918 \nL 116.606625 223.23127 \nL 117.276225 223.23127 \nL 117.276225 221.926565 \nL 117.945825 221.926565 \nL 117.945825 223.666172 \nL 118.615425 223.666172 \nL 118.615425 221.926565 \nL 119.285025 221.926565 \nL 119.285025 222.144016 \nL 119.954625 222.144016 \nL 119.954625 223.23127 \nL 120.624225 223.23127 \nL 120.624225 222.144016 \nL 121.963425 222.144016 \nL 121.963425 221.382938 \nL 122.633025 221.382938 \nL 122.633025 222.905094 \nL 123.302625 222.905094 \nL 123.302625 222.578918 \nL 123.972225 222.578918 \nL 123.972225 223.23127 \nL 124.641825 223.23127 \nL 124.641825 222.905094 \nL 125.311425 222.905094 \nL 125.311425 222.470192 \nL 126.650625 222.361467 \nL 126.650625 221.926565 \nL 127.320225 221.926565 \nL 127.320225 222.687643 \nL 127.989825 222.687643 \nL 127.989825 223.23127 \nL 128.659425 223.23127 \nL 128.659425 222.361467 \nL 129.998625 222.361467 \nL 129.998625 220.404409 \nL 130.668225 220.404409 \nL 130.668225 222.796369 \nL 131.337825 222.796369 \nL 131.337825 221.600389 \nL 132.007425 221.600389 \nL 132.007425 223.122545 \nL 133.346625 223.013819 \nL 133.346625 222.687643 \nL 134.016225 222.687643 \nL 134.016225 222.905094 \nL 135.355425 223.013819 \nL 135.355425 221.926565 \nL 136.025025 221.926565 \nL 136.025025 222.578918 \nL 137.364225 222.687643 \nL 137.364225 223.448721 \nL 138.033825 223.448721 \nL 138.033825 221.709114 \nL 138.703425 221.709114 \nL 138.703425 223.23127 \nL 139.373025 223.23127 \nL 139.373025 222.687643 \nL 140.042625 222.687643 \nL 140.042625 221.926565 \nL 140.712225 221.926565 \nL 140.712225 222.796369 \nL 141.381825 222.796369 \nL 141.381825 222.470192 \nL 142.051425 222.470192 \nL 142.051425 223.122545 \nL 142.721025 223.122545 \nL 142.721025 222.035291 \nL 143.390625 222.035291 \nL 143.390625 221.709114 \nL 144.060225 221.709114 \nL 144.060225 222.144016 \nL 144.729825 222.144016 \nL 144.729825 222.905094 \nL 145.399425 222.905094 \nL 145.399425 220.62186 \nL 146.069025 220.62186 \nL 146.069025 222.578918 \nL 146.738625 222.578918 \nL 146.738625 222.035291 \nL 147.408225 222.035291 \nL 147.408225 223.013819 \nL 148.077825 223.013819 \nL 148.077825 222.687643 \nL 148.747425 222.687643 \nL 148.747425 224.209799 \nL 149.417025 224.209799 \nL 149.417025 223.122545 \nL 150.086625 223.122545 \nL 150.086625 222.578918 \nL 150.756225 222.578918 \nL 150.756225 223.122545 \nL 151.425825 223.122545 \nL 151.425825 221.709114 \nL 152.095425 221.709114 \nL 152.095425 221.274212 \nL 152.765025 221.274212 \nL 152.765025 222.905094 \nL 153.434625 222.905094 \nL 153.434625 222.144016 \nL 154.104225 222.144016 \nL 154.104225 224.209799 \nL 154.773825 224.209799 \nL 154.773825 222.470192 \nL 155.443425 222.470192 \nL 155.443425 224.318525 \nL 156.113025 224.318525 \nL 156.113025 221.056762 \nL 156.782625 221.056762 \nL 156.782625 223.557447 \nL 157.452225 223.557447 \nL 157.452225 221.491663 \nL 158.121825 221.491663 \nL 158.121825 222.035291 \nL 158.791425 222.035291 \nL 158.791425 223.774898 \nL 159.461025 223.774898 \nL 159.461025 224.42725 \nL 160.130625 224.42725 \nL 160.130625 221.491663 \nL 160.800225 221.491663 \nL 160.800225 223.339996 \nL 161.469825 223.339996 \nL 161.469825 222.905094 \nL 162.139425 222.905094 \nL 162.139425 220.839311 \nL 162.809025 220.839311 \nL 162.809025 222.796369 \nL 164.817825 222.796369 \nL 164.817825 222.144016 \nL 165.487425 222.144016 \nL 165.487425 223.883623 \nL 166.157025 223.883623 \nL 166.157025 222.687643 \nL 166.826625 222.687643 \nL 166.826625 221.382938 \nL 167.496225 221.382938 \nL 167.496225 223.883623 \nL 168.165825 223.883623 \nL 168.165825 222.470192 \nL 168.835425 222.470192 \nL 168.835425 221.709114 \nL 169.505025 221.709114 \nL 169.505025 220.62186 \nL 170.174625 220.62186 \nL 170.174625 221.274212 \nL 170.844225 221.274212 \nL 170.844225 222.361467 \nL 171.513825 222.361467 \nL 171.513825 221.81784 \nL 172.853025 221.709114 \nL 172.853025 223.23127 \nL 173.522625 223.23127 \nL 173.522625 223.013819 \nL 174.192225 223.013819 \nL 174.192225 220.186958 \nL 174.861825 220.186958 \nL 174.861825 223.774898 \nL 175.531425 223.774898 \nL 175.531425 222.035291 \nL 176.201025 222.035291 \nL 176.201025 222.578918 \nL 176.870625 222.578918 \nL 176.870625 221.81784 \nL 177.540225 221.81784 \nL 177.540225 222.796369 \nL 178.209825 222.796369 \nL 178.209825 222.361467 \nL 178.879425 222.361467 \nL 178.879425 221.926565 \nL 180.218625 221.81784 \nL 180.218625 224.862152 \nL 180.888225 224.862152 \nL 180.888225 223.23127 \nL 182.227425 223.122545 \nL 182.227425 222.796369 \nL 182.897025 222.796369 \nL 182.897025 223.23127 \nL 183.566625 223.23127 \nL 183.566625 222.687643 \nL 184.236225 222.687643 \nL 184.236225 224.101074 \nL 184.905825 224.101074 \nL 184.905825 223.23127 \nL 185.575425 223.23127 \nL 185.575425 222.578918 \nL 186.245025 222.578918 \nL 186.245025 223.557447 \nL 186.914625 223.557447 \nL 186.914625 222.144016 \nL 187.584225 222.144016 \nL 187.584225 223.557447 \nL 188.253825 223.557447 \nL 188.253825 222.252741 \nL 188.923425 222.252741 \nL 188.923425 224.970877 \nL 189.593025 224.970877 \nL 189.593025 223.122545 \nL 190.932225 223.122545 \nL 190.932225 222.470192 \nL 191.601825 222.470192 \nL 191.601825 222.252741 \nL 192.271425 222.252741 \nL 192.271425 221.382938 \nL 192.941025 221.382938 \nL 192.941025 222.144016 \nL 193.610625 222.144016 \nL 193.610625 223.992348 \nL 194.280225 223.992348 \nL 194.280225 222.687643 \nL 194.949825 222.687643 \nL 194.949825 223.774898 \nL 196.958625 223.774898 \nL 196.958625 223.557447 \nL 197.628225 223.557447 \nL 197.628225 221.709114 \nL 198.297825 221.709114 \nL 198.297825 222.578918 \nL 198.967425 222.578918 \nL 198.967425 222.035291 \nL 199.637025 222.035291 \nL 199.637025 222.361467 \nL 201.645825 222.470192 \nL 201.645825 223.883623 \nL 202.315425 223.883623 \nL 202.315425 222.905094 \nL 203.654625 222.796369 \nL 203.654625 222.252741 \nL 204.324225 222.252741 \nL 204.324225 222.687643 \nL 204.993825 222.687643 \nL 204.993825 223.448721 \nL 205.663425 223.448721 \nL 205.663425 223.666172 \nL 206.333025 223.666172 \nL 206.333025 223.23127 \nL 207.002625 223.23127 \nL 207.002625 221.926565 \nL 207.672225 221.926565 \nL 207.672225 223.557447 \nL 208.341825 223.557447 \nL 208.341825 222.035291 \nL 209.681025 222.144016 \nL 209.681025 222.687643 \nL 210.350625 222.687643 \nL 210.350625 220.186958 \nL 211.020225 220.186958 \nL 211.020225 222.035291 \nL 211.689825 222.035291 \nL 211.689825 222.687643 \nL 212.359425 222.687643 \nL 212.359425 223.557447 \nL 213.029025 223.557447 \nL 213.029025 221.709114 \nL 213.698625 221.709114 \nL 213.698625 222.252741 \nL 214.368225 222.252741 \nL 214.368225 221.382938 \nL 215.037825 221.382938 \nL 215.037825 222.578918 \nL 215.707425 222.578918 \nL 215.707425 222.144016 \nL 216.377025 222.144016 \nL 216.377025 223.883623 \nL 217.046625 223.883623 \nL 217.046625 222.144016 \nL 217.716225 222.144016 \nL 217.716225 223.122545 \nL 218.385825 223.122545 \nL 218.385825 222.905094 \nL 219.055425 222.905094 \nL 219.055425 223.557447 \nL 219.725025 223.557447 \nL 219.725025 221.709114 \nL 220.394625 221.709114 \nL 220.394625 221.382938 \nL 221.064225 221.382938 \nL 221.064225 223.774898 \nL 221.733825 223.774898 \nL 221.733825 222.252741 \nL 222.403425 222.252741 \nL 222.403425 223.122545 \nL 223.742625 223.23127 \nL 223.742625 224.862152 \nL 224.412225 224.862152 \nL 224.412225 221.491663 \nL 225.081825 221.491663 \nL 225.081825 222.361467 \nL 225.751425 222.361467 \nL 225.751425 222.687643 \nL 226.421025 222.687643 \nL 226.421025 223.122545 \nL 227.090625 223.122545 \nL 227.090625 223.448721 \nL 227.760225 223.448721 \nL 227.760225 223.013819 \nL 228.429825 223.013819 \nL 228.429825 223.339996 \nL 229.769025 223.23127 \nL 229.769025 223.557447 \nL 230.438625 223.557447 \nL 230.438625 223.992348 \nL 231.108225 223.992348 \nL 231.108225 222.578918 \nL 231.777825 222.578918 \nL 231.777825 223.013819 \nL 232.447425 223.013819 \nL 232.447425 222.035291 \nL 233.117025 222.035291 \nL 233.117025 223.23127 \nL 233.786625 223.23127 \nL 233.786625 222.905094 \nL 235.125825 223.013819 \nL 235.125825 222.144016 \nL 235.795425 222.144016 \nL 235.795425 222.361467 \nL 236.465025 222.361467 \nL 236.465025 221.491663 \nL 237.134625 221.491663 \nL 237.134625 223.339996 \nL 237.804225 223.339996 \nL 237.804225 222.905094 \nL 238.473825 222.905094 \nL 238.473825 222.252741 \nL 239.143425 222.252741 \nL 239.143425 221.709114 \nL 239.813025 221.709114 \nL 239.813025 222.361467 \nL 240.482625 222.361467 \nL 240.482625 222.905094 \nL 241.152225 222.905094 \nL 241.152225 222.252741 \nL 241.821825 222.252741 \nL 241.821825 222.470192 \nL 243.830625 222.470192 \nL 243.830625 221.056762 \nL 244.500225 221.056762 \nL 244.500225 222.578918 \nL 247.178625 222.470192 \nL 247.178625 223.013819 \nL 247.848225 223.013819 \nL 247.848225 221.491663 \nL 248.517825 221.491663 \nL 248.517825 223.122545 \nL 249.187425 223.122545 \nL 249.187425 221.491663 \nL 249.857025 221.491663 \nL 249.857025 223.122545 \nL 250.526625 223.122545 \nL 250.526625 222.035291 \nL 251.196225 222.035291 \nL 251.196225 222.578918 \nL 251.865825 222.578918 \nL 251.865825 222.144016 \nL 252.535425 222.144016 \nL 252.535425 222.687643 \nL 253.205025 222.687643 \nL 253.205025 223.883623 \nL 253.874625 223.883623 \nL 253.874625 222.905094 \nL 254.544225 222.905094 \nL 254.544225 222.687643 \nL 255.213825 222.687643 \nL 255.213825 222.361467 \nL 255.883425 222.361467 \nL 255.883425 223.557447 \nL 256.553025 223.557447 \nL 256.553025 222.687643 \nL 257.222625 222.687643 \nL 257.222625 224.209799 \nL 257.892225 224.209799 \nL 257.892225 223.448721 \nL 258.561825 223.448721 \nL 258.561825 222.361467 \nL 259.231425 222.361467 \nL 259.231425 223.23127 \nL 260.570625 223.122545 \nL 260.570625 221.81784 \nL 261.240225 221.81784 \nL 261.240225 221.600389 \nL 261.909825 221.600389 \nL 261.909825 222.687643 \nL 263.249025 222.578918 \nL 263.249025 222.361467 \nL 263.918625 222.361467 \nL 263.918625 223.666172 \nL 264.588225 223.666172 \nL 264.588225 222.796369 \nL 265.257825 222.796369 \nL 265.257825 222.578918 \nL 265.927425 222.578918 \nL 265.927425 223.339996 \nL 266.597025 223.339996 \nL 266.597025 222.687643 \nL 267.266625 222.687643 \nL 267.266625 221.926565 \nL 267.936225 221.926565 \nL 267.936225 222.687643 \nL 269.275425 222.687643 \nL 269.275425 222.252741 \nL 269.945025 222.252741 \nL 269.945025 222.687643 \nL 270.614625 222.687643 \nL 270.614625 222.361467 \nL 271.284225 222.361467 \nL 271.284225 221.81784 \nL 271.953825 221.81784 \nL 271.953825 221.600389 \nL 272.623425 221.600389 \nL 272.623425 222.687643 \nL 273.962625 222.687643 \nL 273.962625 221.926565 \nL 274.632225 221.926565 \nL 274.632225 222.796369 \nL 275.301825 222.796369 \nL 275.301825 223.013819 \nL 275.971425 223.013819 \nL 275.971425 222.361467 \nL 276.641025 222.361467 \nL 276.641025 222.144016 \nL 277.310625 222.144016 \nL 277.310625 221.165487 \nL 277.980225 221.165487 \nL 277.980225 221.81784 \nL 278.649825 221.81784 \nL 278.649825 223.013819 \nL 279.319425 223.013819 \nL 279.319425 222.796369 \nL 279.989025 222.796369 \nL 279.989025 222.361467 \nL 280.658625 222.361467 \nL 280.658625 223.23127 \nL 281.328225 223.23127 \nL 281.328225 222.687643 \nL 281.997825 222.687643 \nL 281.997825 223.557447 \nL 282.667425 223.557447 \nL 282.667425 222.905094 \nL 283.337025 222.905094 \nL 283.337025 223.23127 \nL 284.006625 223.23127 \nL 284.006625 222.687643 \nL 285.345825 222.578918 \nL 285.345825 223.774898 \nL 286.015425 223.774898 \nL 286.015425 222.687643 \nL 286.685025 222.687643 \nL 286.685025 222.035291 \nL 287.354625 222.035291 \nL 287.354625 223.774898 \nL 288.024225 223.774898 \nL 288.024225 222.578918 \nL 289.363425 222.578918 \nL 289.363425 222.252741 \nL 291.372225 222.361467 \nL 291.372225 222.035291 \nL 292.041825 222.035291 \nL 292.041825 221.709114 \nL 292.711425 221.709114 \nL 292.711425 222.796369 \nL 294.050625 222.687643 \nL 294.050625 222.578918 \nL 294.720225 222.578918 \nL 294.720225 222.905094 \nL 295.389825 222.905094 \nL 295.389825 220.948036 \nL 296.059425 220.948036 \nL 296.059425 221.274212 \nL 296.729025 221.274212 \nL 296.729025 223.23127 \nL 297.398625 223.23127 \nL 297.398625 223.448721 \nL 298.737825 223.448721 \nL 298.737825 221.709114 \nL 299.407425 221.709114 \nL 299.407425 222.035291 \nL 300.077025 222.035291 \nL 300.077025 222.361467 \nL 300.746625 222.361467 \nL 300.746625 222.905094 \nL 301.416225 222.905094 \nL 301.416225 222.578918 \nL 302.085825 222.578918 \nL 302.085825 223.013819 \nL 302.755425 223.013819 \nL 302.755425 222.361467 \nL 303.425025 222.361467 \nL 303.425025 223.013819 \nL 304.764225 223.122545 \nL 304.764225 222.470192 \nL 306.103425 222.578918 \nL 306.103425 220.186958 \nL 306.773025 220.186958 \nL 306.773025 221.600389 \nL 307.442625 221.600389 \nL 307.442625 223.339996 \nL 308.112225 223.339996 \nL 308.112225 222.144016 \nL 308.781825 222.144016 \nL 308.781825 223.23127 \nL 310.121025 223.122545 \nL 310.121025 221.491663 \nL 310.790625 221.491663 \nL 310.790625 228.450091 \nL 394.490625 228.450091 \nL 394.490625 228.450091 \n\" style=\"fill:none;stroke:#ff7f0e;stroke-linejoin:miter;\"/>\n   </g>\n   <g id=\"patch_5\">\n    <path clip-path=\"url(#p9c6b95cc7d)\" d=\"M 59.690625 228.450091 \nL 59.690625 224.066282 \nL 60.360225 224.066282 \nL 60.360225 224.209799 \nL 61.029825 224.209799 \nL 61.029825 224.360565 \nL 62.369025 224.421451 \nL 62.369025 224.553372 \nL 64.377825 224.475089 \nL 64.377825 224.882447 \nL 65.717025 224.941884 \nL 65.717025 224.730232 \nL 67.056225 224.834608 \nL 67.056225 224.943334 \nL 67.725825 224.943334 \nL 67.725825 225.107147 \nL 69.065025 225.08975 \nL 69.065025 225.230369 \nL 71.073825 225.297054 \nL 71.073825 225.378235 \nL 72.413025 225.352141 \nL 72.413025 225.530451 \nL 73.752225 225.460867 \nL 73.752225 225.652223 \nL 75.091425 225.629029 \nL 75.091425 225.795741 \nL 77.769825 225.901567 \nL 77.769825 225.992896 \nL 79.778625 226.076977 \nL 79.778625 226.124817 \nL 82.457025 226.174105 \nL 82.457025 226.262536 \nL 84.465825 226.335019 \nL 84.465825 226.459691 \nL 85.135425 226.459691 \nL 85.135425 226.313274 \nL 85.805025 226.313274 \nL 85.805025 226.493033 \nL 88.483425 226.498832 \nL 88.483425 226.613356 \nL 90.492225 226.701786 \nL 90.492225 226.803263 \nL 93.170625 226.835156 \nL 93.170625 226.927935 \nL 96.518625 227.022164 \nL 96.518625 227.113493 \nL 97.857825 227.068553 \nL 97.857825 226.919237 \nL 98.527425 226.919237 \nL 98.527425 227.042459 \nL 99.866625 227.055506 \nL 99.866625 227.223668 \nL 105.223425 227.225118 \nL 105.223425 227.358488 \nL 109.241025 227.396179 \nL 109.241025 227.500556 \nL 113.258625 227.600583 \nL 113.258625 227.620879 \nL 119.954625 227.675966 \nL 119.954625 227.751349 \nL 127.320225 227.818034 \nL 127.320225 227.871672 \nL 136.694625 227.973149 \nL 136.694625 227.986196 \nL 170.844225 227.890518 \nL 170.844225 227.870222 \nL 174.861825 227.842679 \nL 174.861825 227.744101 \nL 182.227425 227.645523 \nL 182.227425 227.619429 \nL 186.914625 227.559992 \nL 186.914625 227.468663 \nL 192.941025 227.362837 \nL 192.941025 227.35124 \nL 194.949825 227.3063 \nL 194.949825 227.219319 \nL 198.967425 227.184527 \nL 198.967425 227.04101 \nL 200.306625 227.106245 \nL 200.306625 227.191776 \nL 200.976225 227.191776 \nL 200.976225 227.058406 \nL 206.333025 226.983023 \nL 206.333025 226.920687 \nL 212.359425 226.810512 \nL 212.359425 226.73078 \nL 216.377025 226.736578 \nL 216.377025 226.867049 \nL 217.046625 226.867049 \nL 217.046625 226.691639 \nL 219.055425 226.765572 \nL 219.055425 226.829357 \nL 221.064225 226.791666 \nL 221.064225 226.674243 \nL 229.769025 226.716283 \nL 229.769025 226.809062 \nL 230.438625 226.809062 \nL 230.438625 226.688739 \nL 239.143425 226.753974 \nL 239.143425 226.845304 \nL 244.500225 226.932284 \nL 244.500225 226.978674 \nL 249.187425 227.032312 \nL 249.187425 227.096097 \nL 253.874625 227.139587 \nL 253.874625 227.212071 \nL 256.553025 227.222219 \nL 256.553025 227.332394 \nL 261.909825 227.400528 \nL 261.909825 227.48171 \nL 267.266625 227.548395 \nL 267.266625 227.620879 \nL 269.945025 227.65712 \nL 269.945025 227.749899 \nL 275.971425 227.83543 \nL 275.971425 227.889068 \nL 283.337025 227.971699 \nL 283.337025 228.049982 \nL 290.033025 228.112318 \nL 290.033025 228.164506 \nL 299.407425 228.248587 \nL 299.407425 228.299325 \nL 316.817025 228.405151 \nL 316.817025 228.41095 \nL 394.490625 228.450091 \nL 394.490625 228.450091 \n\" style=\"fill:none;stroke:#2ca02c;stroke-linejoin:miter;\"/>\n   </g>\n   <g id=\"patch_6\">\n    <path d=\"M 59.690625 228.439219 \nL 59.690625 10.999219 \n\" style=\"fill:none;stroke:#000000;stroke-linecap:square;stroke-linejoin:miter;stroke-width:0.8;\"/>\n   </g>\n   <g id=\"patch_7\">\n    <path d=\"M 394.490625 228.439219 \nL 394.490625 10.999219 \n\" style=\"fill:none;stroke:#000000;stroke-linecap:square;stroke-linejoin:miter;stroke-width:0.8;\"/>\n   </g>\n   <g id=\"patch_8\">\n    <path d=\"M 59.690625 228.439219 \nL 394.490625 228.439219 \n\" style=\"fill:none;stroke:#000000;stroke-linecap:square;stroke-linejoin:miter;stroke-width:0.8;\"/>\n   </g>\n   <g id=\"patch_9\">\n    <path d=\"M 59.690625 10.999219 \nL 394.490625 10.999219 \n\" style=\"fill:none;stroke:#000000;stroke-linecap:square;stroke-linejoin:miter;stroke-width:0.8;\"/>\n   </g>\n   <g id=\"legend_1\">\n    <g id=\"patch_10\">\n     <path d=\"M 287.55 63.033594 \nL 387.490625 63.033594 \nQ 389.490625 63.033594 389.490625 61.033594 \nL 389.490625 17.999219 \nQ 389.490625 15.999219 387.490625 15.999219 \nL 287.55 15.999219 \nQ 285.55 15.999219 285.55 17.999219 \nL 285.55 61.033594 \nQ 285.55 63.033594 287.55 63.033594 \nz\n\" style=\"fill:#ffffff;opacity:0.8;stroke:#cccccc;stroke-linejoin:miter;\"/>\n    </g>\n    <g id=\"patch_11\">\n     <path d=\"M 289.55 27.597656 \nL 309.55 27.597656 \nL 309.55 20.597656 \nL 289.55 20.597656 \nz\n\" style=\"fill:none;stroke:#1f77b4;stroke-linejoin:miter;\"/>\n    </g>\n    <g id=\"text_17\">\n     <!-- Experiment A -->\n     <g transform=\"translate(317.55 27.597656)scale(0.1 -0.1)\">\n      <defs>\n       <path d=\"M 54.890625 54.6875 \nL 35.109375 28.078125 \nL 55.90625 0 \nL 45.3125 0 \nL 29.390625 21.484375 \nL 13.484375 0 \nL 2.875 0 \nL 24.125 28.609375 \nL 4.6875 54.6875 \nL 15.28125 54.6875 \nL 29.78125 35.203125 \nL 44.28125 54.6875 \nz\n\" id=\"DejaVuSans-120\"/>\n       <path d=\"M 18.109375 8.203125 \nL 18.109375 -20.796875 \nL 9.078125 -20.796875 \nL 9.078125 54.6875 \nL 18.109375 54.6875 \nL 18.109375 46.390625 \nQ 20.953125 51.265625 25.265625 53.625 \nQ 29.59375 56 35.59375 56 \nQ 45.5625 56 51.78125 48.09375 \nQ 58.015625 40.1875 58.015625 27.296875 \nQ 58.015625 14.40625 51.78125 6.484375 \nQ 45.5625 -1.421875 35.59375 -1.421875 \nQ 29.59375 -1.421875 25.265625 0.953125 \nQ 20.953125 3.328125 18.109375 8.203125 \nz\nM 48.6875 27.296875 \nQ 48.6875 37.203125 44.609375 42.84375 \nQ 40.53125 48.484375 33.40625 48.484375 \nQ 26.265625 48.484375 22.1875 42.84375 \nQ 18.109375 37.203125 18.109375 27.296875 \nQ 18.109375 17.390625 22.1875 11.75 \nQ 26.265625 6.109375 33.40625 6.109375 \nQ 40.53125 6.109375 44.609375 11.75 \nQ 48.6875 17.390625 48.6875 27.296875 \nz\n\" id=\"DejaVuSans-112\"/>\n       <path d=\"M 9.421875 54.6875 \nL 18.40625 54.6875 \nL 18.40625 0 \nL 9.421875 0 \nz\nM 9.421875 75.984375 \nL 18.40625 75.984375 \nL 18.40625 64.59375 \nL 9.421875 64.59375 \nz\n\" id=\"DejaVuSans-105\"/>\n       <path d=\"M 52 44.1875 \nQ 55.375 50.25 60.0625 53.125 \nQ 64.75 56 71.09375 56 \nQ 79.640625 56 84.28125 50.015625 \nQ 88.921875 44.046875 88.921875 33.015625 \nL 88.921875 0 \nL 79.890625 0 \nL 79.890625 32.71875 \nQ 79.890625 40.578125 77.09375 44.375 \nQ 74.3125 48.1875 68.609375 48.1875 \nQ 61.625 48.1875 57.5625 43.546875 \nQ 53.515625 38.921875 53.515625 30.90625 \nL 53.515625 0 \nL 44.484375 0 \nL 44.484375 32.71875 \nQ 44.484375 40.625 41.703125 44.40625 \nQ 38.921875 48.1875 33.109375 48.1875 \nQ 26.21875 48.1875 22.15625 43.53125 \nQ 18.109375 38.875 18.109375 30.90625 \nL 18.109375 0 \nL 9.078125 0 \nL 9.078125 54.6875 \nL 18.109375 54.6875 \nL 18.109375 46.1875 \nQ 21.1875 51.21875 25.484375 53.609375 \nQ 29.78125 56 35.6875 56 \nQ 41.65625 56 45.828125 52.96875 \nQ 50 49.953125 52 44.1875 \nz\n\" id=\"DejaVuSans-109\"/>\n       <path d=\"M 34.1875 63.1875 \nL 20.796875 26.90625 \nL 47.609375 26.90625 \nz\nM 28.609375 72.90625 \nL 39.796875 72.90625 \nL 67.578125 0 \nL 57.328125 0 \nL 50.6875 18.703125 \nL 17.828125 18.703125 \nL 11.1875 0 \nL 0.78125 0 \nz\n\" id=\"DejaVuSans-65\"/>\n      </defs>\n      <use xlink:href=\"#DejaVuSans-69\"/>\n      <use x=\"63.183594\" xlink:href=\"#DejaVuSans-120\"/>\n      <use x=\"122.363281\" xlink:href=\"#DejaVuSans-112\"/>\n      <use x=\"185.839844\" xlink:href=\"#DejaVuSans-101\"/>\n      <use x=\"247.363281\" xlink:href=\"#DejaVuSans-114\"/>\n      <use x=\"288.476562\" xlink:href=\"#DejaVuSans-105\"/>\n      <use x=\"316.259766\" xlink:href=\"#DejaVuSans-109\"/>\n      <use x=\"413.671875\" xlink:href=\"#DejaVuSans-101\"/>\n      <use x=\"475.195312\" xlink:href=\"#DejaVuSans-110\"/>\n      <use x=\"538.574219\" xlink:href=\"#DejaVuSans-116\"/>\n      <use x=\"577.783203\" xlink:href=\"#DejaVuSans-32\"/>\n      <use x=\"609.570312\" xlink:href=\"#DejaVuSans-65\"/>\n     </g>\n    </g>\n    <g id=\"patch_12\">\n     <path d=\"M 289.55 42.275781 \nL 309.55 42.275781 \nL 309.55 35.275781 \nL 289.55 35.275781 \nz\n\" style=\"fill:none;stroke:#ff7f0e;stroke-linejoin:miter;\"/>\n    </g>\n    <g id=\"text_18\">\n     <!-- Experiment B -->\n     <g transform=\"translate(317.55 42.275781)scale(0.1 -0.1)\">\n      <defs>\n       <path d=\"M 19.671875 34.8125 \nL 19.671875 8.109375 \nL 35.5 8.109375 \nQ 43.453125 8.109375 47.28125 11.40625 \nQ 51.125 14.703125 51.125 21.484375 \nQ 51.125 28.328125 47.28125 31.5625 \nQ 43.453125 34.8125 35.5 34.8125 \nz\nM 19.671875 64.796875 \nL 19.671875 42.828125 \nL 34.28125 42.828125 \nQ 41.5 42.828125 45.03125 45.53125 \nQ 48.578125 48.25 48.578125 53.8125 \nQ 48.578125 59.328125 45.03125 62.0625 \nQ 41.5 64.796875 34.28125 64.796875 \nz\nM 9.8125 72.90625 \nL 35.015625 72.90625 \nQ 46.296875 72.90625 52.390625 68.21875 \nQ 58.5 63.53125 58.5 54.890625 \nQ 58.5 48.1875 55.375 44.234375 \nQ 52.25 40.28125 46.1875 39.3125 \nQ 53.46875 37.75 57.5 32.78125 \nQ 61.53125 27.828125 61.53125 20.40625 \nQ 61.53125 10.640625 54.890625 5.3125 \nQ 48.25 0 35.984375 0 \nL 9.8125 0 \nz\n\" id=\"DejaVuSans-66\"/>\n      </defs>\n      <use xlink:href=\"#DejaVuSans-69\"/>\n      <use x=\"63.183594\" xlink:href=\"#DejaVuSans-120\"/>\n      <use x=\"122.363281\" xlink:href=\"#DejaVuSans-112\"/>\n      <use x=\"185.839844\" xlink:href=\"#DejaVuSans-101\"/>\n      <use x=\"247.363281\" xlink:href=\"#DejaVuSans-114\"/>\n      <use x=\"288.476562\" xlink:href=\"#DejaVuSans-105\"/>\n      <use x=\"316.259766\" xlink:href=\"#DejaVuSans-109\"/>\n      <use x=\"413.671875\" xlink:href=\"#DejaVuSans-101\"/>\n      <use x=\"475.195312\" xlink:href=\"#DejaVuSans-110\"/>\n      <use x=\"538.574219\" xlink:href=\"#DejaVuSans-116\"/>\n      <use x=\"577.783203\" xlink:href=\"#DejaVuSans-32\"/>\n      <use x=\"609.570312\" xlink:href=\"#DejaVuSans-66\"/>\n     </g>\n    </g>\n    <g id=\"patch_13\">\n     <path d=\"M 289.55 56.953906 \nL 309.55 56.953906 \nL 309.55 49.953906 \nL 289.55 49.953906 \nz\n\" style=\"fill:none;stroke:#2ca02c;stroke-linejoin:miter;\"/>\n    </g>\n    <g id=\"text_19\">\n     <!-- Experiment C -->\n     <g transform=\"translate(317.55 56.953906)scale(0.1 -0.1)\">\n      <use xlink:href=\"#DejaVuSans-69\"/>\n      <use x=\"63.183594\" xlink:href=\"#DejaVuSans-120\"/>\n      <use x=\"122.363281\" xlink:href=\"#DejaVuSans-112\"/>\n      <use x=\"185.839844\" xlink:href=\"#DejaVuSans-101\"/>\n      <use x=\"247.363281\" xlink:href=\"#DejaVuSans-114\"/>\n      <use x=\"288.476562\" xlink:href=\"#DejaVuSans-105\"/>\n      <use x=\"316.259766\" xlink:href=\"#DejaVuSans-109\"/>\n      <use x=\"413.671875\" xlink:href=\"#DejaVuSans-101\"/>\n      <use x=\"475.195312\" xlink:href=\"#DejaVuSans-110\"/>\n      <use x=\"538.574219\" xlink:href=\"#DejaVuSans-116\"/>\n      <use x=\"577.783203\" xlink:href=\"#DejaVuSans-32\"/>\n      <use x=\"609.570312\" xlink:href=\"#DejaVuSans-67\"/>\n     </g>\n    </g>\n   </g>\n  </g>\n </g>\n <defs>\n  <clipPath id=\"p9c6b95cc7d\">\n   <rect height=\"217.44\" width=\"334.8\" x=\"59.690625\" y=\"10.999219\"/>\n  </clipPath>\n </defs>\n</svg>\n",
          "text/plain": "<Figure size 432x288 with 1 Axes>"
         },
         "metadata": {
          "needs_background": "light"
         },
         "output_type": "display_data"
        }
       ]
      }
     },
     "f5bd4a81e81245a485538f6bf6763725": {
      "model_module": "@jupyter-widgets/controls",
      "model_module_version": "1.5.0",
      "model_name": "IntSliderModel",
      "state": {
       "layout": "IPY_MODEL_902e25aef747499fa9643fdb62581c86",
       "max": 2000,
       "min": 20,
       "style": "IPY_MODEL_d424958ca1a74ad98b85216a7bf41b89",
       "value": 500
      }
     },
     "f62def50b22745ef85d378e8bfe19400": {
      "model_module": "@jupyter-widgets/controls",
      "model_module_version": "1.5.0",
      "model_name": "FloatSliderModel",
      "state": {
       "layout": "IPY_MODEL_c7833ac5717942e5972c534833998e81",
       "max": 10000,
       "min": 0.5,
       "step": 0.1,
       "style": "IPY_MODEL_fe309325dd8e4938ba734e7a6b95aa0b",
       "value": 1000
      }
     },
     "f7519b23a52044cd9db428ed91d74807": {
      "model_module": "@jupyter-widgets/controls",
      "model_module_version": "1.5.0",
      "model_name": "SliderStyleModel",
      "state": {
       "description_width": ""
      }
     },
     "f778378f272a4abcbb31c8d41723f773": {
      "model_module": "@jupyter-widgets/controls",
      "model_module_version": "1.5.0",
      "model_name": "SliderStyleModel",
      "state": {
       "description_width": ""
      }
     },
     "f7e7ea863f04440591472f6122610d2c": {
      "model_module": "@jupyter-widgets/controls",
      "model_module_version": "1.5.0",
      "model_name": "DescriptionStyleModel",
      "state": {
       "description_width": ""
      }
     },
     "f80d84f155aa4e8382a75b25395f09aa": {
      "model_module": "@jupyter-widgets/controls",
      "model_module_version": "1.5.0",
      "model_name": "IntSliderModel",
      "state": {
       "description": "bins",
       "layout": "IPY_MODEL_b8bf8bf1a960474ab7ea5df653cf286c",
       "max": 2000,
       "min": 20,
       "style": "IPY_MODEL_67a850290480478bb5d852552fe3f88e",
       "value": 500
      }
     },
     "f84e22fe6a6442efbec36279d7cb452d": {
      "model_module": "@jupyter-widgets/controls",
      "model_module_version": "1.5.0",
      "model_name": "CheckboxModel",
      "state": {
       "description": "Plot Experiment C",
       "disabled": false,
       "layout": "IPY_MODEL_7ce609b9c2134c92a72d3d07bd1591c4",
       "style": "IPY_MODEL_5ac3b89b89c242e59471bca582a30ed9",
       "value": true
      }
     },
     "f86054e1655d4b25a9ef8afd7a0e160b": {
      "model_module": "@jupyter-widgets/controls",
      "model_module_version": "1.5.0",
      "model_name": "DescriptionStyleModel",
      "state": {
       "description_width": ""
      }
     },
     "f8630d8df73347aea7b4727323c8de8c": {
      "model_module": "@jupyter-widgets/controls",
      "model_module_version": "1.5.0",
      "model_name": "SliderStyleModel",
      "state": {
       "description_width": ""
      }
     },
     "f86d6afb429a410a987626438582e8d1": {
      "model_module": "@jupyter-widgets/controls",
      "model_module_version": "1.5.0",
      "model_name": "FloatRangeSliderModel",
      "state": {
       "_model_name": "FloatRangeSliderModel",
       "_view_name": "FloatRangeSliderView",
       "description": "x_range",
       "layout": "IPY_MODEL_644db912a73d4ac6bee162f4daa6e959",
       "max": 20,
       "step": 0.1,
       "style": "IPY_MODEL_091fbd8dd27746b2b71d15b030758a7f",
       "value": [
        0,
        17.3
       ]
      }
     },
     "f8e7cb87409b4487ab1881d56af3e7f4": {
      "model_module": "@jupyter-widgets/controls",
      "model_module_version": "1.5.0",
      "model_name": "CheckboxModel",
      "state": {
       "description": "Plot Experiment B",
       "disabled": false,
       "layout": "IPY_MODEL_ef856bea9ca540b292495681ea764273",
       "style": "IPY_MODEL_58bdf8fd90194c3396a3c2f72b6bf399",
       "value": true
      }
     },
     "f90f3a7aa8d744e9b2a2561a662a1285": {
      "model_module": "@jupyter-widgets/controls",
      "model_module_version": "1.5.0",
      "model_name": "SliderStyleModel",
      "state": {
       "description_width": ""
      }
     },
     "f93334e3140041628bcc7b6ed1a2db48": {
      "model_module": "@jupyter-widgets/base",
      "model_module_version": "1.2.0",
      "model_name": "LayoutModel",
      "state": {}
     },
     "f94e2b2054c848e9805d2738a055d616": {
      "model_module": "@jupyter-widgets/controls",
      "model_module_version": "1.5.0",
      "model_name": "FloatLogSliderModel",
      "state": {
       "layout": "IPY_MODEL_fc7d66262cb54d9e962eb86bf5605213",
       "max": 5,
       "min": -1,
       "style": "IPY_MODEL_e4129191290f4b438942dcbde9cf63a2",
       "value": 0.5
      }
     },
     "f9c525d85e8e4e7a9f470446242f256d": {
      "model_module": "@jupyter-widgets/base",
      "model_module_version": "1.2.0",
      "model_name": "LayoutModel",
      "state": {}
     },
     "f9ff2156d1524af1b24922dd2dd944bb": {
      "model_module": "@jupyter-widgets/base",
      "model_module_version": "1.2.0",
      "model_name": "LayoutModel",
      "state": {}
     },
     "fae2854b16944a2bb7dc7bafbc972bc3": {
      "model_module": "@jupyter-widgets/controls",
      "model_module_version": "1.5.0",
      "model_name": "IntSliderModel",
      "state": {
       "layout": "IPY_MODEL_359d96aa153945e284e857ace5ac929e",
       "max": 2000,
       "min": 20,
       "style": "IPY_MODEL_de3e8921ef414703a5bf0346fb43f179",
       "value": 500
      }
     },
     "fb95337806f64db79618fdbb2b96d98d": {
      "model_module": "@jupyter-widgets/controls",
      "model_module_version": "1.5.0",
      "model_name": "DescriptionStyleModel",
      "state": {
       "description_width": ""
      }
     },
     "fbe6e3305f834e718379ed13a774b17e": {
      "model_module": "@jupyter-widgets/base",
      "model_module_version": "1.2.0",
      "model_name": "LayoutModel",
      "state": {}
     },
     "fc17cf1742fd4b7cbe37ec16aeccd2d5": {
      "model_module": "@jupyter-widgets/controls",
      "model_module_version": "1.5.0",
      "model_name": "DescriptionStyleModel",
      "state": {
       "description_width": ""
      }
     },
     "fc7d070628644c8ea5d5ef104a9e3a31": {
      "model_module": "@jupyter-widgets/controls",
      "model_module_version": "1.5.0",
      "model_name": "FloatSliderModel",
      "state": {
       "layout": "IPY_MODEL_de46c89f89fe44a1aeb6eb533689e0f3",
       "max": 20,
       "step": 0.1,
       "style": "IPY_MODEL_89ec177502ea4094aeafc0e277b7e5f8",
       "value": 20
      }
     },
     "fc7d66262cb54d9e962eb86bf5605213": {
      "model_module": "@jupyter-widgets/base",
      "model_module_version": "1.2.0",
      "model_name": "LayoutModel",
      "state": {}
     },
     "fc92efe6a26a46d2992c01f7c37f83f2": {
      "model_module": "@jupyter-widgets/controls",
      "model_module_version": "1.5.0",
      "model_name": "VBoxModel",
      "state": {
       "_dom_classes": [
        "widget-interact"
       ],
       "children": [
        "IPY_MODEL_2485a4a6d0bb4ca49877d5f7d4beb5ab",
        "IPY_MODEL_046c4dceae844812824d101e8ba03764",
        "IPY_MODEL_1ff5ea81202f4880afdd0ffda0b78e3a",
        "IPY_MODEL_05200794822445239cda792d44e6d78f",
        "IPY_MODEL_902cab4b93454e32833769740bbe887f",
        "IPY_MODEL_b261edf7aee041978876bea8620a07ea",
        "IPY_MODEL_ddaa2043c06c471f8bba6c7f02482e08",
        "IPY_MODEL_7ce1177b1123445face8d5d6231e1d9e",
        "IPY_MODEL_213d94262aaa4bcdbf94cd8b1d74881e"
       ],
       "layout": "IPY_MODEL_0bc8c6913b7e45eea2d2b1070d8dbca1"
      }
     },
     "fd1aa0a40a284334897933eb30898e2b": {
      "model_module": "@jupyter-widgets/controls",
      "model_module_version": "1.5.0",
      "model_name": "DropdownModel",
      "state": {
       "_options_labels": [
        "linear",
        "log"
       ],
       "description": "Scale: ",
       "index": 0,
       "layout": "IPY_MODEL_b90fcd094c4c4d098f3939445f5ee064",
       "style": "IPY_MODEL_aa2d87dcae144e7a89ca49d19c4ae1f7"
      }
     },
     "fdc8036c92e04bef9b15380dfd6ba412": {
      "model_module": "@jupyter-widgets/base",
      "model_module_version": "1.2.0",
      "model_name": "LayoutModel",
      "state": {}
     },
     "fe309325dd8e4938ba734e7a6b95aa0b": {
      "model_module": "@jupyter-widgets/controls",
      "model_module_version": "1.5.0",
      "model_name": "SliderStyleModel",
      "state": {
       "description_width": ""
      }
     },
     "feb681641b4348d4a8ce23304246cb36": {
      "model_module": "@jupyter-widgets/base",
      "model_module_version": "1.2.0",
      "model_name": "LayoutModel",
      "state": {}
     },
     "fedb7679d32747df85e43c22dc3d4a1c": {
      "model_module": "@jupyter-widgets/controls",
      "model_module_version": "1.5.0",
      "model_name": "SliderStyleModel",
      "state": {
       "description_width": ""
      }
     },
     "ff2307417bd34b319de438fb7f53c9ae": {
      "model_module": "@jupyter-widgets/controls",
      "model_module_version": "1.5.0",
      "model_name": "SliderStyleModel",
      "state": {
       "description_width": ""
      }
     },
     "ff4be2da481f4dbfbc3eaf8225fcd4ef": {
      "model_module": "@jupyter-widgets/base",
      "model_module_version": "1.2.0",
      "model_name": "LayoutModel",
      "state": {}
     },
     "ffd9df3d4d1e477da5653a643cf94829": {
      "model_module": "@jupyter-widgets/controls",
      "model_module_version": "1.5.0",
      "model_name": "VBoxModel",
      "state": {
       "_dom_classes": [
        "widget-interact"
       ],
       "children": [
        "IPY_MODEL_b6796ef7f2aa4fc9b2fa4728afcc6c92",
        "IPY_MODEL_1f4e29646d404cb68ca8573539620bc4",
        "IPY_MODEL_1cd7670a9e1445ffa2dd701758a43d06",
        "IPY_MODEL_10be9e38039246d9bc3410394b7e877d",
        "IPY_MODEL_f8e7cb87409b4487ab1881d56af3e7f4",
        "IPY_MODEL_e0f569452a17433ea4c05eab9d163149",
        "IPY_MODEL_b364549fcb7b4f1ab81d0a28172fc7fc",
        "IPY_MODEL_a61d225cf6ec4c6c8d4aba1c1ac7105d"
       ],
       "layout": "IPY_MODEL_eaa83cf516a54724be18e96af8fd6c6d"
      }
     }
    },
    "version_major": 2,
    "version_minor": 0
   }
  }
 },
 "nbformat": 4,
 "nbformat_minor": 4
}
