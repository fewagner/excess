{
 "cells": [
  {
   "cell_type": "code",
   "execution_count": 69,
   "id": "abfb16ee",
   "metadata": {},
   "outputs": [
    {
     "name": "stdout",
     "output_type": "stream",
     "text": [
      "Requirement already satisfied: pandas in /Users/margaritakaznacheeva/opt/anaconda3/lib/python3.8/site-packages (1.2.4)\r\n",
      "Requirement already satisfied: numpy in /Users/margaritakaznacheeva/opt/anaconda3/lib/python3.8/site-packages (1.20.1)\r\n",
      "Requirement already satisfied: python-dateutil>=2.7.3 in /Users/margaritakaznacheeva/opt/anaconda3/lib/python3.8/site-packages (from pandas) (2.8.1)\r\n",
      "Requirement already satisfied: pytz>=2017.3 in /Users/margaritakaznacheeva/opt/anaconda3/lib/python3.8/site-packages (from pandas) (2021.1)\r\n",
      "Requirement already satisfied: six>=1.5 in /Users/margaritakaznacheeva/opt/anaconda3/lib/python3.8/site-packages (from python-dateutil>=2.7.3->pandas) (1.15.0)\r\n"
     ]
    }
   ],
   "source": [
    "!pip install pandas numpy"
   ]
  },
  {
   "cell_type": "code",
   "execution_count": 70,
   "id": "1c65d450",
   "metadata": {},
   "outputs": [],
   "source": [
    "import pandas as pd\n",
    "import numpy as np"
   ]
  },
  {
   "cell_type": "code",
   "execution_count": 71,
   "id": "57c3cccd",
   "metadata": {},
   "outputs": [],
   "source": [
    "#converting low energy part to the standard data format\n",
    "nucleusLE_df = pd.read_csv('data/original_data/Nucleus/nucleus_ROI_spectrum.txt', skiprows=18)\n",
    "nucleusLE_np_array = nucleusLE_df.to_numpy()\n",
    "np.savetxt(\"data/converted_data/Nucleus/Nucleus_lowE.txt\", nucleusLE_np_array)"
   ]
  },
  {
   "cell_type": "code",
   "execution_count": 72,
   "id": "cbc8c39c",
   "metadata": {},
   "outputs": [],
   "source": [
    "#converting high energy part to the standard data format\n",
    "nucleusHE_df = pd.read_csv('data/original_data/Nucleus/nucleus_highE_spectrum.txt', skiprows=9)\n",
    "nucleusHE_np_array = nucleusHE_df.to_numpy()\n",
    "#saving into a file with converting from eV to keV\n",
    "np.savetxt(\"data/converted_data/Nucleus/Nucleus_highE.txt\", nucleusHE_np_array*0.001)"
   ]
  },
  {
   "cell_type": "code",
   "execution_count": 73,
   "id": "da709d47",
   "metadata": {},
   "outputs": [
    {
     "name": "stdout",
     "output_type": "stream",
     "text": [
      "[0.000000e+00 1.770945e-06 2.059278e-05 1.736297e-04 1.125805e-03\n",
      " 5.660271e-03 2.219198e-02 6.834228e-02 1.670076e-01 3.285703e-01\n",
      " 5.312168e-01 7.259208e-01 8.692208e-01 9.500057e-01 9.848865e-01\n",
      " 9.964198e-01 9.993398e-01 9.999056e-01 9.999896e-01 9.999991e-01\n",
      " 9.999999e-01]\n",
      "21\n"
     ]
    }
   ],
   "source": [
    "#converting trigger efficiency to the standard data format\n",
    "nucleusEff_df = pd.read_csv('data/original_data/Nucleus/trigger_efficiency.txt', skiprows=0)\n",
    "nucleusEff_np_array = nucleusEff_df.to_numpy()\n",
    "print(nucleusEff_np_array[:,1])\n",
    "print(len(nucleusEff_np_array[:,0]))\n",
    "for i in range(len(nucleusEff_np_array[:,0])):\n",
    "        nucleusEff_np_array[i,0] = nucleusEff_np_array[i,0]*0.001\n",
    "np.savetxt(\"data/converted_data/Nucleus/Nucleus_eff.txt\", nucleusEff_np_array)"
   ]
  },
  {
   "cell_type": "code",
   "execution_count": null,
   "id": "fbd06fc0",
   "metadata": {},
   "outputs": [],
   "source": []
  }
 ],
 "metadata": {
  "kernelspec": {
   "display_name": "Python 3",
   "language": "python",
   "name": "python3"
  },
  "language_info": {
   "codemirror_mode": {
    "name": "ipython",
    "version": 3
   },
   "file_extension": ".py",
   "mimetype": "text/x-python",
   "name": "python",
   "nbconvert_exporter": "python",
   "pygments_lexer": "ipython3",
   "version": "3.8.8"
  }
 },
 "nbformat": 4,
 "nbformat_minor": 5
}
