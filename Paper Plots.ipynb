{
 "cells": [
  {
   "cell_type": "markdown",
   "metadata": {},
   "source": [
    "***\n",
    "# Plots for the EXCESS Summary paper\n",
    "***"
   ]
  },
  {
   "cell_type": "code",
   "execution_count": null,
   "metadata": {
    "ExecuteTime": {
     "end_time": "2021-10-24T13:50:47.932334Z",
     "start_time": "2021-10-24T13:50:47.561699Z"
    }
   },
   "outputs": [],
   "source": [
    "import numpy as np\n",
    "import matplotlib.pyplot as plt\n",
    "import matplotlib as mpl\n",
    "from tqdm.auto import trange\n",
    "import matplotlib.patches as patches\n",
    "%config InlineBackend.figure_formats = ['svg']  # this is needed for the plots in a jupyter notebook"
   ]
  },
  {
   "cell_type": "code",
   "execution_count": null,
   "metadata": {
    "ExecuteTime": {
     "end_time": "2021-10-24T13:50:47.950664Z",
     "start_time": "2021-10-24T13:50:47.945987Z"
    }
   },
   "outputs": [],
   "source": [
    "fontsize = 12\n",
    "\n",
    "mpl.rcParams['xtick.labelsize'] = fontsize\n",
    "mpl.rcParams['ytick.labelsize'] = fontsize\n",
    "mpl.rcParams['font.size'] = fontsize\n",
    "mpl.rcParams['axes.titlesize'] = fontsize\n",
    "mpl.rcParams['axes.labelsize'] = fontsize\n",
    "mpl.rcParams['lines.markersize'] = 6\n",
    "mpl.rcParams['lines.linewidth'] = 1.5\n",
    "mpl.rcParams['legend.fontsize'] = fontsize\n",
    "mpl.rcParams['mathtext.fontset'] = 'stix'\n",
    "mpl.rcParams['font.family'] = 'STIXGeneral'\n",
    "linestyles = ['solid', 'dashed']"
   ]
  },
  {
   "cell_type": "code",
   "execution_count": null,
   "metadata": {
    "ExecuteTime": {
     "end_time": "2021-10-24T13:50:48.033741Z",
     "start_time": "2021-10-24T13:50:48.025524Z"
    }
   },
   "outputs": [],
   "source": [
    "paths_data_unbinned = [\n",
    "    'data/converted_data/Nucleus/Nucleus_all.txt',\n",
    "    'data/converted_data/SuperCDMS/CPD/CPD.txt',\n",
    "    'data/converted_data/CRESST/CRESST.txt',\n",
    "    'data/converted_data/DAMIC/DAMIC.txt',\n",
    "    'data/converted_data/SuperCDMS/HVeV/Run1/Run1.txt',\n",
    "    'data/converted_data/SuperCDMS/HVeV/Run2/Run2.txt',\n",
    "    'data/converted_data/CONNIE/CONNIE.txt',\n",
    "]\n",
    "paths_efficiencies_unbinned = [\n",
    "    'data/converted_data/Nucleus/Nucleus_all_eff.txt',\n",
    "    'data/converted_data/SuperCDMS/CPD/CPD_eff.txt',\n",
    "    'data/converted_data/CRESST/CRESST_eff.txt',\n",
    "    'data/converted_data/DAMIC/DAMIC_eff.txt',\n",
    "    'data/converted_data/SuperCDMS/HVeV/Run1/Run1_eff.txt',\n",
    "    'data/converted_data/SuperCDMS/HVeV/Run2/Run2_eff.txt',\n",
    "    'data/converted_data/CONNIE/CONNIE_eff.txt',\n",
    "]\n",
    "paths_exposures_unbinned = [\n",
    "    'data/converted_data/Nucleus/Nucleus_all_exposure.txt',\n",
    "    'data/converted_data/SuperCDMS/CPD/CPD_exposure.txt',\n",
    "    'data/converted_data/CRESST/CRESST_exposure.txt',\n",
    "    'data/converted_data/DAMIC/DAMIC_exposure.txt',\n",
    "    'data/converted_data/SuperCDMS/HVeV/Run1/Run1_exposure.txt',\n",
    "    'data/converted_data/SuperCDMS/HVeV/Run2/Run2_exposure.txt',\n",
    "    'data/converted_data/CONNIE/CONNIE_exposure.txt',\n",
    "]\n",
    "paths_weights_unbinned = [\n",
    "    'data/converted_data/Nucleus/Nucleus_all_weight.txt',\n",
    "    'data/converted_data/SuperCDMS/CPD/CPD_weight.txt',\n",
    "    'data/converted_data/CRESST/CRESST_weight.txt',\n",
    "    'data/converted_data/DAMIC/DAMIC_weight.txt',\n",
    "    'data/converted_data/SuperCDMS/HVeV/Run1/Run1_weight.txt',\n",
    "    'data/converted_data/SuperCDMS/HVeV/Run2/Run2_weight.txt',\n",
    "    'data/converted_data/CONNIE/CONNIE_weight.txt',\n",
    "]\n",
    "names_unbinned = [\n",
    "    'Nucleus-1g-prototype',\n",
    "    'SuperCDMS-CPD-ROI',\n",
    "    'CRESST-III',\n",
    "    'DAMIC',\n",
    "    'SuperCDMS-HVeV-Run1',\n",
    "    'SuperCDMS-HVeV-Run2',\n",
    "    'Skipper-CCD@surface@FNAL',\n",
    "]\n",
    "\n",
    "paths_data_binned = [\n",
    "    'data/converted_data/Edelweiss/RED20.txt',\n",
    "    'data/converted_data/Edelweiss/RED30.txt',\n",
    "    'data/converted_data/Edelweiss/RED30_keVee.txt',\n",
    "    'data/converted_data/SENSEI/SENSEI.txt',\n",
    "    'data/converted_data/DAMIC/DAMIC_nobck.txt',\n",
    "    'data/converted_data/MINER/MINER_Ge.txt',\n",
    "    'data/converted_data/MINER/MINER_Ge_Reactoroff_1620April0V_ampOF.txt',\n",
    "    'data/converted_data/MINER/MINER_sapphire_with_ss.txt',\n",
    "    'data/converted_data/MINER/MINER_sapphire_without_cut.txt',\n",
    "    'data/converted_data/SuperCDMS/CPD/CPD_binned.txt',\n",
    "]\n",
    "paths_efficiencies_binned = [\n",
    "    'data/converted_data/Edelweiss/RED20_eff.txt',\n",
    "    'data/converted_data/Edelweiss/RED30_eff.txt',\n",
    "    'data/converted_data/Edelweiss/RED30_keVee_eff.txt',\n",
    "    'data/converted_data/SENSEI/SENSEI_eff.txt',\n",
    "    'data/converted_data/DAMIC/DAMIC_eff.txt',\n",
    "    'data/converted_data/MINER/MINER_eff.txt',\n",
    "    'data/converted_data/MINER/MINER_eff.txt',\n",
    "    'data/converted_data/MINER/MINER_eff.txt',\n",
    "    'data/converted_data/MINER/MINER_eff.txt',\n",
    "    'data/converted_data/SuperCDMS/CPD/CPD_binned_eff.txt',\n",
    "]\n",
    "paths_exposures_binned = [\n",
    "    'data/converted_data/Edelweiss/RED20_exposure.txt',\n",
    "    'data/converted_data/Edelweiss/RED30_exposure.txt',\n",
    "    'data/converted_data/Edelweiss/RED30_keVee_exposure.txt',\n",
    "    'data/converted_data/SENSEI/SENSEI_exposure.txt',\n",
    "    'data/converted_data/DAMIC/DAMIC_exposure.txt',\n",
    "    'data/converted_data/MINER/MINER_exposure.txt',\n",
    "    'data/converted_data/MINER/MINER_exposure.txt',\n",
    "    'data/converted_data/MINER/MINER_exposure.txt',\n",
    "    'data/converted_data/MINER/MINER_exposure.txt',\n",
    "    'data/converted_data/SuperCDMS/CPD/CPD_binned_exposure.txt',\n",
    "]\n",
    "paths_weights_binned = [\n",
    "    'data/converted_data/Edelweiss/RED20_weight.txt',\n",
    "    'data/converted_data/Edelweiss/RED30_weight.txt',\n",
    "    'data/converted_data/Edelweiss/RED30_weight.txt',\n",
    "    'data/converted_data/SENSEI/SENSEI_weight.txt',\n",
    "    'data/converted_data/DAMIC/DAMIC_weight.txt',\n",
    "    'data/converted_data/MINER/MINER_Ge_weight.txt',\n",
    "    'data/converted_data/MINER/MINER_Ge_weight.txt',\n",
    "    'data/converted_data/MINER/MINER_Sapphire_weight.txt',\n",
    "    'data/converted_data/MINER/MINER_Sapphire_weight.txt',\n",
    "    'data/converted_data/SuperCDMS/CPD/CPD_weight.txt',\n",
    "]\n",
    "names_binned = [\n",
    "    'Edelweiss-RED20@surface',\n",
    "    'Edelweiss-RED30@LSM',\n",
    "    'Edelweiss-RED30@LSM-keVee',\n",
    "    'SENSEI',\n",
    "    'DAMIC_bck_subtracted',\n",
    "    'MINER_Ge_after_cut',\n",
    "    'MINER_Ge_before_cut',\n",
    "    'MINER_Sapphire_after_cut',\n",
    "    'MINER_Sapphire_before_cut',\n",
    "    'SuperCDMS-CPD',\n",
    "]\n",
    "\n",
    "assert len(paths_data_unbinned) == len(paths_efficiencies_unbinned) == len(paths_exposures_unbinned) == len(paths_weights_unbinned) == len(names_unbinned), \"Please put for each data path a corresponding efficiency and exposure path and name of the experiment (unbinned data)!\"\n",
    "assert len(paths_data_binned) == len(paths_efficiencies_binned) == len(paths_exposures_binned) == len(paths_weights_binned) == len(names_binned), \"Please put for each data path a corresponding efficiency and exposure path and name of the experiment (binned data)!\""
   ]
  },
  {
   "cell_type": "code",
   "execution_count": null,
   "metadata": {
    "ExecuteTime": {
     "end_time": "2021-10-24T13:50:49.818728Z",
     "start_time": "2021-10-24T13:50:48.415425Z"
    }
   },
   "outputs": [],
   "source": [
    "data = {n: np.loadtxt(p) for n, p in zip(names_unbinned, paths_data_unbinned)}\n",
    "efficiencies = {n: np.loadtxt(p) for n, p in zip(names_unbinned, paths_efficiencies_unbinned)}\n",
    "exposures = {n: np.loadtxt(p) for n, p in zip(names_unbinned, paths_exposures_unbinned)}\n",
    "weights = {n: np.loadtxt(p) for n, p in zip(names_unbinned, paths_weights_unbinned)}\n",
    "\n",
    "for n, p, eff, exp, w in zip(names_binned, paths_data_binned, paths_efficiencies_binned, paths_exposures_binned, paths_weights_binned):\n",
    "    data[n] = np.loadtxt(p)\n",
    "    efficiencies[n] = np.loadtxt(eff)\n",
    "    exposures[n] = np.loadtxt(exp)\n",
    "    weights[n] = np.loadtxt(w)\n",
    "    if len(exposures[n].shape) > 0:\n",
    "        exposures[n] = exposures[n][:,1]\n",
    "    if len(weights[n].shape) > 0:\n",
    "        weights[n] = weights[n][:,1]"
   ]
  },
  {
   "cell_type": "markdown",
   "metadata": {},
   "source": [
    "## Total energy spectra"
   ]
  },
  {
   "cell_type": "code",
   "execution_count": null,
   "metadata": {
    "ExecuteTime": {
     "end_time": "2021-10-24T13:55:04.688030Z",
     "start_time": "2021-10-24T13:55:04.682807Z"
    }
   },
   "outputs": [],
   "source": [
    "# experiments\n",
    "print(names_unbinned[0])  # 0\n",
    "print(names_unbinned[2])  # 2\n",
    "print(names_binned[0])  # 7\n",
    "print(names_binned[6])  # 13\n",
    "print(names_binned[8])  # 15\n",
    "print(names_binned[9])  # 16"
   ]
  },
  {
   "cell_type": "code",
   "execution_count": null,
   "metadata": {
    "ExecuteTime": {
     "end_time": "2021-10-24T14:12:15.590404Z",
     "start_time": "2021-10-24T14:12:15.558408Z"
    },
    "scrolled": false
   },
   "outputs": [],
   "source": [
    "def plot_totals(square=True, xup=1.9, xdown=0.001, ylim=None, savepath=None):\n",
    "\n",
    "    if square:\n",
    "        mpl.rcParams['figure.figsize'] = (10, 4.5)\n",
    "        mpl.rcParams['xtick.labelsize'] = 12\n",
    "        mpl.rcParams['ytick.labelsize'] = 12\n",
    "    else:\n",
    "        mpl.rcParams['figure.figsize'] = (2.8, 2.2)\n",
    "        mpl.rcParams['xtick.labelsize'] = 9\n",
    "        mpl.rcParams['ytick.labelsize'] = 9\n",
    "    colors = ['C0','C1','C2','C3','C4', ]# ['#a6cee3','#1f78b4','#b2df8a','#33a02c','#fb9a99']\n",
    "    ax = plt.gca()\n",
    "\n",
    "    # edelweiss\n",
    "    label = 'EDELWEISS RED20'\n",
    "    name = names_binned[0]\n",
    "    print(name, label)\n",
    "    counts = data[name][:, 2]\n",
    "    bins = np.concatenate((data[name][:, 0], [data[name][-1, 1]]))\n",
    "    eff = np.interp(bins[:-1], efficiencies[name][:,0], efficiencies[name][:,1])\n",
    "    plt.step(bins[np.argmax(counts > 0):-1], counts[np.argmax(counts > 0):]/exposures[name]/eff, \n",
    "             label=label, where='post')\n",
    "\n",
    "    # miner sapphire\n",
    "    label = 'MINER Sapphire'\n",
    "    name = names_binned[8]\n",
    "    print(name, label)\n",
    "    counts = data[name][:, 2]\n",
    "    bins = np.concatenate((data[name][:, 0], [data[name][-1, 1]]))\n",
    "    eff = np.interp(bins[:-1], efficiencies[name][:,0], efficiencies[name][:,1])[np.argmax(counts > 0):]\n",
    "    plt.step(bins[np.argmax(counts > 0):-1], counts[np.argmax(counts > 0):]/exposures[name]/eff, \n",
    "             label=label, where='post')\n",
    "    \n",
    "    # miner germanium\n",
    "    label = 'MINER Germanium'\n",
    "    name = names_binned[6]\n",
    "    print(name, label)\n",
    "    counts = data[name][:, 2]\n",
    "    bins = np.concatenate((data[name][:, 0], [data[name][-1, 1]]))\n",
    "    eff = np.interp(bins[:-1], efficiencies[name][:,0], efficiencies[name][:,1])[np.argmax(counts > 0):]\n",
    "    plt.step(bins[np.argmax(counts > 0):-1], counts[np.argmax(counts > 0):]/exposures[name]/eff, \n",
    "             label=label, where='post')\n",
    "\n",
    "\n",
    "    # superCDMS\n",
    "    label = 'SuperCDMS CPD'\n",
    "    name = names_binned[9]\n",
    "    print(name, label)\n",
    "    counts = data[name][:, 2]\n",
    "    bins = np.concatenate((data[name][:, 0], [data[name][-1, 1]]))\n",
    "    eff = np.interp(bins[:-1], efficiencies[name][:,0], efficiencies[name][:,1])[np.argmax(counts > 0):]\n",
    "    plt.step(bins[np.argmax(counts > 0):-1], counts[np.argmax(counts > 0):]/exposures[name]/eff, \n",
    "             label=label, where='post')\n",
    "\n",
    "    # nucleus\n",
    "    num = 90\n",
    "    xlog = True\n",
    "    label = 'NUCLEUS 1g prototype'\n",
    "    if xlog:\n",
    "        bins = np.logspace(np.log10(xdown),np.log10(xup+0.2),num=num)  # np.arange(0,0.5,bw)\n",
    "        bw = np.diff(bins) # 0.003\n",
    "    else:\n",
    "        bw = 0.003\n",
    "        bins = np.arange(xdown,xup,bw)\n",
    "    name = names_unbinned[0]\n",
    "    print(name, label)\n",
    "    counts, bins = np.histogram(data[name], bins=bins)\n",
    "    eff = np.interp(bins[:-1], efficiencies[name][:,0], efficiencies[name][:,1])[np.argmax(counts > 0):]\n",
    "    plt.step(bins[np.argmax(counts > 0):-1], counts[np.argmax(counts > 0):]/bw[np.argmax(counts > 0):]/exposures[name]/eff, \n",
    "             label=label, where='post')\n",
    "\n",
    "    # cresst\n",
    "    num = 70\n",
    "    xlog = True\n",
    "    label = 'CRESST-III DetA'\n",
    "    if xlog:\n",
    "        bins = np.logspace(np.log10(0.01),np.log10(xup+0.2),num=num)  # np.arange(0,0.5,bw)\n",
    "        bw = np.diff(bins) # 0.003\n",
    "    else:\n",
    "        bw = 0.003\n",
    "        bins = np.arange(0,0.5,bw)\n",
    "    name = names_unbinned[2]\n",
    "    print(name, label)\n",
    "    counts, bins = np.histogram(data[name], bins=bins)\n",
    "    eff = np.interp(bins[:-1], efficiencies[name][:,0], efficiencies[name][:,1])[np.argmax(counts > 0):]\n",
    "    plt.step(bins[np.argmax(counts > 0):-1], counts[np.argmax(counts > 0):]/bw[np.argmax(counts > 0):]/exposures[name]/eff, \n",
    "             label=label, where='post')\n",
    "\n",
    "    # SuperCDMS\n",
    "    num = 90\n",
    "    xlog = True\n",
    "    label = 'SuperCDMS HVeV Run 2'\n",
    "    if xlog:\n",
    "        bins = np.logspace(np.log10(xdown),np.log10(xup+0.2),num=num)  # np.arange(0,0.5,bw)\n",
    "        bw = np.diff(bins) # 0.003\n",
    "    else:\n",
    "        bw = 0.003\n",
    "        bins = np.arange(xdown,xup,bw)\n",
    "    name = names_unbinned[5]\n",
    "    counts, bins = np.histogram(data[name], bins=bins)\n",
    "    eff = np.interp(bins[:-1], efficiencies[name][:,0], efficiencies[name][:,1])[np.argmax(counts > 0):]\n",
    "    plt.step(bins[np.argmax(counts > 0):-1], counts[np.argmax(counts > 0):]/bw[np.argmax(counts > 0):]/exposures[name]/eff, \n",
    "             label=label, where='post')    \n",
    "    \n",
    "    if square:\n",
    "        # Create a Rectangle patch\n",
    "        rect = patches.Rectangle((0.01, 1e1), 0.15, 2e10, linewidth=1, edgecolor='grey', linestyle='dotted', facecolor='none')\n",
    "\n",
    "        # Add the patch to the Axes\n",
    "        ax.add_patch(rect)\n",
    "\n",
    "    if square:\n",
    "        plt.ylabel('Counts (dru)')\n",
    "        plt.xlabel('Total energy deposition (keV)')\n",
    "    plt.yscale('log')\n",
    "    plt.xlim(xdown,xup)\n",
    "    if ylim is not None:\n",
    "        plt.ylim(ylim)\n",
    "    if square:\n",
    "        plt.legend(bbox_to_anchor=(1.05, 1.), loc='upper left', borderaxespad=0., frameon=False)\n",
    "    plt.tight_layout()\n",
    "    if savepath is not None:\n",
    "        plt.savefig(savepath)\n",
    "    plt.show()"
   ]
  },
  {
   "cell_type": "code",
   "execution_count": null,
   "metadata": {
    "ExecuteTime": {
     "end_time": "2021-10-24T14:12:16.528277Z",
     "start_time": "2021-10-24T14:12:16.118712Z"
    }
   },
   "outputs": [],
   "source": [
    "plot_totals(square=True, xup=1.9, xdown=0.001, savepath='plots/total_high.pdf')"
   ]
  },
  {
   "cell_type": "code",
   "execution_count": null,
   "metadata": {
    "ExecuteTime": {
     "end_time": "2021-10-24T14:12:18.235766Z",
     "start_time": "2021-10-24T14:12:17.959832Z"
    }
   },
   "outputs": [],
   "source": [
    "plot_totals(square=False, xup=0.15, xdown=0.001, ylim=(1e1,2e10), savepath='plots/total_low.pdf')"
   ]
  },
  {
   "cell_type": "markdown",
   "metadata": {},
   "source": [
    "## Electron equivalent spectra"
   ]
  },
  {
   "cell_type": "code",
   "execution_count": null,
   "metadata": {
    "ExecuteTime": {
     "end_time": "2021-10-24T14:12:34.692124Z",
     "start_time": "2021-10-24T14:12:34.686827Z"
    }
   },
   "outputs": [],
   "source": [
    "# experiments\n",
    "print(names_binned[2])\n",
    "print(names_binned[3])\n",
    "print(names_unbinned[3])\n",
    "print(names_unbinned[4])\n",
    "print(names_unbinned[6])"
   ]
  },
  {
   "cell_type": "code",
   "execution_count": null,
   "metadata": {
    "ExecuteTime": {
     "end_time": "2021-10-24T14:12:35.183836Z",
     "start_time": "2021-10-24T14:12:35.160439Z"
    }
   },
   "outputs": [],
   "source": [
    "def plot_ee(square=True, xup=1.9, xdown=0.001, ylim=None, savepath=None):\n",
    "\n",
    "    if square:\n",
    "        mpl.rcParams['figure.figsize'] = (10, 4)\n",
    "        mpl.rcParams['xtick.labelsize'] = 12\n",
    "        mpl.rcParams['ytick.labelsize'] = 12\n",
    "    else:\n",
    "        mpl.rcParams['figure.figsize'] = (2.8, 2.2)\n",
    "        mpl.rcParams['xtick.labelsize'] = 9\n",
    "        mpl.rcParams['ytick.labelsize'] = 9\n",
    "        \n",
    "    colors = ['C0','C1','C2','C3','C4', ]# ['#a6cee3','#1f78b4','#b2df8a','#33a02c','#fb9a99']\n",
    "    ax = plt.gca()\n",
    "\n",
    "    # Edelweiss\n",
    "    label = 'EDELWEISS RED30'\n",
    "    name = names_binned[2]\n",
    "    counts = data[name][:, 2]\n",
    "    bins = np.concatenate((data[name][:, 0], [data[name][-1, 1]]))\n",
    "    eff = np.interp(bins[:-1], efficiencies[name][:,0], efficiencies[name][:,1])\n",
    "    plt.step(bins[np.argmax(counts > 0):-1], counts[np.argmax(counts > 0):]/exposures[name]/eff, \n",
    "             label=label, where='post')\n",
    "\n",
    "    # Sensei\n",
    "    label = 'SENSEI'\n",
    "    name = names_binned[3]\n",
    "    counts = data[name][:, 2]\n",
    "    bins = np.concatenate((data[name][:, 0], [data[name][-1, 1]]))\n",
    "    eff = np.interp(bins[:-1], efficiencies[name][:,0], efficiencies[name][:,1])[np.argmax(counts > 0):]\n",
    "    plt.step(bins[np.argmax(counts > 0):-1], counts[np.argmax(counts > 0):]/exposures[name]/eff, \n",
    "             label=label, where='post')\n",
    "\n",
    "    # Damic\n",
    "    num = 70\n",
    "    xlog = True\n",
    "    label = 'DAMIC'\n",
    "    if xlog:\n",
    "        bins = np.logspace(np.log10(xdown),np.log10(xup+0.2),num=num)  # np.arange(0,0.5,bw)\n",
    "        bw = np.diff(bins) # 0.003\n",
    "    else:\n",
    "        bw = 0.003\n",
    "        bins = np.arange(xdown,xup,bw)\n",
    "    name = names_unbinned[3]\n",
    "    counts, bins = np.histogram(data[name], bins=bins)\n",
    "    eff = np.interp(bins[:-1], efficiencies[name][:,0], efficiencies[name][:,1])[np.argmax(counts > 0):]\n",
    "    plt.step(bins[np.argmax(counts > 0):-1], counts[np.argmax(counts > 0):]/bw[np.argmax(counts > 0):]/exposures[name]/eff, \n",
    "             label=label, where='post')\n",
    "\n",
    "    # SuperCDMS\n",
    "    num = 90\n",
    "    xlog = True\n",
    "    label = 'SuperCDMS HVeV Run 1'\n",
    "    if xlog:\n",
    "        bins = np.logspace(np.log10(xdown),np.log10(xup+0.2),num=num)  # np.arange(0,0.5,bw)\n",
    "        bw = np.diff(bins) # 0.003\n",
    "    else:\n",
    "        bw = 0.003\n",
    "        bins = np.arange(xdown,xup,bw)\n",
    "    name = names_unbinned[4]\n",
    "    counts, bins = np.histogram(data[name], bins=bins)\n",
    "    eff = np.interp(bins[:-1], efficiencies[name][:,0], efficiencies[name][:,1])[np.argmax(counts > 0):]\n",
    "    plt.step(bins[np.argmax(counts > 0):-1], counts[np.argmax(counts > 0):]/bw[np.argmax(counts > 0):]/exposures[name]/eff, \n",
    "             label=label, where='post')\n",
    "\n",
    "    # Skipper\n",
    "    num = 40\n",
    "    xlog = True\n",
    "    label = 'Skipper-CCD'\n",
    "    if xlog:\n",
    "        bins = np.logspace(np.log10(xdown),np.log10(xup+0.2),num=num)  # np.arange(0,0.5,bw)\n",
    "        bw = np.diff(bins) # 0.003\n",
    "    else:\n",
    "        bw = 0.003\n",
    "        bins = np.arange(0,0.5,bw)\n",
    "    name = names_unbinned[6]\n",
    "    counts, bins = np.histogram(data[name], bins=bins)\n",
    "    eff = np.interp(bins[:-1], efficiencies[name][:,0], efficiencies[name][:,1])[np.argmax(counts > 0):]\n",
    "    plt.step(bins[np.argmax(counts > 0):-1], counts[np.argmax(counts > 0):]/bw[np.argmax(counts > 0):]/exposures[name]/eff, \n",
    "             label=label, where='post')\n",
    "\n",
    "    if square:\n",
    "        # Create a Rectangle patch\n",
    "        rect = patches.Rectangle((0, 5), 0.15, 2e12, linewidth=1, edgecolor='grey', linestyle='dotted', facecolor='none')\n",
    "\n",
    "        # Add the patch to the Axes\n",
    "        ax.add_patch(rect)\n",
    "\n",
    "    if square:\n",
    "        plt.ylabel('Counts (dru)')\n",
    "        plt.xlabel('Electron equivalent energy deposition (keV)')\n",
    "    plt.yscale('log')\n",
    "    plt.xlim(xdown,xup)\n",
    "    if ylim is not None:\n",
    "        plt.ylim(ylim)\n",
    "    if square:\n",
    "        plt.legend(bbox_to_anchor=(1.05, 1), loc='upper left', borderaxespad=0., frameon=False)\n",
    "    plt.tight_layout()\n",
    "    if savepath is not None:\n",
    "        plt.savefig(savepath)\n",
    "    plt.show()"
   ]
  },
  {
   "cell_type": "code",
   "execution_count": null,
   "metadata": {
    "ExecuteTime": {
     "end_time": "2021-10-24T14:12:36.261538Z",
     "start_time": "2021-10-24T14:12:35.862569Z"
    }
   },
   "outputs": [],
   "source": [
    "plot_ee(square=True, xup=1.9, xdown=0.001, savepath='plots/ee_high.pdf')"
   ]
  },
  {
   "cell_type": "code",
   "execution_count": null,
   "metadata": {
    "ExecuteTime": {
     "end_time": "2021-10-24T14:12:37.245743Z",
     "start_time": "2021-10-24T14:12:37.022327Z"
    }
   },
   "outputs": [],
   "source": [
    "plot_ee(square=False, xup=0.15, xdown=0.001, ylim=(5,2e12), savepath='plots/ee_low.pdf')"
   ]
  },
  {
   "cell_type": "markdown",
   "metadata": {},
   "source": [
    "Done."
   ]
  }
 ],
 "metadata": {
  "kernelspec": {
   "display_name": "Python 3",
   "language": "python",
   "name": "python3"
  },
  "language_info": {
   "codemirror_mode": {
    "name": "ipython",
    "version": 3
   },
   "file_extension": ".py",
   "mimetype": "text/x-python",
   "name": "python",
   "nbconvert_exporter": "python",
   "pygments_lexer": "ipython3",
   "version": "3.8.8"
  },
  "varInspector": {
   "cols": {
    "lenName": 16,
    "lenType": 16,
    "lenVar": 40
   },
   "kernels_config": {
    "python": {
     "delete_cmd_postfix": "",
     "delete_cmd_prefix": "del ",
     "library": "var_list.py",
     "varRefreshCmd": "print(var_dic_list())"
    },
    "r": {
     "delete_cmd_postfix": ") ",
     "delete_cmd_prefix": "rm(",
     "library": "var_list.r",
     "varRefreshCmd": "cat(var_dic_list()) "
    }
   },
   "types_to_exclude": [
    "module",
    "function",
    "builtin_function_or_method",
    "instance",
    "_Feature"
   ],
   "window_display": false
  }
 },
 "nbformat": 4,
 "nbformat_minor": 4
}
